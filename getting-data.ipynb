{
 "cells": [
  {
   "cell_type": "markdown",
   "id": "785b889f-489a-4c47-b320-55f1d91cede4",
   "metadata": {
    "tags": []
   },
   "source": [
    "# Google Earth Engine"
   ]
  },
  {
   "cell_type": "code",
   "execution_count": 1,
   "id": "c1a31d07-861a-404a-a538-0145c26992b5",
   "metadata": {},
   "outputs": [],
   "source": [
    "import os, datetime\n",
    "from tqdm.notebook import tqdm\n",
    "\n",
    "import numpy as np\n",
    "import pandas as pd\n",
    "import matplotlib.pyplot as plt\n",
    "import geopandas as gpd\n",
    "import geojson\n",
    "import shapely\n",
    "import shapely.geometry"
   ]
  },
  {
   "cell_type": "code",
   "execution_count": 2,
   "id": "91ab6c31-0f99-4f77-84e7-0df39671c603",
   "metadata": {},
   "outputs": [],
   "source": [
    "import eeconvert"
   ]
  },
  {
   "cell_type": "code",
   "execution_count": 3,
   "id": "a82fc4aa-1966-4689-a393-981b3823e585",
   "metadata": {},
   "outputs": [],
   "source": [
    "from src import *\n",
    "data = read_data('data/train_dataset_train_2.csv')\n",
    "data_test = read_data('data/test_dataset_test_2.csv')"
   ]
  },
  {
   "cell_type": "code",
   "execution_count": 4,
   "id": "a8fa5ca0-5c32-4607-8091-04364fef4f5b",
   "metadata": {},
   "outputs": [],
   "source": [
    "data_cat = pd.concat((data, data_test), axis=0)"
   ]
  },
  {
   "cell_type": "code",
   "execution_count": 5,
   "id": "39a875be-b323-499b-b28f-812a6feb376c",
   "metadata": {},
   "outputs": [
    {
     "data": {
      "text/html": [
       "<p>To authorize access needed by Earth Engine, open the following\n",
       "        URL in a web browser and follow the instructions:</p>\n",
       "        <p><a href=https://code.earthengine.google.com/client-auth?scopes=https%3A//www.googleapis.com/auth/earthengine%20https%3A//www.googleapis.com/auth/devstorage.full_control&request_id=BOkWHcSVBpfR1w9J_EFEvumGDc9z7hnn59dykNjjhaM&tc=2N-P_6Ny79lMECIVxKxnxXLOorw4EhBIEFbPo4aHie0&cc=TxlvufI7_WseKtJE3GFCri1KuFIvF8tUvIOGcshMTeU>https://code.earthengine.google.com/client-auth?scopes=https%3A//www.googleapis.com/auth/earthengine%20https%3A//www.googleapis.com/auth/devstorage.full_control&request_id=BOkWHcSVBpfR1w9J_EFEvumGDc9z7hnn59dykNjjhaM&tc=2N-P_6Ny79lMECIVxKxnxXLOorw4EhBIEFbPo4aHie0&cc=TxlvufI7_WseKtJE3GFCri1KuFIvF8tUvIOGcshMTeU</a></p>\n",
       "        <p>The authorization workflow will generate a code, which you should paste in the box below.</p>\n",
       "        "
      ],
      "text/plain": [
       "<IPython.core.display.HTML object>"
      ]
     },
     "metadata": {},
     "output_type": "display_data"
    },
    {
     "name": "stdin",
     "output_type": "stream",
     "text": [
      "Enter verification code:  4/1ARtbsJo29tsdGf0ydmxesjbO6pFxCEg-HXwesF6EKrCeKElpRsN3Fpjzu-c\n"
     ]
    },
    {
     "name": "stdout",
     "output_type": "stream",
     "text": [
      "\n",
      "Successfully saved authorization token.\n"
     ]
    }
   ],
   "source": [
    "import ee\n",
    "ee.Authenticate()"
   ]
  },
  {
   "cell_type": "code",
   "execution_count": 6,
   "id": "7c635e10-b95b-4cf6-a520-94e80f18e991",
   "metadata": {},
   "outputs": [],
   "source": [
    "ee.Initialize()"
   ]
  },
  {
   "cell_type": "code",
   "execution_count": 7,
   "id": "8613f0c6-f0ad-47a7-a0e6-2e8feac4b692",
   "metadata": {
    "tags": []
   },
   "outputs": [],
   "source": [
    "def get_series(collection, features):\n",
    "    \"\"\"https://stackoverflow.com/questions/47633088/get-results-in-an-earth-engine-python-script\"\"\"\n",
    "    def GetSeries(feature):\n",
    "        def NDVIcalc(img):\n",
    "            return feature.set(img.reduceRegion(ee.Reducer.median(), feature.geometry(), 30)).set('date', img.date().format(\"YYYY/MM/dd\"))\n",
    "\n",
    "        series = collection.map(NDVIcalc)\n",
    "\n",
    "        list_ = series.reduceColumns(ee.Reducer.toList(2), ['date', 'NDVI']).get('list')\n",
    "        return feature.set(ee.Dictionary(ee.List(list_).flatten()))\n",
    "\n",
    "    result = features.map(GetSeries).getInfo()\n",
    "    return pd.DataFrame([i['properties'] for i in result['features']])"
   ]
  },
  {
   "cell_type": "code",
   "execution_count": 8,
   "id": "140e4b5c-8ac3-4df6-93ff-a8a15175cd68",
   "metadata": {},
   "outputs": [],
   "source": [
    "# https://mgimond.github.io/ArcGIS_tutorials/Download_landsat.htm\n",
    "grid = gpd.read_file('grid/wrs2.shp')\n",
    "data_grid = data_cat.sjoin(grid[['PATH', 'ROW', 'geometry']], how='left')\n",
    "gb = data_grid.groupby(['PATH', 'ROW'])\n",
    "tiles = [gb.get_group(x) for x in gb.groups]"
   ]
  },
  {
   "cell_type": "code",
   "execution_count": 9,
   "id": "1c7177b8-f28d-4534-9307-4011e225ea4a",
   "metadata": {},
   "outputs": [
    {
     "data": {
      "application/vnd.jupyter.widget-view+json": {
       "model_id": "b7c8d1eb6d5a4e10b9797aa207d4c24d",
       "version_major": 2,
       "version_minor": 0
      },
      "text/plain": [
       "  0%|          | 0/102 [00:00<?, ?it/s]"
      ]
     },
     "metadata": {},
     "output_type": "display_data"
    }
   ],
   "source": [
    "out = []\n",
    "for tile in tqdm(tiles):\n",
    "    features = eeconvert.gdfToFc(tile[['id', 'geometry']])\n",
    "    collection = ee.ImageCollection('LANDSAT/LC08/C01/T1_8DAY_NDVI').filterBounds(features).filterDate('2021-04-15', '2021-09-01').select('NDVI')\n",
    "    out.append(get_series(collection, features))"
   ]
  },
  {
   "cell_type": "code",
   "execution_count": 24,
   "id": "98f0fb16-9fee-4a89-815b-0ad90f5e0bf7",
   "metadata": {},
   "outputs": [],
   "source": [
    "data_landsat = pd.concat(out)\n",
    "data_landsat = data_landsat.groupby('id').max().reset_index(drop=True)\n",
    "data_landsat = data_landsat.loc[data_cat['id'], sorted(data_landsat.columns)]"
   ]
  },
  {
   "cell_type": "code",
   "execution_count": 32,
   "id": "506a4743-2c27-4358-8e27-fe2f4137ea44",
   "metadata": {},
   "outputs": [],
   "source": [
    "data_landsat.iloc[:data.shape[0],:].to_csv('data/train_dataset_landsat.csv', index=False)\n",
    "data_landsat.iloc[data.shape[0]:,:].to_csv('data/test_dataset_landsat.csv', index=False)"
   ]
  },
  {
   "cell_type": "code",
   "execution_count": null,
   "id": "10b61561-923f-4724-afe8-4376e8100246",
   "metadata": {},
   "outputs": [],
   "source": []
  },
  {
   "cell_type": "code",
   "execution_count": null,
   "id": "609e5cdd-4398-4574-9e11-25a63825bbdf",
   "metadata": {},
   "outputs": [],
   "source": [
    "ee.ImageCollection(\"MODIS/MOD09GA_006_NDVI\")"
   ]
  },
  {
   "cell_type": "code",
   "execution_count": 39,
   "id": "85a73799-e6b4-429a-a1fa-ed21c616c650",
   "metadata": {},
   "outputs": [],
   "source": [
    "# https://mgimond.github.io/ArcGIS_tutorials/Download_landsat.htm\n",
    "grid = gpd.read_file('grid/modis_sinusoidal_grid_world.shp')\n",
    "data_grid = data_cat.to_crs(grid.crs).sjoin(grid[['h', 'v', 'geometry']], how='left')\n",
    "gb = data_grid.groupby(['h', 'v'])\n",
    "tiles = [gb.get_group(x) for x in gb.groups]"
   ]
  },
  {
   "cell_type": "code",
   "execution_count": 54,
   "id": "63602ca1-4c92-4abe-9987-469d4b0465ed",
   "metadata": {},
   "outputs": [],
   "source": [
    "def get_series(collection, features):\n",
    "    \"\"\"https://stackoverflow.com/questions/47633088/get-results-in-an-earth-engine-python-script\"\"\"\n",
    "    def GetSeries(feature):\n",
    "        def NDVIcalc(img):\n",
    "            return feature.set(img.reduceRegion(ee.Reducer.median(), feature.geometry(), scale=250)).set('date', img.date().format(\"YYYY/MM/dd\"))\n",
    "\n",
    "        series = collection.map(NDVIcalc)\n",
    "\n",
    "        list_ = series.reduceColumns(ee.Reducer.toList(2), ['date', 'NDVI']).get('list')\n",
    "        return feature.set(ee.Dictionary(ee.List(list_).flatten()))\n",
    "\n",
    "    result = features.map(GetSeries).getInfo()\n",
    "    return pd.DataFrame([i['properties'] for i in result['features']])"
   ]
  },
  {
   "cell_type": "code",
   "execution_count": 89,
   "id": "77f90158-d0b3-47e3-9dc8-9a3d845e99de",
   "metadata": {},
   "outputs": [],
   "source": [
    "def split_df(df, size=100):\n",
    "    \"\"\"https://stackoverflow.com/questions/54244560/split-pandas-dataframe-into-n-equal-parts-1\"\"\"\n",
    "    n = int(len(df)/size)\n",
    "    return [df.iloc[i*size:(i+1)*size].copy() for i in range(n+1)]"
   ]
  },
  {
   "cell_type": "code",
   "execution_count": 90,
   "id": "8a251480-0aae-4a22-a7bf-4d18f24001ff",
   "metadata": {},
   "outputs": [],
   "source": [
    "tiles_ = []\n",
    "for tile in tiles:\n",
    "    if tile.shape[0] > 100:\n",
    "        tiles_.extend(split_df(tile, 100))\n",
    "    else:\n",
    "        tiles_.append(tile)"
   ]
  },
  {
   "cell_type": "code",
   "execution_count": 91,
   "id": "cce2667a-42d9-423a-aff3-c1545b5408a1",
   "metadata": {},
   "outputs": [],
   "source": [
    "tiles = tiles_"
   ]
  },
  {
   "cell_type": "code",
   "execution_count": 93,
   "id": "f7a1e16b-9f33-403d-886f-92433df60bcd",
   "metadata": {},
   "outputs": [
    {
     "data": {
      "application/vnd.jupyter.widget-view+json": {
       "model_id": "b79d757d39cd45c7ad3afbb89907683b",
       "version_major": 2,
       "version_minor": 0
      },
      "text/plain": [
       "  0%|          | 0/85 [00:00<?, ?it/s]"
      ]
     },
     "metadata": {},
     "output_type": "display_data"
    }
   ],
   "source": [
    "out = []\n",
    "for tile in tqdm(tiles):\n",
    "    features = eeconvert.gdfToFc(tile.to_crs(4326)[['id', 'geometry']])\n",
    "    collection = ee.ImageCollection('MODIS/MOD09GA_006_NDVI').filterBounds(features).filterDate('2021-04-15', '2021-09-01').select('NDVI')\n",
    "    out.append(get_series(collection, features))"
   ]
  },
  {
   "cell_type": "code",
   "execution_count": 98,
   "id": "cb7f6fac-9bac-46e6-a9ad-e0a2b92fb51b",
   "metadata": {},
   "outputs": [],
   "source": [
    "data_modis = pd.concat(out)"
   ]
  },
  {
   "cell_type": "code",
   "execution_count": 99,
   "id": "177ea5b8-286e-4ff7-826f-fb84ef0edc39",
   "metadata": {},
   "outputs": [],
   "source": [
    "data_modis = data_modis.groupby('id').max().reset_index(drop=True)\n",
    "data_modis = data_modis.loc[data_cat['id'], sorted(data_modis.columns)]"
   ]
  },
  {
   "cell_type": "code",
   "execution_count": 101,
   "id": "a3ccfdd3-bfc3-4284-9cc9-36388892e23b",
   "metadata": {},
   "outputs": [],
   "source": [
    "data_modis.iloc[:data.shape[0],:].to_csv('data/train_dataset_modis.csv', index=False)\n",
    "data_modis.iloc[data.shape[0]:,:].to_csv('data/test_dataset_modis.csv', index=False)"
   ]
  },
  {
   "cell_type": "code",
   "execution_count": null,
   "id": "78b65b7a-7455-4f51-9ad1-e246418a6e93",
   "metadata": {},
   "outputs": [],
   "source": []
  }
 ],
 "metadata": {
  "kernelspec": {
   "display_name": "Python 3",
   "language": "python",
   "name": "python3"
  },
  "language_info": {
   "codemirror_mode": {
    "name": "ipython",
    "version": 3
   },
   "file_extension": ".py",
   "mimetype": "text/x-python",
   "name": "python",
   "nbconvert_exporter": "python",
   "pygments_lexer": "ipython3",
   "version": "3.9.4"
  },
  "widgets": {
   "application/vnd.jupyter.widget-state+json": {
    "state": {
     "02b94b54a1ad486e9db9cf37e5012bbc": {
      "model_module": "@jupyter-widgets/controls",
      "model_module_version": "1.5.0",
      "model_name": "DescriptionStyleModel",
      "state": {
       "description_width": ""
      }
     },
     "02c968e34e834d408b9521e69fd92e28": {
      "model_module": "@jupyter-widgets/controls",
      "model_module_version": "1.5.0",
      "model_name": "HTMLModel",
      "state": {
       "layout": "IPY_MODEL_0b47c1fc7ecb4d21b3251f96e306914c",
       "style": "IPY_MODEL_7787aff5b7c548938a5440815c3453f7",
       "value": " 85/85 [46:44&lt;00:00, 27.47s/it]"
      }
     },
     "0653ac450940484d88f2c332bfc5c24c": {
      "model_module": "@jupyter-widgets/controls",
      "model_module_version": "1.5.0",
      "model_name": "ProgressStyleModel",
      "state": {
       "description_width": ""
      }
     },
     "0b47c1fc7ecb4d21b3251f96e306914c": {
      "model_module": "@jupyter-widgets/base",
      "model_module_version": "1.2.0",
      "model_name": "LayoutModel",
      "state": {}
     },
     "0b6c57c1d2ad4530a9885407afd21154": {
      "model_module": "@jupyter-widgets/controls",
      "model_module_version": "1.5.0",
      "model_name": "HTMLModel",
      "state": {
       "layout": "IPY_MODEL_2d1463d69d1e40e5b6cae982f67060b9",
       "style": "IPY_MODEL_8bc5561c0f15443bbcc5382cbec29b70",
       "value": " 40%"
      }
     },
     "135dac1cdba84fc18d87e3c1759a0c9f": {
      "model_module": "@jupyter-widgets/base",
      "model_module_version": "1.2.0",
      "model_name": "LayoutModel",
      "state": {}
     },
     "1452e071da534671a10fec4e85c03402": {
      "model_module": "@jupyter-widgets/base",
      "model_module_version": "1.2.0",
      "model_name": "LayoutModel",
      "state": {}
     },
     "15bffe34146f486f8dd3f88aac7221dc": {
      "model_module": "@jupyter-widgets/base",
      "model_module_version": "1.2.0",
      "model_name": "LayoutModel",
      "state": {}
     },
     "1af73875779647d9933907c89d96ce0d": {
      "model_module": "@jupyter-widgets/controls",
      "model_module_version": "1.5.0",
      "model_name": "HTMLModel",
      "state": {
       "layout": "IPY_MODEL_e59a67b09b8b422a97015144d6956227",
       "style": "IPY_MODEL_4a9d16a7f2314b47b0d2186d88eb7400",
       "value": "100%"
      }
     },
     "1e01c6911aa240bfbd4f2a81abf2dd18": {
      "model_module": "@jupyter-widgets/base",
      "model_module_version": "1.2.0",
      "model_name": "LayoutModel",
      "state": {}
     },
     "1f2f536592fc41bd8983bfe3c5fad630": {
      "model_module": "@jupyter-widgets/controls",
      "model_module_version": "1.5.0",
      "model_name": "HBoxModel",
      "state": {
       "children": [
        "IPY_MODEL_3b32f0556cb4466b83c0a4ed83e5703f",
        "IPY_MODEL_2f3cffd5f5534c01a61f91b4cbfca909",
        "IPY_MODEL_a5fe1a0418a84d82b9f89935d914c290"
       ],
       "layout": "IPY_MODEL_4c443017ad7d4e89b63b72c61ce8a189"
      }
     },
     "219701216aff49be9fadbc7fabdcc62d": {
      "model_module": "@jupyter-widgets/controls",
      "model_module_version": "1.5.0",
      "model_name": "HBoxModel",
      "state": {
       "children": [
        "IPY_MODEL_d6f432bb9cb14cc09c1d747f6be53ec5",
        "IPY_MODEL_2e731c612e844501a7a82864762c69d8",
        "IPY_MODEL_ca9fc6e8d2c14a52ae25e7233e44ad3e"
       ],
       "layout": "IPY_MODEL_eefa00793aa44b7197c312b97844d2c1"
      }
     },
     "24f72834b0a74fc5aaf31f96406ffa6a": {
      "model_module": "@jupyter-widgets/base",
      "model_module_version": "1.2.0",
      "model_name": "LayoutModel",
      "state": {}
     },
     "2d1463d69d1e40e5b6cae982f67060b9": {
      "model_module": "@jupyter-widgets/base",
      "model_module_version": "1.2.0",
      "model_name": "LayoutModel",
      "state": {}
     },
     "2e731c612e844501a7a82864762c69d8": {
      "model_module": "@jupyter-widgets/controls",
      "model_module_version": "1.5.0",
      "model_name": "FloatProgressModel",
      "state": {
       "bar_style": "danger",
       "layout": "IPY_MODEL_8f6e28216f0d43fcb25dc780fb2e5e72",
       "max": 5,
       "style": "IPY_MODEL_6d0a4ad2ffb0420ea135fd8f8ae361d8"
      }
     },
     "2f3cffd5f5534c01a61f91b4cbfca909": {
      "model_module": "@jupyter-widgets/controls",
      "model_module_version": "1.5.0",
      "model_name": "FloatProgressModel",
      "state": {
       "bar_style": "danger",
       "layout": "IPY_MODEL_34d3a6b5d19d4eaeb95aee8e7a1e8199",
       "max": 5,
       "style": "IPY_MODEL_8a30a7b0d2534030b51b9c26be2abeeb"
      }
     },
     "2f949e757551404aa9a2b57551b9601a": {
      "model_module": "@jupyter-widgets/controls",
      "model_module_version": "1.5.0",
      "model_name": "HTMLModel",
      "state": {
       "layout": "IPY_MODEL_87fa0702a1aa45acbc690a4817aabd30",
       "style": "IPY_MODEL_c0c96c163a3e474c858f34d5af751370",
       "value": "  0%"
      }
     },
     "339798f0d4cb42b782f60ecae5e05697": {
      "model_module": "@jupyter-widgets/controls",
      "model_module_version": "1.5.0",
      "model_name": "FloatProgressModel",
      "state": {
       "bar_style": "danger",
       "layout": "IPY_MODEL_15bffe34146f486f8dd3f88aac7221dc",
       "max": 30,
       "style": "IPY_MODEL_e6c3f0c9c3e148f6885936d585d1903f",
       "value": 10
      }
     },
     "34d3a6b5d19d4eaeb95aee8e7a1e8199": {
      "model_module": "@jupyter-widgets/base",
      "model_module_version": "1.2.0",
      "model_name": "LayoutModel",
      "state": {}
     },
     "3577f4369912459e9f18b1acbb57e946": {
      "model_module": "@jupyter-widgets/base",
      "model_module_version": "1.2.0",
      "model_name": "LayoutModel",
      "state": {}
     },
     "3836c6013b9741c7abea375837039885": {
      "model_module": "@jupyter-widgets/base",
      "model_module_version": "1.2.0",
      "model_name": "LayoutModel",
      "state": {}
     },
     "38911ab6956d48879692f9d71259344b": {
      "model_module": "@jupyter-widgets/controls",
      "model_module_version": "1.5.0",
      "model_name": "ProgressStyleModel",
      "state": {
       "description_width": ""
      }
     },
     "3b32f0556cb4466b83c0a4ed83e5703f": {
      "model_module": "@jupyter-widgets/controls",
      "model_module_version": "1.5.0",
      "model_name": "HTMLModel",
      "state": {
       "layout": "IPY_MODEL_f09ab41900a946e8b8ea208efca0afe9",
       "style": "IPY_MODEL_79aed9e0c5ae46f99351abfee6ae201a",
       "value": "  0%"
      }
     },
     "42f5042619b747528dc5620a4d061d68": {
      "model_module": "@jupyter-widgets/controls",
      "model_module_version": "1.5.0",
      "model_name": "ProgressStyleModel",
      "state": {
       "description_width": ""
      }
     },
     "43b0b3d4090f4606aeb44148956d5270": {
      "model_module": "@jupyter-widgets/base",
      "model_module_version": "1.2.0",
      "model_name": "LayoutModel",
      "state": {}
     },
     "447f0ec2216c4ff0ade188974627bf43": {
      "model_module": "@jupyter-widgets/base",
      "model_module_version": "1.2.0",
      "model_name": "LayoutModel",
      "state": {}
     },
     "469dc8ddaad544fb8b431ea0074e5711": {
      "model_module": "@jupyter-widgets/base",
      "model_module_version": "1.2.0",
      "model_name": "LayoutModel",
      "state": {}
     },
     "4a9d16a7f2314b47b0d2186d88eb7400": {
      "model_module": "@jupyter-widgets/controls",
      "model_module_version": "1.5.0",
      "model_name": "DescriptionStyleModel",
      "state": {
       "description_width": ""
      }
     },
     "4b6ad400a26842bd86cb87553d64df33": {
      "model_module": "@jupyter-widgets/controls",
      "model_module_version": "1.5.0",
      "model_name": "HTMLModel",
      "state": {
       "layout": "IPY_MODEL_469dc8ddaad544fb8b431ea0074e5711",
       "style": "IPY_MODEL_fe3558e4739c443ba1fb5b1914427c3a",
       "value": " 10/30 [21:21&lt;40:44, 122.22s/it]"
      }
     },
     "4c443017ad7d4e89b63b72c61ce8a189": {
      "model_module": "@jupyter-widgets/base",
      "model_module_version": "1.2.0",
      "model_name": "LayoutModel",
      "state": {}
     },
     "4dd23020e3454377bb304837967b22b6": {
      "model_module": "@jupyter-widgets/controls",
      "model_module_version": "1.5.0",
      "model_name": "ProgressStyleModel",
      "state": {
       "description_width": ""
      }
     },
     "5147832d660e4d05ba9d7b6303e9b623": {
      "model_module": "@jupyter-widgets/controls",
      "model_module_version": "1.5.0",
      "model_name": "HTMLModel",
      "state": {
       "layout": "IPY_MODEL_caf6d7ea47e34cac8d310d230afc968a",
       "style": "IPY_MODEL_8aa7b0547df341ad9eeca415c6814fbb",
       "value": "100%"
      }
     },
     "553bf94499cf478789fcd9b5c7f25bb8": {
      "model_module": "@jupyter-widgets/base",
      "model_module_version": "1.2.0",
      "model_name": "LayoutModel",
      "state": {}
     },
     "5cbea00b2e864c3eb716c97495efa0bd": {
      "model_module": "@jupyter-widgets/controls",
      "model_module_version": "1.5.0",
      "model_name": "HBoxModel",
      "state": {
       "children": [
        "IPY_MODEL_d148ddce9c8348319bdac63938336459",
        "IPY_MODEL_dd66e1a75e8a46d8b7048ef91fd17d58",
        "IPY_MODEL_7d99b22dbc5c48ae96ee337a148d7a90"
       ],
       "layout": "IPY_MODEL_e83437b126c3473b96c2aaf95585ccaa"
      }
     },
     "5d95d2f2dd2f4b55a212afd2eefcf2b7": {
      "model_module": "@jupyter-widgets/base",
      "model_module_version": "1.2.0",
      "model_name": "LayoutModel",
      "state": {}
     },
     "6c1b6763cb3a4bb5b9d7c5b74dd76bc5": {
      "model_module": "@jupyter-widgets/controls",
      "model_module_version": "1.5.0",
      "model_name": "FloatProgressModel",
      "state": {
       "bar_style": "danger",
       "layout": "IPY_MODEL_5d95d2f2dd2f4b55a212afd2eefcf2b7",
       "max": 5,
       "style": "IPY_MODEL_4dd23020e3454377bb304837967b22b6",
       "value": 2
      }
     },
     "6d0a4ad2ffb0420ea135fd8f8ae361d8": {
      "model_module": "@jupyter-widgets/controls",
      "model_module_version": "1.5.0",
      "model_name": "ProgressStyleModel",
      "state": {
       "description_width": ""
      }
     },
     "7787aff5b7c548938a5440815c3453f7": {
      "model_module": "@jupyter-widgets/controls",
      "model_module_version": "1.5.0",
      "model_name": "DescriptionStyleModel",
      "state": {
       "description_width": ""
      }
     },
     "79aed9e0c5ae46f99351abfee6ae201a": {
      "model_module": "@jupyter-widgets/controls",
      "model_module_version": "1.5.0",
      "model_name": "DescriptionStyleModel",
      "state": {
       "description_width": ""
      }
     },
     "7b8950b288eb4a368ade7e81def48541": {
      "model_module": "@jupyter-widgets/controls",
      "model_module_version": "1.5.0",
      "model_name": "DescriptionStyleModel",
      "state": {
       "description_width": ""
      }
     },
     "7cab3b30bd9a4a53b066d4a21c9959d1": {
      "model_module": "@jupyter-widgets/controls",
      "model_module_version": "1.5.0",
      "model_name": "FloatProgressModel",
      "state": {
       "bar_style": "danger",
       "layout": "IPY_MODEL_24f72834b0a74fc5aaf31f96406ffa6a",
       "max": 5,
       "style": "IPY_MODEL_38911ab6956d48879692f9d71259344b"
      }
     },
     "7d99b22dbc5c48ae96ee337a148d7a90": {
      "model_module": "@jupyter-widgets/controls",
      "model_module_version": "1.5.0",
      "model_name": "HTMLModel",
      "state": {
       "layout": "IPY_MODEL_43b0b3d4090f4606aeb44148956d5270",
       "style": "IPY_MODEL_eec597c3196649c5ba99bfe058ab4601",
       "value": " 0/5 [00:06&lt;?, ?it/s]"
      }
     },
     "87fa0702a1aa45acbc690a4817aabd30": {
      "model_module": "@jupyter-widgets/base",
      "model_module_version": "1.2.0",
      "model_name": "LayoutModel",
      "state": {}
     },
     "8a30a7b0d2534030b51b9c26be2abeeb": {
      "model_module": "@jupyter-widgets/controls",
      "model_module_version": "1.5.0",
      "model_name": "ProgressStyleModel",
      "state": {
       "description_width": ""
      }
     },
     "8aa7b0547df341ad9eeca415c6814fbb": {
      "model_module": "@jupyter-widgets/controls",
      "model_module_version": "1.5.0",
      "model_name": "DescriptionStyleModel",
      "state": {
       "description_width": ""
      }
     },
     "8b7d09caf615468aaf79e4abf25e0857": {
      "model_module": "@jupyter-widgets/controls",
      "model_module_version": "1.5.0",
      "model_name": "HBoxModel",
      "state": {
       "children": [
        "IPY_MODEL_2f949e757551404aa9a2b57551b9601a",
        "IPY_MODEL_7cab3b30bd9a4a53b066d4a21c9959d1",
        "IPY_MODEL_a8687a43e2d24dbda9909e5bb2a958db"
       ],
       "layout": "IPY_MODEL_1452e071da534671a10fec4e85c03402"
      }
     },
     "8bc5561c0f15443bbcc5382cbec29b70": {
      "model_module": "@jupyter-widgets/controls",
      "model_module_version": "1.5.0",
      "model_name": "DescriptionStyleModel",
      "state": {
       "description_width": ""
      }
     },
     "8f6e28216f0d43fcb25dc780fb2e5e72": {
      "model_module": "@jupyter-widgets/base",
      "model_module_version": "1.2.0",
      "model_name": "LayoutModel",
      "state": {}
     },
     "93e5b24ac2b34068b8bd2cea570fe967": {
      "model_module": "@jupyter-widgets/controls",
      "model_module_version": "1.5.0",
      "model_name": "ProgressStyleModel",
      "state": {
       "description_width": ""
      }
     },
     "957472f9c816407d82165393ffde5f58": {
      "model_module": "@jupyter-widgets/controls",
      "model_module_version": "1.5.0",
      "model_name": "HTMLModel",
      "state": {
       "layout": "IPY_MODEL_a1d558d50e264bea8ad023fc50d231c9",
       "style": "IPY_MODEL_f40b22a700444b1397a6c1d35bccefb8",
       "value": " 2/5 [03:49&lt;01:52, 37.54s/it]"
      }
     },
     "9e7b6d3e546e41e58d47d9aaabd8638d": {
      "model_module": "@jupyter-widgets/base",
      "model_module_version": "1.2.0",
      "model_name": "LayoutModel",
      "state": {}
     },
     "a1d558d50e264bea8ad023fc50d231c9": {
      "model_module": "@jupyter-widgets/base",
      "model_module_version": "1.2.0",
      "model_name": "LayoutModel",
      "state": {}
     },
     "a5fe1a0418a84d82b9f89935d914c290": {
      "model_module": "@jupyter-widgets/controls",
      "model_module_version": "1.5.0",
      "model_name": "HTMLModel",
      "state": {
       "layout": "IPY_MODEL_be5511b6d71d4af1b4b373bfc681c19e",
       "style": "IPY_MODEL_f26a6cd9843f42f696166992de1ed95d",
       "value": " 0/5 [00:05&lt;?, ?it/s]"
      }
     },
     "a8687a43e2d24dbda9909e5bb2a958db": {
      "model_module": "@jupyter-widgets/controls",
      "model_module_version": "1.5.0",
      "model_name": "HTMLModel",
      "state": {
       "layout": "IPY_MODEL_fdbcfcb088534c0c92cfda04633c4363",
       "style": "IPY_MODEL_7b8950b288eb4a368ade7e81def48541",
       "value": " 0/5 [00:00&lt;?, ?it/s]"
      }
     },
     "a8bf43706a59458ea3304a17337d9fce": {
      "model_module": "@jupyter-widgets/controls",
      "model_module_version": "1.5.0",
      "model_name": "HTMLModel",
      "state": {
       "layout": "IPY_MODEL_9e7b6d3e546e41e58d47d9aaabd8638d",
       "style": "IPY_MODEL_ff27ec5a12a44394ab2883d09349cb11",
       "value": " 33%"
      }
     },
     "b4e9d97f1d964dec843005b444f5dba7": {
      "model_module": "@jupyter-widgets/base",
      "model_module_version": "1.2.0",
      "model_name": "LayoutModel",
      "state": {}
     },
     "b79d757d39cd45c7ad3afbb89907683b": {
      "model_module": "@jupyter-widgets/controls",
      "model_module_version": "1.5.0",
      "model_name": "HBoxModel",
      "state": {
       "children": [
        "IPY_MODEL_1af73875779647d9933907c89d96ce0d",
        "IPY_MODEL_c176f24eac5146f0b8276129f908bb23",
        "IPY_MODEL_02c968e34e834d408b9521e69fd92e28"
       ],
       "layout": "IPY_MODEL_bfda16de6e46445da9790e64c128bc27"
      }
     },
     "b7c8d1eb6d5a4e10b9797aa207d4c24d": {
      "model_module": "@jupyter-widgets/controls",
      "model_module_version": "1.5.0",
      "model_name": "HBoxModel",
      "state": {
       "children": [
        "IPY_MODEL_5147832d660e4d05ba9d7b6303e9b623",
        "IPY_MODEL_fb4bcfec4f554b7cb0ef74c5c3c8fdbc",
        "IPY_MODEL_ee067bf349ba44e7bfb3e005e6cfcd56"
       ],
       "layout": "IPY_MODEL_135dac1cdba84fc18d87e3c1759a0c9f"
      }
     },
     "b870c61941474e71bbead298aabd58bd": {
      "model_module": "@jupyter-widgets/controls",
      "model_module_version": "1.5.0",
      "model_name": "DescriptionStyleModel",
      "state": {
       "description_width": ""
      }
     },
     "bcb4a8ea4000470fb70f197d1ee9979b": {
      "model_module": "@jupyter-widgets/base",
      "model_module_version": "1.2.0",
      "model_name": "LayoutModel",
      "state": {}
     },
     "bd4310a997ce4d33977d66652c091aef": {
      "model_module": "@jupyter-widgets/base",
      "model_module_version": "1.2.0",
      "model_name": "LayoutModel",
      "state": {}
     },
     "be5511b6d71d4af1b4b373bfc681c19e": {
      "model_module": "@jupyter-widgets/base",
      "model_module_version": "1.2.0",
      "model_name": "LayoutModel",
      "state": {}
     },
     "bfda16de6e46445da9790e64c128bc27": {
      "model_module": "@jupyter-widgets/base",
      "model_module_version": "1.2.0",
      "model_name": "LayoutModel",
      "state": {}
     },
     "c0c96c163a3e474c858f34d5af751370": {
      "model_module": "@jupyter-widgets/controls",
      "model_module_version": "1.5.0",
      "model_name": "DescriptionStyleModel",
      "state": {
       "description_width": ""
      }
     },
     "c176f24eac5146f0b8276129f908bb23": {
      "model_module": "@jupyter-widgets/controls",
      "model_module_version": "1.5.0",
      "model_name": "FloatProgressModel",
      "state": {
       "bar_style": "success",
       "layout": "IPY_MODEL_553bf94499cf478789fcd9b5c7f25bb8",
       "max": 85,
       "style": "IPY_MODEL_93e5b24ac2b34068b8bd2cea570fe967",
       "value": 85
      }
     },
     "c35adec724d94eb2902fc0c4ec248e05": {
      "model_module": "@jupyter-widgets/base",
      "model_module_version": "1.2.0",
      "model_name": "LayoutModel",
      "state": {}
     },
     "ca9fc6e8d2c14a52ae25e7233e44ad3e": {
      "model_module": "@jupyter-widgets/controls",
      "model_module_version": "1.5.0",
      "model_name": "HTMLModel",
      "state": {
       "layout": "IPY_MODEL_3836c6013b9741c7abea375837039885",
       "style": "IPY_MODEL_d2697aa95d0243188285dd8e5fad9b66",
       "value": " 0/5 [00:06&lt;?, ?it/s]"
      }
     },
     "caf6d7ea47e34cac8d310d230afc968a": {
      "model_module": "@jupyter-widgets/base",
      "model_module_version": "1.2.0",
      "model_name": "LayoutModel",
      "state": {}
     },
     "cc28a384d6284c24aaab83f8df16eea9": {
      "model_module": "@jupyter-widgets/controls",
      "model_module_version": "1.5.0",
      "model_name": "HBoxModel",
      "state": {
       "children": [
        "IPY_MODEL_a8bf43706a59458ea3304a17337d9fce",
        "IPY_MODEL_339798f0d4cb42b782f60ecae5e05697",
        "IPY_MODEL_4b6ad400a26842bd86cb87553d64df33"
       ],
       "layout": "IPY_MODEL_c35adec724d94eb2902fc0c4ec248e05"
      }
     },
     "d148ddce9c8348319bdac63938336459": {
      "model_module": "@jupyter-widgets/controls",
      "model_module_version": "1.5.0",
      "model_name": "HTMLModel",
      "state": {
       "layout": "IPY_MODEL_447f0ec2216c4ff0ade188974627bf43",
       "style": "IPY_MODEL_b870c61941474e71bbead298aabd58bd",
       "value": "  0%"
      }
     },
     "d2697aa95d0243188285dd8e5fad9b66": {
      "model_module": "@jupyter-widgets/controls",
      "model_module_version": "1.5.0",
      "model_name": "DescriptionStyleModel",
      "state": {
       "description_width": ""
      }
     },
     "d6f432bb9cb14cc09c1d747f6be53ec5": {
      "model_module": "@jupyter-widgets/controls",
      "model_module_version": "1.5.0",
      "model_name": "HTMLModel",
      "state": {
       "layout": "IPY_MODEL_bd4310a997ce4d33977d66652c091aef",
       "style": "IPY_MODEL_e1cff812035744a2bc5bdee1df07a60d",
       "value": "  0%"
      }
     },
     "dd66e1a75e8a46d8b7048ef91fd17d58": {
      "model_module": "@jupyter-widgets/controls",
      "model_module_version": "1.5.0",
      "model_name": "FloatProgressModel",
      "state": {
       "bar_style": "danger",
       "layout": "IPY_MODEL_bcb4a8ea4000470fb70f197d1ee9979b",
       "max": 5,
       "style": "IPY_MODEL_0653ac450940484d88f2c332bfc5c24c"
      }
     },
     "e1cff812035744a2bc5bdee1df07a60d": {
      "model_module": "@jupyter-widgets/controls",
      "model_module_version": "1.5.0",
      "model_name": "DescriptionStyleModel",
      "state": {
       "description_width": ""
      }
     },
     "e2759bce17d14bed9cdac4463fa9cc23": {
      "model_module": "@jupyter-widgets/controls",
      "model_module_version": "1.5.0",
      "model_name": "HBoxModel",
      "state": {
       "children": [
        "IPY_MODEL_0b6c57c1d2ad4530a9885407afd21154",
        "IPY_MODEL_6c1b6763cb3a4bb5b9d7c5b74dd76bc5",
        "IPY_MODEL_957472f9c816407d82165393ffde5f58"
       ],
       "layout": "IPY_MODEL_b4e9d97f1d964dec843005b444f5dba7"
      }
     },
     "e59a67b09b8b422a97015144d6956227": {
      "model_module": "@jupyter-widgets/base",
      "model_module_version": "1.2.0",
      "model_name": "LayoutModel",
      "state": {}
     },
     "e6c3f0c9c3e148f6885936d585d1903f": {
      "model_module": "@jupyter-widgets/controls",
      "model_module_version": "1.5.0",
      "model_name": "ProgressStyleModel",
      "state": {
       "description_width": ""
      }
     },
     "e83437b126c3473b96c2aaf95585ccaa": {
      "model_module": "@jupyter-widgets/base",
      "model_module_version": "1.2.0",
      "model_name": "LayoutModel",
      "state": {}
     },
     "ee067bf349ba44e7bfb3e005e6cfcd56": {
      "model_module": "@jupyter-widgets/controls",
      "model_module_version": "1.5.0",
      "model_name": "HTMLModel",
      "state": {
       "layout": "IPY_MODEL_1e01c6911aa240bfbd4f2a81abf2dd18",
       "style": "IPY_MODEL_02b94b54a1ad486e9db9cf37e5012bbc",
       "value": " 102/102 [22:26&lt;00:00, 10.22s/it]"
      }
     },
     "eec597c3196649c5ba99bfe058ab4601": {
      "model_module": "@jupyter-widgets/controls",
      "model_module_version": "1.5.0",
      "model_name": "DescriptionStyleModel",
      "state": {
       "description_width": ""
      }
     },
     "eefa00793aa44b7197c312b97844d2c1": {
      "model_module": "@jupyter-widgets/base",
      "model_module_version": "1.2.0",
      "model_name": "LayoutModel",
      "state": {}
     },
     "f09ab41900a946e8b8ea208efca0afe9": {
      "model_module": "@jupyter-widgets/base",
      "model_module_version": "1.2.0",
      "model_name": "LayoutModel",
      "state": {}
     },
     "f26a6cd9843f42f696166992de1ed95d": {
      "model_module": "@jupyter-widgets/controls",
      "model_module_version": "1.5.0",
      "model_name": "DescriptionStyleModel",
      "state": {
       "description_width": ""
      }
     },
     "f40b22a700444b1397a6c1d35bccefb8": {
      "model_module": "@jupyter-widgets/controls",
      "model_module_version": "1.5.0",
      "model_name": "DescriptionStyleModel",
      "state": {
       "description_width": ""
      }
     },
     "fb4bcfec4f554b7cb0ef74c5c3c8fdbc": {
      "model_module": "@jupyter-widgets/controls",
      "model_module_version": "1.5.0",
      "model_name": "FloatProgressModel",
      "state": {
       "bar_style": "success",
       "layout": "IPY_MODEL_3577f4369912459e9f18b1acbb57e946",
       "max": 102,
       "style": "IPY_MODEL_42f5042619b747528dc5620a4d061d68",
       "value": 102
      }
     },
     "fdbcfcb088534c0c92cfda04633c4363": {
      "model_module": "@jupyter-widgets/base",
      "model_module_version": "1.2.0",
      "model_name": "LayoutModel",
      "state": {}
     },
     "fe3558e4739c443ba1fb5b1914427c3a": {
      "model_module": "@jupyter-widgets/controls",
      "model_module_version": "1.5.0",
      "model_name": "DescriptionStyleModel",
      "state": {
       "description_width": ""
      }
     },
     "ff27ec5a12a44394ab2883d09349cb11": {
      "model_module": "@jupyter-widgets/controls",
      "model_module_version": "1.5.0",
      "model_name": "DescriptionStyleModel",
      "state": {
       "description_width": ""
      }
     }
    },
    "version_major": 2,
    "version_minor": 0
   }
  }
 },
 "nbformat": 4,
 "nbformat_minor": 5
}
