{
 "cells": [
  {
   "cell_type": "markdown",
   "id": "785b889f-489a-4c47-b320-55f1d91cede4",
   "metadata": {
    "tags": []
   },
   "source": [
    "# Google Earth Engine"
   ]
  },
  {
   "cell_type": "code",
   "execution_count": 1,
   "id": "c1a31d07-861a-404a-a538-0145c26992b5",
   "metadata": {},
   "outputs": [],
   "source": [
    "import os, datetime\n",
    "from tqdm.notebook import tqdm\n",
    "\n",
    "import numpy as np\n",
    "import pandas as pd\n",
    "import geopandas as gpd\n",
    "import matplotlib.pyplot as plt"
   ]
  },
  {
   "cell_type": "code",
   "execution_count": 2,
   "id": "91ab6c31-0f99-4f77-84e7-0df39671c603",
   "metadata": {},
   "outputs": [],
   "source": [
    "import eeconvert"
   ]
  },
  {
   "cell_type": "code",
   "execution_count": 3,
   "id": "a82fc4aa-1966-4689-a393-981b3823e585",
   "metadata": {},
   "outputs": [],
   "source": [
    "from src import read_data, process_data, split_df\n",
    "data = read_data('data/train_dataset_train_2.csv')\n",
    "data_test = read_data('data/test_dataset_test_2.csv')\n",
    "data_cat = pd.concat((data, data_test), axis=0)"
   ]
  },
  {
   "cell_type": "code",
   "execution_count": 4,
   "id": "39a875be-b323-499b-b28f-812a6feb376c",
   "metadata": {},
   "outputs": [
    {
     "data": {
      "text/html": [
       "<p>To authorize access needed by Earth Engine, open the following\n",
       "        URL in a web browser and follow the instructions:</p>\n",
       "        <p><a href=https://code.earthengine.google.com/client-auth?scopes=https%3A//www.googleapis.com/auth/earthengine%20https%3A//www.googleapis.com/auth/devstorage.full_control&request_id=e7XLWMle4IuFJz6kca594-zcW5rjj50LcTlnybufKxg&tc=0Vo4oIixgPlJbQLjIRugRRlTGiqwZk6lsVPvLjlrBMs&cc=f95-alT4q3g81_wWTcrk5VJ-3ulqD6AYsmGV4sGACQs>https://code.earthengine.google.com/client-auth?scopes=https%3A//www.googleapis.com/auth/earthengine%20https%3A//www.googleapis.com/auth/devstorage.full_control&request_id=e7XLWMle4IuFJz6kca594-zcW5rjj50LcTlnybufKxg&tc=0Vo4oIixgPlJbQLjIRugRRlTGiqwZk6lsVPvLjlrBMs&cc=f95-alT4q3g81_wWTcrk5VJ-3ulqD6AYsmGV4sGACQs</a></p>\n",
       "        <p>The authorization workflow will generate a code, which you should paste in the box below.</p>\n",
       "        "
      ],
      "text/plain": [
       "<IPython.core.display.HTML object>"
      ]
     },
     "metadata": {},
     "output_type": "display_data"
    },
    {
     "name": "stdin",
     "output_type": "stream",
     "text": [
      "Enter verification code:  4/1AfgeXvu9dKB_1yzUI-YnF1MneqydthAUNJs1gsQ5FEumsRThLRC996vVHRI\n"
     ]
    },
    {
     "name": "stdout",
     "output_type": "stream",
     "text": [
      "\n",
      "Successfully saved authorization token.\n"
     ]
    }
   ],
   "source": [
    "import ee\n",
    "ee.Authenticate()"
   ]
  },
  {
   "cell_type": "code",
   "execution_count": 5,
   "id": "7c635e10-b95b-4cf6-a520-94e80f18e991",
   "metadata": {},
   "outputs": [],
   "source": [
    "ee.Initialize()"
   ]
  },
  {
   "cell_type": "code",
   "execution_count": 16,
   "id": "8613f0c6-f0ad-47a7-a0e6-2e8feac4b692",
   "metadata": {
    "tags": []
   },
   "outputs": [],
   "source": [
    "def get_series(collection, features, band='ndvi', scale=30, drive_folder=None):\n",
    "    \"\"\"https://stackoverflow.com/questions/47633088/get-results-in-an-earth-engine-python-script\"\"\"\n",
    "    def GetSeries(feature):\n",
    "        def NDVIcalc(img):\n",
    "            return feature.set(img.reduceRegion(ee.Reducer.median(), feature.geometry(), scale)).set('date', img.date().format(\"YYYY/MM/dd\"))\n",
    "\n",
    "        series = collection.map(NDVIcalc)\n",
    "\n",
    "        lst = series.reduceColumns(ee.Reducer.toList(2), ['date', band.upper()]).get('list')\n",
    "        return feature.set(ee.Dictionary(ee.List(lst).flatten()))\n",
    "\n",
    "    features_mapped = features.map(GetSeries)\n",
    "    if drive_folder is None:\n",
    "        result = features_mapped.getInfo()\n",
    "        return pd.DataFrame([i['properties'] for i in result['features']])\n",
    "    else:\n",
    "        task = ee.batch.Export.table.toDrive(features_mapped, folder=drive_folder, fileFormat='csv')\n",
    "        task.start()"
   ]
  },
  {
   "cell_type": "markdown",
   "id": "3158bac2-185e-4018-8302-f6c8670f55db",
   "metadata": {
    "jp-MarkdownHeadingCollapsed": true,
    "tags": []
   },
   "source": [
    "## landsat"
   ]
  },
  {
   "cell_type": "code",
   "execution_count": 7,
   "id": "140e4b5c-8ac3-4df6-93ff-a8a15175cd68",
   "metadata": {},
   "outputs": [],
   "source": [
    "# https://mgimond.github.io/ArcGIS_tutorials/Download_landsat.htm\n",
    "grid = gpd.read_file('data/grid/wrs2.shp')\n",
    "data_grid = data_cat.sjoin(grid[['PATH', 'ROW', 'geometry']], how='left')\n",
    "gb = data_grid.groupby(['PATH', 'ROW'])\n",
    "tiles = [gb.get_group(x) for x in gb.groups]"
   ]
  },
  {
   "cell_type": "code",
   "execution_count": 8,
   "id": "1c7177b8-f28d-4534-9307-4011e225ea4a",
   "metadata": {
    "tags": []
   },
   "outputs": [
    {
     "data": {
      "application/vnd.jupyter.widget-view+json": {
       "model_id": "0a25331570164c3890dfba86c338313c",
       "version_major": 2,
       "version_minor": 0
      },
      "text/plain": [
       "  0%|          | 0/102 [00:00<?, ?it/s]"
      ]
     },
     "metadata": {},
     "output_type": "display_data"
    }
   ],
   "source": [
    "out = []\n",
    "for tile in tqdm(tiles):\n",
    "    features = eeconvert.gdfToFc(tile.to_crs(4326)[['id', 'geometry']])\n",
    "    collection = ee.ImageCollection('LANDSAT/LC08/C01/T1_8DAY_EVI') \\\n",
    "        .filterBounds(features) \\\n",
    "        .filterDate('2021-04-15', '2021-09-01') \\\n",
    "        .select('EVI')\n",
    "    out.append(get_series(collection, features, band='evi', scale=30))"
   ]
  },
  {
   "cell_type": "code",
   "execution_count": 9,
   "id": "98f0fb16-9fee-4a89-815b-0ad90f5e0bf7",
   "metadata": {},
   "outputs": [],
   "source": [
    "data_landsat = pd.concat(out)\n",
    "data_landsat = data_landsat.groupby('id').max().reset_index(drop=True)\n",
    "data_landsat = data_landsat.loc[data_cat['id'], sorted(data_landsat.columns)]"
   ]
  },
  {
   "cell_type": "code",
   "execution_count": 11,
   "id": "506a4743-2c27-4358-8e27-fe2f4137ea44",
   "metadata": {},
   "outputs": [],
   "source": [
    "data_landsat.iloc[:data.shape[0],:].to_csv('data/train_dataset_landsat_evi.csv', index=False)\n",
    "data_landsat.iloc[data.shape[0]:,:].to_csv('data/test_dataset_landsat_evi.csv', index=False)"
   ]
  },
  {
   "cell_type": "markdown",
   "id": "5351eb8f-bbf0-492d-a354-03652c063037",
   "metadata": {
    "jp-MarkdownHeadingCollapsed": true,
    "tags": []
   },
   "source": [
    "## modis"
   ]
  },
  {
   "cell_type": "code",
   "execution_count": 12,
   "id": "85a73799-e6b4-429a-a1fa-ed21c616c650",
   "metadata": {},
   "outputs": [],
   "source": [
    "# https://mgimond.github.io/ArcGIS_tutorials/Download_landsat.htm\n",
    "grid = gpd.read_file('data/grid/modis_sinusoidal_grid_world.shp')\n",
    "data_grid = data_cat.to_crs(grid.crs).sjoin(grid[['h', 'v', 'geometry']], how='left')\n",
    "gb = data_grid.groupby(['h', 'v'])\n",
    "tiles = [gb.get_group(x) for x in gb.groups]"
   ]
  },
  {
   "cell_type": "code",
   "execution_count": 15,
   "id": "8a251480-0aae-4a22-a7bf-4d18f24001ff",
   "metadata": {},
   "outputs": [],
   "source": [
    "tiles_ = []\n",
    "for tile in tiles:\n",
    "    if tile.shape[0] > 100:\n",
    "        tiles_.extend(split_df(tile, 100))\n",
    "    else:\n",
    "        tiles_.append(tile)\n",
    "tiles = tiles_"
   ]
  },
  {
   "cell_type": "code",
   "execution_count": 16,
   "id": "f7a1e16b-9f33-403d-886f-92433df60bcd",
   "metadata": {},
   "outputs": [
    {
     "data": {
      "application/vnd.jupyter.widget-view+json": {
       "model_id": "db54266f90784593aed4888c0192ec33",
       "version_major": 2,
       "version_minor": 0
      },
      "text/plain": [
       "  0%|          | 0/73 [00:00<?, ?it/s]"
      ]
     },
     "metadata": {},
     "output_type": "display_data"
    }
   ],
   "source": [
    "out = []\n",
    "for tile in tqdm(tiles):\n",
    "    features = eeconvert.gdfToFc(tile.to_crs(4326)[['id', 'geometry']])\n",
    "    collection = ee.ImageCollection('MODIS/MOD09GA_006_EVI') \\\n",
    "        .filterBounds(features) \\\n",
    "        .filterDate('2021-04-15', '2021-09-01') \\\n",
    "        .select('EVI')\n",
    "    out.append(get_series(collection, features, band='evi', scale=250))"
   ]
  },
  {
   "cell_type": "code",
   "execution_count": 17,
   "id": "cb7f6fac-9bac-46e6-a9ad-e0a2b92fb51b",
   "metadata": {},
   "outputs": [],
   "source": [
    "data_modis = pd.concat(out)"
   ]
  },
  {
   "cell_type": "code",
   "execution_count": 18,
   "id": "177ea5b8-286e-4ff7-826f-fb84ef0edc39",
   "metadata": {},
   "outputs": [],
   "source": [
    "data_modis = data_modis.groupby('id').max().reset_index(drop=True).fillna(0)\n",
    "data_modis = data_modis.loc[data_cat['id'], sorted(data_modis.columns)]"
   ]
  },
  {
   "cell_type": "code",
   "execution_count": 22,
   "id": "a3ccfdd3-bfc3-4284-9cc9-36388892e23b",
   "metadata": {},
   "outputs": [],
   "source": [
    "data_modis.iloc[:data.shape[0],:].to_csv('data/train_dataset_modis_evi.csv', index=False)\n",
    "data_modis.iloc[data.shape[0]:,:].to_csv('data/test_dataset_modis_evi.csv', index=False)"
   ]
  },
  {
   "cell_type": "markdown",
   "id": "8551ea3a-a2e1-4407-95c0-4a269e159305",
   "metadata": {
    "jp-MarkdownHeadingCollapsed": true,
    "tags": []
   },
   "source": [
    "## sentinel"
   ]
  },
  {
   "cell_type": "code",
   "execution_count": 8,
   "id": "b712416d-9b27-416e-a254-37b095c96808",
   "metadata": {},
   "outputs": [],
   "source": [
    "def set_sentinel_ndvi(image):\n",
    "    red = image.select('B4')\n",
    "    nir = image.select('B8')\n",
    "    ndvi = nir.subtract(red).divide(nir.add(red)).rename('NDVI')\n",
    "    return image.addBands(ndvi)\n",
    "\n",
    "def set_sentinel_evi(image):\n",
    "    evi = image.expression(\n",
    "        '2.5 * ((NIR - RED) / (NIR + 6 * RED - 7.5 * BLUE + 1))', \n",
    "        {'NIR': image.select('B8').divide(10000),\n",
    "         'RED': image.select('B4').divide(10000),\n",
    "         'BLUE': image.select('B2').divide(10000)}\n",
    "    ).rename('EVI')\n",
    "    return image.addBands(evi)"
   ]
  },
  {
   "cell_type": "code",
   "execution_count": 9,
   "id": "c92fcfd2-78f6-47da-8e05-63315f5f8e48",
   "metadata": {},
   "outputs": [],
   "source": [
    "# https://github.com/justinelliotmeyers/Sentinel-2-Shapefile-Index\n",
    "grid = gpd.read_file('data/grid/sentinel_2_index_shapefile.shp')\n",
    "data_grid = data_cat.to_crs(grid.crs).sjoin(grid[['Name', 'geometry']], how='left')\n",
    "gb = data_grid.groupby('Name')\n",
    "tiles = [gb.get_group(x) for x in gb.groups]"
   ]
  },
  {
   "cell_type": "code",
   "execution_count": 10,
   "id": "7c3d1a29-ee08-44b8-a755-08f250761f36",
   "metadata": {},
   "outputs": [],
   "source": [
    "tiles_ = []\n",
    "for tile in tiles:\n",
    "    if tile.shape[0] > 100:\n",
    "        tiles_.extend(split_df(tile, 100))\n",
    "    else:\n",
    "        tiles_.append(tile)\n",
    "tiles = tiles_"
   ]
  },
  {
   "cell_type": "code",
   "execution_count": 17,
   "id": "5abe31c9-ce8c-46c0-82f8-64ccb4b16d30",
   "metadata": {},
   "outputs": [],
   "source": [
    "collection = ee.ImageCollection('COPERNICUS/S2').map(set_sentinel_ndvi).map(set_sentinel_evi)"
   ]
  },
  {
   "cell_type": "code",
   "execution_count": 18,
   "id": "3f3182e7-928c-4ab0-b005-9569b466bd1f",
   "metadata": {
    "tags": []
   },
   "outputs": [
    {
     "data": {
      "application/vnd.jupyter.widget-view+json": {
       "model_id": "6543b4ab93e64725968457f4543670f8",
       "version_major": 2,
       "version_minor": 0
      },
      "text/plain": [
       "  0%|          | 0/187 [00:00<?, ?it/s]"
      ]
     },
     "metadata": {},
     "output_type": "display_data"
    }
   ],
   "source": [
    "out = []\n",
    "for tile in tqdm(tiles):\n",
    "    features = eeconvert.gdfToFc(tile.to_crs(4326)[['id', 'geometry']])\n",
    "    collection_ = collection.filterBounds(features).filterDate('2021-04-15', '2021-09-01').select('EVI')\n",
    "    out.append(get_series(collection_, features, band='evi', scale=10, drive_folder='sentinel_evi'))"
   ]
  },
  {
   "cell_type": "code",
   "execution_count": 283,
   "id": "cc945e56-18a6-4309-82bd-29407b2e496b",
   "metadata": {},
   "outputs": [],
   "source": [
    "out = []\n",
    "for file in os.listdir('sentinel_evi'):\n",
    "    out.append(pd.read_csv('sentinel_evi/'+file))"
   ]
  },
  {
   "cell_type": "code",
   "execution_count": 284,
   "id": "d69cca4a-b543-4162-b990-00e38534d305",
   "metadata": {},
   "outputs": [],
   "source": [
    "data_sentinel = pd.concat(out)"
   ]
  },
  {
   "cell_type": "code",
   "execution_count": 291,
   "id": "54896e13-4c29-46a5-8893-b731346fb725",
   "metadata": {
    "tags": []
   },
   "outputs": [],
   "source": [
    "# data_prev = data_sentinel.iloc[:,1:56]\n",
    "# data_prev.columns = pd.to_datetime(data_prev.columns)\n",
    "# data_next = data_sentinel.iloc[:,58:]\n",
    "# data_next.columns = pd.to_datetime(data_next.columns) - pd.Timedelta(days=1)\n",
    "# data_prev.update(data_next)\n",
    "# data_prev['id'] = data_sentinel['id']"
   ]
  },
  {
   "cell_type": "code",
   "execution_count": 294,
   "id": "bda865c8-45d0-45f5-a770-1b6e67cbb660",
   "metadata": {},
   "outputs": [],
   "source": [
    "data_prev = data_sentinel.iloc[:,1:56]\n",
    "data_prev.columns = pd.to_datetime(data_prev.columns)\n",
    "data_next = data_sentinel.iloc[:,59:]\n",
    "data_next.columns = pd.to_datetime(data_next.columns) - pd.Timedelta(days=1)\n",
    "data_prev.update(data_next)\n",
    "data_prev['id'] = data_sentinel['id']"
   ]
  },
  {
   "cell_type": "code",
   "execution_count": 296,
   "id": "927d4c7a-3fb0-448e-95a8-cd4874691d10",
   "metadata": {},
   "outputs": [],
   "source": [
    "data_sentinel = data_prev.groupby('id').max().reset_index(drop=True).fillna(0)\n",
    "data_sentinel = data_sentinel.loc[data_cat['id'], sorted(data_sentinel.columns)]"
   ]
  },
  {
   "cell_type": "code",
   "execution_count": 298,
   "id": "677c31d2-af62-4d46-b0da-1212f461852b",
   "metadata": {},
   "outputs": [],
   "source": [
    "data_sentinel.iloc[:data.shape[0],:].to_csv('data/train_dataset_sentinel_evi.csv', index=False)\n",
    "data_sentinel.iloc[data.shape[0]:,:].to_csv('data/test_dataset_sentinel_evi.csv', index=False)"
   ]
  },
  {
   "cell_type": "code",
   "execution_count": null,
   "id": "2275c1ec-fce4-4e83-915c-78c362316176",
   "metadata": {},
   "outputs": [],
   "source": []
  }
 ],
 "metadata": {
  "kernelspec": {
   "display_name": "Python 3",
   "language": "python",
   "name": "python3"
  },
  "language_info": {
   "codemirror_mode": {
    "name": "ipython",
    "version": 3
   },
   "file_extension": ".py",
   "mimetype": "text/x-python",
   "name": "python",
   "nbconvert_exporter": "python",
   "pygments_lexer": "ipython3",
   "version": "3.9.4"
  },
  "widgets": {
   "application/vnd.jupyter.widget-state+json": {
    "state": {
     "05d8044f01924789822bccb7de2def30": {
      "model_module": "@jupyter-widgets/controls",
      "model_module_version": "1.5.0",
      "model_name": "FloatProgressModel",
      "state": {
       "bar_style": "success",
       "layout": "IPY_MODEL_d68295f6e6de41faa2a9579db5804ba8",
       "max": 187,
       "style": "IPY_MODEL_6c8616b51a314376bfeea7f0962ad85b",
       "value": 187
      }
     },
     "08800a3a805e4753834af3701eba3e65": {
      "model_module": "@jupyter-widgets/controls",
      "model_module_version": "1.5.0",
      "model_name": "DescriptionStyleModel",
      "state": {
       "description_width": ""
      }
     },
     "0b61aed652184b3da2713c18bbcc9606": {
      "model_module": "@jupyter-widgets/base",
      "model_module_version": "1.2.0",
      "model_name": "LayoutModel",
      "state": {}
     },
     "154a2f9e47a6466495eddb6e9289cdb0": {
      "model_module": "@jupyter-widgets/base",
      "model_module_version": "1.2.0",
      "model_name": "LayoutModel",
      "state": {}
     },
     "223e6945d5214eb6b8f38a4979b765be": {
      "model_module": "@jupyter-widgets/controls",
      "model_module_version": "1.5.0",
      "model_name": "DescriptionStyleModel",
      "state": {
       "description_width": ""
      }
     },
     "4d58eef8451342b4a8c625b89369d0c6": {
      "model_module": "@jupyter-widgets/controls",
      "model_module_version": "1.5.0",
      "model_name": "HTMLModel",
      "state": {
       "layout": "IPY_MODEL_154a2f9e47a6466495eddb6e9289cdb0",
       "style": "IPY_MODEL_08800a3a805e4753834af3701eba3e65",
       "value": " 14%"
      }
     },
     "4fd4ebfeae5b430d875b080986c33a18": {
      "model_module": "@jupyter-widgets/base",
      "model_module_version": "1.2.0",
      "model_name": "LayoutModel",
      "state": {}
     },
     "60a3aca2a62c40868b4ad2e90bfd057f": {
      "model_module": "@jupyter-widgets/controls",
      "model_module_version": "1.5.0",
      "model_name": "HTMLModel",
      "state": {
       "layout": "IPY_MODEL_65fa9ab334b74f15bb8431696f064343",
       "style": "IPY_MODEL_223e6945d5214eb6b8f38a4979b765be",
       "value": "100%"
      }
     },
     "6543b4ab93e64725968457f4543670f8": {
      "model_module": "@jupyter-widgets/controls",
      "model_module_version": "1.5.0",
      "model_name": "HBoxModel",
      "state": {
       "children": [
        "IPY_MODEL_60a3aca2a62c40868b4ad2e90bfd057f",
        "IPY_MODEL_05d8044f01924789822bccb7de2def30",
        "IPY_MODEL_a1bd81223ac14eafa1a5a8a74070e5d1"
       ],
       "layout": "IPY_MODEL_70b4067f9871478fbd7e7b5bc5b986e3"
      }
     },
     "65fa9ab334b74f15bb8431696f064343": {
      "model_module": "@jupyter-widgets/base",
      "model_module_version": "1.2.0",
      "model_name": "LayoutModel",
      "state": {}
     },
     "6bcd9c94b95341cebe99752f250d8506": {
      "model_module": "@jupyter-widgets/controls",
      "model_module_version": "1.5.0",
      "model_name": "HTMLModel",
      "state": {
       "layout": "IPY_MODEL_4fd4ebfeae5b430d875b080986c33a18",
       "style": "IPY_MODEL_7693a761c4314461bb850b7a81e9b657",
       "value": " 26/187 [27:57&lt;1:53:50, 42.43s/it]"
      }
     },
     "6c8616b51a314376bfeea7f0962ad85b": {
      "model_module": "@jupyter-widgets/controls",
      "model_module_version": "1.5.0",
      "model_name": "ProgressStyleModel",
      "state": {
       "description_width": ""
      }
     },
     "70b4067f9871478fbd7e7b5bc5b986e3": {
      "model_module": "@jupyter-widgets/base",
      "model_module_version": "1.2.0",
      "model_name": "LayoutModel",
      "state": {}
     },
     "7693a761c4314461bb850b7a81e9b657": {
      "model_module": "@jupyter-widgets/controls",
      "model_module_version": "1.5.0",
      "model_name": "DescriptionStyleModel",
      "state": {
       "description_width": ""
      }
     },
     "835a9abea164490ab42f410266ac7254": {
      "model_module": "@jupyter-widgets/base",
      "model_module_version": "1.2.0",
      "model_name": "LayoutModel",
      "state": {}
     },
     "8d97107d611a4ec4aa8d970fdec30328": {
      "model_module": "@jupyter-widgets/controls",
      "model_module_version": "1.5.0",
      "model_name": "FloatProgressModel",
      "state": {
       "bar_style": "danger",
       "layout": "IPY_MODEL_df305a9ac97e4e65aa3d9d60b5720d0b",
       "max": 187,
       "style": "IPY_MODEL_93d5211fe86f4d358689f13947e76faf",
       "value": 26
      }
     },
     "93d5211fe86f4d358689f13947e76faf": {
      "model_module": "@jupyter-widgets/controls",
      "model_module_version": "1.5.0",
      "model_name": "ProgressStyleModel",
      "state": {
       "description_width": ""
      }
     },
     "a1bd81223ac14eafa1a5a8a74070e5d1": {
      "model_module": "@jupyter-widgets/controls",
      "model_module_version": "1.5.0",
      "model_name": "HTMLModel",
      "state": {
       "layout": "IPY_MODEL_835a9abea164490ab42f410266ac7254",
       "style": "IPY_MODEL_fc627f5cfe084b3980dd6755672a643a",
       "value": " 187/187 [07:58&lt;00:00,  1.11it/s]"
      }
     },
     "d68295f6e6de41faa2a9579db5804ba8": {
      "model_module": "@jupyter-widgets/base",
      "model_module_version": "1.2.0",
      "model_name": "LayoutModel",
      "state": {}
     },
     "d75c575a79674942b3e5f7c9f5c91529": {
      "model_module": "@jupyter-widgets/controls",
      "model_module_version": "1.5.0",
      "model_name": "HBoxModel",
      "state": {
       "children": [
        "IPY_MODEL_4d58eef8451342b4a8c625b89369d0c6",
        "IPY_MODEL_8d97107d611a4ec4aa8d970fdec30328",
        "IPY_MODEL_6bcd9c94b95341cebe99752f250d8506"
       ],
       "layout": "IPY_MODEL_0b61aed652184b3da2713c18bbcc9606"
      }
     },
     "df305a9ac97e4e65aa3d9d60b5720d0b": {
      "model_module": "@jupyter-widgets/base",
      "model_module_version": "1.2.0",
      "model_name": "LayoutModel",
      "state": {}
     },
     "fc627f5cfe084b3980dd6755672a643a": {
      "model_module": "@jupyter-widgets/controls",
      "model_module_version": "1.5.0",
      "model_name": "DescriptionStyleModel",
      "state": {
       "description_width": ""
      }
     }
    },
    "version_major": 2,
    "version_minor": 0
   }
  }
 },
 "nbformat": 4,
 "nbformat_minor": 5
}
