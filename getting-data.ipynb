{
 "cells": [
  {
   "cell_type": "markdown",
   "id": "785b889f-489a-4c47-b320-55f1d91cede4",
   "metadata": {
    "tags": []
   },
   "source": [
    "# Google Earth Engine"
   ]
  },
  {
   "cell_type": "code",
   "execution_count": 1,
   "id": "c1a31d07-861a-404a-a538-0145c26992b5",
   "metadata": {},
   "outputs": [],
   "source": [
    "import os, datetime\n",
    "from tqdm.notebook import tqdm\n",
    "\n",
    "import numpy as np\n",
    "import pandas as pd\n",
    "import matplotlib.pyplot as plt\n",
    "import geopandas as gpd\n",
    "import geojson\n",
    "import shapely\n",
    "import shapely.geometry"
   ]
  },
  {
   "cell_type": "code",
   "execution_count": 2,
   "id": "91ab6c31-0f99-4f77-84e7-0df39671c603",
   "metadata": {},
   "outputs": [],
   "source": [
    "import eeconvert"
   ]
  },
  {
   "cell_type": "code",
   "execution_count": 3,
   "id": "a82fc4aa-1966-4689-a393-981b3823e585",
   "metadata": {},
   "outputs": [],
   "source": [
    "from src import *\n",
    "data = read_data('data/train_dataset_train_2.csv')\n",
    "data_test = read_data('data/test_dataset_test_2.csv')"
   ]
  },
  {
   "cell_type": "code",
   "execution_count": 4,
   "id": "a8fa5ca0-5c32-4607-8091-04364fef4f5b",
   "metadata": {},
   "outputs": [],
   "source": [
    "data_cat = pd.concat((data, data_test), axis=0)"
   ]
  },
  {
   "cell_type": "code",
   "execution_count": 5,
   "id": "39a875be-b323-499b-b28f-812a6feb376c",
   "metadata": {},
   "outputs": [
    {
     "data": {
      "text/html": [
       "<p>To authorize access needed by Earth Engine, open the following\n",
       "        URL in a web browser and follow the instructions:</p>\n",
       "        <p><a href=https://code.earthengine.google.com/client-auth?scopes=https%3A//www.googleapis.com/auth/earthengine%20https%3A//www.googleapis.com/auth/devstorage.full_control&request_id=n7U9mWPIm99fz_raixpN9ZUTibVQ7Xx083ICPgA5d5Y&tc=xUEE-MXPAYjyw1x-CULV5pC4zn702qBTUbhoYcCuHEM&cc=Hln-ACeLVqr3k_Src8V0Tt0Lb2b2RmdqdEBYZVcp_Fs>https://code.earthengine.google.com/client-auth?scopes=https%3A//www.googleapis.com/auth/earthengine%20https%3A//www.googleapis.com/auth/devstorage.full_control&request_id=n7U9mWPIm99fz_raixpN9ZUTibVQ7Xx083ICPgA5d5Y&tc=xUEE-MXPAYjyw1x-CULV5pC4zn702qBTUbhoYcCuHEM&cc=Hln-ACeLVqr3k_Src8V0Tt0Lb2b2RmdqdEBYZVcp_Fs</a></p>\n",
       "        <p>The authorization workflow will generate a code, which you should paste in the box below.</p>\n",
       "        "
      ],
      "text/plain": [
       "<IPython.core.display.HTML object>"
      ]
     },
     "metadata": {},
     "output_type": "display_data"
    },
    {
     "name": "stdin",
     "output_type": "stream",
     "text": [
      "Enter verification code:  4/1AfgeXvsLsNslzB0gZ1VTPDzip6SP_TeiMGGwMWFIoFWNbJbtTENyZdo7UPY\n"
     ]
    },
    {
     "name": "stdout",
     "output_type": "stream",
     "text": [
      "\n",
      "Successfully saved authorization token.\n"
     ]
    }
   ],
   "source": [
    "import ee\n",
    "ee.Authenticate()"
   ]
  },
  {
   "cell_type": "code",
   "execution_count": 6,
   "id": "7c635e10-b95b-4cf6-a520-94e80f18e991",
   "metadata": {},
   "outputs": [],
   "source": [
    "ee.Initialize()"
   ]
  },
  {
   "cell_type": "markdown",
   "id": "3158bac2-185e-4018-8302-f6c8670f55db",
   "metadata": {
    "tags": []
   },
   "source": [
    "## landsat"
   ]
  },
  {
   "cell_type": "code",
   "execution_count": 259,
   "id": "8613f0c6-f0ad-47a7-a0e6-2e8feac4b692",
   "metadata": {
    "tags": []
   },
   "outputs": [],
   "source": [
    "def get_series(collection, features):\n",
    "    \"\"\"https://stackoverflow.com/questions/47633088/get-results-in-an-earth-engine-python-script\"\"\"\n",
    "    def GetSeries(feature):\n",
    "        def NDVIcalc(img):\n",
    "            return feature.set(img.reduceRegion(ee.Reducer.median(), feature.geometry(), 30)).set('date', img.date().format(\"YYYY/MM/dd\"))\n",
    "\n",
    "        series = collection.map(NDVIcalc)\n",
    "\n",
    "        list_ = series.reduceColumns(ee.Reducer.toList(2), ['date', 'NDVI']).get('list')\n",
    "        return feature.set(ee.Dictionary(ee.List(list_).flatten()))\n",
    "\n",
    "    result = features.map(GetSeries).getInfo()\n",
    "    return pd.DataFrame([i['properties'] for i in result['features']])"
   ]
  },
  {
   "cell_type": "code",
   "execution_count": 260,
   "id": "140e4b5c-8ac3-4df6-93ff-a8a15175cd68",
   "metadata": {},
   "outputs": [],
   "source": [
    "# https://mgimond.github.io/ArcGIS_tutorials/Download_landsat.htm\n",
    "grid = gpd.read_file('grid/wrs2.shp')\n",
    "data_grid = data_cat.sjoin(grid[['PATH', 'ROW', 'geometry']], how='left')\n",
    "gb = data_grid.groupby(['PATH', 'ROW'])\n",
    "tiles = [gb.get_group(x) for x in gb.groups]"
   ]
  },
  {
   "cell_type": "code",
   "execution_count": 261,
   "id": "1c7177b8-f28d-4534-9307-4011e225ea4a",
   "metadata": {},
   "outputs": [
    {
     "data": {
      "application/vnd.jupyter.widget-view+json": {
       "model_id": "6d208097752a4b46b19b889183d85996",
       "version_major": 2,
       "version_minor": 0
      },
      "text/plain": [
       "  0%|          | 0/102 [00:00<?, ?it/s]"
      ]
     },
     "metadata": {},
     "output_type": "display_data"
    }
   ],
   "source": [
    "out = []\n",
    "for tile in tqdm(tiles):\n",
    "    features = eeconvert.gdfToFc(tile[['id', 'geometry']])\n",
    "    collection = ee.ImageCollection('LANDSAT/LC08/C01/T1_8DAY_NDVI').filterBounds(features).filterDate('2020-04-15', '2020-09-01').select('NDVI')\n",
    "    out.append(get_series(collection, features))"
   ]
  },
  {
   "cell_type": "code",
   "execution_count": 263,
   "id": "98f0fb16-9fee-4a89-815b-0ad90f5e0bf7",
   "metadata": {},
   "outputs": [],
   "source": [
    "data_landsat = pd.concat(out)\n",
    "data_landsat = data_landsat.groupby('id').max().reset_index(drop=True)\n",
    "data_landsat = data_landsat.loc[data_cat['id'], sorted(data_landsat.columns)]"
   ]
  },
  {
   "cell_type": "code",
   "execution_count": 268,
   "id": "506a4743-2c27-4358-8e27-fe2f4137ea44",
   "metadata": {},
   "outputs": [],
   "source": [
    "data_landsat.iloc[:data.shape[0],:].to_csv('data/train_dataset_landsat_2020.csv', index=False)\n",
    "data_landsat.iloc[data.shape[0]:,:].to_csv('data/test_dataset_landsat_2020.csv', index=False)"
   ]
  },
  {
   "cell_type": "markdown",
   "id": "5351eb8f-bbf0-492d-a354-03652c063037",
   "metadata": {
    "tags": []
   },
   "source": [
    "## modis"
   ]
  },
  {
   "cell_type": "code",
   "execution_count": null,
   "id": "609e5cdd-4398-4574-9e11-25a63825bbdf",
   "metadata": {},
   "outputs": [],
   "source": [
    "ee.ImageCollection(\"MODIS/MOD09GA_006_NDVI\")"
   ]
  },
  {
   "cell_type": "code",
   "execution_count": 269,
   "id": "85a73799-e6b4-429a-a1fa-ed21c616c650",
   "metadata": {},
   "outputs": [],
   "source": [
    "# https://mgimond.github.io/ArcGIS_tutorials/Download_landsat.htm\n",
    "grid = gpd.read_file('grid/modis_sinusoidal_grid_world.shp')\n",
    "data_grid = data_cat.to_crs(grid.crs).sjoin(grid[['h', 'v', 'geometry']], how='left')\n",
    "gb = data_grid.groupby(['h', 'v'])\n",
    "tiles = [gb.get_group(x) for x in gb.groups]"
   ]
  },
  {
   "cell_type": "code",
   "execution_count": 270,
   "id": "63602ca1-4c92-4abe-9987-469d4b0465ed",
   "metadata": {},
   "outputs": [],
   "source": [
    "def get_series(collection, features):\n",
    "    \"\"\"https://stackoverflow.com/questions/47633088/get-results-in-an-earth-engine-python-script\"\"\"\n",
    "    def GetSeries(feature):\n",
    "        def NDVIcalc(img):\n",
    "            return feature.set(img.reduceRegion(ee.Reducer.median(), feature.geometry(), scale=250)).set('date', img.date().format(\"YYYY/MM/dd\"))\n",
    "\n",
    "        series = collection.map(NDVIcalc)\n",
    "\n",
    "        list_ = series.reduceColumns(ee.Reducer.toList(2), ['date', 'NDVI']).get('list')\n",
    "        return feature.set(ee.Dictionary(ee.List(list_).flatten()))\n",
    "\n",
    "    result = features.map(GetSeries).getInfo()\n",
    "    return pd.DataFrame([i['properties'] for i in result['features']])"
   ]
  },
  {
   "cell_type": "code",
   "execution_count": 271,
   "id": "8a251480-0aae-4a22-a7bf-4d18f24001ff",
   "metadata": {},
   "outputs": [],
   "source": [
    "tiles_ = []\n",
    "for tile in tiles:\n",
    "    if tile.shape[0] > 100:\n",
    "        tiles_.extend(split_df(tile, 100))\n",
    "    else:\n",
    "        tiles_.append(tile)"
   ]
  },
  {
   "cell_type": "code",
   "execution_count": 272,
   "id": "cce2667a-42d9-423a-aff3-c1545b5408a1",
   "metadata": {},
   "outputs": [],
   "source": [
    "tiles = tiles_"
   ]
  },
  {
   "cell_type": "code",
   "execution_count": 273,
   "id": "f7a1e16b-9f33-403d-886f-92433df60bcd",
   "metadata": {},
   "outputs": [
    {
     "data": {
      "application/vnd.jupyter.widget-view+json": {
       "model_id": "8b70e63b30ea4ff89f7a338536fd64ac",
       "version_major": 2,
       "version_minor": 0
      },
      "text/plain": [
       "  0%|          | 0/73 [00:00<?, ?it/s]"
      ]
     },
     "metadata": {},
     "output_type": "display_data"
    }
   ],
   "source": [
    "out = []\n",
    "for tile in tqdm(tiles):\n",
    "    features = eeconvert.gdfToFc(tile.to_crs(4326)[['id', 'geometry']])\n",
    "    collection = ee.ImageCollection('MODIS/MOD09GA_006_NDVI').filterBounds(features).filterDate('2020-04-15', '2020-09-01').select('NDVI')\n",
    "    out.append(get_series(collection, features))"
   ]
  },
  {
   "cell_type": "code",
   "execution_count": 274,
   "id": "cb7f6fac-9bac-46e6-a9ad-e0a2b92fb51b",
   "metadata": {},
   "outputs": [],
   "source": [
    "data_modis = pd.concat(out)"
   ]
  },
  {
   "cell_type": "code",
   "execution_count": 276,
   "id": "177ea5b8-286e-4ff7-826f-fb84ef0edc39",
   "metadata": {},
   "outputs": [],
   "source": [
    "data_modis = data_modis.groupby('id').max().reset_index(drop=True).fillna(0)\n",
    "data_modis = data_modis.loc[data_cat['id'], sorted(data_modis.columns)]"
   ]
  },
  {
   "cell_type": "code",
   "execution_count": 277,
   "id": "a3ccfdd3-bfc3-4284-9cc9-36388892e23b",
   "metadata": {},
   "outputs": [],
   "source": [
    "data_modis.iloc[:data.shape[0],:].to_csv('data/train_dataset_modis_2020.csv', index=False)\n",
    "data_modis.iloc[data.shape[0]:,:].to_csv('data/test_dataset_modis_2020.csv', index=False)"
   ]
  },
  {
   "cell_type": "markdown",
   "id": "8551ea3a-a2e1-4407-95c0-4a269e159305",
   "metadata": {
    "tags": []
   },
   "source": [
    "## sentinel"
   ]
  },
  {
   "cell_type": "code",
   "execution_count": 27,
   "id": "029c5e26-b0ab-4e5a-bbdf-684f65ec2e71",
   "metadata": {},
   "outputs": [
    {
     "data": {
      "text/plain": [
       "<ee.imagecollection.ImageCollection at 0x1ef66defd90>"
      ]
     },
     "execution_count": 27,
     "metadata": {},
     "output_type": "execute_result"
    }
   ],
   "source": [
    "ee.ImageCollection('COPERNICUS/S2')"
   ]
  },
  {
   "cell_type": "code",
   "execution_count": 278,
   "id": "c92fcfd2-78f6-47da-8e05-63315f5f8e48",
   "metadata": {},
   "outputs": [],
   "source": [
    "# https://github.com/justinelliotmeyers/Sentinel-2-Shapefile-Index\n",
    "grid = gpd.read_file('grid/sentinel_2_index_shapefile.shp')\n",
    "data_grid = data_cat.to_crs(grid.crs).sjoin(grid[['Name', 'geometry']], how='left')\n",
    "gb = data_grid.groupby('Name')\n",
    "tiles = [gb.get_group(x) for x in gb.groups]"
   ]
  },
  {
   "cell_type": "code",
   "execution_count": 279,
   "id": "7c3d1a29-ee08-44b8-a755-08f250761f36",
   "metadata": {},
   "outputs": [],
   "source": [
    "tiles_ = []\n",
    "for tile in tiles:\n",
    "    if tile.shape[0] > 100:\n",
    "        tiles_.extend(split_df(tile, 100))\n",
    "    else:\n",
    "        tiles_.append(tile)"
   ]
  },
  {
   "cell_type": "code",
   "execution_count": 280,
   "id": "f5cf1526-e3f8-4bc0-a71b-a10901b14aa0",
   "metadata": {},
   "outputs": [],
   "source": [
    "# tiles = tiles_"
   ]
  },
  {
   "cell_type": "code",
   "execution_count": 281,
   "id": "95b340f3-bee2-4ef7-a4b2-4db5c129319b",
   "metadata": {},
   "outputs": [],
   "source": [
    "def get_series(collection, features):\n",
    "    \"\"\"https://stackoverflow.com/questions/47633088/get-results-in-an-earth-engine-python-script\"\"\"\n",
    "    def GetSeries(feature):\n",
    "        def NDVIcalc(img):\n",
    "            red = img.select('B4')\n",
    "            nir = img.select('B8')\n",
    "            ndvi = nir.subtract(red).divide(nir.add(red)).rename(['NDVI'])\n",
    "            return feature.set(ndvi.reduceRegion(ee.Reducer.median(), feature.geometry(), scale=10)).set('date', img.date().format(\"YYYY/MM/dd\"))\n",
    "\n",
    "        series = collection.map(NDVIcalc)\n",
    "\n",
    "        list_ = series.reduceColumns(ee.Reducer.toList(2), ['date', 'NDVI']).get('list')\n",
    "        return feature.set(ee.Dictionary(ee.List(list_).flatten()))\n",
    "\n",
    "    result = features.map(GetSeries)#.getInfo()\n",
    "    # return pd.DataFrame([i['properties'] for i in result['features']])\n",
    "    task = ee.batch.Export.table.toDrive(result, folder='sintinel2', fileFormat='csv')\n",
    "    task.start()"
   ]
  },
  {
   "cell_type": "code",
   "execution_count": 282,
   "id": "3f3182e7-928c-4ab0-b005-9569b466bd1f",
   "metadata": {
    "tags": []
   },
   "outputs": [
    {
     "data": {
      "application/vnd.jupyter.widget-view+json": {
       "model_id": "d61d28d4e9ac490ebf6ac8125aa40df4",
       "version_major": 2,
       "version_minor": 0
      },
      "text/plain": [
       "  0%|          | 0/135 [00:00<?, ?it/s]"
      ]
     },
     "metadata": {},
     "output_type": "display_data"
    }
   ],
   "source": [
    "out = []\n",
    "for tile in tqdm(tiles):\n",
    "    features = eeconvert.gdfToFc(tile.to_crs(4326)[['id', 'geometry']])\n",
    "    collection = ee.ImageCollection('COPERNICUS/S2').filterBounds(features).filterDate('2020-04-15', '2020-09-01')\n",
    "    out.append(get_series(collection, features))"
   ]
  },
  {
   "cell_type": "code",
   "execution_count": 283,
   "id": "cc945e56-18a6-4309-82bd-29407b2e496b",
   "metadata": {},
   "outputs": [],
   "source": [
    "out = []\n",
    "for file in os.listdir('sentinel2020'):\n",
    "    out.append(pd.read_csv('sentinel2020/'+file))"
   ]
  },
  {
   "cell_type": "code",
   "execution_count": 284,
   "id": "d69cca4a-b543-4162-b990-00e38534d305",
   "metadata": {},
   "outputs": [],
   "source": [
    "data_sentinel = pd.concat(out)"
   ]
  },
  {
   "cell_type": "code",
   "execution_count": 291,
   "id": "54896e13-4c29-46a5-8893-b731346fb725",
   "metadata": {
    "tags": []
   },
   "outputs": [],
   "source": [
    "# data_prev = data_sentinel.iloc[:,1:56]\n",
    "# data_prev.columns = pd.to_datetime(data_prev.columns)\n",
    "# data_next = data_sentinel.iloc[:,58:]\n",
    "# data_next.columns = pd.to_datetime(data_next.columns) - pd.Timedelta(days=1)\n",
    "# data_prev.update(data_next)\n",
    "# data_prev['id'] = data_sentinel['id']"
   ]
  },
  {
   "cell_type": "code",
   "execution_count": 294,
   "id": "bda865c8-45d0-45f5-a770-1b6e67cbb660",
   "metadata": {},
   "outputs": [],
   "source": [
    "data_prev = data_sentinel.iloc[:,1:56]\n",
    "data_prev.columns = pd.to_datetime(data_prev.columns)\n",
    "data_next = data_sentinel.iloc[:,59:]\n",
    "data_next.columns = pd.to_datetime(data_next.columns) - pd.Timedelta(days=1)\n",
    "data_prev.update(data_next)\n",
    "data_prev['id'] = data_sentinel['id']"
   ]
  },
  {
   "cell_type": "code",
   "execution_count": 296,
   "id": "927d4c7a-3fb0-448e-95a8-cd4874691d10",
   "metadata": {},
   "outputs": [],
   "source": [
    "data_sentinel = data_prev.groupby('id').max().reset_index(drop=True).fillna(0)\n",
    "data_sentinel = data_sentinel.loc[data_cat['id'], sorted(data_sentinel.columns)]"
   ]
  },
  {
   "cell_type": "code",
   "execution_count": 298,
   "id": "677c31d2-af62-4d46-b0da-1212f461852b",
   "metadata": {},
   "outputs": [],
   "source": [
    "data_sentinel.iloc[:data.shape[0],:].to_csv('data/train_dataset_sentinel_2020.csv', index=False)\n",
    "data_sentinel.iloc[data.shape[0]:,:].to_csv('data/test_dataset_sentinel_2020.csv', index=False)"
   ]
  },
  {
   "cell_type": "code",
   "execution_count": null,
   "id": "2275c1ec-fce4-4e83-915c-78c362316176",
   "metadata": {},
   "outputs": [],
   "source": []
  }
 ],
 "metadata": {
  "kernelspec": {
   "display_name": "Python 3",
   "language": "python",
   "name": "python3"
  },
  "language_info": {
   "codemirror_mode": {
    "name": "ipython",
    "version": 3
   },
   "file_extension": ".py",
   "mimetype": "text/x-python",
   "name": "python",
   "nbconvert_exporter": "python",
   "pygments_lexer": "ipython3",
   "version": "3.9.4"
  },
  "widgets": {
   "application/vnd.jupyter.widget-state+json": {
    "state": {
     "0117354469394746921b992e2b699bf2": {
      "model_module": "@jupyter-widgets/base",
      "model_module_version": "1.2.0",
      "model_name": "LayoutModel",
      "state": {}
     },
     "019ed8b43db04a65903747dd71b2391e": {
      "model_module": "@jupyter-widgets/controls",
      "model_module_version": "1.5.0",
      "model_name": "DescriptionStyleModel",
      "state": {
       "description_width": ""
      }
     },
     "0625ea9ff5ad4a9ab50a5515858b997e": {
      "model_module": "@jupyter-widgets/controls",
      "model_module_version": "1.5.0",
      "model_name": "DescriptionStyleModel",
      "state": {
       "description_width": ""
      }
     },
     "07a8f46f527a4a32a8137ef3155e13b3": {
      "model_module": "@jupyter-widgets/controls",
      "model_module_version": "1.5.0",
      "model_name": "FloatProgressModel",
      "state": {
       "bar_style": "danger",
       "layout": "IPY_MODEL_ca686a3244b24ae98ab545c2e4ec3170",
       "max": 135,
       "style": "IPY_MODEL_169360014308454eb00d5f82998866de",
       "value": 17
      }
     },
     "07f164e1923746019612c3b670c2a797": {
      "model_module": "@jupyter-widgets/controls",
      "model_module_version": "1.5.0",
      "model_name": "HBoxModel",
      "state": {
       "children": [
        "IPY_MODEL_493cfc5ddfb74aa6a83cda6f047aa825",
        "IPY_MODEL_07a8f46f527a4a32a8137ef3155e13b3",
        "IPY_MODEL_382704ac79984eaa92906352df6b94e5"
       ],
       "layout": "IPY_MODEL_5fef099717804921ad78d5a0321dc180"
      }
     },
     "0a596ea19d27438e9bbc4401689fbadc": {
      "model_module": "@jupyter-widgets/base",
      "model_module_version": "1.2.0",
      "model_name": "LayoutModel",
      "state": {}
     },
     "0b4113683f9a4894a72b147d1566a8a0": {
      "model_module": "@jupyter-widgets/base",
      "model_module_version": "1.2.0",
      "model_name": "LayoutModel",
      "state": {}
     },
     "0b7ab3a2eaf547459f7e62eb6cb030c2": {
      "model_module": "@jupyter-widgets/controls",
      "model_module_version": "1.5.0",
      "model_name": "DescriptionStyleModel",
      "state": {
       "description_width": ""
      }
     },
     "0d72d0e2aafa4e7fbbea46b7f10aba11": {
      "model_module": "@jupyter-widgets/base",
      "model_module_version": "1.2.0",
      "model_name": "LayoutModel",
      "state": {}
     },
     "0e3de2a4d3134a16845532f62073f8bd": {
      "model_module": "@jupyter-widgets/controls",
      "model_module_version": "1.5.0",
      "model_name": "FloatProgressModel",
      "state": {
       "bar_style": "success",
       "layout": "IPY_MODEL_fc38f387df744a54b07d5945caa30824",
       "max": 187,
       "style": "IPY_MODEL_a85bb167b2924d779e471f70e0f0a49a",
       "value": 187
      }
     },
     "169360014308454eb00d5f82998866de": {
      "model_module": "@jupyter-widgets/controls",
      "model_module_version": "1.5.0",
      "model_name": "ProgressStyleModel",
      "state": {
       "description_width": ""
      }
     },
     "18c5aef1355948e288fc60f4c265cec5": {
      "model_module": "@jupyter-widgets/controls",
      "model_module_version": "1.5.0",
      "model_name": "DescriptionStyleModel",
      "state": {
       "description_width": ""
      }
     },
     "1d8909fa45434cba8f1cd24e784ba341": {
      "model_module": "@jupyter-widgets/controls",
      "model_module_version": "1.5.0",
      "model_name": "DescriptionStyleModel",
      "state": {
       "description_width": ""
      }
     },
     "22dbb0d024ba48ab86eb74a53d7ab55d": {
      "model_module": "@jupyter-widgets/controls",
      "model_module_version": "1.5.0",
      "model_name": "HTMLModel",
      "state": {
       "layout": "IPY_MODEL_e92dd01d63b84080976bd058bc1b33be",
       "style": "IPY_MODEL_b1ae3874b3794a5e83b762a4c1730c69",
       "value": " 26/187 [14:40&lt;1:09:12, 25.79s/it]"
      }
     },
     "248ab5e159904c34a8349dc14dc14ff4": {
      "model_module": "@jupyter-widgets/controls",
      "model_module_version": "1.5.0",
      "model_name": "HTMLModel",
      "state": {
       "layout": "IPY_MODEL_3b2a21ec3966417d849ca40f30f3aec8",
       "style": "IPY_MODEL_50c4080d283a43d3a30ed2d7f49f11c6",
       "value": "100%"
      }
     },
     "280ffa2f95164f9da7e56bbea74a3cfa": {
      "model_module": "@jupyter-widgets/controls",
      "model_module_version": "1.5.0",
      "model_name": "HTMLModel",
      "state": {
       "layout": "IPY_MODEL_f0f9d3e21b03493c8a333134ae24b134",
       "style": "IPY_MODEL_8ae4e5e8226647bdba3599716cfbdca6",
       "value": " 14%"
      }
     },
     "28961c4bf3c34f8b894de5dc40030352": {
      "model_module": "@jupyter-widgets/controls",
      "model_module_version": "1.5.0",
      "model_name": "ProgressStyleModel",
      "state": {
       "description_width": ""
      }
     },
     "2d901f8ce7e346829b0db5c38f3fc071": {
      "model_module": "@jupyter-widgets/base",
      "model_module_version": "1.2.0",
      "model_name": "LayoutModel",
      "state": {}
     },
     "31cc562c65bb41b38690d0dac74f7a47": {
      "model_module": "@jupyter-widgets/controls",
      "model_module_version": "1.5.0",
      "model_name": "ProgressStyleModel",
      "state": {
       "description_width": ""
      }
     },
     "32925d764f6d4af2aa76adeb431df502": {
      "model_module": "@jupyter-widgets/base",
      "model_module_version": "1.2.0",
      "model_name": "LayoutModel",
      "state": {}
     },
     "32a65fe845e743619f3d8af74be5c340": {
      "model_module": "@jupyter-widgets/controls",
      "model_module_version": "1.5.0",
      "model_name": "ProgressStyleModel",
      "state": {
       "description_width": ""
      }
     },
     "370c4b1efaca45b59c1e732a062c6364": {
      "model_module": "@jupyter-widgets/base",
      "model_module_version": "1.2.0",
      "model_name": "LayoutModel",
      "state": {}
     },
     "37dec38837ef4284bbd7c34b1dd3909f": {
      "model_module": "@jupyter-widgets/controls",
      "model_module_version": "1.5.0",
      "model_name": "DescriptionStyleModel",
      "state": {
       "description_width": ""
      }
     },
     "382704ac79984eaa92906352df6b94e5": {
      "model_module": "@jupyter-widgets/controls",
      "model_module_version": "1.5.0",
      "model_name": "HTMLModel",
      "state": {
       "layout": "IPY_MODEL_5776a26eca09438a940eb9f056b8e603",
       "style": "IPY_MODEL_c05662aba98549829d4002e9f9b6cee5",
       "value": " 17/135 [00:36&lt;03:51,  1.96s/it]"
      }
     },
     "386b26348dd2489993cc985610434e6b": {
      "model_module": "@jupyter-widgets/base",
      "model_module_version": "1.2.0",
      "model_name": "LayoutModel",
      "state": {}
     },
     "389d04dbc5e547fbb82b844fcf3d3014": {
      "model_module": "@jupyter-widgets/controls",
      "model_module_version": "1.5.0",
      "model_name": "HTMLModel",
      "state": {
       "layout": "IPY_MODEL_5b022707c1e34808a7a7901a28dbfabb",
       "style": "IPY_MODEL_faa7758af1c5422085f3609bf93ef6f2",
       "value": " 102/102 [07:47&lt;00:00,  2.75s/it]"
      }
     },
     "39a3805aafb54f7daebcc082b27e6541": {
      "model_module": "@jupyter-widgets/controls",
      "model_module_version": "1.5.0",
      "model_name": "FloatProgressModel",
      "state": {
       "bar_style": "success",
       "layout": "IPY_MODEL_0117354469394746921b992e2b699bf2",
       "max": 73,
       "style": "IPY_MODEL_df6732db6c80468ea5ee119f23fddca2",
       "value": 73
      }
     },
     "3b2a21ec3966417d849ca40f30f3aec8": {
      "model_module": "@jupyter-widgets/base",
      "model_module_version": "1.2.0",
      "model_name": "LayoutModel",
      "state": {}
     },
     "3c30829e280e42a0baf2b52935f313d1": {
      "model_module": "@jupyter-widgets/controls",
      "model_module_version": "1.5.0",
      "model_name": "FloatProgressModel",
      "state": {
       "bar_style": "danger",
       "layout": "IPY_MODEL_939deb9ccdb641be959684bbed1944a1",
       "max": 187,
       "style": "IPY_MODEL_9453f487c00b4902a4eed5cada34a5bc",
       "value": 26
      }
     },
     "43679da6c3324532952f242040a3f284": {
      "model_module": "@jupyter-widgets/controls",
      "model_module_version": "1.5.0",
      "model_name": "HTMLModel",
      "state": {
       "layout": "IPY_MODEL_32925d764f6d4af2aa76adeb431df502",
       "style": "IPY_MODEL_0b7ab3a2eaf547459f7e62eb6cb030c2",
       "value": " 73/73 [56:25&lt;00:00, 30.64s/it]"
      }
     },
     "43bb4b99fc0f4e81b37170c09a4e563c": {
      "model_module": "@jupyter-widgets/controls",
      "model_module_version": "1.5.0",
      "model_name": "HTMLModel",
      "state": {
       "layout": "IPY_MODEL_52eebf45a70c4b47aff93caa69540215",
       "style": "IPY_MODEL_f9dbcdc9e77c4545a393e8589d2ca0e1",
       "value": " 41%"
      }
     },
     "45556151564f4d62b33d76f8125678ce": {
      "model_module": "@jupyter-widgets/controls",
      "model_module_version": "1.5.0",
      "model_name": "HTMLModel",
      "state": {
       "layout": "IPY_MODEL_49c50353d5c74f95b0eb89df6143249e",
       "style": "IPY_MODEL_0625ea9ff5ad4a9ab50a5515858b997e",
       "value": " 187/187 [05:47&lt;00:00,  1.79it/s]"
      }
     },
     "4583fc7bcb18440d92dccb5b4d9537e0": {
      "model_module": "@jupyter-widgets/base",
      "model_module_version": "1.2.0",
      "model_name": "LayoutModel",
      "state": {}
     },
     "462e0490671b49b8942923b2d7fd1a1b": {
      "model_module": "@jupyter-widgets/controls",
      "model_module_version": "1.5.0",
      "model_name": "HTMLModel",
      "state": {
       "layout": "IPY_MODEL_dea97c69a3ba4a4f87b59d924457e9cd",
       "style": "IPY_MODEL_e05e0511ccdd46bba6e620fab0df5f24",
       "value": " 13%"
      }
     },
     "493cfc5ddfb74aa6a83cda6f047aa825": {
      "model_module": "@jupyter-widgets/controls",
      "model_module_version": "1.5.0",
      "model_name": "HTMLModel",
      "state": {
       "layout": "IPY_MODEL_9b1cdba9374d4507aa9cfeadcef4e9d8",
       "style": "IPY_MODEL_1d8909fa45434cba8f1cd24e784ba341",
       "value": " 13%"
      }
     },
     "49c50353d5c74f95b0eb89df6143249e": {
      "model_module": "@jupyter-widgets/base",
      "model_module_version": "1.2.0",
      "model_name": "LayoutModel",
      "state": {}
     },
     "4cfafa44f59041149facddf89e1f63eb": {
      "model_module": "@jupyter-widgets/controls",
      "model_module_version": "1.5.0",
      "model_name": "HTMLModel",
      "state": {
       "layout": "IPY_MODEL_ef38b21438d24506b7676b0e56a3aad2",
       "style": "IPY_MODEL_68d3710637894e2ba148710a9d6404b0",
       "value": " 18/135 [00:59&lt;18:24,  9.44s/it]"
      }
     },
     "4df60e086db34dfcb842d27d43e95ca8": {
      "model_module": "@jupyter-widgets/base",
      "model_module_version": "1.2.0",
      "model_name": "LayoutModel",
      "state": {}
     },
     "50c4080d283a43d3a30ed2d7f49f11c6": {
      "model_module": "@jupyter-widgets/controls",
      "model_module_version": "1.5.0",
      "model_name": "DescriptionStyleModel",
      "state": {
       "description_width": ""
      }
     },
     "52eebf45a70c4b47aff93caa69540215": {
      "model_module": "@jupyter-widgets/base",
      "model_module_version": "1.2.0",
      "model_name": "LayoutModel",
      "state": {}
     },
     "53843526a0b449169cefef3ecc2c3781": {
      "model_module": "@jupyter-widgets/controls",
      "model_module_version": "1.5.0",
      "model_name": "FloatProgressModel",
      "state": {
       "bar_style": "danger",
       "layout": "IPY_MODEL_ba39d534da2d44b1810f2554bf35b019",
       "max": 259,
       "style": "IPY_MODEL_d4d8df6fe4f546e8bc55ae9e66dddbeb",
       "value": 107
      }
     },
     "55cd3b169b46436e9d78164bbe9d5409": {
      "model_module": "@jupyter-widgets/base",
      "model_module_version": "1.2.0",
      "model_name": "LayoutModel",
      "state": {}
     },
     "5776a26eca09438a940eb9f056b8e603": {
      "model_module": "@jupyter-widgets/base",
      "model_module_version": "1.2.0",
      "model_name": "LayoutModel",
      "state": {}
     },
     "57f944f502e544a89013c31538e83467": {
      "model_module": "@jupyter-widgets/base",
      "model_module_version": "1.2.0",
      "model_name": "LayoutModel",
      "state": {}
     },
     "580e447fc9d545fb9379794119115c62": {
      "model_module": "@jupyter-widgets/controls",
      "model_module_version": "1.5.0",
      "model_name": "DescriptionStyleModel",
      "state": {
       "description_width": ""
      }
     },
     "5b022707c1e34808a7a7901a28dbfabb": {
      "model_module": "@jupyter-widgets/base",
      "model_module_version": "1.2.0",
      "model_name": "LayoutModel",
      "state": {}
     },
     "5baf0fe93e3d450cad6736e0b899b38a": {
      "model_module": "@jupyter-widgets/controls",
      "model_module_version": "1.5.0",
      "model_name": "HBoxModel",
      "state": {
       "children": [
        "IPY_MODEL_462e0490671b49b8942923b2d7fd1a1b",
        "IPY_MODEL_941af499582c4464ab00de15c786af62",
        "IPY_MODEL_4cfafa44f59041149facddf89e1f63eb"
       ],
       "layout": "IPY_MODEL_d5a2de254a7644e6ac77a76a1a09b78e"
      }
     },
     "5c96594b87bd4e369b97b81f204b6aed": {
      "model_module": "@jupyter-widgets/base",
      "model_module_version": "1.2.0",
      "model_name": "LayoutModel",
      "state": {}
     },
     "5ce5d615694b4ae1b71dc47a146ad358": {
      "model_module": "@jupyter-widgets/base",
      "model_module_version": "1.2.0",
      "model_name": "LayoutModel",
      "state": {}
     },
     "5d6b6e7e45c943748f4a38b91be50d64": {
      "model_module": "@jupyter-widgets/controls",
      "model_module_version": "1.5.0",
      "model_name": "HBoxModel",
      "state": {
       "children": [
        "IPY_MODEL_967ccaef7c7c4b939c007eca3ad5e415",
        "IPY_MODEL_afe102f22d884d6da6edd47f32d9335d",
        "IPY_MODEL_745d8f7ca0d149c481aaf74d0f9b3d30"
       ],
       "layout": "IPY_MODEL_7a4edcd420164561be199ad857d79d33"
      }
     },
     "5fef099717804921ad78d5a0321dc180": {
      "model_module": "@jupyter-widgets/base",
      "model_module_version": "1.2.0",
      "model_name": "LayoutModel",
      "state": {}
     },
     "65a722efac6e498080af5c91acad011d": {
      "model_module": "@jupyter-widgets/controls",
      "model_module_version": "1.5.0",
      "model_name": "HTMLModel",
      "state": {
       "layout": "IPY_MODEL_8d7ecd465246408dbe5e3f0227151b5e",
       "style": "IPY_MODEL_a676ea8ec48941aa97e0dd858ad14080",
       "value": " 107/259 [1:13:38&lt;4:22:54, 103.78s/it]"
      }
     },
     "68d3710637894e2ba148710a9d6404b0": {
      "model_module": "@jupyter-widgets/controls",
      "model_module_version": "1.5.0",
      "model_name": "DescriptionStyleModel",
      "state": {
       "description_width": ""
      }
     },
     "6d208097752a4b46b19b889183d85996": {
      "model_module": "@jupyter-widgets/controls",
      "model_module_version": "1.5.0",
      "model_name": "HBoxModel",
      "state": {
       "children": [
        "IPY_MODEL_f405480e90db44c7a59620823a3986f4",
        "IPY_MODEL_74318b596cd84a5ebb293e11e7f65bef",
        "IPY_MODEL_b1dd65bd542741d0ad02a8e35f869345"
       ],
       "layout": "IPY_MODEL_99dfeed7e3c548c3aeb4d4b690d201a1"
      }
     },
     "703b526a8061467face7151a2080400f": {
      "model_module": "@jupyter-widgets/controls",
      "model_module_version": "1.5.0",
      "model_name": "DescriptionStyleModel",
      "state": {
       "description_width": ""
      }
     },
     "730d0f23a5854cd0b6a7329d64ef21bb": {
      "model_module": "@jupyter-widgets/base",
      "model_module_version": "1.2.0",
      "model_name": "LayoutModel",
      "state": {}
     },
     "74318b596cd84a5ebb293e11e7f65bef": {
      "model_module": "@jupyter-widgets/controls",
      "model_module_version": "1.5.0",
      "model_name": "FloatProgressModel",
      "state": {
       "bar_style": "success",
       "layout": "IPY_MODEL_cdb7e88362c64068826c254274fdea28",
       "max": 102,
       "style": "IPY_MODEL_d7fc6f1ea190407f846ea73d384d83a4",
       "value": 102
      }
     },
     "745d8f7ca0d149c481aaf74d0f9b3d30": {
      "model_module": "@jupyter-widgets/controls",
      "model_module_version": "1.5.0",
      "model_name": "HTMLModel",
      "state": {
       "layout": "IPY_MODEL_f54d05bc25a543d0999edbdbc0486717",
       "style": "IPY_MODEL_18c5aef1355948e288fc60f4c265cec5",
       "value": " 0/187 [00:00&lt;?, ?it/s]"
      }
     },
     "751613ae6b8c44539f7cf519de35c807": {
      "model_module": "@jupyter-widgets/base",
      "model_module_version": "1.2.0",
      "model_name": "LayoutModel",
      "state": {}
     },
     "79d22bf46abc4c3488f1f380a2bbc851": {
      "model_module": "@jupyter-widgets/controls",
      "model_module_version": "1.5.0",
      "model_name": "HBoxModel",
      "state": {
       "children": [
        "IPY_MODEL_f2d896e639644904a3ec3587af8ab169",
        "IPY_MODEL_0e3de2a4d3134a16845532f62073f8bd",
        "IPY_MODEL_45556151564f4d62b33d76f8125678ce"
       ],
       "layout": "IPY_MODEL_370c4b1efaca45b59c1e732a062c6364"
      }
     },
     "7a4edcd420164561be199ad857d79d33": {
      "model_module": "@jupyter-widgets/base",
      "model_module_version": "1.2.0",
      "model_name": "LayoutModel",
      "state": {}
     },
     "7e187c4df5bc444daa4dd515633e5a87": {
      "model_module": "@jupyter-widgets/base",
      "model_module_version": "1.2.0",
      "model_name": "LayoutModel",
      "state": {}
     },
     "7edf23fd46304f529a469ab97ba65f58": {
      "model_module": "@jupyter-widgets/controls",
      "model_module_version": "1.5.0",
      "model_name": "HTMLModel",
      "state": {
       "layout": "IPY_MODEL_ff86fcc4968b48e4b43a7fed133fa0e6",
       "style": "IPY_MODEL_f0628c68cb3e407abd1b258d280516b3",
       "value": " 187/187 [01:14&lt;00:00, 10.19it/s]"
      }
     },
     "7efae40b8bff40c5b7adb87fce78c056": {
      "model_module": "@jupyter-widgets/base",
      "model_module_version": "1.2.0",
      "model_name": "LayoutModel",
      "state": {}
     },
     "81fe8afdb29e459bbd92f06e801e71a9": {
      "model_module": "@jupyter-widgets/controls",
      "model_module_version": "1.5.0",
      "model_name": "HBoxModel",
      "state": {
       "children": [
        "IPY_MODEL_280ffa2f95164f9da7e56bbea74a3cfa",
        "IPY_MODEL_3c30829e280e42a0baf2b52935f313d1",
        "IPY_MODEL_e69ac9234aea4aa7a391a5ec474c26c7"
       ],
       "layout": "IPY_MODEL_57f944f502e544a89013c31538e83467"
      }
     },
     "832dfa367aca45c79c97d8b19519351c": {
      "model_module": "@jupyter-widgets/controls",
      "model_module_version": "1.5.0",
      "model_name": "HTMLModel",
      "state": {
       "layout": "IPY_MODEL_a33c8628a2eb4cc0813ef1a60bff3833",
       "style": "IPY_MODEL_bddd2f0237f149818ae548a431a8255f",
       "value": " 135/135 [05:37&lt;00:00,  1.83it/s]"
      }
     },
     "848369cbcab6469db74b1e9d3fb471ac": {
      "model_module": "@jupyter-widgets/controls",
      "model_module_version": "1.5.0",
      "model_name": "HTMLModel",
      "state": {
       "layout": "IPY_MODEL_4df60e086db34dfcb842d27d43e95ca8",
       "style": "IPY_MODEL_eeeb6ededfef44ec9460b9d973743b48",
       "value": "100%"
      }
     },
     "848844892e1d4e9a82e98f63a835d27c": {
      "model_module": "@jupyter-widgets/controls",
      "model_module_version": "1.5.0",
      "model_name": "HTMLModel",
      "state": {
       "layout": "IPY_MODEL_8d59898b4d404145a5674d3c783fb3ba",
       "style": "IPY_MODEL_703b526a8061467face7151a2080400f",
       "value": "100%"
      }
     },
     "8655453d59694088895b0b5754075c8f": {
      "model_module": "@jupyter-widgets/controls",
      "model_module_version": "1.5.0",
      "model_name": "HBoxModel",
      "state": {
       "children": [
        "IPY_MODEL_43bb4b99fc0f4e81b37170c09a4e563c",
        "IPY_MODEL_53843526a0b449169cefef3ecc2c3781",
        "IPY_MODEL_65a722efac6e498080af5c91acad011d"
       ],
       "layout": "IPY_MODEL_b89e75a492164091a195e68ad5dd65dd"
      }
     },
     "89a3a24e5a9340f89a346434dec2a8db": {
      "model_module": "@jupyter-widgets/base",
      "model_module_version": "1.2.0",
      "model_name": "LayoutModel",
      "state": {}
     },
     "8a415a5eec414392a34476b4d0aa3f1a": {
      "model_module": "@jupyter-widgets/controls",
      "model_module_version": "1.5.0",
      "model_name": "HBoxModel",
      "state": {
       "children": [
        "IPY_MODEL_848844892e1d4e9a82e98f63a835d27c",
        "IPY_MODEL_bf00bfd39bca485b9e696b9414b79187",
        "IPY_MODEL_389d04dbc5e547fbb82b844fcf3d3014"
       ],
       "layout": "IPY_MODEL_dbf6f926fabe411b98ba051e048798ed"
      }
     },
     "8ae4e5e8226647bdba3599716cfbdca6": {
      "model_module": "@jupyter-widgets/controls",
      "model_module_version": "1.5.0",
      "model_name": "DescriptionStyleModel",
      "state": {
       "description_width": ""
      }
     },
     "8b70e63b30ea4ff89f7a338536fd64ac": {
      "model_module": "@jupyter-widgets/controls",
      "model_module_version": "1.5.0",
      "model_name": "HBoxModel",
      "state": {
       "children": [
        "IPY_MODEL_b17cf0ee428c4a24be185aacd568c4be",
        "IPY_MODEL_39a3805aafb54f7daebcc082b27e6541",
        "IPY_MODEL_43679da6c3324532952f242040a3f284"
       ],
       "layout": "IPY_MODEL_0b4113683f9a4894a72b147d1566a8a0"
      }
     },
     "8c41f68d89534fd9a93ab7aa81be2e79": {
      "model_module": "@jupyter-widgets/base",
      "model_module_version": "1.2.0",
      "model_name": "LayoutModel",
      "state": {}
     },
     "8d59898b4d404145a5674d3c783fb3ba": {
      "model_module": "@jupyter-widgets/base",
      "model_module_version": "1.2.0",
      "model_name": "LayoutModel",
      "state": {}
     },
     "8d7ecd465246408dbe5e3f0227151b5e": {
      "model_module": "@jupyter-widgets/base",
      "model_module_version": "1.2.0",
      "model_name": "LayoutModel",
      "state": {}
     },
     "929e1d73fb9745c9a3faf2eef23f9a25": {
      "model_module": "@jupyter-widgets/controls",
      "model_module_version": "1.5.0",
      "model_name": "ProgressStyleModel",
      "state": {
       "description_width": ""
      }
     },
     "939deb9ccdb641be959684bbed1944a1": {
      "model_module": "@jupyter-widgets/base",
      "model_module_version": "1.2.0",
      "model_name": "LayoutModel",
      "state": {}
     },
     "9418709d0ab645dda93fe47f3bbcbb3a": {
      "model_module": "@jupyter-widgets/base",
      "model_module_version": "1.2.0",
      "model_name": "LayoutModel",
      "state": {}
     },
     "941af499582c4464ab00de15c786af62": {
      "model_module": "@jupyter-widgets/controls",
      "model_module_version": "1.5.0",
      "model_name": "FloatProgressModel",
      "state": {
       "bar_style": "danger",
       "layout": "IPY_MODEL_2d901f8ce7e346829b0db5c38f3fc071",
       "max": 135,
       "style": "IPY_MODEL_a5e0766fb80b4a5a93ec0a1d8044083b",
       "value": 18
      }
     },
     "9453f487c00b4902a4eed5cada34a5bc": {
      "model_module": "@jupyter-widgets/controls",
      "model_module_version": "1.5.0",
      "model_name": "ProgressStyleModel",
      "state": {
       "description_width": ""
      }
     },
     "95b7f2d54b774113ae2873e02770b310": {
      "model_module": "@jupyter-widgets/base",
      "model_module_version": "1.2.0",
      "model_name": "LayoutModel",
      "state": {}
     },
     "967ccaef7c7c4b939c007eca3ad5e415": {
      "model_module": "@jupyter-widgets/controls",
      "model_module_version": "1.5.0",
      "model_name": "HTMLModel",
      "state": {
       "layout": "IPY_MODEL_8c41f68d89534fd9a93ab7aa81be2e79",
       "style": "IPY_MODEL_019ed8b43db04a65903747dd71b2391e",
       "value": "  0%"
      }
     },
     "98fa547378d742838d031b454c886f45": {
      "model_module": "@jupyter-widgets/controls",
      "model_module_version": "1.5.0",
      "model_name": "DescriptionStyleModel",
      "state": {
       "description_width": ""
      }
     },
     "99dfeed7e3c548c3aeb4d4b690d201a1": {
      "model_module": "@jupyter-widgets/base",
      "model_module_version": "1.2.0",
      "model_name": "LayoutModel",
      "state": {}
     },
     "9b1cdba9374d4507aa9cfeadcef4e9d8": {
      "model_module": "@jupyter-widgets/base",
      "model_module_version": "1.2.0",
      "model_name": "LayoutModel",
      "state": {}
     },
     "a33c8628a2eb4cc0813ef1a60bff3833": {
      "model_module": "@jupyter-widgets/base",
      "model_module_version": "1.2.0",
      "model_name": "LayoutModel",
      "state": {}
     },
     "a5e0766fb80b4a5a93ec0a1d8044083b": {
      "model_module": "@jupyter-widgets/controls",
      "model_module_version": "1.5.0",
      "model_name": "ProgressStyleModel",
      "state": {
       "description_width": ""
      }
     },
     "a676ea8ec48941aa97e0dd858ad14080": {
      "model_module": "@jupyter-widgets/controls",
      "model_module_version": "1.5.0",
      "model_name": "DescriptionStyleModel",
      "state": {
       "description_width": ""
      }
     },
     "a85bb167b2924d779e471f70e0f0a49a": {
      "model_module": "@jupyter-widgets/controls",
      "model_module_version": "1.5.0",
      "model_name": "ProgressStyleModel",
      "state": {
       "description_width": ""
      }
     },
     "af75947854d045a08a8ceb721fe06e4b": {
      "model_module": "@jupyter-widgets/controls",
      "model_module_version": "1.5.0",
      "model_name": "FloatProgressModel",
      "state": {
       "bar_style": "danger",
       "layout": "IPY_MODEL_9418709d0ab645dda93fe47f3bbcbb3a",
       "max": 187,
       "style": "IPY_MODEL_ecd660f9c5e045e48d33edec19563f4a",
       "value": 26
      }
     },
     "afe102f22d884d6da6edd47f32d9335d": {
      "model_module": "@jupyter-widgets/controls",
      "model_module_version": "1.5.0",
      "model_name": "FloatProgressModel",
      "state": {
       "bar_style": "danger",
       "layout": "IPY_MODEL_cf4360004b3944bd900ba1e4da644b44",
       "max": 187,
       "style": "IPY_MODEL_31cc562c65bb41b38690d0dac74f7a47"
      }
     },
     "b0fd6a11eccf4095a608f92ea5e7a10d": {
      "model_module": "@jupyter-widgets/controls",
      "model_module_version": "1.5.0",
      "model_name": "HTMLModel",
      "state": {
       "layout": "IPY_MODEL_4583fc7bcb18440d92dccb5b4d9537e0",
       "style": "IPY_MODEL_fd2147a2cb8a4a4a8ca2cc79a9dfaf61",
       "value": " 135/135 [08:08&lt;00:00,  1.42it/s]"
      }
     },
     "b17cf0ee428c4a24be185aacd568c4be": {
      "model_module": "@jupyter-widgets/controls",
      "model_module_version": "1.5.0",
      "model_name": "HTMLModel",
      "state": {
       "layout": "IPY_MODEL_95b7f2d54b774113ae2873e02770b310",
       "style": "IPY_MODEL_98fa547378d742838d031b454c886f45",
       "value": "100%"
      }
     },
     "b1ae3874b3794a5e83b762a4c1730c69": {
      "model_module": "@jupyter-widgets/controls",
      "model_module_version": "1.5.0",
      "model_name": "DescriptionStyleModel",
      "state": {
       "description_width": ""
      }
     },
     "b1dd65bd542741d0ad02a8e35f869345": {
      "model_module": "@jupyter-widgets/controls",
      "model_module_version": "1.5.0",
      "model_name": "HTMLModel",
      "state": {
       "layout": "IPY_MODEL_0d72d0e2aafa4e7fbbea46b7f10aba11",
       "style": "IPY_MODEL_37dec38837ef4284bbd7c34b1dd3909f",
       "value": " 102/102 [23:39&lt;00:00, 11.11s/it]"
      }
     },
     "b89e75a492164091a195e68ad5dd65dd": {
      "model_module": "@jupyter-widgets/base",
      "model_module_version": "1.2.0",
      "model_name": "LayoutModel",
      "state": {}
     },
     "b9d793f494d5496390fbc5ead7517e19": {
      "model_module": "@jupyter-widgets/controls",
      "model_module_version": "1.5.0",
      "model_name": "HTMLModel",
      "state": {
       "layout": "IPY_MODEL_89a3a24e5a9340f89a346434dec2a8db",
       "style": "IPY_MODEL_d55284980c204a59a12ef9121783f01c",
       "value": "100%"
      }
     },
     "ba39d534da2d44b1810f2554bf35b019": {
      "model_module": "@jupyter-widgets/base",
      "model_module_version": "1.2.0",
      "model_name": "LayoutModel",
      "state": {}
     },
     "ba582e20a0bf44b0976bb37e965710d1": {
      "model_module": "@jupyter-widgets/controls",
      "model_module_version": "1.5.0",
      "model_name": "HBoxModel",
      "state": {
       "children": [
        "IPY_MODEL_848369cbcab6469db74b1e9d3fb471ac",
        "IPY_MODEL_e741442aae6c41cd9417dcfc293b5890",
        "IPY_MODEL_7edf23fd46304f529a469ab97ba65f58"
       ],
       "layout": "IPY_MODEL_5c96594b87bd4e369b97b81f204b6aed"
      }
     },
     "bc39005e051145cb832dbeff156bf68b": {
      "model_module": "@jupyter-widgets/base",
      "model_module_version": "1.2.0",
      "model_name": "LayoutModel",
      "state": {}
     },
     "bddd2f0237f149818ae548a431a8255f": {
      "model_module": "@jupyter-widgets/controls",
      "model_module_version": "1.5.0",
      "model_name": "DescriptionStyleModel",
      "state": {
       "description_width": ""
      }
     },
     "bf00bfd39bca485b9e696b9414b79187": {
      "model_module": "@jupyter-widgets/controls",
      "model_module_version": "1.5.0",
      "model_name": "FloatProgressModel",
      "state": {
       "bar_style": "success",
       "layout": "IPY_MODEL_7efae40b8bff40c5b7adb87fce78c056",
       "max": 102,
       "style": "IPY_MODEL_929e1d73fb9745c9a3faf2eef23f9a25",
       "value": 102
      }
     },
     "c05662aba98549829d4002e9f9b6cee5": {
      "model_module": "@jupyter-widgets/controls",
      "model_module_version": "1.5.0",
      "model_name": "DescriptionStyleModel",
      "state": {
       "description_width": ""
      }
     },
     "c89fc39737584ef8a70ad504f13da04a": {
      "model_module": "@jupyter-widgets/controls",
      "model_module_version": "1.5.0",
      "model_name": "HBoxModel",
      "state": {
       "children": [
        "IPY_MODEL_ed8c76c8db4e4bb3b4c30877938983f1",
        "IPY_MODEL_af75947854d045a08a8ceb721fe06e4b",
        "IPY_MODEL_22dbb0d024ba48ab86eb74a53d7ab55d"
       ],
       "layout": "IPY_MODEL_0a596ea19d27438e9bbc4401689fbadc"
      }
     },
     "ca686a3244b24ae98ab545c2e4ec3170": {
      "model_module": "@jupyter-widgets/base",
      "model_module_version": "1.2.0",
      "model_name": "LayoutModel",
      "state": {}
     },
     "cd3e756521ee49efb826e1c59bc173c6": {
      "model_module": "@jupyter-widgets/controls",
      "model_module_version": "1.5.0",
      "model_name": "FloatProgressModel",
      "state": {
       "bar_style": "success",
       "layout": "IPY_MODEL_386b26348dd2489993cc985610434e6b",
       "max": 135,
       "style": "IPY_MODEL_e7825293f16848f0bca62a6f3f9e8d72",
       "value": 135
      }
     },
     "cdb7e88362c64068826c254274fdea28": {
      "model_module": "@jupyter-widgets/base",
      "model_module_version": "1.2.0",
      "model_name": "LayoutModel",
      "state": {}
     },
     "cf4360004b3944bd900ba1e4da644b44": {
      "model_module": "@jupyter-widgets/base",
      "model_module_version": "1.2.0",
      "model_name": "LayoutModel",
      "state": {}
     },
     "d08c30cc14b241b6941d5732b1c4cb44": {
      "model_module": "@jupyter-widgets/controls",
      "model_module_version": "1.5.0",
      "model_name": "FloatProgressModel",
      "state": {
       "bar_style": "success",
       "layout": "IPY_MODEL_ee2ac11493df4bc49c2be5c66e97e3fa",
       "max": 135,
       "style": "IPY_MODEL_28961c4bf3c34f8b894de5dc40030352",
       "value": 135
      }
     },
     "d4d8df6fe4f546e8bc55ae9e66dddbeb": {
      "model_module": "@jupyter-widgets/controls",
      "model_module_version": "1.5.0",
      "model_name": "ProgressStyleModel",
      "state": {
       "description_width": ""
      }
     },
     "d55284980c204a59a12ef9121783f01c": {
      "model_module": "@jupyter-widgets/controls",
      "model_module_version": "1.5.0",
      "model_name": "DescriptionStyleModel",
      "state": {
       "description_width": ""
      }
     },
     "d5a2de254a7644e6ac77a76a1a09b78e": {
      "model_module": "@jupyter-widgets/base",
      "model_module_version": "1.2.0",
      "model_name": "LayoutModel",
      "state": {}
     },
     "d61d28d4e9ac490ebf6ac8125aa40df4": {
      "model_module": "@jupyter-widgets/controls",
      "model_module_version": "1.5.0",
      "model_name": "HBoxModel",
      "state": {
       "children": [
        "IPY_MODEL_b9d793f494d5496390fbc5ead7517e19",
        "IPY_MODEL_d08c30cc14b241b6941d5732b1c4cb44",
        "IPY_MODEL_b0fd6a11eccf4095a608f92ea5e7a10d"
       ],
       "layout": "IPY_MODEL_5ce5d615694b4ae1b71dc47a146ad358"
      }
     },
     "d7fc6f1ea190407f846ea73d384d83a4": {
      "model_module": "@jupyter-widgets/controls",
      "model_module_version": "1.5.0",
      "model_name": "ProgressStyleModel",
      "state": {
       "description_width": ""
      }
     },
     "dbf6f926fabe411b98ba051e048798ed": {
      "model_module": "@jupyter-widgets/base",
      "model_module_version": "1.2.0",
      "model_name": "LayoutModel",
      "state": {}
     },
     "dea97c69a3ba4a4f87b59d924457e9cd": {
      "model_module": "@jupyter-widgets/base",
      "model_module_version": "1.2.0",
      "model_name": "LayoutModel",
      "state": {}
     },
     "df6732db6c80468ea5ee119f23fddca2": {
      "model_module": "@jupyter-widgets/controls",
      "model_module_version": "1.5.0",
      "model_name": "ProgressStyleModel",
      "state": {
       "description_width": ""
      }
     },
     "e05e0511ccdd46bba6e620fab0df5f24": {
      "model_module": "@jupyter-widgets/controls",
      "model_module_version": "1.5.0",
      "model_name": "DescriptionStyleModel",
      "state": {
       "description_width": ""
      }
     },
     "e1a224507c3e46699cc05f179117eac9": {
      "model_module": "@jupyter-widgets/controls",
      "model_module_version": "1.5.0",
      "model_name": "DescriptionStyleModel",
      "state": {
       "description_width": ""
      }
     },
     "e3702eef8afd4711b79986961ad9bf9c": {
      "model_module": "@jupyter-widgets/controls",
      "model_module_version": "1.5.0",
      "model_name": "DescriptionStyleModel",
      "state": {
       "description_width": ""
      }
     },
     "e69ac9234aea4aa7a391a5ec474c26c7": {
      "model_module": "@jupyter-widgets/controls",
      "model_module_version": "1.5.0",
      "model_name": "HTMLModel",
      "state": {
       "layout": "IPY_MODEL_e8122eddd9554511996532d75d145d35",
       "style": "IPY_MODEL_580e447fc9d545fb9379794119115c62",
       "value": " 26/187 [19:06&lt;1:16:16, 28.43s/it]"
      }
     },
     "e741442aae6c41cd9417dcfc293b5890": {
      "model_module": "@jupyter-widgets/controls",
      "model_module_version": "1.5.0",
      "model_name": "FloatProgressModel",
      "state": {
       "bar_style": "success",
       "layout": "IPY_MODEL_751613ae6b8c44539f7cf519de35c807",
       "max": 187,
       "style": "IPY_MODEL_32a65fe845e743619f3d8af74be5c340",
       "value": 187
      }
     },
     "e7825293f16848f0bca62a6f3f9e8d72": {
      "model_module": "@jupyter-widgets/controls",
      "model_module_version": "1.5.0",
      "model_name": "ProgressStyleModel",
      "state": {
       "description_width": ""
      }
     },
     "e8122eddd9554511996532d75d145d35": {
      "model_module": "@jupyter-widgets/base",
      "model_module_version": "1.2.0",
      "model_name": "LayoutModel",
      "state": {}
     },
     "e8c0b7b5e007401a9aec7fd309a1ed1e": {
      "model_module": "@jupyter-widgets/controls",
      "model_module_version": "1.5.0",
      "model_name": "HBoxModel",
      "state": {
       "children": [
        "IPY_MODEL_248ab5e159904c34a8349dc14dc14ff4",
        "IPY_MODEL_cd3e756521ee49efb826e1c59bc173c6",
        "IPY_MODEL_832dfa367aca45c79c97d8b19519351c"
       ],
       "layout": "IPY_MODEL_bc39005e051145cb832dbeff156bf68b"
      }
     },
     "e92dd01d63b84080976bd058bc1b33be": {
      "model_module": "@jupyter-widgets/base",
      "model_module_version": "1.2.0",
      "model_name": "LayoutModel",
      "state": {}
     },
     "ecd660f9c5e045e48d33edec19563f4a": {
      "model_module": "@jupyter-widgets/controls",
      "model_module_version": "1.5.0",
      "model_name": "ProgressStyleModel",
      "state": {
       "description_width": ""
      }
     },
     "ed8c76c8db4e4bb3b4c30877938983f1": {
      "model_module": "@jupyter-widgets/controls",
      "model_module_version": "1.5.0",
      "model_name": "HTMLModel",
      "state": {
       "layout": "IPY_MODEL_7e187c4df5bc444daa4dd515633e5a87",
       "style": "IPY_MODEL_f2a8f1d2f1254d30a31b806bb1fdd108",
       "value": " 14%"
      }
     },
     "ee2ac11493df4bc49c2be5c66e97e3fa": {
      "model_module": "@jupyter-widgets/base",
      "model_module_version": "1.2.0",
      "model_name": "LayoutModel",
      "state": {}
     },
     "eeeb6ededfef44ec9460b9d973743b48": {
      "model_module": "@jupyter-widgets/controls",
      "model_module_version": "1.5.0",
      "model_name": "DescriptionStyleModel",
      "state": {
       "description_width": ""
      }
     },
     "ef38b21438d24506b7676b0e56a3aad2": {
      "model_module": "@jupyter-widgets/base",
      "model_module_version": "1.2.0",
      "model_name": "LayoutModel",
      "state": {}
     },
     "f0628c68cb3e407abd1b258d280516b3": {
      "model_module": "@jupyter-widgets/controls",
      "model_module_version": "1.5.0",
      "model_name": "DescriptionStyleModel",
      "state": {
       "description_width": ""
      }
     },
     "f0f9d3e21b03493c8a333134ae24b134": {
      "model_module": "@jupyter-widgets/base",
      "model_module_version": "1.2.0",
      "model_name": "LayoutModel",
      "state": {}
     },
     "f2a8f1d2f1254d30a31b806bb1fdd108": {
      "model_module": "@jupyter-widgets/controls",
      "model_module_version": "1.5.0",
      "model_name": "DescriptionStyleModel",
      "state": {
       "description_width": ""
      }
     },
     "f2d896e639644904a3ec3587af8ab169": {
      "model_module": "@jupyter-widgets/controls",
      "model_module_version": "1.5.0",
      "model_name": "HTMLModel",
      "state": {
       "layout": "IPY_MODEL_55cd3b169b46436e9d78164bbe9d5409",
       "style": "IPY_MODEL_e1a224507c3e46699cc05f179117eac9",
       "value": "100%"
      }
     },
     "f405480e90db44c7a59620823a3986f4": {
      "model_module": "@jupyter-widgets/controls",
      "model_module_version": "1.5.0",
      "model_name": "HTMLModel",
      "state": {
       "layout": "IPY_MODEL_730d0f23a5854cd0b6a7329d64ef21bb",
       "style": "IPY_MODEL_e3702eef8afd4711b79986961ad9bf9c",
       "value": "100%"
      }
     },
     "f54d05bc25a543d0999edbdbc0486717": {
      "model_module": "@jupyter-widgets/base",
      "model_module_version": "1.2.0",
      "model_name": "LayoutModel",
      "state": {}
     },
     "f9dbcdc9e77c4545a393e8589d2ca0e1": {
      "model_module": "@jupyter-widgets/controls",
      "model_module_version": "1.5.0",
      "model_name": "DescriptionStyleModel",
      "state": {
       "description_width": ""
      }
     },
     "faa7758af1c5422085f3609bf93ef6f2": {
      "model_module": "@jupyter-widgets/controls",
      "model_module_version": "1.5.0",
      "model_name": "DescriptionStyleModel",
      "state": {
       "description_width": ""
      }
     },
     "fc38f387df744a54b07d5945caa30824": {
      "model_module": "@jupyter-widgets/base",
      "model_module_version": "1.2.0",
      "model_name": "LayoutModel",
      "state": {}
     },
     "fd2147a2cb8a4a4a8ca2cc79a9dfaf61": {
      "model_module": "@jupyter-widgets/controls",
      "model_module_version": "1.5.0",
      "model_name": "DescriptionStyleModel",
      "state": {
       "description_width": ""
      }
     },
     "ff86fcc4968b48e4b43a7fed133fa0e6": {
      "model_module": "@jupyter-widgets/base",
      "model_module_version": "1.2.0",
      "model_name": "LayoutModel",
      "state": {}
     }
    },
    "version_major": 2,
    "version_minor": 0
   }
  }
 },
 "nbformat": 4,
 "nbformat_minor": 5
}
