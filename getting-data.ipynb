{
 "cells": [
  {
   "cell_type": "markdown",
   "id": "785b889f-489a-4c47-b320-55f1d91cede4",
   "metadata": {
    "tags": []
   },
   "source": [
    "# Google Earth Engine"
   ]
  },
  {
   "cell_type": "code",
   "execution_count": 1,
   "id": "c1a31d07-861a-404a-a538-0145c26992b5",
   "metadata": {},
   "outputs": [],
   "source": [
    "import os, datetime\n",
    "from tqdm.notebook import tqdm\n",
    "\n",
    "import numpy as np\n",
    "import pandas as pd\n",
    "import matplotlib.pyplot as plt\n",
    "import geopandas as gpd\n",
    "import geojson\n",
    "import shapely\n",
    "import shapely.geometry"
   ]
  },
  {
   "cell_type": "code",
   "execution_count": 2,
   "id": "91ab6c31-0f99-4f77-84e7-0df39671c603",
   "metadata": {},
   "outputs": [],
   "source": [
    "import eeconvert"
   ]
  },
  {
   "cell_type": "code",
   "execution_count": 3,
   "id": "a82fc4aa-1966-4689-a393-981b3823e585",
   "metadata": {},
   "outputs": [],
   "source": [
    "from src import *\n",
    "data = read_data('data/train_dataset_train_2.csv')\n",
    "data_test = read_data('data/test_dataset_test_2.csv')"
   ]
  },
  {
   "cell_type": "code",
   "execution_count": 4,
   "id": "a8fa5ca0-5c32-4607-8091-04364fef4f5b",
   "metadata": {},
   "outputs": [],
   "source": [
    "data_cat = pd.concat((data, data_test), axis=0)"
   ]
  },
  {
   "cell_type": "code",
   "execution_count": 5,
   "id": "39a875be-b323-499b-b28f-812a6feb376c",
   "metadata": {},
   "outputs": [
    {
     "data": {
      "text/html": [
       "<p>To authorize access needed by Earth Engine, open the following\n",
       "        URL in a web browser and follow the instructions:</p>\n",
       "        <p><a href=https://code.earthengine.google.com/client-auth?scopes=https%3A//www.googleapis.com/auth/earthengine%20https%3A//www.googleapis.com/auth/devstorage.full_control&request_id=n7U9mWPIm99fz_raixpN9ZUTibVQ7Xx083ICPgA5d5Y&tc=xUEE-MXPAYjyw1x-CULV5pC4zn702qBTUbhoYcCuHEM&cc=Hln-ACeLVqr3k_Src8V0Tt0Lb2b2RmdqdEBYZVcp_Fs>https://code.earthengine.google.com/client-auth?scopes=https%3A//www.googleapis.com/auth/earthengine%20https%3A//www.googleapis.com/auth/devstorage.full_control&request_id=n7U9mWPIm99fz_raixpN9ZUTibVQ7Xx083ICPgA5d5Y&tc=xUEE-MXPAYjyw1x-CULV5pC4zn702qBTUbhoYcCuHEM&cc=Hln-ACeLVqr3k_Src8V0Tt0Lb2b2RmdqdEBYZVcp_Fs</a></p>\n",
       "        <p>The authorization workflow will generate a code, which you should paste in the box below.</p>\n",
       "        "
      ],
      "text/plain": [
       "<IPython.core.display.HTML object>"
      ]
     },
     "metadata": {},
     "output_type": "display_data"
    },
    {
     "name": "stdin",
     "output_type": "stream",
     "text": [
      "Enter verification code:  4/1AfgeXvsLsNslzB0gZ1VTPDzip6SP_TeiMGGwMWFIoFWNbJbtTENyZdo7UPY\n"
     ]
    },
    {
     "name": "stdout",
     "output_type": "stream",
     "text": [
      "\n",
      "Successfully saved authorization token.\n"
     ]
    }
   ],
   "source": [
    "import ee\n",
    "ee.Authenticate()"
   ]
  },
  {
   "cell_type": "code",
   "execution_count": 6,
   "id": "7c635e10-b95b-4cf6-a520-94e80f18e991",
   "metadata": {},
   "outputs": [],
   "source": [
    "ee.Initialize()"
   ]
  },
  {
   "cell_type": "markdown",
   "id": "3158bac2-185e-4018-8302-f6c8670f55db",
   "metadata": {
    "jp-MarkdownHeadingCollapsed": true,
    "tags": []
   },
   "source": [
    "## landsat"
   ]
  },
  {
   "cell_type": "code",
   "execution_count": 7,
   "id": "8613f0c6-f0ad-47a7-a0e6-2e8feac4b692",
   "metadata": {
    "tags": []
   },
   "outputs": [],
   "source": [
    "def get_series(collection, features):\n",
    "    \"\"\"https://stackoverflow.com/questions/47633088/get-results-in-an-earth-engine-python-script\"\"\"\n",
    "    def GetSeries(feature):\n",
    "        def NDVIcalc(img):\n",
    "            return feature.set(img.reduceRegion(ee.Reducer.median(), feature.geometry(), 30)).set('date', img.date().format(\"YYYY/MM/dd\"))\n",
    "\n",
    "        series = collection.map(NDVIcalc)\n",
    "\n",
    "        list_ = series.reduceColumns(ee.Reducer.toList(2), ['date', 'NDVI']).get('list')\n",
    "        return feature.set(ee.Dictionary(ee.List(list_).flatten()))\n",
    "\n",
    "    result = features.map(GetSeries).getInfo()\n",
    "    return pd.DataFrame([i['properties'] for i in result['features']])"
   ]
  },
  {
   "cell_type": "code",
   "execution_count": 8,
   "id": "140e4b5c-8ac3-4df6-93ff-a8a15175cd68",
   "metadata": {},
   "outputs": [],
   "source": [
    "# https://mgimond.github.io/ArcGIS_tutorials/Download_landsat.htm\n",
    "grid = gpd.read_file('grid/wrs2.shp')\n",
    "data_grid = data_cat.sjoin(grid[['PATH', 'ROW', 'geometry']], how='left')\n",
    "gb = data_grid.groupby(['PATH', 'ROW'])\n",
    "tiles = [gb.get_group(x) for x in gb.groups]"
   ]
  },
  {
   "cell_type": "code",
   "execution_count": 9,
   "id": "1c7177b8-f28d-4534-9307-4011e225ea4a",
   "metadata": {},
   "outputs": [
    {
     "data": {
      "application/vnd.jupyter.widget-view+json": {
       "model_id": "b7c8d1eb6d5a4e10b9797aa207d4c24d",
       "version_major": 2,
       "version_minor": 0
      },
      "text/plain": [
       "  0%|          | 0/102 [00:00<?, ?it/s]"
      ]
     },
     "metadata": {},
     "output_type": "display_data"
    }
   ],
   "source": [
    "out = []\n",
    "for tile in tqdm(tiles):\n",
    "    features = eeconvert.gdfToFc(tile[['id', 'geometry']])\n",
    "    collection = ee.ImageCollection('LANDSAT/LC08/C01/T1_8DAY_NDVI').filterBounds(features).filterDate('2021-04-15', '2021-09-01').select('NDVI')\n",
    "    out.append(get_series(collection, features))"
   ]
  },
  {
   "cell_type": "code",
   "execution_count": 24,
   "id": "98f0fb16-9fee-4a89-815b-0ad90f5e0bf7",
   "metadata": {},
   "outputs": [],
   "source": [
    "data_landsat = pd.concat(out)\n",
    "data_landsat = data_landsat.groupby('id').max().reset_index(drop=True)\n",
    "data_landsat = data_landsat.loc[data_cat['id'], sorted(data_landsat.columns)]"
   ]
  },
  {
   "cell_type": "code",
   "execution_count": 32,
   "id": "506a4743-2c27-4358-8e27-fe2f4137ea44",
   "metadata": {},
   "outputs": [],
   "source": [
    "data_landsat.iloc[:data.shape[0],:].to_csv('data/train_dataset_landsat.csv', index=False)\n",
    "data_landsat.iloc[data.shape[0]:,:].to_csv('data/test_dataset_landsat.csv', index=False)"
   ]
  },
  {
   "cell_type": "markdown",
   "id": "5351eb8f-bbf0-492d-a354-03652c063037",
   "metadata": {
    "tags": []
   },
   "source": [
    "## modis"
   ]
  },
  {
   "cell_type": "code",
   "execution_count": null,
   "id": "609e5cdd-4398-4574-9e11-25a63825bbdf",
   "metadata": {},
   "outputs": [],
   "source": [
    "ee.ImageCollection(\"MODIS/MOD09GA_006_NDVI\")"
   ]
  },
  {
   "cell_type": "code",
   "execution_count": 39,
   "id": "85a73799-e6b4-429a-a1fa-ed21c616c650",
   "metadata": {},
   "outputs": [],
   "source": [
    "# https://mgimond.github.io/ArcGIS_tutorials/Download_landsat.htm\n",
    "grid = gpd.read_file('grid/modis_sinusoidal_grid_world.shp')\n",
    "data_grid = data_cat.to_crs(grid.crs).sjoin(grid[['h', 'v', 'geometry']], how='left')\n",
    "gb = data_grid.groupby(['h', 'v'])\n",
    "tiles = [gb.get_group(x) for x in gb.groups]"
   ]
  },
  {
   "cell_type": "code",
   "execution_count": 54,
   "id": "63602ca1-4c92-4abe-9987-469d4b0465ed",
   "metadata": {},
   "outputs": [],
   "source": [
    "def get_series(collection, features):\n",
    "    \"\"\"https://stackoverflow.com/questions/47633088/get-results-in-an-earth-engine-python-script\"\"\"\n",
    "    def GetSeries(feature):\n",
    "        def NDVIcalc(img):\n",
    "            return feature.set(img.reduceRegion(ee.Reducer.median(), feature.geometry(), scale=250)).set('date', img.date().format(\"YYYY/MM/dd\"))\n",
    "\n",
    "        series = collection.map(NDVIcalc)\n",
    "\n",
    "        list_ = series.reduceColumns(ee.Reducer.toList(2), ['date', 'NDVI']).get('list')\n",
    "        return feature.set(ee.Dictionary(ee.List(list_).flatten()))\n",
    "\n",
    "    result = features.map(GetSeries).getInfo()\n",
    "    return pd.DataFrame([i['properties'] for i in result['features']])"
   ]
  },
  {
   "cell_type": "code",
   "execution_count": 90,
   "id": "8a251480-0aae-4a22-a7bf-4d18f24001ff",
   "metadata": {},
   "outputs": [],
   "source": [
    "tiles_ = []\n",
    "for tile in tiles:\n",
    "    if tile.shape[0] > 100:\n",
    "        tiles_.extend(split_df(tile, 100))\n",
    "    else:\n",
    "        tiles_.append(tile)"
   ]
  },
  {
   "cell_type": "code",
   "execution_count": 91,
   "id": "cce2667a-42d9-423a-aff3-c1545b5408a1",
   "metadata": {},
   "outputs": [],
   "source": [
    "tiles = tiles_"
   ]
  },
  {
   "cell_type": "code",
   "execution_count": 93,
   "id": "f7a1e16b-9f33-403d-886f-92433df60bcd",
   "metadata": {},
   "outputs": [
    {
     "data": {
      "application/vnd.jupyter.widget-view+json": {
       "model_id": "b79d757d39cd45c7ad3afbb89907683b",
       "version_major": 2,
       "version_minor": 0
      },
      "text/plain": [
       "  0%|          | 0/85 [00:00<?, ?it/s]"
      ]
     },
     "metadata": {},
     "output_type": "display_data"
    }
   ],
   "source": [
    "out = []\n",
    "for tile in tqdm(tiles):\n",
    "    features = eeconvert.gdfToFc(tile.to_crs(4326)[['id', 'geometry']])\n",
    "    collection = ee.ImageCollection('MODIS/MOD09GA_006_NDVI').filterBounds(features).filterDate('2021-04-15', '2021-09-01').select('NDVI')\n",
    "    out.append(get_series(collection, features))"
   ]
  },
  {
   "cell_type": "code",
   "execution_count": 98,
   "id": "cb7f6fac-9bac-46e6-a9ad-e0a2b92fb51b",
   "metadata": {},
   "outputs": [],
   "source": [
    "data_modis = pd.concat(out)"
   ]
  },
  {
   "cell_type": "code",
   "execution_count": 99,
   "id": "177ea5b8-286e-4ff7-826f-fb84ef0edc39",
   "metadata": {},
   "outputs": [],
   "source": [
    "data_modis = data_modis.groupby('id').max().reset_index(drop=True).fillna(0)\n",
    "data_modis = data_modis.loc[data_cat['id'], sorted(data_modis.columns)]"
   ]
  },
  {
   "cell_type": "code",
   "execution_count": 101,
   "id": "a3ccfdd3-bfc3-4284-9cc9-36388892e23b",
   "metadata": {},
   "outputs": [],
   "source": [
    "data_modis.iloc[:data.shape[0],:].to_csv('data/train_dataset_modis.csv', index=False)\n",
    "data_modis.iloc[data.shape[0]:,:].to_csv('data/test_dataset_modis.csv', index=False)"
   ]
  },
  {
   "cell_type": "markdown",
   "id": "8551ea3a-a2e1-4407-95c0-4a269e159305",
   "metadata": {},
   "source": [
    "## sentinel"
   ]
  },
  {
   "cell_type": "code",
   "execution_count": 7,
   "id": "029c5e26-b0ab-4e5a-bbdf-684f65ec2e71",
   "metadata": {},
   "outputs": [
    {
     "data": {
      "text/plain": [
       "<ee.imagecollection.ImageCollection at 0x1ef68715a30>"
      ]
     },
     "execution_count": 7,
     "metadata": {},
     "output_type": "execute_result"
    }
   ],
   "source": [
    "ee.ImageCollection('COPERNICUS/S2')"
   ]
  },
  {
   "cell_type": "code",
   "execution_count": 14,
   "id": "c92fcfd2-78f6-47da-8e05-63315f5f8e48",
   "metadata": {},
   "outputs": [],
   "source": [
    "# https://github.com/justinelliotmeyers/Sentinel-2-Shapefile-Index\n",
    "grid = gpd.read_file('grid/sentinel_2_index_shapefile.shp')\n",
    "data_grid = data_cat.to_crs(grid.crs).sjoin(grid[['Name', 'geometry']], how='left')\n",
    "gb = data_grid.groupby('Name')\n",
    "tiles = [gb.get_group(x) for x in gb.groups]"
   ]
  },
  {
   "cell_type": "code",
   "execution_count": 15,
   "id": "7c3d1a29-ee08-44b8-a755-08f250761f36",
   "metadata": {},
   "outputs": [],
   "source": [
    "tiles_ = []\n",
    "for tile in tiles:\n",
    "    if tile.shape[0] > 100:\n",
    "        tiles_.extend(split_df(tile, 50))\n",
    "    else:\n",
    "        tiles_.append(tile)"
   ]
  },
  {
   "cell_type": "code",
   "execution_count": 16,
   "id": "f5cf1526-e3f8-4bc0-a71b-a10901b14aa0",
   "metadata": {},
   "outputs": [],
   "source": [
    "tiles = tiles_"
   ]
  },
  {
   "cell_type": "code",
   "execution_count": 17,
   "id": "95b340f3-bee2-4ef7-a4b2-4db5c129319b",
   "metadata": {},
   "outputs": [],
   "source": [
    "def get_series(collection, features):\n",
    "    \"\"\"https://stackoverflow.com/questions/47633088/get-results-in-an-earth-engine-python-script\"\"\"\n",
    "    def GetSeries(feature):\n",
    "        def NDVIcalc(img):\n",
    "            red = img.select('B4')\n",
    "            nir = img.select('B8')\n",
    "            ndvi = nir.subtract(red).divide(nir.add(red)).rename(['NDVI'])\n",
    "            return feature.set(ndvi.reduceRegion(ee.Reducer.median(), feature.geometry(), scale=10)).set('date', img.date().format(\"YYYY/MM/dd\"))\n",
    "\n",
    "        series = collection.map(NDVIcalc)\n",
    "\n",
    "        list_ = series.reduceColumns(ee.Reducer.toList(2), ['date', 'NDVI']).get('list')\n",
    "        return feature.set(ee.Dictionary(ee.List(list_).flatten()))\n",
    "\n",
    "    result = features.map(GetSeries).getInfo()\n",
    "    return pd.DataFrame([i['properties'] for i in result['features']])"
   ]
  },
  {
   "cell_type": "code",
   "execution_count": null,
   "id": "3f3182e7-928c-4ab0-b005-9569b466bd1f",
   "metadata": {},
   "outputs": [
    {
     "data": {
      "application/vnd.jupyter.widget-view+json": {
       "model_id": "8655453d59694088895b0b5754075c8f",
       "version_major": 2,
       "version_minor": 0
      },
      "text/plain": [
       "  0%|          | 0/259 [00:00<?, ?it/s]"
      ]
     },
     "metadata": {},
     "output_type": "display_data"
    }
   ],
   "source": [
    "out = []\n",
    "for tile in tqdm(tiles):\n",
    "    features = eeconvert.gdfToFc(tile.to_crs(4326)[['id', 'geometry']])\n",
    "    collection = ee.ImageCollection('COPERNICUS/S2').filterBounds(features).filterDate('2021-04-15', '2021-09-01')\n",
    "    out.append(get_series(collection, features))"
   ]
  },
  {
   "cell_type": "code",
   "execution_count": null,
   "id": "d69cca4a-b543-4162-b990-00e38534d305",
   "metadata": {},
   "outputs": [],
   "source": [
    "data_sentinel = pd.concat(out)"
   ]
  },
  {
   "cell_type": "code",
   "execution_count": null,
   "id": "927d4c7a-3fb0-448e-95a8-cd4874691d10",
   "metadata": {},
   "outputs": [],
   "source": [
    "data_sentinel = data_sentinel.groupby('id').max().reset_index(drop=True).fillna(0)\n",
    "data_sentinel = data_sentinel.loc[data_cat['id'], sorted(data_sentinel.columns)]"
   ]
  },
  {
   "cell_type": "code",
   "execution_count": null,
   "id": "677c31d2-af62-4d46-b0da-1212f461852b",
   "metadata": {},
   "outputs": [],
   "source": [
    "data_sentinel.iloc[:data.shape[0],:].to_csv('data/train_dataset_sentinel.csv', index=False)\n",
    "data_sentinel.iloc[data.shape[0]:,:].to_csv('data/test_dataset_sentinel.csv', index=False)"
   ]
  }
 ],
 "metadata": {
  "kernelspec": {
   "display_name": "Python 3",
   "language": "python",
   "name": "python3"
  },
  "language_info": {
   "codemirror_mode": {
    "name": "ipython",
    "version": 3
   },
   "file_extension": ".py",
   "mimetype": "text/x-python",
   "name": "python",
   "nbconvert_exporter": "python",
   "pygments_lexer": "ipython3",
   "version": "3.9.4"
  },
  "widgets": {
   "application/vnd.jupyter.widget-state+json": {
    "state": {
     "019ed8b43db04a65903747dd71b2391e": {
      "model_module": "@jupyter-widgets/controls",
      "model_module_version": "1.5.0",
      "model_name": "DescriptionStyleModel",
      "state": {
       "description_width": ""
      }
     },
     "18c5aef1355948e288fc60f4c265cec5": {
      "model_module": "@jupyter-widgets/controls",
      "model_module_version": "1.5.0",
      "model_name": "DescriptionStyleModel",
      "state": {
       "description_width": ""
      }
     },
     "280ffa2f95164f9da7e56bbea74a3cfa": {
      "model_module": "@jupyter-widgets/controls",
      "model_module_version": "1.5.0",
      "model_name": "HTMLModel",
      "state": {
       "layout": "IPY_MODEL_f0f9d3e21b03493c8a333134ae24b134",
       "style": "IPY_MODEL_8ae4e5e8226647bdba3599716cfbdca6",
       "value": " 14%"
      }
     },
     "31cc562c65bb41b38690d0dac74f7a47": {
      "model_module": "@jupyter-widgets/controls",
      "model_module_version": "1.5.0",
      "model_name": "ProgressStyleModel",
      "state": {
       "description_width": ""
      }
     },
     "3c30829e280e42a0baf2b52935f313d1": {
      "model_module": "@jupyter-widgets/controls",
      "model_module_version": "1.5.0",
      "model_name": "FloatProgressModel",
      "state": {
       "bar_style": "danger",
       "layout": "IPY_MODEL_939deb9ccdb641be959684bbed1944a1",
       "max": 187,
       "style": "IPY_MODEL_9453f487c00b4902a4eed5cada34a5bc",
       "value": 26
      }
     },
     "43bb4b99fc0f4e81b37170c09a4e563c": {
      "model_module": "@jupyter-widgets/controls",
      "model_module_version": "1.5.0",
      "model_name": "HTMLModel",
      "state": {
       "layout": "IPY_MODEL_52eebf45a70c4b47aff93caa69540215",
       "style": "IPY_MODEL_f9dbcdc9e77c4545a393e8589d2ca0e1",
       "value": "  3%"
      }
     },
     "52eebf45a70c4b47aff93caa69540215": {
      "model_module": "@jupyter-widgets/base",
      "model_module_version": "1.2.0",
      "model_name": "LayoutModel",
      "state": {}
     },
     "53843526a0b449169cefef3ecc2c3781": {
      "model_module": "@jupyter-widgets/controls",
      "model_module_version": "1.5.0",
      "model_name": "FloatProgressModel",
      "state": {
       "layout": "IPY_MODEL_ba39d534da2d44b1810f2554bf35b019",
       "max": 259,
       "style": "IPY_MODEL_d4d8df6fe4f546e8bc55ae9e66dddbeb",
       "value": 9
      }
     },
     "57f944f502e544a89013c31538e83467": {
      "model_module": "@jupyter-widgets/base",
      "model_module_version": "1.2.0",
      "model_name": "LayoutModel",
      "state": {}
     },
     "580e447fc9d545fb9379794119115c62": {
      "model_module": "@jupyter-widgets/controls",
      "model_module_version": "1.5.0",
      "model_name": "DescriptionStyleModel",
      "state": {
       "description_width": ""
      }
     },
     "5d6b6e7e45c943748f4a38b91be50d64": {
      "model_module": "@jupyter-widgets/controls",
      "model_module_version": "1.5.0",
      "model_name": "HBoxModel",
      "state": {
       "children": [
        "IPY_MODEL_967ccaef7c7c4b939c007eca3ad5e415",
        "IPY_MODEL_afe102f22d884d6da6edd47f32d9335d",
        "IPY_MODEL_745d8f7ca0d149c481aaf74d0f9b3d30"
       ],
       "layout": "IPY_MODEL_7a4edcd420164561be199ad857d79d33"
      }
     },
     "65a722efac6e498080af5c91acad011d": {
      "model_module": "@jupyter-widgets/controls",
      "model_module_version": "1.5.0",
      "model_name": "HTMLModel",
      "state": {
       "layout": "IPY_MODEL_8d7ecd465246408dbe5e3f0227151b5e",
       "style": "IPY_MODEL_a676ea8ec48941aa97e0dd858ad14080",
       "value": " 8/259 [01:19&lt;1:01:34, 14.72s/it]"
      }
     },
     "745d8f7ca0d149c481aaf74d0f9b3d30": {
      "model_module": "@jupyter-widgets/controls",
      "model_module_version": "1.5.0",
      "model_name": "HTMLModel",
      "state": {
       "layout": "IPY_MODEL_f54d05bc25a543d0999edbdbc0486717",
       "style": "IPY_MODEL_18c5aef1355948e288fc60f4c265cec5",
       "value": " 0/187 [00:00&lt;?, ?it/s]"
      }
     },
     "7a4edcd420164561be199ad857d79d33": {
      "model_module": "@jupyter-widgets/base",
      "model_module_version": "1.2.0",
      "model_name": "LayoutModel",
      "state": {}
     },
     "81fe8afdb29e459bbd92f06e801e71a9": {
      "model_module": "@jupyter-widgets/controls",
      "model_module_version": "1.5.0",
      "model_name": "HBoxModel",
      "state": {
       "children": [
        "IPY_MODEL_280ffa2f95164f9da7e56bbea74a3cfa",
        "IPY_MODEL_3c30829e280e42a0baf2b52935f313d1",
        "IPY_MODEL_e69ac9234aea4aa7a391a5ec474c26c7"
       ],
       "layout": "IPY_MODEL_57f944f502e544a89013c31538e83467"
      }
     },
     "8655453d59694088895b0b5754075c8f": {
      "model_module": "@jupyter-widgets/controls",
      "model_module_version": "1.5.0",
      "model_name": "HBoxModel",
      "state": {
       "children": [
        "IPY_MODEL_43bb4b99fc0f4e81b37170c09a4e563c",
        "IPY_MODEL_53843526a0b449169cefef3ecc2c3781",
        "IPY_MODEL_65a722efac6e498080af5c91acad011d"
       ],
       "layout": "IPY_MODEL_b89e75a492164091a195e68ad5dd65dd"
      }
     },
     "8ae4e5e8226647bdba3599716cfbdca6": {
      "model_module": "@jupyter-widgets/controls",
      "model_module_version": "1.5.0",
      "model_name": "DescriptionStyleModel",
      "state": {
       "description_width": ""
      }
     },
     "8c41f68d89534fd9a93ab7aa81be2e79": {
      "model_module": "@jupyter-widgets/base",
      "model_module_version": "1.2.0",
      "model_name": "LayoutModel",
      "state": {}
     },
     "8d7ecd465246408dbe5e3f0227151b5e": {
      "model_module": "@jupyter-widgets/base",
      "model_module_version": "1.2.0",
      "model_name": "LayoutModel",
      "state": {}
     },
     "939deb9ccdb641be959684bbed1944a1": {
      "model_module": "@jupyter-widgets/base",
      "model_module_version": "1.2.0",
      "model_name": "LayoutModel",
      "state": {}
     },
     "9453f487c00b4902a4eed5cada34a5bc": {
      "model_module": "@jupyter-widgets/controls",
      "model_module_version": "1.5.0",
      "model_name": "ProgressStyleModel",
      "state": {
       "description_width": ""
      }
     },
     "967ccaef7c7c4b939c007eca3ad5e415": {
      "model_module": "@jupyter-widgets/controls",
      "model_module_version": "1.5.0",
      "model_name": "HTMLModel",
      "state": {
       "layout": "IPY_MODEL_8c41f68d89534fd9a93ab7aa81be2e79",
       "style": "IPY_MODEL_019ed8b43db04a65903747dd71b2391e",
       "value": "  0%"
      }
     },
     "a676ea8ec48941aa97e0dd858ad14080": {
      "model_module": "@jupyter-widgets/controls",
      "model_module_version": "1.5.0",
      "model_name": "DescriptionStyleModel",
      "state": {
       "description_width": ""
      }
     },
     "afe102f22d884d6da6edd47f32d9335d": {
      "model_module": "@jupyter-widgets/controls",
      "model_module_version": "1.5.0",
      "model_name": "FloatProgressModel",
      "state": {
       "bar_style": "danger",
       "layout": "IPY_MODEL_cf4360004b3944bd900ba1e4da644b44",
       "max": 187,
       "style": "IPY_MODEL_31cc562c65bb41b38690d0dac74f7a47"
      }
     },
     "b89e75a492164091a195e68ad5dd65dd": {
      "model_module": "@jupyter-widgets/base",
      "model_module_version": "1.2.0",
      "model_name": "LayoutModel",
      "state": {}
     },
     "ba39d534da2d44b1810f2554bf35b019": {
      "model_module": "@jupyter-widgets/base",
      "model_module_version": "1.2.0",
      "model_name": "LayoutModel",
      "state": {}
     },
     "cf4360004b3944bd900ba1e4da644b44": {
      "model_module": "@jupyter-widgets/base",
      "model_module_version": "1.2.0",
      "model_name": "LayoutModel",
      "state": {}
     },
     "d4d8df6fe4f546e8bc55ae9e66dddbeb": {
      "model_module": "@jupyter-widgets/controls",
      "model_module_version": "1.5.0",
      "model_name": "ProgressStyleModel",
      "state": {
       "description_width": ""
      }
     },
     "e69ac9234aea4aa7a391a5ec474c26c7": {
      "model_module": "@jupyter-widgets/controls",
      "model_module_version": "1.5.0",
      "model_name": "HTMLModel",
      "state": {
       "layout": "IPY_MODEL_e8122eddd9554511996532d75d145d35",
       "style": "IPY_MODEL_580e447fc9d545fb9379794119115c62",
       "value": " 26/187 [19:06&lt;1:16:16, 28.43s/it]"
      }
     },
     "e8122eddd9554511996532d75d145d35": {
      "model_module": "@jupyter-widgets/base",
      "model_module_version": "1.2.0",
      "model_name": "LayoutModel",
      "state": {}
     },
     "f0f9d3e21b03493c8a333134ae24b134": {
      "model_module": "@jupyter-widgets/base",
      "model_module_version": "1.2.0",
      "model_name": "LayoutModel",
      "state": {}
     },
     "f54d05bc25a543d0999edbdbc0486717": {
      "model_module": "@jupyter-widgets/base",
      "model_module_version": "1.2.0",
      "model_name": "LayoutModel",
      "state": {}
     },
     "f9dbcdc9e77c4545a393e8589d2ca0e1": {
      "model_module": "@jupyter-widgets/controls",
      "model_module_version": "1.5.0",
      "model_name": "DescriptionStyleModel",
      "state": {
       "description_width": ""
      }
     }
    },
    "version_major": 2,
    "version_minor": 0
   }
  }
 },
 "nbformat": 4,
 "nbformat_minor": 5
}
