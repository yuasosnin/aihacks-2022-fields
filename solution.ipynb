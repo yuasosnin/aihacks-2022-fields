{
 "cells": [
  {
   "cell_type": "code",
   "execution_count": 1,
   "id": "58d028dc-e7aa-4518-b85b-5d7bebc2c4e1",
   "metadata": {},
   "outputs": [],
   "source": [
    "import os, datetime\n",
    "from tqdm.notebook import tqdm\n",
    "\n",
    "import numpy as np\n",
    "import pandas as pd\n",
    "import geopandas as gpd\n",
    "import geojson\n",
    "import shapely\n",
    "import shapely.geometry\n",
    "\n",
    "import xarray as xr\n",
    "import rioxarray as rxr"
   ]
  },
  {
   "cell_type": "code",
   "execution_count": 2,
   "id": "e33c8d81-842a-44fd-ba57-38ddb3a53fd4",
   "metadata": {},
   "outputs": [],
   "source": [
    "import matplotlib.pyplot as plt\n",
    "import contextily"
   ]
  },
  {
   "cell_type": "code",
   "execution_count": 3,
   "id": "01eadf82-118f-4952-be17-356dfb5312b8",
   "metadata": {},
   "outputs": [],
   "source": [
    "from src import *"
   ]
  },
  {
   "cell_type": "code",
   "execution_count": 4,
   "id": "62bc6036-ad3d-4f28-be59-f9b90b307d16",
   "metadata": {},
   "outputs": [],
   "source": [
    "import warnings\n",
    "warnings.filterwarnings('ignore')"
   ]
  },
  {
   "cell_type": "code",
   "execution_count": 5,
   "id": "1c5d6607-d4dd-4515-8457-5b3438e5995e",
   "metadata": {},
   "outputs": [],
   "source": [
    "data = read_data('data/train_dataset_train_2.csv')\n",
    "data_test = read_data('data/test_dataset_test_2.csv')\n",
    "data_ts, data_id = process_data(data)\n",
    "data_ts_test, data_id_test = process_data(data_test)"
   ]
  },
  {
   "cell_type": "code",
   "execution_count": 6,
   "id": "6e2370e4-8baa-4c83-9d70-ef09d1754722",
   "metadata": {},
   "outputs": [],
   "source": [
    "def add_diff(data_ts):\n",
    "    diff = data_ts.T.diff()[1:].T\n",
    "    diff.columns = [f'{x}_' for x in diff.columns]\n",
    "    return pd.concat((data_ts, diff), axis=1)"
   ]
  },
  {
   "cell_type": "code",
   "execution_count": 7,
   "id": "48cc4e62-45d5-40e1-9742-86ad3b33b546",
   "metadata": {},
   "outputs": [],
   "source": [
    "# data_ts = add_diff(data_ts)\n",
    "# data_ts_test = add_diff(data_ts_test)"
   ]
  },
  {
   "cell_type": "code",
   "execution_count": 8,
   "id": "17dec04e-2d6d-45c6-90e5-52f6ae1d0890",
   "metadata": {},
   "outputs": [],
   "source": [
    "# dates = pd.date_range(start=None, end='2021/08/27', periods=135)\n",
    "# data_ts_modis = pd.DataFrame(np.load('data_modis.npz')['arr_0'].squeeze(-1), columns=dates)\n",
    "# data_ts_modis_test = pd.DataFrame(np.load('data_modis_test.npz')['arr_0'].squeeze(-1), columns=dates)"
   ]
  },
  {
   "cell_type": "code",
   "execution_count": 77,
   "id": "5b0ce5b3-6709-4e7f-aec7-76b15471cd53",
   "metadata": {},
   "outputs": [],
   "source": [
    "data_ts_modis = pd.read_csv('data/train_dataset_modis.csv').fillna(0.0)\n",
    "data_ts_modis_test = pd.read_csv('data/test_dataset_modis.csv').fillna(0.0)"
   ]
  },
  {
   "cell_type": "code",
   "execution_count": 78,
   "id": "f9c28ac2-f94b-418d-8d70-3a60540058df",
   "metadata": {},
   "outputs": [],
   "source": [
    "# data_ts_modis = add_diff(data_ts_modis)\n",
    "# data_ts_modis_test = add_diff(data_ts_modis_test)"
   ]
  },
  {
   "cell_type": "code",
   "execution_count": 79,
   "id": "85adb038-104a-4838-b98d-fbc8dc2ac18c",
   "metadata": {},
   "outputs": [],
   "source": [
    "data_ts_landsat = pd.read_csv('data/train_dataset_landsat.csv').fillna(0)\n",
    "data_ts_landsat_test = pd.read_csv('data/test_dataset_landsat.csv').fillna(0)"
   ]
  },
  {
   "cell_type": "code",
   "execution_count": 80,
   "id": "0988671d-063a-40b8-bdb4-fc1c3dcd7da5",
   "metadata": {},
   "outputs": [],
   "source": [
    "# data_ts_landsat = add_diff(data_ts_landsat)\n",
    "# data_ts_landsat_test = add_diff(data_ts_landsat_test)"
   ]
  },
  {
   "cell_type": "code",
   "execution_count": 81,
   "id": "7d0372ad-7a3a-48b1-9f3d-b01c0fc32bc1",
   "metadata": {},
   "outputs": [],
   "source": [
    "from sklearn.model_selection import train_test_split\n",
    "from sklearn.metrics import recall_score, precision_score, accuracy_score"
   ]
  },
  {
   "cell_type": "code",
   "execution_count": 82,
   "id": "92e8275c-531f-4fbb-9849-d0d0c58854a6",
   "metadata": {},
   "outputs": [],
   "source": [
    "def get_dataset(data_ts, data_id, data_test_ts, data_test_id):\n",
    "    data_ts_train, data_ts_val, data_id_train, data_id_val = train_test_split(data_ts, data_id, test_size=0.1, random_state=1)\n",
    "    # data_train = pd.concat((data_ts_train, data_id_train[['area', 'lat', 'lon']]), axis=1)\n",
    "    # data_val = pd.concat((data_ts_val, data_id_val[['area', 'lat', 'lon']]), axis=1)\n",
    "    # data_test = pd.concat((data_ts_test, data_id_test[['area', 'lat', 'lon']]), axis=1)\n",
    "    data_train = data_ts_train\n",
    "    data_val = data_ts_val\n",
    "    data_test = data_ts_test\n",
    "\n",
    "    dataset = dict()\n",
    "    dataset['full'] = {'X': data_ts, 'y': data_id['crop']}\n",
    "    dataset['train'] = {'X': data_train, 'y': data_id_train['crop']}\n",
    "    dataset['val'] = {'X': data_val, 'y': data_id_val['crop']}\n",
    "    dataset['test'] = {'X': data_test}\n",
    "    return dataset"
   ]
  },
  {
   "cell_type": "code",
   "execution_count": 83,
   "id": "5b399703-54b2-44cd-9881-b8ee8f04962e",
   "metadata": {},
   "outputs": [],
   "source": [
    "dataset_orig = get_dataset(data_ts, data_id, data_ts_test, data_id_test)\n",
    "dataset_modis = get_dataset(data_ts_modis, data_id, data_ts_modis_test, data_id_test)\n",
    "dataset_landsat = get_dataset(data_ts_landsat, data_id, data_ts_landsat_test, data_id_test)\n",
    "dataset_concat = get_dataset(\n",
    "    pd.concat((data_ts, data_ts_modis, data_ts_landsat), axis=1), data_id, \n",
    "    pd.concat((data_ts_test, data_ts_modis_test, data_ts_landsat_test), axis=1), data_id_test)"
   ]
  },
  {
   "cell_type": "markdown",
   "id": "b658483d-3dbd-4b0c-acd4-c955ef0d6ed0",
   "metadata": {
    "jp-MarkdownHeadingCollapsed": true,
    "tags": []
   },
   "source": [
    "# models"
   ]
  },
  {
   "cell_type": "code",
   "execution_count": 245,
   "id": "f27c3642-a7be-4964-96ce-2bb8807380b4",
   "metadata": {},
   "outputs": [],
   "source": [
    "SEED = 1"
   ]
  },
  {
   "cell_type": "code",
   "execution_count": 246,
   "id": "33807179-ed57-46d1-9a4f-eff8fd4868f0",
   "metadata": {},
   "outputs": [],
   "source": [
    "from sklearn.ensemble import RandomForestClassifier, GradientBoostingClassifier"
   ]
  },
  {
   "cell_type": "code",
   "execution_count": 247,
   "id": "dcef64fb-aa0f-455d-bc41-79e55833a471",
   "metadata": {},
   "outputs": [
    {
     "data": {
      "text/plain": [
       "0.9603060360196845"
      ]
     },
     "execution_count": 247,
     "metadata": {},
     "output_type": "execute_result"
    }
   ],
   "source": [
    "rf = RandomForestClassifier(n_estimators=200, random_state=SEED, verbose=False)\n",
    "rf.fit(**dataset_orig['train'])\n",
    "preds = rf.predict(dataset_orig['val']['X'])\n",
    "recall_score(preds, dataset_orig['val']['y'], average='macro')"
   ]
  },
  {
   "cell_type": "code",
   "execution_count": 248,
   "id": "fffd98aa-7358-42b0-b434-34067a880d44",
   "metadata": {},
   "outputs": [
    {
     "data": {
      "text/plain": [
       "0.5986918472170635"
      ]
     },
     "execution_count": 248,
     "metadata": {},
     "output_type": "execute_result"
    }
   ],
   "source": [
    "rf_ = RandomForestClassifier(\n",
    "    n_estimators=200, random_state=SEED, verbose=False,\n",
    "    min_samples_leaf=1)\n",
    "rf_.fit(**dataset_modis['train'])\n",
    "preds = rf_.predict(dataset_modis['val']['X'])\n",
    "recall_score(preds, dataset_modis['val']['y'], average='macro')"
   ]
  },
  {
   "cell_type": "code",
   "execution_count": 249,
   "id": "8eb5fcc3-339c-48b7-a91c-3de4edb85a16",
   "metadata": {},
   "outputs": [
    {
     "data": {
      "text/plain": [
       "0.6953205149240029"
      ]
     },
     "execution_count": 249,
     "metadata": {},
     "output_type": "execute_result"
    }
   ],
   "source": [
    "rf_ls = RandomForestClassifier(\n",
    "    n_estimators=200, random_state=SEED, verbose=False,\n",
    "    min_samples_leaf=1)\n",
    "rf_ls.fit(**dataset_landsat['train'])\n",
    "preds = rf_ls.predict(dataset_landsat['val']['X'])\n",
    "recall_score(preds, dataset_landsat['val']['y'], average='macro')"
   ]
  },
  {
   "cell_type": "code",
   "execution_count": 250,
   "id": "cafe71f6-ebd1-44aa-8c70-038eaa2101eb",
   "metadata": {},
   "outputs": [],
   "source": [
    "preds = (\n",
    "    0.8*rf.predict_proba(dataset_orig['val']['X']) + \n",
    "    0.1*rf_.predict_proba(dataset_modis['val']['X']) +\n",
    "    0.1*rf_ls.predict_proba(dataset_landsat['val']['X'])\n",
    ").argmax(axis=1)"
   ]
  },
  {
   "cell_type": "code",
   "execution_count": 251,
   "id": "7b5dada8-a5f5-40e3-8763-20f19d8560f2",
   "metadata": {},
   "outputs": [
    {
     "data": {
      "text/plain": [
       "0.9645251067787923"
      ]
     },
     "execution_count": 251,
     "metadata": {},
     "output_type": "execute_result"
    }
   ],
   "source": [
    "recall_score(preds, dataset_modis['val']['y'], average='macro')"
   ]
  },
  {
   "cell_type": "code",
   "execution_count": 255,
   "id": "08c1fd1a-29ee-404a-a489-e6568656c32c",
   "metadata": {},
   "outputs": [
    {
     "data": {
      "text/plain": [
       "0.9638116184726355"
      ]
     },
     "execution_count": 255,
     "metadata": {},
     "output_type": "execute_result"
    }
   ],
   "source": [
    "rf = RandomForestClassifier(\n",
    "    n_estimators=200, random_state=SEED, verbose=False,\n",
    "    min_samples_leaf=1)\n",
    "rf.fit(**dataset_concat['train'])\n",
    "preds = rf.predict(dataset_concat['val']['X'])\n",
    "recall_score(preds, dataset_concat['val']['y'], average='macro')"
   ]
  },
  {
   "cell_type": "code",
   "execution_count": 256,
   "id": "018f8a3b-50b9-442d-9794-b939769a1f2a",
   "metadata": {},
   "outputs": [
    {
     "data": {
      "text/plain": [
       "0.9633086367457507"
      ]
     },
     "execution_count": 256,
     "metadata": {},
     "output_type": "execute_result"
    }
   ],
   "source": [
    "gb = GradientBoostingClassifier(n_estimators=100)\n",
    "gb.fit(**dataset_concat['train'])\n",
    "preds = gb.predict(dataset_concat['val']['X'])\n",
    "recall_score(preds, dataset_concat['val']['y'], average='macro')"
   ]
  },
  {
   "cell_type": "code",
   "execution_count": null,
   "id": "90139bb8-f413-4379-b91c-35dc9342211d",
   "metadata": {
    "tags": []
   },
   "outputs": [],
   "source": [
    "from catboost import CatBoostClassifier\n",
    "model = CatBoostClassifier(\n",
    "    iterations=500,\n",
    "    learning_rate=1,\n",
    "    # depth=10,\n",
    "    random_seed=1,\n",
    "    verbose=False\n",
    ")\n",
    "model.fit(**dataset_concat['train'])\n",
    "preds = model.predict(dataset_concat['val']['X'])\n",
    "recall_score(preds, dataset_concat['val']['y'], average='macro')"
   ]
  },
  {
   "cell_type": "code",
   "execution_count": 186,
   "id": "5e2a551f-4503-4131-93a5-ae120465a3c2",
   "metadata": {},
   "outputs": [
    {
     "data": {
      "text/plain": [
       "0.6443026399804246"
      ]
     },
     "execution_count": 186,
     "metadata": {},
     "output_type": "execute_result"
    }
   ],
   "source": [
    "recall_score(preds, dataset_orig['val']['y'], average='macro')"
   ]
  },
  {
   "cell_type": "code",
   "execution_count": null,
   "id": "cb713303-1b81-44fb-b92d-70be6554f91c",
   "metadata": {},
   "outputs": [],
   "source": []
  },
  {
   "cell_type": "code",
   "execution_count": 15,
   "id": "b712468a-34d1-4681-a047-ca29bc527eef",
   "metadata": {},
   "outputs": [],
   "source": [
    "from sktime.classification.distance_based import KNeighborsTimeSeriesClassifier"
   ]
  },
  {
   "cell_type": "code",
   "execution_count": 16,
   "id": "bc75ac28-b564-4b87-a446-12cdd4fb37dc",
   "metadata": {},
   "outputs": [
    {
     "data": {
      "text/plain": [
       "0.771540088080925"
      ]
     },
     "execution_count": 16,
     "metadata": {},
     "output_type": "execute_result"
    }
   ],
   "source": [
    "model = KNeighborsTimeSeriesClassifier(n_neighbors=10)\n",
    "model.fit(dataset_orig['train']['X'].values, dataset_orig['train']['y'])\n",
    "preds = model.predict(dataset_orig['val']['X'].values)\n",
    "recall_score(preds, dataset_orig['val']['y'], average='macro')"
   ]
  },
  {
   "cell_type": "code",
   "execution_count": 17,
   "id": "a10c05e3-1226-4e68-95b0-af6c01e0c404",
   "metadata": {},
   "outputs": [
    {
     "data": {
      "text/plain": [
       "0.792783539714341"
      ]
     },
     "execution_count": 17,
     "metadata": {},
     "output_type": "execute_result"
    }
   ],
   "source": [
    "model = KNeighborsTimeSeriesClassifier(n_neighbors=20)\n",
    "model.fit(dataset_orig['train']['X'].values, dataset_orig['train']['y'])\n",
    "preds = model.predict(dataset_orig['val']['X'].values)\n",
    "recall_score(preds, dataset_orig['val']['y'], average='macro')"
   ]
  },
  {
   "cell_type": "code",
   "execution_count": 23,
   "id": "724711d0-8be7-41cb-8370-8ed6dac4683c",
   "metadata": {},
   "outputs": [
    {
     "data": {
      "text/plain": [
       "0.7834449463857383"
      ]
     },
     "execution_count": 23,
     "metadata": {},
     "output_type": "execute_result"
    }
   ],
   "source": [
    "model = KNeighborsTimeSeriesClassifier(n_neighbors=100)\n",
    "model.fit(dataset_orig['train']['X'].values, dataset_orig['train']['y'])\n",
    "preds = model.predict(dataset_orig['val']['X'].values)\n",
    "recall_score(preds, dataset_orig['val']['y'], average='macro')"
   ]
  },
  {
   "cell_type": "markdown",
   "id": "7d8ed949-3881-4af3-84f6-24a4082f88b7",
   "metadata": {},
   "source": [
    "# neural"
   ]
  },
  {
   "cell_type": "code",
   "execution_count": 84,
   "id": "fc8ed51f-c40e-4a21-bed4-45f7ac03fbe2",
   "metadata": {},
   "outputs": [],
   "source": [
    "import torch\n",
    "import torch.nn as nn\n",
    "from torch.utils.data import Dataset, TensorDataset, DataLoader, random_split"
   ]
  },
  {
   "cell_type": "code",
   "execution_count": 85,
   "id": "d8037252-2c1d-4548-9428-1946721a7ed7",
   "metadata": {},
   "outputs": [],
   "source": [
    "class StackDataset(Dataset):\n",
    "    def __init__(self, *args, y=None):\n",
    "        super().__init__()\n",
    "        self.dfs = args\n",
    "        self.y = y\n",
    "        \n",
    "    def __len__(self):\n",
    "        return self.dfs[0].shape[0]\n",
    "    \n",
    "    def __getitem__(self, idx):\n",
    "        if self.y is not None:\n",
    "            return [df.iloc[idx,:].values for df in self.dfs], self.y[idx]\n",
    "        else:\n",
    "            return [df.iloc[idx,:].values for df in self.dfs]"
   ]
  },
  {
   "cell_type": "code",
   "execution_count": 86,
   "id": "ab47c15f-7df6-4216-a725-bfc30a644791",
   "metadata": {},
   "outputs": [],
   "source": [
    "import pytorch_lightning as pl"
   ]
  },
  {
   "cell_type": "code",
   "execution_count": 87,
   "id": "db70919b-95a2-4c44-8284-325122d293c9",
   "metadata": {},
   "outputs": [],
   "source": [
    "def seed_worker(worker_id):\n",
    "    worker_seed = torch.initial_seed() % 2**32\n",
    "    numpy.random.seed(worker_seed)\n",
    "    random.seed(worker_seed)\n",
    "\n",
    "class StackDataModule(pl.LightningDataModule):\n",
    "    def __init__(\n",
    "        self, train_dataset, val_dataset, test_dataset=None, batch_size=64, num_workers=0):\n",
    "    \n",
    "        super().__init__()\n",
    "        self.batch_size = batch_size\n",
    "        self.num_workers = num_workers\n",
    "        self.train_dataset = train_dataset \n",
    "        self.val_dataset = val_dataset\n",
    "        self.test_dataset = test_dataset\n",
    "        self.g = torch.Generator()\n",
    "        self.g.manual_seed(1)\n",
    "        \n",
    "    def train_dataloader(self) -> DataLoader:\n",
    "        return DataLoader(self.train_dataset, shuffle=True,\n",
    "                          batch_size=self.batch_size, num_workers=self.num_workers,\n",
    "                          worker_init_fn=seed_worker, generator=self.g)\n",
    "\n",
    "    def val_dataloader(self) -> DataLoader:\n",
    "        return DataLoader(self.val_dataset, shuffle=False,\n",
    "                          batch_size=self.batch_size, num_workers=self.num_workers,\n",
    "                          worker_init_fn=seed_worker, generator=self.g)\n",
    "    \n",
    "    def test_dataloader(self) -> DataLoader:\n",
    "        return DataLoader(self.test_dataset, shuffle=False,\n",
    "                          batch_size=self.batch_size, num_workers=self.num_workers,\n",
    "                          worker_init_fn=seed_worker, generator=self.g)"
   ]
  },
  {
   "cell_type": "code",
   "execution_count": 96,
   "id": "57cd7895-05a7-49c7-ae84-8507317e40f6",
   "metadata": {},
   "outputs": [],
   "source": [
    "import torchmetrics\n",
    "\n",
    "class StackRNN(pl.LightningModule):\n",
    "    def __init__(self, hidden_size, layers=1, bidirectional=True, dropout=0, **hparams):\n",
    "        super().__init__()\n",
    "        self.save_hyperparameters()\n",
    "\n",
    "        self.hidden_size = hidden_size\n",
    "        self.rnn1 = nn.GRU(\n",
    "            input_size=1, hidden_size=hidden_size, num_layers=layers, bidirectional=bidirectional,\n",
    "            batch_first=True, dropout=dropout)\n",
    "        self.rnn2 = nn.GRU(\n",
    "            input_size=1, hidden_size=hidden_size, num_layers=layers, bidirectional=bidirectional,\n",
    "            batch_first=True, dropout=dropout)\n",
    "        self.rnn3 = nn.GRU(\n",
    "            input_size=1, hidden_size=hidden_size, num_layers=layers, bidirectional=bidirectional,\n",
    "            batch_first=True, dropout=dropout)\n",
    "        # self.fc = nn.Linear(hidden_size*(bidirectional+1), out_features=7)\n",
    "        self.fc = nn.Sequential(\n",
    "            nn.Linear(hidden_size*(bidirectional+1)*layers, hidden_size*(bidirectional+1)*layers),\n",
    "            nn.Dropout(dropout),\n",
    "            nn.ReLU(),\n",
    "            nn.Linear(hidden_size*(bidirectional+1)*layers, out_features=7))\n",
    "        self.act = nn.ReLU()\n",
    "        \n",
    "        self.criterion = nn.CrossEntropyLoss()\n",
    "        self.train_recall = torchmetrics.Recall()\n",
    "        self.valid_recall = torchmetrics.Recall()\n",
    "        \n",
    "    def forward(self, x1, x2, x3):\n",
    "        bs = x1.shape[0]\n",
    "        _, h1 = self.rnn1(x1)\n",
    "        _, h2 = self.rnn2(x2)\n",
    "        _, h3 = self.rnn3(x3)\n",
    "\n",
    "        h1 = h1.permute(1,0,2).reshape(bs, -1)\n",
    "        h2 = h2.permute(1,0,2).reshape(bs, -1)\n",
    "        h3 = h3.permute(1,0,2).reshape(bs, -1)\n",
    "\n",
    "        h = torch.stack((h1,h2,h3), axis=-1)\n",
    "        h = torch.amax(h, axis=-1)\n",
    "        # h = h1\n",
    "        return self.fc(self.act(h))\n",
    "    \n",
    "    def _prepare_batch(self, batch, train=True):\n",
    "        if train:\n",
    "            (x1, x2, x3), y = batch\n",
    "            x1 = x1.unsqueeze(-1).float()\n",
    "            x2 = x2.unsqueeze(-1).float()\n",
    "            x3 = x3.unsqueeze(-1).float()\n",
    "            y = y.long()\n",
    "            return (x1, x2, x3), y\n",
    "        else:\n",
    "            (x1, x2, x3) = batch\n",
    "            x1 = x1.unsqueeze(-1).float()\n",
    "            x2 = x2.unsqueeze(-1).float()\n",
    "            x3 = x3.unsqueeze(-1).float()\n",
    "            return (x1, x2, x3)\n",
    "\n",
    "    def training_step(self, batch, batch_idx):\n",
    "        (x1, x2, x3), y = self._prepare_batch(batch)\n",
    "        output = self.forward(x1, x2, x3)\n",
    "        loss = self.criterion(output, y)\n",
    "        self.train_recall(output, y)\n",
    "        self.log('train_loss', loss.item(), on_step=True, on_epoch=True)\n",
    "        self.log('train_recall', self.train_recall, on_step=True, on_epoch=True)\n",
    "        return loss\n",
    "\n",
    "    def validation_step(self, batch, batch_idx):\n",
    "        (x1, x2, x3), y = self._prepare_batch(batch)\n",
    "        output = self.forward(x1, x2, x3)\n",
    "        loss = self.criterion(output, y)\n",
    "        self.valid_recall(output, y)\n",
    "        self.log('valid_loss', loss.item(), on_step=True, on_epoch=True)\n",
    "        self.log('valid_recall', self.valid_recall, on_step=True, on_epoch=True)\n",
    "        return loss\n",
    "\n",
    "    def predict_step(self, batch, batch_idx):\n",
    "        (x1, x2, x3) = self._prepare_batch(batch, train=False)\n",
    "        output = self.forward(x1, x2, x3)\n",
    "        return output\n",
    "\n",
    "    def configure_optimizers(self):\n",
    "        optimizer = torch.optim.Adam(self.parameters(), lr=self.hparams.lr, weight_decay=self.hparams.wd)\n",
    "        scheduler = torch.optim.lr_scheduler.ExponentialLR(optimizer, self.hparams.gamma)\n",
    "        return [optimizer], [scheduler]"
   ]
  },
  {
   "cell_type": "code",
   "execution_count": 97,
   "id": "803a48d6-2656-4893-a907-cbe7c5817af1",
   "metadata": {},
   "outputs": [],
   "source": [
    "token = \"eyJhcGlfYWRkcmVzcyI6Imh0dHBzOi8vYXBwLm5lcHR1bmUuYWkiLCJhcGlfdXJsIjoiaHR0cHM6Ly9hcHAubmVwdHVuZS5haSIsImFwaV9rZXkiOiIwNWJjZTk5MS01OTA3LTQyOTYtYWEzYy0zMjZkNjAxNjI1ZDIifQ==\""
   ]
  },
  {
   "cell_type": "code",
   "execution_count": 98,
   "id": "247cc16e-b482-48f0-a3f5-e3a0d9e02e76",
   "metadata": {},
   "outputs": [],
   "source": [
    "from pytorch_lightning.callbacks import Callback, LearningRateMonitor, ModelCheckpoint\n",
    "from pytorch_lightning.loggers import CSVLogger, NeptuneLogger"
   ]
  },
  {
   "cell_type": "code",
   "execution_count": 104,
   "id": "e5f3ca9f-7e11-4acc-8f02-d8cc701ee309",
   "metadata": {},
   "outputs": [],
   "source": [
    "g = torch.Generator()\n",
    "g.manual_seed(1)\n",
    "        \n",
    "dataset = StackDataset(\n",
    "    dataset_orig['full']['X'], dataset_modis['full']['X'], dataset_landsat['full']['X'], \n",
    "    y=dataset_orig['full']['y'])\n",
    "train_dataset, val_dataset = random_split(dataset, lengths=[int(len(dataset)*0.8), int(len(dataset)*0.2)], generator=g)\n",
    "test_dataset = StackDataset(dataset_orig['test']['X'], dataset_modis['test']['X'], dataset_landsat['test']['X'], y=None)"
   ]
  },
  {
   "cell_type": "code",
   "execution_count": 105,
   "id": "59119c40-ad26-4174-9e4f-9472a733af81",
   "metadata": {},
   "outputs": [],
   "source": [
    "best_checkpointer = ModelCheckpoint(save_top_k=1, save_last=True, monitor='valid_loss', filename='best')\n",
    "csv_logger = CSVLogger(save_dir='')\n",
    "neptune_logger = NeptuneLogger(\n",
    "    api_key=token,\n",
    "    project='fant0md/aihacks-2022-fields')\n",
    "lr_monitor = LearningRateMonitor(logging_interval ='epoch')"
   ]
  },
  {
   "cell_type": "code",
   "execution_count": 113,
   "id": "a47bf216-508b-419c-acae-e4143da2f926",
   "metadata": {},
   "outputs": [
    {
     "name": "stderr",
     "output_type": "stream",
     "text": [
      "GPU available: False, used: False\n",
      "TPU available: False, using: 0 TPU cores\n",
      "IPU available: False, using: 0 IPUs\n",
      "HPU available: False, using: 0 HPUs\n"
     ]
    }
   ],
   "source": [
    "trainer = pl.Trainer(\n",
    "    log_every_n_steps=1, \n",
    "    logger=neptune_logger, \n",
    "    callbacks=[best_checkpointer, lr_monitor], \n",
    "    max_epochs=50, \n",
    "    accelerator='auto',\n",
    "    devices=1)"
   ]
  },
  {
   "cell_type": "code",
   "execution_count": 107,
   "id": "a70dd4e3-3bf4-4eac-947b-0afd4e93560a",
   "metadata": {},
   "outputs": [],
   "source": [
    "pl_model = StackRNN(hidden_size=64, layers=2, dropout=0.5, lr=0.01, wd=0, gamma=0.9)\n",
    "pl_data = StackDataModule(train_dataset, val_dataset, test_dataset, batch_size=64)"
   ]
  },
  {
   "cell_type": "code",
   "execution_count": 108,
   "id": "6822c7ec-ddaf-4e50-a65d-ebec5f7465e5",
   "metadata": {
    "collapsed": true,
    "jupyter": {
     "outputs_hidden": true
    },
    "tags": []
   },
   "outputs": [
    {
     "name": "stderr",
     "output_type": "stream",
     "text": [
      "\n",
      "  | Name         | Type             | Params\n",
      "--------------------------------------------------\n",
      "0 | rnn1         | GRU              | 100 K \n",
      "1 | rnn2         | GRU              | 100 K \n",
      "2 | rnn3         | GRU              | 100 K \n",
      "3 | fc           | Sequential       | 67.6 K\n",
      "4 | act          | ReLU             | 0     \n",
      "5 | criterion    | CrossEntropyLoss | 0     \n",
      "6 | train_recall | Recall           | 0     \n",
      "7 | valid_recall | Recall           | 0     \n",
      "--------------------------------------------------\n",
      "368 K     Trainable params\n",
      "0         Non-trainable params\n",
      "368 K     Total params\n",
      "1.473     Total estimated model params size (MB)\n"
     ]
    },
    {
     "name": "stdout",
     "output_type": "stream",
     "text": [
      "https://app.neptune.ai/fant0md/aihacks-2022-fields/e/AIH-50\n",
      "Remember to stop your run once you’ve finished logging your metadata (https://docs.neptune.ai/api-reference/run#.stop). It will be stopped automatically only when the notebook kernel/interactive console is terminated.\n"
     ]
    },
    {
     "data": {
      "application/vnd.jupyter.widget-view+json": {
       "model_id": "",
       "version_major": 2,
       "version_minor": 0
      },
      "text/plain": [
       "Sanity Checking: 0it [00:00, ?it/s]"
      ]
     },
     "metadata": {},
     "output_type": "display_data"
    },
    {
     "data": {
      "application/vnd.jupyter.widget-view+json": {
       "model_id": "2b8c236bda264f28a2cad2586d523129",
       "version_major": 2,
       "version_minor": 0
      },
      "text/plain": [
       "Training: 0it [00:00, ?it/s]"
      ]
     },
     "metadata": {},
     "output_type": "display_data"
    },
    {
     "data": {
      "application/vnd.jupyter.widget-view+json": {
       "model_id": "",
       "version_major": 2,
       "version_minor": 0
      },
      "text/plain": [
       "Validation: 0it [00:00, ?it/s]"
      ]
     },
     "metadata": {},
     "output_type": "display_data"
    },
    {
     "data": {
      "application/vnd.jupyter.widget-view+json": {
       "model_id": "",
       "version_major": 2,
       "version_minor": 0
      },
      "text/plain": [
       "Validation: 0it [00:00, ?it/s]"
      ]
     },
     "metadata": {},
     "output_type": "display_data"
    },
    {
     "data": {
      "application/vnd.jupyter.widget-view+json": {
       "model_id": "",
       "version_major": 2,
       "version_minor": 0
      },
      "text/plain": [
       "Validation: 0it [00:00, ?it/s]"
      ]
     },
     "metadata": {},
     "output_type": "display_data"
    },
    {
     "data": {
      "application/vnd.jupyter.widget-view+json": {
       "model_id": "",
       "version_major": 2,
       "version_minor": 0
      },
      "text/plain": [
       "Validation: 0it [00:00, ?it/s]"
      ]
     },
     "metadata": {},
     "output_type": "display_data"
    },
    {
     "data": {
      "application/vnd.jupyter.widget-view+json": {
       "model_id": "",
       "version_major": 2,
       "version_minor": 0
      },
      "text/plain": [
       "Validation: 0it [00:00, ?it/s]"
      ]
     },
     "metadata": {},
     "output_type": "display_data"
    },
    {
     "data": {
      "application/vnd.jupyter.widget-view+json": {
       "model_id": "",
       "version_major": 2,
       "version_minor": 0
      },
      "text/plain": [
       "Validation: 0it [00:00, ?it/s]"
      ]
     },
     "metadata": {},
     "output_type": "display_data"
    },
    {
     "data": {
      "application/vnd.jupyter.widget-view+json": {
       "model_id": "",
       "version_major": 2,
       "version_minor": 0
      },
      "text/plain": [
       "Validation: 0it [00:00, ?it/s]"
      ]
     },
     "metadata": {},
     "output_type": "display_data"
    },
    {
     "data": {
      "application/vnd.jupyter.widget-view+json": {
       "model_id": "",
       "version_major": 2,
       "version_minor": 0
      },
      "text/plain": [
       "Validation: 0it [00:00, ?it/s]"
      ]
     },
     "metadata": {},
     "output_type": "display_data"
    },
    {
     "data": {
      "application/vnd.jupyter.widget-view+json": {
       "model_id": "",
       "version_major": 2,
       "version_minor": 0
      },
      "text/plain": [
       "Validation: 0it [00:00, ?it/s]"
      ]
     },
     "metadata": {},
     "output_type": "display_data"
    },
    {
     "data": {
      "application/vnd.jupyter.widget-view+json": {
       "model_id": "",
       "version_major": 2,
       "version_minor": 0
      },
      "text/plain": [
       "Validation: 0it [00:00, ?it/s]"
      ]
     },
     "metadata": {},
     "output_type": "display_data"
    },
    {
     "data": {
      "application/vnd.jupyter.widget-view+json": {
       "model_id": "",
       "version_major": 2,
       "version_minor": 0
      },
      "text/plain": [
       "Validation: 0it [00:00, ?it/s]"
      ]
     },
     "metadata": {},
     "output_type": "display_data"
    },
    {
     "data": {
      "application/vnd.jupyter.widget-view+json": {
       "model_id": "",
       "version_major": 2,
       "version_minor": 0
      },
      "text/plain": [
       "Validation: 0it [00:00, ?it/s]"
      ]
     },
     "metadata": {},
     "output_type": "display_data"
    },
    {
     "data": {
      "application/vnd.jupyter.widget-view+json": {
       "model_id": "",
       "version_major": 2,
       "version_minor": 0
      },
      "text/plain": [
       "Validation: 0it [00:00, ?it/s]"
      ]
     },
     "metadata": {},
     "output_type": "display_data"
    },
    {
     "data": {
      "application/vnd.jupyter.widget-view+json": {
       "model_id": "",
       "version_major": 2,
       "version_minor": 0
      },
      "text/plain": [
       "Validation: 0it [00:00, ?it/s]"
      ]
     },
     "metadata": {},
     "output_type": "display_data"
    },
    {
     "data": {
      "application/vnd.jupyter.widget-view+json": {
       "model_id": "",
       "version_major": 2,
       "version_minor": 0
      },
      "text/plain": [
       "Validation: 0it [00:00, ?it/s]"
      ]
     },
     "metadata": {},
     "output_type": "display_data"
    },
    {
     "data": {
      "application/vnd.jupyter.widget-view+json": {
       "model_id": "",
       "version_major": 2,
       "version_minor": 0
      },
      "text/plain": [
       "Validation: 0it [00:00, ?it/s]"
      ]
     },
     "metadata": {},
     "output_type": "display_data"
    },
    {
     "data": {
      "application/vnd.jupyter.widget-view+json": {
       "model_id": "",
       "version_major": 2,
       "version_minor": 0
      },
      "text/plain": [
       "Validation: 0it [00:00, ?it/s]"
      ]
     },
     "metadata": {},
     "output_type": "display_data"
    },
    {
     "data": {
      "application/vnd.jupyter.widget-view+json": {
       "model_id": "",
       "version_major": 2,
       "version_minor": 0
      },
      "text/plain": [
       "Validation: 0it [00:00, ?it/s]"
      ]
     },
     "metadata": {},
     "output_type": "display_data"
    },
    {
     "data": {
      "application/vnd.jupyter.widget-view+json": {
       "model_id": "",
       "version_major": 2,
       "version_minor": 0
      },
      "text/plain": [
       "Validation: 0it [00:00, ?it/s]"
      ]
     },
     "metadata": {},
     "output_type": "display_data"
    },
    {
     "data": {
      "application/vnd.jupyter.widget-view+json": {
       "model_id": "",
       "version_major": 2,
       "version_minor": 0
      },
      "text/plain": [
       "Validation: 0it [00:00, ?it/s]"
      ]
     },
     "metadata": {},
     "output_type": "display_data"
    },
    {
     "data": {
      "application/vnd.jupyter.widget-view+json": {
       "model_id": "",
       "version_major": 2,
       "version_minor": 0
      },
      "text/plain": [
       "Validation: 0it [00:00, ?it/s]"
      ]
     },
     "metadata": {},
     "output_type": "display_data"
    },
    {
     "data": {
      "application/vnd.jupyter.widget-view+json": {
       "model_id": "",
       "version_major": 2,
       "version_minor": 0
      },
      "text/plain": [
       "Validation: 0it [00:00, ?it/s]"
      ]
     },
     "metadata": {},
     "output_type": "display_data"
    },
    {
     "data": {
      "application/vnd.jupyter.widget-view+json": {
       "model_id": "",
       "version_major": 2,
       "version_minor": 0
      },
      "text/plain": [
       "Validation: 0it [00:00, ?it/s]"
      ]
     },
     "metadata": {},
     "output_type": "display_data"
    },
    {
     "data": {
      "application/vnd.jupyter.widget-view+json": {
       "model_id": "",
       "version_major": 2,
       "version_minor": 0
      },
      "text/plain": [
       "Validation: 0it [00:00, ?it/s]"
      ]
     },
     "metadata": {},
     "output_type": "display_data"
    },
    {
     "data": {
      "application/vnd.jupyter.widget-view+json": {
       "model_id": "",
       "version_major": 2,
       "version_minor": 0
      },
      "text/plain": [
       "Validation: 0it [00:00, ?it/s]"
      ]
     },
     "metadata": {},
     "output_type": "display_data"
    },
    {
     "data": {
      "application/vnd.jupyter.widget-view+json": {
       "model_id": "",
       "version_major": 2,
       "version_minor": 0
      },
      "text/plain": [
       "Validation: 0it [00:00, ?it/s]"
      ]
     },
     "metadata": {},
     "output_type": "display_data"
    },
    {
     "data": {
      "application/vnd.jupyter.widget-view+json": {
       "model_id": "",
       "version_major": 2,
       "version_minor": 0
      },
      "text/plain": [
       "Validation: 0it [00:00, ?it/s]"
      ]
     },
     "metadata": {},
     "output_type": "display_data"
    },
    {
     "data": {
      "application/vnd.jupyter.widget-view+json": {
       "model_id": "",
       "version_major": 2,
       "version_minor": 0
      },
      "text/plain": [
       "Validation: 0it [00:00, ?it/s]"
      ]
     },
     "metadata": {},
     "output_type": "display_data"
    }
   ],
   "source": [
    "trainer.fit(pl_model, pl_data)"
   ]
  },
  {
   "cell_type": "code",
   "execution_count": null,
   "id": "94c8e070-ff6e-4c58-a70a-d7d2d22abbf6",
   "metadata": {},
   "outputs": [],
   "source": [
    "from tsai.all import *"
   ]
  },
  {
   "cell_type": "code",
   "execution_count": 220,
   "id": "31284b07-1aff-4618-9920-ac737230d7d5",
   "metadata": {},
   "outputs": [],
   "source": [
    "import torchmetrics\n",
    "\n",
    "class StackTSAITransformer(pl.LightningModule):\n",
    "    def __init__(self, d_model=64, n_head=1, d_ffn=128, d_head=128, dropout=0.1, activation=\"relu\", n_layers=1, **hparams):\n",
    "        super().__init__()\n",
    "        self.save_hyperparameters()\n",
    "        self.model1 = TST(\n",
    "            c_in=1, c_out=d_head, seq_len=70,\n",
    "            d_model=d_model, n_heads=n_head, d_ff=d_ffn, dropout=dropout, act=activation, n_layers=n_layers)\n",
    "        self.model2 = TST(\n",
    "            c_in=1, c_out=d_head, seq_len=139,\n",
    "            d_model=d_model, n_heads=n_head, d_ff=d_ffn, dropout=dropout, act=activation, n_layers=n_layers)\n",
    "        self.model3 = TST(\n",
    "            c_in=1, c_out=d_head, seq_len=18,\n",
    "            d_model=d_model, n_heads=n_head, d_ff=d_ffn, dropout=dropout, act=activation, n_layers=n_layers)\n",
    "        \n",
    "        self.fc = nn.Sequential(\n",
    "            nn.ReLU(),\n",
    "            nn.Linear(d_head, d_head),\n",
    "            # nn.Dropout(dropout),\n",
    "            nn.ReLU(),\n",
    "            nn.Linear(d_head, out_features=7))\n",
    "        \n",
    "        self.criterion = nn.CrossEntropyLoss()\n",
    "        self.train_recall = torchmetrics.Recall()\n",
    "        self.valid_recall = torchmetrics.Recall()\n",
    "        \n",
    "    def forward(self, x1, x2, x3):\n",
    "        h1 = self.model1.forward(x1)\n",
    "        h2 = self.model2.forward(x2)\n",
    "        h3 = self.model3.forward(x3)\n",
    "\n",
    "        h = torch.stack((h1,h2,h3), axis=-1)\n",
    "        h = torch.amax(h, axis=-1)\n",
    "        # h = h1\n",
    "        return self.fc(h)\n",
    "    \n",
    "    def _prepare_batch(self, batch, train=True):\n",
    "        if train:\n",
    "            (x1, x2, x3), y = batch\n",
    "            x1 = x1.unsqueeze(1).float()\n",
    "            x2 = x2.unsqueeze(1).float()\n",
    "            x3 = x3.unsqueeze(1).float()\n",
    "            y = y.long()\n",
    "            return (x1, x2, x3), y\n",
    "        else:\n",
    "            (x1, x2, x3) = batch\n",
    "            x1 = x1.unsqueeze(1).float()\n",
    "            x2 = x2.unsqueeze(1).float()\n",
    "            x3 = x3.unsqueeze(1).float()\n",
    "            return (x1, x2, x3)\n",
    "    \n",
    "    def training_step(self, batch, batch_idx):\n",
    "        (x1, x2, x3), y = self._prepare_batch(batch)\n",
    "        output = self.forward(x1, x2, x3)\n",
    "        loss = self.criterion(output, y)\n",
    "        self.train_recall(torch.tensor(output), y)\n",
    "        self.log('train_loss', loss.item(), on_step=True, on_epoch=True)\n",
    "        self.log('train_recall', self.train_recall, on_step=True, on_epoch=True)\n",
    "        return loss\n",
    "\n",
    "    def validation_step(self, batch, batch_idx):\n",
    "        (x1, x2, x3), y = self._prepare_batch(batch)\n",
    "        output = self.forward(x1, x2, x3)\n",
    "        loss = self.criterion(output, y)\n",
    "        self.valid_recall(torch.tensor(output), y)\n",
    "        self.log('valid_loss', loss.item(), on_step=True, on_epoch=True)\n",
    "        self.log('valid_recall', self.valid_recall, on_step=True, on_epoch=True)\n",
    "        return loss\n",
    "\n",
    "    def predict_step(self, batch, batch_idx):\n",
    "        (x1, x2, x3) = self._prepare_batch(batch, train=False)\n",
    "        output = self.forward(x1, x2, x3)\n",
    "        return output\n",
    "\n",
    "    def configure_optimizers(self):\n",
    "        optimizer = torch.optim.Adam(self.parameters(), lr=self.hparams.lr, weight_decay=self.hparams.wd)\n",
    "        scheduler = torch.optim.lr_scheduler.ExponentialLR(optimizer, self.hparams.gamma)\n",
    "        return [optimizer], [scheduler]"
   ]
  },
  {
   "cell_type": "code",
   "execution_count": 221,
   "id": "0ddf08e7-031f-4e52-8357-5f81c2a155c6",
   "metadata": {},
   "outputs": [
    {
     "name": "stderr",
     "output_type": "stream",
     "text": [
      "GPU available: False, used: False\n",
      "TPU available: False, using: 0 TPU cores\n",
      "IPU available: False, using: 0 IPUs\n",
      "HPU available: False, using: 0 HPUs\n"
     ]
    }
   ],
   "source": [
    "neptune_logger = NeptuneLogger(\n",
    "    api_key=token,\n",
    "    project='fant0md/aihacks-2022-fields')\n",
    "trainer = pl.Trainer(\n",
    "    log_every_n_steps=1, \n",
    "    logger=neptune_logger, \n",
    "    callbacks=[lr_monitor], \n",
    "    max_epochs=50, \n",
    "    accelerator='auto',\n",
    "    devices=1)"
   ]
  },
  {
   "cell_type": "code",
   "execution_count": 222,
   "id": "3ed5e414-f671-4b18-bd9b-368fac3013d0",
   "metadata": {},
   "outputs": [],
   "source": [
    "pl_model = StackTSAITransformer(\n",
    "    d_model=64, n_head=1, d_ffn=64, d_head=128, dropout=0, activation=\"relu\", n_layers=2,\n",
    "    lr=0.0001, wd=0, gamma=0.99)\n",
    "pl_data = StackDataModule(train_dataset, val_dataset, test_dataset, batch_size=64)"
   ]
  },
  {
   "cell_type": "code",
   "execution_count": 223,
   "id": "bfacbb49-588d-434e-910b-7759d6c48e44",
   "metadata": {},
   "outputs": [
    {
     "name": "stderr",
     "output_type": "stream",
     "text": [
      "\n",
      "  | Name         | Type             | Params\n",
      "--------------------------------------------------\n",
      "0 | model1       | TST              | 628 K \n",
      "1 | model2       | TST              | 1.2 M \n",
      "2 | model3       | TST              | 198 K \n",
      "3 | fc           | Sequential       | 17.4 K\n",
      "4 | criterion    | CrossEntropyLoss | 0     \n",
      "5 | train_recall | Recall           | 0     \n",
      "6 | valid_recall | Recall           | 0     \n",
      "--------------------------------------------------\n",
      "2.0 M     Trainable params\n",
      "0         Non-trainable params\n",
      "2.0 M     Total params\n",
      "8.168     Total estimated model params size (MB)\n"
     ]
    },
    {
     "name": "stdout",
     "output_type": "stream",
     "text": [
      "https://app.neptune.ai/fant0md/aihacks-2022-fields/e/AIH-66\n",
      "Remember to stop your run once you’ve finished logging your metadata (https://docs.neptune.ai/api-reference/run#.stop). It will be stopped automatically only when the notebook kernel/interactive console is terminated.\n"
     ]
    },
    {
     "data": {
      "application/vnd.jupyter.widget-view+json": {
       "model_id": "",
       "version_major": 2,
       "version_minor": 0
      },
      "text/plain": [
       "Sanity Checking: 0it [00:00, ?it/s]"
      ]
     },
     "metadata": {},
     "output_type": "display_data"
    },
    {
     "data": {
      "application/vnd.jupyter.widget-view+json": {
       "model_id": "da1586effbb24298bb6a6aabf2da74e2",
       "version_major": 2,
       "version_minor": 0
      },
      "text/plain": [
       "Training: 0it [00:00, ?it/s]"
      ]
     },
     "metadata": {},
     "output_type": "display_data"
    },
    {
     "data": {
      "application/vnd.jupyter.widget-view+json": {
       "model_id": "",
       "version_major": 2,
       "version_minor": 0
      },
      "text/plain": [
       "Validation: 0it [00:00, ?it/s]"
      ]
     },
     "metadata": {},
     "output_type": "display_data"
    },
    {
     "data": {
      "application/vnd.jupyter.widget-view+json": {
       "model_id": "",
       "version_major": 2,
       "version_minor": 0
      },
      "text/plain": [
       "Validation: 0it [00:00, ?it/s]"
      ]
     },
     "metadata": {},
     "output_type": "display_data"
    },
    {
     "data": {
      "application/vnd.jupyter.widget-view+json": {
       "model_id": "",
       "version_major": 2,
       "version_minor": 0
      },
      "text/plain": [
       "Validation: 0it [00:00, ?it/s]"
      ]
     },
     "metadata": {},
     "output_type": "display_data"
    },
    {
     "data": {
      "application/vnd.jupyter.widget-view+json": {
       "model_id": "",
       "version_major": 2,
       "version_minor": 0
      },
      "text/plain": [
       "Validation: 0it [00:00, ?it/s]"
      ]
     },
     "metadata": {},
     "output_type": "display_data"
    },
    {
     "data": {
      "application/vnd.jupyter.widget-view+json": {
       "model_id": "",
       "version_major": 2,
       "version_minor": 0
      },
      "text/plain": [
       "Validation: 0it [00:00, ?it/s]"
      ]
     },
     "metadata": {},
     "output_type": "display_data"
    },
    {
     "data": {
      "application/vnd.jupyter.widget-view+json": {
       "model_id": "",
       "version_major": 2,
       "version_minor": 0
      },
      "text/plain": [
       "Validation: 0it [00:00, ?it/s]"
      ]
     },
     "metadata": {},
     "output_type": "display_data"
    },
    {
     "data": {
      "application/vnd.jupyter.widget-view+json": {
       "model_id": "",
       "version_major": 2,
       "version_minor": 0
      },
      "text/plain": [
       "Validation: 0it [00:00, ?it/s]"
      ]
     },
     "metadata": {},
     "output_type": "display_data"
    },
    {
     "data": {
      "application/vnd.jupyter.widget-view+json": {
       "model_id": "",
       "version_major": 2,
       "version_minor": 0
      },
      "text/plain": [
       "Validation: 0it [00:00, ?it/s]"
      ]
     },
     "metadata": {},
     "output_type": "display_data"
    },
    {
     "data": {
      "application/vnd.jupyter.widget-view+json": {
       "model_id": "",
       "version_major": 2,
       "version_minor": 0
      },
      "text/plain": [
       "Validation: 0it [00:00, ?it/s]"
      ]
     },
     "metadata": {},
     "output_type": "display_data"
    },
    {
     "data": {
      "application/vnd.jupyter.widget-view+json": {
       "model_id": "",
       "version_major": 2,
       "version_minor": 0
      },
      "text/plain": [
       "Validation: 0it [00:00, ?it/s]"
      ]
     },
     "metadata": {},
     "output_type": "display_data"
    },
    {
     "data": {
      "application/vnd.jupyter.widget-view+json": {
       "model_id": "",
       "version_major": 2,
       "version_minor": 0
      },
      "text/plain": [
       "Validation: 0it [00:00, ?it/s]"
      ]
     },
     "metadata": {},
     "output_type": "display_data"
    },
    {
     "data": {
      "application/vnd.jupyter.widget-view+json": {
       "model_id": "",
       "version_major": 2,
       "version_minor": 0
      },
      "text/plain": [
       "Validation: 0it [00:00, ?it/s]"
      ]
     },
     "metadata": {},
     "output_type": "display_data"
    },
    {
     "data": {
      "application/vnd.jupyter.widget-view+json": {
       "model_id": "",
       "version_major": 2,
       "version_minor": 0
      },
      "text/plain": [
       "Validation: 0it [00:00, ?it/s]"
      ]
     },
     "metadata": {},
     "output_type": "display_data"
    },
    {
     "data": {
      "application/vnd.jupyter.widget-view+json": {
       "model_id": "",
       "version_major": 2,
       "version_minor": 0
      },
      "text/plain": [
       "Validation: 0it [00:00, ?it/s]"
      ]
     },
     "metadata": {},
     "output_type": "display_data"
    },
    {
     "data": {
      "application/vnd.jupyter.widget-view+json": {
       "model_id": "",
       "version_major": 2,
       "version_minor": 0
      },
      "text/plain": [
       "Validation: 0it [00:00, ?it/s]"
      ]
     },
     "metadata": {},
     "output_type": "display_data"
    },
    {
     "data": {
      "application/vnd.jupyter.widget-view+json": {
       "model_id": "",
       "version_major": 2,
       "version_minor": 0
      },
      "text/plain": [
       "Validation: 0it [00:00, ?it/s]"
      ]
     },
     "metadata": {},
     "output_type": "display_data"
    },
    {
     "data": {
      "application/vnd.jupyter.widget-view+json": {
       "model_id": "",
       "version_major": 2,
       "version_minor": 0
      },
      "text/plain": [
       "Validation: 0it [00:00, ?it/s]"
      ]
     },
     "metadata": {},
     "output_type": "display_data"
    },
    {
     "data": {
      "application/vnd.jupyter.widget-view+json": {
       "model_id": "",
       "version_major": 2,
       "version_minor": 0
      },
      "text/plain": [
       "Validation: 0it [00:00, ?it/s]"
      ]
     },
     "metadata": {},
     "output_type": "display_data"
    },
    {
     "data": {
      "application/vnd.jupyter.widget-view+json": {
       "model_id": "",
       "version_major": 2,
       "version_minor": 0
      },
      "text/plain": [
       "Validation: 0it [00:00, ?it/s]"
      ]
     },
     "metadata": {},
     "output_type": "display_data"
    },
    {
     "data": {
      "application/vnd.jupyter.widget-view+json": {
       "model_id": "",
       "version_major": 2,
       "version_minor": 0
      },
      "text/plain": [
       "Validation: 0it [00:00, ?it/s]"
      ]
     },
     "metadata": {},
     "output_type": "display_data"
    },
    {
     "data": {
      "application/vnd.jupyter.widget-view+json": {
       "model_id": "",
       "version_major": 2,
       "version_minor": 0
      },
      "text/plain": [
       "Validation: 0it [00:00, ?it/s]"
      ]
     },
     "metadata": {},
     "output_type": "display_data"
    },
    {
     "data": {
      "application/vnd.jupyter.widget-view+json": {
       "model_id": "",
       "version_major": 2,
       "version_minor": 0
      },
      "text/plain": [
       "Validation: 0it [00:00, ?it/s]"
      ]
     },
     "metadata": {},
     "output_type": "display_data"
    },
    {
     "data": {
      "application/vnd.jupyter.widget-view+json": {
       "model_id": "",
       "version_major": 2,
       "version_minor": 0
      },
      "text/plain": [
       "Validation: 0it [00:00, ?it/s]"
      ]
     },
     "metadata": {},
     "output_type": "display_data"
    },
    {
     "data": {
      "application/vnd.jupyter.widget-view+json": {
       "model_id": "",
       "version_major": 2,
       "version_minor": 0
      },
      "text/plain": [
       "Validation: 0it [00:00, ?it/s]"
      ]
     },
     "metadata": {},
     "output_type": "display_data"
    },
    {
     "data": {
      "application/vnd.jupyter.widget-view+json": {
       "model_id": "",
       "version_major": 2,
       "version_minor": 0
      },
      "text/plain": [
       "Validation: 0it [00:00, ?it/s]"
      ]
     },
     "metadata": {},
     "output_type": "display_data"
    },
    {
     "data": {
      "application/vnd.jupyter.widget-view+json": {
       "model_id": "",
       "version_major": 2,
       "version_minor": 0
      },
      "text/plain": [
       "Validation: 0it [00:00, ?it/s]"
      ]
     },
     "metadata": {},
     "output_type": "display_data"
    },
    {
     "data": {
      "application/vnd.jupyter.widget-view+json": {
       "model_id": "",
       "version_major": 2,
       "version_minor": 0
      },
      "text/plain": [
       "Validation: 0it [00:00, ?it/s]"
      ]
     },
     "metadata": {},
     "output_type": "display_data"
    },
    {
     "data": {
      "application/vnd.jupyter.widget-view+json": {
       "model_id": "",
       "version_major": 2,
       "version_minor": 0
      },
      "text/plain": [
       "Validation: 0it [00:00, ?it/s]"
      ]
     },
     "metadata": {},
     "output_type": "display_data"
    },
    {
     "data": {
      "application/vnd.jupyter.widget-view+json": {
       "model_id": "",
       "version_major": 2,
       "version_minor": 0
      },
      "text/plain": [
       "Validation: 0it [00:00, ?it/s]"
      ]
     },
     "metadata": {},
     "output_type": "display_data"
    },
    {
     "data": {
      "application/vnd.jupyter.widget-view+json": {
       "model_id": "",
       "version_major": 2,
       "version_minor": 0
      },
      "text/plain": [
       "Validation: 0it [00:00, ?it/s]"
      ]
     },
     "metadata": {},
     "output_type": "display_data"
    },
    {
     "data": {
      "application/vnd.jupyter.widget-view+json": {
       "model_id": "",
       "version_major": 2,
       "version_minor": 0
      },
      "text/plain": [
       "Validation: 0it [00:00, ?it/s]"
      ]
     },
     "metadata": {},
     "output_type": "display_data"
    },
    {
     "data": {
      "application/vnd.jupyter.widget-view+json": {
       "model_id": "",
       "version_major": 2,
       "version_minor": 0
      },
      "text/plain": [
       "Validation: 0it [00:00, ?it/s]"
      ]
     },
     "metadata": {},
     "output_type": "display_data"
    },
    {
     "data": {
      "application/vnd.jupyter.widget-view+json": {
       "model_id": "",
       "version_major": 2,
       "version_minor": 0
      },
      "text/plain": [
       "Validation: 0it [00:00, ?it/s]"
      ]
     },
     "metadata": {},
     "output_type": "display_data"
    },
    {
     "data": {
      "application/vnd.jupyter.widget-view+json": {
       "model_id": "",
       "version_major": 2,
       "version_minor": 0
      },
      "text/plain": [
       "Validation: 0it [00:00, ?it/s]"
      ]
     },
     "metadata": {},
     "output_type": "display_data"
    },
    {
     "data": {
      "application/vnd.jupyter.widget-view+json": {
       "model_id": "",
       "version_major": 2,
       "version_minor": 0
      },
      "text/plain": [
       "Validation: 0it [00:00, ?it/s]"
      ]
     },
     "metadata": {},
     "output_type": "display_data"
    }
   ],
   "source": [
    "trainer.fit(pl_model, pl_data)"
   ]
  },
  {
   "cell_type": "code",
   "execution_count": null,
   "id": "80350be2-980a-401e-a31f-2c2deb445eab",
   "metadata": {},
   "outputs": [],
   "source": [
    "from torchvision.ops import MLP"
   ]
  },
  {
   "cell_type": "code",
   "execution_count": null,
   "id": "4b266857-595c-48d4-bd5d-86f1d688433a",
   "metadata": {},
   "outputs": [],
   "source": [
    "MLP"
   ]
  }
 ],
 "metadata": {
  "kernelspec": {
   "display_name": "Python 3",
   "language": "python",
   "name": "python3"
  },
  "language_info": {
   "codemirror_mode": {
    "name": "ipython",
    "version": 3
   },
   "file_extension": ".py",
   "mimetype": "text/x-python",
   "name": "python",
   "nbconvert_exporter": "python",
   "pygments_lexer": "ipython3",
   "version": "3.9.4"
  },
  "widgets": {
   "application/vnd.jupyter.widget-state+json": {
    "state": {
     "000faae45b7946c8b8fe6a656002c389": {
      "model_module": "@jupyter-widgets/controls",
      "model_module_version": "1.5.0",
      "model_name": "DescriptionStyleModel",
      "state": {
       "description_width": ""
      }
     },
     "002490af95b04926a60c25e1150d5a09": {
      "model_module": "@jupyter-widgets/controls",
      "model_module_version": "1.5.0",
      "model_name": "HTMLModel",
      "state": {
       "layout": "IPY_MODEL_cf7ff8a8ccf64e50a7d570aa9e0e641d",
       "style": "IPY_MODEL_f759d484550b4d258c8b19d2df41fb2d",
       "value": " 2/2 [00:00&lt;00:00,  8.90it/s]"
      }
     },
     "003323886c9e4fff8fe2f7b919ab3c9d": {
      "model_module": "@jupyter-widgets/controls",
      "model_module_version": "1.5.0",
      "model_name": "HTMLModel",
      "state": {
       "layout": "IPY_MODEL_248a655ce55e464599cf9b5fc1c51d15",
       "style": "IPY_MODEL_bff07e25587f4172ad8c078fd37a27da",
       "value": "Validation DataLoader 0: 100%"
      }
     },
     "0039fbde3524410baea7d6c7ed66fbea": {
      "model_module": "@jupyter-widgets/controls",
      "model_module_version": "1.5.0",
      "model_name": "ProgressStyleModel",
      "state": {
       "description_width": ""
      }
     },
     "004b52f391e84a359e93ec706b58f494": {
      "model_module": "@jupyter-widgets/base",
      "model_module_version": "1.2.0",
      "model_name": "LayoutModel",
      "state": {
       "display": "inline-flex",
       "flex_flow": "row wrap",
       "width": "100%"
      }
     },
     "005b74b4b8a84b60bc6a46e9e468c324": {
      "model_module": "@jupyter-widgets/base",
      "model_module_version": "1.2.0",
      "model_name": "LayoutModel",
      "state": {
       "display": "inline-flex",
       "flex_flow": "row wrap",
       "width": "100%"
      }
     },
     "006bfb288cd1486a957b446220c9677d": {
      "model_module": "@jupyter-widgets/controls",
      "model_module_version": "1.5.0",
      "model_name": "HTMLModel",
      "state": {
       "layout": "IPY_MODEL_a0f15e4d3bf94b8cb33eb0ddfd6dd678",
       "style": "IPY_MODEL_f2704b4de3e84ac1936e76f2feed9f8b",
       "value": "Validation DataLoader 0: 100%"
      }
     },
     "0079eee807274f04a1b2e001ebef7133": {
      "model_module": "@jupyter-widgets/controls",
      "model_module_version": "1.5.0",
      "model_name": "DescriptionStyleModel",
      "state": {
       "description_width": ""
      }
     },
     "008deaa734cc457fa8a4e14f32475220": {
      "model_module": "@jupyter-widgets/base",
      "model_module_version": "1.2.0",
      "model_name": "LayoutModel",
      "state": {}
     },
     "00af68fe3838433783d44e5acf67cc92": {
      "model_module": "@jupyter-widgets/controls",
      "model_module_version": "1.5.0",
      "model_name": "FloatProgressModel",
      "state": {
       "layout": "IPY_MODEL_6cb868b690ae4c0c83aa7239242aa6d6",
       "max": 16,
       "style": "IPY_MODEL_bc5e5081b96f4490b9e788d793816e87",
       "value": 16
      }
     },
     "00c077206bc545048daac2885cd1369a": {
      "model_module": "@jupyter-widgets/controls",
      "model_module_version": "1.5.0",
      "model_name": "HTMLModel",
      "state": {
       "layout": "IPY_MODEL_83de8bc7f6214ad2a51f1e1275305035",
       "style": "IPY_MODEL_a06e670e5cf5406aa3a0acd151fc5c39",
       "value": "Sanity Checking DataLoader 0: 100%"
      }
     },
     "00c36250367b428ca1b357fcaca97eb9": {
      "model_module": "@jupyter-widgets/base",
      "model_module_version": "1.2.0",
      "model_name": "LayoutModel",
      "state": {
       "display": "inline-flex",
       "flex_flow": "row wrap",
       "width": "100%"
      }
     },
     "00c70139077b41d2bd747504582d9b6b": {
      "model_module": "@jupyter-widgets/controls",
      "model_module_version": "1.5.0",
      "model_name": "HTMLModel",
      "state": {
       "layout": "IPY_MODEL_7eec283a71bd4942b574fa26b00a8876",
       "style": "IPY_MODEL_c10fe070511248ad9f1d2d1d6042bb51",
       "value": " 16/16 [00:00&lt;00:00, 17.17it/s]"
      }
     },
     "00cbe3adfa774e3cb488d66f11880f50": {
      "model_module": "@jupyter-widgets/base",
      "model_module_version": "1.2.0",
      "model_name": "LayoutModel",
      "state": {
       "flex": "2"
      }
     },
     "00e62dd095964b208d64a1c8b4ff9da0": {
      "model_module": "@jupyter-widgets/controls",
      "model_module_version": "1.5.0",
      "model_name": "HTMLModel",
      "state": {
       "layout": "IPY_MODEL_7eb572290d7042d681cef1f295ff10f2",
       "style": "IPY_MODEL_5f6dc3ccbf1442ad833064b0bdec1c07",
       "value": "Sanity Checking DataLoader 0: 100%"
      }
     },
     "010ed2a11def439bae44eb701026e9b9": {
      "model_module": "@jupyter-widgets/controls",
      "model_module_version": "1.5.0",
      "model_name": "HTMLModel",
      "state": {
       "layout": "IPY_MODEL_7e74307bf1a34996ae651ef87ca8c1e0",
       "style": "IPY_MODEL_b2b2d24dcfa64b518ade8645b9351950",
       "value": "Validation DataLoader 0: 100%"
      }
     },
     "0117c61a6c754897990d0fe2233b74b0": {
      "model_module": "@jupyter-widgets/controls",
      "model_module_version": "1.5.0",
      "model_name": "DescriptionStyleModel",
      "state": {
       "description_width": ""
      }
     },
     "013d4c68268041b09098feee89b1e9d9": {
      "model_module": "@jupyter-widgets/controls",
      "model_module_version": "1.5.0",
      "model_name": "DescriptionStyleModel",
      "state": {
       "description_width": ""
      }
     },
     "0141cc0e273a448bbf704095dea8bfbe": {
      "model_module": "@jupyter-widgets/controls",
      "model_module_version": "1.5.0",
      "model_name": "FloatProgressModel",
      "state": {
       "layout": "IPY_MODEL_71cc6d1fb92e44feac9ebf923b167e27",
       "max": 16,
       "style": "IPY_MODEL_8695f7f127224362b3ba24a36d9c6e0d",
       "value": 16
      }
     },
     "0149f6342c274152bcbc76be33d44078": {
      "model_module": "@jupyter-widgets/controls",
      "model_module_version": "1.5.0",
      "model_name": "HTMLModel",
      "state": {
       "layout": "IPY_MODEL_7f5c8ca9f490481f972ab1d61a8b7974",
       "style": "IPY_MODEL_e83944e8e0f447ca8c54daf1e7718036",
       "value": " 16/16 [00:00&lt;00:00, 17.39it/s]"
      }
     },
     "0185ec29cf854603b6abbec6303e9e05": {
      "model_module": "@jupyter-widgets/base",
      "model_module_version": "1.2.0",
      "model_name": "LayoutModel",
      "state": {
       "flex": "2"
      }
     },
     "018650983d8b4b0087127ccfb456a36b": {
      "model_module": "@jupyter-widgets/base",
      "model_module_version": "1.2.0",
      "model_name": "LayoutModel",
      "state": {
       "flex": "2"
      }
     },
     "01a44287f90c464fb1e1ed7824b09515": {
      "model_module": "@jupyter-widgets/controls",
      "model_module_version": "1.5.0",
      "model_name": "HTMLModel",
      "state": {
       "layout": "IPY_MODEL_f93c569988254be9b4a820058c359960",
       "style": "IPY_MODEL_c790cddc268d46e39be7c7c7ae2c4709",
       "value": " 16/16 [00:00&lt;00:00, 19.77it/s]"
      }
     },
     "01ab1db51c72401e98a2cdf96c765bf9": {
      "model_module": "@jupyter-widgets/controls",
      "model_module_version": "1.5.0",
      "model_name": "DescriptionStyleModel",
      "state": {
       "description_width": ""
      }
     },
     "01c06c3e50434cd991bc6af3595165c0": {
      "model_module": "@jupyter-widgets/controls",
      "model_module_version": "1.5.0",
      "model_name": "DescriptionStyleModel",
      "state": {
       "description_width": ""
      }
     },
     "01dd1106d5ad47409c845f6baf506eb7": {
      "model_module": "@jupyter-widgets/controls",
      "model_module_version": "1.5.0",
      "model_name": "HTMLModel",
      "state": {
       "layout": "IPY_MODEL_4ec5acae1eb84dda8f46248cf66b6b27",
       "style": "IPY_MODEL_738b20c175784e99a39de4927b8e2adb",
       "value": " 16/16 [00:01&lt;00:00,  8.59it/s]"
      }
     },
     "01e69d3c918b4bb5904072f18f537534": {
      "model_module": "@jupyter-widgets/controls",
      "model_module_version": "1.5.0",
      "model_name": "DescriptionStyleModel",
      "state": {
       "description_width": ""
      }
     },
     "021eff04dde240d4bf2f92c137025118": {
      "model_module": "@jupyter-widgets/controls",
      "model_module_version": "1.5.0",
      "model_name": "DescriptionStyleModel",
      "state": {
       "description_width": ""
      }
     },
     "02309dc6fd3048cfa11df3f27f7d221a": {
      "model_module": "@jupyter-widgets/controls",
      "model_module_version": "1.5.0",
      "model_name": "HTMLModel",
      "state": {
       "layout": "IPY_MODEL_08bb916dbab6424d8b537999e3c23b94",
       "style": "IPY_MODEL_e2cad51f75234d25893575f7a1c2ea2a",
       "value": " 16/16 [00:00&lt;00:00, 20.55it/s]"
      }
     },
     "0233f017b70e417c8c485a5f580600e6": {
      "model_module": "@jupyter-widgets/base",
      "model_module_version": "1.2.0",
      "model_name": "LayoutModel",
      "state": {}
     },
     "02420fa25fc24da2ab5ab9a1d2ddd9f3": {
      "model_module": "@jupyter-widgets/base",
      "model_module_version": "1.2.0",
      "model_name": "LayoutModel",
      "state": {}
     },
     "024b1b40180f46cc9a08daea25463d0b": {
      "model_module": "@jupyter-widgets/base",
      "model_module_version": "1.2.0",
      "model_name": "LayoutModel",
      "state": {
       "display": "inline-flex",
       "flex_flow": "row wrap",
       "width": "100%"
      }
     },
     "028364e9eebb44e78c9f6ca6e9ef0f68": {
      "model_module": "@jupyter-widgets/base",
      "model_module_version": "1.2.0",
      "model_name": "LayoutModel",
      "state": {}
     },
     "0288c28edfd440f095f74ba60622130d": {
      "model_module": "@jupyter-widgets/base",
      "model_module_version": "1.2.0",
      "model_name": "LayoutModel",
      "state": {
       "display": "inline-flex",
       "flex_flow": "row wrap",
       "width": "100%"
      }
     },
     "02df9ea4d93044cb992359e6337ae550": {
      "model_module": "@jupyter-widgets/controls",
      "model_module_version": "1.5.0",
      "model_name": "FloatProgressModel",
      "state": {
       "layout": "IPY_MODEL_1795990c1ee5410fa65e3f73831ba356",
       "max": 77,
       "style": "IPY_MODEL_44428b72b78d42e5829f5a7420df97f5"
      }
     },
     "02f9cf664042442c8cb5e3fd09550725": {
      "model_module": "@jupyter-widgets/base",
      "model_module_version": "1.2.0",
      "model_name": "LayoutModel",
      "state": {}
     },
     "03026b22d66f40b8ab42b28cb6447860": {
      "model_module": "@jupyter-widgets/controls",
      "model_module_version": "1.5.0",
      "model_name": "DescriptionStyleModel",
      "state": {
       "description_width": ""
      }
     },
     "031a93c71fa04cbca7c21364f67df29a": {
      "model_module": "@jupyter-widgets/controls",
      "model_module_version": "1.5.0",
      "model_name": "HTMLModel",
      "state": {
       "layout": "IPY_MODEL_0a201d614a5d401dbdd0d56d31ad6664",
       "style": "IPY_MODEL_23c4631e6dce4279950b6b29f2894eb4",
       "value": " 2/2 [00:00&lt;00:00,  2.91it/s]"
      }
     },
     "0330340209f144da813287e482df1155": {
      "model_module": "@jupyter-widgets/controls",
      "model_module_version": "1.5.0",
      "model_name": "FloatProgressModel",
      "state": {
       "layout": "IPY_MODEL_b1bb4b3d35c4495781fbf50592ef5fd8",
       "max": 16,
       "style": "IPY_MODEL_227279b5968c46c89246a2d1ee11801d",
       "value": 16
      }
     },
     "036e5469fc5c4cb5b047846ec453aeca": {
      "model_module": "@jupyter-widgets/base",
      "model_module_version": "1.2.0",
      "model_name": "LayoutModel",
      "state": {
       "flex": "2"
      }
     },
     "0376e0b70596430d84ae5b299dfa1209": {
      "model_module": "@jupyter-widgets/base",
      "model_module_version": "1.2.0",
      "model_name": "LayoutModel",
      "state": {}
     },
     "037bd6ab0b0a48b88f584cad5caaae9c": {
      "model_module": "@jupyter-widgets/controls",
      "model_module_version": "1.5.0",
      "model_name": "HBoxModel",
      "state": {
       "children": [
        "IPY_MODEL_61b330d443084201815d2ab3098cd8e0",
        "IPY_MODEL_2834cdf85e9641f8952b9479622e9e04",
        "IPY_MODEL_a8395450a9784a4094f97c2c05ed9599"
       ],
       "layout": "IPY_MODEL_fceb90df99694a9f83dcdb69825e5f25"
      }
     },
     "037c0f87ae3545c4a9f9ec74b56199bb": {
      "model_module": "@jupyter-widgets/controls",
      "model_module_version": "1.5.0",
      "model_name": "ProgressStyleModel",
      "state": {
       "description_width": ""
      }
     },
     "0387b793321d4d95bbc67b08f95d460d": {
      "model_module": "@jupyter-widgets/controls",
      "model_module_version": "1.5.0",
      "model_name": "HTMLModel",
      "state": {
       "layout": "IPY_MODEL_7414e8f550d041f89ce156c891935839",
       "style": "IPY_MODEL_2c97dedc5c6e4e71b123ce65470ecd86",
       "value": "Validation DataLoader 0: 100%"
      }
     },
     "03beb59841664dd0b6f32ae97d93cb59": {
      "model_module": "@jupyter-widgets/base",
      "model_module_version": "1.2.0",
      "model_name": "LayoutModel",
      "state": {}
     },
     "03df684a592243a9b3c0d414496a41dd": {
      "model_module": "@jupyter-widgets/controls",
      "model_module_version": "1.5.0",
      "model_name": "DescriptionStyleModel",
      "state": {
       "description_width": ""
      }
     },
     "03e4bfc9eec04bcebaf1a150624ed72d": {
      "model_module": "@jupyter-widgets/controls",
      "model_module_version": "1.5.0",
      "model_name": "ProgressStyleModel",
      "state": {
       "description_width": ""
      }
     },
     "03eb235dc39c49dda5b965e8f5eed380": {
      "model_module": "@jupyter-widgets/controls",
      "model_module_version": "1.5.0",
      "model_name": "DescriptionStyleModel",
      "state": {
       "description_width": ""
      }
     },
     "040066f805db47c6a4fc7f01f5900a36": {
      "model_module": "@jupyter-widgets/controls",
      "model_module_version": "1.5.0",
      "model_name": "HTMLModel",
      "state": {
       "layout": "IPY_MODEL_e2736724cad2454cb5c6af8540a3c246",
       "style": "IPY_MODEL_cb5499a8b0f14632b5810115a6c329f4",
       "value": " 16/16 [00:01&lt;00:00, 12.74it/s]"
      }
     },
     "041d04e59fdb449490f593c033d6b88d": {
      "model_module": "@jupyter-widgets/base",
      "model_module_version": "1.2.0",
      "model_name": "LayoutModel",
      "state": {
       "display": "inline-flex",
       "flex_flow": "row wrap",
       "width": "100%"
      }
     },
     "0432bfa394bb40e186954849a9564969": {
      "model_module": "@jupyter-widgets/controls",
      "model_module_version": "1.5.0",
      "model_name": "HTMLModel",
      "state": {
       "layout": "IPY_MODEL_2f9c126224d74660897e6553eeb35b85",
       "style": "IPY_MODEL_f5ef53f262d54a17b414e93ecf4d1aac",
       "value": "Validation DataLoader 0: 100%"
      }
     },
     "044c94ffa81e4555acc77c6dc1ea220a": {
      "model_module": "@jupyter-widgets/controls",
      "model_module_version": "1.5.0",
      "model_name": "DescriptionStyleModel",
      "state": {
       "description_width": ""
      }
     },
     "04871082cc524014a667fb92894330a0": {
      "model_module": "@jupyter-widgets/controls",
      "model_module_version": "1.5.0",
      "model_name": "HTMLModel",
      "state": {
       "layout": "IPY_MODEL_34ccf5526d824ec0b48249143228b9e0",
       "style": "IPY_MODEL_2185ac50b7e0465c92d48957cb94832c",
       "value": " 8/77 [00:03&lt;00:28,  2.39it/s, loss=nan, v_num=H-45]"
      }
     },
     "048bff0ab31342dea9116ca798f4850b": {
      "model_module": "@jupyter-widgets/base",
      "model_module_version": "1.2.0",
      "model_name": "LayoutModel",
      "state": {
       "display": "inline-flex",
       "flex_flow": "row wrap",
       "width": "100%"
      }
     },
     "04909612c06149cab0b08051d516524c": {
      "model_module": "@jupyter-widgets/controls",
      "model_module_version": "1.5.0",
      "model_name": "HTMLModel",
      "state": {
       "layout": "IPY_MODEL_7b9b96b6b11a4c87a06499282d677616",
       "style": "IPY_MODEL_d6557ce444cd4eb9a17eb607308a45a7",
       "value": "Validation DataLoader 0: 100%"
      }
     },
     "0490c9b0bfc047529e2cfd90bcdf0ca3": {
      "model_module": "@jupyter-widgets/base",
      "model_module_version": "1.2.0",
      "model_name": "LayoutModel",
      "state": {
       "flex": "2"
      }
     },
     "04990e6211ac412daa429159e9b11c6c": {
      "model_module": "@jupyter-widgets/base",
      "model_module_version": "1.2.0",
      "model_name": "LayoutModel",
      "state": {
       "flex": "2"
      }
     },
     "04bbbc8f5f5445358fc418c6995ff3d6": {
      "model_module": "@jupyter-widgets/controls",
      "model_module_version": "1.5.0",
      "model_name": "DescriptionStyleModel",
      "state": {
       "description_width": ""
      }
     },
     "04cc15039850448f8349eebe67a2c45c": {
      "model_module": "@jupyter-widgets/controls",
      "model_module_version": "1.5.0",
      "model_name": "FloatProgressModel",
      "state": {
       "layout": "IPY_MODEL_e720b56e66594290907729d18c40d440",
       "max": 16,
       "style": "IPY_MODEL_82be92a3efdf46189af5a233ce3369c5",
       "value": 16
      }
     },
     "04d02d47459e4ca88be39bdb367cc0f4": {
      "model_module": "@jupyter-widgets/base",
      "model_module_version": "1.2.0",
      "model_name": "LayoutModel",
      "state": {}
     },
     "04d0369b2fbd4d68af46553b368b8332": {
      "model_module": "@jupyter-widgets/base",
      "model_module_version": "1.2.0",
      "model_name": "LayoutModel",
      "state": {
       "display": "inline-flex",
       "flex_flow": "row wrap",
       "width": "100%"
      }
     },
     "04eccd245d4244e3ab91508ac787fe61": {
      "model_module": "@jupyter-widgets/base",
      "model_module_version": "1.2.0",
      "model_name": "LayoutModel",
      "state": {}
     },
     "04f2469e12904c8eb15165e86120c3b1": {
      "model_module": "@jupyter-widgets/base",
      "model_module_version": "1.2.0",
      "model_name": "LayoutModel",
      "state": {}
     },
     "04ffc6e368e14ef7b768eb0ed3801165": {
      "model_module": "@jupyter-widgets/controls",
      "model_module_version": "1.5.0",
      "model_name": "HTMLModel",
      "state": {
       "layout": "IPY_MODEL_1f9000a0c3c84850ba1c200860dba0c2",
       "style": "IPY_MODEL_4ff20a0319d64dc29778161f91001dbb",
       "value": "Validation DataLoader 0: 100%"
      }
     },
     "050f2308482540088cfe1c09a5f4b56e": {
      "model_module": "@jupyter-widgets/base",
      "model_module_version": "1.2.0",
      "model_name": "LayoutModel",
      "state": {
       "flex": "2"
      }
     },
     "051ae74b1f6542d7b26c1044f1026456": {
      "model_module": "@jupyter-widgets/controls",
      "model_module_version": "1.5.0",
      "model_name": "DescriptionStyleModel",
      "state": {
       "description_width": ""
      }
     },
     "0547f9f669c14ac9960332174fb36642": {
      "model_module": "@jupyter-widgets/controls",
      "model_module_version": "1.5.0",
      "model_name": "FloatProgressModel",
      "state": {
       "layout": "IPY_MODEL_48d2a1aad494487ea184e544e760a4a4",
       "max": 16,
       "style": "IPY_MODEL_e16171e69cf4411781a3b6022abb354a",
       "value": 16
      }
     },
     "0559e11dfac042dabdfa34ba848452a2": {
      "model_module": "@jupyter-widgets/base",
      "model_module_version": "1.2.0",
      "model_name": "LayoutModel",
      "state": {}
     },
     "0559f4c5cc4d4a28ac97a875490f4ef8": {
      "model_module": "@jupyter-widgets/controls",
      "model_module_version": "1.5.0",
      "model_name": "HTMLModel",
      "state": {
       "layout": "IPY_MODEL_b82eafa5bef24a76aa75abd19fe0207a",
       "style": "IPY_MODEL_a606d21b15f546d5b4bc8e168d233924",
       "value": "Validation DataLoader 0: 100%"
      }
     },
     "05607aee9b774f938cb43fd2a4e1b221": {
      "model_module": "@jupyter-widgets/base",
      "model_module_version": "1.2.0",
      "model_name": "LayoutModel",
      "state": {}
     },
     "056ff0a0376d481bb7ca47536021c4fc": {
      "model_module": "@jupyter-widgets/controls",
      "model_module_version": "1.5.0",
      "model_name": "HTMLModel",
      "state": {
       "layout": "IPY_MODEL_634fd666efc94743b186f4696afb2422",
       "style": "IPY_MODEL_f39ec1300abe4869831ea2a662eb75ef",
       "value": "Validation DataLoader 0: 100%"
      }
     },
     "0579a234b7754006a6fae301185b6c96": {
      "model_module": "@jupyter-widgets/base",
      "model_module_version": "1.2.0",
      "model_name": "LayoutModel",
      "state": {}
     },
     "059b06aad14f4474bf6db7c869746aad": {
      "model_module": "@jupyter-widgets/base",
      "model_module_version": "1.2.0",
      "model_name": "LayoutModel",
      "state": {}
     },
     "05ae00439c114390bbc758a45f20d8b6": {
      "model_module": "@jupyter-widgets/base",
      "model_module_version": "1.2.0",
      "model_name": "LayoutModel",
      "state": {
       "display": "inline-flex",
       "flex_flow": "row wrap",
       "width": "100%"
      }
     },
     "05ccd276407d4e198f90457b5a866811": {
      "model_module": "@jupyter-widgets/controls",
      "model_module_version": "1.5.0",
      "model_name": "ProgressStyleModel",
      "state": {
       "description_width": ""
      }
     },
     "05df9cb1b2fa4cd5b81a4925a16184e2": {
      "model_module": "@jupyter-widgets/base",
      "model_module_version": "1.2.0",
      "model_name": "LayoutModel",
      "state": {}
     },
     "061355286ee940dd9b42608ce9aa8552": {
      "model_module": "@jupyter-widgets/controls",
      "model_module_version": "1.5.0",
      "model_name": "HTMLModel",
      "state": {
       "layout": "IPY_MODEL_2b764313828040b6bd24e161bcbabd6f",
       "style": "IPY_MODEL_d56134f56ecd4b669b6951261575a59b",
       "value": "Validation DataLoader 0: 100%"
      }
     },
     "061cb0cc43a94e0a80c3b8887a09306f": {
      "model_module": "@jupyter-widgets/controls",
      "model_module_version": "1.5.0",
      "model_name": "HTMLModel",
      "state": {
       "layout": "IPY_MODEL_24ac49bfa6d642f2a654f6f9ee102c24",
       "style": "IPY_MODEL_83fe239aab634594a018a86aa27f0e59",
       "value": "Validation DataLoader 0: 100%"
      }
     },
     "0621d2cbf4a143e2a3767056694d4802": {
      "model_module": "@jupyter-widgets/controls",
      "model_module_version": "1.5.0",
      "model_name": "HTMLModel",
      "state": {
       "layout": "IPY_MODEL_6e16e7d2319b41d3af314b4a1bc83c50",
       "style": "IPY_MODEL_09f29f6861fc4d4db4013d430af5b912",
       "value": "Validation DataLoader 0: 100%"
      }
     },
     "06283316d604464a87c18d76dbd9a09a": {
      "model_module": "@jupyter-widgets/base",
      "model_module_version": "1.2.0",
      "model_name": "LayoutModel",
      "state": {}
     },
     "062e32dc659547cbbbef6a39a8285095": {
      "model_module": "@jupyter-widgets/controls",
      "model_module_version": "1.5.0",
      "model_name": "HTMLModel",
      "state": {
       "layout": "IPY_MODEL_f671c699bda94fe3b53179bc3c854fa5",
       "style": "IPY_MODEL_0ab025201e934ba298ac6ca43652b260",
       "value": " 16/16 [00:00&lt;00:00, 21.07it/s]"
      }
     },
     "06352413881a4166856fdb091be2877e": {
      "model_module": "@jupyter-widgets/controls",
      "model_module_version": "1.5.0",
      "model_name": "DescriptionStyleModel",
      "state": {
       "description_width": ""
      }
     },
     "064f9d628e11471d840390ffde5a2d9b": {
      "model_module": "@jupyter-widgets/base",
      "model_module_version": "1.2.0",
      "model_name": "LayoutModel",
      "state": {}
     },
     "0653b508bb4b4016a2b891a6e93102da": {
      "model_module": "@jupyter-widgets/base",
      "model_module_version": "1.2.0",
      "model_name": "LayoutModel",
      "state": {
       "flex": "2"
      }
     },
     "06873e8e6b5046e7815ad49f50383ad4": {
      "model_module": "@jupyter-widgets/base",
      "model_module_version": "1.2.0",
      "model_name": "LayoutModel",
      "state": {}
     },
     "06a71412b1c14256b0ed397261933369": {
      "model_module": "@jupyter-widgets/base",
      "model_module_version": "1.2.0",
      "model_name": "LayoutModel",
      "state": {
       "display": "inline-flex",
       "flex_flow": "row wrap",
       "width": "100%"
      }
     },
     "06a8adb82fc74487950ef650c876555d": {
      "model_module": "@jupyter-widgets/base",
      "model_module_version": "1.2.0",
      "model_name": "LayoutModel",
      "state": {}
     },
     "06ba9f873edd414aacbb6d8692fda51c": {
      "model_module": "@jupyter-widgets/controls",
      "model_module_version": "1.5.0",
      "model_name": "FloatProgressModel",
      "state": {
       "layout": "IPY_MODEL_6b297bc9598c49b4994de81728928a48",
       "max": 77,
       "style": "IPY_MODEL_d8d1240b50ce47a197ba0588b2ab8c36",
       "value": 77
      }
     },
     "06c0b229b1df47af8ea2463697e58da7": {
      "model_module": "@jupyter-widgets/base",
      "model_module_version": "1.2.0",
      "model_name": "LayoutModel",
      "state": {
       "flex": "2"
      }
     },
     "06c4d948158b4025bc22bfd8154f5e38": {
      "model_module": "@jupyter-widgets/controls",
      "model_module_version": "1.5.0",
      "model_name": "FloatProgressModel",
      "state": {
       "layout": "IPY_MODEL_0c4472158ee648949a526a8669aa1807",
       "max": 16,
       "style": "IPY_MODEL_fb3065a261164531b218011f47db0364",
       "value": 16
      }
     },
     "06c6d4601b994317bd3b30c62a538367": {
      "model_module": "@jupyter-widgets/controls",
      "model_module_version": "1.5.0",
      "model_name": "ProgressStyleModel",
      "state": {
       "description_width": ""
      }
     },
     "06df50a1013a42948e1927ba99f274d2": {
      "model_module": "@jupyter-widgets/controls",
      "model_module_version": "1.5.0",
      "model_name": "FloatProgressModel",
      "state": {
       "layout": "IPY_MODEL_cc742daa1c84474cb6a894c53308ccee",
       "max": 16,
       "style": "IPY_MODEL_39afd3d137df44c48d656c0f8f8a171b",
       "value": 16
      }
     },
     "06ed523d6978433cb80fb5787bd5cf51": {
      "model_module": "@jupyter-widgets/base",
      "model_module_version": "1.2.0",
      "model_name": "LayoutModel",
      "state": {
       "display": "inline-flex",
       "flex_flow": "row wrap",
       "width": "100%"
      }
     },
     "07123d4aa9e2437a92294d57f8555640": {
      "model_module": "@jupyter-widgets/base",
      "model_module_version": "1.2.0",
      "model_name": "LayoutModel",
      "state": {
       "flex": "2"
      }
     },
     "07232b1254d34eb2ab0574c48da53085": {
      "model_module": "@jupyter-widgets/controls",
      "model_module_version": "1.5.0",
      "model_name": "FloatProgressModel",
      "state": {
       "layout": "IPY_MODEL_3932e89546284b81800610d946dd2110",
       "max": 16,
       "style": "IPY_MODEL_ed2def9b2704433abb74ffdfc3c9067b",
       "value": 16
      }
     },
     "0725f743465a49918288386995049280": {
      "model_module": "@jupyter-widgets/base",
      "model_module_version": "1.2.0",
      "model_name": "LayoutModel",
      "state": {
       "flex": "2"
      }
     },
     "075402dfcda2475bbe4f1e794fb308d2": {
      "model_module": "@jupyter-widgets/controls",
      "model_module_version": "1.5.0",
      "model_name": "HTMLModel",
      "state": {
       "layout": "IPY_MODEL_a00b76ea16454d87b52a7522c5d9b33e",
       "style": "IPY_MODEL_5335dccac89a4d21aa215a84e7e25ab4",
       "value": " 16/16 [00:00&lt;00:00, 14.80it/s]"
      }
     },
     "075b5895e85b4c7193bec86ca217e7b4": {
      "model_module": "@jupyter-widgets/base",
      "model_module_version": "1.2.0",
      "model_name": "LayoutModel",
      "state": {
       "display": "inline-flex",
       "flex_flow": "row wrap",
       "width": "100%"
      }
     },
     "075eb5d3b7cf418ba263008356404c5d": {
      "model_module": "@jupyter-widgets/base",
      "model_module_version": "1.2.0",
      "model_name": "LayoutModel",
      "state": {
       "flex": "2"
      }
     },
     "07695296cdb94e4bb462f2e6434f2e24": {
      "model_module": "@jupyter-widgets/base",
      "model_module_version": "1.2.0",
      "model_name": "LayoutModel",
      "state": {}
     },
     "079dbce1717d42388b39331f1afae552": {
      "model_module": "@jupyter-widgets/controls",
      "model_module_version": "1.5.0",
      "model_name": "HTMLModel",
      "state": {
       "layout": "IPY_MODEL_6d8e16e4727a4aab9acb2a3d58bf6b46",
       "style": "IPY_MODEL_f4aa800849af40438b2a7155c0db62ae",
       "value": "Validation DataLoader 0: 100%"
      }
     },
     "07a339b3c59d4633b6cfbcda256a6e83": {
      "model_module": "@jupyter-widgets/controls",
      "model_module_version": "1.5.0",
      "model_name": "HTMLModel",
      "state": {
       "layout": "IPY_MODEL_4c01f39c09c2466fb020829694fa18c5",
       "style": "IPY_MODEL_6b4462a3b63c492782e5ebef6ed230a8",
       "value": "Validation DataLoader 0: 100%"
      }
     },
     "07abf27a27ca40a29690190645baabec": {
      "model_module": "@jupyter-widgets/base",
      "model_module_version": "1.2.0",
      "model_name": "LayoutModel",
      "state": {}
     },
     "07ac6b2dfc91419e9a77afff6a687e54": {
      "model_module": "@jupyter-widgets/controls",
      "model_module_version": "1.5.0",
      "model_name": "DescriptionStyleModel",
      "state": {
       "description_width": ""
      }
     },
     "07b8062989044ae49588a8194cf90eaf": {
      "model_module": "@jupyter-widgets/controls",
      "model_module_version": "1.5.0",
      "model_name": "DescriptionStyleModel",
      "state": {
       "description_width": ""
      }
     },
     "07bd28a5d8e94e5886f0b596bc8354a1": {
      "model_module": "@jupyter-widgets/controls",
      "model_module_version": "1.5.0",
      "model_name": "ProgressStyleModel",
      "state": {
       "description_width": ""
      }
     },
     "07c35cedf89f47959c49f83749bdc0d4": {
      "model_module": "@jupyter-widgets/base",
      "model_module_version": "1.2.0",
      "model_name": "LayoutModel",
      "state": {}
     },
     "081c4dc07a184cc1a8ee29a5f0ca16e2": {
      "model_module": "@jupyter-widgets/base",
      "model_module_version": "1.2.0",
      "model_name": "LayoutModel",
      "state": {
       "flex": "2"
      }
     },
     "081d1f15f8ae4835837b8926064711d7": {
      "model_module": "@jupyter-widgets/controls",
      "model_module_version": "1.5.0",
      "model_name": "HTMLModel",
      "state": {
       "layout": "IPY_MODEL_4b6505b2c70a4250922ffa594482a4fb",
       "style": "IPY_MODEL_b160b32de9d84e0690f2eb29a643f30c",
       "value": " 16/16 [00:00&lt;00:00, 18.68it/s]"
      }
     },
     "08410b9549a84653972d84eb4e20d38e": {
      "model_module": "@jupyter-widgets/controls",
      "model_module_version": "1.5.0",
      "model_name": "DescriptionStyleModel",
      "state": {
       "description_width": ""
      }
     },
     "085c6e8e40584911911e9720b8d64245": {
      "model_module": "@jupyter-widgets/controls",
      "model_module_version": "1.5.0",
      "model_name": "DescriptionStyleModel",
      "state": {
       "description_width": ""
      }
     },
     "085f54290a934e5c8fcbb4b7d0256954": {
      "model_module": "@jupyter-widgets/base",
      "model_module_version": "1.2.0",
      "model_name": "LayoutModel",
      "state": {}
     },
     "0861ef5b260d4fffbacf9d185fe4e19c": {
      "model_module": "@jupyter-widgets/base",
      "model_module_version": "1.2.0",
      "model_name": "LayoutModel",
      "state": {
       "flex": "2"
      }
     },
     "08bb916dbab6424d8b537999e3c23b94": {
      "model_module": "@jupyter-widgets/base",
      "model_module_version": "1.2.0",
      "model_name": "LayoutModel",
      "state": {}
     },
     "092b865ef75a43fda02d842574b897cb": {
      "model_module": "@jupyter-widgets/base",
      "model_module_version": "1.2.0",
      "model_name": "LayoutModel",
      "state": {
       "flex": "2"
      }
     },
     "092f838d837840baa188160f0bcd6162": {
      "model_module": "@jupyter-widgets/controls",
      "model_module_version": "1.5.0",
      "model_name": "FloatProgressModel",
      "state": {
       "layout": "IPY_MODEL_b542b24520484218900b3eb366a38eba",
       "max": 16,
       "style": "IPY_MODEL_cee0bbf9887b4f48901376088b27ea3a",
       "value": 16
      }
     },
     "0942af58dbdb437f87fcb511728cce82": {
      "model_module": "@jupyter-widgets/controls",
      "model_module_version": "1.5.0",
      "model_name": "ProgressStyleModel",
      "state": {
       "description_width": ""
      }
     },
     "0942c1a6b6b740caa91641b737ed6567": {
      "model_module": "@jupyter-widgets/base",
      "model_module_version": "1.2.0",
      "model_name": "LayoutModel",
      "state": {}
     },
     "094a12f277ef4fe292c1090220a453b9": {
      "model_module": "@jupyter-widgets/controls",
      "model_module_version": "1.5.0",
      "model_name": "HTMLModel",
      "state": {
       "layout": "IPY_MODEL_9d8c751d0ea846eabecaf2951cd5bddd",
       "style": "IPY_MODEL_9cce03b3761741cd92f437660970bab8",
       "value": "Epoch 4:  43%"
      }
     },
     "0956212dca8a45d48aede445abe8ee20": {
      "model_module": "@jupyter-widgets/base",
      "model_module_version": "1.2.0",
      "model_name": "LayoutModel",
      "state": {
       "display": "inline-flex",
       "flex_flow": "row wrap",
       "width": "100%"
      }
     },
     "0965790ad27945b2a5ae4076fc9bf327": {
      "model_module": "@jupyter-widgets/controls",
      "model_module_version": "1.5.0",
      "model_name": "FloatProgressModel",
      "state": {
       "layout": "IPY_MODEL_81fd4e0c13784b51bf3c5f5305046fc9",
       "max": 16,
       "style": "IPY_MODEL_bd91d80536194b7ebb9e1ddbce2814dc",
       "value": 16
      }
     },
     "098fdb737980484db7f99d266504106f": {
      "model_module": "@jupyter-widgets/controls",
      "model_module_version": "1.5.0",
      "model_name": "HTMLModel",
      "state": {
       "layout": "IPY_MODEL_d46455cea1a24046a11fa6d3cf1291ee",
       "style": "IPY_MODEL_9dfa73ba87d24d8e81bfd32096c8bee9",
       "value": "Validation DataLoader 0: 100%"
      }
     },
     "09b4b08508954d0da78124d51dc238aa": {
      "model_module": "@jupyter-widgets/controls",
      "model_module_version": "1.5.0",
      "model_name": "ProgressStyleModel",
      "state": {
       "description_width": ""
      }
     },
     "09b5746189f6422d81023f8585940343": {
      "model_module": "@jupyter-widgets/controls",
      "model_module_version": "1.5.0",
      "model_name": "DescriptionStyleModel",
      "state": {
       "description_width": ""
      }
     },
     "09c9ba7ed3394bce85e5078d1459645a": {
      "model_module": "@jupyter-widgets/base",
      "model_module_version": "1.2.0",
      "model_name": "LayoutModel",
      "state": {
       "display": "inline-flex",
       "flex_flow": "row wrap",
       "width": "100%"
      }
     },
     "09cc8ecff2f84c62a9f9191689c85ae8": {
      "model_module": "@jupyter-widgets/base",
      "model_module_version": "1.2.0",
      "model_name": "LayoutModel",
      "state": {
       "flex": "2"
      }
     },
     "09d4b4831a8d4fcab7731d0bd83d8f79": {
      "model_module": "@jupyter-widgets/controls",
      "model_module_version": "1.5.0",
      "model_name": "ProgressStyleModel",
      "state": {
       "description_width": ""
      }
     },
     "09d54b2403eb44b285a3a7a141298fd5": {
      "model_module": "@jupyter-widgets/controls",
      "model_module_version": "1.5.0",
      "model_name": "DescriptionStyleModel",
      "state": {
       "description_width": ""
      }
     },
     "09f29f6861fc4d4db4013d430af5b912": {
      "model_module": "@jupyter-widgets/controls",
      "model_module_version": "1.5.0",
      "model_name": "DescriptionStyleModel",
      "state": {
       "description_width": ""
      }
     },
     "0a18ebbb0aa94a1892214809da541318": {
      "model_module": "@jupyter-widgets/controls",
      "model_module_version": "1.5.0",
      "model_name": "HTMLModel",
      "state": {
       "layout": "IPY_MODEL_64a724d72ea147b08e2de2e86b8737c9",
       "style": "IPY_MODEL_98ea75fb034d4f03adb4df046e637f90",
       "value": " 16/16 [00:04&lt;00:00,  3.45it/s]"
      }
     },
     "0a1b27e58dd34644aa775abe8ebe6874": {
      "model_module": "@jupyter-widgets/base",
      "model_module_version": "1.2.0",
      "model_name": "LayoutModel",
      "state": {
       "display": "inline-flex",
       "flex_flow": "row wrap",
       "width": "100%"
      }
     },
     "0a201d614a5d401dbdd0d56d31ad6664": {
      "model_module": "@jupyter-widgets/base",
      "model_module_version": "1.2.0",
      "model_name": "LayoutModel",
      "state": {}
     },
     "0a3adbec118e4e0ca5034952212fbdcf": {
      "model_module": "@jupyter-widgets/controls",
      "model_module_version": "1.5.0",
      "model_name": "DescriptionStyleModel",
      "state": {
       "description_width": ""
      }
     },
     "0a6270f03ecb4d50b31f3e76c5c805a4": {
      "model_module": "@jupyter-widgets/controls",
      "model_module_version": "1.5.0",
      "model_name": "ProgressStyleModel",
      "state": {
       "description_width": ""
      }
     },
     "0a689749196c4ab2974ec9596f38455a": {
      "model_module": "@jupyter-widgets/controls",
      "model_module_version": "1.5.0",
      "model_name": "HTMLModel",
      "state": {
       "layout": "IPY_MODEL_e630cdddd96b4d7e8c1c4e0b408f2ed6",
       "style": "IPY_MODEL_8a87756134754ffe9bcca528dacb61d2",
       "value": "Validation DataLoader 0: 100%"
      }
     },
     "0a8933fddc52470885edce66f4def38c": {
      "model_module": "@jupyter-widgets/controls",
      "model_module_version": "1.5.0",
      "model_name": "HTMLModel",
      "state": {
       "layout": "IPY_MODEL_2fc3c6253220483f8fe179dbfe0f393e",
       "style": "IPY_MODEL_e696416dde944cdfa890cc46daec738b",
       "value": " 16/16 [00:00&lt;00:00, 17.70it/s]"
      }
     },
     "0a9f120b2fa842518103d696af335560": {
      "model_module": "@jupyter-widgets/controls",
      "model_module_version": "1.5.0",
      "model_name": "DescriptionStyleModel",
      "state": {
       "description_width": ""
      }
     },
     "0ab025201e934ba298ac6ca43652b260": {
      "model_module": "@jupyter-widgets/controls",
      "model_module_version": "1.5.0",
      "model_name": "DescriptionStyleModel",
      "state": {
       "description_width": ""
      }
     },
     "0b044630f563494497cd02e4792ba254": {
      "model_module": "@jupyter-widgets/controls",
      "model_module_version": "1.5.0",
      "model_name": "ProgressStyleModel",
      "state": {
       "description_width": ""
      }
     },
     "0b0b3b8e7d7844b29b6ebe75ff3ad4e3": {
      "model_module": "@jupyter-widgets/controls",
      "model_module_version": "1.5.0",
      "model_name": "DescriptionStyleModel",
      "state": {
       "description_width": ""
      }
     },
     "0b1a1b197d5f4337afe315661f7aa657": {
      "model_module": "@jupyter-widgets/controls",
      "model_module_version": "1.5.0",
      "model_name": "FloatProgressModel",
      "state": {
       "layout": "IPY_MODEL_d14a358d23254fd3a8887a6d6ac385c3",
       "max": 16,
       "style": "IPY_MODEL_7bc3f2d8292a41c1bd2a51b523adf9c4",
       "value": 16
      }
     },
     "0b4a0b3e40dc4c0e974dd2cfc9f4b06d": {
      "model_module": "@jupyter-widgets/controls",
      "model_module_version": "1.5.0",
      "model_name": "HTMLModel",
      "state": {
       "layout": "IPY_MODEL_fe48e917ad5942508f984ba0106487b9",
       "style": "IPY_MODEL_ecf91a583d31406585a53b0231fdf047",
       "value": "Validation DataLoader 0: 100%"
      }
     },
     "0b4df54a15f04e328de200922f134d9a": {
      "model_module": "@jupyter-widgets/controls",
      "model_module_version": "1.5.0",
      "model_name": "DescriptionStyleModel",
      "state": {
       "description_width": ""
      }
     },
     "0b5a8e75dfee447e8efe398d9e0296a0": {
      "model_module": "@jupyter-widgets/base",
      "model_module_version": "1.2.0",
      "model_name": "LayoutModel",
      "state": {}
     },
     "0b6069090b88466f95df1a2ebedfb039": {
      "model_module": "@jupyter-widgets/controls",
      "model_module_version": "1.5.0",
      "model_name": "DescriptionStyleModel",
      "state": {
       "description_width": ""
      }
     },
     "0b69615b1a8d43debc0b213d7686bbea": {
      "model_module": "@jupyter-widgets/controls",
      "model_module_version": "1.5.0",
      "model_name": "HTMLModel",
      "state": {
       "layout": "IPY_MODEL_d5f0c2b9c63e4754914c51a95b0bf3b3",
       "style": "IPY_MODEL_e15e63cbcb0340c28a2e6be887f4a0c1",
       "value": "Validation DataLoader 0: 100%"
      }
     },
     "0b6b9a88f13545099d07a757be899ea4": {
      "model_module": "@jupyter-widgets/controls",
      "model_module_version": "1.5.0",
      "model_name": "HTMLModel",
      "state": {
       "layout": "IPY_MODEL_4aac58a630e84517b993db778202bf7b",
       "style": "IPY_MODEL_5e1c671c3ebd447182658e5142864171",
       "value": " 16/16 [00:00&lt;00:00, 16.22it/s]"
      }
     },
     "0b7a57156dbe4faa963482071ba7e1c1": {
      "model_module": "@jupyter-widgets/controls",
      "model_module_version": "1.5.0",
      "model_name": "DescriptionStyleModel",
      "state": {
       "description_width": ""
      }
     },
     "0b898d22b16849488594d4cc92c495cf": {
      "model_module": "@jupyter-widgets/controls",
      "model_module_version": "1.5.0",
      "model_name": "DescriptionStyleModel",
      "state": {
       "description_width": ""
      }
     },
     "0b8b77cab4004d9daed140777be60de5": {
      "model_module": "@jupyter-widgets/base",
      "model_module_version": "1.2.0",
      "model_name": "LayoutModel",
      "state": {
       "flex": "2"
      }
     },
     "0bb1dd9e5c394e959a051ca46e7e339b": {
      "model_module": "@jupyter-widgets/controls",
      "model_module_version": "1.5.0",
      "model_name": "FloatProgressModel",
      "state": {
       "layout": "IPY_MODEL_49270b81f62941599bcdddd435e41994",
       "max": 16,
       "style": "IPY_MODEL_5845239ff8904a2ebfa1a8a78b1c02f3",
       "value": 16
      }
     },
     "0bb4a5b02d174dceb27dd84ad2497b08": {
      "model_module": "@jupyter-widgets/base",
      "model_module_version": "1.2.0",
      "model_name": "LayoutModel",
      "state": {}
     },
     "0bb888c77d454cb0a8bc1a4d417985bd": {
      "model_module": "@jupyter-widgets/base",
      "model_module_version": "1.2.0",
      "model_name": "LayoutModel",
      "state": {}
     },
     "0bd61668a8e54dcdb902d99c8d90d0c5": {
      "model_module": "@jupyter-widgets/controls",
      "model_module_version": "1.5.0",
      "model_name": "ProgressStyleModel",
      "state": {
       "description_width": ""
      }
     },
     "0bdb750314494291bd73ca41ac0a692d": {
      "model_module": "@jupyter-widgets/controls",
      "model_module_version": "1.5.0",
      "model_name": "FloatProgressModel",
      "state": {
       "layout": "IPY_MODEL_1adc78cfbdc04ed69f7ddebcdb1e0dc4",
       "max": 16,
       "style": "IPY_MODEL_ed7684b8217a42899f8082ec927d718a",
       "value": 16
      }
     },
     "0bf059aef4d841f290c595f46ba0463e": {
      "model_module": "@jupyter-widgets/base",
      "model_module_version": "1.2.0",
      "model_name": "LayoutModel",
      "state": {}
     },
     "0c18d4b861c64f028fca4a9a3621bc60": {
      "model_module": "@jupyter-widgets/controls",
      "model_module_version": "1.5.0",
      "model_name": "FloatProgressModel",
      "state": {
       "layout": "IPY_MODEL_862b12a7fdc044b6bb35ee9a3d23730c",
       "max": 16,
       "style": "IPY_MODEL_2c4c6cc551944d979b13c36812cdc72c",
       "value": 16
      }
     },
     "0c31d1d08ee14ce6aa40e123949aaa3b": {
      "model_module": "@jupyter-widgets/controls",
      "model_module_version": "1.5.0",
      "model_name": "HTMLModel",
      "state": {
       "layout": "IPY_MODEL_d5ef669713db469ebbefeb9a9503f801",
       "style": "IPY_MODEL_4320eac43d4a4adab2172eaffdcacf7f",
       "value": "Validation DataLoader 0: 100%"
      }
     },
     "0c35093447be413f956ad762b5053973": {
      "model_module": "@jupyter-widgets/controls",
      "model_module_version": "1.5.0",
      "model_name": "DescriptionStyleModel",
      "state": {
       "description_width": ""
      }
     },
     "0c3de534e54e4643ae468b666d04cdd3": {
      "model_module": "@jupyter-widgets/controls",
      "model_module_version": "1.5.0",
      "model_name": "FloatProgressModel",
      "state": {
       "layout": "IPY_MODEL_60ff3f58bbf643b2a50c3c02e2381e9b",
       "max": 16,
       "style": "IPY_MODEL_19d17542eee6465886d40990d31b8384",
       "value": 16
      }
     },
     "0c4472158ee648949a526a8669aa1807": {
      "model_module": "@jupyter-widgets/base",
      "model_module_version": "1.2.0",
      "model_name": "LayoutModel",
      "state": {
       "flex": "2"
      }
     },
     "0c45601d552043b28d3e98967f416880": {
      "model_module": "@jupyter-widgets/base",
      "model_module_version": "1.2.0",
      "model_name": "LayoutModel",
      "state": {}
     },
     "0c5cf967bb464bedaf9c00e098029739": {
      "model_module": "@jupyter-widgets/controls",
      "model_module_version": "1.5.0",
      "model_name": "HTMLModel",
      "state": {
       "layout": "IPY_MODEL_faeadae5dd0d41e19e987350ed1a75bd",
       "style": "IPY_MODEL_5cb5a45a577048a7b76190d4d6d7dc21",
       "value": "Epoch 16:  61%"
      }
     },
     "0c614eb441a84487b4ce044f56f7deb9": {
      "model_module": "@jupyter-widgets/base",
      "model_module_version": "1.2.0",
      "model_name": "LayoutModel",
      "state": {
       "display": "inline-flex",
       "flex_flow": "row wrap",
       "width": "100%"
      }
     },
     "0c636013a1f241d29bce0721cfd19494": {
      "model_module": "@jupyter-widgets/controls",
      "model_module_version": "1.5.0",
      "model_name": "HTMLModel",
      "state": {
       "layout": "IPY_MODEL_af41cd5faf9a45408012f58655732aa2",
       "style": "IPY_MODEL_57b9e2a1556742bb8a701af8e72f8b08",
       "value": " 72/77 [00:17&lt;00:01,  4.10it/s, loss=0.163, v_num=H-63]"
      }
     },
     "0c6e0587eef84d41a83c3848eec172d8": {
      "model_module": "@jupyter-widgets/controls",
      "model_module_version": "1.5.0",
      "model_name": "HTMLModel",
      "state": {
       "layout": "IPY_MODEL_0376e0b70596430d84ae5b299dfa1209",
       "style": "IPY_MODEL_c0c669bacd42440f9a186a0a2a0f8bcf",
       "value": " 16/16 [00:01&lt;00:00,  8.16it/s]"
      }
     },
     "0c733363fdbd4a5ca98523ff009106f8": {
      "model_module": "@jupyter-widgets/controls",
      "model_module_version": "1.5.0",
      "model_name": "HTMLModel",
      "state": {
       "layout": "IPY_MODEL_c96ae138ad044a4db69ba41c2b701263",
       "style": "IPY_MODEL_5368692d98064008ae164d60475067b7",
       "value": " 16/16 [00:00&lt;00:00, 17.12it/s]"
      }
     },
     "0c74a39db82545ecbd5c67a37692e7cd": {
      "model_module": "@jupyter-widgets/base",
      "model_module_version": "1.2.0",
      "model_name": "LayoutModel",
      "state": {
       "flex": "2"
      }
     },
     "0c7d13e296a44c1e867e0fe67329b146": {
      "model_module": "@jupyter-widgets/base",
      "model_module_version": "1.2.0",
      "model_name": "LayoutModel",
      "state": {
       "display": "inline-flex",
       "flex_flow": "row wrap",
       "width": "100%"
      }
     },
     "0ca6bcc3d2c5479eb2aae1216c47aac7": {
      "model_module": "@jupyter-widgets/controls",
      "model_module_version": "1.5.0",
      "model_name": "DescriptionStyleModel",
      "state": {
       "description_width": ""
      }
     },
     "0cb2408476d34861ad0fcfe4fc6fb131": {
      "model_module": "@jupyter-widgets/base",
      "model_module_version": "1.2.0",
      "model_name": "LayoutModel",
      "state": {}
     },
     "0cd90cdccfd54726a2cb95f7ac322c92": {
      "model_module": "@jupyter-widgets/controls",
      "model_module_version": "1.5.0",
      "model_name": "HTMLModel",
      "state": {
       "layout": "IPY_MODEL_64acb95ce3d9439f9ab6fded7c1fba7a",
       "style": "IPY_MODEL_b42fa279e6874d268c2297d6dabb8f66",
       "value": " 77/77 [00:07&lt;00:00, 10.04it/s, loss=0.266, v_num=H-53]"
      }
     },
     "0d090063bc084210934719229d86d970": {
      "model_module": "@jupyter-widgets/controls",
      "model_module_version": "1.5.0",
      "model_name": "HTMLModel",
      "state": {
       "layout": "IPY_MODEL_4b138becdc12467692408a12197365e3",
       "style": "IPY_MODEL_61724cb956bc4320b512efe5d28e29b2",
       "value": " 16/16 [00:01&lt;00:00, 15.95it/s]"
      }
     },
     "0d2f0bc8e40d4de4a2cc11db296b59d4": {
      "model_module": "@jupyter-widgets/controls",
      "model_module_version": "1.5.0",
      "model_name": "HTMLModel",
      "state": {
       "layout": "IPY_MODEL_87a9e373fe444b3b8fe310c41343a20d",
       "style": "IPY_MODEL_66ed117164bf448c85e8f2cd769fb20f",
       "value": "Validation DataLoader 0: 100%"
      }
     },
     "0d35201d6df34498afedc793c7b7619b": {
      "model_module": "@jupyter-widgets/controls",
      "model_module_version": "1.5.0",
      "model_name": "DescriptionStyleModel",
      "state": {
       "description_width": ""
      }
     },
     "0d476dd1322649ae9e3cb834ef8e3adc": {
      "model_module": "@jupyter-widgets/controls",
      "model_module_version": "1.5.0",
      "model_name": "ProgressStyleModel",
      "state": {
       "description_width": ""
      }
     },
     "0d63180e6ae749a09374255b2930a5a0": {
      "model_module": "@jupyter-widgets/controls",
      "model_module_version": "1.5.0",
      "model_name": "ProgressStyleModel",
      "state": {
       "description_width": ""
      }
     },
     "0d6f0bc6a0bb44d5a0e9b51b52650b0e": {
      "model_module": "@jupyter-widgets/controls",
      "model_module_version": "1.5.0",
      "model_name": "DescriptionStyleModel",
      "state": {
       "description_width": ""
      }
     },
     "0d88a7c0fa6f4c3fa8c50d3ee7272778": {
      "model_module": "@jupyter-widgets/controls",
      "model_module_version": "1.5.0",
      "model_name": "HTMLModel",
      "state": {
       "layout": "IPY_MODEL_fdaa358159954bdaa3b39561ed68f30c",
       "style": "IPY_MODEL_d5ec3b389e8e43539a2d29be5c6ca403",
       "value": " 16/16 [00:01&lt;00:00,  7.63it/s]"
      }
     },
     "0d985949038f42d7a75db2923b248327": {
      "model_module": "@jupyter-widgets/base",
      "model_module_version": "1.2.0",
      "model_name": "LayoutModel",
      "state": {
       "flex": "2"
      }
     },
     "0dd2efc1fe2941319dcf92597a3022f7": {
      "model_module": "@jupyter-widgets/base",
      "model_module_version": "1.2.0",
      "model_name": "LayoutModel",
      "state": {}
     },
     "0e0365d3b1ab4911a3ced85b18d2b53c": {
      "model_module": "@jupyter-widgets/controls",
      "model_module_version": "1.5.0",
      "model_name": "DescriptionStyleModel",
      "state": {
       "description_width": ""
      }
     },
     "0e139f790d8e4ac7a277b7e8b44a15fe": {
      "model_module": "@jupyter-widgets/controls",
      "model_module_version": "1.5.0",
      "model_name": "FloatProgressModel",
      "state": {
       "layout": "IPY_MODEL_c905342b32c641c78f3959a047135e77",
       "max": 16,
       "style": "IPY_MODEL_6495b5a3c0b345ba8678a3e1129497fc",
       "value": 16
      }
     },
     "0e5e8505870a4c49a4f1eeba5da12bbb": {
      "model_module": "@jupyter-widgets/base",
      "model_module_version": "1.2.0",
      "model_name": "LayoutModel",
      "state": {}
     },
     "0e673149f6d04476935074f6552ef5c2": {
      "model_module": "@jupyter-widgets/base",
      "model_module_version": "1.2.0",
      "model_name": "LayoutModel",
      "state": {}
     },
     "0e7bc8fdf1f24960b070d76903d3c34f": {
      "model_module": "@jupyter-widgets/controls",
      "model_module_version": "1.5.0",
      "model_name": "HTMLModel",
      "state": {
       "layout": "IPY_MODEL_eb1d70b857314fee8a6b73fc4c3ffc4c",
       "style": "IPY_MODEL_a486b50697074144a07dce1c6436afca",
       "value": " 16/16 [00:05&lt;00:00,  3.23it/s]"
      }
     },
     "0e811d1f39854be8913d23afc7e30485": {
      "model_module": "@jupyter-widgets/base",
      "model_module_version": "1.2.0",
      "model_name": "LayoutModel",
      "state": {
       "display": "inline-flex",
       "flex_flow": "row wrap",
       "width": "100%"
      }
     },
     "0e8ab18060974cb8921ba83c9fd2344b": {
      "model_module": "@jupyter-widgets/base",
      "model_module_version": "1.2.0",
      "model_name": "LayoutModel",
      "state": {}
     },
     "0e8e1296ab1747df9e7aafbc324a29df": {
      "model_module": "@jupyter-widgets/base",
      "model_module_version": "1.2.0",
      "model_name": "LayoutModel",
      "state": {}
     },
     "0ea7399fe23c404bbc5a65809a87946a": {
      "model_module": "@jupyter-widgets/controls",
      "model_module_version": "1.5.0",
      "model_name": "ProgressStyleModel",
      "state": {
       "description_width": ""
      }
     },
     "0eadea7f2015458185b9fa6ba889155f": {
      "model_module": "@jupyter-widgets/controls",
      "model_module_version": "1.5.0",
      "model_name": "HTMLModel",
      "state": {
       "layout": "IPY_MODEL_876e5ed1d8744d18b4da3769ec95ea9d",
       "style": "IPY_MODEL_9a7174a0a85e4c0aa5c1fc8c65316557",
       "value": " 16/16 [00:00&lt;00:00, 21.02it/s]"
      }
     },
     "0eb645a82dda4643ae73836fb8f6476e": {
      "model_module": "@jupyter-widgets/base",
      "model_module_version": "1.2.0",
      "model_name": "LayoutModel",
      "state": {
       "display": "inline-flex",
       "flex_flow": "row wrap",
       "width": "100%"
      }
     },
     "0ee6049eca6b4d00890e293af1199361": {
      "model_module": "@jupyter-widgets/controls",
      "model_module_version": "1.5.0",
      "model_name": "DescriptionStyleModel",
      "state": {
       "description_width": ""
      }
     },
     "0efa804c691f4cff99e738d6c579d477": {
      "model_module": "@jupyter-widgets/base",
      "model_module_version": "1.2.0",
      "model_name": "LayoutModel",
      "state": {
       "flex": "2"
      }
     },
     "0efbb84cd2654428aa1134297fb9207b": {
      "model_module": "@jupyter-widgets/controls",
      "model_module_version": "1.5.0",
      "model_name": "DescriptionStyleModel",
      "state": {
       "description_width": ""
      }
     },
     "0f09347490c24658bf59a3cee1bcee4a": {
      "model_module": "@jupyter-widgets/controls",
      "model_module_version": "1.5.0",
      "model_name": "FloatProgressModel",
      "state": {
       "layout": "IPY_MODEL_2b378c066e9e4d69976a7d3339f37c55",
       "max": 16,
       "style": "IPY_MODEL_762d7bd41d4540edb3e051ba3844332c",
       "value": 16
      }
     },
     "0f0a508ce1424e238d3a67c77ead91e4": {
      "model_module": "@jupyter-widgets/controls",
      "model_module_version": "1.5.0",
      "model_name": "HTMLModel",
      "state": {
       "layout": "IPY_MODEL_2a9ae1f121e64386a4358c61ff4553d0",
       "style": "IPY_MODEL_866da619cef64f91b603c2052d59ec64",
       "value": "Validation DataLoader 0: 100%"
      }
     },
     "0f1a4042ec084d29b001ed50cf2503ec": {
      "model_module": "@jupyter-widgets/controls",
      "model_module_version": "1.5.0",
      "model_name": "ProgressStyleModel",
      "state": {
       "description_width": ""
      }
     },
     "0f1ba4d09d24418490e7879c0331cb10": {
      "model_module": "@jupyter-widgets/controls",
      "model_module_version": "1.5.0",
      "model_name": "FloatProgressModel",
      "state": {
       "layout": "IPY_MODEL_5b90e068170f4bf39cc3f9810adbe9ac",
       "max": 16,
       "style": "IPY_MODEL_e32b96ab7ea845e09980145977e30c62",
       "value": 16
      }
     },
     "0f31a995fcb444cd92c7416bcda99ae7": {
      "model_module": "@jupyter-widgets/controls",
      "model_module_version": "1.5.0",
      "model_name": "HTMLModel",
      "state": {
       "layout": "IPY_MODEL_cb8524ff92da48349812491d7b830ff4",
       "style": "IPY_MODEL_2238d238b0e64a22b1c9faaba3648c32",
       "value": "Validation DataLoader 0: 100%"
      }
     },
     "0f3885f239ac48c5b165f23ad8484bbc": {
      "model_module": "@jupyter-widgets/base",
      "model_module_version": "1.2.0",
      "model_name": "LayoutModel",
      "state": {}
     },
     "0f62d72c461e4b5c9031ca3dd595e76e": {
      "model_module": "@jupyter-widgets/controls",
      "model_module_version": "1.5.0",
      "model_name": "HTMLModel",
      "state": {
       "layout": "IPY_MODEL_3f82b5fe82a6456b9596e84d3e927ede",
       "style": "IPY_MODEL_6dc1d4691dac4d058198a39e9009c4fb",
       "value": "Validation DataLoader 0: 100%"
      }
     },
     "0f96142d6ccc442ca16a2fbae9b0ef68": {
      "model_module": "@jupyter-widgets/controls",
      "model_module_version": "1.5.0",
      "model_name": "HTMLModel",
      "state": {
       "layout": "IPY_MODEL_b36b7a36ef604386a85bb19d83572a86",
       "style": "IPY_MODEL_3b6d1e1fc16b4685bbc8ee931f92a449",
       "value": "Validation DataLoader 0: 100%"
      }
     },
     "0fa2a25aa1c04b5e95e1e620f11a3fc0": {
      "model_module": "@jupyter-widgets/controls",
      "model_module_version": "1.5.0",
      "model_name": "DescriptionStyleModel",
      "state": {
       "description_width": ""
      }
     },
     "0fe10914861f4fa88cbe96a563c8070a": {
      "model_module": "@jupyter-widgets/controls",
      "model_module_version": "1.5.0",
      "model_name": "FloatProgressModel",
      "state": {
       "layout": "IPY_MODEL_71992b27f97d4736a6cc557740d837ac",
       "max": 16,
       "style": "IPY_MODEL_2cac9bda1a1344f18bb2b04888af65c7",
       "value": 16
      }
     },
     "0fe49ffa0a7a417491943ba0031e1998": {
      "model_module": "@jupyter-widgets/controls",
      "model_module_version": "1.5.0",
      "model_name": "HTMLModel",
      "state": {
       "layout": "IPY_MODEL_a6778dfcfaa042e190891b2586d836e4",
       "style": "IPY_MODEL_16a7f1bcce4f43e3b637f7790c97d762",
       "value": " 16/16 [00:00&lt;00:00, 23.67it/s]"
      }
     },
     "0fe7931c829c4f18b2469558b7e2e5a7": {
      "model_module": "@jupyter-widgets/base",
      "model_module_version": "1.2.0",
      "model_name": "LayoutModel",
      "state": {
       "display": "inline-flex",
       "flex_flow": "row wrap",
       "width": "100%"
      }
     },
     "10183164e0bc47e283c51b0493662860": {
      "model_module": "@jupyter-widgets/controls",
      "model_module_version": "1.5.0",
      "model_name": "FloatProgressModel",
      "state": {
       "layout": "IPY_MODEL_57fff89c98414c039dc501bfa36196f8",
       "max": 2,
       "style": "IPY_MODEL_3eabe0f070f146cf93491860fab4a589",
       "value": 2
      }
     },
     "10267cc8533c480db1ea97a65e31b27e": {
      "model_module": "@jupyter-widgets/controls",
      "model_module_version": "1.5.0",
      "model_name": "HTMLModel",
      "state": {
       "layout": "IPY_MODEL_e21548e0da8f4d60a0c9e42552bf7957",
       "style": "IPY_MODEL_cf9eb00d191240c1893f257cb838b10f",
       "value": " 2/2 [00:00&lt;00:00,  6.18it/s]"
      }
     },
     "1027474a4ad54009a5a022c7ef610771": {
      "model_module": "@jupyter-widgets/controls",
      "model_module_version": "1.5.0",
      "model_name": "DescriptionStyleModel",
      "state": {
       "description_width": ""
      }
     },
     "103ddb2e79654a78873ac202551fe5ea": {
      "model_module": "@jupyter-widgets/base",
      "model_module_version": "1.2.0",
      "model_name": "LayoutModel",
      "state": {}
     },
     "104075e7956a4f6dbca01985c924e1dc": {
      "model_module": "@jupyter-widgets/controls",
      "model_module_version": "1.5.0",
      "model_name": "DescriptionStyleModel",
      "state": {
       "description_width": ""
      }
     },
     "10423e46b3074b3b825c7355f9d27c23": {
      "model_module": "@jupyter-widgets/controls",
      "model_module_version": "1.5.0",
      "model_name": "DescriptionStyleModel",
      "state": {
       "description_width": ""
      }
     },
     "105a6868db0d483e9ac1bc02becc881a": {
      "model_module": "@jupyter-widgets/controls",
      "model_module_version": "1.5.0",
      "model_name": "DescriptionStyleModel",
      "state": {
       "description_width": ""
      }
     },
     "1072a5334cd047598b6f58b65057aaac": {
      "model_module": "@jupyter-widgets/controls",
      "model_module_version": "1.5.0",
      "model_name": "ProgressStyleModel",
      "state": {
       "description_width": ""
      }
     },
     "107645c6c4a84b589a991624cae15b68": {
      "model_module": "@jupyter-widgets/base",
      "model_module_version": "1.2.0",
      "model_name": "LayoutModel",
      "state": {}
     },
     "107b7fab79b34d90ade15c03b7c16f54": {
      "model_module": "@jupyter-widgets/base",
      "model_module_version": "1.2.0",
      "model_name": "LayoutModel",
      "state": {
       "flex": "2"
      }
     },
     "109aa033c9f64f1b8f365759475b6ad7": {
      "model_module": "@jupyter-widgets/controls",
      "model_module_version": "1.5.0",
      "model_name": "DescriptionStyleModel",
      "state": {
       "description_width": ""
      }
     },
     "10dec141abb544b3a223452f4b21024e": {
      "model_module": "@jupyter-widgets/base",
      "model_module_version": "1.2.0",
      "model_name": "LayoutModel",
      "state": {
       "flex": "2"
      }
     },
     "1104674658c04c63b021f09ebdf9d729": {
      "model_module": "@jupyter-widgets/controls",
      "model_module_version": "1.5.0",
      "model_name": "HTMLModel",
      "state": {
       "layout": "IPY_MODEL_f9bfe4ef7b4d49ae8dba966188516d6a",
       "style": "IPY_MODEL_021eff04dde240d4bf2f92c137025118",
       "value": " 37/77 [00:14&lt;00:15,  2.52it/s, loss=0.00124, v_num=H-66]"
      }
     },
     "110d50cd113f4a488824e13f4db902a4": {
      "model_module": "@jupyter-widgets/controls",
      "model_module_version": "1.5.0",
      "model_name": "FloatProgressModel",
      "state": {
       "layout": "IPY_MODEL_bff4849550bf46f094f43ab76838a0a3",
       "max": 77,
       "style": "IPY_MODEL_70b26c717ae84aa0b522e1f6f8e1c35b",
       "value": 77
      }
     },
     "1112450ad7ae49869d5e75cc4630dca4": {
      "model_module": "@jupyter-widgets/base",
      "model_module_version": "1.2.0",
      "model_name": "LayoutModel",
      "state": {
       "display": "inline-flex",
       "flex_flow": "row wrap",
       "width": "100%"
      }
     },
     "113bdc5008cd438084808108cec8480e": {
      "model_module": "@jupyter-widgets/controls",
      "model_module_version": "1.5.0",
      "model_name": "DescriptionStyleModel",
      "state": {
       "description_width": ""
      }
     },
     "114f56e18a794d6581c29043ebb58b54": {
      "model_module": "@jupyter-widgets/controls",
      "model_module_version": "1.5.0",
      "model_name": "DescriptionStyleModel",
      "state": {
       "description_width": ""
      }
     },
     "1155bff3cf3b4f9eb2dbaff10038c8e7": {
      "model_module": "@jupyter-widgets/controls",
      "model_module_version": "1.5.0",
      "model_name": "HTMLModel",
      "state": {
       "layout": "IPY_MODEL_87e67cdd77ef43c6aa44182035a16f2a",
       "style": "IPY_MODEL_90b927ccac27401e8594e61df078b2a8",
       "value": "Validation DataLoader 0: 100%"
      }
     },
     "1179eba30e634020ace059310c28b197": {
      "model_module": "@jupyter-widgets/controls",
      "model_module_version": "1.5.0",
      "model_name": "DescriptionStyleModel",
      "state": {
       "description_width": ""
      }
     },
     "1192d78c4252480c83f12a277ada7bf3": {
      "model_module": "@jupyter-widgets/controls",
      "model_module_version": "1.5.0",
      "model_name": "HTMLModel",
      "state": {
       "layout": "IPY_MODEL_aa148e357b7741c5b8d0b2640608d40e",
       "style": "IPY_MODEL_d09b45b26311410184cf172363cad8ba",
       "value": "Validation DataLoader 0: 100%"
      }
     },
     "11a06dcb674d4a65916d7c29c5da4a3c": {
      "model_module": "@jupyter-widgets/controls",
      "model_module_version": "1.5.0",
      "model_name": "HTMLModel",
      "state": {
       "layout": "IPY_MODEL_04d02d47459e4ca88be39bdb367cc0f4",
       "style": "IPY_MODEL_ceb71cae8b084718b6db451c3d84e54f",
       "value": " 16/16 [00:00&lt;00:00, 20.86it/s]"
      }
     },
     "11c8cf75b8524acd89292922d3381ecc": {
      "model_module": "@jupyter-widgets/controls",
      "model_module_version": "1.5.0",
      "model_name": "HTMLModel",
      "state": {
       "layout": "IPY_MODEL_a79e7dda3ba243a19e6baac7b13f4cc7",
       "style": "IPY_MODEL_ae4837b759df4eaab54d7d5c4e8d675e",
       "value": "Validation DataLoader 0: 100%"
      }
     },
     "11e24e8e83cb41cea954821015325d2e": {
      "model_module": "@jupyter-widgets/controls",
      "model_module_version": "1.5.0",
      "model_name": "HTMLModel",
      "state": {
       "layout": "IPY_MODEL_c04b8728874f4081836ece61b7295b53",
       "style": "IPY_MODEL_21e1dffd363e45c69399cb1d4523c8cd",
       "value": "Validation DataLoader 0: 100%"
      }
     },
     "11fb58f95bc84b86afd6cdb8266a81e1": {
      "model_module": "@jupyter-widgets/controls",
      "model_module_version": "1.5.0",
      "model_name": "DescriptionStyleModel",
      "state": {
       "description_width": ""
      }
     },
     "11fbf4401db34ab6bc7792148e8594b8": {
      "model_module": "@jupyter-widgets/controls",
      "model_module_version": "1.5.0",
      "model_name": "HTMLModel",
      "state": {
       "layout": "IPY_MODEL_edb7ce4035d9431b8fceaac3d9e0ffff",
       "style": "IPY_MODEL_3f853165164742409107b877d01dc305",
       "value": "Epoch 0:  17%"
      }
     },
     "120344e19464444eae50155d508ec126": {
      "model_module": "@jupyter-widgets/controls",
      "model_module_version": "1.5.0",
      "model_name": "DescriptionStyleModel",
      "state": {
       "description_width": ""
      }
     },
     "12178a982dde4d3ea1bc922480d80813": {
      "model_module": "@jupyter-widgets/controls",
      "model_module_version": "1.5.0",
      "model_name": "HTMLModel",
      "state": {
       "layout": "IPY_MODEL_a401650d4c694d16acd166e99f1e9600",
       "style": "IPY_MODEL_35663f66471e4cc7be31c4707fe825f9",
       "value": "Validation DataLoader 0: 100%"
      }
     },
     "12179e8733f14f3188a64938406484b7": {
      "model_module": "@jupyter-widgets/base",
      "model_module_version": "1.2.0",
      "model_name": "LayoutModel",
      "state": {}
     },
     "121e919714a74e07b799c2357e2215e0": {
      "model_module": "@jupyter-widgets/base",
      "model_module_version": "1.2.0",
      "model_name": "LayoutModel",
      "state": {}
     },
     "1233d296d9b3422bba7ae0a49d1e15b4": {
      "model_module": "@jupyter-widgets/base",
      "model_module_version": "1.2.0",
      "model_name": "LayoutModel",
      "state": {}
     },
     "1234107f75914cccb454bfd118bc6f9a": {
      "model_module": "@jupyter-widgets/base",
      "model_module_version": "1.2.0",
      "model_name": "LayoutModel",
      "state": {
       "flex": "2"
      }
     },
     "12517136921e43628aab38ac343d7975": {
      "model_module": "@jupyter-widgets/controls",
      "model_module_version": "1.5.0",
      "model_name": "ProgressStyleModel",
      "state": {
       "description_width": ""
      }
     },
     "1257f445b92648c8af87ee1e5e080e39": {
      "model_module": "@jupyter-widgets/base",
      "model_module_version": "1.2.0",
      "model_name": "LayoutModel",
      "state": {}
     },
     "1263334db1b84bf6bda7ecd989f98c31": {
      "model_module": "@jupyter-widgets/base",
      "model_module_version": "1.2.0",
      "model_name": "LayoutModel",
      "state": {}
     },
     "1276b637833c4fce9dadedbe1465679f": {
      "model_module": "@jupyter-widgets/base",
      "model_module_version": "1.2.0",
      "model_name": "LayoutModel",
      "state": {}
     },
     "127dd2c9522642e9ab127be733e5638b": {
      "model_module": "@jupyter-widgets/controls",
      "model_module_version": "1.5.0",
      "model_name": "HTMLModel",
      "state": {
       "layout": "IPY_MODEL_b32e4e52e2084d6ea0ab48973aa31d0a",
       "style": "IPY_MODEL_2639e58d916e401dabc16ea59c3f464d",
       "value": " 16/16 [00:00&lt;00:00, 18.90it/s]"
      }
     },
     "128102353d6545fd8215332a39955a55": {
      "model_module": "@jupyter-widgets/controls",
      "model_module_version": "1.5.0",
      "model_name": "DescriptionStyleModel",
      "state": {
       "description_width": ""
      }
     },
     "1294b8b0fc684c9eb64eea1a824612b4": {
      "model_module": "@jupyter-widgets/base",
      "model_module_version": "1.2.0",
      "model_name": "LayoutModel",
      "state": {}
     },
     "1299c709bb9b41718d74f03962dbb745": {
      "model_module": "@jupyter-widgets/base",
      "model_module_version": "1.2.0",
      "model_name": "LayoutModel",
      "state": {
       "display": "inline-flex",
       "flex_flow": "row wrap",
       "width": "100%"
      }
     },
     "1299ec70856144d3b38359917952e75b": {
      "model_module": "@jupyter-widgets/base",
      "model_module_version": "1.2.0",
      "model_name": "LayoutModel",
      "state": {}
     },
     "12c0aba9f9eb4453a9a5095c71e79c56": {
      "model_module": "@jupyter-widgets/controls",
      "model_module_version": "1.5.0",
      "model_name": "DescriptionStyleModel",
      "state": {
       "description_width": ""
      }
     },
     "12cd38a6e45e411991215eb8cdd4dc8f": {
      "model_module": "@jupyter-widgets/controls",
      "model_module_version": "1.5.0",
      "model_name": "DescriptionStyleModel",
      "state": {
       "description_width": ""
      }
     },
     "12fb666af4cc4a59a1859deff9b57f96": {
      "model_module": "@jupyter-widgets/controls",
      "model_module_version": "1.5.0",
      "model_name": "HTMLModel",
      "state": {
       "layout": "IPY_MODEL_1257f445b92648c8af87ee1e5e080e39",
       "style": "IPY_MODEL_322ce53c968f4ebe9452784e8f13871c",
       "value": "Sanity Checking DataLoader 0: 100%"
      }
     },
     "13184a105d6649d18042133837100144": {
      "model_module": "@jupyter-widgets/controls",
      "model_module_version": "1.5.0",
      "model_name": "DescriptionStyleModel",
      "state": {
       "description_width": ""
      }
     },
     "131bd9fa99a846628a37f9ffe1707ce9": {
      "model_module": "@jupyter-widgets/controls",
      "model_module_version": "1.5.0",
      "model_name": "DescriptionStyleModel",
      "state": {
       "description_width": ""
      }
     },
     "13280e8217f44effb8e2e5d9b64c049a": {
      "model_module": "@jupyter-widgets/controls",
      "model_module_version": "1.5.0",
      "model_name": "DescriptionStyleModel",
      "state": {
       "description_width": ""
      }
     },
     "13416f557d574613a16002cf8ac5d867": {
      "model_module": "@jupyter-widgets/base",
      "model_module_version": "1.2.0",
      "model_name": "LayoutModel",
      "state": {}
     },
     "13486d7b923c4895bf0a1fbb4fb6903c": {
      "model_module": "@jupyter-widgets/controls",
      "model_module_version": "1.5.0",
      "model_name": "DescriptionStyleModel",
      "state": {
       "description_width": ""
      }
     },
     "134fa806a02443fd800a9849005b36c2": {
      "model_module": "@jupyter-widgets/base",
      "model_module_version": "1.2.0",
      "model_name": "LayoutModel",
      "state": {
       "display": "inline-flex",
       "flex_flow": "row wrap",
       "width": "100%"
      }
     },
     "13543063052c43159a15cf706252a398": {
      "model_module": "@jupyter-widgets/controls",
      "model_module_version": "1.5.0",
      "model_name": "HTMLModel",
      "state": {
       "layout": "IPY_MODEL_b3cf01669f1d40b5883a08bc262be01e",
       "style": "IPY_MODEL_25c6520c868b4353be76687ea11d628d",
       "value": " 16/16 [00:00&lt;00:00, 21.02it/s]"
      }
     },
     "136ba9a5f8234e5fad01da45ad4552ca": {
      "model_module": "@jupyter-widgets/controls",
      "model_module_version": "1.5.0",
      "model_name": "ProgressStyleModel",
      "state": {
       "description_width": ""
      }
     },
     "139abf0569b647288c22dde6bdca08ea": {
      "model_module": "@jupyter-widgets/controls",
      "model_module_version": "1.5.0",
      "model_name": "HTMLModel",
      "state": {
       "layout": "IPY_MODEL_52499e73b4e349d7b9549f1006f851a6",
       "style": "IPY_MODEL_770ba38952da41f9a2a00d9ec45d9dc6",
       "value": " 16/16 [00:00&lt;00:00, 19.25it/s]"
      }
     },
     "13c697e212f442c6bf525259212f5d24": {
      "model_module": "@jupyter-widgets/base",
      "model_module_version": "1.2.0",
      "model_name": "LayoutModel",
      "state": {
       "display": "inline-flex",
       "flex_flow": "row wrap",
       "width": "100%"
      }
     },
     "13f4e7ce79484aa5aa4bd58a56524dac": {
      "model_module": "@jupyter-widgets/controls",
      "model_module_version": "1.5.0",
      "model_name": "FloatProgressModel",
      "state": {
       "layout": "IPY_MODEL_b178af055de24fe7a6f322b9ff4e27d3",
       "max": 16,
       "style": "IPY_MODEL_1bf8d28deaf345a78af39337858f2549",
       "value": 16
      }
     },
     "13f9cc2b45b6439288f9244d5183a86e": {
      "model_module": "@jupyter-widgets/controls",
      "model_module_version": "1.5.0",
      "model_name": "HTMLModel",
      "state": {
       "layout": "IPY_MODEL_46e23c55bffd4edeaf7ff124b57677b1",
       "style": "IPY_MODEL_18f00b2a264a4a6283ecae4fd9d26121",
       "value": "Validation DataLoader 0: 100%"
      }
     },
     "14021dfb488e4be0bfdc3c9814036201": {
      "model_module": "@jupyter-widgets/controls",
      "model_module_version": "1.5.0",
      "model_name": "ProgressStyleModel",
      "state": {
       "description_width": ""
      }
     },
     "142e28999e2e4d598b0f7710aeb95afd": {
      "model_module": "@jupyter-widgets/controls",
      "model_module_version": "1.5.0",
      "model_name": "FloatProgressModel",
      "state": {
       "layout": "IPY_MODEL_9dd83e70739f4836b14726ff7200c92d",
       "max": 16,
       "style": "IPY_MODEL_22218816de934704a127f01f104aacc5",
       "value": 16
      }
     },
     "14358526211744288ab3497d315ab0a4": {
      "model_module": "@jupyter-widgets/controls",
      "model_module_version": "1.5.0",
      "model_name": "HTMLModel",
      "state": {
       "layout": "IPY_MODEL_94d331db2c3244f294833a663645336e",
       "style": "IPY_MODEL_def3662e4a7d465bad9f9a4521e1526d",
       "value": "Validation DataLoader 0: 100%"
      }
     },
     "143b649280b042baa1e4f9b3da43b047": {
      "model_module": "@jupyter-widgets/controls",
      "model_module_version": "1.5.0",
      "model_name": "DescriptionStyleModel",
      "state": {
       "description_width": ""
      }
     },
     "143bd7ebe2544e0887d5748012f3d0de": {
      "model_module": "@jupyter-widgets/base",
      "model_module_version": "1.2.0",
      "model_name": "LayoutModel",
      "state": {}
     },
     "143db0c2ae52430e8068bca53d83ee09": {
      "model_module": "@jupyter-widgets/base",
      "model_module_version": "1.2.0",
      "model_name": "LayoutModel",
      "state": {
       "flex": "2"
      }
     },
     "143e1cfa79a84ac9bfd1e426b9949c7f": {
      "model_module": "@jupyter-widgets/controls",
      "model_module_version": "1.5.0",
      "model_name": "ProgressStyleModel",
      "state": {
       "description_width": ""
      }
     },
     "144856b7c84f4abeb4df21cf020d9822": {
      "model_module": "@jupyter-widgets/controls",
      "model_module_version": "1.5.0",
      "model_name": "ProgressStyleModel",
      "state": {
       "description_width": ""
      }
     },
     "14517d1cddbb47bbb70527bbe3a9151e": {
      "model_module": "@jupyter-widgets/controls",
      "model_module_version": "1.5.0",
      "model_name": "FloatProgressModel",
      "state": {
       "layout": "IPY_MODEL_718161d96ce449b796e4af832905a28b",
       "max": 16,
       "style": "IPY_MODEL_f7e599fbe6c648c3a64499f34f04e6bc",
       "value": 16
      }
     },
     "145f28cf47af4576b3d7f6943a3c829a": {
      "model_module": "@jupyter-widgets/controls",
      "model_module_version": "1.5.0",
      "model_name": "HTMLModel",
      "state": {
       "layout": "IPY_MODEL_ef846ef6c6244db685503dd99246d821",
       "style": "IPY_MODEL_92593c121e754f52ba70d79bc8860141",
       "value": " 16/16 [00:04&lt;00:00,  3.32it/s]"
      }
     },
     "147c6b1ce26a41cabc430899911d4282": {
      "model_module": "@jupyter-widgets/base",
      "model_module_version": "1.2.0",
      "model_name": "LayoutModel",
      "state": {
       "display": "inline-flex",
       "flex_flow": "row wrap",
       "width": "100%"
      }
     },
     "1498ce2be5224cdbb2baf8d5ec8a42c2": {
      "model_module": "@jupyter-widgets/controls",
      "model_module_version": "1.5.0",
      "model_name": "DescriptionStyleModel",
      "state": {
       "description_width": ""
      }
     },
     "149e268fef274436b46d765848f3668e": {
      "model_module": "@jupyter-widgets/base",
      "model_module_version": "1.2.0",
      "model_name": "LayoutModel",
      "state": {
       "display": "inline-flex",
       "flex_flow": "row wrap",
       "width": "100%"
      }
     },
     "14be8c3f2c2f479194e9cb02e56dc656": {
      "model_module": "@jupyter-widgets/controls",
      "model_module_version": "1.5.0",
      "model_name": "FloatProgressModel",
      "state": {
       "layout": "IPY_MODEL_de437f7ebaac48e5a8e8f9751d963ac7",
       "max": 77,
       "style": "IPY_MODEL_90f64651e02646e4aefc2d7dd5cabc3f",
       "value": 52
      }
     },
     "14e4c221d65046008ecdf3921370e43f": {
      "model_module": "@jupyter-widgets/base",
      "model_module_version": "1.2.0",
      "model_name": "LayoutModel",
      "state": {
       "display": "inline-flex",
       "flex_flow": "row wrap",
       "width": "100%"
      }
     },
     "15478011394a4c7894329c2d9b2b0efe": {
      "model_module": "@jupyter-widgets/controls",
      "model_module_version": "1.5.0",
      "model_name": "HTMLModel",
      "state": {
       "layout": "IPY_MODEL_27eddc76ca8948fa8001360b58963b70",
       "style": "IPY_MODEL_eb442fbf693b4e83b3d556f6cd7e1081",
       "value": " 16/16 [00:01&lt;00:00, 12.47it/s]"
      }
     },
     "156c1b2ac12c421db71543e6e5ab590b": {
      "model_module": "@jupyter-widgets/controls",
      "model_module_version": "1.5.0",
      "model_name": "ProgressStyleModel",
      "state": {
       "description_width": ""
      }
     },
     "156e224433eb4c6fa7af0a20d9ad9094": {
      "model_module": "@jupyter-widgets/base",
      "model_module_version": "1.2.0",
      "model_name": "LayoutModel",
      "state": {
       "flex": "2"
      }
     },
     "157c8954d2b34162bbe8b5af752895f3": {
      "model_module": "@jupyter-widgets/controls",
      "model_module_version": "1.5.0",
      "model_name": "DescriptionStyleModel",
      "state": {
       "description_width": ""
      }
     },
     "1582c6c7a3ba4aedb6da7f53928470cd": {
      "model_module": "@jupyter-widgets/controls",
      "model_module_version": "1.5.0",
      "model_name": "HTMLModel",
      "state": {
       "layout": "IPY_MODEL_db7836e3b93c4bea95deca5d7281cd34",
       "style": "IPY_MODEL_f918f5cb22434ef0a90e149db1d6aa55",
       "value": "Validation DataLoader 0: 100%"
      }
     },
     "159c1003ab684c08a52961fef8238e09": {
      "model_module": "@jupyter-widgets/base",
      "model_module_version": "1.2.0",
      "model_name": "LayoutModel",
      "state": {}
     },
     "15b735c18e3843bea69f7bbb8ebb8ccc": {
      "model_module": "@jupyter-widgets/controls",
      "model_module_version": "1.5.0",
      "model_name": "ProgressStyleModel",
      "state": {
       "description_width": ""
      }
     },
     "15bb9edd112b43b9b7b7d3895dd1a276": {
      "model_module": "@jupyter-widgets/controls",
      "model_module_version": "1.5.0",
      "model_name": "ProgressStyleModel",
      "state": {
       "description_width": ""
      }
     },
     "15c967bf932845ec9794f67bd6f5a8fe": {
      "model_module": "@jupyter-widgets/base",
      "model_module_version": "1.2.0",
      "model_name": "LayoutModel",
      "state": {}
     },
     "15ca436351f24bbb89b171f8eef8d853": {
      "model_module": "@jupyter-widgets/base",
      "model_module_version": "1.2.0",
      "model_name": "LayoutModel",
      "state": {
       "display": "inline-flex",
       "flex_flow": "row wrap",
       "width": "100%"
      }
     },
     "15cdcc8d9d6e45aeaaa87c23056a2520": {
      "model_module": "@jupyter-widgets/base",
      "model_module_version": "1.2.0",
      "model_name": "LayoutModel",
      "state": {}
     },
     "15e23b61de0947f3a8952b0038b262f5": {
      "model_module": "@jupyter-widgets/base",
      "model_module_version": "1.2.0",
      "model_name": "LayoutModel",
      "state": {}
     },
     "16038a5f41214358bb710236b1405f72": {
      "model_module": "@jupyter-widgets/controls",
      "model_module_version": "1.5.0",
      "model_name": "FloatProgressModel",
      "state": {
       "layout": "IPY_MODEL_f23ac9df1520436b97f357e0c0166524",
       "max": 16,
       "style": "IPY_MODEL_62fe9ad624d645468cff8dcac2831b2a",
       "value": 16
      }
     },
     "1611a5089df241038abdd0227a2509da": {
      "model_module": "@jupyter-widgets/controls",
      "model_module_version": "1.5.0",
      "model_name": "FloatProgressModel",
      "state": {
       "layout": "IPY_MODEL_560622a135e1499ba0fbbad3c7497e0d",
       "max": 16,
       "style": "IPY_MODEL_c9491fd250b74b29b323f312de851d92",
       "value": 16
      }
     },
     "1638cd42985146b591bf82a8a55f321a": {
      "model_module": "@jupyter-widgets/controls",
      "model_module_version": "1.5.0",
      "model_name": "FloatProgressModel",
      "state": {
       "layout": "IPY_MODEL_1aa988c6f44346d8856488ebf44c2f57",
       "max": 16,
       "style": "IPY_MODEL_9edbe24220894a23b3e3ecada12acc1d",
       "value": 16
      }
     },
     "163bd9ad552e477895e76b47c26c9692": {
      "model_module": "@jupyter-widgets/controls",
      "model_module_version": "1.5.0",
      "model_name": "HTMLModel",
      "state": {
       "layout": "IPY_MODEL_a6e9b1c745464aaeaac5dd6475240a30",
       "style": "IPY_MODEL_d1ee9e34797a45feb9050b69c5422728",
       "value": " 34/77 [00:32&lt;00:40,  1.06it/s, loss=0.0601, v_num=H-50]"
      }
     },
     "164cf1c323914312950ab60035243728": {
      "model_module": "@jupyter-widgets/base",
      "model_module_version": "1.2.0",
      "model_name": "LayoutModel",
      "state": {
       "display": "inline-flex",
       "flex_flow": "row wrap",
       "width": "100%"
      }
     },
     "1665a41bf600435089aa88af9d7bd6d5": {
      "model_module": "@jupyter-widgets/base",
      "model_module_version": "1.2.0",
      "model_name": "LayoutModel",
      "state": {
       "flex": "2"
      }
     },
     "1665c01fa9b444f2895fda73497db69b": {
      "model_module": "@jupyter-widgets/base",
      "model_module_version": "1.2.0",
      "model_name": "LayoutModel",
      "state": {
       "flex": "2"
      }
     },
     "166abb3113fc417d8ef4cf160fac0bf9": {
      "model_module": "@jupyter-widgets/base",
      "model_module_version": "1.2.0",
      "model_name": "LayoutModel",
      "state": {
       "display": "inline-flex",
       "flex_flow": "row wrap",
       "width": "100%"
      }
     },
     "16749ef5966c4221a1e2f92b669ff17f": {
      "model_module": "@jupyter-widgets/controls",
      "model_module_version": "1.5.0",
      "model_name": "DescriptionStyleModel",
      "state": {
       "description_width": ""
      }
     },
     "16a7f1bcce4f43e3b637f7790c97d762": {
      "model_module": "@jupyter-widgets/controls",
      "model_module_version": "1.5.0",
      "model_name": "DescriptionStyleModel",
      "state": {
       "description_width": ""
      }
     },
     "16abd6dcc71f418884348431c146121b": {
      "model_module": "@jupyter-widgets/controls",
      "model_module_version": "1.5.0",
      "model_name": "HTMLModel",
      "state": {
       "layout": "IPY_MODEL_cc397bf9e9e8495c88f1164d113fc814",
       "style": "IPY_MODEL_86735a03f4d7471d95d88d75fb00ab41",
       "value": " 16/16 [00:05&lt;00:00,  3.72it/s]"
      }
     },
     "16bcff78fd664d608529f45686ad9343": {
      "model_module": "@jupyter-widgets/controls",
      "model_module_version": "1.5.0",
      "model_name": "DescriptionStyleModel",
      "state": {
       "description_width": ""
      }
     },
     "16d0ec7f25e94d2b81643ec060c907ef": {
      "model_module": "@jupyter-widgets/controls",
      "model_module_version": "1.5.0",
      "model_name": "ProgressStyleModel",
      "state": {
       "description_width": ""
      }
     },
     "16f661aa51134012867c22623b258efb": {
      "model_module": "@jupyter-widgets/base",
      "model_module_version": "1.2.0",
      "model_name": "LayoutModel",
      "state": {}
     },
     "16fc265049ca4666bb8106302a2a0b47": {
      "model_module": "@jupyter-widgets/base",
      "model_module_version": "1.2.0",
      "model_name": "LayoutModel",
      "state": {
       "flex": "2"
      }
     },
     "171abcfeb3634229a85c3c0f24dea243": {
      "model_module": "@jupyter-widgets/controls",
      "model_module_version": "1.5.0",
      "model_name": "FloatProgressModel",
      "state": {
       "layout": "IPY_MODEL_b5624fb367cf49d0b98bd8e904d1a235",
       "max": 77,
       "style": "IPY_MODEL_7fa2a973160b4dee8ae1504cbdfa94d2",
       "value": 18
      }
     },
     "175482ec14314c17bd7743a8e5cb4806": {
      "model_module": "@jupyter-widgets/controls",
      "model_module_version": "1.5.0",
      "model_name": "HTMLModel",
      "state": {
       "layout": "IPY_MODEL_7a19441a2053416882dece4e14bf2e3a",
       "style": "IPY_MODEL_ed52977100c549e4944091c2f5511281",
       "value": "Validation DataLoader 0: 100%"
      }
     },
     "1759f5bd2c3d41cbbc494e3c25e85fea": {
      "model_module": "@jupyter-widgets/base",
      "model_module_version": "1.2.0",
      "model_name": "LayoutModel",
      "state": {
       "display": "inline-flex",
       "flex_flow": "row wrap",
       "width": "100%"
      }
     },
     "176f81d1f459401daee56df0102ac3e4": {
      "model_module": "@jupyter-widgets/controls",
      "model_module_version": "1.5.0",
      "model_name": "FloatProgressModel",
      "state": {
       "layout": "IPY_MODEL_2e7f2d1d55644be991aff10666fc555d",
       "max": 16,
       "style": "IPY_MODEL_7b5bd5492f864e6fb210cc9b2d1e67ca",
       "value": 16
      }
     },
     "1795990c1ee5410fa65e3f73831ba356": {
      "model_module": "@jupyter-widgets/base",
      "model_module_version": "1.2.0",
      "model_name": "LayoutModel",
      "state": {
       "flex": "2"
      }
     },
     "17a572f9798a4f44a2569cab54598828": {
      "model_module": "@jupyter-widgets/base",
      "model_module_version": "1.2.0",
      "model_name": "LayoutModel",
      "state": {
       "flex": "2"
      }
     },
     "17cced22a9a8407a8f403b5294b2af5c": {
      "model_module": "@jupyter-widgets/controls",
      "model_module_version": "1.5.0",
      "model_name": "FloatProgressModel",
      "state": {
       "layout": "IPY_MODEL_f2e7b014d2cc4d348d1ed42809827ce0",
       "max": 2,
       "style": "IPY_MODEL_b807164d4bb1401f8c8d77485793bde6",
       "value": 2
      }
     },
     "17d4946f60ae4d4985bfbc5aec3a0c4c": {
      "model_module": "@jupyter-widgets/controls",
      "model_module_version": "1.5.0",
      "model_name": "DescriptionStyleModel",
      "state": {
       "description_width": ""
      }
     },
     "17e49e0e43a648e2892282a3219c15be": {
      "model_module": "@jupyter-widgets/base",
      "model_module_version": "1.2.0",
      "model_name": "LayoutModel",
      "state": {}
     },
     "182bd9f43e514e709d4fb4fc353104d6": {
      "model_module": "@jupyter-widgets/controls",
      "model_module_version": "1.5.0",
      "model_name": "HTMLModel",
      "state": {
       "layout": "IPY_MODEL_47e466ff7e414177aa42411b196fe5dc",
       "style": "IPY_MODEL_80a274d24b194f6c868a0142615ea93f",
       "value": "Validation DataLoader 0: 100%"
      }
     },
     "183b6d0271f14af2aeeb87b19b79bbd9": {
      "model_module": "@jupyter-widgets/controls",
      "model_module_version": "1.5.0",
      "model_name": "DescriptionStyleModel",
      "state": {
       "description_width": ""
      }
     },
     "1853cdad162e47bf97cd67c8833c7961": {
      "model_module": "@jupyter-widgets/base",
      "model_module_version": "1.2.0",
      "model_name": "LayoutModel",
      "state": {}
     },
     "18701c7fbf5f4c04ae44add423507aef": {
      "model_module": "@jupyter-widgets/controls",
      "model_module_version": "1.5.0",
      "model_name": "HTMLModel",
      "state": {
       "layout": "IPY_MODEL_2002e634027f4499b7a8f68ac1a97a85",
       "style": "IPY_MODEL_aba56ace27584b9b89b899a4c0464f5d",
       "value": "Validation DataLoader 0: 100%"
      }
     },
     "187ac683264344a3a994b939a4486436": {
      "model_module": "@jupyter-widgets/controls",
      "model_module_version": "1.5.0",
      "model_name": "FloatProgressModel",
      "state": {
       "layout": "IPY_MODEL_af41df1990e84ccfa553612f822f6267",
       "max": 16,
       "style": "IPY_MODEL_f6b1b7f964b54548940e4c0c01095a81",
       "value": 16
      }
     },
     "1880f521b2db449a8811309f1c2d6a1d": {
      "model_module": "@jupyter-widgets/controls",
      "model_module_version": "1.5.0",
      "model_name": "DescriptionStyleModel",
      "state": {
       "description_width": ""
      }
     },
     "18941d199a454e229ab4322e9b6653d9": {
      "model_module": "@jupyter-widgets/base",
      "model_module_version": "1.2.0",
      "model_name": "LayoutModel",
      "state": {
       "flex": "2"
      }
     },
     "18ad2f751e6f4af1a65a611cbb76ef1c": {
      "model_module": "@jupyter-widgets/controls",
      "model_module_version": "1.5.0",
      "model_name": "HTMLModel",
      "state": {
       "layout": "IPY_MODEL_fd639ed1ae72408fa4125ae4f9ec72dc",
       "style": "IPY_MODEL_114f56e18a794d6581c29043ebb58b54",
       "value": " 2/2 [00:00&lt;00:00, 25.24it/s]"
      }
     },
     "18ad8151c6d747c08c7a2b4f47152000": {
      "model_module": "@jupyter-widgets/controls",
      "model_module_version": "1.5.0",
      "model_name": "HTMLModel",
      "state": {
       "layout": "IPY_MODEL_fafbd728e498405a8ace28aefbb7482c",
       "style": "IPY_MODEL_fd580e01ec1f4aa3b036275cb64b0e0d",
       "value": "Validation DataLoader 0: 100%"
      }
     },
     "18adfbbb7dd746e99109f18910bb7e79": {
      "model_module": "@jupyter-widgets/controls",
      "model_module_version": "1.5.0",
      "model_name": "DescriptionStyleModel",
      "state": {
       "description_width": ""
      }
     },
     "18c7edd440aa499e8f88d49c9b6baee2": {
      "model_module": "@jupyter-widgets/controls",
      "model_module_version": "1.5.0",
      "model_name": "DescriptionStyleModel",
      "state": {
       "description_width": ""
      }
     },
     "18c9aed46a4f4516a2dcc81481a3c8fe": {
      "model_module": "@jupyter-widgets/controls",
      "model_module_version": "1.5.0",
      "model_name": "HTMLModel",
      "state": {
       "layout": "IPY_MODEL_fb7f7627c5b44c8b8d0f4d8ae264e7a6",
       "style": "IPY_MODEL_9219edb443d24db8839fac40e17c3b17",
       "value": " 16/16 [00:01&lt;00:00, 10.38it/s]"
      }
     },
     "18da8ac2fb504f00aae2f74ac8756e01": {
      "model_module": "@jupyter-widgets/base",
      "model_module_version": "1.2.0",
      "model_name": "LayoutModel",
      "state": {}
     },
     "18eaaefb09024718a7431dce49ba018a": {
      "model_module": "@jupyter-widgets/base",
      "model_module_version": "1.2.0",
      "model_name": "LayoutModel",
      "state": {}
     },
     "18ef098c8568483696dce260294b505a": {
      "model_module": "@jupyter-widgets/controls",
      "model_module_version": "1.5.0",
      "model_name": "DescriptionStyleModel",
      "state": {
       "description_width": ""
      }
     },
     "18f00b2a264a4a6283ecae4fd9d26121": {
      "model_module": "@jupyter-widgets/controls",
      "model_module_version": "1.5.0",
      "model_name": "DescriptionStyleModel",
      "state": {
       "description_width": ""
      }
     },
     "18f53ee305124cc7877cc541474df0be": {
      "model_module": "@jupyter-widgets/base",
      "model_module_version": "1.2.0",
      "model_name": "LayoutModel",
      "state": {}
     },
     "1904f6773f694464b0b9e933ae72d61a": {
      "model_module": "@jupyter-widgets/controls",
      "model_module_version": "1.5.0",
      "model_name": "DescriptionStyleModel",
      "state": {
       "description_width": ""
      }
     },
     "190af0b68a3146af9aab61e5c6b0324b": {
      "model_module": "@jupyter-widgets/controls",
      "model_module_version": "1.5.0",
      "model_name": "DescriptionStyleModel",
      "state": {
       "description_width": ""
      }
     },
     "19144039c15e4c2099ef602719ac0428": {
      "model_module": "@jupyter-widgets/controls",
      "model_module_version": "1.5.0",
      "model_name": "HBoxModel",
      "state": {
       "children": [
        "IPY_MODEL_bda4431686764bb989979dc3a9711153",
        "IPY_MODEL_dfc39c8bcec142d9a98e7fbaadc736e1",
        "IPY_MODEL_0c636013a1f241d29bce0721cfd19494"
       ],
       "layout": "IPY_MODEL_d7d382ca560643fe8f923cfc4f45d5df"
      }
     },
     "1914ec1c9340436e9ce226ce5ac3bb6d": {
      "model_module": "@jupyter-widgets/controls",
      "model_module_version": "1.5.0",
      "model_name": "FloatProgressModel",
      "state": {
       "layout": "IPY_MODEL_935c6c5cb6b844dc9047d5aea9b37b6b",
       "max": 16,
       "style": "IPY_MODEL_8fd97829ccef40b496d17cf255b03bb1",
       "value": 16
      }
     },
     "1931c416673f478f899f589fce50b6a6": {
      "model_module": "@jupyter-widgets/controls",
      "model_module_version": "1.5.0",
      "model_name": "ProgressStyleModel",
      "state": {
       "description_width": ""
      }
     },
     "1948e0d70d8d45d5bfc1004116af3b6b": {
      "model_module": "@jupyter-widgets/base",
      "model_module_version": "1.2.0",
      "model_name": "LayoutModel",
      "state": {}
     },
     "19556b07d3e940ed9cabd3f5ebf647b3": {
      "model_module": "@jupyter-widgets/base",
      "model_module_version": "1.2.0",
      "model_name": "LayoutModel",
      "state": {}
     },
     "19610551f597493e9973100c4f33d66c": {
      "model_module": "@jupyter-widgets/controls",
      "model_module_version": "1.5.0",
      "model_name": "HTMLModel",
      "state": {
       "layout": "IPY_MODEL_676f44f0abc54fef93ce243455356415",
       "style": "IPY_MODEL_717afd62cc1a4523b28bb2ce60a44315",
       "value": " 16/16 [00:00&lt;00:00, 22.74it/s]"
      }
     },
     "197a641711b84e1e897d1395f8deda5b": {
      "model_module": "@jupyter-widgets/controls",
      "model_module_version": "1.5.0",
      "model_name": "DescriptionStyleModel",
      "state": {
       "description_width": ""
      }
     },
     "19d17542eee6465886d40990d31b8384": {
      "model_module": "@jupyter-widgets/controls",
      "model_module_version": "1.5.0",
      "model_name": "ProgressStyleModel",
      "state": {
       "description_width": ""
      }
     },
     "19f11393062a4d12b6395eac6b9d018f": {
      "model_module": "@jupyter-widgets/base",
      "model_module_version": "1.2.0",
      "model_name": "LayoutModel",
      "state": {}
     },
     "1a055f0daa824751952fdf8034566054": {
      "model_module": "@jupyter-widgets/controls",
      "model_module_version": "1.5.0",
      "model_name": "HTMLModel",
      "state": {
       "layout": "IPY_MODEL_d7b67d756f594fac914ee3f47a871719",
       "style": "IPY_MODEL_1afd84b87130460bb51366c5909d70fd",
       "value": "Validation DataLoader 0: 100%"
      }
     },
     "1a2d976f2f8f46aba55a06992a937a0d": {
      "model_module": "@jupyter-widgets/base",
      "model_module_version": "1.2.0",
      "model_name": "LayoutModel",
      "state": {
       "flex": "2"
      }
     },
     "1a3f23f3ac7f4928b412cbc53028b4bb": {
      "model_module": "@jupyter-widgets/controls",
      "model_module_version": "1.5.0",
      "model_name": "DescriptionStyleModel",
      "state": {
       "description_width": ""
      }
     },
     "1a44300d3de04607afebcc80b91ed01b": {
      "model_module": "@jupyter-widgets/base",
      "model_module_version": "1.2.0",
      "model_name": "LayoutModel",
      "state": {
       "display": "inline-flex",
       "flex_flow": "row wrap",
       "width": "100%"
      }
     },
     "1a5d98a11db6484b89669951f49be6d6": {
      "model_module": "@jupyter-widgets/controls",
      "model_module_version": "1.5.0",
      "model_name": "HTMLModel",
      "state": {
       "layout": "IPY_MODEL_2c42a03443f44954a85d4439e9ba46d2",
       "style": "IPY_MODEL_33eba94f809a4b60b711788a05e8a9c0",
       "value": " 16/16 [00:00&lt;00:00, 20.48it/s]"
      }
     },
     "1a5e2f142ef1453f9eb7c1857019a79d": {
      "model_module": "@jupyter-widgets/controls",
      "model_module_version": "1.5.0",
      "model_name": "FloatProgressModel",
      "state": {
       "layout": "IPY_MODEL_c8418e0b2c4242078a0f87bd1125aff2",
       "max": 77,
       "style": "IPY_MODEL_78a828c7b0a14fa0b4b3d6ce106b1e3e",
       "value": 33
      }
     },
     "1a71e188f1a5461f83bc7601f6c97301": {
      "model_module": "@jupyter-widgets/controls",
      "model_module_version": "1.5.0",
      "model_name": "FloatProgressModel",
      "state": {
       "layout": "IPY_MODEL_3a905656e3484993a3f4f4baa0240ecf",
       "max": 2,
       "style": "IPY_MODEL_5e618d869266476ba16af16cf7c22f99",
       "value": 2
      }
     },
     "1a73b87cfd1847a5960e26adb451bf36": {
      "model_module": "@jupyter-widgets/base",
      "model_module_version": "1.2.0",
      "model_name": "LayoutModel",
      "state": {
       "flex": "2"
      }
     },
     "1a8171e6716b40ddb8ddb395a45c8a76": {
      "model_module": "@jupyter-widgets/base",
      "model_module_version": "1.2.0",
      "model_name": "LayoutModel",
      "state": {}
     },
     "1a899271c0d4405ca178940cfa357aec": {
      "model_module": "@jupyter-widgets/base",
      "model_module_version": "1.2.0",
      "model_name": "LayoutModel",
      "state": {
       "display": "inline-flex",
       "flex_flow": "row wrap",
       "width": "100%"
      }
     },
     "1a9c40a915c94186bd541e4736fe5d86": {
      "model_module": "@jupyter-widgets/controls",
      "model_module_version": "1.5.0",
      "model_name": "DescriptionStyleModel",
      "state": {
       "description_width": ""
      }
     },
     "1a9fdd14c9b94ad79485a4e6c8a7a7d4": {
      "model_module": "@jupyter-widgets/base",
      "model_module_version": "1.2.0",
      "model_name": "LayoutModel",
      "state": {
       "display": "inline-flex",
       "flex_flow": "row wrap",
       "width": "100%"
      }
     },
     "1aa988c6f44346d8856488ebf44c2f57": {
      "model_module": "@jupyter-widgets/base",
      "model_module_version": "1.2.0",
      "model_name": "LayoutModel",
      "state": {
       "flex": "2"
      }
     },
     "1aaf42d1fe9d44e6b9a817d51887e5a7": {
      "model_module": "@jupyter-widgets/base",
      "model_module_version": "1.2.0",
      "model_name": "LayoutModel",
      "state": {}
     },
     "1ac413cdde4047e483f36d5ed6dea06c": {
      "model_module": "@jupyter-widgets/base",
      "model_module_version": "1.2.0",
      "model_name": "LayoutModel",
      "state": {}
     },
     "1ac7a31de6ed4e80ae1ed123dc537a13": {
      "model_module": "@jupyter-widgets/controls",
      "model_module_version": "1.5.0",
      "model_name": "HTMLModel",
      "state": {
       "layout": "IPY_MODEL_50145807bff644e7914884ca20f46191",
       "style": "IPY_MODEL_329e3dcd0e754a77aba15c21be8d9c0d",
       "value": " 16/16 [00:00&lt;00:00, 20.79it/s]"
      }
     },
     "1adc78cfbdc04ed69f7ddebcdb1e0dc4": {
      "model_module": "@jupyter-widgets/base",
      "model_module_version": "1.2.0",
      "model_name": "LayoutModel",
      "state": {
       "flex": "2"
      }
     },
     "1ae4450e68f6430e86bdeb7918a6df12": {
      "model_module": "@jupyter-widgets/base",
      "model_module_version": "1.2.0",
      "model_name": "LayoutModel",
      "state": {}
     },
     "1ae84c0c977746d8ae1d29a053103f3f": {
      "model_module": "@jupyter-widgets/base",
      "model_module_version": "1.2.0",
      "model_name": "LayoutModel",
      "state": {
       "flex": "2"
      }
     },
     "1afaa7ab3710442798f01d3508984dae": {
      "model_module": "@jupyter-widgets/base",
      "model_module_version": "1.2.0",
      "model_name": "LayoutModel",
      "state": {}
     },
     "1afd84b87130460bb51366c5909d70fd": {
      "model_module": "@jupyter-widgets/controls",
      "model_module_version": "1.5.0",
      "model_name": "DescriptionStyleModel",
      "state": {
       "description_width": ""
      }
     },
     "1afdf7f5802f4950b075cb8a0ed974e3": {
      "model_module": "@jupyter-widgets/controls",
      "model_module_version": "1.5.0",
      "model_name": "FloatProgressModel",
      "state": {
       "layout": "IPY_MODEL_0d985949038f42d7a75db2923b248327",
       "max": 16,
       "style": "IPY_MODEL_2624474f8e8b4a3e8102115816282a33",
       "value": 16
      }
     },
     "1b14dedcc2d74fcbad0b137eff3816c0": {
      "model_module": "@jupyter-widgets/controls",
      "model_module_version": "1.5.0",
      "model_name": "HTMLModel",
      "state": {
       "layout": "IPY_MODEL_143bd7ebe2544e0887d5748012f3d0de",
       "style": "IPY_MODEL_e43ce022b1b1425da4772bb4a2c803de",
       "value": " 16/16 [00:00&lt;00:00, 20.93it/s]"
      }
     },
     "1b2bd71fa00d4f7ea351d2bb15a22544": {
      "model_module": "@jupyter-widgets/controls",
      "model_module_version": "1.5.0",
      "model_name": "ProgressStyleModel",
      "state": {
       "description_width": ""
      }
     },
     "1b661e5ef0d948a190fc337b9e711383": {
      "model_module": "@jupyter-widgets/base",
      "model_module_version": "1.2.0",
      "model_name": "LayoutModel",
      "state": {
       "display": "inline-flex",
       "flex_flow": "row wrap",
       "width": "100%"
      }
     },
     "1b7336cbcd9e4b57adc3d2fe173d9be1": {
      "model_module": "@jupyter-widgets/controls",
      "model_module_version": "1.5.0",
      "model_name": "DescriptionStyleModel",
      "state": {
       "description_width": ""
      }
     },
     "1bbe4e79352e47baac28fdfb61422614": {
      "model_module": "@jupyter-widgets/controls",
      "model_module_version": "1.5.0",
      "model_name": "DescriptionStyleModel",
      "state": {
       "description_width": ""
      }
     },
     "1bc8bcea1f394b42ad96b7c310c228ae": {
      "model_module": "@jupyter-widgets/controls",
      "model_module_version": "1.5.0",
      "model_name": "HTMLModel",
      "state": {
       "layout": "IPY_MODEL_b9f4390b7afe46a78eae8bc610a3bf7f",
       "style": "IPY_MODEL_2d8e909946d74ccf9908f0d94c19ae6b",
       "value": "Validation DataLoader 0: 100%"
      }
     },
     "1bcb9d6b65e4404d8dbea92cac0f6664": {
      "model_module": "@jupyter-widgets/base",
      "model_module_version": "1.2.0",
      "model_name": "LayoutModel",
      "state": {}
     },
     "1bd6630819654b64a861942caa0dc2a2": {
      "model_module": "@jupyter-widgets/base",
      "model_module_version": "1.2.0",
      "model_name": "LayoutModel",
      "state": {
       "display": "inline-flex",
       "flex_flow": "row wrap",
       "width": "100%"
      }
     },
     "1bf0540fa6da45f18370c1b33ff43666": {
      "model_module": "@jupyter-widgets/controls",
      "model_module_version": "1.5.0",
      "model_name": "HTMLModel",
      "state": {
       "layout": "IPY_MODEL_b9384445caeb485184c1b09641ef32f3",
       "style": "IPY_MODEL_67caa6614c0341b8ba5875579379e296",
       "value": " 16/16 [00:06&lt;00:00,  2.74it/s]"
      }
     },
     "1bf6b95ad9964fdfa2230da28738d51f": {
      "model_module": "@jupyter-widgets/controls",
      "model_module_version": "1.5.0",
      "model_name": "FloatProgressModel",
      "state": {
       "layout": "IPY_MODEL_1665c01fa9b444f2895fda73497db69b",
       "max": 16,
       "style": "IPY_MODEL_f68e254f9bbc48cea87f28ca2c3f0a73",
       "value": 16
      }
     },
     "1bf8d28deaf345a78af39337858f2549": {
      "model_module": "@jupyter-widgets/controls",
      "model_module_version": "1.5.0",
      "model_name": "ProgressStyleModel",
      "state": {
       "description_width": ""
      }
     },
     "1c227fa5a04e410ca1af22626c131355": {
      "model_module": "@jupyter-widgets/controls",
      "model_module_version": "1.5.0",
      "model_name": "HTMLModel",
      "state": {
       "layout": "IPY_MODEL_cd2c0bd47bde4e4aa9a5480ec8ef47cb",
       "style": "IPY_MODEL_57a057c8d95a434aae5f8a370ba1f6b4",
       "value": "Validation DataLoader 0: 100%"
      }
     },
     "1c3535a16e7e4305a7d2c4502fd82b55": {
      "model_module": "@jupyter-widgets/controls",
      "model_module_version": "1.5.0",
      "model_name": "HTMLModel",
      "state": {
       "layout": "IPY_MODEL_4a88773f126b4ff78795506c9954e4a0",
       "style": "IPY_MODEL_13486d7b923c4895bf0a1fbb4fb6903c",
       "value": "Validation DataLoader 0: 100%"
      }
     },
     "1c44b07044bd4074b308abcfd9e16eae": {
      "model_module": "@jupyter-widgets/controls",
      "model_module_version": "1.5.0",
      "model_name": "FloatProgressModel",
      "state": {
       "layout": "IPY_MODEL_f36b9333657e41cbae1c70c371067226",
       "max": 16,
       "style": "IPY_MODEL_56d4db14a5eb42a385672ba6638ded50",
       "value": 16
      }
     },
     "1c587d62910149aab3e4f5ba0b295e78": {
      "model_module": "@jupyter-widgets/controls",
      "model_module_version": "1.5.0",
      "model_name": "HTMLModel",
      "state": {
       "layout": "IPY_MODEL_3f3bbb6215414b5f9cc0c091bcba8393",
       "style": "IPY_MODEL_5fd6ba4f675e4ac495ace0b542f727ef",
       "value": "Validation DataLoader 0: 100%"
      }
     },
     "1c611a27e2da406cb70753ec1bc072c4": {
      "model_module": "@jupyter-widgets/base",
      "model_module_version": "1.2.0",
      "model_name": "LayoutModel",
      "state": {}
     },
     "1c665daeac8e4844b854064bbe5038eb": {
      "model_module": "@jupyter-widgets/controls",
      "model_module_version": "1.5.0",
      "model_name": "FloatProgressModel",
      "state": {
       "layout": "IPY_MODEL_6b7ac8abee6c49609963c39199a80ee7",
       "max": 2,
       "style": "IPY_MODEL_41bd2e76dcf9453c8f23e79bd950be97",
       "value": 2
      }
     },
     "1c8030a4b6634ebb8eaa207005a07d10": {
      "model_module": "@jupyter-widgets/base",
      "model_module_version": "1.2.0",
      "model_name": "LayoutModel",
      "state": {}
     },
     "1c8129e4d7b34518b694b34ce8914a9e": {
      "model_module": "@jupyter-widgets/base",
      "model_module_version": "1.2.0",
      "model_name": "LayoutModel",
      "state": {}
     },
     "1c9d0bec97d94f30b27bd28098ada8cd": {
      "model_module": "@jupyter-widgets/controls",
      "model_module_version": "1.5.0",
      "model_name": "HTMLModel",
      "state": {
       "layout": "IPY_MODEL_5eb2f3ed826c43a4b86992c4c4c2d1f2",
       "style": "IPY_MODEL_eed424b25586409a9b5cdbd3ca15b9d6",
       "value": " 16/16 [00:00&lt;00:00, 19.69it/s]"
      }
     },
     "1cba77e802064d7a86711415e59bd0f0": {
      "model_module": "@jupyter-widgets/controls",
      "model_module_version": "1.5.0",
      "model_name": "HTMLModel",
      "state": {
       "layout": "IPY_MODEL_4794ffcbe9ee4b768c379eb2ad47dc9e",
       "style": "IPY_MODEL_3fe4756ab1564836a48b142a6481b5f7",
       "value": " 2/2 [00:00&lt;00:00, 23.01it/s]"
      }
     },
     "1cbef4a1a8bf488da4c265202cdccae4": {
      "model_module": "@jupyter-widgets/controls",
      "model_module_version": "1.5.0",
      "model_name": "DescriptionStyleModel",
      "state": {
       "description_width": ""
      }
     },
     "1d064c43ea2547f1a18e0bd9be9068b5": {
      "model_module": "@jupyter-widgets/base",
      "model_module_version": "1.2.0",
      "model_name": "LayoutModel",
      "state": {
       "flex": "2"
      }
     },
     "1d0dbf58c8c2407d8fa7e91ed305c70b": {
      "model_module": "@jupyter-widgets/base",
      "model_module_version": "1.2.0",
      "model_name": "LayoutModel",
      "state": {
       "flex": "2"
      }
     },
     "1d122352215a4a1eb70dfc996da1d41e": {
      "model_module": "@jupyter-widgets/controls",
      "model_module_version": "1.5.0",
      "model_name": "HBoxModel",
      "state": {
       "children": [
        "IPY_MODEL_86e6479f788243478e23ce62d74803b6",
        "IPY_MODEL_b826b60f9b184af6a82138426fb5b563",
        "IPY_MODEL_9d1c2bf087764811980e13109bce30dc"
       ],
       "layout": "IPY_MODEL_791cfb126e324b96a6840543b301fe2c"
      }
     },
     "1d32199006d747ca9af4a3d5f00b1023": {
      "model_module": "@jupyter-widgets/controls",
      "model_module_version": "1.5.0",
      "model_name": "FloatProgressModel",
      "state": {
       "layout": "IPY_MODEL_48b5172ab6eb401c8846706570db7d60",
       "max": 16,
       "style": "IPY_MODEL_d4129e715cb342f9820b49d29a6e65b1",
       "value": 16
      }
     },
     "1d37fdcdd18b4f8d8d8ef4f81ce04090": {
      "model_module": "@jupyter-widgets/controls",
      "model_module_version": "1.5.0",
      "model_name": "DescriptionStyleModel",
      "state": {
       "description_width": ""
      }
     },
     "1d85c3ad143b430fab024ad0d9e5c91d": {
      "model_module": "@jupyter-widgets/controls",
      "model_module_version": "1.5.0",
      "model_name": "HTMLModel",
      "state": {
       "layout": "IPY_MODEL_31a384a5aa0940c1b9ffa4c4ed0f464b",
       "style": "IPY_MODEL_e6261de2d2a8401c9a47bdd4f1ebe633",
       "value": " 11/16 [00:00&lt;00:00, 11.07it/s]"
      }
     },
     "1d92c11347b24b82a8a1e91dbcd2c601": {
      "model_module": "@jupyter-widgets/base",
      "model_module_version": "1.2.0",
      "model_name": "LayoutModel",
      "state": {}
     },
     "1d9c7688be9e4a22bae59c54bd6d814b": {
      "model_module": "@jupyter-widgets/base",
      "model_module_version": "1.2.0",
      "model_name": "LayoutModel",
      "state": {}
     },
     "1d9f649a4ed44874ae45b5a5e2de143b": {
      "model_module": "@jupyter-widgets/base",
      "model_module_version": "1.2.0",
      "model_name": "LayoutModel",
      "state": {
       "flex": "2"
      }
     },
     "1da78b1af39f4fae91d8b5b66550086d": {
      "model_module": "@jupyter-widgets/base",
      "model_module_version": "1.2.0",
      "model_name": "LayoutModel",
      "state": {
       "display": "inline-flex",
       "flex_flow": "row wrap",
       "width": "100%"
      }
     },
     "1da8749fda514f698fee7b54abda75d2": {
      "model_module": "@jupyter-widgets/base",
      "model_module_version": "1.2.0",
      "model_name": "LayoutModel",
      "state": {}
     },
     "1db207593d9544f29e42546dadf50c06": {
      "model_module": "@jupyter-widgets/controls",
      "model_module_version": "1.5.0",
      "model_name": "DescriptionStyleModel",
      "state": {
       "description_width": ""
      }
     },
     "1db353ac7bee4a449520fece5fdd2288": {
      "model_module": "@jupyter-widgets/controls",
      "model_module_version": "1.5.0",
      "model_name": "HTMLModel",
      "state": {
       "layout": "IPY_MODEL_6ef31e9eacbd4d08ab925deaf69dd0fb",
       "style": "IPY_MODEL_9ccd9d6b66c44dfa953aee921ad51fe1",
       "value": " 2/2 [00:00&lt;00:00, 21.52it/s]"
      }
     },
     "1dbf1d2b6da14606940075ccb4db9d6f": {
      "model_module": "@jupyter-widgets/base",
      "model_module_version": "1.2.0",
      "model_name": "LayoutModel",
      "state": {
       "display": "inline-flex",
       "flex_flow": "row wrap",
       "width": "100%"
      }
     },
     "1dc55b530877497a85319a73f2221c69": {
      "model_module": "@jupyter-widgets/controls",
      "model_module_version": "1.5.0",
      "model_name": "ProgressStyleModel",
      "state": {
       "description_width": ""
      }
     },
     "1dc83c61c88f4bf4ab6e5b2e589fbe1e": {
      "model_module": "@jupyter-widgets/controls",
      "model_module_version": "1.5.0",
      "model_name": "ProgressStyleModel",
      "state": {
       "description_width": ""
      }
     },
     "1dd9317aaed74583892ec93444ef58b2": {
      "model_module": "@jupyter-widgets/base",
      "model_module_version": "1.2.0",
      "model_name": "LayoutModel",
      "state": {
       "flex": "2"
      }
     },
     "1dfafe5e5e5a484583f7f76bf6157b16": {
      "model_module": "@jupyter-widgets/controls",
      "model_module_version": "1.5.0",
      "model_name": "HTMLModel",
      "state": {
       "layout": "IPY_MODEL_0e8ab18060974cb8921ba83c9fd2344b",
       "style": "IPY_MODEL_dfed3edf21be4799b45928d19f0db33a",
       "value": "Validation DataLoader 0: 100%"
      }
     },
     "1e1e886e774a4613a4a7349408e2aeaa": {
      "model_module": "@jupyter-widgets/base",
      "model_module_version": "1.2.0",
      "model_name": "LayoutModel",
      "state": {}
     },
     "1e226f7955c34c18ae098a21d8298c75": {
      "model_module": "@jupyter-widgets/controls",
      "model_module_version": "1.5.0",
      "model_name": "DescriptionStyleModel",
      "state": {
       "description_width": ""
      }
     },
     "1e252ff645e04be1bbdb6b3d266c9be7": {
      "model_module": "@jupyter-widgets/base",
      "model_module_version": "1.2.0",
      "model_name": "LayoutModel",
      "state": {}
     },
     "1e6f527a5d01409dbd498b03e9b07512": {
      "model_module": "@jupyter-widgets/controls",
      "model_module_version": "1.5.0",
      "model_name": "HBoxModel",
      "state": {
       "children": [
        "IPY_MODEL_98958a4a3928464ea2255ed11c3b0ee7",
        "IPY_MODEL_24d185b9fb0644e5b49f787b38ef787c",
        "IPY_MODEL_abcac2dfd77947f39bbdf88f503aa18e"
       ],
       "layout": "IPY_MODEL_82fd476b9b7745c8be1570d42df038fc"
      }
     },
     "1e75c5e428ea440ba71aa44704e960c3": {
      "model_module": "@jupyter-widgets/controls",
      "model_module_version": "1.5.0",
      "model_name": "ProgressStyleModel",
      "state": {
       "description_width": ""
      }
     },
     "1eafc67b176545df91a296cd9d325f27": {
      "model_module": "@jupyter-widgets/base",
      "model_module_version": "1.2.0",
      "model_name": "LayoutModel",
      "state": {
       "flex": "2"
      }
     },
     "1eb3e414fb5049ceb15437dde87c979d": {
      "model_module": "@jupyter-widgets/controls",
      "model_module_version": "1.5.0",
      "model_name": "HTMLModel",
      "state": {
       "layout": "IPY_MODEL_059b06aad14f4474bf6db7c869746aad",
       "style": "IPY_MODEL_20cc65ade93f4fe28319c335164b0325",
       "value": "Validation DataLoader 0: 100%"
      }
     },
     "1ebb21d160274c1fa5e1a7615107b0c4": {
      "model_module": "@jupyter-widgets/base",
      "model_module_version": "1.2.0",
      "model_name": "LayoutModel",
      "state": {
       "flex": "2"
      }
     },
     "1ed8cfb4eaf34e4580c1100d3aaf0281": {
      "model_module": "@jupyter-widgets/base",
      "model_module_version": "1.2.0",
      "model_name": "LayoutModel",
      "state": {}
     },
     "1efea13bdf7b45769b3472978d6c89e2": {
      "model_module": "@jupyter-widgets/controls",
      "model_module_version": "1.5.0",
      "model_name": "HTMLModel",
      "state": {
       "layout": "IPY_MODEL_3ebf7ce8cf2e4e6fb0bc40b83ff85559",
       "style": "IPY_MODEL_16749ef5966c4221a1e2f92b669ff17f",
       "value": "Validation DataLoader 0: 100%"
      }
     },
     "1f0462f3154f4e36abcf940de582b5f6": {
      "model_module": "@jupyter-widgets/controls",
      "model_module_version": "1.5.0",
      "model_name": "HTMLModel",
      "state": {
       "layout": "IPY_MODEL_ee7e4ae421c74a258299e7b2704cda30",
       "style": "IPY_MODEL_b1619c5450ab495da07a0cd683875c6b",
       "value": "Validation DataLoader 0: 100%"
      }
     },
     "1f260ddcd998493b9a038d5bae6ca4d7": {
      "model_module": "@jupyter-widgets/base",
      "model_module_version": "1.2.0",
      "model_name": "LayoutModel",
      "state": {}
     },
     "1f2fe5a0e2954a14a8bfa306474cf2dc": {
      "model_module": "@jupyter-widgets/controls",
      "model_module_version": "1.5.0",
      "model_name": "DescriptionStyleModel",
      "state": {
       "description_width": ""
      }
     },
     "1f32db1b55ef4988a524b4209924f468": {
      "model_module": "@jupyter-widgets/base",
      "model_module_version": "1.2.0",
      "model_name": "LayoutModel",
      "state": {
       "display": "inline-flex",
       "flex_flow": "row wrap",
       "width": "100%"
      }
     },
     "1f47eb922da04a7cad5641f2fe673526": {
      "model_module": "@jupyter-widgets/controls",
      "model_module_version": "1.5.0",
      "model_name": "ProgressStyleModel",
      "state": {
       "description_width": ""
      }
     },
     "1f59bf6cc230407191108d68b1f4d771": {
      "model_module": "@jupyter-widgets/controls",
      "model_module_version": "1.5.0",
      "model_name": "FloatProgressModel",
      "state": {
       "layout": "IPY_MODEL_95f1bdd3a9b44bc582f24cac6c7fe3d6",
       "max": 16,
       "style": "IPY_MODEL_4dcca1d2477c46ab9ff0e0db9d1187e3",
       "value": 16
      }
     },
     "1f65ff8996ca4e0b8f34b784884c5e12": {
      "model_module": "@jupyter-widgets/base",
      "model_module_version": "1.2.0",
      "model_name": "LayoutModel",
      "state": {}
     },
     "1f6f733b936b4819b804556c7bac214f": {
      "model_module": "@jupyter-widgets/controls",
      "model_module_version": "1.5.0",
      "model_name": "DescriptionStyleModel",
      "state": {
       "description_width": ""
      }
     },
     "1f8b66f74cf54e9d927e1ab7df9d4d9c": {
      "model_module": "@jupyter-widgets/base",
      "model_module_version": "1.2.0",
      "model_name": "LayoutModel",
      "state": {}
     },
     "1f9000a0c3c84850ba1c200860dba0c2": {
      "model_module": "@jupyter-widgets/base",
      "model_module_version": "1.2.0",
      "model_name": "LayoutModel",
      "state": {}
     },
     "1fb898e8149c4bc6a94995f91bd0b319": {
      "model_module": "@jupyter-widgets/base",
      "model_module_version": "1.2.0",
      "model_name": "LayoutModel",
      "state": {}
     },
     "1fbb904c3ef640fea37bec4325aa7e5b": {
      "model_module": "@jupyter-widgets/controls",
      "model_module_version": "1.5.0",
      "model_name": "HTMLModel",
      "state": {
       "layout": "IPY_MODEL_c3cdc0773ed34f43a91f72c648b95e7e",
       "style": "IPY_MODEL_b28cc20c265b4dbcb821e6f60155aaab",
       "value": " 2/2 [00:00&lt;00:00, 19.64it/s]"
      }
     },
     "1fbbf89b2faf459598d284b24400ccdd": {
      "model_module": "@jupyter-widgets/base",
      "model_module_version": "1.2.0",
      "model_name": "LayoutModel",
      "state": {
       "display": "inline-flex",
       "flex_flow": "row wrap",
       "width": "100%"
      }
     },
     "1fca68bf787c4b0698763df15f57c6d5": {
      "model_module": "@jupyter-widgets/base",
      "model_module_version": "1.2.0",
      "model_name": "LayoutModel",
      "state": {}
     },
     "1feafb5c8a0d41db99df4fa18a8ec44c": {
      "model_module": "@jupyter-widgets/controls",
      "model_module_version": "1.5.0",
      "model_name": "DescriptionStyleModel",
      "state": {
       "description_width": ""
      }
     },
     "2002e634027f4499b7a8f68ac1a97a85": {
      "model_module": "@jupyter-widgets/base",
      "model_module_version": "1.2.0",
      "model_name": "LayoutModel",
      "state": {}
     },
     "200a9166625b48c59323cac12746941e": {
      "model_module": "@jupyter-widgets/base",
      "model_module_version": "1.2.0",
      "model_name": "LayoutModel",
      "state": {}
     },
     "20224f318dd54889880195fc542a5380": {
      "model_module": "@jupyter-widgets/controls",
      "model_module_version": "1.5.0",
      "model_name": "ProgressStyleModel",
      "state": {
       "description_width": ""
      }
     },
     "2026dbe2704a4bacb971a961360eab0e": {
      "model_module": "@jupyter-widgets/controls",
      "model_module_version": "1.5.0",
      "model_name": "FloatProgressModel",
      "state": {
       "layout": "IPY_MODEL_c61311634aa540ffa3f01d6abc6ceac5",
       "max": 16,
       "style": "IPY_MODEL_ac6d417d81ae4139bf617d02821a5082",
       "value": 16
      }
     },
     "20674616a94943f18535b164203a3f95": {
      "model_module": "@jupyter-widgets/controls",
      "model_module_version": "1.5.0",
      "model_name": "HTMLModel",
      "state": {
       "layout": "IPY_MODEL_9c924309f30048c1be96904a93688dd9",
       "style": "IPY_MODEL_b02b587e6a6a418f909c0cd96e597d1a",
       "value": " 16/16 [00:00&lt;00:00, 14.61it/s]"
      }
     },
     "20720bc1425c4fe6b837628d77337410": {
      "model_module": "@jupyter-widgets/controls",
      "model_module_version": "1.5.0",
      "model_name": "DescriptionStyleModel",
      "state": {
       "description_width": ""
      }
     },
     "209ac39ee54642b1855fc0768e0b0c22": {
      "model_module": "@jupyter-widgets/base",
      "model_module_version": "1.2.0",
      "model_name": "LayoutModel",
      "state": {
       "flex": "2"
      }
     },
     "20b9627b0e964810a773eeb0d117a880": {
      "model_module": "@jupyter-widgets/controls",
      "model_module_version": "1.5.0",
      "model_name": "FloatProgressModel",
      "state": {
       "layout": "IPY_MODEL_eb4c04801d1441988670afdacd5c0ac2",
       "max": 16,
       "style": "IPY_MODEL_63fb2e276fa84db2880dde57069e5c68",
       "value": 16
      }
     },
     "20c682a45e3e480bb83c18ebab030b09": {
      "model_module": "@jupyter-widgets/controls",
      "model_module_version": "1.5.0",
      "model_name": "ProgressStyleModel",
      "state": {
       "description_width": ""
      }
     },
     "20c88d4125cc4dd2bb45827108098a3e": {
      "model_module": "@jupyter-widgets/base",
      "model_module_version": "1.2.0",
      "model_name": "LayoutModel",
      "state": {
       "display": "inline-flex",
       "flex_flow": "row wrap",
       "width": "100%"
      }
     },
     "20c8cff17b184c67a9531060acb5c279": {
      "model_module": "@jupyter-widgets/controls",
      "model_module_version": "1.5.0",
      "model_name": "HTMLModel",
      "state": {
       "layout": "IPY_MODEL_24f6abd24c0c4aadb6c74a4fc1c08b32",
       "style": "IPY_MODEL_71de95e91c7048aab2fb61602f0b3abf",
       "value": "Validation DataLoader 0: 100%"
      }
     },
     "20c90ef841524e2fa9c5883664b77de1": {
      "model_module": "@jupyter-widgets/base",
      "model_module_version": "1.2.0",
      "model_name": "LayoutModel",
      "state": {
       "display": "inline-flex",
       "flex_flow": "row wrap",
       "width": "100%"
      }
     },
     "20cc65ade93f4fe28319c335164b0325": {
      "model_module": "@jupyter-widgets/controls",
      "model_module_version": "1.5.0",
      "model_name": "DescriptionStyleModel",
      "state": {
       "description_width": ""
      }
     },
     "20dc99eeb96248e6862693250d05cf40": {
      "model_module": "@jupyter-widgets/controls",
      "model_module_version": "1.5.0",
      "model_name": "HTMLModel",
      "state": {
       "layout": "IPY_MODEL_fcb73a2ce2bc4f1faa7616f225bb38ef",
       "style": "IPY_MODEL_483362584cc84ffaa0d863a5cdbc05eb",
       "value": "Validation DataLoader 0: 100%"
      }
     },
     "20e4d97fdfc8462f81b8dffdaa693074": {
      "model_module": "@jupyter-widgets/base",
      "model_module_version": "1.2.0",
      "model_name": "LayoutModel",
      "state": {
       "display": "inline-flex",
       "flex_flow": "row wrap",
       "width": "100%"
      }
     },
     "20f109a444db4344b35ff394831e11b7": {
      "model_module": "@jupyter-widgets/base",
      "model_module_version": "1.2.0",
      "model_name": "LayoutModel",
      "state": {}
     },
     "20f82b228e6246f9bac8b5549b9ce1d0": {
      "model_module": "@jupyter-widgets/controls",
      "model_module_version": "1.5.0",
      "model_name": "HTMLModel",
      "state": {
       "layout": "IPY_MODEL_667695f7b21b4e08a0c72b091ea8fa5d",
       "style": "IPY_MODEL_044c94ffa81e4555acc77c6dc1ea220a",
       "value": " 16/16 [00:04&lt;00:00,  3.64it/s]"
      }
     },
     "20f9bb5e5b22479aac1df19c401f9a43": {
      "model_module": "@jupyter-widgets/controls",
      "model_module_version": "1.5.0",
      "model_name": "ProgressStyleModel",
      "state": {
       "description_width": ""
      }
     },
     "2105e002ebd94d14ad4826dd9b677d22": {
      "model_module": "@jupyter-widgets/base",
      "model_module_version": "1.2.0",
      "model_name": "LayoutModel",
      "state": {
       "flex": "2"
      }
     },
     "2112b84840db4e3c8a35720915703165": {
      "model_module": "@jupyter-widgets/base",
      "model_module_version": "1.2.0",
      "model_name": "LayoutModel",
      "state": {
       "flex": "2"
      }
     },
     "211aa57ab539468aa62c5bf0560c2e8e": {
      "model_module": "@jupyter-widgets/base",
      "model_module_version": "1.2.0",
      "model_name": "LayoutModel",
      "state": {}
     },
     "21788ce503964ac6a3bc979208d707eb": {
      "model_module": "@jupyter-widgets/controls",
      "model_module_version": "1.5.0",
      "model_name": "ProgressStyleModel",
      "state": {
       "description_width": ""
      }
     },
     "2185ac50b7e0465c92d48957cb94832c": {
      "model_module": "@jupyter-widgets/controls",
      "model_module_version": "1.5.0",
      "model_name": "DescriptionStyleModel",
      "state": {
       "description_width": ""
      }
     },
     "21966a5ec07b4d9988820e73a0ed3889": {
      "model_module": "@jupyter-widgets/controls",
      "model_module_version": "1.5.0",
      "model_name": "DescriptionStyleModel",
      "state": {
       "description_width": ""
      }
     },
     "21a175da0f6f4ddcae442d9c014562d0": {
      "model_module": "@jupyter-widgets/controls",
      "model_module_version": "1.5.0",
      "model_name": "HTMLModel",
      "state": {
       "layout": "IPY_MODEL_1f8b66f74cf54e9d927e1ab7df9d4d9c",
       "style": "IPY_MODEL_69d965a6b11444d79d6fb26017493e41",
       "value": " 16/16 [00:00&lt;00:00, 17.76it/s]"
      }
     },
     "21d155d7ad7d430c97fb1ab6e042801d": {
      "model_module": "@jupyter-widgets/controls",
      "model_module_version": "1.5.0",
      "model_name": "HBoxModel",
      "state": {
       "children": [
        "IPY_MODEL_2663bd2ae7c8442f8f8cf384de64eb6a",
        "IPY_MODEL_ced732c52c7f497ba993a9374904b070",
        "IPY_MODEL_662b2de1d8de49e4be48f981f8f73cc3"
       ],
       "layout": "IPY_MODEL_84b8827fac7147f2affbf86e2b54a0f8"
      }
     },
     "21d39f0419544462bd7eb7d27d0d5e0a": {
      "model_module": "@jupyter-widgets/controls",
      "model_module_version": "1.5.0",
      "model_name": "DescriptionStyleModel",
      "state": {
       "description_width": ""
      }
     },
     "21db3e38e25e40469d6d4eb1051304bb": {
      "model_module": "@jupyter-widgets/controls",
      "model_module_version": "1.5.0",
      "model_name": "FloatProgressModel",
      "state": {
       "layout": "IPY_MODEL_2d9141c29e9e404ba56ee0b74177d084",
       "max": 16,
       "style": "IPY_MODEL_971c0cd2a2a84f2ba5e4a64c718e4d3f",
       "value": 16
      }
     },
     "21e1dffd363e45c69399cb1d4523c8cd": {
      "model_module": "@jupyter-widgets/controls",
      "model_module_version": "1.5.0",
      "model_name": "DescriptionStyleModel",
      "state": {
       "description_width": ""
      }
     },
     "2213234f3fa44693aae182bd65acbc55": {
      "model_module": "@jupyter-widgets/controls",
      "model_module_version": "1.5.0",
      "model_name": "HTMLModel",
      "state": {
       "layout": "IPY_MODEL_d2222f41b7db4798b6f7be71581027d4",
       "style": "IPY_MODEL_56272c71d1384b07a63391b793621b46",
       "value": " 16/16 [00:07&lt;00:00,  2.90it/s]"
      }
     },
     "2218f7bc1b8046708d4df1dd281ab290": {
      "model_module": "@jupyter-widgets/controls",
      "model_module_version": "1.5.0",
      "model_name": "HTMLModel",
      "state": {
       "layout": "IPY_MODEL_aa6fbf85ee004810866bc7c6410ed412",
       "style": "IPY_MODEL_c07cc0c8e0a94f40940538a492f3935b",
       "value": "Validation DataLoader 0: 100%"
      }
     },
     "221fc4d6b48a4fbcab1d28ea1b73319f": {
      "model_module": "@jupyter-widgets/controls",
      "model_module_version": "1.5.0",
      "model_name": "DescriptionStyleModel",
      "state": {
       "description_width": ""
      }
     },
     "22218816de934704a127f01f104aacc5": {
      "model_module": "@jupyter-widgets/controls",
      "model_module_version": "1.5.0",
      "model_name": "ProgressStyleModel",
      "state": {
       "description_width": ""
      }
     },
     "222722d68af342b89ca284654279c91a": {
      "model_module": "@jupyter-widgets/controls",
      "model_module_version": "1.5.0",
      "model_name": "ProgressStyleModel",
      "state": {
       "description_width": ""
      }
     },
     "2237b331a99c4d448bb534ee77962edd": {
      "model_module": "@jupyter-widgets/controls",
      "model_module_version": "1.5.0",
      "model_name": "DescriptionStyleModel",
      "state": {
       "description_width": ""
      }
     },
     "2238d238b0e64a22b1c9faaba3648c32": {
      "model_module": "@jupyter-widgets/controls",
      "model_module_version": "1.5.0",
      "model_name": "DescriptionStyleModel",
      "state": {
       "description_width": ""
      }
     },
     "22500da8a272443e85feedd80afbf7e7": {
      "model_module": "@jupyter-widgets/base",
      "model_module_version": "1.2.0",
      "model_name": "LayoutModel",
      "state": {}
     },
     "226af5091974433680f2b492d7d9fbc6": {
      "model_module": "@jupyter-widgets/controls",
      "model_module_version": "1.5.0",
      "model_name": "ProgressStyleModel",
      "state": {
       "description_width": ""
      }
     },
     "226beda7dbea466f8ad9d911c5764b47": {
      "model_module": "@jupyter-widgets/base",
      "model_module_version": "1.2.0",
      "model_name": "LayoutModel",
      "state": {}
     },
     "227279b5968c46c89246a2d1ee11801d": {
      "model_module": "@jupyter-widgets/controls",
      "model_module_version": "1.5.0",
      "model_name": "ProgressStyleModel",
      "state": {
       "description_width": ""
      }
     },
     "227a598b115a49ba81705d6e4c4135e2": {
      "model_module": "@jupyter-widgets/controls",
      "model_module_version": "1.5.0",
      "model_name": "ProgressStyleModel",
      "state": {
       "description_width": ""
      }
     },
     "2284dfa19872438b874d8c0039455b60": {
      "model_module": "@jupyter-widgets/base",
      "model_module_version": "1.2.0",
      "model_name": "LayoutModel",
      "state": {
       "display": "inline-flex",
       "flex_flow": "row wrap",
       "width": "100%"
      }
     },
     "22a52f02d35f453a9ba4ce3647e326c6": {
      "model_module": "@jupyter-widgets/controls",
      "model_module_version": "1.5.0",
      "model_name": "DescriptionStyleModel",
      "state": {
       "description_width": ""
      }
     },
     "22c50066150446d5865c902ca0f1b21e": {
      "model_module": "@jupyter-widgets/controls",
      "model_module_version": "1.5.0",
      "model_name": "DescriptionStyleModel",
      "state": {
       "description_width": ""
      }
     },
     "22ca765d7f7144cf8a99bfb62afbb1f8": {
      "model_module": "@jupyter-widgets/base",
      "model_module_version": "1.2.0",
      "model_name": "LayoutModel",
      "state": {}
     },
     "22d059d648a947f7a3a0ecf4fa5efcea": {
      "model_module": "@jupyter-widgets/controls",
      "model_module_version": "1.5.0",
      "model_name": "FloatProgressModel",
      "state": {
       "layout": "IPY_MODEL_7528c9c55a5d43938a3d3c47089d2ad8",
       "max": 16,
       "style": "IPY_MODEL_84e0bfa154c346b990227ecddfe65599",
       "value": 16
      }
     },
     "22db0e7509af4ca2b11ec17fd9f9e63d": {
      "model_module": "@jupyter-widgets/controls",
      "model_module_version": "1.5.0",
      "model_name": "ProgressStyleModel",
      "state": {
       "description_width": ""
      }
     },
     "22e5c13d842d451cbcdc22067feeb8f7": {
      "model_module": "@jupyter-widgets/controls",
      "model_module_version": "1.5.0",
      "model_name": "FloatProgressModel",
      "state": {
       "layout": "IPY_MODEL_995008fb8d7b48658663b06d2dfd1171",
       "max": 77,
       "style": "IPY_MODEL_df87a9da888149c2b6e97590be27b99e",
       "value": 34
      }
     },
     "22e9b1172d584f0db53787e69fdfc465": {
      "model_module": "@jupyter-widgets/controls",
      "model_module_version": "1.5.0",
      "model_name": "ProgressStyleModel",
      "state": {
       "description_width": ""
      }
     },
     "22ee19dadfed4c1f9d0cf9ea5a6f2ec0": {
      "model_module": "@jupyter-widgets/controls",
      "model_module_version": "1.5.0",
      "model_name": "HTMLModel",
      "state": {
       "layout": "IPY_MODEL_4dca8657f8034e00b33b994857cad35d",
       "style": "IPY_MODEL_6b25e514345142bc810fef5f54df5e73",
       "value": " 16/16 [00:04&lt;00:00,  3.77it/s]"
      }
     },
     "2309633dd3e5438e83695154eba672da": {
      "model_module": "@jupyter-widgets/base",
      "model_module_version": "1.2.0",
      "model_name": "LayoutModel",
      "state": {}
     },
     "23099a015f8d48deb804a1a0c6508cf5": {
      "model_module": "@jupyter-widgets/controls",
      "model_module_version": "1.5.0",
      "model_name": "HTMLModel",
      "state": {
       "layout": "IPY_MODEL_dd30ced1ed7c455c9efe776eb29ba1b1",
       "style": "IPY_MODEL_24fa66f5480c4ff492c9ae1310125d63",
       "value": "Epoch 0: 100%"
      }
     },
     "2314753269dd4acf8df6052a28ecf502": {
      "model_module": "@jupyter-widgets/controls",
      "model_module_version": "1.5.0",
      "model_name": "ProgressStyleModel",
      "state": {
       "description_width": ""
      }
     },
     "23197d79d74e43e0ae74894942808d96": {
      "model_module": "@jupyter-widgets/base",
      "model_module_version": "1.2.0",
      "model_name": "LayoutModel",
      "state": {
       "display": "inline-flex",
       "flex_flow": "row wrap",
       "width": "100%"
      }
     },
     "233fbaf7af31441a84e0d9b1fbe4cee3": {
      "model_module": "@jupyter-widgets/controls",
      "model_module_version": "1.5.0",
      "model_name": "ProgressStyleModel",
      "state": {
       "description_width": ""
      }
     },
     "2345c6951763481fb4263ce92e0435b9": {
      "model_module": "@jupyter-widgets/controls",
      "model_module_version": "1.5.0",
      "model_name": "DescriptionStyleModel",
      "state": {
       "description_width": ""
      }
     },
     "234e0f01900f49bea840de400a970616": {
      "model_module": "@jupyter-widgets/controls",
      "model_module_version": "1.5.0",
      "model_name": "DescriptionStyleModel",
      "state": {
       "description_width": ""
      }
     },
     "235fe5079dad48df88979fe57877152a": {
      "model_module": "@jupyter-widgets/base",
      "model_module_version": "1.2.0",
      "model_name": "LayoutModel",
      "state": {}
     },
     "238c21ad69f145658ffda0f9e7fdf4e6": {
      "model_module": "@jupyter-widgets/base",
      "model_module_version": "1.2.0",
      "model_name": "LayoutModel",
      "state": {
       "display": "inline-flex",
       "flex_flow": "row wrap",
       "width": "100%"
      }
     },
     "23a91e21dc414b099bf74d8c75437ecb": {
      "model_module": "@jupyter-widgets/controls",
      "model_module_version": "1.5.0",
      "model_name": "ProgressStyleModel",
      "state": {
       "description_width": ""
      }
     },
     "23c4631e6dce4279950b6b29f2894eb4": {
      "model_module": "@jupyter-widgets/controls",
      "model_module_version": "1.5.0",
      "model_name": "DescriptionStyleModel",
      "state": {
       "description_width": ""
      }
     },
     "23cc826bd10348768d5d4f4bc5ce31e7": {
      "model_module": "@jupyter-widgets/controls",
      "model_module_version": "1.5.0",
      "model_name": "ProgressStyleModel",
      "state": {
       "description_width": ""
      }
     },
     "240fd00b1d8b4669abd552a677be306e": {
      "model_module": "@jupyter-widgets/controls",
      "model_module_version": "1.5.0",
      "model_name": "HTMLModel",
      "state": {
       "layout": "IPY_MODEL_666eef592d5144c3b740864303e67ae4",
       "style": "IPY_MODEL_9279f06ed72b4a449210c09c2a2b4bc2",
       "value": " 16/16 [00:03&lt;00:00,  3.70it/s]"
      }
     },
     "244525c88b684b8686d3127336daccc1": {
      "model_module": "@jupyter-widgets/controls",
      "model_module_version": "1.5.0",
      "model_name": "HTMLModel",
      "state": {
       "layout": "IPY_MODEL_4d8fd52a91ad4295b7767c027dc39456",
       "style": "IPY_MODEL_5dad396440194158948a50f1608a2c98",
       "value": "Sanity Checking DataLoader 0: 100%"
      }
     },
     "244e5e6f3a4c439ca9569fbadd58debf": {
      "model_module": "@jupyter-widgets/base",
      "model_module_version": "1.2.0",
      "model_name": "LayoutModel",
      "state": {
       "flex": "2"
      }
     },
     "245210aec9304e67ad08d105dae98bb0": {
      "model_module": "@jupyter-widgets/base",
      "model_module_version": "1.2.0",
      "model_name": "LayoutModel",
      "state": {
       "display": "inline-flex",
       "flex_flow": "row wrap",
       "width": "100%"
      }
     },
     "24525c5fb11f40eeaaf45f995f5f3058": {
      "model_module": "@jupyter-widgets/base",
      "model_module_version": "1.2.0",
      "model_name": "LayoutModel",
      "state": {}
     },
     "245f3d8aee6146cfaefd2ac8b6aa84dd": {
      "model_module": "@jupyter-widgets/controls",
      "model_module_version": "1.5.0",
      "model_name": "DescriptionStyleModel",
      "state": {
       "description_width": ""
      }
     },
     "2471c83989864f878257f7ea38477524": {
      "model_module": "@jupyter-widgets/controls",
      "model_module_version": "1.5.0",
      "model_name": "FloatProgressModel",
      "state": {
       "layout": "IPY_MODEL_244e5e6f3a4c439ca9569fbadd58debf",
       "max": 16,
       "style": "IPY_MODEL_efea42ac4c0f43ebbdb83ca700affc24",
       "value": 11
      }
     },
     "247bd66e795b4dcfbcedf4f5b6cdfc88": {
      "model_module": "@jupyter-widgets/base",
      "model_module_version": "1.2.0",
      "model_name": "LayoutModel",
      "state": {}
     },
     "248577f8dbc74352a32e639ca477e6ad": {
      "model_module": "@jupyter-widgets/controls",
      "model_module_version": "1.5.0",
      "model_name": "FloatProgressModel",
      "state": {
       "layout": "IPY_MODEL_35a03de2ff8945ecb38ed1de005cf158",
       "max": 16,
       "style": "IPY_MODEL_9981298e80df41658b8b738bbfa0e25e",
       "value": 16
      }
     },
     "248a655ce55e464599cf9b5fc1c51d15": {
      "model_module": "@jupyter-widgets/base",
      "model_module_version": "1.2.0",
      "model_name": "LayoutModel",
      "state": {}
     },
     "24ac49bfa6d642f2a654f6f9ee102c24": {
      "model_module": "@jupyter-widgets/base",
      "model_module_version": "1.2.0",
      "model_name": "LayoutModel",
      "state": {}
     },
     "24c0353c4d524f0cb3f13e9c7da91e74": {
      "model_module": "@jupyter-widgets/controls",
      "model_module_version": "1.5.0",
      "model_name": "DescriptionStyleModel",
      "state": {
       "description_width": ""
      }
     },
     "24d185b9fb0644e5b49f787b38ef787c": {
      "model_module": "@jupyter-widgets/controls",
      "model_module_version": "1.5.0",
      "model_name": "FloatProgressModel",
      "state": {
       "layout": "IPY_MODEL_2c706b9c777243959bbe59ce5e83b43b",
       "max": 77,
       "style": "IPY_MODEL_1e75c5e428ea440ba71aa44704e960c3",
       "value": 51
      }
     },
     "24f6abd24c0c4aadb6c74a4fc1c08b32": {
      "model_module": "@jupyter-widgets/base",
      "model_module_version": "1.2.0",
      "model_name": "LayoutModel",
      "state": {}
     },
     "24fa66f5480c4ff492c9ae1310125d63": {
      "model_module": "@jupyter-widgets/controls",
      "model_module_version": "1.5.0",
      "model_name": "DescriptionStyleModel",
      "state": {
       "description_width": ""
      }
     },
     "25028937ece64c88a4966392d9c560f1": {
      "model_module": "@jupyter-widgets/controls",
      "model_module_version": "1.5.0",
      "model_name": "HBoxModel",
      "state": {
       "children": [
        "IPY_MODEL_4e91b4a527964d10bcbf219c11aa4fd4",
        "IPY_MODEL_171abcfeb3634229a85c3c0f24dea243",
        "IPY_MODEL_455e1b00e17c46da96088313305ff04a"
       ],
       "layout": "IPY_MODEL_de7fe8c75a244f87993cbe3475ff0721"
      }
     },
     "2508d47810e6446fb22dbff2d6dc7fab": {
      "model_module": "@jupyter-widgets/controls",
      "model_module_version": "1.5.0",
      "model_name": "HBoxModel",
      "state": {
       "children": [
        "IPY_MODEL_eace651971a445b19b17dee0aff7a741",
        "IPY_MODEL_37523b3510634371a36484c0468c84dc",
        "IPY_MODEL_d75046b5cad448c89e0a4412883800d3"
       ],
       "layout": "IPY_MODEL_70eb62a2596642f994103fd13acc1253"
      }
     },
     "250b4090928f4f3db8efb838e3ba9c5c": {
      "model_module": "@jupyter-widgets/base",
      "model_module_version": "1.2.0",
      "model_name": "LayoutModel",
      "state": {
       "display": "inline-flex",
       "flex_flow": "row wrap",
       "width": "100%"
      }
     },
     "2514191e48e54b8f87a7061174bee49a": {
      "model_module": "@jupyter-widgets/controls",
      "model_module_version": "1.5.0",
      "model_name": "DescriptionStyleModel",
      "state": {
       "description_width": ""
      }
     },
     "2523a3965fbf48bd91916c7c5c61b911": {
      "model_module": "@jupyter-widgets/controls",
      "model_module_version": "1.5.0",
      "model_name": "FloatProgressModel",
      "state": {
       "layout": "IPY_MODEL_5f735f9129e0488ba75ca1859a65bde6",
       "max": 16,
       "style": "IPY_MODEL_644bfa3f2efb4c6a9f1b363b6ba90ae3",
       "value": 16
      }
     },
     "2523d9c2a80749248d03e6044eb99ab6": {
      "model_module": "@jupyter-widgets/controls",
      "model_module_version": "1.5.0",
      "model_name": "FloatProgressModel",
      "state": {
       "layout": "IPY_MODEL_b4a78453c5854295b3d08f4d750361b2",
       "max": 16,
       "style": "IPY_MODEL_464f440269714d06934d748d99588ec3",
       "value": 16
      }
     },
     "254db09c92e84780a87b703129531b44": {
      "model_module": "@jupyter-widgets/controls",
      "model_module_version": "1.5.0",
      "model_name": "HTMLModel",
      "state": {
       "layout": "IPY_MODEL_e871ddf3f7ed4d82bf2159442051dc56",
       "style": "IPY_MODEL_22c50066150446d5865c902ca0f1b21e",
       "value": "Validation DataLoader 0: 100%"
      }
     },
     "255f2bf786df451299b76f5ae704ee8b": {
      "model_module": "@jupyter-widgets/controls",
      "model_module_version": "1.5.0",
      "model_name": "HTMLModel",
      "state": {
       "layout": "IPY_MODEL_63c1fd9c40974685b2b78d49313459bd",
       "style": "IPY_MODEL_f4f875d29a1744218b52aadad45f0671",
       "value": "Validation DataLoader 0: 100%"
      }
     },
     "2565eced41cf4b098c33072e23f1f202": {
      "model_module": "@jupyter-widgets/controls",
      "model_module_version": "1.5.0",
      "model_name": "DescriptionStyleModel",
      "state": {
       "description_width": ""
      }
     },
     "2588a7054ce6404d89d956fddcce7e03": {
      "model_module": "@jupyter-widgets/controls",
      "model_module_version": "1.5.0",
      "model_name": "ProgressStyleModel",
      "state": {
       "description_width": ""
      }
     },
     "258f21c52005466384df0cc20f45df72": {
      "model_module": "@jupyter-widgets/base",
      "model_module_version": "1.2.0",
      "model_name": "LayoutModel",
      "state": {
       "flex": "2"
      }
     },
     "2596234b84cf464db5a0a9af3115bd75": {
      "model_module": "@jupyter-widgets/controls",
      "model_module_version": "1.5.0",
      "model_name": "DescriptionStyleModel",
      "state": {
       "description_width": ""
      }
     },
     "25c6520c868b4353be76687ea11d628d": {
      "model_module": "@jupyter-widgets/controls",
      "model_module_version": "1.5.0",
      "model_name": "DescriptionStyleModel",
      "state": {
       "description_width": ""
      }
     },
     "25d074eaa06f4c4e985f55f54ff65762": {
      "model_module": "@jupyter-widgets/base",
      "model_module_version": "1.2.0",
      "model_name": "LayoutModel",
      "state": {
       "display": "inline-flex",
       "flex_flow": "row wrap",
       "width": "100%"
      }
     },
     "25dae3196e0b417a8ada05ee6f0a9c9b": {
      "model_module": "@jupyter-widgets/controls",
      "model_module_version": "1.5.0",
      "model_name": "DescriptionStyleModel",
      "state": {
       "description_width": ""
      }
     },
     "25dde7381133453898ff26af4dbd404d": {
      "model_module": "@jupyter-widgets/base",
      "model_module_version": "1.2.0",
      "model_name": "LayoutModel",
      "state": {
       "flex": "2"
      }
     },
     "25eec75dae0d434db8cb5bd4041246db": {
      "model_module": "@jupyter-widgets/controls",
      "model_module_version": "1.5.0",
      "model_name": "ProgressStyleModel",
      "state": {
       "description_width": ""
      }
     },
     "25f9fdadb6cc4d5289219080d974e72c": {
      "model_module": "@jupyter-widgets/controls",
      "model_module_version": "1.5.0",
      "model_name": "HTMLModel",
      "state": {
       "layout": "IPY_MODEL_0bb888c77d454cb0a8bc1a4d417985bd",
       "style": "IPY_MODEL_918be5d221894b79be1eedfc3c07fa71",
       "value": " 16/16 [00:04&lt;00:00,  3.91it/s]"
      }
     },
     "2617ef3643d042b69e0cf5d701d8221d": {
      "model_module": "@jupyter-widgets/base",
      "model_module_version": "1.2.0",
      "model_name": "LayoutModel",
      "state": {
       "flex": "2"
      }
     },
     "2624474f8e8b4a3e8102115816282a33": {
      "model_module": "@jupyter-widgets/controls",
      "model_module_version": "1.5.0",
      "model_name": "ProgressStyleModel",
      "state": {
       "description_width": ""
      }
     },
     "263155b700074dd5a0226d0952eb42f8": {
      "model_module": "@jupyter-widgets/base",
      "model_module_version": "1.2.0",
      "model_name": "LayoutModel",
      "state": {
       "flex": "2"
      }
     },
     "2635917118174713ba97315dcc4f661e": {
      "model_module": "@jupyter-widgets/base",
      "model_module_version": "1.2.0",
      "model_name": "LayoutModel",
      "state": {}
     },
     "2639e58d916e401dabc16ea59c3f464d": {
      "model_module": "@jupyter-widgets/controls",
      "model_module_version": "1.5.0",
      "model_name": "DescriptionStyleModel",
      "state": {
       "description_width": ""
      }
     },
     "263b528db66a43bfaf83cfeb20f3a686": {
      "model_module": "@jupyter-widgets/controls",
      "model_module_version": "1.5.0",
      "model_name": "HTMLModel",
      "state": {
       "layout": "IPY_MODEL_6b737864f1ed47b9b10b5b0d8d6dee1c",
       "style": "IPY_MODEL_5b065c2534cc4f99b952f3e5ad190232",
       "value": "Validation DataLoader 0: 100%"
      }
     },
     "2652cc91ce2c49d3a020e5e9cd13445d": {
      "model_module": "@jupyter-widgets/base",
      "model_module_version": "1.2.0",
      "model_name": "LayoutModel",
      "state": {}
     },
     "26638f6596a44ddebb5d494821e305f1": {
      "model_module": "@jupyter-widgets/controls",
      "model_module_version": "1.5.0",
      "model_name": "FloatProgressModel",
      "state": {
       "layout": "IPY_MODEL_1d0dbf58c8c2407d8fa7e91ed305c70b",
       "max": 16,
       "style": "IPY_MODEL_5a17fb8a992742c49dc114b2c0f004a5",
       "value": 16
      }
     },
     "2663bd2ae7c8442f8f8cf384de64eb6a": {
      "model_module": "@jupyter-widgets/controls",
      "model_module_version": "1.5.0",
      "model_name": "HTMLModel",
      "state": {
       "layout": "IPY_MODEL_3aacff0be14c4e59906a82808085b315",
       "style": "IPY_MODEL_2de25b4a7d094099b4cb97afc135024a",
       "value": "Epoch 0:  12%"
      }
     },
     "26837635e482419582689f312cd64c3f": {
      "model_module": "@jupyter-widgets/base",
      "model_module_version": "1.2.0",
      "model_name": "LayoutModel",
      "state": {
       "flex": "2"
      }
     },
     "26987e0f392042038ab4e2f5c0af966a": {
      "model_module": "@jupyter-widgets/controls",
      "model_module_version": "1.5.0",
      "model_name": "DescriptionStyleModel",
      "state": {
       "description_width": ""
      }
     },
     "26b794e40e76486f93d2363515d9f434": {
      "model_module": "@jupyter-widgets/controls",
      "model_module_version": "1.5.0",
      "model_name": "HBoxModel",
      "state": {
       "children": [
        "IPY_MODEL_ac4e2b6138c0421eb8b9803002a022cb",
        "IPY_MODEL_5848e19a1dad4254a973dbd38fb64b6c",
        "IPY_MODEL_7f19995e732d4c0fac76af999f228c06"
       ],
       "layout": "IPY_MODEL_1bd6630819654b64a861942caa0dc2a2"
      }
     },
     "26c36f5a1ed943078a904edc2f0adfb1": {
      "model_module": "@jupyter-widgets/controls",
      "model_module_version": "1.5.0",
      "model_name": "HBoxModel",
      "state": {
       "children": [
        "IPY_MODEL_e5964b9ccf044a17b353db96caf41f9f",
        "IPY_MODEL_1a5e2f142ef1453f9eb7c1857019a79d",
        "IPY_MODEL_b2e94107172c47e2a6f6f9663d1b3d24"
       ],
       "layout": "IPY_MODEL_c79226c606fa49f797b1d2a57b933e9d"
      }
     },
     "26ca2979f9ea4a0997b4be2522c167d5": {
      "model_module": "@jupyter-widgets/controls",
      "model_module_version": "1.5.0",
      "model_name": "FloatProgressModel",
      "state": {
       "layout": "IPY_MODEL_908337b997be436ebcf89e42eb462197",
       "max": 16,
       "style": "IPY_MODEL_5adc283a1c474fd3ba551cdd25305cd5",
       "value": 16
      }
     },
     "26d53e445d66419ab23a3d263525e750": {
      "model_module": "@jupyter-widgets/base",
      "model_module_version": "1.2.0",
      "model_name": "LayoutModel",
      "state": {
       "flex": "2"
      }
     },
     "26dbb4fa4e81461d8f8d82f417ec9ed1": {
      "model_module": "@jupyter-widgets/base",
      "model_module_version": "1.2.0",
      "model_name": "LayoutModel",
      "state": {}
     },
     "26ec0d63c9884d7f866346eabd312ba7": {
      "model_module": "@jupyter-widgets/controls",
      "model_module_version": "1.5.0",
      "model_name": "ProgressStyleModel",
      "state": {
       "description_width": ""
      }
     },
     "26f19e95d6af494ab5311a5cfb616ac9": {
      "model_module": "@jupyter-widgets/base",
      "model_module_version": "1.2.0",
      "model_name": "LayoutModel",
      "state": {
       "display": "inline-flex",
       "flex_flow": "row wrap",
       "width": "100%"
      }
     },
     "2717391f6404421b935f126304d564f0": {
      "model_module": "@jupyter-widgets/controls",
      "model_module_version": "1.5.0",
      "model_name": "HTMLModel",
      "state": {
       "layout": "IPY_MODEL_8b1ff454973f464b886366b8b8ff7342",
       "style": "IPY_MODEL_a8b4e590aac84557a8c35df3cbb6898e",
       "value": " 16/16 [00:01&lt;00:00, 13.35it/s]"
      }
     },
     "272c94894f3f48b4b571b9102a5e2b5e": {
      "model_module": "@jupyter-widgets/controls",
      "model_module_version": "1.5.0",
      "model_name": "FloatProgressModel",
      "state": {
       "layout": "IPY_MODEL_aa41ce6357f54b748876ae07783ede40",
       "max": 16,
       "style": "IPY_MODEL_22db0e7509af4ca2b11ec17fd9f9e63d",
       "value": 16
      }
     },
     "272f253f455f457294b4edd37b557adb": {
      "model_module": "@jupyter-widgets/controls",
      "model_module_version": "1.5.0",
      "model_name": "HTMLModel",
      "state": {
       "layout": "IPY_MODEL_1da8749fda514f698fee7b54abda75d2",
       "style": "IPY_MODEL_57907bf0f9cf4da58afbd37e8d81230e",
       "value": "Validation DataLoader 0: 100%"
      }
     },
     "27553de1130146938db891aec525e735": {
      "model_module": "@jupyter-widgets/controls",
      "model_module_version": "1.5.0",
      "model_name": "HTMLModel",
      "state": {
       "layout": "IPY_MODEL_e87997a36fe7487bbff1e57f43da628d",
       "style": "IPY_MODEL_2345c6951763481fb4263ce92e0435b9",
       "value": " 16/16 [00:02&lt;00:00,  7.47it/s]"
      }
     },
     "2781813d8a92447b833800189cb02a65": {
      "model_module": "@jupyter-widgets/controls",
      "model_module_version": "1.5.0",
      "model_name": "ProgressStyleModel",
      "state": {
       "description_width": ""
      }
     },
     "279534049d0f4562931aa79bc9a418c5": {
      "model_module": "@jupyter-widgets/base",
      "model_module_version": "1.2.0",
      "model_name": "LayoutModel",
      "state": {
       "display": "inline-flex",
       "flex_flow": "row wrap",
       "width": "100%"
      }
     },
     "279a4a723e7a4828b5a835b30f299195": {
      "model_module": "@jupyter-widgets/base",
      "model_module_version": "1.2.0",
      "model_name": "LayoutModel",
      "state": {}
     },
     "27a00a68f7d14c3292318400659708e2": {
      "model_module": "@jupyter-widgets/base",
      "model_module_version": "1.2.0",
      "model_name": "LayoutModel",
      "state": {
       "flex": "2"
      }
     },
     "27a2694fe1f24ddeb8f8fc217a44ec8c": {
      "model_module": "@jupyter-widgets/controls",
      "model_module_version": "1.5.0",
      "model_name": "HTMLModel",
      "state": {
       "layout": "IPY_MODEL_b556dc17cc5e468b9881391c97fd068c",
       "style": "IPY_MODEL_347b0a0e6ec64d84a267337b31df773d",
       "value": " 16/16 [00:04&lt;00:00,  3.33it/s]"
      }
     },
     "27a730b64bc24bda918cadf477ed21f0": {
      "model_module": "@jupyter-widgets/controls",
      "model_module_version": "1.5.0",
      "model_name": "FloatProgressModel",
      "state": {
       "layout": "IPY_MODEL_f1daf86ed2f243928c6f1905d0c637a2",
       "max": 2,
       "style": "IPY_MODEL_62696ec823514a8999b4aa739611ce3f",
       "value": 2
      }
     },
     "27a8becad0ba401abd2669e9366dd2a8": {
      "model_module": "@jupyter-widgets/base",
      "model_module_version": "1.2.0",
      "model_name": "LayoutModel",
      "state": {
       "display": "inline-flex",
       "flex_flow": "row wrap",
       "width": "100%"
      }
     },
     "27aa351d132b4180ba035383ab38c980": {
      "model_module": "@jupyter-widgets/controls",
      "model_module_version": "1.5.0",
      "model_name": "HTMLModel",
      "state": {
       "layout": "IPY_MODEL_795939224e894b4e90e528f0a6c680c5",
       "style": "IPY_MODEL_04bbbc8f5f5445358fc418c6995ff3d6",
       "value": "Validation DataLoader 0: 100%"
      }
     },
     "27c5bf5f808d485c97177b94e1d80070": {
      "model_module": "@jupyter-widgets/base",
      "model_module_version": "1.2.0",
      "model_name": "LayoutModel",
      "state": {}
     },
     "27d8f78816be4db38e2ee4bcb3e4decd": {
      "model_module": "@jupyter-widgets/controls",
      "model_module_version": "1.5.0",
      "model_name": "DescriptionStyleModel",
      "state": {
       "description_width": ""
      }
     },
     "27eddc76ca8948fa8001360b58963b70": {
      "model_module": "@jupyter-widgets/base",
      "model_module_version": "1.2.0",
      "model_name": "LayoutModel",
      "state": {}
     },
     "281792d1d68448bba6c3d419a20d08e6": {
      "model_module": "@jupyter-widgets/controls",
      "model_module_version": "1.5.0",
      "model_name": "DescriptionStyleModel",
      "state": {
       "description_width": ""
      }
     },
     "2834cdf85e9641f8952b9479622e9e04": {
      "model_module": "@jupyter-widgets/controls",
      "model_module_version": "1.5.0",
      "model_name": "FloatProgressModel",
      "state": {
       "layout": "IPY_MODEL_1d9f649a4ed44874ae45b5a5e2de143b",
       "max": 77,
       "style": "IPY_MODEL_7fceef93a0eb452e9515765b839067a6",
       "value": 42
      }
     },
     "28474334af3749d2b3cfbe6a1ea5dc04": {
      "model_module": "@jupyter-widgets/base",
      "model_module_version": "1.2.0",
      "model_name": "LayoutModel",
      "state": {
       "display": "inline-flex",
       "flex_flow": "row wrap",
       "width": "100%"
      }
     },
     "2857c84fb51d427a85fda64ec6226523": {
      "model_module": "@jupyter-widgets/controls",
      "model_module_version": "1.5.0",
      "model_name": "ProgressStyleModel",
      "state": {
       "description_width": ""
      }
     },
     "286d488b9d4441a5a1f07dc25f2fcad2": {
      "model_module": "@jupyter-widgets/controls",
      "model_module_version": "1.5.0",
      "model_name": "FloatProgressModel",
      "state": {
       "layout": "IPY_MODEL_b35dc064ff394b23b525882dbc3447df",
       "max": 16,
       "style": "IPY_MODEL_9f16fabb56b84ca390d212f48b513772",
       "value": 16
      }
     },
     "286e73d03aba42c7ae48b7d3222a444e": {
      "model_module": "@jupyter-widgets/controls",
      "model_module_version": "1.5.0",
      "model_name": "HTMLModel",
      "state": {
       "layout": "IPY_MODEL_7c417fddc9f44551a004f5c2a889c56f",
       "style": "IPY_MODEL_c4478ff4ab4c4a04ab5914ea0bf9b439",
       "value": "Validation DataLoader 0: 100%"
      }
     },
     "2878a7b88dee4686a32c94bc0a7cdf44": {
      "model_module": "@jupyter-widgets/controls",
      "model_module_version": "1.5.0",
      "model_name": "FloatProgressModel",
      "state": {
       "layout": "IPY_MODEL_67a10793720d4e1b99ba44855a81c8c7",
       "max": 16,
       "style": "IPY_MODEL_d0e579fb5a5a4a06bce5f2ed4982dff6",
       "value": 16
      }
     },
     "28aa2f9ce2754b7a97a319eae354faac": {
      "model_module": "@jupyter-widgets/controls",
      "model_module_version": "1.5.0",
      "model_name": "HTMLModel",
      "state": {
       "layout": "IPY_MODEL_f605363bf6e845d3ba9f9753d8047107",
       "style": "IPY_MODEL_a9fccc605d1542299b47d45667b85ade",
       "value": " 16/16 [00:05&lt;00:00,  2.71it/s]"
      }
     },
     "28aba44c6bfc474a928f5aab0e54ea74": {
      "model_module": "@jupyter-widgets/base",
      "model_module_version": "1.2.0",
      "model_name": "LayoutModel",
      "state": {}
     },
     "28acf2cdf5eb44a2bb8ee0473f0699f4": {
      "model_module": "@jupyter-widgets/base",
      "model_module_version": "1.2.0",
      "model_name": "LayoutModel",
      "state": {}
     },
     "28ad6eecfade40a380e770de1c2aedd4": {
      "model_module": "@jupyter-widgets/controls",
      "model_module_version": "1.5.0",
      "model_name": "HTMLModel",
      "state": {
       "layout": "IPY_MODEL_bf4963c880b74d10a6f0179de390d2d1",
       "style": "IPY_MODEL_3ff647049e8242779d835958bbcf0e98",
       "value": " 16/16 [00:04&lt;00:00,  3.53it/s]"
      }
     },
     "28bb606f6dbb4dfb9d62b0b1da4383af": {
      "model_module": "@jupyter-widgets/controls",
      "model_module_version": "1.5.0",
      "model_name": "HTMLModel",
      "state": {
       "layout": "IPY_MODEL_5c0f5104279e4dc1829df28ef489af49",
       "style": "IPY_MODEL_9a563f87d99642babde7d1be6276e230",
       "value": "Validation DataLoader 0: 100%"
      }
     },
     "28c1e9c1ee4446e382924d83ba02ae20": {
      "model_module": "@jupyter-widgets/controls",
      "model_module_version": "1.5.0",
      "model_name": "FloatProgressModel",
      "state": {
       "layout": "IPY_MODEL_d3362a7d5d6545c3bccbfc4b4f0dec2e",
       "max": 16,
       "style": "IPY_MODEL_bd67822df1fd464b89b52c92070df36e",
       "value": 16
      }
     },
     "28cb03d69d714fed952a2a1dad75d034": {
      "model_module": "@jupyter-widgets/base",
      "model_module_version": "1.2.0",
      "model_name": "LayoutModel",
      "state": {}
     },
     "28ea2ded58f3452cb41e1313f97d5092": {
      "model_module": "@jupyter-widgets/controls",
      "model_module_version": "1.5.0",
      "model_name": "DescriptionStyleModel",
      "state": {
       "description_width": ""
      }
     },
     "29021064cabe4916a5b4e727d9d59bb3": {
      "model_module": "@jupyter-widgets/controls",
      "model_module_version": "1.5.0",
      "model_name": "DescriptionStyleModel",
      "state": {
       "description_width": ""
      }
     },
     "2923a397c51b450cbcb2a08de07b7703": {
      "model_module": "@jupyter-widgets/base",
      "model_module_version": "1.2.0",
      "model_name": "LayoutModel",
      "state": {}
     },
     "292f8235839949878a7f56e307add2c0": {
      "model_module": "@jupyter-widgets/controls",
      "model_module_version": "1.5.0",
      "model_name": "HTMLModel",
      "state": {
       "layout": "IPY_MODEL_a6be9926a3b74591841575f98f0ee882",
       "style": "IPY_MODEL_8ad554fd22f443a0806ccc0c9fc2af68",
       "value": " 16/16 [00:00&lt;00:00, 18.50it/s]"
      }
     },
     "294d7fbb80de45638b7d598631e563b7": {
      "model_module": "@jupyter-widgets/base",
      "model_module_version": "1.2.0",
      "model_name": "LayoutModel",
      "state": {
       "display": "inline-flex",
       "flex_flow": "row wrap",
       "width": "100%"
      }
     },
     "298ebe4eb39b4e05b5c5694ab1222638": {
      "model_module": "@jupyter-widgets/controls",
      "model_module_version": "1.5.0",
      "model_name": "DescriptionStyleModel",
      "state": {
       "description_width": ""
      }
     },
     "29b1888139894a39bccc461603c73beb": {
      "model_module": "@jupyter-widgets/controls",
      "model_module_version": "1.5.0",
      "model_name": "DescriptionStyleModel",
      "state": {
       "description_width": ""
      }
     },
     "29f99ae921e6470d86c9543ba0e8bbcc": {
      "model_module": "@jupyter-widgets/base",
      "model_module_version": "1.2.0",
      "model_name": "LayoutModel",
      "state": {
       "flex": "2"
      }
     },
     "2a0bae95a0394fc19e3032b8002ca2a3": {
      "model_module": "@jupyter-widgets/base",
      "model_module_version": "1.2.0",
      "model_name": "LayoutModel",
      "state": {
       "flex": "2"
      }
     },
     "2a58167e13d34ab897249b8bafd5fa9c": {
      "model_module": "@jupyter-widgets/controls",
      "model_module_version": "1.5.0",
      "model_name": "HTMLModel",
      "state": {
       "layout": "IPY_MODEL_b7d83a7ff5814a18a08f8eaa0954095f",
       "style": "IPY_MODEL_73ac3de70fb0428d9113fa6cb16d09bd",
       "value": " 16/16 [00:00&lt;00:00, 20.96it/s]"
      }
     },
     "2a623aaa0bc54cdb9634762a7eef7caf": {
      "model_module": "@jupyter-widgets/controls",
      "model_module_version": "1.5.0",
      "model_name": "ProgressStyleModel",
      "state": {
       "description_width": ""
      }
     },
     "2a9ae1f121e64386a4358c61ff4553d0": {
      "model_module": "@jupyter-widgets/base",
      "model_module_version": "1.2.0",
      "model_name": "LayoutModel",
      "state": {}
     },
     "2a9e416dfa9d4e6faafb7ddb62e2075a": {
      "model_module": "@jupyter-widgets/controls",
      "model_module_version": "1.5.0",
      "model_name": "HTMLModel",
      "state": {
       "layout": "IPY_MODEL_381c9d1eab4f4bb788da5be9041f89bd",
       "style": "IPY_MODEL_8810e73f1d744a0ebd4ce9277033c8cb",
       "value": "Validation DataLoader 0: 100%"
      }
     },
     "2adc15a57c3243bd99ca633a7dc7a0ef": {
      "model_module": "@jupyter-widgets/controls",
      "model_module_version": "1.5.0",
      "model_name": "DescriptionStyleModel",
      "state": {
       "description_width": ""
      }
     },
     "2ae1b3d11af84ddc89d2d4750ef31885": {
      "model_module": "@jupyter-widgets/controls",
      "model_module_version": "1.5.0",
      "model_name": "HTMLModel",
      "state": {
       "layout": "IPY_MODEL_3732e36291104ccaae70f7cb0e928165",
       "style": "IPY_MODEL_d614ccffbe5e49e4b574f917cfab4f29",
       "value": "Validation DataLoader 0: 100%"
      }
     },
     "2ae32aefebb347b6a924c83bd5eb709a": {
      "model_module": "@jupyter-widgets/base",
      "model_module_version": "1.2.0",
      "model_name": "LayoutModel",
      "state": {}
     },
     "2b22a3c3b8174bdea6da7c5db1fc9015": {
      "model_module": "@jupyter-widgets/controls",
      "model_module_version": "1.5.0",
      "model_name": "ProgressStyleModel",
      "state": {
       "description_width": ""
      }
     },
     "2b378c066e9e4d69976a7d3339f37c55": {
      "model_module": "@jupyter-widgets/base",
      "model_module_version": "1.2.0",
      "model_name": "LayoutModel",
      "state": {
       "flex": "2"
      }
     },
     "2b5c47f1a9034d3e92897ba945e579a0": {
      "model_module": "@jupyter-widgets/controls",
      "model_module_version": "1.5.0",
      "model_name": "FloatProgressModel",
      "state": {
       "layout": "IPY_MODEL_ce8ab5f170ab4dde858993939df90601",
       "max": 16,
       "style": "IPY_MODEL_05ccd276407d4e198f90457b5a866811",
       "value": 16
      }
     },
     "2b764313828040b6bd24e161bcbabd6f": {
      "model_module": "@jupyter-widgets/base",
      "model_module_version": "1.2.0",
      "model_name": "LayoutModel",
      "state": {}
     },
     "2b84d8db16cc44e2885e151d3a3d94c2": {
      "model_module": "@jupyter-widgets/base",
      "model_module_version": "1.2.0",
      "model_name": "LayoutModel",
      "state": {
       "flex": "2"
      }
     },
     "2b8c236bda264f28a2cad2586d523129": {
      "model_module": "@jupyter-widgets/controls",
      "model_module_version": "1.5.0",
      "model_name": "HBoxModel",
      "state": {
       "children": [
        "IPY_MODEL_33c77a3c7cae4b55ba6ebca86c1779ee",
        "IPY_MODEL_22e5c13d842d451cbcdc22067feeb8f7",
        "IPY_MODEL_163bd9ad552e477895e76b47c26c9692"
       ],
       "layout": "IPY_MODEL_54cc59a70194494dbfa475d4e2acd7a2"
      }
     },
     "2ba58d488fb146d2b771e49bd3e709d7": {
      "model_module": "@jupyter-widgets/controls",
      "model_module_version": "1.5.0",
      "model_name": "HTMLModel",
      "state": {
       "layout": "IPY_MODEL_28aba44c6bfc474a928f5aab0e54ea74",
       "style": "IPY_MODEL_e0122e620c364a6e96031dc7f5fd7623",
       "value": " 16/16 [00:01&lt;00:00,  7.94it/s]"
      }
     },
     "2bac6c1cd96b4b428ad8b5086d0d0778": {
      "model_module": "@jupyter-widgets/controls",
      "model_module_version": "1.5.0",
      "model_name": "ProgressStyleModel",
      "state": {
       "description_width": ""
      }
     },
     "2baeded1b6da4a72a794779056d55611": {
      "model_module": "@jupyter-widgets/base",
      "model_module_version": "1.2.0",
      "model_name": "LayoutModel",
      "state": {}
     },
     "2bafb3cc9b054a9e9b701124328933c6": {
      "model_module": "@jupyter-widgets/base",
      "model_module_version": "1.2.0",
      "model_name": "LayoutModel",
      "state": {}
     },
     "2bbb5b2368784471ace62b939caa5251": {
      "model_module": "@jupyter-widgets/base",
      "model_module_version": "1.2.0",
      "model_name": "LayoutModel",
      "state": {
       "display": "inline-flex",
       "flex_flow": "row wrap",
       "width": "100%"
      }
     },
     "2bbdbec526ce41d688ef5275b26482ee": {
      "model_module": "@jupyter-widgets/controls",
      "model_module_version": "1.5.0",
      "model_name": "FloatProgressModel",
      "state": {
       "layout": "IPY_MODEL_18941d199a454e229ab4322e9b6653d9",
       "max": 16,
       "style": "IPY_MODEL_ac86e25b15b44bccbeae9e4aeded4e12",
       "value": 16
      }
     },
     "2bfbfa2d1ffc434280bc305644825c51": {
      "model_module": "@jupyter-widgets/controls",
      "model_module_version": "1.5.0",
      "model_name": "HTMLModel",
      "state": {
       "layout": "IPY_MODEL_461f5c60302d4c68be7f31a855c79938",
       "style": "IPY_MODEL_dd647011fb474896819207f5fb662336",
       "value": "Validation DataLoader 0: 100%"
      }
     },
     "2c42a03443f44954a85d4439e9ba46d2": {
      "model_module": "@jupyter-widgets/base",
      "model_module_version": "1.2.0",
      "model_name": "LayoutModel",
      "state": {}
     },
     "2c4b601783b84e9e99883b8464975439": {
      "model_module": "@jupyter-widgets/base",
      "model_module_version": "1.2.0",
      "model_name": "LayoutModel",
      "state": {}
     },
     "2c4c6cc551944d979b13c36812cdc72c": {
      "model_module": "@jupyter-widgets/controls",
      "model_module_version": "1.5.0",
      "model_name": "ProgressStyleModel",
      "state": {
       "description_width": ""
      }
     },
     "2c585c7b126b4d3aa98187a68b43eebc": {
      "model_module": "@jupyter-widgets/base",
      "model_module_version": "1.2.0",
      "model_name": "LayoutModel",
      "state": {}
     },
     "2c706b9c777243959bbe59ce5e83b43b": {
      "model_module": "@jupyter-widgets/base",
      "model_module_version": "1.2.0",
      "model_name": "LayoutModel",
      "state": {
       "flex": "2"
      }
     },
     "2c710c1e44934959882acfd864acd63a": {
      "model_module": "@jupyter-widgets/controls",
      "model_module_version": "1.5.0",
      "model_name": "HTMLModel",
      "state": {
       "layout": "IPY_MODEL_6512525670db426390dd1c2f4dfe5ad9",
       "style": "IPY_MODEL_7307f5dac5a04f94917fb64865636105",
       "value": "Validation DataLoader 0: 100%"
      }
     },
     "2c738527696747149744895a5f107b1f": {
      "model_module": "@jupyter-widgets/controls",
      "model_module_version": "1.5.0",
      "model_name": "DescriptionStyleModel",
      "state": {
       "description_width": ""
      }
     },
     "2c8cd4ffa79e4c6ca45d498a7348fc27": {
      "model_module": "@jupyter-widgets/controls",
      "model_module_version": "1.5.0",
      "model_name": "FloatProgressModel",
      "state": {
       "layout": "IPY_MODEL_1665a41bf600435089aa88af9d7bd6d5",
       "max": 16,
       "style": "IPY_MODEL_d5734c3bf2314edeba66962de3826f43",
       "value": 16
      }
     },
     "2c97dedc5c6e4e71b123ce65470ecd86": {
      "model_module": "@jupyter-widgets/controls",
      "model_module_version": "1.5.0",
      "model_name": "DescriptionStyleModel",
      "state": {
       "description_width": ""
      }
     },
     "2cac9bda1a1344f18bb2b04888af65c7": {
      "model_module": "@jupyter-widgets/controls",
      "model_module_version": "1.5.0",
      "model_name": "ProgressStyleModel",
      "state": {
       "description_width": ""
      }
     },
     "2cd46ca821ae4abfba5b9f3dda4047fe": {
      "model_module": "@jupyter-widgets/controls",
      "model_module_version": "1.5.0",
      "model_name": "DescriptionStyleModel",
      "state": {
       "description_width": ""
      }
     },
     "2cd70891a3c14bfc908cf3b6f5a149cd": {
      "model_module": "@jupyter-widgets/base",
      "model_module_version": "1.2.0",
      "model_name": "LayoutModel",
      "state": {}
     },
     "2cd765ff4fb743aab76687d3738b1a83": {
      "model_module": "@jupyter-widgets/controls",
      "model_module_version": "1.5.0",
      "model_name": "FloatProgressModel",
      "state": {
       "layout": "IPY_MODEL_e6515837c6d5423abc59a74aa2293c97",
       "max": 16,
       "style": "IPY_MODEL_926f989f48e241d8aa99595935b1f1f3",
       "value": 16
      }
     },
     "2d8e909946d74ccf9908f0d94c19ae6b": {
      "model_module": "@jupyter-widgets/controls",
      "model_module_version": "1.5.0",
      "model_name": "DescriptionStyleModel",
      "state": {
       "description_width": ""
      }
     },
     "2d9141c29e9e404ba56ee0b74177d084": {
      "model_module": "@jupyter-widgets/base",
      "model_module_version": "1.2.0",
      "model_name": "LayoutModel",
      "state": {
       "flex": "2"
      }
     },
     "2d95c8eb6d3743f39b814e43b79528a4": {
      "model_module": "@jupyter-widgets/controls",
      "model_module_version": "1.5.0",
      "model_name": "DescriptionStyleModel",
      "state": {
       "description_width": ""
      }
     },
     "2d9ae1935f7f424894b4a3c19f464260": {
      "model_module": "@jupyter-widgets/base",
      "model_module_version": "1.2.0",
      "model_name": "LayoutModel",
      "state": {
       "flex": "2"
      }
     },
     "2ddb28f7a66f42878f6ab02406147e25": {
      "model_module": "@jupyter-widgets/base",
      "model_module_version": "1.2.0",
      "model_name": "LayoutModel",
      "state": {
       "flex": "2"
      }
     },
     "2de25b4a7d094099b4cb97afc135024a": {
      "model_module": "@jupyter-widgets/controls",
      "model_module_version": "1.5.0",
      "model_name": "DescriptionStyleModel",
      "state": {
       "description_width": ""
      }
     },
     "2de7d073350345f0896bd114cd3a3e13": {
      "model_module": "@jupyter-widgets/controls",
      "model_module_version": "1.5.0",
      "model_name": "FloatProgressModel",
      "state": {
       "layout": "IPY_MODEL_c9bcebf5298b421784b1fb18d2a69ead",
       "max": 16,
       "style": "IPY_MODEL_156c1b2ac12c421db71543e6e5ab590b",
       "value": 16
      }
     },
     "2debe0d770fd4d0fb76e6b2b2706c725": {
      "model_module": "@jupyter-widgets/controls",
      "model_module_version": "1.5.0",
      "model_name": "HTMLModel",
      "state": {
       "layout": "IPY_MODEL_0bb4a5b02d174dceb27dd84ad2497b08",
       "style": "IPY_MODEL_38827b3eddb146b89d744f6e398a91a7",
       "value": "Validation DataLoader 0: 100%"
      }
     },
     "2df5796bbe6347f08580dda70a8779b6": {
      "model_module": "@jupyter-widgets/controls",
      "model_module_version": "1.5.0",
      "model_name": "HTMLModel",
      "state": {
       "layout": "IPY_MODEL_a55c3091b2104d918800efd0d75f4b05",
       "style": "IPY_MODEL_2adc15a57c3243bd99ca633a7dc7a0ef",
       "value": "Validation DataLoader 0: 100%"
      }
     },
     "2dfc3c7b30eb409cbe68df6035f17d2f": {
      "model_module": "@jupyter-widgets/base",
      "model_module_version": "1.2.0",
      "model_name": "LayoutModel",
      "state": {
       "display": "inline-flex",
       "flex_flow": "row wrap",
       "width": "100%"
      }
     },
     "2e043d220f7647da9da68b7269babc1d": {
      "model_module": "@jupyter-widgets/controls",
      "model_module_version": "1.5.0",
      "model_name": "FloatProgressModel",
      "state": {
       "layout": "IPY_MODEL_cfef2aed9f764a0089b370635a364673",
       "max": 16,
       "style": "IPY_MODEL_5bc67540d0f5451687241209049a26ec",
       "value": 16
      }
     },
     "2e316716ec6447c193e94b218c432176": {
      "model_module": "@jupyter-widgets/controls",
      "model_module_version": "1.5.0",
      "model_name": "HTMLModel",
      "state": {
       "layout": "IPY_MODEL_9f7323ac8f0345149156e346865e8d4d",
       "style": "IPY_MODEL_dde859d4c4cc486e89579c635cc86f32",
       "value": " 16/16 [00:00&lt;00:00, 15.05it/s]"
      }
     },
     "2e5bedc9a00b4158b282d282c863f1f4": {
      "model_module": "@jupyter-widgets/controls",
      "model_module_version": "1.5.0",
      "model_name": "FloatProgressModel",
      "state": {
       "layout": "IPY_MODEL_46b75ac5f1fe4d02a5f0699b94326356",
       "max": 16,
       "style": "IPY_MODEL_51d9e3b17f3d40e89f2b9298a3fb85fb",
       "value": 16
      }
     },
     "2e677406c5eb4543b7019b1629aaa782": {
      "model_module": "@jupyter-widgets/controls",
      "model_module_version": "1.5.0",
      "model_name": "DescriptionStyleModel",
      "state": {
       "description_width": ""
      }
     },
     "2e748b0795fd4b138e605b19a638423f": {
      "model_module": "@jupyter-widgets/base",
      "model_module_version": "1.2.0",
      "model_name": "LayoutModel",
      "state": {}
     },
     "2e79e49e4d234f159b1e24a4d2685c69": {
      "model_module": "@jupyter-widgets/controls",
      "model_module_version": "1.5.0",
      "model_name": "ProgressStyleModel",
      "state": {
       "description_width": ""
      }
     },
     "2e7f2d1d55644be991aff10666fc555d": {
      "model_module": "@jupyter-widgets/base",
      "model_module_version": "1.2.0",
      "model_name": "LayoutModel",
      "state": {
       "flex": "2"
      }
     },
     "2e8671a53b3e4ec883d3e66a01091653": {
      "model_module": "@jupyter-widgets/base",
      "model_module_version": "1.2.0",
      "model_name": "LayoutModel",
      "state": {}
     },
     "2e9558e3f2694f1fa28093ccf1004f38": {
      "model_module": "@jupyter-widgets/controls",
      "model_module_version": "1.5.0",
      "model_name": "HTMLModel",
      "state": {
       "layout": "IPY_MODEL_fce1cb6020d74804a9f07e8f38f15c97",
       "style": "IPY_MODEL_0d35201d6df34498afedc793c7b7619b",
       "value": "Sanity Checking DataLoader 0: 100%"
      }
     },
     "2e9b6332eb2a41e189c65ca14133d7ce": {
      "model_module": "@jupyter-widgets/controls",
      "model_module_version": "1.5.0",
      "model_name": "HTMLModel",
      "state": {
       "layout": "IPY_MODEL_26dbb4fa4e81461d8f8d82f417ec9ed1",
       "style": "IPY_MODEL_1db207593d9544f29e42546dadf50c06",
       "value": " 2/2 [00:00&lt;00:00, 19.62it/s]"
      }
     },
     "2e9dc761f7ea4cd496c662fd8341c240": {
      "model_module": "@jupyter-widgets/controls",
      "model_module_version": "1.5.0",
      "model_name": "DescriptionStyleModel",
      "state": {
       "description_width": ""
      }
     },
     "2ea998af0de942be8cbc0b99fb392710": {
      "model_module": "@jupyter-widgets/base",
      "model_module_version": "1.2.0",
      "model_name": "LayoutModel",
      "state": {
       "display": "inline-flex",
       "flex_flow": "row wrap",
       "width": "100%"
      }
     },
     "2ee5556139a549bda148a247bf709585": {
      "model_module": "@jupyter-widgets/controls",
      "model_module_version": "1.5.0",
      "model_name": "FloatProgressModel",
      "state": {
       "layout": "IPY_MODEL_2ddb28f7a66f42878f6ab02406147e25",
       "max": 16,
       "style": "IPY_MODEL_765fef518a344fa0b5404e0aa46ce9c5",
       "value": 16
      }
     },
     "2f26e6d05429439c921a02ea91a4b77e": {
      "model_module": "@jupyter-widgets/controls",
      "model_module_version": "1.5.0",
      "model_name": "HTMLModel",
      "state": {
       "layout": "IPY_MODEL_b668acad1fac4802bf5563f93b7143cb",
       "style": "IPY_MODEL_1f6f733b936b4819b804556c7bac214f",
       "value": "Validation DataLoader 0: 100%"
      }
     },
     "2f316c09a01b4611a99521c26968fea5": {
      "model_module": "@jupyter-widgets/base",
      "model_module_version": "1.2.0",
      "model_name": "LayoutModel",
      "state": {}
     },
     "2f337733bc7b4ac2bf28be46fd40aa9d": {
      "model_module": "@jupyter-widgets/base",
      "model_module_version": "1.2.0",
      "model_name": "LayoutModel",
      "state": {
       "flex": "2"
      }
     },
     "2f3dd3142fe24e73b95f5a8b8369fd31": {
      "model_module": "@jupyter-widgets/base",
      "model_module_version": "1.2.0",
      "model_name": "LayoutModel",
      "state": {}
     },
     "2f49aa1ccc7c495a92aedfda5cbc7c27": {
      "model_module": "@jupyter-widgets/controls",
      "model_module_version": "1.5.0",
      "model_name": "ProgressStyleModel",
      "state": {
       "description_width": ""
      }
     },
     "2f9990298e254fe7aed03a49cd87e893": {
      "model_module": "@jupyter-widgets/controls",
      "model_module_version": "1.5.0",
      "model_name": "HTMLModel",
      "state": {
       "layout": "IPY_MODEL_6a2ebc197fd1467da0da4107116a5525",
       "style": "IPY_MODEL_9b6cb326b0f34cdd879642534665367a",
       "value": "Validation DataLoader 0: 100%"
      }
     },
     "2f99e76f5bdd4fed9ffd3eebfede0c5b": {
      "model_module": "@jupyter-widgets/controls",
      "model_module_version": "1.5.0",
      "model_name": "DescriptionStyleModel",
      "state": {
       "description_width": ""
      }
     },
     "2f9c126224d74660897e6553eeb35b85": {
      "model_module": "@jupyter-widgets/base",
      "model_module_version": "1.2.0",
      "model_name": "LayoutModel",
      "state": {}
     },
     "2fab716f18874ffbbd2d346c6d77c33c": {
      "model_module": "@jupyter-widgets/controls",
      "model_module_version": "1.5.0",
      "model_name": "HTMLModel",
      "state": {
       "layout": "IPY_MODEL_38e3c2fc74b241a0b87c1180422ac0ce",
       "style": "IPY_MODEL_1feafb5c8a0d41db99df4fa18a8ec44c",
       "value": "Sanity Checking DataLoader 0: 100%"
      }
     },
     "2fb260b8e22d4edeaf42b2dd16942fd1": {
      "model_module": "@jupyter-widgets/base",
      "model_module_version": "1.2.0",
      "model_name": "LayoutModel",
      "state": {}
     },
     "2fb5bdc32f324d9e8be45126de51132f": {
      "model_module": "@jupyter-widgets/base",
      "model_module_version": "1.2.0",
      "model_name": "LayoutModel",
      "state": {
       "display": "inline-flex",
       "flex_flow": "row wrap",
       "width": "100%"
      }
     },
     "2fc0466b82d6433ba49a7325de58b4d6": {
      "model_module": "@jupyter-widgets/controls",
      "model_module_version": "1.5.0",
      "model_name": "DescriptionStyleModel",
      "state": {
       "description_width": ""
      }
     },
     "2fc3c6253220483f8fe179dbfe0f393e": {
      "model_module": "@jupyter-widgets/base",
      "model_module_version": "1.2.0",
      "model_name": "LayoutModel",
      "state": {}
     },
     "2fe85b72be6b41d18873db239d4da269": {
      "model_module": "@jupyter-widgets/controls",
      "model_module_version": "1.5.0",
      "model_name": "HTMLModel",
      "state": {
       "layout": "IPY_MODEL_22500da8a272443e85feedd80afbf7e7",
       "style": "IPY_MODEL_aaf6b3ef53d14af7b58bfb5a321237dd",
       "value": " 16/16 [00:00&lt;00:00, 22.18it/s]"
      }
     },
     "2ff128952dd54edc8df811776310eb25": {
      "model_module": "@jupyter-widgets/base",
      "model_module_version": "1.2.0",
      "model_name": "LayoutModel",
      "state": {}
     },
     "2ffdb04e89504e5b8d795ac67cfb6669": {
      "model_module": "@jupyter-widgets/controls",
      "model_module_version": "1.5.0",
      "model_name": "DescriptionStyleModel",
      "state": {
       "description_width": ""
      }
     },
     "2fffdb0d63194c398234ce7c17458c70": {
      "model_module": "@jupyter-widgets/controls",
      "model_module_version": "1.5.0",
      "model_name": "DescriptionStyleModel",
      "state": {
       "description_width": ""
      }
     },
     "300eef0025a44d038d83f9dbaecb9fce": {
      "model_module": "@jupyter-widgets/controls",
      "model_module_version": "1.5.0",
      "model_name": "FloatProgressModel",
      "state": {
       "layout": "IPY_MODEL_efe3b97827104314a5e81efe4ec33767",
       "max": 16,
       "style": "IPY_MODEL_ef459a4dbbd142c681349699319f0392",
       "value": 16
      }
     },
     "30221312e895448eb5b5129e8fb33c17": {
      "model_module": "@jupyter-widgets/controls",
      "model_module_version": "1.5.0",
      "model_name": "HTMLModel",
      "state": {
       "layout": "IPY_MODEL_3fb48ef1cd794d2db076d2c9af16338c",
       "style": "IPY_MODEL_48ed4a1aecce43799d820f7e3085c766",
       "value": " 16/16 [00:04&lt;00:00,  3.81it/s]"
      }
     },
     "30468f4cb36a49b0a9e1a226ea18244b": {
      "model_module": "@jupyter-widgets/controls",
      "model_module_version": "1.5.0",
      "model_name": "DescriptionStyleModel",
      "state": {
       "description_width": ""
      }
     },
     "304e43150f65461e89555a6513aab34a": {
      "model_module": "@jupyter-widgets/base",
      "model_module_version": "1.2.0",
      "model_name": "LayoutModel",
      "state": {
       "display": "inline-flex",
       "flex_flow": "row wrap",
       "width": "100%"
      }
     },
     "305d77a00c16454e90c64eadef94cba5": {
      "model_module": "@jupyter-widgets/controls",
      "model_module_version": "1.5.0",
      "model_name": "DescriptionStyleModel",
      "state": {
       "description_width": ""
      }
     },
     "307d44b3530840c3a81940ca558f46da": {
      "model_module": "@jupyter-widgets/controls",
      "model_module_version": "1.5.0",
      "model_name": "DescriptionStyleModel",
      "state": {
       "description_width": ""
      }
     },
     "30981d7edb6142cf99d3f33e38efa777": {
      "model_module": "@jupyter-widgets/controls",
      "model_module_version": "1.5.0",
      "model_name": "DescriptionStyleModel",
      "state": {
       "description_width": ""
      }
     },
     "30a53d70a2da41ab952c9762520eb42c": {
      "model_module": "@jupyter-widgets/base",
      "model_module_version": "1.2.0",
      "model_name": "LayoutModel",
      "state": {
       "display": "inline-flex",
       "flex_flow": "row wrap",
       "width": "100%"
      }
     },
     "30ad3973cdff46f7be9adaa9f57f3182": {
      "model_module": "@jupyter-widgets/controls",
      "model_module_version": "1.5.0",
      "model_name": "HTMLModel",
      "state": {
       "layout": "IPY_MODEL_211aa57ab539468aa62c5bf0560c2e8e",
       "style": "IPY_MODEL_f53d466e4a8243a39fa7edf8d9793e49",
       "value": " 16/16 [00:05&lt;00:00,  2.84it/s]"
      }
     },
     "30bbd207100d40da87c07e6168519a0f": {
      "model_module": "@jupyter-widgets/controls",
      "model_module_version": "1.5.0",
      "model_name": "DescriptionStyleModel",
      "state": {
       "description_width": ""
      }
     },
     "30cf31d25e1a4d20876ee1ede6a8bb43": {
      "model_module": "@jupyter-widgets/controls",
      "model_module_version": "1.5.0",
      "model_name": "HTMLModel",
      "state": {
       "layout": "IPY_MODEL_709595722df54ea4a61793f2f609fb7b",
       "style": "IPY_MODEL_3887be78e8ad40ffa1101288dc70d814",
       "value": "Validation DataLoader 0: 100%"
      }
     },
     "30ecd2e2beb54629a84747976900119e": {
      "model_module": "@jupyter-widgets/controls",
      "model_module_version": "1.5.0",
      "model_name": "HTMLModel",
      "state": {
       "layout": "IPY_MODEL_ff7be6a750c147519530986a5554fbad",
       "style": "IPY_MODEL_b4f7dc011e0a4aec816693724ec5ecd9",
       "value": " 28/77 [00:02&lt;00:04, 10.77it/s, loss=1.95, v_num=H-50]"
      }
     },
     "30f1f5dfa3574f6cbc848da15acf94cd": {
      "model_module": "@jupyter-widgets/base",
      "model_module_version": "1.2.0",
      "model_name": "LayoutModel",
      "state": {}
     },
     "31335aa7b7d540fd8b0677e9f75b2514": {
      "model_module": "@jupyter-widgets/base",
      "model_module_version": "1.2.0",
      "model_name": "LayoutModel",
      "state": {}
     },
     "31345b1df28c4fc9bdddcb26f0d46574": {
      "model_module": "@jupyter-widgets/base",
      "model_module_version": "1.2.0",
      "model_name": "LayoutModel",
      "state": {}
     },
     "316dd5f80d4042c58c86870d0a18899e": {
      "model_module": "@jupyter-widgets/base",
      "model_module_version": "1.2.0",
      "model_name": "LayoutModel",
      "state": {}
     },
     "31a384a5aa0940c1b9ffa4c4ed0f464b": {
      "model_module": "@jupyter-widgets/base",
      "model_module_version": "1.2.0",
      "model_name": "LayoutModel",
      "state": {}
     },
     "31d8c91f38fd44a3828b531e723e296e": {
      "model_module": "@jupyter-widgets/base",
      "model_module_version": "1.2.0",
      "model_name": "LayoutModel",
      "state": {
       "display": "inline-flex",
       "flex_flow": "row wrap",
       "width": "100%"
      }
     },
     "31e63d3009534339a79229a3ef866788": {
      "model_module": "@jupyter-widgets/controls",
      "model_module_version": "1.5.0",
      "model_name": "FloatProgressModel",
      "state": {
       "layout": "IPY_MODEL_3d142fbc60e243e3b5cfc0635ca4af64",
       "max": 16,
       "style": "IPY_MODEL_db8e7caf838944a49891d5f5718e578b",
       "value": 16
      }
     },
     "31f4cb7e232e436db245c7781c5c2be8": {
      "model_module": "@jupyter-widgets/base",
      "model_module_version": "1.2.0",
      "model_name": "LayoutModel",
      "state": {}
     },
     "32170654859b4ecda3a53d2ff9d409e3": {
      "model_module": "@jupyter-widgets/controls",
      "model_module_version": "1.5.0",
      "model_name": "ProgressStyleModel",
      "state": {
       "description_width": ""
      }
     },
     "322a8b1ab6774031ae8849e587d63336": {
      "model_module": "@jupyter-widgets/base",
      "model_module_version": "1.2.0",
      "model_name": "LayoutModel",
      "state": {}
     },
     "322ce53c968f4ebe9452784e8f13871c": {
      "model_module": "@jupyter-widgets/controls",
      "model_module_version": "1.5.0",
      "model_name": "DescriptionStyleModel",
      "state": {
       "description_width": ""
      }
     },
     "3264bc5d314e4c45886be6183540eafe": {
      "model_module": "@jupyter-widgets/base",
      "model_module_version": "1.2.0",
      "model_name": "LayoutModel",
      "state": {
       "flex": "2"
      }
     },
     "328e0e7e38b84774a851a6d6a8d1490a": {
      "model_module": "@jupyter-widgets/base",
      "model_module_version": "1.2.0",
      "model_name": "LayoutModel",
      "state": {}
     },
     "329e3dcd0e754a77aba15c21be8d9c0d": {
      "model_module": "@jupyter-widgets/controls",
      "model_module_version": "1.5.0",
      "model_name": "DescriptionStyleModel",
      "state": {
       "description_width": ""
      }
     },
     "32adb44749b04546a7740afd065107c6": {
      "model_module": "@jupyter-widgets/controls",
      "model_module_version": "1.5.0",
      "model_name": "HTMLModel",
      "state": {
       "layout": "IPY_MODEL_eb581e4a3ac84954bfbbf0ac064fb458",
       "style": "IPY_MODEL_ee8f39bc10014ae088e52d3ea075c4e9",
       "value": "Validation DataLoader 0: 100%"
      }
     },
     "32d015aa614d4f1a849d10f36604ff85": {
      "model_module": "@jupyter-widgets/base",
      "model_module_version": "1.2.0",
      "model_name": "LayoutModel",
      "state": {}
     },
     "33005121c3ab4e6bb5a9950f4e501f4b": {
      "model_module": "@jupyter-widgets/base",
      "model_module_version": "1.2.0",
      "model_name": "LayoutModel",
      "state": {}
     },
     "33212c267953495b8ed518f87ee5ab53": {
      "model_module": "@jupyter-widgets/base",
      "model_module_version": "1.2.0",
      "model_name": "LayoutModel",
      "state": {
       "flex": "2"
      }
     },
     "3327ee59ee744081a08a2460ef082911": {
      "model_module": "@jupyter-widgets/controls",
      "model_module_version": "1.5.0",
      "model_name": "FloatProgressModel",
      "state": {
       "layout": "IPY_MODEL_f8faf2627a7c4d77821d6f474c1010ba",
       "max": 77,
       "style": "IPY_MODEL_c9887f88caa24e2db822a1dfe15fc411",
       "value": 29
      }
     },
     "333c3cb571b04f60a2348f04a9c5d93e": {
      "model_module": "@jupyter-widgets/controls",
      "model_module_version": "1.5.0",
      "model_name": "ProgressStyleModel",
      "state": {
       "description_width": ""
      }
     },
     "336594fb33f24f4382139447161d9478": {
      "model_module": "@jupyter-widgets/controls",
      "model_module_version": "1.5.0",
      "model_name": "HTMLModel",
      "state": {
       "layout": "IPY_MODEL_89b0994ae6e54ff7b1443267d53db17b",
       "style": "IPY_MODEL_2514191e48e54b8f87a7061174bee49a",
       "value": "Sanity Checking DataLoader 0: 100%"
      }
     },
     "3368e519cabd48f1b1332f11eb32adb3": {
      "model_module": "@jupyter-widgets/controls",
      "model_module_version": "1.5.0",
      "model_name": "DescriptionStyleModel",
      "state": {
       "description_width": ""
      }
     },
     "337c4606c88941b886aa1ba75e4d6c4a": {
      "model_module": "@jupyter-widgets/base",
      "model_module_version": "1.2.0",
      "model_name": "LayoutModel",
      "state": {}
     },
     "339742f9f4e94d7eb786c1e0cc30472f": {
      "model_module": "@jupyter-widgets/controls",
      "model_module_version": "1.5.0",
      "model_name": "HTMLModel",
      "state": {
       "layout": "IPY_MODEL_e1aba3aa0d8c496baf85f5efcb439a09",
       "style": "IPY_MODEL_2fc0466b82d6433ba49a7325de58b4d6",
       "value": " 16/16 [00:00&lt;00:00, 16.78it/s]"
      }
     },
     "339cb196fd6341e2b44ed3848c03c295": {
      "model_module": "@jupyter-widgets/base",
      "model_module_version": "1.2.0",
      "model_name": "LayoutModel",
      "state": {
       "flex": "2"
      }
     },
     "339d273e4f0842edb03b2835fd394d18": {
      "model_module": "@jupyter-widgets/base",
      "model_module_version": "1.2.0",
      "model_name": "LayoutModel",
      "state": {}
     },
     "33af90b712b343588009d4c03467b1ef": {
      "model_module": "@jupyter-widgets/base",
      "model_module_version": "1.2.0",
      "model_name": "LayoutModel",
      "state": {
       "flex": "2"
      }
     },
     "33c77a3c7cae4b55ba6ebca86c1779ee": {
      "model_module": "@jupyter-widgets/controls",
      "model_module_version": "1.5.0",
      "model_name": "HTMLModel",
      "state": {
       "layout": "IPY_MODEL_6ce79fc18ee94d3c9d8c84da67fe237a",
       "style": "IPY_MODEL_0a3adbec118e4e0ca5034952212fbdcf",
       "value": "Epoch 28:  44%"
      }
     },
     "33eba94f809a4b60b711788a05e8a9c0": {
      "model_module": "@jupyter-widgets/controls",
      "model_module_version": "1.5.0",
      "model_name": "DescriptionStyleModel",
      "state": {
       "description_width": ""
      }
     },
     "33ef3e1e1fd74b1dac8cd2e84c0e33d6": {
      "model_module": "@jupyter-widgets/controls",
      "model_module_version": "1.5.0",
      "model_name": "DescriptionStyleModel",
      "state": {
       "description_width": ""
      }
     },
     "33fa695c73a041f0a3b37b3476d4b86a": {
      "model_module": "@jupyter-widgets/controls",
      "model_module_version": "1.5.0",
      "model_name": "ProgressStyleModel",
      "state": {
       "description_width": ""
      }
     },
     "33fcbc6c1885460fac1a6a34b44660ef": {
      "model_module": "@jupyter-widgets/base",
      "model_module_version": "1.2.0",
      "model_name": "LayoutModel",
      "state": {
       "display": "inline-flex",
       "flex_flow": "row wrap",
       "width": "100%"
      }
     },
     "3416b04ec28941f8b8cae925260dbac1": {
      "model_module": "@jupyter-widgets/controls",
      "model_module_version": "1.5.0",
      "model_name": "DescriptionStyleModel",
      "state": {
       "description_width": ""
      }
     },
     "342b4d9dfd214fcd8bf598b5b792e25f": {
      "model_module": "@jupyter-widgets/controls",
      "model_module_version": "1.5.0",
      "model_name": "HTMLModel",
      "state": {
       "layout": "IPY_MODEL_66a7850f0920471e81b89fc96c0456f7",
       "style": "IPY_MODEL_b3b89b3925664e4a810e97822eefe311",
       "value": "Validation DataLoader 0: 100%"
      }
     },
     "345f253d8ae24ea49aceab8a541a84d8": {
      "model_module": "@jupyter-widgets/controls",
      "model_module_version": "1.5.0",
      "model_name": "HTMLModel",
      "state": {
       "layout": "IPY_MODEL_9496a4ed0fd64394a7faec36fcbc4ddd",
       "style": "IPY_MODEL_d00b5c6153624630aafd4b7dfe8bf6c5",
       "value": " 16/16 [00:00&lt;00:00, 18.76it/s]"
      }
     },
     "347b0a0e6ec64d84a267337b31df773d": {
      "model_module": "@jupyter-widgets/controls",
      "model_module_version": "1.5.0",
      "model_name": "DescriptionStyleModel",
      "state": {
       "description_width": ""
      }
     },
     "3480a1d38c354641a5a5cfc98f6d6980": {
      "model_module": "@jupyter-widgets/base",
      "model_module_version": "1.2.0",
      "model_name": "LayoutModel",
      "state": {
       "display": "inline-flex",
       "flex_flow": "row wrap",
       "width": "100%"
      }
     },
     "3495a0891d03486e897c60d0a9dfe24f": {
      "model_module": "@jupyter-widgets/controls",
      "model_module_version": "1.5.0",
      "model_name": "ProgressStyleModel",
      "state": {
       "description_width": ""
      }
     },
     "34a8cbece6a44b308177fef769896da2": {
      "model_module": "@jupyter-widgets/controls",
      "model_module_version": "1.5.0",
      "model_name": "HTMLModel",
      "state": {
       "layout": "IPY_MODEL_9db866972bed4daba96c74b18f906255",
       "style": "IPY_MODEL_b60bb53000314713b3491b9bd8afc9e9",
       "value": " 16/16 [00:01&lt;00:00, 11.70it/s]"
      }
     },
     "34bad8d1112b4471a0e785bc3488cae2": {
      "model_module": "@jupyter-widgets/base",
      "model_module_version": "1.2.0",
      "model_name": "LayoutModel",
      "state": {}
     },
     "34c54ec5b3504ff181db78590af2358f": {
      "model_module": "@jupyter-widgets/controls",
      "model_module_version": "1.5.0",
      "model_name": "HTMLModel",
      "state": {
       "layout": "IPY_MODEL_2652cc91ce2c49d3a020e5e9cd13445d",
       "style": "IPY_MODEL_e5b13b5c1e4444d3bb8a971bc7d1ce26",
       "value": "Validation DataLoader 0: 100%"
      }
     },
     "34c9eb2c4f9a408e89acf4bede757449": {
      "model_module": "@jupyter-widgets/controls",
      "model_module_version": "1.5.0",
      "model_name": "DescriptionStyleModel",
      "state": {
       "description_width": ""
      }
     },
     "34ccf5526d824ec0b48249143228b9e0": {
      "model_module": "@jupyter-widgets/base",
      "model_module_version": "1.2.0",
      "model_name": "LayoutModel",
      "state": {}
     },
     "3547be3433764d9e995980ca7e8e0d39": {
      "model_module": "@jupyter-widgets/controls",
      "model_module_version": "1.5.0",
      "model_name": "HTMLModel",
      "state": {
       "layout": "IPY_MODEL_eb4cea09a5aa47ed99956f67b34678dd",
       "style": "IPY_MODEL_c256b72ce9344bd4ad36a4af48fe1e06",
       "value": "Validation DataLoader 0: 100%"
      }
     },
     "355209b4930645918d4dda572b8cf541": {
      "model_module": "@jupyter-widgets/base",
      "model_module_version": "1.2.0",
      "model_name": "LayoutModel",
      "state": {}
     },
     "35663f66471e4cc7be31c4707fe825f9": {
      "model_module": "@jupyter-widgets/controls",
      "model_module_version": "1.5.0",
      "model_name": "DescriptionStyleModel",
      "state": {
       "description_width": ""
      }
     },
     "35a03de2ff8945ecb38ed1de005cf158": {
      "model_module": "@jupyter-widgets/base",
      "model_module_version": "1.2.0",
      "model_name": "LayoutModel",
      "state": {
       "flex": "2"
      }
     },
     "35adbaca2ef34b36838ba1bbbeb7718f": {
      "model_module": "@jupyter-widgets/controls",
      "model_module_version": "1.5.0",
      "model_name": "FloatProgressModel",
      "state": {
       "layout": "IPY_MODEL_26d53e445d66419ab23a3d263525e750",
       "max": 16,
       "style": "IPY_MODEL_1b2bd71fa00d4f7ea351d2bb15a22544",
       "value": 16
      }
     },
     "35c388fc5648477cac740279453c8fd6": {
      "model_module": "@jupyter-widgets/controls",
      "model_module_version": "1.5.0",
      "model_name": "DescriptionStyleModel",
      "state": {
       "description_width": ""
      }
     },
     "35c3bb9668f6416d8356aacb93bf2967": {
      "model_module": "@jupyter-widgets/controls",
      "model_module_version": "1.5.0",
      "model_name": "DescriptionStyleModel",
      "state": {
       "description_width": ""
      }
     },
     "35c850e2cc7e45d09dd3954366f44fdf": {
      "model_module": "@jupyter-widgets/base",
      "model_module_version": "1.2.0",
      "model_name": "LayoutModel",
      "state": {}
     },
     "35d6e56378c84b538f1767587a53fdb1": {
      "model_module": "@jupyter-widgets/base",
      "model_module_version": "1.2.0",
      "model_name": "LayoutModel",
      "state": {}
     },
     "35e15e69e3d949cfba402faa8bc44d6a": {
      "model_module": "@jupyter-widgets/base",
      "model_module_version": "1.2.0",
      "model_name": "LayoutModel",
      "state": {
       "flex": "2"
      }
     },
     "35e39b3162a04e83b50031a57d778bc4": {
      "model_module": "@jupyter-widgets/controls",
      "model_module_version": "1.5.0",
      "model_name": "FloatProgressModel",
      "state": {
       "layout": "IPY_MODEL_2d9ae1935f7f424894b4a3c19f464260",
       "max": 16,
       "style": "IPY_MODEL_50fdb1d263f34e2a821e91070a036777",
       "value": 16
      }
     },
     "360f7f4a0d49459f9716af173c5b8720": {
      "model_module": "@jupyter-widgets/controls",
      "model_module_version": "1.5.0",
      "model_name": "HTMLModel",
      "state": {
       "layout": "IPY_MODEL_651b80eeb7e5490cb66ca13722921eb1",
       "style": "IPY_MODEL_09b5746189f6422d81023f8585940343",
       "value": "Validation DataLoader 0: 100%"
      }
     },
     "361a38fdf4344d389043cea47767fca0": {
      "model_module": "@jupyter-widgets/controls",
      "model_module_version": "1.5.0",
      "model_name": "DescriptionStyleModel",
      "state": {
       "description_width": ""
      }
     },
     "363a1a0de337446785ae8bc016630cdd": {
      "model_module": "@jupyter-widgets/controls",
      "model_module_version": "1.5.0",
      "model_name": "ProgressStyleModel",
      "state": {
       "description_width": ""
      }
     },
     "3692558587c94de1ae6efb14a38969e1": {
      "model_module": "@jupyter-widgets/base",
      "model_module_version": "1.2.0",
      "model_name": "LayoutModel",
      "state": {
       "display": "inline-flex",
       "flex_flow": "row wrap",
       "width": "100%"
      }
     },
     "3692b2783ed14a69ad996e7c85be53e9": {
      "model_module": "@jupyter-widgets/base",
      "model_module_version": "1.2.0",
      "model_name": "LayoutModel",
      "state": {
       "flex": "2"
      }
     },
     "36b065f9c9224ab19ef03b2961011257": {
      "model_module": "@jupyter-widgets/controls",
      "model_module_version": "1.5.0",
      "model_name": "ProgressStyleModel",
      "state": {
       "description_width": ""
      }
     },
     "36bb8836f6ff4ba39146f70c95332bb0": {
      "model_module": "@jupyter-widgets/controls",
      "model_module_version": "1.5.0",
      "model_name": "DescriptionStyleModel",
      "state": {
       "description_width": ""
      }
     },
     "36ce86e6b67b47f7acc0c046a0b91831": {
      "model_module": "@jupyter-widgets/base",
      "model_module_version": "1.2.0",
      "model_name": "LayoutModel",
      "state": {}
     },
     "36f65fbfcb83418ea5ce0440a928cbab": {
      "model_module": "@jupyter-widgets/base",
      "model_module_version": "1.2.0",
      "model_name": "LayoutModel",
      "state": {
       "flex": "2"
      }
     },
     "3710b10127e24486ba981ad93133d000": {
      "model_module": "@jupyter-widgets/controls",
      "model_module_version": "1.5.0",
      "model_name": "HTMLModel",
      "state": {
       "layout": "IPY_MODEL_84d88362448443f0a5dbb0b1d2f53e25",
       "style": "IPY_MODEL_13184a105d6649d18042133837100144",
       "value": "Validation DataLoader 0: 100%"
      }
     },
     "3732e36291104ccaae70f7cb0e928165": {
      "model_module": "@jupyter-widgets/base",
      "model_module_version": "1.2.0",
      "model_name": "LayoutModel",
      "state": {}
     },
     "37523b3510634371a36484c0468c84dc": {
      "model_module": "@jupyter-widgets/controls",
      "model_module_version": "1.5.0",
      "model_name": "FloatProgressModel",
      "state": {
       "layout": "IPY_MODEL_eb71d9b13de14fe3b28abba9e42d1360",
       "max": 77,
       "style": "IPY_MODEL_36b065f9c9224ab19ef03b2961011257",
       "value": 77
      }
     },
     "37586e624b054db3a3f0a28bedb39710": {
      "model_module": "@jupyter-widgets/controls",
      "model_module_version": "1.5.0",
      "model_name": "FloatProgressModel",
      "state": {
       "layout": "IPY_MODEL_c5c7b2b7450141949eefd7fbc7e89bfe",
       "max": 16,
       "style": "IPY_MODEL_9d6d8163f0de4471959983ef331cae2e",
       "value": 16
      }
     },
     "3769a4c785f840edbd0b90df1cbac712": {
      "model_module": "@jupyter-widgets/controls",
      "model_module_version": "1.5.0",
      "model_name": "HTMLModel",
      "state": {
       "layout": "IPY_MODEL_2bafb3cc9b054a9e9b701124328933c6",
       "style": "IPY_MODEL_914cdae0e6804a428ca24fb5be2a876d",
       "value": " 2/2 [00:00&lt;00:00, 23.69it/s]"
      }
     },
     "3782f7ac0f9b415d828840e3f2082513": {
      "model_module": "@jupyter-widgets/base",
      "model_module_version": "1.2.0",
      "model_name": "LayoutModel",
      "state": {}
     },
     "379bc5781a8d45b789a55a35242c4ca6": {
      "model_module": "@jupyter-widgets/controls",
      "model_module_version": "1.5.0",
      "model_name": "DescriptionStyleModel",
      "state": {
       "description_width": ""
      }
     },
     "379f8a5fd19844d1bca0c407b26a4133": {
      "model_module": "@jupyter-widgets/controls",
      "model_module_version": "1.5.0",
      "model_name": "DescriptionStyleModel",
      "state": {
       "description_width": ""
      }
     },
     "37a011c63d23403688538351c6db7c38": {
      "model_module": "@jupyter-widgets/controls",
      "model_module_version": "1.5.0",
      "model_name": "FloatProgressModel",
      "state": {
       "layout": "IPY_MODEL_df53e23229884cf2a2c857f7a7cf586c",
       "max": 2,
       "style": "IPY_MODEL_999f70dde52043ffb4cc2732ba7b04af",
       "value": 2
      }
     },
     "37d671f62964497f946f1a1f606b0554": {
      "model_module": "@jupyter-widgets/base",
      "model_module_version": "1.2.0",
      "model_name": "LayoutModel",
      "state": {}
     },
     "37f28b13bae84c82b4c344f7f1b6d998": {
      "model_module": "@jupyter-widgets/base",
      "model_module_version": "1.2.0",
      "model_name": "LayoutModel",
      "state": {}
     },
     "381c9d1eab4f4bb788da5be9041f89bd": {
      "model_module": "@jupyter-widgets/base",
      "model_module_version": "1.2.0",
      "model_name": "LayoutModel",
      "state": {}
     },
     "38235c26777b47bb9f51e9e1b6c46693": {
      "model_module": "@jupyter-widgets/base",
      "model_module_version": "1.2.0",
      "model_name": "LayoutModel",
      "state": {
       "flex": "2"
      }
     },
     "382b9685a82e49d5bc90610ef06fcd6d": {
      "model_module": "@jupyter-widgets/controls",
      "model_module_version": "1.5.0",
      "model_name": "FloatProgressModel",
      "state": {
       "layout": "IPY_MODEL_53beb2e2edbf401ca290156f0a5d79bb",
       "max": 16,
       "style": "IPY_MODEL_c13e77e1eea94c968758e31bcad2eb01",
       "value": 16
      }
     },
     "383c006a82614b91af5a5e72f634cad8": {
      "model_module": "@jupyter-widgets/controls",
      "model_module_version": "1.5.0",
      "model_name": "HTMLModel",
      "state": {
       "layout": "IPY_MODEL_b385f5da77ef456abf34f33bec2b706c",
       "style": "IPY_MODEL_2ffdb04e89504e5b8d795ac67cfb6669",
       "value": " 16/16 [00:01&lt;00:00,  8.69it/s]"
      }
     },
     "387910c89cf140b18e9b46a5fa0cd96b": {
      "model_module": "@jupyter-widgets/controls",
      "model_module_version": "1.5.0",
      "model_name": "FloatProgressModel",
      "state": {
       "layout": "IPY_MODEL_8005f773674a45dfaf65212840d6a7e5",
       "max": 16,
       "style": "IPY_MODEL_8a1c0c73e9874269b8190172c3941f0a",
       "value": 16
      }
     },
     "38827b3eddb146b89d744f6e398a91a7": {
      "model_module": "@jupyter-widgets/controls",
      "model_module_version": "1.5.0",
      "model_name": "DescriptionStyleModel",
      "state": {
       "description_width": ""
      }
     },
     "3884682ba02f4142a06170dd5ad692a6": {
      "model_module": "@jupyter-widgets/controls",
      "model_module_version": "1.5.0",
      "model_name": "DescriptionStyleModel",
      "state": {
       "description_width": ""
      }
     },
     "3887be78e8ad40ffa1101288dc70d814": {
      "model_module": "@jupyter-widgets/controls",
      "model_module_version": "1.5.0",
      "model_name": "DescriptionStyleModel",
      "state": {
       "description_width": ""
      }
     },
     "3892210713434482add0cd46b42497cd": {
      "model_module": "@jupyter-widgets/base",
      "model_module_version": "1.2.0",
      "model_name": "LayoutModel",
      "state": {
       "display": "inline-flex",
       "flex_flow": "row wrap",
       "width": "100%"
      }
     },
     "389dad7911d24ecfa5fdab5accf480e2": {
      "model_module": "@jupyter-widgets/controls",
      "model_module_version": "1.5.0",
      "model_name": "DescriptionStyleModel",
      "state": {
       "description_width": ""
      }
     },
     "38a3cf645ec64c17a79d2ec642804c70": {
      "model_module": "@jupyter-widgets/controls",
      "model_module_version": "1.5.0",
      "model_name": "DescriptionStyleModel",
      "state": {
       "description_width": ""
      }
     },
     "38be1888d25a483b851812e3d2653c43": {
      "model_module": "@jupyter-widgets/base",
      "model_module_version": "1.2.0",
      "model_name": "LayoutModel",
      "state": {}
     },
     "38c4ab417d264636b90f0d218963147f": {
      "model_module": "@jupyter-widgets/controls",
      "model_module_version": "1.5.0",
      "model_name": "ProgressStyleModel",
      "state": {
       "description_width": ""
      }
     },
     "38dbe5ba0402492a9b0502826798f891": {
      "model_module": "@jupyter-widgets/controls",
      "model_module_version": "1.5.0",
      "model_name": "FloatProgressModel",
      "state": {
       "layout": "IPY_MODEL_17a572f9798a4f44a2569cab54598828",
       "max": 16,
       "style": "IPY_MODEL_d006bb7ef82c49c6800a27b0c481ff92",
       "value": 16
      }
     },
     "38e3c2fc74b241a0b87c1180422ac0ce": {
      "model_module": "@jupyter-widgets/base",
      "model_module_version": "1.2.0",
      "model_name": "LayoutModel",
      "state": {}
     },
     "390d1ba1d11c4874aaa0b296e5e90eb8": {
      "model_module": "@jupyter-widgets/controls",
      "model_module_version": "1.5.0",
      "model_name": "ProgressStyleModel",
      "state": {
       "description_width": ""
      }
     },
     "390efbd7559e4bee8e644416529de208": {
      "model_module": "@jupyter-widgets/controls",
      "model_module_version": "1.5.0",
      "model_name": "HTMLModel",
      "state": {
       "layout": "IPY_MODEL_200a9166625b48c59323cac12746941e",
       "style": "IPY_MODEL_2cd46ca821ae4abfba5b9f3dda4047fe",
       "value": "Epoch 3:  47%"
      }
     },
     "3930aa3b3d7a46489fca7d76949f8928": {
      "model_module": "@jupyter-widgets/controls",
      "model_module_version": "1.5.0",
      "model_name": "FloatProgressModel",
      "state": {
       "layout": "IPY_MODEL_e70c57b6b9244a6bb9daf4f733b12d1d",
       "max": 16,
       "style": "IPY_MODEL_58359c704aae4d369ccdb9c5edf20934",
       "value": 16
      }
     },
     "3932e89546284b81800610d946dd2110": {
      "model_module": "@jupyter-widgets/base",
      "model_module_version": "1.2.0",
      "model_name": "LayoutModel",
      "state": {
       "flex": "2"
      }
     },
     "394c034fbefe424b84e1161ac7be9eee": {
      "model_module": "@jupyter-widgets/controls",
      "model_module_version": "1.5.0",
      "model_name": "HTMLModel",
      "state": {
       "layout": "IPY_MODEL_98ade854c8834f0485b5c757316c0270",
       "style": "IPY_MODEL_54e5cede17d3464eb82c823936ea627a",
       "value": " 16/16 [00:01&lt;00:00, 15.69it/s]"
      }
     },
     "394c8d495cf440d1ab0744f73bed0af7": {
      "model_module": "@jupyter-widgets/base",
      "model_module_version": "1.2.0",
      "model_name": "LayoutModel",
      "state": {}
     },
     "3953f2e2176348c38b8776d76eb34f39": {
      "model_module": "@jupyter-widgets/controls",
      "model_module_version": "1.5.0",
      "model_name": "FloatProgressModel",
      "state": {
       "layout": "IPY_MODEL_4202ddc121994d219d58a59cb52b680f",
       "max": 16,
       "style": "IPY_MODEL_69903e489a8f46e79faf6303c8c6f3a7",
       "value": 16
      }
     },
     "3959963b115143fba77e93563686e38b": {
      "model_module": "@jupyter-widgets/controls",
      "model_module_version": "1.5.0",
      "model_name": "FloatProgressModel",
      "state": {
       "layout": "IPY_MODEL_a2c4209852c64774ae20a7f22bb5a02e",
       "max": 77,
       "style": "IPY_MODEL_144856b7c84f4abeb4df21cf020d9822",
       "value": 14
      }
     },
     "398c26e928f1475b95a4aefe7760d5b1": {
      "model_module": "@jupyter-widgets/controls",
      "model_module_version": "1.5.0",
      "model_name": "DescriptionStyleModel",
      "state": {
       "description_width": ""
      }
     },
     "398e6a5f90b94eaf9758ebdb523bea24": {
      "model_module": "@jupyter-widgets/controls",
      "model_module_version": "1.5.0",
      "model_name": "HTMLModel",
      "state": {
       "layout": "IPY_MODEL_06283316d604464a87c18d76dbd9a09a",
       "style": "IPY_MODEL_ff55dca99dcd47de9c93a67c82bb2ffb",
       "value": " 16/16 [00:00&lt;00:00, 16.02it/s]"
      }
     },
     "39ac25cb5605481eb630a331af7a5409": {
      "model_module": "@jupyter-widgets/controls",
      "model_module_version": "1.5.0",
      "model_name": "HTMLModel",
      "state": {
       "layout": "IPY_MODEL_07c35cedf89f47959c49f83749bdc0d4",
       "style": "IPY_MODEL_1a3f23f3ac7f4928b412cbc53028b4bb",
       "value": " 16/16 [00:00&lt;00:00, 18.27it/s]"
      }
     },
     "39afd3d137df44c48d656c0f8f8a171b": {
      "model_module": "@jupyter-widgets/controls",
      "model_module_version": "1.5.0",
      "model_name": "ProgressStyleModel",
      "state": {
       "description_width": ""
      }
     },
     "39bd09cb11914b24a87253cd8e78ae9e": {
      "model_module": "@jupyter-widgets/base",
      "model_module_version": "1.2.0",
      "model_name": "LayoutModel",
      "state": {
       "flex": "2"
      }
     },
     "39cdbd0934764d309197dec26beb4a4c": {
      "model_module": "@jupyter-widgets/controls",
      "model_module_version": "1.5.0",
      "model_name": "HTMLModel",
      "state": {
       "layout": "IPY_MODEL_31f4cb7e232e436db245c7781c5c2be8",
       "style": "IPY_MODEL_0ee6049eca6b4d00890e293af1199361",
       "value": "Sanity Checking DataLoader 0: 100%"
      }
     },
     "39e3dc757af34c969ff483350998a317": {
      "model_module": "@jupyter-widgets/controls",
      "model_module_version": "1.5.0",
      "model_name": "DescriptionStyleModel",
      "state": {
       "description_width": ""
      }
     },
     "3a01d3b8fe3640bfb8fa817adf4e4532": {
      "model_module": "@jupyter-widgets/base",
      "model_module_version": "1.2.0",
      "model_name": "LayoutModel",
      "state": {}
     },
     "3a05e530bc424a8899a1dfa7305fa823": {
      "model_module": "@jupyter-widgets/controls",
      "model_module_version": "1.5.0",
      "model_name": "HBoxModel",
      "state": {
       "children": [
        "IPY_MODEL_47c3d983c5b04296ac6df873d567e094",
        "IPY_MODEL_02df9ea4d93044cb992359e6337ae550",
        "IPY_MODEL_45ebdaddc4e8460dace10294ff766931"
       ],
       "layout": "IPY_MODEL_6af31ffa23bb4127ae3ccb2b440c1369"
      }
     },
     "3a1f6bcdddbb473ca0ec39862de1d421": {
      "model_module": "@jupyter-widgets/controls",
      "model_module_version": "1.5.0",
      "model_name": "DescriptionStyleModel",
      "state": {
       "description_width": ""
      }
     },
     "3a25c320c9b94d879bd55e293abaa473": {
      "model_module": "@jupyter-widgets/controls",
      "model_module_version": "1.5.0",
      "model_name": "HTMLModel",
      "state": {
       "layout": "IPY_MODEL_b3c4c0e7d1f445f88e045dccb74126ee",
       "style": "IPY_MODEL_4f02a1f3faa14b269c110e5340f67816",
       "value": "Validation DataLoader 0: 100%"
      }
     },
     "3a3b2a69eb524fc19912920943dfa543": {
      "model_module": "@jupyter-widgets/controls",
      "model_module_version": "1.5.0",
      "model_name": "HTMLModel",
      "state": {
       "layout": "IPY_MODEL_3c5940f6e14b4415b3495339b0d37fbc",
       "style": "IPY_MODEL_812f440fe1f94e82bb04e67be4a3577b",
       "value": " 16/16 [00:00&lt;00:00, 21.29it/s]"
      }
     },
     "3a4122827a284a5ab6aaac19493b345f": {
      "model_module": "@jupyter-widgets/controls",
      "model_module_version": "1.5.0",
      "model_name": "ProgressStyleModel",
      "state": {
       "description_width": ""
      }
     },
     "3a7953120bec45bdb7677bd47730daa7": {
      "model_module": "@jupyter-widgets/base",
      "model_module_version": "1.2.0",
      "model_name": "LayoutModel",
      "state": {
       "display": "inline-flex",
       "flex_flow": "row wrap",
       "width": "100%"
      }
     },
     "3a905656e3484993a3f4f4baa0240ecf": {
      "model_module": "@jupyter-widgets/base",
      "model_module_version": "1.2.0",
      "model_name": "LayoutModel",
      "state": {
       "flex": "2"
      }
     },
     "3a9f54368d8b4d06b627d8907fb8ca49": {
      "model_module": "@jupyter-widgets/controls",
      "model_module_version": "1.5.0",
      "model_name": "DescriptionStyleModel",
      "state": {
       "description_width": ""
      }
     },
     "3aa8f17bfa274343a7690287156184d1": {
      "model_module": "@jupyter-widgets/controls",
      "model_module_version": "1.5.0",
      "model_name": "HTMLModel",
      "state": {
       "layout": "IPY_MODEL_b4121bed7495471ab37d0a23795b56ca",
       "style": "IPY_MODEL_49a999044efd48fc879f36fd091b18c6",
       "value": " 16/16 [00:00&lt;00:00, 14.92it/s]"
      }
     },
     "3aacff0be14c4e59906a82808085b315": {
      "model_module": "@jupyter-widgets/base",
      "model_module_version": "1.2.0",
      "model_name": "LayoutModel",
      "state": {}
     },
     "3aad8662bae5464cac3a40bc67d7a8b9": {
      "model_module": "@jupyter-widgets/base",
      "model_module_version": "1.2.0",
      "model_name": "LayoutModel",
      "state": {
       "display": "inline-flex",
       "flex_flow": "row wrap",
       "width": "100%"
      }
     },
     "3ac73007c5664bf99b956007cf2d7aba": {
      "model_module": "@jupyter-widgets/base",
      "model_module_version": "1.2.0",
      "model_name": "LayoutModel",
      "state": {}
     },
     "3af1b067bc29450589fce1ef526d14eb": {
      "model_module": "@jupyter-widgets/base",
      "model_module_version": "1.2.0",
      "model_name": "LayoutModel",
      "state": {
       "display": "inline-flex",
       "flex_flow": "row wrap",
       "width": "100%"
      }
     },
     "3b6d1e1fc16b4685bbc8ee931f92a449": {
      "model_module": "@jupyter-widgets/controls",
      "model_module_version": "1.5.0",
      "model_name": "DescriptionStyleModel",
      "state": {
       "description_width": ""
      }
     },
     "3b8ebcfa3fdb4b858f126e8697ef4dcd": {
      "model_module": "@jupyter-widgets/controls",
      "model_module_version": "1.5.0",
      "model_name": "DescriptionStyleModel",
      "state": {
       "description_width": ""
      }
     },
     "3b9e1b6fae5d4eaab96280cf847c5882": {
      "model_module": "@jupyter-widgets/base",
      "model_module_version": "1.2.0",
      "model_name": "LayoutModel",
      "state": {
       "display": "inline-flex",
       "flex_flow": "row wrap",
       "width": "100%"
      }
     },
     "3bdc0fbef2a64779a0b3d5dffd2be8fe": {
      "model_module": "@jupyter-widgets/controls",
      "model_module_version": "1.5.0",
      "model_name": "DescriptionStyleModel",
      "state": {
       "description_width": ""
      }
     },
     "3be52449712f4226b9e53f17d321b5f8": {
      "model_module": "@jupyter-widgets/controls",
      "model_module_version": "1.5.0",
      "model_name": "HTMLModel",
      "state": {
       "layout": "IPY_MODEL_2c585c7b126b4d3aa98187a68b43eebc",
       "style": "IPY_MODEL_d69b4a7fb5164533b5e59426dd30de57",
       "value": " 16/16 [00:01&lt;00:00,  7.71it/s]"
      }
     },
     "3be839acc98448f29b5d439d9e120ffb": {
      "model_module": "@jupyter-widgets/controls",
      "model_module_version": "1.5.0",
      "model_name": "HTMLModel",
      "state": {
       "layout": "IPY_MODEL_1e1e886e774a4613a4a7349408e2aeaa",
       "style": "IPY_MODEL_abdb5fe3dbdb4354a6b254ca859ceb7e",
       "value": "Validation DataLoader 0: 100%"
      }
     },
     "3bed4d2cc9d846ef8aa9899713548c55": {
      "model_module": "@jupyter-widgets/base",
      "model_module_version": "1.2.0",
      "model_name": "LayoutModel",
      "state": {}
     },
     "3bf6c65ac8b8436688d712f2b40722bd": {
      "model_module": "@jupyter-widgets/controls",
      "model_module_version": "1.5.0",
      "model_name": "FloatProgressModel",
      "state": {
       "layout": "IPY_MODEL_25dde7381133453898ff26af4dbd404d",
       "max": 16,
       "style": "IPY_MODEL_9de93f2128254a99ba3cdc41031e7358",
       "value": 16
      }
     },
     "3c0897dae0b14aef8e22115eb4b3e55b": {
      "model_module": "@jupyter-widgets/base",
      "model_module_version": "1.2.0",
      "model_name": "LayoutModel",
      "state": {
       "flex": "2"
      }
     },
     "3c333499729b4da6ba31d606481f1eeb": {
      "model_module": "@jupyter-widgets/controls",
      "model_module_version": "1.5.0",
      "model_name": "FloatProgressModel",
      "state": {
       "layout": "IPY_MODEL_a1fe34be3ab34eaea963b86423b95928",
       "max": 16,
       "style": "IPY_MODEL_61869d7f7aa140739df2ae7506c26355",
       "value": 16
      }
     },
     "3c34441b46af4eba8e72877a71b8eca2": {
      "model_module": "@jupyter-widgets/controls",
      "model_module_version": "1.5.0",
      "model_name": "HTMLModel",
      "state": {
       "layout": "IPY_MODEL_1299ec70856144d3b38359917952e75b",
       "style": "IPY_MODEL_fc37628ade2f43e685894bbfba060d43",
       "value": "Validation DataLoader 0: 100%"
      }
     },
     "3c5940f6e14b4415b3495339b0d37fbc": {
      "model_module": "@jupyter-widgets/base",
      "model_module_version": "1.2.0",
      "model_name": "LayoutModel",
      "state": {}
     },
     "3c956caa308c4ce6b9b35568db28f61a": {
      "model_module": "@jupyter-widgets/base",
      "model_module_version": "1.2.0",
      "model_name": "LayoutModel",
      "state": {}
     },
     "3cb90e6bfa304cd195a3a5a00408fcb1": {
      "model_module": "@jupyter-widgets/base",
      "model_module_version": "1.2.0",
      "model_name": "LayoutModel",
      "state": {
       "flex": "2"
      }
     },
     "3cc0d66752fb45f9862cb71914c21256": {
      "model_module": "@jupyter-widgets/controls",
      "model_module_version": "1.5.0",
      "model_name": "FloatProgressModel",
      "state": {
       "layout": "IPY_MODEL_be30ba421b294b17aefcce6afe87a191",
       "max": 16,
       "style": "IPY_MODEL_94553c5fd0d94428868802e387e290c4",
       "value": 16
      }
     },
     "3ce2dc2360e541b0b69c4d27350d9cc7": {
      "model_module": "@jupyter-widgets/controls",
      "model_module_version": "1.5.0",
      "model_name": "FloatProgressModel",
      "state": {
       "layout": "IPY_MODEL_5f1582508a5b49209ae79ca3a849e6fd",
       "max": 16,
       "style": "IPY_MODEL_8ee0ebf99aab4ed4a3c1e671f12b3c2e",
       "value": 16
      }
     },
     "3d142fbc60e243e3b5cfc0635ca4af64": {
      "model_module": "@jupyter-widgets/base",
      "model_module_version": "1.2.0",
      "model_name": "LayoutModel",
      "state": {
       "flex": "2"
      }
     },
     "3d24fcd750fd40c5b4d3da6941b21bc8": {
      "model_module": "@jupyter-widgets/base",
      "model_module_version": "1.2.0",
      "model_name": "LayoutModel",
      "state": {}
     },
     "3d280136857a4eb0aa47df96c6a9551b": {
      "model_module": "@jupyter-widgets/controls",
      "model_module_version": "1.5.0",
      "model_name": "HTMLModel",
      "state": {
       "layout": "IPY_MODEL_4a5cf4d19562482ea4c127dfd377a24f",
       "style": "IPY_MODEL_754dd201e67f4854a6957942a8cad258",
       "value": "Epoch 16:  73%"
      }
     },
     "3d6e4c638bb04872bf9218017b9bca5d": {
      "model_module": "@jupyter-widgets/controls",
      "model_module_version": "1.5.0",
      "model_name": "FloatProgressModel",
      "state": {
       "layout": "IPY_MODEL_7dd5f8c41a9b445a819dca37c34d6654",
       "max": 16,
       "style": "IPY_MODEL_4e95b8165b234343b88d074350178240",
       "value": 16
      }
     },
     "3daae8db24804de59f1a9d6b606526b5": {
      "model_module": "@jupyter-widgets/base",
      "model_module_version": "1.2.0",
      "model_name": "LayoutModel",
      "state": {}
     },
     "3daf2835e69e4b11803dd17602e3b912": {
      "model_module": "@jupyter-widgets/controls",
      "model_module_version": "1.5.0",
      "model_name": "FloatProgressModel",
      "state": {
       "layout": "IPY_MODEL_82263fd2eaad46a5a8e9a7152c389f93",
       "max": 16,
       "style": "IPY_MODEL_744449252b524a7092fec4a515649137",
       "value": 16
      }
     },
     "3dbe7c998b9740d29f95a65917882fa9": {
      "model_module": "@jupyter-widgets/controls",
      "model_module_version": "1.5.0",
      "model_name": "HTMLModel",
      "state": {
       "layout": "IPY_MODEL_1bcb9d6b65e4404d8dbea92cac0f6664",
       "style": "IPY_MODEL_11fb58f95bc84b86afd6cdb8266a81e1",
       "value": "Sanity Checking DataLoader 0: 100%"
      }
     },
     "3dc48f33e9f04b1189881a0134ca42ca": {
      "model_module": "@jupyter-widgets/controls",
      "model_module_version": "1.5.0",
      "model_name": "FloatProgressModel",
      "state": {
       "layout": "IPY_MODEL_fbc2cf5e30d347b594013ef0d8c32bc5",
       "max": 2,
       "style": "IPY_MODEL_226af5091974433680f2b492d7d9fbc6",
       "value": 2
      }
     },
     "3dc7de56f09a4b728b6490d424516721": {
      "model_module": "@jupyter-widgets/controls",
      "model_module_version": "1.5.0",
      "model_name": "ProgressStyleModel",
      "state": {
       "description_width": ""
      }
     },
     "3e147c61af844a5ca9878cdc227dee25": {
      "model_module": "@jupyter-widgets/controls",
      "model_module_version": "1.5.0",
      "model_name": "HTMLModel",
      "state": {
       "layout": "IPY_MODEL_94dda0fa590b4a269495fa6781de1ab2",
       "style": "IPY_MODEL_ace049cd560e42e89a2c576711f24b99",
       "value": " 16/16 [00:04&lt;00:00,  3.35it/s]"
      }
     },
     "3e37d3be5f7844ae8f840aeadf87137e": {
      "model_module": "@jupyter-widgets/controls",
      "model_module_version": "1.5.0",
      "model_name": "DescriptionStyleModel",
      "state": {
       "description_width": ""
      }
     },
     "3e54a7240b3c47a995008bcf5430a3fb": {
      "model_module": "@jupyter-widgets/controls",
      "model_module_version": "1.5.0",
      "model_name": "DescriptionStyleModel",
      "state": {
       "description_width": ""
      }
     },
     "3e5b0bb1243d418d9cc022dcf3464698": {
      "model_module": "@jupyter-widgets/controls",
      "model_module_version": "1.5.0",
      "model_name": "HTMLModel",
      "state": {
       "layout": "IPY_MODEL_889186e9880f4d7490b0594e49cd9fc5",
       "style": "IPY_MODEL_085c6e8e40584911911e9720b8d64245",
       "value": "Validation DataLoader 0: 100%"
      }
     },
     "3ea5a60ccc834b25be0096e73c67f310": {
      "model_module": "@jupyter-widgets/base",
      "model_module_version": "1.2.0",
      "model_name": "LayoutModel",
      "state": {}
     },
     "3eab1b8b676849fd988b63bb45e5e349": {
      "model_module": "@jupyter-widgets/controls",
      "model_module_version": "1.5.0",
      "model_name": "HTMLModel",
      "state": {
       "layout": "IPY_MODEL_be73b7bc0d76400fba122c1504947282",
       "style": "IPY_MODEL_af661c2b6b9841eaa2cfc531c692059d",
       "value": "Sanity Checking DataLoader 0: 100%"
      }
     },
     "3eabe0f070f146cf93491860fab4a589": {
      "model_module": "@jupyter-widgets/controls",
      "model_module_version": "1.5.0",
      "model_name": "ProgressStyleModel",
      "state": {
       "description_width": ""
      }
     },
     "3eabf085986740b684289f30f8dab70d": {
      "model_module": "@jupyter-widgets/controls",
      "model_module_version": "1.5.0",
      "model_name": "FloatProgressModel",
      "state": {
       "layout": "IPY_MODEL_6fa78b5bf4124214bee20b2f3267a79e",
       "max": 16,
       "style": "IPY_MODEL_95e1bcf5c1a24316a145c9363d80e86d",
       "value": 16
      }
     },
     "3eb212df78d64bda983efce32c9dd8fb": {
      "model_module": "@jupyter-widgets/controls",
      "model_module_version": "1.5.0",
      "model_name": "DescriptionStyleModel",
      "state": {
       "description_width": ""
      }
     },
     "3ebf7ce8cf2e4e6fb0bc40b83ff85559": {
      "model_module": "@jupyter-widgets/base",
      "model_module_version": "1.2.0",
      "model_name": "LayoutModel",
      "state": {}
     },
     "3eced595f6cf4350b82393952477fc1b": {
      "model_module": "@jupyter-widgets/controls",
      "model_module_version": "1.5.0",
      "model_name": "ProgressStyleModel",
      "state": {
       "description_width": ""
      }
     },
     "3ef595fd0a7f483c91a406814924f05c": {
      "model_module": "@jupyter-widgets/controls",
      "model_module_version": "1.5.0",
      "model_name": "ProgressStyleModel",
      "state": {
       "description_width": ""
      }
     },
     "3efb1ce82bed4e2caed3a11d18f70bca": {
      "model_module": "@jupyter-widgets/controls",
      "model_module_version": "1.5.0",
      "model_name": "HTMLModel",
      "state": {
       "layout": "IPY_MODEL_18da8ac2fb504f00aae2f74ac8756e01",
       "style": "IPY_MODEL_6b004bf5dfa4485e945b48edf8717b1a",
       "value": " 16/16 [00:01&lt;00:00,  8.71it/s]"
      }
     },
     "3f0cde06fb7f49078fc86ed075647165": {
      "model_module": "@jupyter-widgets/base",
      "model_module_version": "1.2.0",
      "model_name": "LayoutModel",
      "state": {
       "display": "inline-flex",
       "flex_flow": "row wrap",
       "width": "100%"
      }
     },
     "3f23321daadc47238c93493874263a77": {
      "model_module": "@jupyter-widgets/base",
      "model_module_version": "1.2.0",
      "model_name": "LayoutModel",
      "state": {}
     },
     "3f27e1b1c72e4e5caab51323ec674af2": {
      "model_module": "@jupyter-widgets/base",
      "model_module_version": "1.2.0",
      "model_name": "LayoutModel",
      "state": {}
     },
     "3f3bbb6215414b5f9cc0c091bcba8393": {
      "model_module": "@jupyter-widgets/base",
      "model_module_version": "1.2.0",
      "model_name": "LayoutModel",
      "state": {}
     },
     "3f6950e728624aa99b2b5307eeee0ca8": {
      "model_module": "@jupyter-widgets/controls",
      "model_module_version": "1.5.0",
      "model_name": "ProgressStyleModel",
      "state": {
       "description_width": ""
      }
     },
     "3f6a890c6ad443ec9c450e3c95f641a1": {
      "model_module": "@jupyter-widgets/controls",
      "model_module_version": "1.5.0",
      "model_name": "ProgressStyleModel",
      "state": {
       "description_width": ""
      }
     },
     "3f82b5fe82a6456b9596e84d3e927ede": {
      "model_module": "@jupyter-widgets/base",
      "model_module_version": "1.2.0",
      "model_name": "LayoutModel",
      "state": {}
     },
     "3f853165164742409107b877d01dc305": {
      "model_module": "@jupyter-widgets/controls",
      "model_module_version": "1.5.0",
      "model_name": "DescriptionStyleModel",
      "state": {
       "description_width": ""
      }
     },
     "3fb20a76c0de44d1a45841495126664f": {
      "model_module": "@jupyter-widgets/base",
      "model_module_version": "1.2.0",
      "model_name": "LayoutModel",
      "state": {
       "display": "inline-flex",
       "flex_flow": "row wrap",
       "width": "100%"
      }
     },
     "3fb48ef1cd794d2db076d2c9af16338c": {
      "model_module": "@jupyter-widgets/base",
      "model_module_version": "1.2.0",
      "model_name": "LayoutModel",
      "state": {}
     },
     "3fb51e2809f24ebb9eccad76278bee45": {
      "model_module": "@jupyter-widgets/controls",
      "model_module_version": "1.5.0",
      "model_name": "FloatProgressModel",
      "state": {
       "layout": "IPY_MODEL_4be13c9eb13f409a80e69cd18cbac400",
       "max": 16,
       "style": "IPY_MODEL_aa870719f00f424888aea3c54fb998f1",
       "value": 16
      }
     },
     "3fbbcaf3f31d4c0ea8c586a5cd9f3934": {
      "model_module": "@jupyter-widgets/base",
      "model_module_version": "1.2.0",
      "model_name": "LayoutModel",
      "state": {}
     },
     "3fc0bce537b44e73b93b8e37b91245b9": {
      "model_module": "@jupyter-widgets/base",
      "model_module_version": "1.2.0",
      "model_name": "LayoutModel",
      "state": {
       "display": "inline-flex",
       "flex_flow": "row wrap",
       "width": "100%"
      }
     },
     "3fe11d7718d14d25bb8495d3780b173c": {
      "model_module": "@jupyter-widgets/controls",
      "model_module_version": "1.5.0",
      "model_name": "DescriptionStyleModel",
      "state": {
       "description_width": ""
      }
     },
     "3fe4756ab1564836a48b142a6481b5f7": {
      "model_module": "@jupyter-widgets/controls",
      "model_module_version": "1.5.0",
      "model_name": "DescriptionStyleModel",
      "state": {
       "description_width": ""
      }
     },
     "3ff38938295f40c2b3fe3cb458daddc5": {
      "model_module": "@jupyter-widgets/controls",
      "model_module_version": "1.5.0",
      "model_name": "DescriptionStyleModel",
      "state": {
       "description_width": ""
      }
     },
     "3ff647049e8242779d835958bbcf0e98": {
      "model_module": "@jupyter-widgets/controls",
      "model_module_version": "1.5.0",
      "model_name": "DescriptionStyleModel",
      "state": {
       "description_width": ""
      }
     },
     "4027c83440af429293709eecddbe8fe2": {
      "model_module": "@jupyter-widgets/base",
      "model_module_version": "1.2.0",
      "model_name": "LayoutModel",
      "state": {}
     },
     "403e3761da74438fb82aebd4ef14696d": {
      "model_module": "@jupyter-widgets/base",
      "model_module_version": "1.2.0",
      "model_name": "LayoutModel",
      "state": {}
     },
     "40530de6f65e48d1a40f5c05082f0ffc": {
      "model_module": "@jupyter-widgets/base",
      "model_module_version": "1.2.0",
      "model_name": "LayoutModel",
      "state": {}
     },
     "4065e96dd6a34ded8eefd3f316896568": {
      "model_module": "@jupyter-widgets/controls",
      "model_module_version": "1.5.0",
      "model_name": "HTMLModel",
      "state": {
       "layout": "IPY_MODEL_98d6be92f7e64b7eb612412722bfd994",
       "style": "IPY_MODEL_7aa475939c25428a903c6f6f7e4db041",
       "value": " 16/16 [00:01&lt;00:00, 14.56it/s]"
      }
     },
     "4067cbd603c142749d740a4350942edc": {
      "model_module": "@jupyter-widgets/base",
      "model_module_version": "1.2.0",
      "model_name": "LayoutModel",
      "state": {
       "display": "inline-flex",
       "flex_flow": "row wrap",
       "width": "100%"
      }
     },
     "4097750e70a946aa9843a25e2296aa7a": {
      "model_module": "@jupyter-widgets/base",
      "model_module_version": "1.2.0",
      "model_name": "LayoutModel",
      "state": {
       "display": "inline-flex",
       "flex_flow": "row wrap",
       "width": "100%"
      }
     },
     "409c2a8df1ad4369a39707d49d814ece": {
      "model_module": "@jupyter-widgets/base",
      "model_module_version": "1.2.0",
      "model_name": "LayoutModel",
      "state": {
       "display": "inline-flex",
       "flex_flow": "row wrap",
       "width": "100%"
      }
     },
     "40de66724e274b3bb3cd487d7f9495d0": {
      "model_module": "@jupyter-widgets/controls",
      "model_module_version": "1.5.0",
      "model_name": "ProgressStyleModel",
      "state": {
       "description_width": ""
      }
     },
     "40e2ab5087e54f8bb2626d3a7fd0b6db": {
      "model_module": "@jupyter-widgets/base",
      "model_module_version": "1.2.0",
      "model_name": "LayoutModel",
      "state": {
       "display": "inline-flex",
       "flex_flow": "row wrap",
       "width": "100%"
      }
     },
     "411784faec8d47d19c3e7b88630c09bc": {
      "model_module": "@jupyter-widgets/controls",
      "model_module_version": "1.5.0",
      "model_name": "HTMLModel",
      "state": {
       "layout": "IPY_MODEL_03beb59841664dd0b6f32ae97d93cb59",
       "style": "IPY_MODEL_f274d8ee3ec8456d961a28bb8593173e",
       "value": "Epoch 16:  19%"
      }
     },
     "411a878a6b784f4699b02b42df44fc1f": {
      "model_module": "@jupyter-widgets/controls",
      "model_module_version": "1.5.0",
      "model_name": "HBoxModel",
      "state": {
       "children": [
        "IPY_MODEL_0c5cf967bb464bedaf9c00e098029739",
        "IPY_MODEL_da9d1cea12ba46219f4eeb08efa65a2a",
        "IPY_MODEL_987dd8b726714937936aece76ec300f2"
       ],
       "layout": "IPY_MODEL_7d07da2a5ad4476ca93af8650fe04ab8"
      }
     },
     "412f34cd353d46b5a6247796a658f32a": {
      "model_module": "@jupyter-widgets/controls",
      "model_module_version": "1.5.0",
      "model_name": "DescriptionStyleModel",
      "state": {
       "description_width": ""
      }
     },
     "4137a304151f4e64bb74d0d803ca31b5": {
      "model_module": "@jupyter-widgets/controls",
      "model_module_version": "1.5.0",
      "model_name": "FloatProgressModel",
      "state": {
       "layout": "IPY_MODEL_e465fbae8bc54c6a95d56dbdade5e5cb",
       "max": 16,
       "style": "IPY_MODEL_eb49676f25d6409dbd9a2a762b7b49bf",
       "value": 16
      }
     },
     "4146bd92588c4fdba602b9495b03bb64": {
      "model_module": "@jupyter-widgets/base",
      "model_module_version": "1.2.0",
      "model_name": "LayoutModel",
      "state": {
       "flex": "2"
      }
     },
     "414758e12313475f8c08348449425ef0": {
      "model_module": "@jupyter-widgets/base",
      "model_module_version": "1.2.0",
      "model_name": "LayoutModel",
      "state": {}
     },
     "4160c694dcf4479688621cd902d143e8": {
      "model_module": "@jupyter-widgets/controls",
      "model_module_version": "1.5.0",
      "model_name": "HTMLModel",
      "state": {
       "layout": "IPY_MODEL_aa37d3483c474c79a0fc4f1be0db4c4d",
       "style": "IPY_MODEL_57a5d52f06e142c5afa405e258a0b437",
       "value": "Validation DataLoader 0: 100%"
      }
     },
     "416ac11560e84801a2c1d937c0162218": {
      "model_module": "@jupyter-widgets/controls",
      "model_module_version": "1.5.0",
      "model_name": "HBoxModel",
      "state": {
       "children": [
        "IPY_MODEL_3d280136857a4eb0aa47df96c6a9551b",
        "IPY_MODEL_479c48b92f7b400f8abdeacb41c18426",
        "IPY_MODEL_b1794907661445ef949195bc57d565fc"
       ],
       "layout": "IPY_MODEL_f70b04caef2448debb7d6ec0a77d33f9"
      }
     },
     "41842b20a6dd42ab842e095bafacd332": {
      "model_module": "@jupyter-widgets/base",
      "model_module_version": "1.2.0",
      "model_name": "LayoutModel",
      "state": {
       "flex": "2"
      }
     },
     "41859083b5ba48e493529d6795562f08": {
      "model_module": "@jupyter-widgets/controls",
      "model_module_version": "1.5.0",
      "model_name": "HTMLModel",
      "state": {
       "layout": "IPY_MODEL_20f109a444db4344b35ff394831e11b7",
       "style": "IPY_MODEL_2f99e76f5bdd4fed9ffd3eebfede0c5b",
       "value": " 16/16 [00:05&lt;00:00,  3.45it/s]"
      }
     },
     "418ebe3f060244bd9383971d48167c5d": {
      "model_module": "@jupyter-widgets/controls",
      "model_module_version": "1.5.0",
      "model_name": "DescriptionStyleModel",
      "state": {
       "description_width": ""
      }
     },
     "4192895fd5094883b6740c66121b647e": {
      "model_module": "@jupyter-widgets/base",
      "model_module_version": "1.2.0",
      "model_name": "LayoutModel",
      "state": {}
     },
     "41b3863cfd6c472cb6d24fba310253a3": {
      "model_module": "@jupyter-widgets/base",
      "model_module_version": "1.2.0",
      "model_name": "LayoutModel",
      "state": {
       "flex": "2"
      }
     },
     "41bd2e76dcf9453c8f23e79bd950be97": {
      "model_module": "@jupyter-widgets/controls",
      "model_module_version": "1.5.0",
      "model_name": "ProgressStyleModel",
      "state": {
       "description_width": ""
      }
     },
     "41c54c086290497ea981311baf42e6b3": {
      "model_module": "@jupyter-widgets/controls",
      "model_module_version": "1.5.0",
      "model_name": "ProgressStyleModel",
      "state": {
       "description_width": ""
      }
     },
     "4202ddc121994d219d58a59cb52b680f": {
      "model_module": "@jupyter-widgets/base",
      "model_module_version": "1.2.0",
      "model_name": "LayoutModel",
      "state": {
       "flex": "2"
      }
     },
     "4206031f698e4f5fbda777bd4084d738": {
      "model_module": "@jupyter-widgets/controls",
      "model_module_version": "1.5.0",
      "model_name": "DescriptionStyleModel",
      "state": {
       "description_width": ""
      }
     },
     "420c72f3b3574c2b8e3c67bb82bb646d": {
      "model_module": "@jupyter-widgets/base",
      "model_module_version": "1.2.0",
      "model_name": "LayoutModel",
      "state": {
       "flex": "2"
      }
     },
     "4212b5c08b7547ffa188966fdeff189a": {
      "model_module": "@jupyter-widgets/controls",
      "model_module_version": "1.5.0",
      "model_name": "HTMLModel",
      "state": {
       "layout": "IPY_MODEL_1f65ff8996ca4e0b8f34b784884c5e12",
       "style": "IPY_MODEL_be3389a38e2947228f43bb4c0fcc4339",
       "value": " 16/16 [00:01&lt;00:00,  7.13it/s]"
      }
     },
     "42179d500a124fe9b4c02e0f522ecdaa": {
      "model_module": "@jupyter-widgets/controls",
      "model_module_version": "1.5.0",
      "model_name": "HTMLModel",
      "state": {
       "layout": "IPY_MODEL_44250ad928e14a0b93b250e3efcb2907",
       "style": "IPY_MODEL_ff95284c7c194ac7875c33ff16eb2363",
       "value": "Sanity Checking DataLoader 0: 100%"
      }
     },
     "42186841785c4d6b8e0ac54938102e87": {
      "model_module": "@jupyter-widgets/base",
      "model_module_version": "1.2.0",
      "model_name": "LayoutModel",
      "state": {
       "flex": "2"
      }
     },
     "4237345b66dc45299482ae737475bb7a": {
      "model_module": "@jupyter-widgets/controls",
      "model_module_version": "1.5.0",
      "model_name": "ProgressStyleModel",
      "state": {
       "description_width": ""
      }
     },
     "426a635256714315ba35902fedf471a7": {
      "model_module": "@jupyter-widgets/controls",
      "model_module_version": "1.5.0",
      "model_name": "HTMLModel",
      "state": {
       "layout": "IPY_MODEL_6a258ae6194a404eb6e86dc3701d589e",
       "style": "IPY_MODEL_f8dc88729a9a47d8a5ae682858332466",
       "value": "Validation DataLoader 0: 100%"
      }
     },
     "426c133476074d9e88d650e3857af5d3": {
      "model_module": "@jupyter-widgets/base",
      "model_module_version": "1.2.0",
      "model_name": "LayoutModel",
      "state": {
       "flex": "2"
      }
     },
     "4271834a650e409b9807dbff1f5646f4": {
      "model_module": "@jupyter-widgets/base",
      "model_module_version": "1.2.0",
      "model_name": "LayoutModel",
      "state": {}
     },
     "42859d76b5ad4ebdb60e25148ea2ab61": {
      "model_module": "@jupyter-widgets/controls",
      "model_module_version": "1.5.0",
      "model_name": "HTMLModel",
      "state": {
       "layout": "IPY_MODEL_0dd2efc1fe2941319dcf92597a3022f7",
       "style": "IPY_MODEL_6c18a2133e5b4c37a55951c787fa5c67",
       "value": "Validation DataLoader 0: 100%"
      }
     },
     "42c2a93b43264229897475189b0965ef": {
      "model_module": "@jupyter-widgets/base",
      "model_module_version": "1.2.0",
      "model_name": "LayoutModel",
      "state": {
       "display": "inline-flex",
       "flex_flow": "row wrap",
       "width": "100%"
      }
     },
     "42db6647f4a6416ebf298e5d76c00a45": {
      "model_module": "@jupyter-widgets/controls",
      "model_module_version": "1.5.0",
      "model_name": "HTMLModel",
      "state": {
       "layout": "IPY_MODEL_81970ad9bfa14d8985bc2805e484408e",
       "style": "IPY_MODEL_bd1eb4fb315c41599e7bc8d800adc917",
       "value": "Validation DataLoader 0: 100%"
      }
     },
     "42dc14552b454fb5bccf709c5388cf59": {
      "model_module": "@jupyter-widgets/controls",
      "model_module_version": "1.5.0",
      "model_name": "FloatProgressModel",
      "state": {
       "layout": "IPY_MODEL_8f6620f90b7846279f1ccbdda4e18b4f",
       "max": 16,
       "style": "IPY_MODEL_75b92cbe4df245a1af01438ddf5e4541",
       "value": 16
      }
     },
     "430debe394214598a5866626f9035a37": {
      "model_module": "@jupyter-widgets/controls",
      "model_module_version": "1.5.0",
      "model_name": "FloatProgressModel",
      "state": {
       "layout": "IPY_MODEL_a1f8062cc431440b9bd83da6fa452d0f",
       "max": 2,
       "style": "IPY_MODEL_4e88ec10969a47b8965fae891cd34c16",
       "value": 2
      }
     },
     "4320eac43d4a4adab2172eaffdcacf7f": {
      "model_module": "@jupyter-widgets/controls",
      "model_module_version": "1.5.0",
      "model_name": "DescriptionStyleModel",
      "state": {
       "description_width": ""
      }
     },
     "4331d9fe43274b4c9fdb6e395a4941b7": {
      "model_module": "@jupyter-widgets/controls",
      "model_module_version": "1.5.0",
      "model_name": "ProgressStyleModel",
      "state": {
       "description_width": ""
      }
     },
     "43323037feca4b5c818e816fcece8b11": {
      "model_module": "@jupyter-widgets/base",
      "model_module_version": "1.2.0",
      "model_name": "LayoutModel",
      "state": {
       "display": "inline-flex",
       "flex_flow": "row wrap",
       "width": "100%"
      }
     },
     "435a06d2891c4387bbdf960bc7e8df5a": {
      "model_module": "@jupyter-widgets/base",
      "model_module_version": "1.2.0",
      "model_name": "LayoutModel",
      "state": {}
     },
     "43adbeda8c4245fe95ce8eb116ae2dec": {
      "model_module": "@jupyter-widgets/controls",
      "model_module_version": "1.5.0",
      "model_name": "FloatProgressModel",
      "state": {
       "layout": "IPY_MODEL_f63fd6758b304d568bd7dfcdc59486ce",
       "max": 16,
       "style": "IPY_MODEL_74df45bd34b74eb69b906b86af6288a3",
       "value": 16
      }
     },
     "43af6927494c4da0bfefcec490e63df9": {
      "model_module": "@jupyter-widgets/controls",
      "model_module_version": "1.5.0",
      "model_name": "DescriptionStyleModel",
      "state": {
       "description_width": ""
      }
     },
     "43c1ee2587c34486ba6a762233f1db93": {
      "model_module": "@jupyter-widgets/controls",
      "model_module_version": "1.5.0",
      "model_name": "HTMLModel",
      "state": {
       "layout": "IPY_MODEL_dff5517ad4e5480bb42775a6ce9f83b3",
       "style": "IPY_MODEL_cb0ff3da73854992b89bc3182e56acab",
       "value": " 16/16 [00:04&lt;00:00,  3.77it/s]"
      }
     },
     "43c58123843e4286b74d44e102d2795d": {
      "model_module": "@jupyter-widgets/controls",
      "model_module_version": "1.5.0",
      "model_name": "DescriptionStyleModel",
      "state": {
       "description_width": ""
      }
     },
     "43ca02f8f31a4adba69948107a451848": {
      "model_module": "@jupyter-widgets/controls",
      "model_module_version": "1.5.0",
      "model_name": "HTMLModel",
      "state": {
       "layout": "IPY_MODEL_8cb8e9650f7a4cdfa4664ce9fc18425d",
       "style": "IPY_MODEL_e7e59412691b4db1b79d8b974c0028e3",
       "value": "Validation DataLoader 0: 100%"
      }
     },
     "43fd4778b1dd46c3b0bd33d100eba0bd": {
      "model_module": "@jupyter-widgets/base",
      "model_module_version": "1.2.0",
      "model_name": "LayoutModel",
      "state": {}
     },
     "440023c09d8f4ee7bff3d0ffb754c893": {
      "model_module": "@jupyter-widgets/controls",
      "model_module_version": "1.5.0",
      "model_name": "HTMLModel",
      "state": {
       "layout": "IPY_MODEL_aefbfd34d63f40dc91516c2909acbf7c",
       "style": "IPY_MODEL_8195daebf46e49c59da4a8e6b58f2fe6",
       "value": "Sanity Checking DataLoader 0: 100%"
      }
     },
     "4415ac40d19a4dfba527fbe9cec94faf": {
      "model_module": "@jupyter-widgets/controls",
      "model_module_version": "1.5.0",
      "model_name": "DescriptionStyleModel",
      "state": {
       "description_width": ""
      }
     },
     "44250ad928e14a0b93b250e3efcb2907": {
      "model_module": "@jupyter-widgets/base",
      "model_module_version": "1.2.0",
      "model_name": "LayoutModel",
      "state": {}
     },
     "442c05b108a04de4ad48163d8abad124": {
      "model_module": "@jupyter-widgets/base",
      "model_module_version": "1.2.0",
      "model_name": "LayoutModel",
      "state": {
       "display": "inline-flex",
       "flex_flow": "row wrap",
       "width": "100%"
      }
     },
     "4439b6b9bd684188be25ad8ca1e7db4e": {
      "model_module": "@jupyter-widgets/controls",
      "model_module_version": "1.5.0",
      "model_name": "ProgressStyleModel",
      "state": {
       "description_width": ""
      }
     },
     "44428b72b78d42e5829f5a7420df97f5": {
      "model_module": "@jupyter-widgets/controls",
      "model_module_version": "1.5.0",
      "model_name": "ProgressStyleModel",
      "state": {
       "description_width": ""
      }
     },
     "44580158c9854da8bc6ba2d0ae9c0d88": {
      "model_module": "@jupyter-widgets/base",
      "model_module_version": "1.2.0",
      "model_name": "LayoutModel",
      "state": {}
     },
     "4496b0c8ef62428b99b1a82ea897aa7a": {
      "model_module": "@jupyter-widgets/base",
      "model_module_version": "1.2.0",
      "model_name": "LayoutModel",
      "state": {}
     },
     "449a7c0637bc401284a99cc03c116248": {
      "model_module": "@jupyter-widgets/controls",
      "model_module_version": "1.5.0",
      "model_name": "FloatProgressModel",
      "state": {
       "layout": "IPY_MODEL_8d0ae175f28348feb13ec073650e29d2",
       "max": 77,
       "style": "IPY_MODEL_ca20052aac8c4ee2bc641ab355d6bc81",
       "value": 36
      }
     },
     "449ca9ba0e5548458ffcaaf1ba67faca": {
      "model_module": "@jupyter-widgets/controls",
      "model_module_version": "1.5.0",
      "model_name": "FloatProgressModel",
      "state": {
       "layout": "IPY_MODEL_2a0bae95a0394fc19e3032b8002ca2a3",
       "max": 16,
       "style": "IPY_MODEL_ac9be40a68f74de988d1fd8a2df1ac7a",
       "value": 16
      }
     },
     "44af6109fc1a4d0aa8c4a33c54ede7f5": {
      "model_module": "@jupyter-widgets/controls",
      "model_module_version": "1.5.0",
      "model_name": "HTMLModel",
      "state": {
       "layout": "IPY_MODEL_5efce53d476644d8b1a2de2f09f39187",
       "style": "IPY_MODEL_90d54d5850e8474399e7aeaadbc7e31b",
       "value": " 16/16 [00:00&lt;00:00, 21.13it/s]"
      }
     },
     "44c80e958c9e404da15a4a0f2c92eeb3": {
      "model_module": "@jupyter-widgets/controls",
      "model_module_version": "1.5.0",
      "model_name": "FloatProgressModel",
      "state": {
       "layout": "IPY_MODEL_3cb90e6bfa304cd195a3a5a00408fcb1",
       "max": 16,
       "style": "IPY_MODEL_c1422da9c66344baadae237da6b88005",
       "value": 16
      }
     },
     "44ca2507eb27411f8c4c289bd0749506": {
      "model_module": "@jupyter-widgets/controls",
      "model_module_version": "1.5.0",
      "model_name": "HTMLModel",
      "state": {
       "layout": "IPY_MODEL_b46b5f132b0f43ab84356e84f1f6e5b4",
       "style": "IPY_MODEL_0b898d22b16849488594d4cc92c495cf",
       "value": "Validation DataLoader 0: 100%"
      }
     },
     "44e5062820644b2c865d9b465e6f8b20": {
      "model_module": "@jupyter-widgets/base",
      "model_module_version": "1.2.0",
      "model_name": "LayoutModel",
      "state": {}
     },
     "44fa70ff3e41469c9e007e9ad4b0fc95": {
      "model_module": "@jupyter-widgets/controls",
      "model_module_version": "1.5.0",
      "model_name": "FloatProgressModel",
      "state": {
       "layout": "IPY_MODEL_ef78663ff4dd487ebd432048b5463732",
       "max": 16,
       "style": "IPY_MODEL_63143bfc27cf4fe59eefd2907c741c1d",
       "value": 16
      }
     },
     "45070fd7d6fe45259f29228280d09e93": {
      "model_module": "@jupyter-widgets/controls",
      "model_module_version": "1.5.0",
      "model_name": "DescriptionStyleModel",
      "state": {
       "description_width": ""
      }
     },
     "451b6de83d144df6b197e75fbbb0c4c7": {
      "model_module": "@jupyter-widgets/controls",
      "model_module_version": "1.5.0",
      "model_name": "DescriptionStyleModel",
      "state": {
       "description_width": ""
      }
     },
     "451ca9bfad434f228130b02e9a26c484": {
      "model_module": "@jupyter-widgets/controls",
      "model_module_version": "1.5.0",
      "model_name": "FloatProgressModel",
      "state": {
       "layout": "IPY_MODEL_26837635e482419582689f312cd64c3f",
       "max": 16,
       "style": "IPY_MODEL_59e59addd03f4889ab3a097a3c294182",
       "value": 16
      }
     },
     "45225f4bbc0f4751b47445ea571ee380": {
      "model_module": "@jupyter-widgets/controls",
      "model_module_version": "1.5.0",
      "model_name": "DescriptionStyleModel",
      "state": {
       "description_width": ""
      }
     },
     "453138e16dbc4bdb8240416d26f9e6e7": {
      "model_module": "@jupyter-widgets/controls",
      "model_module_version": "1.5.0",
      "model_name": "HTMLModel",
      "state": {
       "layout": "IPY_MODEL_dc6197b94f87406e9a0aaf3a0f6eb284",
       "style": "IPY_MODEL_aedf636c8d5c49aaa4061dc3cc9f76a2",
       "value": "Validation DataLoader 0: 100%"
      }
     },
     "454a3f7d8f9a4392be41a7dc5de5f473": {
      "model_module": "@jupyter-widgets/base",
      "model_module_version": "1.2.0",
      "model_name": "LayoutModel",
      "state": {}
     },
     "454e4105e14a4517af5445b607c331e2": {
      "model_module": "@jupyter-widgets/controls",
      "model_module_version": "1.5.0",
      "model_name": "HTMLModel",
      "state": {
       "layout": "IPY_MODEL_dbe5f1a1523242bcab0a1dd38a98a138",
       "style": "IPY_MODEL_0079eee807274f04a1b2e001ebef7133",
       "value": "Validation DataLoader 0: 100%"
      }
     },
     "455e1b00e17c46da96088313305ff04a": {
      "model_module": "@jupyter-widgets/controls",
      "model_module_version": "1.5.0",
      "model_name": "HTMLModel",
      "state": {
       "layout": "IPY_MODEL_3fbbcaf3f31d4c0ea8c586a5cd9f3934",
       "style": "IPY_MODEL_0a9f120b2fa842518103d696af335560",
       "value": " 18/77 [00:15&lt;00:50,  1.16it/s, loss=nan, v_num=H-41]"
      }
     },
     "45a71ad7e0d04f3ab31f403c4af57042": {
      "model_module": "@jupyter-widgets/base",
      "model_module_version": "1.2.0",
      "model_name": "LayoutModel",
      "state": {
       "flex": "2"
      }
     },
     "45ae515bc5f24aebabcdcd96b5fbc29d": {
      "model_module": "@jupyter-widgets/base",
      "model_module_version": "1.2.0",
      "model_name": "LayoutModel",
      "state": {
       "display": "inline-flex",
       "flex_flow": "row wrap",
       "width": "100%"
      }
     },
     "45c3562521184156b44e1f2eb1b5e781": {
      "model_module": "@jupyter-widgets/controls",
      "model_module_version": "1.5.0",
      "model_name": "HTMLModel",
      "state": {
       "layout": "IPY_MODEL_fa5c62620f144a2492feb4e864638a78",
       "style": "IPY_MODEL_9ed82599326140f6bfb12c7c39bec3b9",
       "value": " 16/16 [00:00&lt;00:00, 16.43it/s]"
      }
     },
     "45c993921ece49c88265b67a23206506": {
      "model_module": "@jupyter-widgets/controls",
      "model_module_version": "1.5.0",
      "model_name": "HTMLModel",
      "state": {
       "layout": "IPY_MODEL_0579a234b7754006a6fae301185b6c96",
       "style": "IPY_MODEL_850e677dd4484ff68110bf869761b818",
       "value": " 2/2 [00:00&lt;00:00, 29.41it/s]"
      }
     },
     "45d52dfd43314cb8a37ccbcbc05bea47": {
      "model_module": "@jupyter-widgets/base",
      "model_module_version": "1.2.0",
      "model_name": "LayoutModel",
      "state": {}
     },
     "45ebdaddc4e8460dace10294ff766931": {
      "model_module": "@jupyter-widgets/controls",
      "model_module_version": "1.5.0",
      "model_name": "HTMLModel",
      "state": {
       "layout": "IPY_MODEL_328e0e7e38b84774a851a6d6a8d1490a",
       "style": "IPY_MODEL_9b73e4e0ae794af5bd7e4280f4eb9371",
       "value": " 0/77 [00:00&lt;?, ?it/s]"
      }
     },
     "460bdffadec84745b2dd82d91a969009": {
      "model_module": "@jupyter-widgets/base",
      "model_module_version": "1.2.0",
      "model_name": "LayoutModel",
      "state": {}
     },
     "461f5c60302d4c68be7f31a855c79938": {
      "model_module": "@jupyter-widgets/base",
      "model_module_version": "1.2.0",
      "model_name": "LayoutModel",
      "state": {}
     },
     "462aa6299c4241778915a918634c41bc": {
      "model_module": "@jupyter-widgets/controls",
      "model_module_version": "1.5.0",
      "model_name": "HTMLModel",
      "state": {
       "layout": "IPY_MODEL_496a286cbde14e5ca3b7f9ac6b51c97e",
       "style": "IPY_MODEL_dba289776d644dba9167ddcf688794a9",
       "value": "Validation DataLoader 0: 100%"
      }
     },
     "464f440269714d06934d748d99588ec3": {
      "model_module": "@jupyter-widgets/controls",
      "model_module_version": "1.5.0",
      "model_name": "ProgressStyleModel",
      "state": {
       "description_width": ""
      }
     },
     "4655435ba0f14f52b713004faf4b4ebc": {
      "model_module": "@jupyter-widgets/base",
      "model_module_version": "1.2.0",
      "model_name": "LayoutModel",
      "state": {
       "display": "inline-flex",
       "flex_flow": "row wrap",
       "width": "100%"
      }
     },
     "4661ef6cd9ee4a01936d78a93ca97ed4": {
      "model_module": "@jupyter-widgets/base",
      "model_module_version": "1.2.0",
      "model_name": "LayoutModel",
      "state": {
       "flex": "2"
      }
     },
     "46797191cf374d9ba6c320510d5485c6": {
      "model_module": "@jupyter-widgets/controls",
      "model_module_version": "1.5.0",
      "model_name": "HBoxModel",
      "state": {
       "children": [
        "IPY_MODEL_23099a015f8d48deb804a1a0c6508cf5",
        "IPY_MODEL_110d50cd113f4a488824e13f4db902a4",
        "IPY_MODEL_0cd90cdccfd54726a2cb95f7ac322c92"
       ],
       "layout": "IPY_MODEL_b7e237f5c2f24a6aaea907c2a3a55e2c"
      }
     },
     "46803a4bc5884aa4ae4e7c9f566b8e25": {
      "model_module": "@jupyter-widgets/controls",
      "model_module_version": "1.5.0",
      "model_name": "HTMLModel",
      "state": {
       "layout": "IPY_MODEL_7cb33f03039c44ebb868d7f65c2b97f4",
       "style": "IPY_MODEL_13280e8217f44effb8e2e5d9b64c049a",
       "value": "Validation DataLoader 0: 100%"
      }
     },
     "468091f2ebc5496c8abea16b236f8568": {
      "model_module": "@jupyter-widgets/controls",
      "model_module_version": "1.5.0",
      "model_name": "FloatProgressModel",
      "state": {
       "layout": "IPY_MODEL_eb145f7c232a4d96b4d003cf3a8ef535",
       "max": 16,
       "style": "IPY_MODEL_a5a893be610e4b78a9b5882fb3cbee37",
       "value": 16
      }
     },
     "468ba7cdce554c5181f036d81cb1c0dd": {
      "model_module": "@jupyter-widgets/controls",
      "model_module_version": "1.5.0",
      "model_name": "FloatProgressModel",
      "state": {
       "layout": "IPY_MODEL_10dec141abb544b3a223452f4b21024e",
       "max": 16,
       "style": "IPY_MODEL_9ec7f5df5af243feb541583b4d67a315",
       "value": 16
      }
     },
     "468bdb5d6d9b4b81bc5082588061fca3": {
      "model_module": "@jupyter-widgets/base",
      "model_module_version": "1.2.0",
      "model_name": "LayoutModel",
      "state": {}
     },
     "46b75ac5f1fe4d02a5f0699b94326356": {
      "model_module": "@jupyter-widgets/base",
      "model_module_version": "1.2.0",
      "model_name": "LayoutModel",
      "state": {
       "flex": "2"
      }
     },
     "46cc667e60874227b0ae705ea4948cb0": {
      "model_module": "@jupyter-widgets/controls",
      "model_module_version": "1.5.0",
      "model_name": "DescriptionStyleModel",
      "state": {
       "description_width": ""
      }
     },
     "46d9543b3be5442d948c57fb731555c9": {
      "model_module": "@jupyter-widgets/controls",
      "model_module_version": "1.5.0",
      "model_name": "ProgressStyleModel",
      "state": {
       "description_width": ""
      }
     },
     "46e23c55bffd4edeaf7ff124b57677b1": {
      "model_module": "@jupyter-widgets/base",
      "model_module_version": "1.2.0",
      "model_name": "LayoutModel",
      "state": {}
     },
     "47324a293ebf4e77b9d1805ee35c35e7": {
      "model_module": "@jupyter-widgets/controls",
      "model_module_version": "1.5.0",
      "model_name": "DescriptionStyleModel",
      "state": {
       "description_width": ""
      }
     },
     "4733c6fca6f84000bc7d21993a3c9011": {
      "model_module": "@jupyter-widgets/base",
      "model_module_version": "1.2.0",
      "model_name": "LayoutModel",
      "state": {}
     },
     "47465e692ae24efab9a7ae8f4c0368fd": {
      "model_module": "@jupyter-widgets/base",
      "model_module_version": "1.2.0",
      "model_name": "LayoutModel",
      "state": {
       "display": "inline-flex",
       "flex_flow": "row wrap",
       "width": "100%"
      }
     },
     "4782097d84b84c5fbeccafb136313803": {
      "model_module": "@jupyter-widgets/base",
      "model_module_version": "1.2.0",
      "model_name": "LayoutModel",
      "state": {}
     },
     "4784f2af6ef14dd18b1ded95627025a0": {
      "model_module": "@jupyter-widgets/base",
      "model_module_version": "1.2.0",
      "model_name": "LayoutModel",
      "state": {
       "display": "inline-flex",
       "flex_flow": "row wrap",
       "width": "100%"
      }
     },
     "4794ffcbe9ee4b768c379eb2ad47dc9e": {
      "model_module": "@jupyter-widgets/base",
      "model_module_version": "1.2.0",
      "model_name": "LayoutModel",
      "state": {}
     },
     "479c48b92f7b400f8abdeacb41c18426": {
      "model_module": "@jupyter-widgets/controls",
      "model_module_version": "1.5.0",
      "model_name": "FloatProgressModel",
      "state": {
       "layout": "IPY_MODEL_1eafc67b176545df91a296cd9d325f27",
       "max": 77,
       "style": "IPY_MODEL_20224f318dd54889880195fc542a5380",
       "value": 56
      }
     },
     "479fd4f4b89a4f83b57f9280f9f31add": {
      "model_module": "@jupyter-widgets/base",
      "model_module_version": "1.2.0",
      "model_name": "LayoutModel",
      "state": {}
     },
     "47a0c5f9fe194bf79aafd2bbcb173af5": {
      "model_module": "@jupyter-widgets/controls",
      "model_module_version": "1.5.0",
      "model_name": "HTMLModel",
      "state": {
       "layout": "IPY_MODEL_73b8fb0f5ca04ba4bdab0b9ea1ec25b8",
       "style": "IPY_MODEL_2237b331a99c4d448bb534ee77962edd",
       "value": "Validation DataLoader 0: 100%"
      }
     },
     "47ae73ab146847e09f576b576cef9fe1": {
      "model_module": "@jupyter-widgets/base",
      "model_module_version": "1.2.0",
      "model_name": "LayoutModel",
      "state": {
       "flex": "2"
      }
     },
     "47c3d983c5b04296ac6df873d567e094": {
      "model_module": "@jupyter-widgets/controls",
      "model_module_version": "1.5.0",
      "model_name": "HTMLModel",
      "state": {
       "layout": "IPY_MODEL_77a795a2c1aa412981fd9c7f855d2d30",
       "style": "IPY_MODEL_9c72c21fa3ee48ea8fe0ae655f770e59",
       "value": "Epoch 0:   0%"
      }
     },
     "47c7f70e959d4ec2a3bda0813e04b7d5": {
      "model_module": "@jupyter-widgets/base",
      "model_module_version": "1.2.0",
      "model_name": "LayoutModel",
      "state": {
       "display": "inline-flex",
       "flex_flow": "row wrap",
       "width": "100%"
      }
     },
     "47d34b9118ab4038aa24bf075fb964aa": {
      "model_module": "@jupyter-widgets/base",
      "model_module_version": "1.2.0",
      "model_name": "LayoutModel",
      "state": {}
     },
     "47d7d89003e143839dd721dfb3558a97": {
      "model_module": "@jupyter-widgets/base",
      "model_module_version": "1.2.0",
      "model_name": "LayoutModel",
      "state": {
       "display": "inline-flex",
       "flex_flow": "row wrap",
       "width": "100%"
      }
     },
     "47e466ff7e414177aa42411b196fe5dc": {
      "model_module": "@jupyter-widgets/base",
      "model_module_version": "1.2.0",
      "model_name": "LayoutModel",
      "state": {}
     },
     "48077472c70b4a648f3821d6e5fb30af": {
      "model_module": "@jupyter-widgets/controls",
      "model_module_version": "1.5.0",
      "model_name": "FloatProgressModel",
      "state": {
       "layout": "IPY_MODEL_2105e002ebd94d14ad4826dd9b677d22",
       "max": 16,
       "style": "IPY_MODEL_e1cd786f6da24f9c93fc0c51056bd45d",
       "value": 16
      }
     },
     "483362584cc84ffaa0d863a5cdbc05eb": {
      "model_module": "@jupyter-widgets/controls",
      "model_module_version": "1.5.0",
      "model_name": "DescriptionStyleModel",
      "state": {
       "description_width": ""
      }
     },
     "484162e5f2a04f45a0dacdae266c44a1": {
      "model_module": "@jupyter-widgets/controls",
      "model_module_version": "1.5.0",
      "model_name": "HTMLModel",
      "state": {
       "layout": "IPY_MODEL_a34e323bca5b4bca9cb7473d64cf9d1f",
       "style": "IPY_MODEL_ac27786f19c5442989ccf18d81e9708b",
       "value": " 2/2 [00:00&lt;00:00,  3.35it/s]"
      }
     },
     "485aff235b8d4a04b28e9ad31fd14fea": {
      "model_module": "@jupyter-widgets/controls",
      "model_module_version": "1.5.0",
      "model_name": "DescriptionStyleModel",
      "state": {
       "description_width": ""
      }
     },
     "485c5ebdadf24431bb9676985952cbbc": {
      "model_module": "@jupyter-widgets/base",
      "model_module_version": "1.2.0",
      "model_name": "LayoutModel",
      "state": {}
     },
     "489806c0eeeb42cb85548ecdbdb8c623": {
      "model_module": "@jupyter-widgets/base",
      "model_module_version": "1.2.0",
      "model_name": "LayoutModel",
      "state": {
       "display": "inline-flex",
       "flex_flow": "row wrap",
       "width": "100%"
      }
     },
     "48b5172ab6eb401c8846706570db7d60": {
      "model_module": "@jupyter-widgets/base",
      "model_module_version": "1.2.0",
      "model_name": "LayoutModel",
      "state": {
       "flex": "2"
      }
     },
     "48b9a5d4a7444b03a426e726f913016f": {
      "model_module": "@jupyter-widgets/controls",
      "model_module_version": "1.5.0",
      "model_name": "FloatProgressModel",
      "state": {
       "layout": "IPY_MODEL_b7db708ded48426d9324cfb42609427b",
       "max": 16,
       "style": "IPY_MODEL_81af49b63e1f4c5fb518a866b9c8be60",
       "value": 16
      }
     },
     "48cf348a9c884c1ebdc0bf28f229cc31": {
      "model_module": "@jupyter-widgets/controls",
      "model_module_version": "1.5.0",
      "model_name": "HTMLModel",
      "state": {
       "layout": "IPY_MODEL_3bed4d2cc9d846ef8aa9899713548c55",
       "style": "IPY_MODEL_131bd9fa99a846628a37f9ffe1707ce9",
       "value": "Validation DataLoader 0: 100%"
      }
     },
     "48d2a1aad494487ea184e544e760a4a4": {
      "model_module": "@jupyter-widgets/base",
      "model_module_version": "1.2.0",
      "model_name": "LayoutModel",
      "state": {
       "flex": "2"
      }
     },
     "48dd95875f664819a077954e7705187c": {
      "model_module": "@jupyter-widgets/controls",
      "model_module_version": "1.5.0",
      "model_name": "DescriptionStyleModel",
      "state": {
       "description_width": ""
      }
     },
     "48e0f10684774cb89223a29b8031415d": {
      "model_module": "@jupyter-widgets/base",
      "model_module_version": "1.2.0",
      "model_name": "LayoutModel",
      "state": {
       "display": "inline-flex",
       "flex_flow": "row wrap",
       "width": "100%"
      }
     },
     "48e1454739474111a41198bb83fc4abf": {
      "model_module": "@jupyter-widgets/controls",
      "model_module_version": "1.5.0",
      "model_name": "DescriptionStyleModel",
      "state": {
       "description_width": ""
      }
     },
     "48ed4a1aecce43799d820f7e3085c766": {
      "model_module": "@jupyter-widgets/controls",
      "model_module_version": "1.5.0",
      "model_name": "DescriptionStyleModel",
      "state": {
       "description_width": ""
      }
     },
     "48fb9e8c11c9402586e5ac25a7fa2ce5": {
      "model_module": "@jupyter-widgets/base",
      "model_module_version": "1.2.0",
      "model_name": "LayoutModel",
      "state": {}
     },
     "49026cac2d1440e88de85771cc58736f": {
      "model_module": "@jupyter-widgets/controls",
      "model_module_version": "1.5.0",
      "model_name": "FloatProgressModel",
      "state": {
       "layout": "IPY_MODEL_050f2308482540088cfe1c09a5f4b56e",
       "max": 16,
       "style": "IPY_MODEL_6d56a9ef971842dd8b0f34ae8ac972e2",
       "value": 16
      }
     },
     "49225b5ee4bc4b17b8807a564f00740c": {
      "model_module": "@jupyter-widgets/base",
      "model_module_version": "1.2.0",
      "model_name": "LayoutModel",
      "state": {
       "flex": "2"
      }
     },
     "49270b81f62941599bcdddd435e41994": {
      "model_module": "@jupyter-widgets/base",
      "model_module_version": "1.2.0",
      "model_name": "LayoutModel",
      "state": {
       "flex": "2"
      }
     },
     "495455fd0bda4d2388ba82268b7bd058": {
      "model_module": "@jupyter-widgets/base",
      "model_module_version": "1.2.0",
      "model_name": "LayoutModel",
      "state": {}
     },
     "496a286cbde14e5ca3b7f9ac6b51c97e": {
      "model_module": "@jupyter-widgets/base",
      "model_module_version": "1.2.0",
      "model_name": "LayoutModel",
      "state": {}
     },
     "49a999044efd48fc879f36fd091b18c6": {
      "model_module": "@jupyter-widgets/controls",
      "model_module_version": "1.5.0",
      "model_name": "DescriptionStyleModel",
      "state": {
       "description_width": ""
      }
     },
     "49ac5817d0dd4f9fb42bceb0d2eaa61b": {
      "model_module": "@jupyter-widgets/base",
      "model_module_version": "1.2.0",
      "model_name": "LayoutModel",
      "state": {
       "display": "inline-flex",
       "flex_flow": "row wrap",
       "width": "100%"
      }
     },
     "49ad6183f97743c6925d2bfab780b873": {
      "model_module": "@jupyter-widgets/controls",
      "model_module_version": "1.5.0",
      "model_name": "DescriptionStyleModel",
      "state": {
       "description_width": ""
      }
     },
     "49d15efbe64e483890b992b542382da2": {
      "model_module": "@jupyter-widgets/controls",
      "model_module_version": "1.5.0",
      "model_name": "DescriptionStyleModel",
      "state": {
       "description_width": ""
      }
     },
     "49e76f9599cb42e7aad6f77f080d7de3": {
      "model_module": "@jupyter-widgets/controls",
      "model_module_version": "1.5.0",
      "model_name": "FloatProgressModel",
      "state": {
       "layout": "IPY_MODEL_ab35d7c243224459844111502949d0a9",
       "max": 16,
       "style": "IPY_MODEL_c293b19fce8648e59e0a03d6b3086bf2",
       "value": 16
      }
     },
     "49f8429324bd42f9a906bdf5b79e2d3e": {
      "model_module": "@jupyter-widgets/base",
      "model_module_version": "1.2.0",
      "model_name": "LayoutModel",
      "state": {}
     },
     "49f95572a5324d158958d9354f208e5f": {
      "model_module": "@jupyter-widgets/controls",
      "model_module_version": "1.5.0",
      "model_name": "HTMLModel",
      "state": {
       "layout": "IPY_MODEL_c8735c18bda64783ab135ae4550f835e",
       "style": "IPY_MODEL_29021064cabe4916a5b4e727d9d59bb3",
       "value": "Validation DataLoader 0: 100%"
      }
     },
     "49fb01a788bd4d9687fc108108f1fbd2": {
      "model_module": "@jupyter-widgets/base",
      "model_module_version": "1.2.0",
      "model_name": "LayoutModel",
      "state": {
       "display": "inline-flex",
       "flex_flow": "row wrap",
       "width": "100%"
      }
     },
     "4a0b77eff93f42d09de8bebaa9f5dde3": {
      "model_module": "@jupyter-widgets/base",
      "model_module_version": "1.2.0",
      "model_name": "LayoutModel",
      "state": {
       "display": "inline-flex",
       "flex_flow": "row wrap",
       "width": "100%"
      }
     },
     "4a0f3c14bc3d4068aad34389c686bc0d": {
      "model_module": "@jupyter-widgets/controls",
      "model_module_version": "1.5.0",
      "model_name": "ProgressStyleModel",
      "state": {
       "description_width": ""
      }
     },
     "4a12fcf6934343699e89aead4dc6349f": {
      "model_module": "@jupyter-widgets/controls",
      "model_module_version": "1.5.0",
      "model_name": "HTMLModel",
      "state": {
       "layout": "IPY_MODEL_a650df9f79624fb388ac8400eaf16fc4",
       "style": "IPY_MODEL_aa00b173e9734e1fbfa7992562f0514b",
       "value": " 16/16 [00:00&lt;00:00, 20.58it/s]"
      }
     },
     "4a1d3fe4bb8c4630bdc78c7f587ef64e": {
      "model_module": "@jupyter-widgets/controls",
      "model_module_version": "1.5.0",
      "model_name": "HTMLModel",
      "state": {
       "layout": "IPY_MODEL_57adaf1da6bd4e22b44fefb4b08476ee",
       "style": "IPY_MODEL_ac76fd8e3ef0428380719f13ba4144e6",
       "value": "Validation DataLoader 0: 100%"
      }
     },
     "4a4ead4d8edb43918a9caf516e7be49a": {
      "model_module": "@jupyter-widgets/base",
      "model_module_version": "1.2.0",
      "model_name": "LayoutModel",
      "state": {
       "display": "inline-flex",
       "flex_flow": "row wrap",
       "width": "100%"
      }
     },
     "4a5cf4d19562482ea4c127dfd377a24f": {
      "model_module": "@jupyter-widgets/base",
      "model_module_version": "1.2.0",
      "model_name": "LayoutModel",
      "state": {}
     },
     "4a88773f126b4ff78795506c9954e4a0": {
      "model_module": "@jupyter-widgets/base",
      "model_module_version": "1.2.0",
      "model_name": "LayoutModel",
      "state": {}
     },
     "4a8d73645be647eda57f417f0e87e327": {
      "model_module": "@jupyter-widgets/controls",
      "model_module_version": "1.5.0",
      "model_name": "FloatProgressModel",
      "state": {
       "layout": "IPY_MODEL_7cee0bec8340424cbf6f41f6fbe986a9",
       "max": 16,
       "style": "IPY_MODEL_da3b30f51bb64810b267556829b4f81e",
       "value": 16
      }
     },
     "4a99d088162449f8afd4086aee6e1b1d": {
      "model_module": "@jupyter-widgets/controls",
      "model_module_version": "1.5.0",
      "model_name": "HTMLModel",
      "state": {
       "layout": "IPY_MODEL_9b05c8522af74de8bab044f84016621e",
       "style": "IPY_MODEL_bd0bb578a62f4614baa432cdea8bb165",
       "value": " 40/77 [00:11&lt;00:10,  3.51it/s, loss=1.94, v_num=H-46]"
      }
     },
     "4aa36cce317c407abd11c3dc885d2418": {
      "model_module": "@jupyter-widgets/controls",
      "model_module_version": "1.5.0",
      "model_name": "FloatProgressModel",
      "state": {
       "layout": "IPY_MODEL_e8f07bb7558145dfb9a5ea77ab5bc195",
       "max": 16,
       "style": "IPY_MODEL_333c3cb571b04f60a2348f04a9c5d93e",
       "value": 16
      }
     },
     "4aa52f35771d478395c009c0f59ca478": {
      "model_module": "@jupyter-widgets/controls",
      "model_module_version": "1.5.0",
      "model_name": "HTMLModel",
      "state": {
       "layout": "IPY_MODEL_5903fe2ea7fa4d1c84a57002ab1f0c15",
       "style": "IPY_MODEL_5b8e114959ca4f33811ff80b6d83dfc7",
       "value": " 16/16 [00:02&lt;00:00,  5.92it/s]"
      }
     },
     "4aac58a630e84517b993db778202bf7b": {
      "model_module": "@jupyter-widgets/base",
      "model_module_version": "1.2.0",
      "model_name": "LayoutModel",
      "state": {}
     },
     "4b11899dc38f419596968879e7c1b292": {
      "model_module": "@jupyter-widgets/controls",
      "model_module_version": "1.5.0",
      "model_name": "HTMLModel",
      "state": {
       "layout": "IPY_MODEL_c43da6bd14f64450b93c968f34dd7923",
       "style": "IPY_MODEL_8d72a965cf7d474f87394e09bcb03d5c",
       "value": "Validation DataLoader 0: 100%"
      }
     },
     "4b138becdc12467692408a12197365e3": {
      "model_module": "@jupyter-widgets/base",
      "model_module_version": "1.2.0",
      "model_name": "LayoutModel",
      "state": {}
     },
     "4b2b30131d1244bcbdf200a58fc92a85": {
      "model_module": "@jupyter-widgets/controls",
      "model_module_version": "1.5.0",
      "model_name": "DescriptionStyleModel",
      "state": {
       "description_width": ""
      }
     },
     "4b346fb7a86f46ec8afde6bc618fdade": {
      "model_module": "@jupyter-widgets/controls",
      "model_module_version": "1.5.0",
      "model_name": "DescriptionStyleModel",
      "state": {
       "description_width": ""
      }
     },
     "4b361d9f29084170851dd94c3949d050": {
      "model_module": "@jupyter-widgets/base",
      "model_module_version": "1.2.0",
      "model_name": "LayoutModel",
      "state": {}
     },
     "4b41651d737d4a209cebd5fbb4945400": {
      "model_module": "@jupyter-widgets/controls",
      "model_module_version": "1.5.0",
      "model_name": "DescriptionStyleModel",
      "state": {
       "description_width": ""
      }
     },
     "4b4268bf0bd4413889682bfeb5dfeca9": {
      "model_module": "@jupyter-widgets/controls",
      "model_module_version": "1.5.0",
      "model_name": "HTMLModel",
      "state": {
       "layout": "IPY_MODEL_2ff128952dd54edc8df811776310eb25",
       "style": "IPY_MODEL_61487ed26f9043178b5e59c9ec3b3247",
       "value": " 16/16 [00:05&lt;00:00,  2.76it/s]"
      }
     },
     "4b44e6bcf1f74487983a5ce28c17c633": {
      "model_module": "@jupyter-widgets/controls",
      "model_module_version": "1.5.0",
      "model_name": "DescriptionStyleModel",
      "state": {
       "description_width": ""
      }
     },
     "4b6505b2c70a4250922ffa594482a4fb": {
      "model_module": "@jupyter-widgets/base",
      "model_module_version": "1.2.0",
      "model_name": "LayoutModel",
      "state": {}
     },
     "4b79cc29d0764636b44f750514c82d63": {
      "model_module": "@jupyter-widgets/controls",
      "model_module_version": "1.5.0",
      "model_name": "HTMLModel",
      "state": {
       "layout": "IPY_MODEL_18f53ee305124cc7877cc541474df0be",
       "style": "IPY_MODEL_51040090f0d34976a44efa7e3439575f",
       "value": " 16/16 [00:02&lt;00:00,  7.00it/s]"
      }
     },
     "4b9e7be5a9b4421a90c61b6655bbf106": {
      "model_module": "@jupyter-widgets/controls",
      "model_module_version": "1.5.0",
      "model_name": "HTMLModel",
      "state": {
       "layout": "IPY_MODEL_a2dc8bc0a26d40df8fb49093a3b423b9",
       "style": "IPY_MODEL_b757a8ad33094b3ca60705e2c0d64c7e",
       "value": " 16/16 [00:01&lt;00:00,  8.81it/s]"
      }
     },
     "4baede34b77944f99a4d4bd5f020d0c3": {
      "model_module": "@jupyter-widgets/controls",
      "model_module_version": "1.5.0",
      "model_name": "HTMLModel",
      "state": {
       "layout": "IPY_MODEL_28acf2cdf5eb44a2bb8ee0473f0699f4",
       "style": "IPY_MODEL_a7c0d69281124b1e9b07bd3e40462fee",
       "value": "Validation DataLoader 0: 100%"
      }
     },
     "4bb4dbc465d34f99b92a7c1120add025": {
      "model_module": "@jupyter-widgets/base",
      "model_module_version": "1.2.0",
      "model_name": "LayoutModel",
      "state": {
       "display": "inline-flex",
       "flex_flow": "row wrap",
       "width": "100%"
      }
     },
     "4bbef4b110e84ab9a903a3054efb0138": {
      "model_module": "@jupyter-widgets/base",
      "model_module_version": "1.2.0",
      "model_name": "LayoutModel",
      "state": {}
     },
     "4be13c9eb13f409a80e69cd18cbac400": {
      "model_module": "@jupyter-widgets/base",
      "model_module_version": "1.2.0",
      "model_name": "LayoutModel",
      "state": {
       "flex": "2"
      }
     },
     "4bf00983688f4e2d916721b7e9acb914": {
      "model_module": "@jupyter-widgets/base",
      "model_module_version": "1.2.0",
      "model_name": "LayoutModel",
      "state": {}
     },
     "4c01f39c09c2466fb020829694fa18c5": {
      "model_module": "@jupyter-widgets/base",
      "model_module_version": "1.2.0",
      "model_name": "LayoutModel",
      "state": {}
     },
     "4c400bc046c7457d98ab659facd9937a": {
      "model_module": "@jupyter-widgets/base",
      "model_module_version": "1.2.0",
      "model_name": "LayoutModel",
      "state": {}
     },
     "4c45cb3d26c348f8ae9ecb2495ea0be4": {
      "model_module": "@jupyter-widgets/controls",
      "model_module_version": "1.5.0",
      "model_name": "HTMLModel",
      "state": {
       "layout": "IPY_MODEL_548b74996b024e25b7a6c3b683c7bdd2",
       "style": "IPY_MODEL_1880f521b2db449a8811309f1c2d6a1d",
       "value": " 16/16 [00:00&lt;00:00, 21.10it/s]"
      }
     },
     "4ca28b73ac0c424b82eb66b42c2f9ff5": {
      "model_module": "@jupyter-widgets/base",
      "model_module_version": "1.2.0",
      "model_name": "LayoutModel",
      "state": {}
     },
     "4cd3d936d78d409580fa821c15e186d8": {
      "model_module": "@jupyter-widgets/controls",
      "model_module_version": "1.5.0",
      "model_name": "ProgressStyleModel",
      "state": {
       "description_width": ""
      }
     },
     "4cd82cef040f42f8a4a28ed10dbbd330": {
      "model_module": "@jupyter-widgets/base",
      "model_module_version": "1.2.0",
      "model_name": "LayoutModel",
      "state": {}
     },
     "4cddb8eb82db4d0d9c1b9af70f143a3e": {
      "model_module": "@jupyter-widgets/controls",
      "model_module_version": "1.5.0",
      "model_name": "FloatProgressModel",
      "state": {
       "layout": "IPY_MODEL_98cc10701da44dc68271a3675dbac087",
       "max": 16,
       "style": "IPY_MODEL_6776f2114249430b88dfef736483d8bb",
       "value": 16
      }
     },
     "4ce64ca9009345828cd548b05c9e8f53": {
      "model_module": "@jupyter-widgets/base",
      "model_module_version": "1.2.0",
      "model_name": "LayoutModel",
      "state": {}
     },
     "4d2be385dfbd4d1a809e659132984d02": {
      "model_module": "@jupyter-widgets/controls",
      "model_module_version": "1.5.0",
      "model_name": "DescriptionStyleModel",
      "state": {
       "description_width": ""
      }
     },
     "4d43022b3cf14cb8bb451232174c72c3": {
      "model_module": "@jupyter-widgets/base",
      "model_module_version": "1.2.0",
      "model_name": "LayoutModel",
      "state": {
       "display": "inline-flex",
       "flex_flow": "row wrap",
       "width": "100%"
      }
     },
     "4d6c968e2e7c46a39410fd197324e993": {
      "model_module": "@jupyter-widgets/base",
      "model_module_version": "1.2.0",
      "model_name": "LayoutModel",
      "state": {}
     },
     "4d8fd52a91ad4295b7767c027dc39456": {
      "model_module": "@jupyter-widgets/base",
      "model_module_version": "1.2.0",
      "model_name": "LayoutModel",
      "state": {}
     },
     "4dc1cb5163b84307a4443991b2aa13fd": {
      "model_module": "@jupyter-widgets/controls",
      "model_module_version": "1.5.0",
      "model_name": "DescriptionStyleModel",
      "state": {
       "description_width": ""
      }
     },
     "4dc82bf4b5a1415fa27cef36e1438ceb": {
      "model_module": "@jupyter-widgets/controls",
      "model_module_version": "1.5.0",
      "model_name": "DescriptionStyleModel",
      "state": {
       "description_width": ""
      }
     },
     "4dca8657f8034e00b33b994857cad35d": {
      "model_module": "@jupyter-widgets/base",
      "model_module_version": "1.2.0",
      "model_name": "LayoutModel",
      "state": {}
     },
     "4dcca1d2477c46ab9ff0e0db9d1187e3": {
      "model_module": "@jupyter-widgets/controls",
      "model_module_version": "1.5.0",
      "model_name": "ProgressStyleModel",
      "state": {
       "description_width": ""
      }
     },
     "4dd5224a9e814e3a9df50f45d8e2ad04": {
      "model_module": "@jupyter-widgets/controls",
      "model_module_version": "1.5.0",
      "model_name": "HTMLModel",
      "state": {
       "layout": "IPY_MODEL_f9126cb823514cb2b5bf85102eae9371",
       "style": "IPY_MODEL_6a9899af50064bec98ed8ef9bdedd7c1",
       "value": " 16/16 [00:00&lt;00:00, 19.51it/s]"
      }
     },
     "4e2e4692250f43eda5f84fc4430788b3": {
      "model_module": "@jupyter-widgets/controls",
      "model_module_version": "1.5.0",
      "model_name": "HTMLModel",
      "state": {
       "layout": "IPY_MODEL_27c5bf5f808d485c97177b94e1d80070",
       "style": "IPY_MODEL_97b1062836494aadaa126ebaf02c95ab",
       "value": "Validation DataLoader 0: 100%"
      }
     },
     "4e5eb31b68d148a1a189bf07e9db5163": {
      "model_module": "@jupyter-widgets/controls",
      "model_module_version": "1.5.0",
      "model_name": "HTMLModel",
      "state": {
       "layout": "IPY_MODEL_8fc8358b92ad41bba0a9ecb9d19432cd",
       "style": "IPY_MODEL_49ad6183f97743c6925d2bfab780b873",
       "value": "Validation DataLoader 0: 100%"
      }
     },
     "4e73949c3b004a5c8aee752adf2264c8": {
      "model_module": "@jupyter-widgets/controls",
      "model_module_version": "1.5.0",
      "model_name": "HTMLModel",
      "state": {
       "layout": "IPY_MODEL_6de072b0abda4153a780080547f7f65b",
       "style": "IPY_MODEL_c67a88b78228489bacc351f265e13aa1",
       "value": " 2/2 [00:00&lt;00:00, 29.85it/s]"
      }
     },
     "4e7d126d3a84475e9d7249d9881f8975": {
      "model_module": "@jupyter-widgets/controls",
      "model_module_version": "1.5.0",
      "model_name": "DescriptionStyleModel",
      "state": {
       "description_width": ""
      }
     },
     "4e88ec10969a47b8965fae891cd34c16": {
      "model_module": "@jupyter-widgets/controls",
      "model_module_version": "1.5.0",
      "model_name": "ProgressStyleModel",
      "state": {
       "description_width": ""
      }
     },
     "4e91b4a527964d10bcbf219c11aa4fd4": {
      "model_module": "@jupyter-widgets/controls",
      "model_module_version": "1.5.0",
      "model_name": "HTMLModel",
      "state": {
       "layout": "IPY_MODEL_37d671f62964497f946f1a1f606b0554",
       "style": "IPY_MODEL_3b8ebcfa3fdb4b858f126e8697ef4dcd",
       "value": "Epoch 1:  23%"
      }
     },
     "4e95b8165b234343b88d074350178240": {
      "model_module": "@jupyter-widgets/controls",
      "model_module_version": "1.5.0",
      "model_name": "ProgressStyleModel",
      "state": {
       "description_width": ""
      }
     },
     "4ea09c6a2a97455b9921f8587d5158a9": {
      "model_module": "@jupyter-widgets/base",
      "model_module_version": "1.2.0",
      "model_name": "LayoutModel",
      "state": {
       "display": "inline-flex",
       "flex_flow": "row wrap",
       "width": "100%"
      }
     },
     "4eb6b5b2ddbb400a8374fb419db79cf2": {
      "model_module": "@jupyter-widgets/base",
      "model_module_version": "1.2.0",
      "model_name": "LayoutModel",
      "state": {
       "flex": "2"
      }
     },
     "4eba2da68b894368af0b74cdb6de2f68": {
      "model_module": "@jupyter-widgets/base",
      "model_module_version": "1.2.0",
      "model_name": "LayoutModel",
      "state": {}
     },
     "4ebf55c748124e4b87fc808c108aee3f": {
      "model_module": "@jupyter-widgets/controls",
      "model_module_version": "1.5.0",
      "model_name": "HBoxModel",
      "state": {
       "children": [
        "IPY_MODEL_8c14875a4cd5457c9738fb023d9144f8",
        "IPY_MODEL_14be8c3f2c2f479194e9cb02e56dc656",
        "IPY_MODEL_ae6cabd80e5a40eaaa2a57f2e2a88fb7"
       ],
       "layout": "IPY_MODEL_cca589296f124b35b6df79e0955280f0"
      }
     },
     "4ec5acae1eb84dda8f46248cf66b6b27": {
      "model_module": "@jupyter-widgets/base",
      "model_module_version": "1.2.0",
      "model_name": "LayoutModel",
      "state": {}
     },
     "4ee1ccadb29647f3b3c9b49e6958edf4": {
      "model_module": "@jupyter-widgets/controls",
      "model_module_version": "1.5.0",
      "model_name": "DescriptionStyleModel",
      "state": {
       "description_width": ""
      }
     },
     "4ef5e00905cb4d0ea68efa55d6fb521c": {
      "model_module": "@jupyter-widgets/controls",
      "model_module_version": "1.5.0",
      "model_name": "HTMLModel",
      "state": {
       "layout": "IPY_MODEL_7fafa412be294d6c87c760c57ac3da32",
       "style": "IPY_MODEL_104075e7956a4f6dbca01985c924e1dc",
       "value": "Validation DataLoader 0: 100%"
      }
     },
     "4f02a1f3faa14b269c110e5340f67816": {
      "model_module": "@jupyter-widgets/controls",
      "model_module_version": "1.5.0",
      "model_name": "DescriptionStyleModel",
      "state": {
       "description_width": ""
      }
     },
     "4f1600c34ad1465fa9ed368cf0471efc": {
      "model_module": "@jupyter-widgets/base",
      "model_module_version": "1.2.0",
      "model_name": "LayoutModel",
      "state": {}
     },
     "4f1d255cd2204766b78352a8a12bdb70": {
      "model_module": "@jupyter-widgets/base",
      "model_module_version": "1.2.0",
      "model_name": "LayoutModel",
      "state": {
       "display": "inline-flex",
       "flex_flow": "row wrap",
       "width": "100%"
      }
     },
     "4f7ab0483f9d4347866013249dee2098": {
      "model_module": "@jupyter-widgets/base",
      "model_module_version": "1.2.0",
      "model_name": "LayoutModel",
      "state": {}
     },
     "4f8861335a7a4461ac6a9259fb25c237": {
      "model_module": "@jupyter-widgets/controls",
      "model_module_version": "1.5.0",
      "model_name": "HTMLModel",
      "state": {
       "layout": "IPY_MODEL_ea470d3110094a19b70dc9cde7984454",
       "style": "IPY_MODEL_e6109fb48c2e45feab82dd9d776abacd",
       "value": "Sanity Checking DataLoader 0: 100%"
      }
     },
     "4fa5f91fc9c347d18c52912aa02f9ce6": {
      "model_module": "@jupyter-widgets/base",
      "model_module_version": "1.2.0",
      "model_name": "LayoutModel",
      "state": {
       "flex": "2"
      }
     },
     "4ff20a0319d64dc29778161f91001dbb": {
      "model_module": "@jupyter-widgets/controls",
      "model_module_version": "1.5.0",
      "model_name": "DescriptionStyleModel",
      "state": {
       "description_width": ""
      }
     },
     "50145807bff644e7914884ca20f46191": {
      "model_module": "@jupyter-widgets/base",
      "model_module_version": "1.2.0",
      "model_name": "LayoutModel",
      "state": {}
     },
     "502ab856a08044d38fecc2946ac14f53": {
      "model_module": "@jupyter-widgets/base",
      "model_module_version": "1.2.0",
      "model_name": "LayoutModel",
      "state": {
       "display": "inline-flex",
       "flex_flow": "row wrap",
       "width": "100%"
      }
     },
     "503932e39f5641669ed2ce12cdd80666": {
      "model_module": "@jupyter-widgets/base",
      "model_module_version": "1.2.0",
      "model_name": "LayoutModel",
      "state": {
       "display": "inline-flex",
       "flex_flow": "row wrap",
       "width": "100%"
      }
     },
     "503a3a5caea841c18bca2428b77a26a4": {
      "model_module": "@jupyter-widgets/base",
      "model_module_version": "1.2.0",
      "model_name": "LayoutModel",
      "state": {
       "display": "inline-flex",
       "flex_flow": "row wrap",
       "width": "100%"
      }
     },
     "504e5db7f8084ba2b95316e906f2556b": {
      "model_module": "@jupyter-widgets/controls",
      "model_module_version": "1.5.0",
      "model_name": "HBoxModel",
      "state": {
       "children": [
        "IPY_MODEL_411784faec8d47d19c3e7b88630c09bc",
        "IPY_MODEL_6448d22902584cd9a89bff0a0f5cadac",
        "IPY_MODEL_9a9c58ad1e074fa1b39171437aba6f82"
       ],
       "layout": "IPY_MODEL_6a58f442365c40e4882cbd5dc399a6ad"
      }
     },
     "504f14bde7a244b1a7fa78288727157d": {
      "model_module": "@jupyter-widgets/base",
      "model_module_version": "1.2.0",
      "model_name": "LayoutModel",
      "state": {}
     },
     "50634c876acb48a8b43facad03c9645d": {
      "model_module": "@jupyter-widgets/controls",
      "model_module_version": "1.5.0",
      "model_name": "ProgressStyleModel",
      "state": {
       "description_width": ""
      }
     },
     "507f7b531b204ecaa889ee89c96bd596": {
      "model_module": "@jupyter-widgets/base",
      "model_module_version": "1.2.0",
      "model_name": "LayoutModel",
      "state": {
       "display": "inline-flex",
       "flex_flow": "row wrap",
       "width": "100%"
      }
     },
     "50a241f0b9ef40079c2bd13495c32d47": {
      "model_module": "@jupyter-widgets/base",
      "model_module_version": "1.2.0",
      "model_name": "LayoutModel",
      "state": {
       "display": "inline-flex",
       "flex_flow": "row wrap",
       "width": "100%"
      }
     },
     "50a6b4ff78f148c984868b1c9cefd6d1": {
      "model_module": "@jupyter-widgets/base",
      "model_module_version": "1.2.0",
      "model_name": "LayoutModel",
      "state": {
       "display": "inline-flex",
       "flex_flow": "row wrap",
       "width": "100%"
      }
     },
     "50fdb1d263f34e2a821e91070a036777": {
      "model_module": "@jupyter-widgets/controls",
      "model_module_version": "1.5.0",
      "model_name": "ProgressStyleModel",
      "state": {
       "description_width": ""
      }
     },
     "51040090f0d34976a44efa7e3439575f": {
      "model_module": "@jupyter-widgets/controls",
      "model_module_version": "1.5.0",
      "model_name": "DescriptionStyleModel",
      "state": {
       "description_width": ""
      }
     },
     "5114c9d1becd450ea26ef50455a7d905": {
      "model_module": "@jupyter-widgets/controls",
      "model_module_version": "1.5.0",
      "model_name": "DescriptionStyleModel",
      "state": {
       "description_width": ""
      }
     },
     "512cd088c6614520af4d405d977442f9": {
      "model_module": "@jupyter-widgets/base",
      "model_module_version": "1.2.0",
      "model_name": "LayoutModel",
      "state": {}
     },
     "513af69ffa724495942fb08ea3bb8ae6": {
      "model_module": "@jupyter-widgets/controls",
      "model_module_version": "1.5.0",
      "model_name": "FloatProgressModel",
      "state": {
       "layout": "IPY_MODEL_bb7fe3fd0f354ca7a5b39adf8bc3766b",
       "max": 16,
       "style": "IPY_MODEL_227a598b115a49ba81705d6e4c4135e2",
       "value": 16
      }
     },
     "514a3fe464a84558b0b8ed03ed44fe0c": {
      "model_module": "@jupyter-widgets/controls",
      "model_module_version": "1.5.0",
      "model_name": "DescriptionStyleModel",
      "state": {
       "description_width": ""
      }
     },
     "51566c70d2924ce996fcba85f6469793": {
      "model_module": "@jupyter-widgets/controls",
      "model_module_version": "1.5.0",
      "model_name": "FloatProgressModel",
      "state": {
       "layout": "IPY_MODEL_55b892ac44a34c4ca76b706d21ef40b7",
       "max": 16,
       "style": "IPY_MODEL_b46c9beae5d34e7292db6940a6208a3e",
       "value": 16
      }
     },
     "515d7ca8ce8541ef9cf3e2c9e59ef4b3": {
      "model_module": "@jupyter-widgets/base",
      "model_module_version": "1.2.0",
      "model_name": "LayoutModel",
      "state": {
       "flex": "2"
      }
     },
     "515df0987e2c438a95eddec600e3be07": {
      "model_module": "@jupyter-widgets/controls",
      "model_module_version": "1.5.0",
      "model_name": "HTMLModel",
      "state": {
       "layout": "IPY_MODEL_c3d9424128f44f45846a4dedf783de1f",
       "style": "IPY_MODEL_750d7666c4ad4169a1429f171380079f",
       "value": "Validation DataLoader 0: 100%"
      }
     },
     "517174fda3cc441e9825828fbcd2c97f": {
      "model_module": "@jupyter-widgets/controls",
      "model_module_version": "1.5.0",
      "model_name": "HTMLModel",
      "state": {
       "layout": "IPY_MODEL_618a9497c4614703b337672a1ea8abe5",
       "style": "IPY_MODEL_d8305a2f63a54a72b375effc6da50102",
       "value": "Validation DataLoader 0: 100%"
      }
     },
     "51835c98c8e843438272d6b3da79bbdf": {
      "model_module": "@jupyter-widgets/controls",
      "model_module_version": "1.5.0",
      "model_name": "FloatProgressModel",
      "state": {
       "layout": "IPY_MODEL_2112b84840db4e3c8a35720915703165",
       "max": 16,
       "style": "IPY_MODEL_fe62aa6d374a4a10a986b63407c9dd7b",
       "value": 16
      }
     },
     "5188d4b558414a44b42cd65222a73dea": {
      "model_module": "@jupyter-widgets/base",
      "model_module_version": "1.2.0",
      "model_name": "LayoutModel",
      "state": {
       "display": "inline-flex",
       "flex_flow": "row wrap",
       "width": "100%"
      }
     },
     "519d42debb7e40aea4f9e4cb249f1f2e": {
      "model_module": "@jupyter-widgets/base",
      "model_module_version": "1.2.0",
      "model_name": "LayoutModel",
      "state": {}
     },
     "51cfb592b4cd474fb9943c0ab7933d24": {
      "model_module": "@jupyter-widgets/controls",
      "model_module_version": "1.5.0",
      "model_name": "DescriptionStyleModel",
      "state": {
       "description_width": ""
      }
     },
     "51d9e3b17f3d40e89f2b9298a3fb85fb": {
      "model_module": "@jupyter-widgets/controls",
      "model_module_version": "1.5.0",
      "model_name": "ProgressStyleModel",
      "state": {
       "description_width": ""
      }
     },
     "51db2b5fa4c84a4b85be9fe72acc86c2": {
      "model_module": "@jupyter-widgets/controls",
      "model_module_version": "1.5.0",
      "model_name": "HTMLModel",
      "state": {
       "layout": "IPY_MODEL_fa1ae56495264d61b4338b0d6e8c7e43",
       "style": "IPY_MODEL_bd741f5532c74447a56dcb02b61d9090",
       "value": " 16/16 [00:04&lt;00:00,  3.45it/s]"
      }
     },
     "51de6b54cbdd43dfb90c36f228f9fd6e": {
      "model_module": "@jupyter-widgets/base",
      "model_module_version": "1.2.0",
      "model_name": "LayoutModel",
      "state": {
       "display": "inline-flex",
       "flex_flow": "row wrap",
       "width": "100%"
      }
     },
     "51eb91acaaf846e0a731792d247813ae": {
      "model_module": "@jupyter-widgets/controls",
      "model_module_version": "1.5.0",
      "model_name": "DescriptionStyleModel",
      "state": {
       "description_width": ""
      }
     },
     "521d9955841d4a718dced0033bdf0c72": {
      "model_module": "@jupyter-widgets/controls",
      "model_module_version": "1.5.0",
      "model_name": "HTMLModel",
      "state": {
       "layout": "IPY_MODEL_89d6219e61c948ca8ab5282f5cf9c8fc",
       "style": "IPY_MODEL_58477769cdfc418aab9b594c1d869db5",
       "value": " 2/2 [00:00&lt;00:00, 30.04it/s]"
      }
     },
     "522d8cb5654a4558a5ed7a10e2576feb": {
      "model_module": "@jupyter-widgets/controls",
      "model_module_version": "1.5.0",
      "model_name": "DescriptionStyleModel",
      "state": {
       "description_width": ""
      }
     },
     "52499e73b4e349d7b9549f1006f851a6": {
      "model_module": "@jupyter-widgets/base",
      "model_module_version": "1.2.0",
      "model_name": "LayoutModel",
      "state": {}
     },
     "5249ed47651648fe92609b924a898afd": {
      "model_module": "@jupyter-widgets/controls",
      "model_module_version": "1.5.0",
      "model_name": "ProgressStyleModel",
      "state": {
       "description_width": ""
      }
     },
     "524b42f67bda41b7b85d2cf08adee542": {
      "model_module": "@jupyter-widgets/base",
      "model_module_version": "1.2.0",
      "model_name": "LayoutModel",
      "state": {
       "flex": "2"
      }
     },
     "524c659904894064ba4f615c9d80980f": {
      "model_module": "@jupyter-widgets/controls",
      "model_module_version": "1.5.0",
      "model_name": "DescriptionStyleModel",
      "state": {
       "description_width": ""
      }
     },
     "524e24faea9246d3ae90979543816f98": {
      "model_module": "@jupyter-widgets/controls",
      "model_module_version": "1.5.0",
      "model_name": "HTMLModel",
      "state": {
       "layout": "IPY_MODEL_c3b966f3673b407897557e1f5136504b",
       "style": "IPY_MODEL_c3d589a5e5604047a7f0f712cd50a872",
       "value": " 16/16 [00:04&lt;00:00,  2.71it/s]"
      }
     },
     "525fb9dc642043a7b9022b95920f287b": {
      "model_module": "@jupyter-widgets/controls",
      "model_module_version": "1.5.0",
      "model_name": "DescriptionStyleModel",
      "state": {
       "description_width": ""
      }
     },
     "52680ad900d6480a97978d511e4ffc41": {
      "model_module": "@jupyter-widgets/controls",
      "model_module_version": "1.5.0",
      "model_name": "DescriptionStyleModel",
      "state": {
       "description_width": ""
      }
     },
     "526e99d4449a4566b5a0d2943638feb5": {
      "model_module": "@jupyter-widgets/base",
      "model_module_version": "1.2.0",
      "model_name": "LayoutModel",
      "state": {
       "display": "inline-flex",
       "flex_flow": "row wrap",
       "width": "100%"
      }
     },
     "52752379cef1456e879656cf7f52e14c": {
      "model_module": "@jupyter-widgets/base",
      "model_module_version": "1.2.0",
      "model_name": "LayoutModel",
      "state": {}
     },
     "5285094fc7d449c1b226269f135aab9a": {
      "model_module": "@jupyter-widgets/base",
      "model_module_version": "1.2.0",
      "model_name": "LayoutModel",
      "state": {
       "display": "inline-flex",
       "flex_flow": "row wrap",
       "width": "100%"
      }
     },
     "52afcc7989eb4509934bbb87b8da9af0": {
      "model_module": "@jupyter-widgets/controls",
      "model_module_version": "1.5.0",
      "model_name": "DescriptionStyleModel",
      "state": {
       "description_width": ""
      }
     },
     "52b68f9193c94d26a45d12c4af4f8d6f": {
      "model_module": "@jupyter-widgets/controls",
      "model_module_version": "1.5.0",
      "model_name": "DescriptionStyleModel",
      "state": {
       "description_width": ""
      }
     },
     "52bbabfa0fc34a5a9a72ae2ffc43645f": {
      "model_module": "@jupyter-widgets/controls",
      "model_module_version": "1.5.0",
      "model_name": "FloatProgressModel",
      "state": {
       "layout": "IPY_MODEL_98c110d0c7384475a511aca59a998976",
       "max": 77,
       "style": "IPY_MODEL_ce9d06ed9d444083a6cbcda670520f34",
       "value": 77
      }
     },
     "52bd3979cc384cdca4943c2675bb6707": {
      "model_module": "@jupyter-widgets/base",
      "model_module_version": "1.2.0",
      "model_name": "LayoutModel",
      "state": {
       "flex": "2"
      }
     },
     "52d0b3c4446f433fb3a5041a687652f4": {
      "model_module": "@jupyter-widgets/base",
      "model_module_version": "1.2.0",
      "model_name": "LayoutModel",
      "state": {
       "display": "inline-flex",
       "flex_flow": "row wrap",
       "width": "100%"
      }
     },
     "52db49afba3f4ce2888bb9d018e06937": {
      "model_module": "@jupyter-widgets/controls",
      "model_module_version": "1.5.0",
      "model_name": "DescriptionStyleModel",
      "state": {
       "description_width": ""
      }
     },
     "52e0f10a91154b46b3425457cd722e34": {
      "model_module": "@jupyter-widgets/base",
      "model_module_version": "1.2.0",
      "model_name": "LayoutModel",
      "state": {}
     },
     "52eb40d050cd4207bd63a7e2c1521063": {
      "model_module": "@jupyter-widgets/controls",
      "model_module_version": "1.5.0",
      "model_name": "DescriptionStyleModel",
      "state": {
       "description_width": ""
      }
     },
     "532030b8dd374fbfa9616860ba24346d": {
      "model_module": "@jupyter-widgets/controls",
      "model_module_version": "1.5.0",
      "model_name": "HTMLModel",
      "state": {
       "layout": "IPY_MODEL_f068c102e4ee4f708ebffd68e9b1d88b",
       "style": "IPY_MODEL_190af0b68a3146af9aab61e5c6b0324b",
       "value": " 16/16 [00:00&lt;00:00, 16.89it/s]"
      }
     },
     "5335dccac89a4d21aa215a84e7e25ab4": {
      "model_module": "@jupyter-widgets/controls",
      "model_module_version": "1.5.0",
      "model_name": "DescriptionStyleModel",
      "state": {
       "description_width": ""
      }
     },
     "53414039d3154527bddffdb27315302c": {
      "model_module": "@jupyter-widgets/controls",
      "model_module_version": "1.5.0",
      "model_name": "DescriptionStyleModel",
      "state": {
       "description_width": ""
      }
     },
     "53489fbd43e74b8bb784f10941d57117": {
      "model_module": "@jupyter-widgets/controls",
      "model_module_version": "1.5.0",
      "model_name": "DescriptionStyleModel",
      "state": {
       "description_width": ""
      }
     },
     "5368692d98064008ae164d60475067b7": {
      "model_module": "@jupyter-widgets/controls",
      "model_module_version": "1.5.0",
      "model_name": "DescriptionStyleModel",
      "state": {
       "description_width": ""
      }
     },
     "536d8fa906ee467eb56e4f8b06172e20": {
      "model_module": "@jupyter-widgets/controls",
      "model_module_version": "1.5.0",
      "model_name": "HTMLModel",
      "state": {
       "layout": "IPY_MODEL_339d273e4f0842edb03b2835fd394d18",
       "style": "IPY_MODEL_66738d6afe0e41cb9aa5de704400d988",
       "value": "Validation DataLoader 0: 100%"
      }
     },
     "538feaf0ff9b4e14a7397ee40bd421fa": {
      "model_module": "@jupyter-widgets/controls",
      "model_module_version": "1.5.0",
      "model_name": "DescriptionStyleModel",
      "state": {
       "description_width": ""
      }
     },
     "53b7736b138c4f7b970139e46db719c0": {
      "model_module": "@jupyter-widgets/base",
      "model_module_version": "1.2.0",
      "model_name": "LayoutModel",
      "state": {
       "display": "inline-flex",
       "flex_flow": "row wrap",
       "width": "100%"
      }
     },
     "53ba58cb8f624a489d33e3856337df9b": {
      "model_module": "@jupyter-widgets/controls",
      "model_module_version": "1.5.0",
      "model_name": "FloatProgressModel",
      "state": {
       "layout": "IPY_MODEL_ba72134da3f8449f8ff7b6c42adf3974",
       "max": 16,
       "style": "IPY_MODEL_a9c2d70b05d34972a46946a86e52f371",
       "value": 16
      }
     },
     "53beb2e2edbf401ca290156f0a5d79bb": {
      "model_module": "@jupyter-widgets/base",
      "model_module_version": "1.2.0",
      "model_name": "LayoutModel",
      "state": {
       "flex": "2"
      }
     },
     "5420127094bd4d5fa819ccd3302a8dc7": {
      "model_module": "@jupyter-widgets/controls",
      "model_module_version": "1.5.0",
      "model_name": "DescriptionStyleModel",
      "state": {
       "description_width": ""
      }
     },
     "5423ba6ad00c486ab8ce2bffdb376b8f": {
      "model_module": "@jupyter-widgets/controls",
      "model_module_version": "1.5.0",
      "model_name": "FloatProgressModel",
      "state": {
       "layout": "IPY_MODEL_7f07cb6574884789b22acf6c27ac592d",
       "max": 16,
       "style": "IPY_MODEL_da347dec155c4902ab6bc7877f4acf4c",
       "value": 16
      }
     },
     "542a1eea4c314a8e80ec06d0982385b0": {
      "model_module": "@jupyter-widgets/controls",
      "model_module_version": "1.5.0",
      "model_name": "HTMLModel",
      "state": {
       "layout": "IPY_MODEL_d478509f028b4f858e6478ec40b39f44",
       "style": "IPY_MODEL_a05f9c92c6984e3095124fdcd3170177",
       "value": " 16/16 [00:00&lt;00:00, 22.51it/s]"
      }
     },
     "543d0d543a704d648d280ef41facf530": {
      "model_module": "@jupyter-widgets/controls",
      "model_module_version": "1.5.0",
      "model_name": "DescriptionStyleModel",
      "state": {
       "description_width": ""
      }
     },
     "5442282ae62043dbbfe73dedf9098e2e": {
      "model_module": "@jupyter-widgets/controls",
      "model_module_version": "1.5.0",
      "model_name": "DescriptionStyleModel",
      "state": {
       "description_width": ""
      }
     },
     "5488ef171c0c4b5eb5c46f8bcd686155": {
      "model_module": "@jupyter-widgets/controls",
      "model_module_version": "1.5.0",
      "model_name": "HTMLModel",
      "state": {
       "layout": "IPY_MODEL_1e252ff645e04be1bbdb6b3d266c9be7",
       "style": "IPY_MODEL_538feaf0ff9b4e14a7397ee40bd421fa",
       "value": " 16/16 [00:00&lt;00:00, 18.45it/s]"
      }
     },
     "5489e14a5e2a4af591c07731a7aa4157": {
      "model_module": "@jupyter-widgets/controls",
      "model_module_version": "1.5.0",
      "model_name": "DescriptionStyleModel",
      "state": {
       "description_width": ""
      }
     },
     "548b74996b024e25b7a6c3b683c7bdd2": {
      "model_module": "@jupyter-widgets/base",
      "model_module_version": "1.2.0",
      "model_name": "LayoutModel",
      "state": {}
     },
     "548e93b643284b988864dddb279952f5": {
      "model_module": "@jupyter-widgets/base",
      "model_module_version": "1.2.0",
      "model_name": "LayoutModel",
      "state": {
       "display": "inline-flex",
       "flex_flow": "row wrap",
       "width": "100%"
      }
     },
     "549f4a0df8c240b3b2b565ac93126d6c": {
      "model_module": "@jupyter-widgets/controls",
      "model_module_version": "1.5.0",
      "model_name": "FloatProgressModel",
      "state": {
       "layout": "IPY_MODEL_3c0897dae0b14aef8e22115eb4b3e55b",
       "max": 16,
       "style": "IPY_MODEL_0b044630f563494497cd02e4792ba254",
       "value": 16
      }
     },
     "54b4933ef53e47c5a5235813cb24dd03": {
      "model_module": "@jupyter-widgets/controls",
      "model_module_version": "1.5.0",
      "model_name": "HTMLModel",
      "state": {
       "layout": "IPY_MODEL_f507e5e005314dbdbb28a4e065ff9884",
       "style": "IPY_MODEL_307d44b3530840c3a81940ca558f46da",
       "value": "Validation DataLoader 0:  69%"
      }
     },
     "54ca9b348d48400eb89525aafd65e63c": {
      "model_module": "@jupyter-widgets/controls",
      "model_module_version": "1.5.0",
      "model_name": "ProgressStyleModel",
      "state": {
       "description_width": ""
      }
     },
     "54cc59a70194494dbfa475d4e2acd7a2": {
      "model_module": "@jupyter-widgets/base",
      "model_module_version": "1.2.0",
      "model_name": "LayoutModel",
      "state": {
       "display": "inline-flex",
       "flex_flow": "row wrap",
       "width": "100%"
      }
     },
     "54cc968ea8c34bc48efd4bff3108d1a2": {
      "model_module": "@jupyter-widgets/base",
      "model_module_version": "1.2.0",
      "model_name": "LayoutModel",
      "state": {
       "display": "inline-flex",
       "flex_flow": "row wrap",
       "width": "100%"
      }
     },
     "54cf69f41f5242ec84aa29ae0413e382": {
      "model_module": "@jupyter-widgets/base",
      "model_module_version": "1.2.0",
      "model_name": "LayoutModel",
      "state": {
       "flex": "2"
      }
     },
     "54d336fc4acd4557a90b5b3b13096f17": {
      "model_module": "@jupyter-widgets/controls",
      "model_module_version": "1.5.0",
      "model_name": "HBoxModel",
      "state": {
       "children": [
        "IPY_MODEL_71a3e6d051e64b7bba6922e0079919e0",
        "IPY_MODEL_e366b701628e4e8a8c9a1310e84be88d",
        "IPY_MODEL_e46cb833d9d64ad8a4c5eb0e22fa0797"
       ],
       "layout": "IPY_MODEL_a11c1ce200d94578acca63a659b59549"
      }
     },
     "54e5cede17d3464eb82c823936ea627a": {
      "model_module": "@jupyter-widgets/controls",
      "model_module_version": "1.5.0",
      "model_name": "DescriptionStyleModel",
      "state": {
       "description_width": ""
      }
     },
     "54ed567d14f54bfba0655dca5238bd0a": {
      "model_module": "@jupyter-widgets/controls",
      "model_module_version": "1.5.0",
      "model_name": "ProgressStyleModel",
      "state": {
       "description_width": ""
      }
     },
     "54f06fd0260b4177a55eb8fffe9b735f": {
      "model_module": "@jupyter-widgets/controls",
      "model_module_version": "1.5.0",
      "model_name": "HTMLModel",
      "state": {
       "layout": "IPY_MODEL_2e748b0795fd4b138e605b19a638423f",
       "style": "IPY_MODEL_524c659904894064ba4f615c9d80980f",
       "value": " 2/2 [00:00&lt;00:00, 27.46it/s]"
      }
     },
     "54f0e943dd7541d8859563154eefd450": {
      "model_module": "@jupyter-widgets/base",
      "model_module_version": "1.2.0",
      "model_name": "LayoutModel",
      "state": {}
     },
     "54f946cff2974f4097ba34bfbbdd6e8b": {
      "model_module": "@jupyter-widgets/base",
      "model_module_version": "1.2.0",
      "model_name": "LayoutModel",
      "state": {
       "flex": "2"
      }
     },
     "552aa6038448462a924581914508ffef": {
      "model_module": "@jupyter-widgets/controls",
      "model_module_version": "1.5.0",
      "model_name": "DescriptionStyleModel",
      "state": {
       "description_width": ""
      }
     },
     "554a1ada404f46169cb0612b858b94f3": {
      "model_module": "@jupyter-widgets/controls",
      "model_module_version": "1.5.0",
      "model_name": "DescriptionStyleModel",
      "state": {
       "description_width": ""
      }
     },
     "55722e303b4d4ab781a468329f61ce84": {
      "model_module": "@jupyter-widgets/base",
      "model_module_version": "1.2.0",
      "model_name": "LayoutModel",
      "state": {
       "display": "inline-flex",
       "flex_flow": "row wrap",
       "width": "100%"
      }
     },
     "5577d9407a1641a18407f87d3643d2e2": {
      "model_module": "@jupyter-widgets/controls",
      "model_module_version": "1.5.0",
      "model_name": "HTMLModel",
      "state": {
       "layout": "IPY_MODEL_8d6cf23ca1f244e38ba978985077405b",
       "style": "IPY_MODEL_52afcc7989eb4509934bbb87b8da9af0",
       "value": " 16/16 [00:00&lt;00:00, 21.18it/s]"
      }
     },
     "5594a76d7b38475d9e0381657ca276c1": {
      "model_module": "@jupyter-widgets/controls",
      "model_module_version": "1.5.0",
      "model_name": "DescriptionStyleModel",
      "state": {
       "description_width": ""
      }
     },
     "559ff32dedea4a32b594aadbf0c6851d": {
      "model_module": "@jupyter-widgets/controls",
      "model_module_version": "1.5.0",
      "model_name": "ProgressStyleModel",
      "state": {
       "description_width": ""
      }
     },
     "55acdbb3cfa74d8b9786b836bb0361b8": {
      "model_module": "@jupyter-widgets/base",
      "model_module_version": "1.2.0",
      "model_name": "LayoutModel",
      "state": {
       "display": "inline-flex",
       "flex_flow": "row wrap",
       "width": "100%"
      }
     },
     "55b5d5017b7846c1ba05e4f2a4ac588f": {
      "model_module": "@jupyter-widgets/controls",
      "model_module_version": "1.5.0",
      "model_name": "HTMLModel",
      "state": {
       "layout": "IPY_MODEL_c94527d64ffd4629b6354309b9503b04",
       "style": "IPY_MODEL_c049fb63766c46c9afe9fa57380967ce",
       "value": " 16/16 [00:00&lt;00:00, 15.13it/s]"
      }
     },
     "55b892ac44a34c4ca76b706d21ef40b7": {
      "model_module": "@jupyter-widgets/base",
      "model_module_version": "1.2.0",
      "model_name": "LayoutModel",
      "state": {
       "flex": "2"
      }
     },
     "55e326fda87f46ddb63b450401cdb5cf": {
      "model_module": "@jupyter-widgets/base",
      "model_module_version": "1.2.0",
      "model_name": "LayoutModel",
      "state": {
       "flex": "2"
      }
     },
     "55e4370388014d689a77099b50bb52de": {
      "model_module": "@jupyter-widgets/base",
      "model_module_version": "1.2.0",
      "model_name": "LayoutModel",
      "state": {
       "flex": "2"
      }
     },
     "55f38631144c4d4aa8e6f1a391e3cf34": {
      "model_module": "@jupyter-widgets/controls",
      "model_module_version": "1.5.0",
      "model_name": "DescriptionStyleModel",
      "state": {
       "description_width": ""
      }
     },
     "55fd4654d0d140ad83fe46339a3b71e8": {
      "model_module": "@jupyter-widgets/controls",
      "model_module_version": "1.5.0",
      "model_name": "DescriptionStyleModel",
      "state": {
       "description_width": ""
      }
     },
     "5605a3b3e638434b94a0c8c6a512335f": {
      "model_module": "@jupyter-widgets/base",
      "model_module_version": "1.2.0",
      "model_name": "LayoutModel",
      "state": {
       "flex": "2"
      }
     },
     "560622a135e1499ba0fbbad3c7497e0d": {
      "model_module": "@jupyter-widgets/base",
      "model_module_version": "1.2.0",
      "model_name": "LayoutModel",
      "state": {
       "flex": "2"
      }
     },
     "56158a9f5269439f823c6d3866d65481": {
      "model_module": "@jupyter-widgets/base",
      "model_module_version": "1.2.0",
      "model_name": "LayoutModel",
      "state": {}
     },
     "562040540c38436f98415352fdacdaba": {
      "model_module": "@jupyter-widgets/controls",
      "model_module_version": "1.5.0",
      "model_name": "HTMLModel",
      "state": {
       "layout": "IPY_MODEL_7ecfe367cf6a4bfd8161c01f04bc23ae",
       "style": "IPY_MODEL_ab8a2163ad504c5e9f8c84803c0d1250",
       "value": " 16/16 [00:00&lt;00:00, 18.58it/s]"
      }
     },
     "56272c71d1384b07a63391b793621b46": {
      "model_module": "@jupyter-widgets/controls",
      "model_module_version": "1.5.0",
      "model_name": "DescriptionStyleModel",
      "state": {
       "description_width": ""
      }
     },
     "5643a4aadbde42d0a0c66cbc16370b10": {
      "model_module": "@jupyter-widgets/controls",
      "model_module_version": "1.5.0",
      "model_name": "FloatProgressModel",
      "state": {
       "layout": "IPY_MODEL_e74d05784a4c4f66b501571f05dbe0cf",
       "max": 16,
       "style": "IPY_MODEL_20f9bb5e5b22479aac1df19c401f9a43",
       "value": 16
      }
     },
     "564ba0a09cbc4d3a90f8f83b48821ffa": {
      "model_module": "@jupyter-widgets/base",
      "model_module_version": "1.2.0",
      "model_name": "LayoutModel",
      "state": {}
     },
     "5667f47330c247f6b0b9ec1f5116f759": {
      "model_module": "@jupyter-widgets/controls",
      "model_module_version": "1.5.0",
      "model_name": "FloatProgressModel",
      "state": {
       "layout": "IPY_MODEL_426c133476074d9e88d650e3857af5d3",
       "max": 16,
       "style": "IPY_MODEL_f47ee8efba9e450fa22c6b8b0a8bc726",
       "value": 16
      }
     },
     "5669448cc5e0446ea623f911ca50fd47": {
      "model_module": "@jupyter-widgets/base",
      "model_module_version": "1.2.0",
      "model_name": "LayoutModel",
      "state": {}
     },
     "569286a66c8e4e258ab21b9a79ad7081": {
      "model_module": "@jupyter-widgets/controls",
      "model_module_version": "1.5.0",
      "model_name": "HTMLModel",
      "state": {
       "layout": "IPY_MODEL_394c8d495cf440d1ab0744f73bed0af7",
       "style": "IPY_MODEL_797a94bb38324c0584c6a34081489a2f",
       "value": "Validation DataLoader 0: 100%"
      }
     },
     "56976f5db2834bcc8c8df2e1355a317d": {
      "model_module": "@jupyter-widgets/base",
      "model_module_version": "1.2.0",
      "model_name": "LayoutModel",
      "state": {
       "display": "inline-flex",
       "flex_flow": "row wrap",
       "width": "100%"
      }
     },
     "56bed7da58144137bf70e358c6f2b390": {
      "model_module": "@jupyter-widgets/controls",
      "model_module_version": "1.5.0",
      "model_name": "ProgressStyleModel",
      "state": {
       "description_width": ""
      }
     },
     "56d0f12b879a46e5bf2f9b4c45798da3": {
      "model_module": "@jupyter-widgets/controls",
      "model_module_version": "1.5.0",
      "model_name": "FloatProgressModel",
      "state": {
       "layout": "IPY_MODEL_b080db7cc0a949d98ea8b41da6bfc081",
       "max": 16,
       "style": "IPY_MODEL_2e79e49e4d234f159b1e24a4d2685c69",
       "value": 16
      }
     },
     "56d4db14a5eb42a385672ba6638ded50": {
      "model_module": "@jupyter-widgets/controls",
      "model_module_version": "1.5.0",
      "model_name": "ProgressStyleModel",
      "state": {
       "description_width": ""
      }
     },
     "56e6b1dca5ca4f688f73fe9109471109": {
      "model_module": "@jupyter-widgets/base",
      "model_module_version": "1.2.0",
      "model_name": "LayoutModel",
      "state": {
       "display": "inline-flex",
       "flex_flow": "row wrap",
       "width": "100%"
      }
     },
     "5700846fd9c1467489532ad7d2383ef7": {
      "model_module": "@jupyter-widgets/base",
      "model_module_version": "1.2.0",
      "model_name": "LayoutModel",
      "state": {}
     },
     "57170486899f460e952aef080dace626": {
      "model_module": "@jupyter-widgets/base",
      "model_module_version": "1.2.0",
      "model_name": "LayoutModel",
      "state": {
       "display": "inline-flex",
       "flex_flow": "row wrap",
       "width": "100%"
      }
     },
     "572a666da8fe4628bccc4abebec74102": {
      "model_module": "@jupyter-widgets/controls",
      "model_module_version": "1.5.0",
      "model_name": "HTMLModel",
      "state": {
       "layout": "IPY_MODEL_b91391a1e5344edc9fbf93e7c2068bff",
       "style": "IPY_MODEL_0ca6bcc3d2c5479eb2aae1216c47aac7",
       "value": "Validation DataLoader 0: 100%"
      }
     },
     "5732f69259ad406d8c9029802bc9c3d7": {
      "model_module": "@jupyter-widgets/controls",
      "model_module_version": "1.5.0",
      "model_name": "FloatProgressModel",
      "state": {
       "layout": "IPY_MODEL_ca667debd7f04d72a6f5efece0e7797f",
       "max": 16,
       "style": "IPY_MODEL_c67d33abbc394e5b975d7be6cbdf7205",
       "value": 16
      }
     },
     "574a68dfd3704d14b2d95e40b05b17b7": {
      "model_module": "@jupyter-widgets/controls",
      "model_module_version": "1.5.0",
      "model_name": "HTMLModel",
      "state": {
       "layout": "IPY_MODEL_4bf00983688f4e2d916721b7e9acb914",
       "style": "IPY_MODEL_543d0d543a704d648d280ef41facf530",
       "value": " 77/77 [00:06&lt;00:00, 12.01it/s, loss=0.246, v_num=H-54]"
      }
     },
     "5761d77223a041a3827d961188272d69": {
      "model_module": "@jupyter-widgets/controls",
      "model_module_version": "1.5.0",
      "model_name": "HTMLModel",
      "state": {
       "layout": "IPY_MODEL_b7d4a167c7454824a4f30a6f4b7c9896",
       "style": "IPY_MODEL_df12ef66dcee46409e59cd64fc914e20",
       "value": " 16/16 [00:00&lt;00:00, 16.02it/s]"
      }
     },
     "576f5d7bf3a4449aa6ad3e830e0b77d9": {
      "model_module": "@jupyter-widgets/controls",
      "model_module_version": "1.5.0",
      "model_name": "HTMLModel",
      "state": {
       "layout": "IPY_MODEL_6275003979b44f20bccbb3e11baee4b9",
       "style": "IPY_MODEL_d59ae8a37e2844788089041a090fb756",
       "value": " 16/16 [00:00&lt;00:00, 21.03it/s]"
      }
     },
     "57756a72cb5146e994fa75f037c5a91e": {
      "model_module": "@jupyter-widgets/base",
      "model_module_version": "1.2.0",
      "model_name": "LayoutModel",
      "state": {
       "display": "inline-flex",
       "flex_flow": "row wrap",
       "width": "100%"
      }
     },
     "577b2118e8564b4593751e5aecf2d6ad": {
      "model_module": "@jupyter-widgets/controls",
      "model_module_version": "1.5.0",
      "model_name": "HTMLModel",
      "state": {
       "layout": "IPY_MODEL_949934833aeb4e7c96f1a2bc372bd21a",
       "style": "IPY_MODEL_e4b4e66926f740f183bf11445a59ee0b",
       "value": "Validation DataLoader 0: 100%"
      }
     },
     "577fc960d0f0429e8f350faa13efac0f": {
      "model_module": "@jupyter-widgets/base",
      "model_module_version": "1.2.0",
      "model_name": "LayoutModel",
      "state": {}
     },
     "5780c9810b6c4b06a2c5593e27fd9aee": {
      "model_module": "@jupyter-widgets/controls",
      "model_module_version": "1.5.0",
      "model_name": "DescriptionStyleModel",
      "state": {
       "description_width": ""
      }
     },
     "578145b89fcd4fce94b39ba4ec051568": {
      "model_module": "@jupyter-widgets/base",
      "model_module_version": "1.2.0",
      "model_name": "LayoutModel",
      "state": {
       "flex": "2"
      }
     },
     "57907bf0f9cf4da58afbd37e8d81230e": {
      "model_module": "@jupyter-widgets/controls",
      "model_module_version": "1.5.0",
      "model_name": "DescriptionStyleModel",
      "state": {
       "description_width": ""
      }
     },
     "57933a2e90c944a9ba46aab81e59ba65": {
      "model_module": "@jupyter-widgets/controls",
      "model_module_version": "1.5.0",
      "model_name": "HTMLModel",
      "state": {
       "layout": "IPY_MODEL_b0a0f2f98fb646248426115645e04916",
       "style": "IPY_MODEL_5d78a8b65872425e9777ea3d99e5d975",
       "value": "Validation DataLoader 0: 100%"
      }
     },
     "57a057c8d95a434aae5f8a370ba1f6b4": {
      "model_module": "@jupyter-widgets/controls",
      "model_module_version": "1.5.0",
      "model_name": "DescriptionStyleModel",
      "state": {
       "description_width": ""
      }
     },
     "57a5d52f06e142c5afa405e258a0b437": {
      "model_module": "@jupyter-widgets/controls",
      "model_module_version": "1.5.0",
      "model_name": "DescriptionStyleModel",
      "state": {
       "description_width": ""
      }
     },
     "57adaf1da6bd4e22b44fefb4b08476ee": {
      "model_module": "@jupyter-widgets/base",
      "model_module_version": "1.2.0",
      "model_name": "LayoutModel",
      "state": {}
     },
     "57ae3cfedb83487591f4d3d681bb48b9": {
      "model_module": "@jupyter-widgets/controls",
      "model_module_version": "1.5.0",
      "model_name": "ProgressStyleModel",
      "state": {
       "description_width": ""
      }
     },
     "57b9e2a1556742bb8a701af8e72f8b08": {
      "model_module": "@jupyter-widgets/controls",
      "model_module_version": "1.5.0",
      "model_name": "DescriptionStyleModel",
      "state": {
       "description_width": ""
      }
     },
     "57ce6021984b4d7bb564613a970733c5": {
      "model_module": "@jupyter-widgets/controls",
      "model_module_version": "1.5.0",
      "model_name": "DescriptionStyleModel",
      "state": {
       "description_width": ""
      }
     },
     "57f9fb1c029a4c14a16b67c23e6f8f26": {
      "model_module": "@jupyter-widgets/base",
      "model_module_version": "1.2.0",
      "model_name": "LayoutModel",
      "state": {
       "display": "inline-flex",
       "flex_flow": "row wrap",
       "width": "100%"
      }
     },
     "57fff89c98414c039dc501bfa36196f8": {
      "model_module": "@jupyter-widgets/base",
      "model_module_version": "1.2.0",
      "model_name": "LayoutModel",
      "state": {
       "flex": "2"
      }
     },
     "5802972fddbb4ee8871db519d6c07cec": {
      "model_module": "@jupyter-widgets/base",
      "model_module_version": "1.2.0",
      "model_name": "LayoutModel",
      "state": {}
     },
     "580305396f764400afbee79ca8666637": {
      "model_module": "@jupyter-widgets/controls",
      "model_module_version": "1.5.0",
      "model_name": "DescriptionStyleModel",
      "state": {
       "description_width": ""
      }
     },
     "5816170911544a0fb6915a45abb5a5f6": {
      "model_module": "@jupyter-widgets/controls",
      "model_module_version": "1.5.0",
      "model_name": "DescriptionStyleModel",
      "state": {
       "description_width": ""
      }
     },
     "58359c704aae4d369ccdb9c5edf20934": {
      "model_module": "@jupyter-widgets/controls",
      "model_module_version": "1.5.0",
      "model_name": "ProgressStyleModel",
      "state": {
       "description_width": ""
      }
     },
     "5845239ff8904a2ebfa1a8a78b1c02f3": {
      "model_module": "@jupyter-widgets/controls",
      "model_module_version": "1.5.0",
      "model_name": "ProgressStyleModel",
      "state": {
       "description_width": ""
      }
     },
     "58477769cdfc418aab9b594c1d869db5": {
      "model_module": "@jupyter-widgets/controls",
      "model_module_version": "1.5.0",
      "model_name": "DescriptionStyleModel",
      "state": {
       "description_width": ""
      }
     },
     "5848e19a1dad4254a973dbd38fb64b6c": {
      "model_module": "@jupyter-widgets/controls",
      "model_module_version": "1.5.0",
      "model_name": "FloatProgressModel",
      "state": {
       "layout": "IPY_MODEL_fa1601169e764dbfacca1b125e3e9012",
       "max": 77,
       "style": "IPY_MODEL_03e4bfc9eec04bcebaf1a150624ed72d",
       "value": 1
      }
     },
     "585075e5e9234afb82a5848ca854bf3e": {
      "model_module": "@jupyter-widgets/base",
      "model_module_version": "1.2.0",
      "model_name": "LayoutModel",
      "state": {
       "flex": "2"
      }
     },
     "58636abd83bc48a8878d022e51c7ef8c": {
      "model_module": "@jupyter-widgets/base",
      "model_module_version": "1.2.0",
      "model_name": "LayoutModel",
      "state": {}
     },
     "588300a096874628843f06cfd446a5ce": {
      "model_module": "@jupyter-widgets/controls",
      "model_module_version": "1.5.0",
      "model_name": "FloatProgressModel",
      "state": {
       "layout": "IPY_MODEL_f2d8957fa4934a6ca0f6b993025126bb",
       "max": 16,
       "style": "IPY_MODEL_da74affa27de4b118fd27105544b0872",
       "value": 16
      }
     },
     "58bf600465a54c9d952ca50cf6a924fc": {
      "model_module": "@jupyter-widgets/controls",
      "model_module_version": "1.5.0",
      "model_name": "HBoxModel",
      "state": {
       "children": [
        "IPY_MODEL_b066eb0efe484594b546e33ab88b4bd4",
        "IPY_MODEL_3959963b115143fba77e93563686e38b",
        "IPY_MODEL_f9f4567a41fb4883a530c0f65fee4e21"
       ],
       "layout": "IPY_MODEL_503932e39f5641669ed2ce12cdd80666"
      }
     },
     "58de4af847f14cc5a2bd025665e9b453": {
      "model_module": "@jupyter-widgets/controls",
      "model_module_version": "1.5.0",
      "model_name": "DescriptionStyleModel",
      "state": {
       "description_width": ""
      }
     },
     "58dfb75027fb48d1b213c6b473553e74": {
      "model_module": "@jupyter-widgets/base",
      "model_module_version": "1.2.0",
      "model_name": "LayoutModel",
      "state": {
       "flex": "2"
      }
     },
     "58f3b543c9654d459f45eff93e3742e8": {
      "model_module": "@jupyter-widgets/controls",
      "model_module_version": "1.5.0",
      "model_name": "HTMLModel",
      "state": {
       "layout": "IPY_MODEL_60c8e2f915c145bd95a0af03e96a3079",
       "style": "IPY_MODEL_4e7d126d3a84475e9d7249d9881f8975",
       "value": " 16/16 [00:01&lt;00:00,  8.14it/s]"
      }
     },
     "5903fe2ea7fa4d1c84a57002ab1f0c15": {
      "model_module": "@jupyter-widgets/base",
      "model_module_version": "1.2.0",
      "model_name": "LayoutModel",
      "state": {}
     },
     "5909fc38a3f549fdacbabbfc08f53486": {
      "model_module": "@jupyter-widgets/base",
      "model_module_version": "1.2.0",
      "model_name": "LayoutModel",
      "state": {
       "flex": "2"
      }
     },
     "5910616410c14392a20bcb8b14ffcfd8": {
      "model_module": "@jupyter-widgets/controls",
      "model_module_version": "1.5.0",
      "model_name": "HTMLModel",
      "state": {
       "layout": "IPY_MODEL_2baeded1b6da4a72a794779056d55611",
       "style": "IPY_MODEL_3e54a7240b3c47a995008bcf5430a3fb",
       "value": " 16/16 [00:00&lt;00:00, 17.90it/s]"
      }
     },
     "59372a3123cc466584701f72bd27d029": {
      "model_module": "@jupyter-widgets/controls",
      "model_module_version": "1.5.0",
      "model_name": "HTMLModel",
      "state": {
       "layout": "IPY_MODEL_06873e8e6b5046e7815ad49f50383ad4",
       "style": "IPY_MODEL_f5249a981fd6423299399a58f858092d",
       "value": "Epoch 24:  40%"
      }
     },
     "5948934313ca40b0b522341fe7856742": {
      "model_module": "@jupyter-widgets/base",
      "model_module_version": "1.2.0",
      "model_name": "LayoutModel",
      "state": {
       "flex": "2"
      }
     },
     "596d0d7049834a0e8e7fca981614a76e": {
      "model_module": "@jupyter-widgets/base",
      "model_module_version": "1.2.0",
      "model_name": "LayoutModel",
      "state": {
       "display": "inline-flex",
       "flex_flow": "row wrap",
       "width": "100%"
      }
     },
     "59a46d0c50e94e50b541d98ec321174c": {
      "model_module": "@jupyter-widgets/controls",
      "model_module_version": "1.5.0",
      "model_name": "HTMLModel",
      "state": {
       "layout": "IPY_MODEL_a8f7ac666ca74058af5c87d9275a0445",
       "style": "IPY_MODEL_7c5b7cbc6d6342afb03760940973d5e3",
       "value": "Validation DataLoader 0: 100%"
      }
     },
     "59a878f62e7144c2be41ddbc996253e2": {
      "model_module": "@jupyter-widgets/controls",
      "model_module_version": "1.5.0",
      "model_name": "ProgressStyleModel",
      "state": {
       "description_width": ""
      }
     },
     "59d28685e4954882a7c32f334dd5240f": {
      "model_module": "@jupyter-widgets/controls",
      "model_module_version": "1.5.0",
      "model_name": "HTMLModel",
      "state": {
       "layout": "IPY_MODEL_9eecd6b2d22940269dc8e6dd76761d4e",
       "style": "IPY_MODEL_cc6d1379cbde4738ad0e2780c890a374",
       "value": "Validation DataLoader 0: 100%"
      }
     },
     "59e4efdfce9e4368a9629f21845fe870": {
      "model_module": "@jupyter-widgets/base",
      "model_module_version": "1.2.0",
      "model_name": "LayoutModel",
      "state": {
       "display": "inline-flex",
       "flex_flow": "row wrap",
       "width": "100%"
      }
     },
     "59e59addd03f4889ab3a097a3c294182": {
      "model_module": "@jupyter-widgets/controls",
      "model_module_version": "1.5.0",
      "model_name": "ProgressStyleModel",
      "state": {
       "description_width": ""
      }
     },
     "59f2f1887b72447ea1170e7dddb4c425": {
      "model_module": "@jupyter-widgets/controls",
      "model_module_version": "1.5.0",
      "model_name": "HTMLModel",
      "state": {
       "layout": "IPY_MODEL_8786e258ea574af281b48b9f2c46c162",
       "style": "IPY_MODEL_03026b22d66f40b8ab42b28cb6447860",
       "value": " 16/16 [00:04&lt;00:00,  3.62it/s]"
      }
     },
     "5a0a63f69a7d45dab2ab5ad7daedbcc3": {
      "model_module": "@jupyter-widgets/base",
      "model_module_version": "1.2.0",
      "model_name": "LayoutModel",
      "state": {
       "display": "inline-flex",
       "flex_flow": "row wrap",
       "width": "100%"
      }
     },
     "5a17fb8a992742c49dc114b2c0f004a5": {
      "model_module": "@jupyter-widgets/controls",
      "model_module_version": "1.5.0",
      "model_name": "ProgressStyleModel",
      "state": {
       "description_width": ""
      }
     },
     "5a1c8461ca504959a8eb01b1f27bfa5a": {
      "model_module": "@jupyter-widgets/base",
      "model_module_version": "1.2.0",
      "model_name": "LayoutModel",
      "state": {
       "display": "inline-flex",
       "flex_flow": "row wrap",
       "width": "100%"
      }
     },
     "5a248584aa9f4c91a346d03043d0174f": {
      "model_module": "@jupyter-widgets/controls",
      "model_module_version": "1.5.0",
      "model_name": "HTMLModel",
      "state": {
       "layout": "IPY_MODEL_b958ff64b4214ec1a860cbe9231cc866",
       "style": "IPY_MODEL_3368e519cabd48f1b1332f11eb32adb3",
       "value": " 16/16 [00:04&lt;00:00,  3.26it/s]"
      }
     },
     "5a2d5cbd108d4feb996f033aada9e295": {
      "model_module": "@jupyter-widgets/base",
      "model_module_version": "1.2.0",
      "model_name": "LayoutModel",
      "state": {}
     },
     "5a3cd07761d64aca87483219d70e9e73": {
      "model_module": "@jupyter-widgets/controls",
      "model_module_version": "1.5.0",
      "model_name": "FloatProgressModel",
      "state": {
       "layout": "IPY_MODEL_16fc265049ca4666bb8106302a2a0b47",
       "max": 16,
       "style": "IPY_MODEL_1931c416673f478f899f589fce50b6a6",
       "value": 16
      }
     },
     "5a422d99ff9e4cefb90bf599474f7729": {
      "model_module": "@jupyter-widgets/controls",
      "model_module_version": "1.5.0",
      "model_name": "DescriptionStyleModel",
      "state": {
       "description_width": ""
      }
     },
     "5a445d744be44c569ccac1b8b5eb34c7": {
      "model_module": "@jupyter-widgets/controls",
      "model_module_version": "1.5.0",
      "model_name": "FloatProgressModel",
      "state": {
       "layout": "IPY_MODEL_a5db7431ff5249ec89c6224c70663daf",
       "max": 16,
       "style": "IPY_MODEL_a5cc5d3a59944e898e21f69358a73a58",
       "value": 16
      }
     },
     "5a8622a902b3443689f77aa895ce8f02": {
      "model_module": "@jupyter-widgets/controls",
      "model_module_version": "1.5.0",
      "model_name": "FloatProgressModel",
      "state": {
       "layout": "IPY_MODEL_258f21c52005466384df0cc20f45df72",
       "max": 16,
       "style": "IPY_MODEL_97d00ec9203d4e8ba456b80c204e9285",
       "value": 16
      }
     },
     "5aa0ad0cbe3e4419b8081c9ea68ffefa": {
      "model_module": "@jupyter-widgets/base",
      "model_module_version": "1.2.0",
      "model_name": "LayoutModel",
      "state": {}
     },
     "5adc283a1c474fd3ba551cdd25305cd5": {
      "model_module": "@jupyter-widgets/controls",
      "model_module_version": "1.5.0",
      "model_name": "ProgressStyleModel",
      "state": {
       "description_width": ""
      }
     },
     "5ae65b4952474495b4a6205065b7f613": {
      "model_module": "@jupyter-widgets/base",
      "model_module_version": "1.2.0",
      "model_name": "LayoutModel",
      "state": {
       "flex": "2"
      }
     },
     "5af54e97b50d42a3b9da2f6cf7c92850": {
      "model_module": "@jupyter-widgets/controls",
      "model_module_version": "1.5.0",
      "model_name": "ProgressStyleModel",
      "state": {
       "description_width": ""
      }
     },
     "5afb47df883147e8a9b54332b185908e": {
      "model_module": "@jupyter-widgets/base",
      "model_module_version": "1.2.0",
      "model_name": "LayoutModel",
      "state": {}
     },
     "5b065c2534cc4f99b952f3e5ad190232": {
      "model_module": "@jupyter-widgets/controls",
      "model_module_version": "1.5.0",
      "model_name": "DescriptionStyleModel",
      "state": {
       "description_width": ""
      }
     },
     "5b10043f39b5400aaf1e0aa916621d62": {
      "model_module": "@jupyter-widgets/controls",
      "model_module_version": "1.5.0",
      "model_name": "HTMLModel",
      "state": {
       "layout": "IPY_MODEL_17e49e0e43a648e2892282a3219c15be",
       "style": "IPY_MODEL_a3ad04b24895432bafddc3ae2339c92b",
       "value": "Validation DataLoader 0: 100%"
      }
     },
     "5b3a10a19910434cb9cf7e331f205b61": {
      "model_module": "@jupyter-widgets/controls",
      "model_module_version": "1.5.0",
      "model_name": "HTMLModel",
      "state": {
       "layout": "IPY_MODEL_c070e970e69346a1a6f805d45dbb471a",
       "style": "IPY_MODEL_e178b231ecc9454e96bce7770045eb37",
       "value": "Validation DataLoader 0: 100%"
      }
     },
     "5b709a5a6f5842728c8eafb429a54e88": {
      "model_module": "@jupyter-widgets/base",
      "model_module_version": "1.2.0",
      "model_name": "LayoutModel",
      "state": {}
     },
     "5b8e114959ca4f33811ff80b6d83dfc7": {
      "model_module": "@jupyter-widgets/controls",
      "model_module_version": "1.5.0",
      "model_name": "DescriptionStyleModel",
      "state": {
       "description_width": ""
      }
     },
     "5b90e068170f4bf39cc3f9810adbe9ac": {
      "model_module": "@jupyter-widgets/base",
      "model_module_version": "1.2.0",
      "model_name": "LayoutModel",
      "state": {
       "flex": "2"
      }
     },
     "5b92c80edf814ce2afafc9f7549cbde1": {
      "model_module": "@jupyter-widgets/controls",
      "model_module_version": "1.5.0",
      "model_name": "DescriptionStyleModel",
      "state": {
       "description_width": ""
      }
     },
     "5b9ae404f60a43c3b90d12df62f32d68": {
      "model_module": "@jupyter-widgets/controls",
      "model_module_version": "1.5.0",
      "model_name": "HTMLModel",
      "state": {
       "layout": "IPY_MODEL_cd1ad88ce962443eb72b2d209678d908",
       "style": "IPY_MODEL_21966a5ec07b4d9988820e73a0ed3889",
       "value": " 16/16 [00:02&lt;00:00,  7.64it/s]"
      }
     },
     "5ba5b4893c2c413ba4c6c3a506ddd7fe": {
      "model_module": "@jupyter-widgets/base",
      "model_module_version": "1.2.0",
      "model_name": "LayoutModel",
      "state": {
       "display": "inline-flex",
       "flex_flow": "row wrap",
       "width": "100%"
      }
     },
     "5bc67540d0f5451687241209049a26ec": {
      "model_module": "@jupyter-widgets/controls",
      "model_module_version": "1.5.0",
      "model_name": "ProgressStyleModel",
      "state": {
       "description_width": ""
      }
     },
     "5bc843296acb49a8a0abf36c038ff6dd": {
      "model_module": "@jupyter-widgets/base",
      "model_module_version": "1.2.0",
      "model_name": "LayoutModel",
      "state": {
       "flex": "2"
      }
     },
     "5beb93e05fd640dd998f791003ad6cb9": {
      "model_module": "@jupyter-widgets/base",
      "model_module_version": "1.2.0",
      "model_name": "LayoutModel",
      "state": {
       "display": "inline-flex",
       "flex_flow": "row wrap",
       "width": "100%"
      }
     },
     "5c0c867a78944955a22030855f7748cb": {
      "model_module": "@jupyter-widgets/controls",
      "model_module_version": "1.5.0",
      "model_name": "HTMLModel",
      "state": {
       "layout": "IPY_MODEL_8f1ced42e0a34cb796e5a0096259ea95",
       "style": "IPY_MODEL_d8c706488024452689914528dd927a83",
       "value": "Epoch 0:  10%"
      }
     },
     "5c0f5104279e4dc1829df28ef489af49": {
      "model_module": "@jupyter-widgets/base",
      "model_module_version": "1.2.0",
      "model_name": "LayoutModel",
      "state": {}
     },
     "5c43dc48f80c4f3792cc70152f4db9cc": {
      "model_module": "@jupyter-widgets/controls",
      "model_module_version": "1.5.0",
      "model_name": "HTMLModel",
      "state": {
       "layout": "IPY_MODEL_1853cdad162e47bf97cd67c8833c7961",
       "style": "IPY_MODEL_a88a448fcc9c47ed9f737a302cdb3efd",
       "value": "Sanity Checking DataLoader 0: 100%"
      }
     },
     "5c591954d44a41a1933cd06de605c40c": {
      "model_module": "@jupyter-widgets/controls",
      "model_module_version": "1.5.0",
      "model_name": "DescriptionStyleModel",
      "state": {
       "description_width": ""
      }
     },
     "5c635491664844d6812fdf9eeb2bc021": {
      "model_module": "@jupyter-widgets/controls",
      "model_module_version": "1.5.0",
      "model_name": "FloatProgressModel",
      "state": {
       "layout": "IPY_MODEL_515d7ca8ce8541ef9cf3e2c9e59ef4b3",
       "max": 16,
       "style": "IPY_MODEL_e9f0341c67fe47e498dd5e06b7003341",
       "value": 16
      }
     },
     "5c754955da4740369cc62f7b4284e0f7": {
      "model_module": "@jupyter-widgets/controls",
      "model_module_version": "1.5.0",
      "model_name": "ProgressStyleModel",
      "state": {
       "description_width": ""
      }
     },
     "5c7e01e3b184460aa0de4c0af305b4bd": {
      "model_module": "@jupyter-widgets/controls",
      "model_module_version": "1.5.0",
      "model_name": "HTMLModel",
      "state": {
       "layout": "IPY_MODEL_5cb373e5b66d40c5b6f18b093e08e893",
       "style": "IPY_MODEL_109aa033c9f64f1b8f365759475b6ad7",
       "value": "Validation DataLoader 0: 100%"
      }
     },
     "5c8b9feb9dea4c92be8e4cc9a03a2714": {
      "model_module": "@jupyter-widgets/controls",
      "model_module_version": "1.5.0",
      "model_name": "DescriptionStyleModel",
      "state": {
       "description_width": ""
      }
     },
     "5c9a2e701f794bc49ae87df2f2e3fb19": {
      "model_module": "@jupyter-widgets/controls",
      "model_module_version": "1.5.0",
      "model_name": "HTMLModel",
      "state": {
       "layout": "IPY_MODEL_eaca46efb4534bfa81308698adde801d",
       "style": "IPY_MODEL_0d6f0bc6a0bb44d5a0e9b51b52650b0e",
       "value": "Epoch 0: 100%"
      }
     },
     "5c9f13bd3f624411b4d69e1f703e0c63": {
      "model_module": "@jupyter-widgets/base",
      "model_module_version": "1.2.0",
      "model_name": "LayoutModel",
      "state": {}
     },
     "5cb373e5b66d40c5b6f18b093e08e893": {
      "model_module": "@jupyter-widgets/base",
      "model_module_version": "1.2.0",
      "model_name": "LayoutModel",
      "state": {}
     },
     "5cb5a45a577048a7b76190d4d6d7dc21": {
      "model_module": "@jupyter-widgets/controls",
      "model_module_version": "1.5.0",
      "model_name": "DescriptionStyleModel",
      "state": {
       "description_width": ""
      }
     },
     "5cbad5eaa09d4ed889cfc2f5a548e501": {
      "model_module": "@jupyter-widgets/controls",
      "model_module_version": "1.5.0",
      "model_name": "HTMLModel",
      "state": {
       "layout": "IPY_MODEL_9a651da9f10545e681395d57a3aac2b0",
       "style": "IPY_MODEL_efd17d65d31640fcb2a28b54881d613c",
       "value": " 16/16 [00:00&lt;00:00, 20.30it/s]"
      }
     },
     "5cf74bb70df9406da981e462848e9293": {
      "model_module": "@jupyter-widgets/controls",
      "model_module_version": "1.5.0",
      "model_name": "HTMLModel",
      "state": {
       "layout": "IPY_MODEL_0942c1a6b6b740caa91641b737ed6567",
       "style": "IPY_MODEL_52b68f9193c94d26a45d12c4af4f8d6f",
       "value": " 16/16 [00:02&lt;00:00,  7.08it/s]"
      }
     },
     "5cfafef0396b4cbbba6d29174781d802": {
      "model_module": "@jupyter-widgets/controls",
      "model_module_version": "1.5.0",
      "model_name": "HTMLModel",
      "state": {
       "layout": "IPY_MODEL_bb834be15e144878b6c6169613de0639",
       "style": "IPY_MODEL_c14cfefa2aab41e0ad69868cfa52afe5",
       "value": " 16/16 [00:05&lt;00:00,  3.37it/s]"
      }
     },
     "5d33ddf2b6e94fd995f04e9fc500212d": {
      "model_module": "@jupyter-widgets/base",
      "model_module_version": "1.2.0",
      "model_name": "LayoutModel",
      "state": {}
     },
     "5d3d43758d364d77875b08170ff1e038": {
      "model_module": "@jupyter-widgets/base",
      "model_module_version": "1.2.0",
      "model_name": "LayoutModel",
      "state": {
       "display": "inline-flex",
       "flex_flow": "row wrap",
       "width": "100%"
      }
     },
     "5d78a8b65872425e9777ea3d99e5d975": {
      "model_module": "@jupyter-widgets/controls",
      "model_module_version": "1.5.0",
      "model_name": "DescriptionStyleModel",
      "state": {
       "description_width": ""
      }
     },
     "5d7d6f9aa3e64eada45a9a9937958ada": {
      "model_module": "@jupyter-widgets/controls",
      "model_module_version": "1.5.0",
      "model_name": "ProgressStyleModel",
      "state": {
       "description_width": ""
      }
     },
     "5d868d01ff4c43adbe4ac8fb0120ffe1": {
      "model_module": "@jupyter-widgets/controls",
      "model_module_version": "1.5.0",
      "model_name": "DescriptionStyleModel",
      "state": {
       "description_width": ""
      }
     },
     "5d8eec251169420897d61fb5de042ef1": {
      "model_module": "@jupyter-widgets/base",
      "model_module_version": "1.2.0",
      "model_name": "LayoutModel",
      "state": {}
     },
     "5d9aa726662846e3acb542ae9e48fe9f": {
      "model_module": "@jupyter-widgets/base",
      "model_module_version": "1.2.0",
      "model_name": "LayoutModel",
      "state": {}
     },
     "5dad396440194158948a50f1608a2c98": {
      "model_module": "@jupyter-widgets/controls",
      "model_module_version": "1.5.0",
      "model_name": "DescriptionStyleModel",
      "state": {
       "description_width": ""
      }
     },
     "5dc59df5d5744b4baf78e4ff15b757f9": {
      "model_module": "@jupyter-widgets/controls",
      "model_module_version": "1.5.0",
      "model_name": "DescriptionStyleModel",
      "state": {
       "description_width": ""
      }
     },
     "5df053babd724735acff97bbb0528f6a": {
      "model_module": "@jupyter-widgets/base",
      "model_module_version": "1.2.0",
      "model_name": "LayoutModel",
      "state": {}
     },
     "5e00f32f259c4151bcc014bd2cdfda6c": {
      "model_module": "@jupyter-widgets/controls",
      "model_module_version": "1.5.0",
      "model_name": "ProgressStyleModel",
      "state": {
       "description_width": ""
      }
     },
     "5e104d9711e64c4c8a5fd76a48bd268e": {
      "model_module": "@jupyter-widgets/controls",
      "model_module_version": "1.5.0",
      "model_name": "HTMLModel",
      "state": {
       "layout": "IPY_MODEL_5edcb57d92324106b839880b23575df3",
       "style": "IPY_MODEL_07b8062989044ae49588a8194cf90eaf",
       "value": " 16/16 [00:00&lt;00:00, 19.78it/s]"
      }
     },
     "5e1c671c3ebd447182658e5142864171": {
      "model_module": "@jupyter-widgets/controls",
      "model_module_version": "1.5.0",
      "model_name": "DescriptionStyleModel",
      "state": {
       "description_width": ""
      }
     },
     "5e201077813348399541fe3f6ae95c3b": {
      "model_module": "@jupyter-widgets/base",
      "model_module_version": "1.2.0",
      "model_name": "LayoutModel",
      "state": {
       "display": "inline-flex",
       "flex_flow": "row wrap",
       "width": "100%"
      }
     },
     "5e42a0c0f64348d6a9edc8cf1d2706d9": {
      "model_module": "@jupyter-widgets/controls",
      "model_module_version": "1.5.0",
      "model_name": "FloatProgressModel",
      "state": {
       "layout": "IPY_MODEL_8ae99cb84d494dd7b91f13181e786012",
       "max": 16,
       "style": "IPY_MODEL_def8f4e320074d7e8cb987e32ba15120",
       "value": 16
      }
     },
     "5e618d869266476ba16af16cf7c22f99": {
      "model_module": "@jupyter-widgets/controls",
      "model_module_version": "1.5.0",
      "model_name": "ProgressStyleModel",
      "state": {
       "description_width": ""
      }
     },
     "5e6be0dd4e6d48db9b10cbf01e16f571": {
      "model_module": "@jupyter-widgets/base",
      "model_module_version": "1.2.0",
      "model_name": "LayoutModel",
      "state": {
       "display": "inline-flex",
       "flex_flow": "row wrap",
       "width": "100%"
      }
     },
     "5e6c45517a50454484a929ecfa2fbc00": {
      "model_module": "@jupyter-widgets/controls",
      "model_module_version": "1.5.0",
      "model_name": "DescriptionStyleModel",
      "state": {
       "description_width": ""
      }
     },
     "5e954b29ca4b42468c492e9684d9c6ce": {
      "model_module": "@jupyter-widgets/controls",
      "model_module_version": "1.5.0",
      "model_name": "ProgressStyleModel",
      "state": {
       "description_width": ""
      }
     },
     "5e9e42e1efbc41afa37b889286f43e8f": {
      "model_module": "@jupyter-widgets/controls",
      "model_module_version": "1.5.0",
      "model_name": "HTMLModel",
      "state": {
       "layout": "IPY_MODEL_1fb898e8149c4bc6a94995f91bd0b319",
       "style": "IPY_MODEL_e8ebad1b6e15467a8a8eade14de50f18",
       "value": "Validation DataLoader 0: 100%"
      }
     },
     "5ea0aa46cdf143dabe5758200c33d87d": {
      "model_module": "@jupyter-widgets/controls",
      "model_module_version": "1.5.0",
      "model_name": "DescriptionStyleModel",
      "state": {
       "description_width": ""
      }
     },
     "5eb2f3ed826c43a4b86992c4c4c2d1f2": {
      "model_module": "@jupyter-widgets/base",
      "model_module_version": "1.2.0",
      "model_name": "LayoutModel",
      "state": {}
     },
     "5edcb57d92324106b839880b23575df3": {
      "model_module": "@jupyter-widgets/base",
      "model_module_version": "1.2.0",
      "model_name": "LayoutModel",
      "state": {}
     },
     "5efce53d476644d8b1a2de2f09f39187": {
      "model_module": "@jupyter-widgets/base",
      "model_module_version": "1.2.0",
      "model_name": "LayoutModel",
      "state": {}
     },
     "5f1582508a5b49209ae79ca3a849e6fd": {
      "model_module": "@jupyter-widgets/base",
      "model_module_version": "1.2.0",
      "model_name": "LayoutModel",
      "state": {
       "flex": "2"
      }
     },
     "5f4d798e43214a009fed7ffb90b75e4a": {
      "model_module": "@jupyter-widgets/base",
      "model_module_version": "1.2.0",
      "model_name": "LayoutModel",
      "state": {
       "display": "inline-flex",
       "flex_flow": "row wrap",
       "width": "100%"
      }
     },
     "5f62771b14ac42c8bb7f933b35fc3fb1": {
      "model_module": "@jupyter-widgets/controls",
      "model_module_version": "1.5.0",
      "model_name": "FloatProgressModel",
      "state": {
       "layout": "IPY_MODEL_42186841785c4d6b8e0ac54938102e87",
       "max": 16,
       "style": "IPY_MODEL_9b3fe479baef4ade8a01649bc1123f76",
       "value": 16
      }
     },
     "5f6c9b55642c4f04b4fddc569b28f662": {
      "model_module": "@jupyter-widgets/controls",
      "model_module_version": "1.5.0",
      "model_name": "DescriptionStyleModel",
      "state": {
       "description_width": ""
      }
     },
     "5f6cf7aa1ef841178e06b44c8c7f1995": {
      "model_module": "@jupyter-widgets/controls",
      "model_module_version": "1.5.0",
      "model_name": "DescriptionStyleModel",
      "state": {
       "description_width": ""
      }
     },
     "5f6dc3ccbf1442ad833064b0bdec1c07": {
      "model_module": "@jupyter-widgets/controls",
      "model_module_version": "1.5.0",
      "model_name": "DescriptionStyleModel",
      "state": {
       "description_width": ""
      }
     },
     "5f735f9129e0488ba75ca1859a65bde6": {
      "model_module": "@jupyter-widgets/base",
      "model_module_version": "1.2.0",
      "model_name": "LayoutModel",
      "state": {
       "flex": "2"
      }
     },
     "5fb46d455b6c417f9d23ed079e7230ae": {
      "model_module": "@jupyter-widgets/base",
      "model_module_version": "1.2.0",
      "model_name": "LayoutModel",
      "state": {
       "flex": "2"
      }
     },
     "5fcf59f2ced54c908b18bef77ca0bba7": {
      "model_module": "@jupyter-widgets/base",
      "model_module_version": "1.2.0",
      "model_name": "LayoutModel",
      "state": {}
     },
     "5fd6ba4f675e4ac495ace0b542f727ef": {
      "model_module": "@jupyter-widgets/controls",
      "model_module_version": "1.5.0",
      "model_name": "DescriptionStyleModel",
      "state": {
       "description_width": ""
      }
     },
     "600cbdcfd5c64c9e8552348fa43ea7fe": {
      "model_module": "@jupyter-widgets/base",
      "model_module_version": "1.2.0",
      "model_name": "LayoutModel",
      "state": {
       "display": "inline-flex",
       "flex_flow": "row wrap",
       "width": "100%"
      }
     },
     "605111ad64164d3f924a3b20ab06e472": {
      "model_module": "@jupyter-widgets/base",
      "model_module_version": "1.2.0",
      "model_name": "LayoutModel",
      "state": {
       "display": "inline-flex",
       "flex_flow": "row wrap",
       "width": "100%"
      }
     },
     "607a2369b5004db3b0408c529f04f7bc": {
      "model_module": "@jupyter-widgets/controls",
      "model_module_version": "1.5.0",
      "model_name": "DescriptionStyleModel",
      "state": {
       "description_width": ""
      }
     },
     "60c62e4ca6e84a169e5b33a66122b5f1": {
      "model_module": "@jupyter-widgets/base",
      "model_module_version": "1.2.0",
      "model_name": "LayoutModel",
      "state": {}
     },
     "60c8e2f915c145bd95a0af03e96a3079": {
      "model_module": "@jupyter-widgets/base",
      "model_module_version": "1.2.0",
      "model_name": "LayoutModel",
      "state": {}
     },
     "60cc9709afdc4bc0b00eb4e3faa9b2d4": {
      "model_module": "@jupyter-widgets/base",
      "model_module_version": "1.2.0",
      "model_name": "LayoutModel",
      "state": {
       "display": "inline-flex",
       "flex_flow": "row wrap",
       "width": "100%"
      }
     },
     "60d4756e12fe46d0869b6ec52748e72d": {
      "model_module": "@jupyter-widgets/controls",
      "model_module_version": "1.5.0",
      "model_name": "FloatProgressModel",
      "state": {
       "layout": "IPY_MODEL_8913c94df13d4196973b105fcdba59a6",
       "max": 16,
       "style": "IPY_MODEL_20c682a45e3e480bb83c18ebab030b09",
       "value": 16
      }
     },
     "60d6e95766bd4965a40f1572394e3dd3": {
      "model_module": "@jupyter-widgets/controls",
      "model_module_version": "1.5.0",
      "model_name": "DescriptionStyleModel",
      "state": {
       "description_width": ""
      }
     },
     "60dafdbe08f140e9b4ba1a9d71e9ddef": {
      "model_module": "@jupyter-widgets/controls",
      "model_module_version": "1.5.0",
      "model_name": "FloatProgressModel",
      "state": {
       "layout": "IPY_MODEL_5ae65b4952474495b4a6205065b7f613",
       "max": 16,
       "style": "IPY_MODEL_0d63180e6ae749a09374255b2930a5a0",
       "value": 16
      }
     },
     "60de7b5cc9d447a7a766cc59fd5825f9": {
      "model_module": "@jupyter-widgets/controls",
      "model_module_version": "1.5.0",
      "model_name": "HTMLModel",
      "state": {
       "layout": "IPY_MODEL_519d42debb7e40aea4f9e4cb249f1f2e",
       "style": "IPY_MODEL_fa930031391a4cbeb06e710faa619d1d",
       "value": " 16/16 [00:00&lt;00:00, 19.47it/s]"
      }
     },
     "60f7895db33e4e58a0c48cbaccb89881": {
      "model_module": "@jupyter-widgets/controls",
      "model_module_version": "1.5.0",
      "model_name": "HTMLModel",
      "state": {
       "layout": "IPY_MODEL_f09eca798a0d4473a05562147ab66c7b",
       "style": "IPY_MODEL_d8713cd9389f419bbf72ab25538732dc",
       "value": "Validation DataLoader 0: 100%"
      }
     },
     "60ff3f58bbf643b2a50c3c02e2381e9b": {
      "model_module": "@jupyter-widgets/base",
      "model_module_version": "1.2.0",
      "model_name": "LayoutModel",
      "state": {
       "flex": "2"
      }
     },
     "61070ba1bd72425982adb442a7310a8c": {
      "model_module": "@jupyter-widgets/base",
      "model_module_version": "1.2.0",
      "model_name": "LayoutModel",
      "state": {
       "display": "inline-flex",
       "flex_flow": "row wrap",
       "width": "100%"
      }
     },
     "610f0568453d4415a1089c4f06759966": {
      "model_module": "@jupyter-widgets/controls",
      "model_module_version": "1.5.0",
      "model_name": "ProgressStyleModel",
      "state": {
       "description_width": ""
      }
     },
     "6125090535184e6093c5c3ee52a027bc": {
      "model_module": "@jupyter-widgets/base",
      "model_module_version": "1.2.0",
      "model_name": "LayoutModel",
      "state": {
       "flex": "2"
      }
     },
     "612e738ed3b641abb89d43cc1b73cfeb": {
      "model_module": "@jupyter-widgets/controls",
      "model_module_version": "1.5.0",
      "model_name": "HTMLModel",
      "state": {
       "layout": "IPY_MODEL_247bd66e795b4dcfbcedf4f5b6cdfc88",
       "style": "IPY_MODEL_8f70c51f877e4ba0860269fa9c1982bd",
       "value": " 16/16 [00:04&lt;00:00,  3.63it/s]"
      }
     },
     "613155afed12489580e9731b846a7c07": {
      "model_module": "@jupyter-widgets/controls",
      "model_module_version": "1.5.0",
      "model_name": "FloatProgressModel",
      "state": {
       "layout": "IPY_MODEL_a1bfaa8e6788465a9ed7b4e88a1bc234",
       "max": 16,
       "style": "IPY_MODEL_82cccb5c2d0a40378aad3c69f8707963",
       "value": 16
      }
     },
     "61418a7aae6e4bb3bcbc60e9904dc8c3": {
      "model_module": "@jupyter-widgets/controls",
      "model_module_version": "1.5.0",
      "model_name": "HTMLModel",
      "state": {
       "layout": "IPY_MODEL_924dae7182e145c88dd31bef3783a9c6",
       "style": "IPY_MODEL_751409500c734446bec04a216f4bb591",
       "value": "Validation DataLoader 0: 100%"
      }
     },
     "61487ed26f9043178b5e59c9ec3b3247": {
      "model_module": "@jupyter-widgets/controls",
      "model_module_version": "1.5.0",
      "model_name": "DescriptionStyleModel",
      "state": {
       "description_width": ""
      }
     },
     "616a23efb46f476b8c0a598a7b440460": {
      "model_module": "@jupyter-widgets/controls",
      "model_module_version": "1.5.0",
      "model_name": "ProgressStyleModel",
      "state": {
       "description_width": ""
      }
     },
     "61705aeaa425459d9435251e283e9769": {
      "model_module": "@jupyter-widgets/controls",
      "model_module_version": "1.5.0",
      "model_name": "ProgressStyleModel",
      "state": {
       "description_width": ""
      }
     },
     "6170cbc8ef1b486ebedc132380868560": {
      "model_module": "@jupyter-widgets/base",
      "model_module_version": "1.2.0",
      "model_name": "LayoutModel",
      "state": {}
     },
     "61724cb956bc4320b512efe5d28e29b2": {
      "model_module": "@jupyter-widgets/controls",
      "model_module_version": "1.5.0",
      "model_name": "DescriptionStyleModel",
      "state": {
       "description_width": ""
      }
     },
     "61869d7f7aa140739df2ae7506c26355": {
      "model_module": "@jupyter-widgets/controls",
      "model_module_version": "1.5.0",
      "model_name": "ProgressStyleModel",
      "state": {
       "description_width": ""
      }
     },
     "618a9497c4614703b337672a1ea8abe5": {
      "model_module": "@jupyter-widgets/base",
      "model_module_version": "1.2.0",
      "model_name": "LayoutModel",
      "state": {}
     },
     "61933288b0c84321abd3831203b717c1": {
      "model_module": "@jupyter-widgets/controls",
      "model_module_version": "1.5.0",
      "model_name": "ProgressStyleModel",
      "state": {
       "description_width": ""
      }
     },
     "61a439bc824241a590e8d20d95888fb8": {
      "model_module": "@jupyter-widgets/base",
      "model_module_version": "1.2.0",
      "model_name": "LayoutModel",
      "state": {
       "display": "inline-flex",
       "flex_flow": "row wrap",
       "width": "100%"
      }
     },
     "61b330d443084201815d2ab3098cd8e0": {
      "model_module": "@jupyter-widgets/controls",
      "model_module_version": "1.5.0",
      "model_name": "HTMLModel",
      "state": {
       "layout": "IPY_MODEL_8e623cf7a98240bda7a11c02a5eecd55",
       "style": "IPY_MODEL_26987e0f392042038ab4e2f5c0af966a",
       "value": "Epoch 21:  55%"
      }
     },
     "61b789314f294e74b50d6a1de1d44933": {
      "model_module": "@jupyter-widgets/controls",
      "model_module_version": "1.5.0",
      "model_name": "HTMLModel",
      "state": {
       "layout": "IPY_MODEL_f42c82d633ef4cf79511c07798752276",
       "style": "IPY_MODEL_48dd95875f664819a077954e7705187c",
       "value": "Validation DataLoader 0: 100%"
      }
     },
     "61dcb9cf5c624d6a9557adba4bbb61fb": {
      "model_module": "@jupyter-widgets/controls",
      "model_module_version": "1.5.0",
      "model_name": "DescriptionStyleModel",
      "state": {
       "description_width": ""
      }
     },
     "6200492c3a1340868de25c708b09c7e6": {
      "model_module": "@jupyter-widgets/base",
      "model_module_version": "1.2.0",
      "model_name": "LayoutModel",
      "state": {
       "display": "inline-flex",
       "flex_flow": "row wrap",
       "width": "100%"
      }
     },
     "620e4f26b8134a03bde5370d03f6f60d": {
      "model_module": "@jupyter-widgets/base",
      "model_module_version": "1.2.0",
      "model_name": "LayoutModel",
      "state": {
       "display": "inline-flex",
       "flex_flow": "row wrap",
       "width": "100%"
      }
     },
     "6214e3b8b4494ae1b071df812b640b39": {
      "model_module": "@jupyter-widgets/controls",
      "model_module_version": "1.5.0",
      "model_name": "DescriptionStyleModel",
      "state": {
       "description_width": ""
      }
     },
     "622ad32e3ea549c28a96e7d533acc29e": {
      "model_module": "@jupyter-widgets/controls",
      "model_module_version": "1.5.0",
      "model_name": "HTMLModel",
      "state": {
       "layout": "IPY_MODEL_cbd535b48c9541f090b21e8e34143a72",
       "style": "IPY_MODEL_863bc4303f9a4debb98534fe0aa25ec6",
       "value": " 2/2 [00:00&lt;00:00, 22.50it/s]"
      }
     },
     "62696ec823514a8999b4aa739611ce3f": {
      "model_module": "@jupyter-widgets/controls",
      "model_module_version": "1.5.0",
      "model_name": "ProgressStyleModel",
      "state": {
       "description_width": ""
      }
     },
     "626d2e1ca8094e3e80670d5b0d67b7a8": {
      "model_module": "@jupyter-widgets/controls",
      "model_module_version": "1.5.0",
      "model_name": "DescriptionStyleModel",
      "state": {
       "description_width": ""
      }
     },
     "6275003979b44f20bccbb3e11baee4b9": {
      "model_module": "@jupyter-widgets/base",
      "model_module_version": "1.2.0",
      "model_name": "LayoutModel",
      "state": {}
     },
     "6288bd8363954e1488aaaeaa10c5f16f": {
      "model_module": "@jupyter-widgets/controls",
      "model_module_version": "1.5.0",
      "model_name": "ProgressStyleModel",
      "state": {
       "description_width": ""
      }
     },
     "62a8086ad0b046d39af3382cd7ecd926": {
      "model_module": "@jupyter-widgets/controls",
      "model_module_version": "1.5.0",
      "model_name": "ProgressStyleModel",
      "state": {
       "description_width": ""
      }
     },
     "62bb52df1891441cac631ac768eb555a": {
      "model_module": "@jupyter-widgets/base",
      "model_module_version": "1.2.0",
      "model_name": "LayoutModel",
      "state": {}
     },
     "62cec709757544549051b40637b8818e": {
      "model_module": "@jupyter-widgets/controls",
      "model_module_version": "1.5.0",
      "model_name": "HTMLModel",
      "state": {
       "layout": "IPY_MODEL_337c4606c88941b886aa1ba75e4d6c4a",
       "style": "IPY_MODEL_e0b6ed4b492046bba8cd1653eea5e781",
       "value": "Epoch 49: 100%"
      }
     },
     "62e437e7fac749748362a52ab9fa50cf": {
      "model_module": "@jupyter-widgets/base",
      "model_module_version": "1.2.0",
      "model_name": "LayoutModel",
      "state": {
       "flex": "2"
      }
     },
     "62fe9ad624d645468cff8dcac2831b2a": {
      "model_module": "@jupyter-widgets/controls",
      "model_module_version": "1.5.0",
      "model_name": "ProgressStyleModel",
      "state": {
       "description_width": ""
      }
     },
     "63143bfc27cf4fe59eefd2907c741c1d": {
      "model_module": "@jupyter-widgets/controls",
      "model_module_version": "1.5.0",
      "model_name": "ProgressStyleModel",
      "state": {
       "description_width": ""
      }
     },
     "632426935ac54347b4b2728e5af80f40": {
      "model_module": "@jupyter-widgets/controls",
      "model_module_version": "1.5.0",
      "model_name": "ProgressStyleModel",
      "state": {
       "description_width": ""
      }
     },
     "633b9e1d33b547a28052c00fcddd508f": {
      "model_module": "@jupyter-widgets/base",
      "model_module_version": "1.2.0",
      "model_name": "LayoutModel",
      "state": {
       "flex": "2"
      }
     },
     "6344d9789d044207a18621b04270b3ee": {
      "model_module": "@jupyter-widgets/controls",
      "model_module_version": "1.5.0",
      "model_name": "DescriptionStyleModel",
      "state": {
       "description_width": ""
      }
     },
     "63478ec471084316899db164233d11c8": {
      "model_module": "@jupyter-widgets/controls",
      "model_module_version": "1.5.0",
      "model_name": "FloatProgressModel",
      "state": {
       "layout": "IPY_MODEL_f747cfd937794045b3e6d5a3ce5d9bfb",
       "max": 16,
       "style": "IPY_MODEL_2588a7054ce6404d89d956fddcce7e03",
       "value": 16
      }
     },
     "634fd666efc94743b186f4696afb2422": {
      "model_module": "@jupyter-widgets/base",
      "model_module_version": "1.2.0",
      "model_name": "LayoutModel",
      "state": {}
     },
     "635028d2e73d4f8f8a04dccb2e83e706": {
      "model_module": "@jupyter-widgets/controls",
      "model_module_version": "1.5.0",
      "model_name": "DescriptionStyleModel",
      "state": {
       "description_width": ""
      }
     },
     "6356fa4f095d45f8b4a4dd46424183d3": {
      "model_module": "@jupyter-widgets/controls",
      "model_module_version": "1.5.0",
      "model_name": "HTMLModel",
      "state": {
       "layout": "IPY_MODEL_504f14bde7a244b1a7fa78288727157d",
       "style": "IPY_MODEL_fd8006bfefd642ca9cadcc8d98236e7b",
       "value": " 16/16 [00:04&lt;00:00,  3.45it/s]"
      }
     },
     "635c5dfe31eb4775801ee4c2169b4a3f": {
      "model_module": "@jupyter-widgets/controls",
      "model_module_version": "1.5.0",
      "model_name": "FloatProgressModel",
      "state": {
       "layout": "IPY_MODEL_ed6c01e1890d4b22bc62d036b6211f1d",
       "max": 16,
       "style": "IPY_MODEL_cada392e9ade4f2c94794888c9ce1f66",
       "value": 16
      }
     },
     "6366131699a94b8dbd25ffc90e5f92ba": {
      "model_module": "@jupyter-widgets/base",
      "model_module_version": "1.2.0",
      "model_name": "LayoutModel",
      "state": {}
     },
     "637ab9ca363b483099af135bbcdc6489": {
      "model_module": "@jupyter-widgets/base",
      "model_module_version": "1.2.0",
      "model_name": "LayoutModel",
      "state": {}
     },
     "63865c4319534f7da32411b658976b94": {
      "model_module": "@jupyter-widgets/base",
      "model_module_version": "1.2.0",
      "model_name": "LayoutModel",
      "state": {}
     },
     "63878b1796f94939b26e27b29e975442": {
      "model_module": "@jupyter-widgets/controls",
      "model_module_version": "1.5.0",
      "model_name": "HTMLModel",
      "state": {
       "layout": "IPY_MODEL_ec89c59640bb4203ab71ba4bc221153d",
       "style": "IPY_MODEL_cf8253737ceb4ccd893fa43f59e7f564",
       "value": "Validation DataLoader 0: 100%"
      }
     },
     "639a765baac84d409fa83df11da52906": {
      "model_module": "@jupyter-widgets/base",
      "model_module_version": "1.2.0",
      "model_name": "LayoutModel",
      "state": {}
     },
     "639f71c8ef7748be93a4a5be9ff1aa76": {
      "model_module": "@jupyter-widgets/controls",
      "model_module_version": "1.5.0",
      "model_name": "HTMLModel",
      "state": {
       "layout": "IPY_MODEL_1276b637833c4fce9dadedbe1465679f",
       "style": "IPY_MODEL_39e3dc757af34c969ff483350998a317",
       "value": " 2/2 [00:00&lt;00:00,  4.01it/s]"
      }
     },
     "63c1fd9c40974685b2b78d49313459bd": {
      "model_module": "@jupyter-widgets/base",
      "model_module_version": "1.2.0",
      "model_name": "LayoutModel",
      "state": {}
     },
     "63fb2e276fa84db2880dde57069e5c68": {
      "model_module": "@jupyter-widgets/controls",
      "model_module_version": "1.5.0",
      "model_name": "ProgressStyleModel",
      "state": {
       "description_width": ""
      }
     },
     "6448d22902584cd9a89bff0a0f5cadac": {
      "model_module": "@jupyter-widgets/controls",
      "model_module_version": "1.5.0",
      "model_name": "FloatProgressModel",
      "state": {
       "layout": "IPY_MODEL_75231fba07d44f6597691cd9d4c8c805",
       "max": 77,
       "style": "IPY_MODEL_09d4b4831a8d4fcab7731d0bd83d8f79",
       "value": 15
      }
     },
     "644bfa3f2efb4c6a9f1b363b6ba90ae3": {
      "model_module": "@jupyter-widgets/controls",
      "model_module_version": "1.5.0",
      "model_name": "ProgressStyleModel",
      "state": {
       "description_width": ""
      }
     },
     "6495b5a3c0b345ba8678a3e1129497fc": {
      "model_module": "@jupyter-widgets/controls",
      "model_module_version": "1.5.0",
      "model_name": "ProgressStyleModel",
      "state": {
       "description_width": ""
      }
     },
     "64a724d72ea147b08e2de2e86b8737c9": {
      "model_module": "@jupyter-widgets/base",
      "model_module_version": "1.2.0",
      "model_name": "LayoutModel",
      "state": {}
     },
     "64acb95ce3d9439f9ab6fded7c1fba7a": {
      "model_module": "@jupyter-widgets/base",
      "model_module_version": "1.2.0",
      "model_name": "LayoutModel",
      "state": {}
     },
     "64c912734c8e4271a2246f2a1a834a6f": {
      "model_module": "@jupyter-widgets/base",
      "model_module_version": "1.2.0",
      "model_name": "LayoutModel",
      "state": {
       "flex": "2"
      }
     },
     "65093405298e47fdb8efd1582f6c3f32": {
      "model_module": "@jupyter-widgets/controls",
      "model_module_version": "1.5.0",
      "model_name": "FloatProgressModel",
      "state": {
       "layout": "IPY_MODEL_f97c2a6a1cde42e3b995f2f52f2fbe41",
       "max": 16,
       "style": "IPY_MODEL_0039fbde3524410baea7d6c7ed66fbea",
       "value": 16
      }
     },
     "6512525670db426390dd1c2f4dfe5ad9": {
      "model_module": "@jupyter-widgets/base",
      "model_module_version": "1.2.0",
      "model_name": "LayoutModel",
      "state": {}
     },
     "651b80eeb7e5490cb66ca13722921eb1": {
      "model_module": "@jupyter-widgets/base",
      "model_module_version": "1.2.0",
      "model_name": "LayoutModel",
      "state": {}
     },
     "65200f1fdb0e4f77b77866f773b1f43e": {
      "model_module": "@jupyter-widgets/base",
      "model_module_version": "1.2.0",
      "model_name": "LayoutModel",
      "state": {}
     },
     "652d69d312f6423bbc91a17e5246a121": {
      "model_module": "@jupyter-widgets/base",
      "model_module_version": "1.2.0",
      "model_name": "LayoutModel",
      "state": {
       "flex": "2"
      }
     },
     "652f3825b96e4bc3be85eb1496cedccd": {
      "model_module": "@jupyter-widgets/controls",
      "model_module_version": "1.5.0",
      "model_name": "HTMLModel",
      "state": {
       "layout": "IPY_MODEL_f00d6440dd9646b490ab795007f89d26",
       "style": "IPY_MODEL_06352413881a4166856fdb091be2877e",
       "value": " 16/16 [00:02&lt;00:00,  7.16it/s]"
      }
     },
     "6539b4985aa241c1852dbd04122fc71c": {
      "model_module": "@jupyter-widgets/controls",
      "model_module_version": "1.5.0",
      "model_name": "ProgressStyleModel",
      "state": {
       "description_width": ""
      }
     },
     "653e9e11ed964708ba1d4660b46d909a": {
      "model_module": "@jupyter-widgets/base",
      "model_module_version": "1.2.0",
      "model_name": "LayoutModel",
      "state": {
       "flex": "2"
      }
     },
     "6540102f11124e14ae22b0cba68b9c5b": {
      "model_module": "@jupyter-widgets/base",
      "model_module_version": "1.2.0",
      "model_name": "LayoutModel",
      "state": {}
     },
     "656c6073aa184060a4f8f5e3aa491ee3": {
      "model_module": "@jupyter-widgets/controls",
      "model_module_version": "1.5.0",
      "model_name": "FloatProgressModel",
      "state": {
       "layout": "IPY_MODEL_06c0b229b1df47af8ea2463697e58da7",
       "max": 16,
       "style": "IPY_MODEL_e69d995e702a4d44a2da41d24a26209f",
       "value": 16
      }
     },
     "656e257a3d6647aaae8f425f0a744c77": {
      "model_module": "@jupyter-widgets/controls",
      "model_module_version": "1.5.0",
      "model_name": "DescriptionStyleModel",
      "state": {
       "description_width": ""
      }
     },
     "6571fca51cf84bdcb6c5e847ce3310b7": {
      "model_module": "@jupyter-widgets/controls",
      "model_module_version": "1.5.0",
      "model_name": "DescriptionStyleModel",
      "state": {
       "description_width": ""
      }
     },
     "658553fd5e0c4804b7f11129620964aa": {
      "model_module": "@jupyter-widgets/controls",
      "model_module_version": "1.5.0",
      "model_name": "DescriptionStyleModel",
      "state": {
       "description_width": ""
      }
     },
     "65a17e5b95f74e11b9de4d5ec8dfd24e": {
      "model_module": "@jupyter-widgets/base",
      "model_module_version": "1.2.0",
      "model_name": "LayoutModel",
      "state": {
       "display": "inline-flex",
       "flex_flow": "row wrap",
       "width": "100%"
      }
     },
     "65e307c953ff493a99934e2a248163af": {
      "model_module": "@jupyter-widgets/base",
      "model_module_version": "1.2.0",
      "model_name": "LayoutModel",
      "state": {
       "flex": "2"
      }
     },
     "6629434e61484a42a261883ee0e9a620": {
      "model_module": "@jupyter-widgets/controls",
      "model_module_version": "1.5.0",
      "model_name": "FloatProgressModel",
      "state": {
       "layout": "IPY_MODEL_d5bfbbba4fd54b80a55cff592732313a",
       "max": 16,
       "style": "IPY_MODEL_4a0f3c14bc3d4068aad34389c686bc0d",
       "value": 16
      }
     },
     "662b2de1d8de49e4be48f981f8f73cc3": {
      "model_module": "@jupyter-widgets/controls",
      "model_module_version": "1.5.0",
      "model_name": "HTMLModel",
      "state": {
       "layout": "IPY_MODEL_cbd4ddb5997c47cb98a3b82317dc0e34",
       "style": "IPY_MODEL_979819d1a7b446f0b2a51965ff066cbc",
       "value": " 9/77 [00:07&lt;00:56,  1.20it/s, loss=nan, v_num=H-42]"
      }
     },
     "66653a736c0343c7b0fe4db97915e83a": {
      "model_module": "@jupyter-widgets/controls",
      "model_module_version": "1.5.0",
      "model_name": "HTMLModel",
      "state": {
       "layout": "IPY_MODEL_f33f2ed4ddb44c7aaafef11175c17842",
       "style": "IPY_MODEL_2596234b84cf464db5a0a9af3115bd75",
       "value": " 16/16 [00:00&lt;00:00, 18.44it/s]"
      }
     },
     "666eef592d5144c3b740864303e67ae4": {
      "model_module": "@jupyter-widgets/base",
      "model_module_version": "1.2.0",
      "model_name": "LayoutModel",
      "state": {}
     },
     "66738d6afe0e41cb9aa5de704400d988": {
      "model_module": "@jupyter-widgets/controls",
      "model_module_version": "1.5.0",
      "model_name": "DescriptionStyleModel",
      "state": {
       "description_width": ""
      }
     },
     "667695f7b21b4e08a0c72b091ea8fa5d": {
      "model_module": "@jupyter-widgets/base",
      "model_module_version": "1.2.0",
      "model_name": "LayoutModel",
      "state": {}
     },
     "66973f17a7634f4dba61de84a9c1dc5c": {
      "model_module": "@jupyter-widgets/controls",
      "model_module_version": "1.5.0",
      "model_name": "DescriptionStyleModel",
      "state": {
       "description_width": ""
      }
     },
     "66a7850f0920471e81b89fc96c0456f7": {
      "model_module": "@jupyter-widgets/base",
      "model_module_version": "1.2.0",
      "model_name": "LayoutModel",
      "state": {}
     },
     "66afbf247a4c44ea928d9d5424cce442": {
      "model_module": "@jupyter-widgets/base",
      "model_module_version": "1.2.0",
      "model_name": "LayoutModel",
      "state": {
       "display": "inline-flex",
       "flex_flow": "row wrap",
       "width": "100%"
      }
     },
     "66bf3ab4571d4ae8951d8039e7724142": {
      "model_module": "@jupyter-widgets/controls",
      "model_module_version": "1.5.0",
      "model_name": "ProgressStyleModel",
      "state": {
       "description_width": ""
      }
     },
     "66d5e574875e484b97c223b9af0d8ea0": {
      "model_module": "@jupyter-widgets/controls",
      "model_module_version": "1.5.0",
      "model_name": "HTMLModel",
      "state": {
       "layout": "IPY_MODEL_9f155686ef034fc880627a00f49a38c0",
       "style": "IPY_MODEL_feacf8b8a69b48b799a61c3ffe152d98",
       "value": " 16/16 [00:01&lt;00:00, 12.34it/s]"
      }
     },
     "66ed117164bf448c85e8f2cd769fb20f": {
      "model_module": "@jupyter-widgets/controls",
      "model_module_version": "1.5.0",
      "model_name": "DescriptionStyleModel",
      "state": {
       "description_width": ""
      }
     },
     "66ed5a5057b2450caec57d0ebf816db9": {
      "model_module": "@jupyter-widgets/controls",
      "model_module_version": "1.5.0",
      "model_name": "DescriptionStyleModel",
      "state": {
       "description_width": ""
      }
     },
     "670783ac5f614cf6aeef03d33cfc12ea": {
      "model_module": "@jupyter-widgets/base",
      "model_module_version": "1.2.0",
      "model_name": "LayoutModel",
      "state": {
       "display": "inline-flex",
       "flex_flow": "row wrap",
       "width": "100%"
      }
     },
     "670eddeeaeaf4ffca1b7373f582cf36e": {
      "model_module": "@jupyter-widgets/base",
      "model_module_version": "1.2.0",
      "model_name": "LayoutModel",
      "state": {}
     },
     "674f4ea844a345e28bca407e400958a3": {
      "model_module": "@jupyter-widgets/controls",
      "model_module_version": "1.5.0",
      "model_name": "FloatProgressModel",
      "state": {
       "layout": "IPY_MODEL_70b64a161ce14eddb4940eda87e74c18",
       "max": 16,
       "style": "IPY_MODEL_6539b4985aa241c1852dbd04122fc71c",
       "value": 16
      }
     },
     "675fb4ecc563417d97ca2bc8c317f988": {
      "model_module": "@jupyter-widgets/controls",
      "model_module_version": "1.5.0",
      "model_name": "DescriptionStyleModel",
      "state": {
       "description_width": ""
      }
     },
     "676f44f0abc54fef93ce243455356415": {
      "model_module": "@jupyter-widgets/base",
      "model_module_version": "1.2.0",
      "model_name": "LayoutModel",
      "state": {}
     },
     "6776f2114249430b88dfef736483d8bb": {
      "model_module": "@jupyter-widgets/controls",
      "model_module_version": "1.5.0",
      "model_name": "ProgressStyleModel",
      "state": {
       "description_width": ""
      }
     },
     "677d33eabd1741e19127771553999090": {
      "model_module": "@jupyter-widgets/controls",
      "model_module_version": "1.5.0",
      "model_name": "DescriptionStyleModel",
      "state": {
       "description_width": ""
      }
     },
     "6798df7fbae440f1b8462cee7b3fd16b": {
      "model_module": "@jupyter-widgets/controls",
      "model_module_version": "1.5.0",
      "model_name": "FloatProgressModel",
      "state": {
       "layout": "IPY_MODEL_9899a645f64c485f924d8a173d301609",
       "max": 16,
       "style": "IPY_MODEL_5e954b29ca4b42468c492e9684d9c6ce",
       "value": 16
      }
     },
     "679e9fc2f77b4bc98dfcf08c3b6e896b": {
      "model_module": "@jupyter-widgets/controls",
      "model_module_version": "1.5.0",
      "model_name": "ProgressStyleModel",
      "state": {
       "description_width": ""
      }
     },
     "67a10793720d4e1b99ba44855a81c8c7": {
      "model_module": "@jupyter-widgets/base",
      "model_module_version": "1.2.0",
      "model_name": "LayoutModel",
      "state": {
       "flex": "2"
      }
     },
     "67a11f2257e24a0aa5a8a3cf17ec4d4c": {
      "model_module": "@jupyter-widgets/base",
      "model_module_version": "1.2.0",
      "model_name": "LayoutModel",
      "state": {
       "flex": "2"
      }
     },
     "67a183dbc8134149b6cfa278920a4484": {
      "model_module": "@jupyter-widgets/controls",
      "model_module_version": "1.5.0",
      "model_name": "HTMLModel",
      "state": {
       "layout": "IPY_MODEL_a29fec96ce4745d7a090b1f140d28898",
       "style": "IPY_MODEL_bfe0d3945a364bb8b4698470e1b681b2",
       "value": "Validation DataLoader 0: 100%"
      }
     },
     "67b6d66b5e924113af4126e760304d27": {
      "model_module": "@jupyter-widgets/base",
      "model_module_version": "1.2.0",
      "model_name": "LayoutModel",
      "state": {}
     },
     "67be254ed95f462ab495112640928b21": {
      "model_module": "@jupyter-widgets/base",
      "model_module_version": "1.2.0",
      "model_name": "LayoutModel",
      "state": {}
     },
     "67caa6614c0341b8ba5875579379e296": {
      "model_module": "@jupyter-widgets/controls",
      "model_module_version": "1.5.0",
      "model_name": "DescriptionStyleModel",
      "state": {
       "description_width": ""
      }
     },
     "67da570af7364e26a9ae3e08951cb410": {
      "model_module": "@jupyter-widgets/controls",
      "model_module_version": "1.5.0",
      "model_name": "DescriptionStyleModel",
      "state": {
       "description_width": ""
      }
     },
     "67f71b3ed6744d72b080ca564e2e0eb6": {
      "model_module": "@jupyter-widgets/controls",
      "model_module_version": "1.5.0",
      "model_name": "HTMLModel",
      "state": {
       "layout": "IPY_MODEL_dcfa7d8571ed4e64a9d0d1433c977d31",
       "style": "IPY_MODEL_2d95c8eb6d3743f39b814e43b79528a4",
       "value": "Validation DataLoader 0: 100%"
      }
     },
     "6804d0e6b0e44a409a6f6338339c620b": {
      "model_module": "@jupyter-widgets/controls",
      "model_module_version": "1.5.0",
      "model_name": "ProgressStyleModel",
      "state": {
       "description_width": ""
      }
     },
     "6805bf8a4abb4ad48c10eb5a8bfe77c7": {
      "model_module": "@jupyter-widgets/controls",
      "model_module_version": "1.5.0",
      "model_name": "DescriptionStyleModel",
      "state": {
       "description_width": ""
      }
     },
     "682a9564d4ca48afa8e9c1b845b55313": {
      "model_module": "@jupyter-widgets/base",
      "model_module_version": "1.2.0",
      "model_name": "LayoutModel",
      "state": {
       "flex": "2"
      }
     },
     "683fbdf303ba48ef9c7fa75f05ec1ac9": {
      "model_module": "@jupyter-widgets/base",
      "model_module_version": "1.2.0",
      "model_name": "LayoutModel",
      "state": {
       "display": "inline-flex",
       "flex_flow": "row wrap",
       "width": "100%"
      }
     },
     "687dde58a0554d4ab803018b60fe6b55": {
      "model_module": "@jupyter-widgets/base",
      "model_module_version": "1.2.0",
      "model_name": "LayoutModel",
      "state": {}
     },
     "687f75b5391d4382bf025a4873597fc6": {
      "model_module": "@jupyter-widgets/base",
      "model_module_version": "1.2.0",
      "model_name": "LayoutModel",
      "state": {}
     },
     "688bc87b2d184385a2b0558de353e353": {
      "model_module": "@jupyter-widgets/controls",
      "model_module_version": "1.5.0",
      "model_name": "HBoxModel",
      "state": {
       "children": [
        "IPY_MODEL_6ac165cd316e445ca9f268e7de26530e",
        "IPY_MODEL_e51ce36a7a374f598b1cff2bc613eca7",
        "IPY_MODEL_4a99d088162449f8afd4086aee6e1b1d"
       ],
       "layout": "IPY_MODEL_6200492c3a1340868de25c708b09c7e6"
      }
     },
     "688bf481abfb47bd944c4a2f324f61a9": {
      "model_module": "@jupyter-widgets/controls",
      "model_module_version": "1.5.0",
      "model_name": "DescriptionStyleModel",
      "state": {
       "description_width": ""
      }
     },
     "68a58619556340c78c38f46acf31d2bb": {
      "model_module": "@jupyter-widgets/base",
      "model_module_version": "1.2.0",
      "model_name": "LayoutModel",
      "state": {}
     },
     "68c98a5b7f6c4b5593177beed3cea9f7": {
      "model_module": "@jupyter-widgets/controls",
      "model_module_version": "1.5.0",
      "model_name": "HTMLModel",
      "state": {
       "layout": "IPY_MODEL_403e3761da74438fb82aebd4ef14696d",
       "style": "IPY_MODEL_abfac897cf334822836f68a699238546",
       "value": "Validation DataLoader 0: 100%"
      }
     },
     "68fc475c7f3141129a100c6ca0f10de8": {
      "model_module": "@jupyter-widgets/base",
      "model_module_version": "1.2.0",
      "model_name": "LayoutModel",
      "state": {}
     },
     "691728f5968e4debb608fd77b8886076": {
      "model_module": "@jupyter-widgets/base",
      "model_module_version": "1.2.0",
      "model_name": "LayoutModel",
      "state": {}
     },
     "694bdd12f4c144debd29ead5ae7fee50": {
      "model_module": "@jupyter-widgets/base",
      "model_module_version": "1.2.0",
      "model_name": "LayoutModel",
      "state": {
       "flex": "2"
      }
     },
     "6951af5ef67a45e484a3c52060ce376f": {
      "model_module": "@jupyter-widgets/controls",
      "model_module_version": "1.5.0",
      "model_name": "HTMLModel",
      "state": {
       "layout": "IPY_MODEL_afea782626694b5a9376fc5659237bf5",
       "style": "IPY_MODEL_d39877030e0945269be942fd6c1b0e2b",
       "value": " 16/16 [00:04&lt;00:00,  3.60it/s]"
      }
     },
     "6956a2009e454318bdb5fa16f010bfdf": {
      "model_module": "@jupyter-widgets/base",
      "model_module_version": "1.2.0",
      "model_name": "LayoutModel",
      "state": {
       "display": "inline-flex",
       "flex_flow": "row wrap",
       "width": "100%"
      }
     },
     "696ba21118364e46ad3c62697540c935": {
      "model_module": "@jupyter-widgets/controls",
      "model_module_version": "1.5.0",
      "model_name": "HTMLModel",
      "state": {
       "layout": "IPY_MODEL_9591e3a479b24bfb88ddfc042d4bc011",
       "style": "IPY_MODEL_e6def3f081c04027b224114778ab2dea",
       "value": "Validation DataLoader 0: 100%"
      }
     },
     "69903e489a8f46e79faf6303c8c6f3a7": {
      "model_module": "@jupyter-widgets/controls",
      "model_module_version": "1.5.0",
      "model_name": "ProgressStyleModel",
      "state": {
       "description_width": ""
      }
     },
     "69cdbd2d88924267a290e91e6652c031": {
      "model_module": "@jupyter-widgets/controls",
      "model_module_version": "1.5.0",
      "model_name": "HTMLModel",
      "state": {
       "layout": "IPY_MODEL_2f316c09a01b4611a99521c26968fea5",
       "style": "IPY_MODEL_3e37d3be5f7844ae8f840aeadf87137e",
       "value": " 16/16 [00:01&lt;00:00,  8.36it/s]"
      }
     },
     "69d4307ad2b8464fbde1729f6b325690": {
      "model_module": "@jupyter-widgets/controls",
      "model_module_version": "1.5.0",
      "model_name": "HTMLModel",
      "state": {
       "layout": "IPY_MODEL_2c4b601783b84e9e99883b8464975439",
       "style": "IPY_MODEL_c5120fea7a5c4985af7b83fc46e28c64",
       "value": "Validation DataLoader 0: 100%"
      }
     },
     "69d965a6b11444d79d6fb26017493e41": {
      "model_module": "@jupyter-widgets/controls",
      "model_module_version": "1.5.0",
      "model_name": "DescriptionStyleModel",
      "state": {
       "description_width": ""
      }
     },
     "6a0fc74807d34de39d14f0e20ba906d9": {
      "model_module": "@jupyter-widgets/controls",
      "model_module_version": "1.5.0",
      "model_name": "DescriptionStyleModel",
      "state": {
       "description_width": ""
      }
     },
     "6a1d62ebf59f4c188ff153ed324f5146": {
      "model_module": "@jupyter-widgets/controls",
      "model_module_version": "1.5.0",
      "model_name": "DescriptionStyleModel",
      "state": {
       "description_width": ""
      }
     },
     "6a258ae6194a404eb6e86dc3701d589e": {
      "model_module": "@jupyter-widgets/base",
      "model_module_version": "1.2.0",
      "model_name": "LayoutModel",
      "state": {}
     },
     "6a2ebc197fd1467da0da4107116a5525": {
      "model_module": "@jupyter-widgets/base",
      "model_module_version": "1.2.0",
      "model_name": "LayoutModel",
      "state": {}
     },
     "6a33365fc03d463c8b609cd529e21927": {
      "model_module": "@jupyter-widgets/controls",
      "model_module_version": "1.5.0",
      "model_name": "FloatProgressModel",
      "state": {
       "layout": "IPY_MODEL_b8a98b49149943f38bded6792327eea0",
       "max": 16,
       "style": "IPY_MODEL_a1ffebb1df3e44e6b17b953afa56ce35",
       "value": 16
      }
     },
     "6a58f442365c40e4882cbd5dc399a6ad": {
      "model_module": "@jupyter-widgets/base",
      "model_module_version": "1.2.0",
      "model_name": "LayoutModel",
      "state": {
       "display": "inline-flex",
       "flex_flow": "row wrap",
       "width": "100%"
      }
     },
     "6a689a1a52c84080a3374c537a22f773": {
      "model_module": "@jupyter-widgets/controls",
      "model_module_version": "1.5.0",
      "model_name": "HTMLModel",
      "state": {
       "layout": "IPY_MODEL_8ed33fddc80243678de934b18e28188d",
       "style": "IPY_MODEL_105a6868db0d483e9ac1bc02becc881a",
       "value": "Validation DataLoader 0: 100%"
      }
     },
     "6a9899af50064bec98ed8ef9bdedd7c1": {
      "model_module": "@jupyter-widgets/controls",
      "model_module_version": "1.5.0",
      "model_name": "DescriptionStyleModel",
      "state": {
       "description_width": ""
      }
     },
     "6a9928d39ff94a65b62b96c2835b994b": {
      "model_module": "@jupyter-widgets/controls",
      "model_module_version": "1.5.0",
      "model_name": "DescriptionStyleModel",
      "state": {
       "description_width": ""
      }
     },
     "6aa636cd8ba04956ac3f143391f125b9": {
      "model_module": "@jupyter-widgets/controls",
      "model_module_version": "1.5.0",
      "model_name": "FloatProgressModel",
      "state": {
       "layout": "IPY_MODEL_e7b4bf55dea6478a8e754ec9045612b2",
       "max": 16,
       "style": "IPY_MODEL_5249ed47651648fe92609b924a898afd",
       "value": 16
      }
     },
     "6aa94a1b4b874930a91a030b1160b3e2": {
      "model_module": "@jupyter-widgets/base",
      "model_module_version": "1.2.0",
      "model_name": "LayoutModel",
      "state": {
       "display": "inline-flex",
       "flex_flow": "row wrap",
       "width": "100%"
      }
     },
     "6abd14446b4a4a969797fcebc83e811b": {
      "model_module": "@jupyter-widgets/base",
      "model_module_version": "1.2.0",
      "model_name": "LayoutModel",
      "state": {
       "display": "inline-flex",
       "flex_flow": "row wrap",
       "width": "100%"
      }
     },
     "6ac165cd316e445ca9f268e7de26530e": {
      "model_module": "@jupyter-widgets/controls",
      "model_module_version": "1.5.0",
      "model_name": "HTMLModel",
      "state": {
       "layout": "IPY_MODEL_107645c6c4a84b589a991624cae15b68",
       "style": "IPY_MODEL_1f2fe5a0e2954a14a8bfa306474cf2dc",
       "value": "Epoch 0:  52%"
      }
     },
     "6ae7bdda9cdc4ea59bbf55b54f3d2120": {
      "model_module": "@jupyter-widgets/controls",
      "model_module_version": "1.5.0",
      "model_name": "HTMLModel",
      "state": {
       "layout": "IPY_MODEL_efc35012c2b34cb384bd6a890084c681",
       "style": "IPY_MODEL_9607d8f2d5714f878d4e80321d44cd15",
       "value": " 16/16 [00:00&lt;00:00, 20.52it/s]"
      }
     },
     "6af31ffa23bb4127ae3ccb2b440c1369": {
      "model_module": "@jupyter-widgets/base",
      "model_module_version": "1.2.0",
      "model_name": "LayoutModel",
      "state": {
       "display": "inline-flex",
       "flex_flow": "row wrap",
       "width": "100%"
      }
     },
     "6af64cb1a21d43969d7326e8da9b8f68": {
      "model_module": "@jupyter-widgets/base",
      "model_module_version": "1.2.0",
      "model_name": "LayoutModel",
      "state": {
       "flex": "2"
      }
     },
     "6b004bf5dfa4485e945b48edf8717b1a": {
      "model_module": "@jupyter-widgets/controls",
      "model_module_version": "1.5.0",
      "model_name": "DescriptionStyleModel",
      "state": {
       "description_width": ""
      }
     },
     "6b25e514345142bc810fef5f54df5e73": {
      "model_module": "@jupyter-widgets/controls",
      "model_module_version": "1.5.0",
      "model_name": "DescriptionStyleModel",
      "state": {
       "description_width": ""
      }
     },
     "6b2704d60fe94a46a1caf6eee8eb6f34": {
      "model_module": "@jupyter-widgets/base",
      "model_module_version": "1.2.0",
      "model_name": "LayoutModel",
      "state": {}
     },
     "6b297bc9598c49b4994de81728928a48": {
      "model_module": "@jupyter-widgets/base",
      "model_module_version": "1.2.0",
      "model_name": "LayoutModel",
      "state": {
       "flex": "2"
      }
     },
     "6b2b760c739048c8a654aca932ef4b38": {
      "model_module": "@jupyter-widgets/controls",
      "model_module_version": "1.5.0",
      "model_name": "HTMLModel",
      "state": {
       "layout": "IPY_MODEL_52752379cef1456e879656cf7f52e14c",
       "style": "IPY_MODEL_3ff38938295f40c2b3fe3cb458daddc5",
       "value": " 36/77 [00:03&lt;00:04,  9.58it/s, loss=1.95, v_num=H-50]"
      }
     },
     "6b4462a3b63c492782e5ebef6ed230a8": {
      "model_module": "@jupyter-widgets/controls",
      "model_module_version": "1.5.0",
      "model_name": "DescriptionStyleModel",
      "state": {
       "description_width": ""
      }
     },
     "6b68c0b7b9154d0597987e5104e8c900": {
      "model_module": "@jupyter-widgets/controls",
      "model_module_version": "1.5.0",
      "model_name": "FloatProgressModel",
      "state": {
       "layout": "IPY_MODEL_fbd88f4bf5a2494bbb72b35bf55020a5",
       "max": 16,
       "style": "IPY_MODEL_679e9fc2f77b4bc98dfcf08c3b6e896b",
       "value": 16
      }
     },
     "6b6ec66a7a9d453a8b25bfba082cdaa4": {
      "model_module": "@jupyter-widgets/base",
      "model_module_version": "1.2.0",
      "model_name": "LayoutModel",
      "state": {
       "display": "inline-flex",
       "flex_flow": "row wrap",
       "width": "100%"
      }
     },
     "6b71ecb079524091b937c970f1e3e475": {
      "model_module": "@jupyter-widgets/controls",
      "model_module_version": "1.5.0",
      "model_name": "ProgressStyleModel",
      "state": {
       "description_width": ""
      }
     },
     "6b737864f1ed47b9b10b5b0d8d6dee1c": {
      "model_module": "@jupyter-widgets/base",
      "model_module_version": "1.2.0",
      "model_name": "LayoutModel",
      "state": {}
     },
     "6b737a3f3e2b41b3b49fba4449d0a463": {
      "model_module": "@jupyter-widgets/base",
      "model_module_version": "1.2.0",
      "model_name": "LayoutModel",
      "state": {}
     },
     "6b7a1f00b3ff4aa9b4a427984955158c": {
      "model_module": "@jupyter-widgets/base",
      "model_module_version": "1.2.0",
      "model_name": "LayoutModel",
      "state": {}
     },
     "6b7aabb83ca5412a9d4dceea8943fdc4": {
      "model_module": "@jupyter-widgets/base",
      "model_module_version": "1.2.0",
      "model_name": "LayoutModel",
      "state": {
       "display": "inline-flex",
       "flex_flow": "row wrap",
       "width": "100%"
      }
     },
     "6b7ac8abee6c49609963c39199a80ee7": {
      "model_module": "@jupyter-widgets/base",
      "model_module_version": "1.2.0",
      "model_name": "LayoutModel",
      "state": {
       "flex": "2"
      }
     },
     "6b80db743fcc4ca3b25737ff957d6a06": {
      "model_module": "@jupyter-widgets/base",
      "model_module_version": "1.2.0",
      "model_name": "LayoutModel",
      "state": {}
     },
     "6b812be30df34d598226c1487bcb09f9": {
      "model_module": "@jupyter-widgets/controls",
      "model_module_version": "1.5.0",
      "model_name": "HTMLModel",
      "state": {
       "layout": "IPY_MODEL_5df053babd724735acff97bbb0528f6a",
       "style": "IPY_MODEL_fe715260003b480792f9ccfdc59025c4",
       "value": "Validation DataLoader 0: 100%"
      }
     },
     "6b86a957313e45c98b4cbba1c46422b6": {
      "model_module": "@jupyter-widgets/controls",
      "model_module_version": "1.5.0",
      "model_name": "ProgressStyleModel",
      "state": {
       "description_width": ""
      }
     },
     "6bab7abb50154f338988a85cfcf0a027": {
      "model_module": "@jupyter-widgets/controls",
      "model_module_version": "1.5.0",
      "model_name": "HTMLModel",
      "state": {
       "layout": "IPY_MODEL_1263334db1b84bf6bda7ecd989f98c31",
       "style": "IPY_MODEL_451b6de83d144df6b197e75fbbb0c4c7",
       "value": " 16/16 [00:00&lt;00:00, 20.90it/s]"
      }
     },
     "6bda7b1749db43db89f86b69c0965eae": {
      "model_module": "@jupyter-widgets/base",
      "model_module_version": "1.2.0",
      "model_name": "LayoutModel",
      "state": {}
     },
     "6bf0e508a4bb4121a6138b335762226a": {
      "model_module": "@jupyter-widgets/controls",
      "model_module_version": "1.5.0",
      "model_name": "DescriptionStyleModel",
      "state": {
       "description_width": ""
      }
     },
     "6c05f6beedf741778468260a9523a457": {
      "model_module": "@jupyter-widgets/base",
      "model_module_version": "1.2.0",
      "model_name": "LayoutModel",
      "state": {}
     },
     "6c07eff03e9f46a2b0f2e85889549f73": {
      "model_module": "@jupyter-widgets/controls",
      "model_module_version": "1.5.0",
      "model_name": "DescriptionStyleModel",
      "state": {
       "description_width": ""
      }
     },
     "6c0caf6d0c2e4d23b7b1f34d7d5b48e5": {
      "model_module": "@jupyter-widgets/base",
      "model_module_version": "1.2.0",
      "model_name": "LayoutModel",
      "state": {}
     },
     "6c167acb0d744ce594b78d93e67a3a7f": {
      "model_module": "@jupyter-widgets/base",
      "model_module_version": "1.2.0",
      "model_name": "LayoutModel",
      "state": {
       "flex": "2"
      }
     },
     "6c18a2133e5b4c37a55951c787fa5c67": {
      "model_module": "@jupyter-widgets/controls",
      "model_module_version": "1.5.0",
      "model_name": "DescriptionStyleModel",
      "state": {
       "description_width": ""
      }
     },
     "6c3ec48e9b4f4370b1c8d1d581d3d652": {
      "model_module": "@jupyter-widgets/controls",
      "model_module_version": "1.5.0",
      "model_name": "DescriptionStyleModel",
      "state": {
       "description_width": ""
      }
     },
     "6c48ce4eae494aa59d6b6569506a1cee": {
      "model_module": "@jupyter-widgets/controls",
      "model_module_version": "1.5.0",
      "model_name": "ProgressStyleModel",
      "state": {
       "description_width": ""
      }
     },
     "6c5c7da6f757471da726e7bbf7a252e0": {
      "model_module": "@jupyter-widgets/base",
      "model_module_version": "1.2.0",
      "model_name": "LayoutModel",
      "state": {
       "flex": "2"
      }
     },
     "6c6d43fc62cb4ee786535986200a8878": {
      "model_module": "@jupyter-widgets/base",
      "model_module_version": "1.2.0",
      "model_name": "LayoutModel",
      "state": {}
     },
     "6c935572096140e1a0d92ba52633312b": {
      "model_module": "@jupyter-widgets/base",
      "model_module_version": "1.2.0",
      "model_name": "LayoutModel",
      "state": {}
     },
     "6c9b06674da542fd99908ea85333663f": {
      "model_module": "@jupyter-widgets/base",
      "model_module_version": "1.2.0",
      "model_name": "LayoutModel",
      "state": {
       "flex": "2"
      }
     },
     "6ca324cbea0f41428281528f424dc8db": {
      "model_module": "@jupyter-widgets/controls",
      "model_module_version": "1.5.0",
      "model_name": "ProgressStyleModel",
      "state": {
       "description_width": ""
      }
     },
     "6cb868b690ae4c0c83aa7239242aa6d6": {
      "model_module": "@jupyter-widgets/base",
      "model_module_version": "1.2.0",
      "model_name": "LayoutModel",
      "state": {
       "flex": "2"
      }
     },
     "6ccb9f95bc9545b0ad66c602cca5cedf": {
      "model_module": "@jupyter-widgets/base",
      "model_module_version": "1.2.0",
      "model_name": "LayoutModel",
      "state": {
       "display": "inline-flex",
       "flex_flow": "row wrap",
       "width": "100%"
      }
     },
     "6ccdddb84d1a48b192fc56254e503015": {
      "model_module": "@jupyter-widgets/controls",
      "model_module_version": "1.5.0",
      "model_name": "HTMLModel",
      "state": {
       "layout": "IPY_MODEL_d6be70dea4d142aaa4fb1c14ae7cd390",
       "style": "IPY_MODEL_979a8f014a094a9cb2bb841fa079e173",
       "value": " 2/2 [00:00&lt;00:00,  6.48it/s]"
      }
     },
     "6ce79fc18ee94d3c9d8c84da67fe237a": {
      "model_module": "@jupyter-widgets/base",
      "model_module_version": "1.2.0",
      "model_name": "LayoutModel",
      "state": {}
     },
     "6d50b07e45884f34b021b3dce8023ed3": {
      "model_module": "@jupyter-widgets/controls",
      "model_module_version": "1.5.0",
      "model_name": "HTMLModel",
      "state": {
       "layout": "IPY_MODEL_9c66355024a047f4b92140fa58fba1b7",
       "style": "IPY_MODEL_9754b4a4ff45420b98bbbfe0fd1cca66",
       "value": "Validation DataLoader 0: 100%"
      }
     },
     "6d56a9ef971842dd8b0f34ae8ac972e2": {
      "model_module": "@jupyter-widgets/controls",
      "model_module_version": "1.5.0",
      "model_name": "ProgressStyleModel",
      "state": {
       "description_width": ""
      }
     },
     "6d68fca42c8b4cd593ec4a67900552f5": {
      "model_module": "@jupyter-widgets/controls",
      "model_module_version": "1.5.0",
      "model_name": "HTMLModel",
      "state": {
       "layout": "IPY_MODEL_b515f8a52137442ca8035bd6ca469e86",
       "style": "IPY_MODEL_ce65b26646bf4ac58e122c832bda874d",
       "value": "Sanity Checking DataLoader 0: 100%"
      }
     },
     "6d6c13c7e99a41f7be4282a6351aac08": {
      "model_module": "@jupyter-widgets/controls",
      "model_module_version": "1.5.0",
      "model_name": "DescriptionStyleModel",
      "state": {
       "description_width": ""
      }
     },
     "6d8e16e4727a4aab9acb2a3d58bf6b46": {
      "model_module": "@jupyter-widgets/base",
      "model_module_version": "1.2.0",
      "model_name": "LayoutModel",
      "state": {}
     },
     "6d94056c3b084a799a826ab051a82e8c": {
      "model_module": "@jupyter-widgets/controls",
      "model_module_version": "1.5.0",
      "model_name": "FloatProgressModel",
      "state": {
       "layout": "IPY_MODEL_ec49dda063b04d8c8648a51e0a5b5695",
       "max": 77,
       "style": "IPY_MODEL_12517136921e43628aab38ac343d7975",
       "value": 33
      }
     },
     "6d98488960874b578ebb1237121906f3": {
      "model_module": "@jupyter-widgets/controls",
      "model_module_version": "1.5.0",
      "model_name": "DescriptionStyleModel",
      "state": {
       "description_width": ""
      }
     },
     "6dad669134a74d818734479810725f88": {
      "model_module": "@jupyter-widgets/controls",
      "model_module_version": "1.5.0",
      "model_name": "DescriptionStyleModel",
      "state": {
       "description_width": ""
      }
     },
     "6dbbe591d4254b6c89609f16f18a2bdb": {
      "model_module": "@jupyter-widgets/controls",
      "model_module_version": "1.5.0",
      "model_name": "HTMLModel",
      "state": {
       "layout": "IPY_MODEL_f02aaef2ca9948fdbe7176d7713cd3e4",
       "style": "IPY_MODEL_bd22f856188a497390743579f727d21e",
       "value": " 16/16 [00:00&lt;00:00, 20.86it/s]"
      }
     },
     "6dbd32f9385647ec80f99a9c790f3cb8": {
      "model_module": "@jupyter-widgets/base",
      "model_module_version": "1.2.0",
      "model_name": "LayoutModel",
      "state": {
       "flex": "2"
      }
     },
     "6dc1d4691dac4d058198a39e9009c4fb": {
      "model_module": "@jupyter-widgets/controls",
      "model_module_version": "1.5.0",
      "model_name": "DescriptionStyleModel",
      "state": {
       "description_width": ""
      }
     },
     "6de072b0abda4153a780080547f7f65b": {
      "model_module": "@jupyter-widgets/base",
      "model_module_version": "1.2.0",
      "model_name": "LayoutModel",
      "state": {}
     },
     "6df2f49e195d40f5ab90569c8e88ab53": {
      "model_module": "@jupyter-widgets/base",
      "model_module_version": "1.2.0",
      "model_name": "LayoutModel",
      "state": {
       "flex": "2"
      }
     },
     "6e11374d61bf46fea968f46cab363470": {
      "model_module": "@jupyter-widgets/controls",
      "model_module_version": "1.5.0",
      "model_name": "HTMLModel",
      "state": {
       "layout": "IPY_MODEL_dfa31c149829490c8fe6d9dedcc3db5a",
       "style": "IPY_MODEL_a1820d25d8d34b08a3200ad9600d6235",
       "value": "Validation DataLoader 0: 100%"
      }
     },
     "6e16e7d2319b41d3af314b4a1bc83c50": {
      "model_module": "@jupyter-widgets/base",
      "model_module_version": "1.2.0",
      "model_name": "LayoutModel",
      "state": {}
     },
     "6e28037ba67744dbae4e1cbb6872e7a2": {
      "model_module": "@jupyter-widgets/controls",
      "model_module_version": "1.5.0",
      "model_name": "ProgressStyleModel",
      "state": {
       "description_width": ""
      }
     },
     "6e39c1277dda49289732d3d21266d94d": {
      "model_module": "@jupyter-widgets/controls",
      "model_module_version": "1.5.0",
      "model_name": "DescriptionStyleModel",
      "state": {
       "description_width": ""
      }
     },
     "6e462489d29b4bfab392a94699091aca": {
      "model_module": "@jupyter-widgets/base",
      "model_module_version": "1.2.0",
      "model_name": "LayoutModel",
      "state": {
       "flex": "2"
      }
     },
     "6e483f5e65e746a4a9a899cbda2bf35e": {
      "model_module": "@jupyter-widgets/controls",
      "model_module_version": "1.5.0",
      "model_name": "HTMLModel",
      "state": {
       "layout": "IPY_MODEL_ee5c5bdc9e9d4dfbadb79da8936bb865",
       "style": "IPY_MODEL_d895017330704460884ff53bd448c736",
       "value": "Validation DataLoader 0: 100%"
      }
     },
     "6e6a32fe9a9942c78a8e9666489b109e": {
      "model_module": "@jupyter-widgets/controls",
      "model_module_version": "1.5.0",
      "model_name": "HTMLModel",
      "state": {
       "layout": "IPY_MODEL_4496b0c8ef62428b99b1a82ea897aa7a",
       "style": "IPY_MODEL_27d8f78816be4db38e2ee4bcb3e4decd",
       "value": "Validation DataLoader 0: 100%"
      }
     },
     "6e6f8acc244c4394882e52b4ad00e470": {
      "model_module": "@jupyter-widgets/base",
      "model_module_version": "1.2.0",
      "model_name": "LayoutModel",
      "state": {
       "display": "inline-flex",
       "flex_flow": "row wrap",
       "width": "100%"
      }
     },
     "6e70f961e34249a7acb1b8d3dd63cfeb": {
      "model_module": "@jupyter-widgets/base",
      "model_module_version": "1.2.0",
      "model_name": "LayoutModel",
      "state": {
       "flex": "2"
      }
     },
     "6e83ebea6ccc4d8e9ba9b0817b79a0c0": {
      "model_module": "@jupyter-widgets/base",
      "model_module_version": "1.2.0",
      "model_name": "LayoutModel",
      "state": {}
     },
     "6ea3c7c2bbd44378be1946977cf6d97c": {
      "model_module": "@jupyter-widgets/controls",
      "model_module_version": "1.5.0",
      "model_name": "HTMLModel",
      "state": {
       "layout": "IPY_MODEL_19556b07d3e940ed9cabd3f5ebf647b3",
       "style": "IPY_MODEL_d2331d1b77654971abfba5a724a56939",
       "value": " 16/16 [00:02&lt;00:00,  5.22it/s]"
      }
     },
     "6edc60dbfcf645c48f1510608bc32836": {
      "model_module": "@jupyter-widgets/controls",
      "model_module_version": "1.5.0",
      "model_name": "HTMLModel",
      "state": {
       "layout": "IPY_MODEL_7329f3b235594d7293de29fbcc30f2aa",
       "style": "IPY_MODEL_ed4c58fe59bc47b08b5b889297c0bfb2",
       "value": "Validation DataLoader 0: 100%"
      }
     },
     "6ef31e9eacbd4d08ab925deaf69dd0fb": {
      "model_module": "@jupyter-widgets/base",
      "model_module_version": "1.2.0",
      "model_name": "LayoutModel",
      "state": {}
     },
     "6f025960357c4ce684cf86aff65ac6e6": {
      "model_module": "@jupyter-widgets/controls",
      "model_module_version": "1.5.0",
      "model_name": "HTMLModel",
      "state": {
       "layout": "IPY_MODEL_2fb260b8e22d4edeaf42b2dd16942fd1",
       "style": "IPY_MODEL_66973f17a7634f4dba61de84a9c1dc5c",
       "value": "Validation DataLoader 0: 100%"
      }
     },
     "6f0adc17880a4eeeb285ed28ec21fc85": {
      "model_module": "@jupyter-widgets/controls",
      "model_module_version": "1.5.0",
      "model_name": "FloatProgressModel",
      "state": {
       "layout": "IPY_MODEL_075eb5d3b7cf418ba263008356404c5d",
       "max": 16,
       "style": "IPY_MODEL_23a91e21dc414b099bf74d8c75437ecb",
       "value": 16
      }
     },
     "6f2863ed937b4135955da7a7c4ad2cee": {
      "model_module": "@jupyter-widgets/base",
      "model_module_version": "1.2.0",
      "model_name": "LayoutModel",
      "state": {
       "display": "inline-flex",
       "flex_flow": "row wrap",
       "width": "100%"
      }
     },
     "6f363edd17b14d908bf525b19f04f600": {
      "model_module": "@jupyter-widgets/controls",
      "model_module_version": "1.5.0",
      "model_name": "HTMLModel",
      "state": {
       "layout": "IPY_MODEL_35d6e56378c84b538f1767587a53fdb1",
       "style": "IPY_MODEL_5ea0aa46cdf143dabe5758200c33d87d",
       "value": " 16/16 [00:00&lt;00:00, 21.27it/s]"
      }
     },
     "6f6850a3f98e412c9bbd5a8c49b03f02": {
      "model_module": "@jupyter-widgets/controls",
      "model_module_version": "1.5.0",
      "model_name": "ProgressStyleModel",
      "state": {
       "description_width": ""
      }
     },
     "6fa78b5bf4124214bee20b2f3267a79e": {
      "model_module": "@jupyter-widgets/base",
      "model_module_version": "1.2.0",
      "model_name": "LayoutModel",
      "state": {
       "flex": "2"
      }
     },
     "6fcd3bf67dc749f299db640995d11b71": {
      "model_module": "@jupyter-widgets/controls",
      "model_module_version": "1.5.0",
      "model_name": "HTMLModel",
      "state": {
       "layout": "IPY_MODEL_5b709a5a6f5842728c8eafb429a54e88",
       "style": "IPY_MODEL_df591925fe8047cf9bfe55047e3d99cb",
       "value": "Validation DataLoader 0: 100%"
      }
     },
     "6fdad82ddb6e4b6385116fb010020770": {
      "model_module": "@jupyter-widgets/base",
      "model_module_version": "1.2.0",
      "model_name": "LayoutModel",
      "state": {
       "display": "inline-flex",
       "flex_flow": "row wrap",
       "width": "100%"
      }
     },
     "6ff89628a5b24e869c01f67231c7ee7d": {
      "model_module": "@jupyter-widgets/base",
      "model_module_version": "1.2.0",
      "model_name": "LayoutModel",
      "state": {
       "display": "inline-flex",
       "flex_flow": "row wrap",
       "width": "100%"
      }
     },
     "701dd717903e4fe2addc8630195b6364": {
      "model_module": "@jupyter-widgets/controls",
      "model_module_version": "1.5.0",
      "model_name": "HTMLModel",
      "state": {
       "layout": "IPY_MODEL_8a5a522d4b99423ea33190ac96d51748",
       "style": "IPY_MODEL_5420127094bd4d5fa819ccd3302a8dc7",
       "value": "Validation DataLoader 0: 100%"
      }
     },
     "7043b876149948f8ae9c48d54cd652f0": {
      "model_module": "@jupyter-widgets/controls",
      "model_module_version": "1.5.0",
      "model_name": "HTMLModel",
      "state": {
       "layout": "IPY_MODEL_0559e11dfac042dabdfa34ba848452a2",
       "style": "IPY_MODEL_0b6069090b88466f95df1a2ebedfb039",
       "value": "Validation DataLoader 0: 100%"
      }
     },
     "7045b51836ad46a7b486a0d1cddd72cf": {
      "model_module": "@jupyter-widgets/controls",
      "model_module_version": "1.5.0",
      "model_name": "DescriptionStyleModel",
      "state": {
       "description_width": ""
      }
     },
     "706c1a7eab444b738f2e1471d80ca052": {
      "model_module": "@jupyter-widgets/controls",
      "model_module_version": "1.5.0",
      "model_name": "HTMLModel",
      "state": {
       "layout": "IPY_MODEL_f0365b5f1d0a482cb59c7a12851ee08d",
       "style": "IPY_MODEL_6344d9789d044207a18621b04270b3ee",
       "value": "Validation DataLoader 0: 100%"
      }
     },
     "7083efc128ee4970ac586ab5850e3df8": {
      "model_module": "@jupyter-widgets/base",
      "model_module_version": "1.2.0",
      "model_name": "LayoutModel",
      "state": {}
     },
     "709595722df54ea4a61793f2f609fb7b": {
      "model_module": "@jupyter-widgets/base",
      "model_module_version": "1.2.0",
      "model_name": "LayoutModel",
      "state": {}
     },
     "70b26c717ae84aa0b522e1f6f8e1c35b": {
      "model_module": "@jupyter-widgets/controls",
      "model_module_version": "1.5.0",
      "model_name": "ProgressStyleModel",
      "state": {
       "description_width": ""
      }
     },
     "70b64a161ce14eddb4940eda87e74c18": {
      "model_module": "@jupyter-widgets/base",
      "model_module_version": "1.2.0",
      "model_name": "LayoutModel",
      "state": {
       "flex": "2"
      }
     },
     "70d82fd611834de19cb7ec31ccaae813": {
      "model_module": "@jupyter-widgets/controls",
      "model_module_version": "1.5.0",
      "model_name": "DescriptionStyleModel",
      "state": {
       "description_width": ""
      }
     },
     "70dd4e301a8f4c0594ececea9d762a2b": {
      "model_module": "@jupyter-widgets/controls",
      "model_module_version": "1.5.0",
      "model_name": "HTMLModel",
      "state": {
       "layout": "IPY_MODEL_63865c4319534f7da32411b658976b94",
       "style": "IPY_MODEL_6805bf8a4abb4ad48c10eb5a8bfe77c7",
       "value": "Validation DataLoader 0: 100%"
      }
     },
     "70eb62a2596642f994103fd13acc1253": {
      "model_module": "@jupyter-widgets/base",
      "model_module_version": "1.2.0",
      "model_name": "LayoutModel",
      "state": {
       "display": "inline-flex",
       "flex_flow": "row wrap",
       "width": "100%"
      }
     },
     "70f785b820da47ec8fcd534d59b142be": {
      "model_module": "@jupyter-widgets/controls",
      "model_module_version": "1.5.0",
      "model_name": "HTMLModel",
      "state": {
       "layout": "IPY_MODEL_713f7bab6cd346d2984dc36a2f7e20e0",
       "style": "IPY_MODEL_4b44e6bcf1f74487983a5ce28c17c633",
       "value": " 16/16 [00:00&lt;00:00, 19.58it/s]"
      }
     },
     "710465346975497bbc5774a9fba5dc50": {
      "model_module": "@jupyter-widgets/base",
      "model_module_version": "1.2.0",
      "model_name": "LayoutModel",
      "state": {}
     },
     "710c71acc22e402b89f7dfb5908b4316": {
      "model_module": "@jupyter-widgets/base",
      "model_module_version": "1.2.0",
      "model_name": "LayoutModel",
      "state": {}
     },
     "71230a85c1a947fc9043898eee6770fd": {
      "model_module": "@jupyter-widgets/controls",
      "model_module_version": "1.5.0",
      "model_name": "FloatProgressModel",
      "state": {
       "layout": "IPY_MODEL_54cf69f41f5242ec84aa29ae0413e382",
       "max": 16,
       "style": "IPY_MODEL_6b86a957313e45c98b4cbba1c46422b6",
       "value": 16
      }
     },
     "712ad12b5acd43e8a1d6615cb006ccbc": {
      "model_module": "@jupyter-widgets/base",
      "model_module_version": "1.2.0",
      "model_name": "LayoutModel",
      "state": {}
     },
     "713f7bab6cd346d2984dc36a2f7e20e0": {
      "model_module": "@jupyter-widgets/base",
      "model_module_version": "1.2.0",
      "model_name": "LayoutModel",
      "state": {}
     },
     "715041661aae49a99b0782d7d8e9f39e": {
      "model_module": "@jupyter-widgets/controls",
      "model_module_version": "1.5.0",
      "model_name": "ProgressStyleModel",
      "state": {
       "description_width": ""
      }
     },
     "7151dcb6bd214effb6c151391fc981b6": {
      "model_module": "@jupyter-widgets/controls",
      "model_module_version": "1.5.0",
      "model_name": "FloatProgressModel",
      "state": {
       "layout": "IPY_MODEL_143db0c2ae52430e8068bca53d83ee09",
       "max": 16,
       "style": "IPY_MODEL_aa428e6ce5c1491ebea296171052a44f",
       "value": 16
      }
     },
     "7156115b9c1b41dd9610c30dbff1eda9": {
      "model_module": "@jupyter-widgets/controls",
      "model_module_version": "1.5.0",
      "model_name": "ProgressStyleModel",
      "state": {
       "description_width": ""
      }
     },
     "716263e24a174d23b2f5e5845a82158d": {
      "model_module": "@jupyter-widgets/base",
      "model_module_version": "1.2.0",
      "model_name": "LayoutModel",
      "state": {
       "display": "inline-flex",
       "flex_flow": "row wrap",
       "width": "100%"
      }
     },
     "717afd62cc1a4523b28bb2ce60a44315": {
      "model_module": "@jupyter-widgets/controls",
      "model_module_version": "1.5.0",
      "model_name": "DescriptionStyleModel",
      "state": {
       "description_width": ""
      }
     },
     "718161d96ce449b796e4af832905a28b": {
      "model_module": "@jupyter-widgets/base",
      "model_module_version": "1.2.0",
      "model_name": "LayoutModel",
      "state": {
       "flex": "2"
      }
     },
     "71992b27f97d4736a6cc557740d837ac": {
      "model_module": "@jupyter-widgets/base",
      "model_module_version": "1.2.0",
      "model_name": "LayoutModel",
      "state": {
       "flex": "2"
      }
     },
     "71a3e6d051e64b7bba6922e0079919e0": {
      "model_module": "@jupyter-widgets/controls",
      "model_module_version": "1.5.0",
      "model_name": "HTMLModel",
      "state": {
       "layout": "IPY_MODEL_a51305e64b1940eeb44573f9a1dc4813",
       "style": "IPY_MODEL_77c3b334b052492eaef56a19f5a0e041",
       "value": "Epoch 0:  23%"
      }
     },
     "71b2c52ae57c4a1aab937b57eabd44ed": {
      "model_module": "@jupyter-widgets/controls",
      "model_module_version": "1.5.0",
      "model_name": "DescriptionStyleModel",
      "state": {
       "description_width": ""
      }
     },
     "71cc6d1fb92e44feac9ebf923b167e27": {
      "model_module": "@jupyter-widgets/base",
      "model_module_version": "1.2.0",
      "model_name": "LayoutModel",
      "state": {
       "flex": "2"
      }
     },
     "71ceb5810c144977ba888b89f6236c32": {
      "model_module": "@jupyter-widgets/base",
      "model_module_version": "1.2.0",
      "model_name": "LayoutModel",
      "state": {}
     },
     "71de95e91c7048aab2fb61602f0b3abf": {
      "model_module": "@jupyter-widgets/controls",
      "model_module_version": "1.5.0",
      "model_name": "DescriptionStyleModel",
      "state": {
       "description_width": ""
      }
     },
     "7206adc6d7c04276803defeb8667f072": {
      "model_module": "@jupyter-widgets/controls",
      "model_module_version": "1.5.0",
      "model_name": "ProgressStyleModel",
      "state": {
       "description_width": ""
      }
     },
     "720f54108e2b4113b06e081d23a8b43c": {
      "model_module": "@jupyter-widgets/base",
      "model_module_version": "1.2.0",
      "model_name": "LayoutModel",
      "state": {
       "flex": "2"
      }
     },
     "721d9885248347a59d93c38a04137639": {
      "model_module": "@jupyter-widgets/controls",
      "model_module_version": "1.5.0",
      "model_name": "DescriptionStyleModel",
      "state": {
       "description_width": ""
      }
     },
     "7222062f8c6b4506866ef5c87fb85023": {
      "model_module": "@jupyter-widgets/controls",
      "model_module_version": "1.5.0",
      "model_name": "HTMLModel",
      "state": {
       "layout": "IPY_MODEL_414758e12313475f8c08348449425ef0",
       "style": "IPY_MODEL_3884682ba02f4142a06170dd5ad692a6",
       "value": "Sanity Checking DataLoader 0: 100%"
      }
     },
     "723aad4016ac41818d917022cd7615b4": {
      "model_module": "@jupyter-widgets/base",
      "model_module_version": "1.2.0",
      "model_name": "LayoutModel",
      "state": {
       "display": "inline-flex",
       "flex_flow": "row wrap",
       "width": "100%"
      }
     },
     "727f9be897584be0bee734f15a069af5": {
      "model_module": "@jupyter-widgets/base",
      "model_module_version": "1.2.0",
      "model_name": "LayoutModel",
      "state": {}
     },
     "72931b1a440c4b87b6d2bb54c74ff90f": {
      "model_module": "@jupyter-widgets/controls",
      "model_module_version": "1.5.0",
      "model_name": "FloatProgressModel",
      "state": {
       "layout": "IPY_MODEL_b6c61ae06d1b44eeb5f06fe156b1a49a",
       "max": 16,
       "style": "IPY_MODEL_8e2970baa8a04f889b09eb6472163b16",
       "value": 16
      }
     },
     "72a34ecb77df49399d547f8820b75b48": {
      "model_module": "@jupyter-widgets/controls",
      "model_module_version": "1.5.0",
      "model_name": "HTMLModel",
      "state": {
       "layout": "IPY_MODEL_b07b53dca7274c05ae0d3d373dfd9162",
       "style": "IPY_MODEL_635028d2e73d4f8f8a04dccb2e83e706",
       "value": "Validation DataLoader 0: 100%"
      }
     },
     "72c641d1254240b49a85426f0c71542b": {
      "model_module": "@jupyter-widgets/controls",
      "model_module_version": "1.5.0",
      "model_name": "HTMLModel",
      "state": {
       "layout": "IPY_MODEL_02f9cf664042442c8cb5e3fd09550725",
       "style": "IPY_MODEL_1cbef4a1a8bf488da4c265202cdccae4",
       "value": "Validation DataLoader 0: 100%"
      }
     },
     "7307f5dac5a04f94917fb64865636105": {
      "model_module": "@jupyter-widgets/controls",
      "model_module_version": "1.5.0",
      "model_name": "DescriptionStyleModel",
      "state": {
       "description_width": ""
      }
     },
     "7329f3b235594d7293de29fbcc30f2aa": {
      "model_module": "@jupyter-widgets/base",
      "model_module_version": "1.2.0",
      "model_name": "LayoutModel",
      "state": {}
     },
     "736d1d43acb740ec9fc2ca536509add8": {
      "model_module": "@jupyter-widgets/controls",
      "model_module_version": "1.5.0",
      "model_name": "DescriptionStyleModel",
      "state": {
       "description_width": ""
      }
     },
     "73766dd3d91c4e5f90e2ff754ec025d7": {
      "model_module": "@jupyter-widgets/base",
      "model_module_version": "1.2.0",
      "model_name": "LayoutModel",
      "state": {}
     },
     "738b20c175784e99a39de4927b8e2adb": {
      "model_module": "@jupyter-widgets/controls",
      "model_module_version": "1.5.0",
      "model_name": "DescriptionStyleModel",
      "state": {
       "description_width": ""
      }
     },
     "739069f0b36b42819d22ecb3f27ab6dd": {
      "model_module": "@jupyter-widgets/base",
      "model_module_version": "1.2.0",
      "model_name": "LayoutModel",
      "state": {
       "display": "inline-flex",
       "flex_flow": "row wrap",
       "width": "100%"
      }
     },
     "73ac3de70fb0428d9113fa6cb16d09bd": {
      "model_module": "@jupyter-widgets/controls",
      "model_module_version": "1.5.0",
      "model_name": "DescriptionStyleModel",
      "state": {
       "description_width": ""
      }
     },
     "73b8fb0f5ca04ba4bdab0b9ea1ec25b8": {
      "model_module": "@jupyter-widgets/base",
      "model_module_version": "1.2.0",
      "model_name": "LayoutModel",
      "state": {}
     },
     "740351a4867347db8834bda2e5dfc2c8": {
      "model_module": "@jupyter-widgets/base",
      "model_module_version": "1.2.0",
      "model_name": "LayoutModel",
      "state": {}
     },
     "7414e8f550d041f89ce156c891935839": {
      "model_module": "@jupyter-widgets/base",
      "model_module_version": "1.2.0",
      "model_name": "LayoutModel",
      "state": {}
     },
     "74430392593a48d2af0f4809727bb381": {
      "model_module": "@jupyter-widgets/controls",
      "model_module_version": "1.5.0",
      "model_name": "DescriptionStyleModel",
      "state": {
       "description_width": ""
      }
     },
     "744449252b524a7092fec4a515649137": {
      "model_module": "@jupyter-widgets/controls",
      "model_module_version": "1.5.0",
      "model_name": "ProgressStyleModel",
      "state": {
       "description_width": ""
      }
     },
     "74463e42947d4aaeb0d4e9845da25205": {
      "model_module": "@jupyter-widgets/base",
      "model_module_version": "1.2.0",
      "model_name": "LayoutModel",
      "state": {}
     },
     "7473a78affb94affb0ebe640c30cf3d4": {
      "model_module": "@jupyter-widgets/controls",
      "model_module_version": "1.5.0",
      "model_name": "ProgressStyleModel",
      "state": {
       "description_width": ""
      }
     },
     "748a5db9187f4024b5017c8b3b7934c3": {
      "model_module": "@jupyter-widgets/controls",
      "model_module_version": "1.5.0",
      "model_name": "HTMLModel",
      "state": {
       "layout": "IPY_MODEL_aee7fbeadabe484ea644a11b13479e20",
       "style": "IPY_MODEL_b67fbd03a6fd498d95d2d48ebbdd98c6",
       "value": " 16/16 [00:01&lt;00:00, 10.78it/s]"
      }
     },
     "749c36bdbf8a42e2a69489e9bc0e31bd": {
      "model_module": "@jupyter-widgets/base",
      "model_module_version": "1.2.0",
      "model_name": "LayoutModel",
      "state": {}
     },
     "749dce5cc7144ea5a5e99b09f84bfd8f": {
      "model_module": "@jupyter-widgets/controls",
      "model_module_version": "1.5.0",
      "model_name": "FloatProgressModel",
      "state": {
       "layout": "IPY_MODEL_c04ef14a36de4efc9b5ccaccd3380f4b",
       "max": 16,
       "style": "IPY_MODEL_c5dd8bdde59d401581702128ce657249",
       "value": 16
      }
     },
     "74a78b5f79d042b69e83f236e253761b": {
      "model_module": "@jupyter-widgets/controls",
      "model_module_version": "1.5.0",
      "model_name": "ProgressStyleModel",
      "state": {
       "description_width": ""
      }
     },
     "74d481a472f34d498a50fcef7fbfcaea": {
      "model_module": "@jupyter-widgets/base",
      "model_module_version": "1.2.0",
      "model_name": "LayoutModel",
      "state": {}
     },
     "74df45bd34b74eb69b906b86af6288a3": {
      "model_module": "@jupyter-widgets/controls",
      "model_module_version": "1.5.0",
      "model_name": "ProgressStyleModel",
      "state": {
       "description_width": ""
      }
     },
     "74e222e48a8d49d7aee8fc064137c993": {
      "model_module": "@jupyter-widgets/controls",
      "model_module_version": "1.5.0",
      "model_name": "FloatProgressModel",
      "state": {
       "layout": "IPY_MODEL_f869c832e36447a6839866c896a75cd5",
       "max": 16,
       "style": "IPY_MODEL_22e9b1172d584f0db53787e69fdfc465",
       "value": 16
      }
     },
     "74eb615f673848e19916a1e56f26e226": {
      "model_module": "@jupyter-widgets/controls",
      "model_module_version": "1.5.0",
      "model_name": "ProgressStyleModel",
      "state": {
       "description_width": ""
      }
     },
     "750d7666c4ad4169a1429f171380079f": {
      "model_module": "@jupyter-widgets/controls",
      "model_module_version": "1.5.0",
      "model_name": "DescriptionStyleModel",
      "state": {
       "description_width": ""
      }
     },
     "751409500c734446bec04a216f4bb591": {
      "model_module": "@jupyter-widgets/controls",
      "model_module_version": "1.5.0",
      "model_name": "DescriptionStyleModel",
      "state": {
       "description_width": ""
      }
     },
     "751a4b2fd81c4177a2a487dd9d6bbd12": {
      "model_module": "@jupyter-widgets/base",
      "model_module_version": "1.2.0",
      "model_name": "LayoutModel",
      "state": {}
     },
     "75214113a5fa4299904dda77895b3875": {
      "model_module": "@jupyter-widgets/base",
      "model_module_version": "1.2.0",
      "model_name": "LayoutModel",
      "state": {}
     },
     "75231fba07d44f6597691cd9d4c8c805": {
      "model_module": "@jupyter-widgets/base",
      "model_module_version": "1.2.0",
      "model_name": "LayoutModel",
      "state": {
       "flex": "2"
      }
     },
     "7528c9c55a5d43938a3d3c47089d2ad8": {
      "model_module": "@jupyter-widgets/base",
      "model_module_version": "1.2.0",
      "model_name": "LayoutModel",
      "state": {
       "flex": "2"
      }
     },
     "753f6d7fc00b4ea2a97b5ca28f812e7b": {
      "model_module": "@jupyter-widgets/controls",
      "model_module_version": "1.5.0",
      "model_name": "HTMLModel",
      "state": {
       "layout": "IPY_MODEL_49f8429324bd42f9a906bdf5b79e2d3e",
       "style": "IPY_MODEL_d20178030163402181d7ce92d430e12f",
       "value": "Validation DataLoader 0: 100%"
      }
     },
     "754dd201e67f4854a6957942a8cad258": {
      "model_module": "@jupyter-widgets/controls",
      "model_module_version": "1.5.0",
      "model_name": "DescriptionStyleModel",
      "state": {
       "description_width": ""
      }
     },
     "75570dde94f34324b9bfd50bc6a10812": {
      "model_module": "@jupyter-widgets/controls",
      "model_module_version": "1.5.0",
      "model_name": "HTMLModel",
      "state": {
       "layout": "IPY_MODEL_b3f2d3d6faeb453f98ea3c795d2c2c88",
       "style": "IPY_MODEL_626d2e1ca8094e3e80670d5b0d67b7a8",
       "value": "Validation DataLoader 0: 100%"
      }
     },
     "757115a4564b4377a7841880f09f266b": {
      "model_module": "@jupyter-widgets/controls",
      "model_module_version": "1.5.0",
      "model_name": "HTMLModel",
      "state": {
       "layout": "IPY_MODEL_b875a3515eae4efba583c41ad9b7d133",
       "style": "IPY_MODEL_98e6ed67efd340f8a930399e01666335",
       "value": "Validation DataLoader 0: 100%"
      }
     },
     "758ce20fc4b3468f82ef8691b1490d08": {
      "model_module": "@jupyter-widgets/controls",
      "model_module_version": "1.5.0",
      "model_name": "FloatProgressModel",
      "state": {
       "layout": "IPY_MODEL_913df384a99f4e869561a0ae1bfc616b",
       "max": 16,
       "style": "IPY_MODEL_cce84942d2e4481e8c07fd3210f6a9f3",
       "value": 16
      }
     },
     "75b92cbe4df245a1af01438ddf5e4541": {
      "model_module": "@jupyter-widgets/controls",
      "model_module_version": "1.5.0",
      "model_name": "ProgressStyleModel",
      "state": {
       "description_width": ""
      }
     },
     "75c82fbac88849ff9d34d383a04e3d07": {
      "model_module": "@jupyter-widgets/controls",
      "model_module_version": "1.5.0",
      "model_name": "HTMLModel",
      "state": {
       "layout": "IPY_MODEL_df113d5e113e4645af7f82c0fb71cac1",
       "style": "IPY_MODEL_1a9c40a915c94186bd541e4736fe5d86",
       "value": " 16/16 [00:01&lt;00:00, 13.59it/s]"
      }
     },
     "760797b477b942a6ad77ec350961ccd7": {
      "model_module": "@jupyter-widgets/controls",
      "model_module_version": "1.5.0",
      "model_name": "ProgressStyleModel",
      "state": {
       "description_width": ""
      }
     },
     "762105f625564fa98ac6f8aa1d2d3e59": {
      "model_module": "@jupyter-widgets/controls",
      "model_module_version": "1.5.0",
      "model_name": "HTMLModel",
      "state": {
       "layout": "IPY_MODEL_f3ccd1ed7855440f9d37966beb382f72",
       "style": "IPY_MODEL_bb6ee27a249549c0ba74864648d311e4",
       "value": "Validation DataLoader 0: 100%"
      }
     },
     "7628c26c060f4b61a1f2db2fb247acaf": {
      "model_module": "@jupyter-widgets/controls",
      "model_module_version": "1.5.0",
      "model_name": "DescriptionStyleModel",
      "state": {
       "description_width": ""
      }
     },
     "762cae3abc584a84b2f6b86fed3fafd3": {
      "model_module": "@jupyter-widgets/base",
      "model_module_version": "1.2.0",
      "model_name": "LayoutModel",
      "state": {
       "display": "inline-flex",
       "flex_flow": "row wrap",
       "width": "100%"
      }
     },
     "762d7bd41d4540edb3e051ba3844332c": {
      "model_module": "@jupyter-widgets/controls",
      "model_module_version": "1.5.0",
      "model_name": "ProgressStyleModel",
      "state": {
       "description_width": ""
      }
     },
     "7631116e5d88484c886e2c7f3a5215a9": {
      "model_module": "@jupyter-widgets/base",
      "model_module_version": "1.2.0",
      "model_name": "LayoutModel",
      "state": {
       "display": "inline-flex",
       "flex_flow": "row wrap",
       "width": "100%"
      }
     },
     "7647b927e11049d5b856291bd43da20a": {
      "model_module": "@jupyter-widgets/controls",
      "model_module_version": "1.5.0",
      "model_name": "FloatProgressModel",
      "state": {
       "layout": "IPY_MODEL_ee36ba6842ab4029a14e5c18a1e2b3d3",
       "max": 16,
       "style": "IPY_MODEL_fdf64862a1f64e7b95fa33194bcee60b",
       "value": 16
      }
     },
     "7656bf470cad4dd09eab23a28d5e3de9": {
      "model_module": "@jupyter-widgets/base",
      "model_module_version": "1.2.0",
      "model_name": "LayoutModel",
      "state": {}
     },
     "76591e7569b34ebdb9f7914ed137a10c": {
      "model_module": "@jupyter-widgets/base",
      "model_module_version": "1.2.0",
      "model_name": "LayoutModel",
      "state": {
       "display": "inline-flex",
       "flex_flow": "row wrap",
       "width": "100%"
      }
     },
     "765fef518a344fa0b5404e0aa46ce9c5": {
      "model_module": "@jupyter-widgets/controls",
      "model_module_version": "1.5.0",
      "model_name": "ProgressStyleModel",
      "state": {
       "description_width": ""
      }
     },
     "76795d29c2704e3f85a4fe8cc13a069a": {
      "model_module": "@jupyter-widgets/controls",
      "model_module_version": "1.5.0",
      "model_name": "HTMLModel",
      "state": {
       "layout": "IPY_MODEL_1ae4450e68f6430e86bdeb7918a6df12",
       "style": "IPY_MODEL_8c547bfc1eae43968b668ab33271d4c2",
       "value": "Sanity Checking DataLoader 0: 100%"
      }
     },
     "768562e4b0de43dba062252e5cc0866d": {
      "model_module": "@jupyter-widgets/controls",
      "model_module_version": "1.5.0",
      "model_name": "DescriptionStyleModel",
      "state": {
       "description_width": ""
      }
     },
     "7688af49cf174824a576fb154eb37c34": {
      "model_module": "@jupyter-widgets/base",
      "model_module_version": "1.2.0",
      "model_name": "LayoutModel",
      "state": {}
     },
     "768fe0710aa14cf8b2f1a6313fc60f3d": {
      "model_module": "@jupyter-widgets/base",
      "model_module_version": "1.2.0",
      "model_name": "LayoutModel",
      "state": {}
     },
     "76f5d8fe0eac414f8406e7acf573c181": {
      "model_module": "@jupyter-widgets/base",
      "model_module_version": "1.2.0",
      "model_name": "LayoutModel",
      "state": {
       "flex": "2"
      }
     },
     "77076e0f0e52470da8f6d031854a80ae": {
      "model_module": "@jupyter-widgets/controls",
      "model_module_version": "1.5.0",
      "model_name": "DescriptionStyleModel",
      "state": {
       "description_width": ""
      }
     },
     "770ba38952da41f9a2a00d9ec45d9dc6": {
      "model_module": "@jupyter-widgets/controls",
      "model_module_version": "1.5.0",
      "model_name": "DescriptionStyleModel",
      "state": {
       "description_width": ""
      }
     },
     "771edc61397d4668887cd02a09cc1434": {
      "model_module": "@jupyter-widgets/controls",
      "model_module_version": "1.5.0",
      "model_name": "DescriptionStyleModel",
      "state": {
       "description_width": ""
      }
     },
     "77317777d1be4da59c7d3f8cc6e827c3": {
      "model_module": "@jupyter-widgets/base",
      "model_module_version": "1.2.0",
      "model_name": "LayoutModel",
      "state": {}
     },
     "77487bfcca334e0eac39eefce6443b75": {
      "model_module": "@jupyter-widgets/controls",
      "model_module_version": "1.5.0",
      "model_name": "ProgressStyleModel",
      "state": {
       "description_width": ""
      }
     },
     "7772fc20c6ef4fdf9bfc7f5906f66ab1": {
      "model_module": "@jupyter-widgets/controls",
      "model_module_version": "1.5.0",
      "model_name": "HTMLModel",
      "state": {
       "layout": "IPY_MODEL_c10d1227172744bf9e1ffca74095c702",
       "style": "IPY_MODEL_c45b82e48d3240819a72411c655e0a4e",
       "value": " 16/16 [00:00&lt;00:00, 16.14it/s]"
      }
     },
     "77793a6722ae4f28ac70647eb27c5f18": {
      "model_module": "@jupyter-widgets/controls",
      "model_module_version": "1.5.0",
      "model_name": "ProgressStyleModel",
      "state": {
       "description_width": ""
      }
     },
     "77a1bde2835642e69a05515af39aedce": {
      "model_module": "@jupyter-widgets/controls",
      "model_module_version": "1.5.0",
      "model_name": "ProgressStyleModel",
      "state": {
       "description_width": ""
      }
     },
     "77a795a2c1aa412981fd9c7f855d2d30": {
      "model_module": "@jupyter-widgets/base",
      "model_module_version": "1.2.0",
      "model_name": "LayoutModel",
      "state": {}
     },
     "77c3b334b052492eaef56a19f5a0e041": {
      "model_module": "@jupyter-widgets/controls",
      "model_module_version": "1.5.0",
      "model_name": "DescriptionStyleModel",
      "state": {
       "description_width": ""
      }
     },
     "77d788fc9168410cb77721c596f73753": {
      "model_module": "@jupyter-widgets/base",
      "model_module_version": "1.2.0",
      "model_name": "LayoutModel",
      "state": {}
     },
     "77e03340d26f4b3f80676c7404c2587e": {
      "model_module": "@jupyter-widgets/controls",
      "model_module_version": "1.5.0",
      "model_name": "HTMLModel",
      "state": {
       "layout": "IPY_MODEL_3c956caa308c4ce6b9b35568db28f61a",
       "style": "IPY_MODEL_dbd2babfd7094748b4842f94aa828028",
       "value": " 16/16 [00:00&lt;00:00, 19.42it/s]"
      }
     },
     "77f42b343fd946598e664c75df267c60": {
      "model_module": "@jupyter-widgets/controls",
      "model_module_version": "1.5.0",
      "model_name": "DescriptionStyleModel",
      "state": {
       "description_width": ""
      }
     },
     "7800d808dfc8495eb2568df5fa5ee525": {
      "model_module": "@jupyter-widgets/controls",
      "model_module_version": "1.5.0",
      "model_name": "HTMLModel",
      "state": {
       "layout": "IPY_MODEL_a2a2d48e5ac24416b33d71fd9109f2ac",
       "style": "IPY_MODEL_3a1f6bcdddbb473ca0ec39862de1d421",
       "value": "Validation DataLoader 0: 100%"
      }
     },
     "780196bb680c4fea97221924b9b571cb": {
      "model_module": "@jupyter-widgets/controls",
      "model_module_version": "1.5.0",
      "model_name": "DescriptionStyleModel",
      "state": {
       "description_width": ""
      }
     },
     "7816bddc5d2f4b45b38c884455a46c9d": {
      "model_module": "@jupyter-widgets/base",
      "model_module_version": "1.2.0",
      "model_name": "LayoutModel",
      "state": {}
     },
     "7818ee595c674dc88208e0206a89bd51": {
      "model_module": "@jupyter-widgets/base",
      "model_module_version": "1.2.0",
      "model_name": "LayoutModel",
      "state": {}
     },
     "784d83a2177242a282440b3c6c7456a8": {
      "model_module": "@jupyter-widgets/base",
      "model_module_version": "1.2.0",
      "model_name": "LayoutModel",
      "state": {
       "flex": "2"
      }
     },
     "784f2d0e82174ac5ae9e085a52f2c9b5": {
      "model_module": "@jupyter-widgets/controls",
      "model_module_version": "1.5.0",
      "model_name": "HTMLModel",
      "state": {
       "layout": "IPY_MODEL_c0abcb368fa148a6a9f3de5e3e5aa9ce",
       "style": "IPY_MODEL_3fe11d7718d14d25bb8495d3780b173c",
       "value": "Sanity Checking DataLoader 0: 100%"
      }
     },
     "785240f1dca541749f5eb41981abbdb1": {
      "model_module": "@jupyter-widgets/controls",
      "model_module_version": "1.5.0",
      "model_name": "ProgressStyleModel",
      "state": {
       "description_width": ""
      }
     },
     "7863057c50864e5089dd468f1ee285f2": {
      "model_module": "@jupyter-widgets/controls",
      "model_module_version": "1.5.0",
      "model_name": "HBoxModel",
      "state": {
       "children": [
        "IPY_MODEL_ddb408986a1e485f9639369945f1ff4b",
        "IPY_MODEL_06ba9f873edd414aacbb6d8692fda51c",
        "IPY_MODEL_fdbdd44b9953445ea6e21d4c29434a66"
       ],
       "layout": "IPY_MODEL_739069f0b36b42819d22ecb3f27ab6dd"
      }
     },
     "7872bc3c84a54507bcf36a864793e0d9": {
      "model_module": "@jupyter-widgets/base",
      "model_module_version": "1.2.0",
      "model_name": "LayoutModel",
      "state": {}
     },
     "7875bf7414514664814970d647a42c06": {
      "model_module": "@jupyter-widgets/base",
      "model_module_version": "1.2.0",
      "model_name": "LayoutModel",
      "state": {
       "display": "inline-flex",
       "flex_flow": "row wrap",
       "width": "100%"
      }
     },
     "787c930f92824a92b815f354fc4364e4": {
      "model_module": "@jupyter-widgets/base",
      "model_module_version": "1.2.0",
      "model_name": "LayoutModel",
      "state": {
       "flex": "2"
      }
     },
     "7882cd41e533453980aef196790d167d": {
      "model_module": "@jupyter-widgets/base",
      "model_module_version": "1.2.0",
      "model_name": "LayoutModel",
      "state": {
       "display": "inline-flex",
       "flex_flow": "row wrap",
       "width": "100%"
      }
     },
     "78871e1878c8472586d3b879ac389569": {
      "model_module": "@jupyter-widgets/base",
      "model_module_version": "1.2.0",
      "model_name": "LayoutModel",
      "state": {}
     },
     "7888ca20a8784c8ba7b8f5e90ce47184": {
      "model_module": "@jupyter-widgets/controls",
      "model_module_version": "1.5.0",
      "model_name": "FloatProgressModel",
      "state": {
       "layout": "IPY_MODEL_27a00a68f7d14c3292318400659708e2",
       "max": 16,
       "style": "IPY_MODEL_b03eb1bf965642798f8f0ad120edb28b",
       "value": 16
      }
     },
     "7899d75c1aa34c4f9d2c46e5bbf15a8e": {
      "model_module": "@jupyter-widgets/base",
      "model_module_version": "1.2.0",
      "model_name": "LayoutModel",
      "state": {
       "display": "inline-flex",
       "flex_flow": "row wrap",
       "width": "100%"
      }
     },
     "789ed2730c7f45c987f5fda1afbb60a3": {
      "model_module": "@jupyter-widgets/controls",
      "model_module_version": "1.5.0",
      "model_name": "DescriptionStyleModel",
      "state": {
       "description_width": ""
      }
     },
     "78a828c7b0a14fa0b4b3d6ce106b1e3e": {
      "model_module": "@jupyter-widgets/controls",
      "model_module_version": "1.5.0",
      "model_name": "ProgressStyleModel",
      "state": {
       "description_width": ""
      }
     },
     "78bb7aebd33e4d4b8630f579e10fd5fe": {
      "model_module": "@jupyter-widgets/base",
      "model_module_version": "1.2.0",
      "model_name": "LayoutModel",
      "state": {
       "display": "inline-flex",
       "flex_flow": "row wrap",
       "width": "100%"
      }
     },
     "78c02ac509854e63bfc18a1f612d81b7": {
      "model_module": "@jupyter-widgets/controls",
      "model_module_version": "1.5.0",
      "model_name": "DescriptionStyleModel",
      "state": {
       "description_width": ""
      }
     },
     "78dfd8e065804514b7631bfc8a6848b4": {
      "model_module": "@jupyter-widgets/base",
      "model_module_version": "1.2.0",
      "model_name": "LayoutModel",
      "state": {}
     },
     "791cfb126e324b96a6840543b301fe2c": {
      "model_module": "@jupyter-widgets/base",
      "model_module_version": "1.2.0",
      "model_name": "LayoutModel",
      "state": {
       "display": "inline-flex",
       "flex_flow": "row wrap",
       "width": "100%"
      }
     },
     "791fbb2dd210442eab3f48e4262218b9": {
      "model_module": "@jupyter-widgets/controls",
      "model_module_version": "1.5.0",
      "model_name": "HTMLModel",
      "state": {
       "layout": "IPY_MODEL_f3bc311d09b64696a792e12ca622e6ff",
       "style": "IPY_MODEL_6571fca51cf84bdcb6c5e847ce3310b7",
       "value": " 16/16 [00:05&lt;00:00,  3.02it/s]"
      }
     },
     "79207bf1a66b4b42ab37b34213cdeea0": {
      "model_module": "@jupyter-widgets/controls",
      "model_module_version": "1.5.0",
      "model_name": "FloatProgressModel",
      "state": {
       "layout": "IPY_MODEL_39bd09cb11914b24a87253cd8e78ae9e",
       "max": 16,
       "style": "IPY_MODEL_892c5b0dcd474bef8dd9eacc1fc33273",
       "value": 16
      }
     },
     "793075d0e98e4c80bb6ab4d5512b6db2": {
      "model_module": "@jupyter-widgets/base",
      "model_module_version": "1.2.0",
      "model_name": "LayoutModel",
      "state": {
       "display": "inline-flex",
       "flex_flow": "row wrap",
       "width": "100%"
      }
     },
     "7939553d5edc44dc80b018f0e5f4e3c4": {
      "model_module": "@jupyter-widgets/controls",
      "model_module_version": "1.5.0",
      "model_name": "FloatProgressModel",
      "state": {
       "layout": "IPY_MODEL_0725f743465a49918288386995049280",
       "max": 16,
       "style": "IPY_MODEL_a012bac01c024c1286389816ebeaa70a",
       "value": 16
      }
     },
     "795939224e894b4e90e528f0a6c680c5": {
      "model_module": "@jupyter-widgets/base",
      "model_module_version": "1.2.0",
      "model_name": "LayoutModel",
      "state": {}
     },
     "795eb8d740ff4e7ab1eca837d5bb25f2": {
      "model_module": "@jupyter-widgets/controls",
      "model_module_version": "1.5.0",
      "model_name": "ProgressStyleModel",
      "state": {
       "description_width": ""
      }
     },
     "79746931c8ef4f8aa75d73c8d90062fb": {
      "model_module": "@jupyter-widgets/controls",
      "model_module_version": "1.5.0",
      "model_name": "ProgressStyleModel",
      "state": {
       "description_width": ""
      }
     },
     "797a94bb38324c0584c6a34081489a2f": {
      "model_module": "@jupyter-widgets/controls",
      "model_module_version": "1.5.0",
      "model_name": "DescriptionStyleModel",
      "state": {
       "description_width": ""
      }
     },
     "797d114e79584265ba1eb7bb07e8b233": {
      "model_module": "@jupyter-widgets/controls",
      "model_module_version": "1.5.0",
      "model_name": "FloatProgressModel",
      "state": {
       "layout": "IPY_MODEL_fe3f6221d28e40a39f27f82b5db57f42",
       "max": 16,
       "style": "IPY_MODEL_ddcd0f7b9a3d4c299fe2f787713989d7",
       "value": 16
      }
     },
     "7996fb9ae4ea467d8950d154950f5f60": {
      "model_module": "@jupyter-widgets/controls",
      "model_module_version": "1.5.0",
      "model_name": "FloatProgressModel",
      "state": {
       "layout": "IPY_MODEL_f7672c0e18f44e568c3b7becc24a7600",
       "max": 16,
       "style": "IPY_MODEL_7b2a0954c50049c7aad81afd54d7f5b1",
       "value": 16
      }
     },
     "79a9cf4164d6470597c90bcb70e46c8c": {
      "model_module": "@jupyter-widgets/base",
      "model_module_version": "1.2.0",
      "model_name": "LayoutModel",
      "state": {}
     },
     "79af8ec80d27410abe7f96ea209c2983": {
      "model_module": "@jupyter-widgets/controls",
      "model_module_version": "1.5.0",
      "model_name": "HTMLModel",
      "state": {
       "layout": "IPY_MODEL_e08eace7b086492da88d8f00dd725e20",
       "style": "IPY_MODEL_30bbd207100d40da87c07e6168519a0f",
       "value": " 16/16 [00:00&lt;00:00, 20.18it/s]"
      }
     },
     "79cdcebdac044d0f8f7cf36cd6dc9913": {
      "model_module": "@jupyter-widgets/controls",
      "model_module_version": "1.5.0",
      "model_name": "FloatProgressModel",
      "state": {
       "layout": "IPY_MODEL_64c912734c8e4271a2246f2a1a834a6f",
       "max": 16,
       "style": "IPY_MODEL_32170654859b4ecda3a53d2ff9d409e3",
       "value": 16
      }
     },
     "7a19441a2053416882dece4e14bf2e3a": {
      "model_module": "@jupyter-widgets/base",
      "model_module_version": "1.2.0",
      "model_name": "LayoutModel",
      "state": {}
     },
     "7a1cc19fd4c846528b59d5db12ce979c": {
      "model_module": "@jupyter-widgets/controls",
      "model_module_version": "1.5.0",
      "model_name": "FloatProgressModel",
      "state": {
       "layout": "IPY_MODEL_c5430282608c4935a1b481324c6a6a0d",
       "max": 16,
       "style": "IPY_MODEL_8b24f15b0a9d4ca2b5cecdc4e5dbb68a",
       "value": 16
      }
     },
     "7a638bb15f9944d082be86f6f8cfc459": {
      "model_module": "@jupyter-widgets/controls",
      "model_module_version": "1.5.0",
      "model_name": "HTMLModel",
      "state": {
       "layout": "IPY_MODEL_cd96c956179f49dea726becefc404a57",
       "style": "IPY_MODEL_01c06c3e50434cd991bc6af3595165c0",
       "value": "Validation DataLoader 0: 100%"
      }
     },
     "7a913455206c48c39e07a69981ea8557": {
      "model_module": "@jupyter-widgets/base",
      "model_module_version": "1.2.0",
      "model_name": "LayoutModel",
      "state": {
       "display": "inline-flex",
       "flex_flow": "row wrap",
       "width": "100%"
      }
     },
     "7a99f6bf5c304f68a0c578d0b0e7c925": {
      "model_module": "@jupyter-widgets/base",
      "model_module_version": "1.2.0",
      "model_name": "LayoutModel",
      "state": {}
     },
     "7aa475939c25428a903c6f6f7e4db041": {
      "model_module": "@jupyter-widgets/controls",
      "model_module_version": "1.5.0",
      "model_name": "DescriptionStyleModel",
      "state": {
       "description_width": ""
      }
     },
     "7ab8795c95b7494fad6672fd546383dc": {
      "model_module": "@jupyter-widgets/controls",
      "model_module_version": "1.5.0",
      "model_name": "FloatProgressModel",
      "state": {
       "layout": "IPY_MODEL_c459dd39be0b4a39af3c2eb97275fa5d",
       "max": 16,
       "style": "IPY_MODEL_54ca9b348d48400eb89525aafd65e63c",
       "value": 16
      }
     },
     "7ab973a7bd7b4ecf9bf9fb8c064ccd48": {
      "model_module": "@jupyter-widgets/base",
      "model_module_version": "1.2.0",
      "model_name": "LayoutModel",
      "state": {}
     },
     "7abdb2a8a3284550aea0a173ca5d9090": {
      "model_module": "@jupyter-widgets/controls",
      "model_module_version": "1.5.0",
      "model_name": "HTMLModel",
      "state": {
       "layout": "IPY_MODEL_15cdcc8d9d6e45aeaaa87c23056a2520",
       "style": "IPY_MODEL_552aa6038448462a924581914508ffef",
       "value": "Validation DataLoader 0: 100%"
      }
     },
     "7ae623366fe142dca22f93a9be2cde5a": {
      "model_module": "@jupyter-widgets/controls",
      "model_module_version": "1.5.0",
      "model_name": "HTMLModel",
      "state": {
       "layout": "IPY_MODEL_93d66eae85c34345a031490ef2505708",
       "style": "IPY_MODEL_7ea509a38a8d4ca186ef3ba82adffc5c",
       "value": "Validation DataLoader 0: 100%"
      }
     },
     "7b0bb477a2f84fc29acae3905bc40485": {
      "model_module": "@jupyter-widgets/base",
      "model_module_version": "1.2.0",
      "model_name": "LayoutModel",
      "state": {}
     },
     "7b21a64ebe634c9f9bd09e5f108b58f3": {
      "model_module": "@jupyter-widgets/controls",
      "model_module_version": "1.5.0",
      "model_name": "HTMLModel",
      "state": {
       "layout": "IPY_MODEL_96385567e8b641398f3733f033a75786",
       "style": "IPY_MODEL_91e000810b5b4c979703f7422bbad527",
       "value": " 16/16 [00:00&lt;00:00, 20.92it/s]"
      }
     },
     "7b2a0954c50049c7aad81afd54d7f5b1": {
      "model_module": "@jupyter-widgets/controls",
      "model_module_version": "1.5.0",
      "model_name": "ProgressStyleModel",
      "state": {
       "description_width": ""
      }
     },
     "7b3d0e6578944fae98163ad8c26ddfc4": {
      "model_module": "@jupyter-widgets/controls",
      "model_module_version": "1.5.0",
      "model_name": "HTMLModel",
      "state": {
       "layout": "IPY_MODEL_f2eede9e0ffb46f0a240b14bc8f0d1fd",
       "style": "IPY_MODEL_45070fd7d6fe45259f29228280d09e93",
       "value": " 16/16 [00:07&lt;00:00,  2.53it/s]"
      }
     },
     "7b445f92134644789e89bc45241bd101": {
      "model_module": "@jupyter-widgets/controls",
      "model_module_version": "1.5.0",
      "model_name": "FloatProgressModel",
      "state": {
       "layout": "IPY_MODEL_9dd9e9472893427493b973153962e87a",
       "max": 2,
       "style": "IPY_MODEL_3495a0891d03486e897c60d0a9dfe24f",
       "value": 2
      }
     },
     "7b5bd5492f864e6fb210cc9b2d1e67ca": {
      "model_module": "@jupyter-widgets/controls",
      "model_module_version": "1.5.0",
      "model_name": "ProgressStyleModel",
      "state": {
       "description_width": ""
      }
     },
     "7b6be3b50b1d4eb09a29cbd2ae387b28": {
      "model_module": "@jupyter-widgets/base",
      "model_module_version": "1.2.0",
      "model_name": "LayoutModel",
      "state": {
       "flex": "2"
      }
     },
     "7b760c3aaa904cb1ab19ac53d1165ded": {
      "model_module": "@jupyter-widgets/base",
      "model_module_version": "1.2.0",
      "model_name": "LayoutModel",
      "state": {
       "display": "inline-flex",
       "flex_flow": "row wrap",
       "width": "100%"
      }
     },
     "7b9b96b6b11a4c87a06499282d677616": {
      "model_module": "@jupyter-widgets/base",
      "model_module_version": "1.2.0",
      "model_name": "LayoutModel",
      "state": {}
     },
     "7bb477026e114f218d9d80fee002f7c1": {
      "model_module": "@jupyter-widgets/controls",
      "model_module_version": "1.5.0",
      "model_name": "ProgressStyleModel",
      "state": {
       "description_width": ""
      }
     },
     "7bba505f4c364e5dbcb7a0ae058b858b": {
      "model_module": "@jupyter-widgets/base",
      "model_module_version": "1.2.0",
      "model_name": "LayoutModel",
      "state": {}
     },
     "7bc1b7847cba4450a207cf6d61131460": {
      "model_module": "@jupyter-widgets/base",
      "model_module_version": "1.2.0",
      "model_name": "LayoutModel",
      "state": {
       "flex": "2"
      }
     },
     "7bc3f2d8292a41c1bd2a51b523adf9c4": {
      "model_module": "@jupyter-widgets/controls",
      "model_module_version": "1.5.0",
      "model_name": "ProgressStyleModel",
      "state": {
       "description_width": ""
      }
     },
     "7c0bf52c817f45aba7dd07c7c230afe3": {
      "model_module": "@jupyter-widgets/base",
      "model_module_version": "1.2.0",
      "model_name": "LayoutModel",
      "state": {}
     },
     "7c203d743bd746cf806f8920b2176463": {
      "model_module": "@jupyter-widgets/controls",
      "model_module_version": "1.5.0",
      "model_name": "DescriptionStyleModel",
      "state": {
       "description_width": ""
      }
     },
     "7c4034fcb7e04855bc8a73b97ec031d1": {
      "model_module": "@jupyter-widgets/controls",
      "model_module_version": "1.5.0",
      "model_name": "HTMLModel",
      "state": {
       "layout": "IPY_MODEL_33005121c3ab4e6bb5a9950f4e501f4b",
       "style": "IPY_MODEL_e7ab3d19eb114730af88c1ca0adc4e1f",
       "value": " 2/2 [00:00&lt;00:00,  6.66it/s]"
      }
     },
     "7c417fddc9f44551a004f5c2a889c56f": {
      "model_module": "@jupyter-widgets/base",
      "model_module_version": "1.2.0",
      "model_name": "LayoutModel",
      "state": {}
     },
     "7c54c3143d3246c38b11b5ec7002d0bb": {
      "model_module": "@jupyter-widgets/base",
      "model_module_version": "1.2.0",
      "model_name": "LayoutModel",
      "state": {}
     },
     "7c5b7cbc6d6342afb03760940973d5e3": {
      "model_module": "@jupyter-widgets/controls",
      "model_module_version": "1.5.0",
      "model_name": "DescriptionStyleModel",
      "state": {
       "description_width": ""
      }
     },
     "7c5cfa42cfe746f1b377414c43752d31": {
      "model_module": "@jupyter-widgets/base",
      "model_module_version": "1.2.0",
      "model_name": "LayoutModel",
      "state": {}
     },
     "7c639c064da3496591261b1e7d349585": {
      "model_module": "@jupyter-widgets/controls",
      "model_module_version": "1.5.0",
      "model_name": "DescriptionStyleModel",
      "state": {
       "description_width": ""
      }
     },
     "7c8fb9d3fe4b4653952f7134c5cc38df": {
      "model_module": "@jupyter-widgets/controls",
      "model_module_version": "1.5.0",
      "model_name": "ProgressStyleModel",
      "state": {
       "description_width": ""
      }
     },
     "7c9b48c9dc194117868aa6b5a5d8a138": {
      "model_module": "@jupyter-widgets/controls",
      "model_module_version": "1.5.0",
      "model_name": "DescriptionStyleModel",
      "state": {
       "description_width": ""
      }
     },
     "7cb33f03039c44ebb868d7f65c2b97f4": {
      "model_module": "@jupyter-widgets/base",
      "model_module_version": "1.2.0",
      "model_name": "LayoutModel",
      "state": {}
     },
     "7cdfd5dc80b84ab8bb860a42fed6108c": {
      "model_module": "@jupyter-widgets/base",
      "model_module_version": "1.2.0",
      "model_name": "LayoutModel",
      "state": {
       "display": "inline-flex",
       "flex_flow": "row wrap",
       "width": "100%"
      }
     },
     "7cee0bec8340424cbf6f41f6fbe986a9": {
      "model_module": "@jupyter-widgets/base",
      "model_module_version": "1.2.0",
      "model_name": "LayoutModel",
      "state": {
       "flex": "2"
      }
     },
     "7cffbf97398943cfab6cd3a6f824789e": {
      "model_module": "@jupyter-widgets/controls",
      "model_module_version": "1.5.0",
      "model_name": "HTMLModel",
      "state": {
       "layout": "IPY_MODEL_6170cbc8ef1b486ebedc132380868560",
       "style": "IPY_MODEL_afb318c96cea49e489fd205d24124a72",
       "value": " 16/16 [00:02&lt;00:00,  7.27it/s]"
      }
     },
     "7d07da2a5ad4476ca93af8650fe04ab8": {
      "model_module": "@jupyter-widgets/base",
      "model_module_version": "1.2.0",
      "model_name": "LayoutModel",
      "state": {
       "display": "inline-flex",
       "flex_flow": "row wrap",
       "width": "100%"
      }
     },
     "7d18bfb4664447278f036e6bfcf7cbc4": {
      "model_module": "@jupyter-widgets/controls",
      "model_module_version": "1.5.0",
      "model_name": "HTMLModel",
      "state": {
       "layout": "IPY_MODEL_dde64b5e21f841a0b667c791730ad276",
       "style": "IPY_MODEL_0e0365d3b1ab4911a3ced85b18d2b53c",
       "value": " 2/2 [00:00&lt;00:00, 12.16it/s]"
      }
     },
     "7d1a8e7854384907b9629950dc2fdbed": {
      "model_module": "@jupyter-widgets/controls",
      "model_module_version": "1.5.0",
      "model_name": "HTMLModel",
      "state": {
       "layout": "IPY_MODEL_98884bc05b8e4b83b220c0597c28e295",
       "style": "IPY_MODEL_128102353d6545fd8215332a39955a55",
       "value": " 16/16 [00:00&lt;00:00, 17.04it/s]"
      }
     },
     "7d4f668ea03246b894dfe4e88a50c256": {
      "model_module": "@jupyter-widgets/controls",
      "model_module_version": "1.5.0",
      "model_name": "FloatProgressModel",
      "state": {
       "layout": "IPY_MODEL_eb96deca94334cc39d47848796a2bba4",
       "max": 16,
       "style": "IPY_MODEL_a5c72a0070bd418c9dfb51efdcb75c57",
       "value": 16
      }
     },
     "7d623591fec4478ab75cad3206878276": {
      "model_module": "@jupyter-widgets/base",
      "model_module_version": "1.2.0",
      "model_name": "LayoutModel",
      "state": {
       "display": "inline-flex",
       "flex_flow": "row wrap",
       "width": "100%"
      }
     },
     "7d6cd7c485e14d6aae79225f2b97fda8": {
      "model_module": "@jupyter-widgets/controls",
      "model_module_version": "1.5.0",
      "model_name": "DescriptionStyleModel",
      "state": {
       "description_width": ""
      }
     },
     "7d8327ce370e4b5ab1e11627c022459c": {
      "model_module": "@jupyter-widgets/base",
      "model_module_version": "1.2.0",
      "model_name": "LayoutModel",
      "state": {}
     },
     "7d875138c65c41799b21887b8e44e3ad": {
      "model_module": "@jupyter-widgets/controls",
      "model_module_version": "1.5.0",
      "model_name": "FloatProgressModel",
      "state": {
       "layout": "IPY_MODEL_fb8a65f1b3aa4b6181b944790e0fe367",
       "max": 16,
       "style": "IPY_MODEL_e658606570e64514858e924f6990922a",
       "value": 16
      }
     },
     "7daf4fa661714de28f8c391e77b26a81": {
      "model_module": "@jupyter-widgets/controls",
      "model_module_version": "1.5.0",
      "model_name": "FloatProgressModel",
      "state": {
       "layout": "IPY_MODEL_5fb46d455b6c417f9d23ed079e7230ae",
       "max": 16,
       "style": "IPY_MODEL_e0e2469bf94d409ba6585014e921d66f",
       "value": 16
      }
     },
     "7dd22c7542ce44b4bf29ac0673a3a833": {
      "model_module": "@jupyter-widgets/base",
      "model_module_version": "1.2.0",
      "model_name": "LayoutModel",
      "state": {
       "display": "inline-flex",
       "flex_flow": "row wrap",
       "width": "100%"
      }
     },
     "7dd431739d6940ffb0050cfebd891f82": {
      "model_module": "@jupyter-widgets/base",
      "model_module_version": "1.2.0",
      "model_name": "LayoutModel",
      "state": {
       "display": "inline-flex",
       "flex_flow": "row wrap",
       "width": "100%"
      }
     },
     "7dd5f8c41a9b445a819dca37c34d6654": {
      "model_module": "@jupyter-widgets/base",
      "model_module_version": "1.2.0",
      "model_name": "LayoutModel",
      "state": {
       "flex": "2"
      }
     },
     "7dff367c23e34050a97450201b44299a": {
      "model_module": "@jupyter-widgets/controls",
      "model_module_version": "1.5.0",
      "model_name": "HTMLModel",
      "state": {
       "layout": "IPY_MODEL_c4e61eab0176421690f0723365818460",
       "style": "IPY_MODEL_8a7e018ef24a489c8d3abcd74d243de7",
       "value": "Validation DataLoader 0: 100%"
      }
     },
     "7e0680d51a5549459dcf40ce3c109c4b": {
      "model_module": "@jupyter-widgets/controls",
      "model_module_version": "1.5.0",
      "model_name": "DescriptionStyleModel",
      "state": {
       "description_width": ""
      }
     },
     "7e075c708cd84efe8a014dcbcddf6ab1": {
      "model_module": "@jupyter-widgets/controls",
      "model_module_version": "1.5.0",
      "model_name": "HTMLModel",
      "state": {
       "layout": "IPY_MODEL_966e3d863ca04532b810be9c6595c2f6",
       "style": "IPY_MODEL_d863099c05e94405aaa6089418178aa6",
       "value": " 16/16 [00:04&lt;00:00,  3.38it/s]"
      }
     },
     "7e3e46ec458347bd802e4dac3ffdb10f": {
      "model_module": "@jupyter-widgets/controls",
      "model_module_version": "1.5.0",
      "model_name": "HTMLModel",
      "state": {
       "layout": "IPY_MODEL_bffa2f09cc5c4b9bb975041e3f8a9c69",
       "style": "IPY_MODEL_cee8ca80510f449aa64d6eda51674651",
       "value": " 16/16 [00:01&lt;00:00, 13.20it/s]"
      }
     },
     "7e74307bf1a34996ae651ef87ca8c1e0": {
      "model_module": "@jupyter-widgets/base",
      "model_module_version": "1.2.0",
      "model_name": "LayoutModel",
      "state": {}
     },
     "7e74eb2b346545e3a2ac2a3a924dfc20": {
      "model_module": "@jupyter-widgets/controls",
      "model_module_version": "1.5.0",
      "model_name": "DescriptionStyleModel",
      "state": {
       "description_width": ""
      }
     },
     "7e8e16460fc54adc829873f55795a0ca": {
      "model_module": "@jupyter-widgets/controls",
      "model_module_version": "1.5.0",
      "model_name": "FloatProgressModel",
      "state": {
       "layout": "IPY_MODEL_2f337733bc7b4ac2bf28be46fd40aa9d",
       "max": 16,
       "style": "IPY_MODEL_ce21e274d0244189bfb4fca7d50058a6",
       "value": 16
      }
     },
     "7e938bd33958443aa39b1c455dbab300": {
      "model_module": "@jupyter-widgets/base",
      "model_module_version": "1.2.0",
      "model_name": "LayoutModel",
      "state": {
       "display": "inline-flex",
       "flex_flow": "row wrap",
       "width": "100%"
      }
     },
     "7e9fc310febe479f8034b16f4b584ce5": {
      "model_module": "@jupyter-widgets/controls",
      "model_module_version": "1.5.0",
      "model_name": "FloatProgressModel",
      "state": {
       "layout": "IPY_MODEL_dae4c6421f9746abb546ac4d94c8f331",
       "max": 16,
       "style": "IPY_MODEL_ccf0f5258bc44035b54c3989ef30d98c",
       "value": 16
      }
     },
     "7ea509a38a8d4ca186ef3ba82adffc5c": {
      "model_module": "@jupyter-widgets/controls",
      "model_module_version": "1.5.0",
      "model_name": "DescriptionStyleModel",
      "state": {
       "description_width": ""
      }
     },
     "7eb572290d7042d681cef1f295ff10f2": {
      "model_module": "@jupyter-widgets/base",
      "model_module_version": "1.2.0",
      "model_name": "LayoutModel",
      "state": {}
     },
     "7ecfe367cf6a4bfd8161c01f04bc23ae": {
      "model_module": "@jupyter-widgets/base",
      "model_module_version": "1.2.0",
      "model_name": "LayoutModel",
      "state": {}
     },
     "7ed889870df54ff6b5b034b1bd19a989": {
      "model_module": "@jupyter-widgets/base",
      "model_module_version": "1.2.0",
      "model_name": "LayoutModel",
      "state": {
       "flex": "2"
      }
     },
     "7ee65ce8dcbb4d2d8cc8b2c51bcff517": {
      "model_module": "@jupyter-widgets/controls",
      "model_module_version": "1.5.0",
      "model_name": "DescriptionStyleModel",
      "state": {
       "description_width": ""
      }
     },
     "7eec283a71bd4942b574fa26b00a8876": {
      "model_module": "@jupyter-widgets/base",
      "model_module_version": "1.2.0",
      "model_name": "LayoutModel",
      "state": {}
     },
     "7efdf1d4790146809ca08d39e9fb31b0": {
      "model_module": "@jupyter-widgets/controls",
      "model_module_version": "1.5.0",
      "model_name": "ProgressStyleModel",
      "state": {
       "description_width": ""
      }
     },
     "7f07cb6574884789b22acf6c27ac592d": {
      "model_module": "@jupyter-widgets/base",
      "model_module_version": "1.2.0",
      "model_name": "LayoutModel",
      "state": {
       "flex": "2"
      }
     },
     "7f0d2444c1ce4ad3aabfa5e31a6c6fcd": {
      "model_module": "@jupyter-widgets/base",
      "model_module_version": "1.2.0",
      "model_name": "LayoutModel",
      "state": {
       "flex": "2"
      }
     },
     "7f12a6bb2b51415cac2425d125757aae": {
      "model_module": "@jupyter-widgets/base",
      "model_module_version": "1.2.0",
      "model_name": "LayoutModel",
      "state": {}
     },
     "7f19995e732d4c0fac76af999f228c06": {
      "model_module": "@jupyter-widgets/controls",
      "model_module_version": "1.5.0",
      "model_name": "HTMLModel",
      "state": {
       "layout": "IPY_MODEL_0f3885f239ac48c5b165f23ad8484bbc",
       "style": "IPY_MODEL_d89a2f7ee8c04be98fac3e79d4711502",
       "value": " 1/77 [00:00&lt;00:39,  1.92it/s, loss=1.95, v_num=H-48]"
      }
     },
     "7f240e7b2ac54ca884d40cac8b7e4a0d": {
      "model_module": "@jupyter-widgets/base",
      "model_module_version": "1.2.0",
      "model_name": "LayoutModel",
      "state": {
       "display": "inline-flex",
       "flex_flow": "row wrap",
       "width": "100%"
      }
     },
     "7f4346dcd92f4ead8463d28be317fb18": {
      "model_module": "@jupyter-widgets/base",
      "model_module_version": "1.2.0",
      "model_name": "LayoutModel",
      "state": {}
     },
     "7f525524f5c64a589af96ad16a7f127a": {
      "model_module": "@jupyter-widgets/base",
      "model_module_version": "1.2.0",
      "model_name": "LayoutModel",
      "state": {}
     },
     "7f5c8ca9f490481f972ab1d61a8b7974": {
      "model_module": "@jupyter-widgets/base",
      "model_module_version": "1.2.0",
      "model_name": "LayoutModel",
      "state": {}
     },
     "7f99f1fa40734825bfea119a0bffb1d1": {
      "model_module": "@jupyter-widgets/controls",
      "model_module_version": "1.5.0",
      "model_name": "DescriptionStyleModel",
      "state": {
       "description_width": ""
      }
     },
     "7f9d65a9298d4f279b28ec8d2031d036": {
      "model_module": "@jupyter-widgets/controls",
      "model_module_version": "1.5.0",
      "model_name": "HTMLModel",
      "state": {
       "layout": "IPY_MODEL_ec07a843b65b4dbe9830aea629f137bd",
       "style": "IPY_MODEL_768562e4b0de43dba062252e5cc0866d",
       "value": "Validation DataLoader 0: 100%"
      }
     },
     "7fa2a973160b4dee8ae1504cbdfa94d2": {
      "model_module": "@jupyter-widgets/controls",
      "model_module_version": "1.5.0",
      "model_name": "ProgressStyleModel",
      "state": {
       "description_width": ""
      }
     },
     "7fafa412be294d6c87c760c57ac3da32": {
      "model_module": "@jupyter-widgets/base",
      "model_module_version": "1.2.0",
      "model_name": "LayoutModel",
      "state": {}
     },
     "7fceef93a0eb452e9515765b839067a6": {
      "model_module": "@jupyter-widgets/controls",
      "model_module_version": "1.5.0",
      "model_name": "ProgressStyleModel",
      "state": {
       "description_width": ""
      }
     },
     "7fe787611fe44829b2fb39460e8fceb0": {
      "model_module": "@jupyter-widgets/controls",
      "model_module_version": "1.5.0",
      "model_name": "DescriptionStyleModel",
      "state": {
       "description_width": ""
      }
     },
     "8005f773674a45dfaf65212840d6a7e5": {
      "model_module": "@jupyter-widgets/base",
      "model_module_version": "1.2.0",
      "model_name": "LayoutModel",
      "state": {
       "flex": "2"
      }
     },
     "8029c49cea2b4f56977040c9d004c7aa": {
      "model_module": "@jupyter-widgets/base",
      "model_module_version": "1.2.0",
      "model_name": "LayoutModel",
      "state": {
       "display": "inline-flex",
       "flex_flow": "row wrap",
       "width": "100%"
      }
     },
     "803663d1965e4efaa54c5abf5b482cdc": {
      "model_module": "@jupyter-widgets/controls",
      "model_module_version": "1.5.0",
      "model_name": "DescriptionStyleModel",
      "state": {
       "description_width": ""
      }
     },
     "8042039d58984168ac704f568d64995f": {
      "model_module": "@jupyter-widgets/controls",
      "model_module_version": "1.5.0",
      "model_name": "FloatProgressModel",
      "state": {
       "layout": "IPY_MODEL_ab4b1a84ea5f46e4ace5c805947fd831",
       "max": 16,
       "style": "IPY_MODEL_21788ce503964ac6a3bc979208d707eb",
       "value": 16
      }
     },
     "80449920f9c34581b1a4dab76276990b": {
      "model_module": "@jupyter-widgets/controls",
      "model_module_version": "1.5.0",
      "model_name": "HTMLModel",
      "state": {
       "layout": "IPY_MODEL_e2df034fb1394fc0b948c12467d8db85",
       "style": "IPY_MODEL_18adfbbb7dd746e99109f18910bb7e79",
       "value": " 16/16 [00:00&lt;00:00, 18.64it/s]"
      }
     },
     "80485af489b94525a57d6b0101a2837c": {
      "model_module": "@jupyter-widgets/base",
      "model_module_version": "1.2.0",
      "model_name": "LayoutModel",
      "state": {
       "flex": "2"
      }
     },
     "80551daa8183403fb8c4bf8a143c8c57": {
      "model_module": "@jupyter-widgets/controls",
      "model_module_version": "1.5.0",
      "model_name": "FloatProgressModel",
      "state": {
       "layout": "IPY_MODEL_7f0d2444c1ce4ad3aabfa5e31a6c6fcd",
       "max": 16,
       "style": "IPY_MODEL_143e1cfa79a84ac9bfd1e426b9949c7f",
       "value": 16
      }
     },
     "8069dbefda8e40a9a2451da1c4c80303": {
      "model_module": "@jupyter-widgets/base",
      "model_module_version": "1.2.0",
      "model_name": "LayoutModel",
      "state": {
       "flex": "2"
      }
     },
     "8074d7db13614e698a17f795398769ba": {
      "model_module": "@jupyter-widgets/controls",
      "model_module_version": "1.5.0",
      "model_name": "HTMLModel",
      "state": {
       "layout": "IPY_MODEL_f742eb6c17784410bc5595586391c9af",
       "style": "IPY_MODEL_ebfa7ecb1c4548bdb18636dd8d052de8",
       "value": " 16/16 [00:02&lt;00:00,  7.52it/s]"
      }
     },
     "8092595190d34fc390c68ae536b16c17": {
      "model_module": "@jupyter-widgets/controls",
      "model_module_version": "1.5.0",
      "model_name": "FloatProgressModel",
      "state": {
       "layout": "IPY_MODEL_339cb196fd6341e2b44ed3848c03c295",
       "max": 16,
       "style": "IPY_MODEL_33fa695c73a041f0a3b37b3476d4b86a",
       "value": 16
      }
     },
     "80a274d24b194f6c868a0142615ea93f": {
      "model_module": "@jupyter-widgets/controls",
      "model_module_version": "1.5.0",
      "model_name": "DescriptionStyleModel",
      "state": {
       "description_width": ""
      }
     },
     "80a831f5acff49d3b3121af8047e28fe": {
      "model_module": "@jupyter-widgets/base",
      "model_module_version": "1.2.0",
      "model_name": "LayoutModel",
      "state": {
       "display": "inline-flex",
       "flex_flow": "row wrap",
       "width": "100%"
      }
     },
     "80b33854b96e4819a40d66ba56ca8263": {
      "model_module": "@jupyter-widgets/base",
      "model_module_version": "1.2.0",
      "model_name": "LayoutModel",
      "state": {}
     },
     "80b72d65410e4faeb86c59f521cea593": {
      "model_module": "@jupyter-widgets/controls",
      "model_module_version": "1.5.0",
      "model_name": "HTMLModel",
      "state": {
       "layout": "IPY_MODEL_d98dc548366d4be39a6a8af11083f792",
       "style": "IPY_MODEL_688bf481abfb47bd944c4a2f324f61a9",
       "value": " 2/2 [00:00&lt;00:00, 25.60it/s]"
      }
     },
     "8118b348f8c3445dbf4eee2ae3bcf198": {
      "model_module": "@jupyter-widgets/controls",
      "model_module_version": "1.5.0",
      "model_name": "ProgressStyleModel",
      "state": {
       "description_width": ""
      }
     },
     "811ce1d377bb47c482d7d41dce6b0b53": {
      "model_module": "@jupyter-widgets/controls",
      "model_module_version": "1.5.0",
      "model_name": "HTMLModel",
      "state": {
       "layout": "IPY_MODEL_4bbef4b110e84ab9a903a3054efb0138",
       "style": "IPY_MODEL_6c3ec48e9b4f4370b1c8d1d581d3d652",
       "value": " 16/16 [00:07&lt;00:00,  2.58it/s]"
      }
     },
     "812413457368488393ab443dc8bfabfa": {
      "model_module": "@jupyter-widgets/base",
      "model_module_version": "1.2.0",
      "model_name": "LayoutModel",
      "state": {}
     },
     "812952e4cd264bd9a7f813daf435795b": {
      "model_module": "@jupyter-widgets/controls",
      "model_module_version": "1.5.0",
      "model_name": "HTMLModel",
      "state": {
       "layout": "IPY_MODEL_577fc960d0f0429e8f350faa13efac0f",
       "style": "IPY_MODEL_7f99f1fa40734825bfea119a0bffb1d1",
       "value": "Validation DataLoader 0: 100%"
      }
     },
     "812f440fe1f94e82bb04e67be4a3577b": {
      "model_module": "@jupyter-widgets/controls",
      "model_module_version": "1.5.0",
      "model_name": "DescriptionStyleModel",
      "state": {
       "description_width": ""
      }
     },
     "814b5f43712d4c01b8cdc470ab48887f": {
      "model_module": "@jupyter-widgets/controls",
      "model_module_version": "1.5.0",
      "model_name": "HTMLModel",
      "state": {
       "layout": "IPY_MODEL_7c0bf52c817f45aba7dd07c7c230afe3",
       "style": "IPY_MODEL_962fe725e9b04786a6d17f79794b49b1",
       "value": " 77/77 [00:05&lt;00:00, 13.47it/s, loss=0.0459, v_num=H-61]"
      }
     },
     "816854915736447296d6e25bf6b158d1": {
      "model_module": "@jupyter-widgets/controls",
      "model_module_version": "1.5.0",
      "model_name": "HTMLModel",
      "state": {
       "layout": "IPY_MODEL_e189b5e045154c82aa02fe8ddf2fe546",
       "style": "IPY_MODEL_e4c2517dde4640c0ac8408709ddeeb08",
       "value": " 16/16 [00:00&lt;00:00, 16.64it/s]"
      }
     },
     "81719b4829cf434dbeef92cd7d697f72": {
      "model_module": "@jupyter-widgets/controls",
      "model_module_version": "1.5.0",
      "model_name": "DescriptionStyleModel",
      "state": {
       "description_width": ""
      }
     },
     "8195daebf46e49c59da4a8e6b58f2fe6": {
      "model_module": "@jupyter-widgets/controls",
      "model_module_version": "1.5.0",
      "model_name": "DescriptionStyleModel",
      "state": {
       "description_width": ""
      }
     },
     "81970ad9bfa14d8985bc2805e484408e": {
      "model_module": "@jupyter-widgets/base",
      "model_module_version": "1.2.0",
      "model_name": "LayoutModel",
      "state": {}
     },
     "81af49b63e1f4c5fb518a866b9c8be60": {
      "model_module": "@jupyter-widgets/controls",
      "model_module_version": "1.5.0",
      "model_name": "ProgressStyleModel",
      "state": {
       "description_width": ""
      }
     },
     "81c355c5f8034d0ca921250854e8c999": {
      "model_module": "@jupyter-widgets/controls",
      "model_module_version": "1.5.0",
      "model_name": "HTMLModel",
      "state": {
       "layout": "IPY_MODEL_91b9c7c9ae4a4f61abe4e367fb422a2a",
       "style": "IPY_MODEL_e82f075d274b42a1817308b5dbf8715e",
       "value": "Validation DataLoader 0: 100%"
      }
     },
     "81c9284f74dd4044b525d3708ded235a": {
      "model_module": "@jupyter-widgets/base",
      "model_module_version": "1.2.0",
      "model_name": "LayoutModel",
      "state": {}
     },
     "81c9913066324ab889c365c6b67f9766": {
      "model_module": "@jupyter-widgets/controls",
      "model_module_version": "1.5.0",
      "model_name": "DescriptionStyleModel",
      "state": {
       "description_width": ""
      }
     },
     "81d6f63e719748b8ba808b5f336550f2": {
      "model_module": "@jupyter-widgets/base",
      "model_module_version": "1.2.0",
      "model_name": "LayoutModel",
      "state": {}
     },
     "81f774997fb040328d6a6359eaea1f39": {
      "model_module": "@jupyter-widgets/base",
      "model_module_version": "1.2.0",
      "model_name": "LayoutModel",
      "state": {
       "flex": "2"
      }
     },
     "81fd4e0c13784b51bf3c5f5305046fc9": {
      "model_module": "@jupyter-widgets/base",
      "model_module_version": "1.2.0",
      "model_name": "LayoutModel",
      "state": {
       "flex": "2"
      }
     },
     "821df69eaa374d0a92ad5a6344bf9335": {
      "model_module": "@jupyter-widgets/controls",
      "model_module_version": "1.5.0",
      "model_name": "HTMLModel",
      "state": {
       "layout": "IPY_MODEL_f8d50a417983431c9ca0b45aaaa96745",
       "style": "IPY_MODEL_a60705786c6d4110842c11aac911ed23",
       "value": "Validation DataLoader 0: 100%"
      }
     },
     "82263fd2eaad46a5a8e9a7152c389f93": {
      "model_module": "@jupyter-widgets/base",
      "model_module_version": "1.2.0",
      "model_name": "LayoutModel",
      "state": {
       "flex": "2"
      }
     },
     "8250a290b025407dbd341ba1d07c51b0": {
      "model_module": "@jupyter-widgets/base",
      "model_module_version": "1.2.0",
      "model_name": "LayoutModel",
      "state": {}
     },
     "825ffe047f894578ad0e5c22f1b8de62": {
      "model_module": "@jupyter-widgets/base",
      "model_module_version": "1.2.0",
      "model_name": "LayoutModel",
      "state": {
       "display": "inline-flex",
       "flex_flow": "row wrap",
       "width": "100%"
      }
     },
     "826cc76bdcc8477e89e9aacb0f173aca": {
      "model_module": "@jupyter-widgets/controls",
      "model_module_version": "1.5.0",
      "model_name": "HTMLModel",
      "state": {
       "layout": "IPY_MODEL_67b6d66b5e924113af4126e760304d27",
       "style": "IPY_MODEL_4b41651d737d4a209cebd5fbb4945400",
       "value": " 16/16 [00:01&lt;00:00, 13.04it/s]"
      }
     },
     "82bd4bee18014476a956e5b556fab2fb": {
      "model_module": "@jupyter-widgets/controls",
      "model_module_version": "1.5.0",
      "model_name": "ProgressStyleModel",
      "state": {
       "description_width": ""
      }
     },
     "82be92a3efdf46189af5a233ce3369c5": {
      "model_module": "@jupyter-widgets/controls",
      "model_module_version": "1.5.0",
      "model_name": "ProgressStyleModel",
      "state": {
       "description_width": ""
      }
     },
     "82cc14e113324df790ae99e747b6bd6f": {
      "model_module": "@jupyter-widgets/controls",
      "model_module_version": "1.5.0",
      "model_name": "DescriptionStyleModel",
      "state": {
       "description_width": ""
      }
     },
     "82cccb5c2d0a40378aad3c69f8707963": {
      "model_module": "@jupyter-widgets/controls",
      "model_module_version": "1.5.0",
      "model_name": "ProgressStyleModel",
      "state": {
       "description_width": ""
      }
     },
     "82edf8faf4ad4d5eadf547962619cae7": {
      "model_module": "@jupyter-widgets/controls",
      "model_module_version": "1.5.0",
      "model_name": "ProgressStyleModel",
      "state": {
       "description_width": ""
      }
     },
     "82fd476b9b7745c8be1570d42df038fc": {
      "model_module": "@jupyter-widgets/base",
      "model_module_version": "1.2.0",
      "model_name": "LayoutModel",
      "state": {
       "display": "inline-flex",
       "flex_flow": "row wrap",
       "width": "100%"
      }
     },
     "8320a940a4b3497894e614bbe883c2e1": {
      "model_module": "@jupyter-widgets/controls",
      "model_module_version": "1.5.0",
      "model_name": "HTMLModel",
      "state": {
       "layout": "IPY_MODEL_2309633dd3e5438e83695154eba672da",
       "style": "IPY_MODEL_835676f6dcd64207905c65d80933100d",
       "value": " 16/16 [00:01&lt;00:00, 14.50it/s]"
      }
     },
     "832393a4eb0e465ba5c0679a810ea8cf": {
      "model_module": "@jupyter-widgets/controls",
      "model_module_version": "1.5.0",
      "model_name": "DescriptionStyleModel",
      "state": {
       "description_width": ""
      }
     },
     "8326f424b3e645b99c4fa55dd035706c": {
      "model_module": "@jupyter-widgets/controls",
      "model_module_version": "1.5.0",
      "model_name": "FloatProgressModel",
      "state": {
       "layout": "IPY_MODEL_fb24f4cb40a44d8b86d642f759d392e1",
       "max": 16,
       "style": "IPY_MODEL_2314753269dd4acf8df6052a28ecf502",
       "value": 16
      }
     },
     "8332c567d6354cafb7cb26fd27b0de45": {
      "model_module": "@jupyter-widgets/base",
      "model_module_version": "1.2.0",
      "model_name": "LayoutModel",
      "state": {
       "display": "inline-flex",
       "flex_flow": "row wrap",
       "width": "100%"
      }
     },
     "833e0036fd154bfe9d9d4c9ca17fc220": {
      "model_module": "@jupyter-widgets/base",
      "model_module_version": "1.2.0",
      "model_name": "LayoutModel",
      "state": {}
     },
     "835676f6dcd64207905c65d80933100d": {
      "model_module": "@jupyter-widgets/controls",
      "model_module_version": "1.5.0",
      "model_name": "DescriptionStyleModel",
      "state": {
       "description_width": ""
      }
     },
     "8358585b11c6416bbc270e75c5cbda37": {
      "model_module": "@jupyter-widgets/controls",
      "model_module_version": "1.5.0",
      "model_name": "DescriptionStyleModel",
      "state": {
       "description_width": ""
      }
     },
     "837068cf56a243f8b3add3928bec2d78": {
      "model_module": "@jupyter-widgets/controls",
      "model_module_version": "1.5.0",
      "model_name": "HTMLModel",
      "state": {
       "layout": "IPY_MODEL_687f75b5391d4382bf025a4873597fc6",
       "style": "IPY_MODEL_803663d1965e4efaa54c5abf5b482cdc",
       "value": " 16/16 [00:01&lt;00:00,  7.56it/s]"
      }
     },
     "83ad6b6650d14db2a03b7aa398be7a6d": {
      "model_module": "@jupyter-widgets/controls",
      "model_module_version": "1.5.0",
      "model_name": "HTMLModel",
      "state": {
       "layout": "IPY_MODEL_d52fdefe03ec4369878595c7d770e730",
       "style": "IPY_MODEL_b4c4c904da484f0aab04619cdeeadc02",
       "value": " 16/16 [00:01&lt;00:00,  7.85it/s]"
      }
     },
     "83d1fdfc74a24fa5bcca94c50e497218": {
      "model_module": "@jupyter-widgets/controls",
      "model_module_version": "1.5.0",
      "model_name": "HTMLModel",
      "state": {
       "layout": "IPY_MODEL_a05603f2ab344c59930d16558fb48c85",
       "style": "IPY_MODEL_03eb235dc39c49dda5b965e8f5eed380",
       "value": "Validation DataLoader 0: 100%"
      }
     },
     "83d7becec9f64a4a81b3c8008b68ce78": {
      "model_module": "@jupyter-widgets/base",
      "model_module_version": "1.2.0",
      "model_name": "LayoutModel",
      "state": {
       "display": "inline-flex",
       "flex_flow": "row wrap",
       "width": "100%"
      }
     },
     "83de8bc7f6214ad2a51f1e1275305035": {
      "model_module": "@jupyter-widgets/base",
      "model_module_version": "1.2.0",
      "model_name": "LayoutModel",
      "state": {}
     },
     "83fe239aab634594a018a86aa27f0e59": {
      "model_module": "@jupyter-widgets/controls",
      "model_module_version": "1.5.0",
      "model_name": "DescriptionStyleModel",
      "state": {
       "description_width": ""
      }
     },
     "840cb7406813471480c0fa2cca13000b": {
      "model_module": "@jupyter-widgets/controls",
      "model_module_version": "1.5.0",
      "model_name": "HTMLModel",
      "state": {
       "layout": "IPY_MODEL_9ded8506ca6c460dbb071b5bd0b01578",
       "style": "IPY_MODEL_dc4046b437a24cf5911a67427b9fef6a",
       "value": "Validation DataLoader 0: 100%"
      }
     },
     "84138f5adf9242e3994587a1d2c34e6a": {
      "model_module": "@jupyter-widgets/controls",
      "model_module_version": "1.5.0",
      "model_name": "HTMLModel",
      "state": {
       "layout": "IPY_MODEL_639a765baac84d409fa83df11da52906",
       "style": "IPY_MODEL_e4552ed5e7864ecbb171e95f4dd1b1ac",
       "value": " 16/16 [00:02&lt;00:00,  7.34it/s]"
      }
     },
     "8430399944c54b3b807acb7a4ef54636": {
      "model_module": "@jupyter-widgets/base",
      "model_module_version": "1.2.0",
      "model_name": "LayoutModel",
      "state": {
       "flex": "2"
      }
     },
     "84571d24797c4cabacc297827e22dacd": {
      "model_module": "@jupyter-widgets/base",
      "model_module_version": "1.2.0",
      "model_name": "LayoutModel",
      "state": {
       "display": "inline-flex",
       "flex_flow": "row wrap",
       "width": "100%"
      }
     },
     "84653fab93b548b3ac2c2cb9cf1be764": {
      "model_module": "@jupyter-widgets/base",
      "model_module_version": "1.2.0",
      "model_name": "LayoutModel",
      "state": {}
     },
     "8478f5d0709d44faa755e0b624ac75cd": {
      "model_module": "@jupyter-widgets/controls",
      "model_module_version": "1.5.0",
      "model_name": "HTMLModel",
      "state": {
       "layout": "IPY_MODEL_bf802ea2bfb74e6e8e1e77c68335ad38",
       "style": "IPY_MODEL_01ab1db51c72401e98a2cdf96c765bf9",
       "value": " 16/16 [00:04&lt;00:00,  3.45it/s]"
      }
     },
     "848d01513e904e929985d70896a7f8cc": {
      "model_module": "@jupyter-widgets/controls",
      "model_module_version": "1.5.0",
      "model_name": "HTMLModel",
      "state": {
       "layout": "IPY_MODEL_cc14a19b65b04a5cb3a15ba1c3b58fed",
       "style": "IPY_MODEL_6d6c13c7e99a41f7be4282a6351aac08",
       "value": "Validation DataLoader 0: 100%"
      }
     },
     "8490043f681f4fa78cebbe22ec959f11": {
      "model_module": "@jupyter-widgets/controls",
      "model_module_version": "1.5.0",
      "model_name": "DescriptionStyleModel",
      "state": {
       "description_width": ""
      }
     },
     "849990e72d6b47cda130b65b1ddf9d1c": {
      "model_module": "@jupyter-widgets/base",
      "model_module_version": "1.2.0",
      "model_name": "LayoutModel",
      "state": {
       "display": "inline-flex",
       "flex_flow": "row wrap",
       "width": "100%"
      }
     },
     "84b29d67d290495eaf6dfd10e7018543": {
      "model_module": "@jupyter-widgets/controls",
      "model_module_version": "1.5.0",
      "model_name": "HTMLModel",
      "state": {
       "layout": "IPY_MODEL_9f84ef443336497f8ce2d3a9449d3f76",
       "style": "IPY_MODEL_51cfb592b4cd474fb9943c0ab7933d24",
       "value": " 16/16 [00:00&lt;00:00, 15.40it/s]"
      }
     },
     "84b8827fac7147f2affbf86e2b54a0f8": {
      "model_module": "@jupyter-widgets/base",
      "model_module_version": "1.2.0",
      "model_name": "LayoutModel",
      "state": {
       "display": "inline-flex",
       "flex_flow": "row wrap",
       "width": "100%"
      }
     },
     "84d88362448443f0a5dbb0b1d2f53e25": {
      "model_module": "@jupyter-widgets/base",
      "model_module_version": "1.2.0",
      "model_name": "LayoutModel",
      "state": {}
     },
     "84e0bfa154c346b990227ecddfe65599": {
      "model_module": "@jupyter-widgets/controls",
      "model_module_version": "1.5.0",
      "model_name": "ProgressStyleModel",
      "state": {
       "description_width": ""
      }
     },
     "84e2dfdbe11c47778fcb919fb7128802": {
      "model_module": "@jupyter-widgets/base",
      "model_module_version": "1.2.0",
      "model_name": "LayoutModel",
      "state": {}
     },
     "850e677dd4484ff68110bf869761b818": {
      "model_module": "@jupyter-widgets/controls",
      "model_module_version": "1.5.0",
      "model_name": "DescriptionStyleModel",
      "state": {
       "description_width": ""
      }
     },
     "8514f96da4ab480ca7036ad73077dd99": {
      "model_module": "@jupyter-widgets/controls",
      "model_module_version": "1.5.0",
      "model_name": "HTMLModel",
      "state": {
       "layout": "IPY_MODEL_47d34b9118ab4038aa24bf075fb964aa",
       "style": "IPY_MODEL_b295630c6a124a40916511d25a8884e6",
       "value": " 16/16 [00:00&lt;00:00, 20.11it/s]"
      }
     },
     "851beddb6b3f42e08b354510578e882f": {
      "model_module": "@jupyter-widgets/controls",
      "model_module_version": "1.5.0",
      "model_name": "ProgressStyleModel",
      "state": {
       "description_width": ""
      }
     },
     "8546aa5c35e046fdb21194953b3326f8": {
      "model_module": "@jupyter-widgets/controls",
      "model_module_version": "1.5.0",
      "model_name": "HTMLModel",
      "state": {
       "layout": "IPY_MODEL_cb1a3374e5cc445c8995cc57a5d19aa7",
       "style": "IPY_MODEL_a3e28fb419674036b2a9c6745c411a63",
       "value": "Validation DataLoader 0: 100%"
      }
     },
     "854ef3c516a4497495a328c8c57731bd": {
      "model_module": "@jupyter-widgets/controls",
      "model_module_version": "1.5.0",
      "model_name": "DescriptionStyleModel",
      "state": {
       "description_width": ""
      }
     },
     "85aa579432d54a3f84a4a4d3165a4e61": {
      "model_module": "@jupyter-widgets/controls",
      "model_module_version": "1.5.0",
      "model_name": "DescriptionStyleModel",
      "state": {
       "description_width": ""
      }
     },
     "85b1a0201abc425486f8539bcc51f4bc": {
      "model_module": "@jupyter-widgets/controls",
      "model_module_version": "1.5.0",
      "model_name": "FloatProgressModel",
      "state": {
       "layout": "IPY_MODEL_6af64cb1a21d43969d7326e8da9b8f68",
       "max": 16,
       "style": "IPY_MODEL_7473a78affb94affb0ebe640c30cf3d4",
       "value": 16
      }
     },
     "85f94797e3a34cdeafc7f332a5f505a3": {
      "model_module": "@jupyter-widgets/controls",
      "model_module_version": "1.5.0",
      "model_name": "FloatProgressModel",
      "state": {
       "layout": "IPY_MODEL_00cbe3adfa774e3cb488d66f11880f50",
       "max": 16,
       "style": "IPY_MODEL_df36cb6dc95e42d98e94ddf33e485838",
       "value": 16
      }
     },
     "85f9d47868a640168862b9365cd75ab2": {
      "model_module": "@jupyter-widgets/base",
      "model_module_version": "1.2.0",
      "model_name": "LayoutModel",
      "state": {
       "display": "inline-flex",
       "flex_flow": "row wrap",
       "width": "100%"
      }
     },
     "85fd4e2efcfe4707942b82a1a4d39c2e": {
      "model_module": "@jupyter-widgets/controls",
      "model_module_version": "1.5.0",
      "model_name": "HTMLModel",
      "state": {
       "layout": "IPY_MODEL_1294b8b0fc684c9eb64eea1a824612b4",
       "style": "IPY_MODEL_93b4d44c772341239d0d49edd95c3c48",
       "value": " 16/16 [00:01&lt;00:00, 12.32it/s]"
      }
     },
     "862b12a7fdc044b6bb35ee9a3d23730c": {
      "model_module": "@jupyter-widgets/base",
      "model_module_version": "1.2.0",
      "model_name": "LayoutModel",
      "state": {
       "flex": "2"
      }
     },
     "863bc4303f9a4debb98534fe0aa25ec6": {
      "model_module": "@jupyter-widgets/controls",
      "model_module_version": "1.5.0",
      "model_name": "DescriptionStyleModel",
      "state": {
       "description_width": ""
      }
     },
     "863f2b7ccd1d40068ff228fc41a8f435": {
      "model_module": "@jupyter-widgets/base",
      "model_module_version": "1.2.0",
      "model_name": "LayoutModel",
      "state": {}
     },
     "8662c72201bd47cf8bf1850a855cd17b": {
      "model_module": "@jupyter-widgets/controls",
      "model_module_version": "1.5.0",
      "model_name": "HTMLModel",
      "state": {
       "layout": "IPY_MODEL_b09e604deae54968abb27dc1f884d845",
       "style": "IPY_MODEL_525fb9dc642043a7b9022b95920f287b",
       "value": "Validation DataLoader 0: 100%"
      }
     },
     "866da619cef64f91b603c2052d59ec64": {
      "model_module": "@jupyter-widgets/controls",
      "model_module_version": "1.5.0",
      "model_name": "DescriptionStyleModel",
      "state": {
       "description_width": ""
      }
     },
     "86735a03f4d7471d95d88d75fb00ab41": {
      "model_module": "@jupyter-widgets/controls",
      "model_module_version": "1.5.0",
      "model_name": "DescriptionStyleModel",
      "state": {
       "description_width": ""
      }
     },
     "868d257522884e0e92388fe960773f96": {
      "model_module": "@jupyter-widgets/controls",
      "model_module_version": "1.5.0",
      "model_name": "FloatProgressModel",
      "state": {
       "layout": "IPY_MODEL_a955c675a11d4befa56456069553076d",
       "max": 2,
       "style": "IPY_MODEL_715041661aae49a99b0782d7d8e9f39e",
       "value": 2
      }
     },
     "8695f7f127224362b3ba24a36d9c6e0d": {
      "model_module": "@jupyter-widgets/controls",
      "model_module_version": "1.5.0",
      "model_name": "ProgressStyleModel",
      "state": {
       "description_width": ""
      }
     },
     "869bad1daff94bed9ce951f53d29bf18": {
      "model_module": "@jupyter-widgets/base",
      "model_module_version": "1.2.0",
      "model_name": "LayoutModel",
      "state": {
       "flex": "2"
      }
     },
     "869fb755e79d49feb79447c8eae7e38c": {
      "model_module": "@jupyter-widgets/controls",
      "model_module_version": "1.5.0",
      "model_name": "DescriptionStyleModel",
      "state": {
       "description_width": ""
      }
     },
     "86a507ad5e634c1892c75719cc5bc11e": {
      "model_module": "@jupyter-widgets/base",
      "model_module_version": "1.2.0",
      "model_name": "LayoutModel",
      "state": {
       "flex": "2"
      }
     },
     "86b7a871350b48ba91c3c68265bfd4df": {
      "model_module": "@jupyter-widgets/controls",
      "model_module_version": "1.5.0",
      "model_name": "ProgressStyleModel",
      "state": {
       "description_width": ""
      }
     },
     "86bd7a75de844b37a0457471a116040a": {
      "model_module": "@jupyter-widgets/base",
      "model_module_version": "1.2.0",
      "model_name": "LayoutModel",
      "state": {
       "display": "inline-flex",
       "flex_flow": "row wrap",
       "width": "100%"
      }
     },
     "86e6479f788243478e23ce62d74803b6": {
      "model_module": "@jupyter-widgets/controls",
      "model_module_version": "1.5.0",
      "model_name": "HTMLModel",
      "state": {
       "layout": "IPY_MODEL_6c0caf6d0c2e4d23b7b1f34d7d5b48e5",
       "style": "IPY_MODEL_46cc667e60874227b0ae705ea4948cb0",
       "value": "Epoch 0:  55%"
      }
     },
     "86fd6ee4bd2b44aba1c9c1b142aa10d6": {
      "model_module": "@jupyter-widgets/controls",
      "model_module_version": "1.5.0",
      "model_name": "DescriptionStyleModel",
      "state": {
       "description_width": ""
      }
     },
     "86fdaa5fb8a641b48f009b195d2cdddb": {
      "model_module": "@jupyter-widgets/base",
      "model_module_version": "1.2.0",
      "model_name": "LayoutModel",
      "state": {
       "flex": "2"
      }
     },
     "870a325ff5bc4083892800a13f727bf4": {
      "model_module": "@jupyter-widgets/controls",
      "model_module_version": "1.5.0",
      "model_name": "DescriptionStyleModel",
      "state": {
       "description_width": ""
      }
     },
     "8729c6d80d224ee8b63658f468d17ca8": {
      "model_module": "@jupyter-widgets/base",
      "model_module_version": "1.2.0",
      "model_name": "LayoutModel",
      "state": {
       "flex": "2"
      }
     },
     "8762c2ca1b584c13bcee0d7afa6bb5ce": {
      "model_module": "@jupyter-widgets/base",
      "model_module_version": "1.2.0",
      "model_name": "LayoutModel",
      "state": {
       "display": "inline-flex",
       "flex_flow": "row wrap",
       "width": "100%"
      }
     },
     "8763bc4891954cc497b9b35d4eb28253": {
      "model_module": "@jupyter-widgets/base",
      "model_module_version": "1.2.0",
      "model_name": "LayoutModel",
      "state": {
       "flex": "2"
      }
     },
     "876a6a06a2c34471b1c1ffa562db2e2b": {
      "model_module": "@jupyter-widgets/controls",
      "model_module_version": "1.5.0",
      "model_name": "FloatProgressModel",
      "state": {
       "layout": "IPY_MODEL_2617ef3643d042b69e0cf5d701d8221d",
       "max": 16,
       "style": "IPY_MODEL_3eced595f6cf4350b82393952477fc1b",
       "value": 16
      }
     },
     "876e5ed1d8744d18b4da3769ec95ea9d": {
      "model_module": "@jupyter-widgets/base",
      "model_module_version": "1.2.0",
      "model_name": "LayoutModel",
      "state": {}
     },
     "876e72707c144ef8941d87e609f6d229": {
      "model_module": "@jupyter-widgets/controls",
      "model_module_version": "1.5.0",
      "model_name": "HTMLModel",
      "state": {
       "layout": "IPY_MODEL_5669448cc5e0446ea623f911ca50fd47",
       "style": "IPY_MODEL_a6f11226ace94a4b9ba877b75a9fb16e",
       "value": " 16/16 [00:00&lt;00:00, 19.22it/s]"
      }
     },
     "8786e258ea574af281b48b9f2c46c162": {
      "model_module": "@jupyter-widgets/base",
      "model_module_version": "1.2.0",
      "model_name": "LayoutModel",
      "state": {}
     },
     "87a9e373fe444b3b8fe310c41343a20d": {
      "model_module": "@jupyter-widgets/base",
      "model_module_version": "1.2.0",
      "model_name": "LayoutModel",
      "state": {}
     },
     "87c0e653811a47ceafde5381f2f0b857": {
      "model_module": "@jupyter-widgets/controls",
      "model_module_version": "1.5.0",
      "model_name": "FloatProgressModel",
      "state": {
       "layout": "IPY_MODEL_c40f54c0a8ce42caa78023d21503faa7",
       "max": 16,
       "style": "IPY_MODEL_77793a6722ae4f28ac70647eb27c5f18",
       "value": 16
      }
     },
     "87debd2bfeba41cc89c4bee50aae83d3": {
      "model_module": "@jupyter-widgets/base",
      "model_module_version": "1.2.0",
      "model_name": "LayoutModel",
      "state": {
       "display": "inline-flex",
       "flex_flow": "row wrap",
       "width": "100%"
      }
     },
     "87e67cdd77ef43c6aa44182035a16f2a": {
      "model_module": "@jupyter-widgets/base",
      "model_module_version": "1.2.0",
      "model_name": "LayoutModel",
      "state": {}
     },
     "87ef3c83a98d404bb554f2bbe9ca4fb9": {
      "model_module": "@jupyter-widgets/controls",
      "model_module_version": "1.5.0",
      "model_name": "FloatProgressModel",
      "state": {
       "layout": "IPY_MODEL_8069dbefda8e40a9a2451da1c4c80303",
       "max": 16,
       "style": "IPY_MODEL_e66d7cc1e1634122bc7041b7a65a5f3a",
       "value": 16
      }
     },
     "8810e73f1d744a0ebd4ce9277033c8cb": {
      "model_module": "@jupyter-widgets/controls",
      "model_module_version": "1.5.0",
      "model_name": "DescriptionStyleModel",
      "state": {
       "description_width": ""
      }
     },
     "889186e9880f4d7490b0594e49cd9fc5": {
      "model_module": "@jupyter-widgets/base",
      "model_module_version": "1.2.0",
      "model_name": "LayoutModel",
      "state": {}
     },
     "88ac2cd791ca4774a73ae776622d8647": {
      "model_module": "@jupyter-widgets/controls",
      "model_module_version": "1.5.0",
      "model_name": "ProgressStyleModel",
      "state": {
       "description_width": ""
      }
     },
     "88b48f85177143ee85a090d52c50f242": {
      "model_module": "@jupyter-widgets/controls",
      "model_module_version": "1.5.0",
      "model_name": "HTMLModel",
      "state": {
       "layout": "IPY_MODEL_4027c83440af429293709eecddbe8fe2",
       "style": "IPY_MODEL_da81310f4ed84fd78e3625ea1057a046",
       "value": " 16/16 [00:04&lt;00:00,  3.74it/s]"
      }
     },
     "88d920863a40475386a1f57a11bec8d4": {
      "model_module": "@jupyter-widgets/controls",
      "model_module_version": "1.5.0",
      "model_name": "HTMLModel",
      "state": {
       "layout": "IPY_MODEL_008deaa734cc457fa8a4e14f32475220",
       "style": "IPY_MODEL_d5aaddabc25544659522145a09679058",
       "value": "Validation DataLoader 0: 100%"
      }
     },
     "88d92755188143dbbe3a6e47e3b6428c": {
      "model_module": "@jupyter-widgets/controls",
      "model_module_version": "1.5.0",
      "model_name": "DescriptionStyleModel",
      "state": {
       "description_width": ""
      }
     },
     "88d985fb50fa491aaa85ccd150028ad8": {
      "model_module": "@jupyter-widgets/controls",
      "model_module_version": "1.5.0",
      "model_name": "HTMLModel",
      "state": {
       "layout": "IPY_MODEL_b8d885edaf3848bbb4b32c16e987c38d",
       "style": "IPY_MODEL_554a1ada404f46169cb0612b858b94f3",
       "value": "Validation DataLoader 0: 100%"
      }
     },
     "8913c94df13d4196973b105fcdba59a6": {
      "model_module": "@jupyter-widgets/base",
      "model_module_version": "1.2.0",
      "model_name": "LayoutModel",
      "state": {
       "flex": "2"
      }
     },
     "892c5b0dcd474bef8dd9eacc1fc33273": {
      "model_module": "@jupyter-widgets/controls",
      "model_module_version": "1.5.0",
      "model_name": "ProgressStyleModel",
      "state": {
       "description_width": ""
      }
     },
     "893384adc9bd410bb64c20a2fb30edc8": {
      "model_module": "@jupyter-widgets/base",
      "model_module_version": "1.2.0",
      "model_name": "LayoutModel",
      "state": {
       "display": "inline-flex",
       "flex_flow": "row wrap",
       "width": "100%"
      }
     },
     "8945c2be3f3641dd838c1eb5bea4a481": {
      "model_module": "@jupyter-widgets/base",
      "model_module_version": "1.2.0",
      "model_name": "LayoutModel",
      "state": {}
     },
     "8969bd2f8dfc4d4bb83e537babf0ddf4": {
      "model_module": "@jupyter-widgets/controls",
      "model_module_version": "1.5.0",
      "model_name": "FloatProgressModel",
      "state": {
       "layout": "IPY_MODEL_86fdaa5fb8a641b48f009b195d2cdddb",
       "max": 16,
       "style": "IPY_MODEL_4237345b66dc45299482ae737475bb7a",
       "value": 16
      }
     },
     "896a6a3ee6a84c25850bbc5537b62a61": {
      "model_module": "@jupyter-widgets/controls",
      "model_module_version": "1.5.0",
      "model_name": "DescriptionStyleModel",
      "state": {
       "description_width": ""
      }
     },
     "8975440f953b4f66b7d2d91184b53fba": {
      "model_module": "@jupyter-widgets/controls",
      "model_module_version": "1.5.0",
      "model_name": "HTMLModel",
      "state": {
       "layout": "IPY_MODEL_1a8171e6716b40ddb8ddb395a45c8a76",
       "style": "IPY_MODEL_ea267325921c4531845d743fae79e1c3",
       "value": "Sanity Checking DataLoader 0: 100%"
      }
     },
     "897e1923078346679c85724cd445f6e2": {
      "model_module": "@jupyter-widgets/controls",
      "model_module_version": "1.5.0",
      "model_name": "HTMLModel",
      "state": {
       "layout": "IPY_MODEL_4f1600c34ad1465fa9ed368cf0471efc",
       "style": "IPY_MODEL_dbf47b68f1f0402aab49d936ef754704",
       "value": "Validation DataLoader 0: 100%"
      }
     },
     "898de00d4e064fadaf9a11061c642a34": {
      "model_module": "@jupyter-widgets/controls",
      "model_module_version": "1.5.0",
      "model_name": "HTMLModel",
      "state": {
       "layout": "IPY_MODEL_45d52dfd43314cb8a37ccbcbc05bea47",
       "style": "IPY_MODEL_6c07eff03e9f46a2b0f2e85889549f73",
       "value": " 16/16 [00:00&lt;00:00, 21.04it/s]"
      }
     },
     "89b0994ae6e54ff7b1443267d53db17b": {
      "model_module": "@jupyter-widgets/base",
      "model_module_version": "1.2.0",
      "model_name": "LayoutModel",
      "state": {}
     },
     "89be80f1dfee44c2983068c23978fefd": {
      "model_module": "@jupyter-widgets/base",
      "model_module_version": "1.2.0",
      "model_name": "LayoutModel",
      "state": {}
     },
     "89c6bac1200248c798a49962e305f457": {
      "model_module": "@jupyter-widgets/controls",
      "model_module_version": "1.5.0",
      "model_name": "ProgressStyleModel",
      "state": {
       "description_width": ""
      }
     },
     "89cad092de2b4bd98b87d86142de9049": {
      "model_module": "@jupyter-widgets/controls",
      "model_module_version": "1.5.0",
      "model_name": "ProgressStyleModel",
      "state": {
       "description_width": ""
      }
     },
     "89d0d3e6990447f885ac695b1ec4bf04": {
      "model_module": "@jupyter-widgets/base",
      "model_module_version": "1.2.0",
      "model_name": "LayoutModel",
      "state": {
       "display": "inline-flex",
       "flex_flow": "row wrap",
       "width": "100%"
      }
     },
     "89d6219e61c948ca8ab5282f5cf9c8fc": {
      "model_module": "@jupyter-widgets/base",
      "model_module_version": "1.2.0",
      "model_name": "LayoutModel",
      "state": {}
     },
     "89fd1c0c079c4d968f86c7dc8283711e": {
      "model_module": "@jupyter-widgets/base",
      "model_module_version": "1.2.0",
      "model_name": "LayoutModel",
      "state": {}
     },
     "8a0288a06f6c4b41bd23eb0748e988fc": {
      "model_module": "@jupyter-widgets/controls",
      "model_module_version": "1.5.0",
      "model_name": "FloatProgressModel",
      "state": {
       "layout": "IPY_MODEL_652d69d312f6423bbc91a17e5246a121",
       "max": 16,
       "style": "IPY_MODEL_6f6850a3f98e412c9bbd5a8c49b03f02",
       "value": 16
      }
     },
     "8a0ce2ee1d384af3acea664760504fef": {
      "model_module": "@jupyter-widgets/controls",
      "model_module_version": "1.5.0",
      "model_name": "DescriptionStyleModel",
      "state": {
       "description_width": ""
      }
     },
     "8a1c0c73e9874269b8190172c3941f0a": {
      "model_module": "@jupyter-widgets/controls",
      "model_module_version": "1.5.0",
      "model_name": "ProgressStyleModel",
      "state": {
       "description_width": ""
      }
     },
     "8a5110f196bd4dff8b5cb65c604bc1b5": {
      "model_module": "@jupyter-widgets/controls",
      "model_module_version": "1.5.0",
      "model_name": "FloatProgressModel",
      "state": {
       "layout": "IPY_MODEL_6e70f961e34249a7acb1b8d3dd63cfeb",
       "max": 16,
       "style": "IPY_MODEL_632426935ac54347b4b2728e5af80f40",
       "value": 16
      }
     },
     "8a5a522d4b99423ea33190ac96d51748": {
      "model_module": "@jupyter-widgets/base",
      "model_module_version": "1.2.0",
      "model_name": "LayoutModel",
      "state": {}
     },
     "8a680423f13543878a16b2670922bfb1": {
      "model_module": "@jupyter-widgets/controls",
      "model_module_version": "1.5.0",
      "model_name": "FloatProgressModel",
      "state": {
       "layout": "IPY_MODEL_a14570e043ce4c3f80b0cb8e4dd6bb02",
       "max": 16,
       "style": "IPY_MODEL_ba42b3ec150d4c869bc382cfe6d8f97f",
       "value": 16
      }
     },
     "8a7e018ef24a489c8d3abcd74d243de7": {
      "model_module": "@jupyter-widgets/controls",
      "model_module_version": "1.5.0",
      "model_name": "DescriptionStyleModel",
      "state": {
       "description_width": ""
      }
     },
     "8a87756134754ffe9bcca528dacb61d2": {
      "model_module": "@jupyter-widgets/controls",
      "model_module_version": "1.5.0",
      "model_name": "DescriptionStyleModel",
      "state": {
       "description_width": ""
      }
     },
     "8ac6f06ce33944bbbb920a6fd4204304": {
      "model_module": "@jupyter-widgets/base",
      "model_module_version": "1.2.0",
      "model_name": "LayoutModel",
      "state": {
       "display": "inline-flex",
       "flex_flow": "row wrap",
       "width": "100%"
      }
     },
     "8ad554fd22f443a0806ccc0c9fc2af68": {
      "model_module": "@jupyter-widgets/controls",
      "model_module_version": "1.5.0",
      "model_name": "DescriptionStyleModel",
      "state": {
       "description_width": ""
      }
     },
     "8ae99cb84d494dd7b91f13181e786012": {
      "model_module": "@jupyter-widgets/base",
      "model_module_version": "1.2.0",
      "model_name": "LayoutModel",
      "state": {
       "flex": "2"
      }
     },
     "8aeb49cc9b5e4c989c084dee78661612": {
      "model_module": "@jupyter-widgets/controls",
      "model_module_version": "1.5.0",
      "model_name": "FloatProgressModel",
      "state": {
       "layout": "IPY_MODEL_aac36958df5447f788bf14bc5632f01f",
       "max": 16,
       "style": "IPY_MODEL_6288bd8363954e1488aaaeaa10c5f16f",
       "value": 16
      }
     },
     "8afc6a1b0ef04a4e9ce91521dc9365a9": {
      "model_module": "@jupyter-widgets/controls",
      "model_module_version": "1.5.0",
      "model_name": "DescriptionStyleModel",
      "state": {
       "description_width": ""
      }
     },
     "8b1b2d7965794758bff6c70dc192874f": {
      "model_module": "@jupyter-widgets/controls",
      "model_module_version": "1.5.0",
      "model_name": "ProgressStyleModel",
      "state": {
       "description_width": ""
      }
     },
     "8b1ff454973f464b886366b8b8ff7342": {
      "model_module": "@jupyter-widgets/base",
      "model_module_version": "1.2.0",
      "model_name": "LayoutModel",
      "state": {}
     },
     "8b24f15b0a9d4ca2b5cecdc4e5dbb68a": {
      "model_module": "@jupyter-widgets/controls",
      "model_module_version": "1.5.0",
      "model_name": "ProgressStyleModel",
      "state": {
       "description_width": ""
      }
     },
     "8b28fc6f4bba4b8090551b4b8cd2eb77": {
      "model_module": "@jupyter-widgets/controls",
      "model_module_version": "1.5.0",
      "model_name": "HTMLModel",
      "state": {
       "layout": "IPY_MODEL_db765fbc86444cca9628b6aef45b4ffe",
       "style": "IPY_MODEL_9a28cfc2ae684d239d1559e52e6e272c",
       "value": "Validation DataLoader 0: 100%"
      }
     },
     "8b3de8bc5bed4b759c55558ab507ee86": {
      "model_module": "@jupyter-widgets/controls",
      "model_module_version": "1.5.0",
      "model_name": "HTMLModel",
      "state": {
       "layout": "IPY_MODEL_2923a397c51b450cbcb2a08de07b7703",
       "style": "IPY_MODEL_ba518eb81c824956b36ea21f8c016ffd",
       "value": " 16/16 [00:00&lt;00:00, 17.05it/s]"
      }
     },
     "8b8be29099334a6080cca5039c629a3a": {
      "model_module": "@jupyter-widgets/controls",
      "model_module_version": "1.5.0",
      "model_name": "FloatProgressModel",
      "state": {
       "layout": "IPY_MODEL_62e437e7fac749748362a52ab9fa50cf",
       "max": 16,
       "style": "IPY_MODEL_82bd4bee18014476a956e5b556fab2fb",
       "value": 16
      }
     },
     "8b8eea7f7b7e4bbb917c0c943029be3e": {
      "model_module": "@jupyter-widgets/base",
      "model_module_version": "1.2.0",
      "model_name": "LayoutModel",
      "state": {}
     },
     "8b90f9e55d77427d9671222bb504f4a6": {
      "model_module": "@jupyter-widgets/controls",
      "model_module_version": "1.5.0",
      "model_name": "HTMLModel",
      "state": {
       "layout": "IPY_MODEL_485c5ebdadf24431bb9676985952cbbc",
       "style": "IPY_MODEL_305d77a00c16454e90c64eadef94cba5",
       "value": "Validation DataLoader 0: 100%"
      }
     },
     "8b9690c25eaa420b83a945b2ebb1ea10": {
      "model_module": "@jupyter-widgets/controls",
      "model_module_version": "1.5.0",
      "model_name": "FloatProgressModel",
      "state": {
       "layout": "IPY_MODEL_04990e6211ac412daa429159e9b11c6c",
       "max": 16,
       "style": "IPY_MODEL_3dc7de56f09a4b728b6490d424516721",
       "value": 16
      }
     },
     "8b9fcfe7e9604b83be5688affb16ac46": {
      "model_module": "@jupyter-widgets/base",
      "model_module_version": "1.2.0",
      "model_name": "LayoutModel",
      "state": {}
     },
     "8ba2c5622f884193b8046d2df8475e19": {
      "model_module": "@jupyter-widgets/controls",
      "model_module_version": "1.5.0",
      "model_name": "HTMLModel",
      "state": {
       "layout": "IPY_MODEL_dc6cac34e3cd407597bb609ec2d7a1bb",
       "style": "IPY_MODEL_cc2f5cc89fa24c8e992383d6d8ed1820",
       "value": " 16/16 [00:00&lt;00:00, 16.40it/s]"
      }
     },
     "8bbc426927b74555a11ca76b06cfec5f": {
      "model_module": "@jupyter-widgets/controls",
      "model_module_version": "1.5.0",
      "model_name": "DescriptionStyleModel",
      "state": {
       "description_width": ""
      }
     },
     "8c121371bf5645b09b4938ac2c7833c8": {
      "model_module": "@jupyter-widgets/base",
      "model_module_version": "1.2.0",
      "model_name": "LayoutModel",
      "state": {}
     },
     "8c14875a4cd5457c9738fb023d9144f8": {
      "model_module": "@jupyter-widgets/controls",
      "model_module_version": "1.5.0",
      "model_name": "HTMLModel",
      "state": {
       "layout": "IPY_MODEL_bf46580368c341d69f7faa8a93a5d6c1",
       "style": "IPY_MODEL_2565eced41cf4b098c33072e23f1f202",
       "value": "Epoch 5:  68%"
      }
     },
     "8c3607a6d984481f9f8bcaf6b3e86a98": {
      "model_module": "@jupyter-widgets/controls",
      "model_module_version": "1.5.0",
      "model_name": "DescriptionStyleModel",
      "state": {
       "description_width": ""
      }
     },
     "8c483d0b159045b8b39559cf32dd048b": {
      "model_module": "@jupyter-widgets/controls",
      "model_module_version": "1.5.0",
      "model_name": "DescriptionStyleModel",
      "state": {
       "description_width": ""
      }
     },
     "8c4c463a6648430fa82a9295436b983c": {
      "model_module": "@jupyter-widgets/controls",
      "model_module_version": "1.5.0",
      "model_name": "HTMLModel",
      "state": {
       "layout": "IPY_MODEL_89fd1c0c079c4d968f86c7dc8283711e",
       "style": "IPY_MODEL_677d33eabd1741e19127771553999090",
       "value": "Sanity Checking DataLoader 0: 100%"
      }
     },
     "8c547bfc1eae43968b668ab33271d4c2": {
      "model_module": "@jupyter-widgets/controls",
      "model_module_version": "1.5.0",
      "model_name": "DescriptionStyleModel",
      "state": {
       "description_width": ""
      }
     },
     "8c6f4669351e407ab3b208ef6dbf7f1a": {
      "model_module": "@jupyter-widgets/base",
      "model_module_version": "1.2.0",
      "model_name": "LayoutModel",
      "state": {
       "flex": "2"
      }
     },
     "8cb65472ca41481c9dbfe6329daac92f": {
      "model_module": "@jupyter-widgets/controls",
      "model_module_version": "1.5.0",
      "model_name": "HTMLModel",
      "state": {
       "layout": "IPY_MODEL_dcd2975d45b74a87b93d9af0683de9cb",
       "style": "IPY_MODEL_ca06636e66bf4be1bf3265cb1e7d40ac",
       "value": "Validation DataLoader 0: 100%"
      }
     },
     "8cb8e9650f7a4cdfa4664ce9fc18425d": {
      "model_module": "@jupyter-widgets/base",
      "model_module_version": "1.2.0",
      "model_name": "LayoutModel",
      "state": {}
     },
     "8ce99e0c16c64e389dc28eaae3a0678f": {
      "model_module": "@jupyter-widgets/controls",
      "model_module_version": "1.5.0",
      "model_name": "ProgressStyleModel",
      "state": {
       "description_width": ""
      }
     },
     "8d0ae175f28348feb13ec073650e29d2": {
      "model_module": "@jupyter-widgets/base",
      "model_module_version": "1.2.0",
      "model_name": "LayoutModel",
      "state": {
       "flex": "2"
      }
     },
     "8d1c58695a1743c599076171754eb0fc": {
      "model_module": "@jupyter-widgets/base",
      "model_module_version": "1.2.0",
      "model_name": "LayoutModel",
      "state": {}
     },
     "8d2786c8881841579c5dfad7a5d81f01": {
      "model_module": "@jupyter-widgets/base",
      "model_module_version": "1.2.0",
      "model_name": "LayoutModel",
      "state": {
       "display": "inline-flex",
       "flex_flow": "row wrap",
       "width": "100%"
      }
     },
     "8d3bf857756c4b75af6160942ec1364c": {
      "model_module": "@jupyter-widgets/base",
      "model_module_version": "1.2.0",
      "model_name": "LayoutModel",
      "state": {
       "flex": "2"
      }
     },
     "8d6cf23ca1f244e38ba978985077405b": {
      "model_module": "@jupyter-widgets/base",
      "model_module_version": "1.2.0",
      "model_name": "LayoutModel",
      "state": {}
     },
     "8d72a965cf7d474f87394e09bcb03d5c": {
      "model_module": "@jupyter-widgets/controls",
      "model_module_version": "1.5.0",
      "model_name": "DescriptionStyleModel",
      "state": {
       "description_width": ""
      }
     },
     "8d9176a3b5734eaa84ff06d54e89bc49": {
      "model_module": "@jupyter-widgets/controls",
      "model_module_version": "1.5.0",
      "model_name": "HTMLModel",
      "state": {
       "layout": "IPY_MODEL_f5967d62583f46629b259bf5dd867689",
       "style": "IPY_MODEL_f422ba6be9794414af539c1935f76050",
       "value": " 2/2 [00:00&lt;00:00,  6.40it/s]"
      }
     },
     "8d93cb601e3842a499e7066cd9b82e41": {
      "model_module": "@jupyter-widgets/controls",
      "model_module_version": "1.5.0",
      "model_name": "HTMLModel",
      "state": {
       "layout": "IPY_MODEL_1948e0d70d8d45d5bfc1004116af3b6b",
       "style": "IPY_MODEL_1e226f7955c34c18ae098a21d8298c75",
       "value": " 16/16 [00:00&lt;00:00, 16.38it/s]"
      }
     },
     "8db1ed642a2b487a8b4227b55216533b": {
      "model_module": "@jupyter-widgets/controls",
      "model_module_version": "1.5.0",
      "model_name": "DescriptionStyleModel",
      "state": {
       "description_width": ""
      }
     },
     "8db37d72a6634b4dbdca5912326228c8": {
      "model_module": "@jupyter-widgets/base",
      "model_module_version": "1.2.0",
      "model_name": "LayoutModel",
      "state": {
       "display": "inline-flex",
       "flex_flow": "row wrap",
       "width": "100%"
      }
     },
     "8dcda201c1794f098940ff1de8a317ef": {
      "model_module": "@jupyter-widgets/controls",
      "model_module_version": "1.5.0",
      "model_name": "HTMLModel",
      "state": {
       "layout": "IPY_MODEL_31335aa7b7d540fd8b0677e9f75b2514",
       "style": "IPY_MODEL_01e69d3c918b4bb5904072f18f537534",
       "value": " 16/16 [00:00&lt;00:00, 18.78it/s]"
      }
     },
     "8de403b988f240589f73541762cfda1a": {
      "model_module": "@jupyter-widgets/base",
      "model_module_version": "1.2.0",
      "model_name": "LayoutModel",
      "state": {}
     },
     "8deb6589ea6e41b5bd06e1c6e5d3d585": {
      "model_module": "@jupyter-widgets/controls",
      "model_module_version": "1.5.0",
      "model_name": "HTMLModel",
      "state": {
       "layout": "IPY_MODEL_712ad12b5acd43e8a1d6615cb006ccbc",
       "style": "IPY_MODEL_12cd38a6e45e411991215eb8cdd4dc8f",
       "value": "Validation DataLoader 0: 100%"
      }
     },
     "8e2970baa8a04f889b09eb6472163b16": {
      "model_module": "@jupyter-widgets/controls",
      "model_module_version": "1.5.0",
      "model_name": "ProgressStyleModel",
      "state": {
       "description_width": ""
      }
     },
     "8e3c580c59ce4aa68b37d9284714dc2e": {
      "model_module": "@jupyter-widgets/controls",
      "model_module_version": "1.5.0",
      "model_name": "HTMLModel",
      "state": {
       "layout": "IPY_MODEL_fc4f417076a442c6b8c9aee9a039c748",
       "style": "IPY_MODEL_ed824db2668740729d6dbd653d21c636",
       "value": "Validation DataLoader 0: 100%"
      }
     },
     "8e3fec9f53784debbc94ece22af7328f": {
      "model_module": "@jupyter-widgets/base",
      "model_module_version": "1.2.0",
      "model_name": "LayoutModel",
      "state": {}
     },
     "8e45113eeb184d61a3e8548243448ab4": {
      "model_module": "@jupyter-widgets/controls",
      "model_module_version": "1.5.0",
      "model_name": "ProgressStyleModel",
      "state": {
       "description_width": ""
      }
     },
     "8e4f1d0e0e7f4039a1006416d032c2cb": {
      "model_module": "@jupyter-widgets/base",
      "model_module_version": "1.2.0",
      "model_name": "LayoutModel",
      "state": {}
     },
     "8e623cf7a98240bda7a11c02a5eecd55": {
      "model_module": "@jupyter-widgets/base",
      "model_module_version": "1.2.0",
      "model_name": "LayoutModel",
      "state": {}
     },
     "8e7109b94980468794dd3e7a9915da04": {
      "model_module": "@jupyter-widgets/controls",
      "model_module_version": "1.5.0",
      "model_name": "ProgressStyleModel",
      "state": {
       "description_width": ""
      }
     },
     "8e85766e67874a85b479058a3a4093bb": {
      "model_module": "@jupyter-widgets/base",
      "model_module_version": "1.2.0",
      "model_name": "LayoutModel",
      "state": {}
     },
     "8e980666fd844fd2be351c5dd0e236b4": {
      "model_module": "@jupyter-widgets/controls",
      "model_module_version": "1.5.0",
      "model_name": "HTMLModel",
      "state": {
       "layout": "IPY_MODEL_7c5cfa42cfe746f1b377414c43752d31",
       "style": "IPY_MODEL_a65a35806bcd4a068aa05d429fcec70d",
       "value": " 16/16 [00:00&lt;00:00, 17.18it/s]"
      }
     },
     "8ea5e1c7f6f54663bb8edb8045b5903e": {
      "model_module": "@jupyter-widgets/base",
      "model_module_version": "1.2.0",
      "model_name": "LayoutModel",
      "state": {}
     },
     "8ebe8f6f344d4a85bf87bfe0bb03911b": {
      "model_module": "@jupyter-widgets/base",
      "model_module_version": "1.2.0",
      "model_name": "LayoutModel",
      "state": {
       "flex": "2"
      }
     },
     "8ec756ad6e2148a6941ef5f79ab1a476": {
      "model_module": "@jupyter-widgets/base",
      "model_module_version": "1.2.0",
      "model_name": "LayoutModel",
      "state": {
       "display": "inline-flex",
       "flex_flow": "row wrap",
       "width": "100%"
      }
     },
     "8ecdb70889404513965bcbaac36b151b": {
      "model_module": "@jupyter-widgets/base",
      "model_module_version": "1.2.0",
      "model_name": "LayoutModel",
      "state": {
       "display": "inline-flex",
       "flex_flow": "row wrap",
       "width": "100%"
      }
     },
     "8ed33fddc80243678de934b18e28188d": {
      "model_module": "@jupyter-widgets/base",
      "model_module_version": "1.2.0",
      "model_name": "LayoutModel",
      "state": {}
     },
     "8ee0ebf99aab4ed4a3c1e671f12b3c2e": {
      "model_module": "@jupyter-widgets/controls",
      "model_module_version": "1.5.0",
      "model_name": "ProgressStyleModel",
      "state": {
       "description_width": ""
      }
     },
     "8eeafab9cfb640c68e72bbfae7e53f92": {
      "model_module": "@jupyter-widgets/base",
      "model_module_version": "1.2.0",
      "model_name": "LayoutModel",
      "state": {
       "flex": "2"
      }
     },
     "8ef029b1e7564c0d810edd107b43db0f": {
      "model_module": "@jupyter-widgets/controls",
      "model_module_version": "1.5.0",
      "model_name": "DescriptionStyleModel",
      "state": {
       "description_width": ""
      }
     },
     "8f18804af41a40a987357cf60a70e1a1": {
      "model_module": "@jupyter-widgets/controls",
      "model_module_version": "1.5.0",
      "model_name": "FloatProgressModel",
      "state": {
       "layout": "IPY_MODEL_a0ed69d05df94f6db0be963bb9d83e20",
       "max": 16,
       "style": "IPY_MODEL_a0bb33732ea24f4db13957745c2e17f9",
       "value": 16
      }
     },
     "8f1ced42e0a34cb796e5a0096259ea95": {
      "model_module": "@jupyter-widgets/base",
      "model_module_version": "1.2.0",
      "model_name": "LayoutModel",
      "state": {}
     },
     "8f45731e5aab4a18a014d6c21681f537": {
      "model_module": "@jupyter-widgets/controls",
      "model_module_version": "1.5.0",
      "model_name": "HTMLModel",
      "state": {
       "layout": "IPY_MODEL_aede535c0bc043579534e0833cc9223e",
       "style": "IPY_MODEL_adae078f55e1430e86955ea9169d8b8a",
       "value": " 16/16 [00:01&lt;00:00, 14.54it/s]"
      }
     },
     "8f54f53af4014947939afb48d7847491": {
      "model_module": "@jupyter-widgets/controls",
      "model_module_version": "1.5.0",
      "model_name": "FloatProgressModel",
      "state": {
       "layout": "IPY_MODEL_9cf4453677614897aa0af25c11480f15",
       "max": 2,
       "style": "IPY_MODEL_dba8eea182084f92a1116b18ab16a98b",
       "value": 2
      }
     },
     "8f62b71861d9476b90fa751841e1e931": {
      "model_module": "@jupyter-widgets/controls",
      "model_module_version": "1.5.0",
      "model_name": "DescriptionStyleModel",
      "state": {
       "description_width": ""
      }
     },
     "8f6620f90b7846279f1ccbdda4e18b4f": {
      "model_module": "@jupyter-widgets/base",
      "model_module_version": "1.2.0",
      "model_name": "LayoutModel",
      "state": {
       "flex": "2"
      }
     },
     "8f70c51f877e4ba0860269fa9c1982bd": {
      "model_module": "@jupyter-widgets/controls",
      "model_module_version": "1.5.0",
      "model_name": "DescriptionStyleModel",
      "state": {
       "description_width": ""
      }
     },
     "8f8c3d616c6446b3a7a1021d9f0728ad": {
      "model_module": "@jupyter-widgets/base",
      "model_module_version": "1.2.0",
      "model_name": "LayoutModel",
      "state": {}
     },
     "8f9aa307f58043eca120f0d2714c3037": {
      "model_module": "@jupyter-widgets/controls",
      "model_module_version": "1.5.0",
      "model_name": "ProgressStyleModel",
      "state": {
       "description_width": ""
      }
     },
     "8f9eb2e46a8e46ef834e799e302861c9": {
      "model_module": "@jupyter-widgets/controls",
      "model_module_version": "1.5.0",
      "model_name": "FloatProgressModel",
      "state": {
       "layout": "IPY_MODEL_f41b843ce7f24ca792611b422207a551",
       "max": 16,
       "style": "IPY_MODEL_9da1d031e0ca41a39c5ce3bc7a708cc4",
       "value": 16
      }
     },
     "8fa25154c6a9461c971c8c351511a959": {
      "model_module": "@jupyter-widgets/controls",
      "model_module_version": "1.5.0",
      "model_name": "HTMLModel",
      "state": {
       "layout": "IPY_MODEL_8f8c3d616c6446b3a7a1021d9f0728ad",
       "style": "IPY_MODEL_eb251bbdde964d46a486d1925197825b",
       "value": "Validation DataLoader 0: 100%"
      }
     },
     "8fc8358b92ad41bba0a9ecb9d19432cd": {
      "model_module": "@jupyter-widgets/base",
      "model_module_version": "1.2.0",
      "model_name": "LayoutModel",
      "state": {}
     },
     "8fd7cd5ac4fa4498b787d7b220fea09d": {
      "model_module": "@jupyter-widgets/base",
      "model_module_version": "1.2.0",
      "model_name": "LayoutModel",
      "state": {
       "flex": "2"
      }
     },
     "8fd97829ccef40b496d17cf255b03bb1": {
      "model_module": "@jupyter-widgets/controls",
      "model_module_version": "1.5.0",
      "model_name": "ProgressStyleModel",
      "state": {
       "description_width": ""
      }
     },
     "8fe1e24e0a2c495b986444a48a90e369": {
      "model_module": "@jupyter-widgets/controls",
      "model_module_version": "1.5.0",
      "model_name": "HTMLModel",
      "state": {
       "layout": "IPY_MODEL_4192895fd5094883b6740c66121b647e",
       "style": "IPY_MODEL_157c8954d2b34162bbe8b5af752895f3",
       "value": " 16/16 [00:00&lt;00:00, 20.43it/s]"
      }
     },
     "9014faef001d45ac963c3f7566a55223": {
      "model_module": "@jupyter-widgets/controls",
      "model_module_version": "1.5.0",
      "model_name": "FloatProgressModel",
      "state": {
       "layout": "IPY_MODEL_36f65fbfcb83418ea5ce0440a928cbab",
       "max": 16,
       "style": "IPY_MODEL_9ce723bc692e4842b5b436fd0b592a8e",
       "value": 16
      }
     },
     "9023f11776db4717b5e365d5f682c726": {
      "model_module": "@jupyter-widgets/controls",
      "model_module_version": "1.5.0",
      "model_name": "FloatProgressModel",
      "state": {
       "layout": "IPY_MODEL_f3fe4c0a22304a8389bc48a1387cd4dc",
       "max": 16,
       "style": "IPY_MODEL_86b7a871350b48ba91c3c68265bfd4df",
       "value": 16
      }
     },
     "908337b997be436ebcf89e42eb462197": {
      "model_module": "@jupyter-widgets/base",
      "model_module_version": "1.2.0",
      "model_name": "LayoutModel",
      "state": {
       "flex": "2"
      }
     },
     "909a3429e7d843e7951c8e15349732c4": {
      "model_module": "@jupyter-widgets/base",
      "model_module_version": "1.2.0",
      "model_name": "LayoutModel",
      "state": {}
     },
     "90ae32e2dd434f33adc6e7512c7eaddb": {
      "model_module": "@jupyter-widgets/controls",
      "model_module_version": "1.5.0",
      "model_name": "ProgressStyleModel",
      "state": {
       "description_width": ""
      }
     },
     "90b927ccac27401e8594e61df078b2a8": {
      "model_module": "@jupyter-widgets/controls",
      "model_module_version": "1.5.0",
      "model_name": "DescriptionStyleModel",
      "state": {
       "description_width": ""
      }
     },
     "90c84c255ac24b589c94251bca33d4d7": {
      "model_module": "@jupyter-widgets/controls",
      "model_module_version": "1.5.0",
      "model_name": "FloatProgressModel",
      "state": {
       "layout": "IPY_MODEL_c40ef9d608714edaa1b19ecebf081b3f",
       "max": 16,
       "style": "IPY_MODEL_c3042b62a3ec4764907e25f2342f7c18",
       "value": 16
      }
     },
     "90d54d5850e8474399e7aeaadbc7e31b": {
      "model_module": "@jupyter-widgets/controls",
      "model_module_version": "1.5.0",
      "model_name": "DescriptionStyleModel",
      "state": {
       "description_width": ""
      }
     },
     "90d815f0656946998cd2454e9d4374ab": {
      "model_module": "@jupyter-widgets/controls",
      "model_module_version": "1.5.0",
      "model_name": "FloatProgressModel",
      "state": {
       "layout": "IPY_MODEL_cf0b5083342440208df1b012101221e9",
       "max": 16,
       "style": "IPY_MODEL_e6ad22b81f584b6fa511e448bf96bb66",
       "value": 16
      }
     },
     "90dee839939645c895a5dc58b82f85e2": {
      "model_module": "@jupyter-widgets/base",
      "model_module_version": "1.2.0",
      "model_name": "LayoutModel",
      "state": {}
     },
     "90f64651e02646e4aefc2d7dd5cabc3f": {
      "model_module": "@jupyter-widgets/controls",
      "model_module_version": "1.5.0",
      "model_name": "ProgressStyleModel",
      "state": {
       "description_width": ""
      }
     },
     "90ffb7bdd07044eb99842f949f01c08d": {
      "model_module": "@jupyter-widgets/controls",
      "model_module_version": "1.5.0",
      "model_name": "ProgressStyleModel",
      "state": {
       "description_width": ""
      }
     },
     "911f496f55814935abacee2bcd675aa6": {
      "model_module": "@jupyter-widgets/controls",
      "model_module_version": "1.5.0",
      "model_name": "HTMLModel",
      "state": {
       "layout": "IPY_MODEL_6366131699a94b8dbd25ffc90e5f92ba",
       "style": "IPY_MODEL_3a9f54368d8b4d06b627d8907fb8ca49",
       "value": " 16/16 [00:00&lt;00:00, 16.15it/s]"
      }
     },
     "9133520dc6dd40559d7ba85149ec960d": {
      "model_module": "@jupyter-widgets/controls",
      "model_module_version": "1.5.0",
      "model_name": "FloatProgressModel",
      "state": {
       "layout": "IPY_MODEL_a24cedd7ecb54a6390c152a76f51458d",
       "max": 16,
       "style": "IPY_MODEL_fba5486145cf4831a5598d7dcd438832",
       "value": 16
      }
     },
     "913df384a99f4e869561a0ae1bfc616b": {
      "model_module": "@jupyter-widgets/base",
      "model_module_version": "1.2.0",
      "model_name": "LayoutModel",
      "state": {
       "flex": "2"
      }
     },
     "9142227ad0bc472b8ed49fec979e56d0": {
      "model_module": "@jupyter-widgets/controls",
      "model_module_version": "1.5.0",
      "model_name": "ProgressStyleModel",
      "state": {
       "description_width": ""
      }
     },
     "914cdae0e6804a428ca24fb5be2a876d": {
      "model_module": "@jupyter-widgets/controls",
      "model_module_version": "1.5.0",
      "model_name": "DescriptionStyleModel",
      "state": {
       "description_width": ""
      }
     },
     "9153fa7915a84ddb9cf92886b32690a9": {
      "model_module": "@jupyter-widgets/controls",
      "model_module_version": "1.5.0",
      "model_name": "ProgressStyleModel",
      "state": {
       "description_width": ""
      }
     },
     "917590aee3f845afba3af110d1995e89": {
      "model_module": "@jupyter-widgets/controls",
      "model_module_version": "1.5.0",
      "model_name": "DescriptionStyleModel",
      "state": {
       "description_width": ""
      }
     },
     "9177ab31618b44ffb9ef180b05906d12": {
      "model_module": "@jupyter-widgets/controls",
      "model_module_version": "1.5.0",
      "model_name": "HTMLModel",
      "state": {
       "layout": "IPY_MODEL_6e83ebea6ccc4d8e9ba9b0817b79a0c0",
       "style": "IPY_MODEL_6a1d62ebf59f4c188ff153ed324f5146",
       "value": " 16/16 [00:00&lt;00:00, 20.17it/s]"
      }
     },
     "917b1ec93c65446fbe3cfa0a9f504a4a": {
      "model_module": "@jupyter-widgets/controls",
      "model_module_version": "1.5.0",
      "model_name": "HTMLModel",
      "state": {
       "layout": "IPY_MODEL_56158a9f5269439f823c6d3866d65481",
       "style": "IPY_MODEL_d33b48778804476db0886f33bc6ad045",
       "value": " 16/16 [00:00&lt;00:00, 20.69it/s]"
      }
     },
     "918be5d221894b79be1eedfc3c07fa71": {
      "model_module": "@jupyter-widgets/controls",
      "model_module_version": "1.5.0",
      "model_name": "DescriptionStyleModel",
      "state": {
       "description_width": ""
      }
     },
     "9197fa045502426dad575def5f5fc892": {
      "model_module": "@jupyter-widgets/controls",
      "model_module_version": "1.5.0",
      "model_name": "DescriptionStyleModel",
      "state": {
       "description_width": ""
      }
     },
     "91b9c7c9ae4a4f61abe4e367fb422a2a": {
      "model_module": "@jupyter-widgets/base",
      "model_module_version": "1.2.0",
      "model_name": "LayoutModel",
      "state": {}
     },
     "91bfb493dd294213bd8374d36c82c34e": {
      "model_module": "@jupyter-widgets/controls",
      "model_module_version": "1.5.0",
      "model_name": "FloatProgressModel",
      "state": {
       "layout": "IPY_MODEL_d0589e7978db40658b2142a9c1c0bb47",
       "max": 16,
       "style": "IPY_MODEL_a134706b084f432c9dca9593c61d620f",
       "value": 16
      }
     },
     "91d47e58943449f59078a9c1ca4710d5": {
      "model_module": "@jupyter-widgets/controls",
      "model_module_version": "1.5.0",
      "model_name": "HTMLModel",
      "state": {
       "layout": "IPY_MODEL_35c850e2cc7e45d09dd3954366f44fdf",
       "style": "IPY_MODEL_b1ef6b1c3b60427ea9eb7e124218662b",
       "value": "Validation DataLoader 0: 100%"
      }
     },
     "91e000810b5b4c979703f7422bbad527": {
      "model_module": "@jupyter-widgets/controls",
      "model_module_version": "1.5.0",
      "model_name": "DescriptionStyleModel",
      "state": {
       "description_width": ""
      }
     },
     "91fa26e4ad874b768996bc7e579daa97": {
      "model_module": "@jupyter-widgets/controls",
      "model_module_version": "1.5.0",
      "model_name": "FloatProgressModel",
      "state": {
       "layout": "IPY_MODEL_e298e26a131c4bb189966fc4ebd3930b",
       "max": 16,
       "style": "IPY_MODEL_dfe90a3445d845ba89830a7f1446e3bd",
       "value": 16
      }
     },
     "91face6042a54be994b36b4048fc5a6d": {
      "model_module": "@jupyter-widgets/controls",
      "model_module_version": "1.5.0",
      "model_name": "HTMLModel",
      "state": {
       "layout": "IPY_MODEL_c2bd74b746264fee98607d81fd60bc93",
       "style": "IPY_MODEL_78c02ac509854e63bfc18a1f612d81b7",
       "value": " 16/16 [00:01&lt;00:00, 10.46it/s]"
      }
     },
     "9206eb4ab02547f88ced4bd76f76635f": {
      "model_module": "@jupyter-widgets/base",
      "model_module_version": "1.2.0",
      "model_name": "LayoutModel",
      "state": {
       "display": "inline-flex",
       "flex_flow": "row wrap",
       "width": "100%"
      }
     },
     "9218eead6aad4940b0a3c51859f63c2b": {
      "model_module": "@jupyter-widgets/controls",
      "model_module_version": "1.5.0",
      "model_name": "HTMLModel",
      "state": {
       "layout": "IPY_MODEL_3782f7ac0f9b415d828840e3f2082513",
       "style": "IPY_MODEL_18ef098c8568483696dce260294b505a",
       "value": " 16/16 [00:03&lt;00:00,  3.90it/s]"
      }
     },
     "9219edb443d24db8839fac40e17c3b17": {
      "model_module": "@jupyter-widgets/controls",
      "model_module_version": "1.5.0",
      "model_name": "DescriptionStyleModel",
      "state": {
       "description_width": ""
      }
     },
     "92270ece26e3420a842a441e892e04e1": {
      "model_module": "@jupyter-widgets/base",
      "model_module_version": "1.2.0",
      "model_name": "LayoutModel",
      "state": {}
     },
     "922bc70708fe4d399ffde93dd7ab5411": {
      "model_module": "@jupyter-widgets/controls",
      "model_module_version": "1.5.0",
      "model_name": "HTMLModel",
      "state": {
       "layout": "IPY_MODEL_12179e8733f14f3188a64938406484b7",
       "style": "IPY_MODEL_16bcff78fd664d608529f45686ad9343",
       "value": "Validation DataLoader 0: 100%"
      }
     },
     "924dae7182e145c88dd31bef3783a9c6": {
      "model_module": "@jupyter-widgets/base",
      "model_module_version": "1.2.0",
      "model_name": "LayoutModel",
      "state": {}
     },
     "92593c121e754f52ba70d79bc8860141": {
      "model_module": "@jupyter-widgets/controls",
      "model_module_version": "1.5.0",
      "model_name": "DescriptionStyleModel",
      "state": {
       "description_width": ""
      }
     },
     "925cf6febaef42f7a06b7bffb6502473": {
      "model_module": "@jupyter-widgets/base",
      "model_module_version": "1.2.0",
      "model_name": "LayoutModel",
      "state": {}
     },
     "926f989f48e241d8aa99595935b1f1f3": {
      "model_module": "@jupyter-widgets/controls",
      "model_module_version": "1.5.0",
      "model_name": "ProgressStyleModel",
      "state": {
       "description_width": ""
      }
     },
     "9279f06ed72b4a449210c09c2a2b4bc2": {
      "model_module": "@jupyter-widgets/controls",
      "model_module_version": "1.5.0",
      "model_name": "DescriptionStyleModel",
      "state": {
       "description_width": ""
      }
     },
     "92844b21f3ad44ceb4b9f834658f1dd0": {
      "model_module": "@jupyter-widgets/base",
      "model_module_version": "1.2.0",
      "model_name": "LayoutModel",
      "state": {}
     },
     "9296acf729714af0bd9a6f92ed224900": {
      "model_module": "@jupyter-widgets/base",
      "model_module_version": "1.2.0",
      "model_name": "LayoutModel",
      "state": {
       "flex": "2"
      }
     },
     "929cfd0b005749a5a4e68098f9ac8081": {
      "model_module": "@jupyter-widgets/controls",
      "model_module_version": "1.5.0",
      "model_name": "DescriptionStyleModel",
      "state": {
       "description_width": ""
      }
     },
     "92b6bb12f58e41b19afdab24c667d7af": {
      "model_module": "@jupyter-widgets/base",
      "model_module_version": "1.2.0",
      "model_name": "LayoutModel",
      "state": {}
     },
     "92ecd49d7cc84bcc8a8937d90292d0ab": {
      "model_module": "@jupyter-widgets/base",
      "model_module_version": "1.2.0",
      "model_name": "LayoutModel",
      "state": {
       "display": "inline-flex",
       "flex_flow": "row wrap",
       "width": "100%"
      }
     },
     "92f45dd7e3874391bb5cc47b26e631df": {
      "model_module": "@jupyter-widgets/controls",
      "model_module_version": "1.5.0",
      "model_name": "HTMLModel",
      "state": {
       "layout": "IPY_MODEL_cdefb2355df6452eb02c8623c50ed937",
       "style": "IPY_MODEL_12c0aba9f9eb4453a9a5095c71e79c56",
       "value": " 16/16 [00:06&lt;00:00,  2.34it/s]"
      }
     },
     "9313d9e206e546c3ab1fc7843a4635eb": {
      "model_module": "@jupyter-widgets/controls",
      "model_module_version": "1.5.0",
      "model_name": "ProgressStyleModel",
      "state": {
       "description_width": ""
      }
     },
     "93338a20f9244f348afdcdd65a22e9a3": {
      "model_module": "@jupyter-widgets/controls",
      "model_module_version": "1.5.0",
      "model_name": "FloatProgressModel",
      "state": {
       "layout": "IPY_MODEL_787c930f92824a92b815f354fc4364e4",
       "max": 16,
       "style": "IPY_MODEL_610f0568453d4415a1089c4f06759966",
       "value": 16
      }
     },
     "934aac76492a4d58898f73c7b8481c9d": {
      "model_module": "@jupyter-widgets/controls",
      "model_module_version": "1.5.0",
      "model_name": "HTMLModel",
      "state": {
       "layout": "IPY_MODEL_0233f017b70e417c8c485a5f580600e6",
       "style": "IPY_MODEL_522d8cb5654a4558a5ed7a10e2576feb",
       "value": "Validation DataLoader 0: 100%"
      }
     },
     "93569509c6f248088a8b06c435d43926": {
      "model_module": "@jupyter-widgets/controls",
      "model_module_version": "1.5.0",
      "model_name": "DescriptionStyleModel",
      "state": {
       "description_width": ""
      }
     },
     "935c6c5cb6b844dc9047d5aea9b37b6b": {
      "model_module": "@jupyter-widgets/base",
      "model_module_version": "1.2.0",
      "model_name": "LayoutModel",
      "state": {
       "flex": "2"
      }
     },
     "935d41ab439740cabbc4c59551fdb7f7": {
      "model_module": "@jupyter-widgets/base",
      "model_module_version": "1.2.0",
      "model_name": "LayoutModel",
      "state": {}
     },
     "935f9f10c9be4c088f96c0632042ffd7": {
      "model_module": "@jupyter-widgets/base",
      "model_module_version": "1.2.0",
      "model_name": "LayoutModel",
      "state": {}
     },
     "93782097a8664ae694750e48434cc7ec": {
      "model_module": "@jupyter-widgets/base",
      "model_module_version": "1.2.0",
      "model_name": "LayoutModel",
      "state": {}
     },
     "93b4d44c772341239d0d49edd95c3c48": {
      "model_module": "@jupyter-widgets/controls",
      "model_module_version": "1.5.0",
      "model_name": "DescriptionStyleModel",
      "state": {
       "description_width": ""
      }
     },
     "93c70164e48b47cb997462d24fe16195": {
      "model_module": "@jupyter-widgets/base",
      "model_module_version": "1.2.0",
      "model_name": "LayoutModel",
      "state": {
       "flex": "2"
      }
     },
     "93d66eae85c34345a031490ef2505708": {
      "model_module": "@jupyter-widgets/base",
      "model_module_version": "1.2.0",
      "model_name": "LayoutModel",
      "state": {}
     },
     "93f7d493599244daa2e1db3ecc2a9250": {
      "model_module": "@jupyter-widgets/base",
      "model_module_version": "1.2.0",
      "model_name": "LayoutModel",
      "state": {
       "flex": "2"
      }
     },
     "9403304c0d1a425598c62bd1deb9acd0": {
      "model_module": "@jupyter-widgets/controls",
      "model_module_version": "1.5.0",
      "model_name": "HTMLModel",
      "state": {
       "layout": "IPY_MODEL_0e5e8505870a4c49a4f1eeba5da12bbb",
       "style": "IPY_MODEL_bcf7e2f8489e479a931bcc550f06137f",
       "value": " 16/16 [00:00&lt;00:00, 21.01it/s]"
      }
     },
     "941eaa0973d847259270b47b8abe599c": {
      "model_module": "@jupyter-widgets/controls",
      "model_module_version": "1.5.0",
      "model_name": "ProgressStyleModel",
      "state": {
       "description_width": ""
      }
     },
     "944e1611d8ee4f52b4f0f49081a045a6": {
      "model_module": "@jupyter-widgets/controls",
      "model_module_version": "1.5.0",
      "model_name": "HTMLModel",
      "state": {
       "layout": "IPY_MODEL_3f23321daadc47238c93493874263a77",
       "style": "IPY_MODEL_ed70b41f7e4d4184b2d90dbf4450e7ae",
       "value": "Validation DataLoader 0: 100%"
      }
     },
     "94553c5fd0d94428868802e387e290c4": {
      "model_module": "@jupyter-widgets/controls",
      "model_module_version": "1.5.0",
      "model_name": "ProgressStyleModel",
      "state": {
       "description_width": ""
      }
     },
     "948045af05784254b834695ff0d2d0ab": {
      "model_module": "@jupyter-widgets/base",
      "model_module_version": "1.2.0",
      "model_name": "LayoutModel",
      "state": {
       "display": "inline-flex",
       "flex_flow": "row wrap",
       "width": "100%"
      }
     },
     "9496a4ed0fd64394a7faec36fcbc4ddd": {
      "model_module": "@jupyter-widgets/base",
      "model_module_version": "1.2.0",
      "model_name": "LayoutModel",
      "state": {}
     },
     "949934833aeb4e7c96f1a2bc372bd21a": {
      "model_module": "@jupyter-widgets/base",
      "model_module_version": "1.2.0",
      "model_name": "LayoutModel",
      "state": {}
     },
     "94b7c36b18494f69b3b3311f7f0b65e5": {
      "model_module": "@jupyter-widgets/controls",
      "model_module_version": "1.5.0",
      "model_name": "DescriptionStyleModel",
      "state": {
       "description_width": ""
      }
     },
     "94d331db2c3244f294833a663645336e": {
      "model_module": "@jupyter-widgets/base",
      "model_module_version": "1.2.0",
      "model_name": "LayoutModel",
      "state": {}
     },
     "94dda0fa590b4a269495fa6781de1ab2": {
      "model_module": "@jupyter-widgets/base",
      "model_module_version": "1.2.0",
      "model_name": "LayoutModel",
      "state": {}
     },
     "9531a1c6d6a04305b6dd86f96a454205": {
      "model_module": "@jupyter-widgets/controls",
      "model_module_version": "1.5.0",
      "model_name": "ProgressStyleModel",
      "state": {
       "description_width": ""
      }
     },
     "9532acba7dad498f983da6c8e48cce23": {
      "model_module": "@jupyter-widgets/controls",
      "model_module_version": "1.5.0",
      "model_name": "HTMLModel",
      "state": {
       "layout": "IPY_MODEL_b9fab391107a49dab1b67a5fd4bba43b",
       "style": "IPY_MODEL_d97c51faefe74aec8265eb75728505dc",
       "value": "Validation DataLoader 0: 100%"
      }
     },
     "9545ab9243664f0396e854a5ad33278f": {
      "model_module": "@jupyter-widgets/controls",
      "model_module_version": "1.5.0",
      "model_name": "DescriptionStyleModel",
      "state": {
       "description_width": ""
      }
     },
     "9566a4248abc4ed2b9887ed37c53c8dc": {
      "model_module": "@jupyter-widgets/controls",
      "model_module_version": "1.5.0",
      "model_name": "HTMLModel",
      "state": {
       "layout": "IPY_MODEL_ce17f10a90f443369a20b0770afe8d7f",
       "style": "IPY_MODEL_b6b09820194b44b39c78259af20f99f4",
       "value": " 16/16 [00:00&lt;00:00, 20.03it/s]"
      }
     },
     "95699db37f504c4c85beb73dc50d2ddb": {
      "model_module": "@jupyter-widgets/base",
      "model_module_version": "1.2.0",
      "model_name": "LayoutModel",
      "state": {
       "flex": "2"
      }
     },
     "956cd58203634d87ae5ee65403bcb5cc": {
      "model_module": "@jupyter-widgets/controls",
      "model_module_version": "1.5.0",
      "model_name": "DescriptionStyleModel",
      "state": {
       "description_width": ""
      }
     },
     "9572feaa4fbf4c4ba10d19f288bdb4d9": {
      "model_module": "@jupyter-widgets/controls",
      "model_module_version": "1.5.0",
      "model_name": "FloatProgressModel",
      "state": {
       "layout": "IPY_MODEL_09cc8ecff2f84c62a9f9191689c85ae8",
       "max": 16,
       "style": "IPY_MODEL_0a6270f03ecb4d50b31f3e76c5c805a4",
       "value": 16
      }
     },
     "9582c93e5671462fbc4cff318fef83a5": {
      "model_module": "@jupyter-widgets/base",
      "model_module_version": "1.2.0",
      "model_name": "LayoutModel",
      "state": {}
     },
     "958e03da380a4739b9334dfc415765bd": {
      "model_module": "@jupyter-widgets/controls",
      "model_module_version": "1.5.0",
      "model_name": "ProgressStyleModel",
      "state": {
       "description_width": ""
      }
     },
     "958e3c91e4fe452cb342da15d0197258": {
      "model_module": "@jupyter-widgets/controls",
      "model_module_version": "1.5.0",
      "model_name": "HTMLModel",
      "state": {
       "layout": "IPY_MODEL_df01f0500cd84a22a3a21a92a475c8c1",
       "style": "IPY_MODEL_35c3bb9668f6416d8356aacb93bf2967",
       "value": "Sanity Checking DataLoader 0: 100%"
      }
     },
     "9591e3a479b24bfb88ddfc042d4bc011": {
      "model_module": "@jupyter-widgets/base",
      "model_module_version": "1.2.0",
      "model_name": "LayoutModel",
      "state": {}
     },
     "959cecccbbe940419d1dcb0491cd0209": {
      "model_module": "@jupyter-widgets/base",
      "model_module_version": "1.2.0",
      "model_name": "LayoutModel",
      "state": {}
     },
     "95a87a7938604fc5b05090c2e2addb2d": {
      "model_module": "@jupyter-widgets/controls",
      "model_module_version": "1.5.0",
      "model_name": "HTMLModel",
      "state": {
       "layout": "IPY_MODEL_74463e42947d4aaeb0d4e9845da25205",
       "style": "IPY_MODEL_07ac6b2dfc91419e9a77afff6a687e54",
       "value": "Validation DataLoader 0: 100%"
      }
     },
     "95a9f25656054d558f47154ad9ac828f": {
      "model_module": "@jupyter-widgets/controls",
      "model_module_version": "1.5.0",
      "model_name": "HTMLModel",
      "state": {
       "layout": "IPY_MODEL_b10b0e239d524c5e917671c71a83b25f",
       "style": "IPY_MODEL_ec9bf58b23fc43cd89a6eaa27398a19c",
       "value": "Validation DataLoader 0: 100%"
      }
     },
     "95e1bcf5c1a24316a145c9363d80e86d": {
      "model_module": "@jupyter-widgets/controls",
      "model_module_version": "1.5.0",
      "model_name": "ProgressStyleModel",
      "state": {
       "description_width": ""
      }
     },
     "95e6c80978d34931acc6e58009bd1536": {
      "model_module": "@jupyter-widgets/controls",
      "model_module_version": "1.5.0",
      "model_name": "FloatProgressModel",
      "state": {
       "layout": "IPY_MODEL_f1ddc00cde604f18aebc8c27357af473",
       "max": 16,
       "style": "IPY_MODEL_66bf3ab4571d4ae8951d8039e7724142",
       "value": 16
      }
     },
     "95e9bbc46ace44dda6d0b31f2c298348": {
      "model_module": "@jupyter-widgets/controls",
      "model_module_version": "1.5.0",
      "model_name": "DescriptionStyleModel",
      "state": {
       "description_width": ""
      }
     },
     "95f1bdd3a9b44bc582f24cac6c7fe3d6": {
      "model_module": "@jupyter-widgets/base",
      "model_module_version": "1.2.0",
      "model_name": "LayoutModel",
      "state": {
       "flex": "2"
      }
     },
     "9607d8f2d5714f878d4e80321d44cd15": {
      "model_module": "@jupyter-widgets/controls",
      "model_module_version": "1.5.0",
      "model_name": "DescriptionStyleModel",
      "state": {
       "description_width": ""
      }
     },
     "9618ab0cc61345d8b05b4dee632cc3e4": {
      "model_module": "@jupyter-widgets/controls",
      "model_module_version": "1.5.0",
      "model_name": "DescriptionStyleModel",
      "state": {
       "description_width": ""
      }
     },
     "962c0d151e2e49c8b63ab04ed356350b": {
      "model_module": "@jupyter-widgets/base",
      "model_module_version": "1.2.0",
      "model_name": "LayoutModel",
      "state": {
       "display": "inline-flex",
       "flex_flow": "row wrap",
       "width": "100%"
      }
     },
     "962fe725e9b04786a6d17f79794b49b1": {
      "model_module": "@jupyter-widgets/controls",
      "model_module_version": "1.5.0",
      "model_name": "DescriptionStyleModel",
      "state": {
       "description_width": ""
      }
     },
     "96385567e8b641398f3733f033a75786": {
      "model_module": "@jupyter-widgets/base",
      "model_module_version": "1.2.0",
      "model_name": "LayoutModel",
      "state": {}
     },
     "966e3d863ca04532b810be9c6595c2f6": {
      "model_module": "@jupyter-widgets/base",
      "model_module_version": "1.2.0",
      "model_name": "LayoutModel",
      "state": {}
     },
     "96aab6b9c41e487197af3d74b0cefa38": {
      "model_module": "@jupyter-widgets/controls",
      "model_module_version": "1.5.0",
      "model_name": "DescriptionStyleModel",
      "state": {
       "description_width": ""
      }
     },
     "96c8a230587846e7a381b8ba5d2c11cb": {
      "model_module": "@jupyter-widgets/controls",
      "model_module_version": "1.5.0",
      "model_name": "FloatProgressModel",
      "state": {
       "layout": "IPY_MODEL_e5c0068426474b2fb894f2a3510372c5",
       "max": 2,
       "style": "IPY_MODEL_deec04dcb55a4dda9eaba21a81a0819a",
       "value": 2
      }
     },
     "96e1642b51094ca79c1951d8df2c5471": {
      "model_module": "@jupyter-widgets/base",
      "model_module_version": "1.2.0",
      "model_name": "LayoutModel",
      "state": {}
     },
     "971c0cd2a2a84f2ba5e4a64c718e4d3f": {
      "model_module": "@jupyter-widgets/controls",
      "model_module_version": "1.5.0",
      "model_name": "ProgressStyleModel",
      "state": {
       "description_width": ""
      }
     },
     "9735656ad562498d8c470837ecd2d110": {
      "model_module": "@jupyter-widgets/base",
      "model_module_version": "1.2.0",
      "model_name": "LayoutModel",
      "state": {
       "display": "inline-flex",
       "flex_flow": "row wrap",
       "width": "100%"
      }
     },
     "9743f61546b645ecbe2b358455d9fa11": {
      "model_module": "@jupyter-widgets/base",
      "model_module_version": "1.2.0",
      "model_name": "LayoutModel",
      "state": {
       "display": "inline-flex",
       "flex_flow": "row wrap",
       "width": "100%"
      }
     },
     "9754b4a4ff45420b98bbbfe0fd1cca66": {
      "model_module": "@jupyter-widgets/controls",
      "model_module_version": "1.5.0",
      "model_name": "DescriptionStyleModel",
      "state": {
       "description_width": ""
      }
     },
     "97854b08b428453faef6652174df616b": {
      "model_module": "@jupyter-widgets/controls",
      "model_module_version": "1.5.0",
      "model_name": "FloatProgressModel",
      "state": {
       "layout": "IPY_MODEL_93c70164e48b47cb997462d24fe16195",
       "max": 16,
       "style": "IPY_MODEL_ed8e6b478e5147f798f1b3305fed5829",
       "value": 16
      }
     },
     "979819d1a7b446f0b2a51965ff066cbc": {
      "model_module": "@jupyter-widgets/controls",
      "model_module_version": "1.5.0",
      "model_name": "DescriptionStyleModel",
      "state": {
       "description_width": ""
      }
     },
     "979a8f014a094a9cb2bb841fa079e173": {
      "model_module": "@jupyter-widgets/controls",
      "model_module_version": "1.5.0",
      "model_name": "DescriptionStyleModel",
      "state": {
       "description_width": ""
      }
     },
     "979ae35b392d4a8a9af323e5208844db": {
      "model_module": "@jupyter-widgets/controls",
      "model_module_version": "1.5.0",
      "model_name": "HTMLModel",
      "state": {
       "layout": "IPY_MODEL_2e8671a53b3e4ec883d3e66a01091653",
       "style": "IPY_MODEL_61dcb9cf5c624d6a9557adba4bbb61fb",
       "value": "Validation DataLoader 0: 100%"
      }
     },
     "979d86c4af8c46c0bffb6206293ee66b": {
      "model_module": "@jupyter-widgets/controls",
      "model_module_version": "1.5.0",
      "model_name": "HTMLModel",
      "state": {
       "layout": "IPY_MODEL_e91228f7632d4829a5eec30ee316ce22",
       "style": "IPY_MODEL_d65052a3b67546f0ad7e50b08555c114",
       "value": " 16/16 [00:01&lt;00:00, 10.92it/s]"
      }
     },
     "979dbd2c6bd34546925b557ab787bd30": {
      "model_module": "@jupyter-widgets/base",
      "model_module_version": "1.2.0",
      "model_name": "LayoutModel",
      "state": {
       "flex": "2"
      }
     },
     "97a31390a0404e2cbbff8e0971aafd5d": {
      "model_module": "@jupyter-widgets/controls",
      "model_module_version": "1.5.0",
      "model_name": "HTMLModel",
      "state": {
       "layout": "IPY_MODEL_7656bf470cad4dd09eab23a28d5e3de9",
       "style": "IPY_MODEL_08410b9549a84653972d84eb4e20d38e",
       "value": " 16/16 [00:00&lt;00:00, 16.32it/s]"
      }
     },
     "97b1062836494aadaa126ebaf02c95ab": {
      "model_module": "@jupyter-widgets/controls",
      "model_module_version": "1.5.0",
      "model_name": "DescriptionStyleModel",
      "state": {
       "description_width": ""
      }
     },
     "97c2bdd9caa142c9b88abea511f87d53": {
      "model_module": "@jupyter-widgets/controls",
      "model_module_version": "1.5.0",
      "model_name": "HTMLModel",
      "state": {
       "layout": "IPY_MODEL_a398a4ada52f4a6992c5924f864ec421",
       "style": "IPY_MODEL_c4ce89c087c847f294af2a5ff5411d8c",
       "value": " 2/2 [00:00&lt;00:00, 24.89it/s]"
      }
     },
     "97d00ec9203d4e8ba456b80c204e9285": {
      "model_module": "@jupyter-widgets/controls",
      "model_module_version": "1.5.0",
      "model_name": "ProgressStyleModel",
      "state": {
       "description_width": ""
      }
     },
     "97ebfe16cb594426b32dd3ae76f6e060": {
      "model_module": "@jupyter-widgets/controls",
      "model_module_version": "1.5.0",
      "model_name": "HTMLModel",
      "state": {
       "layout": "IPY_MODEL_43fd4778b1dd46c3b0bd33d100eba0bd",
       "style": "IPY_MODEL_38a3cf645ec64c17a79d2ec642804c70",
       "value": "Validation DataLoader 0: 100%"
      }
     },
     "987dd8b726714937936aece76ec300f2": {
      "model_module": "@jupyter-widgets/controls",
      "model_module_version": "1.5.0",
      "model_name": "HTMLModel",
      "state": {
       "layout": "IPY_MODEL_f603f395b22f4609a813b72df01a161f",
       "style": "IPY_MODEL_10423e46b3074b3b825c7355f9d27c23",
       "value": " 47/77 [00:40&lt;00:26,  1.15it/s, loss=0.0277, v_num=H-49]"
      }
     },
     "98884bc05b8e4b83b220c0597c28e295": {
      "model_module": "@jupyter-widgets/base",
      "model_module_version": "1.2.0",
      "model_name": "LayoutModel",
      "state": {}
     },
     "98958a4a3928464ea2255ed11c3b0ee7": {
      "model_module": "@jupyter-widgets/controls",
      "model_module_version": "1.5.0",
      "model_name": "HTMLModel",
      "state": {
       "layout": "IPY_MODEL_92270ece26e3420a842a441e892e04e1",
       "style": "IPY_MODEL_88d92755188143dbbe3a6e47e3b6428c",
       "value": "Epoch 10:  66%"
      }
     },
     "9899a645f64c485f924d8a173d301609": {
      "model_module": "@jupyter-widgets/base",
      "model_module_version": "1.2.0",
      "model_name": "LayoutModel",
      "state": {
       "flex": "2"
      }
     },
     "98a087978d4b47c0b805d2de47536c9c": {
      "model_module": "@jupyter-widgets/controls",
      "model_module_version": "1.5.0",
      "model_name": "HTMLModel",
      "state": {
       "layout": "IPY_MODEL_768fe0710aa14cf8b2f1a6313fc60f3d",
       "style": "IPY_MODEL_86fd6ee4bd2b44aba1c9c1b142aa10d6",
       "value": "Validation DataLoader 0: 100%"
      }
     },
     "98a21c67666644808265a057dc012e74": {
      "model_module": "@jupyter-widgets/base",
      "model_module_version": "1.2.0",
      "model_name": "LayoutModel",
      "state": {
       "flex": "2"
      }
     },
     "98a9bc75d58c4410a318fc6296360f4c": {
      "model_module": "@jupyter-widgets/controls",
      "model_module_version": "1.5.0",
      "model_name": "HTMLModel",
      "state": {
       "layout": "IPY_MODEL_ef038419b71b48efa448148fd77457ac",
       "style": "IPY_MODEL_f2543a7cd4c8451ea7db24ab69bc140d",
       "value": " 2/2 [00:00&lt;00:00, 26.66it/s]"
      }
     },
     "98ade854c8834f0485b5c757316c0270": {
      "model_module": "@jupyter-widgets/base",
      "model_module_version": "1.2.0",
      "model_name": "LayoutModel",
      "state": {}
     },
     "98bc670df7f141b2b744779010f9a510": {
      "model_module": "@jupyter-widgets/base",
      "model_module_version": "1.2.0",
      "model_name": "LayoutModel",
      "state": {
       "display": "inline-flex",
       "flex_flow": "row wrap",
       "width": "100%"
      }
     },
     "98c110d0c7384475a511aca59a998976": {
      "model_module": "@jupyter-widgets/base",
      "model_module_version": "1.2.0",
      "model_name": "LayoutModel",
      "state": {
       "flex": "2"
      }
     },
     "98c125ae3bd248c29397909b3b36c740": {
      "model_module": "@jupyter-widgets/base",
      "model_module_version": "1.2.0",
      "model_name": "LayoutModel",
      "state": {
       "flex": "2"
      }
     },
     "98c32e10a60e483c90c884e672d2f635": {
      "model_module": "@jupyter-widgets/base",
      "model_module_version": "1.2.0",
      "model_name": "LayoutModel",
      "state": {}
     },
     "98cc10701da44dc68271a3675dbac087": {
      "model_module": "@jupyter-widgets/base",
      "model_module_version": "1.2.0",
      "model_name": "LayoutModel",
      "state": {
       "flex": "2"
      }
     },
     "98cf6a94ce624919a47c3641de4fb564": {
      "model_module": "@jupyter-widgets/controls",
      "model_module_version": "1.5.0",
      "model_name": "HTMLModel",
      "state": {
       "layout": "IPY_MODEL_8b8eea7f7b7e4bbb917c0c943029be3e",
       "style": "IPY_MODEL_e8b7232b7a8b41bd88941378c6dc3d3a",
       "value": " 16/16 [00:01&lt;00:00,  8.11it/s]"
      }
     },
     "98d6be92f7e64b7eb612412722bfd994": {
      "model_module": "@jupyter-widgets/base",
      "model_module_version": "1.2.0",
      "model_name": "LayoutModel",
      "state": {}
     },
     "98e6ed67efd340f8a930399e01666335": {
      "model_module": "@jupyter-widgets/controls",
      "model_module_version": "1.5.0",
      "model_name": "DescriptionStyleModel",
      "state": {
       "description_width": ""
      }
     },
     "98ea75fb034d4f03adb4df046e637f90": {
      "model_module": "@jupyter-widgets/controls",
      "model_module_version": "1.5.0",
      "model_name": "DescriptionStyleModel",
      "state": {
       "description_width": ""
      }
     },
     "98efe6bbbfef454383fae82f4fecf6fd": {
      "model_module": "@jupyter-widgets/base",
      "model_module_version": "1.2.0",
      "model_name": "LayoutModel",
      "state": {}
     },
     "995008fb8d7b48658663b06d2dfd1171": {
      "model_module": "@jupyter-widgets/base",
      "model_module_version": "1.2.0",
      "model_name": "LayoutModel",
      "state": {
       "flex": "2"
      }
     },
     "99717e174deb47dfb4f6c4952b47053c": {
      "model_module": "@jupyter-widgets/controls",
      "model_module_version": "1.5.0",
      "model_name": "FloatProgressModel",
      "state": {
       "layout": "IPY_MODEL_6125090535184e6093c5c3ee52a027bc",
       "max": 2,
       "style": "IPY_MODEL_aa53fbbaab4742a0b4346069eacd28ab",
       "value": 2
      }
     },
     "997faa95831f456898464994707ed8ef": {
      "model_module": "@jupyter-widgets/controls",
      "model_module_version": "1.5.0",
      "model_name": "FloatProgressModel",
      "state": {
       "layout": "IPY_MODEL_a171ce26914f406cb44326d9e5d5370a",
       "max": 2,
       "style": "IPY_MODEL_a86b533384e94670bb72cd0b0fe29809",
       "value": 2
      }
     },
     "9981298e80df41658b8b738bbfa0e25e": {
      "model_module": "@jupyter-widgets/controls",
      "model_module_version": "1.5.0",
      "model_name": "ProgressStyleModel",
      "state": {
       "description_width": ""
      }
     },
     "999f70dde52043ffb4cc2732ba7b04af": {
      "model_module": "@jupyter-widgets/controls",
      "model_module_version": "1.5.0",
      "model_name": "ProgressStyleModel",
      "state": {
       "description_width": ""
      }
     },
     "99a20fcad82c46e988cad28757877f5f": {
      "model_module": "@jupyter-widgets/controls",
      "model_module_version": "1.5.0",
      "model_name": "FloatProgressModel",
      "state": {
       "layout": "IPY_MODEL_0490c9b0bfc047529e2cfd90bcdf0ca3",
       "max": 16,
       "style": "IPY_MODEL_2f49aa1ccc7c495a92aedfda5cbc7c27",
       "value": 16
      }
     },
     "99c71f75377d4b4381b316eab890cc3d": {
      "model_module": "@jupyter-widgets/base",
      "model_module_version": "1.2.0",
      "model_name": "LayoutModel",
      "state": {
       "flex": "2"
      }
     },
     "99dd2069ddb94579997e5879044f918d": {
      "model_module": "@jupyter-widgets/controls",
      "model_module_version": "1.5.0",
      "model_name": "HTMLModel",
      "state": {
       "layout": "IPY_MODEL_159c1003ab684c08a52961fef8238e09",
       "style": "IPY_MODEL_d07de1bfa8184d3386697644fcc496a5",
       "value": "Sanity Checking DataLoader 0: 100%"
      }
     },
     "99f69d7a9216495c8f3ecb66c7a3a0c5": {
      "model_module": "@jupyter-widgets/controls",
      "model_module_version": "1.5.0",
      "model_name": "HTMLModel",
      "state": {
       "layout": "IPY_MODEL_0e8e1296ab1747df9e7aafbc324a29df",
       "style": "IPY_MODEL_e36629555ff54d919c5847b81465d17a",
       "value": "Validation DataLoader 0: 100%"
      }
     },
     "9a28cfc2ae684d239d1559e52e6e272c": {
      "model_module": "@jupyter-widgets/controls",
      "model_module_version": "1.5.0",
      "model_name": "DescriptionStyleModel",
      "state": {
       "description_width": ""
      }
     },
     "9a50d76357a64ac9a636c6003a70efae": {
      "model_module": "@jupyter-widgets/base",
      "model_module_version": "1.2.0",
      "model_name": "LayoutModel",
      "state": {
       "display": "inline-flex",
       "flex_flow": "row wrap",
       "width": "100%"
      }
     },
     "9a5198c5186d419fa51f3eac03d434a0": {
      "model_module": "@jupyter-widgets/base",
      "model_module_version": "1.2.0",
      "model_name": "LayoutModel",
      "state": {}
     },
     "9a563f87d99642babde7d1be6276e230": {
      "model_module": "@jupyter-widgets/controls",
      "model_module_version": "1.5.0",
      "model_name": "DescriptionStyleModel",
      "state": {
       "description_width": ""
      }
     },
     "9a5df563968d4655a9fd94fad6e4eb2b": {
      "model_module": "@jupyter-widgets/base",
      "model_module_version": "1.2.0",
      "model_name": "LayoutModel",
      "state": {
       "flex": "2"
      }
     },
     "9a651da9f10545e681395d57a3aac2b0": {
      "model_module": "@jupyter-widgets/base",
      "model_module_version": "1.2.0",
      "model_name": "LayoutModel",
      "state": {}
     },
     "9a7174a0a85e4c0aa5c1fc8c65316557": {
      "model_module": "@jupyter-widgets/controls",
      "model_module_version": "1.5.0",
      "model_name": "DescriptionStyleModel",
      "state": {
       "description_width": ""
      }
     },
     "9a75c713d1064a2fb62f8f25df37fdbb": {
      "model_module": "@jupyter-widgets/base",
      "model_module_version": "1.2.0",
      "model_name": "LayoutModel",
      "state": {}
     },
     "9a8c7388cf004c0e96f28a98de280c3b": {
      "model_module": "@jupyter-widgets/controls",
      "model_module_version": "1.5.0",
      "model_name": "FloatProgressModel",
      "state": {
       "layout": "IPY_MODEL_ddb7324d842a4cd48c1e955f28c2f4c8",
       "max": 16,
       "style": "IPY_MODEL_2857c84fb51d427a85fda64ec6226523",
       "value": 16
      }
     },
     "9a9c58ad1e074fa1b39171437aba6f82": {
      "model_module": "@jupyter-widgets/controls",
      "model_module_version": "1.5.0",
      "model_name": "HTMLModel",
      "state": {
       "layout": "IPY_MODEL_ffd723e04df742b1a7a0a6b5e4e4359b",
       "style": "IPY_MODEL_379f8a5fd19844d1bca0c407b26a4133",
       "value": " 15/77 [00:01&lt;00:06,  9.42it/s, loss=0.0615, v_num=H-57]"
      }
     },
     "9ab203fdbcd0406491dfc345a8931601": {
      "model_module": "@jupyter-widgets/controls",
      "model_module_version": "1.5.0",
      "model_name": "FloatProgressModel",
      "state": {
       "layout": "IPY_MODEL_585075e5e9234afb82a5848ca854bf3e",
       "max": 16,
       "style": "IPY_MODEL_390d1ba1d11c4874aaa0b296e5e90eb8",
       "value": 16
      }
     },
     "9afb9ff603c3453d841b0611e9669e26": {
      "model_module": "@jupyter-widgets/controls",
      "model_module_version": "1.5.0",
      "model_name": "DescriptionStyleModel",
      "state": {
       "description_width": ""
      }
     },
     "9b0312c97bc943398c2af0326186abc1": {
      "model_module": "@jupyter-widgets/base",
      "model_module_version": "1.2.0",
      "model_name": "LayoutModel",
      "state": {
       "display": "inline-flex",
       "flex_flow": "row wrap",
       "width": "100%"
      }
     },
     "9b05c8522af74de8bab044f84016621e": {
      "model_module": "@jupyter-widgets/base",
      "model_module_version": "1.2.0",
      "model_name": "LayoutModel",
      "state": {}
     },
     "9b0e6a39b04a496098dcf54e489a934d": {
      "model_module": "@jupyter-widgets/controls",
      "model_module_version": "1.5.0",
      "model_name": "HTMLModel",
      "state": {
       "layout": "IPY_MODEL_7bba505f4c364e5dbcb7a0ae058b858b",
       "style": "IPY_MODEL_a37e3c0a25fc4e39bcb5300387bbad50",
       "value": " 16/16 [00:00&lt;00:00, 20.71it/s]"
      }
     },
     "9b3fe479baef4ade8a01649bc1123f76": {
      "model_module": "@jupyter-widgets/controls",
      "model_module_version": "1.5.0",
      "model_name": "ProgressStyleModel",
      "state": {
       "description_width": ""
      }
     },
     "9b53569207904cdc9f971a58fbe125eb": {
      "model_module": "@jupyter-widgets/controls",
      "model_module_version": "1.5.0",
      "model_name": "HTMLModel",
      "state": {
       "layout": "IPY_MODEL_fb089e164234432288a8498fa94ffbb1",
       "style": "IPY_MODEL_5f6cf7aa1ef841178e06b44c8c7f1995",
       "value": "Validation DataLoader 0: 100%"
      }
     },
     "9b6cb326b0f34cdd879642534665367a": {
      "model_module": "@jupyter-widgets/controls",
      "model_module_version": "1.5.0",
      "model_name": "DescriptionStyleModel",
      "state": {
       "description_width": ""
      }
     },
     "9b73e4e0ae794af5bd7e4280f4eb9371": {
      "model_module": "@jupyter-widgets/controls",
      "model_module_version": "1.5.0",
      "model_name": "DescriptionStyleModel",
      "state": {
       "description_width": ""
      }
     },
     "9b90f2c9c03847b0b52bdd28f2120563": {
      "model_module": "@jupyter-widgets/base",
      "model_module_version": "1.2.0",
      "model_name": "LayoutModel",
      "state": {
       "display": "inline-flex",
       "flex_flow": "row wrap",
       "width": "100%"
      }
     },
     "9b95ecab8e614b45b527bb73bb408c39": {
      "model_module": "@jupyter-widgets/controls",
      "model_module_version": "1.5.0",
      "model_name": "DescriptionStyleModel",
      "state": {
       "description_width": ""
      }
     },
     "9bc5ffc29e284f7b9c68a42219a9811c": {
      "model_module": "@jupyter-widgets/controls",
      "model_module_version": "1.5.0",
      "model_name": "FloatProgressModel",
      "state": {
       "layout": "IPY_MODEL_0185ec29cf854603b6abbec6303e9e05",
       "max": 16,
       "style": "IPY_MODEL_c110b09261834a85afadbfacb9e53df8",
       "value": 16
      }
     },
     "9bdbbb78b91e485bb5debb4ead8ac4cc": {
      "model_module": "@jupyter-widgets/controls",
      "model_module_version": "1.5.0",
      "model_name": "HTMLModel",
      "state": {
       "layout": "IPY_MODEL_8ea5e1c7f6f54663bb8edb8045b5903e",
       "style": "IPY_MODEL_6bf0e508a4bb4121a6138b335762226a",
       "value": "Sanity Checking DataLoader 0: 100%"
      }
     },
     "9be3f4cd778c47e99e502de8dd1fb394": {
      "model_module": "@jupyter-widgets/base",
      "model_module_version": "1.2.0",
      "model_name": "LayoutModel",
      "state": {
       "display": "inline-flex",
       "flex_flow": "row wrap",
       "width": "100%"
      }
     },
     "9c168708cefb4bbd8478688c198567e7": {
      "model_module": "@jupyter-widgets/base",
      "model_module_version": "1.2.0",
      "model_name": "LayoutModel",
      "state": {
       "display": "inline-flex",
       "flex_flow": "row wrap",
       "width": "100%"
      }
     },
     "9c2ac73eccfd468bb4d39299ebec9ff0": {
      "model_module": "@jupyter-widgets/controls",
      "model_module_version": "1.5.0",
      "model_name": "HBoxModel",
      "state": {
       "children": [
        "IPY_MODEL_390efbd7559e4bee8e644416529de208",
        "IPY_MODEL_449a7c0637bc401284a99cc03c116248",
        "IPY_MODEL_6b2b760c739048c8a654aca932ef4b38"
       ],
       "layout": "IPY_MODEL_00c36250367b428ca1b357fcaca97eb9"
      }
     },
     "9c4bf94dbb2a4131a18dddfdc6a1dff0": {
      "model_module": "@jupyter-widgets/base",
      "model_module_version": "1.2.0",
      "model_name": "LayoutModel",
      "state": {
       "display": "inline-flex",
       "flex_flow": "row wrap",
       "width": "100%"
      }
     },
     "9c66355024a047f4b92140fa58fba1b7": {
      "model_module": "@jupyter-widgets/base",
      "model_module_version": "1.2.0",
      "model_name": "LayoutModel",
      "state": {}
     },
     "9c72c21fa3ee48ea8fe0ae655f770e59": {
      "model_module": "@jupyter-widgets/controls",
      "model_module_version": "1.5.0",
      "model_name": "DescriptionStyleModel",
      "state": {
       "description_width": ""
      }
     },
     "9c924309f30048c1be96904a93688dd9": {
      "model_module": "@jupyter-widgets/base",
      "model_module_version": "1.2.0",
      "model_name": "LayoutModel",
      "state": {}
     },
     "9c940f6d5ab54e5aa5c5fc50b7609267": {
      "model_module": "@jupyter-widgets/controls",
      "model_module_version": "1.5.0",
      "model_name": "HTMLModel",
      "state": {
       "layout": "IPY_MODEL_c8ac693ca5d44220b2385d3f9992d62b",
       "style": "IPY_MODEL_956cd58203634d87ae5ee65403bcb5cc",
       "value": "Validation DataLoader 0: 100%"
      }
     },
     "9ca6081bf1a34224aa452c80d2dce8b1": {
      "model_module": "@jupyter-widgets/controls",
      "model_module_version": "1.5.0",
      "model_name": "HTMLModel",
      "state": {
       "layout": "IPY_MODEL_bcae8bcd234042f09ab42d009def35b6",
       "style": "IPY_MODEL_6a9928d39ff94a65b62b96c2835b994b",
       "value": "Validation DataLoader 0: 100%"
      }
     },
     "9cc3fdd8a9ae47b09ab94a360e3089f9": {
      "model_module": "@jupyter-widgets/controls",
      "model_module_version": "1.5.0",
      "model_name": "FloatProgressModel",
      "state": {
       "layout": "IPY_MODEL_fdada6790a8d45f38da876b2de65b602",
       "max": 16,
       "style": "IPY_MODEL_74eb615f673848e19916a1e56f26e226",
       "value": 16
      }
     },
     "9ccd9d6b66c44dfa953aee921ad51fe1": {
      "model_module": "@jupyter-widgets/controls",
      "model_module_version": "1.5.0",
      "model_name": "DescriptionStyleModel",
      "state": {
       "description_width": ""
      }
     },
     "9cce03b3761741cd92f437660970bab8": {
      "model_module": "@jupyter-widgets/controls",
      "model_module_version": "1.5.0",
      "model_name": "DescriptionStyleModel",
      "state": {
       "description_width": ""
      }
     },
     "9cd5979c816a4646b7587828a72c140a": {
      "model_module": "@jupyter-widgets/base",
      "model_module_version": "1.2.0",
      "model_name": "LayoutModel",
      "state": {
       "display": "inline-flex",
       "flex_flow": "row wrap",
       "width": "100%"
      }
     },
     "9ce723bc692e4842b5b436fd0b592a8e": {
      "model_module": "@jupyter-widgets/controls",
      "model_module_version": "1.5.0",
      "model_name": "ProgressStyleModel",
      "state": {
       "description_width": ""
      }
     },
     "9ce99b2b4b634acc9334dd15212b53d8": {
      "model_module": "@jupyter-widgets/base",
      "model_module_version": "1.2.0",
      "model_name": "LayoutModel",
      "state": {}
     },
     "9cf4453677614897aa0af25c11480f15": {
      "model_module": "@jupyter-widgets/base",
      "model_module_version": "1.2.0",
      "model_name": "LayoutModel",
      "state": {
       "flex": "2"
      }
     },
     "9d1c2bf087764811980e13109bce30dc": {
      "model_module": "@jupyter-widgets/controls",
      "model_module_version": "1.5.0",
      "model_name": "HTMLModel",
      "state": {
       "layout": "IPY_MODEL_6b7a1f00b3ff4aa9b4a427984955158c",
       "style": "IPY_MODEL_5b92c80edf814ce2afafc9f7549cbde1",
       "value": " 42/77 [00:05&lt;00:04,  8.32it/s, loss=0.0532, v_num=H-65]"
      }
     },
     "9d4887d764074d97aacae53099397a8c": {
      "model_module": "@jupyter-widgets/base",
      "model_module_version": "1.2.0",
      "model_name": "LayoutModel",
      "state": {}
     },
     "9d5b50d3cf2a4e5496eb7f5468238540": {
      "model_module": "@jupyter-widgets/controls",
      "model_module_version": "1.5.0",
      "model_name": "DescriptionStyleModel",
      "state": {
       "description_width": ""
      }
     },
     "9d6d8163f0de4471959983ef331cae2e": {
      "model_module": "@jupyter-widgets/controls",
      "model_module_version": "1.5.0",
      "model_name": "ProgressStyleModel",
      "state": {
       "description_width": ""
      }
     },
     "9d83cdbb396242e782c0e9b4428e9177": {
      "model_module": "@jupyter-widgets/controls",
      "model_module_version": "1.5.0",
      "model_name": "DescriptionStyleModel",
      "state": {
       "description_width": ""
      }
     },
     "9d8c751d0ea846eabecaf2951cd5bddd": {
      "model_module": "@jupyter-widgets/base",
      "model_module_version": "1.2.0",
      "model_name": "LayoutModel",
      "state": {}
     },
     "9da1d031e0ca41a39c5ce3bc7a708cc4": {
      "model_module": "@jupyter-widgets/controls",
      "model_module_version": "1.5.0",
      "model_name": "ProgressStyleModel",
      "state": {
       "description_width": ""
      }
     },
     "9db866972bed4daba96c74b18f906255": {
      "model_module": "@jupyter-widgets/base",
      "model_module_version": "1.2.0",
      "model_name": "LayoutModel",
      "state": {}
     },
     "9dbe1829a2cc44dc866c7f1037501450": {
      "model_module": "@jupyter-widgets/base",
      "model_module_version": "1.2.0",
      "model_name": "LayoutModel",
      "state": {}
     },
     "9dd83e70739f4836b14726ff7200c92d": {
      "model_module": "@jupyter-widgets/base",
      "model_module_version": "1.2.0",
      "model_name": "LayoutModel",
      "state": {
       "flex": "2"
      }
     },
     "9dd9e9472893427493b973153962e87a": {
      "model_module": "@jupyter-widgets/base",
      "model_module_version": "1.2.0",
      "model_name": "LayoutModel",
      "state": {
       "flex": "2"
      }
     },
     "9de93f2128254a99ba3cdc41031e7358": {
      "model_module": "@jupyter-widgets/controls",
      "model_module_version": "1.5.0",
      "model_name": "ProgressStyleModel",
      "state": {
       "description_width": ""
      }
     },
     "9dea4cedbf1c49d8b1135da2f6ebce8b": {
      "model_module": "@jupyter-widgets/controls",
      "model_module_version": "1.5.0",
      "model_name": "FloatProgressModel",
      "state": {
       "layout": "IPY_MODEL_524b42f67bda41b7b85d2cf08adee542",
       "max": 16,
       "style": "IPY_MODEL_be9e85e523b244b4b9bcebf1a6305ffd",
       "value": 16
      }
     },
     "9ded8506ca6c460dbb071b5bd0b01578": {
      "model_module": "@jupyter-widgets/base",
      "model_module_version": "1.2.0",
      "model_name": "LayoutModel",
      "state": {}
     },
     "9dee5db7990c493bbd65ba5ec2d8fb7f": {
      "model_module": "@jupyter-widgets/base",
      "model_module_version": "1.2.0",
      "model_name": "LayoutModel",
      "state": {
       "display": "inline-flex",
       "flex_flow": "row wrap",
       "width": "100%"
      }
     },
     "9dfa73ba87d24d8e81bfd32096c8bee9": {
      "model_module": "@jupyter-widgets/controls",
      "model_module_version": "1.5.0",
      "model_name": "DescriptionStyleModel",
      "state": {
       "description_width": ""
      }
     },
     "9e107b5117fe4b0b9fd734694929f14a": {
      "model_module": "@jupyter-widgets/controls",
      "model_module_version": "1.5.0",
      "model_name": "ProgressStyleModel",
      "state": {
       "description_width": ""
      }
     },
     "9e22ba900b914030b91cb6331d460d1f": {
      "model_module": "@jupyter-widgets/controls",
      "model_module_version": "1.5.0",
      "model_name": "FloatProgressModel",
      "state": {
       "layout": "IPY_MODEL_67a11f2257e24a0aa5a8a3cf17ec4d4c",
       "max": 16,
       "style": "IPY_MODEL_941eaa0973d847259270b47b8abe599c",
       "value": 16
      }
     },
     "9e3c7fc507ff4b2ab7f3a170c04a0fcf": {
      "model_module": "@jupyter-widgets/controls",
      "model_module_version": "1.5.0",
      "model_name": "HTMLModel",
      "state": {
       "layout": "IPY_MODEL_7f12a6bb2b51415cac2425d125757aae",
       "style": "IPY_MODEL_f20e1aa3c16049bfb484df3d1fc97979",
       "value": " 16/16 [00:04&lt;00:00,  3.66it/s]"
      }
     },
     "9e6f2e1906fa4d9099135e3e5ad23986": {
      "model_module": "@jupyter-widgets/controls",
      "model_module_version": "1.5.0",
      "model_name": "FloatProgressModel",
      "state": {
       "bar_style": "success",
       "layout": "IPY_MODEL_5948934313ca40b0b522341fe7856742",
       "max": 77,
       "style": "IPY_MODEL_dae14b5acec443ef87342d4ee4cec3c1",
       "value": 77
      }
     },
     "9e701874244549e38d9f03ffe6fb4377": {
      "model_module": "@jupyter-widgets/controls",
      "model_module_version": "1.5.0",
      "model_name": "FloatProgressModel",
      "state": {
       "layout": "IPY_MODEL_081c4dc07a184cc1a8ee29a5f0ca16e2",
       "max": 16,
       "style": "IPY_MODEL_77a1bde2835642e69a05515af39aedce",
       "value": 16
      }
     },
     "9e70ff45a4c140149e7ccc1bc40d29fc": {
      "model_module": "@jupyter-widgets/controls",
      "model_module_version": "1.5.0",
      "model_name": "FloatProgressModel",
      "state": {
       "layout": "IPY_MODEL_a14a8b9f9c104c49ac2c1c2aa0c5fbef",
       "max": 2,
       "style": "IPY_MODEL_ecaef918695e4e58bfe063b244a69ed6",
       "value": 2
      }
     },
     "9e836615850442dda0c31411955892e5": {
      "model_module": "@jupyter-widgets/base",
      "model_module_version": "1.2.0",
      "model_name": "LayoutModel",
      "state": {}
     },
     "9e845d3f226449dda0136dd85af1e8cf": {
      "model_module": "@jupyter-widgets/controls",
      "model_module_version": "1.5.0",
      "model_name": "DescriptionStyleModel",
      "state": {
       "description_width": ""
      }
     },
     "9e90dd4f3e9e459783af7d3249d8ef7b": {
      "model_module": "@jupyter-widgets/controls",
      "model_module_version": "1.5.0",
      "model_name": "FloatProgressModel",
      "state": {
       "layout": "IPY_MODEL_81f774997fb040328d6a6359eaea1f39",
       "max": 16,
       "style": "IPY_MODEL_7efdf1d4790146809ca08d39e9fb31b0",
       "value": 16
      }
     },
     "9ea2e63e031e44fbb947232e2655d3e1": {
      "model_module": "@jupyter-widgets/controls",
      "model_module_version": "1.5.0",
      "model_name": "DescriptionStyleModel",
      "state": {
       "description_width": ""
      }
     },
     "9ec7f5df5af243feb541583b4d67a315": {
      "model_module": "@jupyter-widgets/controls",
      "model_module_version": "1.5.0",
      "model_name": "ProgressStyleModel",
      "state": {
       "description_width": ""
      }
     },
     "9ed82599326140f6bfb12c7c39bec3b9": {
      "model_module": "@jupyter-widgets/controls",
      "model_module_version": "1.5.0",
      "model_name": "DescriptionStyleModel",
      "state": {
       "description_width": ""
      }
     },
     "9edbe24220894a23b3e3ecada12acc1d": {
      "model_module": "@jupyter-widgets/controls",
      "model_module_version": "1.5.0",
      "model_name": "ProgressStyleModel",
      "state": {
       "description_width": ""
      }
     },
     "9edf6cc41dc84031892a8e73c4ec8b4e": {
      "model_module": "@jupyter-widgets/base",
      "model_module_version": "1.2.0",
      "model_name": "LayoutModel",
      "state": {}
     },
     "9ee70b0ab27c45b5b1a284cdf124014c": {
      "model_module": "@jupyter-widgets/controls",
      "model_module_version": "1.5.0",
      "model_name": "FloatProgressModel",
      "state": {
       "layout": "IPY_MODEL_0c74a39db82545ecbd5c67a37692e7cd",
       "max": 16,
       "style": "IPY_MODEL_559ff32dedea4a32b594aadbf0c6851d",
       "value": 16
      }
     },
     "9eecd6b2d22940269dc8e6dd76761d4e": {
      "model_module": "@jupyter-widgets/base",
      "model_module_version": "1.2.0",
      "model_name": "LayoutModel",
      "state": {}
     },
     "9f0d5b6d0f4248e7a12f5ed1624d24a6": {
      "model_module": "@jupyter-widgets/controls",
      "model_module_version": "1.5.0",
      "model_name": "FloatProgressModel",
      "state": {
       "layout": "IPY_MODEL_8eeafab9cfb640c68e72bbfae7e53f92",
       "max": 16,
       "style": "IPY_MODEL_1dc55b530877497a85319a73f2221c69",
       "value": 16
      }
     },
     "9f155686ef034fc880627a00f49a38c0": {
      "model_module": "@jupyter-widgets/base",
      "model_module_version": "1.2.0",
      "model_name": "LayoutModel",
      "state": {}
     },
     "9f16fabb56b84ca390d212f48b513772": {
      "model_module": "@jupyter-widgets/controls",
      "model_module_version": "1.5.0",
      "model_name": "ProgressStyleModel",
      "state": {
       "description_width": ""
      }
     },
     "9f40a6856fe24466a212f8490ffffaee": {
      "model_module": "@jupyter-widgets/controls",
      "model_module_version": "1.5.0",
      "model_name": "HTMLModel",
      "state": {
       "layout": "IPY_MODEL_0c45601d552043b28d3e98967f416880",
       "style": "IPY_MODEL_379bc5781a8d45b789a55a35242c4ca6",
       "value": " 16/16 [00:00&lt;00:00, 21.91it/s]"
      }
     },
     "9f5586c9c85f48caa662ba153903717a": {
      "model_module": "@jupyter-widgets/base",
      "model_module_version": "1.2.0",
      "model_name": "LayoutModel",
      "state": {
       "display": "inline-flex",
       "flex_flow": "row wrap",
       "width": "100%"
      }
     },
     "9f7323ac8f0345149156e346865e8d4d": {
      "model_module": "@jupyter-widgets/base",
      "model_module_version": "1.2.0",
      "model_name": "LayoutModel",
      "state": {}
     },
     "9f84ef443336497f8ce2d3a9449d3f76": {
      "model_module": "@jupyter-widgets/base",
      "model_module_version": "1.2.0",
      "model_name": "LayoutModel",
      "state": {}
     },
     "9fb43cb7ca2d4367b8a32d3f48bd2fcc": {
      "model_module": "@jupyter-widgets/controls",
      "model_module_version": "1.5.0",
      "model_name": "HTMLModel",
      "state": {
       "layout": "IPY_MODEL_ac39c71eedfb42d1b3488eca00bf828a",
       "style": "IPY_MODEL_d7b3dcecaae44b1288a85b7481c2163e",
       "value": " 16/16 [00:00&lt;00:00, 19.48it/s]"
      }
     },
     "9fbfe2b17d8b45018188f1769cd3ae34": {
      "model_module": "@jupyter-widgets/controls",
      "model_module_version": "1.5.0",
      "model_name": "FloatProgressModel",
      "state": {
       "layout": "IPY_MODEL_dd0cc0513fc7499ba96edc347c319fde",
       "max": 16,
       "style": "IPY_MODEL_59a878f62e7144c2be41ddbc996253e2",
       "value": 16
      }
     },
     "9fea95fcc9df4600afdde9b87ac2c5d5": {
      "model_module": "@jupyter-widgets/controls",
      "model_module_version": "1.5.0",
      "model_name": "DescriptionStyleModel",
      "state": {
       "description_width": ""
      }
     },
     "a00b76ea16454d87b52a7522c5d9b33e": {
      "model_module": "@jupyter-widgets/base",
      "model_module_version": "1.2.0",
      "model_name": "LayoutModel",
      "state": {}
     },
     "a012bac01c024c1286389816ebeaa70a": {
      "model_module": "@jupyter-widgets/controls",
      "model_module_version": "1.5.0",
      "model_name": "ProgressStyleModel",
      "state": {
       "description_width": ""
      }
     },
     "a032fb2f6b1f4eefb16d56b3392efe51": {
      "model_module": "@jupyter-widgets/base",
      "model_module_version": "1.2.0",
      "model_name": "LayoutModel",
      "state": {
       "display": "inline-flex",
       "flex_flow": "row wrap",
       "width": "100%"
      }
     },
     "a05603f2ab344c59930d16558fb48c85": {
      "model_module": "@jupyter-widgets/base",
      "model_module_version": "1.2.0",
      "model_name": "LayoutModel",
      "state": {}
     },
     "a05f9c92c6984e3095124fdcd3170177": {
      "model_module": "@jupyter-widgets/controls",
      "model_module_version": "1.5.0",
      "model_name": "DescriptionStyleModel",
      "state": {
       "description_width": ""
      }
     },
     "a065a24998c345ad8de3f9291393dfa8": {
      "model_module": "@jupyter-widgets/controls",
      "model_module_version": "1.5.0",
      "model_name": "DescriptionStyleModel",
      "state": {
       "description_width": ""
      }
     },
     "a06e670e5cf5406aa3a0acd151fc5c39": {
      "model_module": "@jupyter-widgets/controls",
      "model_module_version": "1.5.0",
      "model_name": "DescriptionStyleModel",
      "state": {
       "description_width": ""
      }
     },
     "a080c9190c0c4c64b323682a3f384637": {
      "model_module": "@jupyter-widgets/controls",
      "model_module_version": "1.5.0",
      "model_name": "FloatProgressModel",
      "state": {
       "layout": "IPY_MODEL_bd75c65598d74cbca1c202898249e538",
       "max": 16,
       "style": "IPY_MODEL_1072a5334cd047598b6f58b65057aaac",
       "value": 16
      }
     },
     "a0853d18689b40c2927b5e4d76351721": {
      "model_module": "@jupyter-widgets/controls",
      "model_module_version": "1.5.0",
      "model_name": "DescriptionStyleModel",
      "state": {
       "description_width": ""
      }
     },
     "a08a02734ebe43378d30de246f05761a": {
      "model_module": "@jupyter-widgets/controls",
      "model_module_version": "1.5.0",
      "model_name": "HTMLModel",
      "state": {
       "layout": "IPY_MODEL_c85ace3f3f624734b4c01393069da217",
       "style": "IPY_MODEL_398c26e928f1475b95a4aefe7760d5b1",
       "value": " 16/16 [00:08&lt;00:00,  2.63it/s]"
      }
     },
     "a093792501894d9cb9010c977ce2cd8f": {
      "model_module": "@jupyter-widgets/controls",
      "model_module_version": "1.5.0",
      "model_name": "FloatProgressModel",
      "state": {
       "layout": "IPY_MODEL_b929f7fef05e43ee87a664738b715587",
       "max": 16,
       "style": "IPY_MODEL_2781813d8a92447b833800189cb02a65",
       "value": 16
      }
     },
     "a0bb33732ea24f4db13957745c2e17f9": {
      "model_module": "@jupyter-widgets/controls",
      "model_module_version": "1.5.0",
      "model_name": "ProgressStyleModel",
      "state": {
       "description_width": ""
      }
     },
     "a0eba6e6a7424345bc72af3a054a21f9": {
      "model_module": "@jupyter-widgets/controls",
      "model_module_version": "1.5.0",
      "model_name": "FloatProgressModel",
      "state": {
       "layout": "IPY_MODEL_45a71ad7e0d04f3ab31f403c4af57042",
       "max": 16,
       "style": "IPY_MODEL_23cc826bd10348768d5d4f4bc5ce31e7",
       "value": 16
      }
     },
     "a0ed69d05df94f6db0be963bb9d83e20": {
      "model_module": "@jupyter-widgets/base",
      "model_module_version": "1.2.0",
      "model_name": "LayoutModel",
      "state": {
       "flex": "2"
      }
     },
     "a0eef0e7a7444995bed3df385822ee60": {
      "model_module": "@jupyter-widgets/controls",
      "model_module_version": "1.5.0",
      "model_name": "HBoxModel",
      "state": {
       "children": [
        "IPY_MODEL_f54ebd1e4c2c4b44b038f36287c1dbf3",
        "IPY_MODEL_3327ee59ee744081a08a2460ef082911",
        "IPY_MODEL_30ecd2e2beb54629a84747976900119e"
       ],
       "layout": "IPY_MODEL_83d7becec9f64a4a81b3c8008b68ce78"
      }
     },
     "a0f15e4d3bf94b8cb33eb0ddfd6dd678": {
      "model_module": "@jupyter-widgets/base",
      "model_module_version": "1.2.0",
      "model_name": "LayoutModel",
      "state": {}
     },
     "a0fb303286724e32a3ba3e72baab1ff3": {
      "model_module": "@jupyter-widgets/base",
      "model_module_version": "1.2.0",
      "model_name": "LayoutModel",
      "state": {}
     },
     "a11c1ce200d94578acca63a659b59549": {
      "model_module": "@jupyter-widgets/base",
      "model_module_version": "1.2.0",
      "model_name": "LayoutModel",
      "state": {
       "display": "inline-flex",
       "flex_flow": "row wrap",
       "width": "100%"
      }
     },
     "a134706b084f432c9dca9593c61d620f": {
      "model_module": "@jupyter-widgets/controls",
      "model_module_version": "1.5.0",
      "model_name": "ProgressStyleModel",
      "state": {
       "description_width": ""
      }
     },
     "a13a2cdd9bb142919dd047846b126ee3": {
      "model_module": "@jupyter-widgets/controls",
      "model_module_version": "1.5.0",
      "model_name": "HTMLModel",
      "state": {
       "layout": "IPY_MODEL_6bda7b1749db43db89f86b69c0965eae",
       "style": "IPY_MODEL_7e74eb2b346545e3a2ac2a3a924dfc20",
       "value": " 16/16 [00:00&lt;00:00, 20.43it/s]"
      }
     },
     "a14570e043ce4c3f80b0cb8e4dd6bb02": {
      "model_module": "@jupyter-widgets/base",
      "model_module_version": "1.2.0",
      "model_name": "LayoutModel",
      "state": {
       "flex": "2"
      }
     },
     "a148f520bdb84f518842563a47b06aa3": {
      "model_module": "@jupyter-widgets/controls",
      "model_module_version": "1.5.0",
      "model_name": "DescriptionStyleModel",
      "state": {
       "description_width": ""
      }
     },
     "a14a8b9f9c104c49ac2c1c2aa0c5fbef": {
      "model_module": "@jupyter-widgets/base",
      "model_module_version": "1.2.0",
      "model_name": "LayoutModel",
      "state": {
       "flex": "2"
      }
     },
     "a171ce26914f406cb44326d9e5d5370a": {
      "model_module": "@jupyter-widgets/base",
      "model_module_version": "1.2.0",
      "model_name": "LayoutModel",
      "state": {
       "flex": "2"
      }
     },
     "a1820d25d8d34b08a3200ad9600d6235": {
      "model_module": "@jupyter-widgets/controls",
      "model_module_version": "1.5.0",
      "model_name": "DescriptionStyleModel",
      "state": {
       "description_width": ""
      }
     },
     "a19bfea78973486ca28861d253af540c": {
      "model_module": "@jupyter-widgets/controls",
      "model_module_version": "1.5.0",
      "model_name": "HTMLModel",
      "state": {
       "layout": "IPY_MODEL_68fc475c7f3141129a100c6ca0f10de8",
       "style": "IPY_MODEL_607a2369b5004db3b0408c529f04f7bc",
       "value": " 16/16 [00:04&lt;00:00,  3.41it/s]"
      }
     },
     "a1bfaa8e6788465a9ed7b4e88a1bc234": {
      "model_module": "@jupyter-widgets/base",
      "model_module_version": "1.2.0",
      "model_name": "LayoutModel",
      "state": {
       "flex": "2"
      }
     },
     "a1c38182fb6a4220b14f304e3e5d1f80": {
      "model_module": "@jupyter-widgets/controls",
      "model_module_version": "1.5.0",
      "model_name": "ProgressStyleModel",
      "state": {
       "description_width": ""
      }
     },
     "a1f8062cc431440b9bd83da6fa452d0f": {
      "model_module": "@jupyter-widgets/base",
      "model_module_version": "1.2.0",
      "model_name": "LayoutModel",
      "state": {
       "flex": "2"
      }
     },
     "a1fe34be3ab34eaea963b86423b95928": {
      "model_module": "@jupyter-widgets/base",
      "model_module_version": "1.2.0",
      "model_name": "LayoutModel",
      "state": {
       "flex": "2"
      }
     },
     "a1ffebb1df3e44e6b17b953afa56ce35": {
      "model_module": "@jupyter-widgets/controls",
      "model_module_version": "1.5.0",
      "model_name": "ProgressStyleModel",
      "state": {
       "description_width": ""
      }
     },
     "a20909b8774a41f7a39f021496c3137c": {
      "model_module": "@jupyter-widgets/controls",
      "model_module_version": "1.5.0",
      "model_name": "FloatProgressModel",
      "state": {
       "layout": "IPY_MODEL_95699db37f504c4c85beb73dc50d2ddb",
       "max": 16,
       "style": "IPY_MODEL_9531a1c6d6a04305b6dd86f96a454205",
       "value": 16
      }
     },
     "a22e34db22fe486e912246a25f5c6dde": {
      "model_module": "@jupyter-widgets/controls",
      "model_module_version": "1.5.0",
      "model_name": "HTMLModel",
      "state": {
       "layout": "IPY_MODEL_935d41ab439740cabbc4c59551fdb7f7",
       "style": "IPY_MODEL_43c58123843e4286b74d44e102d2795d",
       "value": "Validation DataLoader 0: 100%"
      }
     },
     "a239d1a964124f15b9da83e695b20d21": {
      "model_module": "@jupyter-widgets/controls",
      "model_module_version": "1.5.0",
      "model_name": "HTMLModel",
      "state": {
       "layout": "IPY_MODEL_cfc21ab5925e4b9fab9367ef10885885",
       "style": "IPY_MODEL_fc21c65cdb054ed98090e964b4642c5c",
       "value": "Validation DataLoader 0: 100%"
      }
     },
     "a24cedd7ecb54a6390c152a76f51458d": {
      "model_module": "@jupyter-widgets/base",
      "model_module_version": "1.2.0",
      "model_name": "LayoutModel",
      "state": {
       "flex": "2"
      }
     },
     "a25ff9c60b1742839bd6b1faa0c2a67d": {
      "model_module": "@jupyter-widgets/base",
      "model_module_version": "1.2.0",
      "model_name": "LayoutModel",
      "state": {
       "flex": "2"
      }
     },
     "a26c0b6b432041ec9c78de7309e5d03b": {
      "model_module": "@jupyter-widgets/base",
      "model_module_version": "1.2.0",
      "model_name": "LayoutModel",
      "state": {
       "display": "inline-flex",
       "flex_flow": "row wrap",
       "width": "100%"
      }
     },
     "a27a224cb32b4c98a59cf0fbb78b5bc1": {
      "model_module": "@jupyter-widgets/controls",
      "model_module_version": "1.5.0",
      "model_name": "ProgressStyleModel",
      "state": {
       "description_width": ""
      }
     },
     "a28da86c483544c9a09905b194366a4e": {
      "model_module": "@jupyter-widgets/base",
      "model_module_version": "1.2.0",
      "model_name": "LayoutModel",
      "state": {}
     },
     "a29fec96ce4745d7a090b1f140d28898": {
      "model_module": "@jupyter-widgets/base",
      "model_module_version": "1.2.0",
      "model_name": "LayoutModel",
      "state": {}
     },
     "a2a2d48e5ac24416b33d71fd9109f2ac": {
      "model_module": "@jupyter-widgets/base",
      "model_module_version": "1.2.0",
      "model_name": "LayoutModel",
      "state": {}
     },
     "a2c4209852c64774ae20a7f22bb5a02e": {
      "model_module": "@jupyter-widgets/base",
      "model_module_version": "1.2.0",
      "model_name": "LayoutModel",
      "state": {
       "flex": "2"
      }
     },
     "a2c7da23a02a41828ef89f2ac94d7a5b": {
      "model_module": "@jupyter-widgets/controls",
      "model_module_version": "1.5.0",
      "model_name": "ProgressStyleModel",
      "state": {
       "description_width": ""
      }
     },
     "a2d09c189c154b4b8ec2a85c4d7dd5e0": {
      "model_module": "@jupyter-widgets/controls",
      "model_module_version": "1.5.0",
      "model_name": "FloatProgressModel",
      "state": {
       "layout": "IPY_MODEL_420c72f3b3574c2b8e3c67bb82bb646d",
       "max": 16,
       "style": "IPY_MODEL_8e7109b94980468794dd3e7a9915da04",
       "value": 16
      }
     },
     "a2dc8bc0a26d40df8fb49093a3b423b9": {
      "model_module": "@jupyter-widgets/base",
      "model_module_version": "1.2.0",
      "model_name": "LayoutModel",
      "state": {}
     },
     "a33afc0353774547a3633fc8bd41e938": {
      "model_module": "@jupyter-widgets/controls",
      "model_module_version": "1.5.0",
      "model_name": "DescriptionStyleModel",
      "state": {
       "description_width": ""
      }
     },
     "a34e323bca5b4bca9cb7473d64cf9d1f": {
      "model_module": "@jupyter-widgets/base",
      "model_module_version": "1.2.0",
      "model_name": "LayoutModel",
      "state": {}
     },
     "a37e3c0a25fc4e39bcb5300387bbad50": {
      "model_module": "@jupyter-widgets/controls",
      "model_module_version": "1.5.0",
      "model_name": "DescriptionStyleModel",
      "state": {
       "description_width": ""
      }
     },
     "a37fbe1de4e9410a8f6f98d8c9843004": {
      "model_module": "@jupyter-widgets/controls",
      "model_module_version": "1.5.0",
      "model_name": "FloatProgressModel",
      "state": {
       "layout": "IPY_MODEL_4146bd92588c4fdba602b9495b03bb64",
       "max": 16,
       "style": "IPY_MODEL_9313d9e206e546c3ab1fc7843a4635eb",
       "value": 16
      }
     },
     "a39744aa3c5e4d17b55c14e4b86213d4": {
      "model_module": "@jupyter-widgets/base",
      "model_module_version": "1.2.0",
      "model_name": "LayoutModel",
      "state": {
       "display": "inline-flex",
       "flex_flow": "row wrap",
       "width": "100%"
      }
     },
     "a398a4ada52f4a6992c5924f864ec421": {
      "model_module": "@jupyter-widgets/base",
      "model_module_version": "1.2.0",
      "model_name": "LayoutModel",
      "state": {}
     },
     "a39bff88205f426584d1a22a902eecf7": {
      "model_module": "@jupyter-widgets/base",
      "model_module_version": "1.2.0",
      "model_name": "LayoutModel",
      "state": {}
     },
     "a3ad04b24895432bafddc3ae2339c92b": {
      "model_module": "@jupyter-widgets/controls",
      "model_module_version": "1.5.0",
      "model_name": "DescriptionStyleModel",
      "state": {
       "description_width": ""
      }
     },
     "a3aefa3c140b4d938b448ed0d6145705": {
      "model_module": "@jupyter-widgets/base",
      "model_module_version": "1.2.0",
      "model_name": "LayoutModel",
      "state": {}
     },
     "a3b286e3f2234e88afeced437472e35f": {
      "model_module": "@jupyter-widgets/controls",
      "model_module_version": "1.5.0",
      "model_name": "FloatProgressModel",
      "state": {
       "layout": "IPY_MODEL_a54aa6630d554bdc9bdedd99a224090a",
       "max": 16,
       "style": "IPY_MODEL_c222098eb7494763bcc6371d134aa6f0",
       "value": 16
      }
     },
     "a3e28fb419674036b2a9c6745c411a63": {
      "model_module": "@jupyter-widgets/controls",
      "model_module_version": "1.5.0",
      "model_name": "DescriptionStyleModel",
      "state": {
       "description_width": ""
      }
     },
     "a3eaf06f1892457db9d22312d8cd693b": {
      "model_module": "@jupyter-widgets/controls",
      "model_module_version": "1.5.0",
      "model_name": "HTMLModel",
      "state": {
       "layout": "IPY_MODEL_691728f5968e4debb608fd77b8886076",
       "style": "IPY_MODEL_658553fd5e0c4804b7f11129620964aa",
       "value": " 16/16 [00:04&lt;00:00,  3.41it/s]"
      }
     },
     "a3eb9c7e4e1546dcbb9f2c7804adf84b": {
      "model_module": "@jupyter-widgets/controls",
      "model_module_version": "1.5.0",
      "model_name": "ProgressStyleModel",
      "state": {
       "description_width": ""
      }
     },
     "a3f3eae1ccb54fdba1bab0cb53df0f9f": {
      "model_module": "@jupyter-widgets/controls",
      "model_module_version": "1.5.0",
      "model_name": "HTMLModel",
      "state": {
       "layout": "IPY_MODEL_4d6c968e2e7c46a39410fd197324e993",
       "style": "IPY_MODEL_33ef3e1e1fd74b1dac8cd2e84c0e33d6",
       "value": "Epoch 0:  13%"
      }
     },
     "a3f4ee2b6d894467898adeadc60d0949": {
      "model_module": "@jupyter-widgets/base",
      "model_module_version": "1.2.0",
      "model_name": "LayoutModel",
      "state": {}
     },
     "a401650d4c694d16acd166e99f1e9600": {
      "model_module": "@jupyter-widgets/base",
      "model_module_version": "1.2.0",
      "model_name": "LayoutModel",
      "state": {}
     },
     "a46f449bfce9490d9e9a9cd537f22621": {
      "model_module": "@jupyter-widgets/controls",
      "model_module_version": "1.5.0",
      "model_name": "HBoxModel",
      "state": {
       "children": [
        "IPY_MODEL_59372a3123cc466584701f72bd27d029",
        "IPY_MODEL_a5db0bc0704b4615a3e879633ef25b41",
        "IPY_MODEL_d51aca7023514cbd804ab21e19c1fea1"
       ],
       "layout": "IPY_MODEL_55722e303b4d4ab781a468329f61ce84"
      }
     },
     "a486b50697074144a07dce1c6436afca": {
      "model_module": "@jupyter-widgets/controls",
      "model_module_version": "1.5.0",
      "model_name": "DescriptionStyleModel",
      "state": {
       "description_width": ""
      }
     },
     "a48c9fe00dd44ea09a15643f6f4367ba": {
      "model_module": "@jupyter-widgets/controls",
      "model_module_version": "1.5.0",
      "model_name": "HTMLModel",
      "state": {
       "layout": "IPY_MODEL_4cd82cef040f42f8a4a28ed10dbbd330",
       "style": "IPY_MODEL_52eb40d050cd4207bd63a7e2c1521063",
       "value": "Validation DataLoader 0: 100%"
      }
     },
     "a49fb871265d49f2a79680cea46e9f85": {
      "model_module": "@jupyter-widgets/controls",
      "model_module_version": "1.5.0",
      "model_name": "HTMLModel",
      "state": {
       "layout": "IPY_MODEL_3d24fcd750fd40c5b4d3da6941b21bc8",
       "style": "IPY_MODEL_221fc4d6b48a4fbcab1d28ea1b73319f",
       "value": " 16/16 [00:00&lt;00:00, 22.99it/s]"
      }
     },
     "a4d3c9656f474835b5c9eb33af9464c4": {
      "model_module": "@jupyter-widgets/controls",
      "model_module_version": "1.5.0",
      "model_name": "HTMLModel",
      "state": {
       "layout": "IPY_MODEL_4271834a650e409b9807dbff1f5646f4",
       "style": "IPY_MODEL_870a325ff5bc4083892800a13f727bf4",
       "value": "Validation DataLoader 0: 100%"
      }
     },
     "a50df607072047e38e8e07d796b290c7": {
      "model_module": "@jupyter-widgets/controls",
      "model_module_version": "1.5.0",
      "model_name": "DescriptionStyleModel",
      "state": {
       "description_width": ""
      }
     },
     "a51305e64b1940eeb44573f9a1dc4813": {
      "model_module": "@jupyter-widgets/base",
      "model_module_version": "1.2.0",
      "model_name": "LayoutModel",
      "state": {}
     },
     "a51659a72d4d487489b56a47a24093bd": {
      "model_module": "@jupyter-widgets/base",
      "model_module_version": "1.2.0",
      "model_name": "LayoutModel",
      "state": {
       "display": "inline-flex",
       "flex_flow": "row wrap",
       "width": "100%"
      }
     },
     "a54aa6630d554bdc9bdedd99a224090a": {
      "model_module": "@jupyter-widgets/base",
      "model_module_version": "1.2.0",
      "model_name": "LayoutModel",
      "state": {
       "flex": "2"
      }
     },
     "a55c3091b2104d918800efd0d75f4b05": {
      "model_module": "@jupyter-widgets/base",
      "model_module_version": "1.2.0",
      "model_name": "LayoutModel",
      "state": {}
     },
     "a5640c907db742e8ba0585fe93277ca2": {
      "model_module": "@jupyter-widgets/controls",
      "model_module_version": "1.5.0",
      "model_name": "HTMLModel",
      "state": {
       "layout": "IPY_MODEL_dfc4da39a7844ea0a9311ddca806aec3",
       "style": "IPY_MODEL_771edc61397d4668887cd02a09cc1434",
       "value": "Validation DataLoader 0: 100%"
      }
     },
     "a5803c7a7e7540cab70105cdf6e91c18": {
      "model_module": "@jupyter-widgets/controls",
      "model_module_version": "1.5.0",
      "model_name": "DescriptionStyleModel",
      "state": {
       "description_width": ""
      }
     },
     "a5893000a3464f658d9e17520456f192": {
      "model_module": "@jupyter-widgets/controls",
      "model_module_version": "1.5.0",
      "model_name": "FloatProgressModel",
      "state": {
       "layout": "IPY_MODEL_653e9e11ed964708ba1d4660b46d909a",
       "max": 16,
       "style": "IPY_MODEL_38c4ab417d264636b90f0d218963147f",
       "value": 16
      }
     },
     "a5a893be610e4b78a9b5882fb3cbee37": {
      "model_module": "@jupyter-widgets/controls",
      "model_module_version": "1.5.0",
      "model_name": "ProgressStyleModel",
      "state": {
       "description_width": ""
      }
     },
     "a5b001470f794384b6a9ef8cf44d0335": {
      "model_module": "@jupyter-widgets/controls",
      "model_module_version": "1.5.0",
      "model_name": "HTMLModel",
      "state": {
       "layout": "IPY_MODEL_a9767ec8931049cd8f045406ea82591e",
       "style": "IPY_MODEL_736d1d43acb740ec9fc2ca536509add8",
       "value": " 16/16 [00:00&lt;00:00, 22.36it/s]"
      }
     },
     "a5b17e6492ce4bb4b282032d4f0a74cd": {
      "model_module": "@jupyter-widgets/base",
      "model_module_version": "1.2.0",
      "model_name": "LayoutModel",
      "state": {
       "display": "inline-flex",
       "flex_flow": "row wrap",
       "width": "100%"
      }
     },
     "a5c72a0070bd418c9dfb51efdcb75c57": {
      "model_module": "@jupyter-widgets/controls",
      "model_module_version": "1.5.0",
      "model_name": "ProgressStyleModel",
      "state": {
       "description_width": ""
      }
     },
     "a5cc5d3a59944e898e21f69358a73a58": {
      "model_module": "@jupyter-widgets/controls",
      "model_module_version": "1.5.0",
      "model_name": "ProgressStyleModel",
      "state": {
       "description_width": ""
      }
     },
     "a5d74fd29242440885a8a743284e41f2": {
      "model_module": "@jupyter-widgets/controls",
      "model_module_version": "1.5.0",
      "model_name": "ProgressStyleModel",
      "state": {
       "description_width": ""
      }
     },
     "a5db0bc0704b4615a3e879633ef25b41": {
      "model_module": "@jupyter-widgets/controls",
      "model_module_version": "1.5.0",
      "model_name": "FloatProgressModel",
      "state": {
       "layout": "IPY_MODEL_5909fc38a3f549fdacbabbfc08f53486",
       "max": 77,
       "style": "IPY_MODEL_3ef595fd0a7f483c91a406814924f05c",
       "value": 31
      }
     },
     "a5db7431ff5249ec89c6224c70663daf": {
      "model_module": "@jupyter-widgets/base",
      "model_module_version": "1.2.0",
      "model_name": "LayoutModel",
      "state": {
       "flex": "2"
      }
     },
     "a606d21b15f546d5b4bc8e168d233924": {
      "model_module": "@jupyter-widgets/controls",
      "model_module_version": "1.5.0",
      "model_name": "DescriptionStyleModel",
      "state": {
       "description_width": ""
      }
     },
     "a60705786c6d4110842c11aac911ed23": {
      "model_module": "@jupyter-widgets/controls",
      "model_module_version": "1.5.0",
      "model_name": "DescriptionStyleModel",
      "state": {
       "description_width": ""
      }
     },
     "a620b9a08b944565b3ba8e0fe75c18d3": {
      "model_module": "@jupyter-widgets/base",
      "model_module_version": "1.2.0",
      "model_name": "LayoutModel",
      "state": {
       "display": "inline-flex",
       "flex_flow": "row wrap",
       "width": "100%"
      }
     },
     "a650df9f79624fb388ac8400eaf16fc4": {
      "model_module": "@jupyter-widgets/base",
      "model_module_version": "1.2.0",
      "model_name": "LayoutModel",
      "state": {}
     },
     "a6519e97dbdd486ba644ac0399fe0008": {
      "model_module": "@jupyter-widgets/controls",
      "model_module_version": "1.5.0",
      "model_name": "DescriptionStyleModel",
      "state": {
       "description_width": ""
      }
     },
     "a659d1994aa049bfb88f31acf0025301": {
      "model_module": "@jupyter-widgets/controls",
      "model_module_version": "1.5.0",
      "model_name": "HTMLModel",
      "state": {
       "layout": "IPY_MODEL_a0fb303286724e32a3ba3e72baab1ff3",
       "style": "IPY_MODEL_580305396f764400afbee79ca8666637",
       "value": " 2/2 [00:00&lt;00:00,  3.48it/s]"
      }
     },
     "a65a35806bcd4a068aa05d429fcec70d": {
      "model_module": "@jupyter-widgets/controls",
      "model_module_version": "1.5.0",
      "model_name": "DescriptionStyleModel",
      "state": {
       "description_width": ""
      }
     },
     "a6778dfcfaa042e190891b2586d836e4": {
      "model_module": "@jupyter-widgets/base",
      "model_module_version": "1.2.0",
      "model_name": "LayoutModel",
      "state": {}
     },
     "a67d28d38b8b473f812f0bbe518b03ee": {
      "model_module": "@jupyter-widgets/base",
      "model_module_version": "1.2.0",
      "model_name": "LayoutModel",
      "state": {
       "display": "inline-flex",
       "flex_flow": "row wrap",
       "width": "100%"
      }
     },
     "a69bf383320e4bf5b6ca429d3f79c394": {
      "model_module": "@jupyter-widgets/controls",
      "model_module_version": "1.5.0",
      "model_name": "FloatProgressModel",
      "state": {
       "layout": "IPY_MODEL_41842b20a6dd42ab842e095bafacd332",
       "max": 16,
       "style": "IPY_MODEL_7c8fb9d3fe4b4653952f7134c5cc38df",
       "value": 16
      }
     },
     "a6b8ec973e4e4cfc86693eb065697944": {
      "model_module": "@jupyter-widgets/controls",
      "model_module_version": "1.5.0",
      "model_name": "HTMLModel",
      "state": {
       "layout": "IPY_MODEL_9e836615850442dda0c31411955892e5",
       "style": "IPY_MODEL_24c0353c4d524f0cb3f13e9c7da91e74",
       "value": " 16/16 [00:04&lt;00:00,  3.74it/s]"
      }
     },
     "a6be9926a3b74591841575f98f0ee882": {
      "model_module": "@jupyter-widgets/base",
      "model_module_version": "1.2.0",
      "model_name": "LayoutModel",
      "state": {}
     },
     "a6e46009facb46d598a04ac4cd40c401": {
      "model_module": "@jupyter-widgets/controls",
      "model_module_version": "1.5.0",
      "model_name": "ProgressStyleModel",
      "state": {
       "description_width": ""
      }
     },
     "a6e9b1c745464aaeaac5dd6475240a30": {
      "model_module": "@jupyter-widgets/base",
      "model_module_version": "1.2.0",
      "model_name": "LayoutModel",
      "state": {}
     },
     "a6f11226ace94a4b9ba877b75a9fb16e": {
      "model_module": "@jupyter-widgets/controls",
      "model_module_version": "1.5.0",
      "model_name": "DescriptionStyleModel",
      "state": {
       "description_width": ""
      }
     },
     "a6fcb4a4450447e2b9d5ee9074ab966b": {
      "model_module": "@jupyter-widgets/controls",
      "model_module_version": "1.5.0",
      "model_name": "HTMLModel",
      "state": {
       "layout": "IPY_MODEL_c1e0108363d744e0915059c647a37c93",
       "style": "IPY_MODEL_dd7f40d711e441faa72911a5a02dfacd",
       "value": " 16/16 [00:04&lt;00:00,  3.55it/s]"
      }
     },
     "a70f6d2361484fbbbc2bb5ca819a1ace": {
      "model_module": "@jupyter-widgets/controls",
      "model_module_version": "1.5.0",
      "model_name": "HTMLModel",
      "state": {
       "layout": "IPY_MODEL_460bdffadec84745b2dd82d91a969009",
       "style": "IPY_MODEL_a50df607072047e38e8e07d796b290c7",
       "value": "Validation DataLoader 0: 100%"
      }
     },
     "a71d5909bee241c49296486a4fda4a1a": {
      "model_module": "@jupyter-widgets/controls",
      "model_module_version": "1.5.0",
      "model_name": "FloatProgressModel",
      "state": {
       "layout": "IPY_MODEL_4fa5f91fc9c347d18c52912aa02f9ce6",
       "max": 2,
       "style": "IPY_MODEL_26ec0d63c9884d7f866346eabd312ba7",
       "value": 2
      }
     },
     "a75085258efc421dbd2b5d313e94b1a8": {
      "model_module": "@jupyter-widgets/base",
      "model_module_version": "1.2.0",
      "model_name": "LayoutModel",
      "state": {
       "display": "inline-flex",
       "flex_flow": "row wrap",
       "width": "100%"
      }
     },
     "a75fb4db9c7c49c59268970bff75653e": {
      "model_module": "@jupyter-widgets/base",
      "model_module_version": "1.2.0",
      "model_name": "LayoutModel",
      "state": {
       "display": "inline-flex",
       "flex_flow": "row wrap",
       "width": "100%"
      }
     },
     "a76bfbe5119f4726ab502d6837a0c69c": {
      "model_module": "@jupyter-widgets/controls",
      "model_module_version": "1.5.0",
      "model_name": "HTMLModel",
      "state": {
       "layout": "IPY_MODEL_c4ad86c0c85f4b2e8787ab4e493538ae",
       "style": "IPY_MODEL_f1770e1467564f1298976f397d8a9f3e",
       "value": " 16/16 [00:00&lt;00:00, 20.92it/s]"
      }
     },
     "a79e7dda3ba243a19e6baac7b13f4cc7": {
      "model_module": "@jupyter-widgets/base",
      "model_module_version": "1.2.0",
      "model_name": "LayoutModel",
      "state": {}
     },
     "a7c0d69281124b1e9b07bd3e40462fee": {
      "model_module": "@jupyter-widgets/controls",
      "model_module_version": "1.5.0",
      "model_name": "DescriptionStyleModel",
      "state": {
       "description_width": ""
      }
     },
     "a7c0f68192734fbcacce84e88a726231": {
      "model_module": "@jupyter-widgets/controls",
      "model_module_version": "1.5.0",
      "model_name": "HTMLModel",
      "state": {
       "layout": "IPY_MODEL_13416f557d574613a16002cf8ac5d867",
       "style": "IPY_MODEL_2fffdb0d63194c398234ce7c17458c70",
       "value": " 16/16 [00:02&lt;00:00,  7.13it/s]"
      }
     },
     "a7d0d19a48c94479a0d2a068e9748770": {
      "model_module": "@jupyter-widgets/controls",
      "model_module_version": "1.5.0",
      "model_name": "HTMLModel",
      "state": {
       "layout": "IPY_MODEL_727f9be897584be0bee734f15a069af5",
       "style": "IPY_MODEL_af1f0cfa4df146fe8e306e980759b0bd",
       "value": "Validation DataLoader 0: 100%"
      }
     },
     "a7e59f02783d4c3b8ec550e9d11cf1f4": {
      "model_module": "@jupyter-widgets/controls",
      "model_module_version": "1.5.0",
      "model_name": "HTMLModel",
      "state": {
       "layout": "IPY_MODEL_06a8adb82fc74487950ef650c876555d",
       "style": "IPY_MODEL_c3dbbe5f54a540cda0a468b89e1c1929",
       "value": "Validation DataLoader 0: 100%"
      }
     },
     "a8395450a9784a4094f97c2c05ed9599": {
      "model_module": "@jupyter-widgets/controls",
      "model_module_version": "1.5.0",
      "model_name": "HTMLModel",
      "state": {
       "layout": "IPY_MODEL_eebcfe76533f4d31adde424fd4a0b66a",
       "style": "IPY_MODEL_7c203d743bd746cf806f8920b2176463",
       "value": " 42/77 [00:05&lt;00:04,  7.55it/s, loss=0.0551, v_num=H-64]"
      }
     },
     "a85015219c044626b5ed435a15498c80": {
      "model_module": "@jupyter-widgets/base",
      "model_module_version": "1.2.0",
      "model_name": "LayoutModel",
      "state": {
       "display": "inline-flex",
       "flex_flow": "row wrap",
       "width": "100%"
      }
     },
     "a85546a08af64949adae3703f9f4610c": {
      "model_module": "@jupyter-widgets/controls",
      "model_module_version": "1.5.0",
      "model_name": "HTMLModel",
      "state": {
       "layout": "IPY_MODEL_b5edfb416f4f4ca2b1e76c0a2606587b",
       "style": "IPY_MODEL_2e9dc761f7ea4cd496c662fd8341c240",
       "value": "Validation DataLoader 0: 100%"
      }
     },
     "a8597fa7cf6b4075b7870ebc44440041": {
      "model_module": "@jupyter-widgets/controls",
      "model_module_version": "1.5.0",
      "model_name": "FloatProgressModel",
      "state": {
       "layout": "IPY_MODEL_6e462489d29b4bfab392a94699091aca",
       "max": 16,
       "style": "IPY_MODEL_56bed7da58144137bf70e358c6f2b390",
       "value": 16
      }
     },
     "a86b533384e94670bb72cd0b0fe29809": {
      "model_module": "@jupyter-widgets/controls",
      "model_module_version": "1.5.0",
      "model_name": "ProgressStyleModel",
      "state": {
       "description_width": ""
      }
     },
     "a86c0fc54b2b4665b66e76c9e76aec09": {
      "model_module": "@jupyter-widgets/base",
      "model_module_version": "1.2.0",
      "model_name": "LayoutModel",
      "state": {
       "display": "inline-flex",
       "flex_flow": "row wrap",
       "width": "100%"
      }
     },
     "a88a448fcc9c47ed9f737a302cdb3efd": {
      "model_module": "@jupyter-widgets/controls",
      "model_module_version": "1.5.0",
      "model_name": "DescriptionStyleModel",
      "state": {
       "description_width": ""
      }
     },
     "a8a46fd2d42742fc9deb615c7b179fa3": {
      "model_module": "@jupyter-widgets/controls",
      "model_module_version": "1.5.0",
      "model_name": "DescriptionStyleModel",
      "state": {
       "description_width": ""
      }
     },
     "a8b11b848be54516b26f5627ea624103": {
      "model_module": "@jupyter-widgets/controls",
      "model_module_version": "1.5.0",
      "model_name": "HTMLModel",
      "state": {
       "layout": "IPY_MODEL_c516e47bb40648bc9717b0f6d4f21e8c",
       "style": "IPY_MODEL_5442282ae62043dbbfe73dedf9098e2e",
       "value": " 2/2 [00:00&lt;00:00,  3.57it/s]"
      }
     },
     "a8b4e590aac84557a8c35df3cbb6898e": {
      "model_module": "@jupyter-widgets/controls",
      "model_module_version": "1.5.0",
      "model_name": "DescriptionStyleModel",
      "state": {
       "description_width": ""
      }
     },
     "a8b5820b783c4a74879a49c65c439518": {
      "model_module": "@jupyter-widgets/base",
      "model_module_version": "1.2.0",
      "model_name": "LayoutModel",
      "state": {}
     },
     "a8cef05557824556a9a7ee89b4cbd087": {
      "model_module": "@jupyter-widgets/controls",
      "model_module_version": "1.5.0",
      "model_name": "HTMLModel",
      "state": {
       "layout": "IPY_MODEL_8b9fcfe7e9604b83be5688affb16ac46",
       "style": "IPY_MODEL_5dc59df5d5744b4baf78e4ff15b757f9",
       "value": " 16/16 [00:01&lt;00:00, 11.44it/s]"
      }
     },
     "a8e1c99934df4840ab25dad3de8a4b6d": {
      "model_module": "@jupyter-widgets/base",
      "model_module_version": "1.2.0",
      "model_name": "LayoutModel",
      "state": {}
     },
     "a8e2d231b58940da94f96bcc1de02108": {
      "model_module": "@jupyter-widgets/controls",
      "model_module_version": "1.5.0",
      "model_name": "HTMLModel",
      "state": {
       "layout": "IPY_MODEL_7f4346dcd92f4ead8463d28be317fb18",
       "style": "IPY_MODEL_9545ab9243664f0396e854a5ad33278f",
       "value": " 16/16 [00:00&lt;00:00, 23.10it/s]"
      }
     },
     "a8f44c5f7a94432fafd6032afd8dfc23": {
      "model_module": "@jupyter-widgets/controls",
      "model_module_version": "1.5.0",
      "model_name": "DescriptionStyleModel",
      "state": {
       "description_width": ""
      }
     },
     "a8f7ac666ca74058af5c87d9275a0445": {
      "model_module": "@jupyter-widgets/base",
      "model_module_version": "1.2.0",
      "model_name": "LayoutModel",
      "state": {}
     },
     "a908f88648734c949909b94aa91796f4": {
      "model_module": "@jupyter-widgets/base",
      "model_module_version": "1.2.0",
      "model_name": "LayoutModel",
      "state": {}
     },
     "a90ddb91a5c3491fbc5e7cb61bbd2909": {
      "model_module": "@jupyter-widgets/controls",
      "model_module_version": "1.5.0",
      "model_name": "HTMLModel",
      "state": {
       "layout": "IPY_MODEL_e80a26e8632b412ea42526d9e66a5de4",
       "style": "IPY_MODEL_85aa579432d54a3f84a4a4d3165a4e61",
       "value": " 16/16 [00:01&lt;00:00, 10.89it/s]"
      }
     },
     "a9442c3a53174a86bf3dc552535104c3": {
      "model_module": "@jupyter-widgets/controls",
      "model_module_version": "1.5.0",
      "model_name": "DescriptionStyleModel",
      "state": {
       "description_width": ""
      }
     },
     "a951d6da054c43e2b4dfb74decbc9974": {
      "model_module": "@jupyter-widgets/base",
      "model_module_version": "1.2.0",
      "model_name": "LayoutModel",
      "state": {
       "display": "inline-flex",
       "flex_flow": "row wrap",
       "width": "100%"
      }
     },
     "a955c675a11d4befa56456069553076d": {
      "model_module": "@jupyter-widgets/base",
      "model_module_version": "1.2.0",
      "model_name": "LayoutModel",
      "state": {
       "flex": "2"
      }
     },
     "a95e3d1c56284bb9852a9d8e28172142": {
      "model_module": "@jupyter-widgets/base",
      "model_module_version": "1.2.0",
      "model_name": "LayoutModel",
      "state": {
       "display": "inline-flex",
       "flex_flow": "row wrap",
       "width": "100%"
      }
     },
     "a966a1e189da41c7909a30b5d2bab990": {
      "model_module": "@jupyter-widgets/base",
      "model_module_version": "1.2.0",
      "model_name": "LayoutModel",
      "state": {
       "flex": "2"
      }
     },
     "a96772f569594956b6c32e6b67088fbc": {
      "model_module": "@jupyter-widgets/controls",
      "model_module_version": "1.5.0",
      "model_name": "DescriptionStyleModel",
      "state": {
       "description_width": ""
      }
     },
     "a9767ec8931049cd8f045406ea82591e": {
      "model_module": "@jupyter-widgets/base",
      "model_module_version": "1.2.0",
      "model_name": "LayoutModel",
      "state": {}
     },
     "a982d5b0308448cf84f13f3af8e5715f": {
      "model_module": "@jupyter-widgets/controls",
      "model_module_version": "1.5.0",
      "model_name": "FloatProgressModel",
      "state": {
       "layout": "IPY_MODEL_a966a1e189da41c7909a30b5d2bab990",
       "max": 16,
       "style": "IPY_MODEL_760797b477b942a6ad77ec350961ccd7",
       "value": 16
      }
     },
     "a9c2d70b05d34972a46946a86e52f371": {
      "model_module": "@jupyter-widgets/controls",
      "model_module_version": "1.5.0",
      "model_name": "ProgressStyleModel",
      "state": {
       "description_width": ""
      }
     },
     "a9fc8a11f4cc4a5eb4e4240fdbe2af97": {
      "model_module": "@jupyter-widgets/controls",
      "model_module_version": "1.5.0",
      "model_name": "FloatProgressModel",
      "state": {
       "layout": "IPY_MODEL_fcd08a7d9eb946229677b30ffc36129c",
       "max": 16,
       "style": "IPY_MODEL_eb2a8d1b84b4454b9b11985370a1d907",
       "value": 16
      }
     },
     "a9fccc605d1542299b47d45667b85ade": {
      "model_module": "@jupyter-widgets/controls",
      "model_module_version": "1.5.0",
      "model_name": "DescriptionStyleModel",
      "state": {
       "description_width": ""
      }
     },
     "aa00b173e9734e1fbfa7992562f0514b": {
      "model_module": "@jupyter-widgets/controls",
      "model_module_version": "1.5.0",
      "model_name": "DescriptionStyleModel",
      "state": {
       "description_width": ""
      }
     },
     "aa13150e1a0141779feb3f9025e8d5ef": {
      "model_module": "@jupyter-widgets/base",
      "model_module_version": "1.2.0",
      "model_name": "LayoutModel",
      "state": {
       "display": "inline-flex",
       "flex_flow": "row wrap",
       "width": "100%"
      }
     },
     "aa148e357b7741c5b8d0b2640608d40e": {
      "model_module": "@jupyter-widgets/base",
      "model_module_version": "1.2.0",
      "model_name": "LayoutModel",
      "state": {}
     },
     "aa37d3483c474c79a0fc4f1be0db4c4d": {
      "model_module": "@jupyter-widgets/base",
      "model_module_version": "1.2.0",
      "model_name": "LayoutModel",
      "state": {}
     },
     "aa3a2de6dfa34b4e844a9fa0f0dd7abd": {
      "model_module": "@jupyter-widgets/controls",
      "model_module_version": "1.5.0",
      "model_name": "FloatProgressModel",
      "state": {
       "layout": "IPY_MODEL_7ed889870df54ff6b5b034b1bd19a989",
       "max": 2,
       "style": "IPY_MODEL_bffabe35f5c24a8194e6411132255d06",
       "value": 2
      }
     },
     "aa41ce6357f54b748876ae07783ede40": {
      "model_module": "@jupyter-widgets/base",
      "model_module_version": "1.2.0",
      "model_name": "LayoutModel",
      "state": {
       "flex": "2"
      }
     },
     "aa428e6ce5c1491ebea296171052a44f": {
      "model_module": "@jupyter-widgets/controls",
      "model_module_version": "1.5.0",
      "model_name": "ProgressStyleModel",
      "state": {
       "description_width": ""
      }
     },
     "aa49893a236d426a862abf1fed199a4e": {
      "model_module": "@jupyter-widgets/controls",
      "model_module_version": "1.5.0",
      "model_name": "FloatProgressModel",
      "state": {
       "layout": "IPY_MODEL_6c5c7da6f757471da726e7bbf7a252e0",
       "max": 16,
       "style": "IPY_MODEL_46d9543b3be5442d948c57fb731555c9",
       "value": 16
      }
     },
     "aa53fbbaab4742a0b4346069eacd28ab": {
      "model_module": "@jupyter-widgets/controls",
      "model_module_version": "1.5.0",
      "model_name": "ProgressStyleModel",
      "state": {
       "description_width": ""
      }
     },
     "aa6fbf85ee004810866bc7c6410ed412": {
      "model_module": "@jupyter-widgets/base",
      "model_module_version": "1.2.0",
      "model_name": "LayoutModel",
      "state": {}
     },
     "aa870719f00f424888aea3c54fb998f1": {
      "model_module": "@jupyter-widgets/controls",
      "model_module_version": "1.5.0",
      "model_name": "ProgressStyleModel",
      "state": {
       "description_width": ""
      }
     },
     "aaa38fabdc5f49afbdb58a04743bdf40": {
      "model_module": "@jupyter-widgets/controls",
      "model_module_version": "1.5.0",
      "model_name": "HTMLModel",
      "state": {
       "layout": "IPY_MODEL_b6280418abf942de8479e01d994024db",
       "style": "IPY_MODEL_e88c0bd217ed4c2394782fcdd701e638",
       "value": "Validation DataLoader 0: 100%"
      }
     },
     "aac36958df5447f788bf14bc5632f01f": {
      "model_module": "@jupyter-widgets/base",
      "model_module_version": "1.2.0",
      "model_name": "LayoutModel",
      "state": {
       "flex": "2"
      }
     },
     "aac5b5d3967d4de99f155f7c7624182d": {
      "model_module": "@jupyter-widgets/controls",
      "model_module_version": "1.5.0",
      "model_name": "HTMLModel",
      "state": {
       "layout": "IPY_MODEL_34bad8d1112b4471a0e785bc3488cae2",
       "style": "IPY_MODEL_e0879bdf17154e36b17fa13aeff9977f",
       "value": "Validation DataLoader 0: 100%"
      }
     },
     "aad114d1fa824234ae715ea5490edc0d": {
      "model_module": "@jupyter-widgets/base",
      "model_module_version": "1.2.0",
      "model_name": "LayoutModel",
      "state": {
       "flex": "2"
      }
     },
     "aad8b4c1e95249f1aa5b293d7c0e35e1": {
      "model_module": "@jupyter-widgets/controls",
      "model_module_version": "1.5.0",
      "model_name": "HTMLModel",
      "state": {
       "layout": "IPY_MODEL_32d015aa614d4f1a849d10f36604ff85",
       "style": "IPY_MODEL_120344e19464444eae50155d508ec126",
       "value": "Validation DataLoader 0: 100%"
      }
     },
     "aaf6b3ef53d14af7b58bfb5a321237dd": {
      "model_module": "@jupyter-widgets/controls",
      "model_module_version": "1.5.0",
      "model_name": "DescriptionStyleModel",
      "state": {
       "description_width": ""
      }
     },
     "aafb7221ec684ea183bc5e4bd34b0613": {
      "model_module": "@jupyter-widgets/controls",
      "model_module_version": "1.5.0",
      "model_name": "FloatProgressModel",
      "state": {
       "layout": "IPY_MODEL_ae0e621e06604ce4b17a2a6ca774357c",
       "max": 16,
       "style": "IPY_MODEL_c656cc743e7d416cad72c90866eb0959",
       "value": 16
      }
     },
     "ab00885587ad47228d1c90a85ab3ce1b": {
      "model_module": "@jupyter-widgets/controls",
      "model_module_version": "1.5.0",
      "model_name": "HTMLModel",
      "state": {
       "layout": "IPY_MODEL_fff438a0318c4aee9577babaafabbf1d",
       "style": "IPY_MODEL_e64521b21af34826a8fd552849ed721a",
       "value": "Sanity Checking DataLoader 0: 100%"
      }
     },
     "ab35d7c243224459844111502949d0a9": {
      "model_module": "@jupyter-widgets/base",
      "model_module_version": "1.2.0",
      "model_name": "LayoutModel",
      "state": {
       "flex": "2"
      }
     },
     "ab4b1a84ea5f46e4ace5c805947fd831": {
      "model_module": "@jupyter-widgets/base",
      "model_module_version": "1.2.0",
      "model_name": "LayoutModel",
      "state": {
       "flex": "2"
      }
     },
     "ab4f423dce4643bf8b466f6b6ab34279": {
      "model_module": "@jupyter-widgets/base",
      "model_module_version": "1.2.0",
      "model_name": "LayoutModel",
      "state": {
       "display": "inline-flex",
       "flex_flow": "row wrap",
       "width": "100%"
      }
     },
     "ab84d7aa17214e6e9127e1c44c617f62": {
      "model_module": "@jupyter-widgets/controls",
      "model_module_version": "1.5.0",
      "model_name": "HTMLModel",
      "state": {
       "layout": "IPY_MODEL_0bf059aef4d841f290c595f46ba0463e",
       "style": "IPY_MODEL_5594a76d7b38475d9e0381657ca276c1",
       "value": " 16/16 [00:00&lt;00:00, 17.58it/s]"
      }
     },
     "ab8a2163ad504c5e9f8c84803c0d1250": {
      "model_module": "@jupyter-widgets/controls",
      "model_module_version": "1.5.0",
      "model_name": "DescriptionStyleModel",
      "state": {
       "description_width": ""
      }
     },
     "aba56ace27584b9b89b899a4c0464f5d": {
      "model_module": "@jupyter-widgets/controls",
      "model_module_version": "1.5.0",
      "model_name": "DescriptionStyleModel",
      "state": {
       "description_width": ""
      }
     },
     "abcac2dfd77947f39bbdf88f503aa18e": {
      "model_module": "@jupyter-widgets/controls",
      "model_module_version": "1.5.0",
      "model_name": "HTMLModel",
      "state": {
       "layout": "IPY_MODEL_e8739f187d154244b43125077ab8a36c",
       "style": "IPY_MODEL_66ed5a5057b2450caec57d0ebf816db9",
       "value": " 51/77 [00:06&lt;00:03,  7.77it/s, loss=0.0807, v_num=H-62]"
      }
     },
     "abdb5fe3dbdb4354a6b254ca859ceb7e": {
      "model_module": "@jupyter-widgets/controls",
      "model_module_version": "1.5.0",
      "model_name": "DescriptionStyleModel",
      "state": {
       "description_width": ""
      }
     },
     "abdcfc28207e423e8eeef941f68b1132": {
      "model_module": "@jupyter-widgets/controls",
      "model_module_version": "1.5.0",
      "model_name": "HTMLModel",
      "state": {
       "layout": "IPY_MODEL_226beda7dbea466f8ad9d911c5764b47",
       "style": "IPY_MODEL_77f42b343fd946598e664c75df267c60",
       "value": " 16/16 [00:00&lt;00:00, 20.94it/s]"
      }
     },
     "abfac897cf334822836f68a699238546": {
      "model_module": "@jupyter-widgets/controls",
      "model_module_version": "1.5.0",
      "model_name": "DescriptionStyleModel",
      "state": {
       "description_width": ""
      }
     },
     "ac27786f19c5442989ccf18d81e9708b": {
      "model_module": "@jupyter-widgets/controls",
      "model_module_version": "1.5.0",
      "model_name": "DescriptionStyleModel",
      "state": {
       "description_width": ""
      }
     },
     "ac39c71eedfb42d1b3488eca00bf828a": {
      "model_module": "@jupyter-widgets/base",
      "model_module_version": "1.2.0",
      "model_name": "LayoutModel",
      "state": {}
     },
     "ac4e2b6138c0421eb8b9803002a022cb": {
      "model_module": "@jupyter-widgets/controls",
      "model_module_version": "1.5.0",
      "model_name": "HTMLModel",
      "state": {
       "layout": "IPY_MODEL_dd71388b6b93463a8b2ea0cb2c32cfff",
       "style": "IPY_MODEL_58de4af847f14cc5a2bd025665e9b453",
       "value": "Epoch 0:   1%"
      }
     },
     "ac6d417d81ae4139bf617d02821a5082": {
      "model_module": "@jupyter-widgets/controls",
      "model_module_version": "1.5.0",
      "model_name": "ProgressStyleModel",
      "state": {
       "description_width": ""
      }
     },
     "ac76fd8e3ef0428380719f13ba4144e6": {
      "model_module": "@jupyter-widgets/controls",
      "model_module_version": "1.5.0",
      "model_name": "DescriptionStyleModel",
      "state": {
       "description_width": ""
      }
     },
     "ac85efb4b71a463e8378aed6d8b573f0": {
      "model_module": "@jupyter-widgets/controls",
      "model_module_version": "1.5.0",
      "model_name": "HTMLModel",
      "state": {
       "layout": "IPY_MODEL_b6c1882867bd4b3db094a127af006443",
       "style": "IPY_MODEL_adba7ed8b4ee4ee78ef1dd5f8583ceff",
       "value": "Validation DataLoader 0: 100%"
      }
     },
     "ac86e25b15b44bccbeae9e4aeded4e12": {
      "model_module": "@jupyter-widgets/controls",
      "model_module_version": "1.5.0",
      "model_name": "ProgressStyleModel",
      "state": {
       "description_width": ""
      }
     },
     "ac87d8d158e64342b205aa0c543b89f7": {
      "model_module": "@jupyter-widgets/controls",
      "model_module_version": "1.5.0",
      "model_name": "FloatProgressModel",
      "state": {
       "layout": "IPY_MODEL_c4639051138b4dcbbf08e173e805ec82",
       "max": 16,
       "style": "IPY_MODEL_50634c876acb48a8b43facad03c9645d",
       "value": 16
      }
     },
     "ac9be40a68f74de988d1fd8a2df1ac7a": {
      "model_module": "@jupyter-widgets/controls",
      "model_module_version": "1.5.0",
      "model_name": "ProgressStyleModel",
      "state": {
       "description_width": ""
      }
     },
     "acab6e7ce42d41019f82bb1dda3d2bbf": {
      "model_module": "@jupyter-widgets/controls",
      "model_module_version": "1.5.0",
      "model_name": "HTMLModel",
      "state": {
       "layout": "IPY_MODEL_7a99f6bf5c304f68a0c578d0b0e7c925",
       "style": "IPY_MODEL_03df684a592243a9b3c0d414496a41dd",
       "value": "Validation DataLoader 0: 100%"
      }
     },
     "acaee8a554c34983852a55c21d147ce1": {
      "model_module": "@jupyter-widgets/controls",
      "model_module_version": "1.5.0",
      "model_name": "FloatProgressModel",
      "state": {
       "layout": "IPY_MODEL_8763bc4891954cc497b9b35d4eb28253",
       "max": 16,
       "style": "IPY_MODEL_89cad092de2b4bd98b87d86142de9049",
       "value": 16
      }
     },
     "acb7f789c7d74c17b76ffa51610eb5ef": {
      "model_module": "@jupyter-widgets/controls",
      "model_module_version": "1.5.0",
      "model_name": "HTMLModel",
      "state": {
       "layout": "IPY_MODEL_73766dd3d91c4e5f90e2ff754ec025d7",
       "style": "IPY_MODEL_49d15efbe64e483890b992b542382da2",
       "value": "Validation DataLoader 0: 100%"
      }
     },
     "acc7adfabefa41519db8c482925efcda": {
      "model_module": "@jupyter-widgets/controls",
      "model_module_version": "1.5.0",
      "model_name": "HTMLModel",
      "state": {
       "layout": "IPY_MODEL_40530de6f65e48d1a40f5c05082f0ffc",
       "style": "IPY_MODEL_4dc82bf4b5a1415fa27cef36e1438ceb",
       "value": "Validation DataLoader 0: 100%"
      }
     },
     "ace049cd560e42e89a2c576711f24b99": {
      "model_module": "@jupyter-widgets/controls",
      "model_module_version": "1.5.0",
      "model_name": "DescriptionStyleModel",
      "state": {
       "description_width": ""
      }
     },
     "acf03da59c684b379efa9c3dda0b2f89": {
      "model_module": "@jupyter-widgets/base",
      "model_module_version": "1.2.0",
      "model_name": "LayoutModel",
      "state": {
       "display": "inline-flex",
       "flex_flow": "row wrap",
       "width": "100%"
      }
     },
     "ad2458c4f1414e01b3aae5c7fda473c9": {
      "model_module": "@jupyter-widgets/controls",
      "model_module_version": "1.5.0",
      "model_name": "HTMLModel",
      "state": {
       "layout": "IPY_MODEL_028364e9eebb44e78c9f6ca6e9ef0f68",
       "style": "IPY_MODEL_7d6cd7c485e14d6aae79225f2b97fda8",
       "value": " 16/16 [00:00&lt;00:00, 16.08it/s]"
      }
     },
     "ad6beb801ba3418fb02fda222adb771e": {
      "model_module": "@jupyter-widgets/controls",
      "model_module_version": "1.5.0",
      "model_name": "HTMLModel",
      "state": {
       "layout": "IPY_MODEL_751a4b2fd81c4177a2a487dd9d6bbd12",
       "style": "IPY_MODEL_db990b8df0784f31b970a15f4b26a24f",
       "value": " 16/16 [00:04&lt;00:00,  4.24it/s]"
      }
     },
     "ad91820116a241259d968095589850db": {
      "model_module": "@jupyter-widgets/controls",
      "model_module_version": "1.5.0",
      "model_name": "FloatProgressModel",
      "state": {
       "layout": "IPY_MODEL_aad114d1fa824234ae715ea5490edc0d",
       "max": 2,
       "style": "IPY_MODEL_4cd3d936d78d409580fa821c15e186d8",
       "value": 2
      }
     },
     "adae078f55e1430e86955ea9169d8b8a": {
      "model_module": "@jupyter-widgets/controls",
      "model_module_version": "1.5.0",
      "model_name": "DescriptionStyleModel",
      "state": {
       "description_width": ""
      }
     },
     "adb94ef45b4c4a92b3fcd3c75d41e6d7": {
      "model_module": "@jupyter-widgets/controls",
      "model_module_version": "1.5.0",
      "model_name": "HTMLModel",
      "state": {
       "layout": "IPY_MODEL_fe6ea45f96bd4152a2ceff4fd2e154b6",
       "style": "IPY_MODEL_4206031f698e4f5fbda777bd4084d738",
       "value": " 16/16 [00:04&lt;00:00,  2.79it/s]"
      }
     },
     "adba7ed8b4ee4ee78ef1dd5f8583ceff": {
      "model_module": "@jupyter-widgets/controls",
      "model_module_version": "1.5.0",
      "model_name": "DescriptionStyleModel",
      "state": {
       "description_width": ""
      }
     },
     "ae0e621e06604ce4b17a2a6ca774357c": {
      "model_module": "@jupyter-widgets/base",
      "model_module_version": "1.2.0",
      "model_name": "LayoutModel",
      "state": {
       "flex": "2"
      }
     },
     "ae37d6c3792f4613b0e65aa091e59711": {
      "model_module": "@jupyter-widgets/controls",
      "model_module_version": "1.5.0",
      "model_name": "HTMLModel",
      "state": {
       "layout": "IPY_MODEL_aed2f7dde3564f458e657602f0ca2c0b",
       "style": "IPY_MODEL_a33afc0353774547a3633fc8bd41e938",
       "value": " 16/16 [00:00&lt;00:00, 19.03it/s]"
      }
     },
     "ae3dcd9ccb4642b085c61310f7b83c1d": {
      "model_module": "@jupyter-widgets/base",
      "model_module_version": "1.2.0",
      "model_name": "LayoutModel",
      "state": {
       "display": "inline-flex",
       "flex_flow": "row wrap",
       "width": "100%"
      }
     },
     "ae4837b759df4eaab54d7d5c4e8d675e": {
      "model_module": "@jupyter-widgets/controls",
      "model_module_version": "1.5.0",
      "model_name": "DescriptionStyleModel",
      "state": {
       "description_width": ""
      }
     },
     "ae6a8ff841e94d089d8d73c49ff94f87": {
      "model_module": "@jupyter-widgets/controls",
      "model_module_version": "1.5.0",
      "model_name": "ProgressStyleModel",
      "state": {
       "description_width": ""
      }
     },
     "ae6cabd80e5a40eaaa2a57f2e2a88fb7": {
      "model_module": "@jupyter-widgets/controls",
      "model_module_version": "1.5.0",
      "model_name": "HTMLModel",
      "state": {
       "layout": "IPY_MODEL_af3585c6c0af40bea7283f1cc964b01b",
       "style": "IPY_MODEL_d0049d733d234d049464fc37bf4f5029",
       "value": " 52/77 [00:05&lt;00:02,  9.37it/s, loss=1.95, v_num=H-51]"
      }
     },
     "ae8aa8530b0645f09151dbc1b090ba3c": {
      "model_module": "@jupyter-widgets/controls",
      "model_module_version": "1.5.0",
      "model_name": "HTMLModel",
      "state": {
       "layout": "IPY_MODEL_d2e83ef5ba9e4d5f862b6ab5dfb1acbe",
       "style": "IPY_MODEL_5f6c9b55642c4f04b4fddc569b28f662",
       "value": "Validation DataLoader 0: 100%"
      }
     },
     "ae972cdfe7644071820d024eb43aaadc": {
      "model_module": "@jupyter-widgets/controls",
      "model_module_version": "1.5.0",
      "model_name": "HBoxModel",
      "state": {
       "children": [
        "IPY_MODEL_094a12f277ef4fe292c1090220a453b9",
        "IPY_MODEL_6d94056c3b084a799a826ab051a82e8c",
        "IPY_MODEL_c62a832f7d9e430aac84bf333fe1f064"
       ],
       "layout": "IPY_MODEL_9743f61546b645ecbe2b358455d9fa11"
      }
     },
     "aeac7e72064840c19c7f4645a723e690": {
      "model_module": "@jupyter-widgets/controls",
      "model_module_version": "1.5.0",
      "model_name": "DescriptionStyleModel",
      "state": {
       "description_width": ""
      }
     },
     "aebe810f761046af81d0350e063822b0": {
      "model_module": "@jupyter-widgets/controls",
      "model_module_version": "1.5.0",
      "model_name": "FloatProgressModel",
      "state": {
       "layout": "IPY_MODEL_263155b700074dd5a0226d0952eb42f8",
       "max": 16,
       "style": "IPY_MODEL_3a4122827a284a5ab6aaac19493b345f",
       "value": 16
      }
     },
     "aed2f7dde3564f458e657602f0ca2c0b": {
      "model_module": "@jupyter-widgets/base",
      "model_module_version": "1.2.0",
      "model_name": "LayoutModel",
      "state": {}
     },
     "aede535c0bc043579534e0833cc9223e": {
      "model_module": "@jupyter-widgets/base",
      "model_module_version": "1.2.0",
      "model_name": "LayoutModel",
      "state": {}
     },
     "aedf636c8d5c49aaa4061dc3cc9f76a2": {
      "model_module": "@jupyter-widgets/controls",
      "model_module_version": "1.5.0",
      "model_name": "DescriptionStyleModel",
      "state": {
       "description_width": ""
      }
     },
     "aee7fbeadabe484ea644a11b13479e20": {
      "model_module": "@jupyter-widgets/base",
      "model_module_version": "1.2.0",
      "model_name": "LayoutModel",
      "state": {}
     },
     "aefbfd34d63f40dc91516c2909acbf7c": {
      "model_module": "@jupyter-widgets/base",
      "model_module_version": "1.2.0",
      "model_name": "LayoutModel",
      "state": {}
     },
     "af1f0cfa4df146fe8e306e980759b0bd": {
      "model_module": "@jupyter-widgets/controls",
      "model_module_version": "1.5.0",
      "model_name": "DescriptionStyleModel",
      "state": {
       "description_width": ""
      }
     },
     "af3585c6c0af40bea7283f1cc964b01b": {
      "model_module": "@jupyter-widgets/base",
      "model_module_version": "1.2.0",
      "model_name": "LayoutModel",
      "state": {}
     },
     "af3753fd8b59434d97c31f043464809e": {
      "model_module": "@jupyter-widgets/controls",
      "model_module_version": "1.5.0",
      "model_name": "DescriptionStyleModel",
      "state": {
       "description_width": ""
      }
     },
     "af41cd5faf9a45408012f58655732aa2": {
      "model_module": "@jupyter-widgets/base",
      "model_module_version": "1.2.0",
      "model_name": "LayoutModel",
      "state": {}
     },
     "af41df1990e84ccfa553612f822f6267": {
      "model_module": "@jupyter-widgets/base",
      "model_module_version": "1.2.0",
      "model_name": "LayoutModel",
      "state": {
       "flex": "2"
      }
     },
     "af4be5c19b8342128defd2816da2f943": {
      "model_module": "@jupyter-widgets/controls",
      "model_module_version": "1.5.0",
      "model_name": "FloatProgressModel",
      "state": {
       "layout": "IPY_MODEL_633b9e1d33b547a28052c00fcddd508f",
       "max": 16,
       "style": "IPY_MODEL_fd35d28de3f3489992780f6f31e2136c",
       "value": 16
      }
     },
     "af661c2b6b9841eaa2cfc531c692059d": {
      "model_module": "@jupyter-widgets/controls",
      "model_module_version": "1.5.0",
      "model_name": "DescriptionStyleModel",
      "state": {
       "description_width": ""
      }
     },
     "af9f2d92dba545cdbbe504a3c16e42f2": {
      "model_module": "@jupyter-widgets/controls",
      "model_module_version": "1.5.0",
      "model_name": "FloatProgressModel",
      "state": {
       "layout": "IPY_MODEL_f79f6a14f2d74f5b8ad981bb36df5928",
       "max": 16,
       "style": "IPY_MODEL_5af54e97b50d42a3b9da2f6cf7c92850",
       "value": 16
      }
     },
     "afad86212efa44488858c1c79166a780": {
      "model_module": "@jupyter-widgets/controls",
      "model_module_version": "1.5.0",
      "model_name": "DescriptionStyleModel",
      "state": {
       "description_width": ""
      }
     },
     "afaed6319a944b6d8a1d12131fab21ff": {
      "model_module": "@jupyter-widgets/base",
      "model_module_version": "1.2.0",
      "model_name": "LayoutModel",
      "state": {
       "flex": "2"
      }
     },
     "afb318c96cea49e489fd205d24124a72": {
      "model_module": "@jupyter-widgets/controls",
      "model_module_version": "1.5.0",
      "model_name": "DescriptionStyleModel",
      "state": {
       "description_width": ""
      }
     },
     "afe803653a544088aa89f33b5a92794f": {
      "model_module": "@jupyter-widgets/controls",
      "model_module_version": "1.5.0",
      "model_name": "HTMLModel",
      "state": {
       "layout": "IPY_MODEL_84653fab93b548b3ac2c2cb9cf1be764",
       "style": "IPY_MODEL_ff2374ba0a7d4adca5385a55b3b5d255",
       "value": " 2/2 [00:00&lt;00:00, 26.67it/s]"
      }
     },
     "afe89939363d429988ec3d43b831af25": {
      "model_module": "@jupyter-widgets/controls",
      "model_module_version": "1.5.0",
      "model_name": "FloatProgressModel",
      "state": {
       "layout": "IPY_MODEL_9296acf729714af0bd9a6f92ed224900",
       "max": 16,
       "style": "IPY_MODEL_c7f5ba229c894a7ea4b06398d66db14c",
       "value": 16
      }
     },
     "afea782626694b5a9376fc5659237bf5": {
      "model_module": "@jupyter-widgets/base",
      "model_module_version": "1.2.0",
      "model_name": "LayoutModel",
      "state": {}
     },
     "b02b587e6a6a418f909c0cd96e597d1a": {
      "model_module": "@jupyter-widgets/controls",
      "model_module_version": "1.5.0",
      "model_name": "DescriptionStyleModel",
      "state": {
       "description_width": ""
      }
     },
     "b03eb1bf965642798f8f0ad120edb28b": {
      "model_module": "@jupyter-widgets/controls",
      "model_module_version": "1.5.0",
      "model_name": "ProgressStyleModel",
      "state": {
       "description_width": ""
      }
     },
     "b05d916df7cf421494b2f70af89f2ad2": {
      "model_module": "@jupyter-widgets/controls",
      "model_module_version": "1.5.0",
      "model_name": "HTMLModel",
      "state": {
       "layout": "IPY_MODEL_4c400bc046c7457d98ab659facd9937a",
       "style": "IPY_MODEL_9618ab0cc61345d8b05b4dee632cc3e4",
       "value": " 16/16 [00:00&lt;00:00, 20.99it/s]"
      }
     },
     "b066eb0efe484594b546e33ab88b4bd4": {
      "model_module": "@jupyter-widgets/controls",
      "model_module_version": "1.5.0",
      "model_name": "HTMLModel",
      "state": {
       "layout": "IPY_MODEL_ce85455fbd5d47b8ac8c060006c4e686",
       "style": "IPY_MODEL_1498ce2be5224cdbb2baf8d5ec8a42c2",
       "value": "Epoch 8:  18%"
      }
     },
     "b07b53dca7274c05ae0d3d373dfd9162": {
      "model_module": "@jupyter-widgets/base",
      "model_module_version": "1.2.0",
      "model_name": "LayoutModel",
      "state": {}
     },
     "b080db7cc0a949d98ea8b41da6bfc081": {
      "model_module": "@jupyter-widgets/base",
      "model_module_version": "1.2.0",
      "model_name": "LayoutModel",
      "state": {
       "flex": "2"
      }
     },
     "b0941391126f43579db8b1f85159a7d5": {
      "model_module": "@jupyter-widgets/controls",
      "model_module_version": "1.5.0",
      "model_name": "DescriptionStyleModel",
      "state": {
       "description_width": ""
      }
     },
     "b0998c41d0cf479d96039ec5486156b1": {
      "model_module": "@jupyter-widgets/controls",
      "model_module_version": "1.5.0",
      "model_name": "FloatProgressModel",
      "state": {
       "layout": "IPY_MODEL_b6b75046cff944a499b1075bfc5e032f",
       "max": 16,
       "style": "IPY_MODEL_cbefbdde290749d8aad6d1bb9368f84b",
       "value": 16
      }
     },
     "b09e604deae54968abb27dc1f884d845": {
      "model_module": "@jupyter-widgets/base",
      "model_module_version": "1.2.0",
      "model_name": "LayoutModel",
      "state": {}
     },
     "b09f1ea965374296a17384017d4ad944": {
      "model_module": "@jupyter-widgets/controls",
      "model_module_version": "1.5.0",
      "model_name": "HTMLModel",
      "state": {
       "layout": "IPY_MODEL_1f260ddcd998493b9a038d5bae6ca4d7",
       "style": "IPY_MODEL_c520663105024ff9ae023327b50d55ec",
       "value": " 16/16 [00:00&lt;00:00, 16.74it/s]"
      }
     },
     "b0a0f2f98fb646248426115645e04916": {
      "model_module": "@jupyter-widgets/base",
      "model_module_version": "1.2.0",
      "model_name": "LayoutModel",
      "state": {}
     },
     "b0bbc3b7ecc84efa87fae52919fa70fe": {
      "model_module": "@jupyter-widgets/controls",
      "model_module_version": "1.5.0",
      "model_name": "HTMLModel",
      "state": {
       "layout": "IPY_MODEL_44580158c9854da8bc6ba2d0ae9c0d88",
       "style": "IPY_MODEL_dcbe76f6adcc4a20970eee63ca1e1108",
       "value": " 16/16 [00:07&lt;00:00,  3.00it/s]"
      }
     },
     "b0dd1c0b6be243ffadbecf063ba76ec8": {
      "model_module": "@jupyter-widgets/controls",
      "model_module_version": "1.5.0",
      "model_name": "HTMLModel",
      "state": {
       "layout": "IPY_MODEL_7ab973a7bd7b4ecf9bf9fb8c064ccd48",
       "style": "IPY_MODEL_f681923929404135a43c354f3b29fc98",
       "value": " 16/16 [00:00&lt;00:00, 20.37it/s]"
      }
     },
     "b0e8e3a1b20a42ca817be377869e0c89": {
      "model_module": "@jupyter-widgets/controls",
      "model_module_version": "1.5.0",
      "model_name": "HTMLModel",
      "state": {
       "layout": "IPY_MODEL_b617212a5993496b9cf2a2e364c9ecad",
       "style": "IPY_MODEL_f28c97710c464809aaf633b49604b283",
       "value": "Validation DataLoader 0: 100%"
      }
     },
     "b0ea593d38104c27ae13fbcbb07c0126": {
      "model_module": "@jupyter-widgets/base",
      "model_module_version": "1.2.0",
      "model_name": "LayoutModel",
      "state": {}
     },
     "b109ab997e6745d0a8b16b24224e65c9": {
      "model_module": "@jupyter-widgets/controls",
      "model_module_version": "1.5.0",
      "model_name": "HTMLModel",
      "state": {
       "layout": "IPY_MODEL_d528159e7edf4c759da8a1d627ce1fed",
       "style": "IPY_MODEL_9afb9ff603c3453d841b0611e9669e26",
       "value": " 16/16 [00:00&lt;00:00, 19.37it/s]"
      }
     },
     "b10b0e239d524c5e917671c71a83b25f": {
      "model_module": "@jupyter-widgets/base",
      "model_module_version": "1.2.0",
      "model_name": "LayoutModel",
      "state": {}
     },
     "b11e082e58b14fa7952fd4722e6a0770": {
      "model_module": "@jupyter-widgets/controls",
      "model_module_version": "1.5.0",
      "model_name": "FloatProgressModel",
      "state": {
       "layout": "IPY_MODEL_98a21c67666644808265a057dc012e74",
       "max": 16,
       "style": "IPY_MODEL_616a23efb46f476b8c0a598a7b440460",
       "value": 16
      }
     },
     "b15c899a23c748e7b4629528c73c8cf5": {
      "model_module": "@jupyter-widgets/base",
      "model_module_version": "1.2.0",
      "model_name": "LayoutModel",
      "state": {}
     },
     "b160b32de9d84e0690f2eb29a643f30c": {
      "model_module": "@jupyter-widgets/controls",
      "model_module_version": "1.5.0",
      "model_name": "DescriptionStyleModel",
      "state": {
       "description_width": ""
      }
     },
     "b1619c5450ab495da07a0cd683875c6b": {
      "model_module": "@jupyter-widgets/controls",
      "model_module_version": "1.5.0",
      "model_name": "DescriptionStyleModel",
      "state": {
       "description_width": ""
      }
     },
     "b1628b2c561640b4b71bee3d19a542b6": {
      "model_module": "@jupyter-widgets/controls",
      "model_module_version": "1.5.0",
      "model_name": "HBoxModel",
      "state": {
       "children": [
        "IPY_MODEL_5c9a2e701f794bc49ae87df2f2e3fb19",
        "IPY_MODEL_52bbabfa0fc34a5a9a72ae2ffc43645f",
        "IPY_MODEL_574a68dfd3704d14b2d95e40b05b17b7"
       ],
       "layout": "IPY_MODEL_56976f5db2834bcc8c8df2e1355a317d"
      }
     },
     "b178af055de24fe7a6f322b9ff4e27d3": {
      "model_module": "@jupyter-widgets/base",
      "model_module_version": "1.2.0",
      "model_name": "LayoutModel",
      "state": {
       "flex": "2"
      }
     },
     "b1794907661445ef949195bc57d565fc": {
      "model_module": "@jupyter-widgets/controls",
      "model_module_version": "1.5.0",
      "model_name": "HTMLModel",
      "state": {
       "layout": "IPY_MODEL_5d8eec251169420897d61fb5de042ef1",
       "style": "IPY_MODEL_f3f4b0597b8a40269b4e2270f66ad198",
       "value": " 56/77 [00:38&lt;00:14,  1.45it/s, loss=0.0194, v_num=H-47]"
      }
     },
     "b17ec2c12a374804abf73ac6a9f694a1": {
      "model_module": "@jupyter-widgets/controls",
      "model_module_version": "1.5.0",
      "model_name": "DescriptionStyleModel",
      "state": {
       "description_width": ""
      }
     },
     "b1980e7774074e11ae1d193733a3f511": {
      "model_module": "@jupyter-widgets/controls",
      "model_module_version": "1.5.0",
      "model_name": "HTMLModel",
      "state": {
       "layout": "IPY_MODEL_05607aee9b774f938cb43fd2a4e1b221",
       "style": "IPY_MODEL_a8f44c5f7a94432fafd6032afd8dfc23",
       "value": "Validation DataLoader 0: 100%"
      }
     },
     "b1bb4b3d35c4495781fbf50592ef5fd8": {
      "model_module": "@jupyter-widgets/base",
      "model_module_version": "1.2.0",
      "model_name": "LayoutModel",
      "state": {
       "flex": "2"
      }
     },
     "b1ef6b1c3b60427ea9eb7e124218662b": {
      "model_module": "@jupyter-widgets/controls",
      "model_module_version": "1.5.0",
      "model_name": "DescriptionStyleModel",
      "state": {
       "description_width": ""
      }
     },
     "b1fdf13074e8453891529918e719be71": {
      "model_module": "@jupyter-widgets/base",
      "model_module_version": "1.2.0",
      "model_name": "LayoutModel",
      "state": {
       "display": "inline-flex",
       "flex_flow": "row wrap",
       "width": "100%"
      }
     },
     "b20dd3b289a545ccae8f650aa8e4f72f": {
      "model_module": "@jupyter-widgets/controls",
      "model_module_version": "1.5.0",
      "model_name": "FloatProgressModel",
      "state": {
       "layout": "IPY_MODEL_018650983d8b4b0087127ccfb456a36b",
       "max": 16,
       "style": "IPY_MODEL_a6e46009facb46d598a04ac4cd40c401",
       "value": 16
      }
     },
     "b24609e475b14120a09fa125584433fd": {
      "model_module": "@jupyter-widgets/base",
      "model_module_version": "1.2.0",
      "model_name": "LayoutModel",
      "state": {
       "display": "inline-flex",
       "flex_flow": "row wrap",
       "width": "100%"
      }
     },
     "b28cc20c265b4dbcb821e6f60155aaab": {
      "model_module": "@jupyter-widgets/controls",
      "model_module_version": "1.5.0",
      "model_name": "DescriptionStyleModel",
      "state": {
       "description_width": ""
      }
     },
     "b295630c6a124a40916511d25a8884e6": {
      "model_module": "@jupyter-widgets/controls",
      "model_module_version": "1.5.0",
      "model_name": "DescriptionStyleModel",
      "state": {
       "description_width": ""
      }
     },
     "b29c623c89fa48398a6f28a9c6b524c7": {
      "model_module": "@jupyter-widgets/controls",
      "model_module_version": "1.5.0",
      "model_name": "HTMLModel",
      "state": {
       "layout": "IPY_MODEL_67be254ed95f462ab495112640928b21",
       "style": "IPY_MODEL_f0d6c1532d674bbdb52f4551b765e58c",
       "value": "Validation DataLoader 0: 100%"
      }
     },
     "b2a8b41328c046029e69c2905d43a889": {
      "model_module": "@jupyter-widgets/controls",
      "model_module_version": "1.5.0",
      "model_name": "HTMLModel",
      "state": {
       "layout": "IPY_MODEL_d07963b1ea8f43f49a010c49401afbf4",
       "style": "IPY_MODEL_5e6c45517a50454484a929ecfa2fbc00",
       "value": "Validation DataLoader 0: 100%"
      }
     },
     "b2b2d24dcfa64b518ade8645b9351950": {
      "model_module": "@jupyter-widgets/controls",
      "model_module_version": "1.5.0",
      "model_name": "DescriptionStyleModel",
      "state": {
       "description_width": ""
      }
     },
     "b2b7d3b8b6cd4a9f93078a8b5ec99e88": {
      "model_module": "@jupyter-widgets/controls",
      "model_module_version": "1.5.0",
      "model_name": "HTMLModel",
      "state": {
       "layout": "IPY_MODEL_c5b582ddd3214a9aaf7836c3adae6a2a",
       "style": "IPY_MODEL_4b2b30131d1244bcbdf200a58fc92a85",
       "value": "Validation DataLoader 0: 100%"
      }
     },
     "b2c4ae98f77c4382ac7b298df37c8143": {
      "model_module": "@jupyter-widgets/controls",
      "model_module_version": "1.5.0",
      "model_name": "FloatProgressModel",
      "state": {
       "layout": "IPY_MODEL_869bad1daff94bed9ce951f53d29bf18",
       "max": 16,
       "style": "IPY_MODEL_90ffb7bdd07044eb99842f949f01c08d",
       "value": 16
      }
     },
     "b2e94107172c47e2a6f6f9663d1b3d24": {
      "model_module": "@jupyter-widgets/controls",
      "model_module_version": "1.5.0",
      "model_name": "HTMLModel",
      "state": {
       "layout": "IPY_MODEL_15c967bf932845ec9794f67bd6f5a8fe",
       "style": "IPY_MODEL_780196bb680c4fea97221924b9b571cb",
       "value": " 33/77 [00:03&lt;00:04,  8.81it/s, loss=0.193, v_num=H-59]"
      }
     },
     "b2f084f2d4794b849a20fc8fd884b3f1": {
      "model_module": "@jupyter-widgets/base",
      "model_module_version": "1.2.0",
      "model_name": "LayoutModel",
      "state": {
       "display": "inline-flex",
       "flex_flow": "row wrap",
       "width": "100%"
      }
     },
     "b31ba18635c14d588e5f75d288eb57d4": {
      "model_module": "@jupyter-widgets/base",
      "model_module_version": "1.2.0",
      "model_name": "LayoutModel",
      "state": {
       "display": "inline-flex",
       "flex_flow": "row wrap",
       "width": "100%"
      }
     },
     "b32e4e52e2084d6ea0ab48973aa31d0a": {
      "model_module": "@jupyter-widgets/base",
      "model_module_version": "1.2.0",
      "model_name": "LayoutModel",
      "state": {}
     },
     "b33878ff3b7d4bf1a60628637dcc69db": {
      "model_module": "@jupyter-widgets/base",
      "model_module_version": "1.2.0",
      "model_name": "LayoutModel",
      "state": {
       "display": "inline-flex",
       "flex_flow": "row wrap",
       "width": "100%"
      }
     },
     "b354a1a4bb374a0d81412a456e823bf0": {
      "model_module": "@jupyter-widgets/controls",
      "model_module_version": "1.5.0",
      "model_name": "HTMLModel",
      "state": {
       "layout": "IPY_MODEL_71ceb5810c144977ba888b89f6236c32",
       "style": "IPY_MODEL_a148f520bdb84f518842563a47b06aa3",
       "value": " 16/16 [00:00&lt;00:00, 19.42it/s]"
      }
     },
     "b35dc064ff394b23b525882dbc3447df": {
      "model_module": "@jupyter-widgets/base",
      "model_module_version": "1.2.0",
      "model_name": "LayoutModel",
      "state": {
       "flex": "2"
      }
     },
     "b36b7a36ef604386a85bb19d83572a86": {
      "model_module": "@jupyter-widgets/base",
      "model_module_version": "1.2.0",
      "model_name": "LayoutModel",
      "state": {}
     },
     "b37a4d797c6348febccf2ef6f6ba4103": {
      "model_module": "@jupyter-widgets/base",
      "model_module_version": "1.2.0",
      "model_name": "LayoutModel",
      "state": {
       "display": "inline-flex",
       "flex_flow": "row wrap",
       "width": "100%"
      }
     },
     "b385f5da77ef456abf34f33bec2b706c": {
      "model_module": "@jupyter-widgets/base",
      "model_module_version": "1.2.0",
      "model_name": "LayoutModel",
      "state": {}
     },
     "b38a0f9c6fb44c12b34a3de228f416ac": {
      "model_module": "@jupyter-widgets/controls",
      "model_module_version": "1.5.0",
      "model_name": "HTMLModel",
      "state": {
       "layout": "IPY_MODEL_4ca28b73ac0c424b82eb66b42c2f9ff5",
       "style": "IPY_MODEL_30981d7edb6142cf99d3f33e38efa777",
       "value": " 16/16 [00:01&lt;00:00, 12.00it/s]"
      }
     },
     "b394eb9430a94d1e96186f26ddda9a97": {
      "model_module": "@jupyter-widgets/controls",
      "model_module_version": "1.5.0",
      "model_name": "DescriptionStyleModel",
      "state": {
       "description_width": ""
      }
     },
     "b3b89b3925664e4a810e97822eefe311": {
      "model_module": "@jupyter-widgets/controls",
      "model_module_version": "1.5.0",
      "model_name": "DescriptionStyleModel",
      "state": {
       "description_width": ""
      }
     },
     "b3c4c0e7d1f445f88e045dccb74126ee": {
      "model_module": "@jupyter-widgets/base",
      "model_module_version": "1.2.0",
      "model_name": "LayoutModel",
      "state": {}
     },
     "b3cf01669f1d40b5883a08bc262be01e": {
      "model_module": "@jupyter-widgets/base",
      "model_module_version": "1.2.0",
      "model_name": "LayoutModel",
      "state": {}
     },
     "b3f2d3d6faeb453f98ea3c795d2c2c88": {
      "model_module": "@jupyter-widgets/base",
      "model_module_version": "1.2.0",
      "model_name": "LayoutModel",
      "state": {}
     },
     "b3fb2611e07444319097db91cd5e81cd": {
      "model_module": "@jupyter-widgets/controls",
      "model_module_version": "1.5.0",
      "model_name": "HTMLModel",
      "state": {
       "layout": "IPY_MODEL_1c611a27e2da406cb70753ec1bc072c4",
       "style": "IPY_MODEL_869fb755e79d49feb79447c8eae7e38c",
       "value": " 16/16 [00:00&lt;00:00, 20.91it/s]"
      }
     },
     "b4121bed7495471ab37d0a23795b56ca": {
      "model_module": "@jupyter-widgets/base",
      "model_module_version": "1.2.0",
      "model_name": "LayoutModel",
      "state": {}
     },
     "b42fa279e6874d268c2297d6dabb8f66": {
      "model_module": "@jupyter-widgets/controls",
      "model_module_version": "1.5.0",
      "model_name": "DescriptionStyleModel",
      "state": {
       "description_width": ""
      }
     },
     "b4409fc8c8394922a3d92c2ea7280b6c": {
      "model_module": "@jupyter-widgets/controls",
      "model_module_version": "1.5.0",
      "model_name": "HTMLModel",
      "state": {
       "layout": "IPY_MODEL_710465346975497bbc5774a9fba5dc50",
       "style": "IPY_MODEL_3eb212df78d64bda983efce32c9dd8fb",
       "value": "Validation DataLoader 0: 100%"
      }
     },
     "b46b5f132b0f43ab84356e84f1f6e5b4": {
      "model_module": "@jupyter-widgets/base",
      "model_module_version": "1.2.0",
      "model_name": "LayoutModel",
      "state": {}
     },
     "b46c9beae5d34e7292db6940a6208a3e": {
      "model_module": "@jupyter-widgets/controls",
      "model_module_version": "1.5.0",
      "model_name": "ProgressStyleModel",
      "state": {
       "description_width": ""
      }
     },
     "b473771c78b84bd581880ac3ab4764c1": {
      "model_module": "@jupyter-widgets/controls",
      "model_module_version": "1.5.0",
      "model_name": "FloatProgressModel",
      "state": {
       "layout": "IPY_MODEL_1ae84c0c977746d8ae1d29a053103f3f",
       "max": 16,
       "style": "IPY_MODEL_61933288b0c84321abd3831203b717c1",
       "value": 16
      }
     },
     "b484b725610742619472dccb43febbc7": {
      "model_module": "@jupyter-widgets/base",
      "model_module_version": "1.2.0",
      "model_name": "LayoutModel",
      "state": {
       "flex": "2"
      }
     },
     "b4a78453c5854295b3d08f4d750361b2": {
      "model_module": "@jupyter-widgets/base",
      "model_module_version": "1.2.0",
      "model_name": "LayoutModel",
      "state": {
       "flex": "2"
      }
     },
     "b4b6e1f03665475d964ed80c241e78b2": {
      "model_module": "@jupyter-widgets/controls",
      "model_module_version": "1.5.0",
      "model_name": "DescriptionStyleModel",
      "state": {
       "description_width": ""
      }
     },
     "b4c4c904da484f0aab04619cdeeadc02": {
      "model_module": "@jupyter-widgets/controls",
      "model_module_version": "1.5.0",
      "model_name": "DescriptionStyleModel",
      "state": {
       "description_width": ""
      }
     },
     "b4f7dc011e0a4aec816693724ec5ecd9": {
      "model_module": "@jupyter-widgets/controls",
      "model_module_version": "1.5.0",
      "model_name": "DescriptionStyleModel",
      "state": {
       "description_width": ""
      }
     },
     "b515f8a52137442ca8035bd6ca469e86": {
      "model_module": "@jupyter-widgets/base",
      "model_module_version": "1.2.0",
      "model_name": "LayoutModel",
      "state": {}
     },
     "b525374910d4493ab6b1183d8c658e95": {
      "model_module": "@jupyter-widgets/base",
      "model_module_version": "1.2.0",
      "model_name": "LayoutModel",
      "state": {
       "flex": "2"
      }
     },
     "b532e9027c2d4eedb359bca078c9c823": {
      "model_module": "@jupyter-widgets/controls",
      "model_module_version": "1.5.0",
      "model_name": "DescriptionStyleModel",
      "state": {
       "description_width": ""
      }
     },
     "b542b24520484218900b3eb366a38eba": {
      "model_module": "@jupyter-widgets/base",
      "model_module_version": "1.2.0",
      "model_name": "LayoutModel",
      "state": {
       "flex": "2"
      }
     },
     "b556dc17cc5e468b9881391c97fd068c": {
      "model_module": "@jupyter-widgets/base",
      "model_module_version": "1.2.0",
      "model_name": "LayoutModel",
      "state": {}
     },
     "b5624fb367cf49d0b98bd8e904d1a235": {
      "model_module": "@jupyter-widgets/base",
      "model_module_version": "1.2.0",
      "model_name": "LayoutModel",
      "state": {
       "flex": "2"
      }
     },
     "b5a2baeaabe54a7a90d7c019ff9276db": {
      "model_module": "@jupyter-widgets/controls",
      "model_module_version": "1.5.0",
      "model_name": "FloatProgressModel",
      "state": {
       "layout": "IPY_MODEL_54f946cff2974f4097ba34bfbbdd6e8b",
       "max": 2,
       "style": "IPY_MODEL_d4a26fca05194f1388b7a8a938387a29",
       "value": 2
      }
     },
     "b5bf9957673a4557b73ff97bf668a327": {
      "model_module": "@jupyter-widgets/base",
      "model_module_version": "1.2.0",
      "model_name": "LayoutModel",
      "state": {
       "display": "inline-flex",
       "flex_flow": "row wrap",
       "width": "100%"
      }
     },
     "b5edfb416f4f4ca2b1e76c0a2606587b": {
      "model_module": "@jupyter-widgets/base",
      "model_module_version": "1.2.0",
      "model_name": "LayoutModel",
      "state": {}
     },
     "b606cd29f1bb45da8b5d1564b1723dfc": {
      "model_module": "@jupyter-widgets/controls",
      "model_module_version": "1.5.0",
      "model_name": "FloatProgressModel",
      "state": {
       "layout": "IPY_MODEL_0653b508bb4b4016a2b891a6e93102da",
       "max": 16,
       "style": "IPY_MODEL_25eec75dae0d434db8cb5bd4041246db",
       "value": 16
      }
     },
     "b60875d53f3243e0834e0d34c2e60ce6": {
      "model_module": "@jupyter-widgets/base",
      "model_module_version": "1.2.0",
      "model_name": "LayoutModel",
      "state": {}
     },
     "b60bb53000314713b3491b9bd8afc9e9": {
      "model_module": "@jupyter-widgets/controls",
      "model_module_version": "1.5.0",
      "model_name": "DescriptionStyleModel",
      "state": {
       "description_width": ""
      }
     },
     "b61564134fd24d27b68eb9a15b31c2ab": {
      "model_module": "@jupyter-widgets/controls",
      "model_module_version": "1.5.0",
      "model_name": "HBoxModel",
      "state": {
       "children": [
        "IPY_MODEL_11fbf4401db34ab6bc7792148e8594b8",
        "IPY_MODEL_d4d2ef5c3caa4f70be0f2ba4d8f0f8dc",
        "IPY_MODEL_eaca1ba3aaf14f018f331e082d12d4d8"
       ],
       "layout": "IPY_MODEL_fb18cd56a481436fb06ab5f95918878f"
      }
     },
     "b617212a5993496b9cf2a2e364c9ecad": {
      "model_module": "@jupyter-widgets/base",
      "model_module_version": "1.2.0",
      "model_name": "LayoutModel",
      "state": {}
     },
     "b62036a55b0142a58a56491aa035a429": {
      "model_module": "@jupyter-widgets/controls",
      "model_module_version": "1.5.0",
      "model_name": "ProgressStyleModel",
      "state": {
       "description_width": ""
      }
     },
     "b627beef4ce444c2a087648236887902": {
      "model_module": "@jupyter-widgets/controls",
      "model_module_version": "1.5.0",
      "model_name": "HTMLModel",
      "state": {
       "layout": "IPY_MODEL_7b0bb477a2f84fc29acae3905bc40485",
       "style": "IPY_MODEL_b532e9027c2d4eedb359bca078c9c823",
       "value": "Validation DataLoader 0: 100%"
      }
     },
     "b6280418abf942de8479e01d994024db": {
      "model_module": "@jupyter-widgets/base",
      "model_module_version": "1.2.0",
      "model_name": "LayoutModel",
      "state": {}
     },
     "b668acad1fac4802bf5563f93b7143cb": {
      "model_module": "@jupyter-widgets/base",
      "model_module_version": "1.2.0",
      "model_name": "LayoutModel",
      "state": {}
     },
     "b67fbd03a6fd498d95d2d48ebbdd98c6": {
      "model_module": "@jupyter-widgets/controls",
      "model_module_version": "1.5.0",
      "model_name": "DescriptionStyleModel",
      "state": {
       "description_width": ""
      }
     },
     "b68d8a933bfe428a80cd32a7303e3a8e": {
      "model_module": "@jupyter-widgets/base",
      "model_module_version": "1.2.0",
      "model_name": "LayoutModel",
      "state": {
       "display": "inline-flex",
       "flex_flow": "row wrap",
       "width": "100%"
      }
     },
     "b6b09820194b44b39c78259af20f99f4": {
      "model_module": "@jupyter-widgets/controls",
      "model_module_version": "1.5.0",
      "model_name": "DescriptionStyleModel",
      "state": {
       "description_width": ""
      }
     },
     "b6b6304a20a9436da708746331da16a0": {
      "model_module": "@jupyter-widgets/controls",
      "model_module_version": "1.5.0",
      "model_name": "DescriptionStyleModel",
      "state": {
       "description_width": ""
      }
     },
     "b6b75046cff944a499b1075bfc5e032f": {
      "model_module": "@jupyter-widgets/base",
      "model_module_version": "1.2.0",
      "model_name": "LayoutModel",
      "state": {
       "flex": "2"
      }
     },
     "b6c1882867bd4b3db094a127af006443": {
      "model_module": "@jupyter-widgets/base",
      "model_module_version": "1.2.0",
      "model_name": "LayoutModel",
      "state": {}
     },
     "b6c61ae06d1b44eeb5f06fe156b1a49a": {
      "model_module": "@jupyter-widgets/base",
      "model_module_version": "1.2.0",
      "model_name": "LayoutModel",
      "state": {
       "flex": "2"
      }
     },
     "b757a8ad33094b3ca60705e2c0d64c7e": {
      "model_module": "@jupyter-widgets/controls",
      "model_module_version": "1.5.0",
      "model_name": "DescriptionStyleModel",
      "state": {
       "description_width": ""
      }
     },
     "b76d5ae823de4943b214e530cb9b9bfb": {
      "model_module": "@jupyter-widgets/base",
      "model_module_version": "1.2.0",
      "model_name": "LayoutModel",
      "state": {
       "flex": "2"
      }
     },
     "b7814fb14c8942ceaf55f64b87e6c548": {
      "model_module": "@jupyter-widgets/base",
      "model_module_version": "1.2.0",
      "model_name": "LayoutModel",
      "state": {
       "display": "inline-flex",
       "flex_flow": "row wrap",
       "width": "100%"
      }
     },
     "b782c9f9f04d4a99a0d97038a5bd86e6": {
      "model_module": "@jupyter-widgets/base",
      "model_module_version": "1.2.0",
      "model_name": "LayoutModel",
      "state": {
       "display": "inline-flex",
       "flex_flow": "row wrap",
       "width": "100%"
      }
     },
     "b7a1f7ca91c64ea6bc2f62eba2d73056": {
      "model_module": "@jupyter-widgets/base",
      "model_module_version": "1.2.0",
      "model_name": "LayoutModel",
      "state": {}
     },
     "b7ada81b464d4900a36a68d83e4de949": {
      "model_module": "@jupyter-widgets/controls",
      "model_module_version": "1.5.0",
      "model_name": "FloatProgressModel",
      "state": {
       "layout": "IPY_MODEL_b76d5ae823de4943b214e530cb9b9bfb",
       "max": 16,
       "style": "IPY_MODEL_c25802339f4f458fab53afeab820b2c7",
       "value": 16
      }
     },
     "b7b3ba6d707a407d89be86c9769a1734": {
      "model_module": "@jupyter-widgets/controls",
      "model_module_version": "1.5.0",
      "model_name": "ProgressStyleModel",
      "state": {
       "description_width": ""
      }
     },
     "b7d4a167c7454824a4f30a6f4b7c9896": {
      "model_module": "@jupyter-widgets/base",
      "model_module_version": "1.2.0",
      "model_name": "LayoutModel",
      "state": {}
     },
     "b7d710136d3443fd8d55a3314338a739": {
      "model_module": "@jupyter-widgets/controls",
      "model_module_version": "1.5.0",
      "model_name": "HTMLModel",
      "state": {
       "layout": "IPY_MODEL_b60875d53f3243e0834e0d34c2e60ce6",
       "style": "IPY_MODEL_36bb8836f6ff4ba39146f70c95332bb0",
       "value": " 16/16 [00:00&lt;00:00, 15.23it/s]"
      }
     },
     "b7d83a7ff5814a18a08f8eaa0954095f": {
      "model_module": "@jupyter-widgets/base",
      "model_module_version": "1.2.0",
      "model_name": "LayoutModel",
      "state": {}
     },
     "b7db708ded48426d9324cfb42609427b": {
      "model_module": "@jupyter-widgets/base",
      "model_module_version": "1.2.0",
      "model_name": "LayoutModel",
      "state": {
       "flex": "2"
      }
     },
     "b7e237f5c2f24a6aaea907c2a3a55e2c": {
      "model_module": "@jupyter-widgets/base",
      "model_module_version": "1.2.0",
      "model_name": "LayoutModel",
      "state": {
       "display": "inline-flex",
       "flex_flow": "row wrap",
       "width": "100%"
      }
     },
     "b7ee7b821c584254afc1a6336dba0d78": {
      "model_module": "@jupyter-widgets/controls",
      "model_module_version": "1.5.0",
      "model_name": "DescriptionStyleModel",
      "state": {
       "description_width": ""
      }
     },
     "b7f5ba9c0c5c47db950fc1ae431f9490": {
      "model_module": "@jupyter-widgets/base",
      "model_module_version": "1.2.0",
      "model_name": "LayoutModel",
      "state": {
       "display": "inline-flex",
       "flex_flow": "row wrap",
       "width": "100%"
      }
     },
     "b807164d4bb1401f8c8d77485793bde6": {
      "model_module": "@jupyter-widgets/controls",
      "model_module_version": "1.5.0",
      "model_name": "ProgressStyleModel",
      "state": {
       "description_width": ""
      }
     },
     "b813d77c6fdb4de48690f06927410330": {
      "model_module": "@jupyter-widgets/controls",
      "model_module_version": "1.5.0",
      "model_name": "FloatProgressModel",
      "state": {
       "layout": "IPY_MODEL_f0e280131cfb4c65bb1662c575354d1e",
       "max": 16,
       "style": "IPY_MODEL_795eb8d740ff4e7ab1eca837d5bb25f2",
       "value": 16
      }
     },
     "b81943ec81e040e2948a2c29b820b360": {
      "model_module": "@jupyter-widgets/base",
      "model_module_version": "1.2.0",
      "model_name": "LayoutModel",
      "state": {
       "display": "inline-flex",
       "flex_flow": "row wrap",
       "width": "100%"
      }
     },
     "b81a7c03be34448695d01d1c19c0f98f": {
      "model_module": "@jupyter-widgets/controls",
      "model_module_version": "1.5.0",
      "model_name": "FloatProgressModel",
      "state": {
       "layout": "IPY_MODEL_f655759db8554895bbbf3871a0f4c9cd",
       "max": 16,
       "style": "IPY_MODEL_1f47eb922da04a7cad5641f2fe673526",
       "value": 16
      }
     },
     "b826b60f9b184af6a82138426fb5b563": {
      "model_module": "@jupyter-widgets/controls",
      "model_module_version": "1.5.0",
      "model_name": "FloatProgressModel",
      "state": {
       "layout": "IPY_MODEL_c2a3e625dfd94b729897fbbd2dd62561",
       "max": 77,
       "style": "IPY_MODEL_3f6a890c6ad443ec9c450e3c95f641a1",
       "value": 42
      }
     },
     "b82eafa5bef24a76aa75abd19fe0207a": {
      "model_module": "@jupyter-widgets/base",
      "model_module_version": "1.2.0",
      "model_name": "LayoutModel",
      "state": {}
     },
     "b83af2c222f84ad599cde3941ad610ee": {
      "model_module": "@jupyter-widgets/controls",
      "model_module_version": "1.5.0",
      "model_name": "FloatProgressModel",
      "state": {
       "layout": "IPY_MODEL_8c6f4669351e407ab3b208ef6dbf7f1a",
       "max": 16,
       "style": "IPY_MODEL_a5d74fd29242440885a8a743284e41f2",
       "value": 16
      }
     },
     "b859e3ec4b0a4da0838fbaa70cc85b96": {
      "model_module": "@jupyter-widgets/controls",
      "model_module_version": "1.5.0",
      "model_name": "HTMLModel",
      "state": {
       "layout": "IPY_MODEL_322a8b1ab6774031ae8849e587d63336",
       "style": "IPY_MODEL_22a52f02d35f453a9ba4ce3647e326c6",
       "value": " 16/16 [00:05&lt;00:00,  3.17it/s]"
      }
     },
     "b872154662b04076b97340b066063b8a": {
      "model_module": "@jupyter-widgets/base",
      "model_module_version": "1.2.0",
      "model_name": "LayoutModel",
      "state": {
       "display": "inline-flex",
       "flex_flow": "row wrap",
       "width": "100%"
      }
     },
     "b875a3515eae4efba583c41ad9b7d133": {
      "model_module": "@jupyter-widgets/base",
      "model_module_version": "1.2.0",
      "model_name": "LayoutModel",
      "state": {}
     },
     "b8a98b49149943f38bded6792327eea0": {
      "model_module": "@jupyter-widgets/base",
      "model_module_version": "1.2.0",
      "model_name": "LayoutModel",
      "state": {
       "flex": "2"
      }
     },
     "b8c49808f5de41f48af399965acf5a29": {
      "model_module": "@jupyter-widgets/controls",
      "model_module_version": "1.5.0",
      "model_name": "DescriptionStyleModel",
      "state": {
       "description_width": ""
      }
     },
     "b8ccd17859b945ffaba8cb6e2e60244f": {
      "model_module": "@jupyter-widgets/controls",
      "model_module_version": "1.5.0",
      "model_name": "ProgressStyleModel",
      "state": {
       "description_width": ""
      }
     },
     "b8d885edaf3848bbb4b32c16e987c38d": {
      "model_module": "@jupyter-widgets/base",
      "model_module_version": "1.2.0",
      "model_name": "LayoutModel",
      "state": {}
     },
     "b91391a1e5344edc9fbf93e7c2068bff": {
      "model_module": "@jupyter-widgets/base",
      "model_module_version": "1.2.0",
      "model_name": "LayoutModel",
      "state": {}
     },
     "b91da360d67147fda623dd06a4a03fcf": {
      "model_module": "@jupyter-widgets/base",
      "model_module_version": "1.2.0",
      "model_name": "LayoutModel",
      "state": {
       "display": "inline-flex",
       "flex_flow": "row wrap",
       "width": "100%"
      }
     },
     "b929f7fef05e43ee87a664738b715587": {
      "model_module": "@jupyter-widgets/base",
      "model_module_version": "1.2.0",
      "model_name": "LayoutModel",
      "state": {
       "flex": "2"
      }
     },
     "b9384445caeb485184c1b09641ef32f3": {
      "model_module": "@jupyter-widgets/base",
      "model_module_version": "1.2.0",
      "model_name": "LayoutModel",
      "state": {}
     },
     "b93b91a4f08a4e02ba09643b3db2014c": {
      "model_module": "@jupyter-widgets/base",
      "model_module_version": "1.2.0",
      "model_name": "LayoutModel",
      "state": {}
     },
     "b958ff64b4214ec1a860cbe9231cc866": {
      "model_module": "@jupyter-widgets/base",
      "model_module_version": "1.2.0",
      "model_name": "LayoutModel",
      "state": {}
     },
     "b95c74f3f5074ed39959936ea4f01d57": {
      "model_module": "@jupyter-widgets/controls",
      "model_module_version": "1.5.0",
      "model_name": "HBoxModel",
      "state": {
       "children": [
        "IPY_MODEL_62cec709757544549051b40637b8818e",
        "IPY_MODEL_9e6f2e1906fa4d9099135e3e5ad23986",
        "IPY_MODEL_814b5f43712d4c01b8cdc470ab48887f"
       ],
       "layout": "IPY_MODEL_2ea998af0de942be8cbc0b99fb392710"
      }
     },
     "b99c130707234786ab62456119edf529": {
      "model_module": "@jupyter-widgets/base",
      "model_module_version": "1.2.0",
      "model_name": "LayoutModel",
      "state": {
       "display": "inline-flex",
       "flex_flow": "row wrap",
       "width": "100%"
      }
     },
     "b9aed8245b14424d91a83f4b04dc3134": {
      "model_module": "@jupyter-widgets/controls",
      "model_module_version": "1.5.0",
      "model_name": "DescriptionStyleModel",
      "state": {
       "description_width": ""
      }
     },
     "b9d26b78ae814bee96a3d85a787cdc39": {
      "model_module": "@jupyter-widgets/controls",
      "model_module_version": "1.5.0",
      "model_name": "FloatProgressModel",
      "state": {
       "layout": "IPY_MODEL_be39b2253dda48f392fd1c6674ba9be7",
       "max": 16,
       "style": "IPY_MODEL_a2c7da23a02a41828ef89f2ac94d7a5b",
       "value": 16
      }
     },
     "b9e3ce2010954f46a1e3e05e9676d0a4": {
      "model_module": "@jupyter-widgets/base",
      "model_module_version": "1.2.0",
      "model_name": "LayoutModel",
      "state": {
       "display": "inline-flex",
       "flex_flow": "row wrap",
       "width": "100%"
      }
     },
     "b9f4390b7afe46a78eae8bc610a3bf7f": {
      "model_module": "@jupyter-widgets/base",
      "model_module_version": "1.2.0",
      "model_name": "LayoutModel",
      "state": {}
     },
     "b9f7eb6d14c04ed29a20e446a40dcaf3": {
      "model_module": "@jupyter-widgets/base",
      "model_module_version": "1.2.0",
      "model_name": "LayoutModel",
      "state": {
       "display": "inline-flex",
       "flex_flow": "row wrap",
       "width": "100%"
      }
     },
     "b9fab391107a49dab1b67a5fd4bba43b": {
      "model_module": "@jupyter-widgets/base",
      "model_module_version": "1.2.0",
      "model_name": "LayoutModel",
      "state": {}
     },
     "ba42b3ec150d4c869bc382cfe6d8f97f": {
      "model_module": "@jupyter-widgets/controls",
      "model_module_version": "1.5.0",
      "model_name": "ProgressStyleModel",
      "state": {
       "description_width": ""
      }
     },
     "ba518eb81c824956b36ea21f8c016ffd": {
      "model_module": "@jupyter-widgets/controls",
      "model_module_version": "1.5.0",
      "model_name": "DescriptionStyleModel",
      "state": {
       "description_width": ""
      }
     },
     "ba56a97e9651475cb3c5d157b9f91cf3": {
      "model_module": "@jupyter-widgets/controls",
      "model_module_version": "1.5.0",
      "model_name": "HTMLModel",
      "state": {
       "layout": "IPY_MODEL_8250a290b025407dbd341ba1d07c51b0",
       "style": "IPY_MODEL_8490043f681f4fa78cebbe22ec959f11",
       "value": "Validation DataLoader 0: 100%"
      }
     },
     "ba69f7ed0f3f443aaa1cac5839b2bca0": {
      "model_module": "@jupyter-widgets/controls",
      "model_module_version": "1.5.0",
      "model_name": "FloatProgressModel",
      "state": {
       "layout": "IPY_MODEL_b525374910d4493ab6b1183d8c658e95",
       "max": 16,
       "style": "IPY_MODEL_88ac2cd791ca4774a73ae776622d8647",
       "value": 16
      }
     },
     "ba72134da3f8449f8ff7b6c42adf3974": {
      "model_module": "@jupyter-widgets/base",
      "model_module_version": "1.2.0",
      "model_name": "LayoutModel",
      "state": {
       "flex": "2"
      }
     },
     "ba84bd31cd82432481d6014d85c7c547": {
      "model_module": "@jupyter-widgets/controls",
      "model_module_version": "1.5.0",
      "model_name": "HTMLModel",
      "state": {
       "layout": "IPY_MODEL_a8e1c99934df4840ab25dad3de8a4b6d",
       "style": "IPY_MODEL_0fa2a25aa1c04b5e95e1e620f11a3fc0",
       "value": "Validation DataLoader 0: 100%"
      }
     },
     "bacc9f5df73b4e8daab57ad84781eab1": {
      "model_module": "@jupyter-widgets/controls",
      "model_module_version": "1.5.0",
      "model_name": "HTMLModel",
      "state": {
       "layout": "IPY_MODEL_7d8327ce370e4b5ab1e11627c022459c",
       "style": "IPY_MODEL_52db49afba3f4ce2888bb9d018e06937",
       "value": "Validation DataLoader 0: 100%"
      }
     },
     "bb061a3c341c4eddbb7f83c54608c359": {
      "model_module": "@jupyter-widgets/base",
      "model_module_version": "1.2.0",
      "model_name": "LayoutModel",
      "state": {
       "display": "inline-flex",
       "flex_flow": "row wrap",
       "width": "100%"
      }
     },
     "bb0cc16ec1304db79746b4cdf58843fd": {
      "model_module": "@jupyter-widgets/base",
      "model_module_version": "1.2.0",
      "model_name": "LayoutModel",
      "state": {}
     },
     "bb0f4170a5244a8dbec9f820ab9d90ef": {
      "model_module": "@jupyter-widgets/base",
      "model_module_version": "1.2.0",
      "model_name": "LayoutModel",
      "state": {
       "display": "inline-flex",
       "flex_flow": "row wrap",
       "width": "100%"
      }
     },
     "bb1e913eafc24128bea3c058d3d26097": {
      "model_module": "@jupyter-widgets/base",
      "model_module_version": "1.2.0",
      "model_name": "LayoutModel",
      "state": {
       "flex": "2"
      }
     },
     "bb6ee27a249549c0ba74864648d311e4": {
      "model_module": "@jupyter-widgets/controls",
      "model_module_version": "1.5.0",
      "model_name": "DescriptionStyleModel",
      "state": {
       "description_width": ""
      }
     },
     "bb718b1ab45a4d1cb1e776d59858ac32": {
      "model_module": "@jupyter-widgets/controls",
      "model_module_version": "1.5.0",
      "model_name": "HTMLModel",
      "state": {
       "layout": "IPY_MODEL_f8be9a8a1b924660a2d0ac78e5eb2cf5",
       "style": "IPY_MODEL_197a641711b84e1e897d1395f8deda5b",
       "value": " 2/2 [00:00&lt;00:00,  3.59it/s]"
      }
     },
     "bb7fe3fd0f354ca7a5b39adf8bc3766b": {
      "model_module": "@jupyter-widgets/base",
      "model_module_version": "1.2.0",
      "model_name": "LayoutModel",
      "state": {
       "flex": "2"
      }
     },
     "bb834be15e144878b6c6169613de0639": {
      "model_module": "@jupyter-widgets/base",
      "model_module_version": "1.2.0",
      "model_name": "LayoutModel",
      "state": {}
     },
     "bba1d061dc4344baa379c4874a94c70c": {
      "model_module": "@jupyter-widgets/controls",
      "model_module_version": "1.5.0",
      "model_name": "DescriptionStyleModel",
      "state": {
       "description_width": ""
      }
     },
     "bc1f99efb1954f9681e9c33c23731b67": {
      "model_module": "@jupyter-widgets/base",
      "model_module_version": "1.2.0",
      "model_name": "LayoutModel",
      "state": {
       "display": "inline-flex",
       "flex_flow": "row wrap",
       "width": "100%"
      }
     },
     "bc27102b5e914d419ffa88d7b53eba1c": {
      "model_module": "@jupyter-widgets/base",
      "model_module_version": "1.2.0",
      "model_name": "LayoutModel",
      "state": {
       "display": "inline-flex",
       "flex_flow": "row wrap",
       "width": "100%"
      }
     },
     "bc4c4c7709714bf5b876b114b74d93f9": {
      "model_module": "@jupyter-widgets/controls",
      "model_module_version": "1.5.0",
      "model_name": "ProgressStyleModel",
      "state": {
       "description_width": ""
      }
     },
     "bc5e5081b96f4490b9e788d793816e87": {
      "model_module": "@jupyter-widgets/controls",
      "model_module_version": "1.5.0",
      "model_name": "ProgressStyleModel",
      "state": {
       "description_width": ""
      }
     },
     "bc924a292278401ea74ea948d245eaf4": {
      "model_module": "@jupyter-widgets/base",
      "model_module_version": "1.2.0",
      "model_name": "LayoutModel",
      "state": {
       "display": "inline-flex",
       "flex_flow": "row wrap",
       "width": "100%"
      }
     },
     "bcadd21ea3ee45dba9672ef604046ad6": {
      "model_module": "@jupyter-widgets/controls",
      "model_module_version": "1.5.0",
      "model_name": "DescriptionStyleModel",
      "state": {
       "description_width": ""
      }
     },
     "bcae8bcd234042f09ab42d009def35b6": {
      "model_module": "@jupyter-widgets/base",
      "model_module_version": "1.2.0",
      "model_name": "LayoutModel",
      "state": {}
     },
     "bce530f1c6714724a2149c1a7fd520ed": {
      "model_module": "@jupyter-widgets/base",
      "model_module_version": "1.2.0",
      "model_name": "LayoutModel",
      "state": {
       "display": "inline-flex",
       "flex_flow": "row wrap",
       "width": "100%"
      }
     },
     "bcf7e2f8489e479a931bcc550f06137f": {
      "model_module": "@jupyter-widgets/controls",
      "model_module_version": "1.5.0",
      "model_name": "DescriptionStyleModel",
      "state": {
       "description_width": ""
      }
     },
     "bcf9c4186a3d43c49e0e035493fea544": {
      "model_module": "@jupyter-widgets/controls",
      "model_module_version": "1.5.0",
      "model_name": "DescriptionStyleModel",
      "state": {
       "description_width": ""
      }
     },
     "bd0bb578a62f4614baa432cdea8bb165": {
      "model_module": "@jupyter-widgets/controls",
      "model_module_version": "1.5.0",
      "model_name": "DescriptionStyleModel",
      "state": {
       "description_width": ""
      }
     },
     "bd1eb4fb315c41599e7bc8d800adc917": {
      "model_module": "@jupyter-widgets/controls",
      "model_module_version": "1.5.0",
      "model_name": "DescriptionStyleModel",
      "state": {
       "description_width": ""
      }
     },
     "bd20d55b4aa640e2be9e7fac524cfea2": {
      "model_module": "@jupyter-widgets/controls",
      "model_module_version": "1.5.0",
      "model_name": "DescriptionStyleModel",
      "state": {
       "description_width": ""
      }
     },
     "bd22f856188a497390743579f727d21e": {
      "model_module": "@jupyter-widgets/controls",
      "model_module_version": "1.5.0",
      "model_name": "DescriptionStyleModel",
      "state": {
       "description_width": ""
      }
     },
     "bd67822df1fd464b89b52c92070df36e": {
      "model_module": "@jupyter-widgets/controls",
      "model_module_version": "1.5.0",
      "model_name": "ProgressStyleModel",
      "state": {
       "description_width": ""
      }
     },
     "bd741f5532c74447a56dcb02b61d9090": {
      "model_module": "@jupyter-widgets/controls",
      "model_module_version": "1.5.0",
      "model_name": "DescriptionStyleModel",
      "state": {
       "description_width": ""
      }
     },
     "bd75c65598d74cbca1c202898249e538": {
      "model_module": "@jupyter-widgets/base",
      "model_module_version": "1.2.0",
      "model_name": "LayoutModel",
      "state": {
       "flex": "2"
      }
     },
     "bd91d80536194b7ebb9e1ddbce2814dc": {
      "model_module": "@jupyter-widgets/controls",
      "model_module_version": "1.5.0",
      "model_name": "ProgressStyleModel",
      "state": {
       "description_width": ""
      }
     },
     "bda4431686764bb989979dc3a9711153": {
      "model_module": "@jupyter-widgets/controls",
      "model_module_version": "1.5.0",
      "model_name": "HTMLModel",
      "state": {
       "layout": "IPY_MODEL_5d9aa726662846e3acb542ae9e48fe9f",
       "style": "IPY_MODEL_656e257a3d6647aaae8f425f0a744c77",
       "value": "Epoch 13:  94%"
      }
     },
     "bdae5bdf2bb94bde8b078061a0bcc4dc": {
      "model_module": "@jupyter-widgets/base",
      "model_module_version": "1.2.0",
      "model_name": "LayoutModel",
      "state": {
       "display": "inline-flex",
       "flex_flow": "row wrap",
       "width": "100%"
      }
     },
     "bdd0f4e4ce034ff5b08196b471984c2f": {
      "model_module": "@jupyter-widgets/controls",
      "model_module_version": "1.5.0",
      "model_name": "HTMLModel",
      "state": {
       "layout": "IPY_MODEL_121e919714a74e07b799c2357e2215e0",
       "style": "IPY_MODEL_b9aed8245b14424d91a83f4b04dc3134",
       "value": " 16/16 [00:01&lt;00:00,  7.99it/s]"
      }
     },
     "be219a4b92914c839339c29550e58340": {
      "model_module": "@jupyter-widgets/controls",
      "model_module_version": "1.5.0",
      "model_name": "FloatProgressModel",
      "state": {
       "layout": "IPY_MODEL_8729c6d80d224ee8b63658f468d17ca8",
       "max": 16,
       "style": "IPY_MODEL_82edf8faf4ad4d5eadf547962619cae7",
       "value": 16
      }
     },
     "be2dec5efe2048ddb06896d71f972bad": {
      "model_module": "@jupyter-widgets/base",
      "model_module_version": "1.2.0",
      "model_name": "LayoutModel",
      "state": {
       "display": "inline-flex",
       "flex_flow": "row wrap",
       "width": "100%"
      }
     },
     "be30ba421b294b17aefcce6afe87a191": {
      "model_module": "@jupyter-widgets/base",
      "model_module_version": "1.2.0",
      "model_name": "LayoutModel",
      "state": {
       "flex": "2"
      }
     },
     "be31ff9cac0347e895290620a53dbb9f": {
      "model_module": "@jupyter-widgets/controls",
      "model_module_version": "1.5.0",
      "model_name": "HTMLModel",
      "state": {
       "layout": "IPY_MODEL_4eba2da68b894368af0b74cdb6de2f68",
       "style": "IPY_MODEL_485aff235b8d4a04b28e9ad31fd14fea",
       "value": "Validation DataLoader 0: 100%"
      }
     },
     "be3389a38e2947228f43bb4c0fcc4339": {
      "model_module": "@jupyter-widgets/controls",
      "model_module_version": "1.5.0",
      "model_name": "DescriptionStyleModel",
      "state": {
       "description_width": ""
      }
     },
     "be39b2253dda48f392fd1c6674ba9be7": {
      "model_module": "@jupyter-widgets/base",
      "model_module_version": "1.2.0",
      "model_name": "LayoutModel",
      "state": {
       "flex": "2"
      }
     },
     "be73b7bc0d76400fba122c1504947282": {
      "model_module": "@jupyter-widgets/base",
      "model_module_version": "1.2.0",
      "model_name": "LayoutModel",
      "state": {}
     },
     "be840954baa340da8854be089a9d7d7b": {
      "model_module": "@jupyter-widgets/base",
      "model_module_version": "1.2.0",
      "model_name": "LayoutModel",
      "state": {
       "display": "inline-flex",
       "flex_flow": "row wrap",
       "width": "100%"
      }
     },
     "be9e85e523b244b4b9bcebf1a6305ffd": {
      "model_module": "@jupyter-widgets/controls",
      "model_module_version": "1.5.0",
      "model_name": "ProgressStyleModel",
      "state": {
       "description_width": ""
      }
     },
     "beeb94399fb74fe9916a2fe612800ca9": {
      "model_module": "@jupyter-widgets/controls",
      "model_module_version": "1.5.0",
      "model_name": "FloatProgressModel",
      "state": {
       "layout": "IPY_MODEL_c47fa740336d41e690733995bbbf3c98",
       "max": 16,
       "style": "IPY_MODEL_d2c7389fdad640c79d578cd75400ad5f",
       "value": 16
      }
     },
     "bf3ab38e5b4848ca89dcde7a64f1f3ce": {
      "model_module": "@jupyter-widgets/controls",
      "model_module_version": "1.5.0",
      "model_name": "FloatProgressModel",
      "state": {
       "layout": "IPY_MODEL_e16f8bcb7d494de0a6a9b03cb2df754b",
       "max": 16,
       "style": "IPY_MODEL_037c0f87ae3545c4a9f9ec74b56199bb",
       "value": 16
      }
     },
     "bf3e76da425d4eb99a18579f79c02085": {
      "model_module": "@jupyter-widgets/controls",
      "model_module_version": "1.5.0",
      "model_name": "HTMLModel",
      "state": {
       "layout": "IPY_MODEL_355209b4930645918d4dda572b8cf541",
       "style": "IPY_MODEL_cacc16877d2e4173930fb4f9c1ca3bc1",
       "value": "Validation DataLoader 0: 100%"
      }
     },
     "bf46580368c341d69f7faa8a93a5d6c1": {
      "model_module": "@jupyter-widgets/base",
      "model_module_version": "1.2.0",
      "model_name": "LayoutModel",
      "state": {}
     },
     "bf4963c880b74d10a6f0179de390d2d1": {
      "model_module": "@jupyter-widgets/base",
      "model_module_version": "1.2.0",
      "model_name": "LayoutModel",
      "state": {}
     },
     "bf7e4596b4474941b5d5efffc9ad8924": {
      "model_module": "@jupyter-widgets/base",
      "model_module_version": "1.2.0",
      "model_name": "LayoutModel",
      "state": {
       "display": "inline-flex",
       "flex_flow": "row wrap",
       "width": "100%"
      }
     },
     "bf802ea2bfb74e6e8e1e77c68335ad38": {
      "model_module": "@jupyter-widgets/base",
      "model_module_version": "1.2.0",
      "model_name": "LayoutModel",
      "state": {}
     },
     "bf8f247db1804c4a94197996cc2b73c9": {
      "model_module": "@jupyter-widgets/controls",
      "model_module_version": "1.5.0",
      "model_name": "FloatProgressModel",
      "state": {
       "layout": "IPY_MODEL_092b865ef75a43fda02d842574b897cb",
       "max": 16,
       "style": "IPY_MODEL_958e03da380a4739b9334dfc415765bd",
       "value": 16
      }
     },
     "bfbc15bc0293447c9a920a4d356a0201": {
      "model_module": "@jupyter-widgets/controls",
      "model_module_version": "1.5.0",
      "model_name": "HTMLModel",
      "state": {
       "layout": "IPY_MODEL_5d33ddf2b6e94fd995f04e9fc500212d",
       "style": "IPY_MODEL_f4682d28516a4830aec0a320cb545a6f",
       "value": " 16/16 [00:04&lt;00:00,  3.33it/s]"
      }
     },
     "bfe0d3945a364bb8b4698470e1b681b2": {
      "model_module": "@jupyter-widgets/controls",
      "model_module_version": "1.5.0",
      "model_name": "DescriptionStyleModel",
      "state": {
       "description_width": ""
      }
     },
     "bff07e25587f4172ad8c078fd37a27da": {
      "model_module": "@jupyter-widgets/controls",
      "model_module_version": "1.5.0",
      "model_name": "DescriptionStyleModel",
      "state": {
       "description_width": ""
      }
     },
     "bff4849550bf46f094f43ab76838a0a3": {
      "model_module": "@jupyter-widgets/base",
      "model_module_version": "1.2.0",
      "model_name": "LayoutModel",
      "state": {
       "flex": "2"
      }
     },
     "bffa2f09cc5c4b9bb975041e3f8a9c69": {
      "model_module": "@jupyter-widgets/base",
      "model_module_version": "1.2.0",
      "model_name": "LayoutModel",
      "state": {}
     },
     "bffabe35f5c24a8194e6411132255d06": {
      "model_module": "@jupyter-widgets/controls",
      "model_module_version": "1.5.0",
      "model_name": "ProgressStyleModel",
      "state": {
       "description_width": ""
      }
     },
     "c00b836c6a6f46b0bfdf2f141dd163f8": {
      "model_module": "@jupyter-widgets/base",
      "model_module_version": "1.2.0",
      "model_name": "LayoutModel",
      "state": {
       "display": "inline-flex",
       "flex_flow": "row wrap",
       "width": "100%"
      }
     },
     "c049fb63766c46c9afe9fa57380967ce": {
      "model_module": "@jupyter-widgets/controls",
      "model_module_version": "1.5.0",
      "model_name": "DescriptionStyleModel",
      "state": {
       "description_width": ""
      }
     },
     "c04b8728874f4081836ece61b7295b53": {
      "model_module": "@jupyter-widgets/base",
      "model_module_version": "1.2.0",
      "model_name": "LayoutModel",
      "state": {}
     },
     "c04ef14a36de4efc9b5ccaccd3380f4b": {
      "model_module": "@jupyter-widgets/base",
      "model_module_version": "1.2.0",
      "model_name": "LayoutModel",
      "state": {
       "flex": "2"
      }
     },
     "c070e970e69346a1a6f805d45dbb471a": {
      "model_module": "@jupyter-widgets/base",
      "model_module_version": "1.2.0",
      "model_name": "LayoutModel",
      "state": {}
     },
     "c07cc0c8e0a94f40940538a492f3935b": {
      "model_module": "@jupyter-widgets/controls",
      "model_module_version": "1.5.0",
      "model_name": "DescriptionStyleModel",
      "state": {
       "description_width": ""
      }
     },
     "c084a642d00749a6b7bc916f6a8e0a1f": {
      "model_module": "@jupyter-widgets/controls",
      "model_module_version": "1.5.0",
      "model_name": "ProgressStyleModel",
      "state": {
       "description_width": ""
      }
     },
     "c0996d5a1ada4f839a12c7c354894cef": {
      "model_module": "@jupyter-widgets/base",
      "model_module_version": "1.2.0",
      "model_name": "LayoutModel",
      "state": {
       "flex": "2"
      }
     },
     "c09c8c0ec06c4d24b36d055671e9a27d": {
      "model_module": "@jupyter-widgets/base",
      "model_module_version": "1.2.0",
      "model_name": "LayoutModel",
      "state": {
       "display": "inline-flex",
       "flex_flow": "row wrap",
       "width": "100%"
      }
     },
     "c0abcb368fa148a6a9f3de5e3e5aa9ce": {
      "model_module": "@jupyter-widgets/base",
      "model_module_version": "1.2.0",
      "model_name": "LayoutModel",
      "state": {}
     },
     "c0c42bdd9c1b45fdb316141db4708bf7": {
      "model_module": "@jupyter-widgets/base",
      "model_module_version": "1.2.0",
      "model_name": "LayoutModel",
      "state": {}
     },
     "c0c669bacd42440f9a186a0a2a0f8bcf": {
      "model_module": "@jupyter-widgets/controls",
      "model_module_version": "1.5.0",
      "model_name": "DescriptionStyleModel",
      "state": {
       "description_width": ""
      }
     },
     "c0d131a4fd224afb9bfd5b75b489cbde": {
      "model_module": "@jupyter-widgets/controls",
      "model_module_version": "1.5.0",
      "model_name": "HTMLModel",
      "state": {
       "layout": "IPY_MODEL_4b361d9f29084170851dd94c3949d050",
       "style": "IPY_MODEL_8bbc426927b74555a11ca76b06cfec5f",
       "value": "Validation DataLoader 0: 100%"
      }
     },
     "c0e01f15ab25435ba476878811224fcb": {
      "model_module": "@jupyter-widgets/controls",
      "model_module_version": "1.5.0",
      "model_name": "DescriptionStyleModel",
      "state": {
       "description_width": ""
      }
     },
     "c0eca49388e240d1a23569be764af295": {
      "model_module": "@jupyter-widgets/controls",
      "model_module_version": "1.5.0",
      "model_name": "HTMLModel",
      "state": {
       "layout": "IPY_MODEL_9a75c713d1064a2fb62f8f25df37fdbb",
       "style": "IPY_MODEL_0c35093447be413f956ad762b5053973",
       "value": "Validation DataLoader 0: 100%"
      }
     },
     "c10d1227172744bf9e1ffca74095c702": {
      "model_module": "@jupyter-widgets/base",
      "model_module_version": "1.2.0",
      "model_name": "LayoutModel",
      "state": {}
     },
     "c10fe070511248ad9f1d2d1d6042bb51": {
      "model_module": "@jupyter-widgets/controls",
      "model_module_version": "1.5.0",
      "model_name": "DescriptionStyleModel",
      "state": {
       "description_width": ""
      }
     },
     "c110b09261834a85afadbfacb9e53df8": {
      "model_module": "@jupyter-widgets/controls",
      "model_module_version": "1.5.0",
      "model_name": "ProgressStyleModel",
      "state": {
       "description_width": ""
      }
     },
     "c1323aef8e8144a7b2add3e95f541fcc": {
      "model_module": "@jupyter-widgets/controls",
      "model_module_version": "1.5.0",
      "model_name": "HTMLModel",
      "state": {
       "layout": "IPY_MODEL_740351a4867347db8834bda2e5dfc2c8",
       "style": "IPY_MODEL_47324a293ebf4e77b9d1805ee35c35e7",
       "value": " 16/16 [00:00&lt;00:00, 16.16it/s]"
      }
     },
     "c13e77e1eea94c968758e31bcad2eb01": {
      "model_module": "@jupyter-widgets/controls",
      "model_module_version": "1.5.0",
      "model_name": "ProgressStyleModel",
      "state": {
       "description_width": ""
      }
     },
     "c1422da9c66344baadae237da6b88005": {
      "model_module": "@jupyter-widgets/controls",
      "model_module_version": "1.5.0",
      "model_name": "ProgressStyleModel",
      "state": {
       "description_width": ""
      }
     },
     "c14cfefa2aab41e0ad69868cfa52afe5": {
      "model_module": "@jupyter-widgets/controls",
      "model_module_version": "1.5.0",
      "model_name": "DescriptionStyleModel",
      "state": {
       "description_width": ""
      }
     },
     "c15e5230993343b5a714d31144a36973": {
      "model_module": "@jupyter-widgets/base",
      "model_module_version": "1.2.0",
      "model_name": "LayoutModel",
      "state": {
       "flex": "2"
      }
     },
     "c17756df1fe14fee89bc772bd42e002c": {
      "model_module": "@jupyter-widgets/base",
      "model_module_version": "1.2.0",
      "model_name": "LayoutModel",
      "state": {}
     },
     "c18c8529b2f54cbf9b505097b3b4a0a8": {
      "model_module": "@jupyter-widgets/controls",
      "model_module_version": "1.5.0",
      "model_name": "HTMLModel",
      "state": {
       "layout": "IPY_MODEL_b0ea593d38104c27ae13fbcbb07c0126",
       "style": "IPY_MODEL_000faae45b7946c8b8fe6a656002c389",
       "value": " 16/16 [00:01&lt;00:00, 11.36it/s]"
      }
     },
     "c1a9a4d5ed7e4202993e062f478d6a09": {
      "model_module": "@jupyter-widgets/controls",
      "model_module_version": "1.5.0",
      "model_name": "FloatProgressModel",
      "state": {
       "layout": "IPY_MODEL_578145b89fcd4fce94b39ba4ec051568",
       "max": 16,
       "style": "IPY_MODEL_e131c535a8bf4156b7ccc82a9bc3b219",
       "value": 16
      }
     },
     "c1cda21396344efca828309d5d365bad": {
      "model_module": "@jupyter-widgets/controls",
      "model_module_version": "1.5.0",
      "model_name": "FloatProgressModel",
      "state": {
       "layout": "IPY_MODEL_1a73b87cfd1847a5960e26adb451bf36",
       "max": 16,
       "style": "IPY_MODEL_0bd61668a8e54dcdb902d99c8d90d0c5",
       "value": 16
      }
     },
     "c1e0108363d744e0915059c647a37c93": {
      "model_module": "@jupyter-widgets/base",
      "model_module_version": "1.2.0",
      "model_name": "LayoutModel",
      "state": {}
     },
     "c218579ecbaf45ad8000b0dd8d6ef931": {
      "model_module": "@jupyter-widgets/controls",
      "model_module_version": "1.5.0",
      "model_name": "FloatProgressModel",
      "state": {
       "layout": "IPY_MODEL_9a5df563968d4655a9fd94fad6e4eb2b",
       "max": 16,
       "style": "IPY_MODEL_b7b3ba6d707a407d89be86c9769a1734",
       "value": 16
      }
     },
     "c220ea5743814f2093bdfee8c9c459db": {
      "model_module": "@jupyter-widgets/base",
      "model_module_version": "1.2.0",
      "model_name": "LayoutModel",
      "state": {
       "display": "inline-flex",
       "flex_flow": "row wrap",
       "width": "100%"
      }
     },
     "c222098eb7494763bcc6371d134aa6f0": {
      "model_module": "@jupyter-widgets/controls",
      "model_module_version": "1.5.0",
      "model_name": "ProgressStyleModel",
      "state": {
       "description_width": ""
      }
     },
     "c22b071f561948f7bee1f33863a2110d": {
      "model_module": "@jupyter-widgets/controls",
      "model_module_version": "1.5.0",
      "model_name": "HTMLModel",
      "state": {
       "layout": "IPY_MODEL_512cd088c6614520af4d405d977442f9",
       "style": "IPY_MODEL_0b4df54a15f04e328de200922f134d9a",
       "value": "Validation DataLoader 0: 100%"
      }
     },
     "c2383932630e41afbf448142a7e5d382": {
      "model_module": "@jupyter-widgets/base",
      "model_module_version": "1.2.0",
      "model_name": "LayoutModel",
      "state": {}
     },
     "c24b5366a4324d33b0dcbf83dae14d0c": {
      "model_module": "@jupyter-widgets/controls",
      "model_module_version": "1.5.0",
      "model_name": "HTMLModel",
      "state": {
       "layout": "IPY_MODEL_c17756df1fe14fee89bc772bd42e002c",
       "style": "IPY_MODEL_7628c26c060f4b61a1f2db2fb247acaf",
       "value": " 16/16 [00:00&lt;00:00, 18.45it/s]"
      }
     },
     "c256b72ce9344bd4ad36a4af48fe1e06": {
      "model_module": "@jupyter-widgets/controls",
      "model_module_version": "1.5.0",
      "model_name": "DescriptionStyleModel",
      "state": {
       "description_width": ""
      }
     },
     "c25802339f4f458fab53afeab820b2c7": {
      "model_module": "@jupyter-widgets/controls",
      "model_module_version": "1.5.0",
      "model_name": "ProgressStyleModel",
      "state": {
       "description_width": ""
      }
     },
     "c29040c4d2ce4427b3140d63cb6d479c": {
      "model_module": "@jupyter-widgets/controls",
      "model_module_version": "1.5.0",
      "model_name": "DescriptionStyleModel",
      "state": {
       "description_width": ""
      }
     },
     "c293b19fce8648e59e0a03d6b3086bf2": {
      "model_module": "@jupyter-widgets/controls",
      "model_module_version": "1.5.0",
      "model_name": "ProgressStyleModel",
      "state": {
       "description_width": ""
      }
     },
     "c29bd9687cef4c5caa5d399884bb8fc3": {
      "model_module": "@jupyter-widgets/base",
      "model_module_version": "1.2.0",
      "model_name": "LayoutModel",
      "state": {}
     },
     "c2a3e625dfd94b729897fbbd2dd62561": {
      "model_module": "@jupyter-widgets/base",
      "model_module_version": "1.2.0",
      "model_name": "LayoutModel",
      "state": {
       "flex": "2"
      }
     },
     "c2bd74b746264fee98607d81fd60bc93": {
      "model_module": "@jupyter-widgets/base",
      "model_module_version": "1.2.0",
      "model_name": "LayoutModel",
      "state": {}
     },
     "c2ce8f1a78824fd3bbff7287aea5694d": {
      "model_module": "@jupyter-widgets/controls",
      "model_module_version": "1.5.0",
      "model_name": "FloatProgressModel",
      "state": {
       "layout": "IPY_MODEL_979dbd2c6bd34546925b557ab787bd30",
       "max": 16,
       "style": "IPY_MODEL_a27a224cb32b4c98a59cf0fbb78b5bc1",
       "value": 16
      }
     },
     "c2f702dfb6dc43618b512e77d6ab999b": {
      "model_module": "@jupyter-widgets/base",
      "model_module_version": "1.2.0",
      "model_name": "LayoutModel",
      "state": {
       "display": "inline-flex",
       "flex_flow": "row wrap",
       "width": "100%"
      }
     },
     "c2f878100a0a41afbb276ad587054cf2": {
      "model_module": "@jupyter-widgets/controls",
      "model_module_version": "1.5.0",
      "model_name": "HTMLModel",
      "state": {
       "layout": "IPY_MODEL_fe249af29cd74f81b055273f1e3d37c7",
       "style": "IPY_MODEL_6214e3b8b4494ae1b071df812b640b39",
       "value": "Validation DataLoader 0: 100%"
      }
     },
     "c3042b62a3ec4764907e25f2342f7c18": {
      "model_module": "@jupyter-widgets/controls",
      "model_module_version": "1.5.0",
      "model_name": "ProgressStyleModel",
      "state": {
       "description_width": ""
      }
     },
     "c310f25b647143ef95c47d47f580aa30": {
      "model_module": "@jupyter-widgets/controls",
      "model_module_version": "1.5.0",
      "model_name": "HTMLModel",
      "state": {
       "layout": "IPY_MODEL_bb0cc16ec1304db79746b4cdf58843fd",
       "style": "IPY_MODEL_a065a24998c345ad8de3f9291393dfa8",
       "value": " 16/16 [00:01&lt;00:00,  7.41it/s]"
      }
     },
     "c35a25c55b0241a183cea3dbaf21b94c": {
      "model_module": "@jupyter-widgets/base",
      "model_module_version": "1.2.0",
      "model_name": "LayoutModel",
      "state": {
       "display": "inline-flex",
       "flex_flow": "row wrap",
       "width": "100%"
      }
     },
     "c39468a7a3ab4ea4a39f06e37d0679b4": {
      "model_module": "@jupyter-widgets/controls",
      "model_module_version": "1.5.0",
      "model_name": "HTMLModel",
      "state": {
       "layout": "IPY_MODEL_dd8e9f5f72044f0ba396427e4a9a4a81",
       "style": "IPY_MODEL_d146f9bf2e5b479d8fb147c76667f484",
       "value": "Validation DataLoader 0: 100%"
      }
     },
     "c3b966f3673b407897557e1f5136504b": {
      "model_module": "@jupyter-widgets/base",
      "model_module_version": "1.2.0",
      "model_name": "LayoutModel",
      "state": {}
     },
     "c3cdc0773ed34f43a91f72c648b95e7e": {
      "model_module": "@jupyter-widgets/base",
      "model_module_version": "1.2.0",
      "model_name": "LayoutModel",
      "state": {}
     },
     "c3d4e29485b64800ab484fd34cf5d9e7": {
      "model_module": "@jupyter-widgets/controls",
      "model_module_version": "1.5.0",
      "model_name": "HTMLModel",
      "state": {
       "layout": "IPY_MODEL_df7d0fc77f5343f1845487d2cd932a51",
       "style": "IPY_MODEL_c29040c4d2ce4427b3140d63cb6d479c",
       "value": " 16/16 [00:00&lt;00:00, 16.77it/s]"
      }
     },
     "c3d589a5e5604047a7f0f712cd50a872": {
      "model_module": "@jupyter-widgets/controls",
      "model_module_version": "1.5.0",
      "model_name": "DescriptionStyleModel",
      "state": {
       "description_width": ""
      }
     },
     "c3d5f1a02fb34c1b95c6311ff252505d": {
      "model_module": "@jupyter-widgets/base",
      "model_module_version": "1.2.0",
      "model_name": "LayoutModel",
      "state": {
       "display": "inline-flex",
       "flex_flow": "row wrap",
       "width": "100%"
      }
     },
     "c3d9424128f44f45846a4dedf783de1f": {
      "model_module": "@jupyter-widgets/base",
      "model_module_version": "1.2.0",
      "model_name": "LayoutModel",
      "state": {}
     },
     "c3dbbe5f54a540cda0a468b89e1c1929": {
      "model_module": "@jupyter-widgets/controls",
      "model_module_version": "1.5.0",
      "model_name": "DescriptionStyleModel",
      "state": {
       "description_width": ""
      }
     },
     "c3e3c11650314d0aa7e3557d79380127": {
      "model_module": "@jupyter-widgets/controls",
      "model_module_version": "1.5.0",
      "model_name": "HTMLModel",
      "state": {
       "layout": "IPY_MODEL_316dd5f80d4042c58c86870d0a18899e",
       "style": "IPY_MODEL_dc281881d09a43f6bd80c6c0c09ffa5e",
       "value": "Validation DataLoader 0: 100%"
      }
     },
     "c3e8f711065944648df33d8c2d3b6741": {
      "model_module": "@jupyter-widgets/controls",
      "model_module_version": "1.5.0",
      "model_name": "HTMLModel",
      "state": {
       "layout": "IPY_MODEL_a908f88648734c949909b94aa91796f4",
       "style": "IPY_MODEL_c5119262ba9d4f35ae14e4e00a4a868b",
       "value": "Validation DataLoader 0: 100%"
      }
     },
     "c3f58bb80c4243c1a66b810e4147fea1": {
      "model_module": "@jupyter-widgets/controls",
      "model_module_version": "1.5.0",
      "model_name": "DescriptionStyleModel",
      "state": {
       "description_width": ""
      }
     },
     "c3fb73bd2af54ec589ce6ef74d1f74cc": {
      "model_module": "@jupyter-widgets/controls",
      "model_module_version": "1.5.0",
      "model_name": "HTMLModel",
      "state": {
       "layout": "IPY_MODEL_3a01d3b8fe3640bfb8fa817adf4e4532",
       "style": "IPY_MODEL_fb5225355cd347978976c1ab904d1414",
       "value": "Validation DataLoader 0: 100%"
      }
     },
     "c40783bff22a4a6db824c58b8b05d6e4": {
      "model_module": "@jupyter-widgets/base",
      "model_module_version": "1.2.0",
      "model_name": "LayoutModel",
      "state": {}
     },
     "c40ef9d608714edaa1b19ecebf081b3f": {
      "model_module": "@jupyter-widgets/base",
      "model_module_version": "1.2.0",
      "model_name": "LayoutModel",
      "state": {
       "flex": "2"
      }
     },
     "c40f54c0a8ce42caa78023d21503faa7": {
      "model_module": "@jupyter-widgets/base",
      "model_module_version": "1.2.0",
      "model_name": "LayoutModel",
      "state": {
       "flex": "2"
      }
     },
     "c4384665811445518a30e18c26dd836b": {
      "model_module": "@jupyter-widgets/base",
      "model_module_version": "1.2.0",
      "model_name": "LayoutModel",
      "state": {
       "flex": "2"
      }
     },
     "c43da6bd14f64450b93c968f34dd7923": {
      "model_module": "@jupyter-widgets/base",
      "model_module_version": "1.2.0",
      "model_name": "LayoutModel",
      "state": {}
     },
     "c4478ff4ab4c4a04ab5914ea0bf9b439": {
      "model_module": "@jupyter-widgets/controls",
      "model_module_version": "1.5.0",
      "model_name": "DescriptionStyleModel",
      "state": {
       "description_width": ""
      }
     },
     "c459dd39be0b4a39af3c2eb97275fa5d": {
      "model_module": "@jupyter-widgets/base",
      "model_module_version": "1.2.0",
      "model_name": "LayoutModel",
      "state": {
       "flex": "2"
      }
     },
     "c45b82e48d3240819a72411c655e0a4e": {
      "model_module": "@jupyter-widgets/controls",
      "model_module_version": "1.5.0",
      "model_name": "DescriptionStyleModel",
      "state": {
       "description_width": ""
      }
     },
     "c4639051138b4dcbbf08e173e805ec82": {
      "model_module": "@jupyter-widgets/base",
      "model_module_version": "1.2.0",
      "model_name": "LayoutModel",
      "state": {
       "flex": "2"
      }
     },
     "c47fa740336d41e690733995bbbf3c98": {
      "model_module": "@jupyter-widgets/base",
      "model_module_version": "1.2.0",
      "model_name": "LayoutModel",
      "state": {
       "flex": "2"
      }
     },
     "c4ad86c0c85f4b2e8787ab4e493538ae": {
      "model_module": "@jupyter-widgets/base",
      "model_module_version": "1.2.0",
      "model_name": "LayoutModel",
      "state": {}
     },
     "c4ce89c087c847f294af2a5ff5411d8c": {
      "model_module": "@jupyter-widgets/controls",
      "model_module_version": "1.5.0",
      "model_name": "DescriptionStyleModel",
      "state": {
       "description_width": ""
      }
     },
     "c4e61eab0176421690f0723365818460": {
      "model_module": "@jupyter-widgets/base",
      "model_module_version": "1.2.0",
      "model_name": "LayoutModel",
      "state": {}
     },
     "c4e974125ca84f4b89a844c04112d755": {
      "model_module": "@jupyter-widgets/controls",
      "model_module_version": "1.5.0",
      "model_name": "HTMLModel",
      "state": {
       "layout": "IPY_MODEL_ebea941fe4814bcd9ba600907ef217fe",
       "style": "IPY_MODEL_c8710a103b4549c1b2c5ff7f1ea28c86",
       "value": " 16/16 [00:00&lt;00:00, 16.76it/s]"
      }
     },
     "c4eed5b55b08434ba6dab689c9bd05ae": {
      "model_module": "@jupyter-widgets/controls",
      "model_module_version": "1.5.0",
      "model_name": "HTMLModel",
      "state": {
       "layout": "IPY_MODEL_93782097a8664ae694750e48434cc7ec",
       "style": "IPY_MODEL_a6519e97dbdd486ba644ac0399fe0008",
       "value": "Validation DataLoader 0: 100%"
      }
     },
     "c4fdc1d65d3e4889ab04518a10cafe31": {
      "model_module": "@jupyter-widgets/controls",
      "model_module_version": "1.5.0",
      "model_name": "DescriptionStyleModel",
      "state": {
       "description_width": ""
      }
     },
     "c507569c902e47fcac09d38772c40838": {
      "model_module": "@jupyter-widgets/controls",
      "model_module_version": "1.5.0",
      "model_name": "HTMLModel",
      "state": {
       "layout": "IPY_MODEL_fcb15e5a1c5c49e393d5f0083cd26fd6",
       "style": "IPY_MODEL_896a6a3ee6a84c25850bbc5537b62a61",
       "value": " 16/16 [00:01&lt;00:00, 12.32it/s]"
      }
     },
     "c5119262ba9d4f35ae14e4e00a4a868b": {
      "model_module": "@jupyter-widgets/controls",
      "model_module_version": "1.5.0",
      "model_name": "DescriptionStyleModel",
      "state": {
       "description_width": ""
      }
     },
     "c5120fea7a5c4985af7b83fc46e28c64": {
      "model_module": "@jupyter-widgets/controls",
      "model_module_version": "1.5.0",
      "model_name": "DescriptionStyleModel",
      "state": {
       "description_width": ""
      }
     },
     "c5151c5dc770441bb7db023735c06f00": {
      "model_module": "@jupyter-widgets/controls",
      "model_module_version": "1.5.0",
      "model_name": "HTMLModel",
      "state": {
       "layout": "IPY_MODEL_5c9f13bd3f624411b4d69e1f703e0c63",
       "style": "IPY_MODEL_c974d456efc440be9e0490f3d006f754",
       "value": " 16/16 [00:04&lt;00:00,  3.04it/s]"
      }
     },
     "c516e47bb40648bc9717b0f6d4f21e8c": {
      "model_module": "@jupyter-widgets/base",
      "model_module_version": "1.2.0",
      "model_name": "LayoutModel",
      "state": {}
     },
     "c520663105024ff9ae023327b50d55ec": {
      "model_module": "@jupyter-widgets/controls",
      "model_module_version": "1.5.0",
      "model_name": "DescriptionStyleModel",
      "state": {
       "description_width": ""
      }
     },
     "c524aa799d144ab0a7fddde75d15c54f": {
      "model_module": "@jupyter-widgets/base",
      "model_module_version": "1.2.0",
      "model_name": "LayoutModel",
      "state": {
       "display": "inline-flex",
       "flex_flow": "row wrap",
       "width": "100%"
      }
     },
     "c529a302256e411ea560997e3ea18c58": {
      "model_module": "@jupyter-widgets/controls",
      "model_module_version": "1.5.0",
      "model_name": "HTMLModel",
      "state": {
       "layout": "IPY_MODEL_8e85766e67874a85b479058a3a4093bb",
       "style": "IPY_MODEL_c64a928095764fc2b9120571eb3ba14e",
       "value": "Validation DataLoader 0: 100%"
      }
     },
     "c5430282608c4935a1b481324c6a6a0d": {
      "model_module": "@jupyter-widgets/base",
      "model_module_version": "1.2.0",
      "model_name": "LayoutModel",
      "state": {
       "flex": "2"
      }
     },
     "c582df3c031c454ab3dc096cac9edf7c": {
      "model_module": "@jupyter-widgets/base",
      "model_module_version": "1.2.0",
      "model_name": "LayoutModel",
      "state": {
       "display": "inline-flex",
       "flex_flow": "row wrap",
       "width": "100%"
      }
     },
     "c5913fc99efc462094cdef87e4569e03": {
      "model_module": "@jupyter-widgets/controls",
      "model_module_version": "1.5.0",
      "model_name": "HTMLModel",
      "state": {
       "layout": "IPY_MODEL_959cecccbbe940419d1dcb0491cd0209",
       "style": "IPY_MODEL_7ee65ce8dcbb4d2d8cc8b2c51bcff517",
       "value": "Validation DataLoader 0: 100%"
      }
     },
     "c5a753c0dbd0496299c8a2e34f460f9a": {
      "model_module": "@jupyter-widgets/base",
      "model_module_version": "1.2.0",
      "model_name": "LayoutModel",
      "state": {
       "display": "inline-flex",
       "flex_flow": "row wrap",
       "width": "100%"
      }
     },
     "c5b582ddd3214a9aaf7836c3adae6a2a": {
      "model_module": "@jupyter-widgets/base",
      "model_module_version": "1.2.0",
      "model_name": "LayoutModel",
      "state": {}
     },
     "c5bbb6333e0149989725993509b43ff9": {
      "model_module": "@jupyter-widgets/controls",
      "model_module_version": "1.5.0",
      "model_name": "FloatProgressModel",
      "state": {
       "layout": "IPY_MODEL_b484b725610742619472dccb43febbc7",
       "max": 77,
       "style": "IPY_MODEL_6ca324cbea0f41428281528f424dc8db",
       "value": 37
      }
     },
     "c5c777f59d5c4aa4a3b8c5315aaf83b3": {
      "model_module": "@jupyter-widgets/base",
      "model_module_version": "1.2.0",
      "model_name": "LayoutModel",
      "state": {
       "flex": "2"
      }
     },
     "c5c7b2b7450141949eefd7fbc7e89bfe": {
      "model_module": "@jupyter-widgets/base",
      "model_module_version": "1.2.0",
      "model_name": "LayoutModel",
      "state": {
       "flex": "2"
      }
     },
     "c5dd8bdde59d401581702128ce657249": {
      "model_module": "@jupyter-widgets/controls",
      "model_module_version": "1.5.0",
      "model_name": "ProgressStyleModel",
      "state": {
       "description_width": ""
      }
     },
     "c6039240aa75477ca05c66224d960131": {
      "model_module": "@jupyter-widgets/controls",
      "model_module_version": "1.5.0",
      "model_name": "HTMLModel",
      "state": {
       "layout": "IPY_MODEL_c40783bff22a4a6db824c58b8b05d6e4",
       "style": "IPY_MODEL_b17ec2c12a374804abf73ac6a9f694a1",
       "value": " 16/16 [00:00&lt;00:00, 19.59it/s]"
      }
     },
     "c61311634aa540ffa3f01d6abc6ceac5": {
      "model_module": "@jupyter-widgets/base",
      "model_module_version": "1.2.0",
      "model_name": "LayoutModel",
      "state": {
       "flex": "2"
      }
     },
     "c61dc3852b784df8bc56f53507c5bc4a": {
      "model_module": "@jupyter-widgets/controls",
      "model_module_version": "1.5.0",
      "model_name": "ProgressStyleModel",
      "state": {
       "description_width": ""
      }
     },
     "c62a832f7d9e430aac84bf333fe1f064": {
      "model_module": "@jupyter-widgets/controls",
      "model_module_version": "1.5.0",
      "model_name": "HTMLModel",
      "state": {
       "layout": "IPY_MODEL_8de403b988f240589f73541762cfda1a",
       "style": "IPY_MODEL_e2aad16bf9624eb99745cac3c3c1fbd4",
       "value": " 33/77 [00:03&lt;00:04, 10.97it/s, loss=1.95, v_num=H-50]"
      }
     },
     "c634c552525c43f0a09bbc6ce1146137": {
      "model_module": "@jupyter-widgets/controls",
      "model_module_version": "1.5.0",
      "model_name": "HTMLModel",
      "state": {
       "layout": "IPY_MODEL_687dde58a0554d4ab803018b60fe6b55",
       "style": "IPY_MODEL_da0d02b124384e999e720f0b71f3cca2",
       "value": "Validation DataLoader 0: 100%"
      }
     },
     "c6414a6712ad4849835d67215df221e1": {
      "model_module": "@jupyter-widgets/base",
      "model_module_version": "1.2.0",
      "model_name": "LayoutModel",
      "state": {
       "flex": "2"
      }
     },
     "c64a928095764fc2b9120571eb3ba14e": {
      "model_module": "@jupyter-widgets/controls",
      "model_module_version": "1.5.0",
      "model_name": "DescriptionStyleModel",
      "state": {
       "description_width": ""
      }
     },
     "c656cc743e7d416cad72c90866eb0959": {
      "model_module": "@jupyter-widgets/controls",
      "model_module_version": "1.5.0",
      "model_name": "ProgressStyleModel",
      "state": {
       "description_width": ""
      }
     },
     "c67a88b78228489bacc351f265e13aa1": {
      "model_module": "@jupyter-widgets/controls",
      "model_module_version": "1.5.0",
      "model_name": "DescriptionStyleModel",
      "state": {
       "description_width": ""
      }
     },
     "c67d33abbc394e5b975d7be6cbdf7205": {
      "model_module": "@jupyter-widgets/controls",
      "model_module_version": "1.5.0",
      "model_name": "ProgressStyleModel",
      "state": {
       "description_width": ""
      }
     },
     "c68d1fb076604ccabc19da97d2f1a460": {
      "model_module": "@jupyter-widgets/controls",
      "model_module_version": "1.5.0",
      "model_name": "FloatProgressModel",
      "state": {
       "layout": "IPY_MODEL_682a9564d4ca48afa8e9c1b845b55313",
       "max": 16,
       "style": "IPY_MODEL_f1ab7807ba2c461395d23496f9c3713c",
       "value": 16
      }
     },
     "c6d4db31b4514c46bfef69f41cc19287": {
      "model_module": "@jupyter-widgets/controls",
      "model_module_version": "1.5.0",
      "model_name": "HTMLModel",
      "state": {
       "layout": "IPY_MODEL_d6084eac6e37496786dc22bf1e815dd1",
       "style": "IPY_MODEL_ed9f42410d654c8fa17260d92acf72f9",
       "value": "Validation DataLoader 0: 100%"
      }
     },
     "c7065e0d83764d57bfd9a1ef2c31e182": {
      "model_module": "@jupyter-widgets/base",
      "model_module_version": "1.2.0",
      "model_name": "LayoutModel",
      "state": {
       "display": "inline-flex",
       "flex_flow": "row wrap",
       "width": "100%"
      }
     },
     "c71b7142a4c4463f9f496f161c3f86f2": {
      "model_module": "@jupyter-widgets/controls",
      "model_module_version": "1.5.0",
      "model_name": "FloatProgressModel",
      "state": {
       "bar_style": "danger",
       "layout": "IPY_MODEL_0b8b77cab4004d9daed140777be60de5",
       "max": 77,
       "style": "IPY_MODEL_7156115b9c1b41dd9610c30dbff1eda9",
       "value": 10
      }
     },
     "c72133cd76f74652b3b10c9aa17ce471": {
      "model_module": "@jupyter-widgets/controls",
      "model_module_version": "1.5.0",
      "model_name": "HTMLModel",
      "state": {
       "layout": "IPY_MODEL_4ce64ca9009345828cd548b05c9e8f53",
       "style": "IPY_MODEL_9e845d3f226449dda0136dd85af1e8cf",
       "value": "Validation DataLoader 0: 100%"
      }
     },
     "c73eb7ff016a41859e2a26ffd75c0cae": {
      "model_module": "@jupyter-widgets/controls",
      "model_module_version": "1.5.0",
      "model_name": "HTMLModel",
      "state": {
       "layout": "IPY_MODEL_ea39228596c74c81a9755d9e21c54480",
       "style": "IPY_MODEL_1b7336cbcd9e4b57adc3d2fe173d9be1",
       "value": " 16/16 [00:00&lt;00:00, 18.77it/s]"
      }
     },
     "c790cddc268d46e39be7c7c7ae2c4709": {
      "model_module": "@jupyter-widgets/controls",
      "model_module_version": "1.5.0",
      "model_name": "DescriptionStyleModel",
      "state": {
       "description_width": ""
      }
     },
     "c79226c606fa49f797b1d2a57b933e9d": {
      "model_module": "@jupyter-widgets/base",
      "model_module_version": "1.2.0",
      "model_name": "LayoutModel",
      "state": {
       "display": "inline-flex",
       "flex_flow": "row wrap",
       "width": "100%"
      }
     },
     "c7af7ba93cb04e6cb1e2d70208a2aa42": {
      "model_module": "@jupyter-widgets/controls",
      "model_module_version": "1.5.0",
      "model_name": "HTMLModel",
      "state": {
       "layout": "IPY_MODEL_7816bddc5d2f4b45b38c884455a46c9d",
       "style": "IPY_MODEL_6a0fc74807d34de39d14f0e20ba906d9",
       "value": " 16/16 [00:03&lt;00:00,  4.22it/s]"
      }
     },
     "c7b0e574a66f4300b7dbc1a781e656d3": {
      "model_module": "@jupyter-widgets/controls",
      "model_module_version": "1.5.0",
      "model_name": "HTMLModel",
      "state": {
       "layout": "IPY_MODEL_f0e4a1a7c9bf4dce9d3a0a50a7416e50",
       "style": "IPY_MODEL_1d37fdcdd18b4f8d8d8ef4f81ce04090",
       "value": " 16/16 [00:04&lt;00:00,  3.43it/s]"
      }
     },
     "c7c950fe5598418091c3f3a28af9ab51": {
      "model_module": "@jupyter-widgets/controls",
      "model_module_version": "1.5.0",
      "model_name": "HTMLModel",
      "state": {
       "layout": "IPY_MODEL_c2383932630e41afbf448142a7e5d382",
       "style": "IPY_MODEL_113bdc5008cd438084808108cec8480e",
       "value": " 16/16 [00:00&lt;00:00, 17.87it/s]"
      }
     },
     "c7d9d7954f2644ecbaadc5f24bd45841": {
      "model_module": "@jupyter-widgets/controls",
      "model_module_version": "1.5.0",
      "model_name": "FloatProgressModel",
      "state": {
       "layout": "IPY_MODEL_d00232464ae14939ae123effb15e8f31",
       "max": 16,
       "style": "IPY_MODEL_c61dc3852b784df8bc56f53507c5bc4a",
       "value": 16
      }
     },
     "c7f5ba229c894a7ea4b06398d66db14c": {
      "model_module": "@jupyter-widgets/controls",
      "model_module_version": "1.5.0",
      "model_name": "ProgressStyleModel",
      "state": {
       "description_width": ""
      }
     },
     "c8418e0b2c4242078a0f87bd1125aff2": {
      "model_module": "@jupyter-widgets/base",
      "model_module_version": "1.2.0",
      "model_name": "LayoutModel",
      "state": {
       "flex": "2"
      }
     },
     "c844b6adfe2f4b18a3d3c547f49981b0": {
      "model_module": "@jupyter-widgets/base",
      "model_module_version": "1.2.0",
      "model_name": "LayoutModel",
      "state": {
       "display": "inline-flex",
       "flex_flow": "row wrap",
       "width": "100%"
      }
     },
     "c84a4b7dfc594693a2e0f64d348a4d0e": {
      "model_module": "@jupyter-widgets/base",
      "model_module_version": "1.2.0",
      "model_name": "LayoutModel",
      "state": {}
     },
     "c85ace3f3f624734b4c01393069da217": {
      "model_module": "@jupyter-widgets/base",
      "model_module_version": "1.2.0",
      "model_name": "LayoutModel",
      "state": {}
     },
     "c8710a103b4549c1b2c5ff7f1ea28c86": {
      "model_module": "@jupyter-widgets/controls",
      "model_module_version": "1.5.0",
      "model_name": "DescriptionStyleModel",
      "state": {
       "description_width": ""
      }
     },
     "c8735c18bda64783ab135ae4550f835e": {
      "model_module": "@jupyter-widgets/base",
      "model_module_version": "1.2.0",
      "model_name": "LayoutModel",
      "state": {}
     },
     "c884e4471ac04e8d8dfbe541042c8668": {
      "model_module": "@jupyter-widgets/controls",
      "model_module_version": "1.5.0",
      "model_name": "HTMLModel",
      "state": {
       "layout": "IPY_MODEL_68a58619556340c78c38f46acf31d2bb",
       "style": "IPY_MODEL_21d39f0419544462bd7eb7d27d0d5e0a",
       "value": " 16/16 [00:00&lt;00:00, 14.59it/s]"
      }
     },
     "c8ac693ca5d44220b2385d3f9992d62b": {
      "model_module": "@jupyter-widgets/base",
      "model_module_version": "1.2.0",
      "model_name": "LayoutModel",
      "state": {}
     },
     "c8b3b034a2db409cb35310b1e9d7ac4c": {
      "model_module": "@jupyter-widgets/controls",
      "model_module_version": "1.5.0",
      "model_name": "HTMLModel",
      "state": {
       "layout": "IPY_MODEL_637ab9ca363b483099af135bbcdc6489",
       "style": "IPY_MODEL_5489e14a5e2a4af591c07731a7aa4157",
       "value": " 16/16 [00:00&lt;00:00, 17.36it/s]"
      }
     },
     "c8f0135c4c954740a72ab3ea010e7c32": {
      "model_module": "@jupyter-widgets/controls",
      "model_module_version": "1.5.0",
      "model_name": "HTMLModel",
      "state": {
       "layout": "IPY_MODEL_92844b21f3ad44ceb4b9f834658f1dd0",
       "style": "IPY_MODEL_51eb91acaaf846e0a731792d247813ae",
       "value": "Validation DataLoader 0: 100%"
      }
     },
     "c901bde154c14b67ba9520be2376f306": {
      "model_module": "@jupyter-widgets/base",
      "model_module_version": "1.2.0",
      "model_name": "LayoutModel",
      "state": {
       "flex": "2"
      }
     },
     "c905342b32c641c78f3959a047135e77": {
      "model_module": "@jupyter-widgets/base",
      "model_module_version": "1.2.0",
      "model_name": "LayoutModel",
      "state": {
       "flex": "2"
      }
     },
     "c934734cdff240d6be7102a629f76a72": {
      "model_module": "@jupyter-widgets/controls",
      "model_module_version": "1.5.0",
      "model_name": "HTMLModel",
      "state": {
       "layout": "IPY_MODEL_16f661aa51134012867c22623b258efb",
       "style": "IPY_MODEL_0117c61a6c754897990d0fe2233b74b0",
       "value": "Validation DataLoader 0: 100%"
      }
     },
     "c94373188a8f47878a4109f01c657424": {
      "model_module": "@jupyter-widgets/controls",
      "model_module_version": "1.5.0",
      "model_name": "HTMLModel",
      "state": {
       "layout": "IPY_MODEL_f436f4b358e5403194ce837d95aebc91",
       "style": "IPY_MODEL_0efbb84cd2654428aa1134297fb9207b",
       "value": "Validation DataLoader 0: 100%"
      }
     },
     "c94527d64ffd4629b6354309b9503b04": {
      "model_module": "@jupyter-widgets/base",
      "model_module_version": "1.2.0",
      "model_name": "LayoutModel",
      "state": {}
     },
     "c9491fd250b74b29b323f312de851d92": {
      "model_module": "@jupyter-widgets/controls",
      "model_module_version": "1.5.0",
      "model_name": "ProgressStyleModel",
      "state": {
       "description_width": ""
      }
     },
     "c95ffe0a2cf740f0adc10600f86ba71c": {
      "model_module": "@jupyter-widgets/controls",
      "model_module_version": "1.5.0",
      "model_name": "HTMLModel",
      "state": {
       "layout": "IPY_MODEL_e7bda7cbe60e49b2ab815d86c5f830c3",
       "style": "IPY_MODEL_5a422d99ff9e4cefb90bf599474f7729",
       "value": " 16/16 [00:01&lt;00:00,  8.52it/s]"
      }
     },
     "c96ae138ad044a4db69ba41c2b701263": {
      "model_module": "@jupyter-widgets/base",
      "model_module_version": "1.2.0",
      "model_name": "LayoutModel",
      "state": {}
     },
     "c974d456efc440be9e0490f3d006f754": {
      "model_module": "@jupyter-widgets/controls",
      "model_module_version": "1.5.0",
      "model_name": "DescriptionStyleModel",
      "state": {
       "description_width": ""
      }
     },
     "c9887f88caa24e2db822a1dfe15fc411": {
      "model_module": "@jupyter-widgets/controls",
      "model_module_version": "1.5.0",
      "model_name": "ProgressStyleModel",
      "state": {
       "description_width": ""
      }
     },
     "c9ba8c7970a845638c04d2c787b4d2a6": {
      "model_module": "@jupyter-widgets/controls",
      "model_module_version": "1.5.0",
      "model_name": "FloatProgressModel",
      "state": {
       "layout": "IPY_MODEL_c0996d5a1ada4f839a12c7c354894cef",
       "max": 2,
       "style": "IPY_MODEL_cd52628f2d5744d389ae76b8b0ac66e2",
       "value": 2
      }
     },
     "c9bcebf5298b421784b1fb18d2a69ead": {
      "model_module": "@jupyter-widgets/base",
      "model_module_version": "1.2.0",
      "model_name": "LayoutModel",
      "state": {
       "flex": "2"
      }
     },
     "c9ca1f7b4bbe49358e80187067542975": {
      "model_module": "@jupyter-widgets/controls",
      "model_module_version": "1.5.0",
      "model_name": "DescriptionStyleModel",
      "state": {
       "description_width": ""
      }
     },
     "c9db073ed34f48dba4bd9043fcc41fe3": {
      "model_module": "@jupyter-widgets/controls",
      "model_module_version": "1.5.0",
      "model_name": "HTMLModel",
      "state": {
       "layout": "IPY_MODEL_863f2b7ccd1d40068ff228fc41a8f435",
       "style": "IPY_MODEL_a5803c7a7e7540cab70105cdf6e91c18",
       "value": "Validation DataLoader 0: 100%"
      }
     },
     "c9deb04649ad4daaaef957e2f21ba50e": {
      "model_module": "@jupyter-widgets/controls",
      "model_module_version": "1.5.0",
      "model_name": "HTMLModel",
      "state": {
       "layout": "IPY_MODEL_fb420b805ff74317a5c2f9270d5e1bf4",
       "style": "IPY_MODEL_34c9eb2c4f9a408e89acf4bede757449",
       "value": " 16/16 [00:01&lt;00:00, 12.04it/s]"
      }
     },
     "ca002ecaf682422db39f2f48ebf30818": {
      "model_module": "@jupyter-widgets/controls",
      "model_module_version": "1.5.0",
      "model_name": "DescriptionStyleModel",
      "state": {
       "description_width": ""
      }
     },
     "ca06636e66bf4be1bf3265cb1e7d40ac": {
      "model_module": "@jupyter-widgets/controls",
      "model_module_version": "1.5.0",
      "model_name": "DescriptionStyleModel",
      "state": {
       "description_width": ""
      }
     },
     "ca0e7b4094f144a6afaae55c68733a0c": {
      "model_module": "@jupyter-widgets/controls",
      "model_module_version": "1.5.0",
      "model_name": "HTMLModel",
      "state": {
       "layout": "IPY_MODEL_2cd70891a3c14bfc908cf3b6f5a149cd",
       "style": "IPY_MODEL_e1b70c13d9e84b2c865f34b3aa4bebea",
       "value": " 16/16 [00:00&lt;00:00, 19.09it/s]"
      }
     },
     "ca20052aac8c4ee2bc641ab355d6bc81": {
      "model_module": "@jupyter-widgets/controls",
      "model_module_version": "1.5.0",
      "model_name": "ProgressStyleModel",
      "state": {
       "description_width": ""
      }
     },
     "ca6096d30ab44c5c9c076fbb5ae87be7": {
      "model_module": "@jupyter-widgets/controls",
      "model_module_version": "1.5.0",
      "model_name": "HTMLModel",
      "state": {
       "layout": "IPY_MODEL_6c05f6beedf741778468260a9523a457",
       "style": "IPY_MODEL_4d2be385dfbd4d1a809e659132984d02",
       "value": "Validation DataLoader 0: 100%"
      }
     },
     "ca667debd7f04d72a6f5efece0e7797f": {
      "model_module": "@jupyter-widgets/base",
      "model_module_version": "1.2.0",
      "model_name": "LayoutModel",
      "state": {
       "flex": "2"
      }
     },
     "ca6e374fae4c42a4810dcc1ab4bac3d1": {
      "model_module": "@jupyter-widgets/controls",
      "model_module_version": "1.5.0",
      "model_name": "DescriptionStyleModel",
      "state": {
       "description_width": ""
      }
     },
     "caa29c829cc547b9ae4ec411a3a5cf80": {
      "model_module": "@jupyter-widgets/controls",
      "model_module_version": "1.5.0",
      "model_name": "HTMLModel",
      "state": {
       "layout": "IPY_MODEL_d34acc0b645a453c9acbcc4edb0791c4",
       "style": "IPY_MODEL_6d98488960874b578ebb1237121906f3",
       "value": " 16/16 [00:02&lt;00:00,  6.92it/s]"
      }
     },
     "cacc16877d2e4173930fb4f9c1ca3bc1": {
      "model_module": "@jupyter-widgets/controls",
      "model_module_version": "1.5.0",
      "model_name": "DescriptionStyleModel",
      "state": {
       "description_width": ""
      }
     },
     "cad446df340748cbbbfa8e594610af5d": {
      "model_module": "@jupyter-widgets/base",
      "model_module_version": "1.2.0",
      "model_name": "LayoutModel",
      "state": {}
     },
     "cada392e9ade4f2c94794888c9ce1f66": {
      "model_module": "@jupyter-widgets/controls",
      "model_module_version": "1.5.0",
      "model_name": "ProgressStyleModel",
      "state": {
       "description_width": ""
      }
     },
     "caded396de494fb69f6c6d7396ca094b": {
      "model_module": "@jupyter-widgets/controls",
      "model_module_version": "1.5.0",
      "model_name": "DescriptionStyleModel",
      "state": {
       "description_width": ""
      }
     },
     "caf98d7db45b4fbc891142376395e829": {
      "model_module": "@jupyter-widgets/controls",
      "model_module_version": "1.5.0",
      "model_name": "FloatProgressModel",
      "state": {
       "layout": "IPY_MODEL_80485af489b94525a57d6b0101a2837c",
       "max": 16,
       "style": "IPY_MODEL_b62036a55b0142a58a56491aa035a429",
       "value": 16
      }
     },
     "cafb70fd2cfa41178a0bc60a22187bc2": {
      "model_module": "@jupyter-widgets/base",
      "model_module_version": "1.2.0",
      "model_name": "LayoutModel",
      "state": {}
     },
     "cb0ff3da73854992b89bc3182e56acab": {
      "model_module": "@jupyter-widgets/controls",
      "model_module_version": "1.5.0",
      "model_name": "DescriptionStyleModel",
      "state": {
       "description_width": ""
      }
     },
     "cb1a3374e5cc445c8995cc57a5d19aa7": {
      "model_module": "@jupyter-widgets/base",
      "model_module_version": "1.2.0",
      "model_name": "LayoutModel",
      "state": {}
     },
     "cb282e390c1b47a88a1b67483b4880fa": {
      "model_module": "@jupyter-widgets/controls",
      "model_module_version": "1.5.0",
      "model_name": "HTMLModel",
      "state": {
       "layout": "IPY_MODEL_1ac413cdde4047e483f36d5ed6dea06c",
       "style": "IPY_MODEL_9ea2e63e031e44fbb947232e2655d3e1",
       "value": "Validation DataLoader 0: 100%"
      }
     },
     "cb339c4947d04bc0be1a769d70457517": {
      "model_module": "@jupyter-widgets/controls",
      "model_module_version": "1.5.0",
      "model_name": "FloatProgressModel",
      "state": {
       "layout": "IPY_MODEL_6df2f49e195d40f5ab90569c8e88ab53",
       "max": 16,
       "style": "IPY_MODEL_06c6d4601b994317bd3b30c62a538367",
       "value": 16
      }
     },
     "cb4f0bf039bd4b94a7b5c5a97c9c9064": {
      "model_module": "@jupyter-widgets/controls",
      "model_module_version": "1.5.0",
      "model_name": "FloatProgressModel",
      "state": {
       "layout": "IPY_MODEL_1d064c43ea2547f1a18e0bd9be9068b5",
       "max": 16,
       "style": "IPY_MODEL_7206adc6d7c04276803defeb8667f072",
       "value": 16
      }
     },
     "cb4fb095a40b457a99e7b7f55fddc8b1": {
      "model_module": "@jupyter-widgets/controls",
      "model_module_version": "1.5.0",
      "model_name": "HTMLModel",
      "state": {
       "layout": "IPY_MODEL_085f54290a934e5c8fcbb4b7d0256954",
       "style": "IPY_MODEL_caded396de494fb69f6c6d7396ca094b",
       "value": "Validation DataLoader 0: 100%"
      }
     },
     "cb5499a8b0f14632b5810115a6c329f4": {
      "model_module": "@jupyter-widgets/controls",
      "model_module_version": "1.5.0",
      "model_name": "DescriptionStyleModel",
      "state": {
       "description_width": ""
      }
     },
     "cb6ca10f596a41839cda55716651e192": {
      "model_module": "@jupyter-widgets/base",
      "model_module_version": "1.2.0",
      "model_name": "LayoutModel",
      "state": {
       "flex": "2"
      }
     },
     "cb8524ff92da48349812491d7b830ff4": {
      "model_module": "@jupyter-widgets/base",
      "model_module_version": "1.2.0",
      "model_name": "LayoutModel",
      "state": {}
     },
     "cbafaef80f5c41e2b682280af0da6664": {
      "model_module": "@jupyter-widgets/controls",
      "model_module_version": "1.5.0",
      "model_name": "HTMLModel",
      "state": {
       "layout": "IPY_MODEL_b15c899a23c748e7b4629528c73c8cf5",
       "style": "IPY_MODEL_53414039d3154527bddffdb27315302c",
       "value": "Validation DataLoader 0: 100%"
      }
     },
     "cbd4ddb5997c47cb98a3b82317dc0e34": {
      "model_module": "@jupyter-widgets/base",
      "model_module_version": "1.2.0",
      "model_name": "LayoutModel",
      "state": {}
     },
     "cbd535b48c9541f090b21e8e34143a72": {
      "model_module": "@jupyter-widgets/base",
      "model_module_version": "1.2.0",
      "model_name": "LayoutModel",
      "state": {}
     },
     "cbefbdde290749d8aad6d1bb9368f84b": {
      "model_module": "@jupyter-widgets/controls",
      "model_module_version": "1.5.0",
      "model_name": "ProgressStyleModel",
      "state": {
       "description_width": ""
      }
     },
     "cc14a19b65b04a5cb3a15ba1c3b58fed": {
      "model_module": "@jupyter-widgets/base",
      "model_module_version": "1.2.0",
      "model_name": "LayoutModel",
      "state": {}
     },
     "cc2f5cc89fa24c8e992383d6d8ed1820": {
      "model_module": "@jupyter-widgets/controls",
      "model_module_version": "1.5.0",
      "model_name": "DescriptionStyleModel",
      "state": {
       "description_width": ""
      }
     },
     "cc32f42120a94716ad22ee598c8ed1e3": {
      "model_module": "@jupyter-widgets/controls",
      "model_module_version": "1.5.0",
      "model_name": "HTMLModel",
      "state": {
       "layout": "IPY_MODEL_435a06d2891c4387bbdf960bc7e8df5a",
       "style": "IPY_MODEL_b6b6304a20a9436da708746331da16a0",
       "value": " 16/16 [00:04&lt;00:00,  3.16it/s]"
      }
     },
     "cc397bf9e9e8495c88f1164d113fc814": {
      "model_module": "@jupyter-widgets/base",
      "model_module_version": "1.2.0",
      "model_name": "LayoutModel",
      "state": {}
     },
     "cc404a0bc73241fb890460dad51b7896": {
      "model_module": "@jupyter-widgets/controls",
      "model_module_version": "1.5.0",
      "model_name": "HTMLModel",
      "state": {
       "layout": "IPY_MODEL_935f9f10c9be4c088f96c0632042ffd7",
       "style": "IPY_MODEL_854ef3c516a4497495a328c8c57731bd",
       "value": " 16/16 [00:00&lt;00:00, 18.68it/s]"
      }
     },
     "cc4115d0174b427e9b5ba0b8b227f275": {
      "model_module": "@jupyter-widgets/base",
      "model_module_version": "1.2.0",
      "model_name": "LayoutModel",
      "state": {}
     },
     "cc46b40fd43d46d79ce78b5767b9b5b0": {
      "model_module": "@jupyter-widgets/base",
      "model_module_version": "1.2.0",
      "model_name": "LayoutModel",
      "state": {
       "flex": "2"
      }
     },
     "cc6183a5d2c74c2f9ec9ef35e6f36a55": {
      "model_module": "@jupyter-widgets/base",
      "model_module_version": "1.2.0",
      "model_name": "LayoutModel",
      "state": {
       "display": "inline-flex",
       "flex_flow": "row wrap",
       "width": "100%"
      }
     },
     "cc6d1379cbde4738ad0e2780c890a374": {
      "model_module": "@jupyter-widgets/controls",
      "model_module_version": "1.5.0",
      "model_name": "DescriptionStyleModel",
      "state": {
       "description_width": ""
      }
     },
     "cc71b0eec31444f49889c60e759a77dd": {
      "model_module": "@jupyter-widgets/controls",
      "model_module_version": "1.5.0",
      "model_name": "FloatProgressModel",
      "state": {
       "layout": "IPY_MODEL_41b3863cfd6c472cb6d24fba310253a3",
       "max": 16,
       "style": "IPY_MODEL_07bd28a5d8e94e5886f0b596bc8354a1",
       "value": 16
      }
     },
     "cc742daa1c84474cb6a894c53308ccee": {
      "model_module": "@jupyter-widgets/base",
      "model_module_version": "1.2.0",
      "model_name": "LayoutModel",
      "state": {
       "flex": "2"
      }
     },
     "cc8a7ec046a24e939ebcc5c70ea22afd": {
      "model_module": "@jupyter-widgets/base",
      "model_module_version": "1.2.0",
      "model_name": "LayoutModel",
      "state": {
       "display": "inline-flex",
       "flex_flow": "row wrap",
       "width": "100%"
      }
     },
     "cc9f75e2d9c14467a7a8a24dc49bfcc3": {
      "model_module": "@jupyter-widgets/controls",
      "model_module_version": "1.5.0",
      "model_name": "DescriptionStyleModel",
      "state": {
       "description_width": ""
      }
     },
     "cca403afc5a5416ebf2cc15343abe859": {
      "model_module": "@jupyter-widgets/controls",
      "model_module_version": "1.5.0",
      "model_name": "HTMLModel",
      "state": {
       "layout": "IPY_MODEL_52e0f10a91154b46b3425457cd722e34",
       "style": "IPY_MODEL_2c738527696747149744895a5f107b1f",
       "value": " 16/16 [00:00&lt;00:00, 18.61it/s]"
      }
     },
     "cca589296f124b35b6df79e0955280f0": {
      "model_module": "@jupyter-widgets/base",
      "model_module_version": "1.2.0",
      "model_name": "LayoutModel",
      "state": {
       "display": "inline-flex",
       "flex_flow": "row wrap",
       "width": "100%"
      }
     },
     "ccba37ada4b8483c9d7f48f8eec32be1": {
      "model_module": "@jupyter-widgets/base",
      "model_module_version": "1.2.0",
      "model_name": "LayoutModel",
      "state": {
       "flex": "2"
      }
     },
     "cce84942d2e4481e8c07fd3210f6a9f3": {
      "model_module": "@jupyter-widgets/controls",
      "model_module_version": "1.5.0",
      "model_name": "ProgressStyleModel",
      "state": {
       "description_width": ""
      }
     },
     "ccf0f5258bc44035b54c3989ef30d98c": {
      "model_module": "@jupyter-widgets/controls",
      "model_module_version": "1.5.0",
      "model_name": "ProgressStyleModel",
      "state": {
       "description_width": ""
      }
     },
     "cd02a047ab2649a18b593239c1258476": {
      "model_module": "@jupyter-widgets/base",
      "model_module_version": "1.2.0",
      "model_name": "LayoutModel",
      "state": {
       "display": "inline-flex",
       "flex_flow": "row wrap",
       "width": "100%"
      }
     },
     "cd06d1810373451a95e9039376956bfb": {
      "model_module": "@jupyter-widgets/controls",
      "model_module_version": "1.5.0",
      "model_name": "DescriptionStyleModel",
      "state": {
       "description_width": ""
      }
     },
     "cd1ad88ce962443eb72b2d209678d908": {
      "model_module": "@jupyter-widgets/base",
      "model_module_version": "1.2.0",
      "model_name": "LayoutModel",
      "state": {}
     },
     "cd2c0bd47bde4e4aa9a5480ec8ef47cb": {
      "model_module": "@jupyter-widgets/base",
      "model_module_version": "1.2.0",
      "model_name": "LayoutModel",
      "state": {}
     },
     "cd478b2f768f4262b29d432fba91251a": {
      "model_module": "@jupyter-widgets/controls",
      "model_module_version": "1.5.0",
      "model_name": "ProgressStyleModel",
      "state": {
       "description_width": ""
      }
     },
     "cd52628f2d5744d389ae76b8b0ac66e2": {
      "model_module": "@jupyter-widgets/controls",
      "model_module_version": "1.5.0",
      "model_name": "ProgressStyleModel",
      "state": {
       "description_width": ""
      }
     },
     "cd5694f71d924e9682e61790490efb36": {
      "model_module": "@jupyter-widgets/base",
      "model_module_version": "1.2.0",
      "model_name": "LayoutModel",
      "state": {
       "display": "inline-flex",
       "flex_flow": "row wrap",
       "width": "100%"
      }
     },
     "cd5bb3bd60364168a8ac8b08dcb035c2": {
      "model_module": "@jupyter-widgets/controls",
      "model_module_version": "1.5.0",
      "model_name": "HTMLModel",
      "state": {
       "layout": "IPY_MODEL_07695296cdb94e4bb462f2e6434f2e24",
       "style": "IPY_MODEL_35c388fc5648477cac740279453c8fd6",
       "value": " 16/16 [00:00&lt;00:00, 21.89it/s]"
      }
     },
     "cd5c920f133b4605b9176a82f10e0845": {
      "model_module": "@jupyter-widgets/controls",
      "model_module_version": "1.5.0",
      "model_name": "HTMLModel",
      "state": {
       "layout": "IPY_MODEL_7f525524f5c64a589af96ad16a7f127a",
       "style": "IPY_MODEL_bba1d061dc4344baa379c4874a94c70c",
       "value": " 16/16 [00:00&lt;00:00, 18.39it/s]"
      }
     },
     "cd7ce739e38f4786a5ee67491df323f4": {
      "model_module": "@jupyter-widgets/controls",
      "model_module_version": "1.5.0",
      "model_name": "HTMLModel",
      "state": {
       "layout": "IPY_MODEL_454a3f7d8f9a4392be41a7dc5de5f473",
       "style": "IPY_MODEL_45225f4bbc0f4751b47445ea571ee380",
       "value": " 16/16 [00:01&lt;00:00, 13.88it/s]"
      }
     },
     "cd9193f5a7a14140ab7868c0f2167406": {
      "model_module": "@jupyter-widgets/controls",
      "model_module_version": "1.5.0",
      "model_name": "FloatProgressModel",
      "state": {
       "layout": "IPY_MODEL_8430399944c54b3b807acb7a4ef54636",
       "max": 16,
       "style": "IPY_MODEL_9142227ad0bc472b8ed49fec979e56d0",
       "value": 16
      }
     },
     "cd96c956179f49dea726becefc404a57": {
      "model_module": "@jupyter-widgets/base",
      "model_module_version": "1.2.0",
      "model_name": "LayoutModel",
      "state": {}
     },
     "cdccf80828d84a5582314c980d71e6be": {
      "model_module": "@jupyter-widgets/base",
      "model_module_version": "1.2.0",
      "model_name": "LayoutModel",
      "state": {
       "display": "inline-flex",
       "flex_flow": "row wrap",
       "width": "100%"
      }
     },
     "cdefb2355df6452eb02c8623c50ed937": {
      "model_module": "@jupyter-widgets/base",
      "model_module_version": "1.2.0",
      "model_name": "LayoutModel",
      "state": {}
     },
     "ce0cf1b3a96e4abebe98d50227192be1": {
      "model_module": "@jupyter-widgets/controls",
      "model_module_version": "1.5.0",
      "model_name": "FloatProgressModel",
      "state": {
       "layout": "IPY_MODEL_49225b5ee4bc4b17b8807a564f00740c",
       "max": 16,
       "style": "IPY_MODEL_233fbaf7af31441a84e0d9b1fbe4cee3",
       "value": 16
      }
     },
     "ce17f10a90f443369a20b0770afe8d7f": {
      "model_module": "@jupyter-widgets/base",
      "model_module_version": "1.2.0",
      "model_name": "LayoutModel",
      "state": {}
     },
     "ce21e274d0244189bfb4fca7d50058a6": {
      "model_module": "@jupyter-widgets/controls",
      "model_module_version": "1.5.0",
      "model_name": "ProgressStyleModel",
      "state": {
       "description_width": ""
      }
     },
     "ce3ee86d43844550bdb44c015608d510": {
      "model_module": "@jupyter-widgets/controls",
      "model_module_version": "1.5.0",
      "model_name": "DescriptionStyleModel",
      "state": {
       "description_width": ""
      }
     },
     "ce5233e8aec64a00b43fc4b1c85e7810": {
      "model_module": "@jupyter-widgets/base",
      "model_module_version": "1.2.0",
      "model_name": "LayoutModel",
      "state": {}
     },
     "ce5d672a6af445e593ff48446f57dbd0": {
      "model_module": "@jupyter-widgets/controls",
      "model_module_version": "1.5.0",
      "model_name": "HTMLModel",
      "state": {
       "layout": "IPY_MODEL_1d9c7688be9e4a22bae59c54bd6d814b",
       "style": "IPY_MODEL_d0cd508634f14c1499d10de816c81f58",
       "value": "Validation DataLoader 0: 100%"
      }
     },
     "ce5f5a2fda7c4ffb9bc004c3bf203bec": {
      "model_module": "@jupyter-widgets/base",
      "model_module_version": "1.2.0",
      "model_name": "LayoutModel",
      "state": {
       "display": "inline-flex",
       "flex_flow": "row wrap",
       "width": "100%"
      }
     },
     "ce65b26646bf4ac58e122c832bda874d": {
      "model_module": "@jupyter-widgets/controls",
      "model_module_version": "1.5.0",
      "model_name": "DescriptionStyleModel",
      "state": {
       "description_width": ""
      }
     },
     "ce79a2d9a7bc442b9413237d3375699f": {
      "model_module": "@jupyter-widgets/controls",
      "model_module_version": "1.5.0",
      "model_name": "FloatProgressModel",
      "state": {
       "layout": "IPY_MODEL_1ebb21d160274c1fa5e1a7615107b0c4",
       "max": 16,
       "style": "IPY_MODEL_8e45113eeb184d61a3e8548243448ab4",
       "value": 16
      }
     },
     "ce85455fbd5d47b8ac8c060006c4e686": {
      "model_module": "@jupyter-widgets/base",
      "model_module_version": "1.2.0",
      "model_name": "LayoutModel",
      "state": {}
     },
     "ce8ab5f170ab4dde858993939df90601": {
      "model_module": "@jupyter-widgets/base",
      "model_module_version": "1.2.0",
      "model_name": "LayoutModel",
      "state": {
       "flex": "2"
      }
     },
     "ce927451663c42ff9d05703568d12e55": {
      "model_module": "@jupyter-widgets/base",
      "model_module_version": "1.2.0",
      "model_name": "LayoutModel",
      "state": {
       "display": "inline-flex",
       "flex_flow": "row wrap",
       "width": "100%"
      }
     },
     "ce9d06ed9d444083a6cbcda670520f34": {
      "model_module": "@jupyter-widgets/controls",
      "model_module_version": "1.5.0",
      "model_name": "ProgressStyleModel",
      "state": {
       "description_width": ""
      }
     },
     "ceb71cae8b084718b6db451c3d84e54f": {
      "model_module": "@jupyter-widgets/controls",
      "model_module_version": "1.5.0",
      "model_name": "DescriptionStyleModel",
      "state": {
       "description_width": ""
      }
     },
     "cebf88c7d0c342c39c62096d7fdae166": {
      "model_module": "@jupyter-widgets/controls",
      "model_module_version": "1.5.0",
      "model_name": "HTMLModel",
      "state": {
       "layout": "IPY_MODEL_9d4887d764074d97aacae53099397a8c",
       "style": "IPY_MODEL_d493bb7c84a74cafba7cac33fd48411e",
       "value": " 16/16 [00:00&lt;00:00, 21.79it/s]"
      }
     },
     "cec4dc7ce5104a3f9d3de9f618d6d6da": {
      "model_module": "@jupyter-widgets/base",
      "model_module_version": "1.2.0",
      "model_name": "LayoutModel",
      "state": {}
     },
     "cec8c3dcba444dbcb93ec1f1f2b29784": {
      "model_module": "@jupyter-widgets/controls",
      "model_module_version": "1.5.0",
      "model_name": "HTMLModel",
      "state": {
       "layout": "IPY_MODEL_89be80f1dfee44c2983068c23978fefd",
       "style": "IPY_MODEL_60d6e95766bd4965a40f1572394e3dd3",
       "value": "Validation DataLoader 0: 100%"
      }
     },
     "ced732c52c7f497ba993a9374904b070": {
      "model_module": "@jupyter-widgets/controls",
      "model_module_version": "1.5.0",
      "model_name": "FloatProgressModel",
      "state": {
       "layout": "IPY_MODEL_fc5ef605c3fd48f5a14b6b197415ea05",
       "max": 77,
       "style": "IPY_MODEL_90ae32e2dd434f33adc6e7512c7eaddb",
       "value": 9
      }
     },
     "cedce1e8fb384b1c897ac6310381174a": {
      "model_module": "@jupyter-widgets/controls",
      "model_module_version": "1.5.0",
      "model_name": "HTMLModel",
      "state": {
       "layout": "IPY_MODEL_44e5062820644b2c865d9b465e6f8b20",
       "style": "IPY_MODEL_1bbe4e79352e47baac28fdfb61422614",
       "value": "Validation DataLoader 0: 100%"
      }
     },
     "cee0bbf9887b4f48901376088b27ea3a": {
      "model_module": "@jupyter-widgets/controls",
      "model_module_version": "1.5.0",
      "model_name": "ProgressStyleModel",
      "state": {
       "description_width": ""
      }
     },
     "cee3f0d492a04b35b5ff1ae10e67cd1e": {
      "model_module": "@jupyter-widgets/base",
      "model_module_version": "1.2.0",
      "model_name": "LayoutModel",
      "state": {}
     },
     "cee8ca80510f449aa64d6eda51674651": {
      "model_module": "@jupyter-widgets/controls",
      "model_module_version": "1.5.0",
      "model_name": "DescriptionStyleModel",
      "state": {
       "description_width": ""
      }
     },
     "cef2384375aa4c2a9eb847e894839610": {
      "model_module": "@jupyter-widgets/controls",
      "model_module_version": "1.5.0",
      "model_name": "DescriptionStyleModel",
      "state": {
       "description_width": ""
      }
     },
     "cf0b5083342440208df1b012101221e9": {
      "model_module": "@jupyter-widgets/base",
      "model_module_version": "1.2.0",
      "model_name": "LayoutModel",
      "state": {
       "flex": "2"
      }
     },
     "cf0d98d6409e4be59df56aec3f5e5dfb": {
      "model_module": "@jupyter-widgets/controls",
      "model_module_version": "1.5.0",
      "model_name": "HTMLModel",
      "state": {
       "layout": "IPY_MODEL_4782097d84b84c5fbeccafb136313803",
       "style": "IPY_MODEL_09d54b2403eb44b285a3a7a141298fd5",
       "value": "Validation DataLoader 0: 100%"
      }
     },
     "cf2b16091f1a48b68075d2d484dee063": {
      "model_module": "@jupyter-widgets/controls",
      "model_module_version": "1.5.0",
      "model_name": "HTMLModel",
      "state": {
       "layout": "IPY_MODEL_02420fa25fc24da2ab5ab9a1d2ddd9f3",
       "style": "IPY_MODEL_4b346fb7a86f46ec8afde6bc618fdade",
       "value": "Validation DataLoader 0: 100%"
      }
     },
     "cf7ff8a8ccf64e50a7d570aa9e0e641d": {
      "model_module": "@jupyter-widgets/base",
      "model_module_version": "1.2.0",
      "model_name": "LayoutModel",
      "state": {}
     },
     "cf8253737ceb4ccd893fa43f59e7f564": {
      "model_module": "@jupyter-widgets/controls",
      "model_module_version": "1.5.0",
      "model_name": "DescriptionStyleModel",
      "state": {
       "description_width": ""
      }
     },
     "cf880b3b32904616b51748ea80e42e4c": {
      "model_module": "@jupyter-widgets/base",
      "model_module_version": "1.2.0",
      "model_name": "LayoutModel",
      "state": {
       "display": "inline-flex",
       "flex_flow": "row wrap",
       "width": "100%"
      }
     },
     "cf8dd582597348a4a4f5469c27e1ed75": {
      "model_module": "@jupyter-widgets/controls",
      "model_module_version": "1.5.0",
      "model_name": "HTMLModel",
      "state": {
       "layout": "IPY_MODEL_92b6bb12f58e41b19afdab24c667d7af",
       "style": "IPY_MODEL_cd06d1810373451a95e9039376956bfb",
       "value": "Validation DataLoader 0: 100%"
      }
     },
     "cf9eb00d191240c1893f257cb838b10f": {
      "model_module": "@jupyter-widgets/controls",
      "model_module_version": "1.5.0",
      "model_name": "DescriptionStyleModel",
      "state": {
       "description_width": ""
      }
     },
     "cfc21ab5925e4b9fab9367ef10885885": {
      "model_module": "@jupyter-widgets/base",
      "model_module_version": "1.2.0",
      "model_name": "LayoutModel",
      "state": {}
     },
     "cfccccc014d541e186b6af739a948e45": {
      "model_module": "@jupyter-widgets/controls",
      "model_module_version": "1.5.0",
      "model_name": "HTMLModel",
      "state": {
       "layout": "IPY_MODEL_8e4f1d0e0e7f4039a1006416d032c2cb",
       "style": "IPY_MODEL_ffd9e50b448846059cc09b75867e21d4",
       "value": " 2/2 [00:00&lt;00:00, 22.50it/s]"
      }
     },
     "cfef2aed9f764a0089b370635a364673": {
      "model_module": "@jupyter-widgets/base",
      "model_module_version": "1.2.0",
      "model_name": "LayoutModel",
      "state": {
       "flex": "2"
      }
     },
     "cffc359bc6174ccdbd95669218bd4eec": {
      "model_module": "@jupyter-widgets/base",
      "model_module_version": "1.2.0",
      "model_name": "LayoutModel",
      "state": {
       "flex": "2"
      }
     },
     "d00232464ae14939ae123effb15e8f31": {
      "model_module": "@jupyter-widgets/base",
      "model_module_version": "1.2.0",
      "model_name": "LayoutModel",
      "state": {
       "flex": "2"
      }
     },
     "d0049d733d234d049464fc37bf4f5029": {
      "model_module": "@jupyter-widgets/controls",
      "model_module_version": "1.5.0",
      "model_name": "DescriptionStyleModel",
      "state": {
       "description_width": ""
      }
     },
     "d006bb7ef82c49c6800a27b0c481ff92": {
      "model_module": "@jupyter-widgets/controls",
      "model_module_version": "1.5.0",
      "model_name": "ProgressStyleModel",
      "state": {
       "description_width": ""
      }
     },
     "d00b5c6153624630aafd4b7dfe8bf6c5": {
      "model_module": "@jupyter-widgets/controls",
      "model_module_version": "1.5.0",
      "model_name": "DescriptionStyleModel",
      "state": {
       "description_width": ""
      }
     },
     "d0171f550bfc4d05801bf9c159d0b975": {
      "model_module": "@jupyter-widgets/controls",
      "model_module_version": "1.5.0",
      "model_name": "FloatProgressModel",
      "state": {
       "layout": "IPY_MODEL_d253174fb01d4a899ff35e9979df7e9c",
       "max": 16,
       "style": "IPY_MODEL_0d476dd1322649ae9e3cb834ef8e3adc",
       "value": 16
      }
     },
     "d0589e7978db40658b2142a9c1c0bb47": {
      "model_module": "@jupyter-widgets/base",
      "model_module_version": "1.2.0",
      "model_name": "LayoutModel",
      "state": {
       "flex": "2"
      }
     },
     "d07963b1ea8f43f49a010c49401afbf4": {
      "model_module": "@jupyter-widgets/base",
      "model_module_version": "1.2.0",
      "model_name": "LayoutModel",
      "state": {}
     },
     "d07de1bfa8184d3386697644fcc496a5": {
      "model_module": "@jupyter-widgets/controls",
      "model_module_version": "1.5.0",
      "model_name": "DescriptionStyleModel",
      "state": {
       "description_width": ""
      }
     },
     "d08f856cef4241d78898b98bb7c1e2c7": {
      "model_module": "@jupyter-widgets/controls",
      "model_module_version": "1.5.0",
      "model_name": "HTMLModel",
      "state": {
       "layout": "IPY_MODEL_a39bff88205f426584d1a22a902eecf7",
       "style": "IPY_MODEL_81c9913066324ab889c365c6b67f9766",
       "value": " 16/16 [00:01&lt;00:00, 15.91it/s]"
      }
     },
     "d09b45b26311410184cf172363cad8ba": {
      "model_module": "@jupyter-widgets/controls",
      "model_module_version": "1.5.0",
      "model_name": "DescriptionStyleModel",
      "state": {
       "description_width": ""
      }
     },
     "d0c309a902974d53a3bf728cf0450e00": {
      "model_module": "@jupyter-widgets/controls",
      "model_module_version": "1.5.0",
      "model_name": "DescriptionStyleModel",
      "state": {
       "description_width": ""
      }
     },
     "d0cd508634f14c1499d10de816c81f58": {
      "model_module": "@jupyter-widgets/controls",
      "model_module_version": "1.5.0",
      "model_name": "DescriptionStyleModel",
      "state": {
       "description_width": ""
      }
     },
     "d0cdab9180aa4ffcb87d58a693737546": {
      "model_module": "@jupyter-widgets/controls",
      "model_module_version": "1.5.0",
      "model_name": "DescriptionStyleModel",
      "state": {
       "description_width": ""
      }
     },
     "d0daabb7fb714f54936db848e55944ca": {
      "model_module": "@jupyter-widgets/controls",
      "model_module_version": "1.5.0",
      "model_name": "ProgressStyleModel",
      "state": {
       "description_width": ""
      }
     },
     "d0e5605e85124a9ead23c5f9bbe18114": {
      "model_module": "@jupyter-widgets/base",
      "model_module_version": "1.2.0",
      "model_name": "LayoutModel",
      "state": {
       "display": "inline-flex",
       "flex_flow": "row wrap",
       "width": "100%"
      }
     },
     "d0e579fb5a5a4a06bce5f2ed4982dff6": {
      "model_module": "@jupyter-widgets/controls",
      "model_module_version": "1.5.0",
      "model_name": "ProgressStyleModel",
      "state": {
       "description_width": ""
      }
     },
     "d0e7510cfc9b47a49a7fdd7a463ea3e6": {
      "model_module": "@jupyter-widgets/controls",
      "model_module_version": "1.5.0",
      "model_name": "HTMLModel",
      "state": {
       "layout": "IPY_MODEL_479fd4f4b89a4f83b57f9280f9f31add",
       "style": "IPY_MODEL_8c483d0b159045b8b39559cf32dd048b",
       "value": " 16/16 [00:00&lt;00:00, 20.15it/s]"
      }
     },
     "d1210fc4f80d4f0e83c66c8c30b59aa2": {
      "model_module": "@jupyter-widgets/controls",
      "model_module_version": "1.5.0",
      "model_name": "HTMLModel",
      "state": {
       "layout": "IPY_MODEL_8e3fec9f53784debbc94ece22af7328f",
       "style": "IPY_MODEL_721d9885248347a59d93c38a04137639",
       "value": " 16/16 [00:01&lt;00:00, 12.17it/s]"
      }
     },
     "d12ce3dfdaff4a47828c833d8001fbb0": {
      "model_module": "@jupyter-widgets/controls",
      "model_module_version": "1.5.0",
      "model_name": "HTMLModel",
      "state": {
       "layout": "IPY_MODEL_98c32e10a60e483c90c884e672d2f635",
       "style": "IPY_MODEL_9d5b50d3cf2a4e5496eb7f5468238540",
       "value": "Validation DataLoader 0: 100%"
      }
     },
     "d146f9bf2e5b479d8fb147c76667f484": {
      "model_module": "@jupyter-widgets/controls",
      "model_module_version": "1.5.0",
      "model_name": "DescriptionStyleModel",
      "state": {
       "description_width": ""
      }
     },
     "d14a358d23254fd3a8887a6d6ac385c3": {
      "model_module": "@jupyter-widgets/base",
      "model_module_version": "1.2.0",
      "model_name": "LayoutModel",
      "state": {
       "flex": "2"
      }
     },
     "d17e3bda78c846d99ef90fba0562c580": {
      "model_module": "@jupyter-widgets/base",
      "model_module_version": "1.2.0",
      "model_name": "LayoutModel",
      "state": {}
     },
     "d1857d75608540d1b85657cbc7260012": {
      "model_module": "@jupyter-widgets/controls",
      "model_module_version": "1.5.0",
      "model_name": "HTMLModel",
      "state": {
       "layout": "IPY_MODEL_80b33854b96e4819a40d66ba56ca8263",
       "style": "IPY_MODEL_361a38fdf4344d389043cea47767fca0",
       "value": " 16/16 [00:00&lt;00:00, 18.76it/s]"
      }
     },
     "d18bb08cab6e49c187dadc95a6df55fd": {
      "model_module": "@jupyter-widgets/controls",
      "model_module_version": "1.5.0",
      "model_name": "HTMLModel",
      "state": {
       "layout": "IPY_MODEL_0cb2408476d34861ad0fcfe4fc6fb131",
       "style": "IPY_MODEL_25dae3196e0b417a8ada05ee6f0a9c9b",
       "value": "Validation DataLoader 0: 100%"
      }
     },
     "d18c46cfea994ca98d1e6593771d3a99": {
      "model_module": "@jupyter-widgets/base",
      "model_module_version": "1.2.0",
      "model_name": "LayoutModel",
      "state": {
       "flex": "2"
      }
     },
     "d18e74a541914257ab7037a685238fa0": {
      "model_module": "@jupyter-widgets/base",
      "model_module_version": "1.2.0",
      "model_name": "LayoutModel",
      "state": {}
     },
     "d19ed446348b466d983b7432b2bd695a": {
      "model_module": "@jupyter-widgets/controls",
      "model_module_version": "1.5.0",
      "model_name": "DescriptionStyleModel",
      "state": {
       "description_width": ""
      }
     },
     "d1bdddfde0904e89903af3225d031574": {
      "model_module": "@jupyter-widgets/base",
      "model_module_version": "1.2.0",
      "model_name": "LayoutModel",
      "state": {
       "display": "inline-flex",
       "flex_flow": "row wrap",
       "width": "100%"
      }
     },
     "d1ee9e34797a45feb9050b69c5422728": {
      "model_module": "@jupyter-widgets/controls",
      "model_module_version": "1.5.0",
      "model_name": "DescriptionStyleModel",
      "state": {
       "description_width": ""
      }
     },
     "d20178030163402181d7ce92d430e12f": {
      "model_module": "@jupyter-widgets/controls",
      "model_module_version": "1.5.0",
      "model_name": "DescriptionStyleModel",
      "state": {
       "description_width": ""
      }
     },
     "d205b97c792d4d02810dbc44f78fdf05": {
      "model_module": "@jupyter-widgets/controls",
      "model_module_version": "1.5.0",
      "model_name": "HTMLModel",
      "state": {
       "layout": "IPY_MODEL_28cb03d69d714fed952a2a1dad75d034",
       "style": "IPY_MODEL_3bdc0fbef2a64779a0b3d5dffd2be8fe",
       "value": " 16/16 [00:05&lt;00:00,  2.99it/s]"
      }
     },
     "d216841de36d476685645cddcb75c099": {
      "model_module": "@jupyter-widgets/base",
      "model_module_version": "1.2.0",
      "model_name": "LayoutModel",
      "state": {
       "display": "inline-flex",
       "flex_flow": "row wrap",
       "width": "100%"
      }
     },
     "d2222f41b7db4798b6f7be71581027d4": {
      "model_module": "@jupyter-widgets/base",
      "model_module_version": "1.2.0",
      "model_name": "LayoutModel",
      "state": {}
     },
     "d2331d1b77654971abfba5a724a56939": {
      "model_module": "@jupyter-widgets/controls",
      "model_module_version": "1.5.0",
      "model_name": "DescriptionStyleModel",
      "state": {
       "description_width": ""
      }
     },
     "d253174fb01d4a899ff35e9979df7e9c": {
      "model_module": "@jupyter-widgets/base",
      "model_module_version": "1.2.0",
      "model_name": "LayoutModel",
      "state": {
       "flex": "2"
      }
     },
     "d26e2c7b28a64f2d87190a25d579e9bd": {
      "model_module": "@jupyter-widgets/controls",
      "model_module_version": "1.5.0",
      "model_name": "FloatProgressModel",
      "state": {
       "layout": "IPY_MODEL_cc46b40fd43d46d79ce78b5767b9b5b0",
       "max": 2,
       "style": "IPY_MODEL_8b1b2d7965794758bff6c70dc192874f",
       "value": 2
      }
     },
     "d2833481ace8476bbe8feaee1455f933": {
      "model_module": "@jupyter-widgets/controls",
      "model_module_version": "1.5.0",
      "model_name": "FloatProgressModel",
      "state": {
       "layout": "IPY_MODEL_209ac39ee54642b1855fc0768e0b0c22",
       "max": 2,
       "style": "IPY_MODEL_57ae3cfedb83487591f4d3d681bb48b9",
       "value": 2
      }
     },
     "d2a211535f50436082269dd6710931ef": {
      "model_module": "@jupyter-widgets/controls",
      "model_module_version": "1.5.0",
      "model_name": "HTMLModel",
      "state": {
       "layout": "IPY_MODEL_9ce99b2b4b634acc9334dd15212b53d8",
       "style": "IPY_MODEL_f6aa351d84c04eb39ddea9564c92cb33",
       "value": " 16/16 [00:00&lt;00:00, 17.04it/s]"
      }
     },
     "d2c7389fdad640c79d578cd75400ad5f": {
      "model_module": "@jupyter-widgets/controls",
      "model_module_version": "1.5.0",
      "model_name": "ProgressStyleModel",
      "state": {
       "description_width": ""
      }
     },
     "d2e83ef5ba9e4d5f862b6ab5dfb1acbe": {
      "model_module": "@jupyter-widgets/base",
      "model_module_version": "1.2.0",
      "model_name": "LayoutModel",
      "state": {}
     },
     "d321dda993ec4b88ad65c9fb446d4732": {
      "model_module": "@jupyter-widgets/controls",
      "model_module_version": "1.5.0",
      "model_name": "FloatProgressModel",
      "state": {
       "layout": "IPY_MODEL_6dbd32f9385647ec80f99a9c790f3cb8",
       "max": 16,
       "style": "IPY_MODEL_6c48ce4eae494aa59d6b6569506a1cee",
       "value": 16
      }
     },
     "d32689614ae94731ba360913c4c1b216": {
      "model_module": "@jupyter-widgets/base",
      "model_module_version": "1.2.0",
      "model_name": "LayoutModel",
      "state": {}
     },
     "d3362a7d5d6545c3bccbfc4b4f0dec2e": {
      "model_module": "@jupyter-widgets/base",
      "model_module_version": "1.2.0",
      "model_name": "LayoutModel",
      "state": {
       "flex": "2"
      }
     },
     "d33b48778804476db0886f33bc6ad045": {
      "model_module": "@jupyter-widgets/controls",
      "model_module_version": "1.5.0",
      "model_name": "DescriptionStyleModel",
      "state": {
       "description_width": ""
      }
     },
     "d340d3396116460e86a718df6e7adbb3": {
      "model_module": "@jupyter-widgets/controls",
      "model_module_version": "1.5.0",
      "model_name": "HTMLModel",
      "state": {
       "layout": "IPY_MODEL_5afb47df883147e8a9b54332b185908e",
       "style": "IPY_MODEL_2e677406c5eb4543b7019b1629aaa782",
       "value": "Validation DataLoader 0: 100%"
      }
     },
     "d34acc0b645a453c9acbcc4edb0791c4": {
      "model_module": "@jupyter-widgets/base",
      "model_module_version": "1.2.0",
      "model_name": "LayoutModel",
      "state": {}
     },
     "d35382c5ec174e02af1b0f1db24d83ff": {
      "model_module": "@jupyter-widgets/controls",
      "model_module_version": "1.5.0",
      "model_name": "HTMLModel",
      "state": {
       "layout": "IPY_MODEL_ff2fdabc2ebc40408c19235ae4abcf3b",
       "style": "IPY_MODEL_52680ad900d6480a97978d511e4ffc41",
       "value": "Validation DataLoader 0: 100%"
      }
     },
     "d373e1a8b233463398b251a1c5356eb8": {
      "model_module": "@jupyter-widgets/controls",
      "model_module_version": "1.5.0",
      "model_name": "FloatProgressModel",
      "state": {
       "layout": "IPY_MODEL_c15e5230993343b5a714d31144a36973",
       "max": 16,
       "style": "IPY_MODEL_e3b6c024eac3412abcbe896c6a4054bd",
       "value": 16
      }
     },
     "d39877030e0945269be942fd6c1b0e2b": {
      "model_module": "@jupyter-widgets/controls",
      "model_module_version": "1.5.0",
      "model_name": "DescriptionStyleModel",
      "state": {
       "description_width": ""
      }
     },
     "d3b91c38c3f045f2845739f7ecb7e53c": {
      "model_module": "@jupyter-widgets/controls",
      "model_module_version": "1.5.0",
      "model_name": "FloatProgressModel",
      "state": {
       "layout": "IPY_MODEL_2b84d8db16cc44e2885e151d3a3d94c2",
       "max": 2,
       "style": "IPY_MODEL_77487bfcca334e0eac39eefce6443b75",
       "value": 2
      }
     },
     "d3dbed000f4e469bbe2e7ea9e5fdd5be": {
      "model_module": "@jupyter-widgets/controls",
      "model_module_version": "1.5.0",
      "model_name": "HTMLModel",
      "state": {
       "layout": "IPY_MODEL_909a3429e7d843e7951c8e15349732c4",
       "style": "IPY_MODEL_0b0b3b8e7d7844b29b6ebe75ff3ad4e3",
       "value": "Validation DataLoader 0: 100%"
      }
     },
     "d4129e715cb342f9820b49d29a6e65b1": {
      "model_module": "@jupyter-widgets/controls",
      "model_module_version": "1.5.0",
      "model_name": "ProgressStyleModel",
      "state": {
       "description_width": ""
      }
     },
     "d414b5097b954c1cab3b7f5d7e05edb6": {
      "model_module": "@jupyter-widgets/controls",
      "model_module_version": "1.5.0",
      "model_name": "HTMLModel",
      "state": {
       "layout": "IPY_MODEL_4733c6fca6f84000bc7d21993a3c9011",
       "style": "IPY_MODEL_1179eba30e634020ace059310c28b197",
       "value": "Sanity Checking DataLoader 0: 100%"
      }
     },
     "d42a825bf280492eb2238be58a8880b9": {
      "model_module": "@jupyter-widgets/controls",
      "model_module_version": "1.5.0",
      "model_name": "HTMLModel",
      "state": {
       "layout": "IPY_MODEL_b93b91a4f08a4e02ba09643b3db2014c",
       "style": "IPY_MODEL_29b1888139894a39bccc461603c73beb",
       "value": " 16/16 [00:00&lt;00:00, 17.58it/s]"
      }
     },
     "d45063de78ab4250825f07ceb3eaf34b": {
      "model_module": "@jupyter-widgets/controls",
      "model_module_version": "1.5.0",
      "model_name": "HTMLModel",
      "state": {
       "layout": "IPY_MODEL_9a5198c5186d419fa51f3eac03d434a0",
       "style": "IPY_MODEL_e9dc3a7f5b644478b29adac61bd57c24",
       "value": "Epoch 35:  48%"
      }
     },
     "d46455cea1a24046a11fa6d3cf1291ee": {
      "model_module": "@jupyter-widgets/base",
      "model_module_version": "1.2.0",
      "model_name": "LayoutModel",
      "state": {}
     },
     "d46794a2b71d442e8d11b66ef16f1df4": {
      "model_module": "@jupyter-widgets/base",
      "model_module_version": "1.2.0",
      "model_name": "LayoutModel",
      "state": {
       "display": "inline-flex",
       "flex_flow": "row wrap",
       "width": "100%"
      }
     },
     "d478509f028b4f858e6478ec40b39f44": {
      "model_module": "@jupyter-widgets/base",
      "model_module_version": "1.2.0",
      "model_name": "LayoutModel",
      "state": {}
     },
     "d493bb7c84a74cafba7cac33fd48411e": {
      "model_module": "@jupyter-widgets/controls",
      "model_module_version": "1.5.0",
      "model_name": "DescriptionStyleModel",
      "state": {
       "description_width": ""
      }
     },
     "d4a26fca05194f1388b7a8a938387a29": {
      "model_module": "@jupyter-widgets/controls",
      "model_module_version": "1.5.0",
      "model_name": "ProgressStyleModel",
      "state": {
       "description_width": ""
      }
     },
     "d4af381072c7450fabcd39ee3fc364e4": {
      "model_module": "@jupyter-widgets/controls",
      "model_module_version": "1.5.0",
      "model_name": "HTMLModel",
      "state": {
       "layout": "IPY_MODEL_eec4745ee2ec464fa434f0a68d5f26cb",
       "style": "IPY_MODEL_183b6d0271f14af2aeeb87b19b79bbd9",
       "value": "Validation DataLoader 0: 100%"
      }
     },
     "d4b7d7c3318a4795ab48f6d8971c6e6d": {
      "model_module": "@jupyter-widgets/controls",
      "model_module_version": "1.5.0",
      "model_name": "HTMLModel",
      "state": {
       "layout": "IPY_MODEL_a3f4ee2b6d894467898adeadc60d0949",
       "style": "IPY_MODEL_77076e0f0e52470da8f6d031854a80ae",
       "value": " 16/16 [00:01&lt;00:00, 14.79it/s]"
      }
     },
     "d4c46d512dc74156bb6f49261b24d142": {
      "model_module": "@jupyter-widgets/controls",
      "model_module_version": "1.5.0",
      "model_name": "HTMLModel",
      "state": {
       "layout": "IPY_MODEL_78871e1878c8472586d3b879ac389569",
       "style": "IPY_MODEL_28ea2ded58f3452cb41e1313f97d5092",
       "value": " 16/16 [00:00&lt;00:00, 21.08it/s]"
      }
     },
     "d4c84405bf9146a2aad8caf8bfdf2c28": {
      "model_module": "@jupyter-widgets/controls",
      "model_module_version": "1.5.0",
      "model_name": "HTMLModel",
      "state": {
       "layout": "IPY_MODEL_495455fd0bda4d2388ba82268b7bd058",
       "style": "IPY_MODEL_a9442c3a53174a86bf3dc552535104c3",
       "value": "Validation DataLoader 0: 100%"
      }
     },
     "d4d2ef5c3caa4f70be0f2ba4d8f0f8dc": {
      "model_module": "@jupyter-widgets/controls",
      "model_module_version": "1.5.0",
      "model_name": "FloatProgressModel",
      "state": {
       "layout": "IPY_MODEL_55e4370388014d689a77099b50bb52de",
       "max": 77,
       "style": "IPY_MODEL_e488633a82104b1e910a5b26a8a86851",
       "value": 13
      }
     },
     "d4e4e2ac0e174118ad715d368c2ce61c": {
      "model_module": "@jupyter-widgets/controls",
      "model_module_version": "1.5.0",
      "model_name": "HTMLModel",
      "state": {
       "layout": "IPY_MODEL_a8b5820b783c4a74879a49c65c439518",
       "style": "IPY_MODEL_f3307dacfe8d41e2bedd6d29f9fecc2b",
       "value": " 16/16 [00:00&lt;00:00, 20.94it/s]"
      }
     },
     "d51aca7023514cbd804ab21e19c1fea1": {
      "model_module": "@jupyter-widgets/controls",
      "model_module_version": "1.5.0",
      "model_name": "HTMLModel",
      "state": {
       "layout": "IPY_MODEL_ebded9281b3e4c949341af2db87856be",
       "style": "IPY_MODEL_a0853d18689b40c2927b5e4d76351721",
       "value": " 31/77 [00:03&lt;00:05,  8.28it/s, loss=1.77, v_num=H-52]"
      }
     },
     "d528159e7edf4c759da8a1d627ce1fed": {
      "model_module": "@jupyter-widgets/base",
      "model_module_version": "1.2.0",
      "model_name": "LayoutModel",
      "state": {}
     },
     "d52fdefe03ec4369878595c7d770e730": {
      "model_module": "@jupyter-widgets/base",
      "model_module_version": "1.2.0",
      "model_name": "LayoutModel",
      "state": {}
     },
     "d56134f56ecd4b669b6951261575a59b": {
      "model_module": "@jupyter-widgets/controls",
      "model_module_version": "1.5.0",
      "model_name": "DescriptionStyleModel",
      "state": {
       "description_width": ""
      }
     },
     "d5734c3bf2314edeba66962de3826f43": {
      "model_module": "@jupyter-widgets/controls",
      "model_module_version": "1.5.0",
      "model_name": "ProgressStyleModel",
      "state": {
       "description_width": ""
      }
     },
     "d5798a2b75f34e7f95ff0c2dbe683258": {
      "model_module": "@jupyter-widgets/controls",
      "model_module_version": "1.5.0",
      "model_name": "HTMLModel",
      "state": {
       "layout": "IPY_MODEL_c0c42bdd9c1b45fdb316141db4708bf7",
       "style": "IPY_MODEL_3416b04ec28941f8b8cae925260dbac1",
       "value": " 2/2 [00:00&lt;00:00,  4.93it/s]"
      }
     },
     "d591fa7e759e49c1ba7f264fc16b4fae": {
      "model_module": "@jupyter-widgets/controls",
      "model_module_version": "1.5.0",
      "model_name": "HTMLModel",
      "state": {
       "layout": "IPY_MODEL_cc4115d0174b427e9b5ba0b8b227f275",
       "style": "IPY_MODEL_55f38631144c4d4aa8e6f1a391e3cf34",
       "value": " 16/16 [00:01&lt;00:00,  8.11it/s]"
      }
     },
     "d59ae8a37e2844788089041a090fb756": {
      "model_module": "@jupyter-widgets/controls",
      "model_module_version": "1.5.0",
      "model_name": "DescriptionStyleModel",
      "state": {
       "description_width": ""
      }
     },
     "d5aaddabc25544659522145a09679058": {
      "model_module": "@jupyter-widgets/controls",
      "model_module_version": "1.5.0",
      "model_name": "DescriptionStyleModel",
      "state": {
       "description_width": ""
      }
     },
     "d5bfbbba4fd54b80a55cff592732313a": {
      "model_module": "@jupyter-widgets/base",
      "model_module_version": "1.2.0",
      "model_name": "LayoutModel",
      "state": {
       "flex": "2"
      }
     },
     "d5ec3b389e8e43539a2d29be5c6ca403": {
      "model_module": "@jupyter-widgets/controls",
      "model_module_version": "1.5.0",
      "model_name": "DescriptionStyleModel",
      "state": {
       "description_width": ""
      }
     },
     "d5ef669713db469ebbefeb9a9503f801": {
      "model_module": "@jupyter-widgets/base",
      "model_module_version": "1.2.0",
      "model_name": "LayoutModel",
      "state": {}
     },
     "d5f0c2b9c63e4754914c51a95b0bf3b3": {
      "model_module": "@jupyter-widgets/base",
      "model_module_version": "1.2.0",
      "model_name": "LayoutModel",
      "state": {}
     },
     "d6084eac6e37496786dc22bf1e815dd1": {
      "model_module": "@jupyter-widgets/base",
      "model_module_version": "1.2.0",
      "model_name": "LayoutModel",
      "state": {}
     },
     "d614ccffbe5e49e4b574f917cfab4f29": {
      "model_module": "@jupyter-widgets/controls",
      "model_module_version": "1.5.0",
      "model_name": "DescriptionStyleModel",
      "state": {
       "description_width": ""
      }
     },
     "d6205d8f02fb4250ae9c836ba35c35f5": {
      "model_module": "@jupyter-widgets/base",
      "model_module_version": "1.2.0",
      "model_name": "LayoutModel",
      "state": {
       "display": "inline-flex",
       "flex_flow": "row wrap",
       "width": "100%"
      }
     },
     "d63c7382bcad43088e8d73d9381084f3": {
      "model_module": "@jupyter-widgets/base",
      "model_module_version": "1.2.0",
      "model_name": "LayoutModel",
      "state": {
       "display": "inline-flex",
       "flex_flow": "row wrap",
       "width": "100%"
      }
     },
     "d65052a3b67546f0ad7e50b08555c114": {
      "model_module": "@jupyter-widgets/controls",
      "model_module_version": "1.5.0",
      "model_name": "DescriptionStyleModel",
      "state": {
       "description_width": ""
      }
     },
     "d6557ce444cd4eb9a17eb607308a45a7": {
      "model_module": "@jupyter-widgets/controls",
      "model_module_version": "1.5.0",
      "model_name": "DescriptionStyleModel",
      "state": {
       "description_width": ""
      }
     },
     "d65f94c387d74d958cb2adf76388dff6": {
      "model_module": "@jupyter-widgets/base",
      "model_module_version": "1.2.0",
      "model_name": "LayoutModel",
      "state": {
       "display": "inline-flex",
       "flex_flow": "row wrap",
       "width": "100%"
      }
     },
     "d67a40eca8af491b8789d088805be574": {
      "model_module": "@jupyter-widgets/base",
      "model_module_version": "1.2.0",
      "model_name": "LayoutModel",
      "state": {
       "flex": "2"
      }
     },
     "d69b4a7fb5164533b5e59426dd30de57": {
      "model_module": "@jupyter-widgets/controls",
      "model_module_version": "1.5.0",
      "model_name": "DescriptionStyleModel",
      "state": {
       "description_width": ""
      }
     },
     "d6be70dea4d142aaa4fb1c14ae7cd390": {
      "model_module": "@jupyter-widgets/base",
      "model_module_version": "1.2.0",
      "model_name": "LayoutModel",
      "state": {}
     },
     "d6cee57b3fcd4f63a1ef3b5c36c38fd8": {
      "model_module": "@jupyter-widgets/base",
      "model_module_version": "1.2.0",
      "model_name": "LayoutModel",
      "state": {
       "display": "inline-flex",
       "flex_flow": "row wrap",
       "width": "100%"
      }
     },
     "d6eaada1c07b4313b5b786a3c5a7465f": {
      "model_module": "@jupyter-widgets/controls",
      "model_module_version": "1.5.0",
      "model_name": "DescriptionStyleModel",
      "state": {
       "description_width": ""
      }
     },
     "d72b7bd400b847c7ac2be7b39ed42153": {
      "model_module": "@jupyter-widgets/base",
      "model_module_version": "1.2.0",
      "model_name": "LayoutModel",
      "state": {
       "display": "inline-flex",
       "flex_flow": "row wrap",
       "width": "100%"
      }
     },
     "d75046b5cad448c89e0a4412883800d3": {
      "model_module": "@jupyter-widgets/controls",
      "model_module_version": "1.5.0",
      "model_name": "HTMLModel",
      "state": {
       "layout": "IPY_MODEL_a3aefa3c140b4d938b448ed0d6145705",
       "style": "IPY_MODEL_5c591954d44a41a1933cd06de605c40c",
       "value": " 77/77 [00:06&lt;00:00, 11.49it/s, loss=0.259, v_num=H-55]"
      }
     },
     "d7b3dcecaae44b1288a85b7481c2163e": {
      "model_module": "@jupyter-widgets/controls",
      "model_module_version": "1.5.0",
      "model_name": "DescriptionStyleModel",
      "state": {
       "description_width": ""
      }
     },
     "d7b67d756f594fac914ee3f47a871719": {
      "model_module": "@jupyter-widgets/base",
      "model_module_version": "1.2.0",
      "model_name": "LayoutModel",
      "state": {}
     },
     "d7d382ca560643fe8f923cfc4f45d5df": {
      "model_module": "@jupyter-widgets/base",
      "model_module_version": "1.2.0",
      "model_name": "LayoutModel",
      "state": {
       "display": "inline-flex",
       "flex_flow": "row wrap",
       "width": "100%"
      }
     },
     "d7ff7bf9d79148e2b45b4b973ba041c6": {
      "model_module": "@jupyter-widgets/controls",
      "model_module_version": "1.5.0",
      "model_name": "HTMLModel",
      "state": {
       "layout": "IPY_MODEL_e1ff315038804f3c835ac5cb7ac8290d",
       "style": "IPY_MODEL_789ed2730c7f45c987f5fda1afbb60a3",
       "value": " 16/16 [00:01&lt;00:00, 13.63it/s]"
      }
     },
     "d803bac7a3414c53a4fe66c5c1d97f11": {
      "model_module": "@jupyter-widgets/controls",
      "model_module_version": "1.5.0",
      "model_name": "ProgressStyleModel",
      "state": {
       "description_width": ""
      }
     },
     "d8305a2f63a54a72b375effc6da50102": {
      "model_module": "@jupyter-widgets/controls",
      "model_module_version": "1.5.0",
      "model_name": "DescriptionStyleModel",
      "state": {
       "description_width": ""
      }
     },
     "d8409082041a4d16b105d8ec861fa122": {
      "model_module": "@jupyter-widgets/controls",
      "model_module_version": "1.5.0",
      "model_name": "ProgressStyleModel",
      "state": {
       "description_width": ""
      }
     },
     "d8470a08d0bb42bd914effd88156feb7": {
      "model_module": "@jupyter-widgets/controls",
      "model_module_version": "1.5.0",
      "model_name": "FloatProgressModel",
      "state": {
       "layout": "IPY_MODEL_6c167acb0d744ce594b78d93e67a3a7f",
       "max": 16,
       "style": "IPY_MODEL_222722d68af342b89ca284654279c91a",
       "value": 16
      }
     },
     "d863099c05e94405aaa6089418178aa6": {
      "model_module": "@jupyter-widgets/controls",
      "model_module_version": "1.5.0",
      "model_name": "DescriptionStyleModel",
      "state": {
       "description_width": ""
      }
     },
     "d8713cd9389f419bbf72ab25538732dc": {
      "model_module": "@jupyter-widgets/controls",
      "model_module_version": "1.5.0",
      "model_name": "DescriptionStyleModel",
      "state": {
       "description_width": ""
      }
     },
     "d886481c95744c41904018f0ac9b6dd5": {
      "model_module": "@jupyter-widgets/controls",
      "model_module_version": "1.5.0",
      "model_name": "HBoxModel",
      "state": {
       "children": [
        "IPY_MODEL_5c0c867a78944955a22030855f7748cb",
        "IPY_MODEL_db306affcc7e4f058aaf6c1fedee885b",
        "IPY_MODEL_04871082cc524014a667fb92894330a0"
       ],
       "layout": "IPY_MODEL_c35a25c55b0241a183cea3dbaf21b94c"
      }
     },
     "d88f4e2309ec4d36accec15a0ce1260e": {
      "model_module": "@jupyter-widgets/base",
      "model_module_version": "1.2.0",
      "model_name": "LayoutModel",
      "state": {}
     },
     "d895017330704460884ff53bd448c736": {
      "model_module": "@jupyter-widgets/controls",
      "model_module_version": "1.5.0",
      "model_name": "DescriptionStyleModel",
      "state": {
       "description_width": ""
      }
     },
     "d89a2f7ee8c04be98fac3e79d4711502": {
      "model_module": "@jupyter-widgets/controls",
      "model_module_version": "1.5.0",
      "model_name": "DescriptionStyleModel",
      "state": {
       "description_width": ""
      }
     },
     "d8c706488024452689914528dd927a83": {
      "model_module": "@jupyter-widgets/controls",
      "model_module_version": "1.5.0",
      "model_name": "DescriptionStyleModel",
      "state": {
       "description_width": ""
      }
     },
     "d8c90bdaa6a04cd9814f478db9f94567": {
      "model_module": "@jupyter-widgets/base",
      "model_module_version": "1.2.0",
      "model_name": "LayoutModel",
      "state": {}
     },
     "d8d1240b50ce47a197ba0588b2ab8c36": {
      "model_module": "@jupyter-widgets/controls",
      "model_module_version": "1.5.0",
      "model_name": "ProgressStyleModel",
      "state": {
       "description_width": ""
      }
     },
     "d938839bff7c46e8a6b3c5bfb2fa9001": {
      "model_module": "@jupyter-widgets/base",
      "model_module_version": "1.2.0",
      "model_name": "LayoutModel",
      "state": {
       "display": "inline-flex",
       "flex_flow": "row wrap",
       "width": "100%"
      }
     },
     "d96d769b5ce942ef92a9ce32e371994f": {
      "model_module": "@jupyter-widgets/base",
      "model_module_version": "1.2.0",
      "model_name": "LayoutModel",
      "state": {
       "display": "inline-flex",
       "flex_flow": "row wrap",
       "width": "100%"
      }
     },
     "d97c51faefe74aec8265eb75728505dc": {
      "model_module": "@jupyter-widgets/controls",
      "model_module_version": "1.5.0",
      "model_name": "DescriptionStyleModel",
      "state": {
       "description_width": ""
      }
     },
     "d98dc548366d4be39a6a8af11083f792": {
      "model_module": "@jupyter-widgets/base",
      "model_module_version": "1.2.0",
      "model_name": "LayoutModel",
      "state": {}
     },
     "d998fdbba1b546c392256419aab71b46": {
      "model_module": "@jupyter-widgets/controls",
      "model_module_version": "1.5.0",
      "model_name": "HTMLModel",
      "state": {
       "layout": "IPY_MODEL_670eddeeaeaf4ffca1b7373f582cf36e",
       "style": "IPY_MODEL_5c8b9feb9dea4c92be8e4cc9a03a2714",
       "value": " 16/16 [00:01&lt;00:00, 13.35it/s]"
      }
     },
     "d9cd6da5b4e74b5b89a5d9c87dfe5687": {
      "model_module": "@jupyter-widgets/base",
      "model_module_version": "1.2.0",
      "model_name": "LayoutModel",
      "state": {
       "display": "inline-flex",
       "flex_flow": "row wrap",
       "width": "100%"
      }
     },
     "d9cf6de7f39b4b0d9463659d582db396": {
      "model_module": "@jupyter-widgets/controls",
      "model_module_version": "1.5.0",
      "model_name": "HTMLModel",
      "state": {
       "layout": "IPY_MODEL_05df9cb1b2fa4cd5b81a4925a16184e2",
       "style": "IPY_MODEL_71b2c52ae57c4a1aab937b57eabd44ed",
       "value": " 16/16 [00:00&lt;00:00, 20.78it/s]"
      }
     },
     "d9d8a40aace14f09a5e129ecd1b65224": {
      "model_module": "@jupyter-widgets/controls",
      "model_module_version": "1.5.0",
      "model_name": "HTMLModel",
      "state": {
       "layout": "IPY_MODEL_6b2704d60fe94a46a1caf6eee8eb6f34",
       "style": "IPY_MODEL_a96772f569594956b6c32e6b67088fbc",
       "value": " 16/16 [00:00&lt;00:00, 19.44it/s]"
      }
     },
     "d9e4ef0e11fd4a068c85c60d52070aac": {
      "model_module": "@jupyter-widgets/controls",
      "model_module_version": "1.5.0",
      "model_name": "FloatProgressModel",
      "state": {
       "layout": "IPY_MODEL_3264bc5d314e4c45886be6183540eafe",
       "max": 2,
       "style": "IPY_MODEL_ae6a8ff841e94d089d8d73c49ff94f87",
       "value": 2
      }
     },
     "da0af254534147498a64d5eb3efa63fe": {
      "model_module": "@jupyter-widgets/controls",
      "model_module_version": "1.5.0",
      "model_name": "ProgressStyleModel",
      "state": {
       "description_width": ""
      }
     },
     "da0d02b124384e999e720f0b71f3cca2": {
      "model_module": "@jupyter-widgets/controls",
      "model_module_version": "1.5.0",
      "model_name": "DescriptionStyleModel",
      "state": {
       "description_width": ""
      }
     },
     "da1586effbb24298bb6a6aabf2da74e2": {
      "model_module": "@jupyter-widgets/controls",
      "model_module_version": "1.5.0",
      "model_name": "HBoxModel",
      "state": {
       "children": [
        "IPY_MODEL_d45063de78ab4250825f07ceb3eaf34b",
        "IPY_MODEL_c5bbb6333e0149989725993509b43ff9",
        "IPY_MODEL_1104674658c04c63b021f09ebdf9d729"
       ],
       "layout": "IPY_MODEL_b9e3ce2010954f46a1e3e05e9676d0a4"
      }
     },
     "da20320d48c043169d28237af1d851d8": {
      "model_module": "@jupyter-widgets/controls",
      "model_module_version": "1.5.0",
      "model_name": "FloatProgressModel",
      "state": {
       "layout": "IPY_MODEL_93f7d493599244daa2e1db3ecc2a9250",
       "max": 16,
       "style": "IPY_MODEL_363a1a0de337446785ae8bc016630cdd",
       "value": 16
      }
     },
     "da347dec155c4902ab6bc7877f4acf4c": {
      "model_module": "@jupyter-widgets/controls",
      "model_module_version": "1.5.0",
      "model_name": "ProgressStyleModel",
      "state": {
       "description_width": ""
      }
     },
     "da3b30f51bb64810b267556829b4f81e": {
      "model_module": "@jupyter-widgets/controls",
      "model_module_version": "1.5.0",
      "model_name": "ProgressStyleModel",
      "state": {
       "description_width": ""
      }
     },
     "da452b13b85d482da44933e23cdc60b9": {
      "model_module": "@jupyter-widgets/controls",
      "model_module_version": "1.5.0",
      "model_name": "FloatProgressModel",
      "state": {
       "layout": "IPY_MODEL_c4384665811445518a30e18c26dd836b",
       "max": 16,
       "style": "IPY_MODEL_41c54c086290497ea981311baf42e6b3",
       "value": 16
      }
     },
     "da458caa885b4203a4c918ee307ced6d": {
      "model_module": "@jupyter-widgets/controls",
      "model_module_version": "1.5.0",
      "model_name": "DescriptionStyleModel",
      "state": {
       "description_width": ""
      }
     },
     "da74affa27de4b118fd27105544b0872": {
      "model_module": "@jupyter-widgets/controls",
      "model_module_version": "1.5.0",
      "model_name": "ProgressStyleModel",
      "state": {
       "description_width": ""
      }
     },
     "da81310f4ed84fd78e3625ea1057a046": {
      "model_module": "@jupyter-widgets/controls",
      "model_module_version": "1.5.0",
      "model_name": "DescriptionStyleModel",
      "state": {
       "description_width": ""
      }
     },
     "da9d1cea12ba46219f4eeb08efa65a2a": {
      "model_module": "@jupyter-widgets/controls",
      "model_module_version": "1.5.0",
      "model_name": "FloatProgressModel",
      "state": {
       "layout": "IPY_MODEL_c6414a6712ad4849835d67215df221e1",
       "max": 77,
       "style": "IPY_MODEL_cd478b2f768f4262b29d432fba91251a",
       "value": 47
      }
     },
     "dab5885a1d8f4058907ef0e322b9978d": {
      "model_module": "@jupyter-widgets/base",
      "model_module_version": "1.2.0",
      "model_name": "LayoutModel",
      "state": {
       "display": "inline-flex",
       "flex_flow": "row wrap",
       "width": "100%"
      }
     },
     "dae14b5acec443ef87342d4ee4cec3c1": {
      "model_module": "@jupyter-widgets/controls",
      "model_module_version": "1.5.0",
      "model_name": "ProgressStyleModel",
      "state": {
       "description_width": ""
      }
     },
     "dae43dd91c5249378241936b2bc0b6d6": {
      "model_module": "@jupyter-widgets/base",
      "model_module_version": "1.2.0",
      "model_name": "LayoutModel",
      "state": {
       "display": "inline-flex",
       "flex_flow": "row wrap",
       "width": "100%"
      }
     },
     "dae4c6421f9746abb546ac4d94c8f331": {
      "model_module": "@jupyter-widgets/base",
      "model_module_version": "1.2.0",
      "model_name": "LayoutModel",
      "state": {
       "flex": "2"
      }
     },
     "db09ed4187a942feaa659b5af6c6e0e8": {
      "model_module": "@jupyter-widgets/controls",
      "model_module_version": "1.5.0",
      "model_name": "FloatProgressModel",
      "state": {
       "layout": "IPY_MODEL_c5c777f59d5c4aa4a3b8c5315aaf83b3",
       "max": 16,
       "style": "IPY_MODEL_6804d0e6b0e44a409a6f6338339c620b",
       "value": 16
      }
     },
     "db306affcc7e4f058aaf6c1fedee885b": {
      "model_module": "@jupyter-widgets/controls",
      "model_module_version": "1.5.0",
      "model_name": "FloatProgressModel",
      "state": {
       "layout": "IPY_MODEL_4661ef6cd9ee4a01936d78a93ca97ed4",
       "max": 77,
       "style": "IPY_MODEL_14021dfb488e4be0bfdc3c9814036201",
       "value": 8
      }
     },
     "db39ff4d415448348df2fb248f49f72d": {
      "model_module": "@jupyter-widgets/base",
      "model_module_version": "1.2.0",
      "model_name": "LayoutModel",
      "state": {
       "display": "inline-flex",
       "flex_flow": "row wrap",
       "width": "100%"
      }
     },
     "db4546d3a5f24db980205d4ca3331d30": {
      "model_module": "@jupyter-widgets/base",
      "model_module_version": "1.2.0",
      "model_name": "LayoutModel",
      "state": {
       "flex": "2"
      }
     },
     "db6d107d86454ea3b82ecd7a61fb4330": {
      "model_module": "@jupyter-widgets/controls",
      "model_module_version": "1.5.0",
      "model_name": "FloatProgressModel",
      "state": {
       "layout": "IPY_MODEL_dcc0bdb541034b34b2486322903f30d3",
       "max": 16,
       "style": "IPY_MODEL_0f1a4042ec084d29b001ed50cf2503ec",
       "value": 16
      }
     },
     "db6e9fef72b54e06adedf26186985a36": {
      "model_module": "@jupyter-widgets/controls",
      "model_module_version": "1.5.0",
      "model_name": "HTMLModel",
      "state": {
       "layout": "IPY_MODEL_7083efc128ee4970ac586ab5850e3df8",
       "style": "IPY_MODEL_6e39c1277dda49289732d3d21266d94d",
       "value": " 16/16 [00:04&lt;00:00,  3.06it/s]"
      }
     },
     "db765fbc86444cca9628b6aef45b4ffe": {
      "model_module": "@jupyter-widgets/base",
      "model_module_version": "1.2.0",
      "model_name": "LayoutModel",
      "state": {}
     },
     "db7836e3b93c4bea95deca5d7281cd34": {
      "model_module": "@jupyter-widgets/base",
      "model_module_version": "1.2.0",
      "model_name": "LayoutModel",
      "state": {}
     },
     "db8e7caf838944a49891d5f5718e578b": {
      "model_module": "@jupyter-widgets/controls",
      "model_module_version": "1.5.0",
      "model_name": "ProgressStyleModel",
      "state": {
       "description_width": ""
      }
     },
     "db990b8df0784f31b970a15f4b26a24f": {
      "model_module": "@jupyter-widgets/controls",
      "model_module_version": "1.5.0",
      "model_name": "DescriptionStyleModel",
      "state": {
       "description_width": ""
      }
     },
     "dba289776d644dba9167ddcf688794a9": {
      "model_module": "@jupyter-widgets/controls",
      "model_module_version": "1.5.0",
      "model_name": "DescriptionStyleModel",
      "state": {
       "description_width": ""
      }
     },
     "dba8eea182084f92a1116b18ab16a98b": {
      "model_module": "@jupyter-widgets/controls",
      "model_module_version": "1.5.0",
      "model_name": "ProgressStyleModel",
      "state": {
       "description_width": ""
      }
     },
     "dbd2babfd7094748b4842f94aa828028": {
      "model_module": "@jupyter-widgets/controls",
      "model_module_version": "1.5.0",
      "model_name": "DescriptionStyleModel",
      "state": {
       "description_width": ""
      }
     },
     "dbe007f652bd4171b60dc27c645362d3": {
      "model_module": "@jupyter-widgets/base",
      "model_module_version": "1.2.0",
      "model_name": "LayoutModel",
      "state": {
       "display": "inline-flex",
       "flex_flow": "row wrap",
       "width": "100%"
      }
     },
     "dbe473e3075b4375ba183378249dad82": {
      "model_module": "@jupyter-widgets/controls",
      "model_module_version": "1.5.0",
      "model_name": "FloatProgressModel",
      "state": {
       "layout": "IPY_MODEL_33212c267953495b8ed518f87ee5ab53",
       "max": 16,
       "style": "IPY_MODEL_8f9aa307f58043eca120f0d2714c3037",
       "value": 16
      }
     },
     "dbe5f1a1523242bcab0a1dd38a98a138": {
      "model_module": "@jupyter-widgets/base",
      "model_module_version": "1.2.0",
      "model_name": "LayoutModel",
      "state": {}
     },
     "dbf47b68f1f0402aab49d936ef754704": {
      "model_module": "@jupyter-widgets/controls",
      "model_module_version": "1.5.0",
      "model_name": "DescriptionStyleModel",
      "state": {
       "description_width": ""
      }
     },
     "dc06fcebc0404c42abc02f10cf04921a": {
      "model_module": "@jupyter-widgets/base",
      "model_module_version": "1.2.0",
      "model_name": "LayoutModel",
      "state": {
       "display": "inline-flex",
       "flex_flow": "row wrap",
       "width": "100%"
      }
     },
     "dc281881d09a43f6bd80c6c0c09ffa5e": {
      "model_module": "@jupyter-widgets/controls",
      "model_module_version": "1.5.0",
      "model_name": "DescriptionStyleModel",
      "state": {
       "description_width": ""
      }
     },
     "dc3d6d1747ce4ab3b0771c3dfe2ecc97": {
      "model_module": "@jupyter-widgets/controls",
      "model_module_version": "1.5.0",
      "model_name": "FloatProgressModel",
      "state": {
       "layout": "IPY_MODEL_d18c46cfea994ca98d1e6593771d3a99",
       "max": 2,
       "style": "IPY_MODEL_f548361cbcf148f89d82ca17134bf77a",
       "value": 2
      }
     },
     "dc4046b437a24cf5911a67427b9fef6a": {
      "model_module": "@jupyter-widgets/controls",
      "model_module_version": "1.5.0",
      "model_name": "DescriptionStyleModel",
      "state": {
       "description_width": ""
      }
     },
     "dc6197b94f87406e9a0aaf3a0f6eb284": {
      "model_module": "@jupyter-widgets/base",
      "model_module_version": "1.2.0",
      "model_name": "LayoutModel",
      "state": {}
     },
     "dc6cac34e3cd407597bb609ec2d7a1bb": {
      "model_module": "@jupyter-widgets/base",
      "model_module_version": "1.2.0",
      "model_name": "LayoutModel",
      "state": {}
     },
     "dc84d1bb577f4c00b47d7b1c9720466f": {
      "model_module": "@jupyter-widgets/controls",
      "model_module_version": "1.5.0",
      "model_name": "HTMLModel",
      "state": {
       "layout": "IPY_MODEL_6c6d43fc62cb4ee786535986200a8878",
       "style": "IPY_MODEL_8f62b71861d9476b90fa751841e1e931",
       "value": " 16/16 [00:01&lt;00:00, 14.64it/s]"
      }
     },
     "dca218c2ceab448d9903dd0cfd7cb86a": {
      "model_module": "@jupyter-widgets/controls",
      "model_module_version": "1.5.0",
      "model_name": "HTMLModel",
      "state": {
       "layout": "IPY_MODEL_1fca68bf787c4b0698763df15f57c6d5",
       "style": "IPY_MODEL_4dc1cb5163b84307a4443991b2aa13fd",
       "value": "Validation DataLoader 0: 100%"
      }
     },
     "dcb1ebb6c97444ccb67c3b5eb2110312": {
      "model_module": "@jupyter-widgets/controls",
      "model_module_version": "1.5.0",
      "model_name": "HTMLModel",
      "state": {
       "layout": "IPY_MODEL_279a4a723e7a4828b5a835b30f299195",
       "style": "IPY_MODEL_c3f58bb80c4243c1a66b810e4147fea1",
       "value": "Validation DataLoader 0: 100%"
      }
     },
     "dcba6b01db6b4f41b1e8bffe734d3d87": {
      "model_module": "@jupyter-widgets/controls",
      "model_module_version": "1.5.0",
      "model_name": "HTMLModel",
      "state": {
       "layout": "IPY_MODEL_d88f4e2309ec4d36accec15a0ce1260e",
       "style": "IPY_MODEL_a8a46fd2d42742fc9deb615c7b179fa3",
       "value": "Validation DataLoader 0: 100%"
      }
     },
     "dcbe76f6adcc4a20970eee63ca1e1108": {
      "model_module": "@jupyter-widgets/controls",
      "model_module_version": "1.5.0",
      "model_name": "DescriptionStyleModel",
      "state": {
       "description_width": ""
      }
     },
     "dcc0bdb541034b34b2486322903f30d3": {
      "model_module": "@jupyter-widgets/base",
      "model_module_version": "1.2.0",
      "model_name": "LayoutModel",
      "state": {
       "flex": "2"
      }
     },
     "dcd2975d45b74a87b93d9af0683de9cb": {
      "model_module": "@jupyter-widgets/base",
      "model_module_version": "1.2.0",
      "model_name": "LayoutModel",
      "state": {}
     },
     "dce377432d7e498a96ef6aa97622c58a": {
      "model_module": "@jupyter-widgets/controls",
      "model_module_version": "1.5.0",
      "model_name": "FloatProgressModel",
      "state": {
       "layout": "IPY_MODEL_76f5d8fe0eac414f8406e7acf573c181",
       "max": 16,
       "style": "IPY_MODEL_b8ccd17859b945ffaba8cb6e2e60244f",
       "value": 16
      }
     },
     "dcfa7d8571ed4e64a9d0d1433c977d31": {
      "model_module": "@jupyter-widgets/base",
      "model_module_version": "1.2.0",
      "model_name": "LayoutModel",
      "state": {}
     },
     "dd042363e2f846279318384e5acb6915": {
      "model_module": "@jupyter-widgets/base",
      "model_module_version": "1.2.0",
      "model_name": "LayoutModel",
      "state": {
       "display": "inline-flex",
       "flex_flow": "row wrap",
       "width": "100%"
      }
     },
     "dd0cc0513fc7499ba96edc347c319fde": {
      "model_module": "@jupyter-widgets/base",
      "model_module_version": "1.2.0",
      "model_name": "LayoutModel",
      "state": {
       "flex": "2"
      }
     },
     "dd30ced1ed7c455c9efe776eb29ba1b1": {
      "model_module": "@jupyter-widgets/base",
      "model_module_version": "1.2.0",
      "model_name": "LayoutModel",
      "state": {}
     },
     "dd35fc93d86e4bbe92f59bf1959619af": {
      "model_module": "@jupyter-widgets/controls",
      "model_module_version": "1.5.0",
      "model_name": "FloatProgressModel",
      "state": {
       "layout": "IPY_MODEL_99c71f75377d4b4381b316eab890cc3d",
       "max": 16,
       "style": "IPY_MODEL_e2a12d95bf0649e5aee2b888e6abe2d6",
       "value": 16
      }
     },
     "dd54645df9cd4765ad247197f28a6e94": {
      "model_module": "@jupyter-widgets/controls",
      "model_module_version": "1.5.0",
      "model_name": "HTMLModel",
      "state": {
       "layout": "IPY_MODEL_0b5a8e75dfee447e8efe398d9e0296a0",
       "style": "IPY_MODEL_514a3fe464a84558b0b8ed03ed44fe0c",
       "value": "Validation DataLoader 0: 100%"
      }
     },
     "dd58a8e7d8df47ff94637f84419611cf": {
      "model_module": "@jupyter-widgets/controls",
      "model_module_version": "1.5.0",
      "model_name": "HBoxModel",
      "state": {
       "children": [
        "IPY_MODEL_54b4933ef53e47c5a5235813cb24dd03",
        "IPY_MODEL_2471c83989864f878257f7ea38477524",
        "IPY_MODEL_1d85c3ad143b430fab024ad0d9e5c91d"
       ],
       "layout": "IPY_MODEL_89d0d3e6990447f885ac695b1ec4bf04"
      }
     },
     "dd647011fb474896819207f5fb662336": {
      "model_module": "@jupyter-widgets/controls",
      "model_module_version": "1.5.0",
      "model_name": "DescriptionStyleModel",
      "state": {
       "description_width": ""
      }
     },
     "dd71388b6b93463a8b2ea0cb2c32cfff": {
      "model_module": "@jupyter-widgets/base",
      "model_module_version": "1.2.0",
      "model_name": "LayoutModel",
      "state": {}
     },
     "dd7f40d711e441faa72911a5a02dfacd": {
      "model_module": "@jupyter-widgets/controls",
      "model_module_version": "1.5.0",
      "model_name": "DescriptionStyleModel",
      "state": {
       "description_width": ""
      }
     },
     "dd8e9f5f72044f0ba396427e4a9a4a81": {
      "model_module": "@jupyter-widgets/base",
      "model_module_version": "1.2.0",
      "model_name": "LayoutModel",
      "state": {}
     },
     "dd93e21a5d784b95a9ef3599fda47f84": {
      "model_module": "@jupyter-widgets/controls",
      "model_module_version": "1.5.0",
      "model_name": "HTMLModel",
      "state": {
       "layout": "IPY_MODEL_15e23b61de0947f3a8952b0038b262f5",
       "style": "IPY_MODEL_0b7a57156dbe4faa963482071ba7e1c1",
       "value": " 2/2 [00:00&lt;00:00,  5.75it/s]"
      }
     },
     "ddb408986a1e485f9639369945f1ff4b": {
      "model_module": "@jupyter-widgets/controls",
      "model_module_version": "1.5.0",
      "model_name": "HTMLModel",
      "state": {
       "layout": "IPY_MODEL_1afaa7ab3710442798f01d3508984dae",
       "style": "IPY_MODEL_5d868d01ff4c43adbe4ac8fb0120ffe1",
       "value": "Epoch 0: 100%"
      }
     },
     "ddb7324d842a4cd48c1e955f28c2f4c8": {
      "model_module": "@jupyter-widgets/base",
      "model_module_version": "1.2.0",
      "model_name": "LayoutModel",
      "state": {
       "flex": "2"
      }
     },
     "ddcd0f7b9a3d4c299fe2f787713989d7": {
      "model_module": "@jupyter-widgets/controls",
      "model_module_version": "1.5.0",
      "model_name": "ProgressStyleModel",
      "state": {
       "description_width": ""
      }
     },
     "dddd4b5aedff4df290fd2ec960e70bd5": {
      "model_module": "@jupyter-widgets/controls",
      "model_module_version": "1.5.0",
      "model_name": "HTMLModel",
      "state": {
       "layout": "IPY_MODEL_96e1642b51094ca79c1951d8df2c5471",
       "style": "IPY_MODEL_fe139b32441449cf88fa29bd45f55c26",
       "value": " 16/16 [00:00&lt;00:00, 20.37it/s]"
      }
     },
     "dde64b5e21f841a0b667c791730ad276": {
      "model_module": "@jupyter-widgets/base",
      "model_module_version": "1.2.0",
      "model_name": "LayoutModel",
      "state": {}
     },
     "dde859d4c4cc486e89579c635cc86f32": {
      "model_module": "@jupyter-widgets/controls",
      "model_module_version": "1.5.0",
      "model_name": "DescriptionStyleModel",
      "state": {
       "description_width": ""
      }
     },
     "de0b933c410c4a8689570d18df4f76c0": {
      "model_module": "@jupyter-widgets/base",
      "model_module_version": "1.2.0",
      "model_name": "LayoutModel",
      "state": {
       "display": "inline-flex",
       "flex_flow": "row wrap",
       "width": "100%"
      }
     },
     "de437f7ebaac48e5a8e8f9751d963ac7": {
      "model_module": "@jupyter-widgets/base",
      "model_module_version": "1.2.0",
      "model_name": "LayoutModel",
      "state": {
       "flex": "2"
      }
     },
     "de776565fccb4e9da48f83a0a415ed21": {
      "model_module": "@jupyter-widgets/base",
      "model_module_version": "1.2.0",
      "model_name": "LayoutModel",
      "state": {
       "display": "inline-flex",
       "flex_flow": "row wrap",
       "width": "100%"
      }
     },
     "de7fe8c75a244f87993cbe3475ff0721": {
      "model_module": "@jupyter-widgets/base",
      "model_module_version": "1.2.0",
      "model_name": "LayoutModel",
      "state": {
       "display": "inline-flex",
       "flex_flow": "row wrap",
       "width": "100%"
      }
     },
     "dea28aaf294e4b72bc60111735195f7b": {
      "model_module": "@jupyter-widgets/base",
      "model_module_version": "1.2.0",
      "model_name": "LayoutModel",
      "state": {}
     },
     "deaaba0851934b9fbd5b6620c68e4788": {
      "model_module": "@jupyter-widgets/controls",
      "model_module_version": "1.5.0",
      "model_name": "HBoxModel",
      "state": {
       "children": [
        "IPY_MODEL_a3f3eae1ccb54fdba1bab0cb53df0f9f",
        "IPY_MODEL_c71b7142a4c4463f9f496f161c3f86f2",
        "IPY_MODEL_f49bc8968de24641ac835bebca37ba2e"
       ],
       "layout": "IPY_MODEL_bb0f4170a5244a8dbec9f820ab9d90ef"
      }
     },
     "deb170500ebf41e5aac8915fafbbd4b8": {
      "model_module": "@jupyter-widgets/base",
      "model_module_version": "1.2.0",
      "model_name": "LayoutModel",
      "state": {}
     },
     "deb742a21955487caea838d3a8e9ae6f": {
      "model_module": "@jupyter-widgets/controls",
      "model_module_version": "1.5.0",
      "model_name": "HTMLModel",
      "state": {
       "layout": "IPY_MODEL_84e2dfdbe11c47778fcb919fb7128802",
       "style": "IPY_MODEL_9197fa045502426dad575def5f5fc892",
       "value": " 16/16 [00:01&lt;00:00,  7.81it/s]"
      }
     },
     "deb80d4ef30445b69df5803b1ac964d7": {
      "model_module": "@jupyter-widgets/base",
      "model_module_version": "1.2.0",
      "model_name": "LayoutModel",
      "state": {
       "display": "inline-flex",
       "flex_flow": "row wrap",
       "width": "100%"
      }
     },
     "deec04dcb55a4dda9eaba21a81a0819a": {
      "model_module": "@jupyter-widgets/controls",
      "model_module_version": "1.5.0",
      "model_name": "ProgressStyleModel",
      "state": {
       "description_width": ""
      }
     },
     "def3662e4a7d465bad9f9a4521e1526d": {
      "model_module": "@jupyter-widgets/controls",
      "model_module_version": "1.5.0",
      "model_name": "DescriptionStyleModel",
      "state": {
       "description_width": ""
      }
     },
     "def8f4e320074d7e8cb987e32ba15120": {
      "model_module": "@jupyter-widgets/controls",
      "model_module_version": "1.5.0",
      "model_name": "ProgressStyleModel",
      "state": {
       "description_width": ""
      }
     },
     "defcc778eeee4128989ebf4e96a806df": {
      "model_module": "@jupyter-widgets/controls",
      "model_module_version": "1.5.0",
      "model_name": "HTMLModel",
      "state": {
       "layout": "IPY_MODEL_7688af49cf174824a576fb154eb37c34",
       "style": "IPY_MODEL_18c7edd440aa499e8f88d49c9b6baee2",
       "value": "Validation DataLoader 0: 100%"
      }
     },
     "df01f0500cd84a22a3a21a92a475c8c1": {
      "model_module": "@jupyter-widgets/base",
      "model_module_version": "1.2.0",
      "model_name": "LayoutModel",
      "state": {}
     },
     "df113d5e113e4645af7f82c0fb71cac1": {
      "model_module": "@jupyter-widgets/base",
      "model_module_version": "1.2.0",
      "model_name": "LayoutModel",
      "state": {}
     },
     "df12ef66dcee46409e59cd64fc914e20": {
      "model_module": "@jupyter-widgets/controls",
      "model_module_version": "1.5.0",
      "model_name": "DescriptionStyleModel",
      "state": {
       "description_width": ""
      }
     },
     "df36cb6dc95e42d98e94ddf33e485838": {
      "model_module": "@jupyter-widgets/controls",
      "model_module_version": "1.5.0",
      "model_name": "ProgressStyleModel",
      "state": {
       "description_width": ""
      }
     },
     "df4af21232b14e4bb6bbb0361baada68": {
      "model_module": "@jupyter-widgets/controls",
      "model_module_version": "1.5.0",
      "model_name": "FloatProgressModel",
      "state": {
       "layout": "IPY_MODEL_e8b3830f4ae140c69e86f9ef5408ad26",
       "max": 16,
       "style": "IPY_MODEL_15b735c18e3843bea69f7bbb8ebb8ccc",
       "value": 16
      }
     },
     "df4d3546b5cf40e588f1231ebe3e6872": {
      "model_module": "@jupyter-widgets/controls",
      "model_module_version": "1.5.0",
      "model_name": "HTMLModel",
      "state": {
       "layout": "IPY_MODEL_0e673149f6d04476935074f6552ef5c2",
       "style": "IPY_MODEL_53489fbd43e74b8bb784f10941d57117",
       "value": " 16/16 [00:01&lt;00:00, 11.15it/s]"
      }
     },
     "df509751e7a74d37959fd5449c82358c": {
      "model_module": "@jupyter-widgets/base",
      "model_module_version": "1.2.0",
      "model_name": "LayoutModel",
      "state": {
       "display": "inline-flex",
       "flex_flow": "row wrap",
       "width": "100%"
      }
     },
     "df53e23229884cf2a2c857f7a7cf586c": {
      "model_module": "@jupyter-widgets/base",
      "model_module_version": "1.2.0",
      "model_name": "LayoutModel",
      "state": {
       "flex": "2"
      }
     },
     "df591925fe8047cf9bfe55047e3d99cb": {
      "model_module": "@jupyter-widgets/controls",
      "model_module_version": "1.5.0",
      "model_name": "DescriptionStyleModel",
      "state": {
       "description_width": ""
      }
     },
     "df5d9c2b0b114982b4d8b6f759f2ef44": {
      "model_module": "@jupyter-widgets/controls",
      "model_module_version": "1.5.0",
      "model_name": "HTMLModel",
      "state": {
       "layout": "IPY_MODEL_98efe6bbbfef454383fae82f4fecf6fd",
       "style": "IPY_MODEL_234e0f01900f49bea840de400a970616",
       "value": " 16/16 [00:00&lt;00:00, 19.51it/s]"
      }
     },
     "df7bfd48a08d4301b87a86a69a49c7cc": {
      "model_module": "@jupyter-widgets/controls",
      "model_module_version": "1.5.0",
      "model_name": "HTMLModel",
      "state": {
       "layout": "IPY_MODEL_5700846fd9c1467489532ad7d2383ef7",
       "style": "IPY_MODEL_c9ca1f7b4bbe49358e80187067542975",
       "value": " 16/16 [00:00&lt;00:00, 15.84it/s]"
      }
     },
     "df7d0fc77f5343f1845487d2cd932a51": {
      "model_module": "@jupyter-widgets/base",
      "model_module_version": "1.2.0",
      "model_name": "LayoutModel",
      "state": {}
     },
     "df87a9da888149c2b6e97590be27b99e": {
      "model_module": "@jupyter-widgets/controls",
      "model_module_version": "1.5.0",
      "model_name": "ProgressStyleModel",
      "state": {
       "description_width": ""
      }
     },
     "dfa31c149829490c8fe6d9dedcc3db5a": {
      "model_module": "@jupyter-widgets/base",
      "model_module_version": "1.2.0",
      "model_name": "LayoutModel",
      "state": {}
     },
     "dfc39c8bcec142d9a98e7fbaadc736e1": {
      "model_module": "@jupyter-widgets/controls",
      "model_module_version": "1.5.0",
      "model_name": "FloatProgressModel",
      "state": {
       "layout": "IPY_MODEL_8ebe8f6f344d4a85bf87bfe0bb03911b",
       "max": 77,
       "style": "IPY_MODEL_54ed567d14f54bfba0655dca5238bd0a",
       "value": 72
      }
     },
     "dfc4da39a7844ea0a9311ddca806aec3": {
      "model_module": "@jupyter-widgets/base",
      "model_module_version": "1.2.0",
      "model_name": "LayoutModel",
      "state": {}
     },
     "dfc98ad2a26048059f8f3b126b7d7d54": {
      "model_module": "@jupyter-widgets/controls",
      "model_module_version": "1.5.0",
      "model_name": "HTMLModel",
      "state": {
       "layout": "IPY_MODEL_07abf27a27ca40a29690190645baabec",
       "style": "IPY_MODEL_d6eaada1c07b4313b5b786a3c5a7465f",
       "value": " 16/16 [00:02&lt;00:00,  7.38it/s]"
      }
     },
     "dfcefc88cbb741f5bae7facdcbda737e": {
      "model_module": "@jupyter-widgets/base",
      "model_module_version": "1.2.0",
      "model_name": "LayoutModel",
      "state": {
       "display": "inline-flex",
       "flex_flow": "row wrap",
       "width": "100%"
      }
     },
     "dfe90a3445d845ba89830a7f1446e3bd": {
      "model_module": "@jupyter-widgets/controls",
      "model_module_version": "1.5.0",
      "model_name": "ProgressStyleModel",
      "state": {
       "description_width": ""
      }
     },
     "dfed3edf21be4799b45928d19f0db33a": {
      "model_module": "@jupyter-widgets/controls",
      "model_module_version": "1.5.0",
      "model_name": "DescriptionStyleModel",
      "state": {
       "description_width": ""
      }
     },
     "dff5517ad4e5480bb42775a6ce9f83b3": {
      "model_module": "@jupyter-widgets/base",
      "model_module_version": "1.2.0",
      "model_name": "LayoutModel",
      "state": {}
     },
     "e0122e620c364a6e96031dc7f5fd7623": {
      "model_module": "@jupyter-widgets/controls",
      "model_module_version": "1.5.0",
      "model_name": "DescriptionStyleModel",
      "state": {
       "description_width": ""
      }
     },
     "e016d9e6ea7f48b1b2534a0772303ce7": {
      "model_module": "@jupyter-widgets/controls",
      "model_module_version": "1.5.0",
      "model_name": "FloatProgressModel",
      "state": {
       "layout": "IPY_MODEL_720f54108e2b4113b06e081d23a8b43c",
       "max": 16,
       "style": "IPY_MODEL_7bb477026e114f218d9d80fee002f7c1",
       "value": 16
      }
     },
     "e0879bdf17154e36b17fa13aeff9977f": {
      "model_module": "@jupyter-widgets/controls",
      "model_module_version": "1.5.0",
      "model_name": "DescriptionStyleModel",
      "state": {
       "description_width": ""
      }
     },
     "e08eace7b086492da88d8f00dd725e20": {
      "model_module": "@jupyter-widgets/base",
      "model_module_version": "1.2.0",
      "model_name": "LayoutModel",
      "state": {}
     },
     "e0ac0053e0014408be06ebaf466e390a": {
      "model_module": "@jupyter-widgets/controls",
      "model_module_version": "1.5.0",
      "model_name": "FloatProgressModel",
      "state": {
       "layout": "IPY_MODEL_e3a6d47fa5e6434a90875a734e435534",
       "max": 16,
       "style": "IPY_MODEL_851beddb6b3f42e08b354510578e882f",
       "value": 16
      }
     },
     "e0b6ed4b492046bba8cd1653eea5e781": {
      "model_module": "@jupyter-widgets/controls",
      "model_module_version": "1.5.0",
      "model_name": "DescriptionStyleModel",
      "state": {
       "description_width": ""
      }
     },
     "e0e2469bf94d409ba6585014e921d66f": {
      "model_module": "@jupyter-widgets/controls",
      "model_module_version": "1.5.0",
      "model_name": "ProgressStyleModel",
      "state": {
       "description_width": ""
      }
     },
     "e0f0b8cc90874e8c82a59172f5333d5b": {
      "model_module": "@jupyter-widgets/controls",
      "model_module_version": "1.5.0",
      "model_name": "HTMLModel",
      "state": {
       "layout": "IPY_MODEL_78dfd8e065804514b7631bfc8a6848b4",
       "style": "IPY_MODEL_70d82fd611834de19cb7ec31ccaae813",
       "value": "Validation DataLoader 0: 100%"
      }
     },
     "e131c535a8bf4156b7ccc82a9bc3b219": {
      "model_module": "@jupyter-widgets/controls",
      "model_module_version": "1.5.0",
      "model_name": "ProgressStyleModel",
      "state": {
       "description_width": ""
      }
     },
     "e13e112474164814925b755e1aa63c69": {
      "model_module": "@jupyter-widgets/controls",
      "model_module_version": "1.5.0",
      "model_name": "HTMLModel",
      "state": {
       "layout": "IPY_MODEL_468bdb5d6d9b4b81bc5082588061fca3",
       "style": "IPY_MODEL_e7df26f1312940119ad0829719093eea",
       "value": " 16/16 [00:00&lt;00:00, 20.73it/s]"
      }
     },
     "e15e63cbcb0340c28a2e6be887f4a0c1": {
      "model_module": "@jupyter-widgets/controls",
      "model_module_version": "1.5.0",
      "model_name": "DescriptionStyleModel",
      "state": {
       "description_width": ""
      }
     },
     "e16171e69cf4411781a3b6022abb354a": {
      "model_module": "@jupyter-widgets/controls",
      "model_module_version": "1.5.0",
      "model_name": "ProgressStyleModel",
      "state": {
       "description_width": ""
      }
     },
     "e16f8bcb7d494de0a6a9b03cb2df754b": {
      "model_module": "@jupyter-widgets/base",
      "model_module_version": "1.2.0",
      "model_name": "LayoutModel",
      "state": {
       "flex": "2"
      }
     },
     "e178b231ecc9454e96bce7770045eb37": {
      "model_module": "@jupyter-widgets/controls",
      "model_module_version": "1.5.0",
      "model_name": "DescriptionStyleModel",
      "state": {
       "description_width": ""
      }
     },
     "e189b5e045154c82aa02fe8ddf2fe546": {
      "model_module": "@jupyter-widgets/base",
      "model_module_version": "1.2.0",
      "model_name": "LayoutModel",
      "state": {}
     },
     "e18e46fa6fea400ba2b7650c994f2e99": {
      "model_module": "@jupyter-widgets/base",
      "model_module_version": "1.2.0",
      "model_name": "LayoutModel",
      "state": {}
     },
     "e1921a40160f4e698b21c51a87871eeb": {
      "model_module": "@jupyter-widgets/base",
      "model_module_version": "1.2.0",
      "model_name": "LayoutModel",
      "state": {
       "display": "inline-flex",
       "flex_flow": "row wrap",
       "width": "100%"
      }
     },
     "e1aba3aa0d8c496baf85f5efcb439a09": {
      "model_module": "@jupyter-widgets/base",
      "model_module_version": "1.2.0",
      "model_name": "LayoutModel",
      "state": {}
     },
     "e1adec28b340479aba0a12355211c47d": {
      "model_module": "@jupyter-widgets/base",
      "model_module_version": "1.2.0",
      "model_name": "LayoutModel",
      "state": {
       "display": "inline-flex",
       "flex_flow": "row wrap",
       "width": "100%"
      }
     },
     "e1b70c13d9e84b2c865f34b3aa4bebea": {
      "model_module": "@jupyter-widgets/controls",
      "model_module_version": "1.5.0",
      "model_name": "DescriptionStyleModel",
      "state": {
       "description_width": ""
      }
     },
     "e1cd786f6da24f9c93fc0c51056bd45d": {
      "model_module": "@jupyter-widgets/controls",
      "model_module_version": "1.5.0",
      "model_name": "ProgressStyleModel",
      "state": {
       "description_width": ""
      }
     },
     "e1e453bb31694953b0fa23f7ab9cf926": {
      "model_module": "@jupyter-widgets/controls",
      "model_module_version": "1.5.0",
      "model_name": "HTMLModel",
      "state": {
       "layout": "IPY_MODEL_6b80db743fcc4ca3b25737ff957d6a06",
       "style": "IPY_MODEL_013d4c68268041b09098feee89b1e9d9",
       "value": " 16/16 [00:00&lt;00:00, 18.41it/s]"
      }
     },
     "e1ff315038804f3c835ac5cb7ac8290d": {
      "model_module": "@jupyter-widgets/base",
      "model_module_version": "1.2.0",
      "model_name": "LayoutModel",
      "state": {}
     },
     "e21548e0da8f4d60a0c9e42552bf7957": {
      "model_module": "@jupyter-widgets/base",
      "model_module_version": "1.2.0",
      "model_name": "LayoutModel",
      "state": {}
     },
     "e250877faaed43ee8eca014d341fa8a7": {
      "model_module": "@jupyter-widgets/controls",
      "model_module_version": "1.5.0",
      "model_name": "HTMLModel",
      "state": {
       "layout": "IPY_MODEL_9edf6cc41dc84031892a8e73c4ec8b4e",
       "style": "IPY_MODEL_fc88d0ebe7d544598fb7f7a957c0a885",
       "value": " 16/16 [00:00&lt;00:00, 14.72it/s]"
      }
     },
     "e2736724cad2454cb5c6af8540a3c246": {
      "model_module": "@jupyter-widgets/base",
      "model_module_version": "1.2.0",
      "model_name": "LayoutModel",
      "state": {}
     },
     "e298e26a131c4bb189966fc4ebd3930b": {
      "model_module": "@jupyter-widgets/base",
      "model_module_version": "1.2.0",
      "model_name": "LayoutModel",
      "state": {
       "flex": "2"
      }
     },
     "e2a12d95bf0649e5aee2b888e6abe2d6": {
      "model_module": "@jupyter-widgets/controls",
      "model_module_version": "1.5.0",
      "model_name": "ProgressStyleModel",
      "state": {
       "description_width": ""
      }
     },
     "e2aad16bf9624eb99745cac3c3c1fbd4": {
      "model_module": "@jupyter-widgets/controls",
      "model_module_version": "1.5.0",
      "model_name": "DescriptionStyleModel",
      "state": {
       "description_width": ""
      }
     },
     "e2ab3a2360e4451fbd6ad395c0704fdb": {
      "model_module": "@jupyter-widgets/base",
      "model_module_version": "1.2.0",
      "model_name": "LayoutModel",
      "state": {
       "display": "inline-flex",
       "flex_flow": "row wrap",
       "width": "100%"
      }
     },
     "e2b4ed01c27642599f71a7b7551b664b": {
      "model_module": "@jupyter-widgets/controls",
      "model_module_version": "1.5.0",
      "model_name": "HTMLModel",
      "state": {
       "layout": "IPY_MODEL_f51d846db5ba4f2abe4172cd3b2781a3",
       "style": "IPY_MODEL_5816170911544a0fb6915a45abb5a5f6",
       "value": "Validation DataLoader 0: 100%"
      }
     },
     "e2cad51f75234d25893575f7a1c2ea2a": {
      "model_module": "@jupyter-widgets/controls",
      "model_module_version": "1.5.0",
      "model_name": "DescriptionStyleModel",
      "state": {
       "description_width": ""
      }
     },
     "e2df034fb1394fc0b948c12467d8db85": {
      "model_module": "@jupyter-widgets/base",
      "model_module_version": "1.2.0",
      "model_name": "LayoutModel",
      "state": {}
     },
     "e32b96ab7ea845e09980145977e30c62": {
      "model_module": "@jupyter-widgets/controls",
      "model_module_version": "1.5.0",
      "model_name": "ProgressStyleModel",
      "state": {
       "description_width": ""
      }
     },
     "e36629555ff54d919c5847b81465d17a": {
      "model_module": "@jupyter-widgets/controls",
      "model_module_version": "1.5.0",
      "model_name": "DescriptionStyleModel",
      "state": {
       "description_width": ""
      }
     },
     "e366b701628e4e8a8c9a1310e84be88d": {
      "model_module": "@jupyter-widgets/controls",
      "model_module_version": "1.5.0",
      "model_name": "FloatProgressModel",
      "state": {
       "layout": "IPY_MODEL_52bd3979cc384cdca4943c2675bb6707",
       "max": 77,
       "style": "IPY_MODEL_e5d960f4afac4ece872865f6e9b1c6a5",
       "value": 18
      }
     },
     "e3748b9a29124510b102e463d4837c11": {
      "model_module": "@jupyter-widgets/controls",
      "model_module_version": "1.5.0",
      "model_name": "HTMLModel",
      "state": {
       "layout": "IPY_MODEL_fbc671f20bd740ffab5fc579d8068d5e",
       "style": "IPY_MODEL_bd20d55b4aa640e2be9e7fac524cfea2",
       "value": "Sanity Checking DataLoader 0: 100%"
      }
     },
     "e3a6d47fa5e6434a90875a734e435534": {
      "model_module": "@jupyter-widgets/base",
      "model_module_version": "1.2.0",
      "model_name": "LayoutModel",
      "state": {
       "flex": "2"
      }
     },
     "e3ac716c71bf40da91f231f669cc2e69": {
      "model_module": "@jupyter-widgets/controls",
      "model_module_version": "1.5.0",
      "model_name": "FloatProgressModel",
      "state": {
       "layout": "IPY_MODEL_1a2d976f2f8f46aba55a06992a937a0d",
       "max": 2,
       "style": "IPY_MODEL_8118b348f8c3445dbf4eee2ae3bcf198",
       "value": 2
      }
     },
     "e3b6c024eac3412abcbe896c6a4054bd": {
      "model_module": "@jupyter-widgets/controls",
      "model_module_version": "1.5.0",
      "model_name": "ProgressStyleModel",
      "state": {
       "description_width": ""
      }
     },
     "e3d6d3eab5234f30b937be2e0b4d12f1": {
      "model_module": "@jupyter-widgets/controls",
      "model_module_version": "1.5.0",
      "model_name": "HTMLModel",
      "state": {
       "layout": "IPY_MODEL_812413457368488393ab443dc8bfabfa",
       "style": "IPY_MODEL_7fe787611fe44829b2fb39460e8fceb0",
       "value": " 16/16 [00:04&lt;00:00,  3.38it/s]"
      }
     },
     "e3fae816244243619e6ca37e1b17f806": {
      "model_module": "@jupyter-widgets/controls",
      "model_module_version": "1.5.0",
      "model_name": "DescriptionStyleModel",
      "state": {
       "description_width": ""
      }
     },
     "e43c31c537e64761b12e9fa473990b65": {
      "model_module": "@jupyter-widgets/controls",
      "model_module_version": "1.5.0",
      "model_name": "HTMLModel",
      "state": {
       "layout": "IPY_MODEL_7c54c3143d3246c38b11b5ec7002d0bb",
       "style": "IPY_MODEL_4415ac40d19a4dfba527fbe9cec94faf",
       "value": "Validation DataLoader 0: 100%"
      }
     },
     "e43ce022b1b1425da4772bb4a2c803de": {
      "model_module": "@jupyter-widgets/controls",
      "model_module_version": "1.5.0",
      "model_name": "DescriptionStyleModel",
      "state": {
       "description_width": ""
      }
     },
     "e4552ed5e7864ecbb171e95f4dd1b1ac": {
      "model_module": "@jupyter-widgets/controls",
      "model_module_version": "1.5.0",
      "model_name": "DescriptionStyleModel",
      "state": {
       "description_width": ""
      }
     },
     "e465fbae8bc54c6a95d56dbdade5e5cb": {
      "model_module": "@jupyter-widgets/base",
      "model_module_version": "1.2.0",
      "model_name": "LayoutModel",
      "state": {
       "flex": "2"
      }
     },
     "e46cb833d9d64ad8a4c5eb0e22fa0797": {
      "model_module": "@jupyter-widgets/controls",
      "model_module_version": "1.5.0",
      "model_name": "HTMLModel",
      "state": {
       "layout": "IPY_MODEL_6b737a3f3e2b41b3b49fba4449d0a463",
       "style": "IPY_MODEL_7e0680d51a5549459dcf40ce3c109c4b",
       "value": " 18/77 [00:07&lt;00:24,  2.46it/s, loss=nan, v_num=H-44]"
      }
     },
     "e47ff52701df4a4ea59cc3e91ce52bee": {
      "model_module": "@jupyter-widgets/controls",
      "model_module_version": "1.5.0",
      "model_name": "FloatProgressModel",
      "state": {
       "layout": "IPY_MODEL_c901bde154c14b67ba9520be2376f306",
       "max": 16,
       "style": "IPY_MODEL_136ba9a5f8234e5fad01da45ad4552ca",
       "value": 16
      }
     },
     "e488633a82104b1e910a5b26a8a86851": {
      "model_module": "@jupyter-widgets/controls",
      "model_module_version": "1.5.0",
      "model_name": "ProgressStyleModel",
      "state": {
       "description_width": ""
      }
     },
     "e491cdd33b7c47cba6a91fdeec996a24": {
      "model_module": "@jupyter-widgets/controls",
      "model_module_version": "1.5.0",
      "model_name": "HTMLModel",
      "state": {
       "layout": "IPY_MODEL_235fe5079dad48df88979fe57877152a",
       "style": "IPY_MODEL_95e9bbc46ace44dda6d0b31f2c298348",
       "value": "Validation DataLoader 0: 100%"
      }
     },
     "e4a5fec152e546f3a3081cf662bb1961": {
      "model_module": "@jupyter-widgets/base",
      "model_module_version": "1.2.0",
      "model_name": "LayoutModel",
      "state": {
       "display": "inline-flex",
       "flex_flow": "row wrap",
       "width": "100%"
      }
     },
     "e4b4e66926f740f183bf11445a59ee0b": {
      "model_module": "@jupyter-widgets/controls",
      "model_module_version": "1.5.0",
      "model_name": "DescriptionStyleModel",
      "state": {
       "description_width": ""
      }
     },
     "e4c2517dde4640c0ac8408709ddeeb08": {
      "model_module": "@jupyter-widgets/controls",
      "model_module_version": "1.5.0",
      "model_name": "DescriptionStyleModel",
      "state": {
       "description_width": ""
      }
     },
     "e4c75e1b3e854188a1975f44a1878384": {
      "model_module": "@jupyter-widgets/controls",
      "model_module_version": "1.5.0",
      "model_name": "HTMLModel",
      "state": {
       "layout": "IPY_MODEL_d32689614ae94731ba360913c4c1b216",
       "style": "IPY_MODEL_051ae74b1f6542d7b26c1044f1026456",
       "value": "Validation DataLoader 0: 100%"
      }
     },
     "e4d9dcf1c248474bb490b7394aefa324": {
      "model_module": "@jupyter-widgets/controls",
      "model_module_version": "1.5.0",
      "model_name": "HTMLModel",
      "state": {
       "layout": "IPY_MODEL_1c8030a4b6634ebb8eaa207005a07d10",
       "style": "IPY_MODEL_e3fae816244243619e6ca37e1b17f806",
       "value": " 16/16 [00:00&lt;00:00, 19.70it/s]"
      }
     },
     "e51ce36a7a374f598b1cff2bc613eca7": {
      "model_module": "@jupyter-widgets/controls",
      "model_module_version": "1.5.0",
      "model_name": "FloatProgressModel",
      "state": {
       "layout": "IPY_MODEL_036e5469fc5c4cb5b047846ec453aeca",
       "max": 77,
       "style": "IPY_MODEL_61705aeaa425459d9435251e283e9769",
       "value": 40
      }
     },
     "e523cec942224cc2aa02aaf4ad0b858c": {
      "model_module": "@jupyter-widgets/controls",
      "model_module_version": "1.5.0",
      "model_name": "DescriptionStyleModel",
      "state": {
       "description_width": ""
      }
     },
     "e53b3e28f6e143fb9cd0c2feb0784267": {
      "model_module": "@jupyter-widgets/controls",
      "model_module_version": "1.5.0",
      "model_name": "HTMLModel",
      "state": {
       "layout": "IPY_MODEL_4f7ab0483f9d4347866013249dee2098",
       "style": "IPY_MODEL_55fd4654d0d140ad83fe46339a3b71e8",
       "value": " 16/16 [00:04&lt;00:00,  3.45it/s]"
      }
     },
     "e5444d83b95f484badcad0ddc440477a": {
      "model_module": "@jupyter-widgets/base",
      "model_module_version": "1.2.0",
      "model_name": "LayoutModel",
      "state": {
       "display": "inline-flex",
       "flex_flow": "row wrap",
       "width": "100%"
      }
     },
     "e55769c4ef3b44999eb3f683042a22cf": {
      "model_module": "@jupyter-widgets/controls",
      "model_module_version": "1.5.0",
      "model_name": "FloatProgressModel",
      "state": {
       "layout": "IPY_MODEL_0efa804c691f4cff99e738d6c579d477",
       "max": 16,
       "style": "IPY_MODEL_6b71ecb079524091b937c970f1e3e475",
       "value": 16
      }
     },
     "e5818ddba84e4303971c414f73a7be55": {
      "model_module": "@jupyter-widgets/controls",
      "model_module_version": "1.5.0",
      "model_name": "HTMLModel",
      "state": {
       "layout": "IPY_MODEL_749c36bdbf8a42e2a69489e9bc0e31bd",
       "style": "IPY_MODEL_fbf2554e81cd44eaa4821917fbfa5ac9",
       "value": " 16/16 [00:00&lt;00:00, 20.30it/s]"
      }
     },
     "e5964b9ccf044a17b353db96caf41f9f": {
      "model_module": "@jupyter-widgets/controls",
      "model_module_version": "1.5.0",
      "model_name": "HTMLModel",
      "state": {
       "layout": "IPY_MODEL_62bb52df1891441cac631ac768eb555a",
       "style": "IPY_MODEL_bcadd21ea3ee45dba9672ef604046ad6",
       "value": "Epoch 21:  43%"
      }
     },
     "e5b13b5c1e4444d3bb8a971bc7d1ce26": {
      "model_module": "@jupyter-widgets/controls",
      "model_module_version": "1.5.0",
      "model_name": "DescriptionStyleModel",
      "state": {
       "description_width": ""
      }
     },
     "e5bfb6974d414b808e98575c8e05af2a": {
      "model_module": "@jupyter-widgets/controls",
      "model_module_version": "1.5.0",
      "model_name": "FloatProgressModel",
      "state": {
       "layout": "IPY_MODEL_1dd9317aaed74583892ec93444ef58b2",
       "max": 16,
       "style": "IPY_MODEL_f26d735c6e8a4542b902c5fbfc09ec61",
       "value": 16
      }
     },
     "e5c0068426474b2fb894f2a3510372c5": {
      "model_module": "@jupyter-widgets/base",
      "model_module_version": "1.2.0",
      "model_name": "LayoutModel",
      "state": {
       "flex": "2"
      }
     },
     "e5d5781668464c0c813ba35b0ca6afea": {
      "model_module": "@jupyter-widgets/controls",
      "model_module_version": "1.5.0",
      "model_name": "HTMLModel",
      "state": {
       "layout": "IPY_MODEL_3ac73007c5664bf99b956007cf2d7aba",
       "style": "IPY_MODEL_b394eb9430a94d1e96186f26ddda9a97",
       "value": " 16/16 [00:00&lt;00:00, 16.48it/s]"
      }
     },
     "e5d960f4afac4ece872865f6e9b1c6a5": {
      "model_module": "@jupyter-widgets/controls",
      "model_module_version": "1.5.0",
      "model_name": "ProgressStyleModel",
      "state": {
       "description_width": ""
      }
     },
     "e60c66b8e58e4e75befce7f076336a04": {
      "model_module": "@jupyter-widgets/controls",
      "model_module_version": "1.5.0",
      "model_name": "HTMLModel",
      "state": {
       "layout": "IPY_MODEL_064f9d628e11471d840390ffde5a2d9b",
       "style": "IPY_MODEL_c0e01f15ab25435ba476878811224fcb",
       "value": " 16/16 [00:02&lt;00:00,  8.66it/s]"
      }
     },
     "e6109fb48c2e45feab82dd9d776abacd": {
      "model_module": "@jupyter-widgets/controls",
      "model_module_version": "1.5.0",
      "model_name": "DescriptionStyleModel",
      "state": {
       "description_width": ""
      }
     },
     "e615c5a0671a4f47926d61cddc78e508": {
      "model_module": "@jupyter-widgets/base",
      "model_module_version": "1.2.0",
      "model_name": "LayoutModel",
      "state": {
       "display": "inline-flex",
       "flex_flow": "row wrap",
       "width": "100%"
      }
     },
     "e6261de2d2a8401c9a47bdd4f1ebe633": {
      "model_module": "@jupyter-widgets/controls",
      "model_module_version": "1.5.0",
      "model_name": "DescriptionStyleModel",
      "state": {
       "description_width": ""
      }
     },
     "e630cdddd96b4d7e8c1c4e0b408f2ed6": {
      "model_module": "@jupyter-widgets/base",
      "model_module_version": "1.2.0",
      "model_name": "LayoutModel",
      "state": {}
     },
     "e64521b21af34826a8fd552849ed721a": {
      "model_module": "@jupyter-widgets/controls",
      "model_module_version": "1.5.0",
      "model_name": "DescriptionStyleModel",
      "state": {
       "description_width": ""
      }
     },
     "e648fee6eadb4d8e8bfccea421dc6b62": {
      "model_module": "@jupyter-widgets/base",
      "model_module_version": "1.2.0",
      "model_name": "LayoutModel",
      "state": {
       "display": "inline-flex",
       "flex_flow": "row wrap",
       "width": "100%"
      }
     },
     "e6515837c6d5423abc59a74aa2293c97": {
      "model_module": "@jupyter-widgets/base",
      "model_module_version": "1.2.0",
      "model_name": "LayoutModel",
      "state": {
       "flex": "2"
      }
     },
     "e658606570e64514858e924f6990922a": {
      "model_module": "@jupyter-widgets/controls",
      "model_module_version": "1.5.0",
      "model_name": "ProgressStyleModel",
      "state": {
       "description_width": ""
      }
     },
     "e66d7cc1e1634122bc7041b7a65a5f3a": {
      "model_module": "@jupyter-widgets/controls",
      "model_module_version": "1.5.0",
      "model_name": "ProgressStyleModel",
      "state": {
       "description_width": ""
      }
     },
     "e678842e5bdc4608b00b8c315c00c092": {
      "model_module": "@jupyter-widgets/controls",
      "model_module_version": "1.5.0",
      "model_name": "HTMLModel",
      "state": {
       "layout": "IPY_MODEL_6c935572096140e1a0d92ba52633312b",
       "style": "IPY_MODEL_7045b51836ad46a7b486a0d1cddd72cf",
       "value": " 16/16 [00:05&lt;00:00,  2.81it/s]"
      }
     },
     "e696416dde944cdfa890cc46daec738b": {
      "model_module": "@jupyter-widgets/controls",
      "model_module_version": "1.5.0",
      "model_name": "DescriptionStyleModel",
      "state": {
       "description_width": ""
      }
     },
     "e69ad9fa8f7847f4a651f498d8af6b2c": {
      "model_module": "@jupyter-widgets/controls",
      "model_module_version": "1.5.0",
      "model_name": "FloatProgressModel",
      "state": {
       "layout": "IPY_MODEL_33af90b712b343588009d4c03467b1ef",
       "max": 16,
       "style": "IPY_MODEL_f04e02e5800d458684549adef1fa6623",
       "value": 16
      }
     },
     "e69d995e702a4d44a2da41d24a26209f": {
      "model_module": "@jupyter-widgets/controls",
      "model_module_version": "1.5.0",
      "model_name": "ProgressStyleModel",
      "state": {
       "description_width": ""
      }
     },
     "e6ad22b81f584b6fa511e448bf96bb66": {
      "model_module": "@jupyter-widgets/controls",
      "model_module_version": "1.5.0",
      "model_name": "ProgressStyleModel",
      "state": {
       "description_width": ""
      }
     },
     "e6c31e08226040f9913cc95558930db6": {
      "model_module": "@jupyter-widgets/controls",
      "model_module_version": "1.5.0",
      "model_name": "HTMLModel",
      "state": {
       "layout": "IPY_MODEL_90dee839939645c895a5dc58b82f85e2",
       "style": "IPY_MODEL_cef2384375aa4c2a9eb847e894839610",
       "value": "Validation DataLoader 0: 100%"
      }
     },
     "e6def3f081c04027b224114778ab2dea": {
      "model_module": "@jupyter-widgets/controls",
      "model_module_version": "1.5.0",
      "model_name": "DescriptionStyleModel",
      "state": {
       "description_width": ""
      }
     },
     "e6ffe9b05d744bca9587ec134f319602": {
      "model_module": "@jupyter-widgets/controls",
      "model_module_version": "1.5.0",
      "model_name": "HTMLModel",
      "state": {
       "layout": "IPY_MODEL_c29bd9687cef4c5caa5d399884bb8fc3",
       "style": "IPY_MODEL_9b95ecab8e614b45b527bb73bb408c39",
       "value": " 16/16 [00:01&lt;00:00,  7.67it/s]"
      }
     },
     "e70c57b6b9244a6bb9daf4f733b12d1d": {
      "model_module": "@jupyter-widgets/base",
      "model_module_version": "1.2.0",
      "model_name": "LayoutModel",
      "state": {
       "flex": "2"
      }
     },
     "e720b56e66594290907729d18c40d440": {
      "model_module": "@jupyter-widgets/base",
      "model_module_version": "1.2.0",
      "model_name": "LayoutModel",
      "state": {
       "flex": "2"
      }
     },
     "e743877e605e422384813cbad55c8277": {
      "model_module": "@jupyter-widgets/controls",
      "model_module_version": "1.5.0",
      "model_name": "HTMLModel",
      "state": {
       "layout": "IPY_MODEL_04f2469e12904c8eb15165e86120c3b1",
       "style": "IPY_MODEL_389dad7911d24ecfa5fdab5accf480e2",
       "value": "Validation DataLoader 0: 100%"
      }
     },
     "e74d05784a4c4f66b501571f05dbe0cf": {
      "model_module": "@jupyter-widgets/base",
      "model_module_version": "1.2.0",
      "model_name": "LayoutModel",
      "state": {
       "flex": "2"
      }
     },
     "e75ee733456b48b7ae153ac63d871c5b": {
      "model_module": "@jupyter-widgets/base",
      "model_module_version": "1.2.0",
      "model_name": "LayoutModel",
      "state": {
       "display": "inline-flex",
       "flex_flow": "row wrap",
       "width": "100%"
      }
     },
     "e7688798b4a44dbbb5d29d5705ba44da": {
      "model_module": "@jupyter-widgets/controls",
      "model_module_version": "1.5.0",
      "model_name": "HTMLModel",
      "state": {
       "layout": "IPY_MODEL_2ae32aefebb347b6a924c83bd5eb709a",
       "style": "IPY_MODEL_ce3ee86d43844550bdb44c015608d510",
       "value": "Validation DataLoader 0: 100%"
      }
     },
     "e780c10402cb4a9dba7711c686bfab88": {
      "model_module": "@jupyter-widgets/controls",
      "model_module_version": "1.5.0",
      "model_name": "HTMLModel",
      "state": {
       "layout": "IPY_MODEL_8d1c58695a1743c599076171754eb0fc",
       "style": "IPY_MODEL_d19ed446348b466d983b7432b2bd695a",
       "value": " 16/16 [00:05&lt;00:00,  3.00it/s]"
      }
     },
     "e7ab3d19eb114730af88c1ca0adc4e1f": {
      "model_module": "@jupyter-widgets/controls",
      "model_module_version": "1.5.0",
      "model_name": "DescriptionStyleModel",
      "state": {
       "description_width": ""
      }
     },
     "e7b4bf55dea6478a8e754ec9045612b2": {
      "model_module": "@jupyter-widgets/base",
      "model_module_version": "1.2.0",
      "model_name": "LayoutModel",
      "state": {
       "flex": "2"
      }
     },
     "e7bda7cbe60e49b2ab815d86c5f830c3": {
      "model_module": "@jupyter-widgets/base",
      "model_module_version": "1.2.0",
      "model_name": "LayoutModel",
      "state": {}
     },
     "e7df26f1312940119ad0829719093eea": {
      "model_module": "@jupyter-widgets/controls",
      "model_module_version": "1.5.0",
      "model_name": "DescriptionStyleModel",
      "state": {
       "description_width": ""
      }
     },
     "e7e59412691b4db1b79d8b974c0028e3": {
      "model_module": "@jupyter-widgets/controls",
      "model_module_version": "1.5.0",
      "model_name": "DescriptionStyleModel",
      "state": {
       "description_width": ""
      }
     },
     "e8072877cefd4ba19d1fac473cc6c71e": {
      "model_module": "@jupyter-widgets/controls",
      "model_module_version": "1.5.0",
      "model_name": "HTMLModel",
      "state": {
       "layout": "IPY_MODEL_81d6f63e719748b8ba808b5f336550f2",
       "style": "IPY_MODEL_1027474a4ad54009a5a022c7ef610771",
       "value": " 16/16 [00:00&lt;00:00, 18.50it/s]"
      }
     },
     "e80a25ae116e41f49916442afbb42e47": {
      "model_module": "@jupyter-widgets/controls",
      "model_module_version": "1.5.0",
      "model_name": "FloatProgressModel",
      "state": {
       "layout": "IPY_MODEL_5bc843296acb49a8a0abf36c038ff6dd",
       "max": 16,
       "style": "IPY_MODEL_c084a642d00749a6b7bc916f6a8e0a1f",
       "value": 16
      }
     },
     "e80a26e8632b412ea42526d9e66a5de4": {
      "model_module": "@jupyter-widgets/base",
      "model_module_version": "1.2.0",
      "model_name": "LayoutModel",
      "state": {}
     },
     "e82f075d274b42a1817308b5dbf8715e": {
      "model_module": "@jupyter-widgets/controls",
      "model_module_version": "1.5.0",
      "model_name": "DescriptionStyleModel",
      "state": {
       "description_width": ""
      }
     },
     "e83944e8e0f447ca8c54daf1e7718036": {
      "model_module": "@jupyter-widgets/controls",
      "model_module_version": "1.5.0",
      "model_name": "DescriptionStyleModel",
      "state": {
       "description_width": ""
      }
     },
     "e83f2e895ec444f9ad3d87aae36fd845": {
      "model_module": "@jupyter-widgets/base",
      "model_module_version": "1.2.0",
      "model_name": "LayoutModel",
      "state": {}
     },
     "e871ddf3f7ed4d82bf2159442051dc56": {
      "model_module": "@jupyter-widgets/base",
      "model_module_version": "1.2.0",
      "model_name": "LayoutModel",
      "state": {}
     },
     "e8739f187d154244b43125077ab8a36c": {
      "model_module": "@jupyter-widgets/base",
      "model_module_version": "1.2.0",
      "model_name": "LayoutModel",
      "state": {}
     },
     "e87997a36fe7487bbff1e57f43da628d": {
      "model_module": "@jupyter-widgets/base",
      "model_module_version": "1.2.0",
      "model_name": "LayoutModel",
      "state": {}
     },
     "e88c0bd217ed4c2394782fcdd701e638": {
      "model_module": "@jupyter-widgets/controls",
      "model_module_version": "1.5.0",
      "model_name": "DescriptionStyleModel",
      "state": {
       "description_width": ""
      }
     },
     "e8b3830f4ae140c69e86f9ef5408ad26": {
      "model_module": "@jupyter-widgets/base",
      "model_module_version": "1.2.0",
      "model_name": "LayoutModel",
      "state": {
       "flex": "2"
      }
     },
     "e8b7232b7a8b41bd88941378c6dc3d3a": {
      "model_module": "@jupyter-widgets/controls",
      "model_module_version": "1.5.0",
      "model_name": "DescriptionStyleModel",
      "state": {
       "description_width": ""
      }
     },
     "e8ebad1b6e15467a8a8eade14de50f18": {
      "model_module": "@jupyter-widgets/controls",
      "model_module_version": "1.5.0",
      "model_name": "DescriptionStyleModel",
      "state": {
       "description_width": ""
      }
     },
     "e8f07bb7558145dfb9a5ea77ab5bc195": {
      "model_module": "@jupyter-widgets/base",
      "model_module_version": "1.2.0",
      "model_name": "LayoutModel",
      "state": {
       "flex": "2"
      }
     },
     "e8f42e56e3e04688a3b675aa22f39c12": {
      "model_module": "@jupyter-widgets/controls",
      "model_module_version": "1.5.0",
      "model_name": "FloatProgressModel",
      "state": {
       "layout": "IPY_MODEL_107b7fab79b34d90ade15c03b7c16f54",
       "max": 16,
       "style": "IPY_MODEL_0ea7399fe23c404bbc5a65809a87946a",
       "value": 16
      }
     },
     "e91228f7632d4829a5eec30ee316ce22": {
      "model_module": "@jupyter-widgets/base",
      "model_module_version": "1.2.0",
      "model_name": "LayoutModel",
      "state": {}
     },
     "e965b39dcf7f4213a49de9b1bd7917cf": {
      "model_module": "@jupyter-widgets/base",
      "model_module_version": "1.2.0",
      "model_name": "LayoutModel",
      "state": {
       "display": "inline-flex",
       "flex_flow": "row wrap",
       "width": "100%"
      }
     },
     "e97280bf2d3e4abdb31a5d85b88fe6bb": {
      "model_module": "@jupyter-widgets/controls",
      "model_module_version": "1.5.0",
      "model_name": "HTMLModel",
      "state": {
       "layout": "IPY_MODEL_103ddb2e79654a78873ac202551fe5ea",
       "style": "IPY_MODEL_ca002ecaf682422db39f2f48ebf30818",
       "value": " 16/16 [00:00&lt;00:00, 15.33it/s]"
      }
     },
     "e9a2cea3e93f463e802f2c8eb6da401a": {
      "model_module": "@jupyter-widgets/base",
      "model_module_version": "1.2.0",
      "model_name": "LayoutModel",
      "state": {
       "display": "inline-flex",
       "flex_flow": "row wrap",
       "width": "100%"
      }
     },
     "e9dc3a7f5b644478b29adac61bd57c24": {
      "model_module": "@jupyter-widgets/controls",
      "model_module_version": "1.5.0",
      "model_name": "DescriptionStyleModel",
      "state": {
       "description_width": ""
      }
     },
     "e9e1ccf5fd1d4d52b29d9d7c5a2cbca4": {
      "model_module": "@jupyter-widgets/controls",
      "model_module_version": "1.5.0",
      "model_name": "FloatProgressModel",
      "state": {
       "layout": "IPY_MODEL_86a507ad5e634c1892c75719cc5bc11e",
       "max": 2,
       "style": "IPY_MODEL_e9f4aebae34142fab27db4d189574f3c",
       "value": 2
      }
     },
     "e9e468107d5f4c5488df88fb20f513d9": {
      "model_module": "@jupyter-widgets/controls",
      "model_module_version": "1.5.0",
      "model_name": "HTMLModel",
      "state": {
       "layout": "IPY_MODEL_564ba0a09cbc4d3a90f8f83b48821ffa",
       "style": "IPY_MODEL_43af6927494c4da0bfefcec490e63df9",
       "value": "Validation DataLoader 0: 100%"
      }
     },
     "e9f0341c67fe47e498dd5e06b7003341": {
      "model_module": "@jupyter-widgets/controls",
      "model_module_version": "1.5.0",
      "model_name": "ProgressStyleModel",
      "state": {
       "description_width": ""
      }
     },
     "e9f4aebae34142fab27db4d189574f3c": {
      "model_module": "@jupyter-widgets/controls",
      "model_module_version": "1.5.0",
      "model_name": "ProgressStyleModel",
      "state": {
       "description_width": ""
      }
     },
     "ea267325921c4531845d743fae79e1c3": {
      "model_module": "@jupyter-widgets/controls",
      "model_module_version": "1.5.0",
      "model_name": "DescriptionStyleModel",
      "state": {
       "description_width": ""
      }
     },
     "ea39228596c74c81a9755d9e21c54480": {
      "model_module": "@jupyter-widgets/base",
      "model_module_version": "1.2.0",
      "model_name": "LayoutModel",
      "state": {}
     },
     "ea470d3110094a19b70dc9cde7984454": {
      "model_module": "@jupyter-widgets/base",
      "model_module_version": "1.2.0",
      "model_name": "LayoutModel",
      "state": {}
     },
     "eaa4246babb140bca40c05df4ce93eab": {
      "model_module": "@jupyter-widgets/base",
      "model_module_version": "1.2.0",
      "model_name": "LayoutModel",
      "state": {
       "display": "inline-flex",
       "flex_flow": "row wrap",
       "width": "100%"
      }
     },
     "eaa905b2cb0a43d0a916fcfb4a408cfb": {
      "model_module": "@jupyter-widgets/controls",
      "model_module_version": "1.5.0",
      "model_name": "FloatProgressModel",
      "state": {
       "layout": "IPY_MODEL_a25ff9c60b1742839bd6b1faa0c2a67d",
       "max": 16,
       "style": "IPY_MODEL_5c754955da4740369cc62f7b4284e0f7",
       "value": 16
      }
     },
     "eab7e05caa77424b9f4c70d3f25af86b": {
      "model_module": "@jupyter-widgets/controls",
      "model_module_version": "1.5.0",
      "model_name": "HTMLModel",
      "state": {
       "layout": "IPY_MODEL_60c62e4ca6e84a169e5b33a66122b5f1",
       "style": "IPY_MODEL_1904f6773f694464b0b9e933ae72d61a",
       "value": "Validation DataLoader 0: 100%"
      }
     },
     "eaca1ba3aaf14f018f331e082d12d4d8": {
      "model_module": "@jupyter-widgets/controls",
      "model_module_version": "1.5.0",
      "model_name": "HTMLModel",
      "state": {
       "layout": "IPY_MODEL_5a2d5cbd108d4feb996f033aada9e295",
       "style": "IPY_MODEL_c4fdc1d65d3e4889ab04518a10cafe31",
       "value": " 13/77 [00:05&lt;01:24,  1.32s/it, loss=nan, v_num=H-42]"
      }
     },
     "eaca46efb4534bfa81308698adde801d": {
      "model_module": "@jupyter-widgets/base",
      "model_module_version": "1.2.0",
      "model_name": "LayoutModel",
      "state": {}
     },
     "eacc63dac64e4b0e96432a826d0cc1cc": {
      "model_module": "@jupyter-widgets/controls",
      "model_module_version": "1.5.0",
      "model_name": "HTMLModel",
      "state": {
       "layout": "IPY_MODEL_6540102f11124e14ae22b0cba68b9c5b",
       "style": "IPY_MODEL_675fb4ecc563417d97ca2bc8c317f988",
       "value": "Validation DataLoader 0: 100%"
      }
     },
     "eace651971a445b19b17dee0aff7a741": {
      "model_module": "@jupyter-widgets/controls",
      "model_module_version": "1.5.0",
      "model_name": "HTMLModel",
      "state": {
       "layout": "IPY_MODEL_38be1888d25a483b851812e3d2653c43",
       "style": "IPY_MODEL_b0941391126f43579db8b1f85159a7d5",
       "value": "Epoch 0: 100%"
      }
     },
     "ead63b9a7a964d3cb01b2378c1c67434": {
      "model_module": "@jupyter-widgets/controls",
      "model_module_version": "1.5.0",
      "model_name": "HTMLModel",
      "state": {
       "layout": "IPY_MODEL_e83f2e895ec444f9ad3d87aae36fd845",
       "style": "IPY_MODEL_9d83cdbb396242e782c0e9b4428e9177",
       "value": "Validation DataLoader 0: 100%"
      }
     },
     "eadae5ed679b47beb810bc47f1fd252a": {
      "model_module": "@jupyter-widgets/controls",
      "model_module_version": "1.5.0",
      "model_name": "HTMLModel",
      "state": {
       "layout": "IPY_MODEL_58636abd83bc48a8878d022e51c7ef8c",
       "style": "IPY_MODEL_82cc14e113324df790ae99e747b6bd6f",
       "value": "Validation DataLoader 0: 100%"
      }
     },
     "eae80e4789bd49b0899fd6fb7f47ba8d": {
      "model_module": "@jupyter-widgets/controls",
      "model_module_version": "1.5.0",
      "model_name": "FloatProgressModel",
      "state": {
       "layout": "IPY_MODEL_afaed6319a944b6d8a1d12131fab21ff",
       "max": 16,
       "style": "IPY_MODEL_16d0ec7f25e94d2b81643ec060c907ef",
       "value": 16
      }
     },
     "eaf176f6cc2c494c9d5b931afb9e017b": {
      "model_module": "@jupyter-widgets/controls",
      "model_module_version": "1.5.0",
      "model_name": "HTMLModel",
      "state": {
       "layout": "IPY_MODEL_79a9cf4164d6470597c90bcb70e46c8c",
       "style": "IPY_MODEL_917590aee3f845afba3af110d1995e89",
       "value": "Validation DataLoader 0: 100%"
      }
     },
     "eaf7e37eb80946078d7b00754bd1c36c": {
      "model_module": "@jupyter-widgets/base",
      "model_module_version": "1.2.0",
      "model_name": "LayoutModel",
      "state": {
       "display": "inline-flex",
       "flex_flow": "row wrap",
       "width": "100%"
      }
     },
     "eaf9e4cd53ef4510948ebec962720a92": {
      "model_module": "@jupyter-widgets/controls",
      "model_module_version": "1.5.0",
      "model_name": "HTMLModel",
      "state": {
       "layout": "IPY_MODEL_65200f1fdb0e4f77b77866f773b1f43e",
       "style": "IPY_MODEL_aeac7e72064840c19c7f4645a723e690",
       "value": "Validation DataLoader 0: 100%"
      }
     },
     "eb0258d1184a4117839af1c0321f006d": {
      "model_module": "@jupyter-widgets/controls",
      "model_module_version": "1.5.0",
      "model_name": "FloatProgressModel",
      "state": {
       "layout": "IPY_MODEL_cffc359bc6174ccdbd95669218bd4eec",
       "max": 16,
       "style": "IPY_MODEL_3f6950e728624aa99b2b5307eeee0ca8",
       "value": 16
      }
     },
     "eb145f7c232a4d96b4d003cf3a8ef535": {
      "model_module": "@jupyter-widgets/base",
      "model_module_version": "1.2.0",
      "model_name": "LayoutModel",
      "state": {
       "flex": "2"
      }
     },
     "eb1d70b857314fee8a6b73fc4c3ffc4c": {
      "model_module": "@jupyter-widgets/base",
      "model_module_version": "1.2.0",
      "model_name": "LayoutModel",
      "state": {}
     },
     "eb251bbdde964d46a486d1925197825b": {
      "model_module": "@jupyter-widgets/controls",
      "model_module_version": "1.5.0",
      "model_name": "DescriptionStyleModel",
      "state": {
       "description_width": ""
      }
     },
     "eb2a8d1b84b4454b9b11985370a1d907": {
      "model_module": "@jupyter-widgets/controls",
      "model_module_version": "1.5.0",
      "model_name": "ProgressStyleModel",
      "state": {
       "description_width": ""
      }
     },
     "eb2ae14fa0314f53b94279856ce0cfd6": {
      "model_module": "@jupyter-widgets/controls",
      "model_module_version": "1.5.0",
      "model_name": "HTMLModel",
      "state": {
       "layout": "IPY_MODEL_30f1f5dfa3574f6cbc848da15acf94cd",
       "style": "IPY_MODEL_48e1454739474111a41198bb83fc4abf",
       "value": "Validation DataLoader 0: 100%"
      }
     },
     "eb442fbf693b4e83b3d556f6cd7e1081": {
      "model_module": "@jupyter-widgets/controls",
      "model_module_version": "1.5.0",
      "model_name": "DescriptionStyleModel",
      "state": {
       "description_width": ""
      }
     },
     "eb49676f25d6409dbd9a2a762b7b49bf": {
      "model_module": "@jupyter-widgets/controls",
      "model_module_version": "1.5.0",
      "model_name": "ProgressStyleModel",
      "state": {
       "description_width": ""
      }
     },
     "eb4c04801d1441988670afdacd5c0ac2": {
      "model_module": "@jupyter-widgets/base",
      "model_module_version": "1.2.0",
      "model_name": "LayoutModel",
      "state": {
       "flex": "2"
      }
     },
     "eb4cea09a5aa47ed99956f67b34678dd": {
      "model_module": "@jupyter-widgets/base",
      "model_module_version": "1.2.0",
      "model_name": "LayoutModel",
      "state": {}
     },
     "eb581e4a3ac84954bfbbf0ac064fb458": {
      "model_module": "@jupyter-widgets/base",
      "model_module_version": "1.2.0",
      "model_name": "LayoutModel",
      "state": {}
     },
     "eb6ffaf98cea4e54b54b083c90f1fd9d": {
      "model_module": "@jupyter-widgets/base",
      "model_module_version": "1.2.0",
      "model_name": "LayoutModel",
      "state": {
       "display": "inline-flex",
       "flex_flow": "row wrap",
       "width": "100%"
      }
     },
     "eb71d9b13de14fe3b28abba9e42d1360": {
      "model_module": "@jupyter-widgets/base",
      "model_module_version": "1.2.0",
      "model_name": "LayoutModel",
      "state": {
       "flex": "2"
      }
     },
     "eb73e5adbbdf4f61ad5af03db811b5a8": {
      "model_module": "@jupyter-widgets/controls",
      "model_module_version": "1.5.0",
      "model_name": "FloatProgressModel",
      "state": {
       "layout": "IPY_MODEL_1234107f75914cccb454bfd118bc6f9a",
       "max": 16,
       "style": "IPY_MODEL_15bb9edd112b43b9b7b7d3895dd1a276",
       "value": 16
      }
     },
     "eb96deca94334cc39d47848796a2bba4": {
      "model_module": "@jupyter-widgets/base",
      "model_module_version": "1.2.0",
      "model_name": "LayoutModel",
      "state": {
       "flex": "2"
      }
     },
     "ebdb69eaaaf14aceb35a15b290d7ede2": {
      "model_module": "@jupyter-widgets/controls",
      "model_module_version": "1.5.0",
      "model_name": "FloatProgressModel",
      "state": {
       "layout": "IPY_MODEL_fb8dd6ac41394083b4920029271469bf",
       "max": 16,
       "style": "IPY_MODEL_4331d9fe43274b4c9fdb6e395a4941b7",
       "value": 16
      }
     },
     "ebded9281b3e4c949341af2db87856be": {
      "model_module": "@jupyter-widgets/base",
      "model_module_version": "1.2.0",
      "model_name": "LayoutModel",
      "state": {}
     },
     "ebea941fe4814bcd9ba600907ef217fe": {
      "model_module": "@jupyter-widgets/base",
      "model_module_version": "1.2.0",
      "model_name": "LayoutModel",
      "state": {}
     },
     "ebfa7ecb1c4548bdb18636dd8d052de8": {
      "model_module": "@jupyter-widgets/controls",
      "model_module_version": "1.5.0",
      "model_name": "DescriptionStyleModel",
      "state": {
       "description_width": ""
      }
     },
     "ec07a843b65b4dbe9830aea629f137bd": {
      "model_module": "@jupyter-widgets/base",
      "model_module_version": "1.2.0",
      "model_name": "LayoutModel",
      "state": {}
     },
     "ec3c3fdbd85a4bbaa55cbbdc46863760": {
      "model_module": "@jupyter-widgets/controls",
      "model_module_version": "1.5.0",
      "model_name": "FloatProgressModel",
      "state": {
       "layout": "IPY_MODEL_784d83a2177242a282440b3c6c7456a8",
       "max": 16,
       "style": "IPY_MODEL_4439b6b9bd684188be25ad8ca1e7db4e",
       "value": 16
      }
     },
     "ec49dda063b04d8c8648a51e0a5b5695": {
      "model_module": "@jupyter-widgets/base",
      "model_module_version": "1.2.0",
      "model_name": "LayoutModel",
      "state": {
       "flex": "2"
      }
     },
     "ec87793284ff4f4eacca6cdb7ef66713": {
      "model_module": "@jupyter-widgets/controls",
      "model_module_version": "1.5.0",
      "model_name": "HTMLModel",
      "state": {
       "layout": "IPY_MODEL_d18e74a541914257ab7037a685238fa0",
       "style": "IPY_MODEL_832393a4eb0e465ba5c0679a810ea8cf",
       "value": " 16/16 [00:00&lt;00:00, 18.64it/s]"
      }
     },
     "ec89c59640bb4203ab71ba4bc221153d": {
      "model_module": "@jupyter-widgets/base",
      "model_module_version": "1.2.0",
      "model_name": "LayoutModel",
      "state": {}
     },
     "ec9bf58b23fc43cd89a6eaa27398a19c": {
      "model_module": "@jupyter-widgets/controls",
      "model_module_version": "1.5.0",
      "model_name": "DescriptionStyleModel",
      "state": {
       "description_width": ""
      }
     },
     "ecaef918695e4e58bfe063b244a69ed6": {
      "model_module": "@jupyter-widgets/controls",
      "model_module_version": "1.5.0",
      "model_name": "ProgressStyleModel",
      "state": {
       "description_width": ""
      }
     },
     "ecf91a583d31406585a53b0231fdf047": {
      "model_module": "@jupyter-widgets/controls",
      "model_module_version": "1.5.0",
      "model_name": "DescriptionStyleModel",
      "state": {
       "description_width": ""
      }
     },
     "ed14f643a8324123999309cd0db7215e": {
      "model_module": "@jupyter-widgets/controls",
      "model_module_version": "1.5.0",
      "model_name": "HTMLModel",
      "state": {
       "layout": "IPY_MODEL_1aaf42d1fe9d44e6b9a817d51887e5a7",
       "style": "IPY_MODEL_f6f859160bad439ca39428bd88d41ab0",
       "value": "Sanity Checking DataLoader 0: 100%"
      }
     },
     "ed2def9b2704433abb74ffdfc3c9067b": {
      "model_module": "@jupyter-widgets/controls",
      "model_module_version": "1.5.0",
      "model_name": "ProgressStyleModel",
      "state": {
       "description_width": ""
      }
     },
     "ed4a8d0a74bf400882f8740ac9060b90": {
      "model_module": "@jupyter-widgets/base",
      "model_module_version": "1.2.0",
      "model_name": "LayoutModel",
      "state": {
       "display": "inline-flex",
       "flex_flow": "row wrap",
       "width": "100%"
      }
     },
     "ed4c58fe59bc47b08b5b889297c0bfb2": {
      "model_module": "@jupyter-widgets/controls",
      "model_module_version": "1.5.0",
      "model_name": "DescriptionStyleModel",
      "state": {
       "description_width": ""
      }
     },
     "ed52977100c549e4944091c2f5511281": {
      "model_module": "@jupyter-widgets/controls",
      "model_module_version": "1.5.0",
      "model_name": "DescriptionStyleModel",
      "state": {
       "description_width": ""
      }
     },
     "ed6c01e1890d4b22bc62d036b6211f1d": {
      "model_module": "@jupyter-widgets/base",
      "model_module_version": "1.2.0",
      "model_name": "LayoutModel",
      "state": {
       "flex": "2"
      }
     },
     "ed70b41f7e4d4184b2d90dbf4450e7ae": {
      "model_module": "@jupyter-widgets/controls",
      "model_module_version": "1.5.0",
      "model_name": "DescriptionStyleModel",
      "state": {
       "description_width": ""
      }
     },
     "ed7684b8217a42899f8082ec927d718a": {
      "model_module": "@jupyter-widgets/controls",
      "model_module_version": "1.5.0",
      "model_name": "ProgressStyleModel",
      "state": {
       "description_width": ""
      }
     },
     "ed824db2668740729d6dbd653d21c636": {
      "model_module": "@jupyter-widgets/controls",
      "model_module_version": "1.5.0",
      "model_name": "DescriptionStyleModel",
      "state": {
       "description_width": ""
      }
     },
     "ed8e6b478e5147f798f1b3305fed5829": {
      "model_module": "@jupyter-widgets/controls",
      "model_module_version": "1.5.0",
      "model_name": "ProgressStyleModel",
      "state": {
       "description_width": ""
      }
     },
     "ed9f42410d654c8fa17260d92acf72f9": {
      "model_module": "@jupyter-widgets/controls",
      "model_module_version": "1.5.0",
      "model_name": "DescriptionStyleModel",
      "state": {
       "description_width": ""
      }
     },
     "edb7ce4035d9431b8fceaac3d9e0ffff": {
      "model_module": "@jupyter-widgets/base",
      "model_module_version": "1.2.0",
      "model_name": "LayoutModel",
      "state": {}
     },
     "edce5d5789bb4adaa3bdb06eebd1fd75": {
      "model_module": "@jupyter-widgets/controls",
      "model_module_version": "1.5.0",
      "model_name": "DescriptionStyleModel",
      "state": {
       "description_width": ""
      }
     },
     "ee0f9b4688f64dd8a8aff23b608c37d2": {
      "model_module": "@jupyter-widgets/controls",
      "model_module_version": "1.5.0",
      "model_name": "HTMLModel",
      "state": {
       "layout": "IPY_MODEL_3ea5a60ccc834b25be0096e73c67f310",
       "style": "IPY_MODEL_d0cdab9180aa4ffcb87d58a693737546",
       "value": "Validation DataLoader 0: 100%"
      }
     },
     "ee35cfc2bc014a74af97b77cb52675b8": {
      "model_module": "@jupyter-widgets/controls",
      "model_module_version": "1.5.0",
      "model_name": "HTMLModel",
      "state": {
       "layout": "IPY_MODEL_8c121371bf5645b09b4938ac2c7833c8",
       "style": "IPY_MODEL_8358585b11c6416bbc270e75c5cbda37",
       "value": " 16/16 [00:04&lt;00:00,  3.11it/s]"
      }
     },
     "ee36ba6842ab4029a14e5c18a1e2b3d3": {
      "model_module": "@jupyter-widgets/base",
      "model_module_version": "1.2.0",
      "model_name": "LayoutModel",
      "state": {
       "flex": "2"
      }
     },
     "ee5c5bdc9e9d4dfbadb79da8936bb865": {
      "model_module": "@jupyter-widgets/base",
      "model_module_version": "1.2.0",
      "model_name": "LayoutModel",
      "state": {}
     },
     "ee5cceaff09d4cfaa89e6022bb5b1b54": {
      "model_module": "@jupyter-widgets/base",
      "model_module_version": "1.2.0",
      "model_name": "LayoutModel",
      "state": {}
     },
     "ee6591417fe24942afed22134bf32d31": {
      "model_module": "@jupyter-widgets/controls",
      "model_module_version": "1.5.0",
      "model_name": "FloatProgressModel",
      "state": {
       "layout": "IPY_MODEL_bb1e913eafc24128bea3c058d3d26097",
       "max": 2,
       "style": "IPY_MODEL_5d7d6f9aa3e64eada45a9a9937958ada",
       "value": 2
      }
     },
     "ee7e4ae421c74a258299e7b2704cda30": {
      "model_module": "@jupyter-widgets/base",
      "model_module_version": "1.2.0",
      "model_name": "LayoutModel",
      "state": {}
     },
     "ee8f39bc10014ae088e52d3ea075c4e9": {
      "model_module": "@jupyter-widgets/controls",
      "model_module_version": "1.5.0",
      "model_name": "DescriptionStyleModel",
      "state": {
       "description_width": ""
      }
     },
     "eebab0a0bd624b5cb71ace84c7ffb87a": {
      "model_module": "@jupyter-widgets/controls",
      "model_module_version": "1.5.0",
      "model_name": "HTMLModel",
      "state": {
       "layout": "IPY_MODEL_75214113a5fa4299904dda77895b3875",
       "style": "IPY_MODEL_d0c309a902974d53a3bf728cf0450e00",
       "value": "Validation DataLoader 0: 100%"
      }
     },
     "eebcfe76533f4d31adde424fd4a0b66a": {
      "model_module": "@jupyter-widgets/base",
      "model_module_version": "1.2.0",
      "model_name": "LayoutModel",
      "state": {}
     },
     "eebd6799688845d88c9be0569709ce5b": {
      "model_module": "@jupyter-widgets/controls",
      "model_module_version": "1.5.0",
      "model_name": "HTMLModel",
      "state": {
       "layout": "IPY_MODEL_7818ee595c674dc88208e0206a89bd51",
       "style": "IPY_MODEL_81719b4829cf434dbeef92cd7d697f72",
       "value": "Validation DataLoader 0: 100%"
      }
     },
     "eec4745ee2ec464fa434f0a68d5f26cb": {
      "model_module": "@jupyter-widgets/base",
      "model_module_version": "1.2.0",
      "model_name": "LayoutModel",
      "state": {}
     },
     "eed424b25586409a9b5cdbd3ca15b9d6": {
      "model_module": "@jupyter-widgets/controls",
      "model_module_version": "1.5.0",
      "model_name": "DescriptionStyleModel",
      "state": {
       "description_width": ""
      }
     },
     "eedf54582a8041188d85a2690b8fd4a8": {
      "model_module": "@jupyter-widgets/controls",
      "model_module_version": "1.5.0",
      "model_name": "HTMLModel",
      "state": {
       "layout": "IPY_MODEL_7872bc3c84a54507bcf36a864793e0d9",
       "style": "IPY_MODEL_e523cec942224cc2aa02aaf4ad0b858c",
       "value": "Validation DataLoader 0: 100%"
      }
     },
     "ef038419b71b48efa448148fd77457ac": {
      "model_module": "@jupyter-widgets/base",
      "model_module_version": "1.2.0",
      "model_name": "LayoutModel",
      "state": {}
     },
     "ef0dc707c5774e46827f438c1b4cbae8": {
      "model_module": "@jupyter-widgets/controls",
      "model_module_version": "1.5.0",
      "model_name": "FloatProgressModel",
      "state": {
       "layout": "IPY_MODEL_55e326fda87f46ddb63b450401cdb5cf",
       "max": 16,
       "style": "IPY_MODEL_6e28037ba67744dbae4e1cbb6872e7a2",
       "value": 16
      }
     },
     "ef1c5b110216452c94ab74a9e3a77c0b": {
      "model_module": "@jupyter-widgets/controls",
      "model_module_version": "1.5.0",
      "model_name": "HTMLModel",
      "state": {
       "layout": "IPY_MODEL_22ca765d7f7144cf8a99bfb62afbb1f8",
       "style": "IPY_MODEL_30468f4cb36a49b0a9e1a226ea18244b",
       "value": " 16/16 [00:00&lt;00:00, 16.25it/s]"
      }
     },
     "ef30ca5cde794b27a4d00e8d898f2603": {
      "model_module": "@jupyter-widgets/controls",
      "model_module_version": "1.5.0",
      "model_name": "HTMLModel",
      "state": {
       "layout": "IPY_MODEL_74d481a472f34d498a50fcef7fbfcaea",
       "style": "IPY_MODEL_f6922b48aa8340ac981e0849fdc98646",
       "value": "Validation DataLoader 0: 100%"
      }
     },
     "ef3bdfc9dfd44cc482108f1cdccee699": {
      "model_module": "@jupyter-widgets/controls",
      "model_module_version": "1.5.0",
      "model_name": "HTMLModel",
      "state": {
       "layout": "IPY_MODEL_48fb9e8c11c9402586e5ac25a7fa2ce5",
       "style": "IPY_MODEL_57ce6021984b4d7bb564613a970733c5",
       "value": " 16/16 [00:00&lt;00:00, 17.75it/s]"
      }
     },
     "ef459a4dbbd142c681349699319f0392": {
      "model_module": "@jupyter-widgets/controls",
      "model_module_version": "1.5.0",
      "model_name": "ProgressStyleModel",
      "state": {
       "description_width": ""
      }
     },
     "ef623ba54adc4759ab0a2d8c0af2fa5b": {
      "model_module": "@jupyter-widgets/controls",
      "model_module_version": "1.5.0",
      "model_name": "HTMLModel",
      "state": {
       "layout": "IPY_MODEL_ce5233e8aec64a00b43fc4b1c85e7810",
       "style": "IPY_MODEL_f403f39e3ccd423485c3c2f0bf3de603",
       "value": "Sanity Checking DataLoader 0: 100%"
      }
     },
     "ef76605f256e4e849e745997ca8aa14e": {
      "model_module": "@jupyter-widgets/controls",
      "model_module_version": "1.5.0",
      "model_name": "HTMLModel",
      "state": {
       "layout": "IPY_MODEL_a28da86c483544c9a09905b194366a4e",
       "style": "IPY_MODEL_93569509c6f248088a8b06c435d43926",
       "value": "Validation DataLoader 0: 100%"
      }
     },
     "ef78663ff4dd487ebd432048b5463732": {
      "model_module": "@jupyter-widgets/base",
      "model_module_version": "1.2.0",
      "model_name": "LayoutModel",
      "state": {
       "flex": "2"
      }
     },
     "ef846ef6c6244db685503dd99246d821": {
      "model_module": "@jupyter-widgets/base",
      "model_module_version": "1.2.0",
      "model_name": "LayoutModel",
      "state": {}
     },
     "efc35012c2b34cb384bd6a890084c681": {
      "model_module": "@jupyter-widgets/base",
      "model_module_version": "1.2.0",
      "model_name": "LayoutModel",
      "state": {}
     },
     "efcad6e4ea1442078696a4229d34c3d2": {
      "model_module": "@jupyter-widgets/controls",
      "model_module_version": "1.5.0",
      "model_name": "FloatProgressModel",
      "state": {
       "layout": "IPY_MODEL_47ae73ab146847e09f576b576cef9fe1",
       "max": 2,
       "style": "IPY_MODEL_da0af254534147498a64d5eb3efa63fe",
       "value": 2
      }
     },
     "efd17d65d31640fcb2a28b54881d613c": {
      "model_module": "@jupyter-widgets/controls",
      "model_module_version": "1.5.0",
      "model_name": "DescriptionStyleModel",
      "state": {
       "description_width": ""
      }
     },
     "efe19cad84bb40b982b7d0d563a4751a": {
      "model_module": "@jupyter-widgets/controls",
      "model_module_version": "1.5.0",
      "model_name": "HTMLModel",
      "state": {
       "layout": "IPY_MODEL_2635917118174713ba97315dcc4f661e",
       "style": "IPY_MODEL_929cfd0b005749a5a4e68098f9ac8081",
       "value": " 16/16 [00:01&lt;00:00, 14.92it/s]"
      }
     },
     "efe3b97827104314a5e81efe4ec33767": {
      "model_module": "@jupyter-widgets/base",
      "model_module_version": "1.2.0",
      "model_name": "LayoutModel",
      "state": {
       "flex": "2"
      }
     },
     "efea42ac4c0f43ebbdb83ca700affc24": {
      "model_module": "@jupyter-widgets/controls",
      "model_module_version": "1.5.0",
      "model_name": "ProgressStyleModel",
      "state": {
       "description_width": ""
      }
     },
     "f00d6440dd9646b490ab795007f89d26": {
      "model_module": "@jupyter-widgets/base",
      "model_module_version": "1.2.0",
      "model_name": "LayoutModel",
      "state": {}
     },
     "f0132c4a876d4c848c1acc1e8414b3dd": {
      "model_module": "@jupyter-widgets/controls",
      "model_module_version": "1.5.0",
      "model_name": "HTMLModel",
      "state": {
       "layout": "IPY_MODEL_fc5f728cbc504568857ae8103429b0de",
       "style": "IPY_MODEL_5780c9810b6c4b06a2c5593e27fd9aee",
       "value": " 16/16 [00:00&lt;00:00, 15.41it/s]"
      }
     },
     "f016ab562d244c7ebc379221c4f4f240": {
      "model_module": "@jupyter-widgets/controls",
      "model_module_version": "1.5.0",
      "model_name": "HTMLModel",
      "state": {
       "layout": "IPY_MODEL_77d788fc9168410cb77721c596f73753",
       "style": "IPY_MODEL_da458caa885b4203a4c918ee307ced6d",
       "value": " 16/16 [00:01&lt;00:00,  7.70it/s]"
      }
     },
     "f02aaef2ca9948fdbe7176d7713cd3e4": {
      "model_module": "@jupyter-widgets/base",
      "model_module_version": "1.2.0",
      "model_name": "LayoutModel",
      "state": {}
     },
     "f0365b5f1d0a482cb59c7a12851ee08d": {
      "model_module": "@jupyter-widgets/base",
      "model_module_version": "1.2.0",
      "model_name": "LayoutModel",
      "state": {}
     },
     "f04e02e5800d458684549adef1fa6623": {
      "model_module": "@jupyter-widgets/controls",
      "model_module_version": "1.5.0",
      "model_name": "ProgressStyleModel",
      "state": {
       "description_width": ""
      }
     },
     "f05d0d0384ac476a90400b65a9e9b0cc": {
      "model_module": "@jupyter-widgets/controls",
      "model_module_version": "1.5.0",
      "model_name": "FloatProgressModel",
      "state": {
       "layout": "IPY_MODEL_58dfb75027fb48d1b213c6b473553e74",
       "max": 16,
       "style": "IPY_MODEL_d803bac7a3414c53a4fe66c5c1d97f11",
       "value": 16
      }
     },
     "f068c102e4ee4f708ebffd68e9b1d88b": {
      "model_module": "@jupyter-widgets/base",
      "model_module_version": "1.2.0",
      "model_name": "LayoutModel",
      "state": {}
     },
     "f0729c7c2168405dbf3f5c5fa1d4e7d5": {
      "model_module": "@jupyter-widgets/controls",
      "model_module_version": "1.5.0",
      "model_name": "HTMLModel",
      "state": {
       "layout": "IPY_MODEL_31345b1df28c4fc9bdddcb26f0d46574",
       "style": "IPY_MODEL_f15a206b780447f98b71f1d155b868b1",
       "value": " 16/16 [00:06&lt;00:00,  2.86it/s]"
      }
     },
     "f08428ae95f842d99c6608f65073cf23": {
      "model_module": "@jupyter-widgets/controls",
      "model_module_version": "1.5.0",
      "model_name": "FloatProgressModel",
      "state": {
       "layout": "IPY_MODEL_07123d4aa9e2437a92294d57f8555640",
       "max": 16,
       "style": "IPY_MODEL_8ce99e0c16c64e389dc28eaae3a0678f",
       "value": 16
      }
     },
     "f09eca798a0d4473a05562147ab66c7b": {
      "model_module": "@jupyter-widgets/base",
      "model_module_version": "1.2.0",
      "model_name": "LayoutModel",
      "state": {}
     },
     "f09fd20a5f0c40e2b5aff33fd96e23d4": {
      "model_module": "@jupyter-widgets/base",
      "model_module_version": "1.2.0",
      "model_name": "LayoutModel",
      "state": {
       "display": "inline-flex",
       "flex_flow": "row wrap",
       "width": "100%"
      }
     },
     "f0a7300161624b64b0988accb0f69ba3": {
      "model_module": "@jupyter-widgets/controls",
      "model_module_version": "1.5.0",
      "model_name": "FloatProgressModel",
      "state": {
       "layout": "IPY_MODEL_29f99ae921e6470d86c9543ba0e8bbcc",
       "max": 16,
       "style": "IPY_MODEL_2bac6c1cd96b4b428ad8b5086d0d0778",
       "value": 16
      }
     },
     "f0b5c0e2817047d8bd3b864474b750d7": {
      "model_module": "@jupyter-widgets/controls",
      "model_module_version": "1.5.0",
      "model_name": "FloatProgressModel",
      "state": {
       "layout": "IPY_MODEL_6c9b06674da542fd99908ea85333663f",
       "max": 16,
       "style": "IPY_MODEL_62a8086ad0b046d39af3382cd7ecd926",
       "value": 16
      }
     },
     "f0d6c1532d674bbdb52f4551b765e58c": {
      "model_module": "@jupyter-widgets/controls",
      "model_module_version": "1.5.0",
      "model_name": "DescriptionStyleModel",
      "state": {
       "description_width": ""
      }
     },
     "f0dea79da00e41ae878257a3b143ba51": {
      "model_module": "@jupyter-widgets/controls",
      "model_module_version": "1.5.0",
      "model_name": "FloatProgressModel",
      "state": {
       "layout": "IPY_MODEL_ccba37ada4b8483c9d7f48f8eec32be1",
       "max": 16,
       "style": "IPY_MODEL_9153fa7915a84ddb9cf92886b32690a9",
       "value": 16
      }
     },
     "f0e280131cfb4c65bb1662c575354d1e": {
      "model_module": "@jupyter-widgets/base",
      "model_module_version": "1.2.0",
      "model_name": "LayoutModel",
      "state": {
       "flex": "2"
      }
     },
     "f0e4a1a7c9bf4dce9d3a0a50a7416e50": {
      "model_module": "@jupyter-widgets/base",
      "model_module_version": "1.2.0",
      "model_name": "LayoutModel",
      "state": {}
     },
     "f0f199a2ebdd4283b79dbf965b6f57ed": {
      "model_module": "@jupyter-widgets/base",
      "model_module_version": "1.2.0",
      "model_name": "LayoutModel",
      "state": {
       "display": "inline-flex",
       "flex_flow": "row wrap",
       "width": "100%"
      }
     },
     "f105bd1bde9e482381558742dc0ff2cd": {
      "model_module": "@jupyter-widgets/controls",
      "model_module_version": "1.5.0",
      "model_name": "HTMLModel",
      "state": {
       "layout": "IPY_MODEL_5aa0ad0cbe3e4419b8081c9ea68ffefa",
       "style": "IPY_MODEL_6dad669134a74d818734479810725f88",
       "value": " 16/16 [00:00&lt;00:00, 18.00it/s]"
      }
     },
     "f15a206b780447f98b71f1d155b868b1": {
      "model_module": "@jupyter-widgets/controls",
      "model_module_version": "1.5.0",
      "model_name": "DescriptionStyleModel",
      "state": {
       "description_width": ""
      }
     },
     "f16f996005e74bb1ae762d2a9e430e1b": {
      "model_module": "@jupyter-widgets/controls",
      "model_module_version": "1.5.0",
      "model_name": "DescriptionStyleModel",
      "state": {
       "description_width": ""
      }
     },
     "f1749eb40ee1456aafc5689c5477276e": {
      "model_module": "@jupyter-widgets/controls",
      "model_module_version": "1.5.0",
      "model_name": "HTMLModel",
      "state": {
       "layout": "IPY_MODEL_54f0e943dd7541d8859563154eefd450",
       "style": "IPY_MODEL_4ee1ccadb29647f3b3c9b49e6958edf4",
       "value": "Validation DataLoader 0: 100%"
      }
     },
     "f1770e1467564f1298976f397d8a9f3e": {
      "model_module": "@jupyter-widgets/controls",
      "model_module_version": "1.5.0",
      "model_name": "DescriptionStyleModel",
      "state": {
       "description_width": ""
      }
     },
     "f1a0936a0e49471b890d0b1b7e3e68dd": {
      "model_module": "@jupyter-widgets/base",
      "model_module_version": "1.2.0",
      "model_name": "LayoutModel",
      "state": {
       "flex": "2"
      }
     },
     "f1aa6ed6980a4836a45ea8684123a1d3": {
      "model_module": "@jupyter-widgets/base",
      "model_module_version": "1.2.0",
      "model_name": "LayoutModel",
      "state": {}
     },
     "f1ab7807ba2c461395d23496f9c3713c": {
      "model_module": "@jupyter-widgets/controls",
      "model_module_version": "1.5.0",
      "model_name": "ProgressStyleModel",
      "state": {
       "description_width": ""
      }
     },
     "f1b38d61ad68407ca0a700422d3e09cd": {
      "model_module": "@jupyter-widgets/controls",
      "model_module_version": "1.5.0",
      "model_name": "HTMLModel",
      "state": {
       "layout": "IPY_MODEL_8945c2be3f3641dd838c1eb5bea4a481",
       "style": "IPY_MODEL_7c9b48c9dc194117868aa6b5a5d8a138",
       "value": "Validation DataLoader 0: 100%"
      }
     },
     "f1daf86ed2f243928c6f1905d0c637a2": {
      "model_module": "@jupyter-widgets/base",
      "model_module_version": "1.2.0",
      "model_name": "LayoutModel",
      "state": {
       "flex": "2"
      }
     },
     "f1db5ff335a34a90aa53eca605c98c9a": {
      "model_module": "@jupyter-widgets/base",
      "model_module_version": "1.2.0",
      "model_name": "LayoutModel",
      "state": {
       "display": "inline-flex",
       "flex_flow": "row wrap",
       "width": "100%"
      }
     },
     "f1ddc00cde604f18aebc8c27357af473": {
      "model_module": "@jupyter-widgets/base",
      "model_module_version": "1.2.0",
      "model_name": "LayoutModel",
      "state": {
       "flex": "2"
      }
     },
     "f20e1aa3c16049bfb484df3d1fc97979": {
      "model_module": "@jupyter-widgets/controls",
      "model_module_version": "1.5.0",
      "model_name": "DescriptionStyleModel",
      "state": {
       "description_width": ""
      }
     },
     "f21315d8f4754ca2ad39124c69d2b20c": {
      "model_module": "@jupyter-widgets/controls",
      "model_module_version": "1.5.0",
      "model_name": "HTMLModel",
      "state": {
       "layout": "IPY_MODEL_ee5cceaff09d4cfaa89e6022bb5b1b54",
       "style": "IPY_MODEL_298ebe4eb39b4e05b5c5694ab1222638",
       "value": " 16/16 [00:00&lt;00:00, 20.94it/s]"
      }
     },
     "f2271d5d60ec450fb4c3349d8a670c9e": {
      "model_module": "@jupyter-widgets/controls",
      "model_module_version": "1.5.0",
      "model_name": "HTMLModel",
      "state": {
       "layout": "IPY_MODEL_710c71acc22e402b89f7dfb5908b4316",
       "style": "IPY_MODEL_fa52d2cfe55845f0bfe0b02a784483db",
       "value": " 16/16 [00:04&lt;00:00,  3.02it/s]"
      }
     },
     "f23ac9df1520436b97f357e0c0166524": {
      "model_module": "@jupyter-widgets/base",
      "model_module_version": "1.2.0",
      "model_name": "LayoutModel",
      "state": {
       "flex": "2"
      }
     },
     "f2543a7cd4c8451ea7db24ab69bc140d": {
      "model_module": "@jupyter-widgets/controls",
      "model_module_version": "1.5.0",
      "model_name": "DescriptionStyleModel",
      "state": {
       "description_width": ""
      }
     },
     "f26d735c6e8a4542b902c5fbfc09ec61": {
      "model_module": "@jupyter-widgets/controls",
      "model_module_version": "1.5.0",
      "model_name": "ProgressStyleModel",
      "state": {
       "description_width": ""
      }
     },
     "f2704b4de3e84ac1936e76f2feed9f8b": {
      "model_module": "@jupyter-widgets/controls",
      "model_module_version": "1.5.0",
      "model_name": "DescriptionStyleModel",
      "state": {
       "description_width": ""
      }
     },
     "f274d8ee3ec8456d961a28bb8593173e": {
      "model_module": "@jupyter-widgets/controls",
      "model_module_version": "1.5.0",
      "model_name": "DescriptionStyleModel",
      "state": {
       "description_width": ""
      }
     },
     "f27d30613972445eaf1fc128997cd38f": {
      "model_module": "@jupyter-widgets/controls",
      "model_module_version": "1.5.0",
      "model_name": "HTMLModel",
      "state": {
       "layout": "IPY_MODEL_18eaaefb09024718a7431dce49ba018a",
       "style": "IPY_MODEL_96aab6b9c41e487197af3d74b0cefa38",
       "value": "Sanity Checking DataLoader 0: 100%"
      }
     },
     "f28c97710c464809aaf633b49604b283": {
      "model_module": "@jupyter-widgets/controls",
      "model_module_version": "1.5.0",
      "model_name": "DescriptionStyleModel",
      "state": {
       "description_width": ""
      }
     },
     "f2982f67481c48ea9ea7ab80f3b127db": {
      "model_module": "@jupyter-widgets/base",
      "model_module_version": "1.2.0",
      "model_name": "LayoutModel",
      "state": {
       "display": "inline-flex",
       "flex_flow": "row wrap",
       "width": "100%"
      }
     },
     "f2c35a7e6e2e412389534762308c6b43": {
      "model_module": "@jupyter-widgets/base",
      "model_module_version": "1.2.0",
      "model_name": "LayoutModel",
      "state": {
       "display": "inline-flex",
       "flex_flow": "row wrap",
       "width": "100%"
      }
     },
     "f2d8957fa4934a6ca0f6b993025126bb": {
      "model_module": "@jupyter-widgets/base",
      "model_module_version": "1.2.0",
      "model_name": "LayoutModel",
      "state": {
       "flex": "2"
      }
     },
     "f2e05da7bea74fba8d431572d022f830": {
      "model_module": "@jupyter-widgets/controls",
      "model_module_version": "1.5.0",
      "model_name": "HTMLModel",
      "state": {
       "layout": "IPY_MODEL_77317777d1be4da59c7d3f8cc6e827c3",
       "style": "IPY_MODEL_b8c49808f5de41f48af399965acf5a29",
       "value": " 16/16 [00:00&lt;00:00, 22.12it/s]"
      }
     },
     "f2e7b014d2cc4d348d1ed42809827ce0": {
      "model_module": "@jupyter-widgets/base",
      "model_module_version": "1.2.0",
      "model_name": "LayoutModel",
      "state": {
       "flex": "2"
      }
     },
     "f2eede9e0ffb46f0a240b14bc8f0d1fd": {
      "model_module": "@jupyter-widgets/base",
      "model_module_version": "1.2.0",
      "model_name": "LayoutModel",
      "state": {}
     },
     "f3307dacfe8d41e2bedd6d29f9fecc2b": {
      "model_module": "@jupyter-widgets/controls",
      "model_module_version": "1.5.0",
      "model_name": "DescriptionStyleModel",
      "state": {
       "description_width": ""
      }
     },
     "f3321cea57884c3a83671703b18faa7b": {
      "model_module": "@jupyter-widgets/controls",
      "model_module_version": "1.5.0",
      "model_name": "HTMLModel",
      "state": {
       "layout": "IPY_MODEL_cafb70fd2cfa41178a0bc60a22187bc2",
       "style": "IPY_MODEL_feb35d6c24084193a6bf3722a8bc96a9",
       "value": "Validation DataLoader 0: 100%"
      }
     },
     "f33eefbbafc14f798e5ba546bfa73ec1": {
      "model_module": "@jupyter-widgets/base",
      "model_module_version": "1.2.0",
      "model_name": "LayoutModel",
      "state": {
       "display": "inline-flex",
       "flex_flow": "row wrap",
       "width": "100%"
      }
     },
     "f33f2ed4ddb44c7aaafef11175c17842": {
      "model_module": "@jupyter-widgets/base",
      "model_module_version": "1.2.0",
      "model_name": "LayoutModel",
      "state": {}
     },
     "f354267cfed24c2f8004fa21967ccb02": {
      "model_module": "@jupyter-widgets/controls",
      "model_module_version": "1.5.0",
      "model_name": "HTMLModel",
      "state": {
       "layout": "IPY_MODEL_2f3dd3142fe24e73b95f5a8b8369fd31",
       "style": "IPY_MODEL_7c639c064da3496591261b1e7d349585",
       "value": " 16/16 [00:00&lt;00:00, 18.72it/s]"
      }
     },
     "f362aea2999e4102926cf90d236a2593": {
      "model_module": "@jupyter-widgets/base",
      "model_module_version": "1.2.0",
      "model_name": "LayoutModel",
      "state": {
       "display": "inline-flex",
       "flex_flow": "row wrap",
       "width": "100%"
      }
     },
     "f3655f81e48f4f00b025b6cb8f332ce6": {
      "model_module": "@jupyter-widgets/base",
      "model_module_version": "1.2.0",
      "model_name": "LayoutModel",
      "state": {
       "display": "inline-flex",
       "flex_flow": "row wrap",
       "width": "100%"
      }
     },
     "f36b9333657e41cbae1c70c371067226": {
      "model_module": "@jupyter-widgets/base",
      "model_module_version": "1.2.0",
      "model_name": "LayoutModel",
      "state": {
       "flex": "2"
      }
     },
     "f39ec1300abe4869831ea2a662eb75ef": {
      "model_module": "@jupyter-widgets/controls",
      "model_module_version": "1.5.0",
      "model_name": "DescriptionStyleModel",
      "state": {
       "description_width": ""
      }
     },
     "f3bc311d09b64696a792e12ca622e6ff": {
      "model_module": "@jupyter-widgets/base",
      "model_module_version": "1.2.0",
      "model_name": "LayoutModel",
      "state": {}
     },
     "f3ccd1ed7855440f9d37966beb382f72": {
      "model_module": "@jupyter-widgets/base",
      "model_module_version": "1.2.0",
      "model_name": "LayoutModel",
      "state": {}
     },
     "f3eec1a490c14f8496d3da8d077a90b3": {
      "model_module": "@jupyter-widgets/controls",
      "model_module_version": "1.5.0",
      "model_name": "FloatProgressModel",
      "state": {
       "layout": "IPY_MODEL_98c125ae3bd248c29397909b3b36c740",
       "max": 16,
       "style": "IPY_MODEL_79746931c8ef4f8aa75d73c8d90062fb",
       "value": 16
      }
     },
     "f3efed8dd6ba4474a8a2bd14ecdba24e": {
      "model_module": "@jupyter-widgets/base",
      "model_module_version": "1.2.0",
      "model_name": "LayoutModel",
      "state": {
       "display": "inline-flex",
       "flex_flow": "row wrap",
       "width": "100%"
      }
     },
     "f3f4b0597b8a40269b4e2270f66ad198": {
      "model_module": "@jupyter-widgets/controls",
      "model_module_version": "1.5.0",
      "model_name": "DescriptionStyleModel",
      "state": {
       "description_width": ""
      }
     },
     "f3fe4c0a22304a8389bc48a1387cd4dc": {
      "model_module": "@jupyter-widgets/base",
      "model_module_version": "1.2.0",
      "model_name": "LayoutModel",
      "state": {
       "flex": "2"
      }
     },
     "f403f39e3ccd423485c3c2f0bf3de603": {
      "model_module": "@jupyter-widgets/controls",
      "model_module_version": "1.5.0",
      "model_name": "DescriptionStyleModel",
      "state": {
       "description_width": ""
      }
     },
     "f41b843ce7f24ca792611b422207a551": {
      "model_module": "@jupyter-widgets/base",
      "model_module_version": "1.2.0",
      "model_name": "LayoutModel",
      "state": {
       "flex": "2"
      }
     },
     "f422ba6be9794414af539c1935f76050": {
      "model_module": "@jupyter-widgets/controls",
      "model_module_version": "1.5.0",
      "model_name": "DescriptionStyleModel",
      "state": {
       "description_width": ""
      }
     },
     "f42c82d633ef4cf79511c07798752276": {
      "model_module": "@jupyter-widgets/base",
      "model_module_version": "1.2.0",
      "model_name": "LayoutModel",
      "state": {}
     },
     "f436f4b358e5403194ce837d95aebc91": {
      "model_module": "@jupyter-widgets/base",
      "model_module_version": "1.2.0",
      "model_name": "LayoutModel",
      "state": {}
     },
     "f45dd4eba9694966b676d5c87c7f4a79": {
      "model_module": "@jupyter-widgets/controls",
      "model_module_version": "1.5.0",
      "model_name": "DescriptionStyleModel",
      "state": {
       "description_width": ""
      }
     },
     "f4682d28516a4830aec0a320cb545a6f": {
      "model_module": "@jupyter-widgets/controls",
      "model_module_version": "1.5.0",
      "model_name": "DescriptionStyleModel",
      "state": {
       "description_width": ""
      }
     },
     "f47ee8efba9e450fa22c6b8b0a8bc726": {
      "model_module": "@jupyter-widgets/controls",
      "model_module_version": "1.5.0",
      "model_name": "ProgressStyleModel",
      "state": {
       "description_width": ""
      }
     },
     "f493b40bf34c47d4ad0adb3d56fa0b54": {
      "model_module": "@jupyter-widgets/controls",
      "model_module_version": "1.5.0",
      "model_name": "HTMLModel",
      "state": {
       "layout": "IPY_MODEL_3daae8db24804de59f1a9d6b606526b5",
       "style": "IPY_MODEL_afad86212efa44488858c1c79166a780",
       "value": "Validation DataLoader 0: 100%"
      }
     },
     "f49bc8968de24641ac835bebca37ba2e": {
      "model_module": "@jupyter-widgets/controls",
      "model_module_version": "1.5.0",
      "model_name": "HTMLModel",
      "state": {
       "layout": "IPY_MODEL_1d92c11347b24b82a8a1e91dbcd2c601",
       "style": "IPY_MODEL_17d4946f60ae4d4985bfbc5aec3a0c4c",
       "value": " 10/77 [00:04&lt;00:27,  2.47it/s, loss=nan, v_num=H-43]"
      }
     },
     "f49cb3428d2c42d5b88ad8c1fbb9470e": {
      "model_module": "@jupyter-widgets/controls",
      "model_module_version": "1.5.0",
      "model_name": "HTMLModel",
      "state": {
       "layout": "IPY_MODEL_cee3f0d492a04b35b5ff1ae10e67cd1e",
       "style": "IPY_MODEL_bcf9c4186a3d43c49e0e035493fea544",
       "value": "Validation DataLoader 0: 100%"
      }
     },
     "f4aa800849af40438b2a7155c0db62ae": {
      "model_module": "@jupyter-widgets/controls",
      "model_module_version": "1.5.0",
      "model_name": "DescriptionStyleModel",
      "state": {
       "description_width": ""
      }
     },
     "f4f875d29a1744218b52aadad45f0671": {
      "model_module": "@jupyter-widgets/controls",
      "model_module_version": "1.5.0",
      "model_name": "DescriptionStyleModel",
      "state": {
       "description_width": ""
      }
     },
     "f4f9fc1763c84167b610ea17ec890165": {
      "model_module": "@jupyter-widgets/controls",
      "model_module_version": "1.5.0",
      "model_name": "FloatProgressModel",
      "state": {
       "layout": "IPY_MODEL_db4546d3a5f24db980205d4ca3331d30",
       "max": 16,
       "style": "IPY_MODEL_5e00f32f259c4151bcc014bd2cdfda6c",
       "value": 16
      }
     },
     "f507e5e005314dbdbb28a4e065ff9884": {
      "model_module": "@jupyter-widgets/base",
      "model_module_version": "1.2.0",
      "model_name": "LayoutModel",
      "state": {}
     },
     "f51b9f905b9e44cfbb5fcb83c70d3e2f": {
      "model_module": "@jupyter-widgets/controls",
      "model_module_version": "1.5.0",
      "model_name": "HTMLModel",
      "state": {
       "layout": "IPY_MODEL_d17e3bda78c846d99ef90fba0562c580",
       "style": "IPY_MODEL_412f34cd353d46b5a6247796a658f32a",
       "value": "Validation DataLoader 0: 100%"
      }
     },
     "f51d846db5ba4f2abe4172cd3b2781a3": {
      "model_module": "@jupyter-widgets/base",
      "model_module_version": "1.2.0",
      "model_name": "LayoutModel",
      "state": {}
     },
     "f5249a981fd6423299399a58f858092d": {
      "model_module": "@jupyter-widgets/controls",
      "model_module_version": "1.5.0",
      "model_name": "DescriptionStyleModel",
      "state": {
       "description_width": ""
      }
     },
     "f53d466e4a8243a39fa7edf8d9793e49": {
      "model_module": "@jupyter-widgets/controls",
      "model_module_version": "1.5.0",
      "model_name": "DescriptionStyleModel",
      "state": {
       "description_width": ""
      }
     },
     "f548361cbcf148f89d82ca17134bf77a": {
      "model_module": "@jupyter-widgets/controls",
      "model_module_version": "1.5.0",
      "model_name": "ProgressStyleModel",
      "state": {
       "description_width": ""
      }
     },
     "f54ebd1e4c2c4b44b038f36287c1dbf3": {
      "model_module": "@jupyter-widgets/controls",
      "model_module_version": "1.5.0",
      "model_name": "HTMLModel",
      "state": {
       "layout": "IPY_MODEL_9dbe1829a2cc44dc866c7f1037501450",
       "style": "IPY_MODEL_f95bb769490446a0ac25b1584dd959b6",
       "value": "Epoch 3:  36%"
      }
     },
     "f56923b41c7042b7a65039562e5b5b5c": {
      "model_module": "@jupyter-widgets/controls",
      "model_module_version": "1.5.0",
      "model_name": "FloatProgressModel",
      "state": {
       "layout": "IPY_MODEL_d67a40eca8af491b8789d088805be574",
       "max": 16,
       "style": "IPY_MODEL_bc4c4c7709714bf5b876b114b74d93f9",
       "value": 16
      }
     },
     "f58a10cee9d34803bfa30dbc9e1ca9c2": {
      "model_module": "@jupyter-widgets/controls",
      "model_module_version": "1.5.0",
      "model_name": "FloatProgressModel",
      "state": {
       "layout": "IPY_MODEL_7bc1b7847cba4450a207cf6d61131460",
       "max": 16,
       "style": "IPY_MODEL_d8409082041a4d16b105d8ec861fa122",
       "value": 16
      }
     },
     "f59388da658b417f854e2212f8d97ace": {
      "model_module": "@jupyter-widgets/controls",
      "model_module_version": "1.5.0",
      "model_name": "HTMLModel",
      "state": {
       "layout": "IPY_MODEL_b7a1f7ca91c64ea6bc2f62eba2d73056",
       "style": "IPY_MODEL_ca6e374fae4c42a4810dcc1ab4bac3d1",
       "value": "Validation DataLoader 0: 100%"
      }
     },
     "f5967d62583f46629b259bf5dd867689": {
      "model_module": "@jupyter-widgets/base",
      "model_module_version": "1.2.0",
      "model_name": "LayoutModel",
      "state": {}
     },
     "f5d0b05ef3d947c0b3a17fdd1661443f": {
      "model_module": "@jupyter-widgets/base",
      "model_module_version": "1.2.0",
      "model_name": "LayoutModel",
      "state": {
       "display": "inline-flex",
       "flex_flow": "row wrap",
       "width": "100%"
      }
     },
     "f5ef53f262d54a17b414e93ecf4d1aac": {
      "model_module": "@jupyter-widgets/controls",
      "model_module_version": "1.5.0",
      "model_name": "DescriptionStyleModel",
      "state": {
       "description_width": ""
      }
     },
     "f5efcf90ee6f4e8c806bcddaa88bb650": {
      "model_module": "@jupyter-widgets/base",
      "model_module_version": "1.2.0",
      "model_name": "LayoutModel",
      "state": {
       "display": "inline-flex",
       "flex_flow": "row wrap",
       "width": "100%"
      }
     },
     "f5f0e30372da4b869f84ce7e22896d4b": {
      "model_module": "@jupyter-widgets/controls",
      "model_module_version": "1.5.0",
      "model_name": "HTMLModel",
      "state": {
       "layout": "IPY_MODEL_1ed8cfb4eaf34e4580c1100d3aaf0281",
       "style": "IPY_MODEL_f16f996005e74bb1ae762d2a9e430e1b",
       "value": " 16/16 [00:00&lt;00:00, 15.91it/s]"
      }
     },
     "f5f1df9f33e94bbdab92c247d46a1c45": {
      "model_module": "@jupyter-widgets/controls",
      "model_module_version": "1.5.0",
      "model_name": "FloatProgressModel",
      "state": {
       "layout": "IPY_MODEL_cb6ca10f596a41839cda55716651e192",
       "max": 16,
       "style": "IPY_MODEL_a1c38182fb6a4220b14f304e3e5d1f80",
       "value": 16
      }
     },
     "f5f80ffd6ac648aebe610b10b6d63a37": {
      "model_module": "@jupyter-widgets/controls",
      "model_module_version": "1.5.0",
      "model_name": "FloatProgressModel",
      "state": {
       "layout": "IPY_MODEL_f1a0936a0e49471b890d0b1b7e3e68dd",
       "max": 16,
       "style": "IPY_MODEL_9e107b5117fe4b0b9fd734694929f14a",
       "value": 16
      }
     },
     "f603f395b22f4609a813b72df01a161f": {
      "model_module": "@jupyter-widgets/base",
      "model_module_version": "1.2.0",
      "model_name": "LayoutModel",
      "state": {}
     },
     "f605363bf6e845d3ba9f9753d8047107": {
      "model_module": "@jupyter-widgets/base",
      "model_module_version": "1.2.0",
      "model_name": "LayoutModel",
      "state": {}
     },
     "f61625a3997a4c08be446bf1d926617d": {
      "model_module": "@jupyter-widgets/controls",
      "model_module_version": "1.5.0",
      "model_name": "HTMLModel",
      "state": {
       "layout": "IPY_MODEL_cad446df340748cbbbfa8e594610af5d",
       "style": "IPY_MODEL_8db1ed642a2b487a8b4227b55216533b",
       "value": " 16/16 [00:04&lt;00:00,  3.60it/s]"
      }
     },
     "f622cbf4af4849e88467506b92a8b010": {
      "model_module": "@jupyter-widgets/controls",
      "model_module_version": "1.5.0",
      "model_name": "FloatProgressModel",
      "state": {
       "layout": "IPY_MODEL_7b6be3b50b1d4eb09a29cbd2ae387b28",
       "max": 16,
       "style": "IPY_MODEL_74a78b5f79d042b69e83f236e253761b",
       "value": 16
      }
     },
     "f636f089ab5142e9a1b2b749f997b250": {
      "model_module": "@jupyter-widgets/controls",
      "model_module_version": "1.5.0",
      "model_name": "FloatProgressModel",
      "state": {
       "layout": "IPY_MODEL_156e224433eb4c6fa7af0a20d9ad9094",
       "max": 16,
       "style": "IPY_MODEL_785240f1dca541749f5eb41981abbdb1",
       "value": 16
      }
     },
     "f63fd6758b304d568bd7dfcdc59486ce": {
      "model_module": "@jupyter-widgets/base",
      "model_module_version": "1.2.0",
      "model_name": "LayoutModel",
      "state": {
       "flex": "2"
      }
     },
     "f655759db8554895bbbf3871a0f4c9cd": {
      "model_module": "@jupyter-widgets/base",
      "model_module_version": "1.2.0",
      "model_name": "LayoutModel",
      "state": {
       "flex": "2"
      }
     },
     "f66b80a576ef4980b17a9ac310ece63d": {
      "model_module": "@jupyter-widgets/controls",
      "model_module_version": "1.5.0",
      "model_name": "HTMLModel",
      "state": {
       "layout": "IPY_MODEL_1233d296d9b3422bba7ae0a49d1e15b4",
       "style": "IPY_MODEL_af3753fd8b59434d97c31f043464809e",
       "value": "Validation DataLoader 0: 100%"
      }
     },
     "f671c699bda94fe3b53179bc3c854fa5": {
      "model_module": "@jupyter-widgets/base",
      "model_module_version": "1.2.0",
      "model_name": "LayoutModel",
      "state": {}
     },
     "f681923929404135a43c354f3b29fc98": {
      "model_module": "@jupyter-widgets/controls",
      "model_module_version": "1.5.0",
      "model_name": "DescriptionStyleModel",
      "state": {
       "description_width": ""
      }
     },
     "f68e254f9bbc48cea87f28ca2c3f0a73": {
      "model_module": "@jupyter-widgets/controls",
      "model_module_version": "1.5.0",
      "model_name": "ProgressStyleModel",
      "state": {
       "description_width": ""
      }
     },
     "f6922b48aa8340ac981e0849fdc98646": {
      "model_module": "@jupyter-widgets/controls",
      "model_module_version": "1.5.0",
      "model_name": "DescriptionStyleModel",
      "state": {
       "description_width": ""
      }
     },
     "f6aa351d84c04eb39ddea9564c92cb33": {
      "model_module": "@jupyter-widgets/controls",
      "model_module_version": "1.5.0",
      "model_name": "DescriptionStyleModel",
      "state": {
       "description_width": ""
      }
     },
     "f6b1b7f964b54548940e4c0c01095a81": {
      "model_module": "@jupyter-widgets/controls",
      "model_module_version": "1.5.0",
      "model_name": "ProgressStyleModel",
      "state": {
       "description_width": ""
      }
     },
     "f6f859160bad439ca39428bd88d41ab0": {
      "model_module": "@jupyter-widgets/controls",
      "model_module_version": "1.5.0",
      "model_name": "DescriptionStyleModel",
      "state": {
       "description_width": ""
      }
     },
     "f70b04caef2448debb7d6ec0a77d33f9": {
      "model_module": "@jupyter-widgets/base",
      "model_module_version": "1.2.0",
      "model_name": "LayoutModel",
      "state": {
       "display": "inline-flex",
       "flex_flow": "row wrap",
       "width": "100%"
      }
     },
     "f72e9512ce5047cfa569a2299e571744": {
      "model_module": "@jupyter-widgets/base",
      "model_module_version": "1.2.0",
      "model_name": "LayoutModel",
      "state": {
       "display": "inline-flex",
       "flex_flow": "row wrap",
       "width": "100%"
      }
     },
     "f737d0552cce4a1183c3c0302d934f94": {
      "model_module": "@jupyter-widgets/controls",
      "model_module_version": "1.5.0",
      "model_name": "HTMLModel",
      "state": {
       "layout": "IPY_MODEL_1c8129e4d7b34518b694b34ce8914a9e",
       "style": "IPY_MODEL_5114c9d1becd450ea26ef50455a7d905",
       "value": "Validation DataLoader 0: 100%"
      }
     },
     "f73f1b2cb63a4082ba0d0be6c380e1ba": {
      "model_module": "@jupyter-widgets/controls",
      "model_module_version": "1.5.0",
      "model_name": "HTMLModel",
      "state": {
       "layout": "IPY_MODEL_925cf6febaef42f7a06b7bffb6502473",
       "style": "IPY_MODEL_b4b6e1f03665475d964ed80c241e78b2",
       "value": "Validation DataLoader 0: 100%"
      }
     },
     "f742eb6c17784410bc5595586391c9af": {
      "model_module": "@jupyter-widgets/base",
      "model_module_version": "1.2.0",
      "model_name": "LayoutModel",
      "state": {}
     },
     "f747cfd937794045b3e6d5a3ce5d9bfb": {
      "model_module": "@jupyter-widgets/base",
      "model_module_version": "1.2.0",
      "model_name": "LayoutModel",
      "state": {
       "flex": "2"
      }
     },
     "f759d484550b4d258c8b19d2df41fb2d": {
      "model_module": "@jupyter-widgets/controls",
      "model_module_version": "1.5.0",
      "model_name": "DescriptionStyleModel",
      "state": {
       "description_width": ""
      }
     },
     "f7672c0e18f44e568c3b7becc24a7600": {
      "model_module": "@jupyter-widgets/base",
      "model_module_version": "1.2.0",
      "model_name": "LayoutModel",
      "state": {
       "flex": "2"
      }
     },
     "f78ae2467e75480a9b61c6f1d9bdf227": {
      "model_module": "@jupyter-widgets/controls",
      "model_module_version": "1.5.0",
      "model_name": "HTMLModel",
      "state": {
       "layout": "IPY_MODEL_833e0036fd154bfe9d9d4c9ca17fc220",
       "style": "IPY_MODEL_fb36e9cfd1af4892ad29a990268700c7",
       "value": " 16/16 [00:00&lt;00:00, 19.71it/s]"
      }
     },
     "f79f6a14f2d74f5b8ad981bb36df5928": {
      "model_module": "@jupyter-widgets/base",
      "model_module_version": "1.2.0",
      "model_name": "LayoutModel",
      "state": {
       "flex": "2"
      }
     },
     "f7a11798df524956a19b1270e0a1ab97": {
      "model_module": "@jupyter-widgets/controls",
      "model_module_version": "1.5.0",
      "model_name": "HTMLModel",
      "state": {
       "layout": "IPY_MODEL_f1aa6ed6980a4836a45ea8684123a1d3",
       "style": "IPY_MODEL_67da570af7364e26a9ae3e08951cb410",
       "value": " 16/16 [00:00&lt;00:00, 19.26it/s]"
      }
     },
     "f7dc12cc91c04d9795f91311e64008ef": {
      "model_module": "@jupyter-widgets/controls",
      "model_module_version": "1.5.0",
      "model_name": "HTMLModel",
      "state": {
       "layout": "IPY_MODEL_dea28aaf294e4b72bc60111735195f7b",
       "style": "IPY_MODEL_f45dd4eba9694966b676d5c87c7f4a79",
       "value": " 16/16 [00:00&lt;00:00, 16.34it/s]"
      }
     },
     "f7e10442c33649d18335c07e3baf113b": {
      "model_module": "@jupyter-widgets/controls",
      "model_module_version": "1.5.0",
      "model_name": "HTMLModel",
      "state": {
       "layout": "IPY_MODEL_cec4dc7ce5104a3f9d3de9f618d6d6da",
       "style": "IPY_MODEL_edce5d5789bb4adaa3bdb06eebd1fd75",
       "value": "Validation DataLoader 0: 100%"
      }
     },
     "f7e302548ca5414ea7d8e4a34133ab15": {
      "model_module": "@jupyter-widgets/controls",
      "model_module_version": "1.5.0",
      "model_name": "FloatProgressModel",
      "state": {
       "layout": "IPY_MODEL_3692b2783ed14a69ad996e7c85be53e9",
       "max": 2,
       "style": "IPY_MODEL_1dc83c61c88f4bf4ab6e5b2e589fbe1e",
       "value": 2
      }
     },
     "f7e599fbe6c648c3a64499f34f04e6bc": {
      "model_module": "@jupyter-widgets/controls",
      "model_module_version": "1.5.0",
      "model_name": "ProgressStyleModel",
      "state": {
       "description_width": ""
      }
     },
     "f821e87631894ee5a97b1fb1db6c6684": {
      "model_module": "@jupyter-widgets/base",
      "model_module_version": "1.2.0",
      "model_name": "LayoutModel",
      "state": {
       "display": "inline-flex",
       "flex_flow": "row wrap",
       "width": "100%"
      }
     },
     "f869c832e36447a6839866c896a75cd5": {
      "model_module": "@jupyter-widgets/base",
      "model_module_version": "1.2.0",
      "model_name": "LayoutModel",
      "state": {
       "flex": "2"
      }
     },
     "f8781d97a3244604ab1a0a089d4f8381": {
      "model_module": "@jupyter-widgets/base",
      "model_module_version": "1.2.0",
      "model_name": "LayoutModel",
      "state": {
       "display": "inline-flex",
       "flex_flow": "row wrap",
       "width": "100%"
      }
     },
     "f89cb5631f184b5e952eedfffeaca834": {
      "model_module": "@jupyter-widgets/controls",
      "model_module_version": "1.5.0",
      "model_name": "HTMLModel",
      "state": {
       "layout": "IPY_MODEL_c84a4b7dfc594693a2e0f64d348a4d0e",
       "style": "IPY_MODEL_94b7c36b18494f69b3b3311f7f0b65e5",
       "value": " 16/16 [00:05&lt;00:00,  2.68it/s]"
      }
     },
     "f8b0cf837ad4436ca754d6f3363216cc": {
      "model_module": "@jupyter-widgets/controls",
      "model_module_version": "1.5.0",
      "model_name": "FloatProgressModel",
      "state": {
       "layout": "IPY_MODEL_8d3bf857756c4b75af6160942ec1364c",
       "max": 16,
       "style": "IPY_MODEL_d0daabb7fb714f54936db848e55944ca",
       "value": 16
      }
     },
     "f8be9a8a1b924660a2d0ac78e5eb2cf5": {
      "model_module": "@jupyter-widgets/base",
      "model_module_version": "1.2.0",
      "model_name": "LayoutModel",
      "state": {}
     },
     "f8c2f5724c1d49de9287ec9bbfbf3dc6": {
      "model_module": "@jupyter-widgets/controls",
      "model_module_version": "1.5.0",
      "model_name": "HTMLModel",
      "state": {
       "layout": "IPY_MODEL_5fcf59f2ced54c908b18bef77ca0bba7",
       "style": "IPY_MODEL_74430392593a48d2af0f4809727bb381",
       "value": "Validation DataLoader 0: 100%"
      }
     },
     "f8cd6db98837420b922579e02783c665": {
      "model_module": "@jupyter-widgets/base",
      "model_module_version": "1.2.0",
      "model_name": "LayoutModel",
      "state": {
       "display": "inline-flex",
       "flex_flow": "row wrap",
       "width": "100%"
      }
     },
     "f8d50a417983431c9ca0b45aaaa96745": {
      "model_module": "@jupyter-widgets/base",
      "model_module_version": "1.2.0",
      "model_name": "LayoutModel",
      "state": {}
     },
     "f8d562ef110e4c4ab2e4694ce62e12e5": {
      "model_module": "@jupyter-widgets/controls",
      "model_module_version": "1.5.0",
      "model_name": "FloatProgressModel",
      "state": {
       "layout": "IPY_MODEL_4eb6b5b2ddbb400a8374fb419db79cf2",
       "max": 16,
       "style": "IPY_MODEL_2b22a3c3b8174bdea6da7c5db1fc9015",
       "value": 16
      }
     },
     "f8dc88729a9a47d8a5ae682858332466": {
      "model_module": "@jupyter-widgets/controls",
      "model_module_version": "1.5.0",
      "model_name": "DescriptionStyleModel",
      "state": {
       "description_width": ""
      }
     },
     "f8faf2627a7c4d77821d6f474c1010ba": {
      "model_module": "@jupyter-widgets/base",
      "model_module_version": "1.2.0",
      "model_name": "LayoutModel",
      "state": {
       "flex": "2"
      }
     },
     "f9126cb823514cb2b5bf85102eae9371": {
      "model_module": "@jupyter-widgets/base",
      "model_module_version": "1.2.0",
      "model_name": "LayoutModel",
      "state": {}
     },
     "f918f5cb22434ef0a90e149db1d6aa55": {
      "model_module": "@jupyter-widgets/controls",
      "model_module_version": "1.5.0",
      "model_name": "DescriptionStyleModel",
      "state": {
       "description_width": ""
      }
     },
     "f91e485a79034e1ca4f7a00b4bbac1ea": {
      "model_module": "@jupyter-widgets/controls",
      "model_module_version": "1.5.0",
      "model_name": "FloatProgressModel",
      "state": {
       "layout": "IPY_MODEL_694bdd12f4c144debd29ead5ae7fee50",
       "max": 16,
       "style": "IPY_MODEL_09b4b08508954d0da78124d51dc238aa",
       "value": 16
      }
     },
     "f93c569988254be9b4a820058c359960": {
      "model_module": "@jupyter-widgets/base",
      "model_module_version": "1.2.0",
      "model_name": "LayoutModel",
      "state": {}
     },
     "f9573ece4f5b4553a8df3382fb2aa356": {
      "model_module": "@jupyter-widgets/base",
      "model_module_version": "1.2.0",
      "model_name": "LayoutModel",
      "state": {
       "display": "inline-flex",
       "flex_flow": "row wrap",
       "width": "100%"
      }
     },
     "f95bb769490446a0ac25b1584dd959b6": {
      "model_module": "@jupyter-widgets/controls",
      "model_module_version": "1.5.0",
      "model_name": "DescriptionStyleModel",
      "state": {
       "description_width": ""
      }
     },
     "f97c2a6a1cde42e3b995f2f52f2fbe41": {
      "model_module": "@jupyter-widgets/base",
      "model_module_version": "1.2.0",
      "model_name": "LayoutModel",
      "state": {
       "flex": "2"
      }
     },
     "f9bfe4ef7b4d49ae8dba966188516d6a": {
      "model_module": "@jupyter-widgets/base",
      "model_module_version": "1.2.0",
      "model_name": "LayoutModel",
      "state": {}
     },
     "f9f4567a41fb4883a530c0f65fee4e21": {
      "model_module": "@jupyter-widgets/controls",
      "model_module_version": "1.5.0",
      "model_name": "HTMLModel",
      "state": {
       "layout": "IPY_MODEL_d8c90bdaa6a04cd9814f478db9f94567",
       "style": "IPY_MODEL_281792d1d68448bba6c3d419a20d08e6",
       "value": " 14/77 [00:01&lt;00:06,  9.07it/s, loss=0.209, v_num=H-60]"
      }
     },
     "fa11cbf7715a4fc1b9192d821939b293": {
      "model_module": "@jupyter-widgets/base",
      "model_module_version": "1.2.0",
      "model_name": "LayoutModel",
      "state": {
       "display": "inline-flex",
       "flex_flow": "row wrap",
       "width": "100%"
      }
     },
     "fa1601169e764dbfacca1b125e3e9012": {
      "model_module": "@jupyter-widgets/base",
      "model_module_version": "1.2.0",
      "model_name": "LayoutModel",
      "state": {
       "flex": "2"
      }
     },
     "fa1ae56495264d61b4338b0d6e8c7e43": {
      "model_module": "@jupyter-widgets/base",
      "model_module_version": "1.2.0",
      "model_name": "LayoutModel",
      "state": {}
     },
     "fa52d2cfe55845f0bfe0b02a784483db": {
      "model_module": "@jupyter-widgets/controls",
      "model_module_version": "1.5.0",
      "model_name": "DescriptionStyleModel",
      "state": {
       "description_width": ""
      }
     },
     "fa5c62620f144a2492feb4e864638a78": {
      "model_module": "@jupyter-widgets/base",
      "model_module_version": "1.2.0",
      "model_name": "LayoutModel",
      "state": {}
     },
     "fa930031391a4cbeb06e710faa619d1d": {
      "model_module": "@jupyter-widgets/controls",
      "model_module_version": "1.5.0",
      "model_name": "DescriptionStyleModel",
      "state": {
       "description_width": ""
      }
     },
     "fad293d544934d1ea624fb19c87696da": {
      "model_module": "@jupyter-widgets/controls",
      "model_module_version": "1.5.0",
      "model_name": "HTMLModel",
      "state": {
       "layout": "IPY_MODEL_24525c5fb11f40eeaaf45f995f5f3058",
       "style": "IPY_MODEL_143b649280b042baa1e4f9b3da43b047",
       "value": " 16/16 [00:00&lt;00:00, 20.98it/s]"
      }
     },
     "faeadae5dd0d41e19e987350ed1a75bd": {
      "model_module": "@jupyter-widgets/base",
      "model_module_version": "1.2.0",
      "model_name": "LayoutModel",
      "state": {}
     },
     "fafbd728e498405a8ace28aefbb7482c": {
      "model_module": "@jupyter-widgets/base",
      "model_module_version": "1.2.0",
      "model_name": "LayoutModel",
      "state": {}
     },
     "fb089e164234432288a8498fa94ffbb1": {
      "model_module": "@jupyter-widgets/base",
      "model_module_version": "1.2.0",
      "model_name": "LayoutModel",
      "state": {}
     },
     "fb18cd56a481436fb06ab5f95918878f": {
      "model_module": "@jupyter-widgets/base",
      "model_module_version": "1.2.0",
      "model_name": "LayoutModel",
      "state": {
       "display": "inline-flex",
       "flex_flow": "row wrap",
       "width": "100%"
      }
     },
     "fb24f4cb40a44d8b86d642f759d392e1": {
      "model_module": "@jupyter-widgets/base",
      "model_module_version": "1.2.0",
      "model_name": "LayoutModel",
      "state": {
       "flex": "2"
      }
     },
     "fb3065a261164531b218011f47db0364": {
      "model_module": "@jupyter-widgets/controls",
      "model_module_version": "1.5.0",
      "model_name": "ProgressStyleModel",
      "state": {
       "description_width": ""
      }
     },
     "fb316b4c5bd5480e841486fca4021bda": {
      "model_module": "@jupyter-widgets/controls",
      "model_module_version": "1.5.0",
      "model_name": "ProgressStyleModel",
      "state": {
       "description_width": ""
      }
     },
     "fb36e9cfd1af4892ad29a990268700c7": {
      "model_module": "@jupyter-widgets/controls",
      "model_module_version": "1.5.0",
      "model_name": "DescriptionStyleModel",
      "state": {
       "description_width": ""
      }
     },
     "fb420b805ff74317a5c2f9270d5e1bf4": {
      "model_module": "@jupyter-widgets/base",
      "model_module_version": "1.2.0",
      "model_name": "LayoutModel",
      "state": {}
     },
     "fb5225355cd347978976c1ab904d1414": {
      "model_module": "@jupyter-widgets/controls",
      "model_module_version": "1.5.0",
      "model_name": "DescriptionStyleModel",
      "state": {
       "description_width": ""
      }
     },
     "fb7f7627c5b44c8b8d0f4d8ae264e7a6": {
      "model_module": "@jupyter-widgets/base",
      "model_module_version": "1.2.0",
      "model_name": "LayoutModel",
      "state": {}
     },
     "fb8a65f1b3aa4b6181b944790e0fe367": {
      "model_module": "@jupyter-widgets/base",
      "model_module_version": "1.2.0",
      "model_name": "LayoutModel",
      "state": {
       "flex": "2"
      }
     },
     "fb8dd6ac41394083b4920029271469bf": {
      "model_module": "@jupyter-widgets/base",
      "model_module_version": "1.2.0",
      "model_name": "LayoutModel",
      "state": {
       "flex": "2"
      }
     },
     "fb9fb5c234c24440a452545d530a7b04": {
      "model_module": "@jupyter-widgets/controls",
      "model_module_version": "1.5.0",
      "model_name": "FloatProgressModel",
      "state": {
       "layout": "IPY_MODEL_5605a3b3e638434b94a0c8c6a512335f",
       "max": 16,
       "style": "IPY_MODEL_fb316b4c5bd5480e841486fca4021bda",
       "value": 16
      }
     },
     "fba5486145cf4831a5598d7dcd438832": {
      "model_module": "@jupyter-widgets/controls",
      "model_module_version": "1.5.0",
      "model_name": "ProgressStyleModel",
      "state": {
       "description_width": ""
      }
     },
     "fba7a180689c4024a4ec66873d124fab": {
      "model_module": "@jupyter-widgets/controls",
      "model_module_version": "1.5.0",
      "model_name": "HTMLModel",
      "state": {
       "layout": "IPY_MODEL_9582c93e5671462fbc4cff318fef83a5",
       "style": "IPY_MODEL_8a0ce2ee1d384af3acea664760504fef",
       "value": "Validation DataLoader 0: 100%"
      }
     },
     "fbc2cf5e30d347b594013ef0d8c32bc5": {
      "model_module": "@jupyter-widgets/base",
      "model_module_version": "1.2.0",
      "model_name": "LayoutModel",
      "state": {
       "flex": "2"
      }
     },
     "fbc671f20bd740ffab5fc579d8068d5e": {
      "model_module": "@jupyter-widgets/base",
      "model_module_version": "1.2.0",
      "model_name": "LayoutModel",
      "state": {}
     },
     "fbd88f4bf5a2494bbb72b35bf55020a5": {
      "model_module": "@jupyter-widgets/base",
      "model_module_version": "1.2.0",
      "model_name": "LayoutModel",
      "state": {
       "flex": "2"
      }
     },
     "fbf2554e81cd44eaa4821917fbfa5ac9": {
      "model_module": "@jupyter-widgets/controls",
      "model_module_version": "1.5.0",
      "model_name": "DescriptionStyleModel",
      "state": {
       "description_width": ""
      }
     },
     "fc21c65cdb054ed98090e964b4642c5c": {
      "model_module": "@jupyter-widgets/controls",
      "model_module_version": "1.5.0",
      "model_name": "DescriptionStyleModel",
      "state": {
       "description_width": ""
      }
     },
     "fc37628ade2f43e685894bbfba060d43": {
      "model_module": "@jupyter-widgets/controls",
      "model_module_version": "1.5.0",
      "model_name": "DescriptionStyleModel",
      "state": {
       "description_width": ""
      }
     },
     "fc4f417076a442c6b8c9aee9a039c748": {
      "model_module": "@jupyter-widgets/base",
      "model_module_version": "1.2.0",
      "model_name": "LayoutModel",
      "state": {}
     },
     "fc5ef605c3fd48f5a14b6b197415ea05": {
      "model_module": "@jupyter-widgets/base",
      "model_module_version": "1.2.0",
      "model_name": "LayoutModel",
      "state": {
       "flex": "2"
      }
     },
     "fc5f728cbc504568857ae8103429b0de": {
      "model_module": "@jupyter-widgets/base",
      "model_module_version": "1.2.0",
      "model_name": "LayoutModel",
      "state": {}
     },
     "fc6512c1bf184379936ecfa67f4d5932": {
      "model_module": "@jupyter-widgets/controls",
      "model_module_version": "1.5.0",
      "model_name": "FloatProgressModel",
      "state": {
       "layout": "IPY_MODEL_35e15e69e3d949cfba402faa8bc44d6a",
       "max": 16,
       "style": "IPY_MODEL_a3eb9c7e4e1546dcbb9f2c7804adf84b",
       "value": 16
      }
     },
     "fc88d0ebe7d544598fb7f7a957c0a885": {
      "model_module": "@jupyter-widgets/controls",
      "model_module_version": "1.5.0",
      "model_name": "DescriptionStyleModel",
      "state": {
       "description_width": ""
      }
     },
     "fcb15e5a1c5c49e393d5f0083cd26fd6": {
      "model_module": "@jupyter-widgets/base",
      "model_module_version": "1.2.0",
      "model_name": "LayoutModel",
      "state": {}
     },
     "fcb73a2ce2bc4f1faa7616f225bb38ef": {
      "model_module": "@jupyter-widgets/base",
      "model_module_version": "1.2.0",
      "model_name": "LayoutModel",
      "state": {}
     },
     "fcd08a7d9eb946229677b30ffc36129c": {
      "model_module": "@jupyter-widgets/base",
      "model_module_version": "1.2.0",
      "model_name": "LayoutModel",
      "state": {
       "flex": "2"
      }
     },
     "fce1cb6020d74804a9f07e8f38f15c97": {
      "model_module": "@jupyter-widgets/base",
      "model_module_version": "1.2.0",
      "model_name": "LayoutModel",
      "state": {}
     },
     "fceb90df99694a9f83dcdb69825e5f25": {
      "model_module": "@jupyter-widgets/base",
      "model_module_version": "1.2.0",
      "model_name": "LayoutModel",
      "state": {
       "display": "inline-flex",
       "flex_flow": "row wrap",
       "width": "100%"
      }
     },
     "fd105f3a8f7f43e594a8614aaf00242d": {
      "model_module": "@jupyter-widgets/controls",
      "model_module_version": "1.5.0",
      "model_name": "HTMLModel",
      "state": {
       "layout": "IPY_MODEL_04eccd245d4244e3ab91508ac787fe61",
       "style": "IPY_MODEL_418ebe3f060244bd9383971d48167c5d",
       "value": "Validation DataLoader 0: 100%"
      }
     },
     "fd15752da1384b9da555327a7e0b8f82": {
      "model_module": "@jupyter-widgets/base",
      "model_module_version": "1.2.0",
      "model_name": "LayoutModel",
      "state": {
       "display": "inline-flex",
       "flex_flow": "row wrap",
       "width": "100%"
      }
     },
     "fd35d28de3f3489992780f6f31e2136c": {
      "model_module": "@jupyter-widgets/controls",
      "model_module_version": "1.5.0",
      "model_name": "ProgressStyleModel",
      "state": {
       "description_width": ""
      }
     },
     "fd580e01ec1f4aa3b036275cb64b0e0d": {
      "model_module": "@jupyter-widgets/controls",
      "model_module_version": "1.5.0",
      "model_name": "DescriptionStyleModel",
      "state": {
       "description_width": ""
      }
     },
     "fd639ed1ae72408fa4125ae4f9ec72dc": {
      "model_module": "@jupyter-widgets/base",
      "model_module_version": "1.2.0",
      "model_name": "LayoutModel",
      "state": {}
     },
     "fd6af23a4d8a4bb0bb100b2dcd815882": {
      "model_module": "@jupyter-widgets/controls",
      "model_module_version": "1.5.0",
      "model_name": "HTMLModel",
      "state": {
       "layout": "IPY_MODEL_deb170500ebf41e5aac8915fafbbd4b8",
       "style": "IPY_MODEL_cc9f75e2d9c14467a7a8a24dc49bfcc3",
       "value": " 16/16 [00:00&lt;00:00, 22.07it/s]"
      }
     },
     "fd8006bfefd642ca9cadcc8d98236e7b": {
      "model_module": "@jupyter-widgets/controls",
      "model_module_version": "1.5.0",
      "model_name": "DescriptionStyleModel",
      "state": {
       "description_width": ""
      }
     },
     "fd9c44c5ee354203aee49fc0d5577674": {
      "model_module": "@jupyter-widgets/controls",
      "model_module_version": "1.5.0",
      "model_name": "FloatProgressModel",
      "state": {
       "layout": "IPY_MODEL_65e307c953ff493a99934e2a248163af",
       "max": 16,
       "style": "IPY_MODEL_40de66724e274b3bb3cd487d7f9495d0",
       "value": 16
      }
     },
     "fdaa358159954bdaa3b39561ed68f30c": {
      "model_module": "@jupyter-widgets/base",
      "model_module_version": "1.2.0",
      "model_name": "LayoutModel",
      "state": {}
     },
     "fdada6790a8d45f38da876b2de65b602": {
      "model_module": "@jupyter-widgets/base",
      "model_module_version": "1.2.0",
      "model_name": "LayoutModel",
      "state": {
       "flex": "2"
      }
     },
     "fdbdd44b9953445ea6e21d4c29434a66": {
      "model_module": "@jupyter-widgets/controls",
      "model_module_version": "1.5.0",
      "model_name": "HTMLModel",
      "state": {
       "layout": "IPY_MODEL_19f11393062a4d12b6395eac6b9d018f",
       "style": "IPY_MODEL_b7ee7b821c584254afc1a6336dba0d78",
       "value": " 77/77 [00:06&lt;00:00, 12.05it/s, loss=0.235, v_num=H-56]"
      }
     },
     "fde99eeb5e694077af728c53c0cfe321": {
      "model_module": "@jupyter-widgets/controls",
      "model_module_version": "1.5.0",
      "model_name": "FloatProgressModel",
      "state": {
       "layout": "IPY_MODEL_0861ef5b260d4fffbacf9d185fe4e19c",
       "max": 16,
       "style": "IPY_MODEL_2a623aaa0bc54cdb9634762a7eef7caf",
       "value": 16
      }
     },
     "fdeea735cdf54428acf1c5c07ef1b0b9": {
      "model_module": "@jupyter-widgets/controls",
      "model_module_version": "1.5.0",
      "model_name": "FloatProgressModel",
      "state": {
       "layout": "IPY_MODEL_38235c26777b47bb9f51e9e1b6c46693",
       "max": 16,
       "style": "IPY_MODEL_0942af58dbdb437f87fcb511728cce82",
       "value": 16
      }
     },
     "fdf64862a1f64e7b95fa33194bcee60b": {
      "model_module": "@jupyter-widgets/controls",
      "model_module_version": "1.5.0",
      "model_name": "ProgressStyleModel",
      "state": {
       "description_width": ""
      }
     },
     "fe139b32441449cf88fa29bd45f55c26": {
      "model_module": "@jupyter-widgets/controls",
      "model_module_version": "1.5.0",
      "model_name": "DescriptionStyleModel",
      "state": {
       "description_width": ""
      }
     },
     "fe249af29cd74f81b055273f1e3d37c7": {
      "model_module": "@jupyter-widgets/base",
      "model_module_version": "1.2.0",
      "model_name": "LayoutModel",
      "state": {}
     },
     "fe3f6221d28e40a39f27f82b5db57f42": {
      "model_module": "@jupyter-widgets/base",
      "model_module_version": "1.2.0",
      "model_name": "LayoutModel",
      "state": {
       "flex": "2"
      }
     },
     "fe48e917ad5942508f984ba0106487b9": {
      "model_module": "@jupyter-widgets/base",
      "model_module_version": "1.2.0",
      "model_name": "LayoutModel",
      "state": {}
     },
     "fe4d07aa079145529ff0b32bfc99d34d": {
      "model_module": "@jupyter-widgets/controls",
      "model_module_version": "1.5.0",
      "model_name": "HTMLModel",
      "state": {
       "layout": "IPY_MODEL_e18e46fa6fea400ba2b7650c994f2e99",
       "style": "IPY_MODEL_8c3607a6d984481f9f8bcaf6b3e86a98",
       "value": " 16/16 [00:00&lt;00:00, 15.98it/s]"
      }
     },
     "fe62aa6d374a4a10a986b63407c9dd7b": {
      "model_module": "@jupyter-widgets/controls",
      "model_module_version": "1.5.0",
      "model_name": "ProgressStyleModel",
      "state": {
       "description_width": ""
      }
     },
     "fe6ea45f96bd4152a2ceff4fd2e154b6": {
      "model_module": "@jupyter-widgets/base",
      "model_module_version": "1.2.0",
      "model_name": "LayoutModel",
      "state": {}
     },
     "fe6fa099f18643c3804c4cc6a3243894": {
      "model_module": "@jupyter-widgets/base",
      "model_module_version": "1.2.0",
      "model_name": "LayoutModel",
      "state": {
       "display": "inline-flex",
       "flex_flow": "row wrap",
       "width": "100%"
      }
     },
     "fe715260003b480792f9ccfdc59025c4": {
      "model_module": "@jupyter-widgets/controls",
      "model_module_version": "1.5.0",
      "model_name": "DescriptionStyleModel",
      "state": {
       "description_width": ""
      }
     },
     "feacf8b8a69b48b799a61c3ffe152d98": {
      "model_module": "@jupyter-widgets/controls",
      "model_module_version": "1.5.0",
      "model_name": "DescriptionStyleModel",
      "state": {
       "description_width": ""
      }
     },
     "feb35d6c24084193a6bf3722a8bc96a9": {
      "model_module": "@jupyter-widgets/controls",
      "model_module_version": "1.5.0",
      "model_name": "DescriptionStyleModel",
      "state": {
       "description_width": ""
      }
     },
     "feb8e34f0bb4456aa211f65cd69afa7e": {
      "model_module": "@jupyter-widgets/controls",
      "model_module_version": "1.5.0",
      "model_name": "HTMLModel",
      "state": {
       "layout": "IPY_MODEL_81c9284f74dd4044b525d3708ded235a",
       "style": "IPY_MODEL_9fea95fcc9df4600afdde9b87ac2c5d5",
       "value": " 16/16 [00:03&lt;00:00,  3.87it/s]"
      }
     },
     "fedaa27f45d349be9366b960bc2b0abe": {
      "model_module": "@jupyter-widgets/base",
      "model_module_version": "1.2.0",
      "model_name": "LayoutModel",
      "state": {
       "display": "inline-flex",
       "flex_flow": "row wrap",
       "width": "100%"
      }
     },
     "ff10d597b6a04178af1d50be422bbb5f": {
      "model_module": "@jupyter-widgets/controls",
      "model_module_version": "1.5.0",
      "model_name": "HTMLModel",
      "state": {
       "layout": "IPY_MODEL_5802972fddbb4ee8871db519d6c07cec",
       "style": "IPY_MODEL_245f3d8aee6146cfaefd2ac8b6aa84dd",
       "value": "Sanity Checking DataLoader 0: 100%"
      }
     },
     "ff1ac63a6cac431d8785c6523729f502": {
      "model_module": "@jupyter-widgets/controls",
      "model_module_version": "1.5.0",
      "model_name": "HTMLModel",
      "state": {
       "layout": "IPY_MODEL_36ce86e6b67b47f7acc0c046a0b91831",
       "style": "IPY_MODEL_20720bc1425c4fe6b837628d77337410",
       "value": "Validation DataLoader 0: 100%"
      }
     },
     "ff2374ba0a7d4adca5385a55b3b5d255": {
      "model_module": "@jupyter-widgets/controls",
      "model_module_version": "1.5.0",
      "model_name": "DescriptionStyleModel",
      "state": {
       "description_width": ""
      }
     },
     "ff2fa381117e42f8bafad1052d5ee936": {
      "model_module": "@jupyter-widgets/controls",
      "model_module_version": "1.5.0",
      "model_name": "HTMLModel",
      "state": {
       "layout": "IPY_MODEL_3f27e1b1c72e4e5caab51323ec674af2",
       "style": "IPY_MODEL_8ef029b1e7564c0d810edd107b43db0f",
       "value": " 16/16 [00:01&lt;00:00,  7.81it/s]"
      }
     },
     "ff2fdabc2ebc40408c19235ae4abcf3b": {
      "model_module": "@jupyter-widgets/base",
      "model_module_version": "1.2.0",
      "model_name": "LayoutModel",
      "state": {}
     },
     "ff3b50d560ab4a058f1f46f837e3b503": {
      "model_module": "@jupyter-widgets/base",
      "model_module_version": "1.2.0",
      "model_name": "LayoutModel",
      "state": {
       "display": "inline-flex",
       "flex_flow": "row wrap",
       "width": "100%"
      }
     },
     "ff423da224874a8fb3ed7d0ea0eacd49": {
      "model_module": "@jupyter-widgets/controls",
      "model_module_version": "1.5.0",
      "model_name": "FloatProgressModel",
      "state": {
       "layout": "IPY_MODEL_8fd7cd5ac4fa4498b787d7b220fea09d",
       "max": 16,
       "style": "IPY_MODEL_89c6bac1200248c798a49962e305f457",
       "value": 16
      }
     },
     "ff55dca99dcd47de9c93a67c82bb2ffb": {
      "model_module": "@jupyter-widgets/controls",
      "model_module_version": "1.5.0",
      "model_name": "DescriptionStyleModel",
      "state": {
       "description_width": ""
      }
     },
     "ff69e8797729472cafd4c7b7525a0bd6": {
      "model_module": "@jupyter-widgets/base",
      "model_module_version": "1.2.0",
      "model_name": "LayoutModel",
      "state": {
       "display": "inline-flex",
       "flex_flow": "row wrap",
       "width": "100%"
      }
     },
     "ff7be6a750c147519530986a5554fbad": {
      "model_module": "@jupyter-widgets/base",
      "model_module_version": "1.2.0",
      "model_name": "LayoutModel",
      "state": {}
     },
     "ff95284c7c194ac7875c33ff16eb2363": {
      "model_module": "@jupyter-widgets/controls",
      "model_module_version": "1.5.0",
      "model_name": "DescriptionStyleModel",
      "state": {
       "description_width": ""
      }
     },
     "ffd350c52a104811afc4bced86fd4b57": {
      "model_module": "@jupyter-widgets/controls",
      "model_module_version": "1.5.0",
      "model_name": "HTMLModel",
      "state": {
       "layout": "IPY_MODEL_37f28b13bae84c82b4c344f7f1b6d998",
       "style": "IPY_MODEL_8afc6a1b0ef04a4e9ce91521dc9365a9",
       "value": "Validation DataLoader 0: 100%"
      }
     },
     "ffd723e04df742b1a7a0a6b5e4e4359b": {
      "model_module": "@jupyter-widgets/base",
      "model_module_version": "1.2.0",
      "model_name": "LayoutModel",
      "state": {}
     },
     "ffd9e50b448846059cc09b75867e21d4": {
      "model_module": "@jupyter-widgets/controls",
      "model_module_version": "1.5.0",
      "model_name": "DescriptionStyleModel",
      "state": {
       "description_width": ""
      }
     },
     "fff438a0318c4aee9577babaafabbf1d": {
      "model_module": "@jupyter-widgets/base",
      "model_module_version": "1.2.0",
      "model_name": "LayoutModel",
      "state": {}
     }
    },
    "version_major": 2,
    "version_minor": 0
   }
  }
 },
 "nbformat": 4,
 "nbformat_minor": 5
}
