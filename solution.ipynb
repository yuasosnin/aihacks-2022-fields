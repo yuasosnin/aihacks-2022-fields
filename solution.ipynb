{
 "cells": [
  {
   "cell_type": "code",
   "execution_count": 1,
   "id": "58d028dc-e7aa-4518-b85b-5d7bebc2c4e1",
   "metadata": {},
   "outputs": [],
   "source": [
    "import os, datetime\n",
    "from tqdm.notebook import tqdm\n",
    "\n",
    "import numpy as np\n",
    "import pandas as pd\n",
    "import geopandas as gpd\n",
    "import geojson\n",
    "import shapely\n",
    "import shapely.geometry"
   ]
  },
  {
   "cell_type": "code",
   "execution_count": 2,
   "id": "e33c8d81-842a-44fd-ba57-38ddb3a53fd4",
   "metadata": {},
   "outputs": [],
   "source": [
    "import matplotlib.pyplot as plt\n",
    "import contextily"
   ]
  },
  {
   "cell_type": "code",
   "execution_count": 3,
   "id": "01eadf82-118f-4952-be17-356dfb5312b8",
   "metadata": {},
   "outputs": [],
   "source": [
    "from src import *"
   ]
  },
  {
   "cell_type": "code",
   "execution_count": 4,
   "id": "62bc6036-ad3d-4f28-be59-f9b90b307d16",
   "metadata": {},
   "outputs": [],
   "source": [
    "import warnings\n",
    "warnings.filterwarnings('ignore')"
   ]
  },
  {
   "cell_type": "code",
   "execution_count": 5,
   "id": "1c5d6607-d4dd-4515-8457-5b3438e5995e",
   "metadata": {},
   "outputs": [],
   "source": [
    "data = read_data('data/train_dataset_train_2.csv')\n",
    "data_test = read_data('data/test_dataset_test_2.csv')\n",
    "data_ts, data_id = process_data(data)\n",
    "data_ts_test, data_id_test = process_data(data_test)"
   ]
  },
  {
   "cell_type": "code",
   "execution_count": 6,
   "id": "6e2370e4-8baa-4c83-9d70-ef09d1754722",
   "metadata": {},
   "outputs": [],
   "source": [
    "def add_diff(data_ts):\n",
    "    diff = data_ts.T.diff()[1:].T\n",
    "    diff.columns = [f'{x}_' for x in diff.columns]\n",
    "    return pd.concat((data_ts, diff), axis=1)"
   ]
  },
  {
   "cell_type": "code",
   "execution_count": 7,
   "id": "48cc4e62-45d5-40e1-9742-86ad3b33b546",
   "metadata": {},
   "outputs": [],
   "source": [
    "# data_ts = add_diff(data_ts)\n",
    "# data_ts_test = add_diff(data_ts_test)"
   ]
  },
  {
   "cell_type": "code",
   "execution_count": 8,
   "id": "17dec04e-2d6d-45c6-90e5-52f6ae1d0890",
   "metadata": {},
   "outputs": [],
   "source": [
    "# dates = pd.date_range(start=None, end='2021/08/27', periods=135)\n",
    "# data_ts_modis = pd.DataFrame(np.load('data_modis.npz')['arr_0'].squeeze(-1), columns=dates)\n",
    "# data_ts_modis_test = pd.DataFrame(np.load('data_modis_test.npz')['arr_0'].squeeze(-1), columns=dates)"
   ]
  },
  {
   "cell_type": "code",
   "execution_count": 9,
   "id": "5b0ce5b3-6709-4e7f-aec7-76b15471cd53",
   "metadata": {},
   "outputs": [],
   "source": [
    "data_ts_modis = pd.read_csv('data/train_dataset_modis.csv').fillna(0.0)\n",
    "data_ts_modis_test = pd.read_csv('data/test_dataset_modis.csv').fillna(0.0)"
   ]
  },
  {
   "cell_type": "code",
   "execution_count": 10,
   "id": "f9c28ac2-f94b-418d-8d70-3a60540058df",
   "metadata": {},
   "outputs": [],
   "source": [
    "# data_ts_modis = add_diff(data_ts_modis)\n",
    "# data_ts_modis_test = add_diff(data_ts_modis_test)"
   ]
  },
  {
   "cell_type": "code",
   "execution_count": 11,
   "id": "85adb038-104a-4838-b98d-fbc8dc2ac18c",
   "metadata": {},
   "outputs": [],
   "source": [
    "data_ts_landsat = pd.read_csv('data/train_dataset_landsat.csv').fillna(0)\n",
    "data_ts_landsat_test = pd.read_csv('data/test_dataset_landsat.csv').fillna(0)"
   ]
  },
  {
   "cell_type": "code",
   "execution_count": 12,
   "id": "0988671d-063a-40b8-bdb4-fc1c3dcd7da5",
   "metadata": {},
   "outputs": [],
   "source": [
    "# data_ts_landsat = add_diff(data_ts_landsat)\n",
    "# data_ts_landsat_test = add_diff(data_ts_landsat_test)"
   ]
  },
  {
   "cell_type": "code",
   "execution_count": 13,
   "id": "7d0372ad-7a3a-48b1-9f3d-b01c0fc32bc1",
   "metadata": {},
   "outputs": [],
   "source": [
    "from sklearn.model_selection import train_test_split\n",
    "from sklearn.metrics import recall_score, precision_score, accuracy_score"
   ]
  },
  {
   "cell_type": "code",
   "execution_count": 14,
   "id": "92e8275c-531f-4fbb-9849-d0d0c58854a6",
   "metadata": {},
   "outputs": [],
   "source": [
    "def get_dataset(data_ts, data_id, data_test_ts, data_test_id):\n",
    "    data_ts_train, data_ts_val, data_id_train, data_id_val = train_test_split(data_ts, data_id, test_size=0.1, random_state=1)\n",
    "    # data_train = pd.concat((data_ts_train, data_id_train[['area', 'lat', 'lon']]), axis=1)\n",
    "    # data_val = pd.concat((data_ts_val, data_id_val[['area', 'lat', 'lon']]), axis=1)\n",
    "    # data_test = pd.concat((data_ts_test, data_id_test[['area', 'lat', 'lon']]), axis=1)\n",
    "    data_train = data_ts_train\n",
    "    data_val = data_ts_val\n",
    "    data_test = data_test_ts\n",
    "\n",
    "    dataset = dict()\n",
    "    dataset['full'] = {'X': data_ts, 'y': data_id['crop']}\n",
    "    dataset['train'] = {'X': data_train, 'y': data_id_train['crop']}\n",
    "    dataset['val'] = {'X': data_val, 'y': data_id_val['crop']}\n",
    "    dataset['test'] = {'X': data_test}\n",
    "    return dataset"
   ]
  },
  {
   "cell_type": "code",
   "execution_count": 15,
   "id": "5b399703-54b2-44cd-9881-b8ee8f04962e",
   "metadata": {},
   "outputs": [],
   "source": [
    "dataset_orig = get_dataset(data_ts, data_id, data_ts_test, data_id_test)\n",
    "dataset_modis = get_dataset(data_ts_modis, data_id, data_ts_modis_test, data_id_test)\n",
    "dataset_landsat = get_dataset(data_ts_landsat, data_id, data_ts_landsat_test, data_id_test)\n",
    "dataset_concat = get_dataset(\n",
    "    pd.concat((data_ts, data_ts_modis, data_ts_landsat), axis=1), data_id, \n",
    "    pd.concat((data_ts_test, data_ts_modis_test, data_ts_landsat_test), axis=1), data_id_test)"
   ]
  },
  {
   "cell_type": "markdown",
   "id": "b658483d-3dbd-4b0c-acd4-c955ef0d6ed0",
   "metadata": {
    "jp-MarkdownHeadingCollapsed": true,
    "tags": []
   },
   "source": [
    "# sklearn"
   ]
  },
  {
   "cell_type": "code",
   "execution_count": 245,
   "id": "f27c3642-a7be-4964-96ce-2bb8807380b4",
   "metadata": {},
   "outputs": [],
   "source": [
    "SEED = 1"
   ]
  },
  {
   "cell_type": "code",
   "execution_count": 246,
   "id": "33807179-ed57-46d1-9a4f-eff8fd4868f0",
   "metadata": {},
   "outputs": [],
   "source": [
    "from sklearn.ensemble import RandomForestClassifier, GradientBoostingClassifier"
   ]
  },
  {
   "cell_type": "code",
   "execution_count": 247,
   "id": "dcef64fb-aa0f-455d-bc41-79e55833a471",
   "metadata": {},
   "outputs": [
    {
     "data": {
      "text/plain": [
       "0.9603060360196845"
      ]
     },
     "execution_count": 247,
     "metadata": {},
     "output_type": "execute_result"
    }
   ],
   "source": [
    "rf = RandomForestClassifier(n_estimators=200, random_state=SEED, verbose=False)\n",
    "rf.fit(**dataset_orig['train'])\n",
    "preds = rf.predict(dataset_orig['val']['X'])\n",
    "recall_score(preds, dataset_orig['val']['y'], average='macro')"
   ]
  },
  {
   "cell_type": "code",
   "execution_count": 248,
   "id": "fffd98aa-7358-42b0-b434-34067a880d44",
   "metadata": {},
   "outputs": [
    {
     "data": {
      "text/plain": [
       "0.5986918472170635"
      ]
     },
     "execution_count": 248,
     "metadata": {},
     "output_type": "execute_result"
    }
   ],
   "source": [
    "rf_ = RandomForestClassifier(\n",
    "    n_estimators=200, random_state=SEED, verbose=False,\n",
    "    min_samples_leaf=1)\n",
    "rf_.fit(**dataset_modis['train'])\n",
    "preds = rf_.predict(dataset_modis['val']['X'])\n",
    "recall_score(preds, dataset_modis['val']['y'], average='macro')"
   ]
  },
  {
   "cell_type": "code",
   "execution_count": 249,
   "id": "8eb5fcc3-339c-48b7-a91c-3de4edb85a16",
   "metadata": {},
   "outputs": [
    {
     "data": {
      "text/plain": [
       "0.6953205149240029"
      ]
     },
     "execution_count": 249,
     "metadata": {},
     "output_type": "execute_result"
    }
   ],
   "source": [
    "rf_ls = RandomForestClassifier(\n",
    "    n_estimators=200, random_state=SEED, verbose=False,\n",
    "    min_samples_leaf=1)\n",
    "rf_ls.fit(**dataset_landsat['train'])\n",
    "preds = rf_ls.predict(dataset_landsat['val']['X'])\n",
    "recall_score(preds, dataset_landsat['val']['y'], average='macro')"
   ]
  },
  {
   "cell_type": "code",
   "execution_count": 250,
   "id": "cafe71f6-ebd1-44aa-8c70-038eaa2101eb",
   "metadata": {},
   "outputs": [],
   "source": [
    "preds = (\n",
    "    0.8*rf.predict_proba(dataset_orig['val']['X']) + \n",
    "    0.1*rf_.predict_proba(dataset_modis['val']['X']) +\n",
    "    0.1*rf_ls.predict_proba(dataset_landsat['val']['X'])\n",
    ").argmax(axis=1)"
   ]
  },
  {
   "cell_type": "code",
   "execution_count": 251,
   "id": "7b5dada8-a5f5-40e3-8763-20f19d8560f2",
   "metadata": {},
   "outputs": [
    {
     "data": {
      "text/plain": [
       "0.9645251067787923"
      ]
     },
     "execution_count": 251,
     "metadata": {},
     "output_type": "execute_result"
    }
   ],
   "source": [
    "recall_score(preds, dataset_modis['val']['y'], average='macro')"
   ]
  },
  {
   "cell_type": "code",
   "execution_count": 255,
   "id": "08c1fd1a-29ee-404a-a489-e6568656c32c",
   "metadata": {},
   "outputs": [
    {
     "data": {
      "text/plain": [
       "0.9638116184726355"
      ]
     },
     "execution_count": 255,
     "metadata": {},
     "output_type": "execute_result"
    }
   ],
   "source": [
    "rf = RandomForestClassifier(\n",
    "    n_estimators=200, random_state=SEED, verbose=False,\n",
    "    min_samples_leaf=1)\n",
    "rf.fit(**dataset_concat['train'])\n",
    "preds = rf.predict(dataset_concat['val']['X'])\n",
    "recall_score(preds, dataset_concat['val']['y'], average='macro')"
   ]
  },
  {
   "cell_type": "code",
   "execution_count": 256,
   "id": "018f8a3b-50b9-442d-9794-b939769a1f2a",
   "metadata": {},
   "outputs": [
    {
     "data": {
      "text/plain": [
       "0.9633086367457507"
      ]
     },
     "execution_count": 256,
     "metadata": {},
     "output_type": "execute_result"
    }
   ],
   "source": [
    "gb = GradientBoostingClassifier(n_estimators=100)\n",
    "gb.fit(**dataset_concat['train'])\n",
    "preds = gb.predict(dataset_concat['val']['X'])\n",
    "recall_score(preds, dataset_concat['val']['y'], average='macro')"
   ]
  },
  {
   "cell_type": "code",
   "execution_count": null,
   "id": "90139bb8-f413-4379-b91c-35dc9342211d",
   "metadata": {
    "tags": []
   },
   "outputs": [],
   "source": [
    "from catboost import CatBoostClassifier\n",
    "model = CatBoostClassifier(\n",
    "    iterations=500,\n",
    "    learning_rate=1,\n",
    "    # depth=10,\n",
    "    random_seed=1,\n",
    "    verbose=False\n",
    ")\n",
    "model.fit(**dataset_concat['train'])\n",
    "preds = model.predict(dataset_concat['val']['X'])\n",
    "recall_score(preds, dataset_concat['val']['y'], average='macro')"
   ]
  },
  {
   "cell_type": "code",
   "execution_count": 186,
   "id": "5e2a551f-4503-4131-93a5-ae120465a3c2",
   "metadata": {},
   "outputs": [
    {
     "data": {
      "text/plain": [
       "0.6443026399804246"
      ]
     },
     "execution_count": 186,
     "metadata": {},
     "output_type": "execute_result"
    }
   ],
   "source": [
    "recall_score(preds, dataset_orig['val']['y'], average='macro')"
   ]
  },
  {
   "cell_type": "code",
   "execution_count": 15,
   "id": "b712468a-34d1-4681-a047-ca29bc527eef",
   "metadata": {},
   "outputs": [],
   "source": [
    "from sktime.classification.distance_based import KNeighborsTimeSeriesClassifier"
   ]
  },
  {
   "cell_type": "code",
   "execution_count": 16,
   "id": "bc75ac28-b564-4b87-a446-12cdd4fb37dc",
   "metadata": {},
   "outputs": [
    {
     "data": {
      "text/plain": [
       "0.771540088080925"
      ]
     },
     "execution_count": 16,
     "metadata": {},
     "output_type": "execute_result"
    }
   ],
   "source": [
    "model = KNeighborsTimeSeriesClassifier(n_neighbors=10)\n",
    "model.fit(dataset_orig['train']['X'].values, dataset_orig['train']['y'])\n",
    "preds = model.predict(dataset_orig['val']['X'].values)\n",
    "recall_score(preds, dataset_orig['val']['y'], average='macro')"
   ]
  },
  {
   "cell_type": "code",
   "execution_count": 17,
   "id": "a10c05e3-1226-4e68-95b0-af6c01e0c404",
   "metadata": {},
   "outputs": [
    {
     "data": {
      "text/plain": [
       "0.792783539714341"
      ]
     },
     "execution_count": 17,
     "metadata": {},
     "output_type": "execute_result"
    }
   ],
   "source": [
    "model = KNeighborsTimeSeriesClassifier(n_neighbors=20)\n",
    "model.fit(dataset_orig['train']['X'].values, dataset_orig['train']['y'])\n",
    "preds = model.predict(dataset_orig['val']['X'].values)\n",
    "recall_score(preds, dataset_orig['val']['y'], average='macro')"
   ]
  },
  {
   "cell_type": "code",
   "execution_count": 23,
   "id": "724711d0-8be7-41cb-8370-8ed6dac4683c",
   "metadata": {},
   "outputs": [
    {
     "data": {
      "text/plain": [
       "0.7834449463857383"
      ]
     },
     "execution_count": 23,
     "metadata": {},
     "output_type": "execute_result"
    }
   ],
   "source": [
    "model = KNeighborsTimeSeriesClassifier(n_neighbors=100)\n",
    "model.fit(dataset_orig['train']['X'].values, dataset_orig['train']['y'])\n",
    "preds = model.predict(dataset_orig['val']['X'].values)\n",
    "recall_score(preds, dataset_orig['val']['y'], average='macro')"
   ]
  },
  {
   "cell_type": "markdown",
   "id": "7d8ed949-3881-4af3-84f6-24a4082f88b7",
   "metadata": {
    "tags": []
   },
   "source": [
    "# neural"
   ]
  },
  {
   "cell_type": "code",
   "execution_count": 16,
   "id": "fc8ed51f-c40e-4a21-bed4-45f7ac03fbe2",
   "metadata": {},
   "outputs": [],
   "source": [
    "import torch\n",
    "import torch.nn as nn\n",
    "from torch.utils.data import random_split\n",
    "import pytorch_lightning as pl\n",
    "from pytorch_lightning.callbacks import LearningRateMonitor, ModelCheckpoint\n",
    "from pytorch_lightning.loggers import NeptuneLogger"
   ]
  },
  {
   "cell_type": "code",
   "execution_count": 17,
   "id": "803a48d6-2656-4893-a907-cbe7c5817af1",
   "metadata": {},
   "outputs": [],
   "source": [
    "with open('.api_key') as f:\n",
    "    API_KEY = f.read()"
   ]
  },
  {
   "cell_type": "code",
   "execution_count": 18,
   "id": "8882d040-9d36-48d1-8f69-106275a51bf4",
   "metadata": {},
   "outputs": [],
   "source": [
    "from src import StackRNN, StackTransformer, StackDataset, StackDataModule"
   ]
  },
  {
   "cell_type": "code",
   "execution_count": 19,
   "id": "e5f3ca9f-7e11-4acc-8f02-d8cc701ee309",
   "metadata": {},
   "outputs": [],
   "source": [
    "g = torch.Generator()\n",
    "g.manual_seed(1)\n",
    "        \n",
    "dataset = StackDataset(\n",
    "    dataset_orig['full']['X'], dataset_modis['full']['X'], dataset_landsat['full']['X'], \n",
    "    y=dataset_orig['full']['y'])\n",
    "train_dataset, val_dataset = random_split(dataset, lengths=[int(len(dataset)*0.8), int(len(dataset)*0.2)], generator=g)\n",
    "test_dataset = StackDataset(dataset_orig['test']['X'], dataset_modis['test']['X'], dataset_landsat['test']['X'], y=None)"
   ]
  },
  {
   "cell_type": "markdown",
   "id": "00b49fc7-7bea-46c5-ae63-2ddd22958831",
   "metadata": {
    "jp-MarkdownHeadingCollapsed": true,
    "tags": []
   },
   "source": [
    "### RNN"
   ]
  },
  {
   "cell_type": "code",
   "execution_count": 105,
   "id": "59119c40-ad26-4174-9e4f-9472a733af81",
   "metadata": {},
   "outputs": [],
   "source": [
    "best_checkpointer = ModelCheckpoint(save_top_k=1, save_last=True, monitor='valid_loss', filename='best')\n",
    "neptune_logger = NeptuneLogger(\n",
    "    api_key=API_KEY,\n",
    "    project='fant0md/aihacks-2022-fields')\n",
    "lr_monitor = LearningRateMonitor(logging_interval ='epoch')"
   ]
  },
  {
   "cell_type": "code",
   "execution_count": 113,
   "id": "a47bf216-508b-419c-acae-e4143da2f926",
   "metadata": {},
   "outputs": [
    {
     "name": "stderr",
     "output_type": "stream",
     "text": [
      "GPU available: False, used: False\n",
      "TPU available: False, using: 0 TPU cores\n",
      "IPU available: False, using: 0 IPUs\n",
      "HPU available: False, using: 0 HPUs\n"
     ]
    }
   ],
   "source": [
    "trainer = pl.Trainer(\n",
    "    log_every_n_steps=1, \n",
    "    logger=neptune_logger, \n",
    "    callbacks=[best_checkpointer, lr_monitor], \n",
    "    max_epochs=50, \n",
    "    accelerator='auto',\n",
    "    devices=1)"
   ]
  },
  {
   "cell_type": "code",
   "execution_count": 107,
   "id": "a70dd4e3-3bf4-4eac-947b-0afd4e93560a",
   "metadata": {},
   "outputs": [],
   "source": [
    "pl_model = StackRNN(hidden_size=64, layers=2, dropout=0.5, lr=0.01, wd=0, gamma=0.9)\n",
    "pl_data = StackDataModule(train_dataset, val_dataset, test_dataset, batch_size=64)"
   ]
  },
  {
   "cell_type": "code",
   "execution_count": 108,
   "id": "6822c7ec-ddaf-4e50-a65d-ebec5f7465e5",
   "metadata": {
    "collapsed": true,
    "jupyter": {
     "outputs_hidden": true
    },
    "tags": []
   },
   "outputs": [
    {
     "name": "stderr",
     "output_type": "stream",
     "text": [
      "\n",
      "  | Name         | Type             | Params\n",
      "--------------------------------------------------\n",
      "0 | rnn1         | GRU              | 100 K \n",
      "1 | rnn2         | GRU              | 100 K \n",
      "2 | rnn3         | GRU              | 100 K \n",
      "3 | fc           | Sequential       | 67.6 K\n",
      "4 | act          | ReLU             | 0     \n",
      "5 | criterion    | CrossEntropyLoss | 0     \n",
      "6 | train_recall | Recall           | 0     \n",
      "7 | valid_recall | Recall           | 0     \n",
      "--------------------------------------------------\n",
      "368 K     Trainable params\n",
      "0         Non-trainable params\n",
      "368 K     Total params\n",
      "1.473     Total estimated model params size (MB)\n"
     ]
    },
    {
     "name": "stdout",
     "output_type": "stream",
     "text": [
      "https://app.neptune.ai/fant0md/aihacks-2022-fields/e/AIH-50\n",
      "Remember to stop your run once you’ve finished logging your metadata (https://docs.neptune.ai/api-reference/run#.stop). It will be stopped automatically only when the notebook kernel/interactive console is terminated.\n"
     ]
    },
    {
     "data": {
      "application/vnd.jupyter.widget-view+json": {
       "model_id": "",
       "version_major": 2,
       "version_minor": 0
      },
      "text/plain": [
       "Sanity Checking: 0it [00:00, ?it/s]"
      ]
     },
     "metadata": {},
     "output_type": "display_data"
    },
    {
     "data": {
      "application/vnd.jupyter.widget-view+json": {
       "model_id": "2b8c236bda264f28a2cad2586d523129",
       "version_major": 2,
       "version_minor": 0
      },
      "text/plain": [
       "Training: 0it [00:00, ?it/s]"
      ]
     },
     "metadata": {},
     "output_type": "display_data"
    },
    {
     "data": {
      "application/vnd.jupyter.widget-view+json": {
       "model_id": "",
       "version_major": 2,
       "version_minor": 0
      },
      "text/plain": [
       "Validation: 0it [00:00, ?it/s]"
      ]
     },
     "metadata": {},
     "output_type": "display_data"
    },
    {
     "data": {
      "application/vnd.jupyter.widget-view+json": {
       "model_id": "",
       "version_major": 2,
       "version_minor": 0
      },
      "text/plain": [
       "Validation: 0it [00:00, ?it/s]"
      ]
     },
     "metadata": {},
     "output_type": "display_data"
    },
    {
     "data": {
      "application/vnd.jupyter.widget-view+json": {
       "model_id": "",
       "version_major": 2,
       "version_minor": 0
      },
      "text/plain": [
       "Validation: 0it [00:00, ?it/s]"
      ]
     },
     "metadata": {},
     "output_type": "display_data"
    },
    {
     "data": {
      "application/vnd.jupyter.widget-view+json": {
       "model_id": "",
       "version_major": 2,
       "version_minor": 0
      },
      "text/plain": [
       "Validation: 0it [00:00, ?it/s]"
      ]
     },
     "metadata": {},
     "output_type": "display_data"
    },
    {
     "data": {
      "application/vnd.jupyter.widget-view+json": {
       "model_id": "",
       "version_major": 2,
       "version_minor": 0
      },
      "text/plain": [
       "Validation: 0it [00:00, ?it/s]"
      ]
     },
     "metadata": {},
     "output_type": "display_data"
    },
    {
     "data": {
      "application/vnd.jupyter.widget-view+json": {
       "model_id": "",
       "version_major": 2,
       "version_minor": 0
      },
      "text/plain": [
       "Validation: 0it [00:00, ?it/s]"
      ]
     },
     "metadata": {},
     "output_type": "display_data"
    },
    {
     "data": {
      "application/vnd.jupyter.widget-view+json": {
       "model_id": "",
       "version_major": 2,
       "version_minor": 0
      },
      "text/plain": [
       "Validation: 0it [00:00, ?it/s]"
      ]
     },
     "metadata": {},
     "output_type": "display_data"
    },
    {
     "data": {
      "application/vnd.jupyter.widget-view+json": {
       "model_id": "",
       "version_major": 2,
       "version_minor": 0
      },
      "text/plain": [
       "Validation: 0it [00:00, ?it/s]"
      ]
     },
     "metadata": {},
     "output_type": "display_data"
    },
    {
     "data": {
      "application/vnd.jupyter.widget-view+json": {
       "model_id": "",
       "version_major": 2,
       "version_minor": 0
      },
      "text/plain": [
       "Validation: 0it [00:00, ?it/s]"
      ]
     },
     "metadata": {},
     "output_type": "display_data"
    },
    {
     "data": {
      "application/vnd.jupyter.widget-view+json": {
       "model_id": "",
       "version_major": 2,
       "version_minor": 0
      },
      "text/plain": [
       "Validation: 0it [00:00, ?it/s]"
      ]
     },
     "metadata": {},
     "output_type": "display_data"
    },
    {
     "data": {
      "application/vnd.jupyter.widget-view+json": {
       "model_id": "",
       "version_major": 2,
       "version_minor": 0
      },
      "text/plain": [
       "Validation: 0it [00:00, ?it/s]"
      ]
     },
     "metadata": {},
     "output_type": "display_data"
    },
    {
     "data": {
      "application/vnd.jupyter.widget-view+json": {
       "model_id": "",
       "version_major": 2,
       "version_minor": 0
      },
      "text/plain": [
       "Validation: 0it [00:00, ?it/s]"
      ]
     },
     "metadata": {},
     "output_type": "display_data"
    },
    {
     "data": {
      "application/vnd.jupyter.widget-view+json": {
       "model_id": "",
       "version_major": 2,
       "version_minor": 0
      },
      "text/plain": [
       "Validation: 0it [00:00, ?it/s]"
      ]
     },
     "metadata": {},
     "output_type": "display_data"
    },
    {
     "data": {
      "application/vnd.jupyter.widget-view+json": {
       "model_id": "",
       "version_major": 2,
       "version_minor": 0
      },
      "text/plain": [
       "Validation: 0it [00:00, ?it/s]"
      ]
     },
     "metadata": {},
     "output_type": "display_data"
    },
    {
     "data": {
      "application/vnd.jupyter.widget-view+json": {
       "model_id": "",
       "version_major": 2,
       "version_minor": 0
      },
      "text/plain": [
       "Validation: 0it [00:00, ?it/s]"
      ]
     },
     "metadata": {},
     "output_type": "display_data"
    },
    {
     "data": {
      "application/vnd.jupyter.widget-view+json": {
       "model_id": "",
       "version_major": 2,
       "version_minor": 0
      },
      "text/plain": [
       "Validation: 0it [00:00, ?it/s]"
      ]
     },
     "metadata": {},
     "output_type": "display_data"
    },
    {
     "data": {
      "application/vnd.jupyter.widget-view+json": {
       "model_id": "",
       "version_major": 2,
       "version_minor": 0
      },
      "text/plain": [
       "Validation: 0it [00:00, ?it/s]"
      ]
     },
     "metadata": {},
     "output_type": "display_data"
    },
    {
     "data": {
      "application/vnd.jupyter.widget-view+json": {
       "model_id": "",
       "version_major": 2,
       "version_minor": 0
      },
      "text/plain": [
       "Validation: 0it [00:00, ?it/s]"
      ]
     },
     "metadata": {},
     "output_type": "display_data"
    },
    {
     "data": {
      "application/vnd.jupyter.widget-view+json": {
       "model_id": "",
       "version_major": 2,
       "version_minor": 0
      },
      "text/plain": [
       "Validation: 0it [00:00, ?it/s]"
      ]
     },
     "metadata": {},
     "output_type": "display_data"
    },
    {
     "data": {
      "application/vnd.jupyter.widget-view+json": {
       "model_id": "",
       "version_major": 2,
       "version_minor": 0
      },
      "text/plain": [
       "Validation: 0it [00:00, ?it/s]"
      ]
     },
     "metadata": {},
     "output_type": "display_data"
    },
    {
     "data": {
      "application/vnd.jupyter.widget-view+json": {
       "model_id": "",
       "version_major": 2,
       "version_minor": 0
      },
      "text/plain": [
       "Validation: 0it [00:00, ?it/s]"
      ]
     },
     "metadata": {},
     "output_type": "display_data"
    },
    {
     "data": {
      "application/vnd.jupyter.widget-view+json": {
       "model_id": "",
       "version_major": 2,
       "version_minor": 0
      },
      "text/plain": [
       "Validation: 0it [00:00, ?it/s]"
      ]
     },
     "metadata": {},
     "output_type": "display_data"
    },
    {
     "data": {
      "application/vnd.jupyter.widget-view+json": {
       "model_id": "",
       "version_major": 2,
       "version_minor": 0
      },
      "text/plain": [
       "Validation: 0it [00:00, ?it/s]"
      ]
     },
     "metadata": {},
     "output_type": "display_data"
    },
    {
     "data": {
      "application/vnd.jupyter.widget-view+json": {
       "model_id": "",
       "version_major": 2,
       "version_minor": 0
      },
      "text/plain": [
       "Validation: 0it [00:00, ?it/s]"
      ]
     },
     "metadata": {},
     "output_type": "display_data"
    },
    {
     "data": {
      "application/vnd.jupyter.widget-view+json": {
       "model_id": "",
       "version_major": 2,
       "version_minor": 0
      },
      "text/plain": [
       "Validation: 0it [00:00, ?it/s]"
      ]
     },
     "metadata": {},
     "output_type": "display_data"
    },
    {
     "data": {
      "application/vnd.jupyter.widget-view+json": {
       "model_id": "",
       "version_major": 2,
       "version_minor": 0
      },
      "text/plain": [
       "Validation: 0it [00:00, ?it/s]"
      ]
     },
     "metadata": {},
     "output_type": "display_data"
    },
    {
     "data": {
      "application/vnd.jupyter.widget-view+json": {
       "model_id": "",
       "version_major": 2,
       "version_minor": 0
      },
      "text/plain": [
       "Validation: 0it [00:00, ?it/s]"
      ]
     },
     "metadata": {},
     "output_type": "display_data"
    },
    {
     "data": {
      "application/vnd.jupyter.widget-view+json": {
       "model_id": "",
       "version_major": 2,
       "version_minor": 0
      },
      "text/plain": [
       "Validation: 0it [00:00, ?it/s]"
      ]
     },
     "metadata": {},
     "output_type": "display_data"
    }
   ],
   "source": [
    "trainer.fit(pl_model, pl_data)"
   ]
  },
  {
   "cell_type": "markdown",
   "id": "620d4e0c-af0b-4048-81a2-2de6df255e66",
   "metadata": {
    "tags": []
   },
   "source": [
    "### Transformer"
   ]
  },
  {
   "cell_type": "code",
   "execution_count": 20,
   "id": "0ddf08e7-031f-4e52-8357-5f81c2a155c6",
   "metadata": {},
   "outputs": [
    {
     "name": "stderr",
     "output_type": "stream",
     "text": [
      "GPU available: False, used: False\n",
      "TPU available: False, using: 0 TPU cores\n",
      "IPU available: False, using: 0 IPUs\n",
      "HPU available: False, using: 0 HPUs\n"
     ]
    }
   ],
   "source": [
    "best_checkpointer = ModelCheckpoint(save_top_k=1, save_last=True, monitor='valid_loss', filename='best')\n",
    "neptune_logger = NeptuneLogger(\n",
    "    api_key=API_KEY,\n",
    "    project='fant0md/aihacks-2022-fields')\n",
    "lr_monitor = LearningRateMonitor(logging_interval ='epoch')\n",
    "\n",
    "trainer = pl.Trainer(\n",
    "    log_every_n_steps=1, \n",
    "    logger=neptune_logger, \n",
    "    callbacks=[best_checkpointer, lr_monitor], \n",
    "    max_epochs=50, \n",
    "    accelerator='auto',\n",
    "    devices=1)"
   ]
  },
  {
   "cell_type": "code",
   "execution_count": 21,
   "id": "3ed5e414-f671-4b18-bd9b-368fac3013d0",
   "metadata": {},
   "outputs": [],
   "source": [
    "pl_model = StackTransformer(\n",
    "    d_model=64, \n",
    "    nhead=1, \n",
    "    dim_feedforward=64, \n",
    "    d_head=128, \n",
    "    num_layers=2, \n",
    "    num_head_layers=1, \n",
    "    dropout=0, \n",
    "    activation=\"relu\",\n",
    "    lr=0.0001, wd=0, gamma=0.99)\n",
    "pl_data = StackDataModule(train_dataset, val_dataset, test_dataset, batch_size=64)"
   ]
  },
  {
   "cell_type": "code",
   "execution_count": null,
   "id": "bfacbb49-588d-434e-910b-7759d6c48e44",
   "metadata": {},
   "outputs": [
    {
     "name": "stderr",
     "output_type": "stream",
     "text": [
      "\n",
      "  | Name         | Type             | Params\n",
      "--------------------------------------------------\n",
      "0 | models       | ModuleList       | 2.0 M \n",
      "1 | act          | ReLU             | 0     \n",
      "2 | head         | MLP              | 17.4 K\n",
      "3 | criterion    | CrossEntropyLoss | 0     \n",
      "4 | train_recall | Recall           | 0     \n",
      "5 | valid_recall | Recall           | 0     \n",
      "--------------------------------------------------\n",
      "2.0 M     Trainable params\n",
      "0         Non-trainable params\n",
      "2.0 M     Total params\n",
      "8.168     Total estimated model params size (MB)\n"
     ]
    },
    {
     "name": "stdout",
     "output_type": "stream",
     "text": [
      "https://app.neptune.ai/fant0md/aihacks-2022-fields/e/AIH-70\n"
     ]
    },
    {
     "name": "stderr",
     "output_type": "stream",
     "text": [
      "Info (NVML): NVML Shared Library Not Found. GPU usage metrics may not be reported. For more information, see https://docs.neptune.ai/you-should-know/what-can-you-log-and-display#hardware-consumption\n"
     ]
    },
    {
     "name": "stdout",
     "output_type": "stream",
     "text": [
      "Remember to stop your run once you’ve finished logging your metadata (https://docs.neptune.ai/api-reference/run#.stop). It will be stopped automatically only when the notebook kernel/interactive console is terminated.\n"
     ]
    },
    {
     "data": {
      "application/vnd.jupyter.widget-view+json": {
       "model_id": "",
       "version_major": 2,
       "version_minor": 0
      },
      "text/plain": [
       "Sanity Checking: 0it [00:00, ?it/s]"
      ]
     },
     "metadata": {},
     "output_type": "display_data"
    },
    {
     "data": {
      "application/vnd.jupyter.widget-view+json": {
       "model_id": "8f6f28634c154ab19c955c988b6aec6c",
       "version_major": 2,
       "version_minor": 0
      },
      "text/plain": [
       "Training: 0it [00:00, ?it/s]"
      ]
     },
     "metadata": {},
     "output_type": "display_data"
    },
    {
     "data": {
      "application/vnd.jupyter.widget-view+json": {
       "model_id": "",
       "version_major": 2,
       "version_minor": 0
      },
      "text/plain": [
       "Validation: 0it [00:00, ?it/s]"
      ]
     },
     "metadata": {},
     "output_type": "display_data"
    },
    {
     "data": {
      "application/vnd.jupyter.widget-view+json": {
       "model_id": "",
       "version_major": 2,
       "version_minor": 0
      },
      "text/plain": [
       "Validation: 0it [00:00, ?it/s]"
      ]
     },
     "metadata": {},
     "output_type": "display_data"
    }
   ],
   "source": [
    "trainer.fit(pl_model, pl_data)"
   ]
  },
  {
   "cell_type": "markdown",
   "id": "2e273401-330c-4ddc-9f7c-9f6ad9fa42c3",
   "metadata": {},
   "source": [
    "## submission"
   ]
  },
  {
   "cell_type": "code",
   "execution_count": 64,
   "id": "df827422-ca96-410e-84f1-1166d8e382de",
   "metadata": {},
   "outputs": [
    {
     "data": {
      "application/vnd.jupyter.widget-view+json": {
       "model_id": "96e2155cbad44704aab57d23693a644d",
       "version_major": 2,
       "version_minor": 0
      },
      "text/plain": [
       "Predicting: 61it [00:00, ?it/s]"
      ]
     },
     "metadata": {},
     "output_type": "display_data"
    }
   ],
   "source": [
    "preds = trainer.predict(pl_model, pl_data)"
   ]
  },
  {
   "cell_type": "code",
   "execution_count": 66,
   "id": "18468dd0-4caa-4a45-8321-bd238d2ca6c4",
   "metadata": {},
   "outputs": [],
   "source": [
    "submission = pd.read_csv('sample_solution.csv')\n",
    "submission['crop'] = torch.cat(preds).argmax(1)"
   ]
  },
  {
   "cell_type": "code",
   "execution_count": 69,
   "id": "f5287fee-7c8f-4244-b923-04fb671d9f31",
   "metadata": {},
   "outputs": [],
   "source": [
    "submission.to_csv('submission.csv', index=False)"
   ]
  },
  {
   "cell_type": "code",
   "execution_count": null,
   "id": "ec80cf3b-20b5-4689-bd04-b25e951c674d",
   "metadata": {},
   "outputs": [],
   "source": []
  }
 ],
 "metadata": {
  "kernelspec": {
   "display_name": "Python 3",
   "language": "python",
   "name": "python3"
  },
  "language_info": {
   "codemirror_mode": {
    "name": "ipython",
    "version": 3
   },
   "file_extension": ".py",
   "mimetype": "text/x-python",
   "name": "python",
   "nbconvert_exporter": "python",
   "pygments_lexer": "ipython3",
   "version": "3.9.4"
  },
  "widgets": {
   "application/vnd.jupyter.widget-state+json": {
    "state": {
     "12394342594d4c7d883d21253889901e": {
      "model_module": "@jupyter-widgets/controls",
      "model_module_version": "1.5.0",
      "model_name": "DescriptionStyleModel",
      "state": {
       "description_width": ""
      }
     },
     "1dfbc9360b2847fc966194852eee0f51": {
      "model_module": "@jupyter-widgets/controls",
      "model_module_version": "1.5.0",
      "model_name": "FloatProgressModel",
      "state": {
       "layout": "IPY_MODEL_3f56c00d239b44b3a0eb81df163af36f",
       "max": 16,
       "style": "IPY_MODEL_b7c66ad6ed084b2e8c049c8d9bfe47c7",
       "value": 16
      }
     },
     "1f2b7b574eca4ec69b69e06669d4f85a": {
      "model_module": "@jupyter-widgets/base",
      "model_module_version": "1.2.0",
      "model_name": "LayoutModel",
      "state": {
       "display": "inline-flex",
       "flex_flow": "row wrap",
       "width": "100%"
      }
     },
     "30526a363bcc440caa3b4466a5d84381": {
      "model_module": "@jupyter-widgets/base",
      "model_module_version": "1.2.0",
      "model_name": "LayoutModel",
      "state": {
       "flex": "2"
      }
     },
     "37219fe7a9cb4ca4bcd31d8fcc6d8aea": {
      "model_module": "@jupyter-widgets/controls",
      "model_module_version": "1.5.0",
      "model_name": "HTMLModel",
      "state": {
       "layout": "IPY_MODEL_d1416cd55d44409c89628c1e8e20f7e5",
       "style": "IPY_MODEL_6249116ccf7b47efa9a32846687ee4db",
       "value": "Epoch 2:   3%"
      }
     },
     "3f56c00d239b44b3a0eb81df163af36f": {
      "model_module": "@jupyter-widgets/base",
      "model_module_version": "1.2.0",
      "model_name": "LayoutModel",
      "state": {
       "flex": "2"
      }
     },
     "4433ff356e684bbb9299a47601d18704": {
      "model_module": "@jupyter-widgets/base",
      "model_module_version": "1.2.0",
      "model_name": "LayoutModel",
      "state": {}
     },
     "458e01c99c774e97819a1b059331fe19": {
      "model_module": "@jupyter-widgets/base",
      "model_module_version": "1.2.0",
      "model_name": "LayoutModel",
      "state": {}
     },
     "45fa5719bab44fe6ba063bc306bd08e9": {
      "model_module": "@jupyter-widgets/controls",
      "model_module_version": "1.5.0",
      "model_name": "ProgressStyleModel",
      "state": {
       "description_width": ""
      }
     },
     "4fce8ad0578f40deb84025ac6ca19aaf": {
      "model_module": "@jupyter-widgets/controls",
      "model_module_version": "1.5.0",
      "model_name": "HTMLModel",
      "state": {
       "layout": "IPY_MODEL_6262083009e64997bb874806cb8d5ff1",
       "style": "IPY_MODEL_c26cd20192164a47b7e77555b9099f91",
       "value": "Validation DataLoader 0: 100%"
      }
     },
     "5984e9b03e7f46e49afbbcf28c251d12": {
      "model_module": "@jupyter-widgets/base",
      "model_module_version": "1.2.0",
      "model_name": "LayoutModel",
      "state": {
       "display": "inline-flex",
       "flex_flow": "row wrap",
       "width": "100%"
      }
     },
     "5ac37b47cf0b4b0a979f14e4cefb88d9": {
      "model_module": "@jupyter-widgets/base",
      "model_module_version": "1.2.0",
      "model_name": "LayoutModel",
      "state": {
       "flex": "2"
      }
     },
     "6249116ccf7b47efa9a32846687ee4db": {
      "model_module": "@jupyter-widgets/controls",
      "model_module_version": "1.5.0",
      "model_name": "DescriptionStyleModel",
      "state": {
       "description_width": ""
      }
     },
     "6262083009e64997bb874806cb8d5ff1": {
      "model_module": "@jupyter-widgets/base",
      "model_module_version": "1.2.0",
      "model_name": "LayoutModel",
      "state": {}
     },
     "6336eed810354603b14aa205d7818c83": {
      "model_module": "@jupyter-widgets/base",
      "model_module_version": "1.2.0",
      "model_name": "LayoutModel",
      "state": {
       "flex": "2"
      }
     },
     "641195006cdb46c99b83fefddbb49df8": {
      "model_module": "@jupyter-widgets/controls",
      "model_module_version": "1.5.0",
      "model_name": "ProgressStyleModel",
      "state": {
       "description_width": ""
      }
     },
     "695e5c3f1e304e2f9be4e1f94e47ca7c": {
      "model_module": "@jupyter-widgets/controls",
      "model_module_version": "1.5.0",
      "model_name": "HTMLModel",
      "state": {
       "layout": "IPY_MODEL_cdf7f8281fc6443cae55a64f23ae1df3",
       "style": "IPY_MODEL_8644b04135af4e96b7e14cd13307533e",
       "value": "Validation DataLoader 0: 100%"
      }
     },
     "77b30001bc004ea283101f1d7eb52ff5": {
      "model_module": "@jupyter-widgets/controls",
      "model_module_version": "1.5.0",
      "model_name": "HTMLModel",
      "state": {
       "layout": "IPY_MODEL_458e01c99c774e97819a1b059331fe19",
       "style": "IPY_MODEL_bda5c0f3ad1b4911a64b09500d25031b",
       "value": " 2/2 [00:00&lt;00:00,  8.27it/s]"
      }
     },
     "7b161c46fad54626ac3f1a155061bb74": {
      "model_module": "@jupyter-widgets/controls",
      "model_module_version": "1.5.0",
      "model_name": "DescriptionStyleModel",
      "state": {
       "description_width": ""
      }
     },
     "8644b04135af4e96b7e14cd13307533e": {
      "model_module": "@jupyter-widgets/controls",
      "model_module_version": "1.5.0",
      "model_name": "DescriptionStyleModel",
      "state": {
       "description_width": ""
      }
     },
     "8f6f28634c154ab19c955c988b6aec6c": {
      "model_module": "@jupyter-widgets/controls",
      "model_module_version": "1.5.0",
      "model_name": "HBoxModel",
      "state": {
       "children": [
        "IPY_MODEL_37219fe7a9cb4ca4bcd31d8fcc6d8aea",
        "IPY_MODEL_aa380d094e744c53a065e8160e1e967b",
        "IPY_MODEL_9d9adf6f543c48078dc8b28f8e3c3e8b"
       ],
       "layout": "IPY_MODEL_5984e9b03e7f46e49afbbcf28c251d12"
      }
     },
     "942dfff52f9a4f0eb6eb904b5be3dc7a": {
      "model_module": "@jupyter-widgets/controls",
      "model_module_version": "1.5.0",
      "model_name": "ProgressStyleModel",
      "state": {
       "description_width": ""
      }
     },
     "9bb7b3fe5486434dbde62395234a56d6": {
      "model_module": "@jupyter-widgets/controls",
      "model_module_version": "1.5.0",
      "model_name": "DescriptionStyleModel",
      "state": {
       "description_width": ""
      }
     },
     "9d9adf6f543c48078dc8b28f8e3c3e8b": {
      "model_module": "@jupyter-widgets/controls",
      "model_module_version": "1.5.0",
      "model_name": "HTMLModel",
      "state": {
       "layout": "IPY_MODEL_4433ff356e684bbb9299a47601d18704",
       "style": "IPY_MODEL_febd6291afca4098aa6c392fea4bf423",
       "value": " 2/77 [00:00&lt;00:20,  3.62it/s, loss=0.326, v_num=H-70]"
      }
     },
     "aa380d094e744c53a065e8160e1e967b": {
      "model_module": "@jupyter-widgets/controls",
      "model_module_version": "1.5.0",
      "model_name": "FloatProgressModel",
      "state": {
       "layout": "IPY_MODEL_5ac37b47cf0b4b0a979f14e4cefb88d9",
       "max": 77,
       "style": "IPY_MODEL_641195006cdb46c99b83fefddbb49df8",
       "value": 2
      }
     },
     "aaada7e44458448685c7ff4e62a26db5": {
      "model_module": "@jupyter-widgets/base",
      "model_module_version": "1.2.0",
      "model_name": "LayoutModel",
      "state": {
       "display": "inline-flex",
       "flex_flow": "row wrap",
       "width": "100%"
      }
     },
     "b77be801e5634002bc209d7f3d8391c6": {
      "model_module": "@jupyter-widgets/controls",
      "model_module_version": "1.5.0",
      "model_name": "HTMLModel",
      "state": {
       "layout": "IPY_MODEL_e5c456fe5cb04f7a9ce2aeb2568069b2",
       "style": "IPY_MODEL_7b161c46fad54626ac3f1a155061bb74",
       "value": " 16/16 [00:01&lt;00:00,  9.25it/s]"
      }
     },
     "b7c66ad6ed084b2e8c049c8d9bfe47c7": {
      "model_module": "@jupyter-widgets/controls",
      "model_module_version": "1.5.0",
      "model_name": "ProgressStyleModel",
      "state": {
       "description_width": ""
      }
     },
     "b911fd0b33c84275aaefdf169192887c": {
      "model_module": "@jupyter-widgets/controls",
      "model_module_version": "1.5.0",
      "model_name": "HTMLModel",
      "state": {
       "layout": "IPY_MODEL_d1a2fe2478c24870ae53ff5b524262d3",
       "style": "IPY_MODEL_12394342594d4c7d883d21253889901e",
       "value": " 16/16 [00:02&lt;00:00,  6.97it/s]"
      }
     },
     "bda5c0f3ad1b4911a64b09500d25031b": {
      "model_module": "@jupyter-widgets/controls",
      "model_module_version": "1.5.0",
      "model_name": "DescriptionStyleModel",
      "state": {
       "description_width": ""
      }
     },
     "c26cd20192164a47b7e77555b9099f91": {
      "model_module": "@jupyter-widgets/controls",
      "model_module_version": "1.5.0",
      "model_name": "DescriptionStyleModel",
      "state": {
       "description_width": ""
      }
     },
     "cdf7f8281fc6443cae55a64f23ae1df3": {
      "model_module": "@jupyter-widgets/base",
      "model_module_version": "1.2.0",
      "model_name": "LayoutModel",
      "state": {}
     },
     "d1416cd55d44409c89628c1e8e20f7e5": {
      "model_module": "@jupyter-widgets/base",
      "model_module_version": "1.2.0",
      "model_name": "LayoutModel",
      "state": {}
     },
     "d1a2fe2478c24870ae53ff5b524262d3": {
      "model_module": "@jupyter-widgets/base",
      "model_module_version": "1.2.0",
      "model_name": "LayoutModel",
      "state": {}
     },
     "d58f10e8885d4e82b548eebef8c5137b": {
      "model_module": "@jupyter-widgets/controls",
      "model_module_version": "1.5.0",
      "model_name": "FloatProgressModel",
      "state": {
       "layout": "IPY_MODEL_30526a363bcc440caa3b4466a5d84381",
       "max": 16,
       "style": "IPY_MODEL_942dfff52f9a4f0eb6eb904b5be3dc7a",
       "value": 16
      }
     },
     "d7fa50b003d8450aac98175cd77de92a": {
      "model_module": "@jupyter-widgets/base",
      "model_module_version": "1.2.0",
      "model_name": "LayoutModel",
      "state": {
       "display": "inline-flex",
       "flex_flow": "row wrap",
       "width": "100%"
      }
     },
     "d9da2de95c1247cba7ad36e9a5c1ea22": {
      "model_module": "@jupyter-widgets/controls",
      "model_module_version": "1.5.0",
      "model_name": "FloatProgressModel",
      "state": {
       "layout": "IPY_MODEL_6336eed810354603b14aa205d7818c83",
       "max": 2,
       "style": "IPY_MODEL_45fa5719bab44fe6ba063bc306bd08e9",
       "value": 2
      }
     },
     "ddf4396938c24eeca0b23d18c6857af0": {
      "model_module": "@jupyter-widgets/base",
      "model_module_version": "1.2.0",
      "model_name": "LayoutModel",
      "state": {}
     },
     "e5c456fe5cb04f7a9ce2aeb2568069b2": {
      "model_module": "@jupyter-widgets/base",
      "model_module_version": "1.2.0",
      "model_name": "LayoutModel",
      "state": {}
     },
     "feaee6d959734d91ae2af5c3cc150e12": {
      "model_module": "@jupyter-widgets/controls",
      "model_module_version": "1.5.0",
      "model_name": "HTMLModel",
      "state": {
       "layout": "IPY_MODEL_ddf4396938c24eeca0b23d18c6857af0",
       "style": "IPY_MODEL_9bb7b3fe5486434dbde62395234a56d6",
       "value": "Sanity Checking DataLoader 0: 100%"
      }
     },
     "febd6291afca4098aa6c392fea4bf423": {
      "model_module": "@jupyter-widgets/controls",
      "model_module_version": "1.5.0",
      "model_name": "DescriptionStyleModel",
      "state": {
       "description_width": ""
      }
     }
    },
    "version_major": 2,
    "version_minor": 0
   }
  }
 },
 "nbformat": 4,
 "nbformat_minor": 5
}
