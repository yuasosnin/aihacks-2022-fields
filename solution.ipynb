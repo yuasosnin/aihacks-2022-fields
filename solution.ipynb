{
 "cells": [
  {
   "cell_type": "code",
   "execution_count": 1,
   "id": "858191ed-c61f-4dc7-8393-1b7bfeb7a9f4",
   "metadata": {},
   "outputs": [],
   "source": [
    "%load_ext autoreload\n",
    "%autoreload 2"
   ]
  },
  {
   "cell_type": "code",
   "execution_count": 2,
   "id": "58d028dc-e7aa-4518-b85b-5d7bebc2c4e1",
   "metadata": {},
   "outputs": [],
   "source": [
    "import os, datetime\n",
    "from tqdm.notebook import tqdm\n",
    "\n",
    "import numpy as np\n",
    "import pandas as pd\n",
    "import geopandas as gpd\n",
    "import geojson\n",
    "import shapely\n",
    "import shapely.geometry\n",
    "from sklearn.metrics import recall_score"
   ]
  },
  {
   "cell_type": "code",
   "execution_count": 3,
   "id": "e33c8d81-842a-44fd-ba57-38ddb3a53fd4",
   "metadata": {},
   "outputs": [],
   "source": [
    "import matplotlib.pyplot as plt\n",
    "import contextily"
   ]
  },
  {
   "cell_type": "code",
   "execution_count": 4,
   "id": "01eadf82-118f-4952-be17-356dfb5312b8",
   "metadata": {},
   "outputs": [],
   "source": [
    "from src import *"
   ]
  },
  {
   "cell_type": "code",
   "execution_count": 5,
   "id": "62bc6036-ad3d-4f28-be59-f9b90b307d16",
   "metadata": {},
   "outputs": [],
   "source": [
    "import warnings\n",
    "warnings.filterwarnings('ignore')"
   ]
  },
  {
   "cell_type": "code",
   "execution_count": 6,
   "id": "1c5d6607-d4dd-4515-8457-5b3438e5995e",
   "metadata": {},
   "outputs": [],
   "source": [
    "data = read_data('data/train_dataset_train_2.csv')\n",
    "data_test = read_data('data/test_dataset_test_2.csv')\n",
    "data_ts, data_id = process_data(data)\n",
    "data_ts_test, data_id_test = process_data(data_test)"
   ]
  },
  {
   "cell_type": "code",
   "execution_count": 7,
   "id": "5b0ce5b3-6709-4e7f-aec7-76b15471cd53",
   "metadata": {},
   "outputs": [],
   "source": [
    "data_ts_modis = pd.read_csv('data/train_dataset_modis.csv').fillna(0.0)\n",
    "data_ts_modis_test = pd.read_csv('data/test_dataset_modis.csv').fillna(0.0)\n",
    "data_ts_modis_2020 = pd.read_csv('data/train_dataset_modis_2020.csv').fillna(0.0)\n",
    "data_ts_modis_test_2020 = pd.read_csv('data/test_dataset_modis_2020.csv').fillna(0.0)"
   ]
  },
  {
   "cell_type": "code",
   "execution_count": 8,
   "id": "85adb038-104a-4838-b98d-fbc8dc2ac18c",
   "metadata": {},
   "outputs": [],
   "source": [
    "data_ts_landsat = pd.read_csv('data/train_dataset_landsat.csv').fillna(0)\n",
    "data_ts_landsat_test = pd.read_csv('data/test_dataset_landsat.csv').fillna(0)\n",
    "data_ts_landsat_2020 = pd.read_csv('data/train_dataset_landsat_2020.csv').fillna(0)\n",
    "data_ts_landsat_test_2020 = pd.read_csv('data/test_dataset_landsat_2020.csv').fillna(0)"
   ]
  },
  {
   "cell_type": "code",
   "execution_count": 9,
   "id": "a461cfa9-3161-4dc0-8752-e2b3d5db6eec",
   "metadata": {},
   "outputs": [],
   "source": [
    "data_ts_sentinel = pd.read_csv('data/train_dataset_sentinel.csv').fillna(0)\n",
    "data_ts_sentinel_test = pd.read_csv('data/test_dataset_sentinel.csv').fillna(0)\n",
    "data_ts_sentinel_2020 = pd.read_csv('data/train_dataset_sentinel_2020.csv').fillna(0)\n",
    "data_ts_sentinel_test_2020 = pd.read_csv('data/test_dataset_sentinel_2020.csv').fillna(0)"
   ]
  },
  {
   "cell_type": "code",
   "execution_count": 27,
   "id": "5b399703-54b2-44cd-9881-b8ee8f04962e",
   "metadata": {},
   "outputs": [],
   "source": [
    "SEED = 54789\n",
    "\n",
    "dataset_orig = get_dataset(data_ts, data_id, data_ts_test, data_id_test, random_state=SEED)\n",
    "\n",
    "dataset_modis = get_dataset(data_ts_modis, data_id, data_ts_modis_test, data_id_test, random_state=SEED)\n",
    "dataset_modis_2020 = get_dataset(data_ts_modis_2020, data_id, data_ts_modis_test_2020, data_id_test, random_state=SEED)\n",
    "\n",
    "dataset_landsat = get_dataset(data_ts_landsat, data_id, data_ts_landsat_test, data_id_test, random_state=SEED)\n",
    "dataset_landsat_2020 = get_dataset(data_ts_landsat_2020, data_id, data_ts_landsat_test_2020, data_id_test, random_state=SEED)\n",
    "\n",
    "dataset_sentinel = get_dataset(data_ts_sentinel, data_id, data_ts_sentinel_test, data_id_test, random_state=SEED)\n",
    "dataset_sentinel_2020 = get_dataset(data_ts_sentinel_2020, data_id, data_ts_sentinel_test_2020, data_id_test, random_state=SEED)"
   ]
  },
  {
   "cell_type": "markdown",
   "id": "b658483d-3dbd-4b0c-acd4-c955ef0d6ed0",
   "metadata": {
    "jp-MarkdownHeadingCollapsed": true,
    "tags": []
   },
   "source": [
    "# sklearn"
   ]
  },
  {
   "cell_type": "code",
   "execution_count": 245,
   "id": "f27c3642-a7be-4964-96ce-2bb8807380b4",
   "metadata": {},
   "outputs": [],
   "source": [
    "SEED = 1"
   ]
  },
  {
   "cell_type": "code",
   "execution_count": 246,
   "id": "33807179-ed57-46d1-9a4f-eff8fd4868f0",
   "metadata": {},
   "outputs": [],
   "source": [
    "from sklearn.ensemble import RandomForestClassifier, GradientBoostingClassifier"
   ]
  },
  {
   "cell_type": "code",
   "execution_count": 247,
   "id": "dcef64fb-aa0f-455d-bc41-79e55833a471",
   "metadata": {},
   "outputs": [
    {
     "data": {
      "text/plain": [
       "0.9603060360196845"
      ]
     },
     "execution_count": 247,
     "metadata": {},
     "output_type": "execute_result"
    }
   ],
   "source": [
    "rf = RandomForestClassifier(n_estimators=200, random_state=SEED, verbose=False)\n",
    "rf.fit(**dataset_orig['train'])\n",
    "preds = rf.predict(dataset_orig['val']['X'])\n",
    "recall_score(preds, dataset_orig['val']['y'], average='macro')"
   ]
  },
  {
   "cell_type": "code",
   "execution_count": 248,
   "id": "fffd98aa-7358-42b0-b434-34067a880d44",
   "metadata": {},
   "outputs": [
    {
     "data": {
      "text/plain": [
       "0.5986918472170635"
      ]
     },
     "execution_count": 248,
     "metadata": {},
     "output_type": "execute_result"
    }
   ],
   "source": [
    "rf_ = RandomForestClassifier(\n",
    "    n_estimators=200, random_state=SEED, verbose=False,\n",
    "    min_samples_leaf=1)\n",
    "rf_.fit(**dataset_modis['train'])\n",
    "preds = rf_.predict(dataset_modis['val']['X'])\n",
    "recall_score(preds, dataset_modis['val']['y'], average='macro')"
   ]
  },
  {
   "cell_type": "code",
   "execution_count": 249,
   "id": "8eb5fcc3-339c-48b7-a91c-3de4edb85a16",
   "metadata": {},
   "outputs": [
    {
     "data": {
      "text/plain": [
       "0.6953205149240029"
      ]
     },
     "execution_count": 249,
     "metadata": {},
     "output_type": "execute_result"
    }
   ],
   "source": [
    "rf_ls = RandomForestClassifier(\n",
    "    n_estimators=200, random_state=SEED, verbose=False,\n",
    "    min_samples_leaf=1)\n",
    "rf_ls.fit(**dataset_landsat['train'])\n",
    "preds = rf_ls.predict(dataset_landsat['val']['X'])\n",
    "recall_score(preds, dataset_landsat['val']['y'], average='macro')"
   ]
  },
  {
   "cell_type": "code",
   "execution_count": 250,
   "id": "cafe71f6-ebd1-44aa-8c70-038eaa2101eb",
   "metadata": {},
   "outputs": [],
   "source": [
    "preds = (\n",
    "    0.8*rf.predict_proba(dataset_orig['val']['X']) + \n",
    "    0.1*rf_.predict_proba(dataset_modis['val']['X']) +\n",
    "    0.1*rf_ls.predict_proba(dataset_landsat['val']['X'])\n",
    ").argmax(axis=1)"
   ]
  },
  {
   "cell_type": "code",
   "execution_count": 251,
   "id": "7b5dada8-a5f5-40e3-8763-20f19d8560f2",
   "metadata": {},
   "outputs": [
    {
     "data": {
      "text/plain": [
       "0.9645251067787923"
      ]
     },
     "execution_count": 251,
     "metadata": {},
     "output_type": "execute_result"
    }
   ],
   "source": [
    "recall_score(preds, dataset_modis['val']['y'], average='macro')"
   ]
  },
  {
   "cell_type": "code",
   "execution_count": 255,
   "id": "08c1fd1a-29ee-404a-a489-e6568656c32c",
   "metadata": {},
   "outputs": [
    {
     "data": {
      "text/plain": [
       "0.9638116184726355"
      ]
     },
     "execution_count": 255,
     "metadata": {},
     "output_type": "execute_result"
    }
   ],
   "source": [
    "rf = RandomForestClassifier(\n",
    "    n_estimators=200, random_state=SEED, verbose=False,\n",
    "    min_samples_leaf=1)\n",
    "rf.fit(**dataset_concat['train'])\n",
    "preds = rf.predict(dataset_concat['val']['X'])\n",
    "recall_score(preds, dataset_concat['val']['y'], average='macro')"
   ]
  },
  {
   "cell_type": "code",
   "execution_count": 256,
   "id": "018f8a3b-50b9-442d-9794-b939769a1f2a",
   "metadata": {},
   "outputs": [
    {
     "data": {
      "text/plain": [
       "0.9633086367457507"
      ]
     },
     "execution_count": 256,
     "metadata": {},
     "output_type": "execute_result"
    }
   ],
   "source": [
    "gb = GradientBoostingClassifier(n_estimators=100)\n",
    "gb.fit(**dataset_concat['train'])\n",
    "preds = gb.predict(dataset_concat['val']['X'])\n",
    "recall_score(preds, dataset_concat['val']['y'], average='macro')"
   ]
  },
  {
   "cell_type": "code",
   "execution_count": null,
   "id": "90139bb8-f413-4379-b91c-35dc9342211d",
   "metadata": {
    "tags": []
   },
   "outputs": [],
   "source": [
    "from catboost import CatBoostClassifier\n",
    "model = CatBoostClassifier(\n",
    "    iterations=500,\n",
    "    learning_rate=1,\n",
    "    # depth=10,\n",
    "    random_seed=1,\n",
    "    verbose=False\n",
    ")\n",
    "model.fit(**dataset_concat['train'])\n",
    "preds = model.predict(dataset_concat['val']['X'])\n",
    "recall_score(preds, dataset_concat['val']['y'], average='macro')"
   ]
  },
  {
   "cell_type": "code",
   "execution_count": 186,
   "id": "5e2a551f-4503-4131-93a5-ae120465a3c2",
   "metadata": {},
   "outputs": [
    {
     "data": {
      "text/plain": [
       "0.6443026399804246"
      ]
     },
     "execution_count": 186,
     "metadata": {},
     "output_type": "execute_result"
    }
   ],
   "source": [
    "recall_score(preds, dataset_orig['val']['y'], average='macro')"
   ]
  },
  {
   "cell_type": "code",
   "execution_count": 15,
   "id": "b712468a-34d1-4681-a047-ca29bc527eef",
   "metadata": {},
   "outputs": [],
   "source": [
    "from sktime.classification.distance_based import KNeighborsTimeSeriesClassifier"
   ]
  },
  {
   "cell_type": "code",
   "execution_count": 16,
   "id": "bc75ac28-b564-4b87-a446-12cdd4fb37dc",
   "metadata": {},
   "outputs": [
    {
     "data": {
      "text/plain": [
       "0.771540088080925"
      ]
     },
     "execution_count": 16,
     "metadata": {},
     "output_type": "execute_result"
    }
   ],
   "source": [
    "model = KNeighborsTimeSeriesClassifier(n_neighbors=10)\n",
    "model.fit(dataset_orig['train']['X'].values, dataset_orig['train']['y'])\n",
    "preds = model.predict(dataset_orig['val']['X'].values)\n",
    "recall_score(preds, dataset_orig['val']['y'], average='macro')"
   ]
  },
  {
   "cell_type": "code",
   "execution_count": 17,
   "id": "a10c05e3-1226-4e68-95b0-af6c01e0c404",
   "metadata": {},
   "outputs": [
    {
     "data": {
      "text/plain": [
       "0.792783539714341"
      ]
     },
     "execution_count": 17,
     "metadata": {},
     "output_type": "execute_result"
    }
   ],
   "source": [
    "model = KNeighborsTimeSeriesClassifier(n_neighbors=20)\n",
    "model.fit(dataset_orig['train']['X'].values, dataset_orig['train']['y'])\n",
    "preds = model.predict(dataset_orig['val']['X'].values)\n",
    "recall_score(preds, dataset_orig['val']['y'], average='macro')"
   ]
  },
  {
   "cell_type": "code",
   "execution_count": 23,
   "id": "724711d0-8be7-41cb-8370-8ed6dac4683c",
   "metadata": {},
   "outputs": [
    {
     "data": {
      "text/plain": [
       "0.7834449463857383"
      ]
     },
     "execution_count": 23,
     "metadata": {},
     "output_type": "execute_result"
    }
   ],
   "source": [
    "model = KNeighborsTimeSeriesClassifier(n_neighbors=100)\n",
    "model.fit(dataset_orig['train']['X'].values, dataset_orig['train']['y'])\n",
    "preds = model.predict(dataset_orig['val']['X'].values)\n",
    "recall_score(preds, dataset_orig['val']['y'], average='macro')"
   ]
  },
  {
   "cell_type": "markdown",
   "id": "7d8ed949-3881-4af3-84f6-24a4082f88b7",
   "metadata": {
    "tags": []
   },
   "source": [
    "# neural"
   ]
  },
  {
   "cell_type": "code",
   "execution_count": 28,
   "id": "fc8ed51f-c40e-4a21-bed4-45f7ac03fbe2",
   "metadata": {},
   "outputs": [],
   "source": [
    "import torch\n",
    "import torch.nn as nn\n",
    "import torch.nn.functional as F\n",
    "from torch.utils.data import random_split\n",
    "import pytorch_lightning as pl\n",
    "from pytorch_lightning.callbacks import LearningRateMonitor, ModelCheckpoint\n",
    "from pytorch_lightning.loggers import NeptuneLogger\n",
    "from src.printer import PrintMetricsCallback"
   ]
  },
  {
   "cell_type": "code",
   "execution_count": 29,
   "id": "803a48d6-2656-4893-a907-cbe7c5817af1",
   "metadata": {},
   "outputs": [],
   "source": [
    "with open('.api_key') as f:\n",
    "    API_KEY = f.read()"
   ]
  },
  {
   "cell_type": "code",
   "execution_count": 30,
   "id": "8882d040-9d36-48d1-8f69-106275a51bf4",
   "metadata": {},
   "outputs": [],
   "source": [
    "from src import StackRNN, StackTransformer, StackInception, StackDataset, StackDataModule"
   ]
  },
  {
   "cell_type": "code",
   "execution_count": 31,
   "id": "e748525e-1713-4ee9-ba72-fdcb085d9918",
   "metadata": {},
   "outputs": [],
   "source": [
    "train_dataset = StackDataset(\n",
    "    dataset_orig['train']['X'], \n",
    "    dataset_modis['train']['X'], \n",
    "    dataset_modis_2020['train']['X'], \n",
    "    dataset_landsat['train']['X'], \n",
    "    dataset_landsat_2020['train']['X'], \n",
    "    dataset_sentinel['train']['X'], \n",
    "    dataset_sentinel_2020['train']['X'], \n",
    "    y=dataset_orig['train']['y'])"
   ]
  },
  {
   "cell_type": "code",
   "execution_count": 32,
   "id": "0d9b6b33-94e5-4ace-9109-969f7e492a6a",
   "metadata": {},
   "outputs": [],
   "source": [
    "val_dataset = StackDataset(\n",
    "    dataset_orig['val']['X'], \n",
    "    dataset_modis['val']['X'], \n",
    "    dataset_modis_2020['val']['X'], \n",
    "    dataset_landsat['val']['X'],\n",
    "    dataset_landsat_2020['val']['X'],\n",
    "    dataset_sentinel['val']['X'], \n",
    "    dataset_sentinel_2020['train']['X'], \n",
    "    y=dataset_orig['val']['y'])"
   ]
  },
  {
   "cell_type": "code",
   "execution_count": 33,
   "id": "98df8737-c44e-4958-b062-0bbfac7310c1",
   "metadata": {},
   "outputs": [],
   "source": [
    "test_dataset = StackDataset(\n",
    "    dataset_orig['test']['X'], \n",
    "    dataset_modis['test']['X'], \n",
    "    dataset_modis_2020['test']['X'], \n",
    "    dataset_landsat['test']['X'],\n",
    "    dataset_landsat_2020['test']['X'],\n",
    "    dataset_sentinel['test']['X'], \n",
    "    dataset_sentinel_2020['test']['X'], \n",
    "    y=dataset_orig['test']['y'])"
   ]
  },
  {
   "cell_type": "code",
   "execution_count": 34,
   "id": "96265e83-ae82-4f26-8a91-f0ffae43d071",
   "metadata": {},
   "outputs": [],
   "source": [
    "pred_dataset = StackDataset(\n",
    "    dataset_orig['pred']['X'], \n",
    "    dataset_modis['pred']['X'], \n",
    "    dataset_modis_2020['pred']['X'], \n",
    "    dataset_landsat['pred']['X'], \n",
    "    dataset_landsat_2020['pred']['X'], \n",
    "    dataset_sentinel['pred']['X'],\n",
    "    dataset_sentinel_2020['pred']['X'])"
   ]
  },
  {
   "cell_type": "markdown",
   "id": "00b49fc7-7bea-46c5-ae63-2ddd22958831",
   "metadata": {
    "jp-MarkdownHeadingCollapsed": true,
    "tags": []
   },
   "source": [
    "### RNN"
   ]
  },
  {
   "cell_type": "code",
   "execution_count": 105,
   "id": "59119c40-ad26-4174-9e4f-9472a733af81",
   "metadata": {},
   "outputs": [],
   "source": [
    "best_checkpointer = ModelCheckpoint(save_top_k=1, save_last=True, monitor='valid_loss', filename='best')\n",
    "neptune_logger = NeptuneLogger(\n",
    "    api_key=API_KEY,\n",
    "    project='fant0md/aihacks-2022-fields')\n",
    "lr_monitor = LearningRateMonitor(logging_interval ='epoch')"
   ]
  },
  {
   "cell_type": "code",
   "execution_count": 113,
   "id": "a47bf216-508b-419c-acae-e4143da2f926",
   "metadata": {},
   "outputs": [
    {
     "name": "stderr",
     "output_type": "stream",
     "text": [
      "GPU available: False, used: False\n",
      "TPU available: False, using: 0 TPU cores\n",
      "IPU available: False, using: 0 IPUs\n",
      "HPU available: False, using: 0 HPUs\n"
     ]
    }
   ],
   "source": [
    "trainer = pl.Trainer(\n",
    "    log_every_n_steps=1, \n",
    "    logger=neptune_logger, \n",
    "    callbacks=[best_checkpointer, lr_monitor], \n",
    "    max_epochs=50, \n",
    "    accelerator='auto',\n",
    "    devices=1)"
   ]
  },
  {
   "cell_type": "code",
   "execution_count": 107,
   "id": "a70dd4e3-3bf4-4eac-947b-0afd4e93560a",
   "metadata": {},
   "outputs": [],
   "source": [
    "pl_model = StackRNN(hidden_size=64, layers=2, dropout=0.5, lr=0.01, wd=0, gamma=0.9)\n",
    "pl_data = StackDataModule(train_dataset, val_dataset, test_dataset, batch_size=64)"
   ]
  },
  {
   "cell_type": "code",
   "execution_count": 108,
   "id": "6822c7ec-ddaf-4e50-a65d-ebec5f7465e5",
   "metadata": {
    "collapsed": true,
    "jupyter": {
     "outputs_hidden": true
    },
    "tags": []
   },
   "outputs": [
    {
     "name": "stderr",
     "output_type": "stream",
     "text": [
      "\n",
      "  | Name         | Type             | Params\n",
      "--------------------------------------------------\n",
      "0 | rnn1         | GRU              | 100 K \n",
      "1 | rnn2         | GRU              | 100 K \n",
      "2 | rnn3         | GRU              | 100 K \n",
      "3 | fc           | Sequential       | 67.6 K\n",
      "4 | act          | ReLU             | 0     \n",
      "5 | criterion    | CrossEntropyLoss | 0     \n",
      "6 | train_recall | Recall           | 0     \n",
      "7 | valid_recall | Recall           | 0     \n",
      "--------------------------------------------------\n",
      "368 K     Trainable params\n",
      "0         Non-trainable params\n",
      "368 K     Total params\n",
      "1.473     Total estimated model params size (MB)\n"
     ]
    },
    {
     "name": "stdout",
     "output_type": "stream",
     "text": [
      "https://app.neptune.ai/fant0md/aihacks-2022-fields/e/AIH-50\n",
      "Remember to stop your run once you’ve finished logging your metadata (https://docs.neptune.ai/api-reference/run#.stop). It will be stopped automatically only when the notebook kernel/interactive console is terminated.\n"
     ]
    },
    {
     "data": {
      "application/vnd.jupyter.widget-view+json": {
       "model_id": "",
       "version_major": 2,
       "version_minor": 0
      },
      "text/plain": [
       "Sanity Checking: 0it [00:00, ?it/s]"
      ]
     },
     "metadata": {},
     "output_type": "display_data"
    },
    {
     "data": {
      "application/vnd.jupyter.widget-view+json": {
       "model_id": "2b8c236bda264f28a2cad2586d523129",
       "version_major": 2,
       "version_minor": 0
      },
      "text/plain": [
       "Training: 0it [00:00, ?it/s]"
      ]
     },
     "metadata": {},
     "output_type": "display_data"
    },
    {
     "data": {
      "application/vnd.jupyter.widget-view+json": {
       "model_id": "",
       "version_major": 2,
       "version_minor": 0
      },
      "text/plain": [
       "Validation: 0it [00:00, ?it/s]"
      ]
     },
     "metadata": {},
     "output_type": "display_data"
    },
    {
     "data": {
      "application/vnd.jupyter.widget-view+json": {
       "model_id": "",
       "version_major": 2,
       "version_minor": 0
      },
      "text/plain": [
       "Validation: 0it [00:00, ?it/s]"
      ]
     },
     "metadata": {},
     "output_type": "display_data"
    },
    {
     "data": {
      "application/vnd.jupyter.widget-view+json": {
       "model_id": "",
       "version_major": 2,
       "version_minor": 0
      },
      "text/plain": [
       "Validation: 0it [00:00, ?it/s]"
      ]
     },
     "metadata": {},
     "output_type": "display_data"
    },
    {
     "data": {
      "application/vnd.jupyter.widget-view+json": {
       "model_id": "",
       "version_major": 2,
       "version_minor": 0
      },
      "text/plain": [
       "Validation: 0it [00:00, ?it/s]"
      ]
     },
     "metadata": {},
     "output_type": "display_data"
    },
    {
     "data": {
      "application/vnd.jupyter.widget-view+json": {
       "model_id": "",
       "version_major": 2,
       "version_minor": 0
      },
      "text/plain": [
       "Validation: 0it [00:00, ?it/s]"
      ]
     },
     "metadata": {},
     "output_type": "display_data"
    },
    {
     "data": {
      "application/vnd.jupyter.widget-view+json": {
       "model_id": "",
       "version_major": 2,
       "version_minor": 0
      },
      "text/plain": [
       "Validation: 0it [00:00, ?it/s]"
      ]
     },
     "metadata": {},
     "output_type": "display_data"
    },
    {
     "data": {
      "application/vnd.jupyter.widget-view+json": {
       "model_id": "",
       "version_major": 2,
       "version_minor": 0
      },
      "text/plain": [
       "Validation: 0it [00:00, ?it/s]"
      ]
     },
     "metadata": {},
     "output_type": "display_data"
    },
    {
     "data": {
      "application/vnd.jupyter.widget-view+json": {
       "model_id": "",
       "version_major": 2,
       "version_minor": 0
      },
      "text/plain": [
       "Validation: 0it [00:00, ?it/s]"
      ]
     },
     "metadata": {},
     "output_type": "display_data"
    },
    {
     "data": {
      "application/vnd.jupyter.widget-view+json": {
       "model_id": "",
       "version_major": 2,
       "version_minor": 0
      },
      "text/plain": [
       "Validation: 0it [00:00, ?it/s]"
      ]
     },
     "metadata": {},
     "output_type": "display_data"
    },
    {
     "data": {
      "application/vnd.jupyter.widget-view+json": {
       "model_id": "",
       "version_major": 2,
       "version_minor": 0
      },
      "text/plain": [
       "Validation: 0it [00:00, ?it/s]"
      ]
     },
     "metadata": {},
     "output_type": "display_data"
    },
    {
     "data": {
      "application/vnd.jupyter.widget-view+json": {
       "model_id": "",
       "version_major": 2,
       "version_minor": 0
      },
      "text/plain": [
       "Validation: 0it [00:00, ?it/s]"
      ]
     },
     "metadata": {},
     "output_type": "display_data"
    },
    {
     "data": {
      "application/vnd.jupyter.widget-view+json": {
       "model_id": "",
       "version_major": 2,
       "version_minor": 0
      },
      "text/plain": [
       "Validation: 0it [00:00, ?it/s]"
      ]
     },
     "metadata": {},
     "output_type": "display_data"
    },
    {
     "data": {
      "application/vnd.jupyter.widget-view+json": {
       "model_id": "",
       "version_major": 2,
       "version_minor": 0
      },
      "text/plain": [
       "Validation: 0it [00:00, ?it/s]"
      ]
     },
     "metadata": {},
     "output_type": "display_data"
    },
    {
     "data": {
      "application/vnd.jupyter.widget-view+json": {
       "model_id": "",
       "version_major": 2,
       "version_minor": 0
      },
      "text/plain": [
       "Validation: 0it [00:00, ?it/s]"
      ]
     },
     "metadata": {},
     "output_type": "display_data"
    },
    {
     "data": {
      "application/vnd.jupyter.widget-view+json": {
       "model_id": "",
       "version_major": 2,
       "version_minor": 0
      },
      "text/plain": [
       "Validation: 0it [00:00, ?it/s]"
      ]
     },
     "metadata": {},
     "output_type": "display_data"
    },
    {
     "data": {
      "application/vnd.jupyter.widget-view+json": {
       "model_id": "",
       "version_major": 2,
       "version_minor": 0
      },
      "text/plain": [
       "Validation: 0it [00:00, ?it/s]"
      ]
     },
     "metadata": {},
     "output_type": "display_data"
    },
    {
     "data": {
      "application/vnd.jupyter.widget-view+json": {
       "model_id": "",
       "version_major": 2,
       "version_minor": 0
      },
      "text/plain": [
       "Validation: 0it [00:00, ?it/s]"
      ]
     },
     "metadata": {},
     "output_type": "display_data"
    },
    {
     "data": {
      "application/vnd.jupyter.widget-view+json": {
       "model_id": "",
       "version_major": 2,
       "version_minor": 0
      },
      "text/plain": [
       "Validation: 0it [00:00, ?it/s]"
      ]
     },
     "metadata": {},
     "output_type": "display_data"
    },
    {
     "data": {
      "application/vnd.jupyter.widget-view+json": {
       "model_id": "",
       "version_major": 2,
       "version_minor": 0
      },
      "text/plain": [
       "Validation: 0it [00:00, ?it/s]"
      ]
     },
     "metadata": {},
     "output_type": "display_data"
    },
    {
     "data": {
      "application/vnd.jupyter.widget-view+json": {
       "model_id": "",
       "version_major": 2,
       "version_minor": 0
      },
      "text/plain": [
       "Validation: 0it [00:00, ?it/s]"
      ]
     },
     "metadata": {},
     "output_type": "display_data"
    },
    {
     "data": {
      "application/vnd.jupyter.widget-view+json": {
       "model_id": "",
       "version_major": 2,
       "version_minor": 0
      },
      "text/plain": [
       "Validation: 0it [00:00, ?it/s]"
      ]
     },
     "metadata": {},
     "output_type": "display_data"
    },
    {
     "data": {
      "application/vnd.jupyter.widget-view+json": {
       "model_id": "",
       "version_major": 2,
       "version_minor": 0
      },
      "text/plain": [
       "Validation: 0it [00:00, ?it/s]"
      ]
     },
     "metadata": {},
     "output_type": "display_data"
    },
    {
     "data": {
      "application/vnd.jupyter.widget-view+json": {
       "model_id": "",
       "version_major": 2,
       "version_minor": 0
      },
      "text/plain": [
       "Validation: 0it [00:00, ?it/s]"
      ]
     },
     "metadata": {},
     "output_type": "display_data"
    },
    {
     "data": {
      "application/vnd.jupyter.widget-view+json": {
       "model_id": "",
       "version_major": 2,
       "version_minor": 0
      },
      "text/plain": [
       "Validation: 0it [00:00, ?it/s]"
      ]
     },
     "metadata": {},
     "output_type": "display_data"
    },
    {
     "data": {
      "application/vnd.jupyter.widget-view+json": {
       "model_id": "",
       "version_major": 2,
       "version_minor": 0
      },
      "text/plain": [
       "Validation: 0it [00:00, ?it/s]"
      ]
     },
     "metadata": {},
     "output_type": "display_data"
    },
    {
     "data": {
      "application/vnd.jupyter.widget-view+json": {
       "model_id": "",
       "version_major": 2,
       "version_minor": 0
      },
      "text/plain": [
       "Validation: 0it [00:00, ?it/s]"
      ]
     },
     "metadata": {},
     "output_type": "display_data"
    },
    {
     "data": {
      "application/vnd.jupyter.widget-view+json": {
       "model_id": "",
       "version_major": 2,
       "version_minor": 0
      },
      "text/plain": [
       "Validation: 0it [00:00, ?it/s]"
      ]
     },
     "metadata": {},
     "output_type": "display_data"
    },
    {
     "data": {
      "application/vnd.jupyter.widget-view+json": {
       "model_id": "",
       "version_major": 2,
       "version_minor": 0
      },
      "text/plain": [
       "Validation: 0it [00:00, ?it/s]"
      ]
     },
     "metadata": {},
     "output_type": "display_data"
    }
   ],
   "source": [
    "trainer.fit(pl_model, pl_data)"
   ]
  },
  {
   "cell_type": "markdown",
   "id": "620d4e0c-af0b-4048-81a2-2de6df255e66",
   "metadata": {
    "tags": []
   },
   "source": [
    "### Transformer"
   ]
  },
  {
   "cell_type": "code",
   "execution_count": 71,
   "id": "0ddf08e7-031f-4e52-8357-5f81c2a155c6",
   "metadata": {},
   "outputs": [
    {
     "name": "stderr",
     "output_type": "stream",
     "text": [
      "GPU available: False, used: False\n",
      "TPU available: False, using: 0 TPU cores\n",
      "IPU available: False, using: 0 IPUs\n",
      "HPU available: False, using: 0 HPUs\n"
     ]
    }
   ],
   "source": [
    "best_checkpointer = ModelCheckpoint(save_top_k=1, save_last=True, monitor='valid_recall', mode='max', filename='best')\n",
    "neptune_logger = NeptuneLogger(\n",
    "    api_key=API_KEY,\n",
    "    project='fant0md/aihacks-2022-fields')\n",
    "lr_monitor = LearningRateMonitor(logging_interval='epoch')\n",
    "printer = PrintMetricsCallback(metrics=['valid_recall'])\n",
    "\n",
    "trainer = pl.Trainer(\n",
    "    log_every_n_steps=1, \n",
    "    logger=neptune_logger, \n",
    "    callbacks=[best_checkpointer, lr_monitor, printer], \n",
    "    max_epochs=50, \n",
    "    accelerator='auto',\n",
    "    devices=1)"
   ]
  },
  {
   "cell_type": "code",
   "execution_count": 72,
   "id": "3ed5e414-f671-4b18-bd9b-368fac3013d0",
   "metadata": {},
   "outputs": [],
   "source": [
    "pl_model = StackTransformer(\n",
    "    seq_lens=[70, 139, 139, 18, 17, 55, 55],\n",
    "    d_model=64, \n",
    "    nhead=2, \n",
    "    dim_feedforward=64, \n",
    "    d_head=64, \n",
    "    num_layers=2, \n",
    "    num_head_layers=4, \n",
    "    dropout=0.2, \n",
    "    fc_dropout=0,\n",
    "    activation='relu', \n",
    "    reduction='avg', \n",
    "    lr=0.0001, wd=0, \n",
    "    # T_0=5, T_mult=1,\n",
    "    gamma=0.99\n",
    ")\n",
    "pl_data = StackDataModule(train_dataset, val_dataset, test_dataset, pred_dataset, batch_size=64)"
   ]
  },
  {
   "cell_type": "code",
   "execution_count": null,
   "id": "bfacbb49-588d-434e-910b-7759d6c48e44",
   "metadata": {
    "tags": []
   },
   "outputs": [
    {
     "name": "stderr",
     "output_type": "stream",
     "text": [
      "\n",
      "  | Name         | Type             | Params\n",
      "--------------------------------------------------\n",
      "0 | models       | ModuleList       | 2.4 M \n",
      "1 | pool         | AvgReduce        | 0     \n",
      "2 | act          | ReLU             | 0     \n",
      "3 | head         | MLP              | 17.1 K\n",
      "4 | criterion    | CrossEntropyLoss | 0     \n",
      "5 | train_recall | Recall           | 0     \n",
      "6 | valid_recall | Recall           | 0     \n",
      "--------------------------------------------------\n",
      "2.4 M     Trainable params\n",
      "0         Non-trainable params\n",
      "2.4 M     Total params\n",
      "9.675     Total estimated model params size (MB)\n"
     ]
    },
    {
     "name": "stdout",
     "output_type": "stream",
     "text": [
      "https://app.neptune.ai/fant0md/aihacks-2022-fields/e/AIH-140\n",
      "Remember to stop your run once you’ve finished logging your metadata (https://docs.neptune.ai/api-reference/run#.stop). It will be stopped automatically only when the notebook kernel/interactive console is terminated.\n"
     ]
    },
    {
     "data": {
      "application/vnd.jupyter.widget-view+json": {
       "model_id": "",
       "version_major": 2,
       "version_minor": 0
      },
      "text/plain": [
       "Sanity Checking: 0it [00:00, ?it/s]"
      ]
     },
     "metadata": {},
     "output_type": "display_data"
    },
    {
     "name": "stdout",
     "output_type": "stream",
     "text": [
      "epoch: -1\n",
      "valid_recall: 0.1640625\n",
      "--------------------------------------------------------------------------------\n"
     ]
    },
    {
     "data": {
      "application/vnd.jupyter.widget-view+json": {
       "model_id": "7939407054c84f56bed8d34c3be39dc2",
       "version_major": 2,
       "version_minor": 0
      },
      "text/plain": [
       "Training: 0it [00:00, ?it/s]"
      ]
     },
     "metadata": {},
     "output_type": "display_data"
    },
    {
     "data": {
      "application/vnd.jupyter.widget-view+json": {
       "model_id": "",
       "version_major": 2,
       "version_minor": 0
      },
      "text/plain": [
       "Validation: 0it [00:00, ?it/s]"
      ]
     },
     "metadata": {},
     "output_type": "display_data"
    },
    {
     "name": "stdout",
     "output_type": "stream",
     "text": [
      "epoch: 0\n",
      "valid_recall: 0.2256728708744049\n",
      "--------------------------------------------------------------------------------\n"
     ]
    },
    {
     "data": {
      "application/vnd.jupyter.widget-view+json": {
       "model_id": "",
       "version_major": 2,
       "version_minor": 0
      },
      "text/plain": [
       "Validation: 0it [00:00, ?it/s]"
      ]
     },
     "metadata": {},
     "output_type": "display_data"
    },
    {
     "name": "stdout",
     "output_type": "stream",
     "text": [
      "epoch: 1\n",
      "valid_recall: 0.5383023023605347\n",
      "--------------------------------------------------------------------------------\n"
     ]
    },
    {
     "data": {
      "application/vnd.jupyter.widget-view+json": {
       "model_id": "",
       "version_major": 2,
       "version_minor": 0
      },
      "text/plain": [
       "Validation: 0it [00:00, ?it/s]"
      ]
     },
     "metadata": {},
     "output_type": "display_data"
    },
    {
     "name": "stdout",
     "output_type": "stream",
     "text": [
      "epoch: 2\n",
      "valid_recall: 0.7060041427612305\n",
      "--------------------------------------------------------------------------------\n"
     ]
    },
    {
     "data": {
      "application/vnd.jupyter.widget-view+json": {
       "model_id": "",
       "version_major": 2,
       "version_minor": 0
      },
      "text/plain": [
       "Validation: 0it [00:00, ?it/s]"
      ]
     },
     "metadata": {},
     "output_type": "display_data"
    },
    {
     "name": "stdout",
     "output_type": "stream",
     "text": [
      "epoch: 3\n",
      "valid_recall: 0.7660455703735352\n",
      "--------------------------------------------------------------------------------\n"
     ]
    },
    {
     "data": {
      "application/vnd.jupyter.widget-view+json": {
       "model_id": "",
       "version_major": 2,
       "version_minor": 0
      },
      "text/plain": [
       "Validation: 0it [00:00, ?it/s]"
      ]
     },
     "metadata": {},
     "output_type": "display_data"
    },
    {
     "name": "stdout",
     "output_type": "stream",
     "text": [
      "epoch: 4\n",
      "valid_recall: 0.8260869383811951\n",
      "--------------------------------------------------------------------------------\n"
     ]
    },
    {
     "data": {
      "application/vnd.jupyter.widget-view+json": {
       "model_id": "",
       "version_major": 2,
       "version_minor": 0
      },
      "text/plain": [
       "Validation: 0it [00:00, ?it/s]"
      ]
     },
     "metadata": {},
     "output_type": "display_data"
    },
    {
     "name": "stdout",
     "output_type": "stream",
     "text": [
      "epoch: 5\n",
      "valid_recall: 0.8840579986572266\n",
      "--------------------------------------------------------------------------------\n"
     ]
    },
    {
     "data": {
      "application/vnd.jupyter.widget-view+json": {
       "model_id": "",
       "version_major": 2,
       "version_minor": 0
      },
      "text/plain": [
       "Validation: 0it [00:00, ?it/s]"
      ]
     },
     "metadata": {},
     "output_type": "display_data"
    },
    {
     "name": "stdout",
     "output_type": "stream",
     "text": [
      "epoch: 6\n",
      "valid_recall: 0.9047619104385376\n",
      "--------------------------------------------------------------------------------\n"
     ]
    },
    {
     "data": {
      "application/vnd.jupyter.widget-view+json": {
       "model_id": "",
       "version_major": 2,
       "version_minor": 0
      },
      "text/plain": [
       "Validation: 0it [00:00, ?it/s]"
      ]
     },
     "metadata": {},
     "output_type": "display_data"
    },
    {
     "name": "stdout",
     "output_type": "stream",
     "text": [
      "epoch: 7\n",
      "valid_recall: 0.9130434989929199\n",
      "--------------------------------------------------------------------------------\n"
     ]
    },
    {
     "data": {
      "application/vnd.jupyter.widget-view+json": {
       "model_id": "",
       "version_major": 2,
       "version_minor": 0
      },
      "text/plain": [
       "Validation: 0it [00:00, ?it/s]"
      ]
     },
     "metadata": {},
     "output_type": "display_data"
    },
    {
     "name": "stdout",
     "output_type": "stream",
     "text": [
      "epoch: 8\n",
      "valid_recall: 0.9316770434379578\n",
      "--------------------------------------------------------------------------------\n"
     ]
    },
    {
     "data": {
      "application/vnd.jupyter.widget-view+json": {
       "model_id": "",
       "version_major": 2,
       "version_minor": 0
      },
      "text/plain": [
       "Validation: 0it [00:00, ?it/s]"
      ]
     },
     "metadata": {},
     "output_type": "display_data"
    },
    {
     "name": "stdout",
     "output_type": "stream",
     "text": [
      "epoch: 9\n",
      "valid_recall: 0.9420289993286133\n",
      "--------------------------------------------------------------------------------\n"
     ]
    },
    {
     "data": {
      "application/vnd.jupyter.widget-view+json": {
       "model_id": "",
       "version_major": 2,
       "version_minor": 0
      },
      "text/plain": [
       "Validation: 0it [00:00, ?it/s]"
      ]
     },
     "metadata": {},
     "output_type": "display_data"
    },
    {
     "name": "stdout",
     "output_type": "stream",
     "text": [
      "epoch: 10\n",
      "valid_recall: 0.9440993666648865\n",
      "--------------------------------------------------------------------------------\n"
     ]
    },
    {
     "data": {
      "application/vnd.jupyter.widget-view+json": {
       "model_id": "",
       "version_major": 2,
       "version_minor": 0
      },
      "text/plain": [
       "Validation: 0it [00:00, ?it/s]"
      ]
     },
     "metadata": {},
     "output_type": "display_data"
    },
    {
     "name": "stdout",
     "output_type": "stream",
     "text": [
      "epoch: 11\n",
      "valid_recall: 0.9440993666648865\n",
      "--------------------------------------------------------------------------------\n"
     ]
    },
    {
     "data": {
      "application/vnd.jupyter.widget-view+json": {
       "model_id": "",
       "version_major": 2,
       "version_minor": 0
      },
      "text/plain": [
       "Validation: 0it [00:00, ?it/s]"
      ]
     },
     "metadata": {},
     "output_type": "display_data"
    },
    {
     "name": "stdout",
     "output_type": "stream",
     "text": [
      "epoch: 12\n",
      "valid_recall: 0.954451322555542\n",
      "--------------------------------------------------------------------------------\n"
     ]
    },
    {
     "data": {
      "application/vnd.jupyter.widget-view+json": {
       "model_id": "",
       "version_major": 2,
       "version_minor": 0
      },
      "text/plain": [
       "Validation: 0it [00:00, ?it/s]"
      ]
     },
     "metadata": {},
     "output_type": "display_data"
    },
    {
     "name": "stdout",
     "output_type": "stream",
     "text": [
      "epoch: 13\n",
      "valid_recall: 0.9523809552192688\n",
      "--------------------------------------------------------------------------------\n"
     ]
    },
    {
     "data": {
      "application/vnd.jupyter.widget-view+json": {
       "model_id": "",
       "version_major": 2,
       "version_minor": 0
      },
      "text/plain": [
       "Validation: 0it [00:00, ?it/s]"
      ]
     },
     "metadata": {},
     "output_type": "display_data"
    },
    {
     "name": "stdout",
     "output_type": "stream",
     "text": [
      "epoch: 14\n",
      "valid_recall: 0.9585921168327332\n",
      "--------------------------------------------------------------------------------\n"
     ]
    },
    {
     "data": {
      "application/vnd.jupyter.widget-view+json": {
       "model_id": "",
       "version_major": 2,
       "version_minor": 0
      },
      "text/plain": [
       "Validation: 0it [00:00, ?it/s]"
      ]
     },
     "metadata": {},
     "output_type": "display_data"
    },
    {
     "name": "stdout",
     "output_type": "stream",
     "text": [
      "epoch: 15\n",
      "valid_recall: 0.954451322555542\n",
      "--------------------------------------------------------------------------------\n"
     ]
    },
    {
     "data": {
      "application/vnd.jupyter.widget-view+json": {
       "model_id": "",
       "version_major": 2,
       "version_minor": 0
      },
      "text/plain": [
       "Validation: 0it [00:00, ?it/s]"
      ]
     },
     "metadata": {},
     "output_type": "display_data"
    },
    {
     "name": "stdout",
     "output_type": "stream",
     "text": [
      "epoch: 16\n",
      "valid_recall: 0.9627329111099243\n",
      "--------------------------------------------------------------------------------\n"
     ]
    },
    {
     "data": {
      "application/vnd.jupyter.widget-view+json": {
       "model_id": "",
       "version_major": 2,
       "version_minor": 0
      },
      "text/plain": [
       "Validation: 0it [00:00, ?it/s]"
      ]
     },
     "metadata": {},
     "output_type": "display_data"
    },
    {
     "name": "stdout",
     "output_type": "stream",
     "text": [
      "epoch: 17\n",
      "valid_recall: 0.95652174949646\n",
      "--------------------------------------------------------------------------------\n"
     ]
    },
    {
     "data": {
      "application/vnd.jupyter.widget-view+json": {
       "model_id": "",
       "version_major": 2,
       "version_minor": 0
      },
      "text/plain": [
       "Validation: 0it [00:00, ?it/s]"
      ]
     },
     "metadata": {},
     "output_type": "display_data"
    },
    {
     "name": "stdout",
     "output_type": "stream",
     "text": [
      "epoch: 18\n",
      "valid_recall: 0.95652174949646\n",
      "--------------------------------------------------------------------------------\n"
     ]
    },
    {
     "data": {
      "application/vnd.jupyter.widget-view+json": {
       "model_id": "",
       "version_major": 2,
       "version_minor": 0
      },
      "text/plain": [
       "Validation: 0it [00:00, ?it/s]"
      ]
     },
     "metadata": {},
     "output_type": "display_data"
    },
    {
     "name": "stdout",
     "output_type": "stream",
     "text": [
      "epoch: 19\n",
      "valid_recall: 0.9523809552192688\n",
      "--------------------------------------------------------------------------------\n"
     ]
    },
    {
     "data": {
      "application/vnd.jupyter.widget-view+json": {
       "model_id": "",
       "version_major": 2,
       "version_minor": 0
      },
      "text/plain": [
       "Validation: 0it [00:00, ?it/s]"
      ]
     },
     "metadata": {},
     "output_type": "display_data"
    },
    {
     "name": "stdout",
     "output_type": "stream",
     "text": [
      "epoch: 20\n",
      "valid_recall: 0.9606625437736511\n",
      "--------------------------------------------------------------------------------\n"
     ]
    },
    {
     "data": {
      "application/vnd.jupyter.widget-view+json": {
       "model_id": "",
       "version_major": 2,
       "version_minor": 0
      },
      "text/plain": [
       "Validation: 0it [00:00, ?it/s]"
      ]
     },
     "metadata": {},
     "output_type": "display_data"
    },
    {
     "name": "stdout",
     "output_type": "stream",
     "text": [
      "epoch: 21\n",
      "valid_recall: 0.95652174949646\n",
      "--------------------------------------------------------------------------------\n"
     ]
    },
    {
     "data": {
      "application/vnd.jupyter.widget-view+json": {
       "model_id": "",
       "version_major": 2,
       "version_minor": 0
      },
      "text/plain": [
       "Validation: 0it [00:00, ?it/s]"
      ]
     },
     "metadata": {},
     "output_type": "display_data"
    },
    {
     "name": "stdout",
     "output_type": "stream",
     "text": [
      "epoch: 22\n",
      "valid_recall: 0.9585921168327332\n",
      "--------------------------------------------------------------------------------\n"
     ]
    },
    {
     "data": {
      "application/vnd.jupyter.widget-view+json": {
       "model_id": "",
       "version_major": 2,
       "version_minor": 0
      },
      "text/plain": [
       "Validation: 0it [00:00, ?it/s]"
      ]
     },
     "metadata": {},
     "output_type": "display_data"
    },
    {
     "name": "stdout",
     "output_type": "stream",
     "text": [
      "epoch: 23\n",
      "valid_recall: 0.9523809552192688\n",
      "--------------------------------------------------------------------------------\n"
     ]
    },
    {
     "data": {
      "application/vnd.jupyter.widget-view+json": {
       "model_id": "",
       "version_major": 2,
       "version_minor": 0
      },
      "text/plain": [
       "Validation: 0it [00:00, ?it/s]"
      ]
     },
     "metadata": {},
     "output_type": "display_data"
    },
    {
     "name": "stdout",
     "output_type": "stream",
     "text": [
      "epoch: 24\n",
      "valid_recall: 0.9606625437736511\n",
      "--------------------------------------------------------------------------------\n"
     ]
    },
    {
     "data": {
      "application/vnd.jupyter.widget-view+json": {
       "model_id": "",
       "version_major": 2,
       "version_minor": 0
      },
      "text/plain": [
       "Validation: 0it [00:00, ?it/s]"
      ]
     },
     "metadata": {},
     "output_type": "display_data"
    },
    {
     "name": "stdout",
     "output_type": "stream",
     "text": [
      "epoch: 25\n",
      "valid_recall: 0.9606625437736511\n",
      "--------------------------------------------------------------------------------\n"
     ]
    },
    {
     "data": {
      "application/vnd.jupyter.widget-view+json": {
       "model_id": "",
       "version_major": 2,
       "version_minor": 0
      },
      "text/plain": [
       "Validation: 0it [00:00, ?it/s]"
      ]
     },
     "metadata": {},
     "output_type": "display_data"
    },
    {
     "name": "stdout",
     "output_type": "stream",
     "text": [
      "epoch: 26\n",
      "valid_recall: 0.9606625437736511\n",
      "--------------------------------------------------------------------------------\n"
     ]
    }
   ],
   "source": [
    "trainer.fit(pl_model, pl_data)"
   ]
  },
  {
   "cell_type": "code",
   "execution_count": 67,
   "id": "3febe9a9-1560-4dce-a626-88f82dd8e73e",
   "metadata": {},
   "outputs": [
    {
     "data": {
      "application/vnd.jupyter.widget-view+json": {
       "model_id": "439ba1723fad4ed49f15f7f63c1a7124",
       "version_major": 2,
       "version_minor": 0
      },
      "text/plain": [
       "Predicting: 61it [00:00, ?it/s]"
      ]
     },
     "metadata": {},
     "output_type": "display_data"
    },
    {
     "name": "stdout",
     "output_type": "stream",
     "text": [
      "0.9739808798694793\n"
     ]
    }
   ],
   "source": [
    "preds = torch.cat(trainer.predict(pl_model, pl_data.test_dataloader())).argmax(1)\n",
    "print(recall_score(preds, dataset_orig['test']['y'], average='macro'))"
   ]
  },
  {
   "cell_type": "markdown",
   "id": "876c21bd-bcc6-42b2-b41d-de470d45c0cb",
   "metadata": {
    "jp-MarkdownHeadingCollapsed": true,
    "tags": []
   },
   "source": [
    "### inception"
   ]
  },
  {
   "cell_type": "code",
   "execution_count": 95,
   "id": "8c427d07-b08f-440c-b6cc-687583dbccbc",
   "metadata": {},
   "outputs": [
    {
     "name": "stderr",
     "output_type": "stream",
     "text": [
      "GPU available: False, used: False\n",
      "TPU available: False, using: 0 TPU cores\n",
      "IPU available: False, using: 0 IPUs\n",
      "HPU available: False, using: 0 HPUs\n"
     ]
    }
   ],
   "source": [
    "best_checkpointer = ModelCheckpoint(save_top_k=1, save_last=True, monitor='valid_recall', mode='max', filename='best')\n",
    "neptune_logger = NeptuneLogger(\n",
    "    api_key=API_KEY,\n",
    "    project='fant0md/aihacks-2022-fields')\n",
    "lr_monitor = LearningRateMonitor(logging_interval='epoch')\n",
    "printer = PrintMetricsCallback(metrics=['valid_recall'])\n",
    "\n",
    "trainer = pl.Trainer(\n",
    "    log_every_n_steps=1, \n",
    "    logger=neptune_logger, \n",
    "    callbacks=[best_checkpointer, lr_monitor, printer], \n",
    "    max_epochs=25, \n",
    "    accelerator='auto',\n",
    "    devices=1)"
   ]
  },
  {
   "cell_type": "code",
   "execution_count": 96,
   "id": "3c5e0cf1-399f-4940-9c8b-4cd4a188f2a1",
   "metadata": {},
   "outputs": [],
   "source": [
    "pl_model = StackInception(\n",
    "    d_model=32, \n",
    "    d_head=128, \n",
    "    num_head_layers=1,\n",
    "    dropout=0, \n",
    "    activation='relu', \n",
    "    lr=0.0001, wd=0, gamma=0.99)\n",
    "pl_data = StackDataModule(train_dataset, val_dataset, test_dataset, batch_size=64)"
   ]
  },
  {
   "cell_type": "code",
   "execution_count": 97,
   "id": "3c3f03e1-21f0-4768-9a3a-3899a738c6fd",
   "metadata": {
    "collapsed": true,
    "jupyter": {
     "outputs_hidden": true
    },
    "tags": []
   },
   "outputs": [
    {
     "name": "stderr",
     "output_type": "stream",
     "text": [
      "\n",
      "  | Name         | Type             | Params\n",
      "--------------------------------------------------\n",
      "0 | models       | ModuleList       | 1.6 M \n",
      "1 | act          | ReLU             | 0     \n",
      "2 | head         | MLP              | 17.4 K\n",
      "3 | criterion    | CrossEntropyLoss | 0     \n",
      "4 | train_recall | Recall           | 0     \n",
      "5 | valid_recall | Recall           | 0     \n",
      "--------------------------------------------------\n",
      "1.6 M     Trainable params\n",
      "0         Non-trainable params\n",
      "1.6 M     Total params\n",
      "6.283     Total estimated model params size (MB)\n"
     ]
    },
    {
     "name": "stdout",
     "output_type": "stream",
     "text": [
      "https://app.neptune.ai/fant0md/aihacks-2022-fields/e/AIH-92\n",
      "Remember to stop your run once you’ve finished logging your metadata (https://docs.neptune.ai/api-reference/run#.stop). It will be stopped automatically only when the notebook kernel/interactive console is terminated.\n"
     ]
    },
    {
     "data": {
      "application/vnd.jupyter.widget-view+json": {
       "model_id": "",
       "version_major": 2,
       "version_minor": 0
      },
      "text/plain": [
       "Sanity Checking: 0it [00:00, ?it/s]"
      ]
     },
     "metadata": {},
     "output_type": "display_data"
    },
    {
     "name": "stdout",
     "output_type": "stream",
     "text": [
      "epoch: -1\n",
      "valid_recall: 0.1484375\n",
      "--------------------------------------------------------------------------------\n"
     ]
    },
    {
     "data": {
      "application/vnd.jupyter.widget-view+json": {
       "model_id": "6a842b5878874fad8e137316f396a2d5",
       "version_major": 2,
       "version_minor": 0
      },
      "text/plain": [
       "Training: 0it [00:00, ?it/s]"
      ]
     },
     "metadata": {},
     "output_type": "display_data"
    },
    {
     "data": {
      "application/vnd.jupyter.widget-view+json": {
       "model_id": "",
       "version_major": 2,
       "version_minor": 0
      },
      "text/plain": [
       "Validation: 0it [00:00, ?it/s]"
      ]
     },
     "metadata": {},
     "output_type": "display_data"
    },
    {
     "name": "stdout",
     "output_type": "stream",
     "text": [
      "epoch: 0\n",
      "valid_recall: 0.6459627151489258\n",
      "--------------------------------------------------------------------------------\n"
     ]
    },
    {
     "data": {
      "application/vnd.jupyter.widget-view+json": {
       "model_id": "",
       "version_major": 2,
       "version_minor": 0
      },
      "text/plain": [
       "Validation: 0it [00:00, ?it/s]"
      ]
     },
     "metadata": {},
     "output_type": "display_data"
    },
    {
     "name": "stdout",
     "output_type": "stream",
     "text": [
      "epoch: 1\n",
      "valid_recall: 0.6045548915863037\n",
      "--------------------------------------------------------------------------------\n"
     ]
    },
    {
     "data": {
      "application/vnd.jupyter.widget-view+json": {
       "model_id": "",
       "version_major": 2,
       "version_minor": 0
      },
      "text/plain": [
       "Validation: 0it [00:00, ?it/s]"
      ]
     },
     "metadata": {},
     "output_type": "display_data"
    },
    {
     "name": "stdout",
     "output_type": "stream",
     "text": [
      "epoch: 2\n",
      "valid_recall: 0.7867494821548462\n",
      "--------------------------------------------------------------------------------\n"
     ]
    },
    {
     "data": {
      "application/vnd.jupyter.widget-view+json": {
       "model_id": "",
       "version_major": 2,
       "version_minor": 0
      },
      "text/plain": [
       "Validation: 0it [00:00, ?it/s]"
      ]
     },
     "metadata": {},
     "output_type": "display_data"
    },
    {
     "name": "stdout",
     "output_type": "stream",
     "text": [
      "epoch: 3\n",
      "valid_recall: 0.4875776469707489\n",
      "--------------------------------------------------------------------------------\n"
     ]
    },
    {
     "data": {
      "application/vnd.jupyter.widget-view+json": {
       "model_id": "",
       "version_major": 2,
       "version_minor": 0
      },
      "text/plain": [
       "Validation: 0it [00:00, ?it/s]"
      ]
     },
     "metadata": {},
     "output_type": "display_data"
    },
    {
     "name": "stdout",
     "output_type": "stream",
     "text": [
      "epoch: 4\n",
      "valid_recall: 0.5879917144775391\n",
      "--------------------------------------------------------------------------------\n"
     ]
    },
    {
     "data": {
      "application/vnd.jupyter.widget-view+json": {
       "model_id": "",
       "version_major": 2,
       "version_minor": 0
      },
      "text/plain": [
       "Validation: 0it [00:00, ?it/s]"
      ]
     },
     "metadata": {},
     "output_type": "display_data"
    },
    {
     "name": "stdout",
     "output_type": "stream",
     "text": [
      "epoch: 5\n",
      "valid_recall: 0.784679114818573\n",
      "--------------------------------------------------------------------------------\n"
     ]
    },
    {
     "data": {
      "application/vnd.jupyter.widget-view+json": {
       "model_id": "",
       "version_major": 2,
       "version_minor": 0
      },
      "text/plain": [
       "Validation: 0it [00:00, ?it/s]"
      ]
     },
     "metadata": {},
     "output_type": "display_data"
    },
    {
     "name": "stdout",
     "output_type": "stream",
     "text": [
      "epoch: 6\n",
      "valid_recall: 0.8840579986572266\n",
      "--------------------------------------------------------------------------------\n"
     ]
    },
    {
     "data": {
      "application/vnd.jupyter.widget-view+json": {
       "model_id": "",
       "version_major": 2,
       "version_minor": 0
      },
      "text/plain": [
       "Validation: 0it [00:00, ?it/s]"
      ]
     },
     "metadata": {},
     "output_type": "display_data"
    },
    {
     "name": "stdout",
     "output_type": "stream",
     "text": [
      "epoch: 7\n",
      "valid_recall: 0.8995859026908875\n",
      "--------------------------------------------------------------------------------\n"
     ]
    },
    {
     "data": {
      "application/vnd.jupyter.widget-view+json": {
       "model_id": "",
       "version_major": 2,
       "version_minor": 0
      },
      "text/plain": [
       "Validation: 0it [00:00, ?it/s]"
      ]
     },
     "metadata": {},
     "output_type": "display_data"
    },
    {
     "name": "stdout",
     "output_type": "stream",
     "text": [
      "epoch: 8\n",
      "valid_recall: 0.8312629461288452\n",
      "--------------------------------------------------------------------------------\n"
     ]
    },
    {
     "data": {
      "application/vnd.jupyter.widget-view+json": {
       "model_id": "",
       "version_major": 2,
       "version_minor": 0
      },
      "text/plain": [
       "Validation: 0it [00:00, ?it/s]"
      ]
     },
     "metadata": {},
     "output_type": "display_data"
    },
    {
     "name": "stdout",
     "output_type": "stream",
     "text": [
      "epoch: 9\n",
      "valid_recall: 0.8840579986572266\n",
      "--------------------------------------------------------------------------------\n"
     ]
    },
    {
     "data": {
      "application/vnd.jupyter.widget-view+json": {
       "model_id": "",
       "version_major": 2,
       "version_minor": 0
      },
      "text/plain": [
       "Validation: 0it [00:00, ?it/s]"
      ]
     },
     "metadata": {},
     "output_type": "display_data"
    },
    {
     "name": "stdout",
     "output_type": "stream",
     "text": [
      "epoch: 10\n",
      "valid_recall: 0.8157349824905396\n",
      "--------------------------------------------------------------------------------\n"
     ]
    },
    {
     "data": {
      "application/vnd.jupyter.widget-view+json": {
       "model_id": "",
       "version_major": 2,
       "version_minor": 0
      },
      "text/plain": [
       "Validation: 0it [00:00, ?it/s]"
      ]
     },
     "metadata": {},
     "output_type": "display_data"
    },
    {
     "name": "stdout",
     "output_type": "stream",
     "text": [
      "epoch: 11\n",
      "valid_recall: 0.9016563296318054\n",
      "--------------------------------------------------------------------------------\n"
     ]
    },
    {
     "data": {
      "application/vnd.jupyter.widget-view+json": {
       "model_id": "",
       "version_major": 2,
       "version_minor": 0
      },
      "text/plain": [
       "Validation: 0it [00:00, ?it/s]"
      ]
     },
     "metadata": {},
     "output_type": "display_data"
    },
    {
     "name": "stdout",
     "output_type": "stream",
     "text": [
      "epoch: 12\n",
      "valid_recall: 0.8726708292961121\n",
      "--------------------------------------------------------------------------------\n"
     ]
    }
   ],
   "source": [
    "trainer.fit(pl_model, pl_data)"
   ]
  },
  {
   "cell_type": "markdown",
   "id": "2e273401-330c-4ddc-9f7c-9f6ad9fa42c3",
   "metadata": {},
   "source": [
    "## submission"
   ]
  },
  {
   "cell_type": "code",
   "execution_count": 28,
   "id": "da115c32-6740-4682-a47e-285e0ee76c3e",
   "metadata": {},
   "outputs": [],
   "source": [
    "# TODO\n",
    "# initizlize paramters\n",
    "# run maaaany epochs with dropout\n",
    "# flatten instead of pooling\n",
    "# cosine lr scheduler\n",
    "\n",
    "# try early stopping\n",
    "# try to include geographical information\n",
    "# im not gonna lose!"
   ]
  },
  {
   "cell_type": "code",
   "execution_count": 50,
   "id": "af16a66b-2aec-4b9e-a07d-1a7bbd8b0afe",
   "metadata": {},
   "outputs": [],
   "source": [
    "pl_model = StackTransformer.load_from_checkpoint('.neptune/None/version_None/checkpoints/best-v7.ckpt')"
   ]
  },
  {
   "cell_type": "code",
   "execution_count": 68,
   "id": "df827422-ca96-410e-84f1-1166d8e382de",
   "metadata": {},
   "outputs": [
    {
     "data": {
      "application/vnd.jupyter.widget-view+json": {
       "model_id": "ae7f71d655a74239a8427ebc0c2099ab",
       "version_major": 2,
       "version_minor": 0
      },
      "text/plain": [
       "Predicting: 61it [00:00, ?it/s]"
      ]
     },
     "metadata": {},
     "output_type": "display_data"
    }
   ],
   "source": [
    "preds = trainer.predict(pl_model, pl_data)"
   ]
  },
  {
   "cell_type": "code",
   "execution_count": 69,
   "id": "18468dd0-4caa-4a45-8321-bd238d2ca6c4",
   "metadata": {},
   "outputs": [],
   "source": [
    "submission = pd.read_csv('sample_solution.csv')\n",
    "submission['crop'] = torch.cat(preds).argmax(1)"
   ]
  },
  {
   "cell_type": "code",
   "execution_count": 70,
   "id": "f5287fee-7c8f-4244-b923-04fb671d9f31",
   "metadata": {},
   "outputs": [],
   "source": [
    "submission.to_csv('submission_v97654.csv', index=False)"
   ]
  },
  {
   "cell_type": "code",
   "execution_count": null,
   "id": "3b278bee-270a-4dce-9692-3126ed9d6055",
   "metadata": {},
   "outputs": [],
   "source": [
    "# valid: 0.982401\n",
    "# lb: 0.980064"
   ]
  },
  {
   "cell_type": "code",
   "execution_count": null,
   "id": "3b22bfda-cf6a-49b7-ab08-ad0a20718c0f",
   "metadata": {},
   "outputs": [],
   "source": [
    "# valid: 0.983436\n",
    "# lb: 0.978759"
   ]
  },
  {
   "cell_type": "code",
   "execution_count": null,
   "id": "8548312c-09fd-426f-bb55-e6d6f16d6cf5",
   "metadata": {},
   "outputs": [],
   "source": []
  }
 ],
 "metadata": {
  "kernelspec": {
   "display_name": "Python 3",
   "language": "python",
   "name": "python3"
  },
  "language_info": {
   "codemirror_mode": {
    "name": "ipython",
    "version": 3
   },
   "file_extension": ".py",
   "mimetype": "text/x-python",
   "name": "python",
   "nbconvert_exporter": "python",
   "pygments_lexer": "ipython3",
   "version": "3.9.4"
  },
  "widgets": {
   "application/vnd.jupyter.widget-state+json": {
    "state": {
     "002b03e8a469457cbdf3ee6f69d60e4f": {
      "model_module": "@jupyter-widgets/controls",
      "model_module_version": "1.5.0",
      "model_name": "DescriptionStyleModel",
      "state": {
       "description_width": ""
      }
     },
     "0053ceaf9df84133ab8613f5882d9105": {
      "model_module": "@jupyter-widgets/controls",
      "model_module_version": "1.5.0",
      "model_name": "FloatProgressModel",
      "state": {
       "bar_style": "success",
       "layout": "IPY_MODEL_c68edb99c72a4e88b681dc161e151a70",
       "max": 8,
       "style": "IPY_MODEL_ca114801289c41ed95c6adc8f776ba00",
       "value": 8
      }
     },
     "005d066834164d92974fea9d0dd953c7": {
      "model_module": "@jupyter-widgets/base",
      "model_module_version": "1.2.0",
      "model_name": "LayoutModel",
      "state": {}
     },
     "007cae3f6f304dae9978a013f42be303": {
      "model_module": "@jupyter-widgets/controls",
      "model_module_version": "1.5.0",
      "model_name": "HTMLModel",
      "state": {
       "layout": "IPY_MODEL_00c5d11f514646f18c572892edb1de2d",
       "style": "IPY_MODEL_eca2fa084c50475896f6e5b562b3683e",
       "value": "Validation DataLoader 0: 100%"
      }
     },
     "008bc05932734991827e1d06c41f95f9": {
      "model_module": "@jupyter-widgets/controls",
      "model_module_version": "1.5.0",
      "model_name": "HTMLModel",
      "state": {
       "layout": "IPY_MODEL_18c3990d4e6e4d02b7c618785469723f",
       "style": "IPY_MODEL_94bd3b76a37341588783b1f785cce730",
       "value": " 8/8 [00:03&lt;00:00,  2.56it/s]"
      }
     },
     "009553d7dda54de186bab7c7de0e3def": {
      "model_module": "@jupyter-widgets/base",
      "model_module_version": "1.2.0",
      "model_name": "LayoutModel",
      "state": {}
     },
     "009f6c1a65794925a65dfda9a86e43dd": {
      "model_module": "@jupyter-widgets/controls",
      "model_module_version": "1.5.0",
      "model_name": "HTMLModel",
      "state": {
       "layout": "IPY_MODEL_8aee7b86c0ba4021a41b78313adb4c53",
       "style": "IPY_MODEL_ac16290a73864564ad855b804c7eb7e6",
       "value": "Validation DataLoader 0: 100%"
      }
     },
     "00c3af7d1a11477c92050b891e4164cf": {
      "model_module": "@jupyter-widgets/base",
      "model_module_version": "1.2.0",
      "model_name": "LayoutModel",
      "state": {}
     },
     "00c5d11f514646f18c572892edb1de2d": {
      "model_module": "@jupyter-widgets/base",
      "model_module_version": "1.2.0",
      "model_name": "LayoutModel",
      "state": {}
     },
     "00cd57e4d8cb4b8a9a18276084b79637": {
      "model_module": "@jupyter-widgets/controls",
      "model_module_version": "1.5.0",
      "model_name": "ProgressStyleModel",
      "state": {
       "description_width": ""
      }
     },
     "014799483a8540a8b3c29490bbbe753e": {
      "model_module": "@jupyter-widgets/controls",
      "model_module_version": "1.5.0",
      "model_name": "FloatProgressModel",
      "state": {
       "layout": "IPY_MODEL_dfbe379d85544756872bc89c970ae45e",
       "max": 8,
       "style": "IPY_MODEL_62f2969de39848c3bc0e0063cbd391f2",
       "value": 8
      }
     },
     "017b82f08d4b471d972adc0b98b744cf": {
      "model_module": "@jupyter-widgets/base",
      "model_module_version": "1.2.0",
      "model_name": "LayoutModel",
      "state": {}
     },
     "018aa7cb5b1c404ead1a03cd623e0e53": {
      "model_module": "@jupyter-widgets/base",
      "model_module_version": "1.2.0",
      "model_name": "LayoutModel",
      "state": {}
     },
     "018e06af64924e5ca3349e08a226e9b3": {
      "model_module": "@jupyter-widgets/base",
      "model_module_version": "1.2.0",
      "model_name": "LayoutModel",
      "state": {
       "flex": "2"
      }
     },
     "01d0eb66c5b545e5b6d233e201a1597c": {
      "model_module": "@jupyter-widgets/controls",
      "model_module_version": "1.5.0",
      "model_name": "ProgressStyleModel",
      "state": {
       "description_width": ""
      }
     },
     "01d13004c81e497c8f11e80872628c6a": {
      "model_module": "@jupyter-widgets/controls",
      "model_module_version": "1.5.0",
      "model_name": "ProgressStyleModel",
      "state": {
       "description_width": ""
      }
     },
     "01e6cea3eaeb4ae59627f855620471da": {
      "model_module": "@jupyter-widgets/controls",
      "model_module_version": "1.5.0",
      "model_name": "DescriptionStyleModel",
      "state": {
       "description_width": ""
      }
     },
     "021a4c55997c4364a9bfe9b469cd936c": {
      "model_module": "@jupyter-widgets/controls",
      "model_module_version": "1.5.0",
      "model_name": "DescriptionStyleModel",
      "state": {
       "description_width": ""
      }
     },
     "023252cae97f4123b13bc311b10e0cb5": {
      "model_module": "@jupyter-widgets/controls",
      "model_module_version": "1.5.0",
      "model_name": "DescriptionStyleModel",
      "state": {
       "description_width": ""
      }
     },
     "024a5637b31c4704a51492ac6194209a": {
      "model_module": "@jupyter-widgets/base",
      "model_module_version": "1.2.0",
      "model_name": "LayoutModel",
      "state": {}
     },
     "025f4b98207d40b393481fd60e42bbd1": {
      "model_module": "@jupyter-widgets/controls",
      "model_module_version": "1.5.0",
      "model_name": "DescriptionStyleModel",
      "state": {
       "description_width": ""
      }
     },
     "0288fbddb1624fb48642bdb70e6de773": {
      "model_module": "@jupyter-widgets/controls",
      "model_module_version": "1.5.0",
      "model_name": "DescriptionStyleModel",
      "state": {
       "description_width": ""
      }
     },
     "032076d038ab4599acb5c6eab1729ebc": {
      "model_module": "@jupyter-widgets/base",
      "model_module_version": "1.2.0",
      "model_name": "LayoutModel",
      "state": {}
     },
     "0338c86fe241400f8b523cf0df5c1d81": {
      "model_module": "@jupyter-widgets/controls",
      "model_module_version": "1.5.0",
      "model_name": "FloatProgressModel",
      "state": {
       "layout": "IPY_MODEL_f1257d4ef4024e9db54bc9d9a63c835e",
       "max": 8,
       "style": "IPY_MODEL_fdbb8e5dfe6d42fba9ab764fe3589f93",
       "value": 8
      }
     },
     "038a9a4ff75f44a1ab26de23c0381079": {
      "model_module": "@jupyter-widgets/controls",
      "model_module_version": "1.5.0",
      "model_name": "ProgressStyleModel",
      "state": {
       "description_width": ""
      }
     },
     "03aca36652c743199a83611dc5a6d5d8": {
      "model_module": "@jupyter-widgets/controls",
      "model_module_version": "1.5.0",
      "model_name": "DescriptionStyleModel",
      "state": {
       "description_width": ""
      }
     },
     "03b72363b0eb4971acdd4dbc20178c5a": {
      "model_module": "@jupyter-widgets/controls",
      "model_module_version": "1.5.0",
      "model_name": "HBoxModel",
      "state": {
       "children": [
        "IPY_MODEL_6c9469935fe54f748778e89f242375c2",
        "IPY_MODEL_783b71d2ce4d4cc3b423bef237c03646",
        "IPY_MODEL_c9e990d95306473d8a79647a9f32f592"
       ],
       "layout": "IPY_MODEL_985cb0d7011340398e5765065aefe5f2"
      }
     },
     "03b8d4b2fda548d38785069ad11ad98f": {
      "model_module": "@jupyter-widgets/controls",
      "model_module_version": "1.5.0",
      "model_name": "DescriptionStyleModel",
      "state": {
       "description_width": ""
      }
     },
     "03d3bf0acc4b4553b6a78aecffd02361": {
      "model_module": "@jupyter-widgets/controls",
      "model_module_version": "1.5.0",
      "model_name": "ProgressStyleModel",
      "state": {
       "description_width": ""
      }
     },
     "03de54cd2f27477f8c6e98cccee73064": {
      "model_module": "@jupyter-widgets/controls",
      "model_module_version": "1.5.0",
      "model_name": "DescriptionStyleModel",
      "state": {
       "description_width": ""
      }
     },
     "04058028c35b4a0db212f4c751e016e3": {
      "model_module": "@jupyter-widgets/controls",
      "model_module_version": "1.5.0",
      "model_name": "HTMLModel",
      "state": {
       "layout": "IPY_MODEL_3930f14887c541bf8c22cebb5d041c2c",
       "style": "IPY_MODEL_22ef67cf2a884b5aa11bc75a589556aa",
       "value": "Epoch 11:  65%"
      }
     },
     "04141b4c3de3499c9168fd1ca1021153": {
      "model_module": "@jupyter-widgets/controls",
      "model_module_version": "1.5.0",
      "model_name": "DescriptionStyleModel",
      "state": {
       "description_width": ""
      }
     },
     "041c97c2cf5e4b77b579e1aba4daa616": {
      "model_module": "@jupyter-widgets/base",
      "model_module_version": "1.2.0",
      "model_name": "LayoutModel",
      "state": {
       "display": "inline-flex",
       "flex_flow": "row wrap",
       "width": "100%"
      }
     },
     "04373be660a5425bb82d8edac698c72d": {
      "model_module": "@jupyter-widgets/controls",
      "model_module_version": "1.5.0",
      "model_name": "DescriptionStyleModel",
      "state": {
       "description_width": ""
      }
     },
     "0446d1d79c964aeab92f86d0c8343586": {
      "model_module": "@jupyter-widgets/controls",
      "model_module_version": "1.5.0",
      "model_name": "ProgressStyleModel",
      "state": {
       "description_width": ""
      }
     },
     "04547201d202485987a6d4d7dacdef9c": {
      "model_module": "@jupyter-widgets/controls",
      "model_module_version": "1.5.0",
      "model_name": "HTMLModel",
      "state": {
       "layout": "IPY_MODEL_018aa7cb5b1c404ead1a03cd623e0e53",
       "style": "IPY_MODEL_a7834305fcec49f09f79846ce3581f72",
       "value": " 8/8 [00:06&lt;00:00,  1.22it/s]"
      }
     },
     "045fa2583ea640c7b05ea360279e2cdc": {
      "model_module": "@jupyter-widgets/base",
      "model_module_version": "1.2.0",
      "model_name": "LayoutModel",
      "state": {
       "display": "inline-flex",
       "flex_flow": "row wrap",
       "width": "100%"
      }
     },
     "04852d7f7f8f45038f107d36744e7599": {
      "model_module": "@jupyter-widgets/controls",
      "model_module_version": "1.5.0",
      "model_name": "ProgressStyleModel",
      "state": {
       "description_width": ""
      }
     },
     "049d68680fc345f18dafdd1d94029a7f": {
      "model_module": "@jupyter-widgets/base",
      "model_module_version": "1.2.0",
      "model_name": "LayoutModel",
      "state": {
       "flex": "2"
      }
     },
     "04cf1bd33ccb4190ac27d1c20874fcf9": {
      "model_module": "@jupyter-widgets/controls",
      "model_module_version": "1.5.0",
      "model_name": "FloatProgressModel",
      "state": {
       "layout": "IPY_MODEL_35ca0b816fb644c497effdcf04af4ab2",
       "max": 8,
       "style": "IPY_MODEL_d95c700ffd1c4354a0eca513d03ba7ae",
       "value": 8
      }
     },
     "04d067d363fb400283ac5b4416465386": {
      "model_module": "@jupyter-widgets/base",
      "model_module_version": "1.2.0",
      "model_name": "LayoutModel",
      "state": {}
     },
     "04e45be6c87f4504800591db013651bf": {
      "model_module": "@jupyter-widgets/controls",
      "model_module_version": "1.5.0",
      "model_name": "ProgressStyleModel",
      "state": {
       "description_width": ""
      }
     },
     "04e4d5d337de4f43b22d07fda0d31538": {
      "model_module": "@jupyter-widgets/base",
      "model_module_version": "1.2.0",
      "model_name": "LayoutModel",
      "state": {}
     },
     "0505b099758d4184b1c2c591d1522b10": {
      "model_module": "@jupyter-widgets/controls",
      "model_module_version": "1.5.0",
      "model_name": "ProgressStyleModel",
      "state": {
       "description_width": ""
      }
     },
     "0506381e23a148529b2cccb9d42eb3a6": {
      "model_module": "@jupyter-widgets/base",
      "model_module_version": "1.2.0",
      "model_name": "LayoutModel",
      "state": {}
     },
     "051c9514947e44cd9256cb4673279fa5": {
      "model_module": "@jupyter-widgets/controls",
      "model_module_version": "1.5.0",
      "model_name": "DescriptionStyleModel",
      "state": {
       "description_width": ""
      }
     },
     "052cca6de6014bc5aa0facb697066bba": {
      "model_module": "@jupyter-widgets/controls",
      "model_module_version": "1.5.0",
      "model_name": "FloatProgressModel",
      "state": {
       "layout": "IPY_MODEL_eeb5c974992e400d8acb8f5cfec47a34",
       "max": 8,
       "style": "IPY_MODEL_e074a95fc7f449cdbd4f854120acc621",
       "value": 8
      }
     },
     "052e8667836d466898ec21cdcc020cc0": {
      "model_module": "@jupyter-widgets/base",
      "model_module_version": "1.2.0",
      "model_name": "LayoutModel",
      "state": {}
     },
     "05302da55f804b479518ed70408de2a9": {
      "model_module": "@jupyter-widgets/controls",
      "model_module_version": "1.5.0",
      "model_name": "HTMLModel",
      "state": {
       "layout": "IPY_MODEL_d1aebcfbf00f48c0bd1752bfb307dfcd",
       "style": "IPY_MODEL_66cdbcb105174b59aa0ff1aaf4425477",
       "value": "Validation DataLoader 0: 100%"
      }
     },
     "0548c7c5c86d4b4fa8009a9913255983": {
      "model_module": "@jupyter-widgets/controls",
      "model_module_version": "1.5.0",
      "model_name": "DescriptionStyleModel",
      "state": {
       "description_width": ""
      }
     },
     "0555aa8d31774476be5f0cbd85dc18ac": {
      "model_module": "@jupyter-widgets/controls",
      "model_module_version": "1.5.0",
      "model_name": "HTMLModel",
      "state": {
       "layout": "IPY_MODEL_2a9c86f59c294b7f9d1d04f9bbbce8a1",
       "style": "IPY_MODEL_d41ab4c5f6a94cc79b63233534ba56bb",
       "value": " 45/69 [02:24&lt;01:17,  3.22s/it, loss=0.153, v_num=-136]"
      }
     },
     "056d359d92884d56b343ea467bcf3859": {
      "model_module": "@jupyter-widgets/base",
      "model_module_version": "1.2.0",
      "model_name": "LayoutModel",
      "state": {}
     },
     "0571857f23e849a491d297b5650a607e": {
      "model_module": "@jupyter-widgets/controls",
      "model_module_version": "1.5.0",
      "model_name": "HTMLModel",
      "state": {
       "layout": "IPY_MODEL_29f9e748448244a883b5901915347e04",
       "style": "IPY_MODEL_43e1a135594c4a238434af266942364d",
       "value": "Validation DataLoader 0: 100%"
      }
     },
     "0573f167271440a2becc0a339e2e01f2": {
      "model_module": "@jupyter-widgets/base",
      "model_module_version": "1.2.0",
      "model_name": "LayoutModel",
      "state": {
       "flex": "2"
      }
     },
     "05d160c2e72043e495c20a22d3a1a47a": {
      "model_module": "@jupyter-widgets/controls",
      "model_module_version": "1.5.0",
      "model_name": "DescriptionStyleModel",
      "state": {
       "description_width": ""
      }
     },
     "06029099f28d4bfa8cd54ce6e8659c3a": {
      "model_module": "@jupyter-widgets/base",
      "model_module_version": "1.2.0",
      "model_name": "LayoutModel",
      "state": {
       "flex": "2"
      }
     },
     "060d2d0c6f944eccb60693c7b91b989c": {
      "model_module": "@jupyter-widgets/controls",
      "model_module_version": "1.5.0",
      "model_name": "HTMLModel",
      "state": {
       "layout": "IPY_MODEL_db874b91175d41009f95809b8ab86c8d",
       "style": "IPY_MODEL_3376cf9a838348709b16f09696398655",
       "value": " 8/8 [00:02&lt;00:00,  3.22it/s]"
      }
     },
     "0615f65c399d409bb3a25187e2db255e": {
      "model_module": "@jupyter-widgets/controls",
      "model_module_version": "1.5.0",
      "model_name": "HTMLModel",
      "state": {
       "layout": "IPY_MODEL_b1826f17aced42baa846c78be48b5faf",
       "style": "IPY_MODEL_40379e4f3b524b908f90632406283a75",
       "value": " 8/8 [00:03&lt;00:00,  2.21it/s]"
      }
     },
     "062eb8f1b6074a55abe8618d7299cb7e": {
      "model_module": "@jupyter-widgets/controls",
      "model_module_version": "1.5.0",
      "model_name": "ProgressStyleModel",
      "state": {
       "description_width": ""
      }
     },
     "0630a82a18f04556bd504ea444c06906": {
      "model_module": "@jupyter-widgets/base",
      "model_module_version": "1.2.0",
      "model_name": "LayoutModel",
      "state": {}
     },
     "0638d5490bf64f4fa1b26bedbd85cf64": {
      "model_module": "@jupyter-widgets/controls",
      "model_module_version": "1.5.0",
      "model_name": "FloatProgressModel",
      "state": {
       "layout": "IPY_MODEL_c07b33455bd84b2fa42e36ace51dc7fe",
       "max": 8,
       "style": "IPY_MODEL_4a6d4673bf684e1192db4440d528f9a6",
       "value": 8
      }
     },
     "064c61b9833d462e99b21b6bebaf1a51": {
      "model_module": "@jupyter-widgets/controls",
      "model_module_version": "1.5.0",
      "model_name": "HTMLModel",
      "state": {
       "layout": "IPY_MODEL_ca9ad94d6def41a3b1bd381715cf5882",
       "style": "IPY_MODEL_d76f93cbf26d4a46a3a274aa84453c02",
       "value": "Validation DataLoader 0: 100%"
      }
     },
     "064ded5b6bb141f48ae291e586105636": {
      "model_module": "@jupyter-widgets/controls",
      "model_module_version": "1.5.0",
      "model_name": "DescriptionStyleModel",
      "state": {
       "description_width": ""
      }
     },
     "06650b4c4b7d4b28a84e3553dae1da65": {
      "model_module": "@jupyter-widgets/controls",
      "model_module_version": "1.5.0",
      "model_name": "HTMLModel",
      "state": {
       "layout": "IPY_MODEL_8d944559b8884cad8fd7ff8986d933b9",
       "style": "IPY_MODEL_56e02c0ca2ad48ea8d4f005deb4aa8fc",
       "value": " 8/8 [00:03&lt;00:00,  2.17it/s]"
      }
     },
     "06b492a179dc44b58847de04732bd8bb": {
      "model_module": "@jupyter-widgets/controls",
      "model_module_version": "1.5.0",
      "model_name": "HTMLModel",
      "state": {
       "layout": "IPY_MODEL_8249c1281ee543219ffcaccc4fe58dc7",
       "style": "IPY_MODEL_ab9128b790934d939d5fb83e7fbd14e7",
       "value": "Validation DataLoader 0: 100%"
      }
     },
     "06bd6bcdf6224a4d9a09073a87b17586": {
      "model_module": "@jupyter-widgets/controls",
      "model_module_version": "1.5.0",
      "model_name": "DescriptionStyleModel",
      "state": {
       "description_width": ""
      }
     },
     "06bec0a0fb704c57ad4c49e2829832d0": {
      "model_module": "@jupyter-widgets/controls",
      "model_module_version": "1.5.0",
      "model_name": "ProgressStyleModel",
      "state": {
       "description_width": ""
      }
     },
     "06d154aa72bc4fd88cfbeb44ce4c1515": {
      "model_module": "@jupyter-widgets/base",
      "model_module_version": "1.2.0",
      "model_name": "LayoutModel",
      "state": {
       "flex": "2"
      }
     },
     "06ea916db4b945be97891a89ff52fdb1": {
      "model_module": "@jupyter-widgets/base",
      "model_module_version": "1.2.0",
      "model_name": "LayoutModel",
      "state": {
       "flex": "2"
      }
     },
     "07033df5f5b246ef8c285f1aa973e381": {
      "model_module": "@jupyter-widgets/base",
      "model_module_version": "1.2.0",
      "model_name": "LayoutModel",
      "state": {}
     },
     "0723f0c27e7646e1b4b28cba5ec2200f": {
      "model_module": "@jupyter-widgets/controls",
      "model_module_version": "1.5.0",
      "model_name": "FloatProgressModel",
      "state": {
       "layout": "IPY_MODEL_3298acb37e4c47e1a0348648d4008eda",
       "max": 8,
       "style": "IPY_MODEL_084eb83437974fdb861436cfbabbc779",
       "value": 8
      }
     },
     "074e400a82334ebb816b60080900c6a9": {
      "model_module": "@jupyter-widgets/controls",
      "model_module_version": "1.5.0",
      "model_name": "FloatProgressModel",
      "state": {
       "layout": "IPY_MODEL_2a7a8de731114140af723d5046995739",
       "max": 8,
       "style": "IPY_MODEL_22c2db3562e74be8bab95dbf90df0aea",
       "value": 8
      }
     },
     "075482ee64b04aab84a96d8ceb29e309": {
      "model_module": "@jupyter-widgets/base",
      "model_module_version": "1.2.0",
      "model_name": "LayoutModel",
      "state": {}
     },
     "07842aef234648e98ad45aa42acd6a9c": {
      "model_module": "@jupyter-widgets/controls",
      "model_module_version": "1.5.0",
      "model_name": "FloatProgressModel",
      "state": {
       "layout": "IPY_MODEL_da97101b7d58427fabcfb4214d326b02",
       "max": 8,
       "style": "IPY_MODEL_0ce3042411974033881627fbf61cd737",
       "value": 8
      }
     },
     "079ed97bebc44e82bd67c06258902520": {
      "model_module": "@jupyter-widgets/base",
      "model_module_version": "1.2.0",
      "model_name": "LayoutModel",
      "state": {}
     },
     "07c921554ecf4fd8bfbbeabfd5dde3e8": {
      "model_module": "@jupyter-widgets/base",
      "model_module_version": "1.2.0",
      "model_name": "LayoutModel",
      "state": {}
     },
     "07dab83421bc4d7ead5840ce547690da": {
      "model_module": "@jupyter-widgets/controls",
      "model_module_version": "1.5.0",
      "model_name": "HTMLModel",
      "state": {
       "layout": "IPY_MODEL_318e4d772be64097a1bd3185a3553e55",
       "style": "IPY_MODEL_79966c4ddc0047db88e83e58880ffbb7",
       "value": "Validation DataLoader 0: 100%"
      }
     },
     "07f19898fb5940fa8c1913f501c468ef": {
      "model_module": "@jupyter-widgets/base",
      "model_module_version": "1.2.0",
      "model_name": "LayoutModel",
      "state": {
       "display": "inline-flex",
       "flex_flow": "row wrap",
       "width": "100%"
      }
     },
     "07faf72353e6471f95103c21a1825b3e": {
      "model_module": "@jupyter-widgets/controls",
      "model_module_version": "1.5.0",
      "model_name": "HTMLModel",
      "state": {
       "layout": "IPY_MODEL_460f3ce63a5646268a3360edc5ceff88",
       "style": "IPY_MODEL_866d381d17004034b81dd0d9b31320ca",
       "value": "Validation DataLoader 0: 100%"
      }
     },
     "08100d94a0a746758fc313e42eb0f67d": {
      "model_module": "@jupyter-widgets/base",
      "model_module_version": "1.2.0",
      "model_name": "LayoutModel",
      "state": {
       "flex": "2"
      }
     },
     "0821092de5cb41f2ad44e09b5eb7f55e": {
      "model_module": "@jupyter-widgets/controls",
      "model_module_version": "1.5.0",
      "model_name": "DescriptionStyleModel",
      "state": {
       "description_width": ""
      }
     },
     "0849b4a39ad94fa182ebf71011d1b190": {
      "model_module": "@jupyter-widgets/controls",
      "model_module_version": "1.5.0",
      "model_name": "ProgressStyleModel",
      "state": {
       "description_width": ""
      }
     },
     "084eb83437974fdb861436cfbabbc779": {
      "model_module": "@jupyter-widgets/controls",
      "model_module_version": "1.5.0",
      "model_name": "ProgressStyleModel",
      "state": {
       "description_width": ""
      }
     },
     "08533479c770440abc26b0f24c95afe6": {
      "model_module": "@jupyter-widgets/controls",
      "model_module_version": "1.5.0",
      "model_name": "HTMLModel",
      "state": {
       "layout": "IPY_MODEL_cfd696b6ba4b46f1a78ef04ecb0bc950",
       "style": "IPY_MODEL_9a12f528286a480c817f3a30c98c48bf",
       "value": "Validation DataLoader 0: 100%"
      }
     },
     "08608a13e6ed4ccd8ee097b12d83267b": {
      "model_module": "@jupyter-widgets/controls",
      "model_module_version": "1.5.0",
      "model_name": "DescriptionStyleModel",
      "state": {
       "description_width": ""
      }
     },
     "086769ebdbf7443a91d7588c24a8514f": {
      "model_module": "@jupyter-widgets/controls",
      "model_module_version": "1.5.0",
      "model_name": "DescriptionStyleModel",
      "state": {
       "description_width": ""
      }
     },
     "08ad231cd98c4f26ad9055c1d781478d": {
      "model_module": "@jupyter-widgets/controls",
      "model_module_version": "1.5.0",
      "model_name": "ProgressStyleModel",
      "state": {
       "description_width": ""
      }
     },
     "08bb66599eb742c4886d7a0e31fd6914": {
      "model_module": "@jupyter-widgets/controls",
      "model_module_version": "1.5.0",
      "model_name": "FloatProgressModel",
      "state": {
       "layout": "IPY_MODEL_1ef63702cc9043a0a2e6728dd365a1f1",
       "max": 8,
       "style": "IPY_MODEL_cbc275b552c1488d881c7d73de1dd391",
       "value": 8
      }
     },
     "08e3ffd073eb48d9b57b40e838fccae5": {
      "model_module": "@jupyter-widgets/controls",
      "model_module_version": "1.5.0",
      "model_name": "HTMLModel",
      "state": {
       "layout": "IPY_MODEL_31dd5a9c468f4882a1016da32976f3d7",
       "style": "IPY_MODEL_97edba0e5a24430aa5a17ad0534a7ec5",
       "value": " 8/8 [00:04&lt;00:00,  1.87it/s]"
      }
     },
     "09348b6a3277438490eef48207dece4b": {
      "model_module": "@jupyter-widgets/base",
      "model_module_version": "1.2.0",
      "model_name": "LayoutModel",
      "state": {
       "display": "inline-flex",
       "flex_flow": "row wrap",
       "width": "100%"
      }
     },
     "094c3009613c4f18a1c0adc0f0e8cb2d": {
      "model_module": "@jupyter-widgets/controls",
      "model_module_version": "1.5.0",
      "model_name": "ProgressStyleModel",
      "state": {
       "description_width": ""
      }
     },
     "0958afa6d1ce45e89757a8640e719ea9": {
      "model_module": "@jupyter-widgets/controls",
      "model_module_version": "1.5.0",
      "model_name": "HTMLModel",
      "state": {
       "layout": "IPY_MODEL_9fd989c304614e4e86babd99362780c5",
       "style": "IPY_MODEL_7ad665bcfc8b4ba98221449de05b4ccc",
       "value": " 8/8 [00:03&lt;00:00,  2.41it/s]"
      }
     },
     "097b31a3ae90430ca223beeb899de6b6": {
      "model_module": "@jupyter-widgets/controls",
      "model_module_version": "1.5.0",
      "model_name": "DescriptionStyleModel",
      "state": {
       "description_width": ""
      }
     },
     "099836c0567547ef87ddc5f25d61bed6": {
      "model_module": "@jupyter-widgets/base",
      "model_module_version": "1.2.0",
      "model_name": "LayoutModel",
      "state": {
       "display": "inline-flex",
       "flex_flow": "row wrap",
       "width": "100%"
      }
     },
     "0998d677a72e4de99cce6480838ecbaa": {
      "model_module": "@jupyter-widgets/base",
      "model_module_version": "1.2.0",
      "model_name": "LayoutModel",
      "state": {
       "flex": "2"
      }
     },
     "09bea81e72cf4d369b1c91344616e7ae": {
      "model_module": "@jupyter-widgets/controls",
      "model_module_version": "1.5.0",
      "model_name": "DescriptionStyleModel",
      "state": {
       "description_width": ""
      }
     },
     "09d92879755e42cf9373ddb8472e2ca6": {
      "model_module": "@jupyter-widgets/controls",
      "model_module_version": "1.5.0",
      "model_name": "HTMLModel",
      "state": {
       "layout": "IPY_MODEL_d19f85e3dd2b49de9bd365f0056d0305",
       "style": "IPY_MODEL_6085ddc555e8460da80b13f7442f66b2",
       "value": "Validation DataLoader 0: 100%"
      }
     },
     "0a02a90236af43b78a7e1c30dc39ae55": {
      "model_module": "@jupyter-widgets/base",
      "model_module_version": "1.2.0",
      "model_name": "LayoutModel",
      "state": {}
     },
     "0a2bb290b2da49a9b8ef0954d89e8a7d": {
      "model_module": "@jupyter-widgets/controls",
      "model_module_version": "1.5.0",
      "model_name": "DescriptionStyleModel",
      "state": {
       "description_width": ""
      }
     },
     "0a558b1f1bc5403f894f167e9e9aa3ed": {
      "model_module": "@jupyter-widgets/controls",
      "model_module_version": "1.5.0",
      "model_name": "DescriptionStyleModel",
      "state": {
       "description_width": ""
      }
     },
     "0a63a299dffe4a9bb384b113277f005f": {
      "model_module": "@jupyter-widgets/controls",
      "model_module_version": "1.5.0",
      "model_name": "DescriptionStyleModel",
      "state": {
       "description_width": ""
      }
     },
     "0a661120027f4b17bc693d95c2d8c3c7": {
      "model_module": "@jupyter-widgets/base",
      "model_module_version": "1.2.0",
      "model_name": "LayoutModel",
      "state": {
       "flex": "2"
      }
     },
     "0a6e3b5b4b2244bca1129de6bdb60fc6": {
      "model_module": "@jupyter-widgets/base",
      "model_module_version": "1.2.0",
      "model_name": "LayoutModel",
      "state": {}
     },
     "0a71033c693a4289b60e12ffa5ccf400": {
      "model_module": "@jupyter-widgets/base",
      "model_module_version": "1.2.0",
      "model_name": "LayoutModel",
      "state": {}
     },
     "0a90b77acf714f24b0ff644762ef5554": {
      "model_module": "@jupyter-widgets/controls",
      "model_module_version": "1.5.0",
      "model_name": "DescriptionStyleModel",
      "state": {
       "description_width": ""
      }
     },
     "0a98c49f26a64264ab7d25a70d34eb86": {
      "model_module": "@jupyter-widgets/base",
      "model_module_version": "1.2.0",
      "model_name": "LayoutModel",
      "state": {
       "display": "inline-flex",
       "flex_flow": "row wrap",
       "width": "100%"
      }
     },
     "0ab3204eb177490195248975d77f118d": {
      "model_module": "@jupyter-widgets/controls",
      "model_module_version": "1.5.0",
      "model_name": "DescriptionStyleModel",
      "state": {
       "description_width": ""
      }
     },
     "0ad5957ce6ce4113bae32b01fad63c65": {
      "model_module": "@jupyter-widgets/controls",
      "model_module_version": "1.5.0",
      "model_name": "HTMLModel",
      "state": {
       "layout": "IPY_MODEL_f7b0d417874d43e8b746c4966251b06f",
       "style": "IPY_MODEL_ee9bce7d50b54565824a23f7aa85023f",
       "value": " 8/8 [00:02&lt;00:00,  2.98it/s]"
      }
     },
     "0ae827e5aa444f69a0baa869697c5159": {
      "model_module": "@jupyter-widgets/controls",
      "model_module_version": "1.5.0",
      "model_name": "HTMLModel",
      "state": {
       "layout": "IPY_MODEL_075482ee64b04aab84a96d8ceb29e309",
       "style": "IPY_MODEL_b34526723be749c89b185cc266307730",
       "value": "Validation DataLoader 0: 100%"
      }
     },
     "0ae8fe1831c74836b11fe67b9ac85be2": {
      "model_module": "@jupyter-widgets/base",
      "model_module_version": "1.2.0",
      "model_name": "LayoutModel",
      "state": {}
     },
     "0b1f5d7308764fc0b191386110ee956c": {
      "model_module": "@jupyter-widgets/controls",
      "model_module_version": "1.5.0",
      "model_name": "FloatProgressModel",
      "state": {
       "layout": "IPY_MODEL_a37342f283ad47838587455f8653aaef",
       "max": 8,
       "style": "IPY_MODEL_3894c7f6e9a645be9b117e29b2c44fc2",
       "value": 8
      }
     },
     "0b3ede45ece44a5eb46caf6d5b6266b6": {
      "model_module": "@jupyter-widgets/controls",
      "model_module_version": "1.5.0",
      "model_name": "DescriptionStyleModel",
      "state": {
       "description_width": ""
      }
     },
     "0b8ff8cae5154ffa876c3585b9043091": {
      "model_module": "@jupyter-widgets/base",
      "model_module_version": "1.2.0",
      "model_name": "LayoutModel",
      "state": {}
     },
     "0bb1784e7fd046358cf9778eb0d32bcd": {
      "model_module": "@jupyter-widgets/base",
      "model_module_version": "1.2.0",
      "model_name": "LayoutModel",
      "state": {
       "display": "inline-flex",
       "flex_flow": "row wrap",
       "width": "100%"
      }
     },
     "0bc1a669436740ab8ff868ea8b813223": {
      "model_module": "@jupyter-widgets/controls",
      "model_module_version": "1.5.0",
      "model_name": "DescriptionStyleModel",
      "state": {
       "description_width": ""
      }
     },
     "0bdfc58ab7ea4b20bcabd6a386471413": {
      "model_module": "@jupyter-widgets/controls",
      "model_module_version": "1.5.0",
      "model_name": "ProgressStyleModel",
      "state": {
       "description_width": ""
      }
     },
     "0be08e181a334f77948218e789d14f9a": {
      "model_module": "@jupyter-widgets/controls",
      "model_module_version": "1.5.0",
      "model_name": "ProgressStyleModel",
      "state": {
       "description_width": ""
      }
     },
     "0bf48a1a3997482ba07e831b8a70c946": {
      "model_module": "@jupyter-widgets/base",
      "model_module_version": "1.2.0",
      "model_name": "LayoutModel",
      "state": {}
     },
     "0bfd6def3f184ad5aa2c2f174e80448d": {
      "model_module": "@jupyter-widgets/controls",
      "model_module_version": "1.5.0",
      "model_name": "ProgressStyleModel",
      "state": {
       "description_width": ""
      }
     },
     "0c118002138045c186213425304babe7": {
      "model_module": "@jupyter-widgets/base",
      "model_module_version": "1.2.0",
      "model_name": "LayoutModel",
      "state": {}
     },
     "0c1e274f80e74862848c378001c19dcc": {
      "model_module": "@jupyter-widgets/controls",
      "model_module_version": "1.5.0",
      "model_name": "HTMLModel",
      "state": {
       "layout": "IPY_MODEL_cb04ae8034d04177bc3b7bab0efa4587",
       "style": "IPY_MODEL_9c8d44ee12374020b9cff0baba313ae8",
       "value": "Validation DataLoader 0: 100%"
      }
     },
     "0c3446e55e074e098795c12328ef8e0c": {
      "model_module": "@jupyter-widgets/controls",
      "model_module_version": "1.5.0",
      "model_name": "DescriptionStyleModel",
      "state": {
       "description_width": ""
      }
     },
     "0c42c421f1bc41579de1c751f50c69ef": {
      "model_module": "@jupyter-widgets/controls",
      "model_module_version": "1.5.0",
      "model_name": "HTMLModel",
      "state": {
       "layout": "IPY_MODEL_ace8776363aa47a19f9d1f52ee2089b7",
       "style": "IPY_MODEL_39f1cec9a4fd4839a6fa3e613c7283b5",
       "value": " 8/8 [00:02&lt;00:00,  3.35it/s]"
      }
     },
     "0c64a8deac994e27818e02c4f31baafd": {
      "model_module": "@jupyter-widgets/controls",
      "model_module_version": "1.5.0",
      "model_name": "HTMLModel",
      "state": {
       "layout": "IPY_MODEL_8530a134d66e46f9b9c24c713df5d7b7",
       "style": "IPY_MODEL_68b84fa28abd4f17b55c39b4e09d1065",
       "value": " 8/8 [00:03&lt;00:00,  2.16it/s]"
      }
     },
     "0c669c39212d4484b56d15680d2c170f": {
      "model_module": "@jupyter-widgets/base",
      "model_module_version": "1.2.0",
      "model_name": "LayoutModel",
      "state": {
       "display": "inline-flex",
       "flex_flow": "row wrap",
       "width": "100%"
      }
     },
     "0c6894bf55ff4253bf982786c914362b": {
      "model_module": "@jupyter-widgets/base",
      "model_module_version": "1.2.0",
      "model_name": "LayoutModel",
      "state": {
       "flex": "2"
      }
     },
     "0cb6a22283a44f4b87d98a810646731b": {
      "model_module": "@jupyter-widgets/controls",
      "model_module_version": "1.5.0",
      "model_name": "ProgressStyleModel",
      "state": {
       "description_width": ""
      }
     },
     "0cbea9a6ed2242f0a92f87c9d7438049": {
      "model_module": "@jupyter-widgets/base",
      "model_module_version": "1.2.0",
      "model_name": "LayoutModel",
      "state": {
       "display": "inline-flex",
       "flex_flow": "row wrap",
       "width": "100%"
      }
     },
     "0cbfde220cc04333980d958603c94f7e": {
      "model_module": "@jupyter-widgets/controls",
      "model_module_version": "1.5.0",
      "model_name": "HTMLModel",
      "state": {
       "layout": "IPY_MODEL_d3316925544d420fa1c6224400c0c647",
       "style": "IPY_MODEL_0c3446e55e074e098795c12328ef8e0c",
       "value": " 8/8 [00:02&lt;00:00,  2.68it/s]"
      }
     },
     "0ccc505dd6b14e3f9b04bf86d15ed1ca": {
      "model_module": "@jupyter-widgets/controls",
      "model_module_version": "1.5.0",
      "model_name": "HTMLModel",
      "state": {
       "layout": "IPY_MODEL_610e378e5d834b1c97bff28e42312c1a",
       "style": "IPY_MODEL_27a5ad394b1b4fee9615db1bb9424612",
       "value": "Validation DataLoader 0: 100%"
      }
     },
     "0cdc689cf2e649029edaa66d3e3d8e6f": {
      "model_module": "@jupyter-widgets/base",
      "model_module_version": "1.2.0",
      "model_name": "LayoutModel",
      "state": {}
     },
     "0ce3042411974033881627fbf61cd737": {
      "model_module": "@jupyter-widgets/controls",
      "model_module_version": "1.5.0",
      "model_name": "ProgressStyleModel",
      "state": {
       "description_width": ""
      }
     },
     "0ce60b062e794ca9b41961971b4e3122": {
      "model_module": "@jupyter-widgets/controls",
      "model_module_version": "1.5.0",
      "model_name": "DescriptionStyleModel",
      "state": {
       "description_width": ""
      }
     },
     "0cf13fdcea0040beb208062b42b3b6c2": {
      "model_module": "@jupyter-widgets/controls",
      "model_module_version": "1.5.0",
      "model_name": "ProgressStyleModel",
      "state": {
       "description_width": ""
      }
     },
     "0d039c3cf80e4106bc2452c6ec40968f": {
      "model_module": "@jupyter-widgets/controls",
      "model_module_version": "1.5.0",
      "model_name": "HTMLModel",
      "state": {
       "layout": "IPY_MODEL_95b922c6cdab45c6bc190747eeb431eb",
       "style": "IPY_MODEL_ac6cef36c8e449b49337ad423c65010f",
       "value": " 8/8 [00:03&lt;00:00,  2.34it/s]"
      }
     },
     "0d1b20372fa14f9595acca32f3d9b7b1": {
      "model_module": "@jupyter-widgets/base",
      "model_module_version": "1.2.0",
      "model_name": "LayoutModel",
      "state": {
       "flex": "2"
      }
     },
     "0d1efd59605f409399ef59a186ffc08a": {
      "model_module": "@jupyter-widgets/controls",
      "model_module_version": "1.5.0",
      "model_name": "DescriptionStyleModel",
      "state": {
       "description_width": ""
      }
     },
     "0d3921401a154340b4692a14fc72eb2d": {
      "model_module": "@jupyter-widgets/controls",
      "model_module_version": "1.5.0",
      "model_name": "FloatProgressModel",
      "state": {
       "layout": "IPY_MODEL_464cdc289bf14d3986d5a8b1687bd1b6",
       "max": 8,
       "style": "IPY_MODEL_2ad1b90f2edf493fa5fc938e1b3ad48c",
       "value": 8
      }
     },
     "0d4f322205cb4ad492fa56284b1ef306": {
      "model_module": "@jupyter-widgets/controls",
      "model_module_version": "1.5.0",
      "model_name": "HTMLModel",
      "state": {
       "layout": "IPY_MODEL_b84cbd9044fe45cdafd467a1b5a2b50f",
       "style": "IPY_MODEL_15c73ded189f4e4899c54f1af5647af4",
       "value": "Validation DataLoader 0: 100%"
      }
     },
     "0d4f56a4fc6542eb800e8fe75b533c66": {
      "model_module": "@jupyter-widgets/base",
      "model_module_version": "1.2.0",
      "model_name": "LayoutModel",
      "state": {
       "flex": "2"
      }
     },
     "0d52c160dd6941d1b3fb2de70fb72fa6": {
      "model_module": "@jupyter-widgets/base",
      "model_module_version": "1.2.0",
      "model_name": "LayoutModel",
      "state": {
       "flex": "2"
      }
     },
     "0d54edc0f787438ea63ab41afc44bfb7": {
      "model_module": "@jupyter-widgets/base",
      "model_module_version": "1.2.0",
      "model_name": "LayoutModel",
      "state": {}
     },
     "0d729e5925fa437f9552d8e695610998": {
      "model_module": "@jupyter-widgets/controls",
      "model_module_version": "1.5.0",
      "model_name": "DescriptionStyleModel",
      "state": {
       "description_width": ""
      }
     },
     "0d80f904b43e4836a05d7051026b78d8": {
      "model_module": "@jupyter-widgets/base",
      "model_module_version": "1.2.0",
      "model_name": "LayoutModel",
      "state": {
       "flex": "2"
      }
     },
     "0d89d9b6cd6c44e4bdea0cea0c055c10": {
      "model_module": "@jupyter-widgets/base",
      "model_module_version": "1.2.0",
      "model_name": "LayoutModel",
      "state": {}
     },
     "0dc262ce0e3945bcbd903cd9c635c66b": {
      "model_module": "@jupyter-widgets/base",
      "model_module_version": "1.2.0",
      "model_name": "LayoutModel",
      "state": {
       "display": "inline-flex",
       "flex_flow": "row wrap",
       "width": "100%"
      }
     },
     "0dfacb0d7883452d9342a854f793eeaf": {
      "model_module": "@jupyter-widgets/controls",
      "model_module_version": "1.5.0",
      "model_name": "HTMLModel",
      "state": {
       "layout": "IPY_MODEL_ef14239ebdfa4f8fa1c1769ab9b97e48",
       "style": "IPY_MODEL_04141b4c3de3499c9168fd1ca1021153",
       "value": "Validation DataLoader 0: 100%"
      }
     },
     "0dfda528650c4f9fb08936aaa50c1d67": {
      "model_module": "@jupyter-widgets/controls",
      "model_module_version": "1.5.0",
      "model_name": "FloatProgressModel",
      "state": {
       "layout": "IPY_MODEL_06029099f28d4bfa8cd54ce6e8659c3a",
       "max": 8,
       "style": "IPY_MODEL_cd8317277d9c4bfa9f1264422631ec2f",
       "value": 8
      }
     },
     "0e3bb42c41484c1299e81420609f7836": {
      "model_module": "@jupyter-widgets/controls",
      "model_module_version": "1.5.0",
      "model_name": "DescriptionStyleModel",
      "state": {
       "description_width": ""
      }
     },
     "0e56f02153234bd3a0428b89936592eb": {
      "model_module": "@jupyter-widgets/controls",
      "model_module_version": "1.5.0",
      "model_name": "DescriptionStyleModel",
      "state": {
       "description_width": ""
      }
     },
     "0e58a7fec65e49e2856e8fbdaa0aef22": {
      "model_module": "@jupyter-widgets/controls",
      "model_module_version": "1.5.0",
      "model_name": "HTMLModel",
      "state": {
       "layout": "IPY_MODEL_6ad4cc02fbee4c768626f45d9e7e7f6f",
       "style": "IPY_MODEL_9352b2951151410697be84bfad244ba0",
       "value": " 8/8 [00:02&lt;00:00,  3.12it/s]"
      }
     },
     "0e8e6a9d93a44293a414a170f96d836a": {
      "model_module": "@jupyter-widgets/controls",
      "model_module_version": "1.5.0",
      "model_name": "HTMLModel",
      "state": {
       "layout": "IPY_MODEL_67232681097940f29116ecb415d832b0",
       "style": "IPY_MODEL_cd7e024561d3413eaf0a13afc54ecf9c",
       "value": "Validation DataLoader 0: 100%"
      }
     },
     "0ea8a91ecb3e4b34acf86c74809dbf69": {
      "model_module": "@jupyter-widgets/base",
      "model_module_version": "1.2.0",
      "model_name": "LayoutModel",
      "state": {
       "display": "inline-flex",
       "flex_flow": "row wrap",
       "width": "100%"
      }
     },
     "0eb300f084b5406e87855698a52d739d": {
      "model_module": "@jupyter-widgets/controls",
      "model_module_version": "1.5.0",
      "model_name": "DescriptionStyleModel",
      "state": {
       "description_width": ""
      }
     },
     "0ec63f07d4374b4d84bc7ffa3b426585": {
      "model_module": "@jupyter-widgets/controls",
      "model_module_version": "1.5.0",
      "model_name": "DescriptionStyleModel",
      "state": {
       "description_width": ""
      }
     },
     "0ec9476ebc12469d9cd07d82c1d75d94": {
      "model_module": "@jupyter-widgets/base",
      "model_module_version": "1.2.0",
      "model_name": "LayoutModel",
      "state": {}
     },
     "0ecf2d14cdb64c8d8d7af8d1f9e3dfd5": {
      "model_module": "@jupyter-widgets/base",
      "model_module_version": "1.2.0",
      "model_name": "LayoutModel",
      "state": {
       "flex": "2"
      }
     },
     "0ed018594d354b228baa05a4d06e0f5c": {
      "model_module": "@jupyter-widgets/controls",
      "model_module_version": "1.5.0",
      "model_name": "HTMLModel",
      "state": {
       "layout": "IPY_MODEL_07c921554ecf4fd8bfbbeabfd5dde3e8",
       "style": "IPY_MODEL_199e54b5a5e849a5a7e6ffe877d5d3ee",
       "value": " 8/8 [00:02&lt;00:00,  3.07it/s]"
      }
     },
     "0ed90418ba464190b82c81d6f2f4e952": {
      "model_module": "@jupyter-widgets/base",
      "model_module_version": "1.2.0",
      "model_name": "LayoutModel",
      "state": {}
     },
     "0ef9cde3aa02423383193a52c889ef9a": {
      "model_module": "@jupyter-widgets/base",
      "model_module_version": "1.2.0",
      "model_name": "LayoutModel",
      "state": {}
     },
     "0efb99cb10e344dc9ac53d7a096216a1": {
      "model_module": "@jupyter-widgets/base",
      "model_module_version": "1.2.0",
      "model_name": "LayoutModel",
      "state": {
       "display": "inline-flex",
       "flex_flow": "row wrap",
       "width": "100%"
      }
     },
     "0f30a818e8cc4e7b84a79ce00d9c0691": {
      "model_module": "@jupyter-widgets/base",
      "model_module_version": "1.2.0",
      "model_name": "LayoutModel",
      "state": {
       "flex": "2"
      }
     },
     "0f3c2e90a9be4537b97fde299232da35": {
      "model_module": "@jupyter-widgets/base",
      "model_module_version": "1.2.0",
      "model_name": "LayoutModel",
      "state": {}
     },
     "0f431aab75924a4cb70af965b087eb57": {
      "model_module": "@jupyter-widgets/base",
      "model_module_version": "1.2.0",
      "model_name": "LayoutModel",
      "state": {}
     },
     "0f4853d59f9446ec9e5b5fca82bf8052": {
      "model_module": "@jupyter-widgets/controls",
      "model_module_version": "1.5.0",
      "model_name": "FloatProgressModel",
      "state": {
       "layout": "IPY_MODEL_26f9b7b49d1f4d8487ef35161263c243",
       "max": 8,
       "style": "IPY_MODEL_5ccfeca7eb7b49b99f99695c1d7b7b9f",
       "value": 8
      }
     },
     "0f4a0eed94744f24bef62603643dfa65": {
      "model_module": "@jupyter-widgets/controls",
      "model_module_version": "1.5.0",
      "model_name": "HTMLModel",
      "state": {
       "layout": "IPY_MODEL_91aaf8b57ca34101a9bfdeca52a68e7c",
       "style": "IPY_MODEL_021a4c55997c4364a9bfe9b469cd936c",
       "value": "Validation DataLoader 0: 100%"
      }
     },
     "0f8e537d8db54fcc9fd4c11853d92fc1": {
      "model_module": "@jupyter-widgets/base",
      "model_module_version": "1.2.0",
      "model_name": "LayoutModel",
      "state": {
       "display": "inline-flex",
       "flex_flow": "row wrap",
       "width": "100%"
      }
     },
     "0fa6228649d544838575c9a1517f66d5": {
      "model_module": "@jupyter-widgets/controls",
      "model_module_version": "1.5.0",
      "model_name": "DescriptionStyleModel",
      "state": {
       "description_width": ""
      }
     },
     "0faf190ff7474b45ba7a5e5d5f8893ce": {
      "model_module": "@jupyter-widgets/controls",
      "model_module_version": "1.5.0",
      "model_name": "ProgressStyleModel",
      "state": {
       "description_width": ""
      }
     },
     "0fcdc2a89bb64beb8dca4bdf44c4e192": {
      "model_module": "@jupyter-widgets/controls",
      "model_module_version": "1.5.0",
      "model_name": "HTMLModel",
      "state": {
       "layout": "IPY_MODEL_99fb503baf42468d8cbd6062fb4700d6",
       "style": "IPY_MODEL_1391aa491313451995cb0e5be0bcd7f1",
       "value": " 8/8 [00:04&lt;00:00,  1.76it/s]"
      }
     },
     "0ff49203d4c448a387e169da1c541977": {
      "model_module": "@jupyter-widgets/controls",
      "model_module_version": "1.5.0",
      "model_name": "DescriptionStyleModel",
      "state": {
       "description_width": ""
      }
     },
     "103ab0bda3c04e8aba7fbc2c35d95b78": {
      "model_module": "@jupyter-widgets/base",
      "model_module_version": "1.2.0",
      "model_name": "LayoutModel",
      "state": {
       "flex": "2"
      }
     },
     "1084141da1a34e6d90c060ad7ff8e5e8": {
      "model_module": "@jupyter-widgets/controls",
      "model_module_version": "1.5.0",
      "model_name": "HTMLModel",
      "state": {
       "layout": "IPY_MODEL_b79077f697254c648087f5dbee0dfe74",
       "style": "IPY_MODEL_82f569a7c5914dd1ba06bea19d098a48",
       "value": "Validation DataLoader 0: 100%"
      }
     },
     "10879a76e985412b8ce542e726d2db2c": {
      "model_module": "@jupyter-widgets/controls",
      "model_module_version": "1.5.0",
      "model_name": "FloatProgressModel",
      "state": {
       "layout": "IPY_MODEL_1949d1750f6644deba42e420b4e335f1",
       "max": 69,
       "style": "IPY_MODEL_4b34392c715d41919f08bfd73f9dcd3e",
       "value": 26
      }
     },
     "10ab0948449448e9b7395529c30898f3": {
      "model_module": "@jupyter-widgets/controls",
      "model_module_version": "1.5.0",
      "model_name": "ProgressStyleModel",
      "state": {
       "description_width": ""
      }
     },
     "10b6bea81f624c3888cf0f5cff3a78bf": {
      "model_module": "@jupyter-widgets/base",
      "model_module_version": "1.2.0",
      "model_name": "LayoutModel",
      "state": {
       "display": "inline-flex",
       "flex_flow": "row wrap",
       "width": "100%"
      }
     },
     "112e3d6101a0433ea2164515c5ca3e4a": {
      "model_module": "@jupyter-widgets/base",
      "model_module_version": "1.2.0",
      "model_name": "LayoutModel",
      "state": {}
     },
     "1138da9b78474c0c96c6ede1c29c034c": {
      "model_module": "@jupyter-widgets/base",
      "model_module_version": "1.2.0",
      "model_name": "LayoutModel",
      "state": {}
     },
     "115f1f29ee1b42429c5830c5d45a5d38": {
      "model_module": "@jupyter-widgets/controls",
      "model_module_version": "1.5.0",
      "model_name": "FloatProgressModel",
      "state": {
       "layout": "IPY_MODEL_33c72fff26104eb288ba523a0e1ed651",
       "max": 8,
       "style": "IPY_MODEL_9e1a0e634c08490c88793297d98eb24c",
       "value": 8
      }
     },
     "116b48fe35f145cc8677a1920567d527": {
      "model_module": "@jupyter-widgets/controls",
      "model_module_version": "1.5.0",
      "model_name": "DescriptionStyleModel",
      "state": {
       "description_width": ""
      }
     },
     "118fc1e73c4a45d8b104f9e970540d83": {
      "model_module": "@jupyter-widgets/controls",
      "model_module_version": "1.5.0",
      "model_name": "HTMLModel",
      "state": {
       "layout": "IPY_MODEL_e8adcce5ea3d48b4b0feec62e249dc67",
       "style": "IPY_MODEL_187137f507fc41e782be3736d24e3dc7",
       "value": "Validation DataLoader 0: 100%"
      }
     },
     "11b266d251b9405bb93e7d553a4e7e80": {
      "model_module": "@jupyter-widgets/controls",
      "model_module_version": "1.5.0",
      "model_name": "HTMLModel",
      "state": {
       "layout": "IPY_MODEL_72cfadda8db94313a439a166d3de7a55",
       "style": "IPY_MODEL_023252cae97f4123b13bc311b10e0cb5",
       "value": " 8/8 [00:02&lt;00:00,  3.35it/s]"
      }
     },
     "11d268482ca347739d1dc182c0430cdc": {
      "model_module": "@jupyter-widgets/base",
      "model_module_version": "1.2.0",
      "model_name": "LayoutModel",
      "state": {}
     },
     "11d27277aec6480d8aacb4000af68ef8": {
      "model_module": "@jupyter-widgets/controls",
      "model_module_version": "1.5.0",
      "model_name": "ProgressStyleModel",
      "state": {
       "description_width": ""
      }
     },
     "11e204efc7af42a8bdb4f19e7bad9f94": {
      "model_module": "@jupyter-widgets/base",
      "model_module_version": "1.2.0",
      "model_name": "LayoutModel",
      "state": {}
     },
     "11ffcdef53224ef9be7ef9101b0a9880": {
      "model_module": "@jupyter-widgets/base",
      "model_module_version": "1.2.0",
      "model_name": "LayoutModel",
      "state": {
       "flex": "2"
      }
     },
     "1206bdc5efeb48cb9306468fc55972d7": {
      "model_module": "@jupyter-widgets/controls",
      "model_module_version": "1.5.0",
      "model_name": "HTMLModel",
      "state": {
       "layout": "IPY_MODEL_496fe0fda58449f4a40cfb11b1beec31",
       "style": "IPY_MODEL_3bdc58e89bf04bfea495f68f246db7e0",
       "value": "Validation DataLoader 0: 100%"
      }
     },
     "121b0ebe24824f48891c7dd1c51f7d7f": {
      "model_module": "@jupyter-widgets/base",
      "model_module_version": "1.2.0",
      "model_name": "LayoutModel",
      "state": {
       "display": "inline-flex",
       "flex_flow": "row wrap",
       "width": "100%"
      }
     },
     "122107911fce4ff89f39992cf9b85dc4": {
      "model_module": "@jupyter-widgets/controls",
      "model_module_version": "1.5.0",
      "model_name": "HTMLModel",
      "state": {
       "layout": "IPY_MODEL_a97c1a073c17496a971bc2f2b9e5d0af",
       "style": "IPY_MODEL_116b48fe35f145cc8677a1920567d527",
       "value": " 8/8 [00:02&lt;00:00,  3.33it/s]"
      }
     },
     "12395947c2434792983aac419289688d": {
      "model_module": "@jupyter-widgets/controls",
      "model_module_version": "1.5.0",
      "model_name": "ProgressStyleModel",
      "state": {
       "description_width": ""
      }
     },
     "12519f2164cc46229217ecc740b25d9f": {
      "model_module": "@jupyter-widgets/controls",
      "model_module_version": "1.5.0",
      "model_name": "DescriptionStyleModel",
      "state": {
       "description_width": ""
      }
     },
     "12567684a2e84b9299bb30b62da4db23": {
      "model_module": "@jupyter-widgets/controls",
      "model_module_version": "1.5.0",
      "model_name": "ProgressStyleModel",
      "state": {
       "description_width": ""
      }
     },
     "12abc4fddec84b54a6ed3fe7075f90e8": {
      "model_module": "@jupyter-widgets/controls",
      "model_module_version": "1.5.0",
      "model_name": "HTMLModel",
      "state": {
       "layout": "IPY_MODEL_722808784ab9431db9e8f79f56828200",
       "style": "IPY_MODEL_b2e7034832fc489da9eb0420843ed20e",
       "value": " 8/8 [00:02&lt;00:00,  3.20it/s]"
      }
     },
     "12c4263fb15f442ea912800759c6233d": {
      "model_module": "@jupyter-widgets/controls",
      "model_module_version": "1.5.0",
      "model_name": "ProgressStyleModel",
      "state": {
       "description_width": ""
      }
     },
     "12d360ed2575499f9314faef8af70ff6": {
      "model_module": "@jupyter-widgets/controls",
      "model_module_version": "1.5.0",
      "model_name": "FloatProgressModel",
      "state": {
       "layout": "IPY_MODEL_4c51beb05d2d4f139994d81d21d974b5",
       "max": 8,
       "style": "IPY_MODEL_edf99996fcc84cdc91c65d361b03fcfc",
       "value": 8
      }
     },
     "12fb527838a748b0be452fb8fbb7c32a": {
      "model_module": "@jupyter-widgets/controls",
      "model_module_version": "1.5.0",
      "model_name": "DescriptionStyleModel",
      "state": {
       "description_width": ""
      }
     },
     "12ff93d94001416582b1bd54c214788d": {
      "model_module": "@jupyter-widgets/controls",
      "model_module_version": "1.5.0",
      "model_name": "FloatProgressModel",
      "state": {
       "layout": "IPY_MODEL_78a2101980fa491497d47b3163d86b89",
       "max": 8,
       "style": "IPY_MODEL_2c02c02d51314d768cc452d35239153a",
       "value": 8
      }
     },
     "130edb1708d4468a8bc438cf0136f670": {
      "model_module": "@jupyter-widgets/base",
      "model_module_version": "1.2.0",
      "model_name": "LayoutModel",
      "state": {
       "flex": "2"
      }
     },
     "1336a9e188f34b94a752822141c415c8": {
      "model_module": "@jupyter-widgets/base",
      "model_module_version": "1.2.0",
      "model_name": "LayoutModel",
      "state": {
       "display": "inline-flex",
       "flex_flow": "row wrap",
       "width": "100%"
      }
     },
     "1338166cdafc43f9b0386f713dea977b": {
      "model_module": "@jupyter-widgets/base",
      "model_module_version": "1.2.0",
      "model_name": "LayoutModel",
      "state": {
       "display": "inline-flex",
       "flex_flow": "row wrap",
       "width": "100%"
      }
     },
     "13496926abe741148fffb37ba3380f45": {
      "model_module": "@jupyter-widgets/controls",
      "model_module_version": "1.5.0",
      "model_name": "DescriptionStyleModel",
      "state": {
       "description_width": ""
      }
     },
     "138551de0ed644b393543682f92ee8d7": {
      "model_module": "@jupyter-widgets/controls",
      "model_module_version": "1.5.0",
      "model_name": "HTMLModel",
      "state": {
       "layout": "IPY_MODEL_e8852a0a9e6c4467b5bd42885b2b9fd9",
       "style": "IPY_MODEL_3ccafbc33ba147f29406bf3a91a098eb",
       "value": "Validation DataLoader 0: 100%"
      }
     },
     "1391aa491313451995cb0e5be0bcd7f1": {
      "model_module": "@jupyter-widgets/controls",
      "model_module_version": "1.5.0",
      "model_name": "DescriptionStyleModel",
      "state": {
       "description_width": ""
      }
     },
     "13a21eacc5804ad0b6ae977cba53b2ac": {
      "model_module": "@jupyter-widgets/base",
      "model_module_version": "1.2.0",
      "model_name": "LayoutModel",
      "state": {}
     },
     "13d9a49675354c3ba94602fe9fbfea98": {
      "model_module": "@jupyter-widgets/base",
      "model_module_version": "1.2.0",
      "model_name": "LayoutModel",
      "state": {}
     },
     "13de1bf848f048358da3bb8f1b88e298": {
      "model_module": "@jupyter-widgets/base",
      "model_module_version": "1.2.0",
      "model_name": "LayoutModel",
      "state": {}
     },
     "13ef24b1f35d4e4fbdac85ca39024147": {
      "model_module": "@jupyter-widgets/base",
      "model_module_version": "1.2.0",
      "model_name": "LayoutModel",
      "state": {}
     },
     "1400ae70a1564d49b10235c2dc7d685b": {
      "model_module": "@jupyter-widgets/controls",
      "model_module_version": "1.5.0",
      "model_name": "FloatProgressModel",
      "state": {
       "layout": "IPY_MODEL_c097a1ea29a6480f8b4d9ff2e01a44fd",
       "max": 69,
       "style": "IPY_MODEL_844f89c8279747d2b39d27c6c3dfbeb3",
       "value": 21
      }
     },
     "142dde26e63e4df7a131ef54fec8b80d": {
      "model_module": "@jupyter-widgets/base",
      "model_module_version": "1.2.0",
      "model_name": "LayoutModel",
      "state": {}
     },
     "143df8210eb445bf892a781015700c5b": {
      "model_module": "@jupyter-widgets/controls",
      "model_module_version": "1.5.0",
      "model_name": "HTMLModel",
      "state": {
       "layout": "IPY_MODEL_f6db546efa174c46a6523c5ea7c8b052",
       "style": "IPY_MODEL_45f3e1a474a64fe597c5649231f712fa",
       "value": " 3/69 [00:03&lt;01:08,  1.04s/it, loss=1.96, v_num=-131]"
      }
     },
     "146aecf037b64557b0d21bfadaa6fbf0": {
      "model_module": "@jupyter-widgets/base",
      "model_module_version": "1.2.0",
      "model_name": "LayoutModel",
      "state": {}
     },
     "14aee0c0f22b4773a34127202844a728": {
      "model_module": "@jupyter-widgets/controls",
      "model_module_version": "1.5.0",
      "model_name": "ProgressStyleModel",
      "state": {
       "description_width": ""
      }
     },
     "14c8c2ca293e474cb9086cddda8920d9": {
      "model_module": "@jupyter-widgets/controls",
      "model_module_version": "1.5.0",
      "model_name": "HTMLModel",
      "state": {
       "layout": "IPY_MODEL_39cf35b88def4b838a887255bc5bdaef",
       "style": "IPY_MODEL_1efbc9789cd14f61b9c47643c33f8a53",
       "value": " 8/8 [00:02&lt;00:00,  3.09it/s]"
      }
     },
     "14de5cc32f3f449ab484b5cf218bb7a0": {
      "model_module": "@jupyter-widgets/base",
      "model_module_version": "1.2.0",
      "model_name": "LayoutModel",
      "state": {
       "flex": "2"
      }
     },
     "1515e8169f0941648a8a6b544d966bf1": {
      "model_module": "@jupyter-widgets/base",
      "model_module_version": "1.2.0",
      "model_name": "LayoutModel",
      "state": {
       "flex": "2"
      }
     },
     "152329758d8e45b9be0900ddd916bd1b": {
      "model_module": "@jupyter-widgets/base",
      "model_module_version": "1.2.0",
      "model_name": "LayoutModel",
      "state": {}
     },
     "152749fa4ade44ccbb073ac399f8cf9e": {
      "model_module": "@jupyter-widgets/controls",
      "model_module_version": "1.5.0",
      "model_name": "ProgressStyleModel",
      "state": {
       "description_width": ""
      }
     },
     "153268a015704acea2bf719914592d50": {
      "model_module": "@jupyter-widgets/base",
      "model_module_version": "1.2.0",
      "model_name": "LayoutModel",
      "state": {
       "display": "inline-flex",
       "flex_flow": "row wrap",
       "width": "100%"
      }
     },
     "15555ad57ab6486399cb0ca9f018d550": {
      "model_module": "@jupyter-widgets/base",
      "model_module_version": "1.2.0",
      "model_name": "LayoutModel",
      "state": {}
     },
     "1576914fb1c2457d84ce2f0df3511fb8": {
      "model_module": "@jupyter-widgets/base",
      "model_module_version": "1.2.0",
      "model_name": "LayoutModel",
      "state": {}
     },
     "15b6762ed6bb48dbac5e11ca048f1eb6": {
      "model_module": "@jupyter-widgets/controls",
      "model_module_version": "1.5.0",
      "model_name": "FloatProgressModel",
      "state": {
       "layout": "IPY_MODEL_e40492243913409fba51c08b3f7254a9",
       "max": 8,
       "style": "IPY_MODEL_cd33148cb7f7419a988abaace834ff97",
       "value": 8
      }
     },
     "15c336d1207c4a689cb2b784199a91b2": {
      "model_module": "@jupyter-widgets/controls",
      "model_module_version": "1.5.0",
      "model_name": "HTMLModel",
      "state": {
       "layout": "IPY_MODEL_76872e09c9a2480082de8cf2346e5d69",
       "style": "IPY_MODEL_b011d5cb202a4e8e8ab1a401382e495d",
       "value": "Validation DataLoader 0: 100%"
      }
     },
     "15c73ded189f4e4899c54f1af5647af4": {
      "model_module": "@jupyter-widgets/controls",
      "model_module_version": "1.5.0",
      "model_name": "DescriptionStyleModel",
      "state": {
       "description_width": ""
      }
     },
     "15d3df2ba18048789c1af54add54df8d": {
      "model_module": "@jupyter-widgets/base",
      "model_module_version": "1.2.0",
      "model_name": "LayoutModel",
      "state": {}
     },
     "15efe6d3b5bc47e694948627a5529a36": {
      "model_module": "@jupyter-widgets/controls",
      "model_module_version": "1.5.0",
      "model_name": "DescriptionStyleModel",
      "state": {
       "description_width": ""
      }
     },
     "160571c9269545d6a13af1c20fdac5db": {
      "model_module": "@jupyter-widgets/controls",
      "model_module_version": "1.5.0",
      "model_name": "HTMLModel",
      "state": {
       "layout": "IPY_MODEL_e4cd488adf284886abdeb8c50fee5a77",
       "style": "IPY_MODEL_cf9d1f4f792c4af0b85f7cb8ce45f53a",
       "value": "Validation DataLoader 0: 100%"
      }
     },
     "16379eb6fa254caca2dc86279559bd8e": {
      "model_module": "@jupyter-widgets/base",
      "model_module_version": "1.2.0",
      "model_name": "LayoutModel",
      "state": {}
     },
     "167a810f080d4326a2c6f71812f10c84": {
      "model_module": "@jupyter-widgets/controls",
      "model_module_version": "1.5.0",
      "model_name": "DescriptionStyleModel",
      "state": {
       "description_width": ""
      }
     },
     "167afb32341a4f9095b003087a98dfac": {
      "model_module": "@jupyter-widgets/controls",
      "model_module_version": "1.5.0",
      "model_name": "HBoxModel",
      "state": {
       "children": [
        "IPY_MODEL_04058028c35b4a0db212f4c751e016e3",
        "IPY_MODEL_bda38c5049ad499496ee6a1d849eaa83",
        "IPY_MODEL_0555aa8d31774476be5f0cbd85dc18ac"
       ],
       "layout": "IPY_MODEL_b1d5b896bc874065b6baee6f08f02fd6"
      }
     },
     "169cf521bf164cb4a8c72fc986f9f9e7": {
      "model_module": "@jupyter-widgets/controls",
      "model_module_version": "1.5.0",
      "model_name": "DescriptionStyleModel",
      "state": {
       "description_width": ""
      }
     },
     "16a560fe72a74aa0b040790ce6f95925": {
      "model_module": "@jupyter-widgets/controls",
      "model_module_version": "1.5.0",
      "model_name": "HTMLModel",
      "state": {
       "layout": "IPY_MODEL_51176e77a02c4ac39c98c71ae823347f",
       "style": "IPY_MODEL_c0781843601140ffb05547a680acee50",
       "value": " 8/8 [00:02&lt;00:00,  3.01it/s]"
      }
     },
     "16b5b0425fe34204a1da7e78e097f5bf": {
      "model_module": "@jupyter-widgets/base",
      "model_module_version": "1.2.0",
      "model_name": "LayoutModel",
      "state": {
       "display": "inline-flex",
       "flex_flow": "row wrap",
       "width": "100%"
      }
     },
     "16c2cfd1af28407f98db6660f44061be": {
      "model_module": "@jupyter-widgets/base",
      "model_module_version": "1.2.0",
      "model_name": "LayoutModel",
      "state": {
       "flex": "2"
      }
     },
     "16e54a4eaae94f67b32acc1093f185a4": {
      "model_module": "@jupyter-widgets/base",
      "model_module_version": "1.2.0",
      "model_name": "LayoutModel",
      "state": {}
     },
     "16eba2e2bb8343d9b59b2166a26b5a4c": {
      "model_module": "@jupyter-widgets/base",
      "model_module_version": "1.2.0",
      "model_name": "LayoutModel",
      "state": {}
     },
     "16f84fe707aa4f73abdaa8ea71cc4a47": {
      "model_module": "@jupyter-widgets/controls",
      "model_module_version": "1.5.0",
      "model_name": "HTMLModel",
      "state": {
       "layout": "IPY_MODEL_654ade313a124cf288702a27eadd3815",
       "style": "IPY_MODEL_5989bb64dad04280bb67d78386247708",
       "value": "Validation DataLoader 0: 100%"
      }
     },
     "174f3146751448f197ada03fdfbdaf4b": {
      "model_module": "@jupyter-widgets/controls",
      "model_module_version": "1.5.0",
      "model_name": "HTMLModel",
      "state": {
       "layout": "IPY_MODEL_0bf48a1a3997482ba07e831b8a70c946",
       "style": "IPY_MODEL_d94c116008bb4f9f9ff895198fd71230",
       "value": "Validation DataLoader 0: 100%"
      }
     },
     "1773809a094940dd9bf9f45521fabec1": {
      "model_module": "@jupyter-widgets/controls",
      "model_module_version": "1.5.0",
      "model_name": "DescriptionStyleModel",
      "state": {
       "description_width": ""
      }
     },
     "1773ce8e57044dc28329cc3dec874c71": {
      "model_module": "@jupyter-widgets/base",
      "model_module_version": "1.2.0",
      "model_name": "LayoutModel",
      "state": {
       "flex": "2"
      }
     },
     "17a5f427d6164c28902ddd004e2085ce": {
      "model_module": "@jupyter-widgets/controls",
      "model_module_version": "1.5.0",
      "model_name": "HTMLModel",
      "state": {
       "layout": "IPY_MODEL_66914837edf9443d97c54a52d4e33c1b",
       "style": "IPY_MODEL_9daef24f684e454399f374c715740327",
       "value": "Validation DataLoader 0: 100%"
      }
     },
     "17b4c8c488ea4703a20369ae414ac8cc": {
      "model_module": "@jupyter-widgets/controls",
      "model_module_version": "1.5.0",
      "model_name": "FloatProgressModel",
      "state": {
       "layout": "IPY_MODEL_b52827282b8f4b3498a14c874ca9f900",
       "max": 8,
       "style": "IPY_MODEL_23b0e8337ac64073ae96545797b0ac3b",
       "value": 8
      }
     },
     "17c34c7fd49d480b8d7013696b7be3b5": {
      "model_module": "@jupyter-widgets/controls",
      "model_module_version": "1.5.0",
      "model_name": "HTMLModel",
      "state": {
       "layout": "IPY_MODEL_0ef9cde3aa02423383193a52c889ef9a",
       "style": "IPY_MODEL_169cf521bf164cb4a8c72fc986f9f9e7",
       "value": "Validation DataLoader 0: 100%"
      }
     },
     "17cd5793d38748faa0b0571bdcd29a73": {
      "model_module": "@jupyter-widgets/controls",
      "model_module_version": "1.5.0",
      "model_name": "FloatProgressModel",
      "state": {
       "layout": "IPY_MODEL_77497ca1773941c2bdb8ef23faf598fe",
       "max": 2,
       "style": "IPY_MODEL_12395947c2434792983aac419289688d",
       "value": 2
      }
     },
     "1830895e7daf40639f0432418aea652c": {
      "model_module": "@jupyter-widgets/controls",
      "model_module_version": "1.5.0",
      "model_name": "HTMLModel",
      "state": {
       "layout": "IPY_MODEL_079ed97bebc44e82bd67c06258902520",
       "style": "IPY_MODEL_83b0e3cf57fc422aa3dd0a747090c29c",
       "value": " 8/8 [00:04&lt;00:00,  1.86it/s]"
      }
     },
     "183c5ec0550f49e9be431a68af808125": {
      "model_module": "@jupyter-widgets/controls",
      "model_module_version": "1.5.0",
      "model_name": "HTMLModel",
      "state": {
       "layout": "IPY_MODEL_4f89049dfce54f8db82a1d4254612a79",
       "style": "IPY_MODEL_7504460c99b94d129420e6ee9f211785",
       "value": "Validation DataLoader 0: 100%"
      }
     },
     "183ed1bf359d4781a7fd8ab607a32574": {
      "model_module": "@jupyter-widgets/controls",
      "model_module_version": "1.5.0",
      "model_name": "HTMLModel",
      "state": {
       "layout": "IPY_MODEL_2ad49b9b837440a4a34e5ba4dcc99b27",
       "style": "IPY_MODEL_4e63949b8e0c4d3297de6e8f76f9bf20",
       "value": " 8/8 [00:02&lt;00:00,  3.40it/s]"
      }
     },
     "184af32d13aa4fc6bf44dd46ea8d01f0": {
      "model_module": "@jupyter-widgets/base",
      "model_module_version": "1.2.0",
      "model_name": "LayoutModel",
      "state": {}
     },
     "184fae13f4644001afb59375313ff839": {
      "model_module": "@jupyter-widgets/controls",
      "model_module_version": "1.5.0",
      "model_name": "ProgressStyleModel",
      "state": {
       "description_width": ""
      }
     },
     "1853c1bec02c4761b4bd6e1618265f14": {
      "model_module": "@jupyter-widgets/controls",
      "model_module_version": "1.5.0",
      "model_name": "DescriptionStyleModel",
      "state": {
       "description_width": ""
      }
     },
     "187137f507fc41e782be3736d24e3dc7": {
      "model_module": "@jupyter-widgets/controls",
      "model_module_version": "1.5.0",
      "model_name": "DescriptionStyleModel",
      "state": {
       "description_width": ""
      }
     },
     "187819f7ddb04f7bb294e24f4d6d5c94": {
      "model_module": "@jupyter-widgets/base",
      "model_module_version": "1.2.0",
      "model_name": "LayoutModel",
      "state": {}
     },
     "187e983a988d45d69a411157f86da955": {
      "model_module": "@jupyter-widgets/base",
      "model_module_version": "1.2.0",
      "model_name": "LayoutModel",
      "state": {}
     },
     "1880deac48c94dfba6d44165f383140e": {
      "model_module": "@jupyter-widgets/controls",
      "model_module_version": "1.5.0",
      "model_name": "HTMLModel",
      "state": {
       "layout": "IPY_MODEL_a2af06ed3b2c4b259f12f2f6242becf8",
       "style": "IPY_MODEL_966fc898538b46be82f3b120a2d14427",
       "value": " 8/8 [00:02&lt;00:00,  2.78it/s]"
      }
     },
     "18a255e5c3944269a1fa68bcb74aea19": {
      "model_module": "@jupyter-widgets/controls",
      "model_module_version": "1.5.0",
      "model_name": "ProgressStyleModel",
      "state": {
       "description_width": ""
      }
     },
     "18b559a0e85f49f9ab26d9b3a1ea5404": {
      "model_module": "@jupyter-widgets/controls",
      "model_module_version": "1.5.0",
      "model_name": "HTMLModel",
      "state": {
       "layout": "IPY_MODEL_f6a5ca5f056d42c18696406bd10b3bd2",
       "style": "IPY_MODEL_717b18fa186e470c94a9a72e050565a5",
       "value": "Validation DataLoader 0: 100%"
      }
     },
     "18c3990d4e6e4d02b7c618785469723f": {
      "model_module": "@jupyter-widgets/base",
      "model_module_version": "1.2.0",
      "model_name": "LayoutModel",
      "state": {}
     },
     "18eb81a39f0f4e2db139012c68b9f339": {
      "model_module": "@jupyter-widgets/controls",
      "model_module_version": "1.5.0",
      "model_name": "DescriptionStyleModel",
      "state": {
       "description_width": ""
      }
     },
     "18fd3bd0137b44bcae09e0045f0b56d1": {
      "model_module": "@jupyter-widgets/controls",
      "model_module_version": "1.5.0",
      "model_name": "ProgressStyleModel",
      "state": {
       "description_width": ""
      }
     },
     "19020e9057ef407fb095212ae45e428e": {
      "model_module": "@jupyter-widgets/controls",
      "model_module_version": "1.5.0",
      "model_name": "DescriptionStyleModel",
      "state": {
       "description_width": ""
      }
     },
     "19135f23766647e985150078e1b41efb": {
      "model_module": "@jupyter-widgets/base",
      "model_module_version": "1.2.0",
      "model_name": "LayoutModel",
      "state": {
       "flex": "2"
      }
     },
     "19256c26e9ee4738a195010c3d81248a": {
      "model_module": "@jupyter-widgets/controls",
      "model_module_version": "1.5.0",
      "model_name": "DescriptionStyleModel",
      "state": {
       "description_width": ""
      }
     },
     "1949d1750f6644deba42e420b4e335f1": {
      "model_module": "@jupyter-widgets/base",
      "model_module_version": "1.2.0",
      "model_name": "LayoutModel",
      "state": {
       "flex": "2"
      }
     },
     "1966e4e949054cf78945e883d9093fc2": {
      "model_module": "@jupyter-widgets/base",
      "model_module_version": "1.2.0",
      "model_name": "LayoutModel",
      "state": {
       "display": "inline-flex",
       "flex_flow": "row wrap",
       "width": "100%"
      }
     },
     "197b330048df48be940ac77a7ab0a50c": {
      "model_module": "@jupyter-widgets/controls",
      "model_module_version": "1.5.0",
      "model_name": "HTMLModel",
      "state": {
       "layout": "IPY_MODEL_6c34662a9ba74ae2909e59c0040ca7e6",
       "style": "IPY_MODEL_d2e832e9529d45e7b58ee04a9f998955",
       "value": "Validation DataLoader 0: 100%"
      }
     },
     "198aad9c8b1d410094cb510dd833daf2": {
      "model_module": "@jupyter-widgets/base",
      "model_module_version": "1.2.0",
      "model_name": "LayoutModel",
      "state": {
       "display": "inline-flex",
       "flex_flow": "row wrap",
       "width": "100%"
      }
     },
     "199b686f52114e89b83e3d6a569e6cc1": {
      "model_module": "@jupyter-widgets/base",
      "model_module_version": "1.2.0",
      "model_name": "LayoutModel",
      "state": {
       "display": "inline-flex",
       "flex_flow": "row wrap",
       "width": "100%"
      }
     },
     "199e54b5a5e849a5a7e6ffe877d5d3ee": {
      "model_module": "@jupyter-widgets/controls",
      "model_module_version": "1.5.0",
      "model_name": "DescriptionStyleModel",
      "state": {
       "description_width": ""
      }
     },
     "19b41f49176a40bc9b662d75af4ff6cf": {
      "model_module": "@jupyter-widgets/base",
      "model_module_version": "1.2.0",
      "model_name": "LayoutModel",
      "state": {
       "display": "inline-flex",
       "flex_flow": "row wrap",
       "width": "100%"
      }
     },
     "1a00bba6b26146ee8d4ab27e54193933": {
      "model_module": "@jupyter-widgets/base",
      "model_module_version": "1.2.0",
      "model_name": "LayoutModel",
      "state": {
       "display": "inline-flex",
       "flex_flow": "row wrap",
       "width": "100%"
      }
     },
     "1a1d226fc9e64a30a0742958383ae0d8": {
      "model_module": "@jupyter-widgets/base",
      "model_module_version": "1.2.0",
      "model_name": "LayoutModel",
      "state": {
       "display": "inline-flex",
       "flex_flow": "row wrap",
       "width": "100%"
      }
     },
     "1a2fd97bb2854417ba1fdc4e45273ec0": {
      "model_module": "@jupyter-widgets/base",
      "model_module_version": "1.2.0",
      "model_name": "LayoutModel",
      "state": {}
     },
     "1a5ddb62740c4ee5a4059b43d5583067": {
      "model_module": "@jupyter-widgets/controls",
      "model_module_version": "1.5.0",
      "model_name": "FloatProgressModel",
      "state": {
       "layout": "IPY_MODEL_bfb8db085dce4591b1e030a0bf004b8d",
       "max": 8,
       "style": "IPY_MODEL_fc22d3e053d84db98e0985d6e81a9dac",
       "value": 8
      }
     },
     "1b02322328464f67a453b25ca32ca6eb": {
      "model_module": "@jupyter-widgets/controls",
      "model_module_version": "1.5.0",
      "model_name": "DescriptionStyleModel",
      "state": {
       "description_width": ""
      }
     },
     "1b024e6e23ca4837bee0aace1246bfb5": {
      "model_module": "@jupyter-widgets/controls",
      "model_module_version": "1.5.0",
      "model_name": "DescriptionStyleModel",
      "state": {
       "description_width": ""
      }
     },
     "1b07094bd97f42d2ae43110477d0168d": {
      "model_module": "@jupyter-widgets/base",
      "model_module_version": "1.2.0",
      "model_name": "LayoutModel",
      "state": {
       "display": "inline-flex",
       "flex_flow": "row wrap",
       "width": "100%"
      }
     },
     "1b176d6aadad4cb99006476ad2922779": {
      "model_module": "@jupyter-widgets/base",
      "model_module_version": "1.2.0",
      "model_name": "LayoutModel",
      "state": {}
     },
     "1b179fb3e1c44094ae80383e9291093e": {
      "model_module": "@jupyter-widgets/base",
      "model_module_version": "1.2.0",
      "model_name": "LayoutModel",
      "state": {}
     },
     "1b40d2c0bc0b4360ac421dff6e041cf0": {
      "model_module": "@jupyter-widgets/base",
      "model_module_version": "1.2.0",
      "model_name": "LayoutModel",
      "state": {
       "display": "inline-flex",
       "flex_flow": "row wrap",
       "width": "100%"
      }
     },
     "1b700fa9c1e949439a2d851eb49ce57f": {
      "model_module": "@jupyter-widgets/controls",
      "model_module_version": "1.5.0",
      "model_name": "ProgressStyleModel",
      "state": {
       "description_width": ""
      }
     },
     "1bb8c18fdd7b415facf79593db0da0a4": {
      "model_module": "@jupyter-widgets/base",
      "model_module_version": "1.2.0",
      "model_name": "LayoutModel",
      "state": {}
     },
     "1bf6a19733e54ee1b9670aaa7148b7c7": {
      "model_module": "@jupyter-widgets/base",
      "model_module_version": "1.2.0",
      "model_name": "LayoutModel",
      "state": {
       "display": "inline-flex",
       "flex_flow": "row wrap",
       "width": "100%"
      }
     },
     "1c0ebaf3e9a64913b6bf80d1da6276bd": {
      "model_module": "@jupyter-widgets/controls",
      "model_module_version": "1.5.0",
      "model_name": "ProgressStyleModel",
      "state": {
       "description_width": ""
      }
     },
     "1c45ad09e10c408294b3947d32d4c008": {
      "model_module": "@jupyter-widgets/controls",
      "model_module_version": "1.5.0",
      "model_name": "DescriptionStyleModel",
      "state": {
       "description_width": ""
      }
     },
     "1c4d6e00537c42fbb97cae40a7aed4e1": {
      "model_module": "@jupyter-widgets/controls",
      "model_module_version": "1.5.0",
      "model_name": "DescriptionStyleModel",
      "state": {
       "description_width": ""
      }
     },
     "1c7834270e004a6d94dc00ed3ac46f81": {
      "model_module": "@jupyter-widgets/base",
      "model_module_version": "1.2.0",
      "model_name": "LayoutModel",
      "state": {}
     },
     "1c7bc20f16144fa8ad766d834456f937": {
      "model_module": "@jupyter-widgets/controls",
      "model_module_version": "1.5.0",
      "model_name": "DescriptionStyleModel",
      "state": {
       "description_width": ""
      }
     },
     "1c9be36c33874563a10ef716fe48f26f": {
      "model_module": "@jupyter-widgets/base",
      "model_module_version": "1.2.0",
      "model_name": "LayoutModel",
      "state": {
       "display": "inline-flex",
       "flex_flow": "row wrap",
       "width": "100%"
      }
     },
     "1ca5966e3d4648a4b44b1b8bea6d53e2": {
      "model_module": "@jupyter-widgets/base",
      "model_module_version": "1.2.0",
      "model_name": "LayoutModel",
      "state": {}
     },
     "1cbc9a55485741d6868bc8829d28b543": {
      "model_module": "@jupyter-widgets/controls",
      "model_module_version": "1.5.0",
      "model_name": "ProgressStyleModel",
      "state": {
       "description_width": ""
      }
     },
     "1cc67acc47274a779f2f84bc2ca0b818": {
      "model_module": "@jupyter-widgets/controls",
      "model_module_version": "1.5.0",
      "model_name": "FloatProgressModel",
      "state": {
       "layout": "IPY_MODEL_fa8121bd256047ad81a3898ad43d5735",
       "max": 8,
       "style": "IPY_MODEL_386e3223c5494e439cf9e6ac3ee4958e",
       "value": 8
      }
     },
     "1cd03af4face463db2a7a253bea9a887": {
      "model_module": "@jupyter-widgets/controls",
      "model_module_version": "1.5.0",
      "model_name": "DescriptionStyleModel",
      "state": {
       "description_width": ""
      }
     },
     "1cddca5e64df46b4a3e222968e0a9ed9": {
      "model_module": "@jupyter-widgets/controls",
      "model_module_version": "1.5.0",
      "model_name": "HTMLModel",
      "state": {
       "layout": "IPY_MODEL_2756c4809a904877a09acc52ce34d3b5",
       "style": "IPY_MODEL_3438e64ab3c44ed8ab26f6b2420b6afc",
       "value": "Validation DataLoader 0: 100%"
      }
     },
     "1d003a1e4bb44d678fecc55e3da5e031": {
      "model_module": "@jupyter-widgets/base",
      "model_module_version": "1.2.0",
      "model_name": "LayoutModel",
      "state": {
       "display": "inline-flex",
       "flex_flow": "row wrap",
       "width": "100%"
      }
     },
     "1d02c06cdf064339a9b0fd72c6f3db11": {
      "model_module": "@jupyter-widgets/controls",
      "model_module_version": "1.5.0",
      "model_name": "FloatProgressModel",
      "state": {
       "layout": "IPY_MODEL_61a319a283514e14b14b891609b4c630",
       "max": 8,
       "style": "IPY_MODEL_cc5987d3743e46d9a2e84002f2223be1",
       "value": 8
      }
     },
     "1d091ad833af462b93eeb001021d0a71": {
      "model_module": "@jupyter-widgets/controls",
      "model_module_version": "1.5.0",
      "model_name": "FloatProgressModel",
      "state": {
       "layout": "IPY_MODEL_ef4e0778f05c4eb29314b7987fcfd5c4",
       "max": 8,
       "style": "IPY_MODEL_d75aa4e3f60f40128da4bb2f1b46ae8d",
       "value": 8
      }
     },
     "1d0b68cee95944bb82044c63e2d26837": {
      "model_module": "@jupyter-widgets/base",
      "model_module_version": "1.2.0",
      "model_name": "LayoutModel",
      "state": {
       "display": "inline-flex",
       "flex_flow": "row wrap",
       "width": "100%"
      }
     },
     "1d1579c9e6944287a41a70c4d0461a7f": {
      "model_module": "@jupyter-widgets/controls",
      "model_module_version": "1.5.0",
      "model_name": "HTMLModel",
      "state": {
       "layout": "IPY_MODEL_ce0029a5a8f34db89648bdbce41f93ab",
       "style": "IPY_MODEL_2df6875b464f4a6e859eabeb3bffa102",
       "value": "Epoch 0:   4%"
      }
     },
     "1d2140e172b048cd8dac6f23c4c5ec83": {
      "model_module": "@jupyter-widgets/base",
      "model_module_version": "1.2.0",
      "model_name": "LayoutModel",
      "state": {
       "flex": "2"
      }
     },
     "1d406062b0a4442f971b342f8a77fd91": {
      "model_module": "@jupyter-widgets/controls",
      "model_module_version": "1.5.0",
      "model_name": "FloatProgressModel",
      "state": {
       "layout": "IPY_MODEL_55a3f767437f41c7949d7b1e72208803",
       "max": 8,
       "style": "IPY_MODEL_42520e81114d40bdbf5c4b5b9059d31d",
       "value": 8
      }
     },
     "1d4d87cc490c4c8a8ff0a803ac946c11": {
      "model_module": "@jupyter-widgets/controls",
      "model_module_version": "1.5.0",
      "model_name": "HTMLModel",
      "state": {
       "layout": "IPY_MODEL_78dedbd91df64feab82b9c3437406cde",
       "style": "IPY_MODEL_f78d5e97ffd245ff814720d605e1aa27",
       "value": "Validation DataLoader 0: 100%"
      }
     },
     "1d5bb84ebd174133a9c500239ac40a09": {
      "model_module": "@jupyter-widgets/base",
      "model_module_version": "1.2.0",
      "model_name": "LayoutModel",
      "state": {
       "display": "inline-flex",
       "flex_flow": "row wrap",
       "width": "100%"
      }
     },
     "1d86e5aae0e4466c93fdc8f8533f322a": {
      "model_module": "@jupyter-widgets/controls",
      "model_module_version": "1.5.0",
      "model_name": "DescriptionStyleModel",
      "state": {
       "description_width": ""
      }
     },
     "1d9ea239b6fb4435944b9993a3010c61": {
      "model_module": "@jupyter-widgets/controls",
      "model_module_version": "1.5.0",
      "model_name": "DescriptionStyleModel",
      "state": {
       "description_width": ""
      }
     },
     "1dd3db69df1c43918befd24b29adc008": {
      "model_module": "@jupyter-widgets/base",
      "model_module_version": "1.2.0",
      "model_name": "LayoutModel",
      "state": {}
     },
     "1de90bcdc5b1493bae91f4e0e20b2111": {
      "model_module": "@jupyter-widgets/controls",
      "model_module_version": "1.5.0",
      "model_name": "ProgressStyleModel",
      "state": {
       "description_width": ""
      }
     },
     "1e16cfb55769472986781f7e628fc7a3": {
      "model_module": "@jupyter-widgets/controls",
      "model_module_version": "1.5.0",
      "model_name": "HTMLModel",
      "state": {
       "layout": "IPY_MODEL_c11a404b99cb45d793113988c22eba3e",
       "style": "IPY_MODEL_b77c7d7982104a4b81dcee7249399a5b",
       "value": "Validation DataLoader 0: 100%"
      }
     },
     "1e2e6932d89f4d1c9a6d75e7f594d82e": {
      "model_module": "@jupyter-widgets/base",
      "model_module_version": "1.2.0",
      "model_name": "LayoutModel",
      "state": {}
     },
     "1e315e5774fe471eb52804d801db473f": {
      "model_module": "@jupyter-widgets/controls",
      "model_module_version": "1.5.0",
      "model_name": "FloatProgressModel",
      "state": {
       "layout": "IPY_MODEL_f2631962f12745658a1c6bce5b547dcf",
       "max": 8,
       "style": "IPY_MODEL_34cd307621f047b6a1732589a520a704",
       "value": 8
      }
     },
     "1e39a01411864068ae645d5a7c547708": {
      "model_module": "@jupyter-widgets/controls",
      "model_module_version": "1.5.0",
      "model_name": "HTMLModel",
      "state": {
       "layout": "IPY_MODEL_1138da9b78474c0c96c6ede1c29c034c",
       "style": "IPY_MODEL_62aa147d24724e58bae46f81d78669f9",
       "value": "Validation DataLoader 0: 100%"
      }
     },
     "1e4dc9df915d458eb646b0d3f4e5715a": {
      "model_module": "@jupyter-widgets/controls",
      "model_module_version": "1.5.0",
      "model_name": "HTMLModel",
      "state": {
       "layout": "IPY_MODEL_2d6e3127c29544618e88980849a1e6c6",
       "style": "IPY_MODEL_15efe6d3b5bc47e694948627a5529a36",
       "value": "Validation DataLoader 0: 100%"
      }
     },
     "1e50a40beeaf4f3eb62cec761b6534ed": {
      "model_module": "@jupyter-widgets/base",
      "model_module_version": "1.2.0",
      "model_name": "LayoutModel",
      "state": {
       "flex": "2"
      }
     },
     "1e5c792903b5487fa163c0919cc6ca3d": {
      "model_module": "@jupyter-widgets/base",
      "model_module_version": "1.2.0",
      "model_name": "LayoutModel",
      "state": {
       "flex": "2"
      }
     },
     "1e6f820f952c4c8db25276e570142f90": {
      "model_module": "@jupyter-widgets/controls",
      "model_module_version": "1.5.0",
      "model_name": "HTMLModel",
      "state": {
       "layout": "IPY_MODEL_4d652f2f6d3545908c89249c7a871aac",
       "style": "IPY_MODEL_cff47e59c40c46f8bd84346458526107",
       "value": "Validation DataLoader 0: 100%"
      }
     },
     "1e8a30dea1014424b5bc0131f67344b2": {
      "model_module": "@jupyter-widgets/base",
      "model_module_version": "1.2.0",
      "model_name": "LayoutModel",
      "state": {
       "display": "inline-flex",
       "flex_flow": "row wrap",
       "width": "100%"
      }
     },
     "1e9447b5b1ed4689b14a48c47d362046": {
      "model_module": "@jupyter-widgets/base",
      "model_module_version": "1.2.0",
      "model_name": "LayoutModel",
      "state": {}
     },
     "1e9d7b358ed04c5abef66d2e42ca9672": {
      "model_module": "@jupyter-widgets/controls",
      "model_module_version": "1.5.0",
      "model_name": "HTMLModel",
      "state": {
       "layout": "IPY_MODEL_4628af26f21e4b34b56372faba5544b7",
       "style": "IPY_MODEL_9a16fe66c554456a84a6c225dc4f31f3",
       "value": "Epoch 27:  25%"
      }
     },
     "1ea7fb72ef29473781176063078d7d7f": {
      "model_module": "@jupyter-widgets/base",
      "model_module_version": "1.2.0",
      "model_name": "LayoutModel",
      "state": {}
     },
     "1eac16824024447eb1a1afcd6434b11e": {
      "model_module": "@jupyter-widgets/controls",
      "model_module_version": "1.5.0",
      "model_name": "FloatProgressModel",
      "state": {
       "layout": "IPY_MODEL_375394616d9a4aa7ae6e1c70d40e411c",
       "max": 8,
       "style": "IPY_MODEL_152749fa4ade44ccbb073ac399f8cf9e",
       "value": 8
      }
     },
     "1ef30bce6d5648b9a10475c2553cb616": {
      "model_module": "@jupyter-widgets/controls",
      "model_module_version": "1.5.0",
      "model_name": "ProgressStyleModel",
      "state": {
       "description_width": ""
      }
     },
     "1ef63702cc9043a0a2e6728dd365a1f1": {
      "model_module": "@jupyter-widgets/base",
      "model_module_version": "1.2.0",
      "model_name": "LayoutModel",
      "state": {
       "flex": "2"
      }
     },
     "1efbc9789cd14f61b9c47643c33f8a53": {
      "model_module": "@jupyter-widgets/controls",
      "model_module_version": "1.5.0",
      "model_name": "DescriptionStyleModel",
      "state": {
       "description_width": ""
      }
     },
     "1f0e5fa64b50488fb473901fde6ae094": {
      "model_module": "@jupyter-widgets/base",
      "model_module_version": "1.2.0",
      "model_name": "LayoutModel",
      "state": {
       "flex": "2"
      }
     },
     "1f141678e41d480c860acbb766d4ad89": {
      "model_module": "@jupyter-widgets/controls",
      "model_module_version": "1.5.0",
      "model_name": "HTMLModel",
      "state": {
       "layout": "IPY_MODEL_f721d9a5f4994f2d8d39817326e2e88a",
       "style": "IPY_MODEL_0a90b77acf714f24b0ff644762ef5554",
       "value": "Sanity Checking DataLoader 0: 100%"
      }
     },
     "1f452eb257f0496eacaa3cb32f11e179": {
      "model_module": "@jupyter-widgets/controls",
      "model_module_version": "1.5.0",
      "model_name": "DescriptionStyleModel",
      "state": {
       "description_width": ""
      }
     },
     "1f890a9c416a431d96fab7a17ed846b1": {
      "model_module": "@jupyter-widgets/controls",
      "model_module_version": "1.5.0",
      "model_name": "HTMLModel",
      "state": {
       "layout": "IPY_MODEL_d782679eb5284607acbe7de93bdb82de",
       "style": "IPY_MODEL_553d6f63c4014f5096593eea00914996",
       "value": "Validation DataLoader 0: 100%"
      }
     },
     "1f97d971039d42508c1a5e7ba9f330b7": {
      "model_module": "@jupyter-widgets/controls",
      "model_module_version": "1.5.0",
      "model_name": "DescriptionStyleModel",
      "state": {
       "description_width": ""
      }
     },
     "1fcfc332b6594a4aa75b440fceb7dc71": {
      "model_module": "@jupyter-widgets/base",
      "model_module_version": "1.2.0",
      "model_name": "LayoutModel",
      "state": {
       "display": "inline-flex",
       "flex_flow": "row wrap",
       "width": "100%"
      }
     },
     "2019922b1ddd492fa73820e345e43e22": {
      "model_module": "@jupyter-widgets/controls",
      "model_module_version": "1.5.0",
      "model_name": "FloatProgressModel",
      "state": {
       "layout": "IPY_MODEL_495d2f86bd85435288ed98e09d5d9e66",
       "max": 8,
       "style": "IPY_MODEL_238b9d8bedf4437b880cdc6a30861011",
       "value": 8
      }
     },
     "202ff49942b645b69f62c620841c554f": {
      "model_module": "@jupyter-widgets/controls",
      "model_module_version": "1.5.0",
      "model_name": "DescriptionStyleModel",
      "state": {
       "description_width": ""
      }
     },
     "207d14f4d55347ba8faf4e27a555d368": {
      "model_module": "@jupyter-widgets/base",
      "model_module_version": "1.2.0",
      "model_name": "LayoutModel",
      "state": {
       "flex": "2"
      }
     },
     "208b70adde1140f3b0b2df464fbf639a": {
      "model_module": "@jupyter-widgets/controls",
      "model_module_version": "1.5.0",
      "model_name": "HTMLModel",
      "state": {
       "layout": "IPY_MODEL_e166d73a0c4d449381d01d12aecfd4e6",
       "style": "IPY_MODEL_cbf2c1f4b56d4a5886f1233397882e84",
       "value": " 8/8 [00:03&lt;00:00,  2.56it/s]"
      }
     },
     "2099ef1e592c445c96b83a353eb3661d": {
      "model_module": "@jupyter-widgets/controls",
      "model_module_version": "1.5.0",
      "model_name": "HTMLModel",
      "state": {
       "layout": "IPY_MODEL_9fd39ddd46b947e382ec715bc0e94f9e",
       "style": "IPY_MODEL_ecad1f925caf411a82a870a86bb6dbdf",
       "value": " 8/8 [00:05&lt;00:00,  1.41it/s]"
      }
     },
     "20a2fe67f56b4a76b5ed1ecd6fb21bdb": {
      "model_module": "@jupyter-widgets/controls",
      "model_module_version": "1.5.0",
      "model_name": "FloatProgressModel",
      "state": {
       "bar_style": "success",
       "layout": "IPY_MODEL_39ece1e9f3b848d3b5e0fd4ac3f6b617",
       "max": 8,
       "style": "IPY_MODEL_c6282c6c60cc467c9c532d3abf436d9d",
       "value": 8
      }
     },
     "20a8ee27306f481c9287e8755779576f": {
      "model_module": "@jupyter-widgets/base",
      "model_module_version": "1.2.0",
      "model_name": "LayoutModel",
      "state": {}
     },
     "20b684f6f0c84be493c9c3d3e60e3aa9": {
      "model_module": "@jupyter-widgets/controls",
      "model_module_version": "1.5.0",
      "model_name": "HTMLModel",
      "state": {
       "layout": "IPY_MODEL_6c1e57e1108046ed90b1e863d74fe4ca",
       "style": "IPY_MODEL_af223e74af764347a2fa80902ac0c115",
       "value": "Validation DataLoader 0: 100%"
      }
     },
     "20bad6277b2d43be9c63dc4b6938e056": {
      "model_module": "@jupyter-widgets/base",
      "model_module_version": "1.2.0",
      "model_name": "LayoutModel",
      "state": {}
     },
     "20bca53e582f47339e8c2b8b51b2e3e3": {
      "model_module": "@jupyter-widgets/controls",
      "model_module_version": "1.5.0",
      "model_name": "HTMLModel",
      "state": {
       "layout": "IPY_MODEL_95e3b42bb1f64eec8980828ca4411d80",
       "style": "IPY_MODEL_4a92b66ce2aa4440805ce3eab247845e",
       "value": " 8/8 [00:04&lt;00:00,  1.68it/s]"
      }
     },
     "20c7c109ae224356af715416e3e7986b": {
      "model_module": "@jupyter-widgets/controls",
      "model_module_version": "1.5.0",
      "model_name": "ProgressStyleModel",
      "state": {
       "description_width": ""
      }
     },
     "20eef2bcc6d14294b81b48e12c0f40dc": {
      "model_module": "@jupyter-widgets/controls",
      "model_module_version": "1.5.0",
      "model_name": "FloatProgressModel",
      "state": {
       "layout": "IPY_MODEL_1d2140e172b048cd8dac6f23c4c5ec83",
       "max": 8,
       "style": "IPY_MODEL_404a61dd9b4144d9b38e9db41baf9d23",
       "value": 8
      }
     },
     "2103a3eb37b64ad1af9250bee5d48079": {
      "model_module": "@jupyter-widgets/base",
      "model_module_version": "1.2.0",
      "model_name": "LayoutModel",
      "state": {}
     },
     "21324c2f622f4a4da3c698f140c63725": {
      "model_module": "@jupyter-widgets/controls",
      "model_module_version": "1.5.0",
      "model_name": "DescriptionStyleModel",
      "state": {
       "description_width": ""
      }
     },
     "213f073043714545b6070ec8476a80fb": {
      "model_module": "@jupyter-widgets/controls",
      "model_module_version": "1.5.0",
      "model_name": "HTMLModel",
      "state": {
       "layout": "IPY_MODEL_a9d7b07ee9d8489aa3bef5d56ba86095",
       "style": "IPY_MODEL_564a95ee11c248fe91ba94cfe325f712",
       "value": " 2/2 [00:00&lt;00:00,  2.07it/s]"
      }
     },
     "21497cfb70084b04929190d8e8f6edde": {
      "model_module": "@jupyter-widgets/controls",
      "model_module_version": "1.5.0",
      "model_name": "DescriptionStyleModel",
      "state": {
       "description_width": ""
      }
     },
     "21696ea60c4f4061a228a634f5b281d0": {
      "model_module": "@jupyter-widgets/base",
      "model_module_version": "1.2.0",
      "model_name": "LayoutModel",
      "state": {
       "display": "inline-flex",
       "flex_flow": "row wrap",
       "width": "100%"
      }
     },
     "21ac08decba84e07978f1df7852043ac": {
      "model_module": "@jupyter-widgets/controls",
      "model_module_version": "1.5.0",
      "model_name": "HTMLModel",
      "state": {
       "layout": "IPY_MODEL_1e2e6932d89f4d1c9a6d75e7f594d82e",
       "style": "IPY_MODEL_b626504b1a194b7ab5059b9545860177",
       "value": " 8/8 [00:02&lt;00:00,  3.18it/s]"
      }
     },
     "21dd76ce62be4dec9d1e250572f2734c": {
      "model_module": "@jupyter-widgets/controls",
      "model_module_version": "1.5.0",
      "model_name": "HTMLModel",
      "state": {
       "layout": "IPY_MODEL_3f78bb6584554c60b0063c926731030f",
       "style": "IPY_MODEL_4981b8b2c25c4a17b953011988002916",
       "value": " 8/8 [00:02&lt;00:00,  3.18it/s]"
      }
     },
     "22491a4b546d4135bde44c1952d3c22f": {
      "model_module": "@jupyter-widgets/controls",
      "model_module_version": "1.5.0",
      "model_name": "DescriptionStyleModel",
      "state": {
       "description_width": ""
      }
     },
     "224d26f1f6a84d95921cffc541c58c44": {
      "model_module": "@jupyter-widgets/controls",
      "model_module_version": "1.5.0",
      "model_name": "FloatProgressModel",
      "state": {
       "layout": "IPY_MODEL_62a61225d5084c87b113f2afb900d328",
       "max": 8,
       "style": "IPY_MODEL_0faf190ff7474b45ba7a5e5d5f8893ce",
       "value": 8
      }
     },
     "224ff0a8da2f463a84f6b4aa508d0fda": {
      "model_module": "@jupyter-widgets/base",
      "model_module_version": "1.2.0",
      "model_name": "LayoutModel",
      "state": {}
     },
     "2262cb4be3234e9aaf03004cefcf25ee": {
      "model_module": "@jupyter-widgets/controls",
      "model_module_version": "1.5.0",
      "model_name": "DescriptionStyleModel",
      "state": {
       "description_width": ""
      }
     },
     "22719d6c1d5142c5b6ef18265ccf4e6f": {
      "model_module": "@jupyter-widgets/base",
      "model_module_version": "1.2.0",
      "model_name": "LayoutModel",
      "state": {
       "display": "inline-flex",
       "flex_flow": "row wrap",
       "width": "100%"
      }
     },
     "2280ac01e2a84279a4785f0ee6cafd48": {
      "model_module": "@jupyter-widgets/base",
      "model_module_version": "1.2.0",
      "model_name": "LayoutModel",
      "state": {
       "flex": "2"
      }
     },
     "22c2db3562e74be8bab95dbf90df0aea": {
      "model_module": "@jupyter-widgets/controls",
      "model_module_version": "1.5.0",
      "model_name": "ProgressStyleModel",
      "state": {
       "description_width": ""
      }
     },
     "22ef67cf2a884b5aa11bc75a589556aa": {
      "model_module": "@jupyter-widgets/controls",
      "model_module_version": "1.5.0",
      "model_name": "DescriptionStyleModel",
      "state": {
       "description_width": ""
      }
     },
     "22f85b7a51164673b39910c1680bf32d": {
      "model_module": "@jupyter-widgets/base",
      "model_module_version": "1.2.0",
      "model_name": "LayoutModel",
      "state": {
       "display": "inline-flex",
       "flex_flow": "row wrap",
       "width": "100%"
      }
     },
     "231679661bb348fc9baefddfe4cede61": {
      "model_module": "@jupyter-widgets/controls",
      "model_module_version": "1.5.0",
      "model_name": "HTMLModel",
      "state": {
       "layout": "IPY_MODEL_b104f43f34684735862cee8c6b977b5a",
       "style": "IPY_MODEL_de5623c1b8ac41beac79766704c98d0a",
       "value": " 8/8 [00:02&lt;00:00,  2.96it/s]"
      }
     },
     "2361a92d5ff34bdf912bb0c3e9dc34fc": {
      "model_module": "@jupyter-widgets/base",
      "model_module_version": "1.2.0",
      "model_name": "LayoutModel",
      "state": {
       "display": "inline-flex",
       "flex_flow": "row wrap",
       "width": "100%"
      }
     },
     "2383588fab0142b18a65f7150d93eeba": {
      "model_module": "@jupyter-widgets/controls",
      "model_module_version": "1.5.0",
      "model_name": "HTMLModel",
      "state": {
       "layout": "IPY_MODEL_65bdb34b35614bc095d723e794cb264a",
       "style": "IPY_MODEL_af646c18d1aa4ae98e9d4124ec0fc372",
       "value": " 8/8 [00:03&lt;00:00,  2.50it/s]"
      }
     },
     "238b9d8bedf4437b880cdc6a30861011": {
      "model_module": "@jupyter-widgets/controls",
      "model_module_version": "1.5.0",
      "model_name": "ProgressStyleModel",
      "state": {
       "description_width": ""
      }
     },
     "23913d7ab3154a1a98192301d63cc61e": {
      "model_module": "@jupyter-widgets/base",
      "model_module_version": "1.2.0",
      "model_name": "LayoutModel",
      "state": {}
     },
     "23b0e8337ac64073ae96545797b0ac3b": {
      "model_module": "@jupyter-widgets/controls",
      "model_module_version": "1.5.0",
      "model_name": "ProgressStyleModel",
      "state": {
       "description_width": ""
      }
     },
     "23b555cdf5ac47d48e0ecd7141eec75b": {
      "model_module": "@jupyter-widgets/controls",
      "model_module_version": "1.5.0",
      "model_name": "FloatProgressModel",
      "state": {
       "layout": "IPY_MODEL_69f4457b0ab54593a9b331647797ba59",
       "max": 8,
       "style": "IPY_MODEL_316ea9529ed44a4fa18d81eb55e5674a",
       "value": 8
      }
     },
     "23bc35d7a0754490912ba58e5cc574f5": {
      "model_module": "@jupyter-widgets/base",
      "model_module_version": "1.2.0",
      "model_name": "LayoutModel",
      "state": {
       "display": "inline-flex",
       "flex_flow": "row wrap",
       "width": "100%"
      }
     },
     "23e6884759fa4c3398568540f9ebbf07": {
      "model_module": "@jupyter-widgets/controls",
      "model_module_version": "1.5.0",
      "model_name": "HTMLModel",
      "state": {
       "layout": "IPY_MODEL_1bb8c18fdd7b415facf79593db0da0a4",
       "style": "IPY_MODEL_878df48448e94e25b9afd4a9f70a8dbb",
       "value": "Validation DataLoader 0: 100%"
      }
     },
     "24136c6bedc4433bb0292b5aefd3fb1a": {
      "model_module": "@jupyter-widgets/controls",
      "model_module_version": "1.5.0",
      "model_name": "FloatProgressModel",
      "state": {
       "layout": "IPY_MODEL_fd2f66d6a600471da22d6bad9074ae4e",
       "max": 8,
       "style": "IPY_MODEL_5fd5d51a3d30491588ea58d6b32d4976",
       "value": 8
      }
     },
     "24281c88200b4e60980f88f5aa6f4eb9": {
      "model_module": "@jupyter-widgets/base",
      "model_module_version": "1.2.0",
      "model_name": "LayoutModel",
      "state": {
       "flex": "2"
      }
     },
     "244b304e90714e0da09525039ee331f3": {
      "model_module": "@jupyter-widgets/base",
      "model_module_version": "1.2.0",
      "model_name": "LayoutModel",
      "state": {
       "display": "inline-flex",
       "flex_flow": "row wrap",
       "width": "100%"
      }
     },
     "2467c15d70ea42d89e3678ee8759cbf2": {
      "model_module": "@jupyter-widgets/controls",
      "model_module_version": "1.5.0",
      "model_name": "DescriptionStyleModel",
      "state": {
       "description_width": ""
      }
     },
     "2471d067984745e69b758d3dcc9689cc": {
      "model_module": "@jupyter-widgets/controls",
      "model_module_version": "1.5.0",
      "model_name": "FloatProgressModel",
      "state": {
       "layout": "IPY_MODEL_7afe71c04c7b420097f13b4b4490db78",
       "max": 8,
       "style": "IPY_MODEL_e5bcc5465f0146249f30263cb62d1642",
       "value": 8
      }
     },
     "24860146f07f4eb0a1d3a8e05fcffdc9": {
      "model_module": "@jupyter-widgets/controls",
      "model_module_version": "1.5.0",
      "model_name": "HTMLModel",
      "state": {
       "layout": "IPY_MODEL_184af32d13aa4fc6bf44dd46ea8d01f0",
       "style": "IPY_MODEL_4f731d998627409ba481932f147bb0b2",
       "value": "Validation DataLoader 0: 100%"
      }
     },
     "24cbeef779944c19a5c29a1bb730c77f": {
      "model_module": "@jupyter-widgets/controls",
      "model_module_version": "1.5.0",
      "model_name": "DescriptionStyleModel",
      "state": {
       "description_width": ""
      }
     },
     "24f5b38e254245439b34d8ddb3c51d08": {
      "model_module": "@jupyter-widgets/base",
      "model_module_version": "1.2.0",
      "model_name": "LayoutModel",
      "state": {}
     },
     "2518a54cc36346149af80d368f5d13a2": {
      "model_module": "@jupyter-widgets/controls",
      "model_module_version": "1.5.0",
      "model_name": "DescriptionStyleModel",
      "state": {
       "description_width": ""
      }
     },
     "2537eb79577342069657b0ccf951a7ad": {
      "model_module": "@jupyter-widgets/base",
      "model_module_version": "1.2.0",
      "model_name": "LayoutModel",
      "state": {
       "display": "inline-flex",
       "flex_flow": "row wrap",
       "width": "100%"
      }
     },
     "256d0cd1b2cc4777a424db63d448f008": {
      "model_module": "@jupyter-widgets/controls",
      "model_module_version": "1.5.0",
      "model_name": "FloatProgressModel",
      "state": {
       "layout": "IPY_MODEL_3e6a41641a0d422dac45294b4acc340f",
       "max": 8,
       "style": "IPY_MODEL_12c4263fb15f442ea912800759c6233d",
       "value": 8
      }
     },
     "25a21af70cd24211b481776379d53a03": {
      "model_module": "@jupyter-widgets/controls",
      "model_module_version": "1.5.0",
      "model_name": "ProgressStyleModel",
      "state": {
       "description_width": ""
      }
     },
     "25a3348dcc6043d99555db91777d0994": {
      "model_module": "@jupyter-widgets/controls",
      "model_module_version": "1.5.0",
      "model_name": "HBoxModel",
      "state": {
       "children": [
        "IPY_MODEL_740faf1314b24877b4c01d42cc0a072c",
        "IPY_MODEL_c8739152d3d049919f2714a4f43e20d8",
        "IPY_MODEL_b4bbb8f5502e4d9281c3447db1d8f26f"
       ],
       "layout": "IPY_MODEL_d240383130064374a6d568eb263907da"
      }
     },
     "25a97c6ffc6b4895a6a55292c77ad1f6": {
      "model_module": "@jupyter-widgets/controls",
      "model_module_version": "1.5.0",
      "model_name": "HTMLModel",
      "state": {
       "layout": "IPY_MODEL_bd3308eb81dd43bf9bda3ad3bcd1dc8f",
       "style": "IPY_MODEL_4c1ca403d536446caea9cfdf987886b1",
       "value": "Epoch 26:  42%"
      }
     },
     "25b827e6fe034138b701598a4de16454": {
      "model_module": "@jupyter-widgets/base",
      "model_module_version": "1.2.0",
      "model_name": "LayoutModel",
      "state": {}
     },
     "261a84baf80843d9b646284d30bc30c9": {
      "model_module": "@jupyter-widgets/base",
      "model_module_version": "1.2.0",
      "model_name": "LayoutModel",
      "state": {}
     },
     "263388993cfd42ed9650ebb755029c53": {
      "model_module": "@jupyter-widgets/base",
      "model_module_version": "1.2.0",
      "model_name": "LayoutModel",
      "state": {
       "display": "inline-flex",
       "flex_flow": "row wrap",
       "width": "100%"
      }
     },
     "2638089cfc55422ea9cba835fae634d7": {
      "model_module": "@jupyter-widgets/controls",
      "model_module_version": "1.5.0",
      "model_name": "DescriptionStyleModel",
      "state": {
       "description_width": ""
      }
     },
     "267f03274cff4f7586d5f4804a3c15ef": {
      "model_module": "@jupyter-widgets/controls",
      "model_module_version": "1.5.0",
      "model_name": "DescriptionStyleModel",
      "state": {
       "description_width": ""
      }
     },
     "26903817cb514acb8dc8b7c0d55eeb18": {
      "model_module": "@jupyter-widgets/base",
      "model_module_version": "1.2.0",
      "model_name": "LayoutModel",
      "state": {}
     },
     "2695aae7697c4d8385f8785899116368": {
      "model_module": "@jupyter-widgets/controls",
      "model_module_version": "1.5.0",
      "model_name": "FloatProgressModel",
      "state": {
       "layout": "IPY_MODEL_7836f1b2f95543d89e90f5b527aeb385",
       "max": 8,
       "style": "IPY_MODEL_ae7fade5622b44e099ee7cad449295a1",
       "value": 8
      }
     },
     "269ffbe96bca4dbd924ea6ab13342243": {
      "model_module": "@jupyter-widgets/base",
      "model_module_version": "1.2.0",
      "model_name": "LayoutModel",
      "state": {}
     },
     "26d638e830c048848d9cb2945dc99705": {
      "model_module": "@jupyter-widgets/controls",
      "model_module_version": "1.5.0",
      "model_name": "ProgressStyleModel",
      "state": {
       "description_width": ""
      }
     },
     "26dd0547552046ac9a30c5f1ea62f12a": {
      "model_module": "@jupyter-widgets/base",
      "model_module_version": "1.2.0",
      "model_name": "LayoutModel",
      "state": {}
     },
     "26f7e7d35b0c48108c6659efd60828d2": {
      "model_module": "@jupyter-widgets/controls",
      "model_module_version": "1.5.0",
      "model_name": "DescriptionStyleModel",
      "state": {
       "description_width": ""
      }
     },
     "26f9b7b49d1f4d8487ef35161263c243": {
      "model_module": "@jupyter-widgets/base",
      "model_module_version": "1.2.0",
      "model_name": "LayoutModel",
      "state": {
       "flex": "2"
      }
     },
     "2710dfd876414b808bf4f3645a10942d": {
      "model_module": "@jupyter-widgets/base",
      "model_module_version": "1.2.0",
      "model_name": "LayoutModel",
      "state": {
       "display": "inline-flex",
       "flex_flow": "row wrap",
       "width": "100%"
      }
     },
     "2756c4809a904877a09acc52ce34d3b5": {
      "model_module": "@jupyter-widgets/base",
      "model_module_version": "1.2.0",
      "model_name": "LayoutModel",
      "state": {}
     },
     "27595734f55a41ac942a043d7827414c": {
      "model_module": "@jupyter-widgets/base",
      "model_module_version": "1.2.0",
      "model_name": "LayoutModel",
      "state": {
       "flex": "2"
      }
     },
     "2787145887bf4b8a917642fbb51988a6": {
      "model_module": "@jupyter-widgets/controls",
      "model_module_version": "1.5.0",
      "model_name": "HTMLModel",
      "state": {
       "layout": "IPY_MODEL_e2516e8825fd4459b9e15358c3782600",
       "style": "IPY_MODEL_0fa6228649d544838575c9a1517f66d5",
       "value": " 8/8 [00:03&lt;00:00,  2.42it/s]"
      }
     },
     "279561813710401c9d2179154e66dbc9": {
      "model_module": "@jupyter-widgets/controls",
      "model_module_version": "1.5.0",
      "model_name": "DescriptionStyleModel",
      "state": {
       "description_width": ""
      }
     },
     "27a5ad394b1b4fee9615db1bb9424612": {
      "model_module": "@jupyter-widgets/controls",
      "model_module_version": "1.5.0",
      "model_name": "DescriptionStyleModel",
      "state": {
       "description_width": ""
      }
     },
     "27aac145b4f24120a23488bb1d3283e4": {
      "model_module": "@jupyter-widgets/base",
      "model_module_version": "1.2.0",
      "model_name": "LayoutModel",
      "state": {}
     },
     "27ba8ac8b3424fa5bfa4fabe3a1ef335": {
      "model_module": "@jupyter-widgets/base",
      "model_module_version": "1.2.0",
      "model_name": "LayoutModel",
      "state": {
       "flex": "2"
      }
     },
     "27f4df66fd594baa8bb66f8c57557f4a": {
      "model_module": "@jupyter-widgets/base",
      "model_module_version": "1.2.0",
      "model_name": "LayoutModel",
      "state": {
       "display": "inline-flex",
       "flex_flow": "row wrap",
       "width": "100%"
      }
     },
     "283000d8b385486f905a35625f62b984": {
      "model_module": "@jupyter-widgets/controls",
      "model_module_version": "1.5.0",
      "model_name": "HTMLModel",
      "state": {
       "layout": "IPY_MODEL_0a6e3b5b4b2244bca1129de6bdb60fc6",
       "style": "IPY_MODEL_7f875c8c376944079b16476d10643ef6",
       "value": "Validation DataLoader 0: 100%"
      }
     },
     "2837ff105bc64266ad20ade811eaf965": {
      "model_module": "@jupyter-widgets/controls",
      "model_module_version": "1.5.0",
      "model_name": "DescriptionStyleModel",
      "state": {
       "description_width": ""
      }
     },
     "28d94ed95d3c4622a0a5fec8f98ca88c": {
      "model_module": "@jupyter-widgets/base",
      "model_module_version": "1.2.0",
      "model_name": "LayoutModel",
      "state": {}
     },
     "2914e7eef8c841fb94b268c01af6e565": {
      "model_module": "@jupyter-widgets/controls",
      "model_module_version": "1.5.0",
      "model_name": "HTMLModel",
      "state": {
       "layout": "IPY_MODEL_421e2075d7ef439799749b204991f1a0",
       "style": "IPY_MODEL_002b03e8a469457cbdf3ee6f69d60e4f",
       "value": " 8/8 [00:03&lt;00:00,  2.42it/s]"
      }
     },
     "291df6ebbe0e417f9d367743d2740be0": {
      "model_module": "@jupyter-widgets/controls",
      "model_module_version": "1.5.0",
      "model_name": "ProgressStyleModel",
      "state": {
       "description_width": ""
      }
     },
     "292fe1c033bd4d4d996ae4214fd198db": {
      "model_module": "@jupyter-widgets/base",
      "model_module_version": "1.2.0",
      "model_name": "LayoutModel",
      "state": {
       "display": "inline-flex",
       "flex_flow": "row wrap",
       "width": "100%"
      }
     },
     "29643340a13e4708bd642528f6e81546": {
      "model_module": "@jupyter-widgets/controls",
      "model_module_version": "1.5.0",
      "model_name": "ProgressStyleModel",
      "state": {
       "description_width": ""
      }
     },
     "29734dabe0164fe78e503d6cd029822a": {
      "model_module": "@jupyter-widgets/controls",
      "model_module_version": "1.5.0",
      "model_name": "DescriptionStyleModel",
      "state": {
       "description_width": ""
      }
     },
     "298f7ecebcac48a7bf0221e6afb792cf": {
      "model_module": "@jupyter-widgets/controls",
      "model_module_version": "1.5.0",
      "model_name": "HTMLModel",
      "state": {
       "layout": "IPY_MODEL_507dcbfdfe62411c8de7e3ba74ffd790",
       "style": "IPY_MODEL_8c31a5bbfb994866bb07afff759d929b",
       "value": "Validation DataLoader 0: 100%"
      }
     },
     "29b0f329a35e4e488d3e370eb286286c": {
      "model_module": "@jupyter-widgets/base",
      "model_module_version": "1.2.0",
      "model_name": "LayoutModel",
      "state": {}
     },
     "29c4310ddef743a8b1603098512e4404": {
      "model_module": "@jupyter-widgets/base",
      "model_module_version": "1.2.0",
      "model_name": "LayoutModel",
      "state": {}
     },
     "29dea187b58c4b00a47f0e57af62e921": {
      "model_module": "@jupyter-widgets/base",
      "model_module_version": "1.2.0",
      "model_name": "LayoutModel",
      "state": {}
     },
     "29f9e748448244a883b5901915347e04": {
      "model_module": "@jupyter-widgets/base",
      "model_module_version": "1.2.0",
      "model_name": "LayoutModel",
      "state": {}
     },
     "29fdddd8484c41a98db9f93e8a006f75": {
      "model_module": "@jupyter-widgets/controls",
      "model_module_version": "1.5.0",
      "model_name": "DescriptionStyleModel",
      "state": {
       "description_width": ""
      }
     },
     "2a1dcd5c3ac940e0a22a2f3474fee1cc": {
      "model_module": "@jupyter-widgets/controls",
      "model_module_version": "1.5.0",
      "model_name": "HTMLModel",
      "state": {
       "layout": "IPY_MODEL_4fa60b77f01e40fb893e2bdb43ed7619",
       "style": "IPY_MODEL_53f409f4650e435b92f6710d6015f3f3",
       "value": "Validation DataLoader 0: 100%"
      }
     },
     "2a24e2d0f41e4c96aa0d4d87c32029b0": {
      "model_module": "@jupyter-widgets/controls",
      "model_module_version": "1.5.0",
      "model_name": "FloatProgressModel",
      "state": {
       "layout": "IPY_MODEL_e43210a0dd6a428b8465e51eea0afb3a",
       "max": 8,
       "style": "IPY_MODEL_553dfbfae4b74753865ed0bd0aeea5f1",
       "value": 8
      }
     },
     "2a3481762e3c4390a469f66b91513972": {
      "model_module": "@jupyter-widgets/base",
      "model_module_version": "1.2.0",
      "model_name": "LayoutModel",
      "state": {}
     },
     "2a3c7b683afd4a0abb7b0312f70c02f9": {
      "model_module": "@jupyter-widgets/base",
      "model_module_version": "1.2.0",
      "model_name": "LayoutModel",
      "state": {}
     },
     "2a5514f1914f418285227a3a9922afd2": {
      "model_module": "@jupyter-widgets/controls",
      "model_module_version": "1.5.0",
      "model_name": "FloatProgressModel",
      "state": {
       "layout": "IPY_MODEL_3cab20a863344af4bcfaa0dbe672e013",
       "max": 8,
       "style": "IPY_MODEL_9404cef123b14adcafe02ab5572f7d1e",
       "value": 8
      }
     },
     "2a7a8de731114140af723d5046995739": {
      "model_module": "@jupyter-widgets/base",
      "model_module_version": "1.2.0",
      "model_name": "LayoutModel",
      "state": {
       "flex": "2"
      }
     },
     "2a9c86f59c294b7f9d1d04f9bbbce8a1": {
      "model_module": "@jupyter-widgets/base",
      "model_module_version": "1.2.0",
      "model_name": "LayoutModel",
      "state": {}
     },
     "2ab7e7c4e70c434c935a68c530e9b4ff": {
      "model_module": "@jupyter-widgets/controls",
      "model_module_version": "1.5.0",
      "model_name": "HTMLModel",
      "state": {
       "layout": "IPY_MODEL_85ecd5b8f103432e8f97227a84f9acc2",
       "style": "IPY_MODEL_46b448e0d1a646e9923fbc3d6d7d1a81",
       "value": "Validation DataLoader 0: 100%"
      }
     },
     "2ad1b90f2edf493fa5fc938e1b3ad48c": {
      "model_module": "@jupyter-widgets/controls",
      "model_module_version": "1.5.0",
      "model_name": "ProgressStyleModel",
      "state": {
       "description_width": ""
      }
     },
     "2ad49b9b837440a4a34e5ba4dcc99b27": {
      "model_module": "@jupyter-widgets/base",
      "model_module_version": "1.2.0",
      "model_name": "LayoutModel",
      "state": {}
     },
     "2ae693ba4692472191a3ff7d466f9be4": {
      "model_module": "@jupyter-widgets/controls",
      "model_module_version": "1.5.0",
      "model_name": "HTMLModel",
      "state": {
       "layout": "IPY_MODEL_7c220ffee69a4018ad7fba8f5a457381",
       "style": "IPY_MODEL_0b3ede45ece44a5eb46caf6d5b6266b6",
       "value": "Validation DataLoader 0: 100%"
      }
     },
     "2b0ea48481314c6aa556375c35ebf614": {
      "model_module": "@jupyter-widgets/base",
      "model_module_version": "1.2.0",
      "model_name": "LayoutModel",
      "state": {
       "display": "inline-flex",
       "flex_flow": "row wrap",
       "width": "100%"
      }
     },
     "2b28ed19376b477aadbdf0e8fad2a0c7": {
      "model_module": "@jupyter-widgets/controls",
      "model_module_version": "1.5.0",
      "model_name": "HTMLModel",
      "state": {
       "layout": "IPY_MODEL_5b0cdb4c543d4254bc628b7b410b0ee7",
       "style": "IPY_MODEL_1d86e5aae0e4466c93fdc8f8533f322a",
       "value": "Validation DataLoader 0: 100%"
      }
     },
     "2b648f60c29545b9829cbc67aefff864": {
      "model_module": "@jupyter-widgets/base",
      "model_module_version": "1.2.0",
      "model_name": "LayoutModel",
      "state": {
       "flex": "2"
      }
     },
     "2b6bbf34d8f2414dba793bb432d822a5": {
      "model_module": "@jupyter-widgets/controls",
      "model_module_version": "1.5.0",
      "model_name": "HTMLModel",
      "state": {
       "layout": "IPY_MODEL_fde6b52600b3440ea438f0b6f6743fb1",
       "style": "IPY_MODEL_d9e09cb6096f4869b82c2b58032f13b2",
       "value": " 8/8 [00:04&lt;00:00,  1.65it/s]"
      }
     },
     "2b898ea788894748a216422cf9062cfc": {
      "model_module": "@jupyter-widgets/controls",
      "model_module_version": "1.5.0",
      "model_name": "HTMLModel",
      "state": {
       "layout": "IPY_MODEL_8f27c499ab544f25b0334f5356626e0a",
       "style": "IPY_MODEL_61561d0a3b12471eb093c2c82c3d5244",
       "value": "Validation DataLoader 0: 100%"
      }
     },
     "2b8c6e1ca85949e089d669b1c2f3a8bc": {
      "model_module": "@jupyter-widgets/base",
      "model_module_version": "1.2.0",
      "model_name": "LayoutModel",
      "state": {
       "display": "inline-flex",
       "flex_flow": "row wrap",
       "width": "100%"
      }
     },
     "2bbd6ed1311f4ec4af697891065e7cd7": {
      "model_module": "@jupyter-widgets/controls",
      "model_module_version": "1.5.0",
      "model_name": "DescriptionStyleModel",
      "state": {
       "description_width": ""
      }
     },
     "2bee65f29e6f452dace88f7f07b17cef": {
      "model_module": "@jupyter-widgets/controls",
      "model_module_version": "1.5.0",
      "model_name": "DescriptionStyleModel",
      "state": {
       "description_width": ""
      }
     },
     "2bf32104c0714980b32a17cf3060760b": {
      "model_module": "@jupyter-widgets/controls",
      "model_module_version": "1.5.0",
      "model_name": "HTMLModel",
      "state": {
       "layout": "IPY_MODEL_0ed90418ba464190b82c81d6f2f4e952",
       "style": "IPY_MODEL_a0e245472ee44dd8aa60fe1156a6b6ad",
       "value": " 8/8 [00:04&lt;00:00,  1.84it/s]"
      }
     },
     "2bf87e6be9144a93b1822d4fd22b0aa9": {
      "model_module": "@jupyter-widgets/controls",
      "model_module_version": "1.5.0",
      "model_name": "HTMLModel",
      "state": {
       "layout": "IPY_MODEL_ceb5fbc8f12344ea9e3f1b737c3958ae",
       "style": "IPY_MODEL_48714d80da7a4447bb063aa9fd5ccac5",
       "value": " 8/8 [00:03&lt;00:00,  2.26it/s]"
      }
     },
     "2c02c02d51314d768cc452d35239153a": {
      "model_module": "@jupyter-widgets/controls",
      "model_module_version": "1.5.0",
      "model_name": "ProgressStyleModel",
      "state": {
       "description_width": ""
      }
     },
     "2c069a7cbdb34d9598e070ea85160d2f": {
      "model_module": "@jupyter-widgets/controls",
      "model_module_version": "1.5.0",
      "model_name": "ProgressStyleModel",
      "state": {
       "description_width": ""
      }
     },
     "2c3910373b474865b13075f329c1d2a0": {
      "model_module": "@jupyter-widgets/controls",
      "model_module_version": "1.5.0",
      "model_name": "DescriptionStyleModel",
      "state": {
       "description_width": ""
      }
     },
     "2cb698e51bd14b49a8a7a23c02b51cab": {
      "model_module": "@jupyter-widgets/controls",
      "model_module_version": "1.5.0",
      "model_name": "FloatProgressModel",
      "state": {
       "layout": "IPY_MODEL_2280ac01e2a84279a4785f0ee6cafd48",
       "max": 8,
       "style": "IPY_MODEL_7e2b91dd2baa4174a34473ded277cd87",
       "value": 8
      }
     },
     "2cfa38a63492403bb6353a31c3bb825c": {
      "model_module": "@jupyter-widgets/controls",
      "model_module_version": "1.5.0",
      "model_name": "HTMLModel",
      "state": {
       "layout": "IPY_MODEL_47c462f560c6493791c30e1e7e29da74",
       "style": "IPY_MODEL_7fd47da4bd334102839d228ad640ca61",
       "value": " 8/8 [00:03&lt;00:00,  2.61it/s]"
      }
     },
     "2d1a22beed0d49a2917854d644e4f1c3": {
      "model_module": "@jupyter-widgets/controls",
      "model_module_version": "1.5.0",
      "model_name": "DescriptionStyleModel",
      "state": {
       "description_width": ""
      }
     },
     "2d383a3658f846dea7db588930a381ba": {
      "model_module": "@jupyter-widgets/base",
      "model_module_version": "1.2.0",
      "model_name": "LayoutModel",
      "state": {}
     },
     "2d577bbfea8040538e9f81feccfe390a": {
      "model_module": "@jupyter-widgets/base",
      "model_module_version": "1.2.0",
      "model_name": "LayoutModel",
      "state": {}
     },
     "2d63c3dc438a40f482954d7e1572319f": {
      "model_module": "@jupyter-widgets/base",
      "model_module_version": "1.2.0",
      "model_name": "LayoutModel",
      "state": {
       "display": "inline-flex",
       "flex_flow": "row wrap",
       "width": "100%"
      }
     },
     "2d6e3127c29544618e88980849a1e6c6": {
      "model_module": "@jupyter-widgets/base",
      "model_module_version": "1.2.0",
      "model_name": "LayoutModel",
      "state": {}
     },
     "2d6f78918af342b683702feb81a79c91": {
      "model_module": "@jupyter-widgets/controls",
      "model_module_version": "1.5.0",
      "model_name": "DescriptionStyleModel",
      "state": {
       "description_width": ""
      }
     },
     "2d6f89381f474778baf211b0f203bd65": {
      "model_module": "@jupyter-widgets/base",
      "model_module_version": "1.2.0",
      "model_name": "LayoutModel",
      "state": {
       "display": "inline-flex",
       "flex_flow": "row wrap",
       "width": "100%"
      }
     },
     "2d7989e6452e448b9c885a0dc5e17fea": {
      "model_module": "@jupyter-widgets/base",
      "model_module_version": "1.2.0",
      "model_name": "LayoutModel",
      "state": {}
     },
     "2daab917cab241a29793f8c6aab9b5bc": {
      "model_module": "@jupyter-widgets/controls",
      "model_module_version": "1.5.0",
      "model_name": "DescriptionStyleModel",
      "state": {
       "description_width": ""
      }
     },
     "2dbdf8c1375e4f8cb2c6685bd83a146e": {
      "model_module": "@jupyter-widgets/controls",
      "model_module_version": "1.5.0",
      "model_name": "HTMLModel",
      "state": {
       "layout": "IPY_MODEL_65ef5fd73a04474798664d82d255881b",
       "style": "IPY_MODEL_5672748903ca4ce589206a9ae0c2ef29",
       "value": "Validation DataLoader 0: 100%"
      }
     },
     "2df6875b464f4a6e859eabeb3bffa102": {
      "model_module": "@jupyter-widgets/controls",
      "model_module_version": "1.5.0",
      "model_name": "DescriptionStyleModel",
      "state": {
       "description_width": ""
      }
     },
     "2dfcc4f05452482285f045113044c9b3": {
      "model_module": "@jupyter-widgets/controls",
      "model_module_version": "1.5.0",
      "model_name": "HTMLModel",
      "state": {
       "layout": "IPY_MODEL_ac42bf64cfc741d8b63df96e6c3dce2b",
       "style": "IPY_MODEL_a2dea2f21d6246738c2b1a2982e409e3",
       "value": " 8/8 [00:02&lt;00:00,  3.23it/s]"
      }
     },
     "2dffd3bef47d466e8abc04119128ef05": {
      "model_module": "@jupyter-widgets/base",
      "model_module_version": "1.2.0",
      "model_name": "LayoutModel",
      "state": {}
     },
     "2e07ad02ed9c4a439e1388f61e893c81": {
      "model_module": "@jupyter-widgets/controls",
      "model_module_version": "1.5.0",
      "model_name": "DescriptionStyleModel",
      "state": {
       "description_width": ""
      }
     },
     "2e257976a3b648e8812121ce504e7b2a": {
      "model_module": "@jupyter-widgets/base",
      "model_module_version": "1.2.0",
      "model_name": "LayoutModel",
      "state": {
       "flex": "2"
      }
     },
     "2e5638fe793d4171a87c87611370a731": {
      "model_module": "@jupyter-widgets/base",
      "model_module_version": "1.2.0",
      "model_name": "LayoutModel",
      "state": {
       "flex": "2"
      }
     },
     "2e56e7876e2d4ec18a66a0860ac2b81e": {
      "model_module": "@jupyter-widgets/controls",
      "model_module_version": "1.5.0",
      "model_name": "HTMLModel",
      "state": {
       "layout": "IPY_MODEL_0d54edc0f787438ea63ab41afc44bfb7",
       "style": "IPY_MODEL_eb0b3a7629eb4f00a2f94407a3aae349",
       "value": "Sanity Checking DataLoader 0: 100%"
      }
     },
     "2e9def11df29465cafd4c1e66e37c973": {
      "model_module": "@jupyter-widgets/controls",
      "model_module_version": "1.5.0",
      "model_name": "HTMLModel",
      "state": {
       "layout": "IPY_MODEL_1b176d6aadad4cb99006476ad2922779",
       "style": "IPY_MODEL_dbc0b62eb85545318c7adacdff5bd638",
       "value": "Validation DataLoader 0: 100%"
      }
     },
     "2ea7cabe343844cab627baecae4ffab1": {
      "model_module": "@jupyter-widgets/base",
      "model_module_version": "1.2.0",
      "model_name": "LayoutModel",
      "state": {}
     },
     "2eb0f187fd024a38acc4e071d03e321e": {
      "model_module": "@jupyter-widgets/controls",
      "model_module_version": "1.5.0",
      "model_name": "HTMLModel",
      "state": {
       "layout": "IPY_MODEL_8d99a3a8e66f43dba3bb818c9490e0b2",
       "style": "IPY_MODEL_b7866572dc534b59aa7b66abd3f55c26",
       "value": " 8/8 [00:04&lt;00:00,  1.64it/s]"
      }
     },
     "2eeb2d1820c44bf99ab954c403e7aa5c": {
      "model_module": "@jupyter-widgets/base",
      "model_module_version": "1.2.0",
      "model_name": "LayoutModel",
      "state": {}
     },
     "2efd58c08bed495bb76ada6d489c9f79": {
      "model_module": "@jupyter-widgets/controls",
      "model_module_version": "1.5.0",
      "model_name": "HTMLModel",
      "state": {
       "layout": "IPY_MODEL_13a21eacc5804ad0b6ae977cba53b2ac",
       "style": "IPY_MODEL_f8262653730148be985c486c68e952fe",
       "value": "Validation DataLoader 0: 100%"
      }
     },
     "2f94235381c84e92a0254e70674c8e2a": {
      "model_module": "@jupyter-widgets/controls",
      "model_module_version": "1.5.0",
      "model_name": "ProgressStyleModel",
      "state": {
       "description_width": ""
      }
     },
     "2fb2ea539aeb41e8b0ef003a845918e3": {
      "model_module": "@jupyter-widgets/controls",
      "model_module_version": "1.5.0",
      "model_name": "DescriptionStyleModel",
      "state": {
       "description_width": ""
      }
     },
     "2fcdf6d7fc0a413f9c354522bd96a192": {
      "model_module": "@jupyter-widgets/base",
      "model_module_version": "1.2.0",
      "model_name": "LayoutModel",
      "state": {
       "display": "inline-flex",
       "flex_flow": "row wrap",
       "width": "100%"
      }
     },
     "2fdf4aafd77b45d396d025977dc6bf10": {
      "model_module": "@jupyter-widgets/controls",
      "model_module_version": "1.5.0",
      "model_name": "HTMLModel",
      "state": {
       "layout": "IPY_MODEL_8467fdde695649e1966779205f21adc1",
       "style": "IPY_MODEL_464509b4df9740c883630901f9bf234e",
       "value": " 17/69 [00:16&lt;00:51,  1.00it/s, loss=0.0234, v_num=-140]"
      }
     },
     "2fe9f8cb893f498f9a388c46e64774f7": {
      "model_module": "@jupyter-widgets/controls",
      "model_module_version": "1.5.0",
      "model_name": "FloatProgressModel",
      "state": {
       "layout": "IPY_MODEL_7b4fea56a05a44d487a7fe0308f52db1",
       "max": 8,
       "style": "IPY_MODEL_8c46783603c24abca7e9281b4211d106",
       "value": 8
      }
     },
     "2fedff553e344832b2116c56dc45e86c": {
      "model_module": "@jupyter-widgets/base",
      "model_module_version": "1.2.0",
      "model_name": "LayoutModel",
      "state": {
       "flex": "2"
      }
     },
     "3003729e77f540dc81acc3bdf555ed33": {
      "model_module": "@jupyter-widgets/controls",
      "model_module_version": "1.5.0",
      "model_name": "HTMLModel",
      "state": {
       "layout": "IPY_MODEL_13d9a49675354c3ba94602fe9fbfea98",
       "style": "IPY_MODEL_fe3916bb4d0b4ee9bbcedc6165efbd4d",
       "value": "Sanity Checking DataLoader 0: 100%"
      }
     },
     "3024776774a441f683f7ad311a093814": {
      "model_module": "@jupyter-widgets/controls",
      "model_module_version": "1.5.0",
      "model_name": "HTMLModel",
      "state": {
       "layout": "IPY_MODEL_c935ab73ee7d42628456801686fdba34",
       "style": "IPY_MODEL_e033aa6e81f84805bd69896e33f51f1a",
       "value": " 24/69 [00:23&lt;00:44,  1.02it/s, loss=0.252, v_num=-138]"
      }
     },
     "30304b1f6de244bf909d8d4f6542bdc5": {
      "model_module": "@jupyter-widgets/controls",
      "model_module_version": "1.5.0",
      "model_name": "DescriptionStyleModel",
      "state": {
       "description_width": ""
      }
     },
     "304155014b6e40209b31abc9105b8a7d": {
      "model_module": "@jupyter-widgets/base",
      "model_module_version": "1.2.0",
      "model_name": "LayoutModel",
      "state": {
       "flex": "2"
      }
     },
     "3088c87a0ed340adbff2733f281604e9": {
      "model_module": "@jupyter-widgets/controls",
      "model_module_version": "1.5.0",
      "model_name": "HTMLModel",
      "state": {
       "layout": "IPY_MODEL_d0060350f8b7406a8b4ed5c6858a5315",
       "style": "IPY_MODEL_f00fdf2415d9430fadf8c2d8d12ecf67",
       "value": "Sanity Checking DataLoader 0: 100%"
      }
     },
     "30ace75dedf74584b5fa17381891d316": {
      "model_module": "@jupyter-widgets/controls",
      "model_module_version": "1.5.0",
      "model_name": "DescriptionStyleModel",
      "state": {
       "description_width": ""
      }
     },
     "30eae6007f1d4729abd6fbb2e56d44fe": {
      "model_module": "@jupyter-widgets/controls",
      "model_module_version": "1.5.0",
      "model_name": "FloatProgressModel",
      "state": {
       "layout": "IPY_MODEL_bdaefd7b1ab1480baa72c0f3bc5087ba",
       "max": 8,
       "style": "IPY_MODEL_e61b4ece080d40d3bf113646116a6c52",
       "value": 8
      }
     },
     "3120bbdfac374b29adcfb53a3c2e6f3b": {
      "model_module": "@jupyter-widgets/base",
      "model_module_version": "1.2.0",
      "model_name": "LayoutModel",
      "state": {
       "flex": "2"
      }
     },
     "3142c62bba434902bb14ff774bb1164f": {
      "model_module": "@jupyter-widgets/base",
      "model_module_version": "1.2.0",
      "model_name": "LayoutModel",
      "state": {}
     },
     "315692032fbd43db968e0eb2b5675c2d": {
      "model_module": "@jupyter-widgets/controls",
      "model_module_version": "1.5.0",
      "model_name": "DescriptionStyleModel",
      "state": {
       "description_width": ""
      }
     },
     "316ea9529ed44a4fa18d81eb55e5674a": {
      "model_module": "@jupyter-widgets/controls",
      "model_module_version": "1.5.0",
      "model_name": "ProgressStyleModel",
      "state": {
       "description_width": ""
      }
     },
     "317982dd1cc5409283a73ba417ffafac": {
      "model_module": "@jupyter-widgets/controls",
      "model_module_version": "1.5.0",
      "model_name": "FloatProgressModel",
      "state": {
       "layout": "IPY_MODEL_688da79363a84ee4be04479d82714a59",
       "max": 8,
       "style": "IPY_MODEL_01d13004c81e497c8f11e80872628c6a",
       "value": 8
      }
     },
     "318e4d772be64097a1bd3185a3553e55": {
      "model_module": "@jupyter-widgets/base",
      "model_module_version": "1.2.0",
      "model_name": "LayoutModel",
      "state": {}
     },
     "31d5b3f9440942f8bdd0973576973f54": {
      "model_module": "@jupyter-widgets/controls",
      "model_module_version": "1.5.0",
      "model_name": "HTMLModel",
      "state": {
       "layout": "IPY_MODEL_eb80292a150741be9a52931fe43cfb19",
       "style": "IPY_MODEL_6a24705c00054096af5bdd1a413b98ba",
       "value": "Validation DataLoader 0: 100%"
      }
     },
     "31dd5a9c468f4882a1016da32976f3d7": {
      "model_module": "@jupyter-widgets/base",
      "model_module_version": "1.2.0",
      "model_name": "LayoutModel",
      "state": {}
     },
     "31df2203b7a449348fda7c0cf867219d": {
      "model_module": "@jupyter-widgets/controls",
      "model_module_version": "1.5.0",
      "model_name": "HTMLModel",
      "state": {
       "layout": "IPY_MODEL_72bd8ac299314784bc971f8242dc14d3",
       "style": "IPY_MODEL_98dced0ef51148f8ad77fb69a8b71213",
       "value": " 8/8 [00:03&lt;00:00,  2.50it/s]"
      }
     },
     "320e42d8478f45f4ac0cf1c26f603409": {
      "model_module": "@jupyter-widgets/base",
      "model_module_version": "1.2.0",
      "model_name": "LayoutModel",
      "state": {}
     },
     "3233b6b138b24cc887ab0532ecdccc3a": {
      "model_module": "@jupyter-widgets/base",
      "model_module_version": "1.2.0",
      "model_name": "LayoutModel",
      "state": {}
     },
     "325612cfb4234b9ebbe197055403fbe4": {
      "model_module": "@jupyter-widgets/base",
      "model_module_version": "1.2.0",
      "model_name": "LayoutModel",
      "state": {
       "flex": "2"
      }
     },
     "326aec84389c49b192647973433ba1d8": {
      "model_module": "@jupyter-widgets/controls",
      "model_module_version": "1.5.0",
      "model_name": "FloatProgressModel",
      "state": {
       "layout": "IPY_MODEL_ed5cc84cc6c3452eb44e33bdded5e622",
       "max": 2,
       "style": "IPY_MODEL_d9c80ceaed524c608d1de2510f12ac7e",
       "value": 2
      }
     },
     "3275c0045d6c4f798e48ef647788a748": {
      "model_module": "@jupyter-widgets/base",
      "model_module_version": "1.2.0",
      "model_name": "LayoutModel",
      "state": {
       "flex": "2"
      }
     },
     "32830d903e5e4b04b16b6c81ec01849f": {
      "model_module": "@jupyter-widgets/base",
      "model_module_version": "1.2.0",
      "model_name": "LayoutModel",
      "state": {}
     },
     "32848f3c7d4042fc82f142274e0c8031": {
      "model_module": "@jupyter-widgets/controls",
      "model_module_version": "1.5.0",
      "model_name": "HTMLModel",
      "state": {
       "layout": "IPY_MODEL_ab341914b6614078b4dc7d3a84f75d5f",
       "style": "IPY_MODEL_383e5418e3664fc39712221486209046",
       "value": "Validation DataLoader 0: 100%"
      }
     },
     "3298acb37e4c47e1a0348648d4008eda": {
      "model_module": "@jupyter-widgets/base",
      "model_module_version": "1.2.0",
      "model_name": "LayoutModel",
      "state": {
       "flex": "2"
      }
     },
     "329d3b785be24e87a33f492872aac62f": {
      "model_module": "@jupyter-widgets/controls",
      "model_module_version": "1.5.0",
      "model_name": "FloatProgressModel",
      "state": {
       "layout": "IPY_MODEL_1773ce8e57044dc28329cc3dec874c71",
       "max": 8,
       "style": "IPY_MODEL_99e25520fd5348dfb0f3eab77881f0d9",
       "value": 8
      }
     },
     "32b6c54ca8fb49d6b3cd9d2c91957f44": {
      "model_module": "@jupyter-widgets/base",
      "model_module_version": "1.2.0",
      "model_name": "LayoutModel",
      "state": {
       "display": "inline-flex",
       "flex_flow": "row wrap",
       "width": "100%"
      }
     },
     "32d7e166dd124d4e907098fe99f30991": {
      "model_module": "@jupyter-widgets/controls",
      "model_module_version": "1.5.0",
      "model_name": "ProgressStyleModel",
      "state": {
       "description_width": ""
      }
     },
     "32da78c2177a4ab6b46a7db57bc0b651": {
      "model_module": "@jupyter-widgets/controls",
      "model_module_version": "1.5.0",
      "model_name": "HTMLModel",
      "state": {
       "layout": "IPY_MODEL_60be8bce44224b2a9c6ce27e91392950",
       "style": "IPY_MODEL_60ca868fc5b245d9b9ddffac49f0feec",
       "value": " 8/8 [00:02&lt;00:00,  3.32it/s]"
      }
     },
     "32eb45f9bf3445e982b29844d9d42eed": {
      "model_module": "@jupyter-widgets/controls",
      "model_module_version": "1.5.0",
      "model_name": "DescriptionStyleModel",
      "state": {
       "description_width": ""
      }
     },
     "3302f3fd3ddf46359f76735d40c20a88": {
      "model_module": "@jupyter-widgets/base",
      "model_module_version": "1.2.0",
      "model_name": "LayoutModel",
      "state": {
       "display": "inline-flex",
       "flex_flow": "row wrap",
       "width": "100%"
      }
     },
     "3367702bf7214694bbaade774fba89bf": {
      "model_module": "@jupyter-widgets/controls",
      "model_module_version": "1.5.0",
      "model_name": "HTMLModel",
      "state": {
       "layout": "IPY_MODEL_29b0f329a35e4e488d3e370eb286286c",
       "style": "IPY_MODEL_3f0af0850c514eeebdaa7d2c62ae1292",
       "value": " 8/8 [00:03&lt;00:00,  2.36it/s]"
      }
     },
     "336ac442cf85418f95541553bd4d8dc2": {
      "model_module": "@jupyter-widgets/controls",
      "model_module_version": "1.5.0",
      "model_name": "FloatProgressModel",
      "state": {
       "layout": "IPY_MODEL_7fc4a27b46674d55981635e2cea9533c",
       "max": 8,
       "style": "IPY_MODEL_cc659892443a460a95d91af8d794eee5",
       "value": 8
      }
     },
     "3376cf9a838348709b16f09696398655": {
      "model_module": "@jupyter-widgets/controls",
      "model_module_version": "1.5.0",
      "model_name": "DescriptionStyleModel",
      "state": {
       "description_width": ""
      }
     },
     "33a7555ed47b414caed750d515116b8c": {
      "model_module": "@jupyter-widgets/controls",
      "model_module_version": "1.5.0",
      "model_name": "ProgressStyleModel",
      "state": {
       "description_width": ""
      }
     },
     "33a887d4a1ff4498a42d0be4bd10dcde": {
      "model_module": "@jupyter-widgets/controls",
      "model_module_version": "1.5.0",
      "model_name": "HTMLModel",
      "state": {
       "layout": "IPY_MODEL_fc999507e9e547c7a11c722efae3a1d5",
       "style": "IPY_MODEL_a93fcd610b804d2b8b99fee33b48f2a7",
       "value": "Validation DataLoader 0: 100%"
      }
     },
     "33ba69175731418b97148ba342eb8414": {
      "model_module": "@jupyter-widgets/base",
      "model_module_version": "1.2.0",
      "model_name": "LayoutModel",
      "state": {
       "display": "inline-flex",
       "flex_flow": "row wrap",
       "width": "100%"
      }
     },
     "33c72fff26104eb288ba523a0e1ed651": {
      "model_module": "@jupyter-widgets/base",
      "model_module_version": "1.2.0",
      "model_name": "LayoutModel",
      "state": {
       "flex": "2"
      }
     },
     "33f61cd4fb794b5b91d2c9c61d6a594b": {
      "model_module": "@jupyter-widgets/base",
      "model_module_version": "1.2.0",
      "model_name": "LayoutModel",
      "state": {
       "display": "inline-flex",
       "flex_flow": "row wrap",
       "width": "100%"
      }
     },
     "3416bbef3312441db6408e31c6bbf407": {
      "model_module": "@jupyter-widgets/base",
      "model_module_version": "1.2.0",
      "model_name": "LayoutModel",
      "state": {
       "display": "inline-flex",
       "flex_flow": "row wrap",
       "width": "100%"
      }
     },
     "3421bcb0357f4fc8bac3786f92431382": {
      "model_module": "@jupyter-widgets/base",
      "model_module_version": "1.2.0",
      "model_name": "LayoutModel",
      "state": {}
     },
     "3438e64ab3c44ed8ab26f6b2420b6afc": {
      "model_module": "@jupyter-widgets/controls",
      "model_module_version": "1.5.0",
      "model_name": "DescriptionStyleModel",
      "state": {
       "description_width": ""
      }
     },
     "343fc344986546628eb45a35511b9247": {
      "model_module": "@jupyter-widgets/controls",
      "model_module_version": "1.5.0",
      "model_name": "ProgressStyleModel",
      "state": {
       "description_width": ""
      }
     },
     "344a9fa0e23e4efc84f00c96b94dae1c": {
      "model_module": "@jupyter-widgets/base",
      "model_module_version": "1.2.0",
      "model_name": "LayoutModel",
      "state": {
       "flex": "2"
      }
     },
     "345c4dd9a2b04c3eab2d997a8fa9eb33": {
      "model_module": "@jupyter-widgets/controls",
      "model_module_version": "1.5.0",
      "model_name": "HTMLModel",
      "state": {
       "layout": "IPY_MODEL_cdedb9c1f128429ab8b2b2518da809b8",
       "style": "IPY_MODEL_24cbeef779944c19a5c29a1bb730c77f",
       "value": " 8/8 [00:03&lt;00:00,  2.44it/s]"
      }
     },
     "34a265fc462e4dd6b683e7cc27515a28": {
      "model_module": "@jupyter-widgets/base",
      "model_module_version": "1.2.0",
      "model_name": "LayoutModel",
      "state": {
       "flex": "2"
      }
     },
     "34bc67ce1c6b4316a27e77822711e13c": {
      "model_module": "@jupyter-widgets/controls",
      "model_module_version": "1.5.0",
      "model_name": "ProgressStyleModel",
      "state": {
       "description_width": ""
      }
     },
     "34cd307621f047b6a1732589a520a704": {
      "model_module": "@jupyter-widgets/controls",
      "model_module_version": "1.5.0",
      "model_name": "ProgressStyleModel",
      "state": {
       "description_width": ""
      }
     },
     "34faaf4958324b809cb6f75278522c2f": {
      "model_module": "@jupyter-widgets/base",
      "model_module_version": "1.2.0",
      "model_name": "LayoutModel",
      "state": {
       "display": "inline-flex",
       "flex_flow": "row wrap",
       "width": "100%"
      }
     },
     "34fdb693720f424db7b0da2d50226af0": {
      "model_module": "@jupyter-widgets/base",
      "model_module_version": "1.2.0",
      "model_name": "LayoutModel",
      "state": {}
     },
     "351e8baabf6844a2b351a32202e97e4b": {
      "model_module": "@jupyter-widgets/base",
      "model_module_version": "1.2.0",
      "model_name": "LayoutModel",
      "state": {}
     },
     "3527594040514de59e75529f481c0a9f": {
      "model_module": "@jupyter-widgets/controls",
      "model_module_version": "1.5.0",
      "model_name": "HTMLModel",
      "state": {
       "layout": "IPY_MODEL_bab21fe9e4894599867fa51bfc82a732",
       "style": "IPY_MODEL_9b72ea372ec44e1cb358995187696db5",
       "value": "Validation DataLoader 0: 100%"
      }
     },
     "35431d957c5b40a3aa6b2cd7e7a8012a": {
      "model_module": "@jupyter-widgets/base",
      "model_module_version": "1.2.0",
      "model_name": "LayoutModel",
      "state": {}
     },
     "3551f5ec791a4004af6f7fd346ae5106": {
      "model_module": "@jupyter-widgets/controls",
      "model_module_version": "1.5.0",
      "model_name": "HTMLModel",
      "state": {
       "layout": "IPY_MODEL_320e42d8478f45f4ac0cf1c26f603409",
       "style": "IPY_MODEL_3eb7c9b3fdf4485199fb2d2143115ec7",
       "value": " 69/69 [01:05&lt;00:00,  1.06it/s, loss=0.00458, v_num=-139]"
      }
     },
     "357680f41b6e431a9e032eb69041a76b": {
      "model_module": "@jupyter-widgets/controls",
      "model_module_version": "1.5.0",
      "model_name": "ProgressStyleModel",
      "state": {
       "description_width": ""
      }
     },
     "357db49793e54b0e82d3de0ec935660f": {
      "model_module": "@jupyter-widgets/base",
      "model_module_version": "1.2.0",
      "model_name": "LayoutModel",
      "state": {
       "flex": "2"
      }
     },
     "35a83d954fea475eb8dcf4a0cefb2f22": {
      "model_module": "@jupyter-widgets/controls",
      "model_module_version": "1.5.0",
      "model_name": "DescriptionStyleModel",
      "state": {
       "description_width": ""
      }
     },
     "35b963d03b9343699f83f6472fb5987d": {
      "model_module": "@jupyter-widgets/base",
      "model_module_version": "1.2.0",
      "model_name": "LayoutModel",
      "state": {
       "display": "inline-flex",
       "flex_flow": "row wrap",
       "width": "100%"
      }
     },
     "35ca0b816fb644c497effdcf04af4ab2": {
      "model_module": "@jupyter-widgets/base",
      "model_module_version": "1.2.0",
      "model_name": "LayoutModel",
      "state": {
       "flex": "2"
      }
     },
     "35e21ad3a44b436686e435a2b37e736a": {
      "model_module": "@jupyter-widgets/controls",
      "model_module_version": "1.5.0",
      "model_name": "HTMLModel",
      "state": {
       "layout": "IPY_MODEL_f0d0ba19edba4444be9f3bd258a40663",
       "style": "IPY_MODEL_550739bfd3224c84ad0d0dbb086ab1f3",
       "value": " 8/8 [00:02&lt;00:00,  3.08it/s]"
      }
     },
     "35ef7ac8aa584981b920691a2ec3a38f": {
      "model_module": "@jupyter-widgets/base",
      "model_module_version": "1.2.0",
      "model_name": "LayoutModel",
      "state": {
       "display": "inline-flex",
       "flex_flow": "row wrap",
       "width": "100%"
      }
     },
     "35fe406cb74c4389806679a44314c1be": {
      "model_module": "@jupyter-widgets/base",
      "model_module_version": "1.2.0",
      "model_name": "LayoutModel",
      "state": {
       "flex": "2"
      }
     },
     "3625370b0667426788d3e355b3fe3cc5": {
      "model_module": "@jupyter-widgets/base",
      "model_module_version": "1.2.0",
      "model_name": "LayoutModel",
      "state": {
       "flex": "2"
      }
     },
     "363eea02c67a4c1b9147e9e2069e544f": {
      "model_module": "@jupyter-widgets/controls",
      "model_module_version": "1.5.0",
      "model_name": "DescriptionStyleModel",
      "state": {
       "description_width": ""
      }
     },
     "3643a950d7624ac58f2307cea7d1a324": {
      "model_module": "@jupyter-widgets/controls",
      "model_module_version": "1.5.0",
      "model_name": "FloatProgressModel",
      "state": {
       "layout": "IPY_MODEL_4d851bd85c1b4ccf94ea283e4880c1a0",
       "max": 8,
       "style": "IPY_MODEL_0bdfc58ab7ea4b20bcabd6a386471413",
       "value": 8
      }
     },
     "365ceaf3c9f341a398b45daedfbe448e": {
      "model_module": "@jupyter-widgets/controls",
      "model_module_version": "1.5.0",
      "model_name": "DescriptionStyleModel",
      "state": {
       "description_width": ""
      }
     },
     "36a9191e628e41518be6cb1d869d90e9": {
      "model_module": "@jupyter-widgets/base",
      "model_module_version": "1.2.0",
      "model_name": "LayoutModel",
      "state": {}
     },
     "36e1e939589640de9275ca34726c149c": {
      "model_module": "@jupyter-widgets/base",
      "model_module_version": "1.2.0",
      "model_name": "LayoutModel",
      "state": {}
     },
     "36e8afea6c144ecd94f85fbfc262b68f": {
      "model_module": "@jupyter-widgets/base",
      "model_module_version": "1.2.0",
      "model_name": "LayoutModel",
      "state": {}
     },
     "3725ced5a9d5415fb4f172dbef7a6153": {
      "model_module": "@jupyter-widgets/base",
      "model_module_version": "1.2.0",
      "model_name": "LayoutModel",
      "state": {}
     },
     "3744ca0c0abe4f9887cfc39c57804de7": {
      "model_module": "@jupyter-widgets/base",
      "model_module_version": "1.2.0",
      "model_name": "LayoutModel",
      "state": {
       "flex": "2"
      }
     },
     "375394616d9a4aa7ae6e1c70d40e411c": {
      "model_module": "@jupyter-widgets/base",
      "model_module_version": "1.2.0",
      "model_name": "LayoutModel",
      "state": {
       "flex": "2"
      }
     },
     "376d360de01d4ba092a3b37cd247de69": {
      "model_module": "@jupyter-widgets/controls",
      "model_module_version": "1.5.0",
      "model_name": "HTMLModel",
      "state": {
       "layout": "IPY_MODEL_54081fda958f46ae9adf57f7ef4e72ec",
       "style": "IPY_MODEL_a07c3806209241de9d5978230bbc6f28",
       "value": "Validation DataLoader 0: 100%"
      }
     },
     "3775c154900b42d58146697a810b9083": {
      "model_module": "@jupyter-widgets/controls",
      "model_module_version": "1.5.0",
      "model_name": "HTMLModel",
      "state": {
       "layout": "IPY_MODEL_be72d879fde54968ab4251039110f539",
       "style": "IPY_MODEL_db0dc08e8bde4a378d76c185cb4b7264",
       "value": " 8/8 [00:03&lt;00:00,  2.31it/s]"
      }
     },
     "37767d241e904c8bb080fcfcef2d1864": {
      "model_module": "@jupyter-widgets/base",
      "model_module_version": "1.2.0",
      "model_name": "LayoutModel",
      "state": {}
     },
     "3786f1351f8f4ee0935d61c6c281699a": {
      "model_module": "@jupyter-widgets/controls",
      "model_module_version": "1.5.0",
      "model_name": "DescriptionStyleModel",
      "state": {
       "description_width": ""
      }
     },
     "37a061b4791248b99de584c6c09a0e31": {
      "model_module": "@jupyter-widgets/base",
      "model_module_version": "1.2.0",
      "model_name": "LayoutModel",
      "state": {
       "display": "inline-flex",
       "flex_flow": "row wrap",
       "width": "100%"
      }
     },
     "37a9e2f2af6a4f968ca883112749c591": {
      "model_module": "@jupyter-widgets/controls",
      "model_module_version": "1.5.0",
      "model_name": "DescriptionStyleModel",
      "state": {
       "description_width": ""
      }
     },
     "37ccac17db3048c3aa4b416afc6f2932": {
      "model_module": "@jupyter-widgets/controls",
      "model_module_version": "1.5.0",
      "model_name": "HTMLModel",
      "state": {
       "layout": "IPY_MODEL_1ea7fb72ef29473781176063078d7d7f",
       "style": "IPY_MODEL_9d6c43a250684926ad59bce09424c1ab",
       "value": "Predicting DataLoader 0: 100%"
      }
     },
     "37db02258f764374b90ad5204a31f661": {
      "model_module": "@jupyter-widgets/controls",
      "model_module_version": "1.5.0",
      "model_name": "FloatProgressModel",
      "state": {
       "layout": "IPY_MODEL_64149af2c4b14649a8e9dbca7f0edf26",
       "max": 8,
       "style": "IPY_MODEL_fcce9089c6214b958dc67f82ffd55bbc",
       "value": 8
      }
     },
     "37f3ba22cb2d4734979d3deb1e7ba77c": {
      "model_module": "@jupyter-widgets/base",
      "model_module_version": "1.2.0",
      "model_name": "LayoutModel",
      "state": {
       "flex": "2"
      }
     },
     "381d0f23858a4f5c9de505536140dc1e": {
      "model_module": "@jupyter-widgets/base",
      "model_module_version": "1.2.0",
      "model_name": "LayoutModel",
      "state": {}
     },
     "382a55ae636c49e9a895c5802d1c125b": {
      "model_module": "@jupyter-widgets/base",
      "model_module_version": "1.2.0",
      "model_name": "LayoutModel",
      "state": {
       "flex": "2"
      }
     },
     "382d3dec4c534f1cb4ffcb7a62194cd2": {
      "model_module": "@jupyter-widgets/controls",
      "model_module_version": "1.5.0",
      "model_name": "DescriptionStyleModel",
      "state": {
       "description_width": ""
      }
     },
     "38375bad4ce540eeb1d032680c390d05": {
      "model_module": "@jupyter-widgets/base",
      "model_module_version": "1.2.0",
      "model_name": "LayoutModel",
      "state": {
       "display": "inline-flex",
       "flex_flow": "row wrap",
       "width": "100%"
      }
     },
     "383e5418e3664fc39712221486209046": {
      "model_module": "@jupyter-widgets/controls",
      "model_module_version": "1.5.0",
      "model_name": "DescriptionStyleModel",
      "state": {
       "description_width": ""
      }
     },
     "384a5007674c45f090f038b10393b274": {
      "model_module": "@jupyter-widgets/controls",
      "model_module_version": "1.5.0",
      "model_name": "FloatProgressModel",
      "state": {
       "layout": "IPY_MODEL_2e257976a3b648e8812121ce504e7b2a",
       "max": 8,
       "style": "IPY_MODEL_b2d8ae68682245279e64a3811ee68199",
       "value": 8
      }
     },
     "38603f1eaeda4b999e28faeef8203af1": {
      "model_module": "@jupyter-widgets/controls",
      "model_module_version": "1.5.0",
      "model_name": "DescriptionStyleModel",
      "state": {
       "description_width": ""
      }
     },
     "386e3223c5494e439cf9e6ac3ee4958e": {
      "model_module": "@jupyter-widgets/controls",
      "model_module_version": "1.5.0",
      "model_name": "ProgressStyleModel",
      "state": {
       "description_width": ""
      }
     },
     "389262236e5241a1ba2b01bc1f7d690f": {
      "model_module": "@jupyter-widgets/base",
      "model_module_version": "1.2.0",
      "model_name": "LayoutModel",
      "state": {
       "display": "inline-flex",
       "flex_flow": "row wrap",
       "width": "100%"
      }
     },
     "3894c7f6e9a645be9b117e29b2c44fc2": {
      "model_module": "@jupyter-widgets/controls",
      "model_module_version": "1.5.0",
      "model_name": "ProgressStyleModel",
      "state": {
       "description_width": ""
      }
     },
     "389677de6e0645da87ea84fa3eae43d8": {
      "model_module": "@jupyter-widgets/base",
      "model_module_version": "1.2.0",
      "model_name": "LayoutModel",
      "state": {
       "flex": "2"
      }
     },
     "38a98db0060649a3956f1246a53a5065": {
      "model_module": "@jupyter-widgets/controls",
      "model_module_version": "1.5.0",
      "model_name": "HTMLModel",
      "state": {
       "layout": "IPY_MODEL_5b9bec24c6dd40028807fa02c277a035",
       "style": "IPY_MODEL_994b9953bcaa401aaed8cff9398ca822",
       "value": " 8/8 [00:03&lt;00:00,  2.41it/s]"
      }
     },
     "38d78bf28f824fb8a51488c7eef5286f": {
      "model_module": "@jupyter-widgets/controls",
      "model_module_version": "1.5.0",
      "model_name": "FloatProgressModel",
      "state": {
       "layout": "IPY_MODEL_aa5ff9b53c70490192f8b52746037c73",
       "max": 8,
       "style": "IPY_MODEL_8c8dcd49d5e343cbb3bddc9a3178f531",
       "value": 8
      }
     },
     "3905cde8ddf743c7a431886a31b70365": {
      "model_module": "@jupyter-widgets/controls",
      "model_module_version": "1.5.0",
      "model_name": "ProgressStyleModel",
      "state": {
       "description_width": ""
      }
     },
     "3926ee31e1b44c479ddd385b23e42202": {
      "model_module": "@jupyter-widgets/controls",
      "model_module_version": "1.5.0",
      "model_name": "DescriptionStyleModel",
      "state": {
       "description_width": ""
      }
     },
     "3930f14887c541bf8c22cebb5d041c2c": {
      "model_module": "@jupyter-widgets/base",
      "model_module_version": "1.2.0",
      "model_name": "LayoutModel",
      "state": {}
     },
     "3946e05bd64e40588312451a0b4d3681": {
      "model_module": "@jupyter-widgets/controls",
      "model_module_version": "1.5.0",
      "model_name": "HTMLModel",
      "state": {
       "layout": "IPY_MODEL_a0e15bec86b249f288e60fe6884db6fe",
       "style": "IPY_MODEL_06bd6bcdf6224a4d9a09073a87b17586",
       "value": "Validation DataLoader 0: 100%"
      }
     },
     "395fb606e5ca4b59a2c9ca7bb83877ee": {
      "model_module": "@jupyter-widgets/controls",
      "model_module_version": "1.5.0",
      "model_name": "DescriptionStyleModel",
      "state": {
       "description_width": ""
      }
     },
     "398a6ad2271f4709a8cee5e13ff30e4f": {
      "model_module": "@jupyter-widgets/controls",
      "model_module_version": "1.5.0",
      "model_name": "DescriptionStyleModel",
      "state": {
       "description_width": ""
      }
     },
     "39cf35b88def4b838a887255bc5bdaef": {
      "model_module": "@jupyter-widgets/base",
      "model_module_version": "1.2.0",
      "model_name": "LayoutModel",
      "state": {}
     },
     "39ece1e9f3b848d3b5e0fd4ac3f6b617": {
      "model_module": "@jupyter-widgets/base",
      "model_module_version": "1.2.0",
      "model_name": "LayoutModel",
      "state": {
       "flex": "2"
      }
     },
     "39f1cec9a4fd4839a6fa3e613c7283b5": {
      "model_module": "@jupyter-widgets/controls",
      "model_module_version": "1.5.0",
      "model_name": "DescriptionStyleModel",
      "state": {
       "description_width": ""
      }
     },
     "39f21622e65b4ec3bb8a7314f6205c1b": {
      "model_module": "@jupyter-widgets/base",
      "model_module_version": "1.2.0",
      "model_name": "LayoutModel",
      "state": {}
     },
     "39f5c8089ec24015afa57094f7ad3b98": {
      "model_module": "@jupyter-widgets/base",
      "model_module_version": "1.2.0",
      "model_name": "LayoutModel",
      "state": {}
     },
     "3a5e9c260963450abff6714b954d7c9f": {
      "model_module": "@jupyter-widgets/controls",
      "model_module_version": "1.5.0",
      "model_name": "HTMLModel",
      "state": {
       "layout": "IPY_MODEL_005d066834164d92974fea9d0dd953c7",
       "style": "IPY_MODEL_d225aed921fb4f5da92e83de2445829a",
       "value": "Validation DataLoader 0: 100%"
      }
     },
     "3a677e1b4acd4dfab5706238a9ae03b0": {
      "model_module": "@jupyter-widgets/base",
      "model_module_version": "1.2.0",
      "model_name": "LayoutModel",
      "state": {
       "display": "inline-flex",
       "flex_flow": "row wrap",
       "width": "100%"
      }
     },
     "3a85717098204a2280440578474334e8": {
      "model_module": "@jupyter-widgets/controls",
      "model_module_version": "1.5.0",
      "model_name": "DescriptionStyleModel",
      "state": {
       "description_width": ""
      }
     },
     "3a9ae514c11642fba93fa7f12a71742c": {
      "model_module": "@jupyter-widgets/controls",
      "model_module_version": "1.5.0",
      "model_name": "FloatProgressModel",
      "state": {
       "layout": "IPY_MODEL_423f4ce424d04b03974dbf388d69e84a",
       "max": 8,
       "style": "IPY_MODEL_f4692e582d5042ada3d9ec2b0a72c39e",
       "value": 8
      }
     },
     "3ace2e4cbd254ab998d47bd12caad7e5": {
      "model_module": "@jupyter-widgets/controls",
      "model_module_version": "1.5.0",
      "model_name": "DescriptionStyleModel",
      "state": {
       "description_width": ""
      }
     },
     "3af7a2d3b00746cb97435611234451b0": {
      "model_module": "@jupyter-widgets/base",
      "model_module_version": "1.2.0",
      "model_name": "LayoutModel",
      "state": {
       "flex": "2"
      }
     },
     "3b11d0ac00d8446aae1aed6baaf49201": {
      "model_module": "@jupyter-widgets/base",
      "model_module_version": "1.2.0",
      "model_name": "LayoutModel",
      "state": {}
     },
     "3b173b9c66b84c1da0a555d1e4de9ebb": {
      "model_module": "@jupyter-widgets/base",
      "model_module_version": "1.2.0",
      "model_name": "LayoutModel",
      "state": {}
     },
     "3b46be96596f4e8fa9449ce3adaf3bd8": {
      "model_module": "@jupyter-widgets/controls",
      "model_module_version": "1.5.0",
      "model_name": "HTMLModel",
      "state": {
       "layout": "IPY_MODEL_6d8635ec599e48d9b0c8d92489d79582",
       "style": "IPY_MODEL_71e77222e5f54f938cb1fcbe55f9f00b",
       "value": " 8/8 [00:02&lt;00:00,  3.18it/s]"
      }
     },
     "3b8f3b7c3f5e494bb9174956f3552a42": {
      "model_module": "@jupyter-widgets/base",
      "model_module_version": "1.2.0",
      "model_name": "LayoutModel",
      "state": {
       "display": "inline-flex",
       "flex_flow": "row wrap",
       "width": "100%"
      }
     },
     "3ba5d46c417d402992619b479bdbe7b7": {
      "model_module": "@jupyter-widgets/controls",
      "model_module_version": "1.5.0",
      "model_name": "HTMLModel",
      "state": {
       "layout": "IPY_MODEL_cb184ccc704f44aab329556f4ae6b4a2",
       "style": "IPY_MODEL_2638089cfc55422ea9cba835fae634d7",
       "value": "Validation DataLoader 0: 100%"
      }
     },
     "3bba84dacaf947b8b832c2ec7cb2480c": {
      "model_module": "@jupyter-widgets/base",
      "model_module_version": "1.2.0",
      "model_name": "LayoutModel",
      "state": {}
     },
     "3bdc58e89bf04bfea495f68f246db7e0": {
      "model_module": "@jupyter-widgets/controls",
      "model_module_version": "1.5.0",
      "model_name": "DescriptionStyleModel",
      "state": {
       "description_width": ""
      }
     },
     "3be653d15e3a41f8bda3f34a072c4c28": {
      "model_module": "@jupyter-widgets/controls",
      "model_module_version": "1.5.0",
      "model_name": "DescriptionStyleModel",
      "state": {
       "description_width": ""
      }
     },
     "3c038a4f1c6d446398385fd326a11e56": {
      "model_module": "@jupyter-widgets/controls",
      "model_module_version": "1.5.0",
      "model_name": "DescriptionStyleModel",
      "state": {
       "description_width": ""
      }
     },
     "3c5289bacc8542af8dd2f27c29f07ad7": {
      "model_module": "@jupyter-widgets/base",
      "model_module_version": "1.2.0",
      "model_name": "LayoutModel",
      "state": {
       "flex": "2"
      }
     },
     "3c53950121b4456b93441f3bd4c4ef7b": {
      "model_module": "@jupyter-widgets/base",
      "model_module_version": "1.2.0",
      "model_name": "LayoutModel",
      "state": {}
     },
     "3c698ca8ea2b4d8d867669d5f331c721": {
      "model_module": "@jupyter-widgets/controls",
      "model_module_version": "1.5.0",
      "model_name": "FloatProgressModel",
      "state": {
       "layout": "IPY_MODEL_357db49793e54b0e82d3de0ec935660f",
       "max": 8,
       "style": "IPY_MODEL_04e45be6c87f4504800591db013651bf",
       "value": 8
      }
     },
     "3c75a56b9e8e4c6a8009da7c76db34c1": {
      "model_module": "@jupyter-widgets/base",
      "model_module_version": "1.2.0",
      "model_name": "LayoutModel",
      "state": {
       "display": "inline-flex",
       "flex_flow": "row wrap",
       "width": "100%"
      }
     },
     "3cab20a863344af4bcfaa0dbe672e013": {
      "model_module": "@jupyter-widgets/base",
      "model_module_version": "1.2.0",
      "model_name": "LayoutModel",
      "state": {
       "flex": "2"
      }
     },
     "3cc5cad39dfa48558281118becf20a58": {
      "model_module": "@jupyter-widgets/controls",
      "model_module_version": "1.5.0",
      "model_name": "DescriptionStyleModel",
      "state": {
       "description_width": ""
      }
     },
     "3ccafbc33ba147f29406bf3a91a098eb": {
      "model_module": "@jupyter-widgets/controls",
      "model_module_version": "1.5.0",
      "model_name": "DescriptionStyleModel",
      "state": {
       "description_width": ""
      }
     },
     "3cd52be0ab854714b37f1442e7c1ea7f": {
      "model_module": "@jupyter-widgets/controls",
      "model_module_version": "1.5.0",
      "model_name": "DescriptionStyleModel",
      "state": {
       "description_width": ""
      }
     },
     "3cef97fce6dc467d9197590e0bc1d3bb": {
      "model_module": "@jupyter-widgets/controls",
      "model_module_version": "1.5.0",
      "model_name": "HTMLModel",
      "state": {
       "layout": "IPY_MODEL_0ec9476ebc12469d9cd07d82c1d75d94",
       "style": "IPY_MODEL_401dcae1afc34d2898d9a0fe1afb5c76",
       "value": "Validation DataLoader 0: 100%"
      }
     },
     "3d0adaa4aff4428792e1f7b9a4d57834": {
      "model_module": "@jupyter-widgets/controls",
      "model_module_version": "1.5.0",
      "model_name": "ProgressStyleModel",
      "state": {
       "description_width": ""
      }
     },
     "3d22b1a1c11e4ab3bf255acac85659a1": {
      "model_module": "@jupyter-widgets/controls",
      "model_module_version": "1.5.0",
      "model_name": "FloatProgressModel",
      "state": {
       "layout": "IPY_MODEL_c927c98a99744983af1be29ec1fd80dd",
       "max": 2,
       "style": "IPY_MODEL_589a09cf27234f6da668b2401d65a2a2",
       "value": 2
      }
     },
     "3d4fe7c4df46477b932e808754dc6060": {
      "model_module": "@jupyter-widgets/controls",
      "model_module_version": "1.5.0",
      "model_name": "HTMLModel",
      "state": {
       "layout": "IPY_MODEL_77921116d80d4e62b7fb01dc2be722ce",
       "style": "IPY_MODEL_eff2d0ad8c9747aabb4bf68e56352378",
       "value": " 8/8 [00:03&lt;00:00,  2.39it/s]"
      }
     },
     "3d91e5f13dba4c0fa6b61177175f9320": {
      "model_module": "@jupyter-widgets/controls",
      "model_module_version": "1.5.0",
      "model_name": "ProgressStyleModel",
      "state": {
       "description_width": ""
      }
     },
     "3dabad83d82f43b69ddac297b87da566": {
      "model_module": "@jupyter-widgets/controls",
      "model_module_version": "1.5.0",
      "model_name": "HTMLModel",
      "state": {
       "layout": "IPY_MODEL_db361e47f39f4958883436711ad404c7",
       "style": "IPY_MODEL_88e6498354fa47f58a7969dc6c6e5dba",
       "value": " 8/8 [00:02&lt;00:00,  3.41it/s]"
      }
     },
     "3db13f01b75745ca90fb81d88de3511a": {
      "model_module": "@jupyter-widgets/controls",
      "model_module_version": "1.5.0",
      "model_name": "ProgressStyleModel",
      "state": {
       "description_width": ""
      }
     },
     "3dec73757e144eda9c11806ad5174597": {
      "model_module": "@jupyter-widgets/base",
      "model_module_version": "1.2.0",
      "model_name": "LayoutModel",
      "state": {
       "display": "inline-flex",
       "flex_flow": "row wrap",
       "width": "100%"
      }
     },
     "3df816452c24468491879cec15c6b04d": {
      "model_module": "@jupyter-widgets/controls",
      "model_module_version": "1.5.0",
      "model_name": "DescriptionStyleModel",
      "state": {
       "description_width": ""
      }
     },
     "3e50a5fc8491450f946d3922ad46ce5c": {
      "model_module": "@jupyter-widgets/controls",
      "model_module_version": "1.5.0",
      "model_name": "HTMLModel",
      "state": {
       "layout": "IPY_MODEL_7619897d83c948b2a094d52ac0510388",
       "style": "IPY_MODEL_2d6f78918af342b683702feb81a79c91",
       "value": "Validation DataLoader 0: 100%"
      }
     },
     "3e66d4cf771c41b29a16b515194a703b": {
      "model_module": "@jupyter-widgets/controls",
      "model_module_version": "1.5.0",
      "model_name": "DescriptionStyleModel",
      "state": {
       "description_width": ""
      }
     },
     "3e67a7e0ab6d4800a702c146574fc500": {
      "model_module": "@jupyter-widgets/base",
      "model_module_version": "1.2.0",
      "model_name": "LayoutModel",
      "state": {}
     },
     "3e6a41641a0d422dac45294b4acc340f": {
      "model_module": "@jupyter-widgets/base",
      "model_module_version": "1.2.0",
      "model_name": "LayoutModel",
      "state": {
       "flex": "2"
      }
     },
     "3e6b5d9bf1a14d4c9d82d51416a21b3c": {
      "model_module": "@jupyter-widgets/base",
      "model_module_version": "1.2.0",
      "model_name": "LayoutModel",
      "state": {
       "display": "inline-flex",
       "flex_flow": "row wrap",
       "width": "100%"
      }
     },
     "3e74850d46e44b5c945439cb41c50d71": {
      "model_module": "@jupyter-widgets/controls",
      "model_module_version": "1.5.0",
      "model_name": "FloatProgressModel",
      "state": {
       "layout": "IPY_MODEL_db257ce92bc3428fafb37cde6d1a05d0",
       "max": 8,
       "style": "IPY_MODEL_9ee305677b454bacad7e085dc33c10ca",
       "value": 8
      }
     },
     "3e8ae76839ca438eb9a8cd49a5e8013e": {
      "model_module": "@jupyter-widgets/base",
      "model_module_version": "1.2.0",
      "model_name": "LayoutModel",
      "state": {
       "flex": "2"
      }
     },
     "3e9a1ad68559455a893ade8d753df2d9": {
      "model_module": "@jupyter-widgets/controls",
      "model_module_version": "1.5.0",
      "model_name": "HTMLModel",
      "state": {
       "layout": "IPY_MODEL_017b82f08d4b471d972adc0b98b744cf",
       "style": "IPY_MODEL_6f512012a503419cac389c061db0d78f",
       "value": "Validation DataLoader 0: 100%"
      }
     },
     "3ead7639212741dfb51f077fb59f08ff": {
      "model_module": "@jupyter-widgets/controls",
      "model_module_version": "1.5.0",
      "model_name": "DescriptionStyleModel",
      "state": {
       "description_width": ""
      }
     },
     "3eb7c9b3fdf4485199fb2d2143115ec7": {
      "model_module": "@jupyter-widgets/controls",
      "model_module_version": "1.5.0",
      "model_name": "DescriptionStyleModel",
      "state": {
       "description_width": ""
      }
     },
     "3eba87fc12e040178af322288af74f4e": {
      "model_module": "@jupyter-widgets/controls",
      "model_module_version": "1.5.0",
      "model_name": "HTMLModel",
      "state": {
       "layout": "IPY_MODEL_cc76ee13369b4a7b9bc845cd44423b09",
       "style": "IPY_MODEL_8a0964aba1ff4fe79f7ff460fc55b7d0",
       "value": "Validation DataLoader 0: 100%"
      }
     },
     "3ef90bf0349f46d29b392fc7110c80be": {
      "model_module": "@jupyter-widgets/controls",
      "model_module_version": "1.5.0",
      "model_name": "DescriptionStyleModel",
      "state": {
       "description_width": ""
      }
     },
     "3f0af0850c514eeebdaa7d2c62ae1292": {
      "model_module": "@jupyter-widgets/controls",
      "model_module_version": "1.5.0",
      "model_name": "DescriptionStyleModel",
      "state": {
       "description_width": ""
      }
     },
     "3f1c10cdd0c54c9cac9015abf4c98dcd": {
      "model_module": "@jupyter-widgets/base",
      "model_module_version": "1.2.0",
      "model_name": "LayoutModel",
      "state": {}
     },
     "3f26207dc0f34a0f9940bf99ceb37eb1": {
      "model_module": "@jupyter-widgets/base",
      "model_module_version": "1.2.0",
      "model_name": "LayoutModel",
      "state": {}
     },
     "3f278cf836c44ecdba3c4924c116232a": {
      "model_module": "@jupyter-widgets/controls",
      "model_module_version": "1.5.0",
      "model_name": "HTMLModel",
      "state": {
       "layout": "IPY_MODEL_87293446947b4103b61229a81e91cfe4",
       "style": "IPY_MODEL_9b57de9c8ad94e1dbfd669cbdc64c439",
       "value": " 8/8 [00:03&lt;00:00,  2.58it/s]"
      }
     },
     "3f3e30a97f5a41b1801657b8066af7f7": {
      "model_module": "@jupyter-widgets/base",
      "model_module_version": "1.2.0",
      "model_name": "LayoutModel",
      "state": {
       "display": "inline-flex",
       "flex_flow": "row wrap",
       "width": "100%"
      }
     },
     "3f58f30bcce74b2dbe8e6ff7adbcf563": {
      "model_module": "@jupyter-widgets/controls",
      "model_module_version": "1.5.0",
      "model_name": "DescriptionStyleModel",
      "state": {
       "description_width": ""
      }
     },
     "3f78bb6584554c60b0063c926731030f": {
      "model_module": "@jupyter-widgets/base",
      "model_module_version": "1.2.0",
      "model_name": "LayoutModel",
      "state": {}
     },
     "3f7b7c24083a4892bc4778bce531bfaa": {
      "model_module": "@jupyter-widgets/base",
      "model_module_version": "1.2.0",
      "model_name": "LayoutModel",
      "state": {}
     },
     "3f8b721a7faf436d8236678a33346b23": {
      "model_module": "@jupyter-widgets/base",
      "model_module_version": "1.2.0",
      "model_name": "LayoutModel",
      "state": {}
     },
     "3f9a404b7dbb48f8885c06cc73bcbb0c": {
      "model_module": "@jupyter-widgets/controls",
      "model_module_version": "1.5.0",
      "model_name": "HTMLModel",
      "state": {
       "layout": "IPY_MODEL_25b827e6fe034138b701598a4de16454",
       "style": "IPY_MODEL_b7554f064235467da379013193f25eb4",
       "value": " 8/8 [00:03&lt;00:00,  2.32it/s]"
      }
     },
     "3fb70d9fad8f432f867a227fec5a40f7": {
      "model_module": "@jupyter-widgets/base",
      "model_module_version": "1.2.0",
      "model_name": "LayoutModel",
      "state": {
       "flex": "2"
      }
     },
     "3fef5e8c4d8d4967a1fb11498c62ce5f": {
      "model_module": "@jupyter-widgets/controls",
      "model_module_version": "1.5.0",
      "model_name": "HTMLModel",
      "state": {
       "layout": "IPY_MODEL_5e9b070354924fe899253d63c4bf6954",
       "style": "IPY_MODEL_12519f2164cc46229217ecc740b25d9f",
       "value": " 41/69 [00:56&lt;00:38,  1.38s/it, loss=0.784, v_num=-133]"
      }
     },
     "40122edbbe184841a2b1020d5f33667e": {
      "model_module": "@jupyter-widgets/base",
      "model_module_version": "1.2.0",
      "model_name": "LayoutModel",
      "state": {}
     },
     "401dcae1afc34d2898d9a0fe1afb5c76": {
      "model_module": "@jupyter-widgets/controls",
      "model_module_version": "1.5.0",
      "model_name": "DescriptionStyleModel",
      "state": {
       "description_width": ""
      }
     },
     "40379e4f3b524b908f90632406283a75": {
      "model_module": "@jupyter-widgets/controls",
      "model_module_version": "1.5.0",
      "model_name": "DescriptionStyleModel",
      "state": {
       "description_width": ""
      }
     },
     "404a61dd9b4144d9b38e9db41baf9d23": {
      "model_module": "@jupyter-widgets/controls",
      "model_module_version": "1.5.0",
      "model_name": "ProgressStyleModel",
      "state": {
       "description_width": ""
      }
     },
     "4070fa1bf2f24cdd89bca958c8b5e972": {
      "model_module": "@jupyter-widgets/controls",
      "model_module_version": "1.5.0",
      "model_name": "ProgressStyleModel",
      "state": {
       "description_width": ""
      }
     },
     "409c57c4385b4c79af7ed422f60ad347": {
      "model_module": "@jupyter-widgets/controls",
      "model_module_version": "1.5.0",
      "model_name": "DescriptionStyleModel",
      "state": {
       "description_width": ""
      }
     },
     "40b94dd256e247e7bfa3ebabe0523546": {
      "model_module": "@jupyter-widgets/controls",
      "model_module_version": "1.5.0",
      "model_name": "FloatProgressModel",
      "state": {
       "layout": "IPY_MODEL_6275139987c546ecb76cab8b860c69d8",
       "max": 8,
       "style": "IPY_MODEL_67796cb8d09247b3b03db526726192e0",
       "value": 8
      }
     },
     "40d02424cfd54a83a9df913ea8d3d4e9": {
      "model_module": "@jupyter-widgets/controls",
      "model_module_version": "1.5.0",
      "model_name": "FloatProgressModel",
      "state": {
       "layout": "IPY_MODEL_869d2606c75f4ace8d68226c0f4965e4",
       "max": 8,
       "style": "IPY_MODEL_acf934d73df54b6e906fc186d245888e",
       "value": 8
      }
     },
     "40d331ffb8cb42d6aa0a178ab17d5271": {
      "model_module": "@jupyter-widgets/base",
      "model_module_version": "1.2.0",
      "model_name": "LayoutModel",
      "state": {
       "flex": "2"
      }
     },
     "40e83811e41643f9ba791d5d28b1706e": {
      "model_module": "@jupyter-widgets/controls",
      "model_module_version": "1.5.0",
      "model_name": "ProgressStyleModel",
      "state": {
       "description_width": ""
      }
     },
     "410b36fcd51a4a4293368b6d91a11891": {
      "model_module": "@jupyter-widgets/controls",
      "model_module_version": "1.5.0",
      "model_name": "HTMLModel",
      "state": {
       "layout": "IPY_MODEL_142dde26e63e4df7a131ef54fec8b80d",
       "style": "IPY_MODEL_3786f1351f8f4ee0935d61c6c281699a",
       "value": " 8/8 [00:02&lt;00:00,  3.46it/s]"
      }
     },
     "4117b2d0d393444ea44fe6f1faf56622": {
      "model_module": "@jupyter-widgets/base",
      "model_module_version": "1.2.0",
      "model_name": "LayoutModel",
      "state": {}
     },
     "412e5b0b6f4243aaa4fc4d5101ab0e93": {
      "model_module": "@jupyter-widgets/controls",
      "model_module_version": "1.5.0",
      "model_name": "ProgressStyleModel",
      "state": {
       "description_width": ""
      }
     },
     "415a60f1dc0146ec93c4657b6cd5b85a": {
      "model_module": "@jupyter-widgets/controls",
      "model_module_version": "1.5.0",
      "model_name": "DescriptionStyleModel",
      "state": {
       "description_width": ""
      }
     },
     "419a02f25c8c415b99ae0a42b8dd4d7d": {
      "model_module": "@jupyter-widgets/base",
      "model_module_version": "1.2.0",
      "model_name": "LayoutModel",
      "state": {
       "flex": "2"
      }
     },
     "41a909db39144759bffeaf2d67a059de": {
      "model_module": "@jupyter-widgets/controls",
      "model_module_version": "1.5.0",
      "model_name": "DescriptionStyleModel",
      "state": {
       "description_width": ""
      }
     },
     "41bb083593d6463aa3f1e9a8486886e8": {
      "model_module": "@jupyter-widgets/controls",
      "model_module_version": "1.5.0",
      "model_name": "ProgressStyleModel",
      "state": {
       "description_width": ""
      }
     },
     "41c7909e24ec4ec192e89988a1eaf02b": {
      "model_module": "@jupyter-widgets/controls",
      "model_module_version": "1.5.0",
      "model_name": "HTMLModel",
      "state": {
       "layout": "IPY_MODEL_0506381e23a148529b2cccb9d42eb3a6",
       "style": "IPY_MODEL_697e16e5e9b641aaaee52d3834d54e0d",
       "value": "Validation DataLoader 0: 100%"
      }
     },
     "41f8f3eb7f83446fa1fad2909cd9f1a5": {
      "model_module": "@jupyter-widgets/controls",
      "model_module_version": "1.5.0",
      "model_name": "ProgressStyleModel",
      "state": {
       "description_width": ""
      }
     },
     "41fdb1cfeb584f78bcbbf728cb9c5de5": {
      "model_module": "@jupyter-widgets/controls",
      "model_module_version": "1.5.0",
      "model_name": "DescriptionStyleModel",
      "state": {
       "description_width": ""
      }
     },
     "420691a779d345b69a5fadaae630822f": {
      "model_module": "@jupyter-widgets/base",
      "model_module_version": "1.2.0",
      "model_name": "LayoutModel",
      "state": {
       "flex": "2"
      }
     },
     "421e2075d7ef439799749b204991f1a0": {
      "model_module": "@jupyter-widgets/base",
      "model_module_version": "1.2.0",
      "model_name": "LayoutModel",
      "state": {}
     },
     "423f4ce424d04b03974dbf388d69e84a": {
      "model_module": "@jupyter-widgets/base",
      "model_module_version": "1.2.0",
      "model_name": "LayoutModel",
      "state": {
       "flex": "2"
      }
     },
     "4242f8d2b7cf4834ba3bb5b65f816edc": {
      "model_module": "@jupyter-widgets/controls",
      "model_module_version": "1.5.0",
      "model_name": "HTMLModel",
      "state": {
       "layout": "IPY_MODEL_f185a4be2c6c4d5abf3f6480c92247c0",
       "style": "IPY_MODEL_8f6d7990f71a4ce997882b6cc896a600",
       "value": "Sanity Checking DataLoader 0: 100%"
      }
     },
     "424d1ef3a4a14b2d8b2ee72d334d26e2": {
      "model_module": "@jupyter-widgets/controls",
      "model_module_version": "1.5.0",
      "model_name": "HTMLModel",
      "state": {
       "layout": "IPY_MODEL_57a4f424862140d8992aed611031b792",
       "style": "IPY_MODEL_0ff49203d4c448a387e169da1c541977",
       "value": " 8/8 [00:03&lt;00:00,  2.04it/s]"
      }
     },
     "42520e81114d40bdbf5c4b5b9059d31d": {
      "model_module": "@jupyter-widgets/controls",
      "model_module_version": "1.5.0",
      "model_name": "ProgressStyleModel",
      "state": {
       "description_width": ""
      }
     },
     "426eb0d23ab0433794d87869c56c5976": {
      "model_module": "@jupyter-widgets/base",
      "model_module_version": "1.2.0",
      "model_name": "LayoutModel",
      "state": {}
     },
     "4274a14c2de343509162f35470e7fdad": {
      "model_module": "@jupyter-widgets/base",
      "model_module_version": "1.2.0",
      "model_name": "LayoutModel",
      "state": {
       "display": "inline-flex",
       "flex_flow": "row wrap",
       "width": "100%"
      }
     },
     "428178bd4c774d49a432ebdc1028548c": {
      "model_module": "@jupyter-widgets/controls",
      "model_module_version": "1.5.0",
      "model_name": "DescriptionStyleModel",
      "state": {
       "description_width": ""
      }
     },
     "428d6070d46e4779ae7328cc99e36707": {
      "model_module": "@jupyter-widgets/base",
      "model_module_version": "1.2.0",
      "model_name": "LayoutModel",
      "state": {}
     },
     "42a12a6e956645438f7d33d402b8a7c2": {
      "model_module": "@jupyter-widgets/base",
      "model_module_version": "1.2.0",
      "model_name": "LayoutModel",
      "state": {
       "display": "inline-flex",
       "flex_flow": "row wrap",
       "width": "100%"
      }
     },
     "42a7bfc659ff4ab5b9d6cf9a7d1d31f1": {
      "model_module": "@jupyter-widgets/controls",
      "model_module_version": "1.5.0",
      "model_name": "HTMLModel",
      "state": {
       "layout": "IPY_MODEL_bb2de24b39a34cfaa3884f74cae4c09f",
       "style": "IPY_MODEL_c3fc6d0589b845beafab5e5055841f25",
       "value": " 8/8 [00:02&lt;00:00,  3.13it/s]"
      }
     },
     "42f9eb7172544158a594c0fc67d9de87": {
      "model_module": "@jupyter-widgets/controls",
      "model_module_version": "1.5.0",
      "model_name": "FloatProgressModel",
      "state": {
       "layout": "IPY_MODEL_59d808b055714d699c08b64dc9a545f9",
       "max": 8,
       "style": "IPY_MODEL_062eb8f1b6074a55abe8618d7299cb7e",
       "value": 8
      }
     },
     "431b7c7c9f414743a65c0b327f73ca08": {
      "model_module": "@jupyter-widgets/base",
      "model_module_version": "1.2.0",
      "model_name": "LayoutModel",
      "state": {}
     },
     "4327a05a702f4d06b7348fa372647189": {
      "model_module": "@jupyter-widgets/base",
      "model_module_version": "1.2.0",
      "model_name": "LayoutModel",
      "state": {
       "display": "inline-flex",
       "flex_flow": "row wrap",
       "width": "100%"
      }
     },
     "4380bafe26f145dba0031a4754a6d12a": {
      "model_module": "@jupyter-widgets/base",
      "model_module_version": "1.2.0",
      "model_name": "LayoutModel",
      "state": {}
     },
     "4396ed4a663a4cd683e1bd98b023b466": {
      "model_module": "@jupyter-widgets/base",
      "model_module_version": "1.2.0",
      "model_name": "LayoutModel",
      "state": {}
     },
     "439ba1723fad4ed49f15f7f63c1a7124": {
      "model_module": "@jupyter-widgets/controls",
      "model_module_version": "1.5.0",
      "model_name": "HBoxModel",
      "state": {
       "children": [
        "IPY_MODEL_37ccac17db3048c3aa4b416afc6f2932",
        "IPY_MODEL_a4b3da72bd9943f984433cf873cf89bb",
        "IPY_MODEL_df0fd82c7e544821a8c209402635a46d"
       ],
       "layout": "IPY_MODEL_62733a92618244fda6de185a768f3b4e"
      }
     },
     "43b6f495091b4c9f9eabb68b8f7bfdfd": {
      "model_module": "@jupyter-widgets/controls",
      "model_module_version": "1.5.0",
      "model_name": "ProgressStyleModel",
      "state": {
       "description_width": ""
      }
     },
     "43be195bfacb41bd989e93af7a72bd87": {
      "model_module": "@jupyter-widgets/controls",
      "model_module_version": "1.5.0",
      "model_name": "HTMLModel",
      "state": {
       "layout": "IPY_MODEL_2dffd3bef47d466e8abc04119128ef05",
       "style": "IPY_MODEL_45ce0ea71c914be987e6a5a1359beb90",
       "value": " 8/8 [00:05&lt;00:00,  1.41it/s]"
      }
     },
     "43e1a135594c4a238434af266942364d": {
      "model_module": "@jupyter-widgets/controls",
      "model_module_version": "1.5.0",
      "model_name": "DescriptionStyleModel",
      "state": {
       "description_width": ""
      }
     },
     "445bf1f501674340bdbafc977358d6cb": {
      "model_module": "@jupyter-widgets/controls",
      "model_module_version": "1.5.0",
      "model_name": "FloatProgressModel",
      "state": {
       "layout": "IPY_MODEL_018e06af64924e5ca3349e08a226e9b3",
       "max": 8,
       "style": "IPY_MODEL_ae55f731bcd24034a674488216c6a0c8",
       "value": 8
      }
     },
     "446132aeb4df441f832c55fb881cd474": {
      "model_module": "@jupyter-widgets/controls",
      "model_module_version": "1.5.0",
      "model_name": "HTMLModel",
      "state": {
       "layout": "IPY_MODEL_8f34476921a04f53925b75e1c4e4ebc8",
       "style": "IPY_MODEL_395fb606e5ca4b59a2c9ca7bb83877ee",
       "value": " 8/8 [00:02&lt;00:00,  2.99it/s]"
      }
     },
     "4467c08a7340473c89a520e155e91606": {
      "model_module": "@jupyter-widgets/base",
      "model_module_version": "1.2.0",
      "model_name": "LayoutModel",
      "state": {}
     },
     "44682d59a2bb41af8013c05a3ae60edd": {
      "model_module": "@jupyter-widgets/controls",
      "model_module_version": "1.5.0",
      "model_name": "HTMLModel",
      "state": {
       "layout": "IPY_MODEL_7a65af611710453685e8ebcd3a747246",
       "style": "IPY_MODEL_1f97d971039d42508c1a5e7ba9f330b7",
       "value": "Validation DataLoader 0: 100%"
      }
     },
     "448afbb053ff4d549b79700ed8278ea2": {
      "model_module": "@jupyter-widgets/base",
      "model_module_version": "1.2.0",
      "model_name": "LayoutModel",
      "state": {
       "flex": "2"
      }
     },
     "44a1920f70184776939181a8104499aa": {
      "model_module": "@jupyter-widgets/controls",
      "model_module_version": "1.5.0",
      "model_name": "HTMLModel",
      "state": {
       "layout": "IPY_MODEL_b35f6375bb3d4429a0c8d24b2846f5b6",
       "style": "IPY_MODEL_3ead7639212741dfb51f077fb59f08ff",
       "value": " 8/8 [00:02&lt;00:00,  2.80it/s]"
      }
     },
     "44a72bc8c20a44a99468a237fef9ff9f": {
      "model_module": "@jupyter-widgets/controls",
      "model_module_version": "1.5.0",
      "model_name": "HTMLModel",
      "state": {
       "layout": "IPY_MODEL_07033df5f5b246ef8c285f1aa973e381",
       "style": "IPY_MODEL_b2a34e8264ca4b579c89cea6f2c151af",
       "value": " 8/8 [00:02&lt;00:00,  3.15it/s]"
      }
     },
     "44bf7fa46b8947f38f1b6cedef96fc06": {
      "model_module": "@jupyter-widgets/base",
      "model_module_version": "1.2.0",
      "model_name": "LayoutModel",
      "state": {
       "flex": "2"
      }
     },
     "44c0c74ed8f54cb1886311d8fc33973a": {
      "model_module": "@jupyter-widgets/controls",
      "model_module_version": "1.5.0",
      "model_name": "HTMLModel",
      "state": {
       "layout": "IPY_MODEL_b245f2ff3546439ca4892a8138b393ed",
       "style": "IPY_MODEL_1b024e6e23ca4837bee0aace1246bfb5",
       "value": "Validation DataLoader 0: 100%"
      }
     },
     "45382f033a5041b9a73834c804736c9f": {
      "model_module": "@jupyter-widgets/base",
      "model_module_version": "1.2.0",
      "model_name": "LayoutModel",
      "state": {}
     },
     "454059921e76406ebcb2073a50fecd6f": {
      "model_module": "@jupyter-widgets/controls",
      "model_module_version": "1.5.0",
      "model_name": "DescriptionStyleModel",
      "state": {
       "description_width": ""
      }
     },
     "4556ba2f1aae4817820acc54b21c58e7": {
      "model_module": "@jupyter-widgets/controls",
      "model_module_version": "1.5.0",
      "model_name": "HTMLModel",
      "state": {
       "layout": "IPY_MODEL_9dfa055a2d284466a963d4a230786265",
       "style": "IPY_MODEL_7eaa700249fc4d52af12f14aaac24c7e",
       "value": "Validation DataLoader 0: 100%"
      }
     },
     "45bc065afccf42af9e0400922f024fde": {
      "model_module": "@jupyter-widgets/base",
      "model_module_version": "1.2.0",
      "model_name": "LayoutModel",
      "state": {}
     },
     "45ce0ea71c914be987e6a5a1359beb90": {
      "model_module": "@jupyter-widgets/controls",
      "model_module_version": "1.5.0",
      "model_name": "DescriptionStyleModel",
      "state": {
       "description_width": ""
      }
     },
     "45da2a73b21141d8b1c39bfff5cee544": {
      "model_module": "@jupyter-widgets/base",
      "model_module_version": "1.2.0",
      "model_name": "LayoutModel",
      "state": {}
     },
     "45f3e1a474a64fe597c5649231f712fa": {
      "model_module": "@jupyter-widgets/controls",
      "model_module_version": "1.5.0",
      "model_name": "DescriptionStyleModel",
      "state": {
       "description_width": ""
      }
     },
     "460f3ce63a5646268a3360edc5ceff88": {
      "model_module": "@jupyter-widgets/base",
      "model_module_version": "1.2.0",
      "model_name": "LayoutModel",
      "state": {}
     },
     "4628af26f21e4b34b56372faba5544b7": {
      "model_module": "@jupyter-widgets/base",
      "model_module_version": "1.2.0",
      "model_name": "LayoutModel",
      "state": {}
     },
     "464509b4df9740c883630901f9bf234e": {
      "model_module": "@jupyter-widgets/controls",
      "model_module_version": "1.5.0",
      "model_name": "DescriptionStyleModel",
      "state": {
       "description_width": ""
      }
     },
     "464878a6aab84d1f8395716de0c57a11": {
      "model_module": "@jupyter-widgets/base",
      "model_module_version": "1.2.0",
      "model_name": "LayoutModel",
      "state": {}
     },
     "464cdc289bf14d3986d5a8b1687bd1b6": {
      "model_module": "@jupyter-widgets/base",
      "model_module_version": "1.2.0",
      "model_name": "LayoutModel",
      "state": {
       "flex": "2"
      }
     },
     "464fdfb5a3b543dbb2d2058b9a19401c": {
      "model_module": "@jupyter-widgets/base",
      "model_module_version": "1.2.0",
      "model_name": "LayoutModel",
      "state": {
       "display": "inline-flex",
       "flex_flow": "row wrap",
       "width": "100%"
      }
     },
     "4654f0eff73f4112986e3ee6dbb8af29": {
      "model_module": "@jupyter-widgets/base",
      "model_module_version": "1.2.0",
      "model_name": "LayoutModel",
      "state": {
       "display": "inline-flex",
       "flex_flow": "row wrap",
       "width": "100%"
      }
     },
     "465646a4dfbf4a5fba38abfe9dcb76eb": {
      "model_module": "@jupyter-widgets/controls",
      "model_module_version": "1.5.0",
      "model_name": "FloatProgressModel",
      "state": {
       "layout": "IPY_MODEL_14de5cc32f3f449ab484b5cf218bb7a0",
       "max": 8,
       "style": "IPY_MODEL_10ab0948449448e9b7395529c30898f3",
       "value": 8
      }
     },
     "46566b72bdcd456eaa4a08c27bc1e447": {
      "model_module": "@jupyter-widgets/controls",
      "model_module_version": "1.5.0",
      "model_name": "HTMLModel",
      "state": {
       "layout": "IPY_MODEL_c46befb07317423e919690a3e1d423e5",
       "style": "IPY_MODEL_c19edd2779114fb3bae4de958d96b296",
       "value": "Validation DataLoader 0: 100%"
      }
     },
     "4668deb742014a0abf505c676ea0d04c": {
      "model_module": "@jupyter-widgets/controls",
      "model_module_version": "1.5.0",
      "model_name": "HTMLModel",
      "state": {
       "layout": "IPY_MODEL_efdbedb2707d4c2ba55a9d9154899bd6",
       "style": "IPY_MODEL_03b8d4b2fda548d38785069ad11ad98f",
       "value": " 2/2 [00:01&lt;00:00,  1.33it/s]"
      }
     },
     "46979fd8e8204627b394127f52f6562a": {
      "model_module": "@jupyter-widgets/controls",
      "model_module_version": "1.5.0",
      "model_name": "HTMLModel",
      "state": {
       "layout": "IPY_MODEL_024a5637b31c4704a51492ac6194209a",
       "style": "IPY_MODEL_d2068063867a40279eea0b0fb35b50dd",
       "value": "Validation DataLoader 0: 100%"
      }
     },
     "46b448e0d1a646e9923fbc3d6d7d1a81": {
      "model_module": "@jupyter-widgets/controls",
      "model_module_version": "1.5.0",
      "model_name": "DescriptionStyleModel",
      "state": {
       "description_width": ""
      }
     },
     "46fefe0b211547e6b63ec3f7840bae90": {
      "model_module": "@jupyter-widgets/controls",
      "model_module_version": "1.5.0",
      "model_name": "DescriptionStyleModel",
      "state": {
       "description_width": ""
      }
     },
     "47085c9de4294d9ca6e834b833e1bb0f": {
      "model_module": "@jupyter-widgets/controls",
      "model_module_version": "1.5.0",
      "model_name": "DescriptionStyleModel",
      "state": {
       "description_width": ""
      }
     },
     "470d959cf7eb4a7baa4fdd1d887607c4": {
      "model_module": "@jupyter-widgets/controls",
      "model_module_version": "1.5.0",
      "model_name": "ProgressStyleModel",
      "state": {
       "description_width": ""
      }
     },
     "4763ffaca3ca4a439112933b75ce6a3a": {
      "model_module": "@jupyter-widgets/base",
      "model_module_version": "1.2.0",
      "model_name": "LayoutModel",
      "state": {
       "flex": "2"
      }
     },
     "47af635428b94172be8f4732e14c764a": {
      "model_module": "@jupyter-widgets/base",
      "model_module_version": "1.2.0",
      "model_name": "LayoutModel",
      "state": {
       "display": "inline-flex",
       "flex_flow": "row wrap",
       "width": "100%"
      }
     },
     "47c462f560c6493791c30e1e7e29da74": {
      "model_module": "@jupyter-widgets/base",
      "model_module_version": "1.2.0",
      "model_name": "LayoutModel",
      "state": {}
     },
     "47dd55b0cd324a06ac6e75f73bcba8da": {
      "model_module": "@jupyter-widgets/base",
      "model_module_version": "1.2.0",
      "model_name": "LayoutModel",
      "state": {}
     },
     "47edd5459ae84bc9ae11891e9dbb114c": {
      "model_module": "@jupyter-widgets/base",
      "model_module_version": "1.2.0",
      "model_name": "LayoutModel",
      "state": {}
     },
     "47ef4dcea70e449db6f79f9b6b7e5f63": {
      "model_module": "@jupyter-widgets/controls",
      "model_module_version": "1.5.0",
      "model_name": "DescriptionStyleModel",
      "state": {
       "description_width": ""
      }
     },
     "482a4662c0904a78a3c43eeaaf254234": {
      "model_module": "@jupyter-widgets/controls",
      "model_module_version": "1.5.0",
      "model_name": "ProgressStyleModel",
      "state": {
       "description_width": ""
      }
     },
     "48360fbc66bf4770b9f2e5e05a23f4b9": {
      "model_module": "@jupyter-widgets/controls",
      "model_module_version": "1.5.0",
      "model_name": "DescriptionStyleModel",
      "state": {
       "description_width": ""
      }
     },
     "48714d80da7a4447bb063aa9fd5ccac5": {
      "model_module": "@jupyter-widgets/controls",
      "model_module_version": "1.5.0",
      "model_name": "DescriptionStyleModel",
      "state": {
       "description_width": ""
      }
     },
     "487835db042e420fa430ab3682f18c2f": {
      "model_module": "@jupyter-widgets/base",
      "model_module_version": "1.2.0",
      "model_name": "LayoutModel",
      "state": {
       "display": "inline-flex",
       "flex_flow": "row wrap",
       "width": "100%"
      }
     },
     "48a72cc347e94ba6b56038955d07af00": {
      "model_module": "@jupyter-widgets/controls",
      "model_module_version": "1.5.0",
      "model_name": "DescriptionStyleModel",
      "state": {
       "description_width": ""
      }
     },
     "48bfc153b0984d0eb83748b0b9fc7dcf": {
      "model_module": "@jupyter-widgets/controls",
      "model_module_version": "1.5.0",
      "model_name": "HTMLModel",
      "state": {
       "layout": "IPY_MODEL_d827de31f224493599790e8f877d51a8",
       "style": "IPY_MODEL_6d8f15ba63c84775a360546334b050c8",
       "value": "Validation DataLoader 0: 100%"
      }
     },
     "495d2f86bd85435288ed98e09d5d9e66": {
      "model_module": "@jupyter-widgets/base",
      "model_module_version": "1.2.0",
      "model_name": "LayoutModel",
      "state": {
       "flex": "2"
      }
     },
     "495dd3965b8546fe9fbd7ff6c7c6828c": {
      "model_module": "@jupyter-widgets/controls",
      "model_module_version": "1.5.0",
      "model_name": "HTMLModel",
      "state": {
       "layout": "IPY_MODEL_c03422f0afca4e919a60959b26912228",
       "style": "IPY_MODEL_01e6cea3eaeb4ae59627f855620471da",
       "value": "Validation DataLoader 0: 100%"
      }
     },
     "496fe0fda58449f4a40cfb11b1beec31": {
      "model_module": "@jupyter-widgets/base",
      "model_module_version": "1.2.0",
      "model_name": "LayoutModel",
      "state": {}
     },
     "496feb0b6768479d81a73a0a5c68540d": {
      "model_module": "@jupyter-widgets/controls",
      "model_module_version": "1.5.0",
      "model_name": "ProgressStyleModel",
      "state": {
       "description_width": ""
      }
     },
     "49766a3e3d174e20835f9bca56222d64": {
      "model_module": "@jupyter-widgets/base",
      "model_module_version": "1.2.0",
      "model_name": "LayoutModel",
      "state": {
       "display": "inline-flex",
       "flex_flow": "row wrap",
       "width": "100%"
      }
     },
     "4981b8b2c25c4a17b953011988002916": {
      "model_module": "@jupyter-widgets/controls",
      "model_module_version": "1.5.0",
      "model_name": "DescriptionStyleModel",
      "state": {
       "description_width": ""
      }
     },
     "49cf9953b6a1412a974239a3c3ca8aa3": {
      "model_module": "@jupyter-widgets/base",
      "model_module_version": "1.2.0",
      "model_name": "LayoutModel",
      "state": {
       "flex": "2"
      }
     },
     "49f7131a533144368f197387f47fd880": {
      "model_module": "@jupyter-widgets/controls",
      "model_module_version": "1.5.0",
      "model_name": "FloatProgressModel",
      "state": {
       "layout": "IPY_MODEL_510e552e0104458982998a7a89138ecc",
       "max": 69,
       "style": "IPY_MODEL_ddb958437d8e4e97a978fe429cd60b9d",
       "value": 17
      }
     },
     "4a05d4fe629b4ea4874b39ef11f2aae9": {
      "model_module": "@jupyter-widgets/base",
      "model_module_version": "1.2.0",
      "model_name": "LayoutModel",
      "state": {}
     },
     "4a066f78b50d443c804df7bbc0d221ef": {
      "model_module": "@jupyter-widgets/controls",
      "model_module_version": "1.5.0",
      "model_name": "HTMLModel",
      "state": {
       "layout": "IPY_MODEL_94db60141f744469a12f3847a274b869",
       "style": "IPY_MODEL_35a83d954fea475eb8dcf4a0cefb2f22",
       "value": " 8/8 [00:02&lt;00:00,  3.25it/s]"
      }
     },
     "4a3d30ce8a344d72b63b64a76ba4cf58": {
      "model_module": "@jupyter-widgets/controls",
      "model_module_version": "1.5.0",
      "model_name": "HTMLModel",
      "state": {
       "layout": "IPY_MODEL_dadb1cfe230a4bbf8f5185703f27db0f",
       "style": "IPY_MODEL_0a2bb290b2da49a9b8ef0954d89e8a7d",
       "value": " 8/8 [00:02&lt;00:00,  2.90it/s]"
      }
     },
     "4a6881981ce74e2a906a954b6908e959": {
      "model_module": "@jupyter-widgets/controls",
      "model_module_version": "1.5.0",
      "model_name": "FloatProgressModel",
      "state": {
       "layout": "IPY_MODEL_35fe406cb74c4389806679a44314c1be",
       "max": 8,
       "style": "IPY_MODEL_ae8fec0132fa4df987152634330615ea",
       "value": 8
      }
     },
     "4a6d4673bf684e1192db4440d528f9a6": {
      "model_module": "@jupyter-widgets/controls",
      "model_module_version": "1.5.0",
      "model_name": "ProgressStyleModel",
      "state": {
       "description_width": ""
      }
     },
     "4a8070cc8dcc478790ad7a1c86ec7194": {
      "model_module": "@jupyter-widgets/base",
      "model_module_version": "1.2.0",
      "model_name": "LayoutModel",
      "state": {
       "display": "inline-flex",
       "flex_flow": "row wrap",
       "width": "100%"
      }
     },
     "4a84c92dd3fe40dca426cceeba52d7f8": {
      "model_module": "@jupyter-widgets/base",
      "model_module_version": "1.2.0",
      "model_name": "LayoutModel",
      "state": {
       "flex": "2"
      }
     },
     "4a8e110a1c8c41d48352ec4d32f2e8de": {
      "model_module": "@jupyter-widgets/controls",
      "model_module_version": "1.5.0",
      "model_name": "HBoxModel",
      "state": {
       "children": [
        "IPY_MODEL_ed10d75b3a154a19a224dac38748761c",
        "IPY_MODEL_9bf77e8595744d678cac6c96493fb46b",
        "IPY_MODEL_73a6493ed98241168e62a6f0a40186ee"
       ],
       "layout": "IPY_MODEL_10b6bea81f624c3888cf0f5cff3a78bf"
      }
     },
     "4a92b66ce2aa4440805ce3eab247845e": {
      "model_module": "@jupyter-widgets/controls",
      "model_module_version": "1.5.0",
      "model_name": "DescriptionStyleModel",
      "state": {
       "description_width": ""
      }
     },
     "4a99118e757440649439b5d667d07ba3": {
      "model_module": "@jupyter-widgets/controls",
      "model_module_version": "1.5.0",
      "model_name": "DescriptionStyleModel",
      "state": {
       "description_width": ""
      }
     },
     "4aad9687617e4df9a7e1a6c1239e1bd3": {
      "model_module": "@jupyter-widgets/base",
      "model_module_version": "1.2.0",
      "model_name": "LayoutModel",
      "state": {
       "display": "inline-flex",
       "flex_flow": "row wrap",
       "width": "100%"
      }
     },
     "4ad579d89ad74af094c5d65a5ed3b1ca": {
      "model_module": "@jupyter-widgets/controls",
      "model_module_version": "1.5.0",
      "model_name": "HTMLModel",
      "state": {
       "layout": "IPY_MODEL_9fc95c898da34aa7a33d386a65b8734d",
       "style": "IPY_MODEL_7db3c24f354a41e2a24fc486befa6ed7",
       "value": " 8/8 [00:05&lt;00:00,  1.50it/s]"
      }
     },
     "4aead21098a1436c903321192190f067": {
      "model_module": "@jupyter-widgets/base",
      "model_module_version": "1.2.0",
      "model_name": "LayoutModel",
      "state": {
       "flex": "2"
      }
     },
     "4b0edb45644544529c4de27f43e4e136": {
      "model_module": "@jupyter-widgets/controls",
      "model_module_version": "1.5.0",
      "model_name": "ProgressStyleModel",
      "state": {
       "description_width": ""
      }
     },
     "4b34392c715d41919f08bfd73f9dcd3e": {
      "model_module": "@jupyter-widgets/controls",
      "model_module_version": "1.5.0",
      "model_name": "ProgressStyleModel",
      "state": {
       "description_width": ""
      }
     },
     "4b3977d0e31d4bcdbcb1c69542e0fb37": {
      "model_module": "@jupyter-widgets/controls",
      "model_module_version": "1.5.0",
      "model_name": "HTMLModel",
      "state": {
       "layout": "IPY_MODEL_f72bf1082ddf4510bcde340a5abaf2aa",
       "style": "IPY_MODEL_d719e2da014b459e9c994d1747a43920",
       "value": "Validation DataLoader 0: 100%"
      }
     },
     "4b3a04533a3e47adbca8e2e63ed35261": {
      "model_module": "@jupyter-widgets/controls",
      "model_module_version": "1.5.0",
      "model_name": "ProgressStyleModel",
      "state": {
       "description_width": ""
      }
     },
     "4b8362c9dee84cde8e05007dca9f6e18": {
      "model_module": "@jupyter-widgets/base",
      "model_module_version": "1.2.0",
      "model_name": "LayoutModel",
      "state": {
       "display": "inline-flex",
       "flex_flow": "row wrap",
       "width": "100%"
      }
     },
     "4bc2521d4e9243bcbeee2aa536503d99": {
      "model_module": "@jupyter-widgets/base",
      "model_module_version": "1.2.0",
      "model_name": "LayoutModel",
      "state": {}
     },
     "4bf689a337aa4a1db88a232519dff429": {
      "model_module": "@jupyter-widgets/controls",
      "model_module_version": "1.5.0",
      "model_name": "ProgressStyleModel",
      "state": {
       "description_width": ""
      }
     },
     "4c1ca403d536446caea9cfdf987886b1": {
      "model_module": "@jupyter-widgets/controls",
      "model_module_version": "1.5.0",
      "model_name": "DescriptionStyleModel",
      "state": {
       "description_width": ""
      }
     },
     "4c3124dc45ff48e9a2ebb177fb7e8896": {
      "model_module": "@jupyter-widgets/base",
      "model_module_version": "1.2.0",
      "model_name": "LayoutModel",
      "state": {}
     },
     "4c33406792a048fd998a3a56cec302f8": {
      "model_module": "@jupyter-widgets/controls",
      "model_module_version": "1.5.0",
      "model_name": "DescriptionStyleModel",
      "state": {
       "description_width": ""
      }
     },
     "4c51beb05d2d4f139994d81d21d974b5": {
      "model_module": "@jupyter-widgets/base",
      "model_module_version": "1.2.0",
      "model_name": "LayoutModel",
      "state": {
       "flex": "2"
      }
     },
     "4c8a07247a9d490dbe076335f134bb25": {
      "model_module": "@jupyter-widgets/base",
      "model_module_version": "1.2.0",
      "model_name": "LayoutModel",
      "state": {}
     },
     "4cac6c20b0e240d78d392d5eb01277a9": {
      "model_module": "@jupyter-widgets/controls",
      "model_module_version": "1.5.0",
      "model_name": "FloatProgressModel",
      "state": {
       "layout": "IPY_MODEL_3af7a2d3b00746cb97435611234451b0",
       "max": 8,
       "style": "IPY_MODEL_ce5a3684b2d44f91877259145c643bc6",
       "value": 8
      }
     },
     "4cdbb8db40714a49b5892e19618232ad": {
      "model_module": "@jupyter-widgets/controls",
      "model_module_version": "1.5.0",
      "model_name": "ProgressStyleModel",
      "state": {
       "description_width": ""
      }
     },
     "4cf313d237564baf9d92ca8bac459e3a": {
      "model_module": "@jupyter-widgets/base",
      "model_module_version": "1.2.0",
      "model_name": "LayoutModel",
      "state": {
       "flex": "2"
      }
     },
     "4cfd3a6742d74598bdd2e284e72708cf": {
      "model_module": "@jupyter-widgets/controls",
      "model_module_version": "1.5.0",
      "model_name": "ProgressStyleModel",
      "state": {
       "description_width": ""
      }
     },
     "4d1bc5d7e5c14ae4b77974da1531e245": {
      "model_module": "@jupyter-widgets/controls",
      "model_module_version": "1.5.0",
      "model_name": "HTMLModel",
      "state": {
       "layout": "IPY_MODEL_e0bb043053dd4cb2a4d546413fc982f4",
       "style": "IPY_MODEL_c73309139edc471f9c9994787ca31e80",
       "value": "Validation DataLoader 0: 100%"
      }
     },
     "4d45e35b4e1642de9e4cbb389065af63": {
      "model_module": "@jupyter-widgets/base",
      "model_module_version": "1.2.0",
      "model_name": "LayoutModel",
      "state": {
       "display": "inline-flex",
       "flex_flow": "row wrap",
       "width": "100%"
      }
     },
     "4d4911000ae0463babb275a19a520c7d": {
      "model_module": "@jupyter-widgets/controls",
      "model_module_version": "1.5.0",
      "model_name": "DescriptionStyleModel",
      "state": {
       "description_width": ""
      }
     },
     "4d652f2f6d3545908c89249c7a871aac": {
      "model_module": "@jupyter-widgets/base",
      "model_module_version": "1.2.0",
      "model_name": "LayoutModel",
      "state": {}
     },
     "4d73548d1c06471ea75965fabee526b2": {
      "model_module": "@jupyter-widgets/controls",
      "model_module_version": "1.5.0",
      "model_name": "HTMLModel",
      "state": {
       "layout": "IPY_MODEL_23913d7ab3154a1a98192301d63cc61e",
       "style": "IPY_MODEL_b5660b0e81e34c7c84489e89cc1f874d",
       "value": "Validation DataLoader 0: 100%"
      }
     },
     "4d851bd85c1b4ccf94ea283e4880c1a0": {
      "model_module": "@jupyter-widgets/base",
      "model_module_version": "1.2.0",
      "model_name": "LayoutModel",
      "state": {
       "flex": "2"
      }
     },
     "4d8b64c065bf4ff28e3c8608d8713158": {
      "model_module": "@jupyter-widgets/controls",
      "model_module_version": "1.5.0",
      "model_name": "FloatProgressModel",
      "state": {
       "layout": "IPY_MODEL_81d39168f48f42fea165de67ca50b308",
       "max": 8,
       "style": "IPY_MODEL_61d3a44c3dde40ebb1a8d7e6dd6161a4",
       "value": 8
      }
     },
     "4d97173b7c36415b8bed9979db7653ab": {
      "model_module": "@jupyter-widgets/base",
      "model_module_version": "1.2.0",
      "model_name": "LayoutModel",
      "state": {
       "display": "inline-flex",
       "flex_flow": "row wrap",
       "width": "100%"
      }
     },
     "4df03dc2a8f64b59b2522505cc597925": {
      "model_module": "@jupyter-widgets/controls",
      "model_module_version": "1.5.0",
      "model_name": "ProgressStyleModel",
      "state": {
       "description_width": ""
      }
     },
     "4e5986b6f5fb47dea72b9253c51e250e": {
      "model_module": "@jupyter-widgets/base",
      "model_module_version": "1.2.0",
      "model_name": "LayoutModel",
      "state": {}
     },
     "4e63949b8e0c4d3297de6e8f76f9bf20": {
      "model_module": "@jupyter-widgets/controls",
      "model_module_version": "1.5.0",
      "model_name": "DescriptionStyleModel",
      "state": {
       "description_width": ""
      }
     },
     "4ea5e040a6654cad9c80f90c69786100": {
      "model_module": "@jupyter-widgets/base",
      "model_module_version": "1.2.0",
      "model_name": "LayoutModel",
      "state": {}
     },
     "4ed1d1ee678e45e7b93b4d6e526ec1ba": {
      "model_module": "@jupyter-widgets/base",
      "model_module_version": "1.2.0",
      "model_name": "LayoutModel",
      "state": {}
     },
     "4edd176aa0b6413a8e14319039a3cabf": {
      "model_module": "@jupyter-widgets/base",
      "model_module_version": "1.2.0",
      "model_name": "LayoutModel",
      "state": {
       "display": "inline-flex",
       "flex_flow": "row wrap",
       "width": "100%"
      }
     },
     "4eee7017469f4529a8b8f18d9fdbbe2f": {
      "model_module": "@jupyter-widgets/base",
      "model_module_version": "1.2.0",
      "model_name": "LayoutModel",
      "state": {
       "flex": "2"
      }
     },
     "4f0ed86ae9e746638d2b6a7f4fbbb8ad": {
      "model_module": "@jupyter-widgets/controls",
      "model_module_version": "1.5.0",
      "model_name": "HTMLModel",
      "state": {
       "layout": "IPY_MODEL_36e1e939589640de9275ca34726c149c",
       "style": "IPY_MODEL_d7d58f5501fc43349da9d4c6d8961841",
       "value": " 8/8 [00:02&lt;00:00,  2.67it/s]"
      }
     },
     "4f1d1e18b90a4455ac9e813bb4b5df7f": {
      "model_module": "@jupyter-widgets/controls",
      "model_module_version": "1.5.0",
      "model_name": "HTMLModel",
      "state": {
       "layout": "IPY_MODEL_1e9447b5b1ed4689b14a48c47d362046",
       "style": "IPY_MODEL_3926ee31e1b44c479ddd385b23e42202",
       "value": " 8/8 [00:02&lt;00:00,  3.01it/s]"
      }
     },
     "4f50ce3d5808445db9ec99d8433a8f23": {
      "model_module": "@jupyter-widgets/controls",
      "model_module_version": "1.5.0",
      "model_name": "ProgressStyleModel",
      "state": {
       "description_width": ""
      }
     },
     "4f731d998627409ba481932f147bb0b2": {
      "model_module": "@jupyter-widgets/controls",
      "model_module_version": "1.5.0",
      "model_name": "DescriptionStyleModel",
      "state": {
       "description_width": ""
      }
     },
     "4f89049dfce54f8db82a1d4254612a79": {
      "model_module": "@jupyter-widgets/base",
      "model_module_version": "1.2.0",
      "model_name": "LayoutModel",
      "state": {}
     },
     "4f8b6185216149c58354dd4a99e0a0fb": {
      "model_module": "@jupyter-widgets/controls",
      "model_module_version": "1.5.0",
      "model_name": "FloatProgressModel",
      "state": {
       "layout": "IPY_MODEL_130edb1708d4468a8bc438cf0136f670",
       "max": 8,
       "style": "IPY_MODEL_4cfd3a6742d74598bdd2e284e72708cf",
       "value": 8
      }
     },
     "4f8c2427b602419cb0c5b9a368c5b080": {
      "model_module": "@jupyter-widgets/controls",
      "model_module_version": "1.5.0",
      "model_name": "HTMLModel",
      "state": {
       "layout": "IPY_MODEL_7be791925b4f4c218285d5ac5c5f551a",
       "style": "IPY_MODEL_ab21599504244cff9a2d83969b4dd606",
       "value": "Validation DataLoader 0: 100%"
      }
     },
     "4fa60b77f01e40fb893e2bdb43ed7619": {
      "model_module": "@jupyter-widgets/base",
      "model_module_version": "1.2.0",
      "model_name": "LayoutModel",
      "state": {}
     },
     "4fb9a4f0c21e499db44bbb99fa4fdad3": {
      "model_module": "@jupyter-widgets/base",
      "model_module_version": "1.2.0",
      "model_name": "LayoutModel",
      "state": {}
     },
     "4fbea517c1b849ec9543c95f434c2adb": {
      "model_module": "@jupyter-widgets/controls",
      "model_module_version": "1.5.0",
      "model_name": "FloatProgressModel",
      "state": {
       "layout": "IPY_MODEL_523ba0ce6f074dc582795c309a40bcba",
       "max": 8,
       "style": "IPY_MODEL_e9c16352123a4ac4a46a5a0113130f91",
       "value": 8
      }
     },
     "4ff4a554e2bf45738308ce190b218062": {
      "model_module": "@jupyter-widgets/base",
      "model_module_version": "1.2.0",
      "model_name": "LayoutModel",
      "state": {
       "flex": "2"
      }
     },
     "50071fc3769845dbaed5a9c34666a33f": {
      "model_module": "@jupyter-widgets/controls",
      "model_module_version": "1.5.0",
      "model_name": "DescriptionStyleModel",
      "state": {
       "description_width": ""
      }
     },
     "5014d75f7ae7434583da1c9a31ac83c4": {
      "model_module": "@jupyter-widgets/controls",
      "model_module_version": "1.5.0",
      "model_name": "HTMLModel",
      "state": {
       "layout": "IPY_MODEL_2103a3eb37b64ad1af9250bee5d48079",
       "style": "IPY_MODEL_e2234e625d214bb2999182ddb308caba",
       "value": "Validation DataLoader 0: 100%"
      }
     },
     "502585a3b2584083a20068b4262f3cb6": {
      "model_module": "@jupyter-widgets/controls",
      "model_module_version": "1.5.0",
      "model_name": "HTMLModel",
      "state": {
       "layout": "IPY_MODEL_a36800624703417d91c4d05b2823bcb8",
       "style": "IPY_MODEL_59a37d7db2724192902a6a93bd60260a",
       "value": "Validation DataLoader 0: 100%"
      }
     },
     "507dcbfdfe62411c8de7e3ba74ffd790": {
      "model_module": "@jupyter-widgets/base",
      "model_module_version": "1.2.0",
      "model_name": "LayoutModel",
      "state": {}
     },
     "50b18edc3d264eebaa47659ef23b7069": {
      "model_module": "@jupyter-widgets/base",
      "model_module_version": "1.2.0",
      "model_name": "LayoutModel",
      "state": {
       "flex": "2"
      }
     },
     "50de2c9de11a49bbbdc41e8181518df0": {
      "model_module": "@jupyter-widgets/controls",
      "model_module_version": "1.5.0",
      "model_name": "HTMLModel",
      "state": {
       "layout": "IPY_MODEL_f1bae45ebddc4d128ab0765dc9892bf4",
       "style": "IPY_MODEL_051c9514947e44cd9256cb4673279fa5",
       "value": "Validation DataLoader 0: 100%"
      }
     },
     "50e129a6f05c4f70a73fbf6b01e318c5": {
      "model_module": "@jupyter-widgets/controls",
      "model_module_version": "1.5.0",
      "model_name": "HTMLModel",
      "state": {
       "layout": "IPY_MODEL_dac1124bf03849d5bd381cf871cf54a0",
       "style": "IPY_MODEL_0a63a299dffe4a9bb384b113277f005f",
       "value": "Validation DataLoader 0: 100%"
      }
     },
     "50e7330efd924d529ee5457f392dbfd0": {
      "model_module": "@jupyter-widgets/controls",
      "model_module_version": "1.5.0",
      "model_name": "HTMLModel",
      "state": {
       "layout": "IPY_MODEL_8997afe69658406ba3cb99736756366f",
       "style": "IPY_MODEL_d1bdad62f8fe4169a8e549198372f269",
       "value": " 8/8 [00:03&lt;00:00,  2.61it/s]"
      }
     },
     "510e552e0104458982998a7a89138ecc": {
      "model_module": "@jupyter-widgets/base",
      "model_module_version": "1.2.0",
      "model_name": "LayoutModel",
      "state": {
       "flex": "2"
      }
     },
     "51176e77a02c4ac39c98c71ae823347f": {
      "model_module": "@jupyter-widgets/base",
      "model_module_version": "1.2.0",
      "model_name": "LayoutModel",
      "state": {}
     },
     "51363fa91c3e4518a7cfcad2f6de4f61": {
      "model_module": "@jupyter-widgets/base",
      "model_module_version": "1.2.0",
      "model_name": "LayoutModel",
      "state": {}
     },
     "51377784b72c4d89a4233779df47beb2": {
      "model_module": "@jupyter-widgets/base",
      "model_module_version": "1.2.0",
      "model_name": "LayoutModel",
      "state": {
       "display": "inline-flex",
       "flex_flow": "row wrap",
       "width": "100%"
      }
     },
     "513919218a1e408d8b88b64f770bf1e4": {
      "model_module": "@jupyter-widgets/controls",
      "model_module_version": "1.5.0",
      "model_name": "DescriptionStyleModel",
      "state": {
       "description_width": ""
      }
     },
     "513bebe36e69470a8b3b00bc0f5e5af7": {
      "model_module": "@jupyter-widgets/controls",
      "model_module_version": "1.5.0",
      "model_name": "HTMLModel",
      "state": {
       "layout": "IPY_MODEL_61e4c7f5c09143b1b9b3c82f39d13df8",
       "style": "IPY_MODEL_1cd03af4face463db2a7a253bea9a887",
       "value": "Validation DataLoader 0: 100%"
      }
     },
     "5142ac1ef57d4b3391299d0669683ec3": {
      "model_module": "@jupyter-widgets/base",
      "model_module_version": "1.2.0",
      "model_name": "LayoutModel",
      "state": {}
     },
     "51564e36f2d94f0dab1fece2083631b2": {
      "model_module": "@jupyter-widgets/controls",
      "model_module_version": "1.5.0",
      "model_name": "DescriptionStyleModel",
      "state": {
       "description_width": ""
      }
     },
     "51616bda2c7c4342a27cf7dbed914583": {
      "model_module": "@jupyter-widgets/controls",
      "model_module_version": "1.5.0",
      "model_name": "DescriptionStyleModel",
      "state": {
       "description_width": ""
      }
     },
     "523ba0ce6f074dc582795c309a40bcba": {
      "model_module": "@jupyter-widgets/base",
      "model_module_version": "1.2.0",
      "model_name": "LayoutModel",
      "state": {
       "flex": "2"
      }
     },
     "527960a03ce14660a984f9d888201d3a": {
      "model_module": "@jupyter-widgets/controls",
      "model_module_version": "1.5.0",
      "model_name": "HTMLModel",
      "state": {
       "layout": "IPY_MODEL_e14a61d214de4c978ea38dd3aff2e1ea",
       "style": "IPY_MODEL_3ef90bf0349f46d29b392fc7110c80be",
       "value": " 8/8 [00:02&lt;00:00,  3.14it/s]"
      }
     },
     "527ac0e6e793425482e6a49ba055cd87": {
      "model_module": "@jupyter-widgets/controls",
      "model_module_version": "1.5.0",
      "model_name": "ProgressStyleModel",
      "state": {
       "description_width": ""
      }
     },
     "528882acc2bd44f5ba5d79924f6d49e6": {
      "model_module": "@jupyter-widgets/controls",
      "model_module_version": "1.5.0",
      "model_name": "HTMLModel",
      "state": {
       "layout": "IPY_MODEL_c5e41e0461844c0e9585a503b96f3453",
       "style": "IPY_MODEL_f988389a616e4e30bff404cefb7b0a67",
       "value": "Validation DataLoader 0: 100%"
      }
     },
     "5294a42b99054ca1bbb1de6d637f77b8": {
      "model_module": "@jupyter-widgets/base",
      "model_module_version": "1.2.0",
      "model_name": "LayoutModel",
      "state": {
       "display": "inline-flex",
       "flex_flow": "row wrap",
       "width": "100%"
      }
     },
     "52c0215474d849dc8271ee18d4ca3a02": {
      "model_module": "@jupyter-widgets/controls",
      "model_module_version": "1.5.0",
      "model_name": "HTMLModel",
      "state": {
       "layout": "IPY_MODEL_15d3df2ba18048789c1af54add54df8d",
       "style": "IPY_MODEL_3cd52be0ab854714b37f1442e7c1ea7f",
       "value": "Validation DataLoader 0: 100%"
      }
     },
     "52d7b3e6779d4e85ae485fb0c76b0d50": {
      "model_module": "@jupyter-widgets/controls",
      "model_module_version": "1.5.0",
      "model_name": "ProgressStyleModel",
      "state": {
       "description_width": ""
      }
     },
     "52d95245f4604b3694a8b54a8fd0b6f5": {
      "model_module": "@jupyter-widgets/controls",
      "model_module_version": "1.5.0",
      "model_name": "DescriptionStyleModel",
      "state": {
       "description_width": ""
      }
     },
     "52eb2bcd8bdc4019a55506a67cab5904": {
      "model_module": "@jupyter-widgets/controls",
      "model_module_version": "1.5.0",
      "model_name": "FloatProgressModel",
      "state": {
       "layout": "IPY_MODEL_40d331ffb8cb42d6aa0a178ab17d5271",
       "max": 8,
       "style": "IPY_MODEL_e8c2b19006684754aae300e978b24216",
       "value": 8
      }
     },
     "53444b50b51c478ab11465435109e3df": {
      "model_module": "@jupyter-widgets/base",
      "model_module_version": "1.2.0",
      "model_name": "LayoutModel",
      "state": {
       "flex": "2"
      }
     },
     "534f4048e5034280b036ab849b793107": {
      "model_module": "@jupyter-widgets/controls",
      "model_module_version": "1.5.0",
      "model_name": "HTMLModel",
      "state": {
       "layout": "IPY_MODEL_009553d7dda54de186bab7c7de0e3def",
       "style": "IPY_MODEL_167a810f080d4326a2c6f71812f10c84",
       "value": " 8/8 [00:02&lt;00:00,  3.45it/s]"
      }
     },
     "5356af22a188438d9ff38bbff53989c3": {
      "model_module": "@jupyter-widgets/base",
      "model_module_version": "1.2.0",
      "model_name": "LayoutModel",
      "state": {
       "display": "inline-flex",
       "flex_flow": "row wrap",
       "width": "100%"
      }
     },
     "539f4894a568471ba38e51b4202907d5": {
      "model_module": "@jupyter-widgets/controls",
      "model_module_version": "1.5.0",
      "model_name": "FloatProgressModel",
      "state": {
       "layout": "IPY_MODEL_797f880d93ae4c16ac3cde5058116bea",
       "max": 2,
       "style": "IPY_MODEL_3905cde8ddf743c7a431886a31b70365",
       "value": 2
      }
     },
     "53e30f5cff504a7f8de5bc7f1c603de7": {
      "model_module": "@jupyter-widgets/controls",
      "model_module_version": "1.5.0",
      "model_name": "FloatProgressModel",
      "state": {
       "layout": "IPY_MODEL_691eda9ee7644ddaa791fbcb88c787c1",
       "max": 8,
       "style": "IPY_MODEL_43b6f495091b4c9f9eabb68b8f7bfdfd",
       "value": 8
      }
     },
     "53f409f4650e435b92f6710d6015f3f3": {
      "model_module": "@jupyter-widgets/controls",
      "model_module_version": "1.5.0",
      "model_name": "DescriptionStyleModel",
      "state": {
       "description_width": ""
      }
     },
     "5403e9b969094f69aca4925f3bf49362": {
      "model_module": "@jupyter-widgets/base",
      "model_module_version": "1.2.0",
      "model_name": "LayoutModel",
      "state": {
       "flex": "2"
      }
     },
     "54081fda958f46ae9adf57f7ef4e72ec": {
      "model_module": "@jupyter-widgets/base",
      "model_module_version": "1.2.0",
      "model_name": "LayoutModel",
      "state": {}
     },
     "543764fae0584e40a8b21adbcdfe21a4": {
      "model_module": "@jupyter-widgets/base",
      "model_module_version": "1.2.0",
      "model_name": "LayoutModel",
      "state": {
       "display": "inline-flex",
       "flex_flow": "row wrap",
       "width": "100%"
      }
     },
     "54477451296844659ac47dc0c2a74952": {
      "model_module": "@jupyter-widgets/controls",
      "model_module_version": "1.5.0",
      "model_name": "HTMLModel",
      "state": {
       "layout": "IPY_MODEL_fffff85cc8ce413a8c8c9536b5d07c51",
       "style": "IPY_MODEL_a33b39fbec984b60961409994edf462b",
       "value": " 8/8 [00:02&lt;00:00,  3.32it/s]"
      }
     },
     "544dd4511898488c886640071710c4a0": {
      "model_module": "@jupyter-widgets/base",
      "model_module_version": "1.2.0",
      "model_name": "LayoutModel",
      "state": {
       "flex": "2"
      }
     },
     "546bf3625f7b46979db55d66858142bc": {
      "model_module": "@jupyter-widgets/controls",
      "model_module_version": "1.5.0",
      "model_name": "ProgressStyleModel",
      "state": {
       "description_width": ""
      }
     },
     "54d3c99525374cd68e45e4d0d72373dd": {
      "model_module": "@jupyter-widgets/base",
      "model_module_version": "1.2.0",
      "model_name": "LayoutModel",
      "state": {}
     },
     "55061224700a440eae280438bde90e92": {
      "model_module": "@jupyter-widgets/controls",
      "model_module_version": "1.5.0",
      "model_name": "HTMLModel",
      "state": {
       "layout": "IPY_MODEL_4380bafe26f145dba0031a4754a6d12a",
       "style": "IPY_MODEL_202ff49942b645b69f62c620841c554f",
       "value": " 8/8 [00:03&lt;00:00,  2.42it/s]"
      }
     },
     "550739bfd3224c84ad0d0dbb086ab1f3": {
      "model_module": "@jupyter-widgets/controls",
      "model_module_version": "1.5.0",
      "model_name": "DescriptionStyleModel",
      "state": {
       "description_width": ""
      }
     },
     "553d6f63c4014f5096593eea00914996": {
      "model_module": "@jupyter-widgets/controls",
      "model_module_version": "1.5.0",
      "model_name": "DescriptionStyleModel",
      "state": {
       "description_width": ""
      }
     },
     "553dfbfae4b74753865ed0bd0aeea5f1": {
      "model_module": "@jupyter-widgets/controls",
      "model_module_version": "1.5.0",
      "model_name": "ProgressStyleModel",
      "state": {
       "description_width": ""
      }
     },
     "55882938bb2f42808a72f08f6548f170": {
      "model_module": "@jupyter-widgets/base",
      "model_module_version": "1.2.0",
      "model_name": "LayoutModel",
      "state": {}
     },
     "55a163746b1a4c7ea3ced2cf23a54f2e": {
      "model_module": "@jupyter-widgets/controls",
      "model_module_version": "1.5.0",
      "model_name": "ProgressStyleModel",
      "state": {
       "description_width": ""
      }
     },
     "55a3f767437f41c7949d7b1e72208803": {
      "model_module": "@jupyter-widgets/base",
      "model_module_version": "1.2.0",
      "model_name": "LayoutModel",
      "state": {
       "flex": "2"
      }
     },
     "55a5ad710bbf48f3938324943cecc9fa": {
      "model_module": "@jupyter-widgets/controls",
      "model_module_version": "1.5.0",
      "model_name": "HTMLModel",
      "state": {
       "layout": "IPY_MODEL_11e204efc7af42a8bdb4f19e7bad9f94",
       "style": "IPY_MODEL_92fe16fa01db46ad9c73559e85f91c63",
       "value": " 8/8 [00:02&lt;00:00,  3.23it/s]"
      }
     },
     "55bd7eaeeb654635ba7f61aeb388d848": {
      "model_module": "@jupyter-widgets/base",
      "model_module_version": "1.2.0",
      "model_name": "LayoutModel",
      "state": {}
     },
     "55d873b07fe2428e8db537b14ec06e3b": {
      "model_module": "@jupyter-widgets/controls",
      "model_module_version": "1.5.0",
      "model_name": "HTMLModel",
      "state": {
       "layout": "IPY_MODEL_381d0f23858a4f5c9de505536140dc1e",
       "style": "IPY_MODEL_9575325dbd8c45629af14c80ed1597b6",
       "value": " 8/8 [00:02&lt;00:00,  2.70it/s]"
      }
     },
     "55e126982c20462692bf5d326af0de1e": {
      "model_module": "@jupyter-widgets/controls",
      "model_module_version": "1.5.0",
      "model_name": "ProgressStyleModel",
      "state": {
       "description_width": ""
      }
     },
     "55f1087880754c368542b8e935c81e7a": {
      "model_module": "@jupyter-widgets/controls",
      "model_module_version": "1.5.0",
      "model_name": "HTMLModel",
      "state": {
       "layout": "IPY_MODEL_86ab44eee9284e8a8720d9a50a58a8be",
       "style": "IPY_MODEL_593d0834a207413c8a3265712bb9e7e5",
       "value": " 8/8 [00:02&lt;00:00,  3.17it/s]"
      }
     },
     "5642a4661c1c48c893f6b6af52476aaf": {
      "model_module": "@jupyter-widgets/base",
      "model_module_version": "1.2.0",
      "model_name": "LayoutModel",
      "state": {
       "flex": "2"
      }
     },
     "564a95ee11c248fe91ba94cfe325f712": {
      "model_module": "@jupyter-widgets/controls",
      "model_module_version": "1.5.0",
      "model_name": "DescriptionStyleModel",
      "state": {
       "description_width": ""
      }
     },
     "56603fcffa55458eb4806af1684dc520": {
      "model_module": "@jupyter-widgets/controls",
      "model_module_version": "1.5.0",
      "model_name": "HTMLModel",
      "state": {
       "layout": "IPY_MODEL_c7b5ad0b121240b483ef99e22c666c0a",
       "style": "IPY_MODEL_48360fbc66bf4770b9f2e5e05a23f4b9",
       "value": " 8/8 [00:02&lt;00:00,  2.85it/s]"
      }
     },
     "5672748903ca4ce589206a9ae0c2ef29": {
      "model_module": "@jupyter-widgets/controls",
      "model_module_version": "1.5.0",
      "model_name": "DescriptionStyleModel",
      "state": {
       "description_width": ""
      }
     },
     "568532267b60410eb444cb2163b68f73": {
      "model_module": "@jupyter-widgets/controls",
      "model_module_version": "1.5.0",
      "model_name": "HTMLModel",
      "state": {
       "layout": "IPY_MODEL_0b8ff8cae5154ffa876c3585b9043091",
       "style": "IPY_MODEL_6dda8e8b65fe4040aadb59e26cd09edf",
       "value": "Validation DataLoader 0: 100%"
      }
     },
     "56cd20bc2ecc4e23879f446afe5b35d5": {
      "model_module": "@jupyter-widgets/controls",
      "model_module_version": "1.5.0",
      "model_name": "ProgressStyleModel",
      "state": {
       "description_width": ""
      }
     },
     "56e02c0ca2ad48ea8d4f005deb4aa8fc": {
      "model_module": "@jupyter-widgets/controls",
      "model_module_version": "1.5.0",
      "model_name": "DescriptionStyleModel",
      "state": {
       "description_width": ""
      }
     },
     "56e20243573e4fc79ef263d7c64584df": {
      "model_module": "@jupyter-widgets/base",
      "model_module_version": "1.2.0",
      "model_name": "LayoutModel",
      "state": {
       "flex": "2"
      }
     },
     "573b706562624fdb9dcd6f0147f47717": {
      "model_module": "@jupyter-widgets/controls",
      "model_module_version": "1.5.0",
      "model_name": "DescriptionStyleModel",
      "state": {
       "description_width": ""
      }
     },
     "57694a067a704606abb3544e533ccbf0": {
      "model_module": "@jupyter-widgets/controls",
      "model_module_version": "1.5.0",
      "model_name": "HTMLModel",
      "state": {
       "layout": "IPY_MODEL_3f26207dc0f34a0f9940bf99ceb37eb1",
       "style": "IPY_MODEL_818f429c560547c6a66869f3d5aafd4c",
       "value": " 8/8 [00:03&lt;00:00,  2.45it/s]"
      }
     },
     "578805f5b34c48db84e3d6ff74ec6140": {
      "model_module": "@jupyter-widgets/controls",
      "model_module_version": "1.5.0",
      "model_name": "DescriptionStyleModel",
      "state": {
       "description_width": ""
      }
     },
     "579a336d64604eba941a52b968d05710": {
      "model_module": "@jupyter-widgets/base",
      "model_module_version": "1.2.0",
      "model_name": "LayoutModel",
      "state": {}
     },
     "579b23d041d64f999266cdf210cf63ef": {
      "model_module": "@jupyter-widgets/controls",
      "model_module_version": "1.5.0",
      "model_name": "HTMLModel",
      "state": {
       "layout": "IPY_MODEL_a97552db93a44a9d85d1563721052c39",
       "style": "IPY_MODEL_0a558b1f1bc5403f894f167e9e9aa3ed",
       "value": " 8/8 [00:02&lt;00:00,  2.92it/s]"
      }
     },
     "57a4f424862140d8992aed611031b792": {
      "model_module": "@jupyter-widgets/base",
      "model_module_version": "1.2.0",
      "model_name": "LayoutModel",
      "state": {}
     },
     "57e37b569df84f8fa010b0b508ac274d": {
      "model_module": "@jupyter-widgets/base",
      "model_module_version": "1.2.0",
      "model_name": "LayoutModel",
      "state": {}
     },
     "57eb27367bc54303b823c85befca353f": {
      "model_module": "@jupyter-widgets/base",
      "model_module_version": "1.2.0",
      "model_name": "LayoutModel",
      "state": {
       "flex": "2"
      }
     },
     "5864e07ef51b414a97daedbea8bd1cdd": {
      "model_module": "@jupyter-widgets/controls",
      "model_module_version": "1.5.0",
      "model_name": "DescriptionStyleModel",
      "state": {
       "description_width": ""
      }
     },
     "589a09cf27234f6da668b2401d65a2a2": {
      "model_module": "@jupyter-widgets/controls",
      "model_module_version": "1.5.0",
      "model_name": "ProgressStyleModel",
      "state": {
       "description_width": ""
      }
     },
     "58c36c27742d460a8d329c4df8f16c9e": {
      "model_module": "@jupyter-widgets/controls",
      "model_module_version": "1.5.0",
      "model_name": "HTMLModel",
      "state": {
       "layout": "IPY_MODEL_983c081788c64673ba03bc884927bf00",
       "style": "IPY_MODEL_38603f1eaeda4b999e28faeef8203af1",
       "value": " 8/8 [00:04&lt;00:00,  1.87it/s]"
      }
     },
     "58f3acddc69941569d929b9b21d51ba4": {
      "model_module": "@jupyter-widgets/base",
      "model_module_version": "1.2.0",
      "model_name": "LayoutModel",
      "state": {}
     },
     "590671712ca64f4189d2e3d82f91b657": {
      "model_module": "@jupyter-widgets/controls",
      "model_module_version": "1.5.0",
      "model_name": "ProgressStyleModel",
      "state": {
       "description_width": ""
      }
     },
     "590c81248f3748eab915fac042bb397b": {
      "model_module": "@jupyter-widgets/controls",
      "model_module_version": "1.5.0",
      "model_name": "DescriptionStyleModel",
      "state": {
       "description_width": ""
      }
     },
     "5918fed619cc4c798fd31cb6802b000b": {
      "model_module": "@jupyter-widgets/controls",
      "model_module_version": "1.5.0",
      "model_name": "HTMLModel",
      "state": {
       "layout": "IPY_MODEL_9525d3a46bf84dedaf335b1ae381aa5e",
       "style": "IPY_MODEL_48a72cc347e94ba6b56038955d07af00",
       "value": " 8/8 [00:03&lt;00:00,  2.16it/s]"
      }
     },
     "5923fe331dec4929933ef895de03ddc2": {
      "model_module": "@jupyter-widgets/controls",
      "model_module_version": "1.5.0",
      "model_name": "HTMLModel",
      "state": {
       "layout": "IPY_MODEL_4c3124dc45ff48e9a2ebb177fb7e8896",
       "style": "IPY_MODEL_aa0e5833dc54452e987ec4e81040b912",
       "value": " 8/8 [00:02&lt;00:00,  3.31it/s]"
      }
     },
     "59264a4541d946d09e8de32f7cdd0d84": {
      "model_module": "@jupyter-widgets/controls",
      "model_module_version": "1.5.0",
      "model_name": "FloatProgressModel",
      "state": {
       "layout": "IPY_MODEL_8d9b130cb96a44e690fc3e9dc3938932",
       "max": 8,
       "style": "IPY_MODEL_184fae13f4644001afb59375313ff839",
       "value": 8
      }
     },
     "592f7f64ce624ca5bf8127226e3dbe88": {
      "model_module": "@jupyter-widgets/base",
      "model_module_version": "1.2.0",
      "model_name": "LayoutModel",
      "state": {
       "display": "inline-flex",
       "flex_flow": "row wrap",
       "width": "100%"
      }
     },
     "593d0834a207413c8a3265712bb9e7e5": {
      "model_module": "@jupyter-widgets/controls",
      "model_module_version": "1.5.0",
      "model_name": "DescriptionStyleModel",
      "state": {
       "description_width": ""
      }
     },
     "5941fdfd2d354c33b26f5974320383e6": {
      "model_module": "@jupyter-widgets/base",
      "model_module_version": "1.2.0",
      "model_name": "LayoutModel",
      "state": {}
     },
     "5987ba309bf14699b2151932e6d18df5": {
      "model_module": "@jupyter-widgets/base",
      "model_module_version": "1.2.0",
      "model_name": "LayoutModel",
      "state": {
       "display": "inline-flex",
       "flex_flow": "row wrap",
       "width": "100%"
      }
     },
     "5989bb64dad04280bb67d78386247708": {
      "model_module": "@jupyter-widgets/controls",
      "model_module_version": "1.5.0",
      "model_name": "DescriptionStyleModel",
      "state": {
       "description_width": ""
      }
     },
     "59a37d7db2724192902a6a93bd60260a": {
      "model_module": "@jupyter-widgets/controls",
      "model_module_version": "1.5.0",
      "model_name": "DescriptionStyleModel",
      "state": {
       "description_width": ""
      }
     },
     "59cd35febb3c4f54a98a9bdbdf5a5ae7": {
      "model_module": "@jupyter-widgets/base",
      "model_module_version": "1.2.0",
      "model_name": "LayoutModel",
      "state": {
       "flex": "2"
      }
     },
     "59d808b055714d699c08b64dc9a545f9": {
      "model_module": "@jupyter-widgets/base",
      "model_module_version": "1.2.0",
      "model_name": "LayoutModel",
      "state": {
       "flex": "2"
      }
     },
     "59fed2f97f1a48099bbba3799bc865e5": {
      "model_module": "@jupyter-widgets/base",
      "model_module_version": "1.2.0",
      "model_name": "LayoutModel",
      "state": {}
     },
     "5a3bfad826ef4e7ab575f57465ff35dc": {
      "model_module": "@jupyter-widgets/controls",
      "model_module_version": "1.5.0",
      "model_name": "HTMLModel",
      "state": {
       "layout": "IPY_MODEL_3421bcb0357f4fc8bac3786f92431382",
       "style": "IPY_MODEL_7c31ac7035b8426b8f183377b8f0da25",
       "value": "Epoch 16:  59%"
      }
     },
     "5a59bd96719f4e5092120901a655931f": {
      "model_module": "@jupyter-widgets/controls",
      "model_module_version": "1.5.0",
      "model_name": "DescriptionStyleModel",
      "state": {
       "description_width": ""
      }
     },
     "5a5e84eaf3cb400e9555425cc5246c66": {
      "model_module": "@jupyter-widgets/controls",
      "model_module_version": "1.5.0",
      "model_name": "FloatProgressModel",
      "state": {
       "bar_style": "success",
       "layout": "IPY_MODEL_eba30ef8e7394939b863a7cd931195e1",
       "max": 33,
       "style": "IPY_MODEL_55e126982c20462692bf5d326af0de1e",
       "value": 33
      }
     },
     "5ac4f8b815394f86b7da4bee5d79b49a": {
      "model_module": "@jupyter-widgets/controls",
      "model_module_version": "1.5.0",
      "model_name": "FloatProgressModel",
      "state": {
       "layout": "IPY_MODEL_49cf9953b6a1412a974239a3c3ca8aa3",
       "max": 8,
       "style": "IPY_MODEL_5c9fc467352f43a5983b528a74da9722",
       "value": 8
      }
     },
     "5acbae723976480b95f7fdaa1c92f807": {
      "model_module": "@jupyter-widgets/base",
      "model_module_version": "1.2.0",
      "model_name": "LayoutModel",
      "state": {}
     },
     "5b08e2c1e0a9430e8d1d45630c263663": {
      "model_module": "@jupyter-widgets/controls",
      "model_module_version": "1.5.0",
      "model_name": "ProgressStyleModel",
      "state": {
       "description_width": ""
      }
     },
     "5b0a0ef709fe4174893b7b81ee7b860f": {
      "model_module": "@jupyter-widgets/controls",
      "model_module_version": "1.5.0",
      "model_name": "HTMLModel",
      "state": {
       "layout": "IPY_MODEL_37767d241e904c8bb080fcfcef2d1864",
       "style": "IPY_MODEL_74fd3523961e40e8a74d7c98e3eb0223",
       "value": " 8/8 [00:05&lt;00:00,  1.42it/s]"
      }
     },
     "5b0cdb4c543d4254bc628b7b410b0ee7": {
      "model_module": "@jupyter-widgets/base",
      "model_module_version": "1.2.0",
      "model_name": "LayoutModel",
      "state": {}
     },
     "5b1e7aadbae546508420719893bbd40c": {
      "model_module": "@jupyter-widgets/controls",
      "model_module_version": "1.5.0",
      "model_name": "FloatProgressModel",
      "state": {
       "layout": "IPY_MODEL_50b18edc3d264eebaa47659ef23b7069",
       "max": 8,
       "style": "IPY_MODEL_33a7555ed47b414caed750d515116b8c",
       "value": 8
      }
     },
     "5b2b75dd694f459fbd6bd7edd3b0339c": {
      "model_module": "@jupyter-widgets/controls",
      "model_module_version": "1.5.0",
      "model_name": "HTMLModel",
      "state": {
       "layout": "IPY_MODEL_daef0bde88714a92b942875ab6278b66",
       "style": "IPY_MODEL_bf5ec690c4d44576ab5315518894ed07",
       "value": " 8/8 [00:04&lt;00:00,  1.66it/s]"
      }
     },
     "5b9bec24c6dd40028807fa02c277a035": {
      "model_module": "@jupyter-widgets/base",
      "model_module_version": "1.2.0",
      "model_name": "LayoutModel",
      "state": {}
     },
     "5bbb444ab7bd4b8db04ba385bae8a8f6": {
      "model_module": "@jupyter-widgets/controls",
      "model_module_version": "1.5.0",
      "model_name": "DescriptionStyleModel",
      "state": {
       "description_width": ""
      }
     },
     "5c5a364eeffe4835b7458ee9269e0d93": {
      "model_module": "@jupyter-widgets/controls",
      "model_module_version": "1.5.0",
      "model_name": "HTMLModel",
      "state": {
       "layout": "IPY_MODEL_dce47e40b23f4ca0920739272b48e432",
       "style": "IPY_MODEL_efadf3c9d88b47eaab808197eed6ea21",
       "value": " 21/69 [00:25&lt;00:58,  1.22s/it, loss=0.334, v_num=-134]"
      }
     },
     "5c6826d0a7414289b741df8df3e90004": {
      "model_module": "@jupyter-widgets/base",
      "model_module_version": "1.2.0",
      "model_name": "LayoutModel",
      "state": {}
     },
     "5c70f415055b44fda2adb00c661152d2": {
      "model_module": "@jupyter-widgets/controls",
      "model_module_version": "1.5.0",
      "model_name": "DescriptionStyleModel",
      "state": {
       "description_width": ""
      }
     },
     "5c78319cb6514391911d970f4ca7b497": {
      "model_module": "@jupyter-widgets/base",
      "model_module_version": "1.2.0",
      "model_name": "LayoutModel",
      "state": {
       "flex": "2"
      }
     },
     "5c9fc467352f43a5983b528a74da9722": {
      "model_module": "@jupyter-widgets/controls",
      "model_module_version": "1.5.0",
      "model_name": "ProgressStyleModel",
      "state": {
       "description_width": ""
      }
     },
     "5cbef2483d3b487a92b716b8224d4ab4": {
      "model_module": "@jupyter-widgets/controls",
      "model_module_version": "1.5.0",
      "model_name": "HTMLModel",
      "state": {
       "layout": "IPY_MODEL_8348779405364ff2a0335293cb3a32e9",
       "style": "IPY_MODEL_6248b46bb9a449b68b1b2bbb4c9aa040",
       "value": "Validation DataLoader 0: 100%"
      }
     },
     "5ccfeca7eb7b49b99f99695c1d7b7b9f": {
      "model_module": "@jupyter-widgets/controls",
      "model_module_version": "1.5.0",
      "model_name": "ProgressStyleModel",
      "state": {
       "description_width": ""
      }
     },
     "5cfe4398516148aba2c997fccda63e36": {
      "model_module": "@jupyter-widgets/controls",
      "model_module_version": "1.5.0",
      "model_name": "FloatProgressModel",
      "state": {
       "layout": "IPY_MODEL_f0b60980ffa2497084a1bc8a6bc559a6",
       "max": 8,
       "style": "IPY_MODEL_606dab51cb804e6691e0f3896ce8c54d",
       "value": 8
      }
     },
     "5d0015a2c8984cdfa71fe081b7f7e901": {
      "model_module": "@jupyter-widgets/base",
      "model_module_version": "1.2.0",
      "model_name": "LayoutModel",
      "state": {
       "display": "inline-flex",
       "flex_flow": "row wrap",
       "width": "100%"
      }
     },
     "5d1e4b09462b46df9f80752c52de558a": {
      "model_module": "@jupyter-widgets/controls",
      "model_module_version": "1.5.0",
      "model_name": "DescriptionStyleModel",
      "state": {
       "description_width": ""
      }
     },
     "5d2c7341627742f2a4d4ba66f31c9120": {
      "model_module": "@jupyter-widgets/base",
      "model_module_version": "1.2.0",
      "model_name": "LayoutModel",
      "state": {
       "display": "inline-flex",
       "flex_flow": "row wrap",
       "width": "100%"
      }
     },
     "5d3a577c5aed405da7ba7e90c1f3cca7": {
      "model_module": "@jupyter-widgets/controls",
      "model_module_version": "1.5.0",
      "model_name": "HTMLModel",
      "state": {
       "layout": "IPY_MODEL_112e3d6101a0433ea2164515c5ca3e4a",
       "style": "IPY_MODEL_9cfd4c52c149417780c8e517fd709aba",
       "value": " 8/8 [00:05&lt;00:00,  1.44it/s]"
      }
     },
     "5d95cc49aa434165ae07bf0f3efc9fd8": {
      "model_module": "@jupyter-widgets/controls",
      "model_module_version": "1.5.0",
      "model_name": "HTMLModel",
      "state": {
       "layout": "IPY_MODEL_fb0da567fe654e6d9601ced0587c5345",
       "style": "IPY_MODEL_0288fbddb1624fb48642bdb70e6de773",
       "value": "Validation DataLoader 0: 100%"
      }
     },
     "5d9a851e0c4a44aab0a79ac66fa9ca12": {
      "model_module": "@jupyter-widgets/controls",
      "model_module_version": "1.5.0",
      "model_name": "HTMLModel",
      "state": {
       "layout": "IPY_MODEL_6374ccd2c31a433ab0042f662dae9181",
       "style": "IPY_MODEL_2262cb4be3234e9aaf03004cefcf25ee",
       "value": "Validation DataLoader 0: 100%"
      }
     },
     "5db8fff945a04321b96aa6bb45c6e30a": {
      "model_module": "@jupyter-widgets/controls",
      "model_module_version": "1.5.0",
      "model_name": "FloatProgressModel",
      "state": {
       "layout": "IPY_MODEL_a3d4c2c362be412386ff1a475db18bb4",
       "max": 8,
       "style": "IPY_MODEL_a5da324b85524a4886b0720b618463d5",
       "value": 8
      }
     },
     "5dbfda4dd5f840a8912a7136bff62d06": {
      "model_module": "@jupyter-widgets/controls",
      "model_module_version": "1.5.0",
      "model_name": "FloatProgressModel",
      "state": {
       "layout": "IPY_MODEL_c86e46c9894d40d2ac0a5be00ce7a244",
       "max": 8,
       "style": "IPY_MODEL_0cf13fdcea0040beb208062b42b3b6c2",
       "value": 8
      }
     },
     "5df1a6efd62c49d7849c516f60e01f2b": {
      "model_module": "@jupyter-widgets/controls",
      "model_module_version": "1.5.0",
      "model_name": "FloatProgressModel",
      "state": {
       "layout": "IPY_MODEL_f5ae76b4c02f4a0b818d3d60c76d02f9",
       "max": 8,
       "style": "IPY_MODEL_fc028729f50640d9919533e812a69c6f",
       "value": 8
      }
     },
     "5dfdac14d997415c8234eda0704a468a": {
      "model_module": "@jupyter-widgets/controls",
      "model_module_version": "1.5.0",
      "model_name": "HTMLModel",
      "state": {
       "layout": "IPY_MODEL_db065b4ae08a49c5ad34cf7ffba197e7",
       "style": "IPY_MODEL_aeb72371222d4df3bdd04921aea1d3bc",
       "value": "Validation DataLoader 0: 100%"
      }
     },
     "5e19d2b56063405a996be3039cba98e2": {
      "model_module": "@jupyter-widgets/base",
      "model_module_version": "1.2.0",
      "model_name": "LayoutModel",
      "state": {
       "flex": "2"
      }
     },
     "5e22cf2c997447908414768a3d654f7d": {
      "model_module": "@jupyter-widgets/controls",
      "model_module_version": "1.5.0",
      "model_name": "HTMLModel",
      "state": {
       "layout": "IPY_MODEL_1dd3db69df1c43918befd24b29adc008",
       "style": "IPY_MODEL_ec79c4562a70465cae58688671f08fd7",
       "value": " 8/8 [00:04&lt;00:00,  1.78it/s]"
      }
     },
     "5e23b019dc7e41bc8754fa21c70ec53d": {
      "model_module": "@jupyter-widgets/base",
      "model_module_version": "1.2.0",
      "model_name": "LayoutModel",
      "state": {
       "flex": "2"
      }
     },
     "5e358b20f6ce4aa5bb70627f991749e9": {
      "model_module": "@jupyter-widgets/controls",
      "model_module_version": "1.5.0",
      "model_name": "HTMLModel",
      "state": {
       "layout": "IPY_MODEL_428d6070d46e4779ae7328cc99e36707",
       "style": "IPY_MODEL_7fd656d7f6364073b9637d400fe10eec",
       "value": "Validation DataLoader 0: 100%"
      }
     },
     "5e3cb43305f94dcaabbc9821f4ae845b": {
      "model_module": "@jupyter-widgets/base",
      "model_module_version": "1.2.0",
      "model_name": "LayoutModel",
      "state": {
       "display": "inline-flex",
       "flex_flow": "row wrap",
       "width": "100%"
      }
     },
     "5e451943b7c54669bbe1e6131c1ae522": {
      "model_module": "@jupyter-widgets/controls",
      "model_module_version": "1.5.0",
      "model_name": "HTMLModel",
      "state": {
       "layout": "IPY_MODEL_ab37945a8a554e91b5f26acf1b9abb24",
       "style": "IPY_MODEL_acfd7b12d0894adf8fb8960ec9503173",
       "value": " 8/8 [00:05&lt;00:00,  1.49it/s]"
      }
     },
     "5e5cf403a18c4676844f7602cb38bf3b": {
      "model_module": "@jupyter-widgets/controls",
      "model_module_version": "1.5.0",
      "model_name": "FloatProgressModel",
      "state": {
       "layout": "IPY_MODEL_3625370b0667426788d3e355b3fe3cc5",
       "max": 8,
       "style": "IPY_MODEL_496feb0b6768479d81a73a0a5c68540d",
       "value": 8
      }
     },
     "5e6deca93cf6461fa215c1d178125fa9": {
      "model_module": "@jupyter-widgets/controls",
      "model_module_version": "1.5.0",
      "model_name": "DescriptionStyleModel",
      "state": {
       "description_width": ""
      }
     },
     "5e944c37b36e44d595eb3a75234fec29": {
      "model_module": "@jupyter-widgets/controls",
      "model_module_version": "1.5.0",
      "model_name": "HTMLModel",
      "state": {
       "layout": "IPY_MODEL_64a4dfcf902b41d6a03340b456bc7bb8",
       "style": "IPY_MODEL_cc433a34fa5d4d278887b3cb74fcf5ea",
       "value": "Validation DataLoader 0: 100%"
      }
     },
     "5e9b070354924fe899253d63c4bf6954": {
      "model_module": "@jupyter-widgets/base",
      "model_module_version": "1.2.0",
      "model_name": "LayoutModel",
      "state": {}
     },
     "5ebf3286cee9420998c34a0d02684f40": {
      "model_module": "@jupyter-widgets/base",
      "model_module_version": "1.2.0",
      "model_name": "LayoutModel",
      "state": {}
     },
     "5ef5721a3f3c443084363527307da776": {
      "model_module": "@jupyter-widgets/base",
      "model_module_version": "1.2.0",
      "model_name": "LayoutModel",
      "state": {}
     },
     "5f0a5ab8db474a28995f2ee0ea5ca05c": {
      "model_module": "@jupyter-widgets/controls",
      "model_module_version": "1.5.0",
      "model_name": "HTMLModel",
      "state": {
       "layout": "IPY_MODEL_056d359d92884d56b343ea467bcf3859",
       "style": "IPY_MODEL_7c02a86f5bd246dc843c7b57b41f88f7",
       "value": "Sanity Checking DataLoader 0: 100%"
      }
     },
     "5f0d792886844632851302e2a1986f80": {
      "model_module": "@jupyter-widgets/base",
      "model_module_version": "1.2.0",
      "model_name": "LayoutModel",
      "state": {}
     },
     "5f4329fc1cbb45e98132b4af036d6a71": {
      "model_module": "@jupyter-widgets/controls",
      "model_module_version": "1.5.0",
      "model_name": "HTMLModel",
      "state": {
       "layout": "IPY_MODEL_2d577bbfea8040538e9f81feccfe390a",
       "style": "IPY_MODEL_51616bda2c7c4342a27cf7dbed914583",
       "value": " 8/8 [00:06&lt;00:00,  1.30it/s]"
      }
     },
     "5fa2b7aa762445b28b311c8dd378ec7c": {
      "model_module": "@jupyter-widgets/base",
      "model_module_version": "1.2.0",
      "model_name": "LayoutModel",
      "state": {}
     },
     "5fa68b2c88634017b608c40255007d2d": {
      "model_module": "@jupyter-widgets/controls",
      "model_module_version": "1.5.0",
      "model_name": "FloatProgressModel",
      "state": {
       "layout": "IPY_MODEL_8da4a349531f42eb89c9981172c6f039",
       "max": 8,
       "style": "IPY_MODEL_9860ae7c7402403bad13ebe72781c6f3",
       "value": 8
      }
     },
     "5fb48037434b4feeac81bb75b83250fa": {
      "model_module": "@jupyter-widgets/base",
      "model_module_version": "1.2.0",
      "model_name": "LayoutModel",
      "state": {
       "display": "inline-flex",
       "flex_flow": "row wrap",
       "width": "100%"
      }
     },
     "5fb56ba9114e4c66a7ce87475b321dcd": {
      "model_module": "@jupyter-widgets/controls",
      "model_module_version": "1.5.0",
      "model_name": "FloatProgressModel",
      "state": {
       "layout": "IPY_MODEL_420691a779d345b69a5fadaae630822f",
       "max": 8,
       "style": "IPY_MODEL_04852d7f7f8f45038f107d36744e7599",
       "value": 8
      }
     },
     "5fb919af424d4b3f9ccce0164b8c2fb0": {
      "model_module": "@jupyter-widgets/controls",
      "model_module_version": "1.5.0",
      "model_name": "FloatProgressModel",
      "state": {
       "bar_style": "success",
       "layout": "IPY_MODEL_ee2529a3067e47d49d01ef9c55ba23b3",
       "max": 69,
       "style": "IPY_MODEL_1ef30bce6d5648b9a10475c2553cb616",
       "value": 69
      }
     },
     "5fd5d51a3d30491588ea58d6b32d4976": {
      "model_module": "@jupyter-widgets/controls",
      "model_module_version": "1.5.0",
      "model_name": "ProgressStyleModel",
      "state": {
       "description_width": ""
      }
     },
     "5fdb4729ce8943518df1c67e252c63e1": {
      "model_module": "@jupyter-widgets/controls",
      "model_module_version": "1.5.0",
      "model_name": "HTMLModel",
      "state": {
       "layout": "IPY_MODEL_d8edcc96a11f41d8976defe5d22fc518",
       "style": "IPY_MODEL_0d1efd59605f409399ef59a186ffc08a",
       "value": "Validation DataLoader 0: 100%"
      }
     },
     "5fdfede347dd4afdb36b34ca26dcb9ce": {
      "model_module": "@jupyter-widgets/controls",
      "model_module_version": "1.5.0",
      "model_name": "DescriptionStyleModel",
      "state": {
       "description_width": ""
      }
     },
     "5fee35920ac846b0afe903fb1e4f013b": {
      "model_module": "@jupyter-widgets/controls",
      "model_module_version": "1.5.0",
      "model_name": "ProgressStyleModel",
      "state": {
       "description_width": ""
      }
     },
     "601261714936432494f64d16c8ec9f16": {
      "model_module": "@jupyter-widgets/controls",
      "model_module_version": "1.5.0",
      "model_name": "FloatProgressModel",
      "state": {
       "layout": "IPY_MODEL_a37e94d9a1a0480f8f832d05cfe847e7",
       "max": 8,
       "style": "IPY_MODEL_3d91e5f13dba4c0fa6b61177175f9320",
       "value": 8
      }
     },
     "601d90c9917a4a258612d9de06b1c86d": {
      "model_module": "@jupyter-widgets/controls",
      "model_module_version": "1.5.0",
      "model_name": "DescriptionStyleModel",
      "state": {
       "description_width": ""
      }
     },
     "6025c14be1394cf6a2aae6a65528d663": {
      "model_module": "@jupyter-widgets/base",
      "model_module_version": "1.2.0",
      "model_name": "LayoutModel",
      "state": {}
     },
     "603e7e470d74461a813591da9e92eb60": {
      "model_module": "@jupyter-widgets/controls",
      "model_module_version": "1.5.0",
      "model_name": "DescriptionStyleModel",
      "state": {
       "description_width": ""
      }
     },
     "60676a0801054442a2b08dd2cf20a1c1": {
      "model_module": "@jupyter-widgets/controls",
      "model_module_version": "1.5.0",
      "model_name": "HBoxModel",
      "state": {
       "children": [
        "IPY_MODEL_1d1579c9e6944287a41a70c4d0461a7f",
        "IPY_MODEL_8f842d05a53a4753b79679d256cf67fc",
        "IPY_MODEL_143df8210eb445bf892a781015700c5b"
       ],
       "layout": "IPY_MODEL_244b304e90714e0da09525039ee331f3"
      }
     },
     "606dab51cb804e6691e0f3896ce8c54d": {
      "model_module": "@jupyter-widgets/controls",
      "model_module_version": "1.5.0",
      "model_name": "ProgressStyleModel",
      "state": {
       "description_width": ""
      }
     },
     "6085ddc555e8460da80b13f7442f66b2": {
      "model_module": "@jupyter-widgets/controls",
      "model_module_version": "1.5.0",
      "model_name": "DescriptionStyleModel",
      "state": {
       "description_width": ""
      }
     },
     "609ddd05b59443bebcce3c93d986ad70": {
      "model_module": "@jupyter-widgets/base",
      "model_module_version": "1.2.0",
      "model_name": "LayoutModel",
      "state": {
       "flex": "2"
      }
     },
     "60be8bce44224b2a9c6ce27e91392950": {
      "model_module": "@jupyter-widgets/base",
      "model_module_version": "1.2.0",
      "model_name": "LayoutModel",
      "state": {}
     },
     "60ca868fc5b245d9b9ddffac49f0feec": {
      "model_module": "@jupyter-widgets/controls",
      "model_module_version": "1.5.0",
      "model_name": "DescriptionStyleModel",
      "state": {
       "description_width": ""
      }
     },
     "610e378e5d834b1c97bff28e42312c1a": {
      "model_module": "@jupyter-widgets/base",
      "model_module_version": "1.2.0",
      "model_name": "LayoutModel",
      "state": {}
     },
     "61106a1b0b67409fb67c2d1b47849410": {
      "model_module": "@jupyter-widgets/controls",
      "model_module_version": "1.5.0",
      "model_name": "FloatProgressModel",
      "state": {
       "layout": "IPY_MODEL_ace43c0f33b24ced9efdca74514cedf8",
       "max": 8,
       "style": "IPY_MODEL_9a2ef8d9f1644b8fb6bb0ce7196c31cc",
       "value": 8
      }
     },
     "611769106b6643d987a3ddcc141ca929": {
      "model_module": "@jupyter-widgets/controls",
      "model_module_version": "1.5.0",
      "model_name": "DescriptionStyleModel",
      "state": {
       "description_width": ""
      }
     },
     "6120cdf50fb6486385cb82f9de4c8e79": {
      "model_module": "@jupyter-widgets/controls",
      "model_module_version": "1.5.0",
      "model_name": "FloatProgressModel",
      "state": {
       "layout": "IPY_MODEL_a7ca8ae694e14b7092a6b2bcb81ca088",
       "max": 8,
       "style": "IPY_MODEL_cd37fe2973c84af9a93579e42dcf47d1",
       "value": 8
      }
     },
     "61561d0a3b12471eb093c2c82c3d5244": {
      "model_module": "@jupyter-widgets/controls",
      "model_module_version": "1.5.0",
      "model_name": "DescriptionStyleModel",
      "state": {
       "description_width": ""
      }
     },
     "6185bfed91eb40f7b134800a51c756ed": {
      "model_module": "@jupyter-widgets/base",
      "model_module_version": "1.2.0",
      "model_name": "LayoutModel",
      "state": {}
     },
     "61990b5a80c741b08351818d2514b4e8": {
      "model_module": "@jupyter-widgets/base",
      "model_module_version": "1.2.0",
      "model_name": "LayoutModel",
      "state": {
       "display": "inline-flex",
       "flex_flow": "row wrap",
       "width": "100%"
      }
     },
     "61a319a283514e14b14b891609b4c630": {
      "model_module": "@jupyter-widgets/base",
      "model_module_version": "1.2.0",
      "model_name": "LayoutModel",
      "state": {
       "flex": "2"
      }
     },
     "61b99ff60c9a4290a499b97c427b6370": {
      "model_module": "@jupyter-widgets/base",
      "model_module_version": "1.2.0",
      "model_name": "LayoutModel",
      "state": {
       "flex": "2"
      }
     },
     "61cb399ee30b4ab89e1f8773534b07a4": {
      "model_module": "@jupyter-widgets/controls",
      "model_module_version": "1.5.0",
      "model_name": "DescriptionStyleModel",
      "state": {
       "description_width": ""
      }
     },
     "61d3a44c3dde40ebb1a8d7e6dd6161a4": {
      "model_module": "@jupyter-widgets/controls",
      "model_module_version": "1.5.0",
      "model_name": "ProgressStyleModel",
      "state": {
       "description_width": ""
      }
     },
     "61d3e7a49630431289f7330dc5f0ce07": {
      "model_module": "@jupyter-widgets/controls",
      "model_module_version": "1.5.0",
      "model_name": "ProgressStyleModel",
      "state": {
       "description_width": ""
      }
     },
     "61e252f6f5fa49dea3acff2e80e94a8f": {
      "model_module": "@jupyter-widgets/base",
      "model_module_version": "1.2.0",
      "model_name": "LayoutModel",
      "state": {
       "display": "inline-flex",
       "flex_flow": "row wrap",
       "width": "100%"
      }
     },
     "61e4c7f5c09143b1b9b3c82f39d13df8": {
      "model_module": "@jupyter-widgets/base",
      "model_module_version": "1.2.0",
      "model_name": "LayoutModel",
      "state": {}
     },
     "61f6dd24909c4951a90233bc7a5fe522": {
      "model_module": "@jupyter-widgets/controls",
      "model_module_version": "1.5.0",
      "model_name": "HTMLModel",
      "state": {
       "layout": "IPY_MODEL_47dd55b0cd324a06ac6e75f73bcba8da",
       "style": "IPY_MODEL_cd52934bbb3a47d8880d04cf258ccae8",
       "value": "Predicting DataLoader 0: 100%"
      }
     },
     "62018cf5780b4ef1b88492148d1b3cea": {
      "model_module": "@jupyter-widgets/base",
      "model_module_version": "1.2.0",
      "model_name": "LayoutModel",
      "state": {}
     },
     "62077e7d82074d1d9e6d54b89764e9de": {
      "model_module": "@jupyter-widgets/controls",
      "model_module_version": "1.5.0",
      "model_name": "HTMLModel",
      "state": {
       "layout": "IPY_MODEL_bdfb3c3e5c904e1786bc64abdeaf561b",
       "style": "IPY_MODEL_9656be218b374c43834207ddc209f045",
       "value": "Epoch 49: 100%"
      }
     },
     "620ddab4789f4fca916dcb2e16427e4c": {
      "model_module": "@jupyter-widgets/controls",
      "model_module_version": "1.5.0",
      "model_name": "FloatProgressModel",
      "state": {
       "layout": "IPY_MODEL_0998d677a72e4de99cce6480838ecbaa",
       "max": 8,
       "style": "IPY_MODEL_038a9a4ff75f44a1ab26de23c0381079",
       "value": 8
      }
     },
     "6248b46bb9a449b68b1b2bbb4c9aa040": {
      "model_module": "@jupyter-widgets/controls",
      "model_module_version": "1.5.0",
      "model_name": "DescriptionStyleModel",
      "state": {
       "description_width": ""
      }
     },
     "62569760cdfc42cc88d2f94dcc9e2614": {
      "model_module": "@jupyter-widgets/controls",
      "model_module_version": "1.5.0",
      "model_name": "HTMLModel",
      "state": {
       "layout": "IPY_MODEL_a6ce11a2269c4fe6910a13f81163c095",
       "style": "IPY_MODEL_e9d9a9bc721b484293d673c17b7c3338",
       "value": "Sanity Checking DataLoader 0: 100%"
      }
     },
     "62594d338bb74dcca0191a1981d9aa46": {
      "model_module": "@jupyter-widgets/base",
      "model_module_version": "1.2.0",
      "model_name": "LayoutModel",
      "state": {}
     },
     "62733a92618244fda6de185a768f3b4e": {
      "model_module": "@jupyter-widgets/base",
      "model_module_version": "1.2.0",
      "model_name": "LayoutModel",
      "state": {
       "display": "inline-flex",
       "flex_flow": "row wrap",
       "width": "100%"
      }
     },
     "6275139987c546ecb76cab8b860c69d8": {
      "model_module": "@jupyter-widgets/base",
      "model_module_version": "1.2.0",
      "model_name": "LayoutModel",
      "state": {
       "flex": "2"
      }
     },
     "62992b89b1c047b5a725a1d5a41b3e50": {
      "model_module": "@jupyter-widgets/base",
      "model_module_version": "1.2.0",
      "model_name": "LayoutModel",
      "state": {
       "flex": "2"
      }
     },
     "62a61225d5084c87b113f2afb900d328": {
      "model_module": "@jupyter-widgets/base",
      "model_module_version": "1.2.0",
      "model_name": "LayoutModel",
      "state": {
       "flex": "2"
      }
     },
     "62aa147d24724e58bae46f81d78669f9": {
      "model_module": "@jupyter-widgets/controls",
      "model_module_version": "1.5.0",
      "model_name": "DescriptionStyleModel",
      "state": {
       "description_width": ""
      }
     },
     "62b7c2258cb447018830fad1440d954e": {
      "model_module": "@jupyter-widgets/controls",
      "model_module_version": "1.5.0",
      "model_name": "FloatProgressModel",
      "state": {
       "layout": "IPY_MODEL_56e20243573e4fc79ef263d7c64584df",
       "max": 8,
       "style": "IPY_MODEL_903cbbcfbc8a4ef0aa9e774c7204d4b6",
       "value": 8
      }
     },
     "62c882f19eef49019a541baadb451b76": {
      "model_module": "@jupyter-widgets/controls",
      "model_module_version": "1.5.0",
      "model_name": "DescriptionStyleModel",
      "state": {
       "description_width": ""
      }
     },
     "62cd04c705334105bfb16a34a74437c1": {
      "model_module": "@jupyter-widgets/controls",
      "model_module_version": "1.5.0",
      "model_name": "HTMLModel",
      "state": {
       "layout": "IPY_MODEL_dc7a729a0b464717868c4ef69bed6008",
       "style": "IPY_MODEL_9e610663e42242ae972c795727b81a0c",
       "value": " 2/2 [00:00&lt;00:00,  3.20it/s]"
      }
     },
     "62eac23c4e8b413ba838a5c71289ef3a": {
      "model_module": "@jupyter-widgets/controls",
      "model_module_version": "1.5.0",
      "model_name": "DescriptionStyleModel",
      "state": {
       "description_width": ""
      }
     },
     "62ecfa9f2deb40fba9ea300c7993efc5": {
      "model_module": "@jupyter-widgets/controls",
      "model_module_version": "1.5.0",
      "model_name": "HTMLModel",
      "state": {
       "layout": "IPY_MODEL_ca484778160745b19f9ab92b215f07d1",
       "style": "IPY_MODEL_af0728db0be4423c97047f46fbb7f8ec",
       "value": "Validation DataLoader 0: 100%"
      }
     },
     "62f2969de39848c3bc0e0063cbd391f2": {
      "model_module": "@jupyter-widgets/controls",
      "model_module_version": "1.5.0",
      "model_name": "ProgressStyleModel",
      "state": {
       "description_width": ""
      }
     },
     "62feb8a3815443faac6d567965c793e9": {
      "model_module": "@jupyter-widgets/base",
      "model_module_version": "1.2.0",
      "model_name": "LayoutModel",
      "state": {
       "display": "inline-flex",
       "flex_flow": "row wrap",
       "width": "100%"
      }
     },
     "632801f4eec04ba199c74f4ee0f5b641": {
      "model_module": "@jupyter-widgets/controls",
      "model_module_version": "1.5.0",
      "model_name": "FloatProgressModel",
      "state": {
       "layout": "IPY_MODEL_ff20fd333ff74845bba7d27e071f2ba7",
       "max": 8,
       "style": "IPY_MODEL_546bf3625f7b46979db55d66858142bc",
       "value": 8
      }
     },
     "6339ef0c51f3403ca6ae4d6efa2c0114": {
      "model_module": "@jupyter-widgets/controls",
      "model_module_version": "1.5.0",
      "model_name": "HTMLModel",
      "state": {
       "layout": "IPY_MODEL_fa39b831c47c47f3a25a6ae1911dffcf",
       "style": "IPY_MODEL_086769ebdbf7443a91d7588c24a8514f",
       "value": " 8/8 [00:03&lt;00:00,  2.32it/s]"
      }
     },
     "6373842aedfa44449451c642c3822079": {
      "model_module": "@jupyter-widgets/controls",
      "model_module_version": "1.5.0",
      "model_name": "DescriptionStyleModel",
      "state": {
       "description_width": ""
      }
     },
     "6374ccd2c31a433ab0042f662dae9181": {
      "model_module": "@jupyter-widgets/base",
      "model_module_version": "1.2.0",
      "model_name": "LayoutModel",
      "state": {}
     },
     "637d4c8558124afaa35048eb7d1ebb4e": {
      "model_module": "@jupyter-widgets/controls",
      "model_module_version": "1.5.0",
      "model_name": "HTMLModel",
      "state": {
       "layout": "IPY_MODEL_70b39109650842b8a677240b546be036",
       "style": "IPY_MODEL_af463aa18e38426aad506c4566ee8be0",
       "value": "Validation DataLoader 0: 100%"
      }
     },
     "6382e50c440d45b49533a5c7f377380e": {
      "model_module": "@jupyter-widgets/base",
      "model_module_version": "1.2.0",
      "model_name": "LayoutModel",
      "state": {}
     },
     "638b7f6ac20544ae8446f99eea702d59": {
      "model_module": "@jupyter-widgets/controls",
      "model_module_version": "1.5.0",
      "model_name": "HTMLModel",
      "state": {
       "layout": "IPY_MODEL_faf105fd512b495a8911420f2dcbce3b",
       "style": "IPY_MODEL_7cdb4f2c674e4b65a3455ce722a5af70",
       "value": "Validation DataLoader 0: 100%"
      }
     },
     "64149af2c4b14649a8e9dbca7f0edf26": {
      "model_module": "@jupyter-widgets/base",
      "model_module_version": "1.2.0",
      "model_name": "LayoutModel",
      "state": {
       "flex": "2"
      }
     },
     "648cba4bcad146e98864d58ca21e2f2d": {
      "model_module": "@jupyter-widgets/base",
      "model_module_version": "1.2.0",
      "model_name": "LayoutModel",
      "state": {
       "display": "inline-flex",
       "flex_flow": "row wrap",
       "width": "100%"
      }
     },
     "64972c8c8cc840649c499894ebb95ffb": {
      "model_module": "@jupyter-widgets/base",
      "model_module_version": "1.2.0",
      "model_name": "LayoutModel",
      "state": {
       "display": "inline-flex",
       "flex_flow": "row wrap",
       "width": "100%"
      }
     },
     "649d2dffee1248eba5bcd7d8a5efb4d2": {
      "model_module": "@jupyter-widgets/controls",
      "model_module_version": "1.5.0",
      "model_name": "HTMLModel",
      "state": {
       "layout": "IPY_MODEL_82309cf415ba481f97284c0eace0706c",
       "style": "IPY_MODEL_3f58f30bcce74b2dbe8e6ff7adbcf563",
       "value": "Validation DataLoader 0: 100%"
      }
     },
     "64a4dfcf902b41d6a03340b456bc7bb8": {
      "model_module": "@jupyter-widgets/base",
      "model_module_version": "1.2.0",
      "model_name": "LayoutModel",
      "state": {}
     },
     "64fcce0ceb5d46c39c75973119e1eece": {
      "model_module": "@jupyter-widgets/base",
      "model_module_version": "1.2.0",
      "model_name": "LayoutModel",
      "state": {}
     },
     "652c74c2725d41babab773d0d69c1b91": {
      "model_module": "@jupyter-widgets/controls",
      "model_module_version": "1.5.0",
      "model_name": "HTMLModel",
      "state": {
       "layout": "IPY_MODEL_5fa2b7aa762445b28b311c8dd378ec7c",
       "style": "IPY_MODEL_d23c8699403f4ed1a371a9b776173ac8",
       "value": " 8/8 [00:05&lt;00:00,  1.42it/s]"
      }
     },
     "65384bc40ab04286af0ea2cc4e1bb9b1": {
      "model_module": "@jupyter-widgets/controls",
      "model_module_version": "1.5.0",
      "model_name": "FloatProgressModel",
      "state": {
       "layout": "IPY_MODEL_3120bbdfac374b29adcfb53a3c2e6f3b",
       "max": 8,
       "style": "IPY_MODEL_7886513a3d434f1399bfbcd7ee15f091",
       "value": 8
      }
     },
     "654ade313a124cf288702a27eadd3815": {
      "model_module": "@jupyter-widgets/base",
      "model_module_version": "1.2.0",
      "model_name": "LayoutModel",
      "state": {}
     },
     "65b2a0a8b1c8446b943d45168fd9e1e0": {
      "model_module": "@jupyter-widgets/base",
      "model_module_version": "1.2.0",
      "model_name": "LayoutModel",
      "state": {}
     },
     "65bdb34b35614bc095d723e794cb264a": {
      "model_module": "@jupyter-widgets/base",
      "model_module_version": "1.2.0",
      "model_name": "LayoutModel",
      "state": {}
     },
     "65cf1b339fb5499a9f9ccb7afd62b232": {
      "model_module": "@jupyter-widgets/controls",
      "model_module_version": "1.5.0",
      "model_name": "ProgressStyleModel",
      "state": {
       "description_width": ""
      }
     },
     "65ef5fd73a04474798664d82d255881b": {
      "model_module": "@jupyter-widgets/base",
      "model_module_version": "1.2.0",
      "model_name": "LayoutModel",
      "state": {}
     },
     "66072ace0ece42ae80d195bb3e7b820e": {
      "model_module": "@jupyter-widgets/base",
      "model_module_version": "1.2.0",
      "model_name": "LayoutModel",
      "state": {}
     },
     "6632c0c0c92e48d4b79b6a47e4eaf14c": {
      "model_module": "@jupyter-widgets/controls",
      "model_module_version": "1.5.0",
      "model_name": "FloatProgressModel",
      "state": {
       "layout": "IPY_MODEL_850a829d86c046fbb32095219a10f487",
       "max": 8,
       "style": "IPY_MODEL_1cbc9a55485741d6868bc8829d28b543",
       "value": 8
      }
     },
     "664315818060466594bdc63f1a57a6e9": {
      "model_module": "@jupyter-widgets/base",
      "model_module_version": "1.2.0",
      "model_name": "LayoutModel",
      "state": {}
     },
     "665e4d3ed10a4cf9af3f73e4f1be8d1e": {
      "model_module": "@jupyter-widgets/controls",
      "model_module_version": "1.5.0",
      "model_name": "HTMLModel",
      "state": {
       "layout": "IPY_MODEL_756c12572df447f392bb4dfde3b4361e",
       "style": "IPY_MODEL_92a1f9919e294bfcb9c914b508b20bfd",
       "value": "Validation DataLoader 0: 100%"
      }
     },
     "666e59abd4304c618446b91200a25d74": {
      "model_module": "@jupyter-widgets/controls",
      "model_module_version": "1.5.0",
      "model_name": "DescriptionStyleModel",
      "state": {
       "description_width": ""
      }
     },
     "668d42f04e7845d8bad7a32f914ea4e5": {
      "model_module": "@jupyter-widgets/base",
      "model_module_version": "1.2.0",
      "model_name": "LayoutModel",
      "state": {
       "display": "inline-flex",
       "flex_flow": "row wrap",
       "width": "100%"
      }
     },
     "66914837edf9443d97c54a52d4e33c1b": {
      "model_module": "@jupyter-widgets/base",
      "model_module_version": "1.2.0",
      "model_name": "LayoutModel",
      "state": {}
     },
     "66cdbcb105174b59aa0ff1aaf4425477": {
      "model_module": "@jupyter-widgets/controls",
      "model_module_version": "1.5.0",
      "model_name": "DescriptionStyleModel",
      "state": {
       "description_width": ""
      }
     },
     "66ddaf2c9ba34ae68e161e6ceed0a24d": {
      "model_module": "@jupyter-widgets/controls",
      "model_module_version": "1.5.0",
      "model_name": "ProgressStyleModel",
      "state": {
       "description_width": ""
      }
     },
     "67232681097940f29116ecb415d832b0": {
      "model_module": "@jupyter-widgets/base",
      "model_module_version": "1.2.0",
      "model_name": "LayoutModel",
      "state": {}
     },
     "672f3d38c3dc43b7a398b8182516cb00": {
      "model_module": "@jupyter-widgets/controls",
      "model_module_version": "1.5.0",
      "model_name": "HTMLModel",
      "state": {
       "layout": "IPY_MODEL_675dd2e9c003428d8291de7f0a1ff271",
       "style": "IPY_MODEL_e61162db961d4f7bb621af02222af12f",
       "value": "Epoch 1:  77%"
      }
     },
     "67317c1ec62c426d8e7bf4cd3c929cc9": {
      "model_module": "@jupyter-widgets/controls",
      "model_module_version": "1.5.0",
      "model_name": "ProgressStyleModel",
      "state": {
       "description_width": ""
      }
     },
     "6758e38d42f343c9be9095ffa86f32da": {
      "model_module": "@jupyter-widgets/controls",
      "model_module_version": "1.5.0",
      "model_name": "HTMLModel",
      "state": {
       "layout": "IPY_MODEL_26dd0547552046ac9a30c5f1ea62f12a",
       "style": "IPY_MODEL_2bbd6ed1311f4ec4af697891065e7cd7",
       "value": "Validation DataLoader 0: 100%"
      }
     },
     "675dd2e9c003428d8291de7f0a1ff271": {
      "model_module": "@jupyter-widgets/base",
      "model_module_version": "1.2.0",
      "model_name": "LayoutModel",
      "state": {}
     },
     "676f78e55f7f43d0b2d3b764371cebbc": {
      "model_module": "@jupyter-widgets/controls",
      "model_module_version": "1.5.0",
      "model_name": "HTMLModel",
      "state": {
       "layout": "IPY_MODEL_b3062b356a27419083bfc7ca3bb56ca8",
       "style": "IPY_MODEL_3ace2e4cbd254ab998d47bd12caad7e5",
       "value": "Validation DataLoader 0: 100%"
      }
     },
     "67796cb8d09247b3b03db526726192e0": {
      "model_module": "@jupyter-widgets/controls",
      "model_module_version": "1.5.0",
      "model_name": "ProgressStyleModel",
      "state": {
       "description_width": ""
      }
     },
     "67bb7358101e47beb206f066fc765b54": {
      "model_module": "@jupyter-widgets/base",
      "model_module_version": "1.2.0",
      "model_name": "LayoutModel",
      "state": {
       "display": "inline-flex",
       "flex_flow": "row wrap",
       "width": "100%"
      }
     },
     "67f07aee362e4340b03c4bb69ff2e6a0": {
      "model_module": "@jupyter-widgets/base",
      "model_module_version": "1.2.0",
      "model_name": "LayoutModel",
      "state": {}
     },
     "67f4d9577c9442019a24abbe06fdbf51": {
      "model_module": "@jupyter-widgets/base",
      "model_module_version": "1.2.0",
      "model_name": "LayoutModel",
      "state": {
       "flex": "2"
      }
     },
     "67f80d01cda6445ca413d73548a7e301": {
      "model_module": "@jupyter-widgets/controls",
      "model_module_version": "1.5.0",
      "model_name": "FloatProgressModel",
      "state": {
       "layout": "IPY_MODEL_4eee7017469f4529a8b8f18d9fdbbe2f",
       "max": 8,
       "style": "IPY_MODEL_b3d75261150c49edaf14e4685887691f",
       "value": 8
      }
     },
     "67ff00d0b9e04194948c678fa8294624": {
      "model_module": "@jupyter-widgets/controls",
      "model_module_version": "1.5.0",
      "model_name": "FloatProgressModel",
      "state": {
       "layout": "IPY_MODEL_0d1b20372fa14f9595acca32f3d9b7b1",
       "max": 8,
       "style": "IPY_MODEL_d93a6a4093414b068c854e51432f8fec",
       "value": 8
      }
     },
     "684324356dda4841a023a866ce01ed72": {
      "model_module": "@jupyter-widgets/controls",
      "model_module_version": "1.5.0",
      "model_name": "DescriptionStyleModel",
      "state": {
       "description_width": ""
      }
     },
     "685b79a230ee425198ae08bd04f98124": {
      "model_module": "@jupyter-widgets/base",
      "model_module_version": "1.2.0",
      "model_name": "LayoutModel",
      "state": {
       "flex": "2"
      }
     },
     "686c7abaafca4a408d54547ca6c78708": {
      "model_module": "@jupyter-widgets/controls",
      "model_module_version": "1.5.0",
      "model_name": "DescriptionStyleModel",
      "state": {
       "description_width": ""
      }
     },
     "686cf024d0dd4cb1bf616eda0b972815": {
      "model_module": "@jupyter-widgets/controls",
      "model_module_version": "1.5.0",
      "model_name": "HTMLModel",
      "state": {
       "layout": "IPY_MODEL_d9aea499365f4eeb8702035696ba734c",
       "style": "IPY_MODEL_46fefe0b211547e6b63ec3f7840bae90",
       "value": " 8/8 [00:02&lt;00:00,  2.75it/s]"
      }
     },
     "68883c17977645168133486dd9e3488c": {
      "model_module": "@jupyter-widgets/controls",
      "model_module_version": "1.5.0",
      "model_name": "ProgressStyleModel",
      "state": {
       "description_width": ""
      }
     },
     "688da79363a84ee4be04479d82714a59": {
      "model_module": "@jupyter-widgets/base",
      "model_module_version": "1.2.0",
      "model_name": "LayoutModel",
      "state": {
       "flex": "2"
      }
     },
     "6897f41d363845d08873a46b27f548a2": {
      "model_module": "@jupyter-widgets/controls",
      "model_module_version": "1.5.0",
      "model_name": "HTMLModel",
      "state": {
       "layout": "IPY_MODEL_39f21622e65b4ec3bb8a7314f6205c1b",
       "style": "IPY_MODEL_820bc1e87c9b422aa379a9483685df23",
       "value": " 8/8 [00:03&lt;00:00,  2.52it/s]"
      }
     },
     "68b84fa28abd4f17b55c39b4e09d1065": {
      "model_module": "@jupyter-widgets/controls",
      "model_module_version": "1.5.0",
      "model_name": "DescriptionStyleModel",
      "state": {
       "description_width": ""
      }
     },
     "68b8cb8b111f4347a2cb43af6e36baea": {
      "model_module": "@jupyter-widgets/controls",
      "model_module_version": "1.5.0",
      "model_name": "DescriptionStyleModel",
      "state": {
       "description_width": ""
      }
     },
     "691eda9ee7644ddaa791fbcb88c787c1": {
      "model_module": "@jupyter-widgets/base",
      "model_module_version": "1.2.0",
      "model_name": "LayoutModel",
      "state": {
       "flex": "2"
      }
     },
     "693606fac83448a4af34ccc25d13f3b7": {
      "model_module": "@jupyter-widgets/controls",
      "model_module_version": "1.5.0",
      "model_name": "DescriptionStyleModel",
      "state": {
       "description_width": ""
      }
     },
     "69378c2c3dfa48639c27652b796c867b": {
      "model_module": "@jupyter-widgets/controls",
      "model_module_version": "1.5.0",
      "model_name": "DescriptionStyleModel",
      "state": {
       "description_width": ""
      }
     },
     "69538d70070445a78ac5879bd64eb3cd": {
      "model_module": "@jupyter-widgets/controls",
      "model_module_version": "1.5.0",
      "model_name": "ProgressStyleModel",
      "state": {
       "description_width": ""
      }
     },
     "697e16e5e9b641aaaee52d3834d54e0d": {
      "model_module": "@jupyter-widgets/controls",
      "model_module_version": "1.5.0",
      "model_name": "DescriptionStyleModel",
      "state": {
       "description_width": ""
      }
     },
     "69809447ed1040bfab7cd7ce2be84fc0": {
      "model_module": "@jupyter-widgets/controls",
      "model_module_version": "1.5.0",
      "model_name": "HTMLModel",
      "state": {
       "layout": "IPY_MODEL_adebe2fdfb9d4684acea3d2e2de40dd7",
       "style": "IPY_MODEL_47ef4dcea70e449db6f79f9b6b7e5f63",
       "value": " 8/8 [00:03&lt;00:00,  2.21it/s]"
      }
     },
     "69a0d496e38c4a70ab963da984a565d7": {
      "model_module": "@jupyter-widgets/base",
      "model_module_version": "1.2.0",
      "model_name": "LayoutModel",
      "state": {
       "display": "inline-flex",
       "flex_flow": "row wrap",
       "width": "100%"
      }
     },
     "69da3054b1d743c094028f6083f6f83e": {
      "model_module": "@jupyter-widgets/controls",
      "model_module_version": "1.5.0",
      "model_name": "ProgressStyleModel",
      "state": {
       "description_width": ""
      }
     },
     "69f4457b0ab54593a9b331647797ba59": {
      "model_module": "@jupyter-widgets/base",
      "model_module_version": "1.2.0",
      "model_name": "LayoutModel",
      "state": {
       "flex": "2"
      }
     },
     "6a24705c00054096af5bdd1a413b98ba": {
      "model_module": "@jupyter-widgets/controls",
      "model_module_version": "1.5.0",
      "model_name": "DescriptionStyleModel",
      "state": {
       "description_width": ""
      }
     },
     "6a373c9e53e84ecdad75546580441b2d": {
      "model_module": "@jupyter-widgets/controls",
      "model_module_version": "1.5.0",
      "model_name": "DescriptionStyleModel",
      "state": {
       "description_width": ""
      }
     },
     "6a7dc8e0b5614259be720d6174fabdac": {
      "model_module": "@jupyter-widgets/controls",
      "model_module_version": "1.5.0",
      "model_name": "HTMLModel",
      "state": {
       "layout": "IPY_MODEL_36e8afea6c144ecd94f85fbfc262b68f",
       "style": "IPY_MODEL_5d1e4b09462b46df9f80752c52de558a",
       "value": " 8/8 [00:03&lt;00:00,  2.41it/s]"
      }
     },
     "6a928c3390224e3f8c0d190e38798a48": {
      "model_module": "@jupyter-widgets/base",
      "model_module_version": "1.2.0",
      "model_name": "LayoutModel",
      "state": {}
     },
     "6ad10ea89c344eee81637408f23112b4": {
      "model_module": "@jupyter-widgets/base",
      "model_module_version": "1.2.0",
      "model_name": "LayoutModel",
      "state": {}
     },
     "6ad4cc02fbee4c768626f45d9e7e7f6f": {
      "model_module": "@jupyter-widgets/base",
      "model_module_version": "1.2.0",
      "model_name": "LayoutModel",
      "state": {}
     },
     "6b20c47688d24fed876e8fbe19fb40d4": {
      "model_module": "@jupyter-widgets/base",
      "model_module_version": "1.2.0",
      "model_name": "LayoutModel",
      "state": {
       "display": "inline-flex",
       "flex_flow": "row wrap",
       "width": "100%"
      }
     },
     "6b387a66708b41bd8dcc18b31ae45a8d": {
      "model_module": "@jupyter-widgets/controls",
      "model_module_version": "1.5.0",
      "model_name": "DescriptionStyleModel",
      "state": {
       "description_width": ""
      }
     },
     "6b3e06481e6b43cca87857d8282f8bf4": {
      "model_module": "@jupyter-widgets/controls",
      "model_module_version": "1.5.0",
      "model_name": "DescriptionStyleModel",
      "state": {
       "description_width": ""
      }
     },
     "6ba8fc2fdeca43079c0529298f544ebd": {
      "model_module": "@jupyter-widgets/controls",
      "model_module_version": "1.5.0",
      "model_name": "FloatProgressModel",
      "state": {
       "layout": "IPY_MODEL_67f4d9577c9442019a24abbe06fdbf51",
       "max": 8,
       "style": "IPY_MODEL_dff0ba0f616340d9ba7e0490bb15c3cf",
       "value": 8
      }
     },
     "6c0a469d353441959ae069543d7b2b19": {
      "model_module": "@jupyter-widgets/controls",
      "model_module_version": "1.5.0",
      "model_name": "DescriptionStyleModel",
      "state": {
       "description_width": ""
      }
     },
     "6c1e57e1108046ed90b1e863d74fe4ca": {
      "model_module": "@jupyter-widgets/base",
      "model_module_version": "1.2.0",
      "model_name": "LayoutModel",
      "state": {}
     },
     "6c34662a9ba74ae2909e59c0040ca7e6": {
      "model_module": "@jupyter-widgets/base",
      "model_module_version": "1.2.0",
      "model_name": "LayoutModel",
      "state": {}
     },
     "6c3a60366f0d4fcdaace294b5d811d76": {
      "model_module": "@jupyter-widgets/controls",
      "model_module_version": "1.5.0",
      "model_name": "FloatProgressModel",
      "state": {
       "layout": "IPY_MODEL_4aead21098a1436c903321192190f067",
       "max": 8,
       "style": "IPY_MODEL_9b12a7843982495799811546b0d3c8d8",
       "value": 8
      }
     },
     "6c9469935fe54f748778e89f242375c2": {
      "model_module": "@jupyter-widgets/controls",
      "model_module_version": "1.5.0",
      "model_name": "HTMLModel",
      "state": {
       "layout": "IPY_MODEL_d384b7824ee0422fbe2c822078bd31ef",
       "style": "IPY_MODEL_f1d0e3b8e974448d8d556fff32716ec0",
       "value": "Predicting DataLoader 0: 100%"
      }
     },
     "6cd33e21bbf049c5b43eada82724da21": {
      "model_module": "@jupyter-widgets/base",
      "model_module_version": "1.2.0",
      "model_name": "LayoutModel",
      "state": {
       "display": "inline-flex",
       "flex_flow": "row wrap",
       "width": "100%"
      }
     },
     "6cdd2616a9f14885bebb2d878fdf559e": {
      "model_module": "@jupyter-widgets/controls",
      "model_module_version": "1.5.0",
      "model_name": "DescriptionStyleModel",
      "state": {
       "description_width": ""
      }
     },
     "6d165815f6d04e8e83be560fe13b4671": {
      "model_module": "@jupyter-widgets/controls",
      "model_module_version": "1.5.0",
      "model_name": "FloatProgressModel",
      "state": {
       "layout": "IPY_MODEL_59cd35febb3c4f54a98a9bdbdf5a5ae7",
       "max": 8,
       "style": "IPY_MODEL_4f50ce3d5808445db9ec99d8433a8f23",
       "value": 8
      }
     },
     "6d1bae1d0152406b80df512f2154f475": {
      "model_module": "@jupyter-widgets/controls",
      "model_module_version": "1.5.0",
      "model_name": "HTMLModel",
      "state": {
       "layout": "IPY_MODEL_431b7c7c9f414743a65c0b327f73ca08",
       "style": "IPY_MODEL_9bdcb594d177404cbbf915cd714d9d5b",
       "value": "Validation DataLoader 0: 100%"
      }
     },
     "6d28143fdd1d4b3a9b680ec85324c32a": {
      "model_module": "@jupyter-widgets/controls",
      "model_module_version": "1.5.0",
      "model_name": "FloatProgressModel",
      "state": {
       "layout": "IPY_MODEL_448afbb053ff4d549b79700ed8278ea2",
       "max": 69,
       "style": "IPY_MODEL_482a4662c0904a78a3c43eeaaf254234",
       "value": 24
      }
     },
     "6d61dc35ab504500a75ca602fba114d6": {
      "model_module": "@jupyter-widgets/controls",
      "model_module_version": "1.5.0",
      "model_name": "HTMLModel",
      "state": {
       "layout": "IPY_MODEL_5f0d792886844632851302e2a1986f80",
       "style": "IPY_MODEL_32eb45f9bf3445e982b29844d9d42eed",
       "value": "Validation DataLoader 0: 100%"
      }
     },
     "6d798500e6d14bd5962586d89a27e393": {
      "model_module": "@jupyter-widgets/controls",
      "model_module_version": "1.5.0",
      "model_name": "ProgressStyleModel",
      "state": {
       "description_width": ""
      }
     },
     "6d8635ec599e48d9b0c8d92489d79582": {
      "model_module": "@jupyter-widgets/base",
      "model_module_version": "1.2.0",
      "model_name": "LayoutModel",
      "state": {}
     },
     "6d8f15ba63c84775a360546334b050c8": {
      "model_module": "@jupyter-widgets/controls",
      "model_module_version": "1.5.0",
      "model_name": "DescriptionStyleModel",
      "state": {
       "description_width": ""
      }
     },
     "6da1ee1ea6fe41aa8f94a6fbc8ee4327": {
      "model_module": "@jupyter-widgets/base",
      "model_module_version": "1.2.0",
      "model_name": "LayoutModel",
      "state": {}
     },
     "6dd32f9d2a1a46d0a93e9ec212bd92cd": {
      "model_module": "@jupyter-widgets/controls",
      "model_module_version": "1.5.0",
      "model_name": "HTMLModel",
      "state": {
       "layout": "IPY_MODEL_5acbae723976480b95f7fdaa1c92f807",
       "style": "IPY_MODEL_d73d8c07e8d24d4a8c571b87c7e1a19f",
       "value": " 8/8 [00:03&lt;00:00,  2.48it/s]"
      }
     },
     "6dda8e8b65fe4040aadb59e26cd09edf": {
      "model_module": "@jupyter-widgets/controls",
      "model_module_version": "1.5.0",
      "model_name": "DescriptionStyleModel",
      "state": {
       "description_width": ""
      }
     },
     "6e000ed1c77d4b8bbde25ef6d200b95b": {
      "model_module": "@jupyter-widgets/base",
      "model_module_version": "1.2.0",
      "model_name": "LayoutModel",
      "state": {
       "display": "inline-flex",
       "flex_flow": "row wrap",
       "width": "100%"
      }
     },
     "6e0e0299693c44dabfa6b4aac00136e8": {
      "model_module": "@jupyter-widgets/base",
      "model_module_version": "1.2.0",
      "model_name": "LayoutModel",
      "state": {}
     },
     "6e36caad57b847c9830b838e8b95fb1d": {
      "model_module": "@jupyter-widgets/base",
      "model_module_version": "1.2.0",
      "model_name": "LayoutModel",
      "state": {
       "flex": "2"
      }
     },
     "6e712a2639d54ffaa152a09e62b94277": {
      "model_module": "@jupyter-widgets/base",
      "model_module_version": "1.2.0",
      "model_name": "LayoutModel",
      "state": {
       "display": "inline-flex",
       "flex_flow": "row wrap",
       "width": "100%"
      }
     },
     "6e926455980b4ca883e9d2d590d8c215": {
      "model_module": "@jupyter-widgets/controls",
      "model_module_version": "1.5.0",
      "model_name": "DescriptionStyleModel",
      "state": {
       "description_width": ""
      }
     },
     "6ecee2d747524e68a7d4833107df3828": {
      "model_module": "@jupyter-widgets/base",
      "model_module_version": "1.2.0",
      "model_name": "LayoutModel",
      "state": {}
     },
     "6ed27c8825804bfe836d27901bed1c43": {
      "model_module": "@jupyter-widgets/controls",
      "model_module_version": "1.5.0",
      "model_name": "HTMLModel",
      "state": {
       "layout": "IPY_MODEL_3f1c10cdd0c54c9cac9015abf4c98dcd",
       "style": "IPY_MODEL_f075195b8f2440169ef8bc3c1855376e",
       "value": " 8/8 [00:03&lt;00:00,  2.65it/s]"
      }
     },
     "6ee2ea1d1b024e33b909b6eafeedcd5b": {
      "model_module": "@jupyter-widgets/base",
      "model_module_version": "1.2.0",
      "model_name": "LayoutModel",
      "state": {
       "display": "inline-flex",
       "flex_flow": "row wrap",
       "width": "100%"
      }
     },
     "6f0d8b6fde604c1e9553097a44a4ad43": {
      "model_module": "@jupyter-widgets/controls",
      "model_module_version": "1.5.0",
      "model_name": "ProgressStyleModel",
      "state": {
       "description_width": ""
      }
     },
     "6f1aeeecf0c540f6a2527de7b49f8bdd": {
      "model_module": "@jupyter-widgets/base",
      "model_module_version": "1.2.0",
      "model_name": "LayoutModel",
      "state": {
       "display": "inline-flex",
       "flex_flow": "row wrap",
       "width": "100%"
      }
     },
     "6f512012a503419cac389c061db0d78f": {
      "model_module": "@jupyter-widgets/controls",
      "model_module_version": "1.5.0",
      "model_name": "DescriptionStyleModel",
      "state": {
       "description_width": ""
      }
     },
     "6f52697a2fe74327be59a1e2e50874ca": {
      "model_module": "@jupyter-widgets/base",
      "model_module_version": "1.2.0",
      "model_name": "LayoutModel",
      "state": {
       "flex": "2"
      }
     },
     "6f5444d05dae4a6da3be6c9645b1b7dd": {
      "model_module": "@jupyter-widgets/controls",
      "model_module_version": "1.5.0",
      "model_name": "FloatProgressModel",
      "state": {
       "layout": "IPY_MODEL_703c593ede884b28b9392a69c4a39546",
       "max": 8,
       "style": "IPY_MODEL_bcad00289f9f489bbd4f2aae8b709316",
       "value": 8
      }
     },
     "6f750417190645f7be2e5d02644b9087": {
      "model_module": "@jupyter-widgets/base",
      "model_module_version": "1.2.0",
      "model_name": "LayoutModel",
      "state": {}
     },
     "6f88af2a29f7431393395b12fffa3317": {
      "model_module": "@jupyter-widgets/base",
      "model_module_version": "1.2.0",
      "model_name": "LayoutModel",
      "state": {
       "flex": "2"
      }
     },
     "6f9a2f21147941c59bdfca8258fa0500": {
      "model_module": "@jupyter-widgets/base",
      "model_module_version": "1.2.0",
      "model_name": "LayoutModel",
      "state": {}
     },
     "6fe52747ac7142be8d99a2b670eeb662": {
      "model_module": "@jupyter-widgets/controls",
      "model_module_version": "1.5.0",
      "model_name": "DescriptionStyleModel",
      "state": {
       "description_width": ""
      }
     },
     "7009a2095fcd4180bc93335fdc948945": {
      "model_module": "@jupyter-widgets/controls",
      "model_module_version": "1.5.0",
      "model_name": "FloatProgressModel",
      "state": {
       "layout": "IPY_MODEL_ca01487e5fdc430484145de6791ff5a5",
       "max": 8,
       "style": "IPY_MODEL_dd0f26a3d90c4b5b9b8c8a8957ec7168",
       "value": 8
      }
     },
     "701d40818b4e42da9bbea59acca0cdc9": {
      "model_module": "@jupyter-widgets/controls",
      "model_module_version": "1.5.0",
      "model_name": "ProgressStyleModel",
      "state": {
       "description_width": ""
      }
     },
     "70287bf32bc14b26a43154f3aa3d8eec": {
      "model_module": "@jupyter-widgets/controls",
      "model_module_version": "1.5.0",
      "model_name": "DescriptionStyleModel",
      "state": {
       "description_width": ""
      }
     },
     "7037158f271e44efa1fde157855b8bce": {
      "model_module": "@jupyter-widgets/controls",
      "model_module_version": "1.5.0",
      "model_name": "FloatProgressModel",
      "state": {
       "layout": "IPY_MODEL_685b79a230ee425198ae08bd04f98124",
       "max": 8,
       "style": "IPY_MODEL_8e23aa12852543da8206ab61ac3f996c",
       "value": 8
      }
     },
     "703c593ede884b28b9392a69c4a39546": {
      "model_module": "@jupyter-widgets/base",
      "model_module_version": "1.2.0",
      "model_name": "LayoutModel",
      "state": {
       "flex": "2"
      }
     },
     "705ee9afb4ba4bd8b6b68bf8dca25549": {
      "model_module": "@jupyter-widgets/controls",
      "model_module_version": "1.5.0",
      "model_name": "HTMLModel",
      "state": {
       "layout": "IPY_MODEL_5c6826d0a7414289b741df8df3e90004",
       "style": "IPY_MODEL_d085bce9fc3f43ad927252a31d2deda1",
       "value": " 8/8 [00:02&lt;00:00,  3.23it/s]"
      }
     },
     "7071b024f4a7467ea2c69c4c3c9a29fc": {
      "model_module": "@jupyter-widgets/controls",
      "model_module_version": "1.5.0",
      "model_name": "HTMLModel",
      "state": {
       "layout": "IPY_MODEL_62594d338bb74dcca0191a1981d9aa46",
       "style": "IPY_MODEL_fb99e4bba6a94df3a314b9ceb0059694",
       "value": " 8/8 [00:03&lt;00:00,  2.02it/s]"
      }
     },
     "70b39109650842b8a677240b546be036": {
      "model_module": "@jupyter-widgets/base",
      "model_module_version": "1.2.0",
      "model_name": "LayoutModel",
      "state": {}
     },
     "70c2400145fc4f79a5bb4021a3fa9253": {
      "model_module": "@jupyter-widgets/controls",
      "model_module_version": "1.5.0",
      "model_name": "HTMLModel",
      "state": {
       "layout": "IPY_MODEL_cd786042a6b1414090efd583ef5e3f87",
       "style": "IPY_MODEL_0ec63f07d4374b4d84bc7ffa3b426585",
       "value": " 8/8 [00:05&lt;00:00,  1.55it/s]"
      }
     },
     "711c34a381de4f41b806d8e6c0e99433": {
      "model_module": "@jupyter-widgets/controls",
      "model_module_version": "1.5.0",
      "model_name": "DescriptionStyleModel",
      "state": {
       "description_width": ""
      }
     },
     "717b18fa186e470c94a9a72e050565a5": {
      "model_module": "@jupyter-widgets/controls",
      "model_module_version": "1.5.0",
      "model_name": "DescriptionStyleModel",
      "state": {
       "description_width": ""
      }
     },
     "71c6bff9454d4771b2b6b1935281a08e": {
      "model_module": "@jupyter-widgets/controls",
      "model_module_version": "1.5.0",
      "model_name": "ProgressStyleModel",
      "state": {
       "description_width": ""
      }
     },
     "71e77222e5f54f938cb1fcbe55f9f00b": {
      "model_module": "@jupyter-widgets/controls",
      "model_module_version": "1.5.0",
      "model_name": "DescriptionStyleModel",
      "state": {
       "description_width": ""
      }
     },
     "720dff5f950b436cb0ee6bd8de41c7d8": {
      "model_module": "@jupyter-widgets/base",
      "model_module_version": "1.2.0",
      "model_name": "LayoutModel",
      "state": {
       "flex": "2"
      }
     },
     "7218ee43a82a4ed094033367ba0717ea": {
      "model_module": "@jupyter-widgets/base",
      "model_module_version": "1.2.0",
      "model_name": "LayoutModel",
      "state": {}
     },
     "722808784ab9431db9e8f79f56828200": {
      "model_module": "@jupyter-widgets/base",
      "model_module_version": "1.2.0",
      "model_name": "LayoutModel",
      "state": {}
     },
     "7237865a810046268fe7bd95afc351dc": {
      "model_module": "@jupyter-widgets/controls",
      "model_module_version": "1.5.0",
      "model_name": "ProgressStyleModel",
      "state": {
       "description_width": ""
      }
     },
     "7285231e7cf04109a9428c7eb44c889a": {
      "model_module": "@jupyter-widgets/controls",
      "model_module_version": "1.5.0",
      "model_name": "HTMLModel",
      "state": {
       "layout": "IPY_MODEL_af1b953d515e4ab481d94262f54fec7c",
       "style": "IPY_MODEL_95b71f605e09407a87d6c94ee25025aa",
       "value": " 8/8 [00:03&lt;00:00,  2.06it/s]"
      }
     },
     "728f0704d53e4922bd3b9a1cfc29e632": {
      "model_module": "@jupyter-widgets/controls",
      "model_module_version": "1.5.0",
      "model_name": "FloatProgressModel",
      "state": {
       "layout": "IPY_MODEL_7612529b55fb485cab31f1ed284a3c5e",
       "max": 2,
       "style": "IPY_MODEL_6d798500e6d14bd5962586d89a27e393",
       "value": 2
      }
     },
     "72a244ab810b4edab2a67cf8fed93a95": {
      "model_module": "@jupyter-widgets/controls",
      "model_module_version": "1.5.0",
      "model_name": "FloatProgressModel",
      "state": {
       "layout": "IPY_MODEL_7e356186c5bb494aa98ad897a16c3f79",
       "max": 8,
       "style": "IPY_MODEL_977f1ec6ff1c45669578f4ff5e2afb68",
       "value": 8
      }
     },
     "72bc33a259634f75806a4c39e4ce0000": {
      "model_module": "@jupyter-widgets/controls",
      "model_module_version": "1.5.0",
      "model_name": "HTMLModel",
      "state": {
       "layout": "IPY_MODEL_00c3af7d1a11477c92050b891e4164cf",
       "style": "IPY_MODEL_47085c9de4294d9ca6e834b833e1bb0f",
       "value": "Validation DataLoader 0: 100%"
      }
     },
     "72bd8ac299314784bc971f8242dc14d3": {
      "model_module": "@jupyter-widgets/base",
      "model_module_version": "1.2.0",
      "model_name": "LayoutModel",
      "state": {}
     },
     "72cfadda8db94313a439a166d3de7a55": {
      "model_module": "@jupyter-widgets/base",
      "model_module_version": "1.2.0",
      "model_name": "LayoutModel",
      "state": {}
     },
     "733502830bbc446dbaa937ee6900b6a3": {
      "model_module": "@jupyter-widgets/base",
      "model_module_version": "1.2.0",
      "model_name": "LayoutModel",
      "state": {
       "flex": "2"
      }
     },
     "73a6493ed98241168e62a6f0a40186ee": {
      "model_module": "@jupyter-widgets/controls",
      "model_module_version": "1.5.0",
      "model_name": "HTMLModel",
      "state": {
       "layout": "IPY_MODEL_1c7834270e004a6d94dc00ed3ac46f81",
       "style": "IPY_MODEL_2467c15d70ea42d89e3678ee8759cbf2",
       "value": " 16/69 [00:54&lt;03:01,  3.42s/it, loss=0.37, v_num=-135]"
      }
     },
     "73adbf67437646ec92358d20e74bb9cd": {
      "model_module": "@jupyter-widgets/controls",
      "model_module_version": "1.5.0",
      "model_name": "FloatProgressModel",
      "state": {
       "layout": "IPY_MODEL_b4985b38bf3b4e2bad806171486eedcb",
       "max": 8,
       "style": "IPY_MODEL_d6f8295ca6ed4523ae9d37a2d2f18133",
       "value": 8
      }
     },
     "73b798b476504b6f8875ba42436722b4": {
      "model_module": "@jupyter-widgets/controls",
      "model_module_version": "1.5.0",
      "model_name": "HTMLModel",
      "state": {
       "layout": "IPY_MODEL_b897fdbcaa07432393d8b2353d922c02",
       "style": "IPY_MODEL_cf05b812ae45439d9785050cd2457f05",
       "value": "Validation DataLoader 0: 100%"
      }
     },
     "73ed77312da940e599427465eca3f92a": {
      "model_module": "@jupyter-widgets/base",
      "model_module_version": "1.2.0",
      "model_name": "LayoutModel",
      "state": {}
     },
     "73f484be32194973b0349549ebf321fc": {
      "model_module": "@jupyter-widgets/base",
      "model_module_version": "1.2.0",
      "model_name": "LayoutModel",
      "state": {
       "display": "inline-flex",
       "flex_flow": "row wrap",
       "width": "100%"
      }
     },
     "73f53de9ccb1475b85865a58dfbde6fa": {
      "model_module": "@jupyter-widgets/controls",
      "model_module_version": "1.5.0",
      "model_name": "HTMLModel",
      "state": {
       "layout": "IPY_MODEL_7218ee43a82a4ed094033367ba0717ea",
       "style": "IPY_MODEL_2daab917cab241a29793f8c6aab9b5bc",
       "value": " 2/2 [00:00&lt;00:00,  2.07it/s]"
      }
     },
     "74090ac853e84eaf934b1b6e946ad106": {
      "model_module": "@jupyter-widgets/controls",
      "model_module_version": "1.5.0",
      "model_name": "DescriptionStyleModel",
      "state": {
       "description_width": ""
      }
     },
     "740faf1314b24877b4c01d42cc0a072c": {
      "model_module": "@jupyter-widgets/controls",
      "model_module_version": "1.5.0",
      "model_name": "HTMLModel",
      "state": {
       "layout": "IPY_MODEL_4bc2521d4e9243bcbeee2aa536503d99",
       "style": "IPY_MODEL_c730f9da3d5a4c96b76ac3a61e180133",
       "value": "Epoch 10:  32%"
      }
     },
     "74253f6f8b644869b12b1994d3f60c5e": {
      "model_module": "@jupyter-widgets/controls",
      "model_module_version": "1.5.0",
      "model_name": "HTMLModel",
      "state": {
       "layout": "IPY_MODEL_2eeb2d1820c44bf99ab954c403e7aa5c",
       "style": "IPY_MODEL_fca873bdd6314624adc9f0b70a079157",
       "value": "Validation DataLoader 0: 100%"
      }
     },
     "742f23fd8a0b44a3b8678780e8098b17": {
      "model_module": "@jupyter-widgets/controls",
      "model_module_version": "1.5.0",
      "model_name": "HTMLModel",
      "state": {
       "layout": "IPY_MODEL_5ebf3286cee9420998c34a0d02684f40",
       "style": "IPY_MODEL_e5afc2448bb24542b227e2f9bc8a9d64",
       "value": "Validation DataLoader 0: 100%"
      }
     },
     "74fd3523961e40e8a74d7c98e3eb0223": {
      "model_module": "@jupyter-widgets/controls",
      "model_module_version": "1.5.0",
      "model_name": "DescriptionStyleModel",
      "state": {
       "description_width": ""
      }
     },
     "7504460c99b94d129420e6ee9f211785": {
      "model_module": "@jupyter-widgets/controls",
      "model_module_version": "1.5.0",
      "model_name": "DescriptionStyleModel",
      "state": {
       "description_width": ""
      }
     },
     "75311dd0633a4be5afb5a7ddb4c705a2": {
      "model_module": "@jupyter-widgets/controls",
      "model_module_version": "1.5.0",
      "model_name": "ProgressStyleModel",
      "state": {
       "description_width": ""
      }
     },
     "75664bc45cd346dcb0b7d0f730d4652f": {
      "model_module": "@jupyter-widgets/controls",
      "model_module_version": "1.5.0",
      "model_name": "DescriptionStyleModel",
      "state": {
       "description_width": ""
      }
     },
     "756c12572df447f392bb4dfde3b4361e": {
      "model_module": "@jupyter-widgets/base",
      "model_module_version": "1.2.0",
      "model_name": "LayoutModel",
      "state": {}
     },
     "75762dbe79f94aac89109fb2070aeea8": {
      "model_module": "@jupyter-widgets/base",
      "model_module_version": "1.2.0",
      "model_name": "LayoutModel",
      "state": {
       "flex": "2"
      }
     },
     "7584e6783cfa4a598778c5ff76631ff1": {
      "model_module": "@jupyter-widgets/base",
      "model_module_version": "1.2.0",
      "model_name": "LayoutModel",
      "state": {
       "display": "inline-flex",
       "flex_flow": "row wrap",
       "width": "100%"
      }
     },
     "758cdaa267354d518b8a909ea2fcb076": {
      "model_module": "@jupyter-widgets/controls",
      "model_module_version": "1.5.0",
      "model_name": "HTMLModel",
      "state": {
       "layout": "IPY_MODEL_2d383a3658f846dea7db588930a381ba",
       "style": "IPY_MODEL_f217a3715050450d9c6c60e34be4dcd6",
       "value": "Validation DataLoader 0: 100%"
      }
     },
     "75ae51c2b4634efc9274de8c9a986d63": {
      "model_module": "@jupyter-widgets/controls",
      "model_module_version": "1.5.0",
      "model_name": "DescriptionStyleModel",
      "state": {
       "description_width": ""
      }
     },
     "75cb55f86dfe44c2820b6e9f99c86f9d": {
      "model_module": "@jupyter-widgets/controls",
      "model_module_version": "1.5.0",
      "model_name": "DescriptionStyleModel",
      "state": {
       "description_width": ""
      }
     },
     "75d8a22b4dca43a8b87122d1bb576ed1": {
      "model_module": "@jupyter-widgets/controls",
      "model_module_version": "1.5.0",
      "model_name": "HTMLModel",
      "state": {
       "layout": "IPY_MODEL_b11430aa34f54a9cbd15c40b6328ac9e",
       "style": "IPY_MODEL_6fe52747ac7142be8d99a2b670eeb662",
       "value": "Validation DataLoader 0: 100%"
      }
     },
     "760c7850fb0943e2a6a9a8db323e5dd8": {
      "model_module": "@jupyter-widgets/controls",
      "model_module_version": "1.5.0",
      "model_name": "DescriptionStyleModel",
      "state": {
       "description_width": ""
      }
     },
     "7612529b55fb485cab31f1ed284a3c5e": {
      "model_module": "@jupyter-widgets/base",
      "model_module_version": "1.2.0",
      "model_name": "LayoutModel",
      "state": {
       "flex": "2"
      }
     },
     "7619897d83c948b2a094d52ac0510388": {
      "model_module": "@jupyter-widgets/base",
      "model_module_version": "1.2.0",
      "model_name": "LayoutModel",
      "state": {}
     },
     "763c42e4ad9f4949b25e6a0c26daa362": {
      "model_module": "@jupyter-widgets/controls",
      "model_module_version": "1.5.0",
      "model_name": "DescriptionStyleModel",
      "state": {
       "description_width": ""
      }
     },
     "76872e09c9a2480082de8cf2346e5d69": {
      "model_module": "@jupyter-widgets/base",
      "model_module_version": "1.2.0",
      "model_name": "LayoutModel",
      "state": {}
     },
     "76a199840c3740dfb16f8808ed79dc8d": {
      "model_module": "@jupyter-widgets/controls",
      "model_module_version": "1.5.0",
      "model_name": "HTMLModel",
      "state": {
       "layout": "IPY_MODEL_b1904621c2dc489dbe66fa5208940928",
       "style": "IPY_MODEL_ab6a37c2e123497ea5c0e17a4d9f7107",
       "value": " 8/8 [00:02&lt;00:00,  2.69it/s]"
      }
     },
     "77032a9ade214be88d67d099b336bc4f": {
      "model_module": "@jupyter-widgets/controls",
      "model_module_version": "1.5.0",
      "model_name": "HTMLModel",
      "state": {
       "layout": "IPY_MODEL_913481daacc44ef5be24fc70ec3b5ade",
       "style": "IPY_MODEL_98b6abd14c3b4e39b6a4fe3970087f3f",
       "value": " 8/8 [00:04&lt;00:00,  1.61it/s]"
      }
     },
     "772a97a31f93484ea6033a64bb875d52": {
      "model_module": "@jupyter-widgets/base",
      "model_module_version": "1.2.0",
      "model_name": "LayoutModel",
      "state": {}
     },
     "774333cf659a48e8b304c0ebf084cc8d": {
      "model_module": "@jupyter-widgets/controls",
      "model_module_version": "1.5.0",
      "model_name": "DescriptionStyleModel",
      "state": {
       "description_width": ""
      }
     },
     "77497ca1773941c2bdb8ef23faf598fe": {
      "model_module": "@jupyter-widgets/base",
      "model_module_version": "1.2.0",
      "model_name": "LayoutModel",
      "state": {
       "flex": "2"
      }
     },
     "775620d727444e1aa20e08f1c3cd7f61": {
      "model_module": "@jupyter-widgets/controls",
      "model_module_version": "1.5.0",
      "model_name": "ProgressStyleModel",
      "state": {
       "description_width": ""
      }
     },
     "7767640e400645f397c8868161acc6b2": {
      "model_module": "@jupyter-widgets/controls",
      "model_module_version": "1.5.0",
      "model_name": "ProgressStyleModel",
      "state": {
       "description_width": ""
      }
     },
     "777055a336f4433bb68c574dabcb5628": {
      "model_module": "@jupyter-widgets/base",
      "model_module_version": "1.2.0",
      "model_name": "LayoutModel",
      "state": {
       "display": "inline-flex",
       "flex_flow": "row wrap",
       "width": "100%"
      }
     },
     "77921116d80d4e62b7fb01dc2be722ce": {
      "model_module": "@jupyter-widgets/base",
      "model_module_version": "1.2.0",
      "model_name": "LayoutModel",
      "state": {}
     },
     "77acc921515b4c56abd7ed97aab1214f": {
      "model_module": "@jupyter-widgets/controls",
      "model_module_version": "1.5.0",
      "model_name": "HTMLModel",
      "state": {
       "layout": "IPY_MODEL_fc8a2031716a474ea81ecf879665502e",
       "style": "IPY_MODEL_7cd854f693e840d3bc680c4663bb59c0",
       "value": "Validation DataLoader 0: 100%"
      }
     },
     "77d2888763144335a9ffcd7f797efb82": {
      "model_module": "@jupyter-widgets/controls",
      "model_module_version": "1.5.0",
      "model_name": "HTMLModel",
      "state": {
       "layout": "IPY_MODEL_c840fef7089d4293af175d339234b7f5",
       "style": "IPY_MODEL_ef7b10f484ad437eaa87fb746b0dd751",
       "value": " 2/2 [00:00&lt;00:00,  2.00it/s]"
      }
     },
     "780a0ef72a87427b8e4171b4076f82cb": {
      "model_module": "@jupyter-widgets/controls",
      "model_module_version": "1.5.0",
      "model_name": "ProgressStyleModel",
      "state": {
       "description_width": ""
      }
     },
     "7818ce4723174a2ea88302dbcff850fd": {
      "model_module": "@jupyter-widgets/controls",
      "model_module_version": "1.5.0",
      "model_name": "FloatProgressModel",
      "state": {
       "layout": "IPY_MODEL_53444b50b51c478ab11465435109e3df",
       "max": 2,
       "style": "IPY_MODEL_14aee0c0f22b4773a34127202844a728",
       "value": 2
      }
     },
     "7836f1b2f95543d89e90f5b527aeb385": {
      "model_module": "@jupyter-widgets/base",
      "model_module_version": "1.2.0",
      "model_name": "LayoutModel",
      "state": {
       "flex": "2"
      }
     },
     "783b71d2ce4d4cc3b423bef237c03646": {
      "model_module": "@jupyter-widgets/controls",
      "model_module_version": "1.5.0",
      "model_name": "FloatProgressModel",
      "state": {
       "bar_style": "success",
       "layout": "IPY_MODEL_3c5289bacc8542af8dd2f27c29f07ad7",
       "max": 8,
       "style": "IPY_MODEL_d9cfe3ebeb4a47c1aaa26ebc66bfad1b",
       "value": 8
      }
     },
     "78621bf661904e5fb1c51c637ed215f6": {
      "model_module": "@jupyter-widgets/controls",
      "model_module_version": "1.5.0",
      "model_name": "HTMLModel",
      "state": {
       "layout": "IPY_MODEL_269ffbe96bca4dbd924ea6ab13342243",
       "style": "IPY_MODEL_b6eed22226b748aeba405de6b3be352b",
       "value": " 8/8 [00:03&lt;00:00,  2.18it/s]"
      }
     },
     "7886513a3d434f1399bfbcd7ee15f091": {
      "model_module": "@jupyter-widgets/controls",
      "model_module_version": "1.5.0",
      "model_name": "ProgressStyleModel",
      "state": {
       "description_width": ""
      }
     },
     "7894fc990f3240578407c8c28a4a6b54": {
      "model_module": "@jupyter-widgets/base",
      "model_module_version": "1.2.0",
      "model_name": "LayoutModel",
      "state": {
       "display": "inline-flex",
       "flex_flow": "row wrap",
       "width": "100%"
      }
     },
     "78a2101980fa491497d47b3163d86b89": {
      "model_module": "@jupyter-widgets/base",
      "model_module_version": "1.2.0",
      "model_name": "LayoutModel",
      "state": {
       "flex": "2"
      }
     },
     "78a5b49864df4fd1bca022c6a786ef72": {
      "model_module": "@jupyter-widgets/controls",
      "model_module_version": "1.5.0",
      "model_name": "FloatProgressModel",
      "state": {
       "layout": "IPY_MODEL_6f52697a2fe74327be59a1e2e50874ca",
       "max": 8,
       "style": "IPY_MODEL_eca1510dbce14875bf8b334f42ac0f21",
       "value": 8
      }
     },
     "78da7775c4164018abcbe5ce62733319": {
      "model_module": "@jupyter-widgets/controls",
      "model_module_version": "1.5.0",
      "model_name": "DescriptionStyleModel",
      "state": {
       "description_width": ""
      }
     },
     "78dedbd91df64feab82b9c3437406cde": {
      "model_module": "@jupyter-widgets/base",
      "model_module_version": "1.2.0",
      "model_name": "LayoutModel",
      "state": {}
     },
     "7939407054c84f56bed8d34c3be39dc2": {
      "model_module": "@jupyter-widgets/controls",
      "model_module_version": "1.5.0",
      "model_name": "HBoxModel",
      "state": {
       "children": [
        "IPY_MODEL_1e9d7b358ed04c5abef66d2e42ca9672",
        "IPY_MODEL_49f7131a533144368f197387f47fd880",
        "IPY_MODEL_2fdf4aafd77b45d396d025977dc6bf10"
       ],
       "layout": "IPY_MODEL_ab44cca6744444cd81a4efb80430939a"
      }
     },
     "793b4c3b1b7d4bf2862af2a983fdedc9": {
      "model_module": "@jupyter-widgets/base",
      "model_module_version": "1.2.0",
      "model_name": "LayoutModel",
      "state": {
       "display": "inline-flex",
       "flex_flow": "row wrap",
       "width": "100%"
      }
     },
     "793fe3d8ea4644898be012b574204858": {
      "model_module": "@jupyter-widgets/base",
      "model_module_version": "1.2.0",
      "model_name": "LayoutModel",
      "state": {
       "flex": "2"
      }
     },
     "797f880d93ae4c16ac3cde5058116bea": {
      "model_module": "@jupyter-widgets/base",
      "model_module_version": "1.2.0",
      "model_name": "LayoutModel",
      "state": {
       "flex": "2"
      }
     },
     "79966c4ddc0047db88e83e58880ffbb7": {
      "model_module": "@jupyter-widgets/controls",
      "model_module_version": "1.5.0",
      "model_name": "DescriptionStyleModel",
      "state": {
       "description_width": ""
      }
     },
     "799cc51851ac4df3b0b467cf5aa1086d": {
      "model_module": "@jupyter-widgets/base",
      "model_module_version": "1.2.0",
      "model_name": "LayoutModel",
      "state": {}
     },
     "79bf8e72a1104dc99f7120a90cfc1ec3": {
      "model_module": "@jupyter-widgets/base",
      "model_module_version": "1.2.0",
      "model_name": "LayoutModel",
      "state": {}
     },
     "7a1da32c97bd4cf599be931df90b02dd": {
      "model_module": "@jupyter-widgets/base",
      "model_module_version": "1.2.0",
      "model_name": "LayoutModel",
      "state": {}
     },
     "7a2cbb367f77482380489ae7a69fb506": {
      "model_module": "@jupyter-widgets/base",
      "model_module_version": "1.2.0",
      "model_name": "LayoutModel",
      "state": {
       "display": "inline-flex",
       "flex_flow": "row wrap",
       "width": "100%"
      }
     },
     "7a360c3e15eb4c45993cfdbc63a18483": {
      "model_module": "@jupyter-widgets/base",
      "model_module_version": "1.2.0",
      "model_name": "LayoutModel",
      "state": {}
     },
     "7a3fabced51040b482e081cbaf38e88b": {
      "model_module": "@jupyter-widgets/controls",
      "model_module_version": "1.5.0",
      "model_name": "HTMLModel",
      "state": {
       "layout": "IPY_MODEL_ddafda2942f94c58aac2e31fa91b1238",
       "style": "IPY_MODEL_75cb55f86dfe44c2820b6e9f99c86f9d",
       "value": "Validation DataLoader 0: 100%"
      }
     },
     "7a48f6afd6aa47ad8d6464b755d951ce": {
      "model_module": "@jupyter-widgets/controls",
      "model_module_version": "1.5.0",
      "model_name": "FloatProgressModel",
      "state": {
       "layout": "IPY_MODEL_57eb27367bc54303b823c85befca353f",
       "max": 8,
       "style": "IPY_MODEL_e5464bed91cd493ba4a6681c32394065",
       "value": 8
      }
     },
     "7a5ad980140647a9a83716893f714c11": {
      "model_module": "@jupyter-widgets/controls",
      "model_module_version": "1.5.0",
      "model_name": "DescriptionStyleModel",
      "state": {
       "description_width": ""
      }
     },
     "7a5c1b21f849424daa4258a4fb766310": {
      "model_module": "@jupyter-widgets/controls",
      "model_module_version": "1.5.0",
      "model_name": "HTMLModel",
      "state": {
       "layout": "IPY_MODEL_a5d3de3a2741449c84daaa87e09cc5ac",
       "style": "IPY_MODEL_30ace75dedf74584b5fa17381891d316",
       "value": "Validation DataLoader 0: 100%"
      }
     },
     "7a65af611710453685e8ebcd3a747246": {
      "model_module": "@jupyter-widgets/base",
      "model_module_version": "1.2.0",
      "model_name": "LayoutModel",
      "state": {}
     },
     "7a8f61e27544414a8e839a336863ae8b": {
      "model_module": "@jupyter-widgets/controls",
      "model_module_version": "1.5.0",
      "model_name": "ProgressStyleModel",
      "state": {
       "description_width": ""
      }
     },
     "7ad120302e4b472ca5e4b5147eb7b50f": {
      "model_module": "@jupyter-widgets/controls",
      "model_module_version": "1.5.0",
      "model_name": "HTMLModel",
      "state": {
       "layout": "IPY_MODEL_bf0acee948be4b869374fd0ddc6e01dc",
       "style": "IPY_MODEL_b659ad0fe2614754971de97c54b72ca6",
       "value": "Validation DataLoader 0: 100%"
      }
     },
     "7ad665bcfc8b4ba98221449de05b4ccc": {
      "model_module": "@jupyter-widgets/controls",
      "model_module_version": "1.5.0",
      "model_name": "DescriptionStyleModel",
      "state": {
       "description_width": ""
      }
     },
     "7aed6e88225f493a8bfd4da80b07558e": {
      "model_module": "@jupyter-widgets/base",
      "model_module_version": "1.2.0",
      "model_name": "LayoutModel",
      "state": {
       "display": "inline-flex",
       "flex_flow": "row wrap",
       "width": "100%"
      }
     },
     "7afe71c04c7b420097f13b4b4490db78": {
      "model_module": "@jupyter-widgets/base",
      "model_module_version": "1.2.0",
      "model_name": "LayoutModel",
      "state": {
       "flex": "2"
      }
     },
     "7b06a06775d14728b0af09c9f056a2b4": {
      "model_module": "@jupyter-widgets/controls",
      "model_module_version": "1.5.0",
      "model_name": "ProgressStyleModel",
      "state": {
       "description_width": ""
      }
     },
     "7b30581e152e4133857544f1883df13a": {
      "model_module": "@jupyter-widgets/controls",
      "model_module_version": "1.5.0",
      "model_name": "HTMLModel",
      "state": {
       "layout": "IPY_MODEL_e08e56bf92ff4408b9a12a4717648036",
       "style": "IPY_MODEL_c118d6c5d211406281cb1e24e2579c34",
       "value": " 8/8 [00:02&lt;00:00,  2.80it/s]"
      }
     },
     "7b3b641febe54a1ba6a1013b2575b83c": {
      "model_module": "@jupyter-widgets/controls",
      "model_module_version": "1.5.0",
      "model_name": "DescriptionStyleModel",
      "state": {
       "description_width": ""
      }
     },
     "7b4fc8de668a42298eba630e30e12936": {
      "model_module": "@jupyter-widgets/base",
      "model_module_version": "1.2.0",
      "model_name": "LayoutModel",
      "state": {
       "display": "inline-flex",
       "flex_flow": "row wrap",
       "width": "100%"
      }
     },
     "7b4fea56a05a44d487a7fe0308f52db1": {
      "model_module": "@jupyter-widgets/base",
      "model_module_version": "1.2.0",
      "model_name": "LayoutModel",
      "state": {
       "flex": "2"
      }
     },
     "7b9c60840b1c479bab36c60a7822e589": {
      "model_module": "@jupyter-widgets/controls",
      "model_module_version": "1.5.0",
      "model_name": "HTMLModel",
      "state": {
       "layout": "IPY_MODEL_32830d903e5e4b04b16b6c81ec01849f",
       "style": "IPY_MODEL_894a405a48114040ba9fb9430347a8b7",
       "value": " 8/8 [00:02&lt;00:00,  3.03it/s]"
      }
     },
     "7b9f43a0ff634cd78a137fa0a94a77b4": {
      "model_module": "@jupyter-widgets/controls",
      "model_module_version": "1.5.0",
      "model_name": "HTMLModel",
      "state": {
       "layout": "IPY_MODEL_2a3c7b683afd4a0abb7b0312f70c02f9",
       "style": "IPY_MODEL_382d3dec4c534f1cb4ffcb7a62194cd2",
       "value": " 8/8 [00:03&lt;00:00,  2.45it/s]"
      }
     },
     "7be791925b4f4c218285d5ac5c5f551a": {
      "model_module": "@jupyter-widgets/base",
      "model_module_version": "1.2.0",
      "model_name": "LayoutModel",
      "state": {}
     },
     "7beeaab77a0446c2814f763d398ccd53": {
      "model_module": "@jupyter-widgets/controls",
      "model_module_version": "1.5.0",
      "model_name": "FloatProgressModel",
      "state": {
       "layout": "IPY_MODEL_793fe3d8ea4644898be012b574204858",
       "max": 8,
       "style": "IPY_MODEL_dba627b6a36443d4a0a7381ddc9d986d",
       "value": 8
      }
     },
     "7c0040d2cf40465aabe8a3005cde307b": {
      "model_module": "@jupyter-widgets/controls",
      "model_module_version": "1.5.0",
      "model_name": "FloatProgressModel",
      "state": {
       "layout": "IPY_MODEL_d3a1d3a1f968493d860c67387987a174",
       "max": 8,
       "style": "IPY_MODEL_a57a8c53c8934ed3beb795b4082d357a",
       "value": 8
      }
     },
     "7c02a86f5bd246dc843c7b57b41f88f7": {
      "model_module": "@jupyter-widgets/controls",
      "model_module_version": "1.5.0",
      "model_name": "DescriptionStyleModel",
      "state": {
       "description_width": ""
      }
     },
     "7c167e54e89a4ead88b1aad7acec3101": {
      "model_module": "@jupyter-widgets/base",
      "model_module_version": "1.2.0",
      "model_name": "LayoutModel",
      "state": {}
     },
     "7c1d0b1d9c374681929b201506b4f79e": {
      "model_module": "@jupyter-widgets/base",
      "model_module_version": "1.2.0",
      "model_name": "LayoutModel",
      "state": {
       "display": "inline-flex",
       "flex_flow": "row wrap",
       "width": "100%"
      }
     },
     "7c220ffee69a4018ad7fba8f5a457381": {
      "model_module": "@jupyter-widgets/base",
      "model_module_version": "1.2.0",
      "model_name": "LayoutModel",
      "state": {}
     },
     "7c31ac7035b8426b8f183377b8f0da25": {
      "model_module": "@jupyter-widgets/controls",
      "model_module_version": "1.5.0",
      "model_name": "DescriptionStyleModel",
      "state": {
       "description_width": ""
      }
     },
     "7c4d02b2b80446b09324d57f6dac9a01": {
      "model_module": "@jupyter-widgets/controls",
      "model_module_version": "1.5.0",
      "model_name": "FloatProgressModel",
      "state": {
       "layout": "IPY_MODEL_c3e569833a5b42f791eb68fd1d70824b",
       "max": 8,
       "style": "IPY_MODEL_de3bda82fa4146c2a95130e3df72b046",
       "value": 8
      }
     },
     "7c693b6684ea407b96543f1fd55e3139": {
      "model_module": "@jupyter-widgets/controls",
      "model_module_version": "1.5.0",
      "model_name": "FloatProgressModel",
      "state": {
       "layout": "IPY_MODEL_d332af73d0334e61aadc0e8d7dc40e50",
       "max": 8,
       "style": "IPY_MODEL_1de90bcdc5b1493bae91f4e0e20b2111",
       "value": 8
      }
     },
     "7c7203b63563430eb7e53d3590e828d3": {
      "model_module": "@jupyter-widgets/controls",
      "model_module_version": "1.5.0",
      "model_name": "HTMLModel",
      "state": {
       "layout": "IPY_MODEL_c0dad4252bda4c4f98b070f7f88bbc32",
       "style": "IPY_MODEL_454059921e76406ebcb2073a50fecd6f",
       "value": "Validation DataLoader 0: 100%"
      }
     },
     "7c749ec66d7b4c64a6df663b6eeb2725": {
      "model_module": "@jupyter-widgets/controls",
      "model_module_version": "1.5.0",
      "model_name": "HTMLModel",
      "state": {
       "layout": "IPY_MODEL_55bd7eaeeb654635ba7f61aeb388d848",
       "style": "IPY_MODEL_6cdd2616a9f14885bebb2d878fdf559e",
       "value": " 8/8 [00:03&lt;00:00,  2.36it/s]"
      }
     },
     "7c7e76c0e6cb47558252aa6ab968e281": {
      "model_module": "@jupyter-widgets/base",
      "model_module_version": "1.2.0",
      "model_name": "LayoutModel",
      "state": {}
     },
     "7c87a5560bfc4baab6c44071fbf22be1": {
      "model_module": "@jupyter-widgets/controls",
      "model_module_version": "1.5.0",
      "model_name": "HTMLModel",
      "state": {
       "layout": "IPY_MODEL_c038ddc3e3ab4f0da9b7c062a719f1c6",
       "style": "IPY_MODEL_5e6deca93cf6461fa215c1d178125fa9",
       "value": " 8/8 [00:04&lt;00:00,  1.82it/s]"
      }
     },
     "7c98155730d2461b870a942452714441": {
      "model_module": "@jupyter-widgets/controls",
      "model_module_version": "1.5.0",
      "model_name": "DescriptionStyleModel",
      "state": {
       "description_width": ""
      }
     },
     "7c9c171fb28b494a9a81ed87a67d4238": {
      "model_module": "@jupyter-widgets/controls",
      "model_module_version": "1.5.0",
      "model_name": "HTMLModel",
      "state": {
       "layout": "IPY_MODEL_4fb9a4f0c21e499db44bbb99fa4fdad3",
       "style": "IPY_MODEL_c90b496ddf984d7eb1f4303021f9e590",
       "value": "Sanity Checking DataLoader 0: 100%"
      }
     },
     "7cb05a7df98f483ea88267d96ae0fb12": {
      "model_module": "@jupyter-widgets/controls",
      "model_module_version": "1.5.0",
      "model_name": "DescriptionStyleModel",
      "state": {
       "description_width": ""
      }
     },
     "7cb0ebc8bd1c49e6b36a2da2c3f32324": {
      "model_module": "@jupyter-widgets/base",
      "model_module_version": "1.2.0",
      "model_name": "LayoutModel",
      "state": {
       "display": "inline-flex",
       "flex_flow": "row wrap",
       "width": "100%"
      }
     },
     "7cd854f693e840d3bc680c4663bb59c0": {
      "model_module": "@jupyter-widgets/controls",
      "model_module_version": "1.5.0",
      "model_name": "DescriptionStyleModel",
      "state": {
       "description_width": ""
      }
     },
     "7cdb4f2c674e4b65a3455ce722a5af70": {
      "model_module": "@jupyter-widgets/controls",
      "model_module_version": "1.5.0",
      "model_name": "DescriptionStyleModel",
      "state": {
       "description_width": ""
      }
     },
     "7d068c4e7d62461d98a5c2e11d1c4d6b": {
      "model_module": "@jupyter-widgets/controls",
      "model_module_version": "1.5.0",
      "model_name": "ProgressStyleModel",
      "state": {
       "description_width": ""
      }
     },
     "7d53e04dadcb46139171ffaf6cb2265c": {
      "model_module": "@jupyter-widgets/controls",
      "model_module_version": "1.5.0",
      "model_name": "FloatProgressModel",
      "state": {
       "layout": "IPY_MODEL_1e5c792903b5487fa163c0919cc6ca3d",
       "max": 8,
       "style": "IPY_MODEL_7d068c4e7d62461d98a5c2e11d1c4d6b",
       "value": 8
      }
     },
     "7db3c24f354a41e2a24fc486befa6ed7": {
      "model_module": "@jupyter-widgets/controls",
      "model_module_version": "1.5.0",
      "model_name": "DescriptionStyleModel",
      "state": {
       "description_width": ""
      }
     },
     "7de8e223289b45119e248b72e0550d62": {
      "model_module": "@jupyter-widgets/controls",
      "model_module_version": "1.5.0",
      "model_name": "DescriptionStyleModel",
      "state": {
       "description_width": ""
      }
     },
     "7e0d0bdb6c3c4241937022378376e923": {
      "model_module": "@jupyter-widgets/controls",
      "model_module_version": "1.5.0",
      "model_name": "DescriptionStyleModel",
      "state": {
       "description_width": ""
      }
     },
     "7e2b91dd2baa4174a34473ded277cd87": {
      "model_module": "@jupyter-widgets/controls",
      "model_module_version": "1.5.0",
      "model_name": "ProgressStyleModel",
      "state": {
       "description_width": ""
      }
     },
     "7e356186c5bb494aa98ad897a16c3f79": {
      "model_module": "@jupyter-widgets/base",
      "model_module_version": "1.2.0",
      "model_name": "LayoutModel",
      "state": {
       "flex": "2"
      }
     },
     "7e90f50d1db3445b94d41d08ee5c9ff8": {
      "model_module": "@jupyter-widgets/controls",
      "model_module_version": "1.5.0",
      "model_name": "ProgressStyleModel",
      "state": {
       "description_width": ""
      }
     },
     "7eaa700249fc4d52af12f14aaac24c7e": {
      "model_module": "@jupyter-widgets/controls",
      "model_module_version": "1.5.0",
      "model_name": "DescriptionStyleModel",
      "state": {
       "description_width": ""
      }
     },
     "7eafd95f18f94dfbb8f3ce93a337851b": {
      "model_module": "@jupyter-widgets/controls",
      "model_module_version": "1.5.0",
      "model_name": "HTMLModel",
      "state": {
       "layout": "IPY_MODEL_b699ab4761884886a8a9ae0d0a74ef46",
       "style": "IPY_MODEL_c7458fc0921f406fb8408177ca46b7d8",
       "value": " 8/8 [00:03&lt;00:00,  2.51it/s]"
      }
     },
     "7f088b66d64342c19c06f9c489eab616": {
      "model_module": "@jupyter-widgets/base",
      "model_module_version": "1.2.0",
      "model_name": "LayoutModel",
      "state": {
       "display": "inline-flex",
       "flex_flow": "row wrap",
       "width": "100%"
      }
     },
     "7f0f7625925946a291568fdfbddd26f2": {
      "model_module": "@jupyter-widgets/controls",
      "model_module_version": "1.5.0",
      "model_name": "FloatProgressModel",
      "state": {
       "layout": "IPY_MODEL_304155014b6e40209b31abc9105b8a7d",
       "max": 8,
       "style": "IPY_MODEL_094c3009613c4f18a1c0adc0f0e8cb2d",
       "value": 8
      }
     },
     "7f1be539171b4f718c55a37fd52f4a58": {
      "model_module": "@jupyter-widgets/controls",
      "model_module_version": "1.5.0",
      "model_name": "ProgressStyleModel",
      "state": {
       "description_width": ""
      }
     },
     "7f274767184448719ee893c95594355a": {
      "model_module": "@jupyter-widgets/controls",
      "model_module_version": "1.5.0",
      "model_name": "HTMLModel",
      "state": {
       "layout": "IPY_MODEL_16eba2e2bb8343d9b59b2166a26b5a4c",
       "style": "IPY_MODEL_711c34a381de4f41b806d8e6c0e99433",
       "value": " 8/8 [00:02&lt;00:00,  3.34it/s]"
      }
     },
     "7f4058e46dfe47b38d95811c3aa45367": {
      "model_module": "@jupyter-widgets/controls",
      "model_module_version": "1.5.0",
      "model_name": "HTMLModel",
      "state": {
       "layout": "IPY_MODEL_cfb4580989204fb3a8958fb321c87eda",
       "style": "IPY_MODEL_ef24d3f21f79444b9d59437d77c0fae3",
       "value": " 8/8 [00:02&lt;00:00,  3.33it/s]"
      }
     },
     "7f769fb272af47848edbdb91c2d9be5a": {
      "model_module": "@jupyter-widgets/base",
      "model_module_version": "1.2.0",
      "model_name": "LayoutModel",
      "state": {
       "flex": "2"
      }
     },
     "7f875c8c376944079b16476d10643ef6": {
      "model_module": "@jupyter-widgets/controls",
      "model_module_version": "1.5.0",
      "model_name": "DescriptionStyleModel",
      "state": {
       "description_width": ""
      }
     },
     "7f9299619e65454a986f45f6ab71daa9": {
      "model_module": "@jupyter-widgets/controls",
      "model_module_version": "1.5.0",
      "model_name": "HTMLModel",
      "state": {
       "layout": "IPY_MODEL_a84e13a72a2d46778e807ad85e93e00e",
       "style": "IPY_MODEL_315692032fbd43db968e0eb2b5675c2d",
       "value": " 8/8 [00:02&lt;00:00,  3.32it/s]"
      }
     },
     "7f9a40441e454c2fbc4ee736ac96155c": {
      "model_module": "@jupyter-widgets/controls",
      "model_module_version": "1.5.0",
      "model_name": "FloatProgressModel",
      "state": {
       "layout": "IPY_MODEL_1515e8169f0941648a8a6b544d966bf1",
       "max": 8,
       "style": "IPY_MODEL_5b08e2c1e0a9430e8d1d45630c263663",
       "value": 8
      }
     },
     "7fc495cc83b14771a206e9094c4e07af": {
      "model_module": "@jupyter-widgets/controls",
      "model_module_version": "1.5.0",
      "model_name": "HTMLModel",
      "state": {
       "layout": "IPY_MODEL_1b179fb3e1c44094ae80383e9291093e",
       "style": "IPY_MODEL_666e59abd4304c618446b91200a25d74",
       "value": "Validation DataLoader 0: 100%"
      }
     },
     "7fc4a27b46674d55981635e2cea9533c": {
      "model_module": "@jupyter-widgets/base",
      "model_module_version": "1.2.0",
      "model_name": "LayoutModel",
      "state": {
       "flex": "2"
      }
     },
     "7fccc0aaa02642dbbe0e98f11028209b": {
      "model_module": "@jupyter-widgets/controls",
      "model_module_version": "1.5.0",
      "model_name": "DescriptionStyleModel",
      "state": {
       "description_width": ""
      }
     },
     "7fd47da4bd334102839d228ad640ca61": {
      "model_module": "@jupyter-widgets/controls",
      "model_module_version": "1.5.0",
      "model_name": "DescriptionStyleModel",
      "state": {
       "description_width": ""
      }
     },
     "7fd656d7f6364073b9637d400fe10eec": {
      "model_module": "@jupyter-widgets/controls",
      "model_module_version": "1.5.0",
      "model_name": "DescriptionStyleModel",
      "state": {
       "description_width": ""
      }
     },
     "7fdc6839feba4584b7feab3264c514eb": {
      "model_module": "@jupyter-widgets/controls",
      "model_module_version": "1.5.0",
      "model_name": "HBoxModel",
      "state": {
       "children": [
        "IPY_MODEL_f57a1c487703476aad9e62464bec4119",
        "IPY_MODEL_6d28143fdd1d4b3a9b680ec85324c32a",
        "IPY_MODEL_3024776774a441f683f7ad311a093814"
       ],
       "layout": "IPY_MODEL_1a1d226fc9e64a30a0742958383ae0d8"
      }
     },
     "7fde29e2d0ed445f9399dea0056d54ee": {
      "model_module": "@jupyter-widgets/controls",
      "model_module_version": "1.5.0",
      "model_name": "FloatProgressModel",
      "state": {
       "layout": "IPY_MODEL_62992b89b1c047b5a725a1d5a41b3e50",
       "max": 8,
       "style": "IPY_MODEL_8bc77f00ba18467dafb8b9b3ce59b70a",
       "value": 8
      }
     },
     "80239d08de864531b1e512b03a853234": {
      "model_module": "@jupyter-widgets/controls",
      "model_module_version": "1.5.0",
      "model_name": "FloatProgressModel",
      "state": {
       "layout": "IPY_MODEL_1e50a40beeaf4f3eb62cec761b6534ed",
       "max": 8,
       "style": "IPY_MODEL_7f1be539171b4f718c55a37fd52f4a58",
       "value": 8
      }
     },
     "8043775fdd034a34aba206036b05aa6b": {
      "model_module": "@jupyter-widgets/base",
      "model_module_version": "1.2.0",
      "model_name": "LayoutModel",
      "state": {}
     },
     "805810d17f8c4f59a54c9999b9d25085": {
      "model_module": "@jupyter-widgets/base",
      "model_module_version": "1.2.0",
      "model_name": "LayoutModel",
      "state": {
       "display": "inline-flex",
       "flex_flow": "row wrap",
       "width": "100%"
      }
     },
     "80b56c1dc6ab43fba27b265cd9f7d0ce": {
      "model_module": "@jupyter-widgets/controls",
      "model_module_version": "1.5.0",
      "model_name": "FloatProgressModel",
      "state": {
       "layout": "IPY_MODEL_5e23b019dc7e41bc8754fa21c70ec53d",
       "max": 8,
       "style": "IPY_MODEL_c323cf2f68924e43a0177231269c3fc8",
       "value": 8
      }
     },
     "80bb28684f5e44978aacca512a6df771": {
      "model_module": "@jupyter-widgets/controls",
      "model_module_version": "1.5.0",
      "model_name": "HTMLModel",
      "state": {
       "layout": "IPY_MODEL_0ae8fe1831c74836b11fe67b9ac85be2",
       "style": "IPY_MODEL_5bbb444ab7bd4b8db04ba385bae8a8f6",
       "value": " 8/8 [00:03&lt;00:00,  2.52it/s]"
      }
     },
     "811445b3db424ca68b42e68b51cbab80": {
      "model_module": "@jupyter-widgets/controls",
      "model_module_version": "1.5.0",
      "model_name": "HTMLModel",
      "state": {
       "layout": "IPY_MODEL_20a8ee27306f481c9287e8755779576f",
       "style": "IPY_MODEL_decc7e86cded47619f375e04b4e6e1fd",
       "value": "Validation DataLoader 0: 100%"
      }
     },
     "8129660acd8243fab076c2e0d3f7f72b": {
      "model_module": "@jupyter-widgets/controls",
      "model_module_version": "1.5.0",
      "model_name": "HTMLModel",
      "state": {
       "layout": "IPY_MODEL_93af8eeac8e94aa9b5736d9c3d966bad",
       "style": "IPY_MODEL_1c45ad09e10c408294b3947d32d4c008",
       "value": "Validation DataLoader 0: 100%"
      }
     },
     "8133f31ff1f6422d8fc1af0d90f7537b": {
      "model_module": "@jupyter-widgets/base",
      "model_module_version": "1.2.0",
      "model_name": "LayoutModel",
      "state": {}
     },
     "8147cd2145e84973b6c799b156c82cee": {
      "model_module": "@jupyter-widgets/base",
      "model_module_version": "1.2.0",
      "model_name": "LayoutModel",
      "state": {
       "flex": "2"
      }
     },
     "8179e295a87d47818f36f3016a8e650d": {
      "model_module": "@jupyter-widgets/base",
      "model_module_version": "1.2.0",
      "model_name": "LayoutModel",
      "state": {
       "display": "inline-flex",
       "flex_flow": "row wrap",
       "width": "100%"
      }
     },
     "817ccded4dca4259974fc55d7f7cd14a": {
      "model_module": "@jupyter-widgets/controls",
      "model_module_version": "1.5.0",
      "model_name": "DescriptionStyleModel",
      "state": {
       "description_width": ""
      }
     },
     "818f429c560547c6a66869f3d5aafd4c": {
      "model_module": "@jupyter-widgets/controls",
      "model_module_version": "1.5.0",
      "model_name": "DescriptionStyleModel",
      "state": {
       "description_width": ""
      }
     },
     "81d39168f48f42fea165de67ca50b308": {
      "model_module": "@jupyter-widgets/base",
      "model_module_version": "1.2.0",
      "model_name": "LayoutModel",
      "state": {
       "flex": "2"
      }
     },
     "81def73d410b4e0caf80ff778ff26e64": {
      "model_module": "@jupyter-widgets/base",
      "model_module_version": "1.2.0",
      "model_name": "LayoutModel",
      "state": {}
     },
     "81f1fea7b5a14b97b97c7ab17f745d1d": {
      "model_module": "@jupyter-widgets/controls",
      "model_module_version": "1.5.0",
      "model_name": "HTMLModel",
      "state": {
       "layout": "IPY_MODEL_f897a12d82294f7aba596ed91914443e",
       "style": "IPY_MODEL_78da7775c4164018abcbe5ce62733319",
       "value": " 8/8 [00:02&lt;00:00,  2.99it/s]"
      }
     },
     "820bc1e87c9b422aa379a9483685df23": {
      "model_module": "@jupyter-widgets/controls",
      "model_module_version": "1.5.0",
      "model_name": "DescriptionStyleModel",
      "state": {
       "description_width": ""
      }
     },
     "820e540fd71841c3a000e7d8ca6f0f25": {
      "model_module": "@jupyter-widgets/base",
      "model_module_version": "1.2.0",
      "model_name": "LayoutModel",
      "state": {
       "display": "inline-flex",
       "flex_flow": "row wrap",
       "width": "100%"
      }
     },
     "82309cf415ba481f97284c0eace0706c": {
      "model_module": "@jupyter-widgets/base",
      "model_module_version": "1.2.0",
      "model_name": "LayoutModel",
      "state": {}
     },
     "8236a1f4929d43a1adf9d13d2e261b11": {
      "model_module": "@jupyter-widgets/controls",
      "model_module_version": "1.5.0",
      "model_name": "HTMLModel",
      "state": {
       "layout": "IPY_MODEL_f2be91d79dc5464fb90cb39648d35b3d",
       "style": "IPY_MODEL_e31502f4bdcc420da4dbf90228492470",
       "value": "Validation DataLoader 0: 100%"
      }
     },
     "8249c1281ee543219ffcaccc4fe58dc7": {
      "model_module": "@jupyter-widgets/base",
      "model_module_version": "1.2.0",
      "model_name": "LayoutModel",
      "state": {}
     },
     "829f3091f75848aba813dba6c49359ad": {
      "model_module": "@jupyter-widgets/controls",
      "model_module_version": "1.5.0",
      "model_name": "DescriptionStyleModel",
      "state": {
       "description_width": ""
      }
     },
     "82a213dced9645558127eaab2ef38f29": {
      "model_module": "@jupyter-widgets/controls",
      "model_module_version": "1.5.0",
      "model_name": "HTMLModel",
      "state": {
       "layout": "IPY_MODEL_b32603a2800c48309d927e8e67463d03",
       "style": "IPY_MODEL_a3d38ac3fedb468bbb85b4c4df3abe6b",
       "value": " 8/8 [00:03&lt;00:00,  2.36it/s]"
      }
     },
     "82bae0c82cdb4352802419d7c472056f": {
      "model_module": "@jupyter-widgets/controls",
      "model_module_version": "1.5.0",
      "model_name": "DescriptionStyleModel",
      "state": {
       "description_width": ""
      }
     },
     "82f569a7c5914dd1ba06bea19d098a48": {
      "model_module": "@jupyter-widgets/controls",
      "model_module_version": "1.5.0",
      "model_name": "DescriptionStyleModel",
      "state": {
       "description_width": ""
      }
     },
     "82fb3ce926354c1786d271b779edfaab": {
      "model_module": "@jupyter-widgets/controls",
      "model_module_version": "1.5.0",
      "model_name": "HTMLModel",
      "state": {
       "layout": "IPY_MODEL_04d067d363fb400283ac5b4416465386",
       "style": "IPY_MODEL_f15bc043ebe943b59b565718ae9b5dc0",
       "value": "Validation DataLoader 0: 100%"
      }
     },
     "830bc56bbbe94033bc3f6257348d0efa": {
      "model_module": "@jupyter-widgets/controls",
      "model_module_version": "1.5.0",
      "model_name": "HTMLModel",
      "state": {
       "layout": "IPY_MODEL_7a360c3e15eb4c45993cfdbc63a18483",
       "style": "IPY_MODEL_ddbbca60f2f94c05b1de305bff3bbbd0",
       "value": " 8/8 [00:07&lt;00:00,  1.12it/s]"
      }
     },
     "83350e1e507d409783193e6bad0c264a": {
      "model_module": "@jupyter-widgets/base",
      "model_module_version": "1.2.0",
      "model_name": "LayoutModel",
      "state": {
       "flex": "2"
      }
     },
     "8348779405364ff2a0335293cb3a32e9": {
      "model_module": "@jupyter-widgets/base",
      "model_module_version": "1.2.0",
      "model_name": "LayoutModel",
      "state": {}
     },
     "838129d6e86046ed8131d8bb4c0d6451": {
      "model_module": "@jupyter-widgets/controls",
      "model_module_version": "1.5.0",
      "model_name": "FloatProgressModel",
      "state": {
       "layout": "IPY_MODEL_27ba8ac8b3424fa5bfa4fabe3a1ef335",
       "max": 8,
       "style": "IPY_MODEL_00cd57e4d8cb4b8a9a18276084b79637",
       "value": 8
      }
     },
     "8384cc146304408e9fe983eeccb4db07": {
      "model_module": "@jupyter-widgets/base",
      "model_module_version": "1.2.0",
      "model_name": "LayoutModel",
      "state": {}
     },
     "839c07a883034751a3288c3de4a800cf": {
      "model_module": "@jupyter-widgets/controls",
      "model_module_version": "1.5.0",
      "model_name": "DescriptionStyleModel",
      "state": {
       "description_width": ""
      }
     },
     "839ef5d65b7940e49a6807f4b1a3a7f1": {
      "model_module": "@jupyter-widgets/controls",
      "model_module_version": "1.5.0",
      "model_name": "HTMLModel",
      "state": {
       "layout": "IPY_MODEL_57e37b569df84f8fa010b0b508ac274d",
       "style": "IPY_MODEL_6373842aedfa44449451c642c3822079",
       "value": "Validation DataLoader 0: 100%"
      }
     },
     "83b0e3cf57fc422aa3dd0a747090c29c": {
      "model_module": "@jupyter-widgets/controls",
      "model_module_version": "1.5.0",
      "model_name": "DescriptionStyleModel",
      "state": {
       "description_width": ""
      }
     },
     "83b407ff99b946fdb66467bc2dc20365": {
      "model_module": "@jupyter-widgets/controls",
      "model_module_version": "1.5.0",
      "model_name": "DescriptionStyleModel",
      "state": {
       "description_width": ""
      }
     },
     "83de163f0c8e4910b69ca5f8d4a60384": {
      "model_module": "@jupyter-widgets/base",
      "model_module_version": "1.2.0",
      "model_name": "LayoutModel",
      "state": {
       "flex": "2"
      }
     },
     "841ae231ff47432590425d9e9e2b005d": {
      "model_module": "@jupyter-widgets/controls",
      "model_module_version": "1.5.0",
      "model_name": "ProgressStyleModel",
      "state": {
       "description_width": ""
      }
     },
     "843d34854f0144ff8b76d114327cfdb5": {
      "model_module": "@jupyter-widgets/controls",
      "model_module_version": "1.5.0",
      "model_name": "DescriptionStyleModel",
      "state": {
       "description_width": ""
      }
     },
     "844f89c8279747d2b39d27c6c3dfbeb3": {
      "model_module": "@jupyter-widgets/controls",
      "model_module_version": "1.5.0",
      "model_name": "ProgressStyleModel",
      "state": {
       "description_width": ""
      }
     },
     "8467fdde695649e1966779205f21adc1": {
      "model_module": "@jupyter-widgets/base",
      "model_module_version": "1.2.0",
      "model_name": "LayoutModel",
      "state": {}
     },
     "85043446aa0f42999559c8cd3b341c52": {
      "model_module": "@jupyter-widgets/controls",
      "model_module_version": "1.5.0",
      "model_name": "FloatProgressModel",
      "state": {
       "layout": "IPY_MODEL_3e8ae76839ca438eb9a8cd49a5e8013e",
       "max": 8,
       "style": "IPY_MODEL_29643340a13e4708bd642528f6e81546",
       "value": 8
      }
     },
     "850a829d86c046fbb32095219a10f487": {
      "model_module": "@jupyter-widgets/base",
      "model_module_version": "1.2.0",
      "model_name": "LayoutModel",
      "state": {
       "flex": "2"
      }
     },
     "8530a134d66e46f9b9c24c713df5d7b7": {
      "model_module": "@jupyter-widgets/base",
      "model_module_version": "1.2.0",
      "model_name": "LayoutModel",
      "state": {}
     },
     "857b385b8b984c9685a3ed7233098226": {
      "model_module": "@jupyter-widgets/base",
      "model_module_version": "1.2.0",
      "model_name": "LayoutModel",
      "state": {
       "display": "inline-flex",
       "flex_flow": "row wrap",
       "width": "100%"
      }
     },
     "857e111e40374918b03b81bf0320bf69": {
      "model_module": "@jupyter-widgets/controls",
      "model_module_version": "1.5.0",
      "model_name": "HTMLModel",
      "state": {
       "layout": "IPY_MODEL_6185bfed91eb40f7b134800a51c756ed",
       "style": "IPY_MODEL_fc1e4f61e3394702af6fb7808b88c915",
       "value": " 8/8 [00:03&lt;00:00,  2.38it/s]"
      }
     },
     "85ab0553699941cea7d594e33bcaca42": {
      "model_module": "@jupyter-widgets/controls",
      "model_module_version": "1.5.0",
      "model_name": "HTMLModel",
      "state": {
       "layout": "IPY_MODEL_8a31a37c2a8d4d5d988caa27fb6ac027",
       "style": "IPY_MODEL_62eac23c4e8b413ba838a5c71289ef3a",
       "value": "Validation DataLoader 0: 100%"
      }
     },
     "85cf5930ab174ef48bb9e0b0e07397e9": {
      "model_module": "@jupyter-widgets/controls",
      "model_module_version": "1.5.0",
      "model_name": "DescriptionStyleModel",
      "state": {
       "description_width": ""
      }
     },
     "85ecd5b8f103432e8f97227a84f9acc2": {
      "model_module": "@jupyter-widgets/base",
      "model_module_version": "1.2.0",
      "model_name": "LayoutModel",
      "state": {}
     },
     "85ed982d76d34934b69b3e54db44fc9c": {
      "model_module": "@jupyter-widgets/base",
      "model_module_version": "1.2.0",
      "model_name": "LayoutModel",
      "state": {}
     },
     "8610d45aca9647ba95e7ab4a1914c1d7": {
      "model_module": "@jupyter-widgets/controls",
      "model_module_version": "1.5.0",
      "model_name": "FloatProgressModel",
      "state": {
       "layout": "IPY_MODEL_419a02f25c8c415b99ae0a42b8dd4d7d",
       "max": 8,
       "style": "IPY_MODEL_c8d74c0ba0ae47e48d0a9340b2ee1c1d",
       "value": 8
      }
     },
     "861cf26665dd4178ab4e18c5abc4f3b7": {
      "model_module": "@jupyter-widgets/controls",
      "model_module_version": "1.5.0",
      "model_name": "HTMLModel",
      "state": {
       "layout": "IPY_MODEL_29c4310ddef743a8b1603098512e4404",
       "style": "IPY_MODEL_db9fa5b7c2bf46f18760e0e907567931",
       "value": " 53/69 [01:03&lt;00:19,  1.19s/it, loss=1.92, v_num=-132]"
      }
     },
     "8629676bf5484a729cb722e3dc812bbf": {
      "model_module": "@jupyter-widgets/controls",
      "model_module_version": "1.5.0",
      "model_name": "ProgressStyleModel",
      "state": {
       "description_width": ""
      }
     },
     "866d381d17004034b81dd0d9b31320ca": {
      "model_module": "@jupyter-widgets/controls",
      "model_module_version": "1.5.0",
      "model_name": "DescriptionStyleModel",
      "state": {
       "description_width": ""
      }
     },
     "8683eec062034e37858a4ed79d6bfb2b": {
      "model_module": "@jupyter-widgets/controls",
      "model_module_version": "1.5.0",
      "model_name": "DescriptionStyleModel",
      "state": {
       "description_width": ""
      }
     },
     "8694bc4e729c492c8bc14191b1035463": {
      "model_module": "@jupyter-widgets/base",
      "model_module_version": "1.2.0",
      "model_name": "LayoutModel",
      "state": {
       "display": "inline-flex",
       "flex_flow": "row wrap",
       "width": "100%"
      }
     },
     "869d2606c75f4ace8d68226c0f4965e4": {
      "model_module": "@jupyter-widgets/base",
      "model_module_version": "1.2.0",
      "model_name": "LayoutModel",
      "state": {
       "flex": "2"
      }
     },
     "86a38a1d692445e0aa32e66d79e6a70a": {
      "model_module": "@jupyter-widgets/base",
      "model_module_version": "1.2.0",
      "model_name": "LayoutModel",
      "state": {}
     },
     "86ab44eee9284e8a8720d9a50a58a8be": {
      "model_module": "@jupyter-widgets/base",
      "model_module_version": "1.2.0",
      "model_name": "LayoutModel",
      "state": {}
     },
     "86bd0ba5552c40eeb3da1348c465ab32": {
      "model_module": "@jupyter-widgets/base",
      "model_module_version": "1.2.0",
      "model_name": "LayoutModel",
      "state": {
       "display": "inline-flex",
       "flex_flow": "row wrap",
       "width": "100%"
      }
     },
     "86d574a533da44aa80a1f8b29abc2c91": {
      "model_module": "@jupyter-widgets/controls",
      "model_module_version": "1.5.0",
      "model_name": "HTMLModel",
      "state": {
       "layout": "IPY_MODEL_b853e555da32483f961be806bf974478",
       "style": "IPY_MODEL_21324c2f622f4a4da3c698f140c63725",
       "value": "Validation DataLoader 0: 100%"
      }
     },
     "86e7f6f67b454050ac61acf770fae6ae": {
      "model_module": "@jupyter-widgets/controls",
      "model_module_version": "1.5.0",
      "model_name": "DescriptionStyleModel",
      "state": {
       "description_width": ""
      }
     },
     "870cec038e6748d484b5e22cccf3f2fc": {
      "model_module": "@jupyter-widgets/controls",
      "model_module_version": "1.5.0",
      "model_name": "HTMLModel",
      "state": {
       "layout": "IPY_MODEL_187819f7ddb04f7bb294e24f4d6d5c94",
       "style": "IPY_MODEL_1b02322328464f67a453b25ca32ca6eb",
       "value": "Validation DataLoader 0: 100%"
      }
     },
     "87293446947b4103b61229a81e91cfe4": {
      "model_module": "@jupyter-widgets/base",
      "model_module_version": "1.2.0",
      "model_name": "LayoutModel",
      "state": {}
     },
     "87326d4d20114dfebc8ce7f9d496460e": {
      "model_module": "@jupyter-widgets/controls",
      "model_module_version": "1.5.0",
      "model_name": "HTMLModel",
      "state": {
       "layout": "IPY_MODEL_27aac145b4f24120a23488bb1d3283e4",
       "style": "IPY_MODEL_96a82eb91ab04e4487170503e09127bb",
       "value": "Validation DataLoader 0: 100%"
      }
     },
     "876b49433b4d4dfda672ecefa0f840ed": {
      "model_module": "@jupyter-widgets/base",
      "model_module_version": "1.2.0",
      "model_name": "LayoutModel",
      "state": {}
     },
     "8771205f71af4feaad1a92745ca124c8": {
      "model_module": "@jupyter-widgets/controls",
      "model_module_version": "1.5.0",
      "model_name": "HTMLModel",
      "state": {
       "layout": "IPY_MODEL_b3c97b8d76714af89b82a716e7c0b8e5",
       "style": "IPY_MODEL_feff6d477ecb4d6da5a85791075b43b1",
       "value": "Validation DataLoader 0: 100%"
      }
     },
     "8788629e8ce74a538a02bc315daf1a7e": {
      "model_module": "@jupyter-widgets/base",
      "model_module_version": "1.2.0",
      "model_name": "LayoutModel",
      "state": {
       "display": "inline-flex",
       "flex_flow": "row wrap",
       "width": "100%"
      }
     },
     "878df48448e94e25b9afd4a9f70a8dbb": {
      "model_module": "@jupyter-widgets/controls",
      "model_module_version": "1.5.0",
      "model_name": "DescriptionStyleModel",
      "state": {
       "description_width": ""
      }
     },
     "87a20e1283384006846b80c9f7c2e51b": {
      "model_module": "@jupyter-widgets/controls",
      "model_module_version": "1.5.0",
      "model_name": "HTMLModel",
      "state": {
       "layout": "IPY_MODEL_fbd079c2dca94a3ea45fea6bbfa9c2dd",
       "style": "IPY_MODEL_9cf25ab195ac477896372bb69074b22a",
       "value": "Validation DataLoader 0: 100%"
      }
     },
     "87a769cb7dc646909e80f09db004c32d": {
      "model_module": "@jupyter-widgets/controls",
      "model_module_version": "1.5.0",
      "model_name": "ProgressStyleModel",
      "state": {
       "description_width": ""
      }
     },
     "881870a079de41f88386b0dd593bf601": {
      "model_module": "@jupyter-widgets/base",
      "model_module_version": "1.2.0",
      "model_name": "LayoutModel",
      "state": {
       "display": "inline-flex",
       "flex_flow": "row wrap",
       "width": "100%"
      }
     },
     "8837a65b4d40439eab3cb0b5c556f755": {
      "model_module": "@jupyter-widgets/base",
      "model_module_version": "1.2.0",
      "model_name": "LayoutModel",
      "state": {
       "display": "inline-flex",
       "flex_flow": "row wrap",
       "width": "100%"
      }
     },
     "885a6f5b65f24a2db3a3d513c2c1f723": {
      "model_module": "@jupyter-widgets/controls",
      "model_module_version": "1.5.0",
      "model_name": "HTMLModel",
      "state": {
       "layout": "IPY_MODEL_af51d6579f104c23bcb16d8cf23ddd66",
       "style": "IPY_MODEL_578805f5b34c48db84e3d6ff74ec6140",
       "value": " 8/8 [00:03&lt;00:00,  2.47it/s]"
      }
     },
     "88609846e3c74a5493ec56be5284d73f": {
      "model_module": "@jupyter-widgets/controls",
      "model_module_version": "1.5.0",
      "model_name": "FloatProgressModel",
      "state": {
       "layout": "IPY_MODEL_97058951803c4b139e5a259fe5d6336c",
       "max": 8,
       "style": "IPY_MODEL_69da3054b1d743c094028f6083f6f83e",
       "value": 8
      }
     },
     "889e478e1be8444282b2cce4f0a49e5c": {
      "model_module": "@jupyter-widgets/base",
      "model_module_version": "1.2.0",
      "model_name": "LayoutModel",
      "state": {
       "flex": "2"
      }
     },
     "88aa3b4857e749c8801374c545029d72": {
      "model_module": "@jupyter-widgets/controls",
      "model_module_version": "1.5.0",
      "model_name": "FloatProgressModel",
      "state": {
       "layout": "IPY_MODEL_83de163f0c8e4910b69ca5f8d4a60384",
       "max": 8,
       "style": "IPY_MODEL_8d87865f1c07453bb314f7b5abf04466",
       "value": 8
      }
     },
     "88ac3daad82849e490aa800d4073c9e2": {
      "model_module": "@jupyter-widgets/base",
      "model_module_version": "1.2.0",
      "model_name": "LayoutModel",
      "state": {}
     },
     "88ce0361c5ad4d3da76a425b08b7c638": {
      "model_module": "@jupyter-widgets/base",
      "model_module_version": "1.2.0",
      "model_name": "LayoutModel",
      "state": {}
     },
     "88e6498354fa47f58a7969dc6c6e5dba": {
      "model_module": "@jupyter-widgets/controls",
      "model_module_version": "1.5.0",
      "model_name": "DescriptionStyleModel",
      "state": {
       "description_width": ""
      }
     },
     "892957ef73f34e80ab4f949bef945070": {
      "model_module": "@jupyter-widgets/base",
      "model_module_version": "1.2.0",
      "model_name": "LayoutModel",
      "state": {
       "display": "inline-flex",
       "flex_flow": "row wrap",
       "width": "100%"
      }
     },
     "89420818ce7f4c49bae1e1e30b22e951": {
      "model_module": "@jupyter-widgets/controls",
      "model_module_version": "1.5.0",
      "model_name": "FloatProgressModel",
      "state": {
       "layout": "IPY_MODEL_af85930169324933b9b88320644f62f5",
       "max": 8,
       "style": "IPY_MODEL_cdf234db407d4f8b9e4235ac55e9c423",
       "value": 8
      }
     },
     "894a405a48114040ba9fb9430347a8b7": {
      "model_module": "@jupyter-widgets/controls",
      "model_module_version": "1.5.0",
      "model_name": "DescriptionStyleModel",
      "state": {
       "description_width": ""
      }
     },
     "8966fe53b52947eeb5569ba210e67d24": {
      "model_module": "@jupyter-widgets/base",
      "model_module_version": "1.2.0",
      "model_name": "LayoutModel",
      "state": {
       "display": "inline-flex",
       "flex_flow": "row wrap",
       "width": "100%"
      }
     },
     "899788a73a1c48faaed6112c8fce3b20": {
      "model_module": "@jupyter-widgets/base",
      "model_module_version": "1.2.0",
      "model_name": "LayoutModel",
      "state": {}
     },
     "8997afe69658406ba3cb99736756366f": {
      "model_module": "@jupyter-widgets/base",
      "model_module_version": "1.2.0",
      "model_name": "LayoutModel",
      "state": {}
     },
     "89aa299dd1094063b2c2445f09d73d23": {
      "model_module": "@jupyter-widgets/base",
      "model_module_version": "1.2.0",
      "model_name": "LayoutModel",
      "state": {
       "flex": "2"
      }
     },
     "89b3dd8929c040269f22e933a061e807": {
      "model_module": "@jupyter-widgets/base",
      "model_module_version": "1.2.0",
      "model_name": "LayoutModel",
      "state": {
       "display": "inline-flex",
       "flex_flow": "row wrap",
       "width": "100%"
      }
     },
     "89f0c9b310314742be0ad78c3c85b829": {
      "model_module": "@jupyter-widgets/base",
      "model_module_version": "1.2.0",
      "model_name": "LayoutModel",
      "state": {}
     },
     "89f34c6fb0f240d4b679eb150f613c1d": {
      "model_module": "@jupyter-widgets/controls",
      "model_module_version": "1.5.0",
      "model_name": "FloatProgressModel",
      "state": {
       "layout": "IPY_MODEL_905c21c5173140f9b1253324dd6d2fc7",
       "max": 8,
       "style": "IPY_MODEL_8d6189f4e7a0468f8fdeaff9333fc933",
       "value": 8
      }
     },
     "8a0964aba1ff4fe79f7ff460fc55b7d0": {
      "model_module": "@jupyter-widgets/controls",
      "model_module_version": "1.5.0",
      "model_name": "DescriptionStyleModel",
      "state": {
       "description_width": ""
      }
     },
     "8a31a37c2a8d4d5d988caa27fb6ac027": {
      "model_module": "@jupyter-widgets/base",
      "model_module_version": "1.2.0",
      "model_name": "LayoutModel",
      "state": {}
     },
     "8a483cd9581440aa89e803a092983224": {
      "model_module": "@jupyter-widgets/base",
      "model_module_version": "1.2.0",
      "model_name": "LayoutModel",
      "state": {
       "display": "inline-flex",
       "flex_flow": "row wrap",
       "width": "100%"
      }
     },
     "8a4b9140f4104e00a3894ffb7bbe1488": {
      "model_module": "@jupyter-widgets/base",
      "model_module_version": "1.2.0",
      "model_name": "LayoutModel",
      "state": {
       "display": "inline-flex",
       "flex_flow": "row wrap",
       "width": "100%"
      }
     },
     "8a565d171aad427abf96055240bb6ab6": {
      "model_module": "@jupyter-widgets/controls",
      "model_module_version": "1.5.0",
      "model_name": "DescriptionStyleModel",
      "state": {
       "description_width": ""
      }
     },
     "8a7b108176a640c78988fec8f04db9b3": {
      "model_module": "@jupyter-widgets/base",
      "model_module_version": "1.2.0",
      "model_name": "LayoutModel",
      "state": {
       "display": "inline-flex",
       "flex_flow": "row wrap",
       "width": "100%"
      }
     },
     "8a9102113aa045219179b23145b0ef4e": {
      "model_module": "@jupyter-widgets/controls",
      "model_module_version": "1.5.0",
      "model_name": "HTMLModel",
      "state": {
       "layout": "IPY_MODEL_86a38a1d692445e0aa32e66d79e6a70a",
       "style": "IPY_MODEL_b5ba8ac2daea4e1f9197d8bf1ba88dd5",
       "value": " 8/8 [00:04&lt;00:00,  1.64it/s]"
      }
     },
     "8a983abc560c4a989f764c9b477fd235": {
      "model_module": "@jupyter-widgets/controls",
      "model_module_version": "1.5.0",
      "model_name": "ProgressStyleModel",
      "state": {
       "description_width": ""
      }
     },
     "8aa1e6a7d9e54d60abde58e08a44d142": {
      "model_module": "@jupyter-widgets/controls",
      "model_module_version": "1.5.0",
      "model_name": "HTMLModel",
      "state": {
       "layout": "IPY_MODEL_1576914fb1c2457d84ce2f0df3511fb8",
       "style": "IPY_MODEL_ee07617769f841f29bf059603f00f2c9",
       "value": " 8/8 [00:03&lt;00:00,  2.32it/s]"
      }
     },
     "8aee7b86c0ba4021a41b78313adb4c53": {
      "model_module": "@jupyter-widgets/base",
      "model_module_version": "1.2.0",
      "model_name": "LayoutModel",
      "state": {}
     },
     "8b1c099263b9498692c9f5441e9e8e0a": {
      "model_module": "@jupyter-widgets/controls",
      "model_module_version": "1.5.0",
      "model_name": "DescriptionStyleModel",
      "state": {
       "description_width": ""
      }
     },
     "8b2df4fe21734997af1e5297830211e7": {
      "model_module": "@jupyter-widgets/controls",
      "model_module_version": "1.5.0",
      "model_name": "DescriptionStyleModel",
      "state": {
       "description_width": ""
      }
     },
     "8b6d06cff9734f30b324e8c073054abf": {
      "model_module": "@jupyter-widgets/controls",
      "model_module_version": "1.5.0",
      "model_name": "HTMLModel",
      "state": {
       "layout": "IPY_MODEL_e99f21136c804ce0bad67b66701a0388",
       "style": "IPY_MODEL_2fb2ea539aeb41e8b0ef003a845918e3",
       "value": "Epoch 7:  30%"
      }
     },
     "8b7604cf1cfc45ab832a875ea6e5c50b": {
      "model_module": "@jupyter-widgets/base",
      "model_module_version": "1.2.0",
      "model_name": "LayoutModel",
      "state": {}
     },
     "8b83afa15c6f4182b6ffe40a6a17f17d": {
      "model_module": "@jupyter-widgets/controls",
      "model_module_version": "1.5.0",
      "model_name": "HTMLModel",
      "state": {
       "layout": "IPY_MODEL_351e8baabf6844a2b351a32202e97e4b",
       "style": "IPY_MODEL_0ce60b062e794ca9b41961971b4e3122",
       "value": "Validation DataLoader 0: 100%"
      }
     },
     "8bc4ac29e2b046ce98592125f79c1db9": {
      "model_module": "@jupyter-widgets/controls",
      "model_module_version": "1.5.0",
      "model_name": "HTMLModel",
      "state": {
       "layout": "IPY_MODEL_afca473e176649d88c169546e21d700c",
       "style": "IPY_MODEL_08608a13e6ed4ccd8ee097b12d83267b",
       "value": "Validation DataLoader 0: 100%"
      }
     },
     "8bc77f00ba18467dafb8b9b3ce59b70a": {
      "model_module": "@jupyter-widgets/controls",
      "model_module_version": "1.5.0",
      "model_name": "ProgressStyleModel",
      "state": {
       "description_width": ""
      }
     },
     "8c31a5bbfb994866bb07afff759d929b": {
      "model_module": "@jupyter-widgets/controls",
      "model_module_version": "1.5.0",
      "model_name": "DescriptionStyleModel",
      "state": {
       "description_width": ""
      }
     },
     "8c3f16fd4e04493d9ff61c2ae4c9cdd3": {
      "model_module": "@jupyter-widgets/controls",
      "model_module_version": "1.5.0",
      "model_name": "DescriptionStyleModel",
      "state": {
       "description_width": ""
      }
     },
     "8c46783603c24abca7e9281b4211d106": {
      "model_module": "@jupyter-widgets/controls",
      "model_module_version": "1.5.0",
      "model_name": "ProgressStyleModel",
      "state": {
       "description_width": ""
      }
     },
     "8c7ce60f963c4e8d9dc07374e2ece11b": {
      "model_module": "@jupyter-widgets/controls",
      "model_module_version": "1.5.0",
      "model_name": "DescriptionStyleModel",
      "state": {
       "description_width": ""
      }
     },
     "8c81535eecc749edb5a106ee4cf8b63b": {
      "model_module": "@jupyter-widgets/base",
      "model_module_version": "1.2.0",
      "model_name": "LayoutModel",
      "state": {
       "display": "inline-flex",
       "flex_flow": "row wrap",
       "width": "100%"
      }
     },
     "8c8dcd49d5e343cbb3bddc9a3178f531": {
      "model_module": "@jupyter-widgets/controls",
      "model_module_version": "1.5.0",
      "model_name": "ProgressStyleModel",
      "state": {
       "description_width": ""
      }
     },
     "8caff703c907446da9abae56cb3907dc": {
      "model_module": "@jupyter-widgets/base",
      "model_module_version": "1.2.0",
      "model_name": "LayoutModel",
      "state": {
       "display": "inline-flex",
       "flex_flow": "row wrap",
       "width": "100%"
      }
     },
     "8ceacc1087dc4eb4b8bcfbfb4855b765": {
      "model_module": "@jupyter-widgets/controls",
      "model_module_version": "1.5.0",
      "model_name": "DescriptionStyleModel",
      "state": {
       "description_width": ""
      }
     },
     "8d2ea1e47dd54152981c0d70c026e679": {
      "model_module": "@jupyter-widgets/controls",
      "model_module_version": "1.5.0",
      "model_name": "ProgressStyleModel",
      "state": {
       "description_width": ""
      }
     },
     "8d4384168d6c48f6a68f3ea9fbaa4282": {
      "model_module": "@jupyter-widgets/base",
      "model_module_version": "1.2.0",
      "model_name": "LayoutModel",
      "state": {}
     },
     "8d475cf3bacd40e9aec6f101a56b612f": {
      "model_module": "@jupyter-widgets/controls",
      "model_module_version": "1.5.0",
      "model_name": "FloatProgressModel",
      "state": {
       "layout": "IPY_MODEL_9948544d9d2b429dbebcc49dfb39eb23",
       "max": 8,
       "style": "IPY_MODEL_40e83811e41643f9ba791d5d28b1706e",
       "value": 8
      }
     },
     "8d6189f4e7a0468f8fdeaff9333fc933": {
      "model_module": "@jupyter-widgets/controls",
      "model_module_version": "1.5.0",
      "model_name": "ProgressStyleModel",
      "state": {
       "description_width": ""
      }
     },
     "8d7dfac5b3474f4fa67bfcbb4d69bec5": {
      "model_module": "@jupyter-widgets/base",
      "model_module_version": "1.2.0",
      "model_name": "LayoutModel",
      "state": {
       "flex": "2"
      }
     },
     "8d87865f1c07453bb314f7b5abf04466": {
      "model_module": "@jupyter-widgets/controls",
      "model_module_version": "1.5.0",
      "model_name": "ProgressStyleModel",
      "state": {
       "description_width": ""
      }
     },
     "8d944559b8884cad8fd7ff8986d933b9": {
      "model_module": "@jupyter-widgets/base",
      "model_module_version": "1.2.0",
      "model_name": "LayoutModel",
      "state": {}
     },
     "8d99a3a8e66f43dba3bb818c9490e0b2": {
      "model_module": "@jupyter-widgets/base",
      "model_module_version": "1.2.0",
      "model_name": "LayoutModel",
      "state": {}
     },
     "8d9b130cb96a44e690fc3e9dc3938932": {
      "model_module": "@jupyter-widgets/base",
      "model_module_version": "1.2.0",
      "model_name": "LayoutModel",
      "state": {
       "flex": "2"
      }
     },
     "8da4a349531f42eb89c9981172c6f039": {
      "model_module": "@jupyter-widgets/base",
      "model_module_version": "1.2.0",
      "model_name": "LayoutModel",
      "state": {
       "flex": "2"
      }
     },
     "8db8038b48184a5482a0a64837cf92c3": {
      "model_module": "@jupyter-widgets/controls",
      "model_module_version": "1.5.0",
      "model_name": "ProgressStyleModel",
      "state": {
       "description_width": ""
      }
     },
     "8dbdfb5e6f5a471fa55065203d777d85": {
      "model_module": "@jupyter-widgets/controls",
      "model_module_version": "1.5.0",
      "model_name": "FloatProgressModel",
      "state": {
       "layout": "IPY_MODEL_720dff5f950b436cb0ee6bd8de41c7d8",
       "max": 8,
       "style": "IPY_MODEL_1b700fa9c1e949439a2d851eb49ce57f",
       "value": 8
      }
     },
     "8de58a5677ac4c51bcc3b0050b0746e1": {
      "model_module": "@jupyter-widgets/base",
      "model_module_version": "1.2.0",
      "model_name": "LayoutModel",
      "state": {
       "display": "inline-flex",
       "flex_flow": "row wrap",
       "width": "100%"
      }
     },
     "8df0ccca6bf447acaf3e8c7d49a065ef": {
      "model_module": "@jupyter-widgets/base",
      "model_module_version": "1.2.0",
      "model_name": "LayoutModel",
      "state": {
       "display": "inline-flex",
       "flex_flow": "row wrap",
       "width": "100%"
      }
     },
     "8df74b111318405fbfb030811cca5857": {
      "model_module": "@jupyter-widgets/controls",
      "model_module_version": "1.5.0",
      "model_name": "DescriptionStyleModel",
      "state": {
       "description_width": ""
      }
     },
     "8e23aa12852543da8206ab61ac3f996c": {
      "model_module": "@jupyter-widgets/controls",
      "model_module_version": "1.5.0",
      "model_name": "ProgressStyleModel",
      "state": {
       "description_width": ""
      }
     },
     "8e36e20a3b0a4da799fa3128a4a06c33": {
      "model_module": "@jupyter-widgets/controls",
      "model_module_version": "1.5.0",
      "model_name": "HTMLModel",
      "state": {
       "layout": "IPY_MODEL_0a02a90236af43b78a7e1c30dc39ae55",
       "style": "IPY_MODEL_05d160c2e72043e495c20a22d3a1a47a",
       "value": " 8/8 [00:02&lt;00:00,  3.00it/s]"
      }
     },
     "8e40075a5dab4f01b4705959d437cceb": {
      "model_module": "@jupyter-widgets/controls",
      "model_module_version": "1.5.0",
      "model_name": "HTMLModel",
      "state": {
       "layout": "IPY_MODEL_d503ad52cdda4bb5a0c198e0e5968ab9",
       "style": "IPY_MODEL_90cd62f451bb4a3e9f0399f18745d2ec",
       "value": " 8/8 [00:03&lt;00:00,  2.41it/s]"
      }
     },
     "8e43d8eeede74502a6c6111ac1a67c5b": {
      "model_module": "@jupyter-widgets/controls",
      "model_module_version": "1.5.0",
      "model_name": "HTMLModel",
      "state": {
       "layout": "IPY_MODEL_8043775fdd034a34aba206036b05aa6b",
       "style": "IPY_MODEL_9dc1b3e79282404584223c26adda3461",
       "value": " 8/8 [00:04&lt;00:00,  1.66it/s]"
      }
     },
     "8e58be4b63324973b2e3cc67563418a5": {
      "model_module": "@jupyter-widgets/controls",
      "model_module_version": "1.5.0",
      "model_name": "DescriptionStyleModel",
      "state": {
       "description_width": ""
      }
     },
     "8e8e3157f06c47739e20c235712eec12": {
      "model_module": "@jupyter-widgets/controls",
      "model_module_version": "1.5.0",
      "model_name": "HTMLModel",
      "state": {
       "layout": "IPY_MODEL_1ca5966e3d4648a4b44b1b8bea6d53e2",
       "style": "IPY_MODEL_12fb527838a748b0be452fb8fbb7c32a",
       "value": "Validation DataLoader 0: 100%"
      }
     },
     "8eeda8dd0b9549eca4eadb75caffc6fa": {
      "model_module": "@jupyter-widgets/controls",
      "model_module_version": "1.5.0",
      "model_name": "HTMLModel",
      "state": {
       "layout": "IPY_MODEL_a130e11fc7834f6d94033ea050a7ffde",
       "style": "IPY_MODEL_7de8e223289b45119e248b72e0550d62",
       "value": "Validation DataLoader 0: 100%"
      }
     },
     "8ef72b582428417a984a2c0b3bb48c5e": {
      "model_module": "@jupyter-widgets/controls",
      "model_module_version": "1.5.0",
      "model_name": "ProgressStyleModel",
      "state": {
       "description_width": ""
      }
     },
     "8ef79eefc908488caf9a830e53b3f72b": {
      "model_module": "@jupyter-widgets/controls",
      "model_module_version": "1.5.0",
      "model_name": "HTMLModel",
      "state": {
       "layout": "IPY_MODEL_a37d4c9b05d149bf8f5b3f91c0075bda",
       "style": "IPY_MODEL_04373be660a5425bb82d8edac698c72d",
       "value": "Validation DataLoader 0: 100%"
      }
     },
     "8f27c499ab544f25b0334f5356626e0a": {
      "model_module": "@jupyter-widgets/base",
      "model_module_version": "1.2.0",
      "model_name": "LayoutModel",
      "state": {}
     },
     "8f34476921a04f53925b75e1c4e4ebc8": {
      "model_module": "@jupyter-widgets/base",
      "model_module_version": "1.2.0",
      "model_name": "LayoutModel",
      "state": {}
     },
     "8f6d7990f71a4ce997882b6cc896a600": {
      "model_module": "@jupyter-widgets/controls",
      "model_module_version": "1.5.0",
      "model_name": "DescriptionStyleModel",
      "state": {
       "description_width": ""
      }
     },
     "8f842d05a53a4753b79679d256cf67fc": {
      "model_module": "@jupyter-widgets/controls",
      "model_module_version": "1.5.0",
      "model_name": "FloatProgressModel",
      "state": {
       "layout": "IPY_MODEL_4cf313d237564baf9d92ca8bac459e3a",
       "max": 69,
       "style": "IPY_MODEL_291df6ebbe0e417f9d367743d2740be0",
       "value": 3
      }
     },
     "8fce57f3faf744759eaafa31831fddf5": {
      "model_module": "@jupyter-widgets/controls",
      "model_module_version": "1.5.0",
      "model_name": "HTMLModel",
      "state": {
       "layout": "IPY_MODEL_a433cc8db311426581e7f5f28ea222ad",
       "style": "IPY_MODEL_829f3091f75848aba813dba6c49359ad",
       "value": "Validation DataLoader 0: 100%"
      }
     },
     "8fd3657e7b884f3f91f1dafe609e7b2e": {
      "model_module": "@jupyter-widgets/controls",
      "model_module_version": "1.5.0",
      "model_name": "FloatProgressModel",
      "state": {
       "layout": "IPY_MODEL_0c6894bf55ff4253bf982786c914362b",
       "max": 8,
       "style": "IPY_MODEL_55a163746b1a4c7ea3ced2cf23a54f2e",
       "value": 8
      }
     },
     "903cbbcfbc8a4ef0aa9e774c7204d4b6": {
      "model_module": "@jupyter-widgets/controls",
      "model_module_version": "1.5.0",
      "model_name": "ProgressStyleModel",
      "state": {
       "description_width": ""
      }
     },
     "905491a0767f4ebeb31d866a1d48838a": {
      "model_module": "@jupyter-widgets/controls",
      "model_module_version": "1.5.0",
      "model_name": "HTMLModel",
      "state": {
       "layout": "IPY_MODEL_89f0c9b310314742be0ad78c3c85b829",
       "style": "IPY_MODEL_f4b597f9cd9748c9841539552850fe13",
       "value": "Validation DataLoader 0: 100%"
      }
     },
     "905c21c5173140f9b1253324dd6d2fc7": {
      "model_module": "@jupyter-widgets/base",
      "model_module_version": "1.2.0",
      "model_name": "LayoutModel",
      "state": {
       "flex": "2"
      }
     },
     "9092cb72a79341908dc2cd2759e872aa": {
      "model_module": "@jupyter-widgets/controls",
      "model_module_version": "1.5.0",
      "model_name": "HTMLModel",
      "state": {
       "layout": "IPY_MODEL_4c8a07247a9d490dbe076335f134bb25",
       "style": "IPY_MODEL_8b2df4fe21734997af1e5297830211e7",
       "value": " 8/8 [00:03&lt;00:00,  2.39it/s]"
      }
     },
     "909b7bf50d8543339bd6defdd23a354c": {
      "model_module": "@jupyter-widgets/controls",
      "model_module_version": "1.5.0",
      "model_name": "HTMLModel",
      "state": {
       "layout": "IPY_MODEL_ee2320d73af24e698329b0a92a34f0ac",
       "style": "IPY_MODEL_611769106b6643d987a3ddcc141ca929",
       "value": " 8/8 [00:03&lt;00:00,  2.07it/s]"
      }
     },
     "90cd62f451bb4a3e9f0399f18745d2ec": {
      "model_module": "@jupyter-widgets/controls",
      "model_module_version": "1.5.0",
      "model_name": "DescriptionStyleModel",
      "state": {
       "description_width": ""
      }
     },
     "90f1697c48704099a0aacf15aab46b24": {
      "model_module": "@jupyter-widgets/controls",
      "model_module_version": "1.5.0",
      "model_name": "HTMLModel",
      "state": {
       "layout": "IPY_MODEL_f1f81529e48d47928828d4f8c31d2c8b",
       "style": "IPY_MODEL_13496926abe741148fffb37ba3380f45",
       "value": " 8/8 [00:02&lt;00:00,  3.07it/s]"
      }
     },
     "91176440749948528d6fcc8e598931dc": {
      "model_module": "@jupyter-widgets/base",
      "model_module_version": "1.2.0",
      "model_name": "LayoutModel",
      "state": {
       "display": "inline-flex",
       "flex_flow": "row wrap",
       "width": "100%"
      }
     },
     "9125ffec269e4a9c9cf0a5b8b7026fa4": {
      "model_module": "@jupyter-widgets/controls",
      "model_module_version": "1.5.0",
      "model_name": "HTMLModel",
      "state": {
       "layout": "IPY_MODEL_3725ced5a9d5415fb4f172dbef7a6153",
       "style": "IPY_MODEL_c498e284b9b64db0bff4289903171f96",
       "value": " 8/8 [00:02&lt;00:00,  3.07it/s]"
      }
     },
     "913481daacc44ef5be24fc70ec3b5ade": {
      "model_module": "@jupyter-widgets/base",
      "model_module_version": "1.2.0",
      "model_name": "LayoutModel",
      "state": {}
     },
     "9156c5e5e5e04a7faccb26ed13fb8b09": {
      "model_module": "@jupyter-widgets/controls",
      "model_module_version": "1.5.0",
      "model_name": "FloatProgressModel",
      "state": {
       "layout": "IPY_MODEL_19135f23766647e985150078e1b41efb",
       "max": 8,
       "style": "IPY_MODEL_03d3bf0acc4b4553b6a78aecffd02361",
       "value": 8
      }
     },
     "9159aa399ab54cf0b1316b9c795dd301": {
      "model_module": "@jupyter-widgets/base",
      "model_module_version": "1.2.0",
      "model_name": "LayoutModel",
      "state": {}
     },
     "91a6b2a3d60a4a61b6b8026fb2952224": {
      "model_module": "@jupyter-widgets/base",
      "model_module_version": "1.2.0",
      "model_name": "LayoutModel",
      "state": {
       "display": "inline-flex",
       "flex_flow": "row wrap",
       "width": "100%"
      }
     },
     "91aaf8b57ca34101a9bfdeca52a68e7c": {
      "model_module": "@jupyter-widgets/base",
      "model_module_version": "1.2.0",
      "model_name": "LayoutModel",
      "state": {}
     },
     "920659700d8842a1a6153124311327f8": {
      "model_module": "@jupyter-widgets/controls",
      "model_module_version": "1.5.0",
      "model_name": "FloatProgressModel",
      "state": {
       "layout": "IPY_MODEL_fa85fab9d15240a095329ee8ef58d061",
       "max": 8,
       "style": "IPY_MODEL_b787013ae37f496d89bb4c6f8b9a98a1",
       "value": 8
      }
     },
     "92111d558a964364821f823b2c882fc3": {
      "model_module": "@jupyter-widgets/base",
      "model_module_version": "1.2.0",
      "model_name": "LayoutModel",
      "state": {
       "flex": "2"
      }
     },
     "9244f37f30cb4e90a638eb6e93a7516a": {
      "model_module": "@jupyter-widgets/base",
      "model_module_version": "1.2.0",
      "model_name": "LayoutModel",
      "state": {}
     },
     "92a1f9919e294bfcb9c914b508b20bfd": {
      "model_module": "@jupyter-widgets/controls",
      "model_module_version": "1.5.0",
      "model_name": "DescriptionStyleModel",
      "state": {
       "description_width": ""
      }
     },
     "92aed31a31e948369a4f078c26510369": {
      "model_module": "@jupyter-widgets/controls",
      "model_module_version": "1.5.0",
      "model_name": "DescriptionStyleModel",
      "state": {
       "description_width": ""
      }
     },
     "92bcc92d6e24451db966f464bf20ad5b": {
      "model_module": "@jupyter-widgets/controls",
      "model_module_version": "1.5.0",
      "model_name": "HTMLModel",
      "state": {
       "layout": "IPY_MODEL_6e0e0299693c44dabfa6b4aac00136e8",
       "style": "IPY_MODEL_0d729e5925fa437f9552d8e695610998",
       "value": " 8/8 [00:02&lt;00:00,  3.25it/s]"
      }
     },
     "92f20fdab0674e23aad0441a5b729cfe": {
      "model_module": "@jupyter-widgets/controls",
      "model_module_version": "1.5.0",
      "model_name": "HTMLModel",
      "state": {
       "layout": "IPY_MODEL_16379eb6fa254caca2dc86279559bd8e",
       "style": "IPY_MODEL_a040d4814c38419a9fc653f6010e3850",
       "value": " 8/8 [00:02&lt;00:00,  3.12it/s]"
      }
     },
     "92fe16fa01db46ad9c73559e85f91c63": {
      "model_module": "@jupyter-widgets/controls",
      "model_module_version": "1.5.0",
      "model_name": "DescriptionStyleModel",
      "state": {
       "description_width": ""
      }
     },
     "93089c9e00aa421599d588ea6da2eacc": {
      "model_module": "@jupyter-widgets/base",
      "model_module_version": "1.2.0",
      "model_name": "LayoutModel",
      "state": {
       "flex": "2"
      }
     },
     "931028a568e94312967cae752cf622fd": {
      "model_module": "@jupyter-widgets/base",
      "model_module_version": "1.2.0",
      "model_name": "LayoutModel",
      "state": {
       "flex": "2"
      }
     },
     "932a05b70a1e463eabae3857aa886101": {
      "model_module": "@jupyter-widgets/controls",
      "model_module_version": "1.5.0",
      "model_name": "HTMLModel",
      "state": {
       "layout": "IPY_MODEL_58f3acddc69941569d929b9b21d51ba4",
       "style": "IPY_MODEL_8ceacc1087dc4eb4b8bcfbfb4855b765",
       "value": " 2/2 [00:01&lt;00:00,  1.04it/s]"
      }
     },
     "9352b2951151410697be84bfad244ba0": {
      "model_module": "@jupyter-widgets/controls",
      "model_module_version": "1.5.0",
      "model_name": "DescriptionStyleModel",
      "state": {
       "description_width": ""
      }
     },
     "935a842c58e1427f9b2a40d04caf788a": {
      "model_module": "@jupyter-widgets/base",
      "model_module_version": "1.2.0",
      "model_name": "LayoutModel",
      "state": {
       "display": "inline-flex",
       "flex_flow": "row wrap",
       "width": "100%"
      }
     },
     "935be15a5fc547c7b0bb2d8af174e2c3": {
      "model_module": "@jupyter-widgets/base",
      "model_module_version": "1.2.0",
      "model_name": "LayoutModel",
      "state": {
       "display": "inline-flex",
       "flex_flow": "row wrap",
       "width": "100%"
      }
     },
     "9395398befac48d792198db3fbfce070": {
      "model_module": "@jupyter-widgets/base",
      "model_module_version": "1.2.0",
      "model_name": "LayoutModel",
      "state": {
       "flex": "2"
      }
     },
     "939cbb48ea4840daad2cd10d16bb5e7b": {
      "model_module": "@jupyter-widgets/controls",
      "model_module_version": "1.5.0",
      "model_name": "HTMLModel",
      "state": {
       "layout": "IPY_MODEL_f8fb648c5da543b5ab07604b6e7f586c",
       "style": "IPY_MODEL_279561813710401c9d2179154e66dbc9",
       "value": " 8/8 [00:03&lt;00:00,  2.50it/s]"
      }
     },
     "93af8eeac8e94aa9b5736d9c3d966bad": {
      "model_module": "@jupyter-widgets/base",
      "model_module_version": "1.2.0",
      "model_name": "LayoutModel",
      "state": {}
     },
     "93bcc233b9dd498f9e50d8b77f1668a7": {
      "model_module": "@jupyter-widgets/controls",
      "model_module_version": "1.5.0",
      "model_name": "FloatProgressModel",
      "state": {
       "layout": "IPY_MODEL_0d52c160dd6941d1b3fb2de70fb72fa6",
       "max": 8,
       "style": "IPY_MODEL_01d0eb66c5b545e5b6d233e201a1597c",
       "value": 8
      }
     },
     "93d64390fbe544e5aefcbbd026fa3796": {
      "model_module": "@jupyter-widgets/controls",
      "model_module_version": "1.5.0",
      "model_name": "DescriptionStyleModel",
      "state": {
       "description_width": ""
      }
     },
     "9404cef123b14adcafe02ab5572f7d1e": {
      "model_module": "@jupyter-widgets/controls",
      "model_module_version": "1.5.0",
      "model_name": "ProgressStyleModel",
      "state": {
       "description_width": ""
      }
     },
     "943e688a27da45ff81f0d5bb0b390701": {
      "model_module": "@jupyter-widgets/base",
      "model_module_version": "1.2.0",
      "model_name": "LayoutModel",
      "state": {
       "display": "inline-flex",
       "flex_flow": "row wrap",
       "width": "100%"
      }
     },
     "949cc99d80ee4129b62b1101e0e08dc6": {
      "model_module": "@jupyter-widgets/controls",
      "model_module_version": "1.5.0",
      "model_name": "HTMLModel",
      "state": {
       "layout": "IPY_MODEL_6ad10ea89c344eee81637408f23112b4",
       "style": "IPY_MODEL_e0703d7c575d484d89667669336065ff",
       "value": " 8/8 [00:02&lt;00:00,  2.81it/s]"
      }
     },
     "94bd3b76a37341588783b1f785cce730": {
      "model_module": "@jupyter-widgets/controls",
      "model_module_version": "1.5.0",
      "model_name": "DescriptionStyleModel",
      "state": {
       "description_width": ""
      }
     },
     "94db60141f744469a12f3847a274b869": {
      "model_module": "@jupyter-widgets/base",
      "model_module_version": "1.2.0",
      "model_name": "LayoutModel",
      "state": {}
     },
     "94f5270d78874c95a3b95d317e385f4e": {
      "model_module": "@jupyter-widgets/controls",
      "model_module_version": "1.5.0",
      "model_name": "HTMLModel",
      "state": {
       "layout": "IPY_MODEL_28d94ed95d3c4622a0a5fec8f98ca88c",
       "style": "IPY_MODEL_e0140905f77249dfa6965a84aa1de422",
       "value": "Validation DataLoader 0: 100%"
      }
     },
     "9525d3a46bf84dedaf335b1ae381aa5e": {
      "model_module": "@jupyter-widgets/base",
      "model_module_version": "1.2.0",
      "model_name": "LayoutModel",
      "state": {}
     },
     "952a7e46e2a74d58b4e56f1ff03b21f7": {
      "model_module": "@jupyter-widgets/controls",
      "model_module_version": "1.5.0",
      "model_name": "HTMLModel",
      "state": {
       "layout": "IPY_MODEL_9159aa399ab54cf0b1316b9c795dd301",
       "style": "IPY_MODEL_c094b82a70644307ad2676e236bb3fd2",
       "value": "Validation DataLoader 0: 100%"
      }
     },
     "95752d9aa75349ef983d93efcd3a5016": {
      "model_module": "@jupyter-widgets/controls",
      "model_module_version": "1.5.0",
      "model_name": "FloatProgressModel",
      "state": {
       "layout": "IPY_MODEL_f9e58a9db4c143418d00fd63f0da4d20",
       "max": 8,
       "style": "IPY_MODEL_d3663145e7c34df99e2b90204af54da8",
       "value": 8
      }
     },
     "9575325dbd8c45629af14c80ed1597b6": {
      "model_module": "@jupyter-widgets/controls",
      "model_module_version": "1.5.0",
      "model_name": "DescriptionStyleModel",
      "state": {
       "description_width": ""
      }
     },
     "958fa7ade0f94f6cb32808885c77b318": {
      "model_module": "@jupyter-widgets/base",
      "model_module_version": "1.2.0",
      "model_name": "LayoutModel",
      "state": {
       "display": "inline-flex",
       "flex_flow": "row wrap",
       "width": "100%"
      }
     },
     "95ae638846e34e0888b4d213753341ea": {
      "model_module": "@jupyter-widgets/controls",
      "model_module_version": "1.5.0",
      "model_name": "ProgressStyleModel",
      "state": {
       "description_width": ""
      }
     },
     "95b71f605e09407a87d6c94ee25025aa": {
      "model_module": "@jupyter-widgets/controls",
      "model_module_version": "1.5.0",
      "model_name": "DescriptionStyleModel",
      "state": {
       "description_width": ""
      }
     },
     "95b7968c3ef34b7aa25a5bec24d278c5": {
      "model_module": "@jupyter-widgets/controls",
      "model_module_version": "1.5.0",
      "model_name": "HTMLModel",
      "state": {
       "layout": "IPY_MODEL_29dea187b58c4b00a47f0e57af62e921",
       "style": "IPY_MODEL_f09417b4bcff4ead8e98275c0f000fe7",
       "value": "Validation DataLoader 0: 100%"
      }
     },
     "95b91418655446eb986752429a92b976": {
      "model_module": "@jupyter-widgets/base",
      "model_module_version": "1.2.0",
      "model_name": "LayoutModel",
      "state": {
       "display": "inline-flex",
       "flex_flow": "row wrap",
       "width": "100%"
      }
     },
     "95b922c6cdab45c6bc190747eeb431eb": {
      "model_module": "@jupyter-widgets/base",
      "model_module_version": "1.2.0",
      "model_name": "LayoutModel",
      "state": {}
     },
     "95d5fdaf49c049668c49446176ced601": {
      "model_module": "@jupyter-widgets/controls",
      "model_module_version": "1.5.0",
      "model_name": "FloatProgressModel",
      "state": {
       "layout": "IPY_MODEL_0573f167271440a2becc0a339e2e01f2",
       "max": 2,
       "style": "IPY_MODEL_20c7c109ae224356af715416e3e7986b",
       "value": 2
      }
     },
     "95e3b42bb1f64eec8980828ca4411d80": {
      "model_module": "@jupyter-widgets/base",
      "model_module_version": "1.2.0",
      "model_name": "LayoutModel",
      "state": {}
     },
     "95f02761c9f94e5b98435530f096705c": {
      "model_module": "@jupyter-widgets/base",
      "model_module_version": "1.2.0",
      "model_name": "LayoutModel",
      "state": {}
     },
     "95f2f206709941f7b980a329e04a3a9e": {
      "model_module": "@jupyter-widgets/base",
      "model_module_version": "1.2.0",
      "model_name": "LayoutModel",
      "state": {
       "flex": "2"
      }
     },
     "963ad2d2400047d8ba8333c7e41560e2": {
      "model_module": "@jupyter-widgets/base",
      "model_module_version": "1.2.0",
      "model_name": "LayoutModel",
      "state": {
       "display": "inline-flex",
       "flex_flow": "row wrap",
       "width": "100%"
      }
     },
     "9656be218b374c43834207ddc209f045": {
      "model_module": "@jupyter-widgets/controls",
      "model_module_version": "1.5.0",
      "model_name": "DescriptionStyleModel",
      "state": {
       "description_width": ""
      }
     },
     "965a036687f74ed39fbb6f55e7c9f51b": {
      "model_module": "@jupyter-widgets/controls",
      "model_module_version": "1.5.0",
      "model_name": "FloatProgressModel",
      "state": {
       "layout": "IPY_MODEL_4a84c92dd3fe40dca426cceeba52d7f8",
       "max": 8,
       "style": "IPY_MODEL_3d0adaa4aff4428792e1f7b9a4d57834",
       "value": 8
      }
     },
     "965a14a7a8554f43891a72eb4e04f687": {
      "model_module": "@jupyter-widgets/base",
      "model_module_version": "1.2.0",
      "model_name": "LayoutModel",
      "state": {
       "display": "inline-flex",
       "flex_flow": "row wrap",
       "width": "100%"
      }
     },
     "966fc898538b46be82f3b120a2d14427": {
      "model_module": "@jupyter-widgets/controls",
      "model_module_version": "1.5.0",
      "model_name": "DescriptionStyleModel",
      "state": {
       "description_width": ""
      }
     },
     "96a82eb91ab04e4487170503e09127bb": {
      "model_module": "@jupyter-widgets/controls",
      "model_module_version": "1.5.0",
      "model_name": "DescriptionStyleModel",
      "state": {
       "description_width": ""
      }
     },
     "96af815bbd1d41a7bc740e01eb1a279e": {
      "model_module": "@jupyter-widgets/controls",
      "model_module_version": "1.5.0",
      "model_name": "DescriptionStyleModel",
      "state": {
       "description_width": ""
      }
     },
     "96d2f561268c4c159fc2f5a00b032da0": {
      "model_module": "@jupyter-widgets/controls",
      "model_module_version": "1.5.0",
      "model_name": "FloatProgressModel",
      "state": {
       "layout": "IPY_MODEL_5642a4661c1c48c893f6b6af52476aaf",
       "max": 8,
       "style": "IPY_MODEL_34bc67ce1c6b4316a27e77822711e13c",
       "value": 8
      }
     },
     "970526369c654efb89b1ef69563063f9": {
      "model_module": "@jupyter-widgets/controls",
      "model_module_version": "1.5.0",
      "model_name": "FloatProgressModel",
      "state": {
       "layout": "IPY_MODEL_3275c0045d6c4f798e48ef647788a748",
       "max": 8,
       "style": "IPY_MODEL_0446d1d79c964aeab92f86d0c8343586",
       "value": 8
      }
     },
     "97058951803c4b139e5a259fe5d6336c": {
      "model_module": "@jupyter-widgets/base",
      "model_module_version": "1.2.0",
      "model_name": "LayoutModel",
      "state": {
       "flex": "2"
      }
     },
     "970a9e3377ee4093b55c6468bc532df5": {
      "model_module": "@jupyter-widgets/controls",
      "model_module_version": "1.5.0",
      "model_name": "FloatProgressModel",
      "state": {
       "layout": "IPY_MODEL_27595734f55a41ac942a043d7827414c",
       "max": 8,
       "style": "IPY_MODEL_25a21af70cd24211b481776379d53a03",
       "value": 8
      }
     },
     "971e35278f6b44b6a530c38f8a5b12bf": {
      "model_module": "@jupyter-widgets/base",
      "model_module_version": "1.2.0",
      "model_name": "LayoutModel",
      "state": {
       "display": "inline-flex",
       "flex_flow": "row wrap",
       "width": "100%"
      }
     },
     "97313811e0fd43a99668ce057efe52ad": {
      "model_module": "@jupyter-widgets/controls",
      "model_module_version": "1.5.0",
      "model_name": "HTMLModel",
      "state": {
       "layout": "IPY_MODEL_876b49433b4d4dfda672ecefa0f840ed",
       "style": "IPY_MODEL_74090ac853e84eaf934b1b6e946ad106",
       "value": " 8/8 [00:02&lt;00:00,  3.14it/s]"
      }
     },
     "975d6d6ec65a466ab28759a7fc2a827f": {
      "model_module": "@jupyter-widgets/base",
      "model_module_version": "1.2.0",
      "model_name": "LayoutModel",
      "state": {}
     },
     "9767a727833f457c89fdbf2510893f4e": {
      "model_module": "@jupyter-widgets/base",
      "model_module_version": "1.2.0",
      "model_name": "LayoutModel",
      "state": {}
     },
     "977f1ec6ff1c45669578f4ff5e2afb68": {
      "model_module": "@jupyter-widgets/controls",
      "model_module_version": "1.5.0",
      "model_name": "ProgressStyleModel",
      "state": {
       "description_width": ""
      }
     },
     "97b6cc9a69cc4fe2ba4d19a046c7e7c0": {
      "model_module": "@jupyter-widgets/controls",
      "model_module_version": "1.5.0",
      "model_name": "FloatProgressModel",
      "state": {
       "layout": "IPY_MODEL_e8fc4097d1cb4e1797c1ea5cac43b4b4",
       "max": 2,
       "style": "IPY_MODEL_4df03dc2a8f64b59b2522505cc597925",
       "value": 2
      }
     },
     "97edba0e5a24430aa5a17ad0534a7ec5": {
      "model_module": "@jupyter-widgets/controls",
      "model_module_version": "1.5.0",
      "model_name": "DescriptionStyleModel",
      "state": {
       "description_width": ""
      }
     },
     "980aa3d359194c17b60870d53d3327e4": {
      "model_module": "@jupyter-widgets/controls",
      "model_module_version": "1.5.0",
      "model_name": "FloatProgressModel",
      "state": {
       "layout": "IPY_MODEL_bd01dc8145904416ac92a6c05b48ec79",
       "max": 8,
       "style": "IPY_MODEL_41bb083593d6463aa3f1e9a8486886e8",
       "value": 8
      }
     },
     "983c081788c64673ba03bc884927bf00": {
      "model_module": "@jupyter-widgets/base",
      "model_module_version": "1.2.0",
      "model_name": "LayoutModel",
      "state": {}
     },
     "985cb0d7011340398e5765065aefe5f2": {
      "model_module": "@jupyter-widgets/base",
      "model_module_version": "1.2.0",
      "model_name": "LayoutModel",
      "state": {
       "display": "inline-flex",
       "flex_flow": "row wrap",
       "width": "100%"
      }
     },
     "985f9ef549ec4a1f99dc935bced906ac": {
      "model_module": "@jupyter-widgets/controls",
      "model_module_version": "1.5.0",
      "model_name": "HTMLModel",
      "state": {
       "layout": "IPY_MODEL_b8f43baca24444b49b7952b8f834a230",
       "style": "IPY_MODEL_96af815bbd1d41a7bc740e01eb1a279e",
       "value": " 2/2 [00:01&lt;00:00,  1.69it/s]"
      }
     },
     "9860ae7c7402403bad13ebe72781c6f3": {
      "model_module": "@jupyter-widgets/controls",
      "model_module_version": "1.5.0",
      "model_name": "ProgressStyleModel",
      "state": {
       "description_width": ""
      }
     },
     "98b6abd14c3b4e39b6a4fe3970087f3f": {
      "model_module": "@jupyter-widgets/controls",
      "model_module_version": "1.5.0",
      "model_name": "DescriptionStyleModel",
      "state": {
       "description_width": ""
      }
     },
     "98dced0ef51148f8ad77fb69a8b71213": {
      "model_module": "@jupyter-widgets/controls",
      "model_module_version": "1.5.0",
      "model_name": "DescriptionStyleModel",
      "state": {
       "description_width": ""
      }
     },
     "98e80ebc85c14fe3b43904f907bf0549": {
      "model_module": "@jupyter-widgets/controls",
      "model_module_version": "1.5.0",
      "model_name": "DescriptionStyleModel",
      "state": {
       "description_width": ""
      }
     },
     "990b0f028ee7499fab9284d767ecb31c": {
      "model_module": "@jupyter-widgets/controls",
      "model_module_version": "1.5.0",
      "model_name": "FloatProgressModel",
      "state": {
       "layout": "IPY_MODEL_af45a9394fad4aa3953c083ee96419b3",
       "max": 8,
       "style": "IPY_MODEL_4bf689a337aa4a1db88a232519dff429",
       "value": 8
      }
     },
     "991617baabaf4ab5b7d4c2eac985b97b": {
      "model_module": "@jupyter-widgets/controls",
      "model_module_version": "1.5.0",
      "model_name": "HTMLModel",
      "state": {
       "layout": "IPY_MODEL_b0c7e8dd29874aebb1239374344279fd",
       "style": "IPY_MODEL_ee90ebc58f814becbd5a064456204155",
       "value": " 8/8 [00:02&lt;00:00,  3.09it/s]"
      }
     },
     "9948544d9d2b429dbebcc49dfb39eb23": {
      "model_module": "@jupyter-widgets/base",
      "model_module_version": "1.2.0",
      "model_name": "LayoutModel",
      "state": {
       "flex": "2"
      }
     },
     "994b9953bcaa401aaed8cff9398ca822": {
      "model_module": "@jupyter-widgets/controls",
      "model_module_version": "1.5.0",
      "model_name": "DescriptionStyleModel",
      "state": {
       "description_width": ""
      }
     },
     "999a4aca528c4d51b28a45324f06ea00": {
      "model_module": "@jupyter-widgets/controls",
      "model_module_version": "1.5.0",
      "model_name": "DescriptionStyleModel",
      "state": {
       "description_width": ""
      }
     },
     "99a691d299864b6984d35d536de7053b": {
      "model_module": "@jupyter-widgets/controls",
      "model_module_version": "1.5.0",
      "model_name": "FloatProgressModel",
      "state": {
       "layout": "IPY_MODEL_bbcfa6732bf14f3ba938a05bd5d94814",
       "max": 8,
       "style": "IPY_MODEL_ab48ea39a7444e0ea22c4349bf03096a",
       "value": 8
      }
     },
     "99bd4729737942d98c44eba47900f3ec": {
      "model_module": "@jupyter-widgets/base",
      "model_module_version": "1.2.0",
      "model_name": "LayoutModel",
      "state": {}
     },
     "99e25520fd5348dfb0f3eab77881f0d9": {
      "model_module": "@jupyter-widgets/controls",
      "model_module_version": "1.5.0",
      "model_name": "ProgressStyleModel",
      "state": {
       "description_width": ""
      }
     },
     "99fb503baf42468d8cbd6062fb4700d6": {
      "model_module": "@jupyter-widgets/base",
      "model_module_version": "1.2.0",
      "model_name": "LayoutModel",
      "state": {}
     },
     "9a12f528286a480c817f3a30c98c48bf": {
      "model_module": "@jupyter-widgets/controls",
      "model_module_version": "1.5.0",
      "model_name": "DescriptionStyleModel",
      "state": {
       "description_width": ""
      }
     },
     "9a16fe66c554456a84a6c225dc4f31f3": {
      "model_module": "@jupyter-widgets/controls",
      "model_module_version": "1.5.0",
      "model_name": "DescriptionStyleModel",
      "state": {
       "description_width": ""
      }
     },
     "9a2ef8d9f1644b8fb6bb0ce7196c31cc": {
      "model_module": "@jupyter-widgets/controls",
      "model_module_version": "1.5.0",
      "model_name": "ProgressStyleModel",
      "state": {
       "description_width": ""
      }
     },
     "9ac872f00a45496893759e585a0de358": {
      "model_module": "@jupyter-widgets/controls",
      "model_module_version": "1.5.0",
      "model_name": "DescriptionStyleModel",
      "state": {
       "description_width": ""
      }
     },
     "9ad94eea39264878a31c4445b6dd4dbc": {
      "model_module": "@jupyter-widgets/base",
      "model_module_version": "1.2.0",
      "model_name": "LayoutModel",
      "state": {
       "display": "inline-flex",
       "flex_flow": "row wrap",
       "width": "100%"
      }
     },
     "9afc4f11b434455489c604ee3051b080": {
      "model_module": "@jupyter-widgets/base",
      "model_module_version": "1.2.0",
      "model_name": "LayoutModel",
      "state": {
       "flex": "2"
      }
     },
     "9b129451a58b4952a71f2ba1717c83de": {
      "model_module": "@jupyter-widgets/controls",
      "model_module_version": "1.5.0",
      "model_name": "FloatProgressModel",
      "state": {
       "layout": "IPY_MODEL_889e478e1be8444282b2cce4f0a49e5c",
       "max": 69,
       "style": "IPY_MODEL_780a0ef72a87427b8e4171b4076f82cb",
       "value": 41
      }
     },
     "9b12a7843982495799811546b0d3c8d8": {
      "model_module": "@jupyter-widgets/controls",
      "model_module_version": "1.5.0",
      "model_name": "ProgressStyleModel",
      "state": {
       "description_width": ""
      }
     },
     "9b167eef0044485fa76cceea53d4aedf": {
      "model_module": "@jupyter-widgets/base",
      "model_module_version": "1.2.0",
      "model_name": "LayoutModel",
      "state": {
       "display": "inline-flex",
       "flex_flow": "row wrap",
       "width": "100%"
      }
     },
     "9b55581cf1ba4af5895cc5b9af840b42": {
      "model_module": "@jupyter-widgets/controls",
      "model_module_version": "1.5.0",
      "model_name": "HTMLModel",
      "state": {
       "layout": "IPY_MODEL_9d2fb722964e41408d60390de9b9298e",
       "style": "IPY_MODEL_c5807d7a42e8431fa0349ec414bf8638",
       "value": " 2/2 [00:01&lt;00:00,  1.85it/s]"
      }
     },
     "9b57de9c8ad94e1dbfd669cbdc64c439": {
      "model_module": "@jupyter-widgets/controls",
      "model_module_version": "1.5.0",
      "model_name": "DescriptionStyleModel",
      "state": {
       "description_width": ""
      }
     },
     "9b691b21e1344798938020532c8a07a0": {
      "model_module": "@jupyter-widgets/controls",
      "model_module_version": "1.5.0",
      "model_name": "DescriptionStyleModel",
      "state": {
       "description_width": ""
      }
     },
     "9b72ea372ec44e1cb358995187696db5": {
      "model_module": "@jupyter-widgets/controls",
      "model_module_version": "1.5.0",
      "model_name": "DescriptionStyleModel",
      "state": {
       "description_width": ""
      }
     },
     "9b7666f150e34f678a6055cdf23ab4ea": {
      "model_module": "@jupyter-widgets/controls",
      "model_module_version": "1.5.0",
      "model_name": "HTMLModel",
      "state": {
       "layout": "IPY_MODEL_aa90ea16e8ef4274a2a7e66bf5ba689b",
       "style": "IPY_MODEL_3cc5cad39dfa48558281118becf20a58",
       "value": " 8/8 [00:02&lt;00:00,  2.77it/s]"
      }
     },
     "9b9655a2d55445fe8181dda37612418d": {
      "model_module": "@jupyter-widgets/controls",
      "model_module_version": "1.5.0",
      "model_name": "HTMLModel",
      "state": {
       "layout": "IPY_MODEL_fa50d89de94c41eb95298bd96c7bde1d",
       "style": "IPY_MODEL_5a59bd96719f4e5092120901a655931f",
       "value": "Sanity Checking DataLoader 0: 100%"
      }
     },
     "9bb6338033324591b3750e7851882cbd": {
      "model_module": "@jupyter-widgets/base",
      "model_module_version": "1.2.0",
      "model_name": "LayoutModel",
      "state": {
       "flex": "2"
      }
     },
     "9bdcb594d177404cbbf915cd714d9d5b": {
      "model_module": "@jupyter-widgets/controls",
      "model_module_version": "1.5.0",
      "model_name": "DescriptionStyleModel",
      "state": {
       "description_width": ""
      }
     },
     "9bef6f1633054b00923fcbe6db43bcba": {
      "model_module": "@jupyter-widgets/controls",
      "model_module_version": "1.5.0",
      "model_name": "DescriptionStyleModel",
      "state": {
       "description_width": ""
      }
     },
     "9bf77e8595744d678cac6c96493fb46b": {
      "model_module": "@jupyter-widgets/controls",
      "model_module_version": "1.5.0",
      "model_name": "FloatProgressModel",
      "state": {
       "layout": "IPY_MODEL_e5ff044a36cd4ea9b1133dd01f8df742",
       "max": 69,
       "style": "IPY_MODEL_0849b4a39ad94fa182ebf71011d1b190",
       "value": 16
      }
     },
     "9c202d5524244ab1b6a4511cb20be663": {
      "model_module": "@jupyter-widgets/controls",
      "model_module_version": "1.5.0",
      "model_name": "ProgressStyleModel",
      "state": {
       "description_width": ""
      }
     },
     "9c71dfef47254314badbcd3abb77885c": {
      "model_module": "@jupyter-widgets/controls",
      "model_module_version": "1.5.0",
      "model_name": "DescriptionStyleModel",
      "state": {
       "description_width": ""
      }
     },
     "9c71f5c5c1a443e1bd94b72c2bf38fc9": {
      "model_module": "@jupyter-widgets/controls",
      "model_module_version": "1.5.0",
      "model_name": "FloatProgressModel",
      "state": {
       "layout": "IPY_MODEL_0a661120027f4b17bc693d95c2d8c3c7",
       "max": 2,
       "style": "IPY_MODEL_2c069a7cbdb34d9598e070ea85160d2f",
       "value": 2
      }
     },
     "9c72ac477c2d4f0e913596adc6554244": {
      "model_module": "@jupyter-widgets/controls",
      "model_module_version": "1.5.0",
      "model_name": "DescriptionStyleModel",
      "state": {
       "description_width": ""
      }
     },
     "9c8d44ee12374020b9cff0baba313ae8": {
      "model_module": "@jupyter-widgets/controls",
      "model_module_version": "1.5.0",
      "model_name": "DescriptionStyleModel",
      "state": {
       "description_width": ""
      }
     },
     "9c96a9dd209a40929007ae198f9e8c32": {
      "model_module": "@jupyter-widgets/controls",
      "model_module_version": "1.5.0",
      "model_name": "ProgressStyleModel",
      "state": {
       "description_width": ""
      }
     },
     "9ca64ae5327249e0a7e7a5a89d14fefc": {
      "model_module": "@jupyter-widgets/controls",
      "model_module_version": "1.5.0",
      "model_name": "HTMLModel",
      "state": {
       "layout": "IPY_MODEL_55882938bb2f42808a72f08f6548f170",
       "style": "IPY_MODEL_22491a4b546d4135bde44c1952d3c22f",
       "value": " 8/8 [00:03&lt;00:00,  2.61it/s]"
      }
     },
     "9cf25ab195ac477896372bb69074b22a": {
      "model_module": "@jupyter-widgets/controls",
      "model_module_version": "1.5.0",
      "model_name": "DescriptionStyleModel",
      "state": {
       "description_width": ""
      }
     },
     "9cfd4c52c149417780c8e517fd709aba": {
      "model_module": "@jupyter-widgets/controls",
      "model_module_version": "1.5.0",
      "model_name": "DescriptionStyleModel",
      "state": {
       "description_width": ""
      }
     },
     "9d0cbe27459a4d7987d8064cbd581a41": {
      "model_module": "@jupyter-widgets/base",
      "model_module_version": "1.2.0",
      "model_name": "LayoutModel",
      "state": {}
     },
     "9d15fc48e7fe4ffca6b61fc3d128a560": {
      "model_module": "@jupyter-widgets/base",
      "model_module_version": "1.2.0",
      "model_name": "LayoutModel",
      "state": {}
     },
     "9d1b816c0e274cf089613d0f8f9e84f7": {
      "model_module": "@jupyter-widgets/base",
      "model_module_version": "1.2.0",
      "model_name": "LayoutModel",
      "state": {}
     },
     "9d2fb722964e41408d60390de9b9298e": {
      "model_module": "@jupyter-widgets/base",
      "model_module_version": "1.2.0",
      "model_name": "LayoutModel",
      "state": {}
     },
     "9d34d97f3596498e9c80b32b510d8947": {
      "model_module": "@jupyter-widgets/base",
      "model_module_version": "1.2.0",
      "model_name": "LayoutModel",
      "state": {
       "flex": "2"
      }
     },
     "9d6c43a250684926ad59bce09424c1ab": {
      "model_module": "@jupyter-widgets/controls",
      "model_module_version": "1.5.0",
      "model_name": "DescriptionStyleModel",
      "state": {
       "description_width": ""
      }
     },
     "9d9b085f8e33471d845bf67723d51ddd": {
      "model_module": "@jupyter-widgets/base",
      "model_module_version": "1.2.0",
      "model_name": "LayoutModel",
      "state": {}
     },
     "9daef24f684e454399f374c715740327": {
      "model_module": "@jupyter-widgets/controls",
      "model_module_version": "1.5.0",
      "model_name": "DescriptionStyleModel",
      "state": {
       "description_width": ""
      }
     },
     "9dc1b3e79282404584223c26adda3461": {
      "model_module": "@jupyter-widgets/controls",
      "model_module_version": "1.5.0",
      "model_name": "DescriptionStyleModel",
      "state": {
       "description_width": ""
      }
     },
     "9dcc23afcaa94e6c9fd08ac213d7b3ac": {
      "model_module": "@jupyter-widgets/controls",
      "model_module_version": "1.5.0",
      "model_name": "FloatProgressModel",
      "state": {
       "layout": "IPY_MODEL_4ff4a554e2bf45738308ce190b218062",
       "max": 8,
       "style": "IPY_MODEL_52d7b3e6779d4e85ae485fb0c76b0d50",
       "value": 8
      }
     },
     "9dd14bb0274a4cb994e1975a3408dc51": {
      "model_module": "@jupyter-widgets/controls",
      "model_module_version": "1.5.0",
      "model_name": "ProgressStyleModel",
      "state": {
       "description_width": ""
      }
     },
     "9de4f7ef6b7e4c5fa60aa5e50709b552": {
      "model_module": "@jupyter-widgets/base",
      "model_module_version": "1.2.0",
      "model_name": "LayoutModel",
      "state": {}
     },
     "9dfa055a2d284466a963d4a230786265": {
      "model_module": "@jupyter-widgets/base",
      "model_module_version": "1.2.0",
      "model_name": "LayoutModel",
      "state": {}
     },
     "9e04b28f05ba41208096eb66704a24e3": {
      "model_module": "@jupyter-widgets/controls",
      "model_module_version": "1.5.0",
      "model_name": "HTMLModel",
      "state": {
       "layout": "IPY_MODEL_a5ae8ff3e48e4b5dbd3117450ae438a4",
       "style": "IPY_MODEL_21497cfb70084b04929190d8e8f6edde",
       "value": " 8/8 [00:05&lt;00:00,  1.37it/s]"
      }
     },
     "9e1a0e634c08490c88793297d98eb24c": {
      "model_module": "@jupyter-widgets/controls",
      "model_module_version": "1.5.0",
      "model_name": "ProgressStyleModel",
      "state": {
       "description_width": ""
      }
     },
     "9e610663e42242ae972c795727b81a0c": {
      "model_module": "@jupyter-widgets/controls",
      "model_module_version": "1.5.0",
      "model_name": "DescriptionStyleModel",
      "state": {
       "description_width": ""
      }
     },
     "9e76e88b1f2144b1b3671ef175345a6b": {
      "model_module": "@jupyter-widgets/controls",
      "model_module_version": "1.5.0",
      "model_name": "HTMLModel",
      "state": {
       "layout": "IPY_MODEL_2d7989e6452e448b9c885a0dc5e17fea",
       "style": "IPY_MODEL_83b407ff99b946fdb66467bc2dc20365",
       "value": "Validation DataLoader 0: 100%"
      }
     },
     "9e7c63ef02b84f258dd75841104235f3": {
      "model_module": "@jupyter-widgets/controls",
      "model_module_version": "1.5.0",
      "model_name": "HTMLModel",
      "state": {
       "layout": "IPY_MODEL_9d9b085f8e33471d845bf67723d51ddd",
       "style": "IPY_MODEL_fd8bad90995442758688323bb054bbcd",
       "value": "Predicting DataLoader 0: 100%"
      }
     },
     "9ed28b3172d0419aa787cad48aae5363": {
      "model_module": "@jupyter-widgets/base",
      "model_module_version": "1.2.0",
      "model_name": "LayoutModel",
      "state": {
       "display": "inline-flex",
       "flex_flow": "row wrap",
       "width": "100%"
      }
     },
     "9ee305677b454bacad7e085dc33c10ca": {
      "model_module": "@jupyter-widgets/controls",
      "model_module_version": "1.5.0",
      "model_name": "ProgressStyleModel",
      "state": {
       "description_width": ""
      }
     },
     "9f02480e4f2d485d9e9ee1aaf57b340e": {
      "model_module": "@jupyter-widgets/base",
      "model_module_version": "1.2.0",
      "model_name": "LayoutModel",
      "state": {
       "display": "inline-flex",
       "flex_flow": "row wrap",
       "width": "100%"
      }
     },
     "9f5805dfb5604709b709d2d4e8dfb952": {
      "model_module": "@jupyter-widgets/base",
      "model_module_version": "1.2.0",
      "model_name": "LayoutModel",
      "state": {}
     },
     "9f7d9ba989f14708bac3ef52a780a356": {
      "model_module": "@jupyter-widgets/controls",
      "model_module_version": "1.5.0",
      "model_name": "FloatProgressModel",
      "state": {
       "layout": "IPY_MODEL_24281c88200b4e60980f88f5aa6f4eb9",
       "max": 8,
       "style": "IPY_MODEL_41f8f3eb7f83446fa1fad2909cd9f1a5",
       "value": 8
      }
     },
     "9fb425926dc04e2abf7e60afb47b4db0": {
      "model_module": "@jupyter-widgets/controls",
      "model_module_version": "1.5.0",
      "model_name": "ProgressStyleModel",
      "state": {
       "description_width": ""
      }
     },
     "9fc95c898da34aa7a33d386a65b8734d": {
      "model_module": "@jupyter-widgets/base",
      "model_module_version": "1.2.0",
      "model_name": "LayoutModel",
      "state": {}
     },
     "9fd25c77729241bb8676a7300f39dfe8": {
      "model_module": "@jupyter-widgets/base",
      "model_module_version": "1.2.0",
      "model_name": "LayoutModel",
      "state": {
       "display": "inline-flex",
       "flex_flow": "row wrap",
       "width": "100%"
      }
     },
     "9fd39ddd46b947e382ec715bc0e94f9e": {
      "model_module": "@jupyter-widgets/base",
      "model_module_version": "1.2.0",
      "model_name": "LayoutModel",
      "state": {}
     },
     "9fd989c304614e4e86babd99362780c5": {
      "model_module": "@jupyter-widgets/base",
      "model_module_version": "1.2.0",
      "model_name": "LayoutModel",
      "state": {}
     },
     "a02452ca654e4d3fa86ecc355a783cad": {
      "model_module": "@jupyter-widgets/controls",
      "model_module_version": "1.5.0",
      "model_name": "DescriptionStyleModel",
      "state": {
       "description_width": ""
      }
     },
     "a027a0738cd949969e5d636613450512": {
      "model_module": "@jupyter-widgets/controls",
      "model_module_version": "1.5.0",
      "model_name": "HTMLModel",
      "state": {
       "layout": "IPY_MODEL_3f7b7c24083a4892bc4778bce531bfaa",
       "style": "IPY_MODEL_513919218a1e408d8b88b64f770bf1e4",
       "value": " 8/8 [00:03&lt;00:00,  2.34it/s]"
      }
     },
     "a040d4814c38419a9fc653f6010e3850": {
      "model_module": "@jupyter-widgets/controls",
      "model_module_version": "1.5.0",
      "model_name": "DescriptionStyleModel",
      "state": {
       "description_width": ""
      }
     },
     "a054983d680e45a591073fdd9043af98": {
      "model_module": "@jupyter-widgets/controls",
      "model_module_version": "1.5.0",
      "model_name": "HTMLModel",
      "state": {
       "layout": "IPY_MODEL_adbc04f558df479ebc5623f65a6740a4",
       "style": "IPY_MODEL_2837ff105bc64266ad20ade811eaf965",
       "value": "Validation DataLoader 0: 100%"
      }
     },
     "a061e90d849d40c085bf75137767d65a": {
      "model_module": "@jupyter-widgets/base",
      "model_module_version": "1.2.0",
      "model_name": "LayoutModel",
      "state": {}
     },
     "a07c3806209241de9d5978230bbc6f28": {
      "model_module": "@jupyter-widgets/controls",
      "model_module_version": "1.5.0",
      "model_name": "DescriptionStyleModel",
      "state": {
       "description_width": ""
      }
     },
     "a0cd8b38411f415388312cd091c13b0b": {
      "model_module": "@jupyter-widgets/base",
      "model_module_version": "1.2.0",
      "model_name": "LayoutModel",
      "state": {}
     },
     "a0da67cd1cf04cd68419519725a61fba": {
      "model_module": "@jupyter-widgets/controls",
      "model_module_version": "1.5.0",
      "model_name": "FloatProgressModel",
      "state": {
       "layout": "IPY_MODEL_e8c3a87b21214c608403f2199d5e1913",
       "max": 8,
       "style": "IPY_MODEL_68883c17977645168133486dd9e3488c",
       "value": 8
      }
     },
     "a0e15bec86b249f288e60fe6884db6fe": {
      "model_module": "@jupyter-widgets/base",
      "model_module_version": "1.2.0",
      "model_name": "LayoutModel",
      "state": {}
     },
     "a0e245472ee44dd8aa60fe1156a6b6ad": {
      "model_module": "@jupyter-widgets/controls",
      "model_module_version": "1.5.0",
      "model_name": "DescriptionStyleModel",
      "state": {
       "description_width": ""
      }
     },
     "a10848ad7c1a480896273d98647e0484": {
      "model_module": "@jupyter-widgets/base",
      "model_module_version": "1.2.0",
      "model_name": "LayoutModel",
      "state": {
       "flex": "2"
      }
     },
     "a110bcdc60f84e71b1512a41cee099a4": {
      "model_module": "@jupyter-widgets/controls",
      "model_module_version": "1.5.0",
      "model_name": "HTMLModel",
      "state": {
       "layout": "IPY_MODEL_81def73d410b4e0caf80ff778ff26e64",
       "style": "IPY_MODEL_f67d807590ac42928f10e8c560132238",
       "value": " 8/8 [00:02&lt;00:00,  2.98it/s]"
      }
     },
     "a130e11fc7834f6d94033ea050a7ffde": {
      "model_module": "@jupyter-widgets/base",
      "model_module_version": "1.2.0",
      "model_name": "LayoutModel",
      "state": {}
     },
     "a135c61453bd40bfa52fc4099154fb67": {
      "model_module": "@jupyter-widgets/base",
      "model_module_version": "1.2.0",
      "model_name": "LayoutModel",
      "state": {
       "flex": "2"
      }
     },
     "a17c319e037146d08292df3de451e4b3": {
      "model_module": "@jupyter-widgets/controls",
      "model_module_version": "1.5.0",
      "model_name": "HTMLModel",
      "state": {
       "layout": "IPY_MODEL_11d268482ca347739d1dc182c0430cdc",
       "style": "IPY_MODEL_f6269d4daaab407bbc0e0761046e4cac",
       "value": "Validation DataLoader 0: 100%"
      }
     },
     "a206f7dc53974acab23a2596188c5097": {
      "model_module": "@jupyter-widgets/controls",
      "model_module_version": "1.5.0",
      "model_name": "HTMLModel",
      "state": {
       "layout": "IPY_MODEL_fb394cf0b0dd4c928a855cf58059f26d",
       "style": "IPY_MODEL_f1fdefda94ce4cedb42b130dde09cc2a",
       "value": "Validation DataLoader 0: 100%"
      }
     },
     "a210626a53354b799bac0a6009d8c47b": {
      "model_module": "@jupyter-widgets/controls",
      "model_module_version": "1.5.0",
      "model_name": "FloatProgressModel",
      "state": {
       "layout": "IPY_MODEL_92111d558a964364821f823b2c882fc3",
       "max": 8,
       "style": "IPY_MODEL_7767640e400645f397c8868161acc6b2",
       "value": 8
      }
     },
     "a2125e6211784b35b34d363c41e2c34c": {
      "model_module": "@jupyter-widgets/base",
      "model_module_version": "1.2.0",
      "model_name": "LayoutModel",
      "state": {
       "display": "inline-flex",
       "flex_flow": "row wrap",
       "width": "100%"
      }
     },
     "a21619c693f948fb8b3d9223a9b29b95": {
      "model_module": "@jupyter-widgets/base",
      "model_module_version": "1.2.0",
      "model_name": "LayoutModel",
      "state": {
       "display": "inline-flex",
       "flex_flow": "row wrap",
       "width": "100%"
      }
     },
     "a265b900d751469da7b8e9149844cf07": {
      "model_module": "@jupyter-widgets/base",
      "model_module_version": "1.2.0",
      "model_name": "LayoutModel",
      "state": {
       "display": "inline-flex",
       "flex_flow": "row wrap",
       "width": "100%"
      }
     },
     "a2af06ed3b2c4b259f12f2f6242becf8": {
      "model_module": "@jupyter-widgets/base",
      "model_module_version": "1.2.0",
      "model_name": "LayoutModel",
      "state": {}
     },
     "a2b7ec6702ee423cb72e3987d62ea457": {
      "model_module": "@jupyter-widgets/base",
      "model_module_version": "1.2.0",
      "model_name": "LayoutModel",
      "state": {
       "display": "inline-flex",
       "flex_flow": "row wrap",
       "width": "100%"
      }
     },
     "a2dea2f21d6246738c2b1a2982e409e3": {
      "model_module": "@jupyter-widgets/controls",
      "model_module_version": "1.5.0",
      "model_name": "DescriptionStyleModel",
      "state": {
       "description_width": ""
      }
     },
     "a2e0c53ef6f440668aa1da774c440cda": {
      "model_module": "@jupyter-widgets/controls",
      "model_module_version": "1.5.0",
      "model_name": "HTMLModel",
      "state": {
       "layout": "IPY_MODEL_4ea5e040a6654cad9c80f90c69786100",
       "style": "IPY_MODEL_5fdfede347dd4afdb36b34ca26dcb9ce",
       "value": "Validation DataLoader 0: 100%"
      }
     },
     "a2ecefd6c16d4448823c44f5ca9f5d8f": {
      "model_module": "@jupyter-widgets/base",
      "model_module_version": "1.2.0",
      "model_name": "LayoutModel",
      "state": {
       "flex": "2"
      }
     },
     "a32fe1cb9fb341539b8f87fb53959561": {
      "model_module": "@jupyter-widgets/base",
      "model_module_version": "1.2.0",
      "model_name": "LayoutModel",
      "state": {
       "display": "inline-flex",
       "flex_flow": "row wrap",
       "width": "100%"
      }
     },
     "a3396203e3f044428cfffe8b754c260c": {
      "model_module": "@jupyter-widgets/base",
      "model_module_version": "1.2.0",
      "model_name": "LayoutModel",
      "state": {
       "display": "inline-flex",
       "flex_flow": "row wrap",
       "width": "100%"
      }
     },
     "a33b39fbec984b60961409994edf462b": {
      "model_module": "@jupyter-widgets/controls",
      "model_module_version": "1.5.0",
      "model_name": "DescriptionStyleModel",
      "state": {
       "description_width": ""
      }
     },
     "a36800624703417d91c4d05b2823bcb8": {
      "model_module": "@jupyter-widgets/base",
      "model_module_version": "1.2.0",
      "model_name": "LayoutModel",
      "state": {}
     },
     "a37342f283ad47838587455f8653aaef": {
      "model_module": "@jupyter-widgets/base",
      "model_module_version": "1.2.0",
      "model_name": "LayoutModel",
      "state": {
       "flex": "2"
      }
     },
     "a37d4c9b05d149bf8f5b3f91c0075bda": {
      "model_module": "@jupyter-widgets/base",
      "model_module_version": "1.2.0",
      "model_name": "LayoutModel",
      "state": {}
     },
     "a37e94d9a1a0480f8f832d05cfe847e7": {
      "model_module": "@jupyter-widgets/base",
      "model_module_version": "1.2.0",
      "model_name": "LayoutModel",
      "state": {
       "flex": "2"
      }
     },
     "a3b3bce8c27344cfb6e19a3ce5e5324b": {
      "model_module": "@jupyter-widgets/controls",
      "model_module_version": "1.5.0",
      "model_name": "DescriptionStyleModel",
      "state": {
       "description_width": ""
      }
     },
     "a3c12dd888744517b8b31a791c3e2807": {
      "model_module": "@jupyter-widgets/controls",
      "model_module_version": "1.5.0",
      "model_name": "ProgressStyleModel",
      "state": {
       "description_width": ""
      }
     },
     "a3c6bffc83d44dc585e8748d4dcb0970": {
      "model_module": "@jupyter-widgets/controls",
      "model_module_version": "1.5.0",
      "model_name": "FloatProgressModel",
      "state": {
       "layout": "IPY_MODEL_89aa299dd1094063b2c2445f09d73d23",
       "max": 2,
       "style": "IPY_MODEL_ab7939716dad402cae317fbd8ed57527",
       "value": 2
      }
     },
     "a3d38ac3fedb468bbb85b4c4df3abe6b": {
      "model_module": "@jupyter-widgets/controls",
      "model_module_version": "1.5.0",
      "model_name": "DescriptionStyleModel",
      "state": {
       "description_width": ""
      }
     },
     "a3d4c2c362be412386ff1a475db18bb4": {
      "model_module": "@jupyter-widgets/base",
      "model_module_version": "1.2.0",
      "model_name": "LayoutModel",
      "state": {
       "flex": "2"
      }
     },
     "a3e6dbbd52254f5c822e79bd4d671d10": {
      "model_module": "@jupyter-widgets/controls",
      "model_module_version": "1.5.0",
      "model_name": "FloatProgressModel",
      "state": {
       "layout": "IPY_MODEL_95f2f206709941f7b980a329e04a3a9e",
       "max": 8,
       "style": "IPY_MODEL_fb8d5d8e9b6043af8cb1af37ace81edd",
       "value": 8
      }
     },
     "a419e1e9dab445b6992a828fbeca92a4": {
      "model_module": "@jupyter-widgets/base",
      "model_module_version": "1.2.0",
      "model_name": "LayoutModel",
      "state": {
       "display": "inline-flex",
       "flex_flow": "row wrap",
       "width": "100%"
      }
     },
     "a433cc8db311426581e7f5f28ea222ad": {
      "model_module": "@jupyter-widgets/base",
      "model_module_version": "1.2.0",
      "model_name": "LayoutModel",
      "state": {}
     },
     "a43935150ce5408daa56367ad4ea1d9a": {
      "model_module": "@jupyter-widgets/base",
      "model_module_version": "1.2.0",
      "model_name": "LayoutModel",
      "state": {}
     },
     "a4400515d3b04558a87ef0bdf890864f": {
      "model_module": "@jupyter-widgets/base",
      "model_module_version": "1.2.0",
      "model_name": "LayoutModel",
      "state": {}
     },
     "a4b3da72bd9943f984433cf873cf89bb": {
      "model_module": "@jupyter-widgets/controls",
      "model_module_version": "1.5.0",
      "model_name": "FloatProgressModel",
      "state": {
       "bar_style": "success",
       "layout": "IPY_MODEL_da0b2bda701e43bea5cff0c53260eec9",
       "max": 8,
       "style": "IPY_MODEL_d663a045c2df4dfd9131d09e29159e24",
       "value": 8
      }
     },
     "a4d56ae13e6e4bdab3699b7cb761a2f8": {
      "model_module": "@jupyter-widgets/base",
      "model_module_version": "1.2.0",
      "model_name": "LayoutModel",
      "state": {
       "display": "inline-flex",
       "flex_flow": "row wrap",
       "width": "100%"
      }
     },
     "a4eaad55422d4bccb765a08c4ad036d0": {
      "model_module": "@jupyter-widgets/base",
      "model_module_version": "1.2.0",
      "model_name": "LayoutModel",
      "state": {
       "display": "inline-flex",
       "flex_flow": "row wrap",
       "width": "100%"
      }
     },
     "a55f26bd76d94e7592dc919212f29585": {
      "model_module": "@jupyter-widgets/base",
      "model_module_version": "1.2.0",
      "model_name": "LayoutModel",
      "state": {
       "display": "inline-flex",
       "flex_flow": "row wrap",
       "width": "100%"
      }
     },
     "a5666aa7d2d84743ac6e3bd9afc5b4c9": {
      "model_module": "@jupyter-widgets/controls",
      "model_module_version": "1.5.0",
      "model_name": "ProgressStyleModel",
      "state": {
       "description_width": ""
      }
     },
     "a57a8c53c8934ed3beb795b4082d357a": {
      "model_module": "@jupyter-widgets/controls",
      "model_module_version": "1.5.0",
      "model_name": "ProgressStyleModel",
      "state": {
       "description_width": ""
      }
     },
     "a59909e0de1a4217a2dc4d55e75aecab": {
      "model_module": "@jupyter-widgets/controls",
      "model_module_version": "1.5.0",
      "model_name": "DescriptionStyleModel",
      "state": {
       "description_width": ""
      }
     },
     "a5ae8ff3e48e4b5dbd3117450ae438a4": {
      "model_module": "@jupyter-widgets/base",
      "model_module_version": "1.2.0",
      "model_name": "LayoutModel",
      "state": {}
     },
     "a5bac26ec27b4251825a70746f6491b8": {
      "model_module": "@jupyter-widgets/base",
      "model_module_version": "1.2.0",
      "model_name": "LayoutModel",
      "state": {
       "display": "inline-flex",
       "flex_flow": "row wrap",
       "width": "100%"
      }
     },
     "a5c92b830a6348e6af5275da11e61c0b": {
      "model_module": "@jupyter-widgets/controls",
      "model_module_version": "1.5.0",
      "model_name": "DescriptionStyleModel",
      "state": {
       "description_width": ""
      }
     },
     "a5d3de3a2741449c84daaa87e09cc5ac": {
      "model_module": "@jupyter-widgets/base",
      "model_module_version": "1.2.0",
      "model_name": "LayoutModel",
      "state": {}
     },
     "a5da324b85524a4886b0720b618463d5": {
      "model_module": "@jupyter-widgets/controls",
      "model_module_version": "1.5.0",
      "model_name": "ProgressStyleModel",
      "state": {
       "description_width": ""
      }
     },
     "a5df8efff1d641a0bc690ddea3b243ff": {
      "model_module": "@jupyter-widgets/controls",
      "model_module_version": "1.5.0",
      "model_name": "FloatProgressModel",
      "state": {
       "layout": "IPY_MODEL_fb10d4ef23ee47b5a449280bc60a64e1",
       "max": 8,
       "style": "IPY_MODEL_775620d727444e1aa20e08f1c3cd7f61",
       "value": 8
      }
     },
     "a5e5e68ab42044469c8dd6356551ca63": {
      "model_module": "@jupyter-widgets/controls",
      "model_module_version": "1.5.0",
      "model_name": "HTMLModel",
      "state": {
       "layout": "IPY_MODEL_cb8476eba5db49daa2b9cbc793943883",
       "style": "IPY_MODEL_92aed31a31e948369a4f078c26510369",
       "value": "Validation DataLoader 0: 100%"
      }
     },
     "a607ab79d4e6449290adc7fc26671ee2": {
      "model_module": "@jupyter-widgets/base",
      "model_module_version": "1.2.0",
      "model_name": "LayoutModel",
      "state": {}
     },
     "a61bf052d59744939be6953274e93e66": {
      "model_module": "@jupyter-widgets/controls",
      "model_module_version": "1.5.0",
      "model_name": "DescriptionStyleModel",
      "state": {
       "description_width": ""
      }
     },
     "a62d43639c764cd0a408cef989ec0668": {
      "model_module": "@jupyter-widgets/controls",
      "model_module_version": "1.5.0",
      "model_name": "HTMLModel",
      "state": {
       "layout": "IPY_MODEL_4467c08a7340473c89a520e155e91606",
       "style": "IPY_MODEL_26f7e7d35b0c48108c6659efd60828d2",
       "value": " 8/8 [00:04&lt;00:00,  1.70it/s]"
      }
     },
     "a631b842507545148fd2b1d24df334ed": {
      "model_module": "@jupyter-widgets/base",
      "model_module_version": "1.2.0",
      "model_name": "LayoutModel",
      "state": {}
     },
     "a6c492bf3bfc482d91c7380cf523f1eb": {
      "model_module": "@jupyter-widgets/controls",
      "model_module_version": "1.5.0",
      "model_name": "HTMLModel",
      "state": {
       "layout": "IPY_MODEL_ccedfa55c6e8491c8b7ba91d91aaa4ee",
       "style": "IPY_MODEL_9c72ac477c2d4f0e913596adc6554244",
       "value": " 8/8 [00:02&lt;00:00,  3.16it/s]"
      }
     },
     "a6ce11a2269c4fe6910a13f81163c095": {
      "model_module": "@jupyter-widgets/base",
      "model_module_version": "1.2.0",
      "model_name": "LayoutModel",
      "state": {}
     },
     "a6e90b57a2fd4ef9a805226b5185141d": {
      "model_module": "@jupyter-widgets/base",
      "model_module_version": "1.2.0",
      "model_name": "LayoutModel",
      "state": {
       "flex": "2"
      }
     },
     "a7438a37cf204124bc6d069cda3af7a5": {
      "model_module": "@jupyter-widgets/controls",
      "model_module_version": "1.5.0",
      "model_name": "FloatProgressModel",
      "state": {
       "layout": "IPY_MODEL_6f88af2a29f7431393395b12fffa3317",
       "max": 8,
       "style": "IPY_MODEL_6f0d8b6fde604c1e9553097a44a4ad43",
       "value": 8
      }
     },
     "a7834305fcec49f09f79846ce3581f72": {
      "model_module": "@jupyter-widgets/controls",
      "model_module_version": "1.5.0",
      "model_name": "DescriptionStyleModel",
      "state": {
       "description_width": ""
      }
     },
     "a78d93353d5544eab5a228e2ba0ec9fe": {
      "model_module": "@jupyter-widgets/controls",
      "model_module_version": "1.5.0",
      "model_name": "ProgressStyleModel",
      "state": {
       "description_width": ""
      }
     },
     "a7a0763c7abd47798722ed806b4e5a59": {
      "model_module": "@jupyter-widgets/controls",
      "model_module_version": "1.5.0",
      "model_name": "HTMLModel",
      "state": {
       "layout": "IPY_MODEL_40122edbbe184841a2b1020d5f33667e",
       "style": "IPY_MODEL_5864e07ef51b414a97daedbea8bd1cdd",
       "value": "Validation DataLoader 0: 100%"
      }
     },
     "a7a0effa7ec641cbaf36b1ac7e1cf392": {
      "model_module": "@jupyter-widgets/controls",
      "model_module_version": "1.5.0",
      "model_name": "HTMLModel",
      "state": {
       "layout": "IPY_MODEL_d8d98bd79704488e9355bd7666c6f8fa",
       "style": "IPY_MODEL_839c07a883034751a3288c3de4a800cf",
       "value": " 8/8 [00:03&lt;00:00,  2.12it/s]"
      }
     },
     "a7ca8ae694e14b7092a6b2bcb81ca088": {
      "model_module": "@jupyter-widgets/base",
      "model_module_version": "1.2.0",
      "model_name": "LayoutModel",
      "state": {
       "flex": "2"
      }
     },
     "a7ce0a39c22f4c7a89e4a2b180610b99": {
      "model_module": "@jupyter-widgets/controls",
      "model_module_version": "1.5.0",
      "model_name": "HTMLModel",
      "state": {
       "layout": "IPY_MODEL_16e54a4eaae94f67b32acc1093f185a4",
       "style": "IPY_MODEL_d353e86bb2f045fab8c8245b4f63aa00",
       "value": " 8/8 [00:03&lt;00:00,  2.60it/s]"
      }
     },
     "a7d5e611b2f443fc83649eb5ea870564": {
      "model_module": "@jupyter-widgets/controls",
      "model_module_version": "1.5.0",
      "model_name": "FloatProgressModel",
      "state": {
       "layout": "IPY_MODEL_cb1e22e124204402be24da5388d4e856",
       "max": 8,
       "style": "IPY_MODEL_69538d70070445a78ac5879bd64eb3cd",
       "value": 8
      }
     },
     "a80318aec4c4404aa4624d7e37787944": {
      "model_module": "@jupyter-widgets/controls",
      "model_module_version": "1.5.0",
      "model_name": "HTMLModel",
      "state": {
       "layout": "IPY_MODEL_6025c14be1394cf6a2aae6a65528d663",
       "style": "IPY_MODEL_29fdddd8484c41a98db9f93e8a006f75",
       "value": "Validation DataLoader 0: 100%"
      }
     },
     "a82de3b2f3b7483ea6ae1ba08487ee3d": {
      "model_module": "@jupyter-widgets/controls",
      "model_module_version": "1.5.0",
      "model_name": "HTMLModel",
      "state": {
       "layout": "IPY_MODEL_fba4161fe7dc4d80bc8c17b8b87adc10",
       "style": "IPY_MODEL_4d4911000ae0463babb275a19a520c7d",
       "value": " 8/8 [00:07&lt;00:00,  1.06it/s]"
      }
     },
     "a83f0d285e6746d69e2786027ce87e81": {
      "model_module": "@jupyter-widgets/base",
      "model_module_version": "1.2.0",
      "model_name": "LayoutModel",
      "state": {
       "display": "inline-flex",
       "flex_flow": "row wrap",
       "width": "100%"
      }
     },
     "a8439ad26d1e46c399aee15c627c8660": {
      "model_module": "@jupyter-widgets/controls",
      "model_module_version": "1.5.0",
      "model_name": "HTMLModel",
      "state": {
       "layout": "IPY_MODEL_66072ace0ece42ae80d195bb3e7b820e",
       "style": "IPY_MODEL_760c7850fb0943e2a6a9a8db323e5dd8",
       "value": " 8/8 [00:03&lt;00:00,  2.08it/s]"
      }
     },
     "a84cdb540d264db9bb0d6b559b443a18": {
      "model_module": "@jupyter-widgets/controls",
      "model_module_version": "1.5.0",
      "model_name": "DescriptionStyleModel",
      "state": {
       "description_width": ""
      }
     },
     "a84d4ca3b8a247148fe787901e544f72": {
      "model_module": "@jupyter-widgets/base",
      "model_module_version": "1.2.0",
      "model_name": "LayoutModel",
      "state": {}
     },
     "a84e13a72a2d46778e807ad85e93e00e": {
      "model_module": "@jupyter-widgets/base",
      "model_module_version": "1.2.0",
      "model_name": "LayoutModel",
      "state": {}
     },
     "a8d22d4f79ac44f9a30366bcac23d4cf": {
      "model_module": "@jupyter-widgets/base",
      "model_module_version": "1.2.0",
      "model_name": "LayoutModel",
      "state": {
       "display": "inline-flex",
       "flex_flow": "row wrap",
       "width": "100%"
      }
     },
     "a8d91515472944fca2bae3f34367dd51": {
      "model_module": "@jupyter-widgets/controls",
      "model_module_version": "1.5.0",
      "model_name": "HTMLModel",
      "state": {
       "layout": "IPY_MODEL_45bc065afccf42af9e0400922f024fde",
       "style": "IPY_MODEL_eaafbc6c7a6f44b0b36239f8eac0cc1c",
       "value": " 8/8 [00:03&lt;00:00,  2.19it/s]"
      }
     },
     "a93fcd610b804d2b8b99fee33b48f2a7": {
      "model_module": "@jupyter-widgets/controls",
      "model_module_version": "1.5.0",
      "model_name": "DescriptionStyleModel",
      "state": {
       "description_width": ""
      }
     },
     "a9561a0ab5e5493aac3bf93177b8e3b6": {
      "model_module": "@jupyter-widgets/base",
      "model_module_version": "1.2.0",
      "model_name": "LayoutModel",
      "state": {
       "display": "inline-flex",
       "flex_flow": "row wrap",
       "width": "100%"
      }
     },
     "a97552db93a44a9d85d1563721052c39": {
      "model_module": "@jupyter-widgets/base",
      "model_module_version": "1.2.0",
      "model_name": "LayoutModel",
      "state": {}
     },
     "a97c1a073c17496a971bc2f2b9e5d0af": {
      "model_module": "@jupyter-widgets/base",
      "model_module_version": "1.2.0",
      "model_name": "LayoutModel",
      "state": {}
     },
     "a9bbfa2e6a4c448cbc783fd38e855f57": {
      "model_module": "@jupyter-widgets/base",
      "model_module_version": "1.2.0",
      "model_name": "LayoutModel",
      "state": {}
     },
     "a9c97b3168ec4ee88d9af3befb57f605": {
      "model_module": "@jupyter-widgets/base",
      "model_module_version": "1.2.0",
      "model_name": "LayoutModel",
      "state": {
       "display": "inline-flex",
       "flex_flow": "row wrap",
       "width": "100%"
      }
     },
     "a9d7b07ee9d8489aa3bef5d56ba86095": {
      "model_module": "@jupyter-widgets/base",
      "model_module_version": "1.2.0",
      "model_name": "LayoutModel",
      "state": {}
     },
     "a9fb3c2959004748b88bcd60dd0c5b22": {
      "model_module": "@jupyter-widgets/base",
      "model_module_version": "1.2.0",
      "model_name": "LayoutModel",
      "state": {}
     },
     "a9fdbf1584d84ace8a924b2366ac5b18": {
      "model_module": "@jupyter-widgets/controls",
      "model_module_version": "1.5.0",
      "model_name": "FloatProgressModel",
      "state": {
       "layout": "IPY_MODEL_df8db66b6e6941e1bf3be8be2ca2cd65",
       "max": 8,
       "style": "IPY_MODEL_f13e9a679d98400ca261be94040742be",
       "value": 8
      }
     },
     "a9fe773059ab4342b8a5469fe59076a6": {
      "model_module": "@jupyter-widgets/controls",
      "model_module_version": "1.5.0",
      "model_name": "FloatProgressModel",
      "state": {
       "layout": "IPY_MODEL_5c78319cb6514391911d970f4ca7b497",
       "max": 8,
       "style": "IPY_MODEL_7237865a810046268fe7bd95afc351dc",
       "value": 8
      }
     },
     "aa0e5833dc54452e987ec4e81040b912": {
      "model_module": "@jupyter-widgets/controls",
      "model_module_version": "1.5.0",
      "model_name": "DescriptionStyleModel",
      "state": {
       "description_width": ""
      }
     },
     "aa111bdbe9c04c8eb668220062613628": {
      "model_module": "@jupyter-widgets/controls",
      "model_module_version": "1.5.0",
      "model_name": "HTMLModel",
      "state": {
       "layout": "IPY_MODEL_fdbc1f34b5fb4565aaa2622559f6c999",
       "style": "IPY_MODEL_75664bc45cd346dcb0b7d0f730d4652f",
       "value": "Validation DataLoader 0: 100%"
      }
     },
     "aa5ff9b53c70490192f8b52746037c73": {
      "model_module": "@jupyter-widgets/base",
      "model_module_version": "1.2.0",
      "model_name": "LayoutModel",
      "state": {
       "flex": "2"
      }
     },
     "aa90ea16e8ef4274a2a7e66bf5ba689b": {
      "model_module": "@jupyter-widgets/base",
      "model_module_version": "1.2.0",
      "model_name": "LayoutModel",
      "state": {}
     },
     "aaa0a12c81c3415b937e4b945d133ca4": {
      "model_module": "@jupyter-widgets/controls",
      "model_module_version": "1.5.0",
      "model_name": "FloatProgressModel",
      "state": {
       "layout": "IPY_MODEL_344a9fa0e23e4efc84f00c96b94dae1c",
       "max": 8,
       "style": "IPY_MODEL_d5b83c913c5e462b9e6f41a211c9a47f",
       "value": 8
      }
     },
     "aac0d933d73f4028895ad5991c741762": {
      "model_module": "@jupyter-widgets/controls",
      "model_module_version": "1.5.0",
      "model_name": "HTMLModel",
      "state": {
       "layout": "IPY_MODEL_c7844fa0ebb049478c1725a4fb73dd08",
       "style": "IPY_MODEL_e6618ef3bcfd4b27bc6ca751a6cbed11",
       "value": " 8/8 [00:02&lt;00:00,  3.13it/s]"
      }
     },
     "aaf63c42ea5f42b4ae4912a8cd28715d": {
      "model_module": "@jupyter-widgets/controls",
      "model_module_version": "1.5.0",
      "model_name": "HTMLModel",
      "state": {
       "layout": "IPY_MODEL_c682a6b0837a4ba4aa1c17b43ab110df",
       "style": "IPY_MODEL_415a60f1dc0146ec93c4657b6cd5b85a",
       "value": " 8/8 [00:02&lt;00:00,  2.95it/s]"
      }
     },
     "ab0766b8b6be4f1fa193bb1c3787081b": {
      "model_module": "@jupyter-widgets/controls",
      "model_module_version": "1.5.0",
      "model_name": "DescriptionStyleModel",
      "state": {
       "description_width": ""
      }
     },
     "ab1193c6930d47ad9b42a8ced562f274": {
      "model_module": "@jupyter-widgets/controls",
      "model_module_version": "1.5.0",
      "model_name": "HTMLModel",
      "state": {
       "layout": "IPY_MODEL_fd9e78b163b94875ac1aef521a02fcef",
       "style": "IPY_MODEL_a5c92b830a6348e6af5275da11e61c0b",
       "value": "Validation DataLoader 0: 100%"
      }
     },
     "ab21599504244cff9a2d83969b4dd606": {
      "model_module": "@jupyter-widgets/controls",
      "model_module_version": "1.5.0",
      "model_name": "DescriptionStyleModel",
      "state": {
       "description_width": ""
      }
     },
     "ab2583827cbe43c69a2070195c5e1701": {
      "model_module": "@jupyter-widgets/controls",
      "model_module_version": "1.5.0",
      "model_name": "DescriptionStyleModel",
      "state": {
       "description_width": ""
      }
     },
     "ab341914b6614078b4dc7d3a84f75d5f": {
      "model_module": "@jupyter-widgets/base",
      "model_module_version": "1.2.0",
      "model_name": "LayoutModel",
      "state": {}
     },
     "ab37945a8a554e91b5f26acf1b9abb24": {
      "model_module": "@jupyter-widgets/base",
      "model_module_version": "1.2.0",
      "model_name": "LayoutModel",
      "state": {}
     },
     "ab44cca6744444cd81a4efb80430939a": {
      "model_module": "@jupyter-widgets/base",
      "model_module_version": "1.2.0",
      "model_name": "LayoutModel",
      "state": {
       "display": "inline-flex",
       "flex_flow": "row wrap",
       "width": "100%"
      }
     },
     "ab48ea39a7444e0ea22c4349bf03096a": {
      "model_module": "@jupyter-widgets/controls",
      "model_module_version": "1.5.0",
      "model_name": "ProgressStyleModel",
      "state": {
       "description_width": ""
      }
     },
     "ab6a37c2e123497ea5c0e17a4d9f7107": {
      "model_module": "@jupyter-widgets/controls",
      "model_module_version": "1.5.0",
      "model_name": "DescriptionStyleModel",
      "state": {
       "description_width": ""
      }
     },
     "ab7939716dad402cae317fbd8ed57527": {
      "model_module": "@jupyter-widgets/controls",
      "model_module_version": "1.5.0",
      "model_name": "ProgressStyleModel",
      "state": {
       "description_width": ""
      }
     },
     "ab7b1730dbec48079801799ec3acb87d": {
      "model_module": "@jupyter-widgets/controls",
      "model_module_version": "1.5.0",
      "model_name": "HTMLModel",
      "state": {
       "layout": "IPY_MODEL_9d1b816c0e274cf089613d0f8f9e84f7",
       "style": "IPY_MODEL_f8e12d91344a4f60aaa058fa23f9b255",
       "value": "Validation DataLoader 0: 100%"
      }
     },
     "ab8c152051fe43b5811d5bde5856e941": {
      "model_module": "@jupyter-widgets/controls",
      "model_module_version": "1.5.0",
      "model_name": "FloatProgressModel",
      "state": {
       "layout": "IPY_MODEL_c348f6c656d84072be005a8d2c26c11e",
       "max": 8,
       "style": "IPY_MODEL_2f94235381c84e92a0254e70674c8e2a",
       "value": 8
      }
     },
     "ab9128b790934d939d5fb83e7fbd14e7": {
      "model_module": "@jupyter-widgets/controls",
      "model_module_version": "1.5.0",
      "model_name": "DescriptionStyleModel",
      "state": {
       "description_width": ""
      }
     },
     "ab9d4ef5f38249dca6b7d01a947f2a2c": {
      "model_module": "@jupyter-widgets/controls",
      "model_module_version": "1.5.0",
      "model_name": "HTMLModel",
      "state": {
       "layout": "IPY_MODEL_4396ed4a663a4cd683e1bd98b023b466",
       "style": "IPY_MODEL_3df816452c24468491879cec15c6b04d",
       "value": " 8/8 [00:02&lt;00:00,  2.85it/s]"
      }
     },
     "ac0c8223104f4018968714d1b2c9ad16": {
      "model_module": "@jupyter-widgets/base",
      "model_module_version": "1.2.0",
      "model_name": "LayoutModel",
      "state": {
       "display": "inline-flex",
       "flex_flow": "row wrap",
       "width": "100%"
      }
     },
     "ac16290a73864564ad855b804c7eb7e6": {
      "model_module": "@jupyter-widgets/controls",
      "model_module_version": "1.5.0",
      "model_name": "DescriptionStyleModel",
      "state": {
       "description_width": ""
      }
     },
     "ac2a88b1f45a4aab92fa70eeb0cad682": {
      "model_module": "@jupyter-widgets/controls",
      "model_module_version": "1.5.0",
      "model_name": "FloatProgressModel",
      "state": {
       "layout": "IPY_MODEL_83350e1e507d409783193e6bad0c264a",
       "max": 8,
       "style": "IPY_MODEL_4b0edb45644544529c4de27f43e4e136",
       "value": 8
      }
     },
     "ac429e2402b74a4c813f517eb9adecee": {
      "model_module": "@jupyter-widgets/controls",
      "model_module_version": "1.5.0",
      "model_name": "ProgressStyleModel",
      "state": {
       "description_width": ""
      }
     },
     "ac42bf64cfc741d8b63df96e6c3dce2b": {
      "model_module": "@jupyter-widgets/base",
      "model_module_version": "1.2.0",
      "model_name": "LayoutModel",
      "state": {}
     },
     "ac5b706b01a9499da64ae9d81e5318b1": {
      "model_module": "@jupyter-widgets/base",
      "model_module_version": "1.2.0",
      "model_name": "LayoutModel",
      "state": {
       "display": "inline-flex",
       "flex_flow": "row wrap",
       "width": "100%"
      }
     },
     "ac6cef36c8e449b49337ad423c65010f": {
      "model_module": "@jupyter-widgets/controls",
      "model_module_version": "1.5.0",
      "model_name": "DescriptionStyleModel",
      "state": {
       "description_width": ""
      }
     },
     "ac808ee775b54f1ebcd95790b217f75f": {
      "model_module": "@jupyter-widgets/controls",
      "model_module_version": "1.5.0",
      "model_name": "DescriptionStyleModel",
      "state": {
       "description_width": ""
      }
     },
     "ac9adb410e8349f982eef381e2037e28": {
      "model_module": "@jupyter-widgets/base",
      "model_module_version": "1.2.0",
      "model_name": "LayoutModel",
      "state": {
       "display": "inline-flex",
       "flex_flow": "row wrap",
       "width": "100%"
      }
     },
     "ac9eed442f1d4dd48828df74404480dd": {
      "model_module": "@jupyter-widgets/controls",
      "model_module_version": "1.5.0",
      "model_name": "HTMLModel",
      "state": {
       "layout": "IPY_MODEL_6ecee2d747524e68a7d4833107df3828",
       "style": "IPY_MODEL_d50ea06d415f41a79d8b6abcdda453d7",
       "value": " 8/8 [00:03&lt;00:00,  2.46it/s]"
      }
     },
     "acbe0314afae4764b2730dc0796e6dfd": {
      "model_module": "@jupyter-widgets/base",
      "model_module_version": "1.2.0",
      "model_name": "LayoutModel",
      "state": {
       "display": "inline-flex",
       "flex_flow": "row wrap",
       "width": "100%"
      }
     },
     "acc1842a027248839ea057ad83dbcd02": {
      "model_module": "@jupyter-widgets/controls",
      "model_module_version": "1.5.0",
      "model_name": "FloatProgressModel",
      "state": {
       "layout": "IPY_MODEL_9395398befac48d792198db3fbfce070",
       "max": 8,
       "style": "IPY_MODEL_ac429e2402b74a4c813f517eb9adecee",
       "value": 8
      }
     },
     "ace43c0f33b24ced9efdca74514cedf8": {
      "model_module": "@jupyter-widgets/base",
      "model_module_version": "1.2.0",
      "model_name": "LayoutModel",
      "state": {
       "flex": "2"
      }
     },
     "ace8776363aa47a19f9d1f52ee2089b7": {
      "model_module": "@jupyter-widgets/base",
      "model_module_version": "1.2.0",
      "model_name": "LayoutModel",
      "state": {}
     },
     "acf934d73df54b6e906fc186d245888e": {
      "model_module": "@jupyter-widgets/controls",
      "model_module_version": "1.5.0",
      "model_name": "ProgressStyleModel",
      "state": {
       "description_width": ""
      }
     },
     "acfd7b12d0894adf8fb8960ec9503173": {
      "model_module": "@jupyter-widgets/controls",
      "model_module_version": "1.5.0",
      "model_name": "DescriptionStyleModel",
      "state": {
       "description_width": ""
      }
     },
     "ad373c2420614adba0a51ec0b81fea24": {
      "model_module": "@jupyter-widgets/base",
      "model_module_version": "1.2.0",
      "model_name": "LayoutModel",
      "state": {
       "flex": "2"
      }
     },
     "ad675f7d151a48ab8cc6af31de77c4b3": {
      "model_module": "@jupyter-widgets/controls",
      "model_module_version": "1.5.0",
      "model_name": "HTMLModel",
      "state": {
       "layout": "IPY_MODEL_3b173b9c66b84c1da0a555d1e4de9ebb",
       "style": "IPY_MODEL_a59909e0de1a4217a2dc4d55e75aecab",
       "value": " 8/8 [00:03&lt;00:00,  2.66it/s]"
      }
     },
     "ad93c4e1596f48b08fb0d1286d814c8f": {
      "model_module": "@jupyter-widgets/base",
      "model_module_version": "1.2.0",
      "model_name": "LayoutModel",
      "state": {
       "display": "inline-flex",
       "flex_flow": "row wrap",
       "width": "100%"
      }
     },
     "ada67fdd86eb49028c06b3fcc0b6e131": {
      "model_module": "@jupyter-widgets/base",
      "model_module_version": "1.2.0",
      "model_name": "LayoutModel",
      "state": {}
     },
     "adb5f79ce6724314ab4fb91ac37c10b4": {
      "model_module": "@jupyter-widgets/controls",
      "model_module_version": "1.5.0",
      "model_name": "DescriptionStyleModel",
      "state": {
       "description_width": ""
      }
     },
     "adbc04f558df479ebc5623f65a6740a4": {
      "model_module": "@jupyter-widgets/base",
      "model_module_version": "1.2.0",
      "model_name": "LayoutModel",
      "state": {}
     },
     "adcaa16c8ed648658939ec6ca5546e4b": {
      "model_module": "@jupyter-widgets/controls",
      "model_module_version": "1.5.0",
      "model_name": "FloatProgressModel",
      "state": {
       "layout": "IPY_MODEL_2b648f60c29545b9829cbc67aefff864",
       "max": 8,
       "style": "IPY_MODEL_e2a6493fbc7d4ee8b0ce3b49f7b50d65",
       "value": 8
      }
     },
     "adebe2fdfb9d4684acea3d2e2de40dd7": {
      "model_module": "@jupyter-widgets/base",
      "model_module_version": "1.2.0",
      "model_name": "LayoutModel",
      "state": {}
     },
     "adff1444314748629c2c4c43ea5a941f": {
      "model_module": "@jupyter-widgets/controls",
      "model_module_version": "1.5.0",
      "model_name": "FloatProgressModel",
      "state": {
       "layout": "IPY_MODEL_6e36caad57b847c9830b838e8b95fb1d",
       "max": 8,
       "style": "IPY_MODEL_08ad231cd98c4f26ad9055c1d781478d",
       "value": 8
      }
     },
     "ae4238372fe24f27b90e94454830ffd1": {
      "model_module": "@jupyter-widgets/base",
      "model_module_version": "1.2.0",
      "model_name": "LayoutModel",
      "state": {
       "display": "inline-flex",
       "flex_flow": "row wrap",
       "width": "100%"
      }
     },
     "ae55f731bcd24034a674488216c6a0c8": {
      "model_module": "@jupyter-widgets/controls",
      "model_module_version": "1.5.0",
      "model_name": "ProgressStyleModel",
      "state": {
       "description_width": ""
      }
     },
     "ae771a6e40b7476c849db1593b56bf72": {
      "model_module": "@jupyter-widgets/base",
      "model_module_version": "1.2.0",
      "model_name": "LayoutModel",
      "state": {
       "flex": "2"
      }
     },
     "ae7f71d655a74239a8427ebc0c2099ab": {
      "model_module": "@jupyter-widgets/controls",
      "model_module_version": "1.5.0",
      "model_name": "HBoxModel",
      "state": {
       "children": [
        "IPY_MODEL_e35e9b527623494f8005f3ba9fbb4445",
        "IPY_MODEL_5a5e84eaf3cb400e9555425cc5246c66",
        "IPY_MODEL_d4212b0f1ef342a38953a471f06feaa6"
       ],
       "layout": "IPY_MODEL_2361a92d5ff34bdf912bb0c3e9dc34fc"
      }
     },
     "ae7fade5622b44e099ee7cad449295a1": {
      "model_module": "@jupyter-widgets/controls",
      "model_module_version": "1.5.0",
      "model_name": "ProgressStyleModel",
      "state": {
       "description_width": ""
      }
     },
     "ae8f20152ccd4276831a781e7d5ca2ee": {
      "model_module": "@jupyter-widgets/controls",
      "model_module_version": "1.5.0",
      "model_name": "ProgressStyleModel",
      "state": {
       "description_width": ""
      }
     },
     "ae8fec0132fa4df987152634330615ea": {
      "model_module": "@jupyter-widgets/controls",
      "model_module_version": "1.5.0",
      "model_name": "ProgressStyleModel",
      "state": {
       "description_width": ""
      }
     },
     "aea2d899525a49faa63cd8ae30653a4a": {
      "model_module": "@jupyter-widgets/controls",
      "model_module_version": "1.5.0",
      "model_name": "HTMLModel",
      "state": {
       "layout": "IPY_MODEL_0f431aab75924a4cb70af965b087eb57",
       "style": "IPY_MODEL_8c3f16fd4e04493d9ff61c2ae4c9cdd3",
       "value": " 26/69 [00:34&lt;00:56,  1.32s/it, loss=0.052, v_num=-130]"
      }
     },
     "aea53f2918b0414c8adad6ac627abf89": {
      "model_module": "@jupyter-widgets/base",
      "model_module_version": "1.2.0",
      "model_name": "LayoutModel",
      "state": {
       "display": "inline-flex",
       "flex_flow": "row wrap",
       "width": "100%"
      }
     },
     "aea9386d0145492794ea07eaab1c5bc4": {
      "model_module": "@jupyter-widgets/controls",
      "model_module_version": "1.5.0",
      "model_name": "HTMLModel",
      "state": {
       "layout": "IPY_MODEL_df27023262dd4873b8b21c47a6b0e221",
       "style": "IPY_MODEL_e432f839e1894e29ac9bf5c7420d5b61",
       "value": " 8/8 [00:02&lt;00:00,  3.25it/s]"
      }
     },
     "aeb72371222d4df3bdd04921aea1d3bc": {
      "model_module": "@jupyter-widgets/controls",
      "model_module_version": "1.5.0",
      "model_name": "DescriptionStyleModel",
      "state": {
       "description_width": ""
      }
     },
     "aebfe71ece524734bfec3847edf541ce": {
      "model_module": "@jupyter-widgets/controls",
      "model_module_version": "1.5.0",
      "model_name": "FloatProgressModel",
      "state": {
       "layout": "IPY_MODEL_d576b1455f904a82ba33391f731f7152",
       "max": 8,
       "style": "IPY_MODEL_9c96a9dd209a40929007ae198f9e8c32",
       "value": 8
      }
     },
     "af0728db0be4423c97047f46fbb7f8ec": {
      "model_module": "@jupyter-widgets/controls",
      "model_module_version": "1.5.0",
      "model_name": "DescriptionStyleModel",
      "state": {
       "description_width": ""
      }
     },
     "af1b953d515e4ab481d94262f54fec7c": {
      "model_module": "@jupyter-widgets/base",
      "model_module_version": "1.2.0",
      "model_name": "LayoutModel",
      "state": {}
     },
     "af223e74af764347a2fa80902ac0c115": {
      "model_module": "@jupyter-widgets/controls",
      "model_module_version": "1.5.0",
      "model_name": "DescriptionStyleModel",
      "state": {
       "description_width": ""
      }
     },
     "af45a9394fad4aa3953c083ee96419b3": {
      "model_module": "@jupyter-widgets/base",
      "model_module_version": "1.2.0",
      "model_name": "LayoutModel",
      "state": {
       "flex": "2"
      }
     },
     "af463aa18e38426aad506c4566ee8be0": {
      "model_module": "@jupyter-widgets/controls",
      "model_module_version": "1.5.0",
      "model_name": "DescriptionStyleModel",
      "state": {
       "description_width": ""
      }
     },
     "af51d6579f104c23bcb16d8cf23ddd66": {
      "model_module": "@jupyter-widgets/base",
      "model_module_version": "1.2.0",
      "model_name": "LayoutModel",
      "state": {}
     },
     "af520d2eab544d2b943a69c938098411": {
      "model_module": "@jupyter-widgets/controls",
      "model_module_version": "1.5.0",
      "model_name": "HTMLModel",
      "state": {
       "layout": "IPY_MODEL_26903817cb514acb8dc8b7c0d55eeb18",
       "style": "IPY_MODEL_18eb81a39f0f4e2db139012c68b9f339",
       "value": " 8/8 [00:03&lt;00:00,  2.39it/s]"
      }
     },
     "af646c18d1aa4ae98e9d4124ec0fc372": {
      "model_module": "@jupyter-widgets/controls",
      "model_module_version": "1.5.0",
      "model_name": "DescriptionStyleModel",
      "state": {
       "description_width": ""
      }
     },
     "af85930169324933b9b88320644f62f5": {
      "model_module": "@jupyter-widgets/base",
      "model_module_version": "1.2.0",
      "model_name": "LayoutModel",
      "state": {
       "flex": "2"
      }
     },
     "af8bf3de744e491e910c0ddd98035426": {
      "model_module": "@jupyter-widgets/base",
      "model_module_version": "1.2.0",
      "model_name": "LayoutModel",
      "state": {
       "display": "inline-flex",
       "flex_flow": "row wrap",
       "width": "100%"
      }
     },
     "afb236f4fedc47608c1e0c97dfb34801": {
      "model_module": "@jupyter-widgets/controls",
      "model_module_version": "1.5.0",
      "model_name": "ProgressStyleModel",
      "state": {
       "description_width": ""
      }
     },
     "afca473e176649d88c169546e21d700c": {
      "model_module": "@jupyter-widgets/base",
      "model_module_version": "1.2.0",
      "model_name": "LayoutModel",
      "state": {}
     },
     "afd3c7c78ffd456d8ace4ae949620fbf": {
      "model_module": "@jupyter-widgets/base",
      "model_module_version": "1.2.0",
      "model_name": "LayoutModel",
      "state": {
       "display": "inline-flex",
       "flex_flow": "row wrap",
       "width": "100%"
      }
     },
     "b00b96e3f6f442d79ef6efe4d8a70020": {
      "model_module": "@jupyter-widgets/controls",
      "model_module_version": "1.5.0",
      "model_name": "ProgressStyleModel",
      "state": {
       "description_width": ""
      }
     },
     "b011d5cb202a4e8e8ab1a401382e495d": {
      "model_module": "@jupyter-widgets/controls",
      "model_module_version": "1.5.0",
      "model_name": "DescriptionStyleModel",
      "state": {
       "description_width": ""
      }
     },
     "b0b1be12200444b180966a8f90dcf7db": {
      "model_module": "@jupyter-widgets/base",
      "model_module_version": "1.2.0",
      "model_name": "LayoutModel",
      "state": {
       "flex": "2"
      }
     },
     "b0c7e8dd29874aebb1239374344279fd": {
      "model_module": "@jupyter-widgets/base",
      "model_module_version": "1.2.0",
      "model_name": "LayoutModel",
      "state": {}
     },
     "b0fabd9105ea4c2781095e69e28c63f4": {
      "model_module": "@jupyter-widgets/controls",
      "model_module_version": "1.5.0",
      "model_name": "HTMLModel",
      "state": {
       "layout": "IPY_MODEL_d9c92fc491784891b76b22c9a8c7b9cb",
       "style": "IPY_MODEL_1c4d6e00537c42fbb97cae40a7aed4e1",
       "value": " 8/8 [00:02&lt;00:00,  3.16it/s]"
      }
     },
     "b104f43f34684735862cee8c6b977b5a": {
      "model_module": "@jupyter-widgets/base",
      "model_module_version": "1.2.0",
      "model_name": "LayoutModel",
      "state": {}
     },
     "b11430aa34f54a9cbd15c40b6328ac9e": {
      "model_module": "@jupyter-widgets/base",
      "model_module_version": "1.2.0",
      "model_name": "LayoutModel",
      "state": {}
     },
     "b12709efb2254322a68f803f94c126b2": {
      "model_module": "@jupyter-widgets/base",
      "model_module_version": "1.2.0",
      "model_name": "LayoutModel",
      "state": {
       "display": "inline-flex",
       "flex_flow": "row wrap",
       "width": "100%"
      }
     },
     "b1826f17aced42baa846c78be48b5faf": {
      "model_module": "@jupyter-widgets/base",
      "model_module_version": "1.2.0",
      "model_name": "LayoutModel",
      "state": {}
     },
     "b1904621c2dc489dbe66fa5208940928": {
      "model_module": "@jupyter-widgets/base",
      "model_module_version": "1.2.0",
      "model_name": "LayoutModel",
      "state": {}
     },
     "b1d5b896bc874065b6baee6f08f02fd6": {
      "model_module": "@jupyter-widgets/base",
      "model_module_version": "1.2.0",
      "model_name": "LayoutModel",
      "state": {
       "display": "inline-flex",
       "flex_flow": "row wrap",
       "width": "100%"
      }
     },
     "b23afb9ebca54c8590597d7508fa9c8d": {
      "model_module": "@jupyter-widgets/controls",
      "model_module_version": "1.5.0",
      "model_name": "ProgressStyleModel",
      "state": {
       "description_width": ""
      }
     },
     "b245f2ff3546439ca4892a8138b393ed": {
      "model_module": "@jupyter-widgets/base",
      "model_module_version": "1.2.0",
      "model_name": "LayoutModel",
      "state": {}
     },
     "b271f7a8ce174d25b915f2f2a00a72f5": {
      "model_module": "@jupyter-widgets/controls",
      "model_module_version": "1.5.0",
      "model_name": "HTMLModel",
      "state": {
       "layout": "IPY_MODEL_e20b510e662f43a1bf6644c82388b713",
       "style": "IPY_MODEL_62c882f19eef49019a541baadb451b76",
       "value": "Predicting DataLoader 0: 100%"
      }
     },
     "b28fcc03aba04804823cf7b9214f152f": {
      "model_module": "@jupyter-widgets/base",
      "model_module_version": "1.2.0",
      "model_name": "LayoutModel",
      "state": {
       "flex": "2"
      }
     },
     "b2957431772b422da7c666892f8c2d13": {
      "model_module": "@jupyter-widgets/base",
      "model_module_version": "1.2.0",
      "model_name": "LayoutModel",
      "state": {
       "flex": "2"
      }
     },
     "b2a34e8264ca4b579c89cea6f2c151af": {
      "model_module": "@jupyter-widgets/controls",
      "model_module_version": "1.5.0",
      "model_name": "DescriptionStyleModel",
      "state": {
       "description_width": ""
      }
     },
     "b2d8ae68682245279e64a3811ee68199": {
      "model_module": "@jupyter-widgets/controls",
      "model_module_version": "1.5.0",
      "model_name": "ProgressStyleModel",
      "state": {
       "description_width": ""
      }
     },
     "b2e7034832fc489da9eb0420843ed20e": {
      "model_module": "@jupyter-widgets/controls",
      "model_module_version": "1.5.0",
      "model_name": "DescriptionStyleModel",
      "state": {
       "description_width": ""
      }
     },
     "b3062b356a27419083bfc7ca3bb56ca8": {
      "model_module": "@jupyter-widgets/base",
      "model_module_version": "1.2.0",
      "model_name": "LayoutModel",
      "state": {}
     },
     "b32603a2800c48309d927e8e67463d03": {
      "model_module": "@jupyter-widgets/base",
      "model_module_version": "1.2.0",
      "model_name": "LayoutModel",
      "state": {}
     },
     "b34526723be749c89b185cc266307730": {
      "model_module": "@jupyter-widgets/controls",
      "model_module_version": "1.5.0",
      "model_name": "DescriptionStyleModel",
      "state": {
       "description_width": ""
      }
     },
     "b35f6375bb3d4429a0c8d24b2846f5b6": {
      "model_module": "@jupyter-widgets/base",
      "model_module_version": "1.2.0",
      "model_name": "LayoutModel",
      "state": {}
     },
     "b3aff4da2d784ec396a45ceb8d04ce01": {
      "model_module": "@jupyter-widgets/controls",
      "model_module_version": "1.5.0",
      "model_name": "ProgressStyleModel",
      "state": {
       "description_width": ""
      }
     },
     "b3b03aec8476478cb7e063101e1ff73c": {
      "model_module": "@jupyter-widgets/controls",
      "model_module_version": "1.5.0",
      "model_name": "HTMLModel",
      "state": {
       "layout": "IPY_MODEL_1a2fd97bb2854417ba1fdc4e45273ec0",
       "style": "IPY_MODEL_6b387a66708b41bd8dcc18b31ae45a8d",
       "value": "Validation DataLoader 0: 100%"
      }
     },
     "b3c97b8d76714af89b82a716e7c0b8e5": {
      "model_module": "@jupyter-widgets/base",
      "model_module_version": "1.2.0",
      "model_name": "LayoutModel",
      "state": {}
     },
     "b3d75261150c49edaf14e4685887691f": {
      "model_module": "@jupyter-widgets/controls",
      "model_module_version": "1.5.0",
      "model_name": "ProgressStyleModel",
      "state": {
       "description_width": ""
      }
     },
     "b3fdb4060eea4b8f899fb42b4af82882": {
      "model_module": "@jupyter-widgets/base",
      "model_module_version": "1.2.0",
      "model_name": "LayoutModel",
      "state": {}
     },
     "b43c89f41b39461683b1fb1b31ce7ef7": {
      "model_module": "@jupyter-widgets/base",
      "model_module_version": "1.2.0",
      "model_name": "LayoutModel",
      "state": {}
     },
     "b47bcf8d9efe4da78a7abf4ce3ffa687": {
      "model_module": "@jupyter-widgets/controls",
      "model_module_version": "1.5.0",
      "model_name": "ProgressStyleModel",
      "state": {
       "description_width": ""
      }
     },
     "b4985b38bf3b4e2bad806171486eedcb": {
      "model_module": "@jupyter-widgets/base",
      "model_module_version": "1.2.0",
      "model_name": "LayoutModel",
      "state": {
       "flex": "2"
      }
     },
     "b499fa78c0e4475cbdd5c993af732af3": {
      "model_module": "@jupyter-widgets/base",
      "model_module_version": "1.2.0",
      "model_name": "LayoutModel",
      "state": {}
     },
     "b49e918133d14daa99c96d86d07c4181": {
      "model_module": "@jupyter-widgets/controls",
      "model_module_version": "1.5.0",
      "model_name": "HTMLModel",
      "state": {
       "layout": "IPY_MODEL_d71b6e76e1904ecfaf76bf441db9d380",
       "style": "IPY_MODEL_ab2583827cbe43c69a2070195c5e1701",
       "value": "Validation DataLoader 0: 100%"
      }
     },
     "b49ecaaf04514a459a6fee47193611c2": {
      "model_module": "@jupyter-widgets/base",
      "model_module_version": "1.2.0",
      "model_name": "LayoutModel",
      "state": {}
     },
     "b4a1a5b3dcfc4836800f0f60386ac7f1": {
      "model_module": "@jupyter-widgets/controls",
      "model_module_version": "1.5.0",
      "model_name": "DescriptionStyleModel",
      "state": {
       "description_width": ""
      }
     },
     "b4aac92355a84b27a03923735425ae8e": {
      "model_module": "@jupyter-widgets/controls",
      "model_module_version": "1.5.0",
      "model_name": "HTMLModel",
      "state": {
       "layout": "IPY_MODEL_13ef24b1f35d4e4fbdac85ca39024147",
       "style": "IPY_MODEL_2c3910373b474865b13075f329c1d2a0",
       "value": " 8/8 [00:02&lt;00:00,  3.51it/s]"
      }
     },
     "b4bbb8f5502e4d9281c3447db1d8f26f": {
      "model_module": "@jupyter-widgets/controls",
      "model_module_version": "1.5.0",
      "model_name": "HTMLModel",
      "state": {
       "layout": "IPY_MODEL_a631b842507545148fd2b1d24df334ed",
       "style": "IPY_MODEL_f782a1ffc45a4934bb9e6f95bf7a228f",
       "value": " 22/69 [00:44&lt;01:34,  2.02s/it, loss=0.27, v_num=-131]"
      }
     },
     "b52827282b8f4b3498a14c874ca9f900": {
      "model_module": "@jupyter-widgets/base",
      "model_module_version": "1.2.0",
      "model_name": "LayoutModel",
      "state": {
       "flex": "2"
      }
     },
     "b5660b0e81e34c7c84489e89cc1f874d": {
      "model_module": "@jupyter-widgets/controls",
      "model_module_version": "1.5.0",
      "model_name": "DescriptionStyleModel",
      "state": {
       "description_width": ""
      }
     },
     "b56bf81364444d4caf9aeb60a3fcd91c": {
      "model_module": "@jupyter-widgets/controls",
      "model_module_version": "1.5.0",
      "model_name": "HTMLModel",
      "state": {
       "layout": "IPY_MODEL_13de1bf848f048358da3bb8f1b88e298",
       "style": "IPY_MODEL_f5b47e44efda4308836a2b266313005e",
       "value": " 8/8 [00:02&lt;00:00,  3.21it/s]"
      }
     },
     "b593828a92f742b28ac824fbbf4524cc": {
      "model_module": "@jupyter-widgets/base",
      "model_module_version": "1.2.0",
      "model_name": "LayoutModel",
      "state": {}
     },
     "b59bb301cfe148f18de67db12127ca55": {
      "model_module": "@jupyter-widgets/controls",
      "model_module_version": "1.5.0",
      "model_name": "HTMLModel",
      "state": {
       "layout": "IPY_MODEL_bd36d1c693bc470197dd8da25d6f0001",
       "style": "IPY_MODEL_8c7ce60f963c4e8d9dc07374e2ece11b",
       "value": " 8/8 [00:03&lt;00:00,  2.03it/s]"
      }
     },
     "b5ba8ac2daea4e1f9197d8bf1ba88dd5": {
      "model_module": "@jupyter-widgets/controls",
      "model_module_version": "1.5.0",
      "model_name": "DescriptionStyleModel",
      "state": {
       "description_width": ""
      }
     },
     "b5e53ea6780e4fd6b2a0f021069765c8": {
      "model_module": "@jupyter-widgets/controls",
      "model_module_version": "1.5.0",
      "model_name": "HTMLModel",
      "state": {
       "layout": "IPY_MODEL_99bd4729737942d98c44eba47900f3ec",
       "style": "IPY_MODEL_70287bf32bc14b26a43154f3aa3d8eec",
       "value": "Validation DataLoader 0: 100%"
      }
     },
     "b626504b1a194b7ab5059b9545860177": {
      "model_module": "@jupyter-widgets/controls",
      "model_module_version": "1.5.0",
      "model_name": "DescriptionStyleModel",
      "state": {
       "description_width": ""
      }
     },
     "b62ca59d5afd4f929e1c4e3b8970c3ce": {
      "model_module": "@jupyter-widgets/controls",
      "model_module_version": "1.5.0",
      "model_name": "HTMLModel",
      "state": {
       "layout": "IPY_MODEL_9de4f7ef6b7e4c5fa60aa5e50709b552",
       "style": "IPY_MODEL_8a565d171aad427abf96055240bb6ab6",
       "value": "Validation DataLoader 0: 100%"
      }
     },
     "b659ad0fe2614754971de97c54b72ca6": {
      "model_module": "@jupyter-widgets/controls",
      "model_module_version": "1.5.0",
      "model_name": "DescriptionStyleModel",
      "state": {
       "description_width": ""
      }
     },
     "b682be580382479db913bbb606a2cd43": {
      "model_module": "@jupyter-widgets/controls",
      "model_module_version": "1.5.0",
      "model_name": "HTMLModel",
      "state": {
       "layout": "IPY_MODEL_ee18efbc0cea4f24a287d7086cbf4a0e",
       "style": "IPY_MODEL_7e0d0bdb6c3c4241937022378376e923",
       "value": "Validation DataLoader 0: 100%"
      }
     },
     "b68acf601b8945c982ce0e3536f50ee1": {
      "model_module": "@jupyter-widgets/controls",
      "model_module_version": "1.5.0",
      "model_name": "HTMLModel",
      "state": {
       "layout": "IPY_MODEL_464878a6aab84d1f8395716de0c57a11",
       "style": "IPY_MODEL_7cb05a7df98f483ea88267d96ae0fb12",
       "value": "Validation DataLoader 0: 100%"
      }
     },
     "b699ab4761884886a8a9ae0d0a74ef46": {
      "model_module": "@jupyter-widgets/base",
      "model_module_version": "1.2.0",
      "model_name": "LayoutModel",
      "state": {}
     },
     "b6bded65a5e34b12abe2754daa2a7cea": {
      "model_module": "@jupyter-widgets/controls",
      "model_module_version": "1.5.0",
      "model_name": "FloatProgressModel",
      "state": {
       "layout": "IPY_MODEL_325612cfb4234b9ebbe197055403fbe4",
       "max": 8,
       "style": "IPY_MODEL_67317c1ec62c426d8e7bf4cd3c929cc9",
       "value": 8
      }
     },
     "b6c978955729491db99003ce5f7a7b58": {
      "model_module": "@jupyter-widgets/controls",
      "model_module_version": "1.5.0",
      "model_name": "HTMLModel",
      "state": {
       "layout": "IPY_MODEL_3e67a7e0ab6d4800a702c146574fc500",
       "style": "IPY_MODEL_1853c1bec02c4761b4bd6e1618265f14",
       "value": "Validation DataLoader 0: 100%"
      }
     },
     "b6d6a951e0b14addbf7c0a100f78a447": {
      "model_module": "@jupyter-widgets/base",
      "model_module_version": "1.2.0",
      "model_name": "LayoutModel",
      "state": {}
     },
     "b6eed22226b748aeba405de6b3be352b": {
      "model_module": "@jupyter-widgets/controls",
      "model_module_version": "1.5.0",
      "model_name": "DescriptionStyleModel",
      "state": {
       "description_width": ""
      }
     },
     "b717dec515974f0da9d645492cf3d2c4": {
      "model_module": "@jupyter-widgets/base",
      "model_module_version": "1.2.0",
      "model_name": "LayoutModel",
      "state": {}
     },
     "b738388bf6fa4f3ebba6ec989b7de6fc": {
      "model_module": "@jupyter-widgets/controls",
      "model_module_version": "1.5.0",
      "model_name": "FloatProgressModel",
      "state": {
       "layout": "IPY_MODEL_c83e4fb5c43d4369a15a63cd7b173a7a",
       "max": 8,
       "style": "IPY_MODEL_c269bc0239a64b379f54aaa6dd0eae74",
       "value": 8
      }
     },
     "b7554f064235467da379013193f25eb4": {
      "model_module": "@jupyter-widgets/controls",
      "model_module_version": "1.5.0",
      "model_name": "DescriptionStyleModel",
      "state": {
       "description_width": ""
      }
     },
     "b763fb47e0e040fcaa3977d87120a393": {
      "model_module": "@jupyter-widgets/controls",
      "model_module_version": "1.5.0",
      "model_name": "FloatProgressModel",
      "state": {
       "layout": "IPY_MODEL_931028a568e94312967cae752cf622fd",
       "max": 8,
       "style": "IPY_MODEL_06bec0a0fb704c57ad4c49e2829832d0",
       "value": 8
      }
     },
     "b77c7d7982104a4b81dcee7249399a5b": {
      "model_module": "@jupyter-widgets/controls",
      "model_module_version": "1.5.0",
      "model_name": "DescriptionStyleModel",
      "state": {
       "description_width": ""
      }
     },
     "b7866572dc534b59aa7b66abd3f55c26": {
      "model_module": "@jupyter-widgets/controls",
      "model_module_version": "1.5.0",
      "model_name": "DescriptionStyleModel",
      "state": {
       "description_width": ""
      }
     },
     "b787013ae37f496d89bb4c6f8b9a98a1": {
      "model_module": "@jupyter-widgets/controls",
      "model_module_version": "1.5.0",
      "model_name": "ProgressStyleModel",
      "state": {
       "description_width": ""
      }
     },
     "b79077f697254c648087f5dbee0dfe74": {
      "model_module": "@jupyter-widgets/base",
      "model_module_version": "1.2.0",
      "model_name": "LayoutModel",
      "state": {}
     },
     "b82abb556bb84e7482a9bae6aaeb68d7": {
      "model_module": "@jupyter-widgets/controls",
      "model_module_version": "1.5.0",
      "model_name": "HTMLModel",
      "state": {
       "layout": "IPY_MODEL_45da2a73b21141d8b1c39bfff5cee544",
       "style": "IPY_MODEL_f7091bb498a54862bbf4e762cff52032",
       "value": " 8/8 [00:02&lt;00:00,  2.75it/s]"
      }
     },
     "b83f4e51466f434c934dc3ee2d0df44e": {
      "model_module": "@jupyter-widgets/base",
      "model_module_version": "1.2.0",
      "model_name": "LayoutModel",
      "state": {}
     },
     "b84cbd9044fe45cdafd467a1b5a2b50f": {
      "model_module": "@jupyter-widgets/base",
      "model_module_version": "1.2.0",
      "model_name": "LayoutModel",
      "state": {}
     },
     "b850bb8ab3ed457ead98f9e742bc9e33": {
      "model_module": "@jupyter-widgets/base",
      "model_module_version": "1.2.0",
      "model_name": "LayoutModel",
      "state": {}
     },
     "b853e555da32483f961be806bf974478": {
      "model_module": "@jupyter-widgets/base",
      "model_module_version": "1.2.0",
      "model_name": "LayoutModel",
      "state": {}
     },
     "b897ce5ea40046ad9e25be85e154d96b": {
      "model_module": "@jupyter-widgets/base",
      "model_module_version": "1.2.0",
      "model_name": "LayoutModel",
      "state": {
       "flex": "2"
      }
     },
     "b897fdbcaa07432393d8b2353d922c02": {
      "model_module": "@jupyter-widgets/base",
      "model_module_version": "1.2.0",
      "model_name": "LayoutModel",
      "state": {}
     },
     "b8d5ea1eac434d638db684377c1485d5": {
      "model_module": "@jupyter-widgets/base",
      "model_module_version": "1.2.0",
      "model_name": "LayoutModel",
      "state": {
       "flex": "2"
      }
     },
     "b8f43baca24444b49b7952b8f834a230": {
      "model_module": "@jupyter-widgets/base",
      "model_module_version": "1.2.0",
      "model_name": "LayoutModel",
      "state": {}
     },
     "b8f9e60e705044de9e57f09e95f9b959": {
      "model_module": "@jupyter-widgets/controls",
      "model_module_version": "1.5.0",
      "model_name": "HTMLModel",
      "state": {
       "layout": "IPY_MODEL_85ed982d76d34934b69b3e54db44fc9c",
       "style": "IPY_MODEL_29734dabe0164fe78e503d6cd029822a",
       "value": " 8/8 [00:03&lt;00:00,  2.34it/s]"
      }
     },
     "b954e9386e59490d8ee2cdab45d3a2d6": {
      "model_module": "@jupyter-widgets/controls",
      "model_module_version": "1.5.0",
      "model_name": "HTMLModel",
      "state": {
       "layout": "IPY_MODEL_b6d6a951e0b14addbf7c0a100f78a447",
       "style": "IPY_MODEL_817ccded4dca4259974fc55d7f7cd14a",
       "value": "Validation DataLoader 0: 100%"
      }
     },
     "b96cc0f696424ab5a35544b2d0ce5dfd": {
      "model_module": "@jupyter-widgets/base",
      "model_module_version": "1.2.0",
      "model_name": "LayoutModel",
      "state": {
       "display": "inline-flex",
       "flex_flow": "row wrap",
       "width": "100%"
      }
     },
     "b98fceb574ad474987da2b3fb5efee48": {
      "model_module": "@jupyter-widgets/controls",
      "model_module_version": "1.5.0",
      "model_name": "ProgressStyleModel",
      "state": {
       "description_width": ""
      }
     },
     "b9b8e47c96174c3cbf61ff1152e8bf04": {
      "model_module": "@jupyter-widgets/controls",
      "model_module_version": "1.5.0",
      "model_name": "HTMLModel",
      "state": {
       "layout": "IPY_MODEL_4117b2d0d393444ea44fe6f1faf56622",
       "style": "IPY_MODEL_8df74b111318405fbfb030811cca5857",
       "value": " 8/8 [00:03&lt;00:00,  2.49it/s]"
      }
     },
     "b9c6004128274a8fa6b1e4ef7cc2a6e6": {
      "model_module": "@jupyter-widgets/base",
      "model_module_version": "1.2.0",
      "model_name": "LayoutModel",
      "state": {
       "flex": "2"
      }
     },
     "ba482a39184c4deeb1ca17ad64a7904c": {
      "model_module": "@jupyter-widgets/controls",
      "model_module_version": "1.5.0",
      "model_name": "FloatProgressModel",
      "state": {
       "layout": "IPY_MODEL_34a265fc462e4dd6b683e7cc27515a28",
       "max": 8,
       "style": "IPY_MODEL_5fee35920ac846b0afe903fb1e4f013b",
       "value": 8
      }
     },
     "ba63c3701d904cec97aa5537c107fc03": {
      "model_module": "@jupyter-widgets/controls",
      "model_module_version": "1.5.0",
      "model_name": "FloatProgressModel",
      "state": {
       "layout": "IPY_MODEL_a6e90b57a2fd4ef9a805226b5185141d",
       "max": 8,
       "style": "IPY_MODEL_32d7e166dd124d4e907098fe99f30991",
       "value": 8
      }
     },
     "ba9bf3a2b45247ac9df9a95ca11fbd23": {
      "model_module": "@jupyter-widgets/controls",
      "model_module_version": "1.5.0",
      "model_name": "HTMLModel",
      "state": {
       "layout": "IPY_MODEL_88ce0361c5ad4d3da76a425b08b7c638",
       "style": "IPY_MODEL_7fccc0aaa02642dbbe0e98f11028209b",
       "value": "Sanity Checking DataLoader 0: 100%"
      }
     },
     "baa4f0c7c4724c71ba2b745f1e71c2ea": {
      "model_module": "@jupyter-widgets/controls",
      "model_module_version": "1.5.0",
      "model_name": "HTMLModel",
      "state": {
       "layout": "IPY_MODEL_39f5c8089ec24015afa57094f7ad3b98",
       "style": "IPY_MODEL_693606fac83448a4af34ccc25d13f3b7",
       "value": " 8/8 [00:03&lt;00:00,  2.39it/s]"
      }
     },
     "bab21fe9e4894599867fa51bfc82a732": {
      "model_module": "@jupyter-widgets/base",
      "model_module_version": "1.2.0",
      "model_name": "LayoutModel",
      "state": {}
     },
     "bb2de24b39a34cfaa3884f74cae4c09f": {
      "model_module": "@jupyter-widgets/base",
      "model_module_version": "1.2.0",
      "model_name": "LayoutModel",
      "state": {}
     },
     "bb5712d28a7140938677e1e400ed335c": {
      "model_module": "@jupyter-widgets/controls",
      "model_module_version": "1.5.0",
      "model_name": "HTMLModel",
      "state": {
       "layout": "IPY_MODEL_4a05d4fe629b4ea4874b39ef11f2aae9",
       "style": "IPY_MODEL_0bc1a669436740ab8ff868ea8b813223",
       "value": " 2/2 [00:00&lt;00:00,  2.56it/s]"
      }
     },
     "bba76281caae4d529d732c00e817bd62": {
      "model_module": "@jupyter-widgets/base",
      "model_module_version": "1.2.0",
      "model_name": "LayoutModel",
      "state": {}
     },
     "bbcfa6732bf14f3ba938a05bd5d94814": {
      "model_module": "@jupyter-widgets/base",
      "model_module_version": "1.2.0",
      "model_name": "LayoutModel",
      "state": {
       "flex": "2"
      }
     },
     "bc1a2b7e98ef467eb435504bceb95114": {
      "model_module": "@jupyter-widgets/controls",
      "model_module_version": "1.5.0",
      "model_name": "HTMLModel",
      "state": {
       "layout": "IPY_MODEL_bda7faf007574ceebe7b93c5e2eaa6bd",
       "style": "IPY_MODEL_064ded5b6bb141f48ae291e586105636",
       "value": " 8/8 [00:06&lt;00:00,  1.29it/s]"
      }
     },
     "bc23c0322bce43f084ee56a173b18e21": {
      "model_module": "@jupyter-widgets/base",
      "model_module_version": "1.2.0",
      "model_name": "LayoutModel",
      "state": {
       "display": "inline-flex",
       "flex_flow": "row wrap",
       "width": "100%"
      }
     },
     "bc337655a9ee40d980c98669f94bec2a": {
      "model_module": "@jupyter-widgets/controls",
      "model_module_version": "1.5.0",
      "model_name": "FloatProgressModel",
      "state": {
       "layout": "IPY_MODEL_2fedff553e344832b2116c56dc45e86c",
       "max": 8,
       "style": "IPY_MODEL_590671712ca64f4189d2e3d82f91b657",
       "value": 8
      }
     },
     "bc46a8b451054478beb550dea83f13db": {
      "model_module": "@jupyter-widgets/controls",
      "model_module_version": "1.5.0",
      "model_name": "HTMLModel",
      "state": {
       "layout": "IPY_MODEL_4e5986b6f5fb47dea72b9253c51e250e",
       "style": "IPY_MODEL_fd5e8f391268439f9e5c525725101f40",
       "value": " 8/8 [00:03&lt;00:00,  2.34it/s]"
      }
     },
     "bc7b9420a22a4bac91b44f612b6db321": {
      "model_module": "@jupyter-widgets/controls",
      "model_module_version": "1.5.0",
      "model_name": "HTMLModel",
      "state": {
       "layout": "IPY_MODEL_f7f7ac0666a340f78cd2424c984ffb70",
       "style": "IPY_MODEL_ddb516dfd9ef4e049359cc84f1b29146",
       "value": " 2/2 [00:00&lt;00:00,  2.03it/s]"
      }
     },
     "bcad00289f9f489bbd4f2aae8b709316": {
      "model_module": "@jupyter-widgets/controls",
      "model_module_version": "1.5.0",
      "model_name": "ProgressStyleModel",
      "state": {
       "description_width": ""
      }
     },
     "bcb355a60ab04d25835facc24708d108": {
      "model_module": "@jupyter-widgets/controls",
      "model_module_version": "1.5.0",
      "model_name": "HTMLModel",
      "state": {
       "layout": "IPY_MODEL_9d15fc48e7fe4ffca6b61fc3d128a560",
       "style": "IPY_MODEL_590c81248f3748eab915fac042bb397b",
       "value": "Validation DataLoader 0: 100%"
      }
     },
     "bcb95ede12ed4f4885de9f41efbeed4c": {
      "model_module": "@jupyter-widgets/base",
      "model_module_version": "1.2.0",
      "model_name": "LayoutModel",
      "state": {
       "display": "inline-flex",
       "flex_flow": "row wrap",
       "width": "100%"
      }
     },
     "bd01dc8145904416ac92a6c05b48ec79": {
      "model_module": "@jupyter-widgets/base",
      "model_module_version": "1.2.0",
      "model_name": "LayoutModel",
      "state": {
       "flex": "2"
      }
     },
     "bd024e0f3e684d6e96b275a947cc1741": {
      "model_module": "@jupyter-widgets/controls",
      "model_module_version": "1.5.0",
      "model_name": "FloatProgressModel",
      "state": {
       "layout": "IPY_MODEL_f26f7c452da245eea85b6f31f26eeb54",
       "max": 8,
       "style": "IPY_MODEL_7a8f61e27544414a8e839a336863ae8b",
       "value": 8
      }
     },
     "bd041050b2dc45d8941d89fef37b0c2f": {
      "model_module": "@jupyter-widgets/controls",
      "model_module_version": "1.5.0",
      "model_name": "HTMLModel",
      "state": {
       "layout": "IPY_MODEL_224ff0a8da2f463a84f6b4aa508d0fda",
       "style": "IPY_MODEL_fcefa435c3cf4592a7e29ab19e2ea4d6",
       "value": " 8/8 [00:05&lt;00:00,  1.35it/s]"
      }
     },
     "bd3308eb81dd43bf9bda3ad3bcd1dc8f": {
      "model_module": "@jupyter-widgets/base",
      "model_module_version": "1.2.0",
      "model_name": "LayoutModel",
      "state": {}
     },
     "bd36d1c693bc470197dd8da25d6f0001": {
      "model_module": "@jupyter-widgets/base",
      "model_module_version": "1.2.0",
      "model_name": "LayoutModel",
      "state": {}
     },
     "bd71349811c446e5b28e7d051e96cb66": {
      "model_module": "@jupyter-widgets/controls",
      "model_module_version": "1.5.0",
      "model_name": "FloatProgressModel",
      "state": {
       "layout": "IPY_MODEL_ecb76b95dc54449ca04af0f53ff79847",
       "max": 8,
       "style": "IPY_MODEL_b3aff4da2d784ec396a45ceb8d04ce01",
       "value": 8
      }
     },
     "bd77246223034de3b5c57ec4a254bdec": {
      "model_module": "@jupyter-widgets/controls",
      "model_module_version": "1.5.0",
      "model_name": "HTMLModel",
      "state": {
       "layout": "IPY_MODEL_7a1da32c97bd4cf599be931df90b02dd",
       "style": "IPY_MODEL_ceab528402974280bf19b18bba0d40f8",
       "value": " 8/8 [00:02&lt;00:00,  3.20it/s]"
      }
     },
     "bd7ce198797e4ec5bc5a2d391b552dab": {
      "model_module": "@jupyter-widgets/controls",
      "model_module_version": "1.5.0",
      "model_name": "HBoxModel",
      "state": {
       "children": [
        "IPY_MODEL_62077e7d82074d1d9e6d54b89764e9de",
        "IPY_MODEL_5fb919af424d4b3f9ccce0164b8c2fb0",
        "IPY_MODEL_3551f5ec791a4004af6f7fd346ae5106"
       ],
       "layout": "IPY_MODEL_73f484be32194973b0349549ebf321fc"
      }
     },
     "bda38c5049ad499496ee6a1d849eaa83": {
      "model_module": "@jupyter-widgets/controls",
      "model_module_version": "1.5.0",
      "model_name": "FloatProgressModel",
      "state": {
       "layout": "IPY_MODEL_c1233a06334a4abdabaf04c6a49a6678",
       "max": 69,
       "style": "IPY_MODEL_e0b79ea5a23646b3a4f2d48d12da5b13",
       "value": 45
      }
     },
     "bda7faf007574ceebe7b93c5e2eaa6bd": {
      "model_module": "@jupyter-widgets/base",
      "model_module_version": "1.2.0",
      "model_name": "LayoutModel",
      "state": {}
     },
     "bdaefd7b1ab1480baa72c0f3bc5087ba": {
      "model_module": "@jupyter-widgets/base",
      "model_module_version": "1.2.0",
      "model_name": "LayoutModel",
      "state": {
       "flex": "2"
      }
     },
     "bdfb3c3e5c904e1786bc64abdeaf561b": {
      "model_module": "@jupyter-widgets/base",
      "model_module_version": "1.2.0",
      "model_name": "LayoutModel",
      "state": {}
     },
     "be0c091a8eb94a9b9f3c78c56ea05a3b": {
      "model_module": "@jupyter-widgets/base",
      "model_module_version": "1.2.0",
      "model_name": "LayoutModel",
      "state": {}
     },
     "be72d879fde54968ab4251039110f539": {
      "model_module": "@jupyter-widgets/base",
      "model_module_version": "1.2.0",
      "model_name": "LayoutModel",
      "state": {}
     },
     "be814f40c9274a2ab826d264c5148669": {
      "model_module": "@jupyter-widgets/controls",
      "model_module_version": "1.5.0",
      "model_name": "DescriptionStyleModel",
      "state": {
       "description_width": ""
      }
     },
     "be90143d9e924970a5794f5affa74632": {
      "model_module": "@jupyter-widgets/controls",
      "model_module_version": "1.5.0",
      "model_name": "HTMLModel",
      "state": {
       "layout": "IPY_MODEL_eceae98dcc42443fb2e43bde49778dba",
       "style": "IPY_MODEL_03aca36652c743199a83611dc5a6d5d8",
       "value": "Validation DataLoader 0: 100%"
      }
     },
     "bec7fdd85eb74fe29a96512f205526e2": {
      "model_module": "@jupyter-widgets/controls",
      "model_module_version": "1.5.0",
      "model_name": "HTMLModel",
      "state": {
       "layout": "IPY_MODEL_b593828a92f742b28ac824fbbf4524cc",
       "style": "IPY_MODEL_8683eec062034e37858a4ed79d6bfb2b",
       "value": "Validation DataLoader 0: 100%"
      }
     },
     "bf0acee948be4b869374fd0ddc6e01dc": {
      "model_module": "@jupyter-widgets/base",
      "model_module_version": "1.2.0",
      "model_name": "LayoutModel",
      "state": {}
     },
     "bf5ec690c4d44576ab5315518894ed07": {
      "model_module": "@jupyter-widgets/controls",
      "model_module_version": "1.5.0",
      "model_name": "DescriptionStyleModel",
      "state": {
       "description_width": ""
      }
     },
     "bf61fb1c13ec44498642aad79777799b": {
      "model_module": "@jupyter-widgets/controls",
      "model_module_version": "1.5.0",
      "model_name": "HTMLModel",
      "state": {
       "layout": "IPY_MODEL_b43c89f41b39461683b1fb1b31ce7ef7",
       "style": "IPY_MODEL_75ae51c2b4634efc9274de8c9a986d63",
       "value": "Validation DataLoader 0: 100%"
      }
     },
     "bf715a0249ce406c90923d7ea2c91cc6": {
      "model_module": "@jupyter-widgets/controls",
      "model_module_version": "1.5.0",
      "model_name": "HTMLModel",
      "state": {
       "layout": "IPY_MODEL_f5d477163cf14b8c969605077153bb5b",
       "style": "IPY_MODEL_cdaac34f4dae4ca2a1174185f8ac5088",
       "value": " 8/8 [00:02&lt;00:00,  3.22it/s]"
      }
     },
     "bfa5bc4d1f994cf38bc4d65895a272e8": {
      "model_module": "@jupyter-widgets/base",
      "model_module_version": "1.2.0",
      "model_name": "LayoutModel",
      "state": {}
     },
     "bfb8db085dce4591b1e030a0bf004b8d": {
      "model_module": "@jupyter-widgets/base",
      "model_module_version": "1.2.0",
      "model_name": "LayoutModel",
      "state": {
       "flex": "2"
      }
     },
     "bfb92515674743e3adb9e18234715463": {
      "model_module": "@jupyter-widgets/controls",
      "model_module_version": "1.5.0",
      "model_name": "ProgressStyleModel",
      "state": {
       "description_width": ""
      }
     },
     "c03422f0afca4e919a60959b26912228": {
      "model_module": "@jupyter-widgets/base",
      "model_module_version": "1.2.0",
      "model_name": "LayoutModel",
      "state": {}
     },
     "c037a44db7cc4094abc1556c201e8668": {
      "model_module": "@jupyter-widgets/controls",
      "model_module_version": "1.5.0",
      "model_name": "ProgressStyleModel",
      "state": {
       "description_width": ""
      }
     },
     "c037c57bcc764194887557677bcc6afb": {
      "model_module": "@jupyter-widgets/controls",
      "model_module_version": "1.5.0",
      "model_name": "FloatProgressModel",
      "state": {
       "layout": "IPY_MODEL_f81702f7ac6e47b1a60e42a9e7f93ed5",
       "max": 8,
       "style": "IPY_MODEL_95ae638846e34e0888b4d213753341ea",
       "value": 8
      }
     },
     "c038ddc3e3ab4f0da9b7c062a719f1c6": {
      "model_module": "@jupyter-widgets/base",
      "model_module_version": "1.2.0",
      "model_name": "LayoutModel",
      "state": {}
     },
     "c053f8b87eb04ab1b8cfb4bf3ffa733b": {
      "model_module": "@jupyter-widgets/controls",
      "model_module_version": "1.5.0",
      "model_name": "HTMLModel",
      "state": {
       "layout": "IPY_MODEL_ee7612c8ccfc41938c74638e72b8cb28",
       "style": "IPY_MODEL_4c33406792a048fd998a3a56cec302f8",
       "value": " 8/8 [00:03&lt;00:00,  2.46it/s]"
      }
     },
     "c0781843601140ffb05547a680acee50": {
      "model_module": "@jupyter-widgets/controls",
      "model_module_version": "1.5.0",
      "model_name": "DescriptionStyleModel",
      "state": {
       "description_width": ""
      }
     },
     "c07b33455bd84b2fa42e36ace51dc7fe": {
      "model_module": "@jupyter-widgets/base",
      "model_module_version": "1.2.0",
      "model_name": "LayoutModel",
      "state": {
       "flex": "2"
      }
     },
     "c094b82a70644307ad2676e236bb3fd2": {
      "model_module": "@jupyter-widgets/controls",
      "model_module_version": "1.5.0",
      "model_name": "DescriptionStyleModel",
      "state": {
       "description_width": ""
      }
     },
     "c097a1ea29a6480f8b4d9ff2e01a44fd": {
      "model_module": "@jupyter-widgets/base",
      "model_module_version": "1.2.0",
      "model_name": "LayoutModel",
      "state": {
       "flex": "2"
      }
     },
     "c0bfeacac25c42a1bec9f2abeb4c6373": {
      "model_module": "@jupyter-widgets/controls",
      "model_module_version": "1.5.0",
      "model_name": "HTMLModel",
      "state": {
       "layout": "IPY_MODEL_d855d834399c44828d7bd6cf9899945f",
       "style": "IPY_MODEL_0eb300f084b5406e87855698a52d739d",
       "value": "Validation DataLoader 0: 100%"
      }
     },
     "c0dad4252bda4c4f98b070f7f88bbc32": {
      "model_module": "@jupyter-widgets/base",
      "model_module_version": "1.2.0",
      "model_name": "LayoutModel",
      "state": {}
     },
     "c118d6c5d211406281cb1e24e2579c34": {
      "model_module": "@jupyter-widgets/controls",
      "model_module_version": "1.5.0",
      "model_name": "DescriptionStyleModel",
      "state": {
       "description_width": ""
      }
     },
     "c11a404b99cb45d793113988c22eba3e": {
      "model_module": "@jupyter-widgets/base",
      "model_module_version": "1.2.0",
      "model_name": "LayoutModel",
      "state": {}
     },
     "c1233a06334a4abdabaf04c6a49a6678": {
      "model_module": "@jupyter-widgets/base",
      "model_module_version": "1.2.0",
      "model_name": "LayoutModel",
      "state": {
       "flex": "2"
      }
     },
     "c12a0b9795e04ef2a46932c7d937dfdb": {
      "model_module": "@jupyter-widgets/controls",
      "model_module_version": "1.5.0",
      "model_name": "FloatProgressModel",
      "state": {
       "layout": "IPY_MODEL_3fb70d9fad8f432f867a227fec5a40f7",
       "max": 8,
       "style": "IPY_MODEL_1c0ebaf3e9a64913b6bf80d1da6276bd",
       "value": 8
      }
     },
     "c19edd2779114fb3bae4de958d96b296": {
      "model_module": "@jupyter-widgets/controls",
      "model_module_version": "1.5.0",
      "model_name": "DescriptionStyleModel",
      "state": {
       "description_width": ""
      }
     },
     "c1ad865094fa4cacb183e83868ef078d": {
      "model_module": "@jupyter-widgets/controls",
      "model_module_version": "1.5.0",
      "model_name": "HTMLModel",
      "state": {
       "layout": "IPY_MODEL_899788a73a1c48faaed6112c8fce3b20",
       "style": "IPY_MODEL_f846c3843bc64fd4b058920f17a86046",
       "value": "Validation DataLoader 0: 100%"
      }
     },
     "c1b34e9618864868ad1bc3e10b23e6c2": {
      "model_module": "@jupyter-widgets/controls",
      "model_module_version": "1.5.0",
      "model_name": "HTMLModel",
      "state": {
       "layout": "IPY_MODEL_9244f37f30cb4e90a638eb6e93a7516a",
       "style": "IPY_MODEL_573b706562624fdb9dcd6f0147f47717",
       "value": "Validation DataLoader 0: 100%"
      }
     },
     "c1bb7561050c4beebdd494ef838c3bed": {
      "model_module": "@jupyter-widgets/controls",
      "model_module_version": "1.5.0",
      "model_name": "HTMLModel",
      "state": {
       "layout": "IPY_MODEL_54d3c99525374cd68e45e4d0d72373dd",
       "style": "IPY_MODEL_4a99118e757440649439b5d667d07ba3",
       "value": "Validation DataLoader 0: 100%"
      }
     },
     "c1f01fec0d4c417d936422ce45507041": {
      "model_module": "@jupyter-widgets/controls",
      "model_module_version": "1.5.0",
      "model_name": "DescriptionStyleModel",
      "state": {
       "description_width": ""
      }
     },
     "c1f9821d5be74e898e5f9b7f4ba0c24b": {
      "model_module": "@jupyter-widgets/base",
      "model_module_version": "1.2.0",
      "model_name": "LayoutModel",
      "state": {
       "display": "inline-flex",
       "flex_flow": "row wrap",
       "width": "100%"
      }
     },
     "c2170eb513c941e2bad9183416389c8e": {
      "model_module": "@jupyter-widgets/controls",
      "model_module_version": "1.5.0",
      "model_name": "HTMLModel",
      "state": {
       "layout": "IPY_MODEL_0a71033c693a4289b60e12ffa5ccf400",
       "style": "IPY_MODEL_37a9e2f2af6a4f968ca883112749c591",
       "value": " 8/8 [00:04&lt;00:00,  1.62it/s]"
      }
     },
     "c22a5cf149c9477c86ce01595db754fb": {
      "model_module": "@jupyter-widgets/controls",
      "model_module_version": "1.5.0",
      "model_name": "HTMLModel",
      "state": {
       "layout": "IPY_MODEL_fdeb9cea8a604b42b1d411aa9e1ae0c5",
       "style": "IPY_MODEL_6c0a469d353441959ae069543d7b2b19",
       "value": " 8/8 [00:03&lt;00:00,  2.48it/s]"
      }
     },
     "c269bc0239a64b379f54aaa6dd0eae74": {
      "model_module": "@jupyter-widgets/controls",
      "model_module_version": "1.5.0",
      "model_name": "ProgressStyleModel",
      "state": {
       "description_width": ""
      }
     },
     "c276584cab4e4710889b0b416e5d62a4": {
      "model_module": "@jupyter-widgets/controls",
      "model_module_version": "1.5.0",
      "model_name": "FloatProgressModel",
      "state": {
       "layout": "IPY_MODEL_0f30a818e8cc4e7b84a79ce00d9c0691",
       "max": 8,
       "style": "IPY_MODEL_75311dd0633a4be5afb5a7ddb4c705a2",
       "value": 8
      }
     },
     "c27c9865ddd24d9abb7012275a090a12": {
      "model_module": "@jupyter-widgets/base",
      "model_module_version": "1.2.0",
      "model_name": "LayoutModel",
      "state": {
       "display": "inline-flex",
       "flex_flow": "row wrap",
       "width": "100%"
      }
     },
     "c2e0aa2d0def491aa8b971e11f993f85": {
      "model_module": "@jupyter-widgets/controls",
      "model_module_version": "1.5.0",
      "model_name": "HTMLModel",
      "state": {
       "layout": "IPY_MODEL_a9fb3c2959004748b88bcd60dd0c5b22",
       "style": "IPY_MODEL_0e56f02153234bd3a0428b89936592eb",
       "value": " 8/8 [00:04&lt;00:00,  1.91it/s]"
      }
     },
     "c3070df0fa8c4b6ca776c5b3a7960eef": {
      "model_module": "@jupyter-widgets/controls",
      "model_module_version": "1.5.0",
      "model_name": "FloatProgressModel",
      "state": {
       "layout": "IPY_MODEL_382a55ae636c49e9a895c5802d1c125b",
       "max": 8,
       "style": "IPY_MODEL_e1b2b90875d64cacbdeb8e447e27947a",
       "value": 8
      }
     },
     "c323cf2f68924e43a0177231269c3fc8": {
      "model_module": "@jupyter-widgets/controls",
      "model_module_version": "1.5.0",
      "model_name": "ProgressStyleModel",
      "state": {
       "description_width": ""
      }
     },
     "c348f6c656d84072be005a8d2c26c11e": {
      "model_module": "@jupyter-widgets/base",
      "model_module_version": "1.2.0",
      "model_name": "LayoutModel",
      "state": {
       "flex": "2"
      }
     },
     "c3e569833a5b42f791eb68fd1d70824b": {
      "model_module": "@jupyter-widgets/base",
      "model_module_version": "1.2.0",
      "model_name": "LayoutModel",
      "state": {
       "flex": "2"
      }
     },
     "c3e65b3caf224b1eb2435c121175bd25": {
      "model_module": "@jupyter-widgets/controls",
      "model_module_version": "1.5.0",
      "model_name": "ProgressStyleModel",
      "state": {
       "description_width": ""
      }
     },
     "c3e87a32b5f84f7aad5cbb1f85458dbd": {
      "model_module": "@jupyter-widgets/controls",
      "model_module_version": "1.5.0",
      "model_name": "DescriptionStyleModel",
      "state": {
       "description_width": ""
      }
     },
     "c3ee6c61af514a00b5ad36bf4b873a91": {
      "model_module": "@jupyter-widgets/controls",
      "model_module_version": "1.5.0",
      "model_name": "FloatProgressModel",
      "state": {
       "layout": "IPY_MODEL_11ffcdef53224ef9be7ef9101b0a9880",
       "max": 8,
       "style": "IPY_MODEL_8db8038b48184a5482a0a64837cf92c3",
       "value": 8
      }
     },
     "c3f261a6b57c43ee97162d06c12dce16": {
      "model_module": "@jupyter-widgets/controls",
      "model_module_version": "1.5.0",
      "model_name": "HTMLModel",
      "state": {
       "layout": "IPY_MODEL_20bad6277b2d43be9c63dc4b6938e056",
       "style": "IPY_MODEL_adb5f79ce6724314ab4fb91ac37c10b4",
       "value": " 8/8 [00:02&lt;00:00,  3.01it/s]"
      }
     },
     "c3fc6d0589b845beafab5e5055841f25": {
      "model_module": "@jupyter-widgets/controls",
      "model_module_version": "1.5.0",
      "model_name": "DescriptionStyleModel",
      "state": {
       "description_width": ""
      }
     },
     "c40db2903b3546b4ba63721d684be07e": {
      "model_module": "@jupyter-widgets/controls",
      "model_module_version": "1.5.0",
      "model_name": "FloatProgressModel",
      "state": {
       "layout": "IPY_MODEL_37f3ba22cb2d4734979d3deb1e7ba77c",
       "max": 8,
       "style": "IPY_MODEL_f7e6ba664d2a4604a3dec5e86ced544a",
       "value": 8
      }
     },
     "c4134a2068f14ca68b4db6a734dde8e6": {
      "model_module": "@jupyter-widgets/base",
      "model_module_version": "1.2.0",
      "model_name": "LayoutModel",
      "state": {
       "flex": "2"
      }
     },
     "c459fc3e835a4478a1aa81879d378a10": {
      "model_module": "@jupyter-widgets/controls",
      "model_module_version": "1.5.0",
      "model_name": "FloatProgressModel",
      "state": {
       "layout": "IPY_MODEL_edf73a68737d47fca5cbadb8cef3a72c",
       "max": 8,
       "style": "IPY_MODEL_412e5b0b6f4243aaa4fc4d5101ab0e93",
       "value": 8
      }
     },
     "c46befb07317423e919690a3e1d423e5": {
      "model_module": "@jupyter-widgets/base",
      "model_module_version": "1.2.0",
      "model_name": "LayoutModel",
      "state": {}
     },
     "c479cf1f27ab405db0969da4db95e8e7": {
      "model_module": "@jupyter-widgets/controls",
      "model_module_version": "1.5.0",
      "model_name": "HTMLModel",
      "state": {
       "layout": "IPY_MODEL_95f02761c9f94e5b98435530f096705c",
       "style": "IPY_MODEL_e7f80e3978184968a82409fd5ba78cfd",
       "value": " 8/8 [00:03&lt;00:00,  2.38it/s]"
      }
     },
     "c498e284b9b64db0bff4289903171f96": {
      "model_module": "@jupyter-widgets/controls",
      "model_module_version": "1.5.0",
      "model_name": "DescriptionStyleModel",
      "state": {
       "description_width": ""
      }
     },
     "c4bfa2a0ad004816b0bfe2700c0c548f": {
      "model_module": "@jupyter-widgets/base",
      "model_module_version": "1.2.0",
      "model_name": "LayoutModel",
      "state": {
       "display": "inline-flex",
       "flex_flow": "row wrap",
       "width": "100%"
      }
     },
     "c4c9c02365c242b5879611b09cb48757": {
      "model_module": "@jupyter-widgets/controls",
      "model_module_version": "1.5.0",
      "model_name": "FloatProgressModel",
      "state": {
       "layout": "IPY_MODEL_b897ce5ea40046ad9e25be85e154d96b",
       "max": 8,
       "style": "IPY_MODEL_65cf1b339fb5499a9f9ccb7afd62b232",
       "value": 8
      }
     },
     "c4ec63170af94509b82f2acbe43c0731": {
      "model_module": "@jupyter-widgets/controls",
      "model_module_version": "1.5.0",
      "model_name": "FloatProgressModel",
      "state": {
       "layout": "IPY_MODEL_207d14f4d55347ba8faf4e27a555d368",
       "max": 8,
       "style": "IPY_MODEL_b23afb9ebca54c8590597d7508fa9c8d",
       "value": 8
      }
     },
     "c55f06042304483fba063aac73c06698": {
      "model_module": "@jupyter-widgets/controls",
      "model_module_version": "1.5.0",
      "model_name": "FloatProgressModel",
      "state": {
       "layout": "IPY_MODEL_9d34d97f3596498e9c80b32b510d8947",
       "max": 8,
       "style": "IPY_MODEL_470d959cf7eb4a7baa4fdd1d887607c4",
       "value": 8
      }
     },
     "c5807d7a42e8431fa0349ec414bf8638": {
      "model_module": "@jupyter-widgets/controls",
      "model_module_version": "1.5.0",
      "model_name": "DescriptionStyleModel",
      "state": {
       "description_width": ""
      }
     },
     "c5c0c13d8a4449619c1aab547fc190c4": {
      "model_module": "@jupyter-widgets/controls",
      "model_module_version": "1.5.0",
      "model_name": "FloatProgressModel",
      "state": {
       "layout": "IPY_MODEL_3744ca0c0abe4f9887cfc39c57804de7",
       "max": 8,
       "style": "IPY_MODEL_eb14bdc54b6e4e6facbd0caf54efeb3e",
       "value": 8
      }
     },
     "c5e41e0461844c0e9585a503b96f3453": {
      "model_module": "@jupyter-widgets/base",
      "model_module_version": "1.2.0",
      "model_name": "LayoutModel",
      "state": {}
     },
     "c5f74a7bf84442c3909acccd0903cc41": {
      "model_module": "@jupyter-widgets/base",
      "model_module_version": "1.2.0",
      "model_name": "LayoutModel",
      "state": {}
     },
     "c609529d1c114a6cbc7b5a8ba2d2cf79": {
      "model_module": "@jupyter-widgets/controls",
      "model_module_version": "1.5.0",
      "model_name": "DescriptionStyleModel",
      "state": {
       "description_width": ""
      }
     },
     "c61f7819950f40f183e876c13abc05b0": {
      "model_module": "@jupyter-widgets/controls",
      "model_module_version": "1.5.0",
      "model_name": "DescriptionStyleModel",
      "state": {
       "description_width": ""
      }
     },
     "c6282c6c60cc467c9c532d3abf436d9d": {
      "model_module": "@jupyter-widgets/controls",
      "model_module_version": "1.5.0",
      "model_name": "ProgressStyleModel",
      "state": {
       "description_width": ""
      }
     },
     "c6283df805af40db855e41d9a954d217": {
      "model_module": "@jupyter-widgets/controls",
      "model_module_version": "1.5.0",
      "model_name": "FloatProgressModel",
      "state": {
       "layout": "IPY_MODEL_0d80f904b43e4836a05d7051026b78d8",
       "max": 8,
       "style": "IPY_MODEL_a3c12dd888744517b8b31a791c3e2807",
       "value": 8
      }
     },
     "c681e64bd92241a1b3a1807449fa5866": {
      "model_module": "@jupyter-widgets/base",
      "model_module_version": "1.2.0",
      "model_name": "LayoutModel",
      "state": {
       "flex": "2"
      }
     },
     "c682a6b0837a4ba4aa1c17b43ab110df": {
      "model_module": "@jupyter-widgets/base",
      "model_module_version": "1.2.0",
      "model_name": "LayoutModel",
      "state": {}
     },
     "c68edb99c72a4e88b681dc161e151a70": {
      "model_module": "@jupyter-widgets/base",
      "model_module_version": "1.2.0",
      "model_name": "LayoutModel",
      "state": {
       "flex": "2"
      }
     },
     "c6da37e969164f19b148992853d0138b": {
      "model_module": "@jupyter-widgets/controls",
      "model_module_version": "1.5.0",
      "model_name": "HTMLModel",
      "state": {
       "layout": "IPY_MODEL_9767a727833f457c89fdbf2510893f4e",
       "style": "IPY_MODEL_fa9f10c809064c6689fe876dbef8c9f7",
       "value": "Validation DataLoader 0: 100%"
      }
     },
     "c730f9da3d5a4c96b76ac3a61e180133": {
      "model_module": "@jupyter-widgets/controls",
      "model_module_version": "1.5.0",
      "model_name": "DescriptionStyleModel",
      "state": {
       "description_width": ""
      }
     },
     "c73309139edc471f9c9994787ca31e80": {
      "model_module": "@jupyter-widgets/controls",
      "model_module_version": "1.5.0",
      "model_name": "DescriptionStyleModel",
      "state": {
       "description_width": ""
      }
     },
     "c7458fc0921f406fb8408177ca46b7d8": {
      "model_module": "@jupyter-widgets/controls",
      "model_module_version": "1.5.0",
      "model_name": "DescriptionStyleModel",
      "state": {
       "description_width": ""
      }
     },
     "c7844fa0ebb049478c1725a4fb73dd08": {
      "model_module": "@jupyter-widgets/base",
      "model_module_version": "1.2.0",
      "model_name": "LayoutModel",
      "state": {}
     },
     "c7a2099acf104dba93e4817bbd25c4a0": {
      "model_module": "@jupyter-widgets/base",
      "model_module_version": "1.2.0",
      "model_name": "LayoutModel",
      "state": {
       "display": "inline-flex",
       "flex_flow": "row wrap",
       "width": "100%"
      }
     },
     "c7b5ad0b121240b483ef99e22c666c0a": {
      "model_module": "@jupyter-widgets/base",
      "model_module_version": "1.2.0",
      "model_name": "LayoutModel",
      "state": {}
     },
     "c7f1537fbee94cec8bb6d9042541eaf1": {
      "model_module": "@jupyter-widgets/controls",
      "model_module_version": "1.5.0",
      "model_name": "HTMLModel",
      "state": {
       "layout": "IPY_MODEL_ada67fdd86eb49028c06b3fcc0b6e131",
       "style": "IPY_MODEL_0e3bb42c41484c1299e81420609f7836",
       "value": " 8/8 [00:03&lt;00:00,  2.48it/s]"
      }
     },
     "c7ff8877bdfb4ef6804108fdbcb8ed25": {
      "model_module": "@jupyter-widgets/controls",
      "model_module_version": "1.5.0",
      "model_name": "DescriptionStyleModel",
      "state": {
       "description_width": ""
      }
     },
     "c83ca924162b4d47a1b1ac98a9fbad41": {
      "model_module": "@jupyter-widgets/controls",
      "model_module_version": "1.5.0",
      "model_name": "FloatProgressModel",
      "state": {
       "layout": "IPY_MODEL_cd1361df616a439a8534da0b5c3292ea",
       "max": 8,
       "style": "IPY_MODEL_343fc344986546628eb45a35511b9247",
       "value": 8
      }
     },
     "c83e4fb5c43d4369a15a63cd7b173a7a": {
      "model_module": "@jupyter-widgets/base",
      "model_module_version": "1.2.0",
      "model_name": "LayoutModel",
      "state": {
       "flex": "2"
      }
     },
     "c840fef7089d4293af175d339234b7f5": {
      "model_module": "@jupyter-widgets/base",
      "model_module_version": "1.2.0",
      "model_name": "LayoutModel",
      "state": {}
     },
     "c86e46c9894d40d2ac0a5be00ce7a244": {
      "model_module": "@jupyter-widgets/base",
      "model_module_version": "1.2.0",
      "model_name": "LayoutModel",
      "state": {
       "flex": "2"
      }
     },
     "c8739152d3d049919f2714a4f43e20d8": {
      "model_module": "@jupyter-widgets/controls",
      "model_module_version": "1.5.0",
      "model_name": "FloatProgressModel",
      "state": {
       "layout": "IPY_MODEL_cffbf3b856fa4a3aaa3be2d9a1907c32",
       "max": 69,
       "style": "IPY_MODEL_8629676bf5484a729cb722e3dc812bbf",
       "value": 22
      }
     },
     "c8d74c0ba0ae47e48d0a9340b2ee1c1d": {
      "model_module": "@jupyter-widgets/controls",
      "model_module_version": "1.5.0",
      "model_name": "ProgressStyleModel",
      "state": {
       "description_width": ""
      }
     },
     "c90b496ddf984d7eb1f4303021f9e590": {
      "model_module": "@jupyter-widgets/controls",
      "model_module_version": "1.5.0",
      "model_name": "DescriptionStyleModel",
      "state": {
       "description_width": ""
      }
     },
     "c927c98a99744983af1be29ec1fd80dd": {
      "model_module": "@jupyter-widgets/base",
      "model_module_version": "1.2.0",
      "model_name": "LayoutModel",
      "state": {
       "flex": "2"
      }
     },
     "c935ab73ee7d42628456801686fdba34": {
      "model_module": "@jupyter-widgets/base",
      "model_module_version": "1.2.0",
      "model_name": "LayoutModel",
      "state": {}
     },
     "c993c34d16bc4e958086124b5ab207d5": {
      "model_module": "@jupyter-widgets/base",
      "model_module_version": "1.2.0",
      "model_name": "LayoutModel",
      "state": {}
     },
     "c9a48083e2ed4b499732fcc45b99518b": {
      "model_module": "@jupyter-widgets/controls",
      "model_module_version": "1.5.0",
      "model_name": "FloatProgressModel",
      "state": {
       "layout": "IPY_MODEL_b28fcc03aba04804823cf7b9214f152f",
       "max": 8,
       "style": "IPY_MODEL_b00b96e3f6f442d79ef6efe4d8a70020",
       "value": 8
      }
     },
     "c9c62212fba84940b320c101c7dfbc08": {
      "model_module": "@jupyter-widgets/base",
      "model_module_version": "1.2.0",
      "model_name": "LayoutModel",
      "state": {
       "flex": "2"
      }
     },
     "c9e4ff90ea0043a9b693a038310f8f71": {
      "model_module": "@jupyter-widgets/base",
      "model_module_version": "1.2.0",
      "model_name": "LayoutModel",
      "state": {
       "display": "inline-flex",
       "flex_flow": "row wrap",
       "width": "100%"
      }
     },
     "c9e55cf681564e25af40531c34d03dec": {
      "model_module": "@jupyter-widgets/controls",
      "model_module_version": "1.5.0",
      "model_name": "FloatProgressModel",
      "state": {
       "layout": "IPY_MODEL_fbd84d5021814c3dad5c535c449a7a76",
       "max": 8,
       "style": "IPY_MODEL_18a255e5c3944269a1fa68bcb74aea19",
       "value": 8
      }
     },
     "c9e990d95306473d8a79647a9f32f592": {
      "model_module": "@jupyter-widgets/controls",
      "model_module_version": "1.5.0",
      "model_name": "HTMLModel",
      "state": {
       "layout": "IPY_MODEL_8133f31ff1f6422d8fc1af0d90f7537b",
       "style": "IPY_MODEL_a84cdb540d264db9bb0d6b559b443a18",
       "value": " 8/8 [00:02&lt;00:00,  2.69it/s]"
      }
     },
     "ca01487e5fdc430484145de6791ff5a5": {
      "model_module": "@jupyter-widgets/base",
      "model_module_version": "1.2.0",
      "model_name": "LayoutModel",
      "state": {
       "flex": "2"
      }
     },
     "ca114801289c41ed95c6adc8f776ba00": {
      "model_module": "@jupyter-widgets/controls",
      "model_module_version": "1.5.0",
      "model_name": "ProgressStyleModel",
      "state": {
       "description_width": ""
      }
     },
     "ca484778160745b19f9ab92b215f07d1": {
      "model_module": "@jupyter-widgets/base",
      "model_module_version": "1.2.0",
      "model_name": "LayoutModel",
      "state": {}
     },
     "ca563476a6ee4e4e890c5c14fffb27b7": {
      "model_module": "@jupyter-widgets/base",
      "model_module_version": "1.2.0",
      "model_name": "LayoutModel",
      "state": {
       "display": "inline-flex",
       "flex_flow": "row wrap",
       "width": "100%"
      }
     },
     "ca56a49a6a1b41dc89924a932a71586a": {
      "model_module": "@jupyter-widgets/controls",
      "model_module_version": "1.5.0",
      "model_name": "HTMLModel",
      "state": {
       "layout": "IPY_MODEL_d01ec60856064142ae137273ffbd6ba2",
       "style": "IPY_MODEL_be814f40c9274a2ab826d264c5148669",
       "value": " 8/8 [00:02&lt;00:00,  2.83it/s]"
      }
     },
     "ca92ff9a46de4d2ea6ae545600afe5c6": {
      "model_module": "@jupyter-widgets/controls",
      "model_module_version": "1.5.0",
      "model_name": "HTMLModel",
      "state": {
       "layout": "IPY_MODEL_6382e50c440d45b49533a5c7f377380e",
       "style": "IPY_MODEL_1d9ea239b6fb4435944b9993a3010c61",
       "value": "Validation DataLoader 0: 100%"
      }
     },
     "ca9ad94d6def41a3b1bd381715cf5882": {
      "model_module": "@jupyter-widgets/base",
      "model_module_version": "1.2.0",
      "model_name": "LayoutModel",
      "state": {}
     },
     "caa195a88b01457d8dd9338eff8bf899": {
      "model_module": "@jupyter-widgets/base",
      "model_module_version": "1.2.0",
      "model_name": "LayoutModel",
      "state": {}
     },
     "caf8ed03296b466e946b851465e853da": {
      "model_module": "@jupyter-widgets/controls",
      "model_module_version": "1.5.0",
      "model_name": "HTMLModel",
      "state": {
       "layout": "IPY_MODEL_24f5b38e254245439b34d8ddb3c51d08",
       "style": "IPY_MODEL_6e926455980b4ca883e9d2d590d8c215",
       "value": " 8/8 [00:06&lt;00:00,  1.33it/s]"
      }
     },
     "cb04ae8034d04177bc3b7bab0efa4587": {
      "model_module": "@jupyter-widgets/base",
      "model_module_version": "1.2.0",
      "model_name": "LayoutModel",
      "state": {}
     },
     "cb184ccc704f44aab329556f4ae6b4a2": {
      "model_module": "@jupyter-widgets/base",
      "model_module_version": "1.2.0",
      "model_name": "LayoutModel",
      "state": {}
     },
     "cb1e22e124204402be24da5388d4e856": {
      "model_module": "@jupyter-widgets/base",
      "model_module_version": "1.2.0",
      "model_name": "LayoutModel",
      "state": {
       "flex": "2"
      }
     },
     "cb57ff977d2947489e2c7daa0c7c727d": {
      "model_module": "@jupyter-widgets/base",
      "model_module_version": "1.2.0",
      "model_name": "LayoutModel",
      "state": {
       "flex": "2"
      }
     },
     "cb5e4e2884e24391b9e5266d27dc5865": {
      "model_module": "@jupyter-widgets/base",
      "model_module_version": "1.2.0",
      "model_name": "LayoutModel",
      "state": {}
     },
     "cb7278bfe0df4575ab38bd7fe3c8094e": {
      "model_module": "@jupyter-widgets/controls",
      "model_module_version": "1.5.0",
      "model_name": "HBoxModel",
      "state": {
       "children": [
        "IPY_MODEL_61f6dd24909c4951a90233bc7a5fe522",
        "IPY_MODEL_ed19d64f8d564621a977cd506431acff",
        "IPY_MODEL_aaf63c42ea5f42b4ae4912a8cd28715d"
       ],
       "layout": "IPY_MODEL_f0ca145720674bdd812ac37778f39c3d"
      }
     },
     "cb8476eba5db49daa2b9cbc793943883": {
      "model_module": "@jupyter-widgets/base",
      "model_module_version": "1.2.0",
      "model_name": "LayoutModel",
      "state": {}
     },
     "cbb044a202fa42f08aa0141cacde380c": {
      "model_module": "@jupyter-widgets/controls",
      "model_module_version": "1.5.0",
      "model_name": "HTMLModel",
      "state": {
       "layout": "IPY_MODEL_6da1ee1ea6fe41aa8f94a6fbc8ee4327",
       "style": "IPY_MODEL_5c70f415055b44fda2adb00c661152d2",
       "value": " 29/69 [00:38&lt;00:53,  1.33s/it, loss=0.0895, v_num=-137]"
      }
     },
     "cbc275b552c1488d881c7d73de1dd391": {
      "model_module": "@jupyter-widgets/controls",
      "model_module_version": "1.5.0",
      "model_name": "ProgressStyleModel",
      "state": {
       "description_width": ""
      }
     },
     "cbde7d80115146ae861a8a5f052cecf9": {
      "model_module": "@jupyter-widgets/base",
      "model_module_version": "1.2.0",
      "model_name": "LayoutModel",
      "state": {
       "display": "inline-flex",
       "flex_flow": "row wrap",
       "width": "100%"
      }
     },
     "cbf2c1f4b56d4a5886f1233397882e84": {
      "model_module": "@jupyter-widgets/controls",
      "model_module_version": "1.5.0",
      "model_name": "DescriptionStyleModel",
      "state": {
       "description_width": ""
      }
     },
     "cc04c5f421fd4c128d35c957c68e4f9b": {
      "model_module": "@jupyter-widgets/base",
      "model_module_version": "1.2.0",
      "model_name": "LayoutModel",
      "state": {
       "display": "inline-flex",
       "flex_flow": "row wrap",
       "width": "100%"
      }
     },
     "cc06633af3314374a0eb90a495fa89a9": {
      "model_module": "@jupyter-widgets/controls",
      "model_module_version": "1.5.0",
      "model_name": "DescriptionStyleModel",
      "state": {
       "description_width": ""
      }
     },
     "cc1cd85481e34609bc26e44b83897073": {
      "model_module": "@jupyter-widgets/controls",
      "model_module_version": "1.5.0",
      "model_name": "FloatProgressModel",
      "state": {
       "layout": "IPY_MODEL_a135c61453bd40bfa52fc4099154fb67",
       "max": 8,
       "style": "IPY_MODEL_527ac0e6e793425482e6a49ba055cd87",
       "value": 8
      }
     },
     "cc433a34fa5d4d278887b3cb74fcf5ea": {
      "model_module": "@jupyter-widgets/controls",
      "model_module_version": "1.5.0",
      "model_name": "DescriptionStyleModel",
      "state": {
       "description_width": ""
      }
     },
     "cc4418186c104f8d901aa1ffab258f6e": {
      "model_module": "@jupyter-widgets/controls",
      "model_module_version": "1.5.0",
      "model_name": "HTMLModel",
      "state": {
       "layout": "IPY_MODEL_79bf8e72a1104dc99f7120a90cfc1ec3",
       "style": "IPY_MODEL_3c038a4f1c6d446398385fd326a11e56",
       "value": "Validation DataLoader 0: 100%"
      }
     },
     "cc5987d3743e46d9a2e84002f2223be1": {
      "model_module": "@jupyter-widgets/controls",
      "model_module_version": "1.5.0",
      "model_name": "ProgressStyleModel",
      "state": {
       "description_width": ""
      }
     },
     "cc61b0d9ecef4410873c5905f7e733be": {
      "model_module": "@jupyter-widgets/controls",
      "model_module_version": "1.5.0",
      "model_name": "DescriptionStyleModel",
      "state": {
       "description_width": ""
      }
     },
     "cc659892443a460a95d91af8d794eee5": {
      "model_module": "@jupyter-widgets/controls",
      "model_module_version": "1.5.0",
      "model_name": "ProgressStyleModel",
      "state": {
       "description_width": ""
      }
     },
     "cc76ee13369b4a7b9bc845cd44423b09": {
      "model_module": "@jupyter-widgets/base",
      "model_module_version": "1.2.0",
      "model_name": "LayoutModel",
      "state": {}
     },
     "cc8e614c211d43f995991cd24d5c80a0": {
      "model_module": "@jupyter-widgets/controls",
      "model_module_version": "1.5.0",
      "model_name": "HTMLModel",
      "state": {
       "layout": "IPY_MODEL_b83f4e51466f434c934dc3ee2d0df44e",
       "style": "IPY_MODEL_86e7f6f67b454050ac61acf770fae6ae",
       "value": "Validation DataLoader 0: 100%"
      }
     },
     "ccc2d195996c49cca0ab8e4778fa169d": {
      "model_module": "@jupyter-widgets/base",
      "model_module_version": "1.2.0",
      "model_name": "LayoutModel",
      "state": {
       "display": "inline-flex",
       "flex_flow": "row wrap",
       "width": "100%"
      }
     },
     "ccedfa55c6e8491c8b7ba91d91aaa4ee": {
      "model_module": "@jupyter-widgets/base",
      "model_module_version": "1.2.0",
      "model_name": "LayoutModel",
      "state": {}
     },
     "ccf396a0e5a24def86b880bda60f9d3c": {
      "model_module": "@jupyter-widgets/base",
      "model_module_version": "1.2.0",
      "model_name": "LayoutModel",
      "state": {}
     },
     "cd059bbe39dc401fa367f9f5b9d04643": {
      "model_module": "@jupyter-widgets/base",
      "model_module_version": "1.2.0",
      "model_name": "LayoutModel",
      "state": {
       "display": "inline-flex",
       "flex_flow": "row wrap",
       "width": "100%"
      }
     },
     "cd1361df616a439a8534da0b5c3292ea": {
      "model_module": "@jupyter-widgets/base",
      "model_module_version": "1.2.0",
      "model_name": "LayoutModel",
      "state": {
       "flex": "2"
      }
     },
     "cd2b542d2953416aa7cbfd5566e5be50": {
      "model_module": "@jupyter-widgets/controls",
      "model_module_version": "1.5.0",
      "model_name": "DescriptionStyleModel",
      "state": {
       "description_width": ""
      }
     },
     "cd33148cb7f7419a988abaace834ff97": {
      "model_module": "@jupyter-widgets/controls",
      "model_module_version": "1.5.0",
      "model_name": "ProgressStyleModel",
      "state": {
       "description_width": ""
      }
     },
     "cd37fe2973c84af9a93579e42dcf47d1": {
      "model_module": "@jupyter-widgets/controls",
      "model_module_version": "1.5.0",
      "model_name": "ProgressStyleModel",
      "state": {
       "description_width": ""
      }
     },
     "cd50cdab4707426190b9fba69ad36ca5": {
      "model_module": "@jupyter-widgets/controls",
      "model_module_version": "1.5.0",
      "model_name": "HTMLModel",
      "state": {
       "layout": "IPY_MODEL_146aecf037b64557b0d21bfadaa6fbf0",
       "style": "IPY_MODEL_0821092de5cb41f2ad44e09b5eb7f55e",
       "value": " 8/8 [00:03&lt;00:00,  2.36it/s]"
      }
     },
     "cd52934bbb3a47d8880d04cf258ccae8": {
      "model_module": "@jupyter-widgets/controls",
      "model_module_version": "1.5.0",
      "model_name": "DescriptionStyleModel",
      "state": {
       "description_width": ""
      }
     },
     "cd786042a6b1414090efd583ef5e3f87": {
      "model_module": "@jupyter-widgets/base",
      "model_module_version": "1.2.0",
      "model_name": "LayoutModel",
      "state": {}
     },
     "cd7e024561d3413eaf0a13afc54ecf9c": {
      "model_module": "@jupyter-widgets/controls",
      "model_module_version": "1.5.0",
      "model_name": "DescriptionStyleModel",
      "state": {
       "description_width": ""
      }
     },
     "cd8317277d9c4bfa9f1264422631ec2f": {
      "model_module": "@jupyter-widgets/controls",
      "model_module_version": "1.5.0",
      "model_name": "ProgressStyleModel",
      "state": {
       "description_width": ""
      }
     },
     "cdaac34f4dae4ca2a1174185f8ac5088": {
      "model_module": "@jupyter-widgets/controls",
      "model_module_version": "1.5.0",
      "model_name": "DescriptionStyleModel",
      "state": {
       "description_width": ""
      }
     },
     "cdb76abd2c8d4b42be1ea49c05b9d8b3": {
      "model_module": "@jupyter-widgets/controls",
      "model_module_version": "1.5.0",
      "model_name": "HTMLModel",
      "state": {
       "layout": "IPY_MODEL_62018cf5780b4ef1b88492148d1b3cea",
       "style": "IPY_MODEL_c609529d1c114a6cbc7b5a8ba2d2cf79",
       "value": " 8/8 [00:03&lt;00:00,  2.49it/s]"
      }
     },
     "cdd273be160246e193afb39491dc5aee": {
      "model_module": "@jupyter-widgets/controls",
      "model_module_version": "1.5.0",
      "model_name": "HBoxModel",
      "state": {
       "children": [
        "IPY_MODEL_672f3d38c3dc43b7a398b8182516cb00",
        "IPY_MODEL_e77aeb7b7c814c78a04433c495e77d38",
        "IPY_MODEL_861cf26665dd4178ab4e18c5abc4f3b7"
       ],
       "layout": "IPY_MODEL_292fe1c033bd4d4d996ae4214fd198db"
      }
     },
     "cddff5519e7745d7ad49e8a9dc07e3a1": {
      "model_module": "@jupyter-widgets/controls",
      "model_module_version": "1.5.0",
      "model_name": "HTMLModel",
      "state": {
       "layout": "IPY_MODEL_a43935150ce5408daa56367ad4ea1d9a",
       "style": "IPY_MODEL_d6febf3496a74901b71df822415c0a20",
       "value": "Validation DataLoader 0: 100%"
      }
     },
     "cdedb9c1f128429ab8b2b2518da809b8": {
      "model_module": "@jupyter-widgets/base",
      "model_module_version": "1.2.0",
      "model_name": "LayoutModel",
      "state": {}
     },
     "cdf234db407d4f8b9e4235ac55e9c423": {
      "model_module": "@jupyter-widgets/controls",
      "model_module_version": "1.5.0",
      "model_name": "ProgressStyleModel",
      "state": {
       "description_width": ""
      }
     },
     "ce0029a5a8f34db89648bdbce41f93ab": {
      "model_module": "@jupyter-widgets/base",
      "model_module_version": "1.2.0",
      "model_name": "LayoutModel",
      "state": {}
     },
     "ce17426ca2624d3b9b762da6d1a858c0": {
      "model_module": "@jupyter-widgets/controls",
      "model_module_version": "1.5.0",
      "model_name": "HTMLModel",
      "state": {
       "layout": "IPY_MODEL_9d0cbe27459a4d7987d8064cbd581a41",
       "style": "IPY_MODEL_9c71dfef47254314badbcd3abb77885c",
       "value": "Validation DataLoader 0: 100%"
      }
     },
     "ce5a3684b2d44f91877259145c643bc6": {
      "model_module": "@jupyter-widgets/controls",
      "model_module_version": "1.5.0",
      "model_name": "ProgressStyleModel",
      "state": {
       "description_width": ""
      }
     },
     "ceab528402974280bf19b18bba0d40f8": {
      "model_module": "@jupyter-widgets/controls",
      "model_module_version": "1.5.0",
      "model_name": "DescriptionStyleModel",
      "state": {
       "description_width": ""
      }
     },
     "ceac6e2d234a4b42929df1210f0d4192": {
      "model_module": "@jupyter-widgets/base",
      "model_module_version": "1.2.0",
      "model_name": "LayoutModel",
      "state": {
       "display": "inline-flex",
       "flex_flow": "row wrap",
       "width": "100%"
      }
     },
     "ceb5fbc8f12344ea9e3f1b737c3958ae": {
      "model_module": "@jupyter-widgets/base",
      "model_module_version": "1.2.0",
      "model_name": "LayoutModel",
      "state": {}
     },
     "cec6b9d1f77d44ed86540e31de018843": {
      "model_module": "@jupyter-widgets/controls",
      "model_module_version": "1.5.0",
      "model_name": "DescriptionStyleModel",
      "state": {
       "description_width": ""
      }
     },
     "cf05b812ae45439d9785050cd2457f05": {
      "model_module": "@jupyter-widgets/controls",
      "model_module_version": "1.5.0",
      "model_name": "DescriptionStyleModel",
      "state": {
       "description_width": ""
      }
     },
     "cf9d1f4f792c4af0b85f7cb8ce45f53a": {
      "model_module": "@jupyter-widgets/controls",
      "model_module_version": "1.5.0",
      "model_name": "DescriptionStyleModel",
      "state": {
       "description_width": ""
      }
     },
     "cfa57da088d245c88d44178aa955fa22": {
      "model_module": "@jupyter-widgets/controls",
      "model_module_version": "1.5.0",
      "model_name": "FloatProgressModel",
      "state": {
       "layout": "IPY_MODEL_c681e64bd92241a1b3a1807449fa5866",
       "max": 8,
       "style": "IPY_MODEL_71c6bff9454d4771b2b6b1935281a08e",
       "value": 8
      }
     },
     "cfb4580989204fb3a8958fb321c87eda": {
      "model_module": "@jupyter-widgets/base",
      "model_module_version": "1.2.0",
      "model_name": "LayoutModel",
      "state": {}
     },
     "cfbc004b0fba43d1851660733927953f": {
      "model_module": "@jupyter-widgets/controls",
      "model_module_version": "1.5.0",
      "model_name": "HTMLModel",
      "state": {
       "layout": "IPY_MODEL_261a84baf80843d9b646284d30bc30c9",
       "style": "IPY_MODEL_398a6ad2271f4709a8cee5e13ff30e4f",
       "value": "Validation DataLoader 0: 100%"
      }
     },
     "cfd696b6ba4b46f1a78ef04ecb0bc950": {
      "model_module": "@jupyter-widgets/base",
      "model_module_version": "1.2.0",
      "model_name": "LayoutModel",
      "state": {}
     },
     "cfe2711d88394d369e2757ede67ca00b": {
      "model_module": "@jupyter-widgets/controls",
      "model_module_version": "1.5.0",
      "model_name": "FloatProgressModel",
      "state": {
       "layout": "IPY_MODEL_389677de6e0645da87ea84fa3eae43d8",
       "max": 8,
       "style": "IPY_MODEL_eeaa701e1adf4b45ba4e4e1c50d5bf8e",
       "value": 8
      }
     },
     "cff47e59c40c46f8bd84346458526107": {
      "model_module": "@jupyter-widgets/controls",
      "model_module_version": "1.5.0",
      "model_name": "DescriptionStyleModel",
      "state": {
       "description_width": ""
      }
     },
     "cffbf3b856fa4a3aaa3be2d9a1907c32": {
      "model_module": "@jupyter-widgets/base",
      "model_module_version": "1.2.0",
      "model_name": "LayoutModel",
      "state": {
       "flex": "2"
      }
     },
     "d0060350f8b7406a8b4ed5c6858a5315": {
      "model_module": "@jupyter-widgets/base",
      "model_module_version": "1.2.0",
      "model_name": "LayoutModel",
      "state": {}
     },
     "d01ec60856064142ae137273ffbd6ba2": {
      "model_module": "@jupyter-widgets/base",
      "model_module_version": "1.2.0",
      "model_name": "LayoutModel",
      "state": {}
     },
     "d0746eb964a3418cb0e75e627e2ff88d": {
      "model_module": "@jupyter-widgets/controls",
      "model_module_version": "1.5.0",
      "model_name": "HTMLModel",
      "state": {
       "layout": "IPY_MODEL_8384cc146304408e9fe983eeccb4db07",
       "style": "IPY_MODEL_097b31a3ae90430ca223beeb899de6b6",
       "value": "Validation DataLoader 0: 100%"
      }
     },
     "d085bce9fc3f43ad927252a31d2deda1": {
      "model_module": "@jupyter-widgets/controls",
      "model_module_version": "1.5.0",
      "model_name": "DescriptionStyleModel",
      "state": {
       "description_width": ""
      }
     },
     "d095e2c508274718b4ebdddd054e5c76": {
      "model_module": "@jupyter-widgets/controls",
      "model_module_version": "1.5.0",
      "model_name": "FloatProgressModel",
      "state": {
       "layout": "IPY_MODEL_0d4f56a4fc6542eb800e8fe75b533c66",
       "max": 8,
       "style": "IPY_MODEL_8ef72b582428417a984a2c0b3bb48c5e",
       "value": 8
      }
     },
     "d111572ab24744d0af6ac10f200948f1": {
      "model_module": "@jupyter-widgets/controls",
      "model_module_version": "1.5.0",
      "model_name": "HTMLModel",
      "state": {
       "layout": "IPY_MODEL_5ef5721a3f3c443084363527307da776",
       "style": "IPY_MODEL_f35dff1357bf48b4a7e417b04bbe2f02",
       "value": "Validation DataLoader 0: 100%"
      }
     },
     "d19f85e3dd2b49de9bd365f0056d0305": {
      "model_module": "@jupyter-widgets/base",
      "model_module_version": "1.2.0",
      "model_name": "LayoutModel",
      "state": {}
     },
     "d1aebcfbf00f48c0bd1752bfb307dfcd": {
      "model_module": "@jupyter-widgets/base",
      "model_module_version": "1.2.0",
      "model_name": "LayoutModel",
      "state": {}
     },
     "d1bdad62f8fe4169a8e549198372f269": {
      "model_module": "@jupyter-widgets/controls",
      "model_module_version": "1.5.0",
      "model_name": "DescriptionStyleModel",
      "state": {
       "description_width": ""
      }
     },
     "d2068063867a40279eea0b0fb35b50dd": {
      "model_module": "@jupyter-widgets/controls",
      "model_module_version": "1.5.0",
      "model_name": "DescriptionStyleModel",
      "state": {
       "description_width": ""
      }
     },
     "d223bf50d2d0467491c4c8ec549f221a": {
      "model_module": "@jupyter-widgets/controls",
      "model_module_version": "1.5.0",
      "model_name": "HBoxModel",
      "state": {
       "children": [
        "IPY_MODEL_5a3bfad826ef4e7ab575f57465ff35dc",
        "IPY_MODEL_9b129451a58b4952a71f2ba1717c83de",
        "IPY_MODEL_3fef5e8c4d8d4967a1fb11498c62ce5f"
       ],
       "layout": "IPY_MODEL_3a677e1b4acd4dfab5706238a9ae03b0"
      }
     },
     "d225aed921fb4f5da92e83de2445829a": {
      "model_module": "@jupyter-widgets/controls",
      "model_module_version": "1.5.0",
      "model_name": "DescriptionStyleModel",
      "state": {
       "description_width": ""
      }
     },
     "d236c688fce34c6496fd01a87ce72884": {
      "model_module": "@jupyter-widgets/controls",
      "model_module_version": "1.5.0",
      "model_name": "DescriptionStyleModel",
      "state": {
       "description_width": ""
      }
     },
     "d23c8699403f4ed1a371a9b776173ac8": {
      "model_module": "@jupyter-widgets/controls",
      "model_module_version": "1.5.0",
      "model_name": "DescriptionStyleModel",
      "state": {
       "description_width": ""
      }
     },
     "d240383130064374a6d568eb263907da": {
      "model_module": "@jupyter-widgets/base",
      "model_module_version": "1.2.0",
      "model_name": "LayoutModel",
      "state": {
       "display": "inline-flex",
       "flex_flow": "row wrap",
       "width": "100%"
      }
     },
     "d27f05ca49984098b9b93d38e4b199f3": {
      "model_module": "@jupyter-widgets/controls",
      "model_module_version": "1.5.0",
      "model_name": "HTMLModel",
      "state": {
       "layout": "IPY_MODEL_b49ecaaf04514a459a6fee47193611c2",
       "style": "IPY_MODEL_9b691b21e1344798938020532c8a07a0",
       "value": "Validation DataLoader 0: 100%"
      }
     },
     "d2817c8a919a4c37955343d3ebe16c6a": {
      "model_module": "@jupyter-widgets/controls",
      "model_module_version": "1.5.0",
      "model_name": "HTMLModel",
      "state": {
       "layout": "IPY_MODEL_3bba84dacaf947b8b832c2ec7cb2480c",
       "style": "IPY_MODEL_82bae0c82cdb4352802419d7c472056f",
       "value": "Validation DataLoader 0: 100%"
      }
     },
     "d2826a042cd843cba7e36a820ee35a0c": {
      "model_module": "@jupyter-widgets/controls",
      "model_module_version": "1.5.0",
      "model_name": "HTMLModel",
      "state": {
       "layout": "IPY_MODEL_be0c091a8eb94a9b9f3c78c56ea05a3b",
       "style": "IPY_MODEL_365ceaf3c9f341a398b45daedfbe448e",
       "value": "Validation DataLoader 0: 100%"
      }
     },
     "d28c2ea685a14f439e7b281f937ed25d": {
      "model_module": "@jupyter-widgets/controls",
      "model_module_version": "1.5.0",
      "model_name": "ProgressStyleModel",
      "state": {
       "description_width": ""
      }
     },
     "d2e832e9529d45e7b58ee04a9f998955": {
      "model_module": "@jupyter-widgets/controls",
      "model_module_version": "1.5.0",
      "model_name": "DescriptionStyleModel",
      "state": {
       "description_width": ""
      }
     },
     "d309477b43fb4c1a9ed586de2fd91307": {
      "model_module": "@jupyter-widgets/controls",
      "model_module_version": "1.5.0",
      "model_name": "HTMLModel",
      "state": {
       "layout": "IPY_MODEL_3b11d0ac00d8446aae1aed6baaf49201",
       "style": "IPY_MODEL_ee4eb70d4ae5486a9a04623c35ef407f",
       "value": "Validation DataLoader 0: 100%"
      }
     },
     "d3316925544d420fa1c6224400c0c647": {
      "model_module": "@jupyter-widgets/base",
      "model_module_version": "1.2.0",
      "model_name": "LayoutModel",
      "state": {}
     },
     "d332af73d0334e61aadc0e8d7dc40e50": {
      "model_module": "@jupyter-widgets/base",
      "model_module_version": "1.2.0",
      "model_name": "LayoutModel",
      "state": {
       "flex": "2"
      }
     },
     "d353e86bb2f045fab8c8245b4f63aa00": {
      "model_module": "@jupyter-widgets/controls",
      "model_module_version": "1.5.0",
      "model_name": "DescriptionStyleModel",
      "state": {
       "description_width": ""
      }
     },
     "d3663145e7c34df99e2b90204af54da8": {
      "model_module": "@jupyter-widgets/controls",
      "model_module_version": "1.5.0",
      "model_name": "ProgressStyleModel",
      "state": {
       "description_width": ""
      }
     },
     "d3730dc0322543219843e10bb7082de4": {
      "model_module": "@jupyter-widgets/controls",
      "model_module_version": "1.5.0",
      "model_name": "HTMLModel",
      "state": {
       "layout": "IPY_MODEL_0630a82a18f04556bd504ea444c06906",
       "style": "IPY_MODEL_f64e88acdead45c88a16b4addc0f8a4e",
       "value": "Validation DataLoader 0: 100%"
      }
     },
     "d384b7824ee0422fbe2c822078bd31ef": {
      "model_module": "@jupyter-widgets/base",
      "model_module_version": "1.2.0",
      "model_name": "LayoutModel",
      "state": {}
     },
     "d3a1d3a1f968493d860c67387987a174": {
      "model_module": "@jupyter-widgets/base",
      "model_module_version": "1.2.0",
      "model_name": "LayoutModel",
      "state": {
       "flex": "2"
      }
     },
     "d3bdf0c7f4414bd2b2999c28841cbb0d": {
      "model_module": "@jupyter-widgets/controls",
      "model_module_version": "1.5.0",
      "model_name": "DescriptionStyleModel",
      "state": {
       "description_width": ""
      }
     },
     "d3f516ba64a14f7297d9eb0fb27d85fa": {
      "model_module": "@jupyter-widgets/controls",
      "model_module_version": "1.5.0",
      "model_name": "FloatProgressModel",
      "state": {
       "layout": "IPY_MODEL_93089c9e00aa421599d588ea6da2eacc",
       "max": 8,
       "style": "IPY_MODEL_0be08e181a334f77948218e789d14f9a",
       "value": 8
      }
     },
     "d41ab4c5f6a94cc79b63233534ba56bb": {
      "model_module": "@jupyter-widgets/controls",
      "model_module_version": "1.5.0",
      "model_name": "DescriptionStyleModel",
      "state": {
       "description_width": ""
      }
     },
     "d4212b0f1ef342a38953a471f06feaa6": {
      "model_module": "@jupyter-widgets/controls",
      "model_module_version": "1.5.0",
      "model_name": "HTMLModel",
      "state": {
       "layout": "IPY_MODEL_772a97a31f93484ea6033a64bb875d52",
       "style": "IPY_MODEL_dcd4166dd8d54e9e9075826e27fb012f",
       "value": " 33/33 [00:11&lt;00:00,  2.84it/s]"
      }
     },
     "d43638129a5144a3be815ef640e5927c": {
      "model_module": "@jupyter-widgets/controls",
      "model_module_version": "1.5.0",
      "model_name": "HTMLModel",
      "state": {
       "layout": "IPY_MODEL_7c167e54e89a4ead88b1aad7acec3101",
       "style": "IPY_MODEL_7b3b641febe54a1ba6a1013b2575b83c",
       "value": "Sanity Checking DataLoader 0: 100%"
      }
     },
     "d43d7f8e0d354968b27ce6ea7b55a5ad": {
      "model_module": "@jupyter-widgets/base",
      "model_module_version": "1.2.0",
      "model_name": "LayoutModel",
      "state": {}
     },
     "d43d871dd0bf44fcb97c18435782c20b": {
      "model_module": "@jupyter-widgets/base",
      "model_module_version": "1.2.0",
      "model_name": "LayoutModel",
      "state": {
       "display": "inline-flex",
       "flex_flow": "row wrap",
       "width": "100%"
      }
     },
     "d46b22861ee14f58826a3c2608461311": {
      "model_module": "@jupyter-widgets/controls",
      "model_module_version": "1.5.0",
      "model_name": "FloatProgressModel",
      "state": {
       "layout": "IPY_MODEL_08100d94a0a746758fc313e42eb0f67d",
       "max": 8,
       "style": "IPY_MODEL_841ae231ff47432590425d9e9e2b005d",
       "value": 8
      }
     },
     "d48d96fd878a4ae2a30d41ea00d459be": {
      "model_module": "@jupyter-widgets/base",
      "model_module_version": "1.2.0",
      "model_name": "LayoutModel",
      "state": {}
     },
     "d4ee3969eaf747cf8d123d08ad170e3a": {
      "model_module": "@jupyter-widgets/controls",
      "model_module_version": "1.5.0",
      "model_name": "HTMLModel",
      "state": {
       "layout": "IPY_MODEL_6a928c3390224e3f8c0d190e38798a48",
       "style": "IPY_MODEL_3be653d15e3a41f8bda3f34a072c4c28",
       "value": " 8/8 [00:05&lt;00:00,  1.56it/s]"
      }
     },
     "d4f49f85b7b741ebad0ac3d6ff1b52ed": {
      "model_module": "@jupyter-widgets/base",
      "model_module_version": "1.2.0",
      "model_name": "LayoutModel",
      "state": {
       "flex": "2"
      }
     },
     "d503ad52cdda4bb5a0c198e0e5968ab9": {
      "model_module": "@jupyter-widgets/base",
      "model_module_version": "1.2.0",
      "model_name": "LayoutModel",
      "state": {}
     },
     "d50ea06d415f41a79d8b6abcdda453d7": {
      "model_module": "@jupyter-widgets/controls",
      "model_module_version": "1.5.0",
      "model_name": "DescriptionStyleModel",
      "state": {
       "description_width": ""
      }
     },
     "d56820cbf9944a4983ddbd2cb4c5dd94": {
      "model_module": "@jupyter-widgets/controls",
      "model_module_version": "1.5.0",
      "model_name": "HTMLModel",
      "state": {
       "layout": "IPY_MODEL_67f07aee362e4340b03c4bb69ff2e6a0",
       "style": "IPY_MODEL_dc280df43f374018bb9a23399e4cd19b",
       "value": "Validation DataLoader 0: 100%"
      }
     },
     "d576b1455f904a82ba33391f731f7152": {
      "model_module": "@jupyter-widgets/base",
      "model_module_version": "1.2.0",
      "model_name": "LayoutModel",
      "state": {
       "flex": "2"
      }
     },
     "d577a135eacf4b78a98ab913ae3ba8d9": {
      "model_module": "@jupyter-widgets/controls",
      "model_module_version": "1.5.0",
      "model_name": "HTMLModel",
      "state": {
       "layout": "IPY_MODEL_7c7e76c0e6cb47558252aa6ab968e281",
       "style": "IPY_MODEL_c1f01fec0d4c417d936422ce45507041",
       "value": "Validation DataLoader 0: 100%"
      }
     },
     "d5b83c913c5e462b9e6f41a211c9a47f": {
      "model_module": "@jupyter-widgets/controls",
      "model_module_version": "1.5.0",
      "model_name": "ProgressStyleModel",
      "state": {
       "description_width": ""
      }
     },
     "d5be7923c9774e1fa3c11ef8bd25c6ad": {
      "model_module": "@jupyter-widgets/base",
      "model_module_version": "1.2.0",
      "model_name": "LayoutModel",
      "state": {
       "display": "inline-flex",
       "flex_flow": "row wrap",
       "width": "100%"
      }
     },
     "d663a045c2df4dfd9131d09e29159e24": {
      "model_module": "@jupyter-widgets/controls",
      "model_module_version": "1.5.0",
      "model_name": "ProgressStyleModel",
      "state": {
       "description_width": ""
      }
     },
     "d67afb299782457dbc2d4308fa7c5e05": {
      "model_module": "@jupyter-widgets/controls",
      "model_module_version": "1.5.0",
      "model_name": "HTMLModel",
      "state": {
       "layout": "IPY_MODEL_d48d96fd878a4ae2a30d41ea00d459be",
       "style": "IPY_MODEL_cd2b542d2953416aa7cbfd5566e5be50",
       "value": " 8/8 [00:02&lt;00:00,  2.97it/s]"
      }
     },
     "d685c6ec3394463cbe2cc6e034870189": {
      "model_module": "@jupyter-widgets/base",
      "model_module_version": "1.2.0",
      "model_name": "LayoutModel",
      "state": {
       "display": "inline-flex",
       "flex_flow": "row wrap",
       "width": "100%"
      }
     },
     "d692d2b053a74d529dd0ba23ca8693cf": {
      "model_module": "@jupyter-widgets/controls",
      "model_module_version": "1.5.0",
      "model_name": "HTMLModel",
      "state": {
       "layout": "IPY_MODEL_04e4d5d337de4f43b22d07fda0d31538",
       "style": "IPY_MODEL_601d90c9917a4a258612d9de06b1c86d",
       "value": "Validation DataLoader 0: 100%"
      }
     },
     "d6a2b7a8cd2d433c988a4e069f0cfc48": {
      "model_module": "@jupyter-widgets/controls",
      "model_module_version": "1.5.0",
      "model_name": "ProgressStyleModel",
      "state": {
       "description_width": ""
      }
     },
     "d6ebf2b47c4a42168e314cec9d34067e": {
      "model_module": "@jupyter-widgets/base",
      "model_module_version": "1.2.0",
      "model_name": "LayoutModel",
      "state": {
       "display": "inline-flex",
       "flex_flow": "row wrap",
       "width": "100%"
      }
     },
     "d6f8295ca6ed4523ae9d37a2d2f18133": {
      "model_module": "@jupyter-widgets/controls",
      "model_module_version": "1.5.0",
      "model_name": "ProgressStyleModel",
      "state": {
       "description_width": ""
      }
     },
     "d6febf3496a74901b71df822415c0a20": {
      "model_module": "@jupyter-widgets/controls",
      "model_module_version": "1.5.0",
      "model_name": "DescriptionStyleModel",
      "state": {
       "description_width": ""
      }
     },
     "d70f5880652247baaa90632936059e99": {
      "model_module": "@jupyter-widgets/controls",
      "model_module_version": "1.5.0",
      "model_name": "FloatProgressModel",
      "state": {
       "layout": "IPY_MODEL_b9c6004128274a8fa6b1e4ef7cc2a6e6",
       "max": 8,
       "style": "IPY_MODEL_afb236f4fedc47608c1e0c97dfb34801",
       "value": 8
      }
     },
     "d719e2da014b459e9c994d1747a43920": {
      "model_module": "@jupyter-widgets/controls",
      "model_module_version": "1.5.0",
      "model_name": "DescriptionStyleModel",
      "state": {
       "description_width": ""
      }
     },
     "d71b6e76e1904ecfaf76bf441db9d380": {
      "model_module": "@jupyter-widgets/base",
      "model_module_version": "1.2.0",
      "model_name": "LayoutModel",
      "state": {}
     },
     "d73d8c07e8d24d4a8c571b87c7e1a19f": {
      "model_module": "@jupyter-widgets/controls",
      "model_module_version": "1.5.0",
      "model_name": "DescriptionStyleModel",
      "state": {
       "description_width": ""
      }
     },
     "d75aa4e3f60f40128da4bb2f1b46ae8d": {
      "model_module": "@jupyter-widgets/controls",
      "model_module_version": "1.5.0",
      "model_name": "ProgressStyleModel",
      "state": {
       "description_width": ""
      }
     },
     "d764b97ebe684be5ab5e77e9ff3d924e": {
      "model_module": "@jupyter-widgets/controls",
      "model_module_version": "1.5.0",
      "model_name": "FloatProgressModel",
      "state": {
       "layout": "IPY_MODEL_cb57ff977d2947489e2c7daa0c7c727d",
       "max": 8,
       "style": "IPY_MODEL_b47bcf8d9efe4da78a7abf4ce3ffa687",
       "value": 8
      }
     },
     "d76f93cbf26d4a46a3a274aa84453c02": {
      "model_module": "@jupyter-widgets/controls",
      "model_module_version": "1.5.0",
      "model_name": "DescriptionStyleModel",
      "state": {
       "description_width": ""
      }
     },
     "d782679eb5284607acbe7de93bdb82de": {
      "model_module": "@jupyter-widgets/base",
      "model_module_version": "1.2.0",
      "model_name": "LayoutModel",
      "state": {}
     },
     "d79598cc13d54066af0d7068363c6e41": {
      "model_module": "@jupyter-widgets/controls",
      "model_module_version": "1.5.0",
      "model_name": "HTMLModel",
      "state": {
       "layout": "IPY_MODEL_c5f74a7bf84442c3909acccd0903cc41",
       "style": "IPY_MODEL_51564e36f2d94f0dab1fece2083631b2",
       "value": "Validation DataLoader 0: 100%"
      }
     },
     "d7b2ffbd95b7413d913e82da61fd36b2": {
      "model_module": "@jupyter-widgets/controls",
      "model_module_version": "1.5.0",
      "model_name": "HTMLModel",
      "state": {
       "layout": "IPY_MODEL_caa195a88b01457d8dd9338eff8bf899",
       "style": "IPY_MODEL_1773809a094940dd9bf9f45521fabec1",
       "value": " 8/8 [00:03&lt;00:00,  2.06it/s]"
      }
     },
     "d7d58f5501fc43349da9d4c6d8961841": {
      "model_module": "@jupyter-widgets/controls",
      "model_module_version": "1.5.0",
      "model_name": "DescriptionStyleModel",
      "state": {
       "description_width": ""
      }
     },
     "d802856d317c4062b27e2b3f9e5fb002": {
      "model_module": "@jupyter-widgets/base",
      "model_module_version": "1.2.0",
      "model_name": "LayoutModel",
      "state": {
       "display": "inline-flex",
       "flex_flow": "row wrap",
       "width": "100%"
      }
     },
     "d817b5de771f46518bd173753ff5b39e": {
      "model_module": "@jupyter-widgets/base",
      "model_module_version": "1.2.0",
      "model_name": "LayoutModel",
      "state": {
       "display": "inline-flex",
       "flex_flow": "row wrap",
       "width": "100%"
      }
     },
     "d827de31f224493599790e8f877d51a8": {
      "model_module": "@jupyter-widgets/base",
      "model_module_version": "1.2.0",
      "model_name": "LayoutModel",
      "state": {}
     },
     "d83c3565a7784d029f9ced6112a36415": {
      "model_module": "@jupyter-widgets/controls",
      "model_module_version": "1.5.0",
      "model_name": "FloatProgressModel",
      "state": {
       "layout": "IPY_MODEL_b2957431772b422da7c666892f8c2d13",
       "max": 8,
       "style": "IPY_MODEL_7b06a06775d14728b0af09c9f056a2b4",
       "value": 8
      }
     },
     "d855d834399c44828d7bd6cf9899945f": {
      "model_module": "@jupyter-widgets/base",
      "model_module_version": "1.2.0",
      "model_name": "LayoutModel",
      "state": {}
     },
     "d8b00d26457b4ddcab2c6151b66ce0ab": {
      "model_module": "@jupyter-widgets/base",
      "model_module_version": "1.2.0",
      "model_name": "LayoutModel",
      "state": {
       "display": "inline-flex",
       "flex_flow": "row wrap",
       "width": "100%"
      }
     },
     "d8d3b9681682406ba0d7c82d66ac838d": {
      "model_module": "@jupyter-widgets/controls",
      "model_module_version": "1.5.0",
      "model_name": "HTMLModel",
      "state": {
       "layout": "IPY_MODEL_032076d038ab4599acb5c6eab1729ebc",
       "style": "IPY_MODEL_6a373c9e53e84ecdad75546580441b2d",
       "value": " 8/8 [00:03&lt;00:00,  2.44it/s]"
      }
     },
     "d8d98bd79704488e9355bd7666c6f8fa": {
      "model_module": "@jupyter-widgets/base",
      "model_module_version": "1.2.0",
      "model_name": "LayoutModel",
      "state": {}
     },
     "d8e7a28e77344e3dbd321fdae7647ac3": {
      "model_module": "@jupyter-widgets/controls",
      "model_module_version": "1.5.0",
      "model_name": "HTMLModel",
      "state": {
       "layout": "IPY_MODEL_a84d4ca3b8a247148fe787901e544f72",
       "style": "IPY_MODEL_41fdb1cfeb584f78bcbbf728cb9c5de5",
       "value": "Validation DataLoader 0: 100%"
      }
     },
     "d8edcc96a11f41d8976defe5d22fc518": {
      "model_module": "@jupyter-widgets/base",
      "model_module_version": "1.2.0",
      "model_name": "LayoutModel",
      "state": {}
     },
     "d91fc8e4713d423aa28b7ee8b16b4737": {
      "model_module": "@jupyter-widgets/controls",
      "model_module_version": "1.5.0",
      "model_name": "FloatProgressModel",
      "state": {
       "layout": "IPY_MODEL_a2ecefd6c16d4448823c44f5ca9f5d8f",
       "max": 8,
       "style": "IPY_MODEL_7e90f50d1db3445b94d41d08ee5c9ff8",
       "value": 8
      }
     },
     "d93a6a4093414b068c854e51432f8fec": {
      "model_module": "@jupyter-widgets/controls",
      "model_module_version": "1.5.0",
      "model_name": "ProgressStyleModel",
      "state": {
       "description_width": ""
      }
     },
     "d94c116008bb4f9f9ff895198fd71230": {
      "model_module": "@jupyter-widgets/controls",
      "model_module_version": "1.5.0",
      "model_name": "DescriptionStyleModel",
      "state": {
       "description_width": ""
      }
     },
     "d95c700ffd1c4354a0eca513d03ba7ae": {
      "model_module": "@jupyter-widgets/controls",
      "model_module_version": "1.5.0",
      "model_name": "ProgressStyleModel",
      "state": {
       "description_width": ""
      }
     },
     "d95d56f880f042b7b29a55ecf95cb690": {
      "model_module": "@jupyter-widgets/controls",
      "model_module_version": "1.5.0",
      "model_name": "HTMLModel",
      "state": {
       "layout": "IPY_MODEL_47edd5459ae84bc9ae11891e9dbb114c",
       "style": "IPY_MODEL_9bef6f1633054b00923fcbe6db43bcba",
       "value": "Validation DataLoader 0: 100%"
      }
     },
     "d975beafc5fc45c79bee3d5870bf2b02": {
      "model_module": "@jupyter-widgets/controls",
      "model_module_version": "1.5.0",
      "model_name": "HTMLModel",
      "state": {
       "layout": "IPY_MODEL_0c118002138045c186213425304babe7",
       "style": "IPY_MODEL_267f03274cff4f7586d5f4804a3c15ef",
       "value": "Validation DataLoader 0: 100%"
      }
     },
     "d9aab850a2a94144893bedcfae2119bd": {
      "model_module": "@jupyter-widgets/controls",
      "model_module_version": "1.5.0",
      "model_name": "HTMLModel",
      "state": {
       "layout": "IPY_MODEL_fb4b54e7c60245209c14ea436168abe5",
       "style": "IPY_MODEL_50071fc3769845dbaed5a9c34666a33f",
       "value": "Validation DataLoader 0: 100%"
      }
     },
     "d9aea499365f4eeb8702035696ba734c": {
      "model_module": "@jupyter-widgets/base",
      "model_module_version": "1.2.0",
      "model_name": "LayoutModel",
      "state": {}
     },
     "d9c64d547a5e4fa393edb40c2546ac13": {
      "model_module": "@jupyter-widgets/controls",
      "model_module_version": "1.5.0",
      "model_name": "DescriptionStyleModel",
      "state": {
       "description_width": ""
      }
     },
     "d9c80ceaed524c608d1de2510f12ac7e": {
      "model_module": "@jupyter-widgets/controls",
      "model_module_version": "1.5.0",
      "model_name": "ProgressStyleModel",
      "state": {
       "description_width": ""
      }
     },
     "d9c92fc491784891b76b22c9a8c7b9cb": {
      "model_module": "@jupyter-widgets/base",
      "model_module_version": "1.2.0",
      "model_name": "LayoutModel",
      "state": {}
     },
     "d9cd9ad0554a4752af3396e926f81154": {
      "model_module": "@jupyter-widgets/controls",
      "model_module_version": "1.5.0",
      "model_name": "HTMLModel",
      "state": {
       "layout": "IPY_MODEL_db9cd5282b18486ba3f248a532739fe3",
       "style": "IPY_MODEL_dc39d315081a4e9f90ba0249a29563d6",
       "value": "Validation DataLoader 0: 100%"
      }
     },
     "d9cfe3ebeb4a47c1aaa26ebc66bfad1b": {
      "model_module": "@jupyter-widgets/controls",
      "model_module_version": "1.5.0",
      "model_name": "ProgressStyleModel",
      "state": {
       "description_width": ""
      }
     },
     "d9d03eb447ca46ce806971afe991ccca": {
      "model_module": "@jupyter-widgets/controls",
      "model_module_version": "1.5.0",
      "model_name": "FloatProgressModel",
      "state": {
       "layout": "IPY_MODEL_8d7dfac5b3474f4fa67bfcbb4d69bec5",
       "max": 8,
       "style": "IPY_MODEL_d28c2ea685a14f439e7b281f937ed25d",
       "value": 8
      }
     },
     "d9e09cb6096f4869b82c2b58032f13b2": {
      "model_module": "@jupyter-widgets/controls",
      "model_module_version": "1.5.0",
      "model_name": "DescriptionStyleModel",
      "state": {
       "description_width": ""
      }
     },
     "da095bbbfe264262a8a43372748b8c3f": {
      "model_module": "@jupyter-widgets/base",
      "model_module_version": "1.2.0",
      "model_name": "LayoutModel",
      "state": {
       "display": "inline-flex",
       "flex_flow": "row wrap",
       "width": "100%"
      }
     },
     "da0b2bda701e43bea5cff0c53260eec9": {
      "model_module": "@jupyter-widgets/base",
      "model_module_version": "1.2.0",
      "model_name": "LayoutModel",
      "state": {
       "flex": "2"
      }
     },
     "da44346cd8c246118606b24a230859fe": {
      "model_module": "@jupyter-widgets/controls",
      "model_module_version": "1.5.0",
      "model_name": "FloatProgressModel",
      "state": {
       "layout": "IPY_MODEL_f2920934907643988b504d13d91bb62e",
       "max": 8,
       "style": "IPY_MODEL_9dd14bb0274a4cb994e1975a3408dc51",
       "value": 8
      }
     },
     "da97101b7d58427fabcfb4214d326b02": {
      "model_module": "@jupyter-widgets/base",
      "model_module_version": "1.2.0",
      "model_name": "LayoutModel",
      "state": {
       "flex": "2"
      }
     },
     "dac1124bf03849d5bd381cf871cf54a0": {
      "model_module": "@jupyter-widgets/base",
      "model_module_version": "1.2.0",
      "model_name": "LayoutModel",
      "state": {}
     },
     "dadb1cfe230a4bbf8f5185703f27db0f": {
      "model_module": "@jupyter-widgets/base",
      "model_module_version": "1.2.0",
      "model_name": "LayoutModel",
      "state": {}
     },
     "daef0bde88714a92b942875ab6278b66": {
      "model_module": "@jupyter-widgets/base",
      "model_module_version": "1.2.0",
      "model_name": "LayoutModel",
      "state": {}
     },
     "daf188fb31914161bb4652f319b5e9d6": {
      "model_module": "@jupyter-widgets/controls",
      "model_module_version": "1.5.0",
      "model_name": "FloatProgressModel",
      "state": {
       "layout": "IPY_MODEL_b0b1be12200444b180966a8f90dcf7db",
       "max": 8,
       "style": "IPY_MODEL_66ddaf2c9ba34ae68e161e6ceed0a24d",
       "value": 8
      }
     },
     "db065b4ae08a49c5ad34cf7ffba197e7": {
      "model_module": "@jupyter-widgets/base",
      "model_module_version": "1.2.0",
      "model_name": "LayoutModel",
      "state": {}
     },
     "db0dc08e8bde4a378d76c185cb4b7264": {
      "model_module": "@jupyter-widgets/controls",
      "model_module_version": "1.5.0",
      "model_name": "DescriptionStyleModel",
      "state": {
       "description_width": ""
      }
     },
     "db257ce92bc3428fafb37cde6d1a05d0": {
      "model_module": "@jupyter-widgets/base",
      "model_module_version": "1.2.0",
      "model_name": "LayoutModel",
      "state": {
       "flex": "2"
      }
     },
     "db361e47f39f4958883436711ad404c7": {
      "model_module": "@jupyter-widgets/base",
      "model_module_version": "1.2.0",
      "model_name": "LayoutModel",
      "state": {}
     },
     "db4f12c622f244a6ba798044d522f26d": {
      "model_module": "@jupyter-widgets/base",
      "model_module_version": "1.2.0",
      "model_name": "LayoutModel",
      "state": {}
     },
     "db5ff5d668c54ff9a325a0428021a361": {
      "model_module": "@jupyter-widgets/controls",
      "model_module_version": "1.5.0",
      "model_name": "FloatProgressModel",
      "state": {
       "layout": "IPY_MODEL_16c2cfd1af28407f98db6660f44061be",
       "max": 8,
       "style": "IPY_MODEL_4b3a04533a3e47adbca8e2e63ed35261",
       "value": 8
      }
     },
     "db746d2a45814922acbeef896c47a402": {
      "model_module": "@jupyter-widgets/base",
      "model_module_version": "1.2.0",
      "model_name": "LayoutModel",
      "state": {
       "display": "inline-flex",
       "flex_flow": "row wrap",
       "width": "100%"
      }
     },
     "db78692f92804494ac0543e0513a8a78": {
      "model_module": "@jupyter-widgets/controls",
      "model_module_version": "1.5.0",
      "model_name": "HTMLModel",
      "state": {
       "layout": "IPY_MODEL_975d6d6ec65a466ab28759a7fc2a827f",
       "style": "IPY_MODEL_d9c64d547a5e4fa393edb40c2546ac13",
       "value": "Validation DataLoader 0: 100%"
      }
     },
     "db874b91175d41009f95809b8ab86c8d": {
      "model_module": "@jupyter-widgets/base",
      "model_module_version": "1.2.0",
      "model_name": "LayoutModel",
      "state": {}
     },
     "db9cd5282b18486ba3f248a532739fe3": {
      "model_module": "@jupyter-widgets/base",
      "model_module_version": "1.2.0",
      "model_name": "LayoutModel",
      "state": {}
     },
     "db9fa5b7c2bf46f18760e0e907567931": {
      "model_module": "@jupyter-widgets/controls",
      "model_module_version": "1.5.0",
      "model_name": "DescriptionStyleModel",
      "state": {
       "description_width": ""
      }
     },
     "dba53b419255421694838cb14bcf1259": {
      "model_module": "@jupyter-widgets/controls",
      "model_module_version": "1.5.0",
      "model_name": "HTMLModel",
      "state": {
       "layout": "IPY_MODEL_b850bb8ab3ed457ead98f9e742bc9e33",
       "style": "IPY_MODEL_eba814f118974e75836001cc06278063",
       "value": " 8/8 [00:05&lt;00:00,  1.55it/s]"
      }
     },
     "dba627b6a36443d4a0a7381ddc9d986d": {
      "model_module": "@jupyter-widgets/controls",
      "model_module_version": "1.5.0",
      "model_name": "ProgressStyleModel",
      "state": {
       "description_width": ""
      }
     },
     "dbc0b62eb85545318c7adacdff5bd638": {
      "model_module": "@jupyter-widgets/controls",
      "model_module_version": "1.5.0",
      "model_name": "DescriptionStyleModel",
      "state": {
       "description_width": ""
      }
     },
     "dbd41ebe76134c669fa1152020ea8c8a": {
      "model_module": "@jupyter-widgets/base",
      "model_module_version": "1.2.0",
      "model_name": "LayoutModel",
      "state": {
       "display": "inline-flex",
       "flex_flow": "row wrap",
       "width": "100%"
      }
     },
     "dbd93638019c40cab6509a973e46c605": {
      "model_module": "@jupyter-widgets/base",
      "model_module_version": "1.2.0",
      "model_name": "LayoutModel",
      "state": {
       "display": "inline-flex",
       "flex_flow": "row wrap",
       "width": "100%"
      }
     },
     "dbef1c012e7a4471899e1f44169d5c0f": {
      "model_module": "@jupyter-widgets/base",
      "model_module_version": "1.2.0",
      "model_name": "LayoutModel",
      "state": {}
     },
     "dc280df43f374018bb9a23399e4cd19b": {
      "model_module": "@jupyter-widgets/controls",
      "model_module_version": "1.5.0",
      "model_name": "DescriptionStyleModel",
      "state": {
       "description_width": ""
      }
     },
     "dc39d315081a4e9f90ba0249a29563d6": {
      "model_module": "@jupyter-widgets/controls",
      "model_module_version": "1.5.0",
      "model_name": "DescriptionStyleModel",
      "state": {
       "description_width": ""
      }
     },
     "dc7a729a0b464717868c4ef69bed6008": {
      "model_module": "@jupyter-widgets/base",
      "model_module_version": "1.2.0",
      "model_name": "LayoutModel",
      "state": {}
     },
     "dc8203d0ce4e4aa099ce3b5a3d85631b": {
      "model_module": "@jupyter-widgets/controls",
      "model_module_version": "1.5.0",
      "model_name": "HTMLModel",
      "state": {
       "layout": "IPY_MODEL_34fdb693720f424db7b0da2d50226af0",
       "style": "IPY_MODEL_cc06633af3314374a0eb90a495fa89a9",
       "value": " 8/8 [00:02&lt;00:00,  2.95it/s]"
      }
     },
     "dc87327c49234d9c9a25556e88f89f66": {
      "model_module": "@jupyter-widgets/controls",
      "model_module_version": "1.5.0",
      "model_name": "HTMLModel",
      "state": {
       "layout": "IPY_MODEL_579a336d64604eba941a52b968d05710",
       "style": "IPY_MODEL_d236c688fce34c6496fd01a87ce72884",
       "value": "Validation DataLoader 0: 100%"
      }
     },
     "dcd4166dd8d54e9e9075826e27fb012f": {
      "model_module": "@jupyter-widgets/controls",
      "model_module_version": "1.5.0",
      "model_name": "DescriptionStyleModel",
      "state": {
       "description_width": ""
      }
     },
     "dcd5134fabd14393a542dd3a4e16ab25": {
      "model_module": "@jupyter-widgets/base",
      "model_module_version": "1.2.0",
      "model_name": "LayoutModel",
      "state": {
       "display": "inline-flex",
       "flex_flow": "row wrap",
       "width": "100%"
      }
     },
     "dce47e40b23f4ca0920739272b48e432": {
      "model_module": "@jupyter-widgets/base",
      "model_module_version": "1.2.0",
      "model_name": "LayoutModel",
      "state": {}
     },
     "dd0f26a3d90c4b5b9b8c8a8957ec7168": {
      "model_module": "@jupyter-widgets/controls",
      "model_module_version": "1.5.0",
      "model_name": "ProgressStyleModel",
      "state": {
       "description_width": ""
      }
     },
     "dd341149608d453a82c54c203f4296bc": {
      "model_module": "@jupyter-widgets/base",
      "model_module_version": "1.2.0",
      "model_name": "LayoutModel",
      "state": {
       "display": "inline-flex",
       "flex_flow": "row wrap",
       "width": "100%"
      }
     },
     "dd8e128ea62d419282039387c3f74e7a": {
      "model_module": "@jupyter-widgets/controls",
      "model_module_version": "1.5.0",
      "model_name": "FloatProgressModel",
      "state": {
       "layout": "IPY_MODEL_2e5638fe793d4171a87c87611370a731",
       "max": 2,
       "style": "IPY_MODEL_56cd20bc2ecc4e23879f446afe5b35d5",
       "value": 2
      }
     },
     "ddafda2942f94c58aac2e31fa91b1238": {
      "model_module": "@jupyter-widgets/base",
      "model_module_version": "1.2.0",
      "model_name": "LayoutModel",
      "state": {}
     },
     "ddb21d83f9784283b85d682fdbc7a27b": {
      "model_module": "@jupyter-widgets/controls",
      "model_module_version": "1.5.0",
      "model_name": "HTMLModel",
      "state": {
       "layout": "IPY_MODEL_3f8b721a7faf436d8236678a33346b23",
       "style": "IPY_MODEL_684324356dda4841a023a866ce01ed72",
       "value": " 8/8 [00:03&lt;00:00,  2.40it/s]"
      }
     },
     "ddb516dfd9ef4e049359cc84f1b29146": {
      "model_module": "@jupyter-widgets/controls",
      "model_module_version": "1.5.0",
      "model_name": "DescriptionStyleModel",
      "state": {
       "description_width": ""
      }
     },
     "ddb958437d8e4e97a978fe429cd60b9d": {
      "model_module": "@jupyter-widgets/controls",
      "model_module_version": "1.5.0",
      "model_name": "ProgressStyleModel",
      "state": {
       "description_width": ""
      }
     },
     "ddbbca60f2f94c05b1de305bff3bbbd0": {
      "model_module": "@jupyter-widgets/controls",
      "model_module_version": "1.5.0",
      "model_name": "DescriptionStyleModel",
      "state": {
       "description_width": ""
      }
     },
     "dde29d056a8e41f6845cb432eff06469": {
      "model_module": "@jupyter-widgets/base",
      "model_module_version": "1.2.0",
      "model_name": "LayoutModel",
      "state": {
       "display": "inline-flex",
       "flex_flow": "row wrap",
       "width": "100%"
      }
     },
     "de3bda82fa4146c2a95130e3df72b046": {
      "model_module": "@jupyter-widgets/controls",
      "model_module_version": "1.5.0",
      "model_name": "ProgressStyleModel",
      "state": {
       "description_width": ""
      }
     },
     "de43b51f697f43a585d4f1d807dc2ea7": {
      "model_module": "@jupyter-widgets/controls",
      "model_module_version": "1.5.0",
      "model_name": "HBoxModel",
      "state": {
       "children": [
        "IPY_MODEL_8b6d06cff9734f30b324e8c073054abf",
        "IPY_MODEL_1400ae70a1564d49b10235c2dc7d685b",
        "IPY_MODEL_5c5a364eeffe4835b7458ee9269e0d93"
       ],
       "layout": "IPY_MODEL_965a14a7a8554f43891a72eb4e04f687"
      }
     },
     "de5623c1b8ac41beac79766704c98d0a": {
      "model_module": "@jupyter-widgets/controls",
      "model_module_version": "1.5.0",
      "model_name": "DescriptionStyleModel",
      "state": {
       "description_width": ""
      }
     },
     "decc7e86cded47619f375e04b4e6e1fd": {
      "model_module": "@jupyter-widgets/controls",
      "model_module_version": "1.5.0",
      "model_name": "DescriptionStyleModel",
      "state": {
       "description_width": ""
      }
     },
     "df03f7f40d3e4f2a97e77c92fdc7d6c1": {
      "model_module": "@jupyter-widgets/base",
      "model_module_version": "1.2.0",
      "model_name": "LayoutModel",
      "state": {}
     },
     "df0fd82c7e544821a8c209402635a46d": {
      "model_module": "@jupyter-widgets/controls",
      "model_module_version": "1.5.0",
      "model_name": "HTMLModel",
      "state": {
       "layout": "IPY_MODEL_6f750417190645f7be2e5d02644b9087",
       "style": "IPY_MODEL_a61bf052d59744939be6953274e93e66",
       "value": " 8/8 [00:03&lt;00:00,  2.57it/s]"
      }
     },
     "df27023262dd4873b8b21c47a6b0e221": {
      "model_module": "@jupyter-widgets/base",
      "model_module_version": "1.2.0",
      "model_name": "LayoutModel",
      "state": {}
     },
     "df365ea7c5a947139c61ba441a5159d3": {
      "model_module": "@jupyter-widgets/controls",
      "model_module_version": "1.5.0",
      "model_name": "HTMLModel",
      "state": {
       "layout": "IPY_MODEL_bba76281caae4d529d732c00e817bd62",
       "style": "IPY_MODEL_d3bdf0c7f4414bd2b2999c28841cbb0d",
       "value": "Validation DataLoader 0: 100%"
      }
     },
     "df53e9050ca24fdf8849a808251fedc5": {
      "model_module": "@jupyter-widgets/controls",
      "model_module_version": "1.5.0",
      "model_name": "HTMLModel",
      "state": {
       "layout": "IPY_MODEL_a0cd8b38411f415388312cd091c13b0b",
       "style": "IPY_MODEL_98e80ebc85c14fe3b43904f907bf0549",
       "value": "Validation DataLoader 0: 100%"
      }
     },
     "df8db66b6e6941e1bf3be8be2ca2cd65": {
      "model_module": "@jupyter-widgets/base",
      "model_module_version": "1.2.0",
      "model_name": "LayoutModel",
      "state": {
       "flex": "2"
      }
     },
     "dfbe379d85544756872bc89c970ae45e": {
      "model_module": "@jupyter-widgets/base",
      "model_module_version": "1.2.0",
      "model_name": "LayoutModel",
      "state": {
       "flex": "2"
      }
     },
     "dfd75d4a2caf40a4855a4e2e6bdeaa26": {
      "model_module": "@jupyter-widgets/controls",
      "model_module_version": "1.5.0",
      "model_name": "DescriptionStyleModel",
      "state": {
       "description_width": ""
      }
     },
     "dff0ba0f616340d9ba7e0490bb15c3cf": {
      "model_module": "@jupyter-widgets/controls",
      "model_module_version": "1.5.0",
      "model_name": "ProgressStyleModel",
      "state": {
       "description_width": ""
      }
     },
     "e0140905f77249dfa6965a84aa1de422": {
      "model_module": "@jupyter-widgets/controls",
      "model_module_version": "1.5.0",
      "model_name": "DescriptionStyleModel",
      "state": {
       "description_width": ""
      }
     },
     "e033aa6e81f84805bd69896e33f51f1a": {
      "model_module": "@jupyter-widgets/controls",
      "model_module_version": "1.5.0",
      "model_name": "DescriptionStyleModel",
      "state": {
       "description_width": ""
      }
     },
     "e03c61037b4a4098b24554c2d9b99ee9": {
      "model_module": "@jupyter-widgets/base",
      "model_module_version": "1.2.0",
      "model_name": "LayoutModel",
      "state": {
       "display": "inline-flex",
       "flex_flow": "row wrap",
       "width": "100%"
      }
     },
     "e06dbfb052024a038198a98435e395c1": {
      "model_module": "@jupyter-widgets/controls",
      "model_module_version": "1.5.0",
      "model_name": "ProgressStyleModel",
      "state": {
       "description_width": ""
      }
     },
     "e0703d7c575d484d89667669336065ff": {
      "model_module": "@jupyter-widgets/controls",
      "model_module_version": "1.5.0",
      "model_name": "DescriptionStyleModel",
      "state": {
       "description_width": ""
      }
     },
     "e074a95fc7f449cdbd4f854120acc621": {
      "model_module": "@jupyter-widgets/controls",
      "model_module_version": "1.5.0",
      "model_name": "ProgressStyleModel",
      "state": {
       "description_width": ""
      }
     },
     "e08e56bf92ff4408b9a12a4717648036": {
      "model_module": "@jupyter-widgets/base",
      "model_module_version": "1.2.0",
      "model_name": "LayoutModel",
      "state": {}
     },
     "e0b79ea5a23646b3a4f2d48d12da5b13": {
      "model_module": "@jupyter-widgets/controls",
      "model_module_version": "1.5.0",
      "model_name": "ProgressStyleModel",
      "state": {
       "description_width": ""
      }
     },
     "e0bb043053dd4cb2a4d546413fc982f4": {
      "model_module": "@jupyter-widgets/base",
      "model_module_version": "1.2.0",
      "model_name": "LayoutModel",
      "state": {}
     },
     "e10290149ce94d41aa109c3578400e02": {
      "model_module": "@jupyter-widgets/base",
      "model_module_version": "1.2.0",
      "model_name": "LayoutModel",
      "state": {
       "display": "inline-flex",
       "flex_flow": "row wrap",
       "width": "100%"
      }
     },
     "e14a61d214de4c978ea38dd3aff2e1ea": {
      "model_module": "@jupyter-widgets/base",
      "model_module_version": "1.2.0",
      "model_name": "LayoutModel",
      "state": {}
     },
     "e1621332cc1f4b3da118e0d7d5607e13": {
      "model_module": "@jupyter-widgets/base",
      "model_module_version": "1.2.0",
      "model_name": "LayoutModel",
      "state": {
       "display": "inline-flex",
       "flex_flow": "row wrap",
       "width": "100%"
      }
     },
     "e166d73a0c4d449381d01d12aecfd4e6": {
      "model_module": "@jupyter-widgets/base",
      "model_module_version": "1.2.0",
      "model_name": "LayoutModel",
      "state": {}
     },
     "e19bead8a03a448ab53a5fae577b2de3": {
      "model_module": "@jupyter-widgets/controls",
      "model_module_version": "1.5.0",
      "model_name": "HTMLModel",
      "state": {
       "layout": "IPY_MODEL_152329758d8e45b9be0900ddd916bd1b",
       "style": "IPY_MODEL_0ab3204eb177490195248975d77f118d",
       "value": "Validation DataLoader 0: 100%"
      }
     },
     "e1b2b90875d64cacbdeb8e447e27947a": {
      "model_module": "@jupyter-widgets/controls",
      "model_module_version": "1.5.0",
      "model_name": "ProgressStyleModel",
      "state": {
       "description_width": ""
      }
     },
     "e1c11d1138e94b1bade7c97fe7b1ac55": {
      "model_module": "@jupyter-widgets/controls",
      "model_module_version": "1.5.0",
      "model_name": "HBoxModel",
      "state": {
       "children": [
        "IPY_MODEL_9e7c63ef02b84f258dd75841104235f3",
        "IPY_MODEL_0053ceaf9df84133ab8613f5882d9105",
        "IPY_MODEL_b4aac92355a84b27a03923735425ae8e"
       ],
       "layout": "IPY_MODEL_16b5b0425fe34204a1da7e78e097f5bf"
      }
     },
     "e1c8da78c7314ac2bf9a2a6a9f67ff0d": {
      "model_module": "@jupyter-widgets/controls",
      "model_module_version": "1.5.0",
      "model_name": "HTMLModel",
      "state": {
       "layout": "IPY_MODEL_a9bbfa2e6a4c448cbc783fd38e855f57",
       "style": "IPY_MODEL_cc61b0d9ecef4410873c5905f7e733be",
       "value": "Validation DataLoader 0: 100%"
      }
     },
     "e1d6a3f334b443f4ab62e4f9d23df71f": {
      "model_module": "@jupyter-widgets/controls",
      "model_module_version": "1.5.0",
      "model_name": "FloatProgressModel",
      "state": {
       "layout": "IPY_MODEL_ad373c2420614adba0a51ec0b81fea24",
       "max": 8,
       "style": "IPY_MODEL_18fd3bd0137b44bcae09e0045f0b56d1",
       "value": 8
      }
     },
     "e20b510e662f43a1bf6644c82388b713": {
      "model_module": "@jupyter-widgets/base",
      "model_module_version": "1.2.0",
      "model_name": "LayoutModel",
      "state": {}
     },
     "e2234e625d214bb2999182ddb308caba": {
      "model_module": "@jupyter-widgets/controls",
      "model_module_version": "1.5.0",
      "model_name": "DescriptionStyleModel",
      "state": {
       "description_width": ""
      }
     },
     "e2516e8825fd4459b9e15358c3782600": {
      "model_module": "@jupyter-widgets/base",
      "model_module_version": "1.2.0",
      "model_name": "LayoutModel",
      "state": {}
     },
     "e2a6493fbc7d4ee8b0ce3b49f7b50d65": {
      "model_module": "@jupyter-widgets/controls",
      "model_module_version": "1.5.0",
      "model_name": "ProgressStyleModel",
      "state": {
       "description_width": ""
      }
     },
     "e2e27ccd99fc4025b23d2879a1122e20": {
      "model_module": "@jupyter-widgets/base",
      "model_module_version": "1.2.0",
      "model_name": "LayoutModel",
      "state": {}
     },
     "e31502f4bdcc420da4dbf90228492470": {
      "model_module": "@jupyter-widgets/controls",
      "model_module_version": "1.5.0",
      "model_name": "DescriptionStyleModel",
      "state": {
       "description_width": ""
      }
     },
     "e336a59dbbce47f09c7271e6e5b1ea0d": {
      "model_module": "@jupyter-widgets/controls",
      "model_module_version": "1.5.0",
      "model_name": "HTMLModel",
      "state": {
       "layout": "IPY_MODEL_cb5e4e2884e24391b9e5266d27dc5865",
       "style": "IPY_MODEL_09bea81e72cf4d369b1c91344616e7ae",
       "value": " 8/8 [00:04&lt;00:00,  1.97it/s]"
      }
     },
     "e35e9b527623494f8005f3ba9fbb4445": {
      "model_module": "@jupyter-widgets/controls",
      "model_module_version": "1.5.0",
      "model_name": "HTMLModel",
      "state": {
       "layout": "IPY_MODEL_b717dec515974f0da9d645492cf3d2c4",
       "style": "IPY_MODEL_a3b3bce8c27344cfb6e19a3ce5e5324b",
       "value": "Predicting DataLoader 0: 100%"
      }
     },
     "e3cc7d756099418a9dab1cb9bb49013c": {
      "model_module": "@jupyter-widgets/controls",
      "model_module_version": "1.5.0",
      "model_name": "ProgressStyleModel",
      "state": {
       "description_width": ""
      }
     },
     "e3d48e7b18cf4e4bafa3756e9b239da8": {
      "model_module": "@jupyter-widgets/base",
      "model_module_version": "1.2.0",
      "model_name": "LayoutModel",
      "state": {
       "flex": "2"
      }
     },
     "e3de8f38acb347f3aac2693502ce9b8f": {
      "model_module": "@jupyter-widgets/base",
      "model_module_version": "1.2.0",
      "model_name": "LayoutModel",
      "state": {}
     },
     "e40492243913409fba51c08b3f7254a9": {
      "model_module": "@jupyter-widgets/base",
      "model_module_version": "1.2.0",
      "model_name": "LayoutModel",
      "state": {
       "flex": "2"
      }
     },
     "e43210a0dd6a428b8465e51eea0afb3a": {
      "model_module": "@jupyter-widgets/base",
      "model_module_version": "1.2.0",
      "model_name": "LayoutModel",
      "state": {
       "flex": "2"
      }
     },
     "e432f839e1894e29ac9bf5c7420d5b61": {
      "model_module": "@jupyter-widgets/controls",
      "model_module_version": "1.5.0",
      "model_name": "DescriptionStyleModel",
      "state": {
       "description_width": ""
      }
     },
     "e4360f36b8a249839174a9afc77c82e2": {
      "model_module": "@jupyter-widgets/controls",
      "model_module_version": "1.5.0",
      "model_name": "ProgressStyleModel",
      "state": {
       "description_width": ""
      }
     },
     "e4a46c7dcffc48e9af9c3dabe90a68d7": {
      "model_module": "@jupyter-widgets/controls",
      "model_module_version": "1.5.0",
      "model_name": "FloatProgressModel",
      "state": {
       "layout": "IPY_MODEL_f1920b9572d84680b4fd62071cbd320a",
       "max": 8,
       "style": "IPY_MODEL_0505b099758d4184b1c2c591d1522b10",
       "value": 8
      }
     },
     "e4b1470a72bd40599980408852c282fb": {
      "model_module": "@jupyter-widgets/controls",
      "model_module_version": "1.5.0",
      "model_name": "HTMLModel",
      "state": {
       "layout": "IPY_MODEL_ccf396a0e5a24def86b880bda60f9d3c",
       "style": "IPY_MODEL_8b1c099263b9498692c9f5441e9e8e0a",
       "value": " 8/8 [00:02&lt;00:00,  3.21it/s]"
      }
     },
     "e4cd488adf284886abdeb8c50fee5a77": {
      "model_module": "@jupyter-widgets/base",
      "model_module_version": "1.2.0",
      "model_name": "LayoutModel",
      "state": {}
     },
     "e5464bed91cd493ba4a6681c32394065": {
      "model_module": "@jupyter-widgets/controls",
      "model_module_version": "1.5.0",
      "model_name": "ProgressStyleModel",
      "state": {
       "description_width": ""
      }
     },
     "e5aed6ce86034e299b323481587b76aa": {
      "model_module": "@jupyter-widgets/controls",
      "model_module_version": "1.5.0",
      "model_name": "DescriptionStyleModel",
      "state": {
       "description_width": ""
      }
     },
     "e5afc2448bb24542b227e2f9bc8a9d64": {
      "model_module": "@jupyter-widgets/controls",
      "model_module_version": "1.5.0",
      "model_name": "DescriptionStyleModel",
      "state": {
       "description_width": ""
      }
     },
     "e5bcc5465f0146249f30263cb62d1642": {
      "model_module": "@jupyter-widgets/controls",
      "model_module_version": "1.5.0",
      "model_name": "ProgressStyleModel",
      "state": {
       "description_width": ""
      }
     },
     "e5ff044a36cd4ea9b1133dd01f8df742": {
      "model_module": "@jupyter-widgets/base",
      "model_module_version": "1.2.0",
      "model_name": "LayoutModel",
      "state": {
       "flex": "2"
      }
     },
     "e61162db961d4f7bb621af02222af12f": {
      "model_module": "@jupyter-widgets/controls",
      "model_module_version": "1.5.0",
      "model_name": "DescriptionStyleModel",
      "state": {
       "description_width": ""
      }
     },
     "e61b4ece080d40d3bf113646116a6c52": {
      "model_module": "@jupyter-widgets/controls",
      "model_module_version": "1.5.0",
      "model_name": "ProgressStyleModel",
      "state": {
       "description_width": ""
      }
     },
     "e61de82d826c4c4a95b92e601cf49c6e": {
      "model_module": "@jupyter-widgets/base",
      "model_module_version": "1.2.0",
      "model_name": "LayoutModel",
      "state": {}
     },
     "e6330980369243e58011a1c961a0bb52": {
      "model_module": "@jupyter-widgets/base",
      "model_module_version": "1.2.0",
      "model_name": "LayoutModel",
      "state": {
       "display": "inline-flex",
       "flex_flow": "row wrap",
       "width": "100%"
      }
     },
     "e6584c1f64b64799993771d5b11a9990": {
      "model_module": "@jupyter-widgets/controls",
      "model_module_version": "1.5.0",
      "model_name": "HTMLModel",
      "state": {
       "layout": "IPY_MODEL_15555ad57ab6486399cb0ca9f018d550",
       "style": "IPY_MODEL_85cf5930ab174ef48bb9e0b0e07397e9",
       "value": " 8/8 [00:04&lt;00:00,  1.91it/s]"
      }
     },
     "e6618ef3bcfd4b27bc6ca751a6cbed11": {
      "model_module": "@jupyter-widgets/controls",
      "model_module_version": "1.5.0",
      "model_name": "DescriptionStyleModel",
      "state": {
       "description_width": ""
      }
     },
     "e6a6ff2278fb471b88c72cd9bf94c45e": {
      "model_module": "@jupyter-widgets/controls",
      "model_module_version": "1.5.0",
      "model_name": "DescriptionStyleModel",
      "state": {
       "description_width": ""
      }
     },
     "e6b9f4f1be0f44139a92b2696fbea8ba": {
      "model_module": "@jupyter-widgets/base",
      "model_module_version": "1.2.0",
      "model_name": "LayoutModel",
      "state": {
       "display": "inline-flex",
       "flex_flow": "row wrap",
       "width": "100%"
      }
     },
     "e6c6376b0bcf48e997fbb450d3db32cd": {
      "model_module": "@jupyter-widgets/controls",
      "model_module_version": "1.5.0",
      "model_name": "FloatProgressModel",
      "state": {
       "layout": "IPY_MODEL_7f769fb272af47848edbdb91c2d9be5a",
       "max": 8,
       "style": "IPY_MODEL_a78d93353d5544eab5a228e2ba0ec9fe",
       "value": 8
      }
     },
     "e6d39e191cdb442785e4977a51f2277b": {
      "model_module": "@jupyter-widgets/base",
      "model_module_version": "1.2.0",
      "model_name": "LayoutModel",
      "state": {
       "display": "inline-flex",
       "flex_flow": "row wrap",
       "width": "100%"
      }
     },
     "e6f3f842700843679b9989075a36c97a": {
      "model_module": "@jupyter-widgets/base",
      "model_module_version": "1.2.0",
      "model_name": "LayoutModel",
      "state": {
       "display": "inline-flex",
       "flex_flow": "row wrap",
       "width": "100%"
      }
     },
     "e72a5d0682f74b4cb5270a70001ce6e6": {
      "model_module": "@jupyter-widgets/base",
      "model_module_version": "1.2.0",
      "model_name": "LayoutModel",
      "state": {
       "display": "inline-flex",
       "flex_flow": "row wrap",
       "width": "100%"
      }
     },
     "e77aeb7b7c814c78a04433c495e77d38": {
      "model_module": "@jupyter-widgets/controls",
      "model_module_version": "1.5.0",
      "model_name": "FloatProgressModel",
      "state": {
       "layout": "IPY_MODEL_fccc85339b814ad78b8995e2d1bc8ded",
       "max": 69,
       "style": "IPY_MODEL_c3e65b3caf224b1eb2435c121175bd25",
       "value": 53
      }
     },
     "e7ab36cd52d545b78fbfb14d72c6ec92": {
      "model_module": "@jupyter-widgets/controls",
      "model_module_version": "1.5.0",
      "model_name": "FloatProgressModel",
      "state": {
       "layout": "IPY_MODEL_0ecf2d14cdb64c8d8d7af8d1f9e3dfd5",
       "max": 8,
       "style": "IPY_MODEL_a5666aa7d2d84743ac6e3bd9afc5b4c9",
       "value": 8
      }
     },
     "e7e18dbb9bc24e08a9a93115914a6efd": {
      "model_module": "@jupyter-widgets/controls",
      "model_module_version": "1.5.0",
      "model_name": "DescriptionStyleModel",
      "state": {
       "description_width": ""
      }
     },
     "e7efd7a0210542b2b3835d2a92668e94": {
      "model_module": "@jupyter-widgets/controls",
      "model_module_version": "1.5.0",
      "model_name": "FloatProgressModel",
      "state": {
       "layout": "IPY_MODEL_5403e9b969094f69aca4925f3bf49362",
       "max": 8,
       "style": "IPY_MODEL_9c202d5524244ab1b6a4511cb20be663",
       "value": 8
      }
     },
     "e7f80e3978184968a82409fd5ba78cfd": {
      "model_module": "@jupyter-widgets/controls",
      "model_module_version": "1.5.0",
      "model_name": "DescriptionStyleModel",
      "state": {
       "description_width": ""
      }
     },
     "e8236516e5874808bd6d74306703b188": {
      "model_module": "@jupyter-widgets/controls",
      "model_module_version": "1.5.0",
      "model_name": "HTMLModel",
      "state": {
       "layout": "IPY_MODEL_3233b6b138b24cc887ab0532ecdccc3a",
       "style": "IPY_MODEL_e7e18dbb9bc24e08a9a93115914a6efd",
       "value": " 2/2 [00:00&lt;00:00,  2.32it/s]"
      }
     },
     "e8398ffdf15b4e0bbe41ffe72dae581a": {
      "model_module": "@jupyter-widgets/base",
      "model_module_version": "1.2.0",
      "model_name": "LayoutModel",
      "state": {
       "display": "inline-flex",
       "flex_flow": "row wrap",
       "width": "100%"
      }
     },
     "e85d2e1eba6d4504a63e9e0dd8439bae": {
      "model_module": "@jupyter-widgets/controls",
      "model_module_version": "1.5.0",
      "model_name": "FloatProgressModel",
      "state": {
       "layout": "IPY_MODEL_a10848ad7c1a480896273d98647e0484",
       "max": 8,
       "style": "IPY_MODEL_f0bc771c8d9e4bb293f2bc5f15813fa3",
       "value": 8
      }
     },
     "e8720aac492248cb9f46b25f81f389a6": {
      "model_module": "@jupyter-widgets/controls",
      "model_module_version": "1.5.0",
      "model_name": "FloatProgressModel",
      "state": {
       "layout": "IPY_MODEL_544dd4511898488c886640071710c4a0",
       "max": 8,
       "style": "IPY_MODEL_9fb425926dc04e2abf7e60afb47b4db0",
       "value": 8
      }
     },
     "e8852a0a9e6c4467b5bd42885b2b9fd9": {
      "model_module": "@jupyter-widgets/base",
      "model_module_version": "1.2.0",
      "model_name": "LayoutModel",
      "state": {}
     },
     "e8adcce5ea3d48b4b0feec62e249dc67": {
      "model_module": "@jupyter-widgets/base",
      "model_module_version": "1.2.0",
      "model_name": "LayoutModel",
      "state": {}
     },
     "e8b3d24267e94b66ae61088edae1811b": {
      "model_module": "@jupyter-widgets/controls",
      "model_module_version": "1.5.0",
      "model_name": "HTMLModel",
      "state": {
       "layout": "IPY_MODEL_8d4384168d6c48f6a68f3ea9fbaa4282",
       "style": "IPY_MODEL_e5aed6ce86034e299b323481587b76aa",
       "value": "Validation DataLoader 0: 100%"
      }
     },
     "e8c2b19006684754aae300e978b24216": {
      "model_module": "@jupyter-widgets/controls",
      "model_module_version": "1.5.0",
      "model_name": "ProgressStyleModel",
      "state": {
       "description_width": ""
      }
     },
     "e8c3a87b21214c608403f2199d5e1913": {
      "model_module": "@jupyter-widgets/base",
      "model_module_version": "1.2.0",
      "model_name": "LayoutModel",
      "state": {
       "flex": "2"
      }
     },
     "e8d762500434464b805c79527dc93c88": {
      "model_module": "@jupyter-widgets/base",
      "model_module_version": "1.2.0",
      "model_name": "LayoutModel",
      "state": {
       "display": "inline-flex",
       "flex_flow": "row wrap",
       "width": "100%"
      }
     },
     "e8fc1f2bea5c42c287f933cd2ab9026b": {
      "model_module": "@jupyter-widgets/controls",
      "model_module_version": "1.5.0",
      "model_name": "HTMLModel",
      "state": {
       "layout": "IPY_MODEL_f71b9ebb8cc445478a891daf06d2b333",
       "style": "IPY_MODEL_9ac872f00a45496893759e585a0de358",
       "value": " 8/8 [00:05&lt;00:00,  1.44it/s]"
      }
     },
     "e8fc4097d1cb4e1797c1ea5cac43b4b4": {
      "model_module": "@jupyter-widgets/base",
      "model_module_version": "1.2.0",
      "model_name": "LayoutModel",
      "state": {
       "flex": "2"
      }
     },
     "e99d109e7b7246e69c83904b21c4f9e3": {
      "model_module": "@jupyter-widgets/controls",
      "model_module_version": "1.5.0",
      "model_name": "HTMLModel",
      "state": {
       "layout": "IPY_MODEL_a061e90d849d40c085bf75137767d65a",
       "style": "IPY_MODEL_2d1a22beed0d49a2917854d644e4f1c3",
       "value": " 8/8 [00:02&lt;00:00,  2.74it/s]"
      }
     },
     "e99f21136c804ce0bad67b66701a0388": {
      "model_module": "@jupyter-widgets/base",
      "model_module_version": "1.2.0",
      "model_name": "LayoutModel",
      "state": {}
     },
     "e9aebabfab384c3abb0465e97ad5958b": {
      "model_module": "@jupyter-widgets/controls",
      "model_module_version": "1.5.0",
      "model_name": "HTMLModel",
      "state": {
       "layout": "IPY_MODEL_fe0d022e47c8438191ddd33f4e3e5e90",
       "style": "IPY_MODEL_2bee65f29e6f452dace88f7f07b17cef",
       "value": " 8/8 [00:03&lt;00:00,  2.47it/s]"
      }
     },
     "e9c16352123a4ac4a46a5a0113130f91": {
      "model_module": "@jupyter-widgets/controls",
      "model_module_version": "1.5.0",
      "model_name": "ProgressStyleModel",
      "state": {
       "description_width": ""
      }
     },
     "e9d9a9bc721b484293d673c17b7c3338": {
      "model_module": "@jupyter-widgets/controls",
      "model_module_version": "1.5.0",
      "model_name": "DescriptionStyleModel",
      "state": {
       "description_width": ""
      }
     },
     "e9fa5f7d239947039e288e98aada539f": {
      "model_module": "@jupyter-widgets/controls",
      "model_module_version": "1.5.0",
      "model_name": "FloatProgressModel",
      "state": {
       "layout": "IPY_MODEL_103ab0bda3c04e8aba7fbc2c35d95b78",
       "max": 8,
       "style": "IPY_MODEL_d6a2b7a8cd2d433c988a4e069f0cfc48",
       "value": 8
      }
     },
     "ea23bda5ddc642bcb4c4794cd43ce166": {
      "model_module": "@jupyter-widgets/base",
      "model_module_version": "1.2.0",
      "model_name": "LayoutModel",
      "state": {
       "display": "inline-flex",
       "flex_flow": "row wrap",
       "width": "100%"
      }
     },
     "ea76a4b8037642c78282430b6bf9e0f8": {
      "model_module": "@jupyter-widgets/controls",
      "model_module_version": "1.5.0",
      "model_name": "HTMLModel",
      "state": {
       "layout": "IPY_MODEL_f0bd7c1b49da4daab4e228a41a03438b",
       "style": "IPY_MODEL_3a85717098204a2280440578474334e8",
       "value": "Validation DataLoader 0: 100%"
      }
     },
     "ea8a01bd4c2f49519a17ceae13e5d57d": {
      "model_module": "@jupyter-widgets/controls",
      "model_module_version": "1.5.0",
      "model_name": "HTMLModel",
      "state": {
       "layout": "IPY_MODEL_0cdc689cf2e649029edaa66d3e3d8e6f",
       "style": "IPY_MODEL_dfd75d4a2caf40a4855a4e2e6bdeaa26",
       "value": " 8/8 [00:02&lt;00:00,  2.86it/s]"
      }
     },
     "eaafbc6c7a6f44b0b36239f8eac0cc1c": {
      "model_module": "@jupyter-widgets/controls",
      "model_module_version": "1.5.0",
      "model_name": "DescriptionStyleModel",
      "state": {
       "description_width": ""
      }
     },
     "eb0b3a7629eb4f00a2f94407a3aae349": {
      "model_module": "@jupyter-widgets/controls",
      "model_module_version": "1.5.0",
      "model_name": "DescriptionStyleModel",
      "state": {
       "description_width": ""
      }
     },
     "eb14bdc54b6e4e6facbd0caf54efeb3e": {
      "model_module": "@jupyter-widgets/controls",
      "model_module_version": "1.5.0",
      "model_name": "ProgressStyleModel",
      "state": {
       "description_width": ""
      }
     },
     "eb80292a150741be9a52931fe43cfb19": {
      "model_module": "@jupyter-widgets/base",
      "model_module_version": "1.2.0",
      "model_name": "LayoutModel",
      "state": {}
     },
     "eba30ef8e7394939b863a7cd931195e1": {
      "model_module": "@jupyter-widgets/base",
      "model_module_version": "1.2.0",
      "model_name": "LayoutModel",
      "state": {
       "flex": "2"
      }
     },
     "eba814f118974e75836001cc06278063": {
      "model_module": "@jupyter-widgets/controls",
      "model_module_version": "1.5.0",
      "model_name": "DescriptionStyleModel",
      "state": {
       "description_width": ""
      }
     },
     "ebe1cd6677be4907b7b634711f161de9": {
      "model_module": "@jupyter-widgets/base",
      "model_module_version": "1.2.0",
      "model_name": "LayoutModel",
      "state": {
       "display": "inline-flex",
       "flex_flow": "row wrap",
       "width": "100%"
      }
     },
     "ec1d1d6564e94aa69536fa4ba14e248b": {
      "model_module": "@jupyter-widgets/controls",
      "model_module_version": "1.5.0",
      "model_name": "FloatProgressModel",
      "state": {
       "layout": "IPY_MODEL_c4134a2068f14ca68b4db6a734dde8e6",
       "max": 8,
       "style": "IPY_MODEL_3db13f01b75745ca90fb81d88de3511a",
       "value": 8
      }
     },
     "ec79c4562a70465cae58688671f08fd7": {
      "model_module": "@jupyter-widgets/controls",
      "model_module_version": "1.5.0",
      "model_name": "DescriptionStyleModel",
      "state": {
       "description_width": ""
      }
     },
     "ec8b6a24282e4c188b0fbb76dec55c04": {
      "model_module": "@jupyter-widgets/base",
      "model_module_version": "1.2.0",
      "model_name": "LayoutModel",
      "state": {
       "display": "inline-flex",
       "flex_flow": "row wrap",
       "width": "100%"
      }
     },
     "ec8f68e50f3649b4bc53a6be2f43f5ce": {
      "model_module": "@jupyter-widgets/controls",
      "model_module_version": "1.5.0",
      "model_name": "FloatProgressModel",
      "state": {
       "layout": "IPY_MODEL_44bf7fa46b8947f38f1b6cedef96fc06",
       "max": 8,
       "style": "IPY_MODEL_c037a44db7cc4094abc1556c201e8668",
       "value": 8
      }
     },
     "ec9b6ffc7d49482e8de84a4ecb58fe7e": {
      "model_module": "@jupyter-widgets/base",
      "model_module_version": "1.2.0",
      "model_name": "LayoutModel",
      "state": {}
     },
     "eca1510dbce14875bf8b334f42ac0f21": {
      "model_module": "@jupyter-widgets/controls",
      "model_module_version": "1.5.0",
      "model_name": "ProgressStyleModel",
      "state": {
       "description_width": ""
      }
     },
     "eca2fa084c50475896f6e5b562b3683e": {
      "model_module": "@jupyter-widgets/controls",
      "model_module_version": "1.5.0",
      "model_name": "DescriptionStyleModel",
      "state": {
       "description_width": ""
      }
     },
     "eca97cbf45a54a4ebffaa76e13a1911c": {
      "model_module": "@jupyter-widgets/controls",
      "model_module_version": "1.5.0",
      "model_name": "HTMLModel",
      "state": {
       "layout": "IPY_MODEL_c993c34d16bc4e958086124b5ab207d5",
       "style": "IPY_MODEL_763c42e4ad9f4949b25e6a0c26daa362",
       "value": " 8/8 [00:02&lt;00:00,  2.76it/s]"
      }
     },
     "ecad1f925caf411a82a870a86bb6dbdf": {
      "model_module": "@jupyter-widgets/controls",
      "model_module_version": "1.5.0",
      "model_name": "DescriptionStyleModel",
      "state": {
       "description_width": ""
      }
     },
     "ecb76b95dc54449ca04af0f53ff79847": {
      "model_module": "@jupyter-widgets/base",
      "model_module_version": "1.2.0",
      "model_name": "LayoutModel",
      "state": {
       "flex": "2"
      }
     },
     "ece27e2c898d4db8b2ea52fb55a66dfd": {
      "model_module": "@jupyter-widgets/controls",
      "model_module_version": "1.5.0",
      "model_name": "HTMLModel",
      "state": {
       "layout": "IPY_MODEL_a607ab79d4e6449290adc7fc26671ee2",
       "style": "IPY_MODEL_ac808ee775b54f1ebcd95790b217f75f",
       "value": " 8/8 [00:02&lt;00:00,  3.29it/s]"
      }
     },
     "eceae98dcc42443fb2e43bde49778dba": {
      "model_module": "@jupyter-widgets/base",
      "model_module_version": "1.2.0",
      "model_name": "LayoutModel",
      "state": {}
     },
     "ed10d75b3a154a19a224dac38748761c": {
      "model_module": "@jupyter-widgets/controls",
      "model_module_version": "1.5.0",
      "model_name": "HTMLModel",
      "state": {
       "layout": "IPY_MODEL_bfa5bc4d1f994cf38bc4d65895a272e8",
       "style": "IPY_MODEL_843d34854f0144ff8b76d114327cfdb5",
       "value": "Epoch 7:  23%"
      }
     },
     "ed19d64f8d564621a977cd506431acff": {
      "model_module": "@jupyter-widgets/controls",
      "model_module_version": "1.5.0",
      "model_name": "FloatProgressModel",
      "state": {
       "bar_style": "success",
       "layout": "IPY_MODEL_75762dbe79f94aac89109fb2070aeea8",
       "max": 8,
       "style": "IPY_MODEL_4cdbb8db40714a49b5892e19618232ad",
       "value": 8
      }
     },
     "ed5cc84cc6c3452eb44e33bdded5e622": {
      "model_module": "@jupyter-widgets/base",
      "model_module_version": "1.2.0",
      "model_name": "LayoutModel",
      "state": {
       "flex": "2"
      }
     },
     "ed9e5c68257245edb1e48e8a7e84b404": {
      "model_module": "@jupyter-widgets/controls",
      "model_module_version": "1.5.0",
      "model_name": "HBoxModel",
      "state": {
       "children": [
        "IPY_MODEL_b271f7a8ce174d25b915f2f2a00a72f5",
        "IPY_MODEL_20a2fe67f56b4a76b5ed1ecd6fb21bdb",
        "IPY_MODEL_4a3d30ce8a344d72b63b64a76ba4cf58"
       ],
       "layout": "IPY_MODEL_91a6b2a3d60a4a61b6b8026fb2952224"
      }
     },
     "eda4fb9aa7bf4f20b3f0c40cc53e4e16": {
      "model_module": "@jupyter-widgets/controls",
      "model_module_version": "1.5.0",
      "model_name": "HTMLModel",
      "state": {
       "layout": "IPY_MODEL_88ac3daad82849e490aa800d4073c9e2",
       "style": "IPY_MODEL_68b8cb8b111f4347a2cb43af6e36baea",
       "value": "Validation DataLoader 0: 100%"
      }
     },
     "eda59f596115478a9e1050df292c8432": {
      "model_module": "@jupyter-widgets/controls",
      "model_module_version": "1.5.0",
      "model_name": "FloatProgressModel",
      "state": {
       "layout": "IPY_MODEL_8147cd2145e84973b6c799b156c82cee",
       "max": 8,
       "style": "IPY_MODEL_f34c43d9e6bf461c80a3f3bf1a9fe61b",
       "value": 8
      }
     },
     "edcf6e08d9494211a43427b26286a09f": {
      "model_module": "@jupyter-widgets/base",
      "model_module_version": "1.2.0",
      "model_name": "LayoutModel",
      "state": {}
     },
     "edf73a68737d47fca5cbadb8cef3a72c": {
      "model_module": "@jupyter-widgets/base",
      "model_module_version": "1.2.0",
      "model_name": "LayoutModel",
      "state": {
       "flex": "2"
      }
     },
     "edf99996fcc84cdc91c65d361b03fcfc": {
      "model_module": "@jupyter-widgets/controls",
      "model_module_version": "1.5.0",
      "model_name": "ProgressStyleModel",
      "state": {
       "description_width": ""
      }
     },
     "ee07617769f841f29bf059603f00f2c9": {
      "model_module": "@jupyter-widgets/controls",
      "model_module_version": "1.5.0",
      "model_name": "DescriptionStyleModel",
      "state": {
       "description_width": ""
      }
     },
     "ee18efbc0cea4f24a287d7086cbf4a0e": {
      "model_module": "@jupyter-widgets/base",
      "model_module_version": "1.2.0",
      "model_name": "LayoutModel",
      "state": {}
     },
     "ee2320d73af24e698329b0a92a34f0ac": {
      "model_module": "@jupyter-widgets/base",
      "model_module_version": "1.2.0",
      "model_name": "LayoutModel",
      "state": {}
     },
     "ee2529a3067e47d49d01ef9c55ba23b3": {
      "model_module": "@jupyter-widgets/base",
      "model_module_version": "1.2.0",
      "model_name": "LayoutModel",
      "state": {
       "flex": "2"
      }
     },
     "ee4eb70d4ae5486a9a04623c35ef407f": {
      "model_module": "@jupyter-widgets/controls",
      "model_module_version": "1.5.0",
      "model_name": "DescriptionStyleModel",
      "state": {
       "description_width": ""
      }
     },
     "ee56ee8a00354a159326b233dc49a9ac": {
      "model_module": "@jupyter-widgets/base",
      "model_module_version": "1.2.0",
      "model_name": "LayoutModel",
      "state": {
       "display": "inline-flex",
       "flex_flow": "row wrap",
       "width": "100%"
      }
     },
     "ee7612c8ccfc41938c74638e72b8cb28": {
      "model_module": "@jupyter-widgets/base",
      "model_module_version": "1.2.0",
      "model_name": "LayoutModel",
      "state": {}
     },
     "ee85eaa9c4484758b0c5ed978fbea0b6": {
      "model_module": "@jupyter-widgets/controls",
      "model_module_version": "1.5.0",
      "model_name": "FloatProgressModel",
      "state": {
       "layout": "IPY_MODEL_f198379e0489487c9dc43b72fb5ae441",
       "max": 8,
       "style": "IPY_MODEL_8a983abc560c4a989f764c9b477fd235",
       "value": 8
      }
     },
     "ee90ebc58f814becbd5a064456204155": {
      "model_module": "@jupyter-widgets/controls",
      "model_module_version": "1.5.0",
      "model_name": "DescriptionStyleModel",
      "state": {
       "description_width": ""
      }
     },
     "ee9bce7d50b54565824a23f7aa85023f": {
      "model_module": "@jupyter-widgets/controls",
      "model_module_version": "1.5.0",
      "model_name": "DescriptionStyleModel",
      "state": {
       "description_width": ""
      }
     },
     "eeaa701e1adf4b45ba4e4e1c50d5bf8e": {
      "model_module": "@jupyter-widgets/controls",
      "model_module_version": "1.5.0",
      "model_name": "ProgressStyleModel",
      "state": {
       "description_width": ""
      }
     },
     "eeb5c974992e400d8acb8f5cfec47a34": {
      "model_module": "@jupyter-widgets/base",
      "model_module_version": "1.2.0",
      "model_name": "LayoutModel",
      "state": {
       "flex": "2"
      }
     },
     "eec7d22374eb4a3eb1d1f1c8c067fa66": {
      "model_module": "@jupyter-widgets/controls",
      "model_module_version": "1.5.0",
      "model_name": "HTMLModel",
      "state": {
       "layout": "IPY_MODEL_3c53950121b4456b93441f3bd4c4ef7b",
       "style": "IPY_MODEL_52d95245f4604b3694a8b54a8fd0b6f5",
       "value": "Validation DataLoader 0: 100%"
      }
     },
     "ef0c4cf79c7749f8ad4270ec55396e4a": {
      "model_module": "@jupyter-widgets/controls",
      "model_module_version": "1.5.0",
      "model_name": "HTMLModel",
      "state": {
       "layout": "IPY_MODEL_e2e27ccd99fc4025b23d2879a1122e20",
       "style": "IPY_MODEL_c61f7819950f40f183e876c13abc05b0",
       "value": " 8/8 [00:05&lt;00:00,  1.37it/s]"
      }
     },
     "ef14239ebdfa4f8fa1c1769ab9b97e48": {
      "model_module": "@jupyter-widgets/base",
      "model_module_version": "1.2.0",
      "model_name": "LayoutModel",
      "state": {}
     },
     "ef24d3f21f79444b9d59437d77c0fae3": {
      "model_module": "@jupyter-widgets/controls",
      "model_module_version": "1.5.0",
      "model_name": "DescriptionStyleModel",
      "state": {
       "description_width": ""
      }
     },
     "ef454733637b43b1b85503fcf11146ff": {
      "model_module": "@jupyter-widgets/controls",
      "model_module_version": "1.5.0",
      "model_name": "FloatProgressModel",
      "state": {
       "layout": "IPY_MODEL_61b99ff60c9a4290a499b97c427b6370",
       "max": 8,
       "style": "IPY_MODEL_e3cc7d756099418a9dab1cb9bb49013c",
       "value": 8
      }
     },
     "ef4e0778f05c4eb29314b7987fcfd5c4": {
      "model_module": "@jupyter-widgets/base",
      "model_module_version": "1.2.0",
      "model_name": "LayoutModel",
      "state": {
       "flex": "2"
      }
     },
     "ef78d0d771c144efa7921baf5cd5110d": {
      "model_module": "@jupyter-widgets/controls",
      "model_module_version": "1.5.0",
      "model_name": "FloatProgressModel",
      "state": {
       "layout": "IPY_MODEL_733502830bbc446dbaa937ee6900b6a3",
       "max": 2,
       "style": "IPY_MODEL_bfb92515674743e3adb9e18234715463",
       "value": 2
      }
     },
     "ef7b10f484ad437eaa87fb746b0dd751": {
      "model_module": "@jupyter-widgets/controls",
      "model_module_version": "1.5.0",
      "model_name": "DescriptionStyleModel",
      "state": {
       "description_width": ""
      }
     },
     "efa6bd5b7fc04fb3b9fd362ca533d02c": {
      "model_module": "@jupyter-widgets/controls",
      "model_module_version": "1.5.0",
      "model_name": "HTMLModel",
      "state": {
       "layout": "IPY_MODEL_73ed77312da940e599427465eca3f92a",
       "style": "IPY_MODEL_428178bd4c774d49a432ebdc1028548c",
       "value": " 2/2 [00:00&lt;00:00,  2.73it/s]"
      }
     },
     "efadf3c9d88b47eaab808197eed6ea21": {
      "model_module": "@jupyter-widgets/controls",
      "model_module_version": "1.5.0",
      "model_name": "DescriptionStyleModel",
      "state": {
       "description_width": ""
      }
     },
     "efdbedb2707d4c2ba55a9d9154899bd6": {
      "model_module": "@jupyter-widgets/base",
      "model_module_version": "1.2.0",
      "model_name": "LayoutModel",
      "state": {}
     },
     "efe863a0e6da4ad69803c4947b5442ab": {
      "model_module": "@jupyter-widgets/controls",
      "model_module_version": "1.5.0",
      "model_name": "HTMLModel",
      "state": {
       "layout": "IPY_MODEL_0d89d9b6cd6c44e4bdea0cea0c055c10",
       "style": "IPY_MODEL_c7ff8877bdfb4ef6804108fdbcb8ed25",
       "value": " 8/8 [00:07&lt;00:00,  1.05it/s]"
      }
     },
     "eff1bffa31794e619fe1e6149b0c1e51": {
      "model_module": "@jupyter-widgets/controls",
      "model_module_version": "1.5.0",
      "model_name": "FloatProgressModel",
      "state": {
       "layout": "IPY_MODEL_d4f49f85b7b741ebad0ac3d6ff1b52ed",
       "max": 8,
       "style": "IPY_MODEL_b98fceb574ad474987da2b3fb5efee48",
       "value": 8
      }
     },
     "eff2d0ad8c9747aabb4bf68e56352378": {
      "model_module": "@jupyter-widgets/controls",
      "model_module_version": "1.5.0",
      "model_name": "DescriptionStyleModel",
      "state": {
       "description_width": ""
      }
     },
     "f00fdf2415d9430fadf8c2d8d12ecf67": {
      "model_module": "@jupyter-widgets/controls",
      "model_module_version": "1.5.0",
      "model_name": "DescriptionStyleModel",
      "state": {
       "description_width": ""
      }
     },
     "f01d843942394d0981ec92869600e4a3": {
      "model_module": "@jupyter-widgets/controls",
      "model_module_version": "1.5.0",
      "model_name": "HTMLModel",
      "state": {
       "layout": "IPY_MODEL_b499fa78c0e4475cbdd5c993af732af3",
       "style": "IPY_MODEL_999a4aca528c4d51b28a45324f06ea00",
       "value": " 8/8 [00:02&lt;00:00,  2.84it/s]"
      }
     },
     "f01f744360354b708ca50c58cdec6e85": {
      "model_module": "@jupyter-widgets/controls",
      "model_module_version": "1.5.0",
      "model_name": "HTMLModel",
      "state": {
       "layout": "IPY_MODEL_e61de82d826c4c4a95b92e601cf49c6e",
       "style": "IPY_MODEL_19020e9057ef407fb095212ae45e428e",
       "value": "Validation DataLoader 0: 100%"
      }
     },
     "f047483381c64059aaccf9549666f5c1": {
      "model_module": "@jupyter-widgets/controls",
      "model_module_version": "1.5.0",
      "model_name": "HTMLModel",
      "state": {
       "layout": "IPY_MODEL_799cc51851ac4df3b0b467cf5aa1086d",
       "style": "IPY_MODEL_2518a54cc36346149af80d368f5d13a2",
       "value": "Validation DataLoader 0: 100%"
      }
     },
     "f0526ab8478749bba4e0e43a9d5d4884": {
      "model_module": "@jupyter-widgets/base",
      "model_module_version": "1.2.0",
      "model_name": "LayoutModel",
      "state": {
       "display": "inline-flex",
       "flex_flow": "row wrap",
       "width": "100%"
      }
     },
     "f0583f87a40c40a0ae80f852124d592d": {
      "model_module": "@jupyter-widgets/controls",
      "model_module_version": "1.5.0",
      "model_name": "HTMLModel",
      "state": {
       "layout": "IPY_MODEL_426eb0d23ab0433794d87869c56c5976",
       "style": "IPY_MODEL_0548c7c5c86d4b4fa8009a9913255983",
       "value": " 8/8 [00:04&lt;00:00,  1.78it/s]"
      }
     },
     "f075195b8f2440169ef8bc3c1855376e": {
      "model_module": "@jupyter-widgets/controls",
      "model_module_version": "1.5.0",
      "model_name": "DescriptionStyleModel",
      "state": {
       "description_width": ""
      }
     },
     "f09325601d6040e095572225c02c65f6": {
      "model_module": "@jupyter-widgets/controls",
      "model_module_version": "1.5.0",
      "model_name": "HTMLModel",
      "state": {
       "layout": "IPY_MODEL_d43d7f8e0d354968b27ce6ea7b55a5ad",
       "style": "IPY_MODEL_69378c2c3dfa48639c27652b796c867b",
       "value": "Validation DataLoader 0: 100%"
      }
     },
     "f09417b4bcff4ead8e98275c0f000fe7": {
      "model_module": "@jupyter-widgets/controls",
      "model_module_version": "1.5.0",
      "model_name": "DescriptionStyleModel",
      "state": {
       "description_width": ""
      }
     },
     "f0b1be557c5b4223b300f889072db7d0": {
      "model_module": "@jupyter-widgets/controls",
      "model_module_version": "1.5.0",
      "model_name": "HTMLModel",
      "state": {
       "layout": "IPY_MODEL_35431d957c5b40a3aa6b2cd7e7a8012a",
       "style": "IPY_MODEL_b4a1a5b3dcfc4836800f0f60386ac7f1",
       "value": " 8/8 [00:03&lt;00:00,  2.29it/s]"
      }
     },
     "f0b60980ffa2497084a1bc8a6bc559a6": {
      "model_module": "@jupyter-widgets/base",
      "model_module_version": "1.2.0",
      "model_name": "LayoutModel",
      "state": {
       "flex": "2"
      }
     },
     "f0bc771c8d9e4bb293f2bc5f15813fa3": {
      "model_module": "@jupyter-widgets/controls",
      "model_module_version": "1.5.0",
      "model_name": "ProgressStyleModel",
      "state": {
       "description_width": ""
      }
     },
     "f0bd7c1b49da4daab4e228a41a03438b": {
      "model_module": "@jupyter-widgets/base",
      "model_module_version": "1.2.0",
      "model_name": "LayoutModel",
      "state": {}
     },
     "f0ca145720674bdd812ac37778f39c3d": {
      "model_module": "@jupyter-widgets/base",
      "model_module_version": "1.2.0",
      "model_name": "LayoutModel",
      "state": {
       "display": "inline-flex",
       "flex_flow": "row wrap",
       "width": "100%"
      }
     },
     "f0d0ba19edba4444be9f3bd258a40663": {
      "model_module": "@jupyter-widgets/base",
      "model_module_version": "1.2.0",
      "model_name": "LayoutModel",
      "state": {}
     },
     "f0e092d41c8846ef85c00cfacd9b12c8": {
      "model_module": "@jupyter-widgets/base",
      "model_module_version": "1.2.0",
      "model_name": "LayoutModel",
      "state": {
       "display": "inline-flex",
       "flex_flow": "row wrap",
       "width": "100%"
      }
     },
     "f1257d4ef4024e9db54bc9d9a63c835e": {
      "model_module": "@jupyter-widgets/base",
      "model_module_version": "1.2.0",
      "model_name": "LayoutModel",
      "state": {
       "flex": "2"
      }
     },
     "f13e9a679d98400ca261be94040742be": {
      "model_module": "@jupyter-widgets/controls",
      "model_module_version": "1.5.0",
      "model_name": "ProgressStyleModel",
      "state": {
       "description_width": ""
      }
     },
     "f15bc043ebe943b59b565718ae9b5dc0": {
      "model_module": "@jupyter-widgets/controls",
      "model_module_version": "1.5.0",
      "model_name": "DescriptionStyleModel",
      "state": {
       "description_width": ""
      }
     },
     "f185a4be2c6c4d5abf3f6480c92247c0": {
      "model_module": "@jupyter-widgets/base",
      "model_module_version": "1.2.0",
      "model_name": "LayoutModel",
      "state": {}
     },
     "f1920b9572d84680b4fd62071cbd320a": {
      "model_module": "@jupyter-widgets/base",
      "model_module_version": "1.2.0",
      "model_name": "LayoutModel",
      "state": {
       "flex": "2"
      }
     },
     "f198379e0489487c9dc43b72fb5ae441": {
      "model_module": "@jupyter-widgets/base",
      "model_module_version": "1.2.0",
      "model_name": "LayoutModel",
      "state": {
       "flex": "2"
      }
     },
     "f1bae45ebddc4d128ab0765dc9892bf4": {
      "model_module": "@jupyter-widgets/base",
      "model_module_version": "1.2.0",
      "model_name": "LayoutModel",
      "state": {}
     },
     "f1d0e3b8e974448d8d556fff32716ec0": {
      "model_module": "@jupyter-widgets/controls",
      "model_module_version": "1.5.0",
      "model_name": "DescriptionStyleModel",
      "state": {
       "description_width": ""
      }
     },
     "f1f4c30f1b1545e0adf4d549d276f23a": {
      "model_module": "@jupyter-widgets/controls",
      "model_module_version": "1.5.0",
      "model_name": "FloatProgressModel",
      "state": {
       "layout": "IPY_MODEL_609ddd05b59443bebcce3c93d986ad70",
       "max": 8,
       "style": "IPY_MODEL_0bfd6def3f184ad5aa2c2f174e80448d",
       "value": 8
      }
     },
     "f1f81529e48d47928828d4f8c31d2c8b": {
      "model_module": "@jupyter-widgets/base",
      "model_module_version": "1.2.0",
      "model_name": "LayoutModel",
      "state": {}
     },
     "f1fdefda94ce4cedb42b130dde09cc2a": {
      "model_module": "@jupyter-widgets/controls",
      "model_module_version": "1.5.0",
      "model_name": "DescriptionStyleModel",
      "state": {
       "description_width": ""
      }
     },
     "f217a3715050450d9c6c60e34be4dcd6": {
      "model_module": "@jupyter-widgets/controls",
      "model_module_version": "1.5.0",
      "model_name": "DescriptionStyleModel",
      "state": {
       "description_width": ""
      }
     },
     "f24c7b76e728400eb1b1df9dbf4f7f0f": {
      "model_module": "@jupyter-widgets/controls",
      "model_module_version": "1.5.0",
      "model_name": "DescriptionStyleModel",
      "state": {
       "description_width": ""
      }
     },
     "f2631962f12745658a1c6bce5b547dcf": {
      "model_module": "@jupyter-widgets/base",
      "model_module_version": "1.2.0",
      "model_name": "LayoutModel",
      "state": {
       "flex": "2"
      }
     },
     "f2638272dc3449d49755ca66ea542653": {
      "model_module": "@jupyter-widgets/controls",
      "model_module_version": "1.5.0",
      "model_name": "HTMLModel",
      "state": {
       "layout": "IPY_MODEL_65b2a0a8b1c8446b943d45168fd9e1e0",
       "style": "IPY_MODEL_ab0766b8b6be4f1fa193bb1c3787081b",
       "value": "Validation DataLoader 0: 100%"
      }
     },
     "f26f7c452da245eea85b6f31f26eeb54": {
      "model_module": "@jupyter-widgets/base",
      "model_module_version": "1.2.0",
      "model_name": "LayoutModel",
      "state": {
       "flex": "2"
      }
     },
     "f2920934907643988b504d13d91bb62e": {
      "model_module": "@jupyter-widgets/base",
      "model_module_version": "1.2.0",
      "model_name": "LayoutModel",
      "state": {
       "flex": "2"
      }
     },
     "f296e4be1550456b9346a4123b9605cc": {
      "model_module": "@jupyter-widgets/controls",
      "model_module_version": "1.5.0",
      "model_name": "HTMLModel",
      "state": {
       "layout": "IPY_MODEL_6f9a2f21147941c59bdfca8258fa0500",
       "style": "IPY_MODEL_19256c26e9ee4738a195010c3d81248a",
       "value": " 8/8 [00:03&lt;00:00,  2.26it/s]"
      }
     },
     "f2be91d79dc5464fb90cb39648d35b3d": {
      "model_module": "@jupyter-widgets/base",
      "model_module_version": "1.2.0",
      "model_name": "LayoutModel",
      "state": {}
     },
     "f2ceddb6246a40dcbf553a6506a1fa7c": {
      "model_module": "@jupyter-widgets/controls",
      "model_module_version": "1.5.0",
      "model_name": "FloatProgressModel",
      "state": {
       "layout": "IPY_MODEL_e3d48e7b18cf4e4bafa3756e9b239da8",
       "max": 8,
       "style": "IPY_MODEL_357680f41b6e431a9e032eb69041a76b",
       "value": 8
      }
     },
     "f32264db93cc4b129ed74b4423f5015e": {
      "model_module": "@jupyter-widgets/controls",
      "model_module_version": "1.5.0",
      "model_name": "HTMLModel",
      "state": {
       "layout": "IPY_MODEL_e3de8f38acb347f3aac2693502ce9b8f",
       "style": "IPY_MODEL_cec6b9d1f77d44ed86540e31de018843",
       "value": " 8/8 [00:06&lt;00:00,  1.20it/s]"
      }
     },
     "f34c43d9e6bf461c80a3f3bf1a9fe61b": {
      "model_module": "@jupyter-widgets/controls",
      "model_module_version": "1.5.0",
      "model_name": "ProgressStyleModel",
      "state": {
       "description_width": ""
      }
     },
     "f35a2dd3aec14ef5885fa8f1094ca004": {
      "model_module": "@jupyter-widgets/base",
      "model_module_version": "1.2.0",
      "model_name": "LayoutModel",
      "state": {
       "display": "inline-flex",
       "flex_flow": "row wrap",
       "width": "100%"
      }
     },
     "f35dff1357bf48b4a7e417b04bbe2f02": {
      "model_module": "@jupyter-widgets/controls",
      "model_module_version": "1.5.0",
      "model_name": "DescriptionStyleModel",
      "state": {
       "description_width": ""
      }
     },
     "f38d3978b79d4480850eebe05d36771b": {
      "model_module": "@jupyter-widgets/controls",
      "model_module_version": "1.5.0",
      "model_name": "FloatProgressModel",
      "state": {
       "layout": "IPY_MODEL_5e19d2b56063405a996be3039cba98e2",
       "max": 8,
       "style": "IPY_MODEL_0cb6a22283a44f4b87d98a810646731b",
       "value": 8
      }
     },
     "f3956ed55cea48c1b8d8a7440046a83d": {
      "model_module": "@jupyter-widgets/controls",
      "model_module_version": "1.5.0",
      "model_name": "HTMLModel",
      "state": {
       "layout": "IPY_MODEL_9f5805dfb5604709b709d2d4e8dfb952",
       "style": "IPY_MODEL_41a909db39144759bffeaf2d67a059de",
       "value": "Validation DataLoader 0: 100%"
      }
     },
     "f3cd3c10752748ebb978210ecc6bbdaa": {
      "model_module": "@jupyter-widgets/base",
      "model_module_version": "1.2.0",
      "model_name": "LayoutModel",
      "state": {
       "display": "inline-flex",
       "flex_flow": "row wrap",
       "width": "100%"
      }
     },
     "f42172018bb347eeb836599726c26e45": {
      "model_module": "@jupyter-widgets/base",
      "model_module_version": "1.2.0",
      "model_name": "LayoutModel",
      "state": {
       "display": "inline-flex",
       "flex_flow": "row wrap",
       "width": "100%"
      }
     },
     "f4692e582d5042ada3d9ec2b0a72c39e": {
      "model_module": "@jupyter-widgets/controls",
      "model_module_version": "1.5.0",
      "model_name": "ProgressStyleModel",
      "state": {
       "description_width": ""
      }
     },
     "f47a371fa68547358655d1bfd36db94c": {
      "model_module": "@jupyter-widgets/controls",
      "model_module_version": "1.5.0",
      "model_name": "HTMLModel",
      "state": {
       "layout": "IPY_MODEL_3142c62bba434902bb14ff774bb1164f",
       "style": "IPY_MODEL_e6a6ff2278fb471b88c72cd9bf94c45e",
       "value": " 8/8 [00:02&lt;00:00,  3.28it/s]"
      }
     },
     "f47c596079a6428ea535e637bc1a6046": {
      "model_module": "@jupyter-widgets/controls",
      "model_module_version": "1.5.0",
      "model_name": "HTMLModel",
      "state": {
       "layout": "IPY_MODEL_a4400515d3b04558a87ef0bdf890864f",
       "style": "IPY_MODEL_3e66d4cf771c41b29a16b515194a703b",
       "value": " 8/8 [00:05&lt;00:00,  1.40it/s]"
      }
     },
     "f48d8020f9b74e58bed0bb4a210ed067": {
      "model_module": "@jupyter-widgets/controls",
      "model_module_version": "1.5.0",
      "model_name": "HTMLModel",
      "state": {
       "layout": "IPY_MODEL_2ea7cabe343844cab627baecae4ffab1",
       "style": "IPY_MODEL_363eea02c67a4c1b9147e9e2069e544f",
       "value": " 8/8 [00:02&lt;00:00,  3.25it/s]"
      }
     },
     "f4927267ea474902b9b59d0779408a4d": {
      "model_module": "@jupyter-widgets/base",
      "model_module_version": "1.2.0",
      "model_name": "LayoutModel",
      "state": {
       "display": "inline-flex",
       "flex_flow": "row wrap",
       "width": "100%"
      }
     },
     "f4b597f9cd9748c9841539552850fe13": {
      "model_module": "@jupyter-widgets/controls",
      "model_module_version": "1.5.0",
      "model_name": "DescriptionStyleModel",
      "state": {
       "description_width": ""
      }
     },
     "f4ee35634b1d40e296655ae785f8b264": {
      "model_module": "@jupyter-widgets/controls",
      "model_module_version": "1.5.0",
      "model_name": "HTMLModel",
      "state": {
       "layout": "IPY_MODEL_052e8667836d466898ec21cdcc020cc0",
       "style": "IPY_MODEL_93d64390fbe544e5aefcbbd026fa3796",
       "value": " 8/8 [00:03&lt;00:00,  2.31it/s]"
      }
     },
     "f4fbe192ec3c4c96b2147b4c20d9c3c9": {
      "model_module": "@jupyter-widgets/base",
      "model_module_version": "1.2.0",
      "model_name": "LayoutModel",
      "state": {
       "display": "inline-flex",
       "flex_flow": "row wrap",
       "width": "100%"
      }
     },
     "f52985f9eb0a4e4faa4132cd3821263e": {
      "model_module": "@jupyter-widgets/controls",
      "model_module_version": "1.5.0",
      "model_name": "HTMLModel",
      "state": {
       "layout": "IPY_MODEL_4ed1d1ee678e45e7b93b4d6e526ec1ba",
       "style": "IPY_MODEL_409c57c4385b4c79af7ed422f60ad347",
       "value": " 8/8 [00:03&lt;00:00,  2.50it/s]"
      }
     },
     "f57a1c487703476aad9e62464bec4119": {
      "model_module": "@jupyter-widgets/controls",
      "model_module_version": "1.5.0",
      "model_name": "HTMLModel",
      "state": {
       "layout": "IPY_MODEL_51363fa91c3e4518a7cfcad2f6de4f61",
       "style": "IPY_MODEL_6b3e06481e6b43cca87857d8282f8bf4",
       "value": "Epoch 22:  35%"
      }
     },
     "f5ae76b4c02f4a0b818d3d60c76d02f9": {
      "model_module": "@jupyter-widgets/base",
      "model_module_version": "1.2.0",
      "model_name": "LayoutModel",
      "state": {
       "flex": "2"
      }
     },
     "f5b47e44efda4308836a2b266313005e": {
      "model_module": "@jupyter-widgets/controls",
      "model_module_version": "1.5.0",
      "model_name": "DescriptionStyleModel",
      "state": {
       "description_width": ""
      }
     },
     "f5d477163cf14b8c969605077153bb5b": {
      "model_module": "@jupyter-widgets/base",
      "model_module_version": "1.2.0",
      "model_name": "LayoutModel",
      "state": {}
     },
     "f5e8ac9fc9254fd2833029b6baf23aa4": {
      "model_module": "@jupyter-widgets/controls",
      "model_module_version": "1.5.0",
      "model_name": "HTMLModel",
      "state": {
       "layout": "IPY_MODEL_2a3481762e3c4390a469f66b91513972",
       "style": "IPY_MODEL_a02452ca654e4d3fa86ecc355a783cad",
       "value": " 8/8 [00:03&lt;00:00,  2.59it/s]"
      }
     },
     "f6269d4daaab407bbc0e0761046e4cac": {
      "model_module": "@jupyter-widgets/controls",
      "model_module_version": "1.5.0",
      "model_name": "DescriptionStyleModel",
      "state": {
       "description_width": ""
      }
     },
     "f635dab2173a4baca4d5ce1a9af18300": {
      "model_module": "@jupyter-widgets/controls",
      "model_module_version": "1.5.0",
      "model_name": "DescriptionStyleModel",
      "state": {
       "description_width": ""
      }
     },
     "f64e88acdead45c88a16b4addc0f8a4e": {
      "model_module": "@jupyter-widgets/controls",
      "model_module_version": "1.5.0",
      "model_name": "DescriptionStyleModel",
      "state": {
       "description_width": ""
      }
     },
     "f67d807590ac42928f10e8c560132238": {
      "model_module": "@jupyter-widgets/controls",
      "model_module_version": "1.5.0",
      "model_name": "DescriptionStyleModel",
      "state": {
       "description_width": ""
      }
     },
     "f6a5ca5f056d42c18696406bd10b3bd2": {
      "model_module": "@jupyter-widgets/base",
      "model_module_version": "1.2.0",
      "model_name": "LayoutModel",
      "state": {}
     },
     "f6d227e691c549ae93e291c6839d4b13": {
      "model_module": "@jupyter-widgets/controls",
      "model_module_version": "1.5.0",
      "model_name": "FloatProgressModel",
      "state": {
       "layout": "IPY_MODEL_9bb6338033324591b3750e7851882cbd",
       "max": 8,
       "style": "IPY_MODEL_26d638e830c048848d9cb2945dc99705",
       "value": 8
      }
     },
     "f6d8bf186d3b4899a35ec21d68f77adc": {
      "model_module": "@jupyter-widgets/controls",
      "model_module_version": "1.5.0",
      "model_name": "FloatProgressModel",
      "state": {
       "layout": "IPY_MODEL_ae771a6e40b7476c849db1593b56bf72",
       "max": 8,
       "style": "IPY_MODEL_e06dbfb052024a038198a98435e395c1",
       "value": 8
      }
     },
     "f6db546efa174c46a6523c5ea7c8b052": {
      "model_module": "@jupyter-widgets/base",
      "model_module_version": "1.2.0",
      "model_name": "LayoutModel",
      "state": {}
     },
     "f7091bb498a54862bbf4e762cff52032": {
      "model_module": "@jupyter-widgets/controls",
      "model_module_version": "1.5.0",
      "model_name": "DescriptionStyleModel",
      "state": {
       "description_width": ""
      }
     },
     "f71b9ebb8cc445478a891daf06d2b333": {
      "model_module": "@jupyter-widgets/base",
      "model_module_version": "1.2.0",
      "model_name": "LayoutModel",
      "state": {}
     },
     "f721d9a5f4994f2d8d39817326e2e88a": {
      "model_module": "@jupyter-widgets/base",
      "model_module_version": "1.2.0",
      "model_name": "LayoutModel",
      "state": {}
     },
     "f72bf1082ddf4510bcde340a5abaf2aa": {
      "model_module": "@jupyter-widgets/base",
      "model_module_version": "1.2.0",
      "model_name": "LayoutModel",
      "state": {}
     },
     "f7375423c54e41fe8d75b387d53de828": {
      "model_module": "@jupyter-widgets/controls",
      "model_module_version": "1.5.0",
      "model_name": "FloatProgressModel",
      "state": {
       "layout": "IPY_MODEL_fdb88d65828949dfb4690e1b4421caf8",
       "max": 8,
       "style": "IPY_MODEL_e4360f36b8a249839174a9afc77c82e2",
       "value": 8
      }
     },
     "f755e58db1f84786b7bdf43bc1acc447": {
      "model_module": "@jupyter-widgets/controls",
      "model_module_version": "1.5.0",
      "model_name": "HTMLModel",
      "state": {
       "layout": "IPY_MODEL_5941fdfd2d354c33b26f5974320383e6",
       "style": "IPY_MODEL_7c98155730d2461b870a942452714441",
       "value": "Validation DataLoader 0: 100%"
      }
     },
     "f76fa97c10c8438ea8f1a86692eaccb9": {
      "model_module": "@jupyter-widgets/controls",
      "model_module_version": "1.5.0",
      "model_name": "HTMLModel",
      "state": {
       "layout": "IPY_MODEL_db4f12c622f244a6ba798044d522f26d",
       "style": "IPY_MODEL_686c7abaafca4a408d54547ca6c78708",
       "value": " 8/8 [00:04&lt;00:00,  1.96it/s]"
      }
     },
     "f782a1ffc45a4934bb9e6f95bf7a228f": {
      "model_module": "@jupyter-widgets/controls",
      "model_module_version": "1.5.0",
      "model_name": "DescriptionStyleModel",
      "state": {
       "description_width": ""
      }
     },
     "f78d5e97ffd245ff814720d605e1aa27": {
      "model_module": "@jupyter-widgets/controls",
      "model_module_version": "1.5.0",
      "model_name": "DescriptionStyleModel",
      "state": {
       "description_width": ""
      }
     },
     "f7a28644fff94b82a2a7526977de6ebd": {
      "model_module": "@jupyter-widgets/controls",
      "model_module_version": "1.5.0",
      "model_name": "HTMLModel",
      "state": {
       "layout": "IPY_MODEL_5142ac1ef57d4b3391299d0669683ec3",
       "style": "IPY_MODEL_7a5ad980140647a9a83716893f714c11",
       "value": " 8/8 [00:02&lt;00:00,  2.70it/s]"
      }
     },
     "f7b0d417874d43e8b746c4966251b06f": {
      "model_module": "@jupyter-widgets/base",
      "model_module_version": "1.2.0",
      "model_name": "LayoutModel",
      "state": {}
     },
     "f7e6ba664d2a4604a3dec5e86ced544a": {
      "model_module": "@jupyter-widgets/controls",
      "model_module_version": "1.5.0",
      "model_name": "ProgressStyleModel",
      "state": {
       "description_width": ""
      }
     },
     "f7f7ac0666a340f78cd2424c984ffb70": {
      "model_module": "@jupyter-widgets/base",
      "model_module_version": "1.2.0",
      "model_name": "LayoutModel",
      "state": {}
     },
     "f81702f7ac6e47b1a60e42a9e7f93ed5": {
      "model_module": "@jupyter-widgets/base",
      "model_module_version": "1.2.0",
      "model_name": "LayoutModel",
      "state": {
       "flex": "2"
      }
     },
     "f8262653730148be985c486c68e952fe": {
      "model_module": "@jupyter-widgets/controls",
      "model_module_version": "1.5.0",
      "model_name": "DescriptionStyleModel",
      "state": {
       "description_width": ""
      }
     },
     "f82abdba89c64fbfb451369088fa3d67": {
      "model_module": "@jupyter-widgets/controls",
      "model_module_version": "1.5.0",
      "model_name": "FloatProgressModel",
      "state": {
       "layout": "IPY_MODEL_06d154aa72bc4fd88cfbeb44ce4c1515",
       "max": 69,
       "style": "IPY_MODEL_701d40818b4e42da9bbea59acca0cdc9",
       "value": 29
      }
     },
     "f846c3843bc64fd4b058920f17a86046": {
      "model_module": "@jupyter-widgets/controls",
      "model_module_version": "1.5.0",
      "model_name": "DescriptionStyleModel",
      "state": {
       "description_width": ""
      }
     },
     "f848102f7f0648f8819f48e36c5e8202": {
      "model_module": "@jupyter-widgets/controls",
      "model_module_version": "1.5.0",
      "model_name": "HTMLModel",
      "state": {
       "layout": "IPY_MODEL_df03f7f40d3e4f2a97e77c92fdc7d6c1",
       "style": "IPY_MODEL_8e58be4b63324973b2e3cc67563418a5",
       "value": "Validation DataLoader 0: 100%"
      }
     },
     "f852a4739a6d412db59ffd7c42dfc2dc": {
      "model_module": "@jupyter-widgets/controls",
      "model_module_version": "1.5.0",
      "model_name": "HTMLModel",
      "state": {
       "layout": "IPY_MODEL_187e983a988d45d69a411157f86da955",
       "style": "IPY_MODEL_f635dab2173a4baca4d5ce1a9af18300",
       "value": "Validation DataLoader 0: 100%"
      }
     },
     "f8854489b60f4b2bb1bc28ed2bf054f5": {
      "model_module": "@jupyter-widgets/controls",
      "model_module_version": "1.5.0",
      "model_name": "HTMLModel",
      "state": {
       "layout": "IPY_MODEL_ec9b6ffc7d49482e8de84a4ecb58fe7e",
       "style": "IPY_MODEL_1c7bc20f16144fa8ad766d834456f937",
       "value": "Epoch 26:  38%"
      }
     },
     "f897a12d82294f7aba596ed91914443e": {
      "model_module": "@jupyter-widgets/base",
      "model_module_version": "1.2.0",
      "model_name": "LayoutModel",
      "state": {}
     },
     "f8e12d91344a4f60aaa058fa23f9b255": {
      "model_module": "@jupyter-widgets/controls",
      "model_module_version": "1.5.0",
      "model_name": "DescriptionStyleModel",
      "state": {
       "description_width": ""
      }
     },
     "f8fb648c5da543b5ab07604b6e7f586c": {
      "model_module": "@jupyter-widgets/base",
      "model_module_version": "1.2.0",
      "model_name": "LayoutModel",
      "state": {}
     },
     "f9030ea065044e50aaefe20fb73baf5f": {
      "model_module": "@jupyter-widgets/controls",
      "model_module_version": "1.5.0",
      "model_name": "HTMLModel",
      "state": {
       "layout": "IPY_MODEL_64fcce0ceb5d46c39c75973119e1eece",
       "style": "IPY_MODEL_c3e87a32b5f84f7aad5cbb1f85458dbd",
       "value": " 8/8 [00:02&lt;00:00,  3.10it/s]"
      }
     },
     "f936a1c35764421087bd5313e40d1843": {
      "model_module": "@jupyter-widgets/base",
      "model_module_version": "1.2.0",
      "model_name": "LayoutModel",
      "state": {
       "display": "inline-flex",
       "flex_flow": "row wrap",
       "width": "100%"
      }
     },
     "f94556705e1649a99904357b741d2acb": {
      "model_module": "@jupyter-widgets/controls",
      "model_module_version": "1.5.0",
      "model_name": "HTMLModel",
      "state": {
       "layout": "IPY_MODEL_36a9191e628e41518be6cb1d869d90e9",
       "style": "IPY_MODEL_025f4b98207d40b393481fd60e42bbd1",
       "value": " 8/8 [00:05&lt;00:00,  1.41it/s]"
      }
     },
     "f988389a616e4e30bff404cefb7b0a67": {
      "model_module": "@jupyter-widgets/controls",
      "model_module_version": "1.5.0",
      "model_name": "DescriptionStyleModel",
      "state": {
       "description_width": ""
      }
     },
     "f99c944743ac4553b8fc8562b6905531": {
      "model_module": "@jupyter-widgets/controls",
      "model_module_version": "1.5.0",
      "model_name": "HTMLModel",
      "state": {
       "layout": "IPY_MODEL_b3fdb4060eea4b8f899fb42b4af82882",
       "style": "IPY_MODEL_603e7e470d74461a813591da9e92eb60",
       "value": " 8/8 [00:02&lt;00:00,  3.30it/s]"
      }
     },
     "f9e58a9db4c143418d00fd63f0da4d20": {
      "model_module": "@jupyter-widgets/base",
      "model_module_version": "1.2.0",
      "model_name": "LayoutModel",
      "state": {
       "flex": "2"
      }
     },
     "fa32d2ff0db944b88b980cb0a167b0bf": {
      "model_module": "@jupyter-widgets/base",
      "model_module_version": "1.2.0",
      "model_name": "LayoutModel",
      "state": {
       "display": "inline-flex",
       "flex_flow": "row wrap",
       "width": "100%"
      }
     },
     "fa39b831c47c47f3a25a6ae1911dffcf": {
      "model_module": "@jupyter-widgets/base",
      "model_module_version": "1.2.0",
      "model_name": "LayoutModel",
      "state": {}
     },
     "fa50d89de94c41eb95298bd96c7bde1d": {
      "model_module": "@jupyter-widgets/base",
      "model_module_version": "1.2.0",
      "model_name": "LayoutModel",
      "state": {}
     },
     "fa7f009e89c64a8cb012f98ce0442a7b": {
      "model_module": "@jupyter-widgets/controls",
      "model_module_version": "1.5.0",
      "model_name": "HTMLModel",
      "state": {
       "layout": "IPY_MODEL_0f3c2e90a9be4537b97fde299232da35",
       "style": "IPY_MODEL_774333cf659a48e8b304c0ebf084cc8d",
       "value": "Validation DataLoader 0: 100%"
      }
     },
     "fa8121bd256047ad81a3898ad43d5735": {
      "model_module": "@jupyter-widgets/base",
      "model_module_version": "1.2.0",
      "model_name": "LayoutModel",
      "state": {
       "flex": "2"
      }
     },
     "fa85fab9d15240a095329ee8ef58d061": {
      "model_module": "@jupyter-widgets/base",
      "model_module_version": "1.2.0",
      "model_name": "LayoutModel",
      "state": {
       "flex": "2"
      }
     },
     "fa8892a7feb344c9a5170b7a548876b5": {
      "model_module": "@jupyter-widgets/controls",
      "model_module_version": "1.5.0",
      "model_name": "FloatProgressModel",
      "state": {
       "layout": "IPY_MODEL_c9c62212fba84940b320c101c7dfbc08",
       "max": 8,
       "style": "IPY_MODEL_61d3e7a49630431289f7330dc5f0ce07",
       "value": 8
      }
     },
     "fa9f10c809064c6689fe876dbef8c9f7": {
      "model_module": "@jupyter-widgets/controls",
      "model_module_version": "1.5.0",
      "model_name": "DescriptionStyleModel",
      "state": {
       "description_width": ""
      }
     },
     "faf105fd512b495a8911420f2dcbce3b": {
      "model_module": "@jupyter-widgets/base",
      "model_module_version": "1.2.0",
      "model_name": "LayoutModel",
      "state": {}
     },
     "fafa1527212745719dc3696e31d806c2": {
      "model_module": "@jupyter-widgets/controls",
      "model_module_version": "1.5.0",
      "model_name": "FloatProgressModel",
      "state": {
       "layout": "IPY_MODEL_4763ffaca3ca4a439112933b75ce6a3a",
       "max": 8,
       "style": "IPY_MODEL_ae8f20152ccd4276831a781e7d5ca2ee",
       "value": 8
      }
     },
     "fb0da567fe654e6d9601ced0587c5345": {
      "model_module": "@jupyter-widgets/base",
      "model_module_version": "1.2.0",
      "model_name": "LayoutModel",
      "state": {}
     },
     "fb10d4ef23ee47b5a449280bc60a64e1": {
      "model_module": "@jupyter-widgets/base",
      "model_module_version": "1.2.0",
      "model_name": "LayoutModel",
      "state": {
       "flex": "2"
      }
     },
     "fb394cf0b0dd4c928a855cf58059f26d": {
      "model_module": "@jupyter-widgets/base",
      "model_module_version": "1.2.0",
      "model_name": "LayoutModel",
      "state": {}
     },
     "fb3a610c669c435c93b61b06108ccad0": {
      "model_module": "@jupyter-widgets/controls",
      "model_module_version": "1.5.0",
      "model_name": "HTMLModel",
      "state": {
       "layout": "IPY_MODEL_8b7604cf1cfc45ab832a875ea6e5c50b",
       "style": "IPY_MODEL_2e07ad02ed9c4a439e1388f61e893c81",
       "value": "Validation DataLoader 0: 100%"
      }
     },
     "fb4b54e7c60245209c14ea436168abe5": {
      "model_module": "@jupyter-widgets/base",
      "model_module_version": "1.2.0",
      "model_name": "LayoutModel",
      "state": {}
     },
     "fb8d5d8e9b6043af8cb1af37ace81edd": {
      "model_module": "@jupyter-widgets/controls",
      "model_module_version": "1.5.0",
      "model_name": "ProgressStyleModel",
      "state": {
       "description_width": ""
      }
     },
     "fb99e4bba6a94df3a314b9ceb0059694": {
      "model_module": "@jupyter-widgets/controls",
      "model_module_version": "1.5.0",
      "model_name": "DescriptionStyleModel",
      "state": {
       "description_width": ""
      }
     },
     "fba4161fe7dc4d80bc8c17b8b87adc10": {
      "model_module": "@jupyter-widgets/base",
      "model_module_version": "1.2.0",
      "model_name": "LayoutModel",
      "state": {}
     },
     "fbd079c2dca94a3ea45fea6bbfa9c2dd": {
      "model_module": "@jupyter-widgets/base",
      "model_module_version": "1.2.0",
      "model_name": "LayoutModel",
      "state": {}
     },
     "fbd84d5021814c3dad5c535c449a7a76": {
      "model_module": "@jupyter-widgets/base",
      "model_module_version": "1.2.0",
      "model_name": "LayoutModel",
      "state": {
       "flex": "2"
      }
     },
     "fc028729f50640d9919533e812a69c6f": {
      "model_module": "@jupyter-widgets/controls",
      "model_module_version": "1.5.0",
      "model_name": "ProgressStyleModel",
      "state": {
       "description_width": ""
      }
     },
     "fc1e4f61e3394702af6fb7808b88c915": {
      "model_module": "@jupyter-widgets/controls",
      "model_module_version": "1.5.0",
      "model_name": "DescriptionStyleModel",
      "state": {
       "description_width": ""
      }
     },
     "fc22d3e053d84db98e0985d6e81a9dac": {
      "model_module": "@jupyter-widgets/controls",
      "model_module_version": "1.5.0",
      "model_name": "ProgressStyleModel",
      "state": {
       "description_width": ""
      }
     },
     "fc27f56d6ef248cea85f5b0f04857265": {
      "model_module": "@jupyter-widgets/controls",
      "model_module_version": "1.5.0",
      "model_name": "FloatProgressModel",
      "state": {
       "layout": "IPY_MODEL_049d68680fc345f18dafdd1d94029a7f",
       "max": 8,
       "style": "IPY_MODEL_12567684a2e84b9299bb30b62da4db23",
       "value": 8
      }
     },
     "fc69c41c4c0f43beb3439b04add16d38": {
      "model_module": "@jupyter-widgets/controls",
      "model_module_version": "1.5.0",
      "model_name": "HTMLModel",
      "state": {
       "layout": "IPY_MODEL_664315818060466594bdc63f1a57a6e9",
       "style": "IPY_MODEL_30304b1f6de244bf909d8d4f6542bdc5",
       "value": " 8/8 [00:02&lt;00:00,  3.27it/s]"
      }
     },
     "fc7c7229c7824b8ca65d11163cd15a99": {
      "model_module": "@jupyter-widgets/controls",
      "model_module_version": "1.5.0",
      "model_name": "HTMLModel",
      "state": {
       "layout": "IPY_MODEL_dbef1c012e7a4471899e1f44169d5c0f",
       "style": "IPY_MODEL_1f452eb257f0496eacaa3cb32f11e179",
       "value": "Sanity Checking DataLoader 0: 100%"
      }
     },
     "fc8a2031716a474ea81ecf879665502e": {
      "model_module": "@jupyter-widgets/base",
      "model_module_version": "1.2.0",
      "model_name": "LayoutModel",
      "state": {}
     },
     "fc999507e9e547c7a11c722efae3a1d5": {
      "model_module": "@jupyter-widgets/base",
      "model_module_version": "1.2.0",
      "model_name": "LayoutModel",
      "state": {}
     },
     "fca873bdd6314624adc9f0b70a079157": {
      "model_module": "@jupyter-widgets/controls",
      "model_module_version": "1.5.0",
      "model_name": "DescriptionStyleModel",
      "state": {
       "description_width": ""
      }
     },
     "fccc85339b814ad78b8995e2d1bc8ded": {
      "model_module": "@jupyter-widgets/base",
      "model_module_version": "1.2.0",
      "model_name": "LayoutModel",
      "state": {
       "flex": "2"
      }
     },
     "fcce9089c6214b958dc67f82ffd55bbc": {
      "model_module": "@jupyter-widgets/controls",
      "model_module_version": "1.5.0",
      "model_name": "ProgressStyleModel",
      "state": {
       "description_width": ""
      }
     },
     "fcefa435c3cf4592a7e29ab19e2ea4d6": {
      "model_module": "@jupyter-widgets/controls",
      "model_module_version": "1.5.0",
      "model_name": "DescriptionStyleModel",
      "state": {
       "description_width": ""
      }
     },
     "fd1812d89ca248e0b87c5bdde05bdb4d": {
      "model_module": "@jupyter-widgets/controls",
      "model_module_version": "1.5.0",
      "model_name": "HTMLModel",
      "state": {
       "layout": "IPY_MODEL_59fed2f97f1a48099bbba3799bc865e5",
       "style": "IPY_MODEL_03de54cd2f27477f8c6e98cccee73064",
       "value": "Validation DataLoader 0: 100%"
      }
     },
     "fd20f3c2659d43ceb5e249cfa76d5830": {
      "model_module": "@jupyter-widgets/base",
      "model_module_version": "1.2.0",
      "model_name": "LayoutModel",
      "state": {
       "display": "inline-flex",
       "flex_flow": "row wrap",
       "width": "100%"
      }
     },
     "fd2f66d6a600471da22d6bad9074ae4e": {
      "model_module": "@jupyter-widgets/base",
      "model_module_version": "1.2.0",
      "model_name": "LayoutModel",
      "state": {
       "flex": "2"
      }
     },
     "fd5e8f391268439f9e5c525725101f40": {
      "model_module": "@jupyter-widgets/controls",
      "model_module_version": "1.5.0",
      "model_name": "DescriptionStyleModel",
      "state": {
       "description_width": ""
      }
     },
     "fd7fccbd89e34c379df2fded62b3189c": {
      "model_module": "@jupyter-widgets/controls",
      "model_module_version": "1.5.0",
      "model_name": "HTMLModel",
      "state": {
       "layout": "IPY_MODEL_edcf6e08d9494211a43427b26286a09f",
       "style": "IPY_MODEL_61cb399ee30b4ab89e1f8773534b07a4",
       "value": " 8/8 [00:02&lt;00:00,  2.75it/s]"
      }
     },
     "fd883e2f52054a66a703d1fb529fdd01": {
      "model_module": "@jupyter-widgets/controls",
      "model_module_version": "1.5.0",
      "model_name": "FloatProgressModel",
      "state": {
       "layout": "IPY_MODEL_ffbb75c6fa554fd88e262df6d42a36ff",
       "max": 8,
       "style": "IPY_MODEL_4070fa1bf2f24cdd89bca958c8b5e972",
       "value": 8
      }
     },
     "fd8bad90995442758688323bb054bbcd": {
      "model_module": "@jupyter-widgets/controls",
      "model_module_version": "1.5.0",
      "model_name": "DescriptionStyleModel",
      "state": {
       "description_width": ""
      }
     },
     "fd9e78b163b94875ac1aef521a02fcef": {
      "model_module": "@jupyter-widgets/base",
      "model_module_version": "1.2.0",
      "model_name": "LayoutModel",
      "state": {}
     },
     "fdb88d65828949dfb4690e1b4421caf8": {
      "model_module": "@jupyter-widgets/base",
      "model_module_version": "1.2.0",
      "model_name": "LayoutModel",
      "state": {
       "flex": "2"
      }
     },
     "fdbb8e5dfe6d42fba9ab764fe3589f93": {
      "model_module": "@jupyter-widgets/controls",
      "model_module_version": "1.5.0",
      "model_name": "ProgressStyleModel",
      "state": {
       "description_width": ""
      }
     },
     "fdbc1f34b5fb4565aaa2622559f6c999": {
      "model_module": "@jupyter-widgets/base",
      "model_module_version": "1.2.0",
      "model_name": "LayoutModel",
      "state": {}
     },
     "fdcd2c123f39409eaa8259b75e2faf77": {
      "model_module": "@jupyter-widgets/controls",
      "model_module_version": "1.5.0",
      "model_name": "HTMLModel",
      "state": {
       "layout": "IPY_MODEL_45382f033a5041b9a73834c804736c9f",
       "style": "IPY_MODEL_f24c7b76e728400eb1b1df9dbf4f7f0f",
       "value": "Validation DataLoader 0: 100%"
      }
     },
     "fde6b52600b3440ea438f0b6f6743fb1": {
      "model_module": "@jupyter-widgets/base",
      "model_module_version": "1.2.0",
      "model_name": "LayoutModel",
      "state": {}
     },
     "fdeb9cea8a604b42b1d411aa9e1ae0c5": {
      "model_module": "@jupyter-widgets/base",
      "model_module_version": "1.2.0",
      "model_name": "LayoutModel",
      "state": {}
     },
     "fe0d022e47c8438191ddd33f4e3e5e90": {
      "model_module": "@jupyter-widgets/base",
      "model_module_version": "1.2.0",
      "model_name": "LayoutModel",
      "state": {}
     },
     "fe21f8a8a40849b38d420ad84289960c": {
      "model_module": "@jupyter-widgets/controls",
      "model_module_version": "1.5.0",
      "model_name": "HBoxModel",
      "state": {
       "children": [
        "IPY_MODEL_25a97c6ffc6b4895a6a55292c77ad1f6",
        "IPY_MODEL_f82abdba89c64fbfb451369088fa3d67",
        "IPY_MODEL_cbb044a202fa42f08aa0141cacde380c"
       ],
       "layout": "IPY_MODEL_27f4df66fd594baa8bb66f8c57557f4a"
      }
     },
     "fe3916bb4d0b4ee9bbcedc6165efbd4d": {
      "model_module": "@jupyter-widgets/controls",
      "model_module_version": "1.5.0",
      "model_name": "DescriptionStyleModel",
      "state": {
       "description_width": ""
      }
     },
     "fe7ae78b69b8401a9392c1172ac4f82d": {
      "model_module": "@jupyter-widgets/controls",
      "model_module_version": "1.5.0",
      "model_name": "HBoxModel",
      "state": {
       "children": [
        "IPY_MODEL_f8854489b60f4b2bb1bc28ed2bf054f5",
        "IPY_MODEL_10879a76e985412b8ce542e726d2db2c",
        "IPY_MODEL_aea2d899525a49faa63cd8ae30653a4a"
       ],
       "layout": "IPY_MODEL_c1f9821d5be74e898e5f9b7f4ba0c24b"
      }
     },
     "fe96beaf01644d3b9411ef08bd7b0f2f": {
      "model_module": "@jupyter-widgets/controls",
      "model_module_version": "1.5.0",
      "model_name": "FloatProgressModel",
      "state": {
       "layout": "IPY_MODEL_9afc4f11b434455489c604ee3051b080",
       "max": 8,
       "style": "IPY_MODEL_8d2ea1e47dd54152981c0d70c026e679",
       "value": 8
      }
     },
     "feca89857096466a859facf5741b117c": {
      "model_module": "@jupyter-widgets/controls",
      "model_module_version": "1.5.0",
      "model_name": "FloatProgressModel",
      "state": {
       "layout": "IPY_MODEL_06ea916db4b945be97891a89ff52fdb1",
       "max": 8,
       "style": "IPY_MODEL_87a769cb7dc646909e80f09db004c32d",
       "value": 8
      }
     },
     "feff6d477ecb4d6da5a85791075b43b1": {
      "model_module": "@jupyter-widgets/controls",
      "model_module_version": "1.5.0",
      "model_name": "DescriptionStyleModel",
      "state": {
       "description_width": ""
      }
     },
     "ff1b7d2c63634410beb8d8d9d63f8582": {
      "model_module": "@jupyter-widgets/controls",
      "model_module_version": "1.5.0",
      "model_name": "ProgressStyleModel",
      "state": {
       "description_width": ""
      }
     },
     "ff20fd333ff74845bba7d27e071f2ba7": {
      "model_module": "@jupyter-widgets/base",
      "model_module_version": "1.2.0",
      "model_name": "LayoutModel",
      "state": {
       "flex": "2"
      }
     },
     "ff6981b1226c43e5bb4f5042081d8820": {
      "model_module": "@jupyter-widgets/controls",
      "model_module_version": "1.5.0",
      "model_name": "FloatProgressModel",
      "state": {
       "layout": "IPY_MODEL_b8d5ea1eac434d638db684377c1485d5",
       "max": 8,
       "style": "IPY_MODEL_ff1b7d2c63634410beb8d8d9d63f8582",
       "value": 8
      }
     },
     "ff9d20d6c7144220a524620d4ea85396": {
      "model_module": "@jupyter-widgets/controls",
      "model_module_version": "1.5.0",
      "model_name": "FloatProgressModel",
      "state": {
       "layout": "IPY_MODEL_1f0e5fa64b50488fb473901fde6ae094",
       "max": 8,
       "style": "IPY_MODEL_11d27277aec6480d8aacb4000af68ef8",
       "value": 8
      }
     },
     "ffbb75c6fa554fd88e262df6d42a36ff": {
      "model_module": "@jupyter-widgets/base",
      "model_module_version": "1.2.0",
      "model_name": "LayoutModel",
      "state": {
       "flex": "2"
      }
     },
     "fffff85cc8ce413a8c8c9536b5d07c51": {
      "model_module": "@jupyter-widgets/base",
      "model_module_version": "1.2.0",
      "model_name": "LayoutModel",
      "state": {}
     }
    },
    "version_major": 2,
    "version_minor": 0
   }
  }
 },
 "nbformat": 4,
 "nbformat_minor": 5
}
