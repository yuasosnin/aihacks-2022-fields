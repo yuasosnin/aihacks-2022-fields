{
 "cells": [
  {
   "cell_type": "code",
   "execution_count": 1,
   "id": "58d028dc-e7aa-4518-b85b-5d7bebc2c4e1",
   "metadata": {},
   "outputs": [],
   "source": [
    "import os, datetime\n",
    "from tqdm.notebook import tqdm\n",
    "\n",
    "import numpy as np\n",
    "import pandas as pd\n",
    "import geopandas as gpd\n",
    "import geojson\n",
    "import shapely\n",
    "import shapely.geometry\n",
    "\n",
    "import xarray as xr\n",
    "import rioxarray as rxr"
   ]
  },
  {
   "cell_type": "code",
   "execution_count": 2,
   "id": "e33c8d81-842a-44fd-ba57-38ddb3a53fd4",
   "metadata": {},
   "outputs": [],
   "source": [
    "import matplotlib.pyplot as plt\n",
    "import contextily"
   ]
  },
  {
   "cell_type": "code",
   "execution_count": 3,
   "id": "01eadf82-118f-4952-be17-356dfb5312b8",
   "metadata": {},
   "outputs": [],
   "source": [
    "from src import *"
   ]
  },
  {
   "cell_type": "code",
   "execution_count": 4,
   "id": "62bc6036-ad3d-4f28-be59-f9b90b307d16",
   "metadata": {},
   "outputs": [],
   "source": [
    "import warnings\n",
    "warnings.filterwarnings('ignore')"
   ]
  },
  {
   "cell_type": "code",
   "execution_count": 5,
   "id": "1c5d6607-d4dd-4515-8457-5b3438e5995e",
   "metadata": {},
   "outputs": [],
   "source": [
    "data = read_data('data/train_dataset_train_2.csv')\n",
    "data_test = read_data('data/test_dataset_test_2.csv')\n",
    "data_ts, data_id = process_data(data)\n",
    "data_ts_test, data_id_test = process_data(data_test)"
   ]
  },
  {
   "cell_type": "code",
   "execution_count": 6,
   "id": "6e2370e4-8baa-4c83-9d70-ef09d1754722",
   "metadata": {},
   "outputs": [],
   "source": [
    "def add_diff(data_ts):\n",
    "    diff = data_ts.T.diff()[1:].T\n",
    "    diff.columns = [f'{x}_' for x in diff.columns]\n",
    "    return pd.concat((data_ts, diff), axis=1)"
   ]
  },
  {
   "cell_type": "code",
   "execution_count": 7,
   "id": "48cc4e62-45d5-40e1-9742-86ad3b33b546",
   "metadata": {},
   "outputs": [],
   "source": [
    "# data_ts = add_diff(data_ts)\n",
    "# data_ts_test = add_diff(data_ts_test)"
   ]
  },
  {
   "cell_type": "code",
   "execution_count": 8,
   "id": "17dec04e-2d6d-45c6-90e5-52f6ae1d0890",
   "metadata": {},
   "outputs": [],
   "source": [
    "# dates = pd.date_range(start=None, end='2021/08/27', periods=135)\n",
    "# data_ts_modis = pd.DataFrame(np.load('data_modis.npz')['arr_0'].squeeze(-1), columns=dates)\n",
    "# data_ts_modis_test = pd.DataFrame(np.load('data_modis_test.npz')['arr_0'].squeeze(-1), columns=dates)"
   ]
  },
  {
   "cell_type": "code",
   "execution_count": 9,
   "id": "5b0ce5b3-6709-4e7f-aec7-76b15471cd53",
   "metadata": {},
   "outputs": [],
   "source": [
    "data_ts_modis = pd.read_csv('data/train_dataset_modis.csv').fillna(0.0)\n",
    "data_ts_modis_test = pd.read_csv('data/test_dataset_modis.csv').fillna(0.0)"
   ]
  },
  {
   "cell_type": "code",
   "execution_count": 10,
   "id": "f9c28ac2-f94b-418d-8d70-3a60540058df",
   "metadata": {},
   "outputs": [],
   "source": [
    "# data_ts_modis = add_diff(data_ts_modis)\n",
    "# data_ts_modis_test = add_diff(data_ts_modis_test)"
   ]
  },
  {
   "cell_type": "code",
   "execution_count": 11,
   "id": "85adb038-104a-4838-b98d-fbc8dc2ac18c",
   "metadata": {},
   "outputs": [],
   "source": [
    "data_ts_landsat = pd.read_csv('data/train_dataset_landsat.csv').fillna(0)\n",
    "data_ts_landsat_test = pd.read_csv('data/test_dataset_landsat.csv').fillna(0)"
   ]
  },
  {
   "cell_type": "code",
   "execution_count": 12,
   "id": "0988671d-063a-40b8-bdb4-fc1c3dcd7da5",
   "metadata": {},
   "outputs": [],
   "source": [
    "# data_ts_landsat = add_diff(data_ts_landsat)\n",
    "# data_ts_landsat_test = add_diff(data_ts_landsat_test)"
   ]
  },
  {
   "cell_type": "code",
   "execution_count": 13,
   "id": "7d0372ad-7a3a-48b1-9f3d-b01c0fc32bc1",
   "metadata": {},
   "outputs": [],
   "source": [
    "from sklearn.model_selection import train_test_split\n",
    "from sklearn.metrics import recall_score, precision_score, accuracy_score"
   ]
  },
  {
   "cell_type": "code",
   "execution_count": 44,
   "id": "92e8275c-531f-4fbb-9849-d0d0c58854a6",
   "metadata": {},
   "outputs": [],
   "source": [
    "def get_dataset(data_ts, data_id, data_test_ts, data_test_id):\n",
    "    data_ts_train, data_ts_val, data_id_train, data_id_val = train_test_split(data_ts, data_id, test_size=0.1, random_state=1)\n",
    "    # data_train = pd.concat((data_ts_train, data_id_train[['area', 'lat', 'lon']]), axis=1)\n",
    "    # data_val = pd.concat((data_ts_val, data_id_val[['area', 'lat', 'lon']]), axis=1)\n",
    "    # data_test = pd.concat((data_ts_test, data_id_test[['area', 'lat', 'lon']]), axis=1)\n",
    "    data_train = data_ts_train\n",
    "    data_val = data_ts_val\n",
    "    data_test = data_test_ts\n",
    "\n",
    "    dataset = dict()\n",
    "    dataset['full'] = {'X': data_ts, 'y': data_id['crop']}\n",
    "    dataset['train'] = {'X': data_train, 'y': data_id_train['crop']}\n",
    "    dataset['val'] = {'X': data_val, 'y': data_id_val['crop']}\n",
    "    dataset['test'] = {'X': data_test}\n",
    "    return dataset"
   ]
  },
  {
   "cell_type": "code",
   "execution_count": 45,
   "id": "5b399703-54b2-44cd-9881-b8ee8f04962e",
   "metadata": {},
   "outputs": [],
   "source": [
    "dataset_orig = get_dataset(data_ts, data_id, data_ts_test, data_id_test)\n",
    "dataset_modis = get_dataset(data_ts_modis, data_id, data_ts_modis_test, data_id_test)\n",
    "dataset_landsat = get_dataset(data_ts_landsat, data_id, data_ts_landsat_test, data_id_test)\n",
    "dataset_concat = get_dataset(\n",
    "    pd.concat((data_ts, data_ts_modis, data_ts_landsat), axis=1), data_id, \n",
    "    pd.concat((data_ts_test, data_ts_modis_test, data_ts_landsat_test), axis=1), data_id_test)"
   ]
  },
  {
   "cell_type": "markdown",
   "id": "b658483d-3dbd-4b0c-acd4-c955ef0d6ed0",
   "metadata": {
    "tags": []
   },
   "source": [
    "# sklearn"
   ]
  },
  {
   "cell_type": "code",
   "execution_count": 245,
   "id": "f27c3642-a7be-4964-96ce-2bb8807380b4",
   "metadata": {},
   "outputs": [],
   "source": [
    "SEED = 1"
   ]
  },
  {
   "cell_type": "code",
   "execution_count": 246,
   "id": "33807179-ed57-46d1-9a4f-eff8fd4868f0",
   "metadata": {},
   "outputs": [],
   "source": [
    "from sklearn.ensemble import RandomForestClassifier, GradientBoostingClassifier"
   ]
  },
  {
   "cell_type": "code",
   "execution_count": 247,
   "id": "dcef64fb-aa0f-455d-bc41-79e55833a471",
   "metadata": {},
   "outputs": [
    {
     "data": {
      "text/plain": [
       "0.9603060360196845"
      ]
     },
     "execution_count": 247,
     "metadata": {},
     "output_type": "execute_result"
    }
   ],
   "source": [
    "rf = RandomForestClassifier(n_estimators=200, random_state=SEED, verbose=False)\n",
    "rf.fit(**dataset_orig['train'])\n",
    "preds = rf.predict(dataset_orig['val']['X'])\n",
    "recall_score(preds, dataset_orig['val']['y'], average='macro')"
   ]
  },
  {
   "cell_type": "code",
   "execution_count": 248,
   "id": "fffd98aa-7358-42b0-b434-34067a880d44",
   "metadata": {},
   "outputs": [
    {
     "data": {
      "text/plain": [
       "0.5986918472170635"
      ]
     },
     "execution_count": 248,
     "metadata": {},
     "output_type": "execute_result"
    }
   ],
   "source": [
    "rf_ = RandomForestClassifier(\n",
    "    n_estimators=200, random_state=SEED, verbose=False,\n",
    "    min_samples_leaf=1)\n",
    "rf_.fit(**dataset_modis['train'])\n",
    "preds = rf_.predict(dataset_modis['val']['X'])\n",
    "recall_score(preds, dataset_modis['val']['y'], average='macro')"
   ]
  },
  {
   "cell_type": "code",
   "execution_count": 249,
   "id": "8eb5fcc3-339c-48b7-a91c-3de4edb85a16",
   "metadata": {},
   "outputs": [
    {
     "data": {
      "text/plain": [
       "0.6953205149240029"
      ]
     },
     "execution_count": 249,
     "metadata": {},
     "output_type": "execute_result"
    }
   ],
   "source": [
    "rf_ls = RandomForestClassifier(\n",
    "    n_estimators=200, random_state=SEED, verbose=False,\n",
    "    min_samples_leaf=1)\n",
    "rf_ls.fit(**dataset_landsat['train'])\n",
    "preds = rf_ls.predict(dataset_landsat['val']['X'])\n",
    "recall_score(preds, dataset_landsat['val']['y'], average='macro')"
   ]
  },
  {
   "cell_type": "code",
   "execution_count": 250,
   "id": "cafe71f6-ebd1-44aa-8c70-038eaa2101eb",
   "metadata": {},
   "outputs": [],
   "source": [
    "preds = (\n",
    "    0.8*rf.predict_proba(dataset_orig['val']['X']) + \n",
    "    0.1*rf_.predict_proba(dataset_modis['val']['X']) +\n",
    "    0.1*rf_ls.predict_proba(dataset_landsat['val']['X'])\n",
    ").argmax(axis=1)"
   ]
  },
  {
   "cell_type": "code",
   "execution_count": 251,
   "id": "7b5dada8-a5f5-40e3-8763-20f19d8560f2",
   "metadata": {},
   "outputs": [
    {
     "data": {
      "text/plain": [
       "0.9645251067787923"
      ]
     },
     "execution_count": 251,
     "metadata": {},
     "output_type": "execute_result"
    }
   ],
   "source": [
    "recall_score(preds, dataset_modis['val']['y'], average='macro')"
   ]
  },
  {
   "cell_type": "code",
   "execution_count": 255,
   "id": "08c1fd1a-29ee-404a-a489-e6568656c32c",
   "metadata": {},
   "outputs": [
    {
     "data": {
      "text/plain": [
       "0.9638116184726355"
      ]
     },
     "execution_count": 255,
     "metadata": {},
     "output_type": "execute_result"
    }
   ],
   "source": [
    "rf = RandomForestClassifier(\n",
    "    n_estimators=200, random_state=SEED, verbose=False,\n",
    "    min_samples_leaf=1)\n",
    "rf.fit(**dataset_concat['train'])\n",
    "preds = rf.predict(dataset_concat['val']['X'])\n",
    "recall_score(preds, dataset_concat['val']['y'], average='macro')"
   ]
  },
  {
   "cell_type": "code",
   "execution_count": 256,
   "id": "018f8a3b-50b9-442d-9794-b939769a1f2a",
   "metadata": {},
   "outputs": [
    {
     "data": {
      "text/plain": [
       "0.9633086367457507"
      ]
     },
     "execution_count": 256,
     "metadata": {},
     "output_type": "execute_result"
    }
   ],
   "source": [
    "gb = GradientBoostingClassifier(n_estimators=100)\n",
    "gb.fit(**dataset_concat['train'])\n",
    "preds = gb.predict(dataset_concat['val']['X'])\n",
    "recall_score(preds, dataset_concat['val']['y'], average='macro')"
   ]
  },
  {
   "cell_type": "code",
   "execution_count": null,
   "id": "90139bb8-f413-4379-b91c-35dc9342211d",
   "metadata": {
    "tags": []
   },
   "outputs": [],
   "source": [
    "from catboost import CatBoostClassifier\n",
    "model = CatBoostClassifier(\n",
    "    iterations=500,\n",
    "    learning_rate=1,\n",
    "    # depth=10,\n",
    "    random_seed=1,\n",
    "    verbose=False\n",
    ")\n",
    "model.fit(**dataset_concat['train'])\n",
    "preds = model.predict(dataset_concat['val']['X'])\n",
    "recall_score(preds, dataset_concat['val']['y'], average='macro')"
   ]
  },
  {
   "cell_type": "code",
   "execution_count": 186,
   "id": "5e2a551f-4503-4131-93a5-ae120465a3c2",
   "metadata": {},
   "outputs": [
    {
     "data": {
      "text/plain": [
       "0.6443026399804246"
      ]
     },
     "execution_count": 186,
     "metadata": {},
     "output_type": "execute_result"
    }
   ],
   "source": [
    "recall_score(preds, dataset_orig['val']['y'], average='macro')"
   ]
  },
  {
   "cell_type": "code",
   "execution_count": 15,
   "id": "b712468a-34d1-4681-a047-ca29bc527eef",
   "metadata": {},
   "outputs": [],
   "source": [
    "from sktime.classification.distance_based import KNeighborsTimeSeriesClassifier"
   ]
  },
  {
   "cell_type": "code",
   "execution_count": 16,
   "id": "bc75ac28-b564-4b87-a446-12cdd4fb37dc",
   "metadata": {},
   "outputs": [
    {
     "data": {
      "text/plain": [
       "0.771540088080925"
      ]
     },
     "execution_count": 16,
     "metadata": {},
     "output_type": "execute_result"
    }
   ],
   "source": [
    "model = KNeighborsTimeSeriesClassifier(n_neighbors=10)\n",
    "model.fit(dataset_orig['train']['X'].values, dataset_orig['train']['y'])\n",
    "preds = model.predict(dataset_orig['val']['X'].values)\n",
    "recall_score(preds, dataset_orig['val']['y'], average='macro')"
   ]
  },
  {
   "cell_type": "code",
   "execution_count": 17,
   "id": "a10c05e3-1226-4e68-95b0-af6c01e0c404",
   "metadata": {},
   "outputs": [
    {
     "data": {
      "text/plain": [
       "0.792783539714341"
      ]
     },
     "execution_count": 17,
     "metadata": {},
     "output_type": "execute_result"
    }
   ],
   "source": [
    "model = KNeighborsTimeSeriesClassifier(n_neighbors=20)\n",
    "model.fit(dataset_orig['train']['X'].values, dataset_orig['train']['y'])\n",
    "preds = model.predict(dataset_orig['val']['X'].values)\n",
    "recall_score(preds, dataset_orig['val']['y'], average='macro')"
   ]
  },
  {
   "cell_type": "code",
   "execution_count": 23,
   "id": "724711d0-8be7-41cb-8370-8ed6dac4683c",
   "metadata": {},
   "outputs": [
    {
     "data": {
      "text/plain": [
       "0.7834449463857383"
      ]
     },
     "execution_count": 23,
     "metadata": {},
     "output_type": "execute_result"
    }
   ],
   "source": [
    "model = KNeighborsTimeSeriesClassifier(n_neighbors=100)\n",
    "model.fit(dataset_orig['train']['X'].values, dataset_orig['train']['y'])\n",
    "preds = model.predict(dataset_orig['val']['X'].values)\n",
    "recall_score(preds, dataset_orig['val']['y'], average='macro')"
   ]
  },
  {
   "cell_type": "markdown",
   "id": "7d8ed949-3881-4af3-84f6-24a4082f88b7",
   "metadata": {
    "tags": []
   },
   "source": [
    "# neural"
   ]
  },
  {
   "cell_type": "code",
   "execution_count": 16,
   "id": "fc8ed51f-c40e-4a21-bed4-45f7ac03fbe2",
   "metadata": {},
   "outputs": [],
   "source": [
    "import torch\n",
    "import torch.nn as nn\n",
    "from torch.utils.data import Dataset, TensorDataset, DataLoader, random_split\n",
    "import pytorch_lightning as pl\n",
    "from pytorch_lightning.callbacks import LearningRateMonitor, ModelCheckpoint\n",
    "from pytorch_lightning.loggers import NeptuneLogger"
   ]
  },
  {
   "cell_type": "code",
   "execution_count": 46,
   "id": "803a48d6-2656-4893-a907-cbe7c5817af1",
   "metadata": {},
   "outputs": [],
   "source": [
    "with open('.api_key') as f:\n",
    "    API_KEY = f.read()"
   ]
  },
  {
   "cell_type": "code",
   "execution_count": 47,
   "id": "8882d040-9d36-48d1-8f69-106275a51bf4",
   "metadata": {},
   "outputs": [],
   "source": [
    "from src import StackRNN, StackTransformer, StackDataset, StackDataModule"
   ]
  },
  {
   "cell_type": "code",
   "execution_count": 48,
   "id": "e5f3ca9f-7e11-4acc-8f02-d8cc701ee309",
   "metadata": {},
   "outputs": [],
   "source": [
    "g = torch.Generator()\n",
    "g.manual_seed(1)\n",
    "        \n",
    "dataset = StackDataset(\n",
    "    dataset_orig['full']['X'], dataset_modis['full']['X'], dataset_landsat['full']['X'], \n",
    "    y=dataset_orig['full']['y'])\n",
    "train_dataset, val_dataset = random_split(dataset, lengths=[int(len(dataset)*0.8), int(len(dataset)*0.2)], generator=g)\n",
    "test_dataset = StackDataset(dataset_orig['test']['X'], dataset_modis['test']['X'], dataset_landsat['test']['X'], y=None)"
   ]
  },
  {
   "cell_type": "markdown",
   "id": "00b49fc7-7bea-46c5-ae63-2ddd22958831",
   "metadata": {
    "jp-MarkdownHeadingCollapsed": true,
    "tags": []
   },
   "source": [
    "### RNN"
   ]
  },
  {
   "cell_type": "code",
   "execution_count": 105,
   "id": "59119c40-ad26-4174-9e4f-9472a733af81",
   "metadata": {},
   "outputs": [],
   "source": [
    "best_checkpointer = ModelCheckpoint(save_top_k=1, save_last=True, monitor='valid_loss', filename='best')\n",
    "neptune_logger = NeptuneLogger(\n",
    "    api_key=API_KEY,\n",
    "    project='fant0md/aihacks-2022-fields')\n",
    "lr_monitor = LearningRateMonitor(logging_interval ='epoch')"
   ]
  },
  {
   "cell_type": "code",
   "execution_count": 113,
   "id": "a47bf216-508b-419c-acae-e4143da2f926",
   "metadata": {},
   "outputs": [
    {
     "name": "stderr",
     "output_type": "stream",
     "text": [
      "GPU available: False, used: False\n",
      "TPU available: False, using: 0 TPU cores\n",
      "IPU available: False, using: 0 IPUs\n",
      "HPU available: False, using: 0 HPUs\n"
     ]
    }
   ],
   "source": [
    "trainer = pl.Trainer(\n",
    "    log_every_n_steps=1, \n",
    "    logger=neptune_logger, \n",
    "    callbacks=[best_checkpointer, lr_monitor], \n",
    "    max_epochs=50, \n",
    "    accelerator='auto',\n",
    "    devices=1)"
   ]
  },
  {
   "cell_type": "code",
   "execution_count": 107,
   "id": "a70dd4e3-3bf4-4eac-947b-0afd4e93560a",
   "metadata": {},
   "outputs": [],
   "source": [
    "pl_model = StackRNN(hidden_size=64, layers=2, dropout=0.5, lr=0.01, wd=0, gamma=0.9)\n",
    "pl_data = StackDataModule(train_dataset, val_dataset, test_dataset, batch_size=64)"
   ]
  },
  {
   "cell_type": "code",
   "execution_count": 108,
   "id": "6822c7ec-ddaf-4e50-a65d-ebec5f7465e5",
   "metadata": {
    "collapsed": true,
    "jupyter": {
     "outputs_hidden": true
    },
    "tags": []
   },
   "outputs": [
    {
     "name": "stderr",
     "output_type": "stream",
     "text": [
      "\n",
      "  | Name         | Type             | Params\n",
      "--------------------------------------------------\n",
      "0 | rnn1         | GRU              | 100 K \n",
      "1 | rnn2         | GRU              | 100 K \n",
      "2 | rnn3         | GRU              | 100 K \n",
      "3 | fc           | Sequential       | 67.6 K\n",
      "4 | act          | ReLU             | 0     \n",
      "5 | criterion    | CrossEntropyLoss | 0     \n",
      "6 | train_recall | Recall           | 0     \n",
      "7 | valid_recall | Recall           | 0     \n",
      "--------------------------------------------------\n",
      "368 K     Trainable params\n",
      "0         Non-trainable params\n",
      "368 K     Total params\n",
      "1.473     Total estimated model params size (MB)\n"
     ]
    },
    {
     "name": "stdout",
     "output_type": "stream",
     "text": [
      "https://app.neptune.ai/fant0md/aihacks-2022-fields/e/AIH-50\n",
      "Remember to stop your run once you’ve finished logging your metadata (https://docs.neptune.ai/api-reference/run#.stop). It will be stopped automatically only when the notebook kernel/interactive console is terminated.\n"
     ]
    },
    {
     "data": {
      "application/vnd.jupyter.widget-view+json": {
       "model_id": "",
       "version_major": 2,
       "version_minor": 0
      },
      "text/plain": [
       "Sanity Checking: 0it [00:00, ?it/s]"
      ]
     },
     "metadata": {},
     "output_type": "display_data"
    },
    {
     "data": {
      "application/vnd.jupyter.widget-view+json": {
       "model_id": "2b8c236bda264f28a2cad2586d523129",
       "version_major": 2,
       "version_minor": 0
      },
      "text/plain": [
       "Training: 0it [00:00, ?it/s]"
      ]
     },
     "metadata": {},
     "output_type": "display_data"
    },
    {
     "data": {
      "application/vnd.jupyter.widget-view+json": {
       "model_id": "",
       "version_major": 2,
       "version_minor": 0
      },
      "text/plain": [
       "Validation: 0it [00:00, ?it/s]"
      ]
     },
     "metadata": {},
     "output_type": "display_data"
    },
    {
     "data": {
      "application/vnd.jupyter.widget-view+json": {
       "model_id": "",
       "version_major": 2,
       "version_minor": 0
      },
      "text/plain": [
       "Validation: 0it [00:00, ?it/s]"
      ]
     },
     "metadata": {},
     "output_type": "display_data"
    },
    {
     "data": {
      "application/vnd.jupyter.widget-view+json": {
       "model_id": "",
       "version_major": 2,
       "version_minor": 0
      },
      "text/plain": [
       "Validation: 0it [00:00, ?it/s]"
      ]
     },
     "metadata": {},
     "output_type": "display_data"
    },
    {
     "data": {
      "application/vnd.jupyter.widget-view+json": {
       "model_id": "",
       "version_major": 2,
       "version_minor": 0
      },
      "text/plain": [
       "Validation: 0it [00:00, ?it/s]"
      ]
     },
     "metadata": {},
     "output_type": "display_data"
    },
    {
     "data": {
      "application/vnd.jupyter.widget-view+json": {
       "model_id": "",
       "version_major": 2,
       "version_minor": 0
      },
      "text/plain": [
       "Validation: 0it [00:00, ?it/s]"
      ]
     },
     "metadata": {},
     "output_type": "display_data"
    },
    {
     "data": {
      "application/vnd.jupyter.widget-view+json": {
       "model_id": "",
       "version_major": 2,
       "version_minor": 0
      },
      "text/plain": [
       "Validation: 0it [00:00, ?it/s]"
      ]
     },
     "metadata": {},
     "output_type": "display_data"
    },
    {
     "data": {
      "application/vnd.jupyter.widget-view+json": {
       "model_id": "",
       "version_major": 2,
       "version_minor": 0
      },
      "text/plain": [
       "Validation: 0it [00:00, ?it/s]"
      ]
     },
     "metadata": {},
     "output_type": "display_data"
    },
    {
     "data": {
      "application/vnd.jupyter.widget-view+json": {
       "model_id": "",
       "version_major": 2,
       "version_minor": 0
      },
      "text/plain": [
       "Validation: 0it [00:00, ?it/s]"
      ]
     },
     "metadata": {},
     "output_type": "display_data"
    },
    {
     "data": {
      "application/vnd.jupyter.widget-view+json": {
       "model_id": "",
       "version_major": 2,
       "version_minor": 0
      },
      "text/plain": [
       "Validation: 0it [00:00, ?it/s]"
      ]
     },
     "metadata": {},
     "output_type": "display_data"
    },
    {
     "data": {
      "application/vnd.jupyter.widget-view+json": {
       "model_id": "",
       "version_major": 2,
       "version_minor": 0
      },
      "text/plain": [
       "Validation: 0it [00:00, ?it/s]"
      ]
     },
     "metadata": {},
     "output_type": "display_data"
    },
    {
     "data": {
      "application/vnd.jupyter.widget-view+json": {
       "model_id": "",
       "version_major": 2,
       "version_minor": 0
      },
      "text/plain": [
       "Validation: 0it [00:00, ?it/s]"
      ]
     },
     "metadata": {},
     "output_type": "display_data"
    },
    {
     "data": {
      "application/vnd.jupyter.widget-view+json": {
       "model_id": "",
       "version_major": 2,
       "version_minor": 0
      },
      "text/plain": [
       "Validation: 0it [00:00, ?it/s]"
      ]
     },
     "metadata": {},
     "output_type": "display_data"
    },
    {
     "data": {
      "application/vnd.jupyter.widget-view+json": {
       "model_id": "",
       "version_major": 2,
       "version_minor": 0
      },
      "text/plain": [
       "Validation: 0it [00:00, ?it/s]"
      ]
     },
     "metadata": {},
     "output_type": "display_data"
    },
    {
     "data": {
      "application/vnd.jupyter.widget-view+json": {
       "model_id": "",
       "version_major": 2,
       "version_minor": 0
      },
      "text/plain": [
       "Validation: 0it [00:00, ?it/s]"
      ]
     },
     "metadata": {},
     "output_type": "display_data"
    },
    {
     "data": {
      "application/vnd.jupyter.widget-view+json": {
       "model_id": "",
       "version_major": 2,
       "version_minor": 0
      },
      "text/plain": [
       "Validation: 0it [00:00, ?it/s]"
      ]
     },
     "metadata": {},
     "output_type": "display_data"
    },
    {
     "data": {
      "application/vnd.jupyter.widget-view+json": {
       "model_id": "",
       "version_major": 2,
       "version_minor": 0
      },
      "text/plain": [
       "Validation: 0it [00:00, ?it/s]"
      ]
     },
     "metadata": {},
     "output_type": "display_data"
    },
    {
     "data": {
      "application/vnd.jupyter.widget-view+json": {
       "model_id": "",
       "version_major": 2,
       "version_minor": 0
      },
      "text/plain": [
       "Validation: 0it [00:00, ?it/s]"
      ]
     },
     "metadata": {},
     "output_type": "display_data"
    },
    {
     "data": {
      "application/vnd.jupyter.widget-view+json": {
       "model_id": "",
       "version_major": 2,
       "version_minor": 0
      },
      "text/plain": [
       "Validation: 0it [00:00, ?it/s]"
      ]
     },
     "metadata": {},
     "output_type": "display_data"
    },
    {
     "data": {
      "application/vnd.jupyter.widget-view+json": {
       "model_id": "",
       "version_major": 2,
       "version_minor": 0
      },
      "text/plain": [
       "Validation: 0it [00:00, ?it/s]"
      ]
     },
     "metadata": {},
     "output_type": "display_data"
    },
    {
     "data": {
      "application/vnd.jupyter.widget-view+json": {
       "model_id": "",
       "version_major": 2,
       "version_minor": 0
      },
      "text/plain": [
       "Validation: 0it [00:00, ?it/s]"
      ]
     },
     "metadata": {},
     "output_type": "display_data"
    },
    {
     "data": {
      "application/vnd.jupyter.widget-view+json": {
       "model_id": "",
       "version_major": 2,
       "version_minor": 0
      },
      "text/plain": [
       "Validation: 0it [00:00, ?it/s]"
      ]
     },
     "metadata": {},
     "output_type": "display_data"
    },
    {
     "data": {
      "application/vnd.jupyter.widget-view+json": {
       "model_id": "",
       "version_major": 2,
       "version_minor": 0
      },
      "text/plain": [
       "Validation: 0it [00:00, ?it/s]"
      ]
     },
     "metadata": {},
     "output_type": "display_data"
    },
    {
     "data": {
      "application/vnd.jupyter.widget-view+json": {
       "model_id": "",
       "version_major": 2,
       "version_minor": 0
      },
      "text/plain": [
       "Validation: 0it [00:00, ?it/s]"
      ]
     },
     "metadata": {},
     "output_type": "display_data"
    },
    {
     "data": {
      "application/vnd.jupyter.widget-view+json": {
       "model_id": "",
       "version_major": 2,
       "version_minor": 0
      },
      "text/plain": [
       "Validation: 0it [00:00, ?it/s]"
      ]
     },
     "metadata": {},
     "output_type": "display_data"
    },
    {
     "data": {
      "application/vnd.jupyter.widget-view+json": {
       "model_id": "",
       "version_major": 2,
       "version_minor": 0
      },
      "text/plain": [
       "Validation: 0it [00:00, ?it/s]"
      ]
     },
     "metadata": {},
     "output_type": "display_data"
    },
    {
     "data": {
      "application/vnd.jupyter.widget-view+json": {
       "model_id": "",
       "version_major": 2,
       "version_minor": 0
      },
      "text/plain": [
       "Validation: 0it [00:00, ?it/s]"
      ]
     },
     "metadata": {},
     "output_type": "display_data"
    },
    {
     "data": {
      "application/vnd.jupyter.widget-view+json": {
       "model_id": "",
       "version_major": 2,
       "version_minor": 0
      },
      "text/plain": [
       "Validation: 0it [00:00, ?it/s]"
      ]
     },
     "metadata": {},
     "output_type": "display_data"
    },
    {
     "data": {
      "application/vnd.jupyter.widget-view+json": {
       "model_id": "",
       "version_major": 2,
       "version_minor": 0
      },
      "text/plain": [
       "Validation: 0it [00:00, ?it/s]"
      ]
     },
     "metadata": {},
     "output_type": "display_data"
    }
   ],
   "source": [
    "trainer.fit(pl_model, pl_data)"
   ]
  },
  {
   "cell_type": "markdown",
   "id": "620d4e0c-af0b-4048-81a2-2de6df255e66",
   "metadata": {
    "tags": []
   },
   "source": [
    "### Transformer"
   ]
  },
  {
   "cell_type": "code",
   "execution_count": 21,
   "id": "0ddf08e7-031f-4e52-8357-5f81c2a155c6",
   "metadata": {},
   "outputs": [
    {
     "name": "stderr",
     "output_type": "stream",
     "text": [
      "GPU available: False, used: False\n",
      "TPU available: False, using: 0 TPU cores\n",
      "IPU available: False, using: 0 IPUs\n",
      "HPU available: False, using: 0 HPUs\n"
     ]
    }
   ],
   "source": [
    "best_checkpointer = ModelCheckpoint(save_top_k=1, save_last=True, monitor='valid_loss', filename='best')\n",
    "neptune_logger = NeptuneLogger(\n",
    "    api_key=API_KEY,\n",
    "    project='fant0md/aihacks-2022-fields')\n",
    "lr_monitor = LearningRateMonitor(logging_interval ='epoch')\n",
    "\n",
    "trainer = pl.Trainer(\n",
    "    log_every_n_steps=1, \n",
    "    logger=neptune_logger, \n",
    "    callbacks=[best_checkpointer, lr_monitor], \n",
    "    max_epochs=50, \n",
    "    accelerator='auto',\n",
    "    devices=1)"
   ]
  },
  {
   "cell_type": "code",
   "execution_count": 22,
   "id": "3ed5e414-f671-4b18-bd9b-368fac3013d0",
   "metadata": {},
   "outputs": [],
   "source": [
    "pl_model = StackTransformer(\n",
    "    d_model=64, \n",
    "    nhead=1, \n",
    "    dim_feedforward=64, \n",
    "    d_head=128, \n",
    "    num_layers=2, \n",
    "    num_head_layers=1, \n",
    "    dropout=0, \n",
    "    activation=\"relu\",\n",
    "    lr=0.0001, wd=0, gamma=0.99)\n",
    "pl_data = StackDataModule(train_dataset, val_dataset, test_dataset, batch_size=64)"
   ]
  },
  {
   "cell_type": "code",
   "execution_count": 23,
   "id": "bfacbb49-588d-434e-910b-7759d6c48e44",
   "metadata": {},
   "outputs": [
    {
     "name": "stderr",
     "output_type": "stream",
     "text": [
      "\n",
      "  | Name         | Type             | Params\n",
      "--------------------------------------------------\n",
      "0 | model1       | TST              | 628 K \n",
      "1 | model2       | TST              | 1.2 M \n",
      "2 | model3       | TST              | 198 K \n",
      "3 | act          | ReLU             | 0     \n",
      "4 | head         | MLP              | 17.4 K\n",
      "5 | criterion    | CrossEntropyLoss | 0     \n",
      "6 | train_recall | Recall           | 0     \n",
      "7 | valid_recall | Recall           | 0     \n",
      "--------------------------------------------------\n",
      "2.0 M     Trainable params\n",
      "0         Non-trainable params\n",
      "2.0 M     Total params\n",
      "8.168     Total estimated model params size (MB)\n"
     ]
    },
    {
     "name": "stdout",
     "output_type": "stream",
     "text": [
      "https://app.neptune.ai/fant0md/aihacks-2022-fields/e/AIH-67\n"
     ]
    },
    {
     "name": "stderr",
     "output_type": "stream",
     "text": [
      "Info (NVML): NVML Shared Library Not Found. GPU usage metrics may not be reported. For more information, see https://docs.neptune.ai/you-should-know/what-can-you-log-and-display#hardware-consumption\n"
     ]
    },
    {
     "name": "stdout",
     "output_type": "stream",
     "text": [
      "Remember to stop your run once you’ve finished logging your metadata (https://docs.neptune.ai/api-reference/run#.stop). It will be stopped automatically only when the notebook kernel/interactive console is terminated.\n"
     ]
    },
    {
     "data": {
      "application/vnd.jupyter.widget-view+json": {
       "model_id": "",
       "version_major": 2,
       "version_minor": 0
      },
      "text/plain": [
       "Sanity Checking: 0it [00:00, ?it/s]"
      ]
     },
     "metadata": {},
     "output_type": "display_data"
    },
    {
     "data": {
      "application/vnd.jupyter.widget-view+json": {
       "model_id": "cc2853f318124c6ea134672586618388",
       "version_major": 2,
       "version_minor": 0
      },
      "text/plain": [
       "Training: 0it [00:00, ?it/s]"
      ]
     },
     "metadata": {},
     "output_type": "display_data"
    },
    {
     "data": {
      "application/vnd.jupyter.widget-view+json": {
       "model_id": "",
       "version_major": 2,
       "version_minor": 0
      },
      "text/plain": [
       "Validation: 0it [00:00, ?it/s]"
      ]
     },
     "metadata": {},
     "output_type": "display_data"
    },
    {
     "data": {
      "application/vnd.jupyter.widget-view+json": {
       "model_id": "",
       "version_major": 2,
       "version_minor": 0
      },
      "text/plain": [
       "Validation: 0it [00:00, ?it/s]"
      ]
     },
     "metadata": {},
     "output_type": "display_data"
    },
    {
     "data": {
      "application/vnd.jupyter.widget-view+json": {
       "model_id": "",
       "version_major": 2,
       "version_minor": 0
      },
      "text/plain": [
       "Validation: 0it [00:00, ?it/s]"
      ]
     },
     "metadata": {},
     "output_type": "display_data"
    },
    {
     "data": {
      "application/vnd.jupyter.widget-view+json": {
       "model_id": "",
       "version_major": 2,
       "version_minor": 0
      },
      "text/plain": [
       "Validation: 0it [00:00, ?it/s]"
      ]
     },
     "metadata": {},
     "output_type": "display_data"
    },
    {
     "data": {
      "application/vnd.jupyter.widget-view+json": {
       "model_id": "",
       "version_major": 2,
       "version_minor": 0
      },
      "text/plain": [
       "Validation: 0it [00:00, ?it/s]"
      ]
     },
     "metadata": {},
     "output_type": "display_data"
    },
    {
     "data": {
      "application/vnd.jupyter.widget-view+json": {
       "model_id": "",
       "version_major": 2,
       "version_minor": 0
      },
      "text/plain": [
       "Validation: 0it [00:00, ?it/s]"
      ]
     },
     "metadata": {},
     "output_type": "display_data"
    },
    {
     "data": {
      "application/vnd.jupyter.widget-view+json": {
       "model_id": "",
       "version_major": 2,
       "version_minor": 0
      },
      "text/plain": [
       "Validation: 0it [00:00, ?it/s]"
      ]
     },
     "metadata": {},
     "output_type": "display_data"
    },
    {
     "data": {
      "application/vnd.jupyter.widget-view+json": {
       "model_id": "",
       "version_major": 2,
       "version_minor": 0
      },
      "text/plain": [
       "Validation: 0it [00:00, ?it/s]"
      ]
     },
     "metadata": {},
     "output_type": "display_data"
    },
    {
     "data": {
      "application/vnd.jupyter.widget-view+json": {
       "model_id": "",
       "version_major": 2,
       "version_minor": 0
      },
      "text/plain": [
       "Validation: 0it [00:00, ?it/s]"
      ]
     },
     "metadata": {},
     "output_type": "display_data"
    },
    {
     "data": {
      "application/vnd.jupyter.widget-view+json": {
       "model_id": "",
       "version_major": 2,
       "version_minor": 0
      },
      "text/plain": [
       "Validation: 0it [00:00, ?it/s]"
      ]
     },
     "metadata": {},
     "output_type": "display_data"
    },
    {
     "data": {
      "application/vnd.jupyter.widget-view+json": {
       "model_id": "",
       "version_major": 2,
       "version_minor": 0
      },
      "text/plain": [
       "Validation: 0it [00:00, ?it/s]"
      ]
     },
     "metadata": {},
     "output_type": "display_data"
    },
    {
     "data": {
      "application/vnd.jupyter.widget-view+json": {
       "model_id": "",
       "version_major": 2,
       "version_minor": 0
      },
      "text/plain": [
       "Validation: 0it [00:00, ?it/s]"
      ]
     },
     "metadata": {},
     "output_type": "display_data"
    },
    {
     "data": {
      "application/vnd.jupyter.widget-view+json": {
       "model_id": "",
       "version_major": 2,
       "version_minor": 0
      },
      "text/plain": [
       "Validation: 0it [00:00, ?it/s]"
      ]
     },
     "metadata": {},
     "output_type": "display_data"
    },
    {
     "data": {
      "application/vnd.jupyter.widget-view+json": {
       "model_id": "",
       "version_major": 2,
       "version_minor": 0
      },
      "text/plain": [
       "Validation: 0it [00:00, ?it/s]"
      ]
     },
     "metadata": {},
     "output_type": "display_data"
    },
    {
     "data": {
      "application/vnd.jupyter.widget-view+json": {
       "model_id": "",
       "version_major": 2,
       "version_minor": 0
      },
      "text/plain": [
       "Validation: 0it [00:00, ?it/s]"
      ]
     },
     "metadata": {},
     "output_type": "display_data"
    },
    {
     "data": {
      "application/vnd.jupyter.widget-view+json": {
       "model_id": "",
       "version_major": 2,
       "version_minor": 0
      },
      "text/plain": [
       "Validation: 0it [00:00, ?it/s]"
      ]
     },
     "metadata": {},
     "output_type": "display_data"
    },
    {
     "data": {
      "application/vnd.jupyter.widget-view+json": {
       "model_id": "",
       "version_major": 2,
       "version_minor": 0
      },
      "text/plain": [
       "Validation: 0it [00:00, ?it/s]"
      ]
     },
     "metadata": {},
     "output_type": "display_data"
    },
    {
     "data": {
      "application/vnd.jupyter.widget-view+json": {
       "model_id": "",
       "version_major": 2,
       "version_minor": 0
      },
      "text/plain": [
       "Validation: 0it [00:00, ?it/s]"
      ]
     },
     "metadata": {},
     "output_type": "display_data"
    },
    {
     "data": {
      "application/vnd.jupyter.widget-view+json": {
       "model_id": "",
       "version_major": 2,
       "version_minor": 0
      },
      "text/plain": [
       "Validation: 0it [00:00, ?it/s]"
      ]
     },
     "metadata": {},
     "output_type": "display_data"
    },
    {
     "data": {
      "application/vnd.jupyter.widget-view+json": {
       "model_id": "",
       "version_major": 2,
       "version_minor": 0
      },
      "text/plain": [
       "Validation: 0it [00:00, ?it/s]"
      ]
     },
     "metadata": {},
     "output_type": "display_data"
    },
    {
     "data": {
      "application/vnd.jupyter.widget-view+json": {
       "model_id": "",
       "version_major": 2,
       "version_minor": 0
      },
      "text/plain": [
       "Validation: 0it [00:00, ?it/s]"
      ]
     },
     "metadata": {},
     "output_type": "display_data"
    },
    {
     "data": {
      "application/vnd.jupyter.widget-view+json": {
       "model_id": "",
       "version_major": 2,
       "version_minor": 0
      },
      "text/plain": [
       "Validation: 0it [00:00, ?it/s]"
      ]
     },
     "metadata": {},
     "output_type": "display_data"
    },
    {
     "data": {
      "application/vnd.jupyter.widget-view+json": {
       "model_id": "",
       "version_major": 2,
       "version_minor": 0
      },
      "text/plain": [
       "Validation: 0it [00:00, ?it/s]"
      ]
     },
     "metadata": {},
     "output_type": "display_data"
    },
    {
     "data": {
      "application/vnd.jupyter.widget-view+json": {
       "model_id": "",
       "version_major": 2,
       "version_minor": 0
      },
      "text/plain": [
       "Validation: 0it [00:00, ?it/s]"
      ]
     },
     "metadata": {},
     "output_type": "display_data"
    },
    {
     "data": {
      "application/vnd.jupyter.widget-view+json": {
       "model_id": "90305f884c35414e96e5d8506af921b5",
       "version_major": 2,
       "version_minor": 0
      },
      "text/plain": [
       "Validation: 0it [00:00, ?it/s]"
      ]
     },
     "metadata": {},
     "output_type": "display_data"
    }
   ],
   "source": [
    "trainer.fit(pl_model, pl_data)"
   ]
  },
  {
   "cell_type": "markdown",
   "id": "2e273401-330c-4ddc-9f7c-9f6ad9fa42c3",
   "metadata": {},
   "source": [
    "## submission"
   ]
  },
  {
   "cell_type": "code",
   "execution_count": 64,
   "id": "df827422-ca96-410e-84f1-1166d8e382de",
   "metadata": {},
   "outputs": [
    {
     "data": {
      "application/vnd.jupyter.widget-view+json": {
       "model_id": "96e2155cbad44704aab57d23693a644d",
       "version_major": 2,
       "version_minor": 0
      },
      "text/plain": [
       "Predicting: 61it [00:00, ?it/s]"
      ]
     },
     "metadata": {},
     "output_type": "display_data"
    }
   ],
   "source": [
    "preds = trainer.predict(pl_model, pl_data)"
   ]
  },
  {
   "cell_type": "code",
   "execution_count": 66,
   "id": "18468dd0-4caa-4a45-8321-bd238d2ca6c4",
   "metadata": {},
   "outputs": [],
   "source": [
    "submission = pd.read_csv('sample_solution.csv')\n",
    "submission['crop'] = torch.cat(preds).argmax(1)"
   ]
  },
  {
   "cell_type": "code",
   "execution_count": 68,
   "id": "f5287fee-7c8f-4244-b923-04fb671d9f31",
   "metadata": {},
   "outputs": [],
   "source": [
    "submission.to_csv('submssion.csv', index=False)"
   ]
  },
  {
   "cell_type": "code",
   "execution_count": null,
   "id": "ec80cf3b-20b5-4689-bd04-b25e951c674d",
   "metadata": {},
   "outputs": [],
   "source": []
  }
 ],
 "metadata": {
  "kernelspec": {
   "display_name": "Python 3",
   "language": "python",
   "name": "python3"
  },
  "language_info": {
   "codemirror_mode": {
    "name": "ipython",
    "version": 3
   },
   "file_extension": ".py",
   "mimetype": "text/x-python",
   "name": "python",
   "nbconvert_exporter": "python",
   "pygments_lexer": "ipython3",
   "version": "3.9.4"
  },
  "widgets": {
   "application/vnd.jupyter.widget-state+json": {
    "state": {
     "00201d0572ba4600a19ad250fe7abba2": {
      "model_module": "@jupyter-widgets/controls",
      "model_module_version": "1.5.0",
      "model_name": "HTMLModel",
      "state": {
       "layout": "IPY_MODEL_36a0448e902c45beb639bce7f6651c52",
       "style": "IPY_MODEL_b1d5b80682a643119ed0aea292472512",
       "value": " 16/16 [00:02&lt;00:00,  7.56it/s]"
      }
     },
     "00cd3aaf45a5484dbe7c244493f164e4": {
      "model_module": "@jupyter-widgets/controls",
      "model_module_version": "1.5.0",
      "model_name": "DescriptionStyleModel",
      "state": {
       "description_width": ""
      }
     },
     "00fc032c1c2b4f619d78a0cf2043bd0b": {
      "model_module": "@jupyter-widgets/controls",
      "model_module_version": "1.5.0",
      "model_name": "ProgressStyleModel",
      "state": {
       "description_width": ""
      }
     },
     "02d4f978b02049ddb3c8d992b0eccae2": {
      "model_module": "@jupyter-widgets/base",
      "model_module_version": "1.2.0",
      "model_name": "LayoutModel",
      "state": {}
     },
     "03f740da61764a788fd64a2547472d21": {
      "model_module": "@jupyter-widgets/base",
      "model_module_version": "1.2.0",
      "model_name": "LayoutModel",
      "state": {}
     },
     "0548ecbc36d34afa97afa1924b9ac06d": {
      "model_module": "@jupyter-widgets/controls",
      "model_module_version": "1.5.0",
      "model_name": "DescriptionStyleModel",
      "state": {
       "description_width": ""
      }
     },
     "0553f42dd89b41e5a4a4b1c8d8a69477": {
      "model_module": "@jupyter-widgets/base",
      "model_module_version": "1.2.0",
      "model_name": "LayoutModel",
      "state": {}
     },
     "05d9f73cd3234f46b27d668fd2bd7fb2": {
      "model_module": "@jupyter-widgets/base",
      "model_module_version": "1.2.0",
      "model_name": "LayoutModel",
      "state": {
       "flex": "2"
      }
     },
     "07823c88f089442e9195facaa694261d": {
      "model_module": "@jupyter-widgets/controls",
      "model_module_version": "1.5.0",
      "model_name": "FloatProgressModel",
      "state": {
       "layout": "IPY_MODEL_d14d6b608ab844b09beb6e73a7d78bda",
       "max": 16,
       "style": "IPY_MODEL_5db2ddcd69c24fc7a1372a9d4492b7db",
       "value": 16
      }
     },
     "09ace5f58b5d4ab09942b92fee8232d2": {
      "model_module": "@jupyter-widgets/base",
      "model_module_version": "1.2.0",
      "model_name": "LayoutModel",
      "state": {}
     },
     "0ac445e9a799428c9e8b3863fc217998": {
      "model_module": "@jupyter-widgets/base",
      "model_module_version": "1.2.0",
      "model_name": "LayoutModel",
      "state": {
       "display": "inline-flex",
       "flex_flow": "row wrap",
       "width": "100%"
      }
     },
     "0b4013374ba145fcb5d431dda72d7911": {
      "model_module": "@jupyter-widgets/base",
      "model_module_version": "1.2.0",
      "model_name": "LayoutModel",
      "state": {
       "flex": "2"
      }
     },
     "0bd965ce04764832a794a9fd5eebfffb": {
      "model_module": "@jupyter-widgets/base",
      "model_module_version": "1.2.0",
      "model_name": "LayoutModel",
      "state": {}
     },
     "0ca7f029b2544c4c89edcfe5d7a715cd": {
      "model_module": "@jupyter-widgets/base",
      "model_module_version": "1.2.0",
      "model_name": "LayoutModel",
      "state": {}
     },
     "0cbda5c6b6cb4730b4a97494eaf03b90": {
      "model_module": "@jupyter-widgets/controls",
      "model_module_version": "1.5.0",
      "model_name": "HTMLModel",
      "state": {
       "layout": "IPY_MODEL_a2942d70a918497b8b2fac23dd5848c5",
       "style": "IPY_MODEL_b8c6e1f3f4424adf91c11e623f1578ec",
       "value": " 33/33 [00:03&lt;00:00, -7.33it/s]"
      }
     },
     "0cd1be3bb81044399742722aadb859c1": {
      "model_module": "@jupyter-widgets/controls",
      "model_module_version": "1.5.0",
      "model_name": "HTMLModel",
      "state": {
       "layout": "IPY_MODEL_9e69cf56e69a4706870fd1bbfaa9ef3e",
       "style": "IPY_MODEL_94fc30c94d9543b190674db195bd8c22",
       "value": " 16/16 [00:02&lt;00:00,  5.84it/s]"
      }
     },
     "0d2b148eb1a34099b959f7c3618871f5": {
      "model_module": "@jupyter-widgets/controls",
      "model_module_version": "1.5.0",
      "model_name": "FloatProgressModel",
      "state": {
       "layout": "IPY_MODEL_514a6f29ed0e48a293dd7f265696aa94",
       "max": 16,
       "style": "IPY_MODEL_00fc032c1c2b4f619d78a0cf2043bd0b",
       "value": 16
      }
     },
     "0d48057f10ce4ef09ea2c7f31bf68d3d": {
      "model_module": "@jupyter-widgets/base",
      "model_module_version": "1.2.0",
      "model_name": "LayoutModel",
      "state": {}
     },
     "0d8e56d4a43c4082a3965a1e6db55f8c": {
      "model_module": "@jupyter-widgets/base",
      "model_module_version": "1.2.0",
      "model_name": "LayoutModel",
      "state": {
       "display": "inline-flex",
       "flex_flow": "row wrap",
       "width": "100%"
      }
     },
     "0fab584060ce46a184f262500adf3ca8": {
      "model_module": "@jupyter-widgets/controls",
      "model_module_version": "1.5.0",
      "model_name": "FloatProgressModel",
      "state": {
       "layout": "IPY_MODEL_21d0d6378c6744b4b59d4b660b0b8261",
       "max": 16,
       "style": "IPY_MODEL_4ac4aa69cf5b4cd2ac260fcc8959e4de",
       "value": 16
      }
     },
     "0faea87b38c14853b3984c9ca5b2ba7f": {
      "model_module": "@jupyter-widgets/controls",
      "model_module_version": "1.5.0",
      "model_name": "ProgressStyleModel",
      "state": {
       "description_width": ""
      }
     },
     "103f97670a1546da9b219d3989c0b775": {
      "model_module": "@jupyter-widgets/controls",
      "model_module_version": "1.5.0",
      "model_name": "HBoxModel",
      "state": {
       "children": [
        "IPY_MODEL_8e4e6a3d34e84e68afe6943b4601fc98",
        "IPY_MODEL_e4f8cf150ed14dc8b71ca2d040ca1f7f",
        "IPY_MODEL_a9bc372efcbb44bd8b4da8d691b9ac49"
       ],
       "layout": "IPY_MODEL_f35a3fabe5604fff8bb6845d81f3300e"
      }
     },
     "10d60e2afd9f4258a370763e87c53403": {
      "model_module": "@jupyter-widgets/base",
      "model_module_version": "1.2.0",
      "model_name": "LayoutModel",
      "state": {
       "display": "inline-flex",
       "flex_flow": "row wrap",
       "width": "100%"
      }
     },
     "153075f77f024b9581ee361246465336": {
      "model_module": "@jupyter-widgets/controls",
      "model_module_version": "1.5.0",
      "model_name": "DescriptionStyleModel",
      "state": {
       "description_width": ""
      }
     },
     "15443ebedb2142b2b8715068fb242601": {
      "model_module": "@jupyter-widgets/controls",
      "model_module_version": "1.5.0",
      "model_name": "HTMLModel",
      "state": {
       "layout": "IPY_MODEL_0d48057f10ce4ef09ea2c7f31bf68d3d",
       "style": "IPY_MODEL_24b33ca3a91648a79c300650fec2697e",
       "value": "Validation DataLoader 0:  69%"
      }
     },
     "159f95b70a7e4aeebf3d89fee4856a4e": {
      "model_module": "@jupyter-widgets/base",
      "model_module_version": "1.2.0",
      "model_name": "LayoutModel",
      "state": {}
     },
     "1677a60d11944a63beea20017891a97e": {
      "model_module": "@jupyter-widgets/base",
      "model_module_version": "1.2.0",
      "model_name": "LayoutModel",
      "state": {
       "display": "inline-flex",
       "flex_flow": "row wrap",
       "width": "100%"
      }
     },
     "16ca70352ffa4dbdaa54b0bfe193713a": {
      "model_module": "@jupyter-widgets/controls",
      "model_module_version": "1.5.0",
      "model_name": "HTMLModel",
      "state": {
       "layout": "IPY_MODEL_0bd965ce04764832a794a9fd5eebfffb",
       "style": "IPY_MODEL_6c071e35e59848b1af98b4a017d02697",
       "value": " 94/? [00:03&lt;00:00,  8.86it/s]"
      }
     },
     "16df4f66aa1e4aa69feb1529b88da51e": {
      "model_module": "@jupyter-widgets/controls",
      "model_module_version": "1.5.0",
      "model_name": "FloatProgressModel",
      "state": {
       "layout": "IPY_MODEL_a4fe7bbb1b5c4598bcd5dea59bcf3f83",
       "max": 16,
       "style": "IPY_MODEL_f822303848ee41ebb67205e07d9a8928",
       "value": 16
      }
     },
     "16e62cbffc494fb39234289ce93af64a": {
      "model_module": "@jupyter-widgets/base",
      "model_module_version": "1.2.0",
      "model_name": "LayoutModel",
      "state": {
       "display": "inline-flex",
       "flex_flow": "row wrap",
       "width": "100%"
      }
     },
     "17d57a8afe614efdaccf9cd0552acf9f": {
      "model_module": "@jupyter-widgets/base",
      "model_module_version": "1.2.0",
      "model_name": "LayoutModel",
      "state": {
       "flex": "2"
      }
     },
     "18fbcb0a012e4f1a8daa1a122dcdc428": {
      "model_module": "@jupyter-widgets/controls",
      "model_module_version": "1.5.0",
      "model_name": "ProgressStyleModel",
      "state": {
       "description_width": ""
      }
     },
     "194de4223ed04bbf83a310719324adb0": {
      "model_module": "@jupyter-widgets/controls",
      "model_module_version": "1.5.0",
      "model_name": "DescriptionStyleModel",
      "state": {
       "description_width": ""
      }
     },
     "1ab01e0edc8d4a53872cca318a83dd1e": {
      "model_module": "@jupyter-widgets/base",
      "model_module_version": "1.2.0",
      "model_name": "LayoutModel",
      "state": {}
     },
     "1ab99916974f46b7abe168ca1d68d24c": {
      "model_module": "@jupyter-widgets/base",
      "model_module_version": "1.2.0",
      "model_name": "LayoutModel",
      "state": {}
     },
     "1c2cbd7f55d24d10af99a041a6cf2ac8": {
      "model_module": "@jupyter-widgets/controls",
      "model_module_version": "1.5.0",
      "model_name": "FloatProgressModel",
      "state": {
       "bar_style": "info",
       "layout": "IPY_MODEL_717a704f09bb4640854152a5e41d5dc9",
       "max": 1,
       "style": "IPY_MODEL_acd1fc1be3da412e8b17c2f4264c76c6",
       "value": 1
      }
     },
     "1c68fcdc5c16421c9118aac553fd1549": {
      "model_module": "@jupyter-widgets/controls",
      "model_module_version": "1.5.0",
      "model_name": "FloatProgressModel",
      "state": {
       "layout": "IPY_MODEL_edf10948bc5546f2b6336239b27c91f7",
       "max": 16,
       "style": "IPY_MODEL_8cb0c6f5fa8742d7b5fe79ea5ec0b40e",
       "value": 16
      }
     },
     "1cb569858dde4829be0860fdbf3dc3d2": {
      "model_module": "@jupyter-widgets/controls",
      "model_module_version": "1.5.0",
      "model_name": "HTMLModel",
      "state": {
       "layout": "IPY_MODEL_6f93ca44d83e49c6bba5f85710043d66",
       "style": "IPY_MODEL_153075f77f024b9581ee361246465336",
       "value": " 16/16 [00:02&lt;00:00,  7.30it/s]"
      }
     },
     "1ee77beecd674aafbbb50ec53313ff9d": {
      "model_module": "@jupyter-widgets/base",
      "model_module_version": "1.2.0",
      "model_name": "LayoutModel",
      "state": {
       "flex": "2"
      }
     },
     "1eed1ae1fa6e4b81b376e894adb63972": {
      "model_module": "@jupyter-widgets/controls",
      "model_module_version": "1.5.0",
      "model_name": "FloatProgressModel",
      "state": {
       "layout": "IPY_MODEL_25ca8cbdf9e24857a3ae75cb23a7d05f",
       "max": 16,
       "style": "IPY_MODEL_a98b08ab52054d7facfadfda07e78f20",
       "value": 11
      }
     },
     "1f481b69966848d2ba42e67da22856ea": {
      "model_module": "@jupyter-widgets/base",
      "model_module_version": "1.2.0",
      "model_name": "LayoutModel",
      "state": {
       "display": "inline-flex",
       "flex_flow": "row wrap",
       "width": "100%"
      }
     },
     "1f77b87187cb45abafbcf9a4ea1c0d69": {
      "model_module": "@jupyter-widgets/base",
      "model_module_version": "1.2.0",
      "model_name": "LayoutModel",
      "state": {
       "flex": "2"
      }
     },
     "1fbcbdb53d6f49e9960ba2ad30c6f24f": {
      "model_module": "@jupyter-widgets/controls",
      "model_module_version": "1.5.0",
      "model_name": "HTMLModel",
      "state": {
       "layout": "IPY_MODEL_b7902cbcd31940c88c565ef7b6f125e6",
       "style": "IPY_MODEL_fe8bdb4d124e470ea72e35e950e7f0a5",
       "value": " 16/16 [00:01&lt;00:00,  8.05it/s]"
      }
     },
     "20cf755c6ea8435181a664db06e7fcbb": {
      "model_module": "@jupyter-widgets/base",
      "model_module_version": "1.2.0",
      "model_name": "LayoutModel",
      "state": {
       "display": "inline-flex",
       "flex_flow": "row wrap",
       "width": "100%"
      }
     },
     "210c50540b834e0dac8cba0d24cd17e1": {
      "model_module": "@jupyter-widgets/base",
      "model_module_version": "1.2.0",
      "model_name": "LayoutModel",
      "state": {
       "display": "inline-flex",
       "flex_flow": "row wrap",
       "width": "100%"
      }
     },
     "21d0d6378c6744b4b59d4b660b0b8261": {
      "model_module": "@jupyter-widgets/base",
      "model_module_version": "1.2.0",
      "model_name": "LayoutModel",
      "state": {
       "flex": "2"
      }
     },
     "22ccf9f3c66549f1b689e4305c74ca45": {
      "model_module": "@jupyter-widgets/controls",
      "model_module_version": "1.5.0",
      "model_name": "HTMLModel",
      "state": {
       "layout": "IPY_MODEL_9c7f80990eea42c7bf1b9860e550c3fe",
       "style": "IPY_MODEL_2bae2e30f2424f44925fec0cad6b9929",
       "value": " 61/? [00:00&lt;?, ?it/s]"
      }
     },
     "24b33ca3a91648a79c300650fec2697e": {
      "model_module": "@jupyter-widgets/controls",
      "model_module_version": "1.5.0",
      "model_name": "DescriptionStyleModel",
      "state": {
       "description_width": ""
      }
     },
     "253e5ff0f885478683f601d54b5a223a": {
      "model_module": "@jupyter-widgets/base",
      "model_module_version": "1.2.0",
      "model_name": "LayoutModel",
      "state": {
       "flex": "2"
      }
     },
     "255476543ddb4637b1f9e6f377d3a84e": {
      "model_module": "@jupyter-widgets/controls",
      "model_module_version": "1.5.0",
      "model_name": "DescriptionStyleModel",
      "state": {
       "description_width": ""
      }
     },
     "25ca8cbdf9e24857a3ae75cb23a7d05f": {
      "model_module": "@jupyter-widgets/base",
      "model_module_version": "1.2.0",
      "model_name": "LayoutModel",
      "state": {
       "flex": "2"
      }
     },
     "28e1c056fa3d4f5bb74e411e96fc6b3a": {
      "model_module": "@jupyter-widgets/controls",
      "model_module_version": "1.5.0",
      "model_name": "FloatProgressModel",
      "state": {
       "layout": "IPY_MODEL_1ee77beecd674aafbbb50ec53313ff9d",
       "max": 16,
       "style": "IPY_MODEL_77df7950c7f845cd8620e0d5e9514621",
       "value": 16
      }
     },
     "298d4341da294fd7bf084c8693e0c3ca": {
      "model_module": "@jupyter-widgets/controls",
      "model_module_version": "1.5.0",
      "model_name": "HTMLModel",
      "state": {
       "layout": "IPY_MODEL_88778d14b56140c49ae037941cd0a20f",
       "style": "IPY_MODEL_2e4b9f5d4b29495f9d168c538ebea1b1",
       "value": " 16/16 [00:01&lt;00:00,  8.29it/s]"
      }
     },
     "2b2f89d3773746a3889edaede047a444": {
      "model_module": "@jupyter-widgets/base",
      "model_module_version": "1.2.0",
      "model_name": "LayoutModel",
      "state": {
       "flex": "2"
      }
     },
     "2bae2e30f2424f44925fec0cad6b9929": {
      "model_module": "@jupyter-widgets/controls",
      "model_module_version": "1.5.0",
      "model_name": "DescriptionStyleModel",
      "state": {
       "description_width": ""
      }
     },
     "2be0b9e848e946088c004b862b1b8a0b": {
      "model_module": "@jupyter-widgets/base",
      "model_module_version": "1.2.0",
      "model_name": "LayoutModel",
      "state": {}
     },
     "2d08478ed12e47559b203a2b3ffdc73a": {
      "model_module": "@jupyter-widgets/controls",
      "model_module_version": "1.5.0",
      "model_name": "HTMLModel",
      "state": {
       "layout": "IPY_MODEL_2be0b9e848e946088c004b862b1b8a0b",
       "style": "IPY_MODEL_f860953572e94f2ca95b9b03ef01bc71",
       "value": " 16/16 [00:01&lt;00:00,  7.59it/s]"
      }
     },
     "2d40de10e5d447dbbd76c6ef2d3b3d46": {
      "model_module": "@jupyter-widgets/base",
      "model_module_version": "1.2.0",
      "model_name": "LayoutModel",
      "state": {
       "flex": "2"
      }
     },
     "2d6dc52a05e945d99d50455faf24555c": {
      "model_module": "@jupyter-widgets/controls",
      "model_module_version": "1.5.0",
      "model_name": "FloatProgressModel",
      "state": {
       "layout": "IPY_MODEL_c7bb9058942f4db58b724bf9d1931a70",
       "max": 16,
       "style": "IPY_MODEL_d77060c50e394ab7a8f635d77130ed46",
       "value": 16
      }
     },
     "2dc0ed75ee8746aaae8fc7452b8667c7": {
      "model_module": "@jupyter-widgets/controls",
      "model_module_version": "1.5.0",
      "model_name": "DescriptionStyleModel",
      "state": {
       "description_width": ""
      }
     },
     "2e4b9f5d4b29495f9d168c538ebea1b1": {
      "model_module": "@jupyter-widgets/controls",
      "model_module_version": "1.5.0",
      "model_name": "DescriptionStyleModel",
      "state": {
       "description_width": ""
      }
     },
     "2ee9687a167f4009b7ed370281dc8c02": {
      "model_module": "@jupyter-widgets/controls",
      "model_module_version": "1.5.0",
      "model_name": "FloatProgressModel",
      "state": {
       "layout": "IPY_MODEL_ea47ee782f59484dadab0a0ff79d61f7",
       "max": 16,
       "style": "IPY_MODEL_18fbcb0a012e4f1a8daa1a122dcdc428",
       "value": 16
      }
     },
     "3012217e930346a7a651c134f0de73af": {
      "model_module": "@jupyter-widgets/controls",
      "model_module_version": "1.5.0",
      "model_name": "ProgressStyleModel",
      "state": {
       "description_width": ""
      }
     },
     "309d235ec04b434a8bf973ed6a944e0b": {
      "model_module": "@jupyter-widgets/base",
      "model_module_version": "1.2.0",
      "model_name": "LayoutModel",
      "state": {
       "display": "inline-flex",
       "flex_flow": "row wrap",
       "width": "100%"
      }
     },
     "34481458915c4d7f9c9d94e85a37c96e": {
      "model_module": "@jupyter-widgets/controls",
      "model_module_version": "1.5.0",
      "model_name": "DescriptionStyleModel",
      "state": {
       "description_width": ""
      }
     },
     "365447145d6c4c5bbf65ae08ead374b5": {
      "model_module": "@jupyter-widgets/controls",
      "model_module_version": "1.5.0",
      "model_name": "FloatProgressModel",
      "state": {
       "layout": "IPY_MODEL_1f77b87187cb45abafbcf9a4ea1c0d69",
       "max": 16,
       "style": "IPY_MODEL_63d66cca73184f7588c739ca7660ce38",
       "value": 16
      }
     },
     "36a0448e902c45beb639bce7f6651c52": {
      "model_module": "@jupyter-widgets/base",
      "model_module_version": "1.2.0",
      "model_name": "LayoutModel",
      "state": {}
     },
     "3856e7e8a6974ab1bfdaffc45bbcb08f": {
      "model_module": "@jupyter-widgets/controls",
      "model_module_version": "1.5.0",
      "model_name": "HBoxModel",
      "state": {
       "children": [
        "IPY_MODEL_cad684a339614bec977805f2177f52f6",
        "IPY_MODEL_964ad3608a5e45afadfe2e5d8431fb90",
        "IPY_MODEL_16ca70352ffa4dbdaa54b0bfe193713a"
       ],
       "layout": "IPY_MODEL_d2d2f3d1e1b5435ba46eb57286decde2"
      }
     },
     "38c29454f746441d95e574aa7b658ee4": {
      "model_module": "@jupyter-widgets/controls",
      "model_module_version": "1.5.0",
      "model_name": "DescriptionStyleModel",
      "state": {
       "description_width": ""
      }
     },
     "38eb5de05837467e896fe55aed67da50": {
      "model_module": "@jupyter-widgets/controls",
      "model_module_version": "1.5.0",
      "model_name": "DescriptionStyleModel",
      "state": {
       "description_width": ""
      }
     },
     "3b1b8b7507dc421cb963e0a8181ed889": {
      "model_module": "@jupyter-widgets/base",
      "model_module_version": "1.2.0",
      "model_name": "LayoutModel",
      "state": {}
     },
     "3b93a14c5a4742eea0b36c671c29484f": {
      "model_module": "@jupyter-widgets/controls",
      "model_module_version": "1.5.0",
      "model_name": "DescriptionStyleModel",
      "state": {
       "description_width": ""
      }
     },
     "3b986ffbd6a94504bf38502ddbcc34c4": {
      "model_module": "@jupyter-widgets/controls",
      "model_module_version": "1.5.0",
      "model_name": "HTMLModel",
      "state": {
       "layout": "IPY_MODEL_917d66e33e6c4dd6b8cca405f487b50a",
       "style": "IPY_MODEL_4564490230c34eb884d6dfe99c4abc88",
       "value": " 16/16 [00:01&lt;00:00,  8.70it/s]"
      }
     },
     "3ca1c1a5e3df4a49b6ab083182a1db79": {
      "model_module": "@jupyter-widgets/controls",
      "model_module_version": "1.5.0",
      "model_name": "HTMLModel",
      "state": {
       "layout": "IPY_MODEL_f63b36052b5d4492ac6942aa6c1115ae",
       "style": "IPY_MODEL_6cd27fc1eebb4598b3a7453ba7299078",
       "value": "Validation DataLoader 0: 100%"
      }
     },
     "3fa238cbdc374bf0811615ccf0719088": {
      "model_module": "@jupyter-widgets/base",
      "model_module_version": "1.2.0",
      "model_name": "LayoutModel",
      "state": {}
     },
     "3fb2b1e08b5a402aa108aa57d5c83df3": {
      "model_module": "@jupyter-widgets/controls",
      "model_module_version": "1.5.0",
      "model_name": "HTMLModel",
      "state": {
       "layout": "IPY_MODEL_445d599adf504c8296f64a578654ab95",
       "style": "IPY_MODEL_a6b60a9dc0ba4af3b07a84dc6febf8cd",
       "value": " 16/16 [00:01&lt;00:00,  7.78it/s]"
      }
     },
     "3fb9d69b3f384615aa616633d48f998b": {
      "model_module": "@jupyter-widgets/controls",
      "model_module_version": "1.5.0",
      "model_name": "DescriptionStyleModel",
      "state": {
       "description_width": ""
      }
     },
     "3ff7c412ed8240f99b03267896a0a051": {
      "model_module": "@jupyter-widgets/controls",
      "model_module_version": "1.5.0",
      "model_name": "ProgressStyleModel",
      "state": {
       "description_width": ""
      }
     },
     "408c97ab6edb4f90aa0625aa272f65f5": {
      "model_module": "@jupyter-widgets/controls",
      "model_module_version": "1.5.0",
      "model_name": "FloatProgressModel",
      "state": {
       "layout": "IPY_MODEL_6db5a614c9064d5ca4eb4df6b67b879f",
       "max": 16,
       "style": "IPY_MODEL_452f8bbc4ce840d9a55b31711b1b8781",
       "value": 16
      }
     },
     "413e14a3898145878c16ed5178d92cf8": {
      "model_module": "@jupyter-widgets/controls",
      "model_module_version": "1.5.0",
      "model_name": "DescriptionStyleModel",
      "state": {
       "description_width": ""
      }
     },
     "41f0b7bf73b24fd2aa8a5f6faf786d15": {
      "model_module": "@jupyter-widgets/controls",
      "model_module_version": "1.5.0",
      "model_name": "DescriptionStyleModel",
      "state": {
       "description_width": ""
      }
     },
     "445d599adf504c8296f64a578654ab95": {
      "model_module": "@jupyter-widgets/base",
      "model_module_version": "1.2.0",
      "model_name": "LayoutModel",
      "state": {}
     },
     "44773ddbb0154748abb021a5dd2cc048": {
      "model_module": "@jupyter-widgets/base",
      "model_module_version": "1.2.0",
      "model_name": "LayoutModel",
      "state": {
       "flex": "2"
      }
     },
     "44ce21ecb6d644c487ddbffe7919d29d": {
      "model_module": "@jupyter-widgets/controls",
      "model_module_version": "1.5.0",
      "model_name": "HTMLModel",
      "state": {
       "layout": "IPY_MODEL_663e50e473da45b48537b0b807ec7e7f",
       "style": "IPY_MODEL_55d273142cd446fba95995532257882e",
       "value": " 16/16 [00:01&lt;00:00,  8.58it/s]"
      }
     },
     "452f8bbc4ce840d9a55b31711b1b8781": {
      "model_module": "@jupyter-widgets/controls",
      "model_module_version": "1.5.0",
      "model_name": "ProgressStyleModel",
      "state": {
       "description_width": ""
      }
     },
     "4564490230c34eb884d6dfe99c4abc88": {
      "model_module": "@jupyter-widgets/controls",
      "model_module_version": "1.5.0",
      "model_name": "DescriptionStyleModel",
      "state": {
       "description_width": ""
      }
     },
     "49bc9a75075d491fa20a3572c4916424": {
      "model_module": "@jupyter-widgets/controls",
      "model_module_version": "1.5.0",
      "model_name": "HTMLModel",
      "state": {
       "layout": "IPY_MODEL_fda2066953f74f28b1af53cb77071e38",
       "style": "IPY_MODEL_99a3e8b981f0481faaf2321df39a2e6d",
       "value": " 16/16 [00:01&lt;00:00,  8.57it/s]"
      }
     },
     "49d30945258243168788a1fe1e8f7bb1": {
      "model_module": "@jupyter-widgets/controls",
      "model_module_version": "1.5.0",
      "model_name": "DescriptionStyleModel",
      "state": {
       "description_width": ""
      }
     },
     "4ac4aa69cf5b4cd2ac260fcc8959e4de": {
      "model_module": "@jupyter-widgets/controls",
      "model_module_version": "1.5.0",
      "model_name": "ProgressStyleModel",
      "state": {
       "description_width": ""
      }
     },
     "4dabde517f36402c9d45487cf653b56a": {
      "model_module": "@jupyter-widgets/controls",
      "model_module_version": "1.5.0",
      "model_name": "DescriptionStyleModel",
      "state": {
       "description_width": ""
      }
     },
     "4ded2b527d5e4272a1c417aebe7314dd": {
      "model_module": "@jupyter-widgets/controls",
      "model_module_version": "1.5.0",
      "model_name": "HTMLModel",
      "state": {
       "layout": "IPY_MODEL_0553f42dd89b41e5a4a4b1c8d8a69477",
       "style": "IPY_MODEL_c1d2d70046eb44a7bc8643d2797fcd05",
       "value": " 16/16 [00:01&lt;00:00,  7.75it/s]"
      }
     },
     "4f364ea2d1564b1a95fd68d184e72d54": {
      "model_module": "@jupyter-widgets/base",
      "model_module_version": "1.2.0",
      "model_name": "LayoutModel",
      "state": {}
     },
     "4f4c83910622414f8b32aa8274279323": {
      "model_module": "@jupyter-widgets/controls",
      "model_module_version": "1.5.0",
      "model_name": "FloatProgressModel",
      "state": {
       "layout": "IPY_MODEL_95d08f0b3a5c46ecb451f55048245e1a",
       "max": 16,
       "style": "IPY_MODEL_9e22d900394b4982b419d6984958f160",
       "value": 16
      }
     },
     "501dad308a234ee0b0a48283dae4ff09": {
      "model_module": "@jupyter-widgets/controls",
      "model_module_version": "1.5.0",
      "model_name": "ProgressStyleModel",
      "state": {
       "description_width": ""
      }
     },
     "514a6f29ed0e48a293dd7f265696aa94": {
      "model_module": "@jupyter-widgets/base",
      "model_module_version": "1.2.0",
      "model_name": "LayoutModel",
      "state": {
       "flex": "2"
      }
     },
     "51f021dd380d44ddaccb4805452b0904": {
      "model_module": "@jupyter-widgets/controls",
      "model_module_version": "1.5.0",
      "model_name": "HTMLModel",
      "state": {
       "layout": "IPY_MODEL_3b1b8b7507dc421cb963e0a8181ed889",
       "style": "IPY_MODEL_732f469b3d1f4c329c9121e8da1c9bc4",
       "value": "Validation DataLoader 0: 100%"
      }
     },
     "52086349ef31496d95b356a202b53fc8": {
      "model_module": "@jupyter-widgets/controls",
      "model_module_version": "1.5.0",
      "model_name": "DescriptionStyleModel",
      "state": {
       "description_width": ""
      }
     },
     "52b0e86272bf42d7a44916f1cf27183c": {
      "model_module": "@jupyter-widgets/base",
      "model_module_version": "1.2.0",
      "model_name": "LayoutModel",
      "state": {
       "flex": "2"
      }
     },
     "534174d8e70c4f68860777a7697664a9": {
      "model_module": "@jupyter-widgets/base",
      "model_module_version": "1.2.0",
      "model_name": "LayoutModel",
      "state": {}
     },
     "54aa13bbb88f45f4ae7712665ad31b6f": {
      "model_module": "@jupyter-widgets/base",
      "model_module_version": "1.2.0",
      "model_name": "LayoutModel",
      "state": {
       "flex": "2"
      }
     },
     "5529cb3e39074d1f8fdcf4d3ce7fcd83": {
      "model_module": "@jupyter-widgets/base",
      "model_module_version": "1.2.0",
      "model_name": "LayoutModel",
      "state": {}
     },
     "55d273142cd446fba95995532257882e": {
      "model_module": "@jupyter-widgets/controls",
      "model_module_version": "1.5.0",
      "model_name": "DescriptionStyleModel",
      "state": {
       "description_width": ""
      }
     },
     "571be963b5e64e558bc662c67f14d063": {
      "model_module": "@jupyter-widgets/base",
      "model_module_version": "1.2.0",
      "model_name": "LayoutModel",
      "state": {
       "display": "inline-flex",
       "flex_flow": "row wrap",
       "width": "100%"
      }
     },
     "58d8da460aff40d3bb910e5ad1dcac34": {
      "model_module": "@jupyter-widgets/controls",
      "model_module_version": "1.5.0",
      "model_name": "DescriptionStyleModel",
      "state": {
       "description_width": ""
      }
     },
     "5934455802fb43b6be21433248cde9f0": {
      "model_module": "@jupyter-widgets/base",
      "model_module_version": "1.2.0",
      "model_name": "LayoutModel",
      "state": {}
     },
     "5cff2270cb784ba3b9a8566da2d5eb0d": {
      "model_module": "@jupyter-widgets/controls",
      "model_module_version": "1.5.0",
      "model_name": "ProgressStyleModel",
      "state": {
       "description_width": ""
      }
     },
     "5d13816d82e04b5a997153d99e18d80c": {
      "model_module": "@jupyter-widgets/controls",
      "model_module_version": "1.5.0",
      "model_name": "HTMLModel",
      "state": {
       "layout": "IPY_MODEL_8a9c52445d9243f58ceb13d01bbbc13a",
       "style": "IPY_MODEL_38eb5de05837467e896fe55aed67da50",
       "value": " 16/16 [00:02&lt;00:00,  5.36it/s]"
      }
     },
     "5db2ddcd69c24fc7a1372a9d4492b7db": {
      "model_module": "@jupyter-widgets/controls",
      "model_module_version": "1.5.0",
      "model_name": "ProgressStyleModel",
      "state": {
       "description_width": ""
      }
     },
     "5e152b8d376e4047bc35b315cd41978e": {
      "model_module": "@jupyter-widgets/controls",
      "model_module_version": "1.5.0",
      "model_name": "HTMLModel",
      "state": {
       "layout": "IPY_MODEL_79645d9189d84a96999a2a62150af6b1",
       "style": "IPY_MODEL_b7123579b007422d9ae5cdb2fbeb639e",
       "value": "Validation DataLoader 0: 100%"
      }
     },
     "5fc2192ad98e4c978fbf12df9746e4f5": {
      "model_module": "@jupyter-widgets/controls",
      "model_module_version": "1.5.0",
      "model_name": "DescriptionStyleModel",
      "state": {
       "description_width": ""
      }
     },
     "5fe9f24b418143d1a88a070cbf459da4": {
      "model_module": "@jupyter-widgets/controls",
      "model_module_version": "1.5.0",
      "model_name": "HTMLModel",
      "state": {
       "layout": "IPY_MODEL_f620bfc9625640d790f3b00ee813c853",
       "style": "IPY_MODEL_a1b12abe752a43a986cdf36d69b7095f",
       "value": " 16/16 [00:02&lt;00:00,  6.94it/s]"
      }
     },
     "608102cf29b14ff2bf3977785228acbc": {
      "model_module": "@jupyter-widgets/controls",
      "model_module_version": "1.5.0",
      "model_name": "DescriptionStyleModel",
      "state": {
       "description_width": ""
      }
     },
     "629afd7000ad4e408ce16967e9129fcb": {
      "model_module": "@jupyter-widgets/controls",
      "model_module_version": "1.5.0",
      "model_name": "HTMLModel",
      "state": {
       "layout": "IPY_MODEL_9ca77ae65e4a418cbbb9c26fb08eff33",
       "style": "IPY_MODEL_9415f7d2841b470389eb9cdae414f7e7",
       "value": "Validation DataLoader 0: 100%"
      }
     },
     "6330f67c90504be19431c032d255a2a3": {
      "model_module": "@jupyter-widgets/controls",
      "model_module_version": "1.5.0",
      "model_name": "FloatProgressModel",
      "state": {
       "layout": "IPY_MODEL_52b0e86272bf42d7a44916f1cf27183c",
       "max": 16,
       "style": "IPY_MODEL_8b58260d4dcb434582b820cf087e4078",
       "value": 16
      }
     },
     "63d66cca73184f7588c739ca7660ce38": {
      "model_module": "@jupyter-widgets/controls",
      "model_module_version": "1.5.0",
      "model_name": "ProgressStyleModel",
      "state": {
       "description_width": ""
      }
     },
     "644c7cce31d94fa5b53ff20044b6f2dd": {
      "model_module": "@jupyter-widgets/base",
      "model_module_version": "1.2.0",
      "model_name": "LayoutModel",
      "state": {
       "flex": "2"
      }
     },
     "647b1ebd8efc44719174fe4162e86fb6": {
      "model_module": "@jupyter-widgets/base",
      "model_module_version": "1.2.0",
      "model_name": "LayoutModel",
      "state": {
       "display": "inline-flex",
       "flex_flow": "row wrap",
       "width": "100%"
      }
     },
     "64c21cc1df544b6d8f3657c0eaada781": {
      "model_module": "@jupyter-widgets/base",
      "model_module_version": "1.2.0",
      "model_name": "LayoutModel",
      "state": {}
     },
     "66076a23586c47429a55ec3994e8cb49": {
      "model_module": "@jupyter-widgets/controls",
      "model_module_version": "1.5.0",
      "model_name": "HTMLModel",
      "state": {
       "layout": "IPY_MODEL_09ace5f58b5d4ab09942b92fee8232d2",
       "style": "IPY_MODEL_38c29454f746441d95e574aa7b658ee4",
       "value": "Validation DataLoader 0: 100%"
      }
     },
     "663e50e473da45b48537b0b807ec7e7f": {
      "model_module": "@jupyter-widgets/base",
      "model_module_version": "1.2.0",
      "model_name": "LayoutModel",
      "state": {}
     },
     "66f598adbf14460f9f7630d79a314ca8": {
      "model_module": "@jupyter-widgets/controls",
      "model_module_version": "1.5.0",
      "model_name": "ProgressStyleModel",
      "state": {
       "description_width": ""
      }
     },
     "6748ad010a4846388ebafc057036c2e9": {
      "model_module": "@jupyter-widgets/base",
      "model_module_version": "1.2.0",
      "model_name": "LayoutModel",
      "state": {
       "flex": "2"
      }
     },
     "687ca4c8df13420bae4955c22f886420": {
      "model_module": "@jupyter-widgets/base",
      "model_module_version": "1.2.0",
      "model_name": "LayoutModel",
      "state": {
       "display": "inline-flex",
       "flex_flow": "row wrap",
       "width": "100%"
      }
     },
     "68bd19b0c67f43cda4b9b3c3e00c1b42": {
      "model_module": "@jupyter-widgets/controls",
      "model_module_version": "1.5.0",
      "model_name": "FloatProgressModel",
      "state": {
       "layout": "IPY_MODEL_2b2f89d3773746a3889edaede047a444",
       "max": 16,
       "style": "IPY_MODEL_c980a907df7d44f3832dfa65d55a39a9",
       "value": 16
      }
     },
     "68fedad0728e4b85a1da2f67f202258f": {
      "model_module": "@jupyter-widgets/controls",
      "model_module_version": "1.5.0",
      "model_name": "HTMLModel",
      "state": {
       "layout": "IPY_MODEL_ca2eab04c554450983e81cfa74e192f1",
       "style": "IPY_MODEL_41f0b7bf73b24fd2aa8a5f6faf786d15",
       "value": "Predicting: "
      }
     },
     "69809e50ee624b2fa9c71fc7a081045f": {
      "model_module": "@jupyter-widgets/controls",
      "model_module_version": "1.5.0",
      "model_name": "HTMLModel",
      "state": {
       "layout": "IPY_MODEL_cbf0ffa9043a4e5db05fb0c74d902ebd",
       "style": "IPY_MODEL_3fb9d69b3f384615aa616633d48f998b",
       "value": "Validation DataLoader 0: 100%"
      }
     },
     "6a88b56c02ca48dba711cf23abb9c6ba": {
      "model_module": "@jupyter-widgets/base",
      "model_module_version": "1.2.0",
      "model_name": "LayoutModel",
      "state": {}
     },
     "6b6b286f9de94c019d2bfe53f3e278ee": {
      "model_module": "@jupyter-widgets/controls",
      "model_module_version": "1.5.0",
      "model_name": "ProgressStyleModel",
      "state": {
       "description_width": ""
      }
     },
     "6c071e35e59848b1af98b4a017d02697": {
      "model_module": "@jupyter-widgets/controls",
      "model_module_version": "1.5.0",
      "model_name": "DescriptionStyleModel",
      "state": {
       "description_width": ""
      }
     },
     "6c20d98be2014e778849d3b25657cf1a": {
      "model_module": "@jupyter-widgets/base",
      "model_module_version": "1.2.0",
      "model_name": "LayoutModel",
      "state": {}
     },
     "6cd27fc1eebb4598b3a7453ba7299078": {
      "model_module": "@jupyter-widgets/controls",
      "model_module_version": "1.5.0",
      "model_name": "DescriptionStyleModel",
      "state": {
       "description_width": ""
      }
     },
     "6db5a614c9064d5ca4eb4df6b67b879f": {
      "model_module": "@jupyter-widgets/base",
      "model_module_version": "1.2.0",
      "model_name": "LayoutModel",
      "state": {
       "flex": "2"
      }
     },
     "6f2b40b2abf848ea9b8462b7fe608efa": {
      "model_module": "@jupyter-widgets/controls",
      "model_module_version": "1.5.0",
      "model_name": "FloatProgressModel",
      "state": {
       "layout": "IPY_MODEL_743d6710329449e78a468756c73bc48b",
       "max": 16,
       "style": "IPY_MODEL_f51ac6ae3e634a2784108eaf1a7a32e0",
       "value": 16
      }
     },
     "6f93ca44d83e49c6bba5f85710043d66": {
      "model_module": "@jupyter-widgets/base",
      "model_module_version": "1.2.0",
      "model_name": "LayoutModel",
      "state": {}
     },
     "717a704f09bb4640854152a5e41d5dc9": {
      "model_module": "@jupyter-widgets/base",
      "model_module_version": "1.2.0",
      "model_name": "LayoutModel",
      "state": {
       "flex": "2"
      }
     },
     "7195fea3edd34147aa6dc63b15ee0371": {
      "model_module": "@jupyter-widgets/controls",
      "model_module_version": "1.5.0",
      "model_name": "DescriptionStyleModel",
      "state": {
       "description_width": ""
      }
     },
     "71a7243f1c4346e088a337a1d1a17846": {
      "model_module": "@jupyter-widgets/base",
      "model_module_version": "1.2.0",
      "model_name": "LayoutModel",
      "state": {
       "display": "inline-flex",
       "flex_flow": "row wrap",
       "width": "100%"
      }
     },
     "732f469b3d1f4c329c9121e8da1c9bc4": {
      "model_module": "@jupyter-widgets/controls",
      "model_module_version": "1.5.0",
      "model_name": "DescriptionStyleModel",
      "state": {
       "description_width": ""
      }
     },
     "7357f479a32149149bad8ced34c4d9ba": {
      "model_module": "@jupyter-widgets/controls",
      "model_module_version": "1.5.0",
      "model_name": "DescriptionStyleModel",
      "state": {
       "description_width": ""
      }
     },
     "73ee49dbb13d4502ba37338a4e835dc5": {
      "model_module": "@jupyter-widgets/controls",
      "model_module_version": "1.5.0",
      "model_name": "DescriptionStyleModel",
      "state": {
       "description_width": ""
      }
     },
     "743d6710329449e78a468756c73bc48b": {
      "model_module": "@jupyter-widgets/base",
      "model_module_version": "1.2.0",
      "model_name": "LayoutModel",
      "state": {
       "flex": "2"
      }
     },
     "7566ff047114438a90d85e74f5a49179": {
      "model_module": "@jupyter-widgets/base",
      "model_module_version": "1.2.0",
      "model_name": "LayoutModel",
      "state": {}
     },
     "75d78304d3b94140b38b87cfcc0caae7": {
      "model_module": "@jupyter-widgets/controls",
      "model_module_version": "1.5.0",
      "model_name": "DescriptionStyleModel",
      "state": {
       "description_width": ""
      }
     },
     "76f2c5f1553e4c6ca729395b6f82d743": {
      "model_module": "@jupyter-widgets/controls",
      "model_module_version": "1.5.0",
      "model_name": "HTMLModel",
      "state": {
       "layout": "IPY_MODEL_98ad7e5213be4292bd0c8fd46c850f4d",
       "style": "IPY_MODEL_d34b48465a1047f9b7ace82dd9c8eb0a",
       "value": "Validation DataLoader 0: 100%"
      }
     },
     "772aa5c9430d4ebcbdf52b674a08f341": {
      "model_module": "@jupyter-widgets/controls",
      "model_module_version": "1.5.0",
      "model_name": "FloatProgressModel",
      "state": {
       "layout": "IPY_MODEL_f390b2666d50471ea35fb331982ae306",
       "max": 16,
       "style": "IPY_MODEL_5cff2270cb784ba3b9a8566da2d5eb0d",
       "value": 16
      }
     },
     "77df7950c7f845cd8620e0d5e9514621": {
      "model_module": "@jupyter-widgets/controls",
      "model_module_version": "1.5.0",
      "model_name": "ProgressStyleModel",
      "state": {
       "description_width": ""
      }
     },
     "78c17e66212c4fd9af5776bc95de95bd": {
      "model_module": "@jupyter-widgets/controls",
      "model_module_version": "1.5.0",
      "model_name": "HTMLModel",
      "state": {
       "layout": "IPY_MODEL_4f364ea2d1564b1a95fd68d184e72d54",
       "style": "IPY_MODEL_413e14a3898145878c16ed5178d92cf8",
       "value": "Validation DataLoader 0: 100%"
      }
     },
     "7920f9e10aa743189e87e0ba449d0e16": {
      "model_module": "@jupyter-widgets/controls",
      "model_module_version": "1.5.0",
      "model_name": "HTMLModel",
      "state": {
       "layout": "IPY_MODEL_b23f2de6fa3a4e59a351c3f2c3cabe5c",
       "style": "IPY_MODEL_2dc0ed75ee8746aaae8fc7452b8667c7",
       "value": "Validation DataLoader 0: 100%"
      }
     },
     "79645d9189d84a96999a2a62150af6b1": {
      "model_module": "@jupyter-widgets/base",
      "model_module_version": "1.2.0",
      "model_name": "LayoutModel",
      "state": {}
     },
     "7a34df2a375d42c1b34141f098c2f210": {
      "model_module": "@jupyter-widgets/controls",
      "model_module_version": "1.5.0",
      "model_name": "HTMLModel",
      "state": {
       "layout": "IPY_MODEL_03f740da61764a788fd64a2547472d21",
       "style": "IPY_MODEL_d17bb744a31b43f186c2628b1c978710",
       "value": "Epoch 24:  94%"
      }
     },
     "7be7f737d1ee42b99607452a57ede2b0": {
      "model_module": "@jupyter-widgets/controls",
      "model_module_version": "1.5.0",
      "model_name": "DescriptionStyleModel",
      "state": {
       "description_width": ""
      }
     },
     "7bff6a92c3a5463e8db77a61a46339e0": {
      "model_module": "@jupyter-widgets/base",
      "model_module_version": "1.2.0",
      "model_name": "LayoutModel",
      "state": {
       "flex": "2"
      }
     },
     "7c795492ea0e4b3fa6e0335274a59d0f": {
      "model_module": "@jupyter-widgets/controls",
      "model_module_version": "1.5.0",
      "model_name": "HTMLModel",
      "state": {
       "layout": "IPY_MODEL_0ca7f029b2544c4c89edcfe5d7a715cd",
       "style": "IPY_MODEL_73ee49dbb13d4502ba37338a4e835dc5",
       "value": "Validation DataLoader 0: 100%"
      }
     },
     "7d2eaa8563434907a7a213cde4486e07": {
      "model_module": "@jupyter-widgets/controls",
      "model_module_version": "1.5.0",
      "model_name": "DescriptionStyleModel",
      "state": {
       "description_width": ""
      }
     },
     "7d7ef852c7a342e285d0c73af3c38f86": {
      "model_module": "@jupyter-widgets/controls",
      "model_module_version": "1.5.0",
      "model_name": "ProgressStyleModel",
      "state": {
       "description_width": ""
      }
     },
     "7df414bef97641cb90cc1ceab472dbd9": {
      "model_module": "@jupyter-widgets/controls",
      "model_module_version": "1.5.0",
      "model_name": "ProgressStyleModel",
      "state": {
       "description_width": ""
      }
     },
     "7fccdd42b1dc4bd594d40e76fb9446be": {
      "model_module": "@jupyter-widgets/controls",
      "model_module_version": "1.5.0",
      "model_name": "HTMLModel",
      "state": {
       "layout": "IPY_MODEL_92419beda8f6468b91c4d3d83788cde5",
       "style": "IPY_MODEL_fda2e1df642b4f58a4f71811ea88a704",
       "value": " 16/16 [00:01&lt;00:00,  7.56it/s]"
      }
     },
     "82283e14de9447a9a8da30e04d64af52": {
      "model_module": "@jupyter-widgets/base",
      "model_module_version": "1.2.0",
      "model_name": "LayoutModel",
      "state": {}
     },
     "829abc108c6f48909993db7881787a87": {
      "model_module": "@jupyter-widgets/controls",
      "model_module_version": "1.5.0",
      "model_name": "FloatProgressModel",
      "state": {
       "layout": "IPY_MODEL_b6d357e23fa64f2aab3430b1e2a2e5df",
       "max": 2,
       "style": "IPY_MODEL_d84fff8a53b043fc8d9350752180f35b",
       "value": 2
      }
     },
     "83a9021f3c114667957efa7b39e780f4": {
      "model_module": "@jupyter-widgets/base",
      "model_module_version": "1.2.0",
      "model_name": "LayoutModel",
      "state": {
       "display": "inline-flex",
       "flex_flow": "row wrap",
       "width": "100%"
      }
     },
     "85500b0a4e724e0286982730b8b0134e": {
      "model_module": "@jupyter-widgets/controls",
      "model_module_version": "1.5.0",
      "model_name": "HTMLModel",
      "state": {
       "layout": "IPY_MODEL_d290f59006944582843cae636ffedc3c",
       "style": "IPY_MODEL_ec3ed355c4ef4847b352ea3e224e4642",
       "value": "Validation DataLoader 0: 100%"
      }
     },
     "85ad5e682bc744d68502f76e8e275258": {
      "model_module": "@jupyter-widgets/base",
      "model_module_version": "1.2.0",
      "model_name": "LayoutModel",
      "state": {}
     },
     "884e925e57cc4cafbd1d53cb5f327799": {
      "model_module": "@jupyter-widgets/controls",
      "model_module_version": "1.5.0",
      "model_name": "FloatProgressModel",
      "state": {
       "layout": "IPY_MODEL_644c7cce31d94fa5b53ff20044b6f2dd",
       "max": 16,
       "style": "IPY_MODEL_66f598adbf14460f9f7630d79a314ca8",
       "value": 16
      }
     },
     "88778d14b56140c49ae037941cd0a20f": {
      "model_module": "@jupyter-widgets/base",
      "model_module_version": "1.2.0",
      "model_name": "LayoutModel",
      "state": {}
     },
     "89423417f0a441ae841e1a314942f23e": {
      "model_module": "@jupyter-widgets/controls",
      "model_module_version": "1.5.0",
      "model_name": "HTMLModel",
      "state": {
       "layout": "IPY_MODEL_b02f5fbf7fcd42968b01de94b76a5f2b",
       "style": "IPY_MODEL_ac686f1658a849109f85310f0d505357",
       "value": " 16/16 [00:02&lt;00:00,  7.48it/s]"
      }
     },
     "89bbbbf423f34776b54dac255342ba64": {
      "model_module": "@jupyter-widgets/controls",
      "model_module_version": "1.5.0",
      "model_name": "HTMLModel",
      "state": {
       "layout": "IPY_MODEL_ef29f52136da4fd7a48220c1facf6a58",
       "style": "IPY_MODEL_ec24d42088df4935a0936edd3d8fe25d",
       "value": "Predicting DataLoader 0: 100%"
      }
     },
     "89df7488354a4ae2b1d8d40f579266d4": {
      "model_module": "@jupyter-widgets/controls",
      "model_module_version": "1.5.0",
      "model_name": "ProgressStyleModel",
      "state": {
       "description_width": ""
      }
     },
     "8a9c52445d9243f58ceb13d01bbbc13a": {
      "model_module": "@jupyter-widgets/base",
      "model_module_version": "1.2.0",
      "model_name": "LayoutModel",
      "state": {}
     },
     "8b58260d4dcb434582b820cf087e4078": {
      "model_module": "@jupyter-widgets/controls",
      "model_module_version": "1.5.0",
      "model_name": "ProgressStyleModel",
      "state": {
       "description_width": ""
      }
     },
     "8c432d77b5ee456bb5394954ea71d114": {
      "model_module": "@jupyter-widgets/base",
      "model_module_version": "1.2.0",
      "model_name": "LayoutModel",
      "state": {}
     },
     "8cb0c6f5fa8742d7b5fe79ea5ec0b40e": {
      "model_module": "@jupyter-widgets/controls",
      "model_module_version": "1.5.0",
      "model_name": "ProgressStyleModel",
      "state": {
       "description_width": ""
      }
     },
     "8d64eab81c2a43939659cd34bfd06285": {
      "model_module": "@jupyter-widgets/base",
      "model_module_version": "1.2.0",
      "model_name": "LayoutModel",
      "state": {
       "display": "inline-flex",
       "flex_flow": "row wrap",
       "width": "100%"
      }
     },
     "8de2d68f80f8446b87373b7b9ef627e6": {
      "model_module": "@jupyter-widgets/base",
      "model_module_version": "1.2.0",
      "model_name": "LayoutModel",
      "state": {
       "display": "inline-flex",
       "flex_flow": "row wrap",
       "width": "100%"
      }
     },
     "8e2ff7ebf23e42eb8ebb3dc80400c36c": {
      "model_module": "@jupyter-widgets/controls",
      "model_module_version": "1.5.0",
      "model_name": "HTMLModel",
      "state": {
       "layout": "IPY_MODEL_1ab99916974f46b7abe168ca1d68d24c",
       "style": "IPY_MODEL_c6ed4f35a7804d5f9b481081f6ea25a1",
       "value": "Validation DataLoader 0: 100%"
      }
     },
     "8e4e6a3d34e84e68afe6943b4601fc98": {
      "model_module": "@jupyter-widgets/controls",
      "model_module_version": "1.5.0",
      "model_name": "HTMLModel",
      "state": {
       "layout": "IPY_MODEL_c2d93666e0f246b8ae84afb69bc43d1b",
       "style": "IPY_MODEL_7195fea3edd34147aa6dc63b15ee0371",
       "value": "Predicting: "
      }
     },
     "90305f884c35414e96e5d8506af921b5": {
      "model_module": "@jupyter-widgets/controls",
      "model_module_version": "1.5.0",
      "model_name": "HBoxModel",
      "state": {
       "children": [
        "IPY_MODEL_15443ebedb2142b2b8715068fb242601",
        "IPY_MODEL_1eed1ae1fa6e4b81b376e894adb63972",
        "IPY_MODEL_fb4894a88617465799c35dfcbcbe2e9a"
       ],
       "layout": "IPY_MODEL_83a9021f3c114667957efa7b39e780f4"
      }
     },
     "917d66e33e6c4dd6b8cca405f487b50a": {
      "model_module": "@jupyter-widgets/base",
      "model_module_version": "1.2.0",
      "model_name": "LayoutModel",
      "state": {}
     },
     "92419beda8f6468b91c4d3d83788cde5": {
      "model_module": "@jupyter-widgets/base",
      "model_module_version": "1.2.0",
      "model_name": "LayoutModel",
      "state": {}
     },
     "936aa576f2b4494a91c5aac53cda05c9": {
      "model_module": "@jupyter-widgets/controls",
      "model_module_version": "1.5.0",
      "model_name": "DescriptionStyleModel",
      "state": {
       "description_width": ""
      }
     },
     "937967b6321443a48add40fa66243dd9": {
      "model_module": "@jupyter-widgets/base",
      "model_module_version": "1.2.0",
      "model_name": "LayoutModel",
      "state": {}
     },
     "9415f7d2841b470389eb9cdae414f7e7": {
      "model_module": "@jupyter-widgets/controls",
      "model_module_version": "1.5.0",
      "model_name": "DescriptionStyleModel",
      "state": {
       "description_width": ""
      }
     },
     "94fc30c94d9543b190674db195bd8c22": {
      "model_module": "@jupyter-widgets/controls",
      "model_module_version": "1.5.0",
      "model_name": "DescriptionStyleModel",
      "state": {
       "description_width": ""
      }
     },
     "9577e2bfada94b60ad32f9791cad7aaa": {
      "model_module": "@jupyter-widgets/controls",
      "model_module_version": "1.5.0",
      "model_name": "HTMLModel",
      "state": {
       "layout": "IPY_MODEL_64c21cc1df544b6d8f3657c0eaada781",
       "style": "IPY_MODEL_7be7f737d1ee42b99607452a57ede2b0",
       "value": " 72/77 [00:25&lt;00:01,  2.87it/s, loss=0.00256, v_num=H-67]"
      }
     },
     "95d08f0b3a5c46ecb451f55048245e1a": {
      "model_module": "@jupyter-widgets/base",
      "model_module_version": "1.2.0",
      "model_name": "LayoutModel",
      "state": {
       "flex": "2"
      }
     },
     "964ad3608a5e45afadfe2e5d8431fb90": {
      "model_module": "@jupyter-widgets/controls",
      "model_module_version": "1.5.0",
      "model_name": "FloatProgressModel",
      "state": {
       "bar_style": "success",
       "layout": "IPY_MODEL_fbad09a594304f039bb14f3a4269cc4a",
       "max": 1,
       "style": "IPY_MODEL_b5ad51aecb8243c280947be59bab6a9b",
       "value": 1
      }
     },
     "96bd13294e6246cf978718313046da8c": {
      "model_module": "@jupyter-widgets/controls",
      "model_module_version": "1.5.0",
      "model_name": "HTMLModel",
      "state": {
       "layout": "IPY_MODEL_d1f53a91d01042e09b145f14616f6479",
       "style": "IPY_MODEL_af3f00b2b17c481bb79691e623563718",
       "value": " 16/16 [00:02&lt;00:00,  7.51it/s]"
      }
     },
     "96e2155cbad44704aab57d23693a644d": {
      "model_module": "@jupyter-widgets/controls",
      "model_module_version": "1.5.0",
      "model_name": "HBoxModel",
      "state": {
       "children": [
        "IPY_MODEL_89bbbbf423f34776b54dac255342ba64",
        "IPY_MODEL_d9392e60343d4b5abde7c15ac8cc25f2",
        "IPY_MODEL_0cbda5c6b6cb4730b4a97494eaf03b90"
       ],
       "layout": "IPY_MODEL_a0c465b48a12469c9aea9f68b6423d85"
      }
     },
     "96f9532d924248a8ac9f377aa05c3f8f": {
      "model_module": "@jupyter-widgets/controls",
      "model_module_version": "1.5.0",
      "model_name": "HTMLModel",
      "state": {
       "layout": "IPY_MODEL_85ad5e682bc744d68502f76e8e275258",
       "style": "IPY_MODEL_c577345a295e4f07b6826584d2137e4d",
       "value": "Validation DataLoader 0: 100%"
      }
     },
     "976d0dc86102456a82ebf2e42ea8033e": {
      "model_module": "@jupyter-widgets/controls",
      "model_module_version": "1.5.0",
      "model_name": "DescriptionStyleModel",
      "state": {
       "description_width": ""
      }
     },
     "978cd75d427a46f99be574939d4af62c": {
      "model_module": "@jupyter-widgets/controls",
      "model_module_version": "1.5.0",
      "model_name": "HTMLModel",
      "state": {
       "layout": "IPY_MODEL_7566ff047114438a90d85e74f5a49179",
       "style": "IPY_MODEL_d739a93e9a79483ab611178767a3c7c0",
       "value": " 16/16 [00:01&lt;00:00,  7.78it/s]"
      }
     },
     "97d1cbaf42bb427d93b9e59cf2ec3eb8": {
      "model_module": "@jupyter-widgets/base",
      "model_module_version": "1.2.0",
      "model_name": "LayoutModel",
      "state": {}
     },
     "9851de950e2744f7bb4e54a0da9f4c25": {
      "model_module": "@jupyter-widgets/base",
      "model_module_version": "1.2.0",
      "model_name": "LayoutModel",
      "state": {
       "display": "inline-flex",
       "flex_flow": "row wrap",
       "width": "100%"
      }
     },
     "98ad7e5213be4292bd0c8fd46c850f4d": {
      "model_module": "@jupyter-widgets/base",
      "model_module_version": "1.2.0",
      "model_name": "LayoutModel",
      "state": {}
     },
     "98c05266f5d64e11882fc383802c86c4": {
      "model_module": "@jupyter-widgets/controls",
      "model_module_version": "1.5.0",
      "model_name": "HBoxModel",
      "state": {
       "children": [
        "IPY_MODEL_9d185f02a2f549868226f123a4efffa7",
        "IPY_MODEL_1c2cbd7f55d24d10af99a041a6cf2ac8",
        "IPY_MODEL_22ccf9f3c66549f1b689e4305c74ca45"
       ],
       "layout": "IPY_MODEL_f11260b0173347f5b737e0002a646ac1"
      }
     },
     "995cad47a99243e9b20f0d76e603bad5": {
      "model_module": "@jupyter-widgets/controls",
      "model_module_version": "1.5.0",
      "model_name": "HTMLModel",
      "state": {
       "layout": "IPY_MODEL_c9d3258370ec4b3399a0f9e152828ef0",
       "style": "IPY_MODEL_7d2eaa8563434907a7a213cde4486e07",
       "value": "Validation DataLoader 0: 100%"
      }
     },
     "99a3e8b981f0481faaf2321df39a2e6d": {
      "model_module": "@jupyter-widgets/controls",
      "model_module_version": "1.5.0",
      "model_name": "DescriptionStyleModel",
      "state": {
       "description_width": ""
      }
     },
     "9c7f80990eea42c7bf1b9860e550c3fe": {
      "model_module": "@jupyter-widgets/base",
      "model_module_version": "1.2.0",
      "model_name": "LayoutModel",
      "state": {}
     },
     "9ca77ae65e4a418cbbb9c26fb08eff33": {
      "model_module": "@jupyter-widgets/base",
      "model_module_version": "1.2.0",
      "model_name": "LayoutModel",
      "state": {}
     },
     "9cc67914d18a40148ead499bcedc45d4": {
      "model_module": "@jupyter-widgets/controls",
      "model_module_version": "1.5.0",
      "model_name": "HTMLModel",
      "state": {
       "layout": "IPY_MODEL_fe968a774e5f4bf09b0b56dd266b9b83",
       "style": "IPY_MODEL_194de4223ed04bbf83a310719324adb0",
       "value": "Validation DataLoader 0: 100%"
      }
     },
     "9d185f02a2f549868226f123a4efffa7": {
      "model_module": "@jupyter-widgets/controls",
      "model_module_version": "1.5.0",
      "model_name": "HTMLModel",
      "state": {
       "layout": "IPY_MODEL_ed6d862f06f7481b8dc611c094eb64f9",
       "style": "IPY_MODEL_34481458915c4d7f9c9d94e85a37c96e",
       "value": "Predicting: "
      }
     },
     "9d3a39e4e77f4e75b9ca6af1b8a3d746": {
      "model_module": "@jupyter-widgets/controls",
      "model_module_version": "1.5.0",
      "model_name": "DescriptionStyleModel",
      "state": {
       "description_width": ""
      }
     },
     "9d4aa706ef124e45b4e29b58c9e3d344": {
      "model_module": "@jupyter-widgets/base",
      "model_module_version": "1.2.0",
      "model_name": "LayoutModel",
      "state": {
       "display": "inline-flex",
       "flex_flow": "row wrap",
       "width": "100%"
      }
     },
     "9e22d900394b4982b419d6984958f160": {
      "model_module": "@jupyter-widgets/controls",
      "model_module_version": "1.5.0",
      "model_name": "ProgressStyleModel",
      "state": {
       "description_width": ""
      }
     },
     "9e59dff55d9e4a6ea6e849cf362bd675": {
      "model_module": "@jupyter-widgets/controls",
      "model_module_version": "1.5.0",
      "model_name": "DescriptionStyleModel",
      "state": {
       "description_width": ""
      }
     },
     "9e69cf56e69a4706870fd1bbfaa9ef3e": {
      "model_module": "@jupyter-widgets/base",
      "model_module_version": "1.2.0",
      "model_name": "LayoutModel",
      "state": {}
     },
     "a018cc0ef10244a2b9641da02496fe7b": {
      "model_module": "@jupyter-widgets/controls",
      "model_module_version": "1.5.0",
      "model_name": "FloatProgressModel",
      "state": {
       "layout": "IPY_MODEL_17d57a8afe614efdaccf9cd0552acf9f",
       "max": 16,
       "style": "IPY_MODEL_3012217e930346a7a651c134f0de73af",
       "value": 16
      }
     },
     "a0c465b48a12469c9aea9f68b6423d85": {
      "model_module": "@jupyter-widgets/base",
      "model_module_version": "1.2.0",
      "model_name": "LayoutModel",
      "state": {
       "display": "inline-flex",
       "flex_flow": "row wrap",
       "width": "100%"
      }
     },
     "a14c51cac4db4b38a864a6c993ea32ce": {
      "model_module": "@jupyter-widgets/base",
      "model_module_version": "1.2.0",
      "model_name": "LayoutModel",
      "state": {
       "display": "inline-flex",
       "flex_flow": "row wrap",
       "width": "100%"
      }
     },
     "a1b12abe752a43a986cdf36d69b7095f": {
      "model_module": "@jupyter-widgets/controls",
      "model_module_version": "1.5.0",
      "model_name": "DescriptionStyleModel",
      "state": {
       "description_width": ""
      }
     },
     "a2942d70a918497b8b2fac23dd5848c5": {
      "model_module": "@jupyter-widgets/base",
      "model_module_version": "1.2.0",
      "model_name": "LayoutModel",
      "state": {}
     },
     "a38bb3abbfa14475b6cb67038a706940": {
      "model_module": "@jupyter-widgets/base",
      "model_module_version": "1.2.0",
      "model_name": "LayoutModel",
      "state": {}
     },
     "a3f3fe5cb9074971b92aef3cbe84cb9e": {
      "model_module": "@jupyter-widgets/base",
      "model_module_version": "1.2.0",
      "model_name": "LayoutModel",
      "state": {
       "display": "inline-flex",
       "flex_flow": "row wrap",
       "width": "100%"
      }
     },
     "a4ee29faeb0944989ece9c5d003cb6aa": {
      "model_module": "@jupyter-widgets/controls",
      "model_module_version": "1.5.0",
      "model_name": "DescriptionStyleModel",
      "state": {
       "description_width": ""
      }
     },
     "a4fe7bbb1b5c4598bcd5dea59bcf3f83": {
      "model_module": "@jupyter-widgets/base",
      "model_module_version": "1.2.0",
      "model_name": "LayoutModel",
      "state": {
       "flex": "2"
      }
     },
     "a6b60a9dc0ba4af3b07a84dc6febf8cd": {
      "model_module": "@jupyter-widgets/controls",
      "model_module_version": "1.5.0",
      "model_name": "DescriptionStyleModel",
      "state": {
       "description_width": ""
      }
     },
     "a75217b8dc984d05a37dadd2fba02321": {
      "model_module": "@jupyter-widgets/base",
      "model_module_version": "1.2.0",
      "model_name": "LayoutModel",
      "state": {
       "display": "inline-flex",
       "flex_flow": "row wrap",
       "width": "100%"
      }
     },
     "a85c541ffa324253a4945695b8781a12": {
      "model_module": "@jupyter-widgets/controls",
      "model_module_version": "1.5.0",
      "model_name": "HTMLModel",
      "state": {
       "layout": "IPY_MODEL_b8f42bc78fd24345a1b93ab6646852c3",
       "style": "IPY_MODEL_a4ee29faeb0944989ece9c5d003cb6aa",
       "value": " 2/2 [00:02&lt;00:00,  1.01it/s]"
      }
     },
     "a98b08ab52054d7facfadfda07e78f20": {
      "model_module": "@jupyter-widgets/controls",
      "model_module_version": "1.5.0",
      "model_name": "ProgressStyleModel",
      "state": {
       "description_width": ""
      }
     },
     "a9aeb6f8c79848b993a3ca75364ba5e0": {
      "model_module": "@jupyter-widgets/controls",
      "model_module_version": "1.5.0",
      "model_name": "DescriptionStyleModel",
      "state": {
       "description_width": ""
      }
     },
     "a9bc372efcbb44bd8b4da8d691b9ac49": {
      "model_module": "@jupyter-widgets/controls",
      "model_module_version": "1.5.0",
      "model_name": "HTMLModel",
      "state": {
       "layout": "IPY_MODEL_a38bb3abbfa14475b6cb67038a706940",
       "style": "IPY_MODEL_608102cf29b14ff2bf3977785228acbc",
       "value": " 61/? [00:00&lt;?, ?it/s]"
      }
     },
     "aaf6f666f748432a9f6631d0dc615a9b": {
      "model_module": "@jupyter-widgets/controls",
      "model_module_version": "1.5.0",
      "model_name": "HTMLModel",
      "state": {
       "layout": "IPY_MODEL_1ab01e0edc8d4a53872cca318a83dd1e",
       "style": "IPY_MODEL_49d30945258243168788a1fe1e8f7bb1",
       "value": "Validation DataLoader 0: 100%"
      }
     },
     "ab3cd745e2174239b69ff7deb814d7cf": {
      "model_module": "@jupyter-widgets/base",
      "model_module_version": "1.2.0",
      "model_name": "LayoutModel",
      "state": {}
     },
     "ac686f1658a849109f85310f0d505357": {
      "model_module": "@jupyter-widgets/controls",
      "model_module_version": "1.5.0",
      "model_name": "DescriptionStyleModel",
      "state": {
       "description_width": ""
      }
     },
     "acd1fc1be3da412e8b17c2f4264c76c6": {
      "model_module": "@jupyter-widgets/controls",
      "model_module_version": "1.5.0",
      "model_name": "ProgressStyleModel",
      "state": {
       "description_width": ""
      }
     },
     "ae02273129e24703a60f066b187ee578": {
      "model_module": "@jupyter-widgets/controls",
      "model_module_version": "1.5.0",
      "model_name": "HTMLModel",
      "state": {
       "layout": "IPY_MODEL_937967b6321443a48add40fa66243dd9",
       "style": "IPY_MODEL_7357f479a32149149bad8ced34c4d9ba",
       "value": "Validation DataLoader 0: 100%"
      }
     },
     "ae64c4412ee34e67b68cf7b2672c13f4": {
      "model_module": "@jupyter-widgets/controls",
      "model_module_version": "1.5.0",
      "model_name": "HTMLModel",
      "state": {
       "layout": "IPY_MODEL_02d4f978b02049ddb3c8d992b0eccae2",
       "style": "IPY_MODEL_b6c994321f744a27bc1cc353e38c58ee",
       "value": " 16/16 [00:02&lt;00:00,  7.55it/s]"
      }
     },
     "af3f00b2b17c481bb79691e623563718": {
      "model_module": "@jupyter-widgets/controls",
      "model_module_version": "1.5.0",
      "model_name": "DescriptionStyleModel",
      "state": {
       "description_width": ""
      }
     },
     "b02f5fbf7fcd42968b01de94b76a5f2b": {
      "model_module": "@jupyter-widgets/base",
      "model_module_version": "1.2.0",
      "model_name": "LayoutModel",
      "state": {}
     },
     "b09feffa42fc42dbba66c9f636e48584": {
      "model_module": "@jupyter-widgets/controls",
      "model_module_version": "1.5.0",
      "model_name": "HBoxModel",
      "state": {
       "children": [
        "IPY_MODEL_68fedad0728e4b85a1da2f67f202258f",
        "IPY_MODEL_edf91d4abf444572b58c8f918cdeff69",
        "IPY_MODEL_ba58343e3e7d4d348ce3980ab9475188"
       ],
       "layout": "IPY_MODEL_9851de950e2744f7bb4e54a0da9f4c25"
      }
     },
     "b1d5b80682a643119ed0aea292472512": {
      "model_module": "@jupyter-widgets/controls",
      "model_module_version": "1.5.0",
      "model_name": "DescriptionStyleModel",
      "state": {
       "description_width": ""
      }
     },
     "b23f2de6fa3a4e59a351c3f2c3cabe5c": {
      "model_module": "@jupyter-widgets/base",
      "model_module_version": "1.2.0",
      "model_name": "LayoutModel",
      "state": {}
     },
     "b456f02308474f8cbbca8ac9953e3d1f": {
      "model_module": "@jupyter-widgets/controls",
      "model_module_version": "1.5.0",
      "model_name": "HTMLModel",
      "state": {
       "layout": "IPY_MODEL_3fa238cbdc374bf0811615ccf0719088",
       "style": "IPY_MODEL_9d3a39e4e77f4e75b9ca6af1b8a3d746",
       "value": "Validation DataLoader 0: 100%"
      }
     },
     "b4a2a1029799468ca708a2bc00782776": {
      "model_module": "@jupyter-widgets/base",
      "model_module_version": "1.2.0",
      "model_name": "LayoutModel",
      "state": {
       "display": "inline-flex",
       "flex_flow": "row wrap",
       "width": "100%"
      }
     },
     "b4abbb93afa94314bf21d9124d89a334": {
      "model_module": "@jupyter-widgets/base",
      "model_module_version": "1.2.0",
      "model_name": "LayoutModel",
      "state": {
       "display": "inline-flex",
       "flex_flow": "row wrap",
       "width": "100%"
      }
     },
     "b5ad51aecb8243c280947be59bab6a9b": {
      "model_module": "@jupyter-widgets/controls",
      "model_module_version": "1.5.0",
      "model_name": "ProgressStyleModel",
      "state": {
       "description_width": ""
      }
     },
     "b6c994321f744a27bc1cc353e38c58ee": {
      "model_module": "@jupyter-widgets/controls",
      "model_module_version": "1.5.0",
      "model_name": "DescriptionStyleModel",
      "state": {
       "description_width": ""
      }
     },
     "b6d357e23fa64f2aab3430b1e2a2e5df": {
      "model_module": "@jupyter-widgets/base",
      "model_module_version": "1.2.0",
      "model_name": "LayoutModel",
      "state": {
       "flex": "2"
      }
     },
     "b7123579b007422d9ae5cdb2fbeb639e": {
      "model_module": "@jupyter-widgets/controls",
      "model_module_version": "1.5.0",
      "model_name": "DescriptionStyleModel",
      "state": {
       "description_width": ""
      }
     },
     "b7902cbcd31940c88c565ef7b6f125e6": {
      "model_module": "@jupyter-widgets/base",
      "model_module_version": "1.2.0",
      "model_name": "LayoutModel",
      "state": {}
     },
     "b8c6e1f3f4424adf91c11e623f1578ec": {
      "model_module": "@jupyter-widgets/controls",
      "model_module_version": "1.5.0",
      "model_name": "DescriptionStyleModel",
      "state": {
       "description_width": ""
      }
     },
     "b8f42bc78fd24345a1b93ab6646852c3": {
      "model_module": "@jupyter-widgets/base",
      "model_module_version": "1.2.0",
      "model_name": "LayoutModel",
      "state": {}
     },
     "ba58343e3e7d4d348ce3980ab9475188": {
      "model_module": "@jupyter-widgets/controls",
      "model_module_version": "1.5.0",
      "model_name": "HTMLModel",
      "state": {
       "layout": "IPY_MODEL_6c20d98be2014e778849d3b25657cf1a",
       "style": "IPY_MODEL_4dabde517f36402c9d45487cf653b56a",
       "value": " 61/? [00:00&lt;?, ?it/s]"
      }
     },
     "bc13df06611045f581fa2ff6a7c8c11f": {
      "model_module": "@jupyter-widgets/controls",
      "model_module_version": "1.5.0",
      "model_name": "HTMLModel",
      "state": {
       "layout": "IPY_MODEL_f47c1aaa1e8143d5a471b469289acf26",
       "style": "IPY_MODEL_936aa576f2b4494a91c5aac53cda05c9",
       "value": " 16/16 [00:01&lt;00:00,  7.14it/s]"
      }
     },
     "bf36be38a1394159a90c2fd69aca8228": {
      "model_module": "@jupyter-widgets/controls",
      "model_module_version": "1.5.0",
      "model_name": "HTMLModel",
      "state": {
       "layout": "IPY_MODEL_e97850a31cbc4399bcd5381b32b7c817",
       "style": "IPY_MODEL_ea01204efce14c6e93ac07c66f6ff0c9",
       "value": " 16/16 [00:02&lt;00:00,  4.89it/s]"
      }
     },
     "bfb6f0cc0f38468e8f246213aa533e23": {
      "model_module": "@jupyter-widgets/controls",
      "model_module_version": "1.5.0",
      "model_name": "ProgressStyleModel",
      "state": {
       "description_width": ""
      }
     },
     "c0ff1e98443c4118bb350cb666bf434b": {
      "model_module": "@jupyter-widgets/controls",
      "model_module_version": "1.5.0",
      "model_name": "FloatProgressModel",
      "state": {
       "layout": "IPY_MODEL_e6b60747056a41ebb912efe3efa88da0",
       "max": 16,
       "style": "IPY_MODEL_3ff7c412ed8240f99b03267896a0a051",
       "value": 16
      }
     },
     "c14e5b6fa88d480e8d08e9d7efa84a30": {
      "model_module": "@jupyter-widgets/controls",
      "model_module_version": "1.5.0",
      "model_name": "FloatProgressModel",
      "state": {
       "layout": "IPY_MODEL_c5866be498f24478b39c8971ad979586",
       "max": 16,
       "style": "IPY_MODEL_89df7488354a4ae2b1d8d40f579266d4",
       "value": 16
      }
     },
     "c1d2d70046eb44a7bc8643d2797fcd05": {
      "model_module": "@jupyter-widgets/controls",
      "model_module_version": "1.5.0",
      "model_name": "DescriptionStyleModel",
      "state": {
       "description_width": ""
      }
     },
     "c273009a2788433893f96d86cfedc2d3": {
      "model_module": "@jupyter-widgets/controls",
      "model_module_version": "1.5.0",
      "model_name": "HTMLModel",
      "state": {
       "layout": "IPY_MODEL_97d1cbaf42bb427d93b9e59cf2ec3eb8",
       "style": "IPY_MODEL_5fc2192ad98e4c978fbf12df9746e4f5",
       "value": "Validation DataLoader 0: 100%"
      }
     },
     "c2d93666e0f246b8ae84afb69bc43d1b": {
      "model_module": "@jupyter-widgets/base",
      "model_module_version": "1.2.0",
      "model_name": "LayoutModel",
      "state": {}
     },
     "c314bbff82b947eab888fe00c51d004a": {
      "model_module": "@jupyter-widgets/base",
      "model_module_version": "1.2.0",
      "model_name": "LayoutModel",
      "state": {
       "display": "inline-flex",
       "flex_flow": "row wrap",
       "width": "100%"
      }
     },
     "c32a195b8d88409e92d3ca829f12bfe8": {
      "model_module": "@jupyter-widgets/controls",
      "model_module_version": "1.5.0",
      "model_name": "FloatProgressModel",
      "state": {
       "layout": "IPY_MODEL_e1a5072bef9f4b5d829c90e090c978c6",
       "max": 16,
       "style": "IPY_MODEL_bfb6f0cc0f38468e8f246213aa533e23",
       "value": 16
      }
     },
     "c577345a295e4f07b6826584d2137e4d": {
      "model_module": "@jupyter-widgets/controls",
      "model_module_version": "1.5.0",
      "model_name": "DescriptionStyleModel",
      "state": {
       "description_width": ""
      }
     },
     "c5866be498f24478b39c8971ad979586": {
      "model_module": "@jupyter-widgets/base",
      "model_module_version": "1.2.0",
      "model_name": "LayoutModel",
      "state": {
       "flex": "2"
      }
     },
     "c6ed4f35a7804d5f9b481081f6ea25a1": {
      "model_module": "@jupyter-widgets/controls",
      "model_module_version": "1.5.0",
      "model_name": "DescriptionStyleModel",
      "state": {
       "description_width": ""
      }
     },
     "c71f4e2a92244d988c30fffc1de33104": {
      "model_module": "@jupyter-widgets/controls",
      "model_module_version": "1.5.0",
      "model_name": "ProgressStyleModel",
      "state": {
       "description_width": ""
      }
     },
     "c7bb9058942f4db58b724bf9d1931a70": {
      "model_module": "@jupyter-widgets/base",
      "model_module_version": "1.2.0",
      "model_name": "LayoutModel",
      "state": {
       "flex": "2"
      }
     },
     "c8eedb8898c6410d9956b7e525430927": {
      "model_module": "@jupyter-widgets/controls",
      "model_module_version": "1.5.0",
      "model_name": "FloatProgressModel",
      "state": {
       "layout": "IPY_MODEL_7bff6a92c3a5463e8db77a61a46339e0",
       "max": 16,
       "style": "IPY_MODEL_c71f4e2a92244d988c30fffc1de33104",
       "value": 16
      }
     },
     "c8f1b810078c478eb970982b45906a34": {
      "model_module": "@jupyter-widgets/controls",
      "model_module_version": "1.5.0",
      "model_name": "HTMLModel",
      "state": {
       "layout": "IPY_MODEL_feeb6fc0b86444019f8fafff31311cd3",
       "style": "IPY_MODEL_a9aeb6f8c79848b993a3ca75364ba5e0",
       "value": "Validation DataLoader 0: 100%"
      }
     },
     "c980a907df7d44f3832dfa65d55a39a9": {
      "model_module": "@jupyter-widgets/controls",
      "model_module_version": "1.5.0",
      "model_name": "ProgressStyleModel",
      "state": {
       "description_width": ""
      }
     },
     "c9b52e4f8c9d4c81931ee954839c0ca9": {
      "model_module": "@jupyter-widgets/controls",
      "model_module_version": "1.5.0",
      "model_name": "ProgressStyleModel",
      "state": {
       "description_width": ""
      }
     },
     "c9d3258370ec4b3399a0f9e152828ef0": {
      "model_module": "@jupyter-widgets/base",
      "model_module_version": "1.2.0",
      "model_name": "LayoutModel",
      "state": {}
     },
     "ca2eab04c554450983e81cfa74e192f1": {
      "model_module": "@jupyter-widgets/base",
      "model_module_version": "1.2.0",
      "model_name": "LayoutModel",
      "state": {}
     },
     "ca56bdcf48cc471494a104a750871771": {
      "model_module": "@jupyter-widgets/controls",
      "model_module_version": "1.5.0",
      "model_name": "FloatProgressModel",
      "state": {
       "layout": "IPY_MODEL_05d9f73cd3234f46b27d668fd2bd7fb2",
       "max": 16,
       "style": "IPY_MODEL_c9b52e4f8c9d4c81931ee954839c0ca9",
       "value": 16
      }
     },
     "cad684a339614bec977805f2177f52f6": {
      "model_module": "@jupyter-widgets/controls",
      "model_module_version": "1.5.0",
      "model_name": "HTMLModel",
      "state": {
       "layout": "IPY_MODEL_dfd7d66a080b436e8cbefa257b776b38",
       "style": "IPY_MODEL_52086349ef31496d95b356a202b53fc8",
       "value": "Predicting: "
      }
     },
     "caea560773844fa1980ffc9e86476517": {
      "model_module": "@jupyter-widgets/controls",
      "model_module_version": "1.5.0",
      "model_name": "HTMLModel",
      "state": {
       "layout": "IPY_MODEL_8c432d77b5ee456bb5394954ea71d114",
       "style": "IPY_MODEL_00cd3aaf45a5484dbe7c244493f164e4",
       "value": " 16/16 [00:01&lt;00:00,  7.60it/s]"
      }
     },
     "cbf0ffa9043a4e5db05fb0c74d902ebd": {
      "model_module": "@jupyter-widgets/base",
      "model_module_version": "1.2.0",
      "model_name": "LayoutModel",
      "state": {}
     },
     "cc13b6c67c7845719d363c3ef8a418d3": {
      "model_module": "@jupyter-widgets/controls",
      "model_module_version": "1.5.0",
      "model_name": "HTMLModel",
      "state": {
       "layout": "IPY_MODEL_ab3cd745e2174239b69ff7deb814d7cf",
       "style": "IPY_MODEL_0548ecbc36d34afa97afa1924b9ac06d",
       "value": "Sanity Checking DataLoader 0: 100%"
      }
     },
     "cc2853f318124c6ea134672586618388": {
      "model_module": "@jupyter-widgets/controls",
      "model_module_version": "1.5.0",
      "model_name": "HBoxModel",
      "state": {
       "children": [
        "IPY_MODEL_7a34df2a375d42c1b34141f098c2f210",
        "IPY_MODEL_ec201823ff3349f0863d399f2e1e5d5e",
        "IPY_MODEL_9577e2bfada94b60ad32f9791cad7aaa"
       ],
       "layout": "IPY_MODEL_0ac445e9a799428c9e8b3863fc217998"
      }
     },
     "d14d6b608ab844b09beb6e73a7d78bda": {
      "model_module": "@jupyter-widgets/base",
      "model_module_version": "1.2.0",
      "model_name": "LayoutModel",
      "state": {
       "flex": "2"
      }
     },
     "d17bb744a31b43f186c2628b1c978710": {
      "model_module": "@jupyter-widgets/controls",
      "model_module_version": "1.5.0",
      "model_name": "DescriptionStyleModel",
      "state": {
       "description_width": ""
      }
     },
     "d1f53a91d01042e09b145f14616f6479": {
      "model_module": "@jupyter-widgets/base",
      "model_module_version": "1.2.0",
      "model_name": "LayoutModel",
      "state": {}
     },
     "d290f59006944582843cae636ffedc3c": {
      "model_module": "@jupyter-widgets/base",
      "model_module_version": "1.2.0",
      "model_name": "LayoutModel",
      "state": {}
     },
     "d2d2f3d1e1b5435ba46eb57286decde2": {
      "model_module": "@jupyter-widgets/base",
      "model_module_version": "1.2.0",
      "model_name": "LayoutModel",
      "state": {
       "display": "inline-flex",
       "flex_flow": "row wrap",
       "width": "100%"
      }
     },
     "d331d7fa3446442c828ea00f7fe99d0a": {
      "model_module": "@jupyter-widgets/base",
      "model_module_version": "1.2.0",
      "model_name": "LayoutModel",
      "state": {
       "display": "inline-flex",
       "flex_flow": "row wrap",
       "width": "100%"
      }
     },
     "d34b48465a1047f9b7ace82dd9c8eb0a": {
      "model_module": "@jupyter-widgets/controls",
      "model_module_version": "1.5.0",
      "model_name": "DescriptionStyleModel",
      "state": {
       "description_width": ""
      }
     },
     "d61394bf06d5475aaef493f1719f644c": {
      "model_module": "@jupyter-widgets/base",
      "model_module_version": "1.2.0",
      "model_name": "LayoutModel",
      "state": {
       "display": "inline-flex",
       "flex_flow": "row wrap",
       "width": "100%"
      }
     },
     "d7118346db2a4c18b3bb0f07bd3de83c": {
      "model_module": "@jupyter-widgets/controls",
      "model_module_version": "1.5.0",
      "model_name": "FloatProgressModel",
      "state": {
       "layout": "IPY_MODEL_44773ddbb0154748abb021a5dd2cc048",
       "max": 16,
       "style": "IPY_MODEL_7d7ef852c7a342e285d0c73af3c38f86",
       "value": 16
      }
     },
     "d739a93e9a79483ab611178767a3c7c0": {
      "model_module": "@jupyter-widgets/controls",
      "model_module_version": "1.5.0",
      "model_name": "DescriptionStyleModel",
      "state": {
       "description_width": ""
      }
     },
     "d77060c50e394ab7a8f635d77130ed46": {
      "model_module": "@jupyter-widgets/controls",
      "model_module_version": "1.5.0",
      "model_name": "ProgressStyleModel",
      "state": {
       "description_width": ""
      }
     },
     "d84fff8a53b043fc8d9350752180f35b": {
      "model_module": "@jupyter-widgets/controls",
      "model_module_version": "1.5.0",
      "model_name": "ProgressStyleModel",
      "state": {
       "description_width": ""
      }
     },
     "d8e9042183ec469c857e0dfa77864972": {
      "model_module": "@jupyter-widgets/controls",
      "model_module_version": "1.5.0",
      "model_name": "HTMLModel",
      "state": {
       "layout": "IPY_MODEL_edadc9be9b314bc08709f7aa0ccfd1a9",
       "style": "IPY_MODEL_3b93a14c5a4742eea0b36c671c29484f",
       "value": " 16/16 [00:01&lt;00:00,  8.87it/s]"
      }
     },
     "d9392e60343d4b5abde7c15ac8cc25f2": {
      "model_module": "@jupyter-widgets/controls",
      "model_module_version": "1.5.0",
      "model_name": "FloatProgressModel",
      "state": {
       "bar_style": "success",
       "layout": "IPY_MODEL_0b4013374ba145fcb5d431dda72d7911",
       "max": 33,
       "style": "IPY_MODEL_0faea87b38c14853b3984c9ca5b2ba7f",
       "value": 33
      }
     },
     "dfd7d66a080b436e8cbefa257b776b38": {
      "model_module": "@jupyter-widgets/base",
      "model_module_version": "1.2.0",
      "model_name": "LayoutModel",
      "state": {}
     },
     "e126caab348d48dcbf9d50bd2e6d6f85": {
      "model_module": "@jupyter-widgets/controls",
      "model_module_version": "1.5.0",
      "model_name": "HTMLModel",
      "state": {
       "layout": "IPY_MODEL_6a88b56c02ca48dba711cf23abb9c6ba",
       "style": "IPY_MODEL_9e59dff55d9e4a6ea6e849cf362bd675",
       "value": " 16/16 [00:01&lt;00:00,  8.18it/s]"
      }
     },
     "e1a5072bef9f4b5d829c90e090c978c6": {
      "model_module": "@jupyter-widgets/base",
      "model_module_version": "1.2.0",
      "model_name": "LayoutModel",
      "state": {
       "flex": "2"
      }
     },
     "e2df9395aab64217808b878ee53b7fb7": {
      "model_module": "@jupyter-widgets/controls",
      "model_module_version": "1.5.0",
      "model_name": "HTMLModel",
      "state": {
       "layout": "IPY_MODEL_5529cb3e39074d1f8fdcf4d3ce7fcd83",
       "style": "IPY_MODEL_ecdfd16768704f0da609cb76e65f19d7",
       "value": "Validation DataLoader 0: 100%"
      }
     },
     "e4f8cf150ed14dc8b71ca2d040ca1f7f": {
      "model_module": "@jupyter-widgets/controls",
      "model_module_version": "1.5.0",
      "model_name": "FloatProgressModel",
      "state": {
       "bar_style": "info",
       "layout": "IPY_MODEL_6748ad010a4846388ebafc057036c2e9",
       "max": 1,
       "style": "IPY_MODEL_501dad308a234ee0b0a48283dae4ff09",
       "value": 1
      }
     },
     "e6b60747056a41ebb912efe3efa88da0": {
      "model_module": "@jupyter-widgets/base",
      "model_module_version": "1.2.0",
      "model_name": "LayoutModel",
      "state": {
       "flex": "2"
      }
     },
     "e70283fafb8342ffb0ff12078524f976": {
      "model_module": "@jupyter-widgets/controls",
      "model_module_version": "1.5.0",
      "model_name": "HTMLModel",
      "state": {
       "layout": "IPY_MODEL_159f95b70a7e4aeebf3d89fee4856a4e",
       "style": "IPY_MODEL_fb16209e73c944d5877d89fe0a61d4d2",
       "value": "Validation DataLoader 0: 100%"
      }
     },
     "e95bd81013144a9b9b43d011e49bcaf0": {
      "model_module": "@jupyter-widgets/base",
      "model_module_version": "1.2.0",
      "model_name": "LayoutModel",
      "state": {
       "display": "inline-flex",
       "flex_flow": "row wrap",
       "width": "100%"
      }
     },
     "e97850a31cbc4399bcd5381b32b7c817": {
      "model_module": "@jupyter-widgets/base",
      "model_module_version": "1.2.0",
      "model_name": "LayoutModel",
      "state": {}
     },
     "ea01204efce14c6e93ac07c66f6ff0c9": {
      "model_module": "@jupyter-widgets/controls",
      "model_module_version": "1.5.0",
      "model_name": "DescriptionStyleModel",
      "state": {
       "description_width": ""
      }
     },
     "ea47ee782f59484dadab0a0ff79d61f7": {
      "model_module": "@jupyter-widgets/base",
      "model_module_version": "1.2.0",
      "model_name": "LayoutModel",
      "state": {
       "flex": "2"
      }
     },
     "ec201823ff3349f0863d399f2e1e5d5e": {
      "model_module": "@jupyter-widgets/controls",
      "model_module_version": "1.5.0",
      "model_name": "FloatProgressModel",
      "state": {
       "layout": "IPY_MODEL_253e5ff0f885478683f601d54b5a223a",
       "max": 77,
       "style": "IPY_MODEL_f8bee7e9349f4bc8bb2714109346d930",
       "value": 72
      }
     },
     "ec24d42088df4935a0936edd3d8fe25d": {
      "model_module": "@jupyter-widgets/controls",
      "model_module_version": "1.5.0",
      "model_name": "DescriptionStyleModel",
      "state": {
       "description_width": ""
      }
     },
     "ec3ed355c4ef4847b352ea3e224e4642": {
      "model_module": "@jupyter-widgets/controls",
      "model_module_version": "1.5.0",
      "model_name": "DescriptionStyleModel",
      "state": {
       "description_width": ""
      }
     },
     "ecdfd16768704f0da609cb76e65f19d7": {
      "model_module": "@jupyter-widgets/controls",
      "model_module_version": "1.5.0",
      "model_name": "DescriptionStyleModel",
      "state": {
       "description_width": ""
      }
     },
     "ed6d862f06f7481b8dc611c094eb64f9": {
      "model_module": "@jupyter-widgets/base",
      "model_module_version": "1.2.0",
      "model_name": "LayoutModel",
      "state": {}
     },
     "edadc9be9b314bc08709f7aa0ccfd1a9": {
      "model_module": "@jupyter-widgets/base",
      "model_module_version": "1.2.0",
      "model_name": "LayoutModel",
      "state": {}
     },
     "edf10948bc5546f2b6336239b27c91f7": {
      "model_module": "@jupyter-widgets/base",
      "model_module_version": "1.2.0",
      "model_name": "LayoutModel",
      "state": {
       "flex": "2"
      }
     },
     "edf91d4abf444572b58c8f918cdeff69": {
      "model_module": "@jupyter-widgets/controls",
      "model_module_version": "1.5.0",
      "model_name": "FloatProgressModel",
      "state": {
       "bar_style": "info",
       "layout": "IPY_MODEL_2d40de10e5d447dbbd76c6ef2d3b3d46",
       "max": 1,
       "style": "IPY_MODEL_7df414bef97641cb90cc1ceab472dbd9",
       "value": 1
      }
     },
     "ef111ffb99534fd9a575d73ced2f4a0b": {
      "model_module": "@jupyter-widgets/controls",
      "model_module_version": "1.5.0",
      "model_name": "FloatProgressModel",
      "state": {
       "layout": "IPY_MODEL_54aa13bbb88f45f4ae7712665ad31b6f",
       "max": 16,
       "style": "IPY_MODEL_6b6b286f9de94c019d2bfe53f3e278ee",
       "value": 16
      }
     },
     "ef29f52136da4fd7a48220c1facf6a58": {
      "model_module": "@jupyter-widgets/base",
      "model_module_version": "1.2.0",
      "model_name": "LayoutModel",
      "state": {}
     },
     "f11260b0173347f5b737e0002a646ac1": {
      "model_module": "@jupyter-widgets/base",
      "model_module_version": "1.2.0",
      "model_name": "LayoutModel",
      "state": {
       "display": "inline-flex",
       "flex_flow": "row wrap",
       "width": "100%"
      }
     },
     "f35a3fabe5604fff8bb6845d81f3300e": {
      "model_module": "@jupyter-widgets/base",
      "model_module_version": "1.2.0",
      "model_name": "LayoutModel",
      "state": {
       "display": "inline-flex",
       "flex_flow": "row wrap",
       "width": "100%"
      }
     },
     "f390b2666d50471ea35fb331982ae306": {
      "model_module": "@jupyter-widgets/base",
      "model_module_version": "1.2.0",
      "model_name": "LayoutModel",
      "state": {
       "flex": "2"
      }
     },
     "f47c1aaa1e8143d5a471b469289acf26": {
      "model_module": "@jupyter-widgets/base",
      "model_module_version": "1.2.0",
      "model_name": "LayoutModel",
      "state": {}
     },
     "f51ac6ae3e634a2784108eaf1a7a32e0": {
      "model_module": "@jupyter-widgets/controls",
      "model_module_version": "1.5.0",
      "model_name": "ProgressStyleModel",
      "state": {
       "description_width": ""
      }
     },
     "f5d91f07b9e3463fbbee99d658143d27": {
      "model_module": "@jupyter-widgets/base",
      "model_module_version": "1.2.0",
      "model_name": "LayoutModel",
      "state": {
       "display": "inline-flex",
       "flex_flow": "row wrap",
       "width": "100%"
      }
     },
     "f5f254bcf91d4b73a2b959b475f09317": {
      "model_module": "@jupyter-widgets/controls",
      "model_module_version": "1.5.0",
      "model_name": "HTMLModel",
      "state": {
       "layout": "IPY_MODEL_534174d8e70c4f68860777a7697664a9",
       "style": "IPY_MODEL_75d78304d3b94140b38b87cfcc0caae7",
       "value": "Validation DataLoader 0: 100%"
      }
     },
     "f620bfc9625640d790f3b00ee813c853": {
      "model_module": "@jupyter-widgets/base",
      "model_module_version": "1.2.0",
      "model_name": "LayoutModel",
      "state": {}
     },
     "f63b36052b5d4492ac6942aa6c1115ae": {
      "model_module": "@jupyter-widgets/base",
      "model_module_version": "1.2.0",
      "model_name": "LayoutModel",
      "state": {}
     },
     "f822303848ee41ebb67205e07d9a8928": {
      "model_module": "@jupyter-widgets/controls",
      "model_module_version": "1.5.0",
      "model_name": "ProgressStyleModel",
      "state": {
       "description_width": ""
      }
     },
     "f860953572e94f2ca95b9b03ef01bc71": {
      "model_module": "@jupyter-widgets/controls",
      "model_module_version": "1.5.0",
      "model_name": "DescriptionStyleModel",
      "state": {
       "description_width": ""
      }
     },
     "f8bee7e9349f4bc8bb2714109346d930": {
      "model_module": "@jupyter-widgets/controls",
      "model_module_version": "1.5.0",
      "model_name": "ProgressStyleModel",
      "state": {
       "description_width": ""
      }
     },
     "fb16209e73c944d5877d89fe0a61d4d2": {
      "model_module": "@jupyter-widgets/controls",
      "model_module_version": "1.5.0",
      "model_name": "DescriptionStyleModel",
      "state": {
       "description_width": ""
      }
     },
     "fb4894a88617465799c35dfcbcbe2e9a": {
      "model_module": "@jupyter-widgets/controls",
      "model_module_version": "1.5.0",
      "model_name": "HTMLModel",
      "state": {
       "layout": "IPY_MODEL_5934455802fb43b6be21433248cde9f0",
       "style": "IPY_MODEL_255476543ddb4637b1f9e6f377d3a84e",
       "value": " 11/16 [00:01&lt;00:00,  7.56it/s]"
      }
     },
     "fbad09a594304f039bb14f3a4269cc4a": {
      "model_module": "@jupyter-widgets/base",
      "model_module_version": "1.2.0",
      "model_name": "LayoutModel",
      "state": {
       "flex": "2"
      }
     },
     "fbb3e0b9f8bd4a1ba189073f19c93f23": {
      "model_module": "@jupyter-widgets/base",
      "model_module_version": "1.2.0",
      "model_name": "LayoutModel",
      "state": {}
     },
     "fd45be8c781e48af8e8b54a2720917d9": {
      "model_module": "@jupyter-widgets/controls",
      "model_module_version": "1.5.0",
      "model_name": "HTMLModel",
      "state": {
       "layout": "IPY_MODEL_fbb3e0b9f8bd4a1ba189073f19c93f23",
       "style": "IPY_MODEL_58d8da460aff40d3bb910e5ad1dcac34",
       "value": " 16/16 [00:01&lt;00:00,  7.58it/s]"
      }
     },
     "fda2066953f74f28b1af53cb77071e38": {
      "model_module": "@jupyter-widgets/base",
      "model_module_version": "1.2.0",
      "model_name": "LayoutModel",
      "state": {}
     },
     "fda2e1df642b4f58a4f71811ea88a704": {
      "model_module": "@jupyter-widgets/controls",
      "model_module_version": "1.5.0",
      "model_name": "DescriptionStyleModel",
      "state": {
       "description_width": ""
      }
     },
     "fe4f4b72a89b439e9adc874806fe0ef7": {
      "model_module": "@jupyter-widgets/controls",
      "model_module_version": "1.5.0",
      "model_name": "HTMLModel",
      "state": {
       "layout": "IPY_MODEL_82283e14de9447a9a8da30e04d64af52",
       "style": "IPY_MODEL_976d0dc86102456a82ebf2e42ea8033e",
       "value": "Validation DataLoader 0: 100%"
      }
     },
     "fe8bdb4d124e470ea72e35e950e7f0a5": {
      "model_module": "@jupyter-widgets/controls",
      "model_module_version": "1.5.0",
      "model_name": "DescriptionStyleModel",
      "state": {
       "description_width": ""
      }
     },
     "fe968a774e5f4bf09b0b56dd266b9b83": {
      "model_module": "@jupyter-widgets/base",
      "model_module_version": "1.2.0",
      "model_name": "LayoutModel",
      "state": {}
     },
     "feeb6fc0b86444019f8fafff31311cd3": {
      "model_module": "@jupyter-widgets/base",
      "model_module_version": "1.2.0",
      "model_name": "LayoutModel",
      "state": {}
     }
    },
    "version_major": 2,
    "version_minor": 0
   }
  }
 },
 "nbformat": 4,
 "nbformat_minor": 5
}
