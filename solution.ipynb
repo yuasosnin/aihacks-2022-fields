{
 "cells": [
  {
   "cell_type": "code",
   "execution_count": 1,
   "id": "858191ed-c61f-4dc7-8393-1b7bfeb7a9f4",
   "metadata": {},
   "outputs": [],
   "source": [
    "%load_ext autoreload\n",
    "%autoreload 2"
   ]
  },
  {
   "cell_type": "code",
   "execution_count": 2,
   "id": "58d028dc-e7aa-4518-b85b-5d7bebc2c4e1",
   "metadata": {},
   "outputs": [],
   "source": [
    "import os, datetime\n",
    "from tqdm.notebook import tqdm\n",
    "\n",
    "import numpy as np\n",
    "import pandas as pd\n",
    "import geopandas as gpd\n",
    "import geojson\n",
    "import shapely\n",
    "import shapely.geometry"
   ]
  },
  {
   "cell_type": "code",
   "execution_count": 3,
   "id": "e33c8d81-842a-44fd-ba57-38ddb3a53fd4",
   "metadata": {},
   "outputs": [],
   "source": [
    "import matplotlib.pyplot as plt\n",
    "import contextily"
   ]
  },
  {
   "cell_type": "code",
   "execution_count": 4,
   "id": "01eadf82-118f-4952-be17-356dfb5312b8",
   "metadata": {},
   "outputs": [],
   "source": [
    "from src import *"
   ]
  },
  {
   "cell_type": "code",
   "execution_count": 5,
   "id": "62bc6036-ad3d-4f28-be59-f9b90b307d16",
   "metadata": {},
   "outputs": [],
   "source": [
    "import warnings\n",
    "warnings.filterwarnings('ignore')"
   ]
  },
  {
   "cell_type": "code",
   "execution_count": 6,
   "id": "1c5d6607-d4dd-4515-8457-5b3438e5995e",
   "metadata": {},
   "outputs": [],
   "source": [
    "data = read_data('data/train_dataset_train_2.csv')\n",
    "data_test = read_data('data/test_dataset_test_2.csv')\n",
    "data_ts, data_id = process_data(data)\n",
    "data_ts_test, data_id_test = process_data(data_test)"
   ]
  },
  {
   "cell_type": "code",
   "execution_count": 7,
   "id": "6e2370e4-8baa-4c83-9d70-ef09d1754722",
   "metadata": {},
   "outputs": [],
   "source": [
    "def add_diff(data_ts):\n",
    "    diff = data_ts.T.diff()[1:].T\n",
    "    diff.columns = [f'{x}_' for x in diff.columns]\n",
    "    return pd.concat((data_ts, diff), axis=1)"
   ]
  },
  {
   "cell_type": "code",
   "execution_count": 8,
   "id": "48cc4e62-45d5-40e1-9742-86ad3b33b546",
   "metadata": {},
   "outputs": [],
   "source": [
    "# data_ts = add_diff(data_ts)\n",
    "# data_ts_test = add_diff(data_ts_test)"
   ]
  },
  {
   "cell_type": "code",
   "execution_count": 9,
   "id": "17dec04e-2d6d-45c6-90e5-52f6ae1d0890",
   "metadata": {},
   "outputs": [],
   "source": [
    "# dates = pd.date_range(start=None, end='2021/08/27', periods=135)\n",
    "# data_ts_modis = pd.DataFrame(np.load('data_modis.npz')['arr_0'].squeeze(-1), columns=dates)\n",
    "# data_ts_modis_test = pd.DataFrame(np.load('data_modis_test.npz')['arr_0'].squeeze(-1), columns=dates)"
   ]
  },
  {
   "cell_type": "code",
   "execution_count": 10,
   "id": "5b0ce5b3-6709-4e7f-aec7-76b15471cd53",
   "metadata": {},
   "outputs": [],
   "source": [
    "data_ts_modis = pd.read_csv('data/train_dataset_modis.csv').fillna(0.0)\n",
    "data_ts_modis_test = pd.read_csv('data/test_dataset_modis.csv').fillna(0.0)\n",
    "data_ts_modis_2020 = pd.read_csv('data/train_dataset_modis_2020.csv').fillna(0.0)\n",
    "data_ts_modis_test_2020 = pd.read_csv('data/test_dataset_modis_2020.csv').fillna(0.0)"
   ]
  },
  {
   "cell_type": "code",
   "execution_count": 11,
   "id": "f9c28ac2-f94b-418d-8d70-3a60540058df",
   "metadata": {},
   "outputs": [],
   "source": [
    "# data_ts_modis = add_diff(data_ts_modis)\n",
    "# data_ts_modis_test = add_diff(data_ts_modis_test)"
   ]
  },
  {
   "cell_type": "code",
   "execution_count": 12,
   "id": "85adb038-104a-4838-b98d-fbc8dc2ac18c",
   "metadata": {},
   "outputs": [],
   "source": [
    "data_ts_landsat = pd.read_csv('data/train_dataset_landsat.csv').fillna(0)\n",
    "data_ts_landsat_test = pd.read_csv('data/test_dataset_landsat.csv').fillna(0)\n",
    "data_ts_landsat_2020 = pd.read_csv('data/train_dataset_landsat_2020.csv').fillna(0)\n",
    "data_ts_landsat_test_2020 = pd.read_csv('data/test_dataset_landsat_2020.csv').fillna(0)"
   ]
  },
  {
   "cell_type": "code",
   "execution_count": 13,
   "id": "0988671d-063a-40b8-bdb4-fc1c3dcd7da5",
   "metadata": {},
   "outputs": [],
   "source": [
    "# data_ts_landsat = add_diff(data_ts_landsat)\n",
    "# data_ts_landsat_test = add_diff(data_ts_landsat_test)"
   ]
  },
  {
   "cell_type": "code",
   "execution_count": 14,
   "id": "a461cfa9-3161-4dc0-8752-e2b3d5db6eec",
   "metadata": {},
   "outputs": [],
   "source": [
    "data_ts_sentinel = pd.read_csv('data/train_dataset_sentinel.csv').fillna(0)\n",
    "data_ts_sentinel_test = pd.read_csv('data/test_dataset_sentinel.csv').fillna(0)"
   ]
  },
  {
   "cell_type": "code",
   "execution_count": 15,
   "id": "7d0372ad-7a3a-48b1-9f3d-b01c0fc32bc1",
   "metadata": {},
   "outputs": [],
   "source": [
    "from sklearn.model_selection import train_test_split\n",
    "from sklearn.metrics import recall_score, precision_score, accuracy_score"
   ]
  },
  {
   "cell_type": "code",
   "execution_count": 16,
   "id": "92e8275c-531f-4fbb-9849-d0d0c58854a6",
   "metadata": {},
   "outputs": [],
   "source": [
    "def get_dataset(data_ts, data_id, data_test_ts, data_test_id, scale=True):\n",
    "    data_ts_train, data_ts_val, data_id_train, data_id_val = train_test_split(data_ts, data_id, test_size=0.2, random_state=1)\n",
    "    # data_train = pd.concat((data_ts_train, data_id_train[['area', 'lat', 'lon']]), axis=1)\n",
    "    # data_val = pd.concat((data_ts_val, data_id_val[['area', 'lat', 'lon']]), axis=1)\n",
    "    # data_test = pd.concat((data_ts_test, data_id_test[['area', 'lat', 'lon']]), axis=1)\n",
    "    data_train = data_ts_train\n",
    "    data_val = data_ts_val\n",
    "    data_test = data_test_ts\n",
    "    \n",
    "    if scale:\n",
    "        mean = data_train.values.mean()\n",
    "        std = data_train.values.std()\n",
    "    else:\n",
    "        mean = 0\n",
    "        std = 1\n",
    "    \n",
    "    dataset = dict()\n",
    "    dataset['full'] = {'X': (data_ts-mean)/std, 'y': data_id['crop']}\n",
    "    dataset['train'] = {'X': (data_train-mean)/std, 'y': data_id_train['crop']}\n",
    "    dataset['val'] = {'X': (data_val-mean)/std, 'y': data_id_val['crop']}\n",
    "    dataset['test'] = {'X': (data_test-mean)/std}\n",
    "    return dataset"
   ]
  },
  {
   "cell_type": "code",
   "execution_count": 17,
   "id": "5b399703-54b2-44cd-9881-b8ee8f04962e",
   "metadata": {},
   "outputs": [],
   "source": [
    "dataset_orig = get_dataset(data_ts, data_id, data_ts_test, data_id_test)\n",
    "\n",
    "dataset_modis = get_dataset(data_ts_modis, data_id, data_ts_modis_test, data_id_test)\n",
    "dataset_modis_2020 = get_dataset(data_ts_modis_2020, data_id, data_ts_modis_test_2020, data_id_test)\n",
    "\n",
    "dataset_landsat = get_dataset(data_ts_landsat, data_id, data_ts_landsat_test, data_id_test)\n",
    "dataset_landsat_2020 = get_dataset(data_ts_landsat_2020, data_id, data_ts_landsat_test_2020, data_id_test)\n",
    "\n",
    "dataset_sentinel = get_dataset(data_ts_sentinel, data_id, data_ts_sentinel_test, data_id_test)"
   ]
  },
  {
   "cell_type": "markdown",
   "id": "b658483d-3dbd-4b0c-acd4-c955ef0d6ed0",
   "metadata": {
    "jp-MarkdownHeadingCollapsed": true,
    "tags": []
   },
   "source": [
    "# sklearn"
   ]
  },
  {
   "cell_type": "code",
   "execution_count": 245,
   "id": "f27c3642-a7be-4964-96ce-2bb8807380b4",
   "metadata": {},
   "outputs": [],
   "source": [
    "SEED = 1"
   ]
  },
  {
   "cell_type": "code",
   "execution_count": 246,
   "id": "33807179-ed57-46d1-9a4f-eff8fd4868f0",
   "metadata": {},
   "outputs": [],
   "source": [
    "from sklearn.ensemble import RandomForestClassifier, GradientBoostingClassifier"
   ]
  },
  {
   "cell_type": "code",
   "execution_count": 247,
   "id": "dcef64fb-aa0f-455d-bc41-79e55833a471",
   "metadata": {},
   "outputs": [
    {
     "data": {
      "text/plain": [
       "0.9603060360196845"
      ]
     },
     "execution_count": 247,
     "metadata": {},
     "output_type": "execute_result"
    }
   ],
   "source": [
    "rf = RandomForestClassifier(n_estimators=200, random_state=SEED, verbose=False)\n",
    "rf.fit(**dataset_orig['train'])\n",
    "preds = rf.predict(dataset_orig['val']['X'])\n",
    "recall_score(preds, dataset_orig['val']['y'], average='macro')"
   ]
  },
  {
   "cell_type": "code",
   "execution_count": 248,
   "id": "fffd98aa-7358-42b0-b434-34067a880d44",
   "metadata": {},
   "outputs": [
    {
     "data": {
      "text/plain": [
       "0.5986918472170635"
      ]
     },
     "execution_count": 248,
     "metadata": {},
     "output_type": "execute_result"
    }
   ],
   "source": [
    "rf_ = RandomForestClassifier(\n",
    "    n_estimators=200, random_state=SEED, verbose=False,\n",
    "    min_samples_leaf=1)\n",
    "rf_.fit(**dataset_modis['train'])\n",
    "preds = rf_.predict(dataset_modis['val']['X'])\n",
    "recall_score(preds, dataset_modis['val']['y'], average='macro')"
   ]
  },
  {
   "cell_type": "code",
   "execution_count": 249,
   "id": "8eb5fcc3-339c-48b7-a91c-3de4edb85a16",
   "metadata": {},
   "outputs": [
    {
     "data": {
      "text/plain": [
       "0.6953205149240029"
      ]
     },
     "execution_count": 249,
     "metadata": {},
     "output_type": "execute_result"
    }
   ],
   "source": [
    "rf_ls = RandomForestClassifier(\n",
    "    n_estimators=200, random_state=SEED, verbose=False,\n",
    "    min_samples_leaf=1)\n",
    "rf_ls.fit(**dataset_landsat['train'])\n",
    "preds = rf_ls.predict(dataset_landsat['val']['X'])\n",
    "recall_score(preds, dataset_landsat['val']['y'], average='macro')"
   ]
  },
  {
   "cell_type": "code",
   "execution_count": 250,
   "id": "cafe71f6-ebd1-44aa-8c70-038eaa2101eb",
   "metadata": {},
   "outputs": [],
   "source": [
    "preds = (\n",
    "    0.8*rf.predict_proba(dataset_orig['val']['X']) + \n",
    "    0.1*rf_.predict_proba(dataset_modis['val']['X']) +\n",
    "    0.1*rf_ls.predict_proba(dataset_landsat['val']['X'])\n",
    ").argmax(axis=1)"
   ]
  },
  {
   "cell_type": "code",
   "execution_count": 251,
   "id": "7b5dada8-a5f5-40e3-8763-20f19d8560f2",
   "metadata": {},
   "outputs": [
    {
     "data": {
      "text/plain": [
       "0.9645251067787923"
      ]
     },
     "execution_count": 251,
     "metadata": {},
     "output_type": "execute_result"
    }
   ],
   "source": [
    "recall_score(preds, dataset_modis['val']['y'], average='macro')"
   ]
  },
  {
   "cell_type": "code",
   "execution_count": 255,
   "id": "08c1fd1a-29ee-404a-a489-e6568656c32c",
   "metadata": {},
   "outputs": [
    {
     "data": {
      "text/plain": [
       "0.9638116184726355"
      ]
     },
     "execution_count": 255,
     "metadata": {},
     "output_type": "execute_result"
    }
   ],
   "source": [
    "rf = RandomForestClassifier(\n",
    "    n_estimators=200, random_state=SEED, verbose=False,\n",
    "    min_samples_leaf=1)\n",
    "rf.fit(**dataset_concat['train'])\n",
    "preds = rf.predict(dataset_concat['val']['X'])\n",
    "recall_score(preds, dataset_concat['val']['y'], average='macro')"
   ]
  },
  {
   "cell_type": "code",
   "execution_count": 256,
   "id": "018f8a3b-50b9-442d-9794-b939769a1f2a",
   "metadata": {},
   "outputs": [
    {
     "data": {
      "text/plain": [
       "0.9633086367457507"
      ]
     },
     "execution_count": 256,
     "metadata": {},
     "output_type": "execute_result"
    }
   ],
   "source": [
    "gb = GradientBoostingClassifier(n_estimators=100)\n",
    "gb.fit(**dataset_concat['train'])\n",
    "preds = gb.predict(dataset_concat['val']['X'])\n",
    "recall_score(preds, dataset_concat['val']['y'], average='macro')"
   ]
  },
  {
   "cell_type": "code",
   "execution_count": null,
   "id": "90139bb8-f413-4379-b91c-35dc9342211d",
   "metadata": {
    "tags": []
   },
   "outputs": [],
   "source": [
    "from catboost import CatBoostClassifier\n",
    "model = CatBoostClassifier(\n",
    "    iterations=500,\n",
    "    learning_rate=1,\n",
    "    # depth=10,\n",
    "    random_seed=1,\n",
    "    verbose=False\n",
    ")\n",
    "model.fit(**dataset_concat['train'])\n",
    "preds = model.predict(dataset_concat['val']['X'])\n",
    "recall_score(preds, dataset_concat['val']['y'], average='macro')"
   ]
  },
  {
   "cell_type": "code",
   "execution_count": 186,
   "id": "5e2a551f-4503-4131-93a5-ae120465a3c2",
   "metadata": {},
   "outputs": [
    {
     "data": {
      "text/plain": [
       "0.6443026399804246"
      ]
     },
     "execution_count": 186,
     "metadata": {},
     "output_type": "execute_result"
    }
   ],
   "source": [
    "recall_score(preds, dataset_orig['val']['y'], average='macro')"
   ]
  },
  {
   "cell_type": "code",
   "execution_count": 15,
   "id": "b712468a-34d1-4681-a047-ca29bc527eef",
   "metadata": {},
   "outputs": [],
   "source": [
    "from sktime.classification.distance_based import KNeighborsTimeSeriesClassifier"
   ]
  },
  {
   "cell_type": "code",
   "execution_count": 16,
   "id": "bc75ac28-b564-4b87-a446-12cdd4fb37dc",
   "metadata": {},
   "outputs": [
    {
     "data": {
      "text/plain": [
       "0.771540088080925"
      ]
     },
     "execution_count": 16,
     "metadata": {},
     "output_type": "execute_result"
    }
   ],
   "source": [
    "model = KNeighborsTimeSeriesClassifier(n_neighbors=10)\n",
    "model.fit(dataset_orig['train']['X'].values, dataset_orig['train']['y'])\n",
    "preds = model.predict(dataset_orig['val']['X'].values)\n",
    "recall_score(preds, dataset_orig['val']['y'], average='macro')"
   ]
  },
  {
   "cell_type": "code",
   "execution_count": 17,
   "id": "a10c05e3-1226-4e68-95b0-af6c01e0c404",
   "metadata": {},
   "outputs": [
    {
     "data": {
      "text/plain": [
       "0.792783539714341"
      ]
     },
     "execution_count": 17,
     "metadata": {},
     "output_type": "execute_result"
    }
   ],
   "source": [
    "model = KNeighborsTimeSeriesClassifier(n_neighbors=20)\n",
    "model.fit(dataset_orig['train']['X'].values, dataset_orig['train']['y'])\n",
    "preds = model.predict(dataset_orig['val']['X'].values)\n",
    "recall_score(preds, dataset_orig['val']['y'], average='macro')"
   ]
  },
  {
   "cell_type": "code",
   "execution_count": 23,
   "id": "724711d0-8be7-41cb-8370-8ed6dac4683c",
   "metadata": {},
   "outputs": [
    {
     "data": {
      "text/plain": [
       "0.7834449463857383"
      ]
     },
     "execution_count": 23,
     "metadata": {},
     "output_type": "execute_result"
    }
   ],
   "source": [
    "model = KNeighborsTimeSeriesClassifier(n_neighbors=100)\n",
    "model.fit(dataset_orig['train']['X'].values, dataset_orig['train']['y'])\n",
    "preds = model.predict(dataset_orig['val']['X'].values)\n",
    "recall_score(preds, dataset_orig['val']['y'], average='macro')"
   ]
  },
  {
   "cell_type": "markdown",
   "id": "7d8ed949-3881-4af3-84f6-24a4082f88b7",
   "metadata": {
    "tags": []
   },
   "source": [
    "# neural"
   ]
  },
  {
   "cell_type": "code",
   "execution_count": 18,
   "id": "fc8ed51f-c40e-4a21-bed4-45f7ac03fbe2",
   "metadata": {},
   "outputs": [],
   "source": [
    "import torch\n",
    "import torch.nn as nn\n",
    "import torch.nn.functional as F\n",
    "from torch.utils.data import random_split\n",
    "import pytorch_lightning as pl\n",
    "from pytorch_lightning.callbacks import LearningRateMonitor, ModelCheckpoint\n",
    "from pytorch_lightning.loggers import NeptuneLogger\n",
    "from src.printer import PrintMetricsCallback"
   ]
  },
  {
   "cell_type": "code",
   "execution_count": 19,
   "id": "803a48d6-2656-4893-a907-cbe7c5817af1",
   "metadata": {},
   "outputs": [],
   "source": [
    "with open('.api_key') as f:\n",
    "    API_KEY = f.read()"
   ]
  },
  {
   "cell_type": "code",
   "execution_count": 28,
   "id": "8882d040-9d36-48d1-8f69-106275a51bf4",
   "metadata": {},
   "outputs": [],
   "source": [
    "from src import StackRNN, StackTransformer, StackInception, StackDataset, StackDataModule"
   ]
  },
  {
   "cell_type": "code",
   "execution_count": 21,
   "id": "e5f3ca9f-7e11-4acc-8f02-d8cc701ee309",
   "metadata": {},
   "outputs": [],
   "source": [
    "# g = torch.Generator()\n",
    "# g.manual_seed(654)\n",
    "        \n",
    "# dataset = StackDataset(\n",
    "#     dataset_orig['full']['X'], \n",
    "#     dataset_modis['full']['X'], \n",
    "#     dataset_landsat['full']['X'], \n",
    "#     dataset_sentinel['full']['X'], \n",
    "#     y=dataset_orig['full']['y'])\n",
    "# train_dataset, val_dataset = random_split(dataset, lengths=[int(len(dataset)*0.8), int(len(dataset)*0.2)], generator=g)\n",
    "# test_dataset = StackDataset(\n",
    "#     dataset_orig['test']['X'], \n",
    "#     dataset_modis['test']['X'], \n",
    "#     dataset_landsat['test']['X'], \n",
    "#     dataset_sentinel['full']['X'])"
   ]
  },
  {
   "cell_type": "code",
   "execution_count": 22,
   "id": "e748525e-1713-4ee9-ba72-fdcb085d9918",
   "metadata": {},
   "outputs": [],
   "source": [
    "train_dataset = StackDataset(\n",
    "    dataset_orig['train']['X'], \n",
    "    dataset_modis['train']['X'], \n",
    "    # dataset_modis_2020['train']['X'], \n",
    "    dataset_landsat['train']['X'], \n",
    "    dataset_landsat_2020['train']['X'], \n",
    "    dataset_sentinel['train']['X'], \n",
    "    y=dataset_orig['train']['y'])"
   ]
  },
  {
   "cell_type": "code",
   "execution_count": 23,
   "id": "0d9b6b33-94e5-4ace-9109-969f7e492a6a",
   "metadata": {},
   "outputs": [],
   "source": [
    "val_dataset = StackDataset(\n",
    "    dataset_orig['val']['X'], \n",
    "    dataset_modis['val']['X'], \n",
    "    # dataset_modis_2020['val']['X'], \n",
    "    dataset_landsat['val']['X'],\n",
    "    dataset_landsat_2020['val']['X'],\n",
    "    dataset_sentinel['val']['X'], \n",
    "    y=dataset_orig['val']['y'])"
   ]
  },
  {
   "cell_type": "code",
   "execution_count": 24,
   "id": "96265e83-ae82-4f26-8a91-f0ffae43d071",
   "metadata": {},
   "outputs": [],
   "source": [
    "test_dataset = StackDataset(\n",
    "    dataset_orig['test']['X'], \n",
    "    dataset_modis['test']['X'], \n",
    "    # dataset_modis_2020['test']['X'], \n",
    "    dataset_landsat['test']['X'], \n",
    "    dataset_landsat_2020['test']['X'], \n",
    "    dataset_sentinel['test']['X'])"
   ]
  },
  {
   "cell_type": "code",
   "execution_count": 25,
   "id": "34162ba2-e449-496d-a9f2-f4f24ee2b5e2",
   "metadata": {},
   "outputs": [],
   "source": [
    "# leaks = pd.read_csv('.hide/leaks.csv')\n",
    "# ids = data_test.loc[data_test.id.isin(leaks.id)].index\n",
    "\n",
    "# leak_val_dataset = StackDataset(\n",
    "#     dataset_orig['test']['X'].iloc[ids], \n",
    "#     dataset_modis['test']['X'].iloc[ids], \n",
    "#     dataset_landsat['test']['X'].iloc[ids], \n",
    "#     dataset_sentinel['test']['X'].iloc[ids],\n",
    "#     y=leaks['crop_old'])"
   ]
  },
  {
   "cell_type": "markdown",
   "id": "00b49fc7-7bea-46c5-ae63-2ddd22958831",
   "metadata": {
    "jp-MarkdownHeadingCollapsed": true,
    "tags": []
   },
   "source": [
    "### RNN"
   ]
  },
  {
   "cell_type": "code",
   "execution_count": 105,
   "id": "59119c40-ad26-4174-9e4f-9472a733af81",
   "metadata": {},
   "outputs": [],
   "source": [
    "best_checkpointer = ModelCheckpoint(save_top_k=1, save_last=True, monitor='valid_loss', filename='best')\n",
    "neptune_logger = NeptuneLogger(\n",
    "    api_key=API_KEY,\n",
    "    project='fant0md/aihacks-2022-fields')\n",
    "lr_monitor = LearningRateMonitor(logging_interval ='epoch')"
   ]
  },
  {
   "cell_type": "code",
   "execution_count": 113,
   "id": "a47bf216-508b-419c-acae-e4143da2f926",
   "metadata": {},
   "outputs": [
    {
     "name": "stderr",
     "output_type": "stream",
     "text": [
      "GPU available: False, used: False\n",
      "TPU available: False, using: 0 TPU cores\n",
      "IPU available: False, using: 0 IPUs\n",
      "HPU available: False, using: 0 HPUs\n"
     ]
    }
   ],
   "source": [
    "trainer = pl.Trainer(\n",
    "    log_every_n_steps=1, \n",
    "    logger=neptune_logger, \n",
    "    callbacks=[best_checkpointer, lr_monitor], \n",
    "    max_epochs=50, \n",
    "    accelerator='auto',\n",
    "    devices=1)"
   ]
  },
  {
   "cell_type": "code",
   "execution_count": 107,
   "id": "a70dd4e3-3bf4-4eac-947b-0afd4e93560a",
   "metadata": {},
   "outputs": [],
   "source": [
    "pl_model = StackRNN(hidden_size=64, layers=2, dropout=0.5, lr=0.01, wd=0, gamma=0.9)\n",
    "pl_data = StackDataModule(train_dataset, val_dataset, test_dataset, batch_size=64)"
   ]
  },
  {
   "cell_type": "code",
   "execution_count": 108,
   "id": "6822c7ec-ddaf-4e50-a65d-ebec5f7465e5",
   "metadata": {
    "collapsed": true,
    "jupyter": {
     "outputs_hidden": true
    },
    "tags": []
   },
   "outputs": [
    {
     "name": "stderr",
     "output_type": "stream",
     "text": [
      "\n",
      "  | Name         | Type             | Params\n",
      "--------------------------------------------------\n",
      "0 | rnn1         | GRU              | 100 K \n",
      "1 | rnn2         | GRU              | 100 K \n",
      "2 | rnn3         | GRU              | 100 K \n",
      "3 | fc           | Sequential       | 67.6 K\n",
      "4 | act          | ReLU             | 0     \n",
      "5 | criterion    | CrossEntropyLoss | 0     \n",
      "6 | train_recall | Recall           | 0     \n",
      "7 | valid_recall | Recall           | 0     \n",
      "--------------------------------------------------\n",
      "368 K     Trainable params\n",
      "0         Non-trainable params\n",
      "368 K     Total params\n",
      "1.473     Total estimated model params size (MB)\n"
     ]
    },
    {
     "name": "stdout",
     "output_type": "stream",
     "text": [
      "https://app.neptune.ai/fant0md/aihacks-2022-fields/e/AIH-50\n",
      "Remember to stop your run once you’ve finished logging your metadata (https://docs.neptune.ai/api-reference/run#.stop). It will be stopped automatically only when the notebook kernel/interactive console is terminated.\n"
     ]
    },
    {
     "data": {
      "application/vnd.jupyter.widget-view+json": {
       "model_id": "",
       "version_major": 2,
       "version_minor": 0
      },
      "text/plain": [
       "Sanity Checking: 0it [00:00, ?it/s]"
      ]
     },
     "metadata": {},
     "output_type": "display_data"
    },
    {
     "data": {
      "application/vnd.jupyter.widget-view+json": {
       "model_id": "2b8c236bda264f28a2cad2586d523129",
       "version_major": 2,
       "version_minor": 0
      },
      "text/plain": [
       "Training: 0it [00:00, ?it/s]"
      ]
     },
     "metadata": {},
     "output_type": "display_data"
    },
    {
     "data": {
      "application/vnd.jupyter.widget-view+json": {
       "model_id": "",
       "version_major": 2,
       "version_minor": 0
      },
      "text/plain": [
       "Validation: 0it [00:00, ?it/s]"
      ]
     },
     "metadata": {},
     "output_type": "display_data"
    },
    {
     "data": {
      "application/vnd.jupyter.widget-view+json": {
       "model_id": "",
       "version_major": 2,
       "version_minor": 0
      },
      "text/plain": [
       "Validation: 0it [00:00, ?it/s]"
      ]
     },
     "metadata": {},
     "output_type": "display_data"
    },
    {
     "data": {
      "application/vnd.jupyter.widget-view+json": {
       "model_id": "",
       "version_major": 2,
       "version_minor": 0
      },
      "text/plain": [
       "Validation: 0it [00:00, ?it/s]"
      ]
     },
     "metadata": {},
     "output_type": "display_data"
    },
    {
     "data": {
      "application/vnd.jupyter.widget-view+json": {
       "model_id": "",
       "version_major": 2,
       "version_minor": 0
      },
      "text/plain": [
       "Validation: 0it [00:00, ?it/s]"
      ]
     },
     "metadata": {},
     "output_type": "display_data"
    },
    {
     "data": {
      "application/vnd.jupyter.widget-view+json": {
       "model_id": "",
       "version_major": 2,
       "version_minor": 0
      },
      "text/plain": [
       "Validation: 0it [00:00, ?it/s]"
      ]
     },
     "metadata": {},
     "output_type": "display_data"
    },
    {
     "data": {
      "application/vnd.jupyter.widget-view+json": {
       "model_id": "",
       "version_major": 2,
       "version_minor": 0
      },
      "text/plain": [
       "Validation: 0it [00:00, ?it/s]"
      ]
     },
     "metadata": {},
     "output_type": "display_data"
    },
    {
     "data": {
      "application/vnd.jupyter.widget-view+json": {
       "model_id": "",
       "version_major": 2,
       "version_minor": 0
      },
      "text/plain": [
       "Validation: 0it [00:00, ?it/s]"
      ]
     },
     "metadata": {},
     "output_type": "display_data"
    },
    {
     "data": {
      "application/vnd.jupyter.widget-view+json": {
       "model_id": "",
       "version_major": 2,
       "version_minor": 0
      },
      "text/plain": [
       "Validation: 0it [00:00, ?it/s]"
      ]
     },
     "metadata": {},
     "output_type": "display_data"
    },
    {
     "data": {
      "application/vnd.jupyter.widget-view+json": {
       "model_id": "",
       "version_major": 2,
       "version_minor": 0
      },
      "text/plain": [
       "Validation: 0it [00:00, ?it/s]"
      ]
     },
     "metadata": {},
     "output_type": "display_data"
    },
    {
     "data": {
      "application/vnd.jupyter.widget-view+json": {
       "model_id": "",
       "version_major": 2,
       "version_minor": 0
      },
      "text/plain": [
       "Validation: 0it [00:00, ?it/s]"
      ]
     },
     "metadata": {},
     "output_type": "display_data"
    },
    {
     "data": {
      "application/vnd.jupyter.widget-view+json": {
       "model_id": "",
       "version_major": 2,
       "version_minor": 0
      },
      "text/plain": [
       "Validation: 0it [00:00, ?it/s]"
      ]
     },
     "metadata": {},
     "output_type": "display_data"
    },
    {
     "data": {
      "application/vnd.jupyter.widget-view+json": {
       "model_id": "",
       "version_major": 2,
       "version_minor": 0
      },
      "text/plain": [
       "Validation: 0it [00:00, ?it/s]"
      ]
     },
     "metadata": {},
     "output_type": "display_data"
    },
    {
     "data": {
      "application/vnd.jupyter.widget-view+json": {
       "model_id": "",
       "version_major": 2,
       "version_minor": 0
      },
      "text/plain": [
       "Validation: 0it [00:00, ?it/s]"
      ]
     },
     "metadata": {},
     "output_type": "display_data"
    },
    {
     "data": {
      "application/vnd.jupyter.widget-view+json": {
       "model_id": "",
       "version_major": 2,
       "version_minor": 0
      },
      "text/plain": [
       "Validation: 0it [00:00, ?it/s]"
      ]
     },
     "metadata": {},
     "output_type": "display_data"
    },
    {
     "data": {
      "application/vnd.jupyter.widget-view+json": {
       "model_id": "",
       "version_major": 2,
       "version_minor": 0
      },
      "text/plain": [
       "Validation: 0it [00:00, ?it/s]"
      ]
     },
     "metadata": {},
     "output_type": "display_data"
    },
    {
     "data": {
      "application/vnd.jupyter.widget-view+json": {
       "model_id": "",
       "version_major": 2,
       "version_minor": 0
      },
      "text/plain": [
       "Validation: 0it [00:00, ?it/s]"
      ]
     },
     "metadata": {},
     "output_type": "display_data"
    },
    {
     "data": {
      "application/vnd.jupyter.widget-view+json": {
       "model_id": "",
       "version_major": 2,
       "version_minor": 0
      },
      "text/plain": [
       "Validation: 0it [00:00, ?it/s]"
      ]
     },
     "metadata": {},
     "output_type": "display_data"
    },
    {
     "data": {
      "application/vnd.jupyter.widget-view+json": {
       "model_id": "",
       "version_major": 2,
       "version_minor": 0
      },
      "text/plain": [
       "Validation: 0it [00:00, ?it/s]"
      ]
     },
     "metadata": {},
     "output_type": "display_data"
    },
    {
     "data": {
      "application/vnd.jupyter.widget-view+json": {
       "model_id": "",
       "version_major": 2,
       "version_minor": 0
      },
      "text/plain": [
       "Validation: 0it [00:00, ?it/s]"
      ]
     },
     "metadata": {},
     "output_type": "display_data"
    },
    {
     "data": {
      "application/vnd.jupyter.widget-view+json": {
       "model_id": "",
       "version_major": 2,
       "version_minor": 0
      },
      "text/plain": [
       "Validation: 0it [00:00, ?it/s]"
      ]
     },
     "metadata": {},
     "output_type": "display_data"
    },
    {
     "data": {
      "application/vnd.jupyter.widget-view+json": {
       "model_id": "",
       "version_major": 2,
       "version_minor": 0
      },
      "text/plain": [
       "Validation: 0it [00:00, ?it/s]"
      ]
     },
     "metadata": {},
     "output_type": "display_data"
    },
    {
     "data": {
      "application/vnd.jupyter.widget-view+json": {
       "model_id": "",
       "version_major": 2,
       "version_minor": 0
      },
      "text/plain": [
       "Validation: 0it [00:00, ?it/s]"
      ]
     },
     "metadata": {},
     "output_type": "display_data"
    },
    {
     "data": {
      "application/vnd.jupyter.widget-view+json": {
       "model_id": "",
       "version_major": 2,
       "version_minor": 0
      },
      "text/plain": [
       "Validation: 0it [00:00, ?it/s]"
      ]
     },
     "metadata": {},
     "output_type": "display_data"
    },
    {
     "data": {
      "application/vnd.jupyter.widget-view+json": {
       "model_id": "",
       "version_major": 2,
       "version_minor": 0
      },
      "text/plain": [
       "Validation: 0it [00:00, ?it/s]"
      ]
     },
     "metadata": {},
     "output_type": "display_data"
    },
    {
     "data": {
      "application/vnd.jupyter.widget-view+json": {
       "model_id": "",
       "version_major": 2,
       "version_minor": 0
      },
      "text/plain": [
       "Validation: 0it [00:00, ?it/s]"
      ]
     },
     "metadata": {},
     "output_type": "display_data"
    },
    {
     "data": {
      "application/vnd.jupyter.widget-view+json": {
       "model_id": "",
       "version_major": 2,
       "version_minor": 0
      },
      "text/plain": [
       "Validation: 0it [00:00, ?it/s]"
      ]
     },
     "metadata": {},
     "output_type": "display_data"
    },
    {
     "data": {
      "application/vnd.jupyter.widget-view+json": {
       "model_id": "",
       "version_major": 2,
       "version_minor": 0
      },
      "text/plain": [
       "Validation: 0it [00:00, ?it/s]"
      ]
     },
     "metadata": {},
     "output_type": "display_data"
    },
    {
     "data": {
      "application/vnd.jupyter.widget-view+json": {
       "model_id": "",
       "version_major": 2,
       "version_minor": 0
      },
      "text/plain": [
       "Validation: 0it [00:00, ?it/s]"
      ]
     },
     "metadata": {},
     "output_type": "display_data"
    }
   ],
   "source": [
    "trainer.fit(pl_model, pl_data)"
   ]
  },
  {
   "cell_type": "markdown",
   "id": "620d4e0c-af0b-4048-81a2-2de6df255e66",
   "metadata": {
    "tags": []
   },
   "source": [
    "### Transformer"
   ]
  },
  {
   "cell_type": "code",
   "execution_count": 29,
   "id": "0ddf08e7-031f-4e52-8357-5f81c2a155c6",
   "metadata": {},
   "outputs": [
    {
     "name": "stderr",
     "output_type": "stream",
     "text": [
      "GPU available: False, used: False\n",
      "TPU available: False, using: 0 TPU cores\n",
      "IPU available: False, using: 0 IPUs\n",
      "HPU available: False, using: 0 HPUs\n"
     ]
    }
   ],
   "source": [
    "best_checkpointer = ModelCheckpoint(save_top_k=1, save_last=True, monitor='valid_recall', mode='max', filename='best')\n",
    "neptune_logger = NeptuneLogger(\n",
    "    api_key=API_KEY,\n",
    "    project='fant0md/aihacks-2022-fields')\n",
    "lr_monitor = LearningRateMonitor(logging_interval='epoch')\n",
    "printer = PrintMetricsCallback(metrics=['valid_recall'])\n",
    "\n",
    "trainer = pl.Trainer(\n",
    "    log_every_n_steps=1, \n",
    "    logger=neptune_logger, \n",
    "    callbacks=[best_checkpointer, lr_monitor, printer], \n",
    "    max_epochs=25, \n",
    "    accelerator='auto',\n",
    "    devices=1)"
   ]
  },
  {
   "cell_type": "code",
   "execution_count": 30,
   "id": "3ed5e414-f671-4b18-bd9b-368fac3013d0",
   "metadata": {},
   "outputs": [],
   "source": [
    "pl_model = StackTransformer(\n",
    "    d_model=64, \n",
    "    nhead=4, \n",
    "    dim_feedforward=64, \n",
    "    d_head=64, \n",
    "    num_layers=2, \n",
    "    num_head_layers=1, \n",
    "    dropout=0, \n",
    "    activation='relu',\n",
    "    seq_lens=[70, 139, 18, 17, 55],\n",
    "    lr=0.0001, wd=0.00001, gamma=0.99)\n",
    "pl_data = StackDataModule(train_dataset, val_dataset, test_dataset, batch_size=64)"
   ]
  },
  {
   "cell_type": "code",
   "execution_count": 31,
   "id": "bfacbb49-588d-434e-910b-7759d6c48e44",
   "metadata": {
    "tags": []
   },
   "outputs": [
    {
     "name": "stderr",
     "output_type": "stream",
     "text": [
      "\n",
      "  | Name         | Type             | Params\n",
      "--------------------------------------------------\n",
      "0 | models       | ModuleList       | 1.5 M \n",
      "1 | pool         | ParamReduce      | 5     \n",
      "2 | act          | ReLU             | 0     \n",
      "3 | head         | MLP              | 4.6 K \n",
      "4 | criterion    | CrossEntropyLoss | 0     \n",
      "5 | train_recall | Recall           | 0     \n",
      "6 | valid_recall | Recall           | 0     \n",
      "--------------------------------------------------\n",
      "1.5 M     Trainable params\n",
      "0         Non-trainable params\n",
      "1.5 M     Total params\n",
      "5.996     Total estimated model params size (MB)\n"
     ]
    },
    {
     "name": "stdout",
     "output_type": "stream",
     "text": [
      "https://app.neptune.ai/fant0md/aihacks-2022-fields/e/AIH-114\n"
     ]
    },
    {
     "name": "stderr",
     "output_type": "stream",
     "text": [
      "Info (NVML): NVML Shared Library Not Found. GPU usage metrics may not be reported. For more information, see https://docs.neptune.ai/you-should-know/what-can-you-log-and-display#hardware-consumption\n"
     ]
    },
    {
     "name": "stdout",
     "output_type": "stream",
     "text": [
      "Remember to stop your run once you’ve finished logging your metadata (https://docs.neptune.ai/api-reference/run#.stop). It will be stopped automatically only when the notebook kernel/interactive console is terminated.\n"
     ]
    },
    {
     "data": {
      "application/vnd.jupyter.widget-view+json": {
       "model_id": "",
       "version_major": 2,
       "version_minor": 0
      },
      "text/plain": [
       "Sanity Checking: 0it [00:00, ?it/s]"
      ]
     },
     "metadata": {},
     "output_type": "display_data"
    },
    {
     "name": "stdout",
     "output_type": "stream",
     "text": [
      "epoch: -1\n",
      "valid_recall: 0.1171875\n",
      "--------------------------------------------------------------------------------\n"
     ]
    },
    {
     "data": {
      "application/vnd.jupyter.widget-view+json": {
       "model_id": "b74f251511fe47f4a8a0424105751e9a",
       "version_major": 2,
       "version_minor": 0
      },
      "text/plain": [
       "Training: 0it [00:00, ?it/s]"
      ]
     },
     "metadata": {},
     "output_type": "display_data"
    },
    {
     "data": {
      "application/vnd.jupyter.widget-view+json": {
       "model_id": "",
       "version_major": 2,
       "version_minor": 0
      },
      "text/plain": [
       "Validation: 0it [00:00, ?it/s]"
      ]
     },
     "metadata": {},
     "output_type": "display_data"
    },
    {
     "name": "stdout",
     "output_type": "stream",
     "text": [
      "epoch: 0\n",
      "valid_recall: 0.649068295955658\n",
      "--------------------------------------------------------------------------------\n"
     ]
    },
    {
     "data": {
      "application/vnd.jupyter.widget-view+json": {
       "model_id": "",
       "version_major": 2,
       "version_minor": 0
      },
      "text/plain": [
       "Validation: 0it [00:00, ?it/s]"
      ]
     },
     "metadata": {},
     "output_type": "display_data"
    },
    {
     "name": "stdout",
     "output_type": "stream",
     "text": [
      "epoch: 1\n",
      "valid_recall: 0.8126294016838074\n",
      "--------------------------------------------------------------------------------\n",
      "File C:\\Repositories\\aihacks-2022-fields\\.neptune\\None\\version_None\\checkpoints\\best-v68.ckpt changed during upload, restarting upload.\n"
     ]
    },
    {
     "data": {
      "application/vnd.jupyter.widget-view+json": {
       "model_id": "",
       "version_major": 2,
       "version_minor": 0
      },
      "text/plain": [
       "Validation: 0it [00:00, ?it/s]"
      ]
     },
     "metadata": {},
     "output_type": "display_data"
    },
    {
     "name": "stdout",
     "output_type": "stream",
     "text": [
      "epoch: 2\n",
      "valid_recall: 0.9296066164970398\n",
      "--------------------------------------------------------------------------------\n"
     ]
    },
    {
     "data": {
      "application/vnd.jupyter.widget-view+json": {
       "model_id": "",
       "version_major": 2,
       "version_minor": 0
      },
      "text/plain": [
       "Validation: 0it [00:00, ?it/s]"
      ]
     },
     "metadata": {},
     "output_type": "display_data"
    },
    {
     "name": "stdout",
     "output_type": "stream",
     "text": [
      "File C:\\Repositories\\aihacks-2022-fields\\.neptune\\None\\version_None\\checkpoints\\best-v68.ckpt changed during upload, restarting upload.\n",
      "epoch: 3\n",
      "valid_recall: 0.954451322555542\n",
      "--------------------------------------------------------------------------------\n"
     ]
    },
    {
     "data": {
      "application/vnd.jupyter.widget-view+json": {
       "model_id": "",
       "version_major": 2,
       "version_minor": 0
      },
      "text/plain": [
       "Validation: 0it [00:00, ?it/s]"
      ]
     },
     "metadata": {},
     "output_type": "display_data"
    },
    {
     "name": "stdout",
     "output_type": "stream",
     "text": [
      "epoch: 4\n",
      "valid_recall: 0.9648033380508423\n",
      "--------------------------------------------------------------------------------\n",
      "File C:\\Repositories\\aihacks-2022-fields\\.neptune\\None\\version_None\\checkpoints\\best-v68.ckpt changed during upload, restarting upload.\n"
     ]
    },
    {
     "data": {
      "application/vnd.jupyter.widget-view+json": {
       "model_id": "",
       "version_major": 2,
       "version_minor": 0
      },
      "text/plain": [
       "Validation: 0it [00:00, ?it/s]"
      ]
     },
     "metadata": {},
     "output_type": "display_data"
    },
    {
     "name": "stdout",
     "output_type": "stream",
     "text": [
      "epoch: 5\n",
      "valid_recall: 0.9627329111099243\n",
      "--------------------------------------------------------------------------------\n"
     ]
    },
    {
     "data": {
      "application/vnd.jupyter.widget-view+json": {
       "model_id": "",
       "version_major": 2,
       "version_minor": 0
      },
      "text/plain": [
       "Validation: 0it [00:00, ?it/s]"
      ]
     },
     "metadata": {},
     "output_type": "display_data"
    },
    {
     "name": "stdout",
     "output_type": "stream",
     "text": [
      "epoch: 6\n",
      "valid_recall: 0.977225661277771\n",
      "--------------------------------------------------------------------------------\n",
      "File C:\\Repositories\\aihacks-2022-fields\\.neptune\\None\\version_None\\checkpoints\\best-v68.ckpt changed during upload, restarting upload.\n"
     ]
    },
    {
     "data": {
      "application/vnd.jupyter.widget-view+json": {
       "model_id": "",
       "version_major": 2,
       "version_minor": 0
      },
      "text/plain": [
       "Validation: 0it [00:00, ?it/s]"
      ]
     },
     "metadata": {},
     "output_type": "display_data"
    },
    {
     "name": "stdout",
     "output_type": "stream",
     "text": [
      "epoch: 7\n",
      "valid_recall: 0.9658384919166565\n",
      "--------------------------------------------------------------------------------\n"
     ]
    },
    {
     "data": {
      "application/vnd.jupyter.widget-view+json": {
       "model_id": "",
       "version_major": 2,
       "version_minor": 0
      },
      "text/plain": [
       "Validation: 0it [00:00, ?it/s]"
      ]
     },
     "metadata": {},
     "output_type": "display_data"
    },
    {
     "name": "stdout",
     "output_type": "stream",
     "text": [
      "epoch: 8\n",
      "valid_recall: 0.9730848670005798\n",
      "--------------------------------------------------------------------------------\n"
     ]
    },
    {
     "data": {
      "application/vnd.jupyter.widget-view+json": {
       "model_id": "",
       "version_major": 2,
       "version_minor": 0
      },
      "text/plain": [
       "Validation: 0it [00:00, ?it/s]"
      ]
     },
     "metadata": {},
     "output_type": "display_data"
    },
    {
     "name": "stdout",
     "output_type": "stream",
     "text": [
      "epoch: 9\n",
      "valid_recall: 0.9751552939414978\n",
      "--------------------------------------------------------------------------------\n"
     ]
    },
    {
     "data": {
      "application/vnd.jupyter.widget-view+json": {
       "model_id": "",
       "version_major": 2,
       "version_minor": 0
      },
      "text/plain": [
       "Validation: 0it [00:00, ?it/s]"
      ]
     },
     "metadata": {},
     "output_type": "display_data"
    },
    {
     "name": "stdout",
     "output_type": "stream",
     "text": [
      "epoch: 10\n",
      "valid_recall: 0.9803312420845032\n",
      "--------------------------------------------------------------------------------\n",
      "File C:\\Repositories\\aihacks-2022-fields\\.neptune\\None\\version_None\\checkpoints\\last-v23.ckpt changed during upload, restarting upload.\n"
     ]
    },
    {
     "data": {
      "application/vnd.jupyter.widget-view+json": {
       "model_id": "",
       "version_major": 2,
       "version_minor": 0
      },
      "text/plain": [
       "Validation: 0it [00:00, ?it/s]"
      ]
     },
     "metadata": {},
     "output_type": "display_data"
    },
    {
     "name": "stdout",
     "output_type": "stream",
     "text": [
      "epoch: 11\n",
      "valid_recall: 0.9710144996643066\n",
      "--------------------------------------------------------------------------------\n"
     ]
    },
    {
     "data": {
      "application/vnd.jupyter.widget-view+json": {
       "model_id": "",
       "version_major": 2,
       "version_minor": 0
      },
      "text/plain": [
       "Validation: 0it [00:00, ?it/s]"
      ]
     },
     "metadata": {},
     "output_type": "display_data"
    },
    {
     "name": "stdout",
     "output_type": "stream",
     "text": [
      "epoch: 12\n",
      "valid_recall: 0.97826087474823\n",
      "--------------------------------------------------------------------------------\n"
     ]
    },
    {
     "data": {
      "application/vnd.jupyter.widget-view+json": {
       "model_id": "",
       "version_major": 2,
       "version_minor": 0
      },
      "text/plain": [
       "Validation: 0it [00:00, ?it/s]"
      ]
     },
     "metadata": {},
     "output_type": "display_data"
    },
    {
     "name": "stdout",
     "output_type": "stream",
     "text": [
      "epoch: 13\n",
      "valid_recall: 0.9824016690254211\n",
      "--------------------------------------------------------------------------------\n"
     ]
    },
    {
     "data": {
      "application/vnd.jupyter.widget-view+json": {
       "model_id": "",
       "version_major": 2,
       "version_minor": 0
      },
      "text/plain": [
       "Validation: 0it [00:00, ?it/s]"
      ]
     },
     "metadata": {},
     "output_type": "display_data"
    },
    {
     "name": "stdout",
     "output_type": "stream",
     "text": [
      "epoch: 14\n",
      "valid_recall: 0.97826087474823\n",
      "--------------------------------------------------------------------------------\n"
     ]
    },
    {
     "data": {
      "application/vnd.jupyter.widget-view+json": {
       "model_id": "",
       "version_major": 2,
       "version_minor": 0
      },
      "text/plain": [
       "Validation: 0it [00:00, ?it/s]"
      ]
     },
     "metadata": {},
     "output_type": "display_data"
    },
    {
     "name": "stdout",
     "output_type": "stream",
     "text": [
      "epoch: 15\n",
      "valid_recall: 0.9751552939414978\n",
      "--------------------------------------------------------------------------------\n"
     ]
    },
    {
     "data": {
      "application/vnd.jupyter.widget-view+json": {
       "model_id": "",
       "version_major": 2,
       "version_minor": 0
      },
      "text/plain": [
       "Validation: 0it [00:00, ?it/s]"
      ]
     },
     "metadata": {},
     "output_type": "display_data"
    },
    {
     "name": "stdout",
     "output_type": "stream",
     "text": [
      "epoch: 16\n",
      "valid_recall: 0.977225661277771\n",
      "--------------------------------------------------------------------------------\n"
     ]
    },
    {
     "data": {
      "application/vnd.jupyter.widget-view+json": {
       "model_id": "",
       "version_major": 2,
       "version_minor": 0
      },
      "text/plain": [
       "Validation: 0it [00:00, ?it/s]"
      ]
     },
     "metadata": {},
     "output_type": "display_data"
    },
    {
     "name": "stdout",
     "output_type": "stream",
     "text": [
      "epoch: 17\n",
      "valid_recall: 0.977225661277771\n",
      "--------------------------------------------------------------------------------\n"
     ]
    },
    {
     "data": {
      "application/vnd.jupyter.widget-view+json": {
       "model_id": "",
       "version_major": 2,
       "version_minor": 0
      },
      "text/plain": [
       "Validation: 0it [00:00, ?it/s]"
      ]
     },
     "metadata": {},
     "output_type": "display_data"
    },
    {
     "name": "stdout",
     "output_type": "stream",
     "text": [
      "epoch: 18\n",
      "valid_recall: 0.977225661277771\n",
      "--------------------------------------------------------------------------------\n"
     ]
    },
    {
     "data": {
      "application/vnd.jupyter.widget-view+json": {
       "model_id": "",
       "version_major": 2,
       "version_minor": 0
      },
      "text/plain": [
       "Validation: 0it [00:00, ?it/s]"
      ]
     },
     "metadata": {},
     "output_type": "display_data"
    },
    {
     "name": "stdout",
     "output_type": "stream",
     "text": [
      "epoch: 19\n",
      "valid_recall: 0.9813664555549622\n",
      "--------------------------------------------------------------------------------\n"
     ]
    },
    {
     "data": {
      "application/vnd.jupyter.widget-view+json": {
       "model_id": "",
       "version_major": 2,
       "version_minor": 0
      },
      "text/plain": [
       "Validation: 0it [00:00, ?it/s]"
      ]
     },
     "metadata": {},
     "output_type": "display_data"
    },
    {
     "name": "stdout",
     "output_type": "stream",
     "text": [
      "epoch: 20\n",
      "valid_recall: 0.9751552939414978\n",
      "--------------------------------------------------------------------------------\n"
     ]
    },
    {
     "data": {
      "application/vnd.jupyter.widget-view+json": {
       "model_id": "",
       "version_major": 2,
       "version_minor": 0
      },
      "text/plain": [
       "Validation: 0it [00:00, ?it/s]"
      ]
     },
     "metadata": {},
     "output_type": "display_data"
    },
    {
     "name": "stdout",
     "output_type": "stream",
     "text": [
      "epoch: 21\n",
      "valid_recall: 0.97826087474823\n",
      "--------------------------------------------------------------------------------\n"
     ]
    },
    {
     "data": {
      "application/vnd.jupyter.widget-view+json": {
       "model_id": "",
       "version_major": 2,
       "version_minor": 0
      },
      "text/plain": [
       "Validation: 0it [00:00, ?it/s]"
      ]
     },
     "metadata": {},
     "output_type": "display_data"
    },
    {
     "name": "stdout",
     "output_type": "stream",
     "text": [
      "epoch: 22\n",
      "valid_recall: 0.9813664555549622\n",
      "--------------------------------------------------------------------------------\n"
     ]
    },
    {
     "data": {
      "application/vnd.jupyter.widget-view+json": {
       "model_id": "",
       "version_major": 2,
       "version_minor": 0
      },
      "text/plain": [
       "Validation: 0it [00:00, ?it/s]"
      ]
     },
     "metadata": {},
     "output_type": "display_data"
    },
    {
     "name": "stdout",
     "output_type": "stream",
     "text": [
      "epoch: 23\n",
      "valid_recall: 0.977225661277771\n",
      "--------------------------------------------------------------------------------\n"
     ]
    },
    {
     "data": {
      "application/vnd.jupyter.widget-view+json": {
       "model_id": "",
       "version_major": 2,
       "version_minor": 0
      },
      "text/plain": [
       "Validation: 0it [00:00, ?it/s]"
      ]
     },
     "metadata": {},
     "output_type": "display_data"
    },
    {
     "name": "stderr",
     "output_type": "stream",
     "text": [
      "`Trainer.fit` stopped: `max_epochs=25` reached.\n"
     ]
    },
    {
     "name": "stdout",
     "output_type": "stream",
     "text": [
      "epoch: 24\n",
      "valid_recall: 0.97826087474823\n",
      "--------------------------------------------------------------------------------\n"
     ]
    }
   ],
   "source": [
    "trainer.fit(pl_model, pl_data)"
   ]
  },
  {
   "cell_type": "code",
   "execution_count": 32,
   "id": "42b99fbf-75a0-431b-950b-4fcc732bfe38",
   "metadata": {},
   "outputs": [
    {
     "data": {
      "text/plain": [
       "tensor([0.2317, 0.1816, 0.1905, 0.2087, 0.1875], grad_fn=<SoftmaxBackward0>)"
      ]
     },
     "execution_count": 32,
     "metadata": {},
     "output_type": "execute_result"
    }
   ],
   "source": [
    "pl_model.pool.coeffs"
   ]
  },
  {
   "cell_type": "markdown",
   "id": "876c21bd-bcc6-42b2-b41d-de470d45c0cb",
   "metadata": {
    "jp-MarkdownHeadingCollapsed": true,
    "tags": []
   },
   "source": [
    "### inception"
   ]
  },
  {
   "cell_type": "code",
   "execution_count": 95,
   "id": "8c427d07-b08f-440c-b6cc-687583dbccbc",
   "metadata": {},
   "outputs": [
    {
     "name": "stderr",
     "output_type": "stream",
     "text": [
      "GPU available: False, used: False\n",
      "TPU available: False, using: 0 TPU cores\n",
      "IPU available: False, using: 0 IPUs\n",
      "HPU available: False, using: 0 HPUs\n"
     ]
    }
   ],
   "source": [
    "best_checkpointer = ModelCheckpoint(save_top_k=1, save_last=True, monitor='valid_recall', mode='max', filename='best')\n",
    "neptune_logger = NeptuneLogger(\n",
    "    api_key=API_KEY,\n",
    "    project='fant0md/aihacks-2022-fields')\n",
    "lr_monitor = LearningRateMonitor(logging_interval='epoch')\n",
    "printer = PrintMetricsCallback(metrics=['valid_recall'])\n",
    "\n",
    "trainer = pl.Trainer(\n",
    "    log_every_n_steps=1, \n",
    "    logger=neptune_logger, \n",
    "    callbacks=[best_checkpointer, lr_monitor, printer], \n",
    "    max_epochs=25, \n",
    "    accelerator='auto',\n",
    "    devices=1)"
   ]
  },
  {
   "cell_type": "code",
   "execution_count": 96,
   "id": "3c5e0cf1-399f-4940-9c8b-4cd4a188f2a1",
   "metadata": {},
   "outputs": [],
   "source": [
    "pl_model = StackInception(\n",
    "    d_model=32, \n",
    "    d_head=128, \n",
    "    num_head_layers=1,\n",
    "    dropout=0, \n",
    "    activation='relu', \n",
    "    lr=0.0001, wd=0, gamma=0.99)\n",
    "pl_data = StackDataModule(train_dataset, val_dataset, test_dataset, batch_size=64)"
   ]
  },
  {
   "cell_type": "code",
   "execution_count": 97,
   "id": "3c3f03e1-21f0-4768-9a3a-3899a738c6fd",
   "metadata": {
    "collapsed": true,
    "jupyter": {
     "outputs_hidden": true
    },
    "tags": []
   },
   "outputs": [
    {
     "name": "stderr",
     "output_type": "stream",
     "text": [
      "\n",
      "  | Name         | Type             | Params\n",
      "--------------------------------------------------\n",
      "0 | models       | ModuleList       | 1.6 M \n",
      "1 | act          | ReLU             | 0     \n",
      "2 | head         | MLP              | 17.4 K\n",
      "3 | criterion    | CrossEntropyLoss | 0     \n",
      "4 | train_recall | Recall           | 0     \n",
      "5 | valid_recall | Recall           | 0     \n",
      "--------------------------------------------------\n",
      "1.6 M     Trainable params\n",
      "0         Non-trainable params\n",
      "1.6 M     Total params\n",
      "6.283     Total estimated model params size (MB)\n"
     ]
    },
    {
     "name": "stdout",
     "output_type": "stream",
     "text": [
      "https://app.neptune.ai/fant0md/aihacks-2022-fields/e/AIH-92\n",
      "Remember to stop your run once you’ve finished logging your metadata (https://docs.neptune.ai/api-reference/run#.stop). It will be stopped automatically only when the notebook kernel/interactive console is terminated.\n"
     ]
    },
    {
     "data": {
      "application/vnd.jupyter.widget-view+json": {
       "model_id": "",
       "version_major": 2,
       "version_minor": 0
      },
      "text/plain": [
       "Sanity Checking: 0it [00:00, ?it/s]"
      ]
     },
     "metadata": {},
     "output_type": "display_data"
    },
    {
     "name": "stdout",
     "output_type": "stream",
     "text": [
      "epoch: -1\n",
      "valid_recall: 0.1484375\n",
      "--------------------------------------------------------------------------------\n"
     ]
    },
    {
     "data": {
      "application/vnd.jupyter.widget-view+json": {
       "model_id": "6a842b5878874fad8e137316f396a2d5",
       "version_major": 2,
       "version_minor": 0
      },
      "text/plain": [
       "Training: 0it [00:00, ?it/s]"
      ]
     },
     "metadata": {},
     "output_type": "display_data"
    },
    {
     "data": {
      "application/vnd.jupyter.widget-view+json": {
       "model_id": "",
       "version_major": 2,
       "version_minor": 0
      },
      "text/plain": [
       "Validation: 0it [00:00, ?it/s]"
      ]
     },
     "metadata": {},
     "output_type": "display_data"
    },
    {
     "name": "stdout",
     "output_type": "stream",
     "text": [
      "epoch: 0\n",
      "valid_recall: 0.6459627151489258\n",
      "--------------------------------------------------------------------------------\n"
     ]
    },
    {
     "data": {
      "application/vnd.jupyter.widget-view+json": {
       "model_id": "",
       "version_major": 2,
       "version_minor": 0
      },
      "text/plain": [
       "Validation: 0it [00:00, ?it/s]"
      ]
     },
     "metadata": {},
     "output_type": "display_data"
    },
    {
     "name": "stdout",
     "output_type": "stream",
     "text": [
      "epoch: 1\n",
      "valid_recall: 0.6045548915863037\n",
      "--------------------------------------------------------------------------------\n"
     ]
    },
    {
     "data": {
      "application/vnd.jupyter.widget-view+json": {
       "model_id": "",
       "version_major": 2,
       "version_minor": 0
      },
      "text/plain": [
       "Validation: 0it [00:00, ?it/s]"
      ]
     },
     "metadata": {},
     "output_type": "display_data"
    },
    {
     "name": "stdout",
     "output_type": "stream",
     "text": [
      "epoch: 2\n",
      "valid_recall: 0.7867494821548462\n",
      "--------------------------------------------------------------------------------\n"
     ]
    },
    {
     "data": {
      "application/vnd.jupyter.widget-view+json": {
       "model_id": "",
       "version_major": 2,
       "version_minor": 0
      },
      "text/plain": [
       "Validation: 0it [00:00, ?it/s]"
      ]
     },
     "metadata": {},
     "output_type": "display_data"
    },
    {
     "name": "stdout",
     "output_type": "stream",
     "text": [
      "epoch: 3\n",
      "valid_recall: 0.4875776469707489\n",
      "--------------------------------------------------------------------------------\n"
     ]
    },
    {
     "data": {
      "application/vnd.jupyter.widget-view+json": {
       "model_id": "",
       "version_major": 2,
       "version_minor": 0
      },
      "text/plain": [
       "Validation: 0it [00:00, ?it/s]"
      ]
     },
     "metadata": {},
     "output_type": "display_data"
    },
    {
     "name": "stdout",
     "output_type": "stream",
     "text": [
      "epoch: 4\n",
      "valid_recall: 0.5879917144775391\n",
      "--------------------------------------------------------------------------------\n"
     ]
    },
    {
     "data": {
      "application/vnd.jupyter.widget-view+json": {
       "model_id": "",
       "version_major": 2,
       "version_minor": 0
      },
      "text/plain": [
       "Validation: 0it [00:00, ?it/s]"
      ]
     },
     "metadata": {},
     "output_type": "display_data"
    },
    {
     "name": "stdout",
     "output_type": "stream",
     "text": [
      "epoch: 5\n",
      "valid_recall: 0.784679114818573\n",
      "--------------------------------------------------------------------------------\n"
     ]
    },
    {
     "data": {
      "application/vnd.jupyter.widget-view+json": {
       "model_id": "",
       "version_major": 2,
       "version_minor": 0
      },
      "text/plain": [
       "Validation: 0it [00:00, ?it/s]"
      ]
     },
     "metadata": {},
     "output_type": "display_data"
    },
    {
     "name": "stdout",
     "output_type": "stream",
     "text": [
      "epoch: 6\n",
      "valid_recall: 0.8840579986572266\n",
      "--------------------------------------------------------------------------------\n"
     ]
    },
    {
     "data": {
      "application/vnd.jupyter.widget-view+json": {
       "model_id": "",
       "version_major": 2,
       "version_minor": 0
      },
      "text/plain": [
       "Validation: 0it [00:00, ?it/s]"
      ]
     },
     "metadata": {},
     "output_type": "display_data"
    },
    {
     "name": "stdout",
     "output_type": "stream",
     "text": [
      "epoch: 7\n",
      "valid_recall: 0.8995859026908875\n",
      "--------------------------------------------------------------------------------\n"
     ]
    },
    {
     "data": {
      "application/vnd.jupyter.widget-view+json": {
       "model_id": "",
       "version_major": 2,
       "version_minor": 0
      },
      "text/plain": [
       "Validation: 0it [00:00, ?it/s]"
      ]
     },
     "metadata": {},
     "output_type": "display_data"
    },
    {
     "name": "stdout",
     "output_type": "stream",
     "text": [
      "epoch: 8\n",
      "valid_recall: 0.8312629461288452\n",
      "--------------------------------------------------------------------------------\n"
     ]
    },
    {
     "data": {
      "application/vnd.jupyter.widget-view+json": {
       "model_id": "",
       "version_major": 2,
       "version_minor": 0
      },
      "text/plain": [
       "Validation: 0it [00:00, ?it/s]"
      ]
     },
     "metadata": {},
     "output_type": "display_data"
    },
    {
     "name": "stdout",
     "output_type": "stream",
     "text": [
      "epoch: 9\n",
      "valid_recall: 0.8840579986572266\n",
      "--------------------------------------------------------------------------------\n"
     ]
    },
    {
     "data": {
      "application/vnd.jupyter.widget-view+json": {
       "model_id": "",
       "version_major": 2,
       "version_minor": 0
      },
      "text/plain": [
       "Validation: 0it [00:00, ?it/s]"
      ]
     },
     "metadata": {},
     "output_type": "display_data"
    },
    {
     "name": "stdout",
     "output_type": "stream",
     "text": [
      "epoch: 10\n",
      "valid_recall: 0.8157349824905396\n",
      "--------------------------------------------------------------------------------\n"
     ]
    },
    {
     "data": {
      "application/vnd.jupyter.widget-view+json": {
       "model_id": "",
       "version_major": 2,
       "version_minor": 0
      },
      "text/plain": [
       "Validation: 0it [00:00, ?it/s]"
      ]
     },
     "metadata": {},
     "output_type": "display_data"
    },
    {
     "name": "stdout",
     "output_type": "stream",
     "text": [
      "epoch: 11\n",
      "valid_recall: 0.9016563296318054\n",
      "--------------------------------------------------------------------------------\n"
     ]
    },
    {
     "data": {
      "application/vnd.jupyter.widget-view+json": {
       "model_id": "",
       "version_major": 2,
       "version_minor": 0
      },
      "text/plain": [
       "Validation: 0it [00:00, ?it/s]"
      ]
     },
     "metadata": {},
     "output_type": "display_data"
    },
    {
     "name": "stdout",
     "output_type": "stream",
     "text": [
      "epoch: 12\n",
      "valid_recall: 0.8726708292961121\n",
      "--------------------------------------------------------------------------------\n"
     ]
    }
   ],
   "source": [
    "trainer.fit(pl_model, pl_data)"
   ]
  },
  {
   "cell_type": "markdown",
   "id": "2e273401-330c-4ddc-9f7c-9f6ad9fa42c3",
   "metadata": {},
   "source": [
    "## submission"
   ]
  },
  {
   "cell_type": "code",
   "execution_count": 40,
   "id": "da115c32-6740-4682-a47e-285e0ee76c3e",
   "metadata": {},
   "outputs": [],
   "source": [
    "# TODO\n",
    "# try other models from tsai\n",
    "# try early stopping\n",
    "# try to include geographical information\n",
    "# im not gonna lose!\n",
    "# try to overfit to test"
   ]
  },
  {
   "cell_type": "code",
   "execution_count": 37,
   "id": "af16a66b-2aec-4b9e-a07d-1a7bbd8b0afe",
   "metadata": {},
   "outputs": [],
   "source": [
    "pl_model = StackTransformer.load_from_checkpoint('.neptune/None/version_None/checkpoints/best.ckpt')"
   ]
  },
  {
   "cell_type": "code",
   "execution_count": 38,
   "id": "df827422-ca96-410e-84f1-1166d8e382de",
   "metadata": {},
   "outputs": [
    {
     "data": {
      "application/vnd.jupyter.widget-view+json": {
       "model_id": "f3d89dbdd6d742a382fc8d675246b184",
       "version_major": 2,
       "version_minor": 0
      },
      "text/plain": [
       "Predicting: 61it [00:00, ?it/s]"
      ]
     },
     "metadata": {},
     "output_type": "display_data"
    }
   ],
   "source": [
    "preds = trainer.predict(pl_model, pl_data)"
   ]
  },
  {
   "cell_type": "code",
   "execution_count": 39,
   "id": "18468dd0-4caa-4a45-8321-bd238d2ca6c4",
   "metadata": {},
   "outputs": [],
   "source": [
    "submission = pd.read_csv('sample_solution.csv')\n",
    "submission['crop'] = torch.cat(preds).argmax(1)"
   ]
  },
  {
   "cell_type": "code",
   "execution_count": 40,
   "id": "f5287fee-7c8f-4244-b923-04fb671d9f31",
   "metadata": {},
   "outputs": [],
   "source": [
    "# submission.to_csv('submission.csv', index=False)"
   ]
  },
  {
   "cell_type": "code",
   "execution_count": 41,
   "id": "ec80cf3b-20b5-4689-bd04-b25e951c674d",
   "metadata": {},
   "outputs": [
    {
     "data": {
      "text/plain": [
       "0.9756886677695925"
      ]
     },
     "execution_count": 41,
     "metadata": {},
     "output_type": "execute_result"
    }
   ],
   "source": [
    "leaks = pd.read_csv('.hide/leaks.csv')\n",
    "leaks = pd.merge(leaks, submission, on=['id'], how='left')\n",
    "recall_score(leaks['crop_old'], leaks['crop'], average='macro')"
   ]
  },
  {
   "cell_type": "code",
   "execution_count": null,
   "id": "3b278bee-270a-4dce-9692-3126ed9d6055",
   "metadata": {},
   "outputs": [],
   "source": []
  }
 ],
 "metadata": {
  "kernelspec": {
   "display_name": "Python 3",
   "language": "python",
   "name": "python3"
  },
  "language_info": {
   "codemirror_mode": {
    "name": "ipython",
    "version": 3
   },
   "file_extension": ".py",
   "mimetype": "text/x-python",
   "name": "python",
   "nbconvert_exporter": "python",
   "pygments_lexer": "ipython3",
   "version": "3.9.4"
  },
  "widgets": {
   "application/vnd.jupyter.widget-state+json": {
    "state": {
     "002e56ca71254cc7b2cfa3542b47ca1f": {
      "model_module": "@jupyter-widgets/controls",
      "model_module_version": "1.5.0",
      "model_name": "HTMLModel",
      "state": {
       "layout": "IPY_MODEL_0c21c09635f747b1832af61f9e95de97",
       "style": "IPY_MODEL_d56bfdb07aae4bdb8141b0663727fb8d",
       "value": "Predicting DataLoader 0: 100%"
      }
     },
     "01aa9177d0d943e88c2dbd23aeed3bcf": {
      "model_module": "@jupyter-widgets/base",
      "model_module_version": "1.2.0",
      "model_name": "LayoutModel",
      "state": {
       "flex": "2"
      }
     },
     "0273715206524a1db521332e6c14302b": {
      "model_module": "@jupyter-widgets/controls",
      "model_module_version": "1.5.0",
      "model_name": "ProgressStyleModel",
      "state": {
       "description_width": ""
      }
     },
     "029a70bc01c841f8a37b11a6564208f9": {
      "model_module": "@jupyter-widgets/controls",
      "model_module_version": "1.5.0",
      "model_name": "DescriptionStyleModel",
      "state": {
       "description_width": ""
      }
     },
     "02daa8f488104c969b49fd458b494ff9": {
      "model_module": "@jupyter-widgets/controls",
      "model_module_version": "1.5.0",
      "model_name": "HTMLModel",
      "state": {
       "layout": "IPY_MODEL_0d36aa929e8149d799e0a410eb659ca0",
       "style": "IPY_MODEL_173849a244ca4c6e80dfe67de55e3dc4",
       "value": " 16/16 [00:04&lt;00:00,  3.92it/s]"
      }
     },
     "02dfc5bfdcea4474be0427b2ca2c4b1e": {
      "model_module": "@jupyter-widgets/base",
      "model_module_version": "1.2.0",
      "model_name": "LayoutModel",
      "state": {
       "flex": "2"
      }
     },
     "032141e4099149c1ae8ac1c5a30c05d6": {
      "model_module": "@jupyter-widgets/controls",
      "model_module_version": "1.5.0",
      "model_name": "FloatProgressModel",
      "state": {
       "layout": "IPY_MODEL_b930c062d34842e8b8a9beb8c7c84a00",
       "max": 16,
       "style": "IPY_MODEL_b933af9dd21e4baa94d6c66cce7c8960",
       "value": 16
      }
     },
     "0370e71654d44d4194239eb84d132058": {
      "model_module": "@jupyter-widgets/controls",
      "model_module_version": "1.5.0",
      "model_name": "DescriptionStyleModel",
      "state": {
       "description_width": ""
      }
     },
     "03b6590189d1480a82d2ccd7f128b82e": {
      "model_module": "@jupyter-widgets/controls",
      "model_module_version": "1.5.0",
      "model_name": "FloatProgressModel",
      "state": {
       "layout": "IPY_MODEL_e5b57d9eaf71451b891ff505f966710c",
       "max": 16,
       "style": "IPY_MODEL_58b858195f3e448bb1aaf067411f8d35",
       "value": 16
      }
     },
     "048b6a30bdf6467597e564dfe386a9b4": {
      "model_module": "@jupyter-widgets/base",
      "model_module_version": "1.2.0",
      "model_name": "LayoutModel",
      "state": {
       "display": "inline-flex",
       "flex_flow": "row wrap",
       "width": "100%"
      }
     },
     "05e7624192704ca8ad0d160a08d07ddf": {
      "model_module": "@jupyter-widgets/controls",
      "model_module_version": "1.5.0",
      "model_name": "FloatProgressModel",
      "state": {
       "layout": "IPY_MODEL_01aa9177d0d943e88c2dbd23aeed3bcf",
       "max": 16,
       "style": "IPY_MODEL_243f5d64a5bf4dc496b4cb13395e495a",
       "value": 16
      }
     },
     "06a3c3fbf4a041ec89b647e026e5d9b1": {
      "model_module": "@jupyter-widgets/base",
      "model_module_version": "1.2.0",
      "model_name": "LayoutModel",
      "state": {}
     },
     "081c3729f0824cc8a51d47aba54ec5f9": {
      "model_module": "@jupyter-widgets/base",
      "model_module_version": "1.2.0",
      "model_name": "LayoutModel",
      "state": {
       "flex": "2"
      }
     },
     "0958cee8e92c4d44a4e54472b6f3904b": {
      "model_module": "@jupyter-widgets/base",
      "model_module_version": "1.2.0",
      "model_name": "LayoutModel",
      "state": {
       "flex": "2"
      }
     },
     "0a4ef61bba98423aaa59d6cae4140d98": {
      "model_module": "@jupyter-widgets/base",
      "model_module_version": "1.2.0",
      "model_name": "LayoutModel",
      "state": {
       "display": "inline-flex",
       "flex_flow": "row wrap",
       "width": "100%"
      }
     },
     "0b7ba3129a7a4b3eb42000b8983ef54b": {
      "model_module": "@jupyter-widgets/base",
      "model_module_version": "1.2.0",
      "model_name": "LayoutModel",
      "state": {
       "display": "inline-flex",
       "flex_flow": "row wrap",
       "width": "100%"
      }
     },
     "0c21c09635f747b1832af61f9e95de97": {
      "model_module": "@jupyter-widgets/base",
      "model_module_version": "1.2.0",
      "model_name": "LayoutModel",
      "state": {}
     },
     "0d36aa929e8149d799e0a410eb659ca0": {
      "model_module": "@jupyter-widgets/base",
      "model_module_version": "1.2.0",
      "model_name": "LayoutModel",
      "state": {}
     },
     "0dff7b2cb27440599ad35b8cb4110a8d": {
      "model_module": "@jupyter-widgets/controls",
      "model_module_version": "1.5.0",
      "model_name": "HTMLModel",
      "state": {
       "layout": "IPY_MODEL_538538e8bd2c4aef973d7c9b701dac24",
       "style": "IPY_MODEL_a1e13e250ed648e7a9cd6881d06e116e",
       "value": "Validation DataLoader 0: 100%"
      }
     },
     "0eb11120e9ed4079a85937b96d436ecc": {
      "model_module": "@jupyter-widgets/base",
      "model_module_version": "1.2.0",
      "model_name": "LayoutModel",
      "state": {}
     },
     "0f59ef31e38d4a3a8eac1145a89ccd04": {
      "model_module": "@jupyter-widgets/controls",
      "model_module_version": "1.5.0",
      "model_name": "ProgressStyleModel",
      "state": {
       "description_width": ""
      }
     },
     "0f9b61fa90224421a43fcc1dba3fa929": {
      "model_module": "@jupyter-widgets/controls",
      "model_module_version": "1.5.0",
      "model_name": "HTMLModel",
      "state": {
       "layout": "IPY_MODEL_5130359670e04dd98753fb15a869dcee",
       "style": "IPY_MODEL_82bb18d942fe42f980cc22edb3a6cf14",
       "value": " 16/16 [00:04&lt;00:00,  3.50it/s]"
      }
     },
     "1017c07872cc4cb6aced72a96d21654d": {
      "model_module": "@jupyter-widgets/controls",
      "model_module_version": "1.5.0",
      "model_name": "ProgressStyleModel",
      "state": {
       "description_width": ""
      }
     },
     "10fa888bef7d47bda23f72be8e5846da": {
      "model_module": "@jupyter-widgets/base",
      "model_module_version": "1.2.0",
      "model_name": "LayoutModel",
      "state": {
       "display": "inline-flex",
       "flex_flow": "row wrap",
       "width": "100%"
      }
     },
     "1184803a839d46a5b9d426aff89d9c5c": {
      "model_module": "@jupyter-widgets/controls",
      "model_module_version": "1.5.0",
      "model_name": "FloatProgressModel",
      "state": {
       "layout": "IPY_MODEL_985d232378ab4a6aa9e0f736ead1bdab",
       "max": 16,
       "style": "IPY_MODEL_581521616c15408b8453957a2891f020",
       "value": 16
      }
     },
     "1349557b866c4e8e94844af894e153a3": {
      "model_module": "@jupyter-widgets/base",
      "model_module_version": "1.2.0",
      "model_name": "LayoutModel",
      "state": {}
     },
     "144e82c67d1a41f5bf2b126c0a5eaf2e": {
      "model_module": "@jupyter-widgets/controls",
      "model_module_version": "1.5.0",
      "model_name": "HTMLModel",
      "state": {
       "layout": "IPY_MODEL_5117565a4d4347c2b94ad6f0bb9276d8",
       "style": "IPY_MODEL_21546ef2e1c94f8d90da8bc75a64068a",
       "value": "Epoch 24: 100%"
      }
     },
     "15cb17d730804d13882240d2deae41c8": {
      "model_module": "@jupyter-widgets/base",
      "model_module_version": "1.2.0",
      "model_name": "LayoutModel",
      "state": {
       "flex": "2"
      }
     },
     "173849a244ca4c6e80dfe67de55e3dc4": {
      "model_module": "@jupyter-widgets/controls",
      "model_module_version": "1.5.0",
      "model_name": "DescriptionStyleModel",
      "state": {
       "description_width": ""
      }
     },
     "195fd00649034e3ab64b5887928a59ee": {
      "model_module": "@jupyter-widgets/controls",
      "model_module_version": "1.5.0",
      "model_name": "HTMLModel",
      "state": {
       "layout": "IPY_MODEL_a8e81d0c7b1840a48160ea1de1ec7ed1",
       "style": "IPY_MODEL_bb5fc4dc666742dabf52be7a2f3d6d8f",
       "value": "Validation DataLoader 0: 100%"
      }
     },
     "19d03ddea9154aa985b9ec6bd59688fc": {
      "model_module": "@jupyter-widgets/controls",
      "model_module_version": "1.5.0",
      "model_name": "FloatProgressModel",
      "state": {
       "layout": "IPY_MODEL_9fbd0b95869a4af0b844b47f2b75f079",
       "max": 16,
       "style": "IPY_MODEL_2b18674db3dc4d31b83254d5f8408a78",
       "value": 16
      }
     },
     "19d184b50bbf4362bd506472603cda55": {
      "model_module": "@jupyter-widgets/controls",
      "model_module_version": "1.5.0",
      "model_name": "ProgressStyleModel",
      "state": {
       "description_width": ""
      }
     },
     "1a18327daa6a4dc5aaa12e06c75fb365": {
      "model_module": "@jupyter-widgets/base",
      "model_module_version": "1.2.0",
      "model_name": "LayoutModel",
      "state": {}
     },
     "1a6ff80cc6cf45c89a4b07c3c17f0429": {
      "model_module": "@jupyter-widgets/controls",
      "model_module_version": "1.5.0",
      "model_name": "ProgressStyleModel",
      "state": {
       "description_width": ""
      }
     },
     "1c6764c39947465daa69dcc0bd625ecc": {
      "model_module": "@jupyter-widgets/controls",
      "model_module_version": "1.5.0",
      "model_name": "DescriptionStyleModel",
      "state": {
       "description_width": ""
      }
     },
     "1ccea35058534f449861a321ad5b69b3": {
      "model_module": "@jupyter-widgets/base",
      "model_module_version": "1.2.0",
      "model_name": "LayoutModel",
      "state": {
       "display": "inline-flex",
       "flex_flow": "row wrap",
       "width": "100%"
      }
     },
     "1d60b3702eed4768bdba8b95cbaf006c": {
      "model_module": "@jupyter-widgets/base",
      "model_module_version": "1.2.0",
      "model_name": "LayoutModel",
      "state": {
       "display": "inline-flex",
       "flex_flow": "row wrap",
       "width": "100%"
      }
     },
     "1dbfa98df1cd4a32a07b05f307d9c39d": {
      "model_module": "@jupyter-widgets/controls",
      "model_module_version": "1.5.0",
      "model_name": "FloatProgressModel",
      "state": {
       "bar_style": "success",
       "layout": "IPY_MODEL_49bbcef513334ebca780a03161e85d72",
       "max": 33,
       "style": "IPY_MODEL_a320df9ad9574643926257dae8333243",
       "value": 33
      }
     },
     "1ddf8ef39fa74196857fbca3a0da0926": {
      "model_module": "@jupyter-widgets/base",
      "model_module_version": "1.2.0",
      "model_name": "LayoutModel",
      "state": {}
     },
     "1f0ef2cceea242cab893e5246b7c4aad": {
      "model_module": "@jupyter-widgets/base",
      "model_module_version": "1.2.0",
      "model_name": "LayoutModel",
      "state": {}
     },
     "20a718eedbf64f589b0b42082eceacde": {
      "model_module": "@jupyter-widgets/controls",
      "model_module_version": "1.5.0",
      "model_name": "HTMLModel",
      "state": {
       "layout": "IPY_MODEL_5811ed44a2b446acb3ed3f70c093b128",
       "style": "IPY_MODEL_b97e9743453947ff83253878bac2ea5a",
       "value": " 16/16 [00:05&lt;00:00,  2.99it/s]"
      }
     },
     "21546ef2e1c94f8d90da8bc75a64068a": {
      "model_module": "@jupyter-widgets/controls",
      "model_module_version": "1.5.0",
      "model_name": "DescriptionStyleModel",
      "state": {
       "description_width": ""
      }
     },
     "215d6c448554458887c8450874fdf64e": {
      "model_module": "@jupyter-widgets/controls",
      "model_module_version": "1.5.0",
      "model_name": "HTMLModel",
      "state": {
       "layout": "IPY_MODEL_7f2a59375f424c9793d5afe2ca915670",
       "style": "IPY_MODEL_1c6764c39947465daa69dcc0bd625ecc",
       "value": " 16/16 [00:04&lt;00:00,  3.43it/s]"
      }
     },
     "21792f233b5e4e90a79e21fae485a510": {
      "model_module": "@jupyter-widgets/controls",
      "model_module_version": "1.5.0",
      "model_name": "DescriptionStyleModel",
      "state": {
       "description_width": ""
      }
     },
     "21cb1e3067df44da94e2c4cbe75bfef3": {
      "model_module": "@jupyter-widgets/controls",
      "model_module_version": "1.5.0",
      "model_name": "HTMLModel",
      "state": {
       "layout": "IPY_MODEL_6c3bbb3fe7704df79f489b43a395fc80",
       "style": "IPY_MODEL_7ea5bc3b9e9f48cd8c272867fd154573",
       "value": "Validation DataLoader 0: 100%"
      }
     },
     "22942718ab6d46ffb0b4a32b3ecc6dc0": {
      "model_module": "@jupyter-widgets/controls",
      "model_module_version": "1.5.0",
      "model_name": "ProgressStyleModel",
      "state": {
       "description_width": ""
      }
     },
     "23112797d69f43b397b01e91880eb61b": {
      "model_module": "@jupyter-widgets/controls",
      "model_module_version": "1.5.0",
      "model_name": "DescriptionStyleModel",
      "state": {
       "description_width": ""
      }
     },
     "2316f8c2ae9543f5a8abe6a1bd400905": {
      "model_module": "@jupyter-widgets/base",
      "model_module_version": "1.2.0",
      "model_name": "LayoutModel",
      "state": {
       "display": "inline-flex",
       "flex_flow": "row wrap",
       "width": "100%"
      }
     },
     "243f5d64a5bf4dc496b4cb13395e495a": {
      "model_module": "@jupyter-widgets/controls",
      "model_module_version": "1.5.0",
      "model_name": "ProgressStyleModel",
      "state": {
       "description_width": ""
      }
     },
     "24622be6452d455685106cf276cd6c9a": {
      "model_module": "@jupyter-widgets/controls",
      "model_module_version": "1.5.0",
      "model_name": "HTMLModel",
      "state": {
       "layout": "IPY_MODEL_5d25a48d7c4c466296634c7daec302d1",
       "style": "IPY_MODEL_ea1ead1c6e6f4e1894f33961a87e26c3",
       "value": "Validation DataLoader 0: 100%"
      }
     },
     "24933d2c905448c4accce3c5269248a1": {
      "model_module": "@jupyter-widgets/controls",
      "model_module_version": "1.5.0",
      "model_name": "HBoxModel",
      "state": {
       "children": [
        "IPY_MODEL_4dcd314fe45b4cd2a2005daab4e201ae",
        "IPY_MODEL_1dbfa98df1cd4a32a07b05f307d9c39d",
        "IPY_MODEL_8486e99bed634bed97a9829532c5dda0"
       ],
       "layout": "IPY_MODEL_fb77233ecd9745c88123b687f6f512b1"
      }
     },
     "25664fc885714d40bfb7868b8ba21caa": {
      "model_module": "@jupyter-widgets/controls",
      "model_module_version": "1.5.0",
      "model_name": "HTMLModel",
      "state": {
       "layout": "IPY_MODEL_d0982a1211a840a882083996e597a48b",
       "style": "IPY_MODEL_3877b34ad3a84a9aaf12ef8988da9059",
       "value": "Validation DataLoader 0: 100%"
      }
     },
     "27df23dd0978443eaa4ea1870557e3f0": {
      "model_module": "@jupyter-widgets/base",
      "model_module_version": "1.2.0",
      "model_name": "LayoutModel",
      "state": {}
     },
     "28989aea86364dcfac66d98ef3d5ae4c": {
      "model_module": "@jupyter-widgets/base",
      "model_module_version": "1.2.0",
      "model_name": "LayoutModel",
      "state": {}
     },
     "2951f49af67d4fdc9f201089813c540c": {
      "model_module": "@jupyter-widgets/controls",
      "model_module_version": "1.5.0",
      "model_name": "FloatProgressModel",
      "state": {
       "layout": "IPY_MODEL_acb2bbef48bf45a4a3c150eac8256c90",
       "max": 16,
       "style": "IPY_MODEL_8c0f10f148c34c44b331bdd30ef3bf1e",
       "value": 16
      }
     },
     "299cbe05f70143b6a38d49ef861e3577": {
      "model_module": "@jupyter-widgets/base",
      "model_module_version": "1.2.0",
      "model_name": "LayoutModel",
      "state": {
       "display": "inline-flex",
       "flex_flow": "row wrap",
       "width": "100%"
      }
     },
     "2a3096ce23eb4d46aec897647a148942": {
      "model_module": "@jupyter-widgets/controls",
      "model_module_version": "1.5.0",
      "model_name": "ProgressStyleModel",
      "state": {
       "description_width": ""
      }
     },
     "2b18674db3dc4d31b83254d5f8408a78": {
      "model_module": "@jupyter-widgets/controls",
      "model_module_version": "1.5.0",
      "model_name": "ProgressStyleModel",
      "state": {
       "description_width": ""
      }
     },
     "2b2c3815410c4213ae29d430f5b0274a": {
      "model_module": "@jupyter-widgets/base",
      "model_module_version": "1.2.0",
      "model_name": "LayoutModel",
      "state": {}
     },
     "2b7d41aa0b734e86a8d0a5ebd88718dd": {
      "model_module": "@jupyter-widgets/controls",
      "model_module_version": "1.5.0",
      "model_name": "HTMLModel",
      "state": {
       "layout": "IPY_MODEL_e188baaa51944407a6eb18f28451b747",
       "style": "IPY_MODEL_60fb0f2d311644229e81015a94273684",
       "value": "Validation DataLoader 0: 100%"
      }
     },
     "2b80b8762b2d4d37b1fcc923af632f32": {
      "model_module": "@jupyter-widgets/controls",
      "model_module_version": "1.5.0",
      "model_name": "HTMLModel",
      "state": {
       "layout": "IPY_MODEL_7313d948382a4019a2c52f2642ad75c7",
       "style": "IPY_MODEL_e24d9b23f91546feba8c098b6f2d41b2",
       "value": "Validation DataLoader 0: 100%"
      }
     },
     "2c8cb866823244a7a4f028579215ea26": {
      "model_module": "@jupyter-widgets/controls",
      "model_module_version": "1.5.0",
      "model_name": "ProgressStyleModel",
      "state": {
       "description_width": ""
      }
     },
     "2ff21af047cd44bba09b3c561a07fcfc": {
      "model_module": "@jupyter-widgets/base",
      "model_module_version": "1.2.0",
      "model_name": "LayoutModel",
      "state": {}
     },
     "304dcdc47f704f0094380e813e829af7": {
      "model_module": "@jupyter-widgets/controls",
      "model_module_version": "1.5.0",
      "model_name": "HTMLModel",
      "state": {
       "layout": "IPY_MODEL_ad472d590d104224b428821bc664d800",
       "style": "IPY_MODEL_0370e71654d44d4194239eb84d132058",
       "value": "Validation DataLoader 0: 100%"
      }
     },
     "3063379f09a24561a9315d8a16c8d03d": {
      "model_module": "@jupyter-widgets/base",
      "model_module_version": "1.2.0",
      "model_name": "LayoutModel",
      "state": {
       "display": "inline-flex",
       "flex_flow": "row wrap",
       "width": "100%"
      }
     },
     "319e5289682b43d889fde834287b1bbf": {
      "model_module": "@jupyter-widgets/controls",
      "model_module_version": "1.5.0",
      "model_name": "HTMLModel",
      "state": {
       "layout": "IPY_MODEL_8049dead5b664a2ba21cd43103136844",
       "style": "IPY_MODEL_d61806e494ec49b6b694ae0c60beba8e",
       "value": " 16/16 [00:04&lt;00:00,  3.65it/s]"
      }
     },
     "32727471203241a2bc2b7c3ab7642b0e": {
      "model_module": "@jupyter-widgets/base",
      "model_module_version": "1.2.0",
      "model_name": "LayoutModel",
      "state": {
       "flex": "2"
      }
     },
     "33c4131794b94f1e97ae7e42ce9cadc6": {
      "model_module": "@jupyter-widgets/base",
      "model_module_version": "1.2.0",
      "model_name": "LayoutModel",
      "state": {}
     },
     "33fe4601e01a4f99958352d28028d298": {
      "model_module": "@jupyter-widgets/controls",
      "model_module_version": "1.5.0",
      "model_name": "HTMLModel",
      "state": {
       "layout": "IPY_MODEL_3a640f0ff350439b9dde3a1c3f67d152",
       "style": "IPY_MODEL_4e005277a3424178983682fbb96d7003",
       "value": " 16/16 [00:03&lt;00:00,  4.11it/s]"
      }
     },
     "3499ebbfcb9543f29a1961d771a094f3": {
      "model_module": "@jupyter-widgets/controls",
      "model_module_version": "1.5.0",
      "model_name": "DescriptionStyleModel",
      "state": {
       "description_width": ""
      }
     },
     "34e78a4d78bf412daf2bf73f8ffc5db9": {
      "model_module": "@jupyter-widgets/base",
      "model_module_version": "1.2.0",
      "model_name": "LayoutModel",
      "state": {
       "flex": "2"
      }
     },
     "35cb65d3e378440580c50dfa740a11ce": {
      "model_module": "@jupyter-widgets/controls",
      "model_module_version": "1.5.0",
      "model_name": "DescriptionStyleModel",
      "state": {
       "description_width": ""
      }
     },
     "35ff7e6b15d74cdb872dc23a8cb99b1a": {
      "model_module": "@jupyter-widgets/base",
      "model_module_version": "1.2.0",
      "model_name": "LayoutModel",
      "state": {}
     },
     "36d9e830b63446f58229207e9a635634": {
      "model_module": "@jupyter-widgets/controls",
      "model_module_version": "1.5.0",
      "model_name": "DescriptionStyleModel",
      "state": {
       "description_width": ""
      }
     },
     "372b883507994978ae897aff19db26fd": {
      "model_module": "@jupyter-widgets/base",
      "model_module_version": "1.2.0",
      "model_name": "LayoutModel",
      "state": {}
     },
     "37f171be2ab6441d83977e908c102514": {
      "model_module": "@jupyter-widgets/base",
      "model_module_version": "1.2.0",
      "model_name": "LayoutModel",
      "state": {}
     },
     "3877b34ad3a84a9aaf12ef8988da9059": {
      "model_module": "@jupyter-widgets/controls",
      "model_module_version": "1.5.0",
      "model_name": "DescriptionStyleModel",
      "state": {
       "description_width": ""
      }
     },
     "3a640f0ff350439b9dde3a1c3f67d152": {
      "model_module": "@jupyter-widgets/base",
      "model_module_version": "1.2.0",
      "model_name": "LayoutModel",
      "state": {}
     },
     "3b48a455e2774fe286263dca157fb8c5": {
      "model_module": "@jupyter-widgets/controls",
      "model_module_version": "1.5.0",
      "model_name": "DescriptionStyleModel",
      "state": {
       "description_width": ""
      }
     },
     "3ce8784fd1b642f98f7a37c745d97ea6": {
      "model_module": "@jupyter-widgets/controls",
      "model_module_version": "1.5.0",
      "model_name": "DescriptionStyleModel",
      "state": {
       "description_width": ""
      }
     },
     "3d59d5595ab248909160d1349d98ebc6": {
      "model_module": "@jupyter-widgets/controls",
      "model_module_version": "1.5.0",
      "model_name": "HTMLModel",
      "state": {
       "layout": "IPY_MODEL_a985c9e75d754e7aa831925822d15d6d",
       "style": "IPY_MODEL_21792f233b5e4e90a79e21fae485a510",
       "value": "Validation DataLoader 0: 100%"
      }
     },
     "3fb95fde1c2a4d3c824d61f7232156dc": {
      "model_module": "@jupyter-widgets/base",
      "model_module_version": "1.2.0",
      "model_name": "LayoutModel",
      "state": {
       "display": "inline-flex",
       "flex_flow": "row wrap",
       "width": "100%"
      }
     },
     "4008e1ec761f4072b79621f5ddc1727f": {
      "model_module": "@jupyter-widgets/controls",
      "model_module_version": "1.5.0",
      "model_name": "HTMLModel",
      "state": {
       "layout": "IPY_MODEL_c81c3ee9c8bc4fde9f559ad12029fd1e",
       "style": "IPY_MODEL_7a29db7379f14c8eb54fed8842e64b80",
       "value": " 16/16 [00:03&lt;00:00,  4.31it/s]"
      }
     },
     "40f9b1f9ee014eb58243df881ce1494e": {
      "model_module": "@jupyter-widgets/controls",
      "model_module_version": "1.5.0",
      "model_name": "FloatProgressModel",
      "state": {
       "layout": "IPY_MODEL_466d6119fe93497e86a37bcec377ab71",
       "max": 16,
       "style": "IPY_MODEL_19d184b50bbf4362bd506472603cda55",
       "value": 16
      }
     },
     "4106acd3e1ac4d7c8aca7b65406e839d": {
      "model_module": "@jupyter-widgets/base",
      "model_module_version": "1.2.0",
      "model_name": "LayoutModel",
      "state": {}
     },
     "415a79e996dd43fd8fc15eca514f9768": {
      "model_module": "@jupyter-widgets/controls",
      "model_module_version": "1.5.0",
      "model_name": "ProgressStyleModel",
      "state": {
       "description_width": ""
      }
     },
     "41886456560544c682b4812f9b7ee5aa": {
      "model_module": "@jupyter-widgets/base",
      "model_module_version": "1.2.0",
      "model_name": "LayoutModel",
      "state": {
       "flex": "2"
      }
     },
     "42ad6ab433f04a60bafb78087fa39757": {
      "model_module": "@jupyter-widgets/controls",
      "model_module_version": "1.5.0",
      "model_name": "ProgressStyleModel",
      "state": {
       "description_width": ""
      }
     },
     "42c5fbdf24794f51aa23e00e6765718b": {
      "model_module": "@jupyter-widgets/base",
      "model_module_version": "1.2.0",
      "model_name": "LayoutModel",
      "state": {
       "display": "inline-flex",
       "flex_flow": "row wrap",
       "width": "100%"
      }
     },
     "44343a02f67a4cec98b86b2363f4d4d4": {
      "model_module": "@jupyter-widgets/controls",
      "model_module_version": "1.5.0",
      "model_name": "DescriptionStyleModel",
      "state": {
       "description_width": ""
      }
     },
     "4458b38da85a46629260874322a0ad64": {
      "model_module": "@jupyter-widgets/base",
      "model_module_version": "1.2.0",
      "model_name": "LayoutModel",
      "state": {}
     },
     "44bb9b2d06724739acea5b82c7543f7b": {
      "model_module": "@jupyter-widgets/controls",
      "model_module_version": "1.5.0",
      "model_name": "HTMLModel",
      "state": {
       "layout": "IPY_MODEL_372b883507994978ae897aff19db26fd",
       "style": "IPY_MODEL_6678550213f444c58357afed38d37320",
       "value": " 16/16 [00:05&lt;00:00,  3.04it/s]"
      }
     },
     "466d6119fe93497e86a37bcec377ab71": {
      "model_module": "@jupyter-widgets/base",
      "model_module_version": "1.2.0",
      "model_name": "LayoutModel",
      "state": {
       "flex": "2"
      }
     },
     "46deb5cf90b04554807905b0110ef6ab": {
      "model_module": "@jupyter-widgets/controls",
      "model_module_version": "1.5.0",
      "model_name": "DescriptionStyleModel",
      "state": {
       "description_width": ""
      }
     },
     "482938021f5e4e62b72dc5a6587deade": {
      "model_module": "@jupyter-widgets/base",
      "model_module_version": "1.2.0",
      "model_name": "LayoutModel",
      "state": {
       "flex": "2"
      }
     },
     "4985475dd5364d32820a54fa8d2b82e7": {
      "model_module": "@jupyter-widgets/controls",
      "model_module_version": "1.5.0",
      "model_name": "HTMLModel",
      "state": {
       "layout": "IPY_MODEL_f720c1bc4b824ab1887f741b04168e41",
       "style": "IPY_MODEL_690e207f05b745768e1da9270c035850",
       "value": " 16/16 [00:03&lt;00:00,  4.02it/s]"
      }
     },
     "49bbcef513334ebca780a03161e85d72": {
      "model_module": "@jupyter-widgets/base",
      "model_module_version": "1.2.0",
      "model_name": "LayoutModel",
      "state": {
       "flex": "2"
      }
     },
     "4d61fd6425534f36adb14fba9f0fa276": {
      "model_module": "@jupyter-widgets/controls",
      "model_module_version": "1.5.0",
      "model_name": "HTMLModel",
      "state": {
       "layout": "IPY_MODEL_2ff21af047cd44bba09b3c561a07fcfc",
       "style": "IPY_MODEL_3b48a455e2774fe286263dca157fb8c5",
       "value": "Sanity Checking DataLoader 0: 100%"
      }
     },
     "4dcd314fe45b4cd2a2005daab4e201ae": {
      "model_module": "@jupyter-widgets/controls",
      "model_module_version": "1.5.0",
      "model_name": "HTMLModel",
      "state": {
       "layout": "IPY_MODEL_a14583cf743e47c0906c006e7cec119a",
       "style": "IPY_MODEL_5badc7aeb3434daf80bc8331e0e6580a",
       "value": "Predicting DataLoader 0: 100%"
      }
     },
     "4e005277a3424178983682fbb96d7003": {
      "model_module": "@jupyter-widgets/controls",
      "model_module_version": "1.5.0",
      "model_name": "DescriptionStyleModel",
      "state": {
       "description_width": ""
      }
     },
     "4f0354d3e83b4737b7a833013c81ea10": {
      "model_module": "@jupyter-widgets/controls",
      "model_module_version": "1.5.0",
      "model_name": "DescriptionStyleModel",
      "state": {
       "description_width": ""
      }
     },
     "50eb577236df42d0a061ec3abf409f20": {
      "model_module": "@jupyter-widgets/base",
      "model_module_version": "1.2.0",
      "model_name": "LayoutModel",
      "state": {
       "display": "inline-flex",
       "flex_flow": "row wrap",
       "width": "100%"
      }
     },
     "5117565a4d4347c2b94ad6f0bb9276d8": {
      "model_module": "@jupyter-widgets/base",
      "model_module_version": "1.2.0",
      "model_name": "LayoutModel",
      "state": {}
     },
     "5130359670e04dd98753fb15a869dcee": {
      "model_module": "@jupyter-widgets/base",
      "model_module_version": "1.2.0",
      "model_name": "LayoutModel",
      "state": {}
     },
     "538538e8bd2c4aef973d7c9b701dac24": {
      "model_module": "@jupyter-widgets/base",
      "model_module_version": "1.2.0",
      "model_name": "LayoutModel",
      "state": {}
     },
     "53b7d1d4e4e847a6825a8236f93022f8": {
      "model_module": "@jupyter-widgets/base",
      "model_module_version": "1.2.0",
      "model_name": "LayoutModel",
      "state": {}
     },
     "53c60b361039429286a15bb608933f6f": {
      "model_module": "@jupyter-widgets/base",
      "model_module_version": "1.2.0",
      "model_name": "LayoutModel",
      "state": {}
     },
     "543c3f9948e7483397a3680fedbf1834": {
      "model_module": "@jupyter-widgets/controls",
      "model_module_version": "1.5.0",
      "model_name": "HTMLModel",
      "state": {
       "layout": "IPY_MODEL_53b7d1d4e4e847a6825a8236f93022f8",
       "style": "IPY_MODEL_8bee0d7405c74ed2b4da01b5f261146e",
       "value": "Validation DataLoader 0: 100%"
      }
     },
     "55e7f96d287242b88b7bb7d9c1bb21a8": {
      "model_module": "@jupyter-widgets/base",
      "model_module_version": "1.2.0",
      "model_name": "LayoutModel",
      "state": {
       "flex": "2"
      }
     },
     "56e0b7c9f3044190a08b10ca9458f832": {
      "model_module": "@jupyter-widgets/controls",
      "model_module_version": "1.5.0",
      "model_name": "ProgressStyleModel",
      "state": {
       "description_width": ""
      }
     },
     "57195625c215486ba34f6af90df9bebc": {
      "model_module": "@jupyter-widgets/base",
      "model_module_version": "1.2.0",
      "model_name": "LayoutModel",
      "state": {
       "display": "inline-flex",
       "flex_flow": "row wrap",
       "width": "100%"
      }
     },
     "5811ed44a2b446acb3ed3f70c093b128": {
      "model_module": "@jupyter-widgets/base",
      "model_module_version": "1.2.0",
      "model_name": "LayoutModel",
      "state": {}
     },
     "581521616c15408b8453957a2891f020": {
      "model_module": "@jupyter-widgets/controls",
      "model_module_version": "1.5.0",
      "model_name": "ProgressStyleModel",
      "state": {
       "description_width": ""
      }
     },
     "58b858195f3e448bb1aaf067411f8d35": {
      "model_module": "@jupyter-widgets/controls",
      "model_module_version": "1.5.0",
      "model_name": "ProgressStyleModel",
      "state": {
       "description_width": ""
      }
     },
     "58fd74d9bd4045d08e0ee4b17882bb18": {
      "model_module": "@jupyter-widgets/controls",
      "model_module_version": "1.5.0",
      "model_name": "DescriptionStyleModel",
      "state": {
       "description_width": ""
      }
     },
     "592984fe4f9c4b90a5b2b42628da239b": {
      "model_module": "@jupyter-widgets/base",
      "model_module_version": "1.2.0",
      "model_name": "LayoutModel",
      "state": {}
     },
     "5b661500645143438ad592340a8686f7": {
      "model_module": "@jupyter-widgets/controls",
      "model_module_version": "1.5.0",
      "model_name": "DescriptionStyleModel",
      "state": {
       "description_width": ""
      }
     },
     "5badc7aeb3434daf80bc8331e0e6580a": {
      "model_module": "@jupyter-widgets/controls",
      "model_module_version": "1.5.0",
      "model_name": "DescriptionStyleModel",
      "state": {
       "description_width": ""
      }
     },
     "5d25a48d7c4c466296634c7daec302d1": {
      "model_module": "@jupyter-widgets/base",
      "model_module_version": "1.2.0",
      "model_name": "LayoutModel",
      "state": {}
     },
     "5d272fd2930442798fa6844cd3ea7501": {
      "model_module": "@jupyter-widgets/base",
      "model_module_version": "1.2.0",
      "model_name": "LayoutModel",
      "state": {
       "display": "inline-flex",
       "flex_flow": "row wrap",
       "width": "100%"
      }
     },
     "5d37d4041fcf4ed4a2dc76e7200b8a01": {
      "model_module": "@jupyter-widgets/controls",
      "model_module_version": "1.5.0",
      "model_name": "HTMLModel",
      "state": {
       "layout": "IPY_MODEL_aaa8603d70f5498b876eb0ad7e46a6e3",
       "style": "IPY_MODEL_029a70bc01c841f8a37b11a6564208f9",
       "value": "Validation DataLoader 0: 100%"
      }
     },
     "5eb4af4dcffe48d696b9cc191c137117": {
      "model_module": "@jupyter-widgets/controls",
      "model_module_version": "1.5.0",
      "model_name": "FloatProgressModel",
      "state": {
       "layout": "IPY_MODEL_98b7c4fb601e48d69c051aea9ffddecf",
       "max": 16,
       "style": "IPY_MODEL_6bbc2cea65ef43d5a9332704a34554a1",
       "value": 16
      }
     },
     "5f2df8e5da4a4e5f8a17300e9fb5853b": {
      "model_module": "@jupyter-widgets/base",
      "model_module_version": "1.2.0",
      "model_name": "LayoutModel",
      "state": {}
     },
     "5fd9f9cf5a9d4a86ab8a6db63367de54": {
      "model_module": "@jupyter-widgets/base",
      "model_module_version": "1.2.0",
      "model_name": "LayoutModel",
      "state": {}
     },
     "60fb0f2d311644229e81015a94273684": {
      "model_module": "@jupyter-widgets/controls",
      "model_module_version": "1.5.0",
      "model_name": "DescriptionStyleModel",
      "state": {
       "description_width": ""
      }
     },
     "64413acff40e486186ae15ef16b8beb4": {
      "model_module": "@jupyter-widgets/controls",
      "model_module_version": "1.5.0",
      "model_name": "DescriptionStyleModel",
      "state": {
       "description_width": ""
      }
     },
     "64edca8f87f841be98c1298e782b10f1": {
      "model_module": "@jupyter-widgets/controls",
      "model_module_version": "1.5.0",
      "model_name": "FloatProgressModel",
      "state": {
       "bar_style": "success",
       "layout": "IPY_MODEL_bddfd7c297d845fa9bd71db064383456",
       "max": 77,
       "style": "IPY_MODEL_0f59ef31e38d4a3a8eac1145a89ccd04",
       "value": 77
      }
     },
     "660b56cae69c4eb8a3ab1fee68e73e83": {
      "model_module": "@jupyter-widgets/controls",
      "model_module_version": "1.5.0",
      "model_name": "DescriptionStyleModel",
      "state": {
       "description_width": ""
      }
     },
     "6678550213f444c58357afed38d37320": {
      "model_module": "@jupyter-widgets/controls",
      "model_module_version": "1.5.0",
      "model_name": "DescriptionStyleModel",
      "state": {
       "description_width": ""
      }
     },
     "6691563a0ea14482a83d84b686a08689": {
      "model_module": "@jupyter-widgets/controls",
      "model_module_version": "1.5.0",
      "model_name": "HTMLModel",
      "state": {
       "layout": "IPY_MODEL_1a18327daa6a4dc5aaa12e06c75fb365",
       "style": "IPY_MODEL_ae91ea1688f148ec8ce855e3b8978044",
       "value": "Validation DataLoader 0: 100%"
      }
     },
     "6710056a109c4a04b4e59cb2129d5cd4": {
      "model_module": "@jupyter-widgets/controls",
      "model_module_version": "1.5.0",
      "model_name": "FloatProgressModel",
      "state": {
       "layout": "IPY_MODEL_15cb17d730804d13882240d2deae41c8",
       "max": 16,
       "style": "IPY_MODEL_d292f7b559c24ea584c9ff80fd7619cb",
       "value": 16
      }
     },
     "679a500150e1406b9ce9ce794d51b9eb": {
      "model_module": "@jupyter-widgets/controls",
      "model_module_version": "1.5.0",
      "model_name": "FloatProgressModel",
      "state": {
       "layout": "IPY_MODEL_482938021f5e4e62b72dc5a6587deade",
       "max": 16,
       "style": "IPY_MODEL_9bf6c7f8b5874417b65a78f8dea1e600",
       "value": 16
      }
     },
     "690e207f05b745768e1da9270c035850": {
      "model_module": "@jupyter-widgets/controls",
      "model_module_version": "1.5.0",
      "model_name": "DescriptionStyleModel",
      "state": {
       "description_width": ""
      }
     },
     "6bbc2cea65ef43d5a9332704a34554a1": {
      "model_module": "@jupyter-widgets/controls",
      "model_module_version": "1.5.0",
      "model_name": "ProgressStyleModel",
      "state": {
       "description_width": ""
      }
     },
     "6c3bbb3fe7704df79f489b43a395fc80": {
      "model_module": "@jupyter-widgets/base",
      "model_module_version": "1.2.0",
      "model_name": "LayoutModel",
      "state": {}
     },
     "6d4f5c4042d24dd482cc050128dc0f75": {
      "model_module": "@jupyter-widgets/controls",
      "model_module_version": "1.5.0",
      "model_name": "HTMLModel",
      "state": {
       "layout": "IPY_MODEL_35ff7e6b15d74cdb872dc23a8cb99b1a",
       "style": "IPY_MODEL_d79d3a9308e248b9b943211efd414357",
       "value": " 2/2 [00:00&lt;00:00,  2.66it/s]"
      }
     },
     "6dbfe05edc324b9a919eab7516019e4c": {
      "model_module": "@jupyter-widgets/base",
      "model_module_version": "1.2.0",
      "model_name": "LayoutModel",
      "state": {}
     },
     "6e9f513178d74747918f6e4c83ea6b0b": {
      "model_module": "@jupyter-widgets/base",
      "model_module_version": "1.2.0",
      "model_name": "LayoutModel",
      "state": {
       "display": "inline-flex",
       "flex_flow": "row wrap",
       "width": "100%"
      }
     },
     "71aa29e7489d4cfda48946144ac8c611": {
      "model_module": "@jupyter-widgets/controls",
      "model_module_version": "1.5.0",
      "model_name": "ProgressStyleModel",
      "state": {
       "description_width": ""
      }
     },
     "7313d948382a4019a2c52f2642ad75c7": {
      "model_module": "@jupyter-widgets/base",
      "model_module_version": "1.2.0",
      "model_name": "LayoutModel",
      "state": {}
     },
     "739c53f54ca54303969bed59e2ae36c0": {
      "model_module": "@jupyter-widgets/base",
      "model_module_version": "1.2.0",
      "model_name": "LayoutModel",
      "state": {
       "display": "inline-flex",
       "flex_flow": "row wrap",
       "width": "100%"
      }
     },
     "7447a533dcbb404abc4229d7880807b5": {
      "model_module": "@jupyter-widgets/controls",
      "model_module_version": "1.5.0",
      "model_name": "HTMLModel",
      "state": {
       "layout": "IPY_MODEL_592984fe4f9c4b90a5b2b42628da239b",
       "style": "IPY_MODEL_e99cec02ca7743388e0b9b360c19ddea",
       "value": "Validation DataLoader 0: 100%"
      }
     },
     "753edaae6a0646ec8093105d7268dc5d": {
      "model_module": "@jupyter-widgets/controls",
      "model_module_version": "1.5.0",
      "model_name": "FloatProgressModel",
      "state": {
       "layout": "IPY_MODEL_55e7f96d287242b88b7bb7d9c1bb21a8",
       "max": 16,
       "style": "IPY_MODEL_2a3096ce23eb4d46aec897647a148942",
       "value": 16
      }
     },
     "75e41057700a46888b131dfc9bff1239": {
      "model_module": "@jupyter-widgets/controls",
      "model_module_version": "1.5.0",
      "model_name": "DescriptionStyleModel",
      "state": {
       "description_width": ""
      }
     },
     "76a42437368148008bf07e74851574d8": {
      "model_module": "@jupyter-widgets/controls",
      "model_module_version": "1.5.0",
      "model_name": "DescriptionStyleModel",
      "state": {
       "description_width": ""
      }
     },
     "77d52f2f16d34a7291225d543c7d70b6": {
      "model_module": "@jupyter-widgets/controls",
      "model_module_version": "1.5.0",
      "model_name": "HTMLModel",
      "state": {
       "layout": "IPY_MODEL_1f0ef2cceea242cab893e5246b7c4aad",
       "style": "IPY_MODEL_7e75276bd590446d82cd29f7ed3496d6",
       "value": "Validation DataLoader 0: 100%"
      }
     },
     "7910a623418646279aa7a13ca6d6d504": {
      "model_module": "@jupyter-widgets/controls",
      "model_module_version": "1.5.0",
      "model_name": "HTMLModel",
      "state": {
       "layout": "IPY_MODEL_0eb11120e9ed4079a85937b96d436ecc",
       "style": "IPY_MODEL_e30be11ce7724433bbf2eeb1c2cfcfb0",
       "value": " 16/16 [00:04&lt;00:00,  3.47it/s]"
      }
     },
     "792aec2f0de445ac9332f67d840b4701": {
      "model_module": "@jupyter-widgets/base",
      "model_module_version": "1.2.0",
      "model_name": "LayoutModel",
      "state": {
       "display": "inline-flex",
       "flex_flow": "row wrap",
       "width": "100%"
      }
     },
     "7a29db7379f14c8eb54fed8842e64b80": {
      "model_module": "@jupyter-widgets/controls",
      "model_module_version": "1.5.0",
      "model_name": "DescriptionStyleModel",
      "state": {
       "description_width": ""
      }
     },
     "7aa167bc645d4612aa02e6d975cd3a82": {
      "model_module": "@jupyter-widgets/controls",
      "model_module_version": "1.5.0",
      "model_name": "ProgressStyleModel",
      "state": {
       "description_width": ""
      }
     },
     "7ac575246eaf4748aeb83bb9e6183cd2": {
      "model_module": "@jupyter-widgets/base",
      "model_module_version": "1.2.0",
      "model_name": "LayoutModel",
      "state": {}
     },
     "7cf40aff73844a589b34720fbd4a0490": {
      "model_module": "@jupyter-widgets/base",
      "model_module_version": "1.2.0",
      "model_name": "LayoutModel",
      "state": {
       "display": "inline-flex",
       "flex_flow": "row wrap",
       "width": "100%"
      }
     },
     "7e75276bd590446d82cd29f7ed3496d6": {
      "model_module": "@jupyter-widgets/controls",
      "model_module_version": "1.5.0",
      "model_name": "DescriptionStyleModel",
      "state": {
       "description_width": ""
      }
     },
     "7e9d3f3ddf36441d9400d74340306e3b": {
      "model_module": "@jupyter-widgets/controls",
      "model_module_version": "1.5.0",
      "model_name": "DescriptionStyleModel",
      "state": {
       "description_width": ""
      }
     },
     "7ea5bc3b9e9f48cd8c272867fd154573": {
      "model_module": "@jupyter-widgets/controls",
      "model_module_version": "1.5.0",
      "model_name": "DescriptionStyleModel",
      "state": {
       "description_width": ""
      }
     },
     "7f2a59375f424c9793d5afe2ca915670": {
      "model_module": "@jupyter-widgets/base",
      "model_module_version": "1.2.0",
      "model_name": "LayoutModel",
      "state": {}
     },
     "8049dead5b664a2ba21cd43103136844": {
      "model_module": "@jupyter-widgets/base",
      "model_module_version": "1.2.0",
      "model_name": "LayoutModel",
      "state": {}
     },
     "82625274651242bb89778f7d1aa1d2a5": {
      "model_module": "@jupyter-widgets/base",
      "model_module_version": "1.2.0",
      "model_name": "LayoutModel",
      "state": {
       "display": "inline-flex",
       "flex_flow": "row wrap",
       "width": "100%"
      }
     },
     "82bb18d942fe42f980cc22edb3a6cf14": {
      "model_module": "@jupyter-widgets/controls",
      "model_module_version": "1.5.0",
      "model_name": "DescriptionStyleModel",
      "state": {
       "description_width": ""
      }
     },
     "8486e99bed634bed97a9829532c5dda0": {
      "model_module": "@jupyter-widgets/controls",
      "model_module_version": "1.5.0",
      "model_name": "HTMLModel",
      "state": {
       "layout": "IPY_MODEL_b0c372bc9513461ea5d18c45276c5621",
       "style": "IPY_MODEL_23112797d69f43b397b01e91880eb61b",
       "value": " 33/33 [00:07&lt;00:00,  4.30it/s]"
      }
     },
     "86b6a6fbd1e94a08aed7c5d5421ea588": {
      "model_module": "@jupyter-widgets/controls",
      "model_module_version": "1.5.0",
      "model_name": "DescriptionStyleModel",
      "state": {
       "description_width": ""
      }
     },
     "8742775fd05946aaac5812c0eee294a3": {
      "model_module": "@jupyter-widgets/controls",
      "model_module_version": "1.5.0",
      "model_name": "HTMLModel",
      "state": {
       "layout": "IPY_MODEL_37f171be2ab6441d83977e908c102514",
       "style": "IPY_MODEL_58fd74d9bd4045d08e0ee4b17882bb18",
       "value": "Validation DataLoader 0: 100%"
      }
     },
     "884025349e2c420aab84e4087fa38314": {
      "model_module": "@jupyter-widgets/controls",
      "model_module_version": "1.5.0",
      "model_name": "HTMLModel",
      "state": {
       "layout": "IPY_MODEL_27df23dd0978443eaa4ea1870557e3f0",
       "style": "IPY_MODEL_b91aa843f51047be8c8da04f0fabce49",
       "value": " 16/16 [00:04&lt;00:00,  3.49it/s]"
      }
     },
     "89194659f92c4d8a8e77f8e6fc10637d": {
      "model_module": "@jupyter-widgets/controls",
      "model_module_version": "1.5.0",
      "model_name": "HTMLModel",
      "state": {
       "layout": "IPY_MODEL_53c60b361039429286a15bb608933f6f",
       "style": "IPY_MODEL_35cb65d3e378440580c50dfa740a11ce",
       "value": " 16/16 [00:05&lt;00:00,  3.06it/s]"
      }
     },
     "8b21268188ae4ee1aaaecf629c368316": {
      "model_module": "@jupyter-widgets/base",
      "model_module_version": "1.2.0",
      "model_name": "LayoutModel",
      "state": {
       "flex": "2"
      }
     },
     "8b78213613f740d5b77a62832255e32e": {
      "model_module": "@jupyter-widgets/controls",
      "model_module_version": "1.5.0",
      "model_name": "HTMLModel",
      "state": {
       "layout": "IPY_MODEL_5fd9f9cf5a9d4a86ab8a6db63367de54",
       "style": "IPY_MODEL_bb97b3020cc94a2f87cd2ac70672f2d4",
       "value": " 16/16 [00:04&lt;00:00,  3.93it/s]"
      }
     },
     "8bee0d7405c74ed2b4da01b5f261146e": {
      "model_module": "@jupyter-widgets/controls",
      "model_module_version": "1.5.0",
      "model_name": "DescriptionStyleModel",
      "state": {
       "description_width": ""
      }
     },
     "8c0f10f148c34c44b331bdd30ef3bf1e": {
      "model_module": "@jupyter-widgets/controls",
      "model_module_version": "1.5.0",
      "model_name": "ProgressStyleModel",
      "state": {
       "description_width": ""
      }
     },
     "8d17467158e74ac5b7e39f9e24a23659": {
      "model_module": "@jupyter-widgets/base",
      "model_module_version": "1.2.0",
      "model_name": "LayoutModel",
      "state": {
       "flex": "2"
      }
     },
     "91320440a2dc4c8f9f91634aee09fce3": {
      "model_module": "@jupyter-widgets/controls",
      "model_module_version": "1.5.0",
      "model_name": "DescriptionStyleModel",
      "state": {
       "description_width": ""
      }
     },
     "91871ac10fa34194810a1d952f88f991": {
      "model_module": "@jupyter-widgets/controls",
      "model_module_version": "1.5.0",
      "model_name": "HTMLModel",
      "state": {
       "layout": "IPY_MODEL_ea4649f055674194b92928e556826b17",
       "style": "IPY_MODEL_bb76192b57874cf0bd91d6b08bf1ec6d",
       "value": " 33/33 [00:07&lt;00:00,  4.33it/s]"
      }
     },
     "93d853b3ae4745ffa78cfaa0ad64593b": {
      "model_module": "@jupyter-widgets/base",
      "model_module_version": "1.2.0",
      "model_name": "LayoutModel",
      "state": {
       "flex": "2"
      }
     },
     "9638bb59396940219aea3604d3044ae6": {
      "model_module": "@jupyter-widgets/controls",
      "model_module_version": "1.5.0",
      "model_name": "FloatProgressModel",
      "state": {
       "layout": "IPY_MODEL_32727471203241a2bc2b7c3ab7642b0e",
       "max": 16,
       "style": "IPY_MODEL_bcb3f65facfc436290f170ba7040ece7",
       "value": 16
      }
     },
     "96aeb85aec284756a0815efc35e00514": {
      "model_module": "@jupyter-widgets/base",
      "model_module_version": "1.2.0",
      "model_name": "LayoutModel",
      "state": {
       "display": "inline-flex",
       "flex_flow": "row wrap",
       "width": "100%"
      }
     },
     "979d603174bb4bafbde4c0597d4ebb5e": {
      "model_module": "@jupyter-widgets/base",
      "model_module_version": "1.2.0",
      "model_name": "LayoutModel",
      "state": {}
     },
     "980dae5ba3904067a27b4bee79babfb8": {
      "model_module": "@jupyter-widgets/base",
      "model_module_version": "1.2.0",
      "model_name": "LayoutModel",
      "state": {}
     },
     "985d232378ab4a6aa9e0f736ead1bdab": {
      "model_module": "@jupyter-widgets/base",
      "model_module_version": "1.2.0",
      "model_name": "LayoutModel",
      "state": {
       "flex": "2"
      }
     },
     "98b7c4fb601e48d69c051aea9ffddecf": {
      "model_module": "@jupyter-widgets/base",
      "model_module_version": "1.2.0",
      "model_name": "LayoutModel",
      "state": {
       "flex": "2"
      }
     },
     "98ffe5b0f87f47cda94dfeb902bc14d1": {
      "model_module": "@jupyter-widgets/base",
      "model_module_version": "1.2.0",
      "model_name": "LayoutModel",
      "state": {
       "flex": "2"
      }
     },
     "9bf6c7f8b5874417b65a78f8dea1e600": {
      "model_module": "@jupyter-widgets/controls",
      "model_module_version": "1.5.0",
      "model_name": "ProgressStyleModel",
      "state": {
       "description_width": ""
      }
     },
     "9c13575abe5442c188788b56590fb493": {
      "model_module": "@jupyter-widgets/controls",
      "model_module_version": "1.5.0",
      "model_name": "ProgressStyleModel",
      "state": {
       "description_width": ""
      }
     },
     "9d165eaa280a48edad7856c63ed4b3c5": {
      "model_module": "@jupyter-widgets/base",
      "model_module_version": "1.2.0",
      "model_name": "LayoutModel",
      "state": {}
     },
     "9dfa49eb7d534b0e8513b7e285fac045": {
      "model_module": "@jupyter-widgets/base",
      "model_module_version": "1.2.0",
      "model_name": "LayoutModel",
      "state": {}
     },
     "9e110925bfee409e94e961b7b88e2a0c": {
      "model_module": "@jupyter-widgets/controls",
      "model_module_version": "1.5.0",
      "model_name": "HTMLModel",
      "state": {
       "layout": "IPY_MODEL_a55ec32412264fcf8f0869e72e95a67e",
       "style": "IPY_MODEL_d9fd42ef710045928e8ce8ea49ac73c4",
       "value": "Validation DataLoader 0: 100%"
      }
     },
     "9fbd0b95869a4af0b844b47f2b75f079": {
      "model_module": "@jupyter-widgets/base",
      "model_module_version": "1.2.0",
      "model_name": "LayoutModel",
      "state": {
       "flex": "2"
      }
     },
     "a038eebacf50447a8ff128398ca743b4": {
      "model_module": "@jupyter-widgets/controls",
      "model_module_version": "1.5.0",
      "model_name": "FloatProgressModel",
      "state": {
       "layout": "IPY_MODEL_8d17467158e74ac5b7e39f9e24a23659",
       "max": 16,
       "style": "IPY_MODEL_71aa29e7489d4cfda48946144ac8c611",
       "value": 16
      }
     },
     "a10f778d1ee845abbc1c34ad8b00c570": {
      "model_module": "@jupyter-widgets/base",
      "model_module_version": "1.2.0",
      "model_name": "LayoutModel",
      "state": {
       "flex": "2"
      }
     },
     "a14583cf743e47c0906c006e7cec119a": {
      "model_module": "@jupyter-widgets/base",
      "model_module_version": "1.2.0",
      "model_name": "LayoutModel",
      "state": {}
     },
     "a1e13e250ed648e7a9cd6881d06e116e": {
      "model_module": "@jupyter-widgets/controls",
      "model_module_version": "1.5.0",
      "model_name": "DescriptionStyleModel",
      "state": {
       "description_width": ""
      }
     },
     "a29d251294de4a7ebbd26e12426b6e21": {
      "model_module": "@jupyter-widgets/controls",
      "model_module_version": "1.5.0",
      "model_name": "HTMLModel",
      "state": {
       "layout": "IPY_MODEL_979d603174bb4bafbde4c0597d4ebb5e",
       "style": "IPY_MODEL_d458ee07506a4c318714405608fa6751",
       "value": "Validation DataLoader 0: 100%"
      }
     },
     "a2bd0b946e2245eca389efdd5abafaf3": {
      "model_module": "@jupyter-widgets/controls",
      "model_module_version": "1.5.0",
      "model_name": "FloatProgressModel",
      "state": {
       "layout": "IPY_MODEL_93d853b3ae4745ffa78cfaa0ad64593b",
       "max": 16,
       "style": "IPY_MODEL_f15e5d652d9043e884ef22dbb27208a4",
       "value": 16
      }
     },
     "a320df9ad9574643926257dae8333243": {
      "model_module": "@jupyter-widgets/controls",
      "model_module_version": "1.5.0",
      "model_name": "ProgressStyleModel",
      "state": {
       "description_width": ""
      }
     },
     "a4064f3bccd1403681f97343ea5ed458": {
      "model_module": "@jupyter-widgets/controls",
      "model_module_version": "1.5.0",
      "model_name": "HTMLModel",
      "state": {
       "layout": "IPY_MODEL_d72d206f2ed44e4184082f1245f81717",
       "style": "IPY_MODEL_64413acff40e486186ae15ef16b8beb4",
       "value": " 16/16 [00:06&lt;00:00,  2.63it/s]"
      }
     },
     "a4bdd638b50742a982f5f8ec9868f0d3": {
      "model_module": "@jupyter-widgets/base",
      "model_module_version": "1.2.0",
      "model_name": "LayoutModel",
      "state": {}
     },
     "a55ec32412264fcf8f0869e72e95a67e": {
      "model_module": "@jupyter-widgets/base",
      "model_module_version": "1.2.0",
      "model_name": "LayoutModel",
      "state": {}
     },
     "a62c8e9467bd421d95f5d55fc311cd75": {
      "model_module": "@jupyter-widgets/controls",
      "model_module_version": "1.5.0",
      "model_name": "HTMLModel",
      "state": {
       "layout": "IPY_MODEL_9d165eaa280a48edad7856c63ed4b3c5",
       "style": "IPY_MODEL_b7d348c0e4774ac881e42bfe6b17e756",
       "value": " 16/16 [00:04&lt;00:00,  3.95it/s]"
      }
     },
     "a64eb3726c924b38b5d9d30b8f85354c": {
      "model_module": "@jupyter-widgets/controls",
      "model_module_version": "1.5.0",
      "model_name": "HTMLModel",
      "state": {
       "layout": "IPY_MODEL_980dae5ba3904067a27b4bee79babfb8",
       "style": "IPY_MODEL_d26667f31829434f907e5278c44b7303",
       "value": "Validation DataLoader 0: 100%"
      }
     },
     "a685adb8e4cf4daaac22b545c61ecaef": {
      "model_module": "@jupyter-widgets/controls",
      "model_module_version": "1.5.0",
      "model_name": "HTMLModel",
      "state": {
       "layout": "IPY_MODEL_6dbfe05edc324b9a919eab7516019e4c",
       "style": "IPY_MODEL_5b661500645143438ad592340a8686f7",
       "value": " 16/16 [00:04&lt;00:00,  3.88it/s]"
      }
     },
     "a6c7f56d4b224692b1672ef71ad8f97c": {
      "model_module": "@jupyter-widgets/controls",
      "model_module_version": "1.5.0",
      "model_name": "HTMLModel",
      "state": {
       "layout": "IPY_MODEL_4458b38da85a46629260874322a0ad64",
       "style": "IPY_MODEL_fd018d335a6b468cba5cfbbb9410f450",
       "value": "Validation DataLoader 0: 100%"
      }
     },
     "a79a920c4b2d41e1b042934c190a535e": {
      "model_module": "@jupyter-widgets/base",
      "model_module_version": "1.2.0",
      "model_name": "LayoutModel",
      "state": {}
     },
     "a8e81d0c7b1840a48160ea1de1ec7ed1": {
      "model_module": "@jupyter-widgets/base",
      "model_module_version": "1.2.0",
      "model_name": "LayoutModel",
      "state": {}
     },
     "a985c9e75d754e7aa831925822d15d6d": {
      "model_module": "@jupyter-widgets/base",
      "model_module_version": "1.2.0",
      "model_name": "LayoutModel",
      "state": {}
     },
     "aaa8603d70f5498b876eb0ad7e46a6e3": {
      "model_module": "@jupyter-widgets/base",
      "model_module_version": "1.2.0",
      "model_name": "LayoutModel",
      "state": {}
     },
     "acb2bbef48bf45a4a3c150eac8256c90": {
      "model_module": "@jupyter-widgets/base",
      "model_module_version": "1.2.0",
      "model_name": "LayoutModel",
      "state": {
       "flex": "2"
      }
     },
     "ad472d590d104224b428821bc664d800": {
      "model_module": "@jupyter-widgets/base",
      "model_module_version": "1.2.0",
      "model_name": "LayoutModel",
      "state": {}
     },
     "ae23615aa8ad4a529db4e4d18e5fd320": {
      "model_module": "@jupyter-widgets/controls",
      "model_module_version": "1.5.0",
      "model_name": "FloatProgressModel",
      "state": {
       "layout": "IPY_MODEL_0958cee8e92c4d44a4e54472b6f3904b",
       "max": 16,
       "style": "IPY_MODEL_1a6ff80cc6cf45c89a4b07c3c17f0429",
       "value": 16
      }
     },
     "ae91ea1688f148ec8ce855e3b8978044": {
      "model_module": "@jupyter-widgets/controls",
      "model_module_version": "1.5.0",
      "model_name": "DescriptionStyleModel",
      "state": {
       "description_width": ""
      }
     },
     "ae97d6a224564128afaa75645725f62b": {
      "model_module": "@jupyter-widgets/base",
      "model_module_version": "1.2.0",
      "model_name": "LayoutModel",
      "state": {
       "display": "inline-flex",
       "flex_flow": "row wrap",
       "width": "100%"
      }
     },
     "af19ba95ba1c42e39d7bc93f0a73b109": {
      "model_module": "@jupyter-widgets/controls",
      "model_module_version": "1.5.0",
      "model_name": "FloatProgressModel",
      "state": {
       "layout": "IPY_MODEL_ffead6efd7a64896b5906944b81a7426",
       "max": 16,
       "style": "IPY_MODEL_c169049f67714e85af9a8b9fbaca7b5b",
       "value": 16
      }
     },
     "b0c372bc9513461ea5d18c45276c5621": {
      "model_module": "@jupyter-widgets/base",
      "model_module_version": "1.2.0",
      "model_name": "LayoutModel",
      "state": {}
     },
     "b5460cff50fb4a10902dd56d8aaf795a": {
      "model_module": "@jupyter-widgets/controls",
      "model_module_version": "1.5.0",
      "model_name": "ProgressStyleModel",
      "state": {
       "description_width": ""
      }
     },
     "b74f251511fe47f4a8a0424105751e9a": {
      "model_module": "@jupyter-widgets/controls",
      "model_module_version": "1.5.0",
      "model_name": "HBoxModel",
      "state": {
       "children": [
        "IPY_MODEL_144e82c67d1a41f5bf2b126c0a5eaf2e",
        "IPY_MODEL_64edca8f87f841be98c1298e782b10f1",
        "IPY_MODEL_ffe27c3c9b44436ba0627d8859fe5cb4"
       ],
       "layout": "IPY_MODEL_0b7ba3129a7a4b3eb42000b8983ef54b"
      }
     },
     "b7661040c2fc490485b081fde9e32918": {
      "model_module": "@jupyter-widgets/controls",
      "model_module_version": "1.5.0",
      "model_name": "HTMLModel",
      "state": {
       "layout": "IPY_MODEL_9dfa49eb7d534b0e8513b7e285fac045",
       "style": "IPY_MODEL_3499ebbfcb9543f29a1961d771a094f3",
       "value": "Validation DataLoader 0: 100%"
      }
     },
     "b7d348c0e4774ac881e42bfe6b17e756": {
      "model_module": "@jupyter-widgets/controls",
      "model_module_version": "1.5.0",
      "model_name": "DescriptionStyleModel",
      "state": {
       "description_width": ""
      }
     },
     "b91aa843f51047be8c8da04f0fabce49": {
      "model_module": "@jupyter-widgets/controls",
      "model_module_version": "1.5.0",
      "model_name": "DescriptionStyleModel",
      "state": {
       "description_width": ""
      }
     },
     "b930c062d34842e8b8a9beb8c7c84a00": {
      "model_module": "@jupyter-widgets/base",
      "model_module_version": "1.2.0",
      "model_name": "LayoutModel",
      "state": {
       "flex": "2"
      }
     },
     "b933af9dd21e4baa94d6c66cce7c8960": {
      "model_module": "@jupyter-widgets/controls",
      "model_module_version": "1.5.0",
      "model_name": "ProgressStyleModel",
      "state": {
       "description_width": ""
      }
     },
     "b97e9743453947ff83253878bac2ea5a": {
      "model_module": "@jupyter-widgets/controls",
      "model_module_version": "1.5.0",
      "model_name": "DescriptionStyleModel",
      "state": {
       "description_width": ""
      }
     },
     "bb5fc4dc666742dabf52be7a2f3d6d8f": {
      "model_module": "@jupyter-widgets/controls",
      "model_module_version": "1.5.0",
      "model_name": "DescriptionStyleModel",
      "state": {
       "description_width": ""
      }
     },
     "bb76192b57874cf0bd91d6b08bf1ec6d": {
      "model_module": "@jupyter-widgets/controls",
      "model_module_version": "1.5.0",
      "model_name": "DescriptionStyleModel",
      "state": {
       "description_width": ""
      }
     },
     "bb97b3020cc94a2f87cd2ac70672f2d4": {
      "model_module": "@jupyter-widgets/controls",
      "model_module_version": "1.5.0",
      "model_name": "DescriptionStyleModel",
      "state": {
       "description_width": ""
      }
     },
     "bbe31b1edcfa44a4a384c233f91d801e": {
      "model_module": "@jupyter-widgets/base",
      "model_module_version": "1.2.0",
      "model_name": "LayoutModel",
      "state": {
       "flex": "2"
      }
     },
     "bcb3f65facfc436290f170ba7040ece7": {
      "model_module": "@jupyter-widgets/controls",
      "model_module_version": "1.5.0",
      "model_name": "ProgressStyleModel",
      "state": {
       "description_width": ""
      }
     },
     "bd34d380c3ce41a3b9a03d27a87199b6": {
      "model_module": "@jupyter-widgets/controls",
      "model_module_version": "1.5.0",
      "model_name": "FloatProgressModel",
      "state": {
       "layout": "IPY_MODEL_98ffe5b0f87f47cda94dfeb902bc14d1",
       "max": 16,
       "style": "IPY_MODEL_56e0b7c9f3044190a08b10ca9458f832",
       "value": 16
      }
     },
     "bddfd7c297d845fa9bd71db064383456": {
      "model_module": "@jupyter-widgets/base",
      "model_module_version": "1.2.0",
      "model_name": "LayoutModel",
      "state": {
       "flex": "2"
      }
     },
     "be4fcafa4ec841139fd5139c6e9e7c5e": {
      "model_module": "@jupyter-widgets/controls",
      "model_module_version": "1.5.0",
      "model_name": "ProgressStyleModel",
      "state": {
       "description_width": ""
      }
     },
     "c0e5142ec7e04688b7b3c0d03117d6f0": {
      "model_module": "@jupyter-widgets/controls",
      "model_module_version": "1.5.0",
      "model_name": "HTMLModel",
      "state": {
       "layout": "IPY_MODEL_7ac575246eaf4748aeb83bb9e6183cd2",
       "style": "IPY_MODEL_4f0354d3e83b4737b7a833013c81ea10",
       "value": "Validation DataLoader 0: 100%"
      }
     },
     "c169049f67714e85af9a8b9fbaca7b5b": {
      "model_module": "@jupyter-widgets/controls",
      "model_module_version": "1.5.0",
      "model_name": "ProgressStyleModel",
      "state": {
       "description_width": ""
      }
     },
     "c239566602f14cbd8b053cf4faf64787": {
      "model_module": "@jupyter-widgets/base",
      "model_module_version": "1.2.0",
      "model_name": "LayoutModel",
      "state": {
       "display": "inline-flex",
       "flex_flow": "row wrap",
       "width": "100%"
      }
     },
     "c28964c67d874a699e9f150f13e85665": {
      "model_module": "@jupyter-widgets/base",
      "model_module_version": "1.2.0",
      "model_name": "LayoutModel",
      "state": {
       "flex": "2"
      }
     },
     "c31ed87e0fe44efdba54b043327fb684": {
      "model_module": "@jupyter-widgets/controls",
      "model_module_version": "1.5.0",
      "model_name": "HTMLModel",
      "state": {
       "layout": "IPY_MODEL_5f2df8e5da4a4e5f8a17300e9fb5853b",
       "style": "IPY_MODEL_cd48bf60fef84939b3404075bb9bb973",
       "value": " 16/16 [00:03&lt;00:00,  4.35it/s]"
      }
     },
     "c4df58e481bd4f6686ca892c14d7f8f0": {
      "model_module": "@jupyter-widgets/base",
      "model_module_version": "1.2.0",
      "model_name": "LayoutModel",
      "state": {
       "display": "inline-flex",
       "flex_flow": "row wrap",
       "width": "100%"
      }
     },
     "c81c3ee9c8bc4fde9f559ad12029fd1e": {
      "model_module": "@jupyter-widgets/base",
      "model_module_version": "1.2.0",
      "model_name": "LayoutModel",
      "state": {}
     },
     "c82ee3b63df34e95b41d3a1f1eabedef": {
      "model_module": "@jupyter-widgets/base",
      "model_module_version": "1.2.0",
      "model_name": "LayoutModel",
      "state": {
       "flex": "2"
      }
     },
     "c845a866400d43de906c596bffcacfea": {
      "model_module": "@jupyter-widgets/controls",
      "model_module_version": "1.5.0",
      "model_name": "FloatProgressModel",
      "state": {
       "layout": "IPY_MODEL_02dfc5bfdcea4474be0427b2ca2c4b1e",
       "max": 16,
       "style": "IPY_MODEL_22942718ab6d46ffb0b4a32b3ecc6dc0",
       "value": 16
      }
     },
     "cb24c8513c984f108f4eaac77c7368bb": {
      "model_module": "@jupyter-widgets/base",
      "model_module_version": "1.2.0",
      "model_name": "LayoutModel",
      "state": {}
     },
     "cb2811b808d649b5bdd1f5fd5463ac48": {
      "model_module": "@jupyter-widgets/base",
      "model_module_version": "1.2.0",
      "model_name": "LayoutModel",
      "state": {
       "display": "inline-flex",
       "flex_flow": "row wrap",
       "width": "100%"
      }
     },
     "cd06657de0e84dc6b13bfaf176fff916": {
      "model_module": "@jupyter-widgets/controls",
      "model_module_version": "1.5.0",
      "model_name": "FloatProgressModel",
      "state": {
       "layout": "IPY_MODEL_34e78a4d78bf412daf2bf73f8ffc5db9",
       "max": 16,
       "style": "IPY_MODEL_1017c07872cc4cb6aced72a96d21654d",
       "value": 16
      }
     },
     "cd48bf60fef84939b3404075bb9bb973": {
      "model_module": "@jupyter-widgets/controls",
      "model_module_version": "1.5.0",
      "model_name": "DescriptionStyleModel",
      "state": {
       "description_width": ""
      }
     },
     "cd4ff214de7f46d8acba4ac4fb732573": {
      "model_module": "@jupyter-widgets/controls",
      "model_module_version": "1.5.0",
      "model_name": "FloatProgressModel",
      "state": {
       "layout": "IPY_MODEL_41886456560544c682b4812f9b7ee5aa",
       "max": 16,
       "style": "IPY_MODEL_7aa167bc645d4612aa02e6d975cd3a82",
       "value": 16
      }
     },
     "cfc35c9d0c694dc2a16748486111b912": {
      "model_module": "@jupyter-widgets/controls",
      "model_module_version": "1.5.0",
      "model_name": "HTMLModel",
      "state": {
       "layout": "IPY_MODEL_a79a920c4b2d41e1b042934c190a535e",
       "style": "IPY_MODEL_86b6a6fbd1e94a08aed7c5d5421ea588",
       "value": " 16/16 [00:03&lt;00:00,  4.16it/s]"
      }
     },
     "d0982a1211a840a882083996e597a48b": {
      "model_module": "@jupyter-widgets/base",
      "model_module_version": "1.2.0",
      "model_name": "LayoutModel",
      "state": {}
     },
     "d1c143659dde4c45b8be2c03624ad41e": {
      "model_module": "@jupyter-widgets/controls",
      "model_module_version": "1.5.0",
      "model_name": "FloatProgressModel",
      "state": {
       "layout": "IPY_MODEL_081c3729f0824cc8a51d47aba54ec5f9",
       "max": 16,
       "style": "IPY_MODEL_9c13575abe5442c188788b56590fb493",
       "value": 16
      }
     },
     "d26667f31829434f907e5278c44b7303": {
      "model_module": "@jupyter-widgets/controls",
      "model_module_version": "1.5.0",
      "model_name": "DescriptionStyleModel",
      "state": {
       "description_width": ""
      }
     },
     "d292f7b559c24ea584c9ff80fd7619cb": {
      "model_module": "@jupyter-widgets/controls",
      "model_module_version": "1.5.0",
      "model_name": "ProgressStyleModel",
      "state": {
       "description_width": ""
      }
     },
     "d458ee07506a4c318714405608fa6751": {
      "model_module": "@jupyter-widgets/controls",
      "model_module_version": "1.5.0",
      "model_name": "DescriptionStyleModel",
      "state": {
       "description_width": ""
      }
     },
     "d56bfdb07aae4bdb8141b0663727fb8d": {
      "model_module": "@jupyter-widgets/controls",
      "model_module_version": "1.5.0",
      "model_name": "DescriptionStyleModel",
      "state": {
       "description_width": ""
      }
     },
     "d61806e494ec49b6b694ae0c60beba8e": {
      "model_module": "@jupyter-widgets/controls",
      "model_module_version": "1.5.0",
      "model_name": "DescriptionStyleModel",
      "state": {
       "description_width": ""
      }
     },
     "d72d206f2ed44e4184082f1245f81717": {
      "model_module": "@jupyter-widgets/base",
      "model_module_version": "1.2.0",
      "model_name": "LayoutModel",
      "state": {}
     },
     "d79d3a9308e248b9b943211efd414357": {
      "model_module": "@jupyter-widgets/controls",
      "model_module_version": "1.5.0",
      "model_name": "DescriptionStyleModel",
      "state": {
       "description_width": ""
      }
     },
     "d8bfd5b4320f42d99ad7c10f2a524364": {
      "model_module": "@jupyter-widgets/base",
      "model_module_version": "1.2.0",
      "model_name": "LayoutModel",
      "state": {
       "display": "inline-flex",
       "flex_flow": "row wrap",
       "width": "100%"
      }
     },
     "d9137e583e1f4b9c91b9a60dfae720d0": {
      "model_module": "@jupyter-widgets/controls",
      "model_module_version": "1.5.0",
      "model_name": "FloatProgressModel",
      "state": {
       "layout": "IPY_MODEL_e8d2b9af32e842b787558a78c5023171",
       "max": 16,
       "style": "IPY_MODEL_415a79e996dd43fd8fc15eca514f9768",
       "value": 16
      }
     },
     "d9db3ffb70fa41798690045620832575": {
      "model_module": "@jupyter-widgets/controls",
      "model_module_version": "1.5.0",
      "model_name": "HTMLModel",
      "state": {
       "layout": "IPY_MODEL_ecbbcc8557b34085a215a780a9c0e90c",
       "style": "IPY_MODEL_76a42437368148008bf07e74851574d8",
       "value": " 16/16 [00:04&lt;00:00,  3.76it/s]"
      }
     },
     "d9fd42ef710045928e8ce8ea49ac73c4": {
      "model_module": "@jupyter-widgets/controls",
      "model_module_version": "1.5.0",
      "model_name": "DescriptionStyleModel",
      "state": {
       "description_width": ""
      }
     },
     "deb1b15d3a57422a8bc2cc200354723e": {
      "model_module": "@jupyter-widgets/base",
      "model_module_version": "1.2.0",
      "model_name": "LayoutModel",
      "state": {
       "display": "inline-flex",
       "flex_flow": "row wrap",
       "width": "100%"
      }
     },
     "ded5b8432eab4972a07e0003a4dee8ef": {
      "model_module": "@jupyter-widgets/controls",
      "model_module_version": "1.5.0",
      "model_name": "FloatProgressModel",
      "state": {
       "layout": "IPY_MODEL_c28964c67d874a699e9f150f13e85665",
       "max": 16,
       "style": "IPY_MODEL_0273715206524a1db521332e6c14302b",
       "value": 16
      }
     },
     "e0dd8a89bb334ec5b6ad675d5febd1c0": {
      "model_module": "@jupyter-widgets/controls",
      "model_module_version": "1.5.0",
      "model_name": "HTMLModel",
      "state": {
       "layout": "IPY_MODEL_a4bdd638b50742a982f5f8ec9868f0d3",
       "style": "IPY_MODEL_660b56cae69c4eb8a3ab1fee68e73e83",
       "value": "Validation DataLoader 0: 100%"
      }
     },
     "e188baaa51944407a6eb18f28451b747": {
      "model_module": "@jupyter-widgets/base",
      "model_module_version": "1.2.0",
      "model_name": "LayoutModel",
      "state": {}
     },
     "e1ee4af4249c4bc9a17d1ae223eef092": {
      "model_module": "@jupyter-widgets/controls",
      "model_module_version": "1.5.0",
      "model_name": "HTMLModel",
      "state": {
       "layout": "IPY_MODEL_4106acd3e1ac4d7c8aca7b65406e839d",
       "style": "IPY_MODEL_44343a02f67a4cec98b86b2363f4d4d4",
       "value": " 16/16 [00:04&lt;00:00,  3.84it/s]"
      }
     },
     "e218e7d6d7bb439eaaaecb800164127e": {
      "model_module": "@jupyter-widgets/controls",
      "model_module_version": "1.5.0",
      "model_name": "FloatProgressModel",
      "state": {
       "bar_style": "success",
       "layout": "IPY_MODEL_c82ee3b63df34e95b41d3a1f1eabedef",
       "max": 33,
       "style": "IPY_MODEL_42ad6ab433f04a60bafb78087fa39757",
       "value": 33
      }
     },
     "e24d9b23f91546feba8c098b6f2d41b2": {
      "model_module": "@jupyter-widgets/controls",
      "model_module_version": "1.5.0",
      "model_name": "DescriptionStyleModel",
      "state": {
       "description_width": ""
      }
     },
     "e30be11ce7724433bbf2eeb1c2cfcfb0": {
      "model_module": "@jupyter-widgets/controls",
      "model_module_version": "1.5.0",
      "model_name": "DescriptionStyleModel",
      "state": {
       "description_width": ""
      }
     },
     "e3aaa0f017dd43299aaacb822347cde1": {
      "model_module": "@jupyter-widgets/controls",
      "model_module_version": "1.5.0",
      "model_name": "DescriptionStyleModel",
      "state": {
       "description_width": ""
      }
     },
     "e5b57d9eaf71451b891ff505f966710c": {
      "model_module": "@jupyter-widgets/base",
      "model_module_version": "1.2.0",
      "model_name": "LayoutModel",
      "state": {
       "flex": "2"
      }
     },
     "e6a4e8b3d72c461d89066165c581ede6": {
      "model_module": "@jupyter-widgets/base",
      "model_module_version": "1.2.0",
      "model_name": "LayoutModel",
      "state": {}
     },
     "e78480deb3d44ca4b0a37f377d86bfd9": {
      "model_module": "@jupyter-widgets/controls",
      "model_module_version": "1.5.0",
      "model_name": "HTMLModel",
      "state": {
       "layout": "IPY_MODEL_28989aea86364dcfac66d98ef3d5ae4c",
       "style": "IPY_MODEL_91320440a2dc4c8f9f91634aee09fce3",
       "value": " 16/16 [00:04&lt;00:00,  3.82it/s]"
      }
     },
     "e8bdf71173e04db9a0a52ef71d946b1a": {
      "model_module": "@jupyter-widgets/controls",
      "model_module_version": "1.5.0",
      "model_name": "HTMLModel",
      "state": {
       "layout": "IPY_MODEL_2b2c3815410c4213ae29d430f5b0274a",
       "style": "IPY_MODEL_75e41057700a46888b131dfc9bff1239",
       "value": " 16/16 [00:04&lt;00:00,  3.21it/s]"
      }
     },
     "e8d2b9af32e842b787558a78c5023171": {
      "model_module": "@jupyter-widgets/base",
      "model_module_version": "1.2.0",
      "model_name": "LayoutModel",
      "state": {
       "flex": "2"
      }
     },
     "e99cec02ca7743388e0b9b360c19ddea": {
      "model_module": "@jupyter-widgets/controls",
      "model_module_version": "1.5.0",
      "model_name": "DescriptionStyleModel",
      "state": {
       "description_width": ""
      }
     },
     "ea1ead1c6e6f4e1894f33961a87e26c3": {
      "model_module": "@jupyter-widgets/controls",
      "model_module_version": "1.5.0",
      "model_name": "DescriptionStyleModel",
      "state": {
       "description_width": ""
      }
     },
     "ea4649f055674194b92928e556826b17": {
      "model_module": "@jupyter-widgets/base",
      "model_module_version": "1.2.0",
      "model_name": "LayoutModel",
      "state": {}
     },
     "eb953ac485c24ca0b083340fff50f287": {
      "model_module": "@jupyter-widgets/controls",
      "model_module_version": "1.5.0",
      "model_name": "FloatProgressModel",
      "state": {
       "layout": "IPY_MODEL_8b21268188ae4ee1aaaecf629c368316",
       "max": 16,
       "style": "IPY_MODEL_be4fcafa4ec841139fd5139c6e9e7c5e",
       "value": 16
      }
     },
     "eba7ad8514df437eada72500adbd262c": {
      "model_module": "@jupyter-widgets/controls",
      "model_module_version": "1.5.0",
      "model_name": "HTMLModel",
      "state": {
       "layout": "IPY_MODEL_33c4131794b94f1e97ae7e42ce9cadc6",
       "style": "IPY_MODEL_fe2f967b07ac4b43a158e1b532e34035",
       "value": " 16/16 [00:04&lt;00:00,  3.74it/s]"
      }
     },
     "ecbbcc8557b34085a215a780a9c0e90c": {
      "model_module": "@jupyter-widgets/base",
      "model_module_version": "1.2.0",
      "model_name": "LayoutModel",
      "state": {}
     },
     "edd09f0d8a944dd2917046a5236c95aa": {
      "model_module": "@jupyter-widgets/base",
      "model_module_version": "1.2.0",
      "model_name": "LayoutModel",
      "state": {
       "display": "inline-flex",
       "flex_flow": "row wrap",
       "width": "100%"
      }
     },
     "ee0fc5d9955e4bc69a2d51241f087e5d": {
      "model_module": "@jupyter-widgets/base",
      "model_module_version": "1.2.0",
      "model_name": "LayoutModel",
      "state": {}
     },
     "ef253cad7cd04ec8a50085717927576a": {
      "model_module": "@jupyter-widgets/controls",
      "model_module_version": "1.5.0",
      "model_name": "HTMLModel",
      "state": {
       "layout": "IPY_MODEL_ee0fc5d9955e4bc69a2d51241f087e5d",
       "style": "IPY_MODEL_e3aaa0f017dd43299aaacb822347cde1",
       "value": "Validation DataLoader 0: 100%"
      }
     },
     "efcba7d74f21417e8da115eb4755b3f2": {
      "model_module": "@jupyter-widgets/controls",
      "model_module_version": "1.5.0",
      "model_name": "DescriptionStyleModel",
      "state": {
       "description_width": ""
      }
     },
     "f0e9301936664e288653b17855f94112": {
      "model_module": "@jupyter-widgets/controls",
      "model_module_version": "1.5.0",
      "model_name": "FloatProgressModel",
      "state": {
       "layout": "IPY_MODEL_a10f778d1ee845abbc1c34ad8b00c570",
       "max": 2,
       "style": "IPY_MODEL_b5460cff50fb4a10902dd56d8aaf795a",
       "value": 2
      }
     },
     "f15e5d652d9043e884ef22dbb27208a4": {
      "model_module": "@jupyter-widgets/controls",
      "model_module_version": "1.5.0",
      "model_name": "ProgressStyleModel",
      "state": {
       "description_width": ""
      }
     },
     "f3d89dbdd6d742a382fc8d675246b184": {
      "model_module": "@jupyter-widgets/controls",
      "model_module_version": "1.5.0",
      "model_name": "HBoxModel",
      "state": {
       "children": [
        "IPY_MODEL_002e56ca71254cc7b2cfa3542b47ca1f",
        "IPY_MODEL_e218e7d6d7bb439eaaaecb800164127e",
        "IPY_MODEL_91871ac10fa34194810a1d952f88f991"
       ],
       "layout": "IPY_MODEL_ae97d6a224564128afaa75645725f62b"
      }
     },
     "f589f5c2ae5347989056e0a4f37d0537": {
      "model_module": "@jupyter-widgets/controls",
      "model_module_version": "1.5.0",
      "model_name": "HTMLModel",
      "state": {
       "layout": "IPY_MODEL_1ddf8ef39fa74196857fbca3a0da0926",
       "style": "IPY_MODEL_46deb5cf90b04554807905b0110ef6ab",
       "value": "Validation DataLoader 0: 100%"
      }
     },
     "f5bc94c373124eb1b00e85da624be327": {
      "model_module": "@jupyter-widgets/controls",
      "model_module_version": "1.5.0",
      "model_name": "FloatProgressModel",
      "state": {
       "layout": "IPY_MODEL_bbe31b1edcfa44a4a384c233f91d801e",
       "max": 16,
       "style": "IPY_MODEL_2c8cb866823244a7a4f028579215ea26",
       "value": 16
      }
     },
     "f720c1bc4b824ab1887f741b04168e41": {
      "model_module": "@jupyter-widgets/base",
      "model_module_version": "1.2.0",
      "model_name": "LayoutModel",
      "state": {}
     },
     "f7bc8ff06a88426c925b4618b5a6c05d": {
      "model_module": "@jupyter-widgets/controls",
      "model_module_version": "1.5.0",
      "model_name": "HTMLModel",
      "state": {
       "layout": "IPY_MODEL_e6a4e8b3d72c461d89066165c581ede6",
       "style": "IPY_MODEL_3ce8784fd1b642f98f7a37c745d97ea6",
       "value": "Validation DataLoader 0: 100%"
      }
     },
     "f9782c926810451eb327d0d235f8c462": {
      "model_module": "@jupyter-widgets/base",
      "model_module_version": "1.2.0",
      "model_name": "LayoutModel",
      "state": {
       "display": "inline-flex",
       "flex_flow": "row wrap",
       "width": "100%"
      }
     },
     "fabde1b322cf491ebc220b458b5b8204": {
      "model_module": "@jupyter-widgets/controls",
      "model_module_version": "1.5.0",
      "model_name": "HTMLModel",
      "state": {
       "layout": "IPY_MODEL_cb24c8513c984f108f4eaac77c7368bb",
       "style": "IPY_MODEL_36d9e830b63446f58229207e9a635634",
       "value": " 16/16 [00:04&lt;00:00,  3.38it/s]"
      }
     },
     "fb77233ecd9745c88123b687f6f512b1": {
      "model_module": "@jupyter-widgets/base",
      "model_module_version": "1.2.0",
      "model_name": "LayoutModel",
      "state": {
       "display": "inline-flex",
       "flex_flow": "row wrap",
       "width": "100%"
      }
     },
     "fd018d335a6b468cba5cfbbb9410f450": {
      "model_module": "@jupyter-widgets/controls",
      "model_module_version": "1.5.0",
      "model_name": "DescriptionStyleModel",
      "state": {
       "description_width": ""
      }
     },
     "fe2f967b07ac4b43a158e1b532e34035": {
      "model_module": "@jupyter-widgets/controls",
      "model_module_version": "1.5.0",
      "model_name": "DescriptionStyleModel",
      "state": {
       "description_width": ""
      }
     },
     "fe3c00ebe60b4f22963204dc3bf56dfb": {
      "model_module": "@jupyter-widgets/controls",
      "model_module_version": "1.5.0",
      "model_name": "HTMLModel",
      "state": {
       "layout": "IPY_MODEL_1349557b866c4e8e94844af894e153a3",
       "style": "IPY_MODEL_efcba7d74f21417e8da115eb4755b3f2",
       "value": " 16/16 [00:05&lt;00:00,  3.02it/s]"
      }
     },
     "ffe27c3c9b44436ba0627d8859fe5cb4": {
      "model_module": "@jupyter-widgets/controls",
      "model_module_version": "1.5.0",
      "model_name": "HTMLModel",
      "state": {
       "layout": "IPY_MODEL_06a3c3fbf4a041ec89b647e026e5d9b1",
       "style": "IPY_MODEL_7e9d3f3ddf36441d9400d74340306e3b",
       "value": " 77/77 [00:38&lt;00:00,  2.00it/s, loss=0.00957, v_num=-114]"
      }
     },
     "ffead6efd7a64896b5906944b81a7426": {
      "model_module": "@jupyter-widgets/base",
      "model_module_version": "1.2.0",
      "model_name": "LayoutModel",
      "state": {
       "flex": "2"
      }
     }
    },
    "version_major": 2,
    "version_minor": 0
   }
  }
 },
 "nbformat": 4,
 "nbformat_minor": 5
}
