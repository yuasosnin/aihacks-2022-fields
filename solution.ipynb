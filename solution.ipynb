{
 "cells": [
  {
   "cell_type": "code",
   "execution_count": 1,
   "id": "58d028dc-e7aa-4518-b85b-5d7bebc2c4e1",
   "metadata": {},
   "outputs": [],
   "source": [
    "import os, datetime\n",
    "from tqdm.notebook import tqdm\n",
    "\n",
    "import numpy as np\n",
    "import pandas as pd\n",
    "import geopandas as gpd\n",
    "import geojson\n",
    "import shapely\n",
    "import shapely.geometry"
   ]
  },
  {
   "cell_type": "code",
   "execution_count": 2,
   "id": "e33c8d81-842a-44fd-ba57-38ddb3a53fd4",
   "metadata": {},
   "outputs": [],
   "source": [
    "import matplotlib.pyplot as plt\n",
    "import contextily"
   ]
  },
  {
   "cell_type": "code",
   "execution_count": 3,
   "id": "01eadf82-118f-4952-be17-356dfb5312b8",
   "metadata": {},
   "outputs": [],
   "source": [
    "from src import *"
   ]
  },
  {
   "cell_type": "code",
   "execution_count": 4,
   "id": "62bc6036-ad3d-4f28-be59-f9b90b307d16",
   "metadata": {},
   "outputs": [],
   "source": [
    "import warnings\n",
    "warnings.filterwarnings('ignore')"
   ]
  },
  {
   "cell_type": "code",
   "execution_count": 5,
   "id": "1c5d6607-d4dd-4515-8457-5b3438e5995e",
   "metadata": {},
   "outputs": [],
   "source": [
    "data = read_data('data/train_dataset_train_2.csv')\n",
    "data_test = read_data('data/test_dataset_test_2.csv')\n",
    "data_ts, data_id = process_data(data)\n",
    "data_ts_test, data_id_test = process_data(data_test)"
   ]
  },
  {
   "cell_type": "code",
   "execution_count": 6,
   "id": "6e2370e4-8baa-4c83-9d70-ef09d1754722",
   "metadata": {},
   "outputs": [],
   "source": [
    "def add_diff(data_ts):\n",
    "    diff = data_ts.T.diff()[1:].T\n",
    "    diff.columns = [f'{x}_' for x in diff.columns]\n",
    "    return pd.concat((data_ts, diff), axis=1)"
   ]
  },
  {
   "cell_type": "code",
   "execution_count": 7,
   "id": "48cc4e62-45d5-40e1-9742-86ad3b33b546",
   "metadata": {},
   "outputs": [],
   "source": [
    "# data_ts = add_diff(data_ts)\n",
    "# data_ts_test = add_diff(data_ts_test)"
   ]
  },
  {
   "cell_type": "code",
   "execution_count": 8,
   "id": "17dec04e-2d6d-45c6-90e5-52f6ae1d0890",
   "metadata": {},
   "outputs": [],
   "source": [
    "# dates = pd.date_range(start=None, end='2021/08/27', periods=135)\n",
    "# data_ts_modis = pd.DataFrame(np.load('data_modis.npz')['arr_0'].squeeze(-1), columns=dates)\n",
    "# data_ts_modis_test = pd.DataFrame(np.load('data_modis_test.npz')['arr_0'].squeeze(-1), columns=dates)"
   ]
  },
  {
   "cell_type": "code",
   "execution_count": 9,
   "id": "5b0ce5b3-6709-4e7f-aec7-76b15471cd53",
   "metadata": {},
   "outputs": [],
   "source": [
    "data_ts_modis = pd.read_csv('data/train_dataset_modis.csv').fillna(0.0)\n",
    "data_ts_modis_test = pd.read_csv('data/test_dataset_modis.csv').fillna(0.0)"
   ]
  },
  {
   "cell_type": "code",
   "execution_count": 10,
   "id": "f9c28ac2-f94b-418d-8d70-3a60540058df",
   "metadata": {},
   "outputs": [],
   "source": [
    "# data_ts_modis = add_diff(data_ts_modis)\n",
    "# data_ts_modis_test = add_diff(data_ts_modis_test)"
   ]
  },
  {
   "cell_type": "code",
   "execution_count": 11,
   "id": "85adb038-104a-4838-b98d-fbc8dc2ac18c",
   "metadata": {},
   "outputs": [],
   "source": [
    "data_ts_landsat = pd.read_csv('data/train_dataset_landsat.csv').fillna(0)\n",
    "data_ts_landsat_test = pd.read_csv('data/test_dataset_landsat.csv').fillna(0)"
   ]
  },
  {
   "cell_type": "code",
   "execution_count": 12,
   "id": "0988671d-063a-40b8-bdb4-fc1c3dcd7da5",
   "metadata": {},
   "outputs": [],
   "source": [
    "# data_ts_landsat = add_diff(data_ts_landsat)\n",
    "# data_ts_landsat_test = add_diff(data_ts_landsat_test)"
   ]
  },
  {
   "cell_type": "code",
   "execution_count": 13,
   "id": "7d0372ad-7a3a-48b1-9f3d-b01c0fc32bc1",
   "metadata": {},
   "outputs": [],
   "source": [
    "from sklearn.model_selection import train_test_split\n",
    "from sklearn.metrics import recall_score, precision_score, accuracy_score"
   ]
  },
  {
   "cell_type": "code",
   "execution_count": 14,
   "id": "92e8275c-531f-4fbb-9849-d0d0c58854a6",
   "metadata": {},
   "outputs": [],
   "source": [
    "def get_dataset(data_ts, data_id, data_test_ts, data_test_id):\n",
    "    data_ts_train, data_ts_val, data_id_train, data_id_val = train_test_split(data_ts, data_id, test_size=0.1, random_state=1)\n",
    "    # data_train = pd.concat((data_ts_train, data_id_train[['area', 'lat', 'lon']]), axis=1)\n",
    "    # data_val = pd.concat((data_ts_val, data_id_val[['area', 'lat', 'lon']]), axis=1)\n",
    "    # data_test = pd.concat((data_ts_test, data_id_test[['area', 'lat', 'lon']]), axis=1)\n",
    "    data_train = data_ts_train\n",
    "    data_val = data_ts_val\n",
    "    data_test = data_test_ts\n",
    "\n",
    "    dataset = dict()\n",
    "    dataset['full'] = {'X': data_ts, 'y': data_id['crop']}\n",
    "    dataset['train'] = {'X': data_train, 'y': data_id_train['crop']}\n",
    "    dataset['val'] = {'X': data_val, 'y': data_id_val['crop']}\n",
    "    dataset['test'] = {'X': data_test}\n",
    "    return dataset"
   ]
  },
  {
   "cell_type": "code",
   "execution_count": 15,
   "id": "5b399703-54b2-44cd-9881-b8ee8f04962e",
   "metadata": {},
   "outputs": [],
   "source": [
    "dataset_orig = get_dataset(data_ts, data_id, data_ts_test, data_id_test)\n",
    "dataset_modis = get_dataset(data_ts_modis, data_id, data_ts_modis_test, data_id_test)\n",
    "dataset_landsat = get_dataset(data_ts_landsat, data_id, data_ts_landsat_test, data_id_test)\n",
    "dataset_concat = get_dataset(\n",
    "    pd.concat((data_ts, data_ts_modis, data_ts_landsat), axis=1), data_id, \n",
    "    pd.concat((data_ts_test, data_ts_modis_test, data_ts_landsat_test), axis=1), data_id_test)"
   ]
  },
  {
   "cell_type": "markdown",
   "id": "b658483d-3dbd-4b0c-acd4-c955ef0d6ed0",
   "metadata": {
    "jp-MarkdownHeadingCollapsed": true,
    "tags": []
   },
   "source": [
    "# sklearn"
   ]
  },
  {
   "cell_type": "code",
   "execution_count": 245,
   "id": "f27c3642-a7be-4964-96ce-2bb8807380b4",
   "metadata": {},
   "outputs": [],
   "source": [
    "SEED = 1"
   ]
  },
  {
   "cell_type": "code",
   "execution_count": 246,
   "id": "33807179-ed57-46d1-9a4f-eff8fd4868f0",
   "metadata": {},
   "outputs": [],
   "source": [
    "from sklearn.ensemble import RandomForestClassifier, GradientBoostingClassifier"
   ]
  },
  {
   "cell_type": "code",
   "execution_count": 247,
   "id": "dcef64fb-aa0f-455d-bc41-79e55833a471",
   "metadata": {},
   "outputs": [
    {
     "data": {
      "text/plain": [
       "0.9603060360196845"
      ]
     },
     "execution_count": 247,
     "metadata": {},
     "output_type": "execute_result"
    }
   ],
   "source": [
    "rf = RandomForestClassifier(n_estimators=200, random_state=SEED, verbose=False)\n",
    "rf.fit(**dataset_orig['train'])\n",
    "preds = rf.predict(dataset_orig['val']['X'])\n",
    "recall_score(preds, dataset_orig['val']['y'], average='macro')"
   ]
  },
  {
   "cell_type": "code",
   "execution_count": 248,
   "id": "fffd98aa-7358-42b0-b434-34067a880d44",
   "metadata": {},
   "outputs": [
    {
     "data": {
      "text/plain": [
       "0.5986918472170635"
      ]
     },
     "execution_count": 248,
     "metadata": {},
     "output_type": "execute_result"
    }
   ],
   "source": [
    "rf_ = RandomForestClassifier(\n",
    "    n_estimators=200, random_state=SEED, verbose=False,\n",
    "    min_samples_leaf=1)\n",
    "rf_.fit(**dataset_modis['train'])\n",
    "preds = rf_.predict(dataset_modis['val']['X'])\n",
    "recall_score(preds, dataset_modis['val']['y'], average='macro')"
   ]
  },
  {
   "cell_type": "code",
   "execution_count": 249,
   "id": "8eb5fcc3-339c-48b7-a91c-3de4edb85a16",
   "metadata": {},
   "outputs": [
    {
     "data": {
      "text/plain": [
       "0.6953205149240029"
      ]
     },
     "execution_count": 249,
     "metadata": {},
     "output_type": "execute_result"
    }
   ],
   "source": [
    "rf_ls = RandomForestClassifier(\n",
    "    n_estimators=200, random_state=SEED, verbose=False,\n",
    "    min_samples_leaf=1)\n",
    "rf_ls.fit(**dataset_landsat['train'])\n",
    "preds = rf_ls.predict(dataset_landsat['val']['X'])\n",
    "recall_score(preds, dataset_landsat['val']['y'], average='macro')"
   ]
  },
  {
   "cell_type": "code",
   "execution_count": 250,
   "id": "cafe71f6-ebd1-44aa-8c70-038eaa2101eb",
   "metadata": {},
   "outputs": [],
   "source": [
    "preds = (\n",
    "    0.8*rf.predict_proba(dataset_orig['val']['X']) + \n",
    "    0.1*rf_.predict_proba(dataset_modis['val']['X']) +\n",
    "    0.1*rf_ls.predict_proba(dataset_landsat['val']['X'])\n",
    ").argmax(axis=1)"
   ]
  },
  {
   "cell_type": "code",
   "execution_count": 251,
   "id": "7b5dada8-a5f5-40e3-8763-20f19d8560f2",
   "metadata": {},
   "outputs": [
    {
     "data": {
      "text/plain": [
       "0.9645251067787923"
      ]
     },
     "execution_count": 251,
     "metadata": {},
     "output_type": "execute_result"
    }
   ],
   "source": [
    "recall_score(preds, dataset_modis['val']['y'], average='macro')"
   ]
  },
  {
   "cell_type": "code",
   "execution_count": 255,
   "id": "08c1fd1a-29ee-404a-a489-e6568656c32c",
   "metadata": {},
   "outputs": [
    {
     "data": {
      "text/plain": [
       "0.9638116184726355"
      ]
     },
     "execution_count": 255,
     "metadata": {},
     "output_type": "execute_result"
    }
   ],
   "source": [
    "rf = RandomForestClassifier(\n",
    "    n_estimators=200, random_state=SEED, verbose=False,\n",
    "    min_samples_leaf=1)\n",
    "rf.fit(**dataset_concat['train'])\n",
    "preds = rf.predict(dataset_concat['val']['X'])\n",
    "recall_score(preds, dataset_concat['val']['y'], average='macro')"
   ]
  },
  {
   "cell_type": "code",
   "execution_count": 256,
   "id": "018f8a3b-50b9-442d-9794-b939769a1f2a",
   "metadata": {},
   "outputs": [
    {
     "data": {
      "text/plain": [
       "0.9633086367457507"
      ]
     },
     "execution_count": 256,
     "metadata": {},
     "output_type": "execute_result"
    }
   ],
   "source": [
    "gb = GradientBoostingClassifier(n_estimators=100)\n",
    "gb.fit(**dataset_concat['train'])\n",
    "preds = gb.predict(dataset_concat['val']['X'])\n",
    "recall_score(preds, dataset_concat['val']['y'], average='macro')"
   ]
  },
  {
   "cell_type": "code",
   "execution_count": null,
   "id": "90139bb8-f413-4379-b91c-35dc9342211d",
   "metadata": {
    "tags": []
   },
   "outputs": [],
   "source": [
    "from catboost import CatBoostClassifier\n",
    "model = CatBoostClassifier(\n",
    "    iterations=500,\n",
    "    learning_rate=1,\n",
    "    # depth=10,\n",
    "    random_seed=1,\n",
    "    verbose=False\n",
    ")\n",
    "model.fit(**dataset_concat['train'])\n",
    "preds = model.predict(dataset_concat['val']['X'])\n",
    "recall_score(preds, dataset_concat['val']['y'], average='macro')"
   ]
  },
  {
   "cell_type": "code",
   "execution_count": 186,
   "id": "5e2a551f-4503-4131-93a5-ae120465a3c2",
   "metadata": {},
   "outputs": [
    {
     "data": {
      "text/plain": [
       "0.6443026399804246"
      ]
     },
     "execution_count": 186,
     "metadata": {},
     "output_type": "execute_result"
    }
   ],
   "source": [
    "recall_score(preds, dataset_orig['val']['y'], average='macro')"
   ]
  },
  {
   "cell_type": "code",
   "execution_count": 15,
   "id": "b712468a-34d1-4681-a047-ca29bc527eef",
   "metadata": {},
   "outputs": [],
   "source": [
    "from sktime.classification.distance_based import KNeighborsTimeSeriesClassifier"
   ]
  },
  {
   "cell_type": "code",
   "execution_count": 16,
   "id": "bc75ac28-b564-4b87-a446-12cdd4fb37dc",
   "metadata": {},
   "outputs": [
    {
     "data": {
      "text/plain": [
       "0.771540088080925"
      ]
     },
     "execution_count": 16,
     "metadata": {},
     "output_type": "execute_result"
    }
   ],
   "source": [
    "model = KNeighborsTimeSeriesClassifier(n_neighbors=10)\n",
    "model.fit(dataset_orig['train']['X'].values, dataset_orig['train']['y'])\n",
    "preds = model.predict(dataset_orig['val']['X'].values)\n",
    "recall_score(preds, dataset_orig['val']['y'], average='macro')"
   ]
  },
  {
   "cell_type": "code",
   "execution_count": 17,
   "id": "a10c05e3-1226-4e68-95b0-af6c01e0c404",
   "metadata": {},
   "outputs": [
    {
     "data": {
      "text/plain": [
       "0.792783539714341"
      ]
     },
     "execution_count": 17,
     "metadata": {},
     "output_type": "execute_result"
    }
   ],
   "source": [
    "model = KNeighborsTimeSeriesClassifier(n_neighbors=20)\n",
    "model.fit(dataset_orig['train']['X'].values, dataset_orig['train']['y'])\n",
    "preds = model.predict(dataset_orig['val']['X'].values)\n",
    "recall_score(preds, dataset_orig['val']['y'], average='macro')"
   ]
  },
  {
   "cell_type": "code",
   "execution_count": 23,
   "id": "724711d0-8be7-41cb-8370-8ed6dac4683c",
   "metadata": {},
   "outputs": [
    {
     "data": {
      "text/plain": [
       "0.7834449463857383"
      ]
     },
     "execution_count": 23,
     "metadata": {},
     "output_type": "execute_result"
    }
   ],
   "source": [
    "model = KNeighborsTimeSeriesClassifier(n_neighbors=100)\n",
    "model.fit(dataset_orig['train']['X'].values, dataset_orig['train']['y'])\n",
    "preds = model.predict(dataset_orig['val']['X'].values)\n",
    "recall_score(preds, dataset_orig['val']['y'], average='macro')"
   ]
  },
  {
   "cell_type": "markdown",
   "id": "7d8ed949-3881-4af3-84f6-24a4082f88b7",
   "metadata": {
    "tags": []
   },
   "source": [
    "# neural"
   ]
  },
  {
   "cell_type": "code",
   "execution_count": 16,
   "id": "fc8ed51f-c40e-4a21-bed4-45f7ac03fbe2",
   "metadata": {},
   "outputs": [],
   "source": [
    "import torch\n",
    "import torch.nn as nn\n",
    "from torch.utils.data import random_split\n",
    "import pytorch_lightning as pl\n",
    "from pytorch_lightning.callbacks import LearningRateMonitor, ModelCheckpoint\n",
    "from pytorch_lightning.loggers import NeptuneLogger"
   ]
  },
  {
   "cell_type": "code",
   "execution_count": 17,
   "id": "803a48d6-2656-4893-a907-cbe7c5817af1",
   "metadata": {},
   "outputs": [],
   "source": [
    "with open('.api_key') as f:\n",
    "    API_KEY = f.read()"
   ]
  },
  {
   "cell_type": "code",
   "execution_count": 18,
   "id": "8882d040-9d36-48d1-8f69-106275a51bf4",
   "metadata": {},
   "outputs": [],
   "source": [
    "from src import StackRNN, StackTransformer, StackDataset, StackDataModule"
   ]
  },
  {
   "cell_type": "code",
   "execution_count": 19,
   "id": "e5f3ca9f-7e11-4acc-8f02-d8cc701ee309",
   "metadata": {},
   "outputs": [],
   "source": [
    "g = torch.Generator()\n",
    "g.manual_seed(1)\n",
    "        \n",
    "dataset = StackDataset(\n",
    "    dataset_orig['full']['X'], dataset_modis['full']['X'], dataset_landsat['full']['X'], \n",
    "    y=dataset_orig['full']['y'])\n",
    "train_dataset, val_dataset = random_split(dataset, lengths=[int(len(dataset)*0.8), int(len(dataset)*0.2)], generator=g)\n",
    "test_dataset = StackDataset(dataset_orig['test']['X'], dataset_modis['test']['X'], dataset_landsat['test']['X'], y=None)"
   ]
  },
  {
   "cell_type": "markdown",
   "id": "00b49fc7-7bea-46c5-ae63-2ddd22958831",
   "metadata": {
    "jp-MarkdownHeadingCollapsed": true,
    "tags": []
   },
   "source": [
    "### RNN"
   ]
  },
  {
   "cell_type": "code",
   "execution_count": 105,
   "id": "59119c40-ad26-4174-9e4f-9472a733af81",
   "metadata": {},
   "outputs": [],
   "source": [
    "best_checkpointer = ModelCheckpoint(save_top_k=1, save_last=True, monitor='valid_loss', filename='best')\n",
    "neptune_logger = NeptuneLogger(\n",
    "    api_key=API_KEY,\n",
    "    project='fant0md/aihacks-2022-fields')\n",
    "lr_monitor = LearningRateMonitor(logging_interval ='epoch')"
   ]
  },
  {
   "cell_type": "code",
   "execution_count": 113,
   "id": "a47bf216-508b-419c-acae-e4143da2f926",
   "metadata": {},
   "outputs": [
    {
     "name": "stderr",
     "output_type": "stream",
     "text": [
      "GPU available: False, used: False\n",
      "TPU available: False, using: 0 TPU cores\n",
      "IPU available: False, using: 0 IPUs\n",
      "HPU available: False, using: 0 HPUs\n"
     ]
    }
   ],
   "source": [
    "trainer = pl.Trainer(\n",
    "    log_every_n_steps=1, \n",
    "    logger=neptune_logger, \n",
    "    callbacks=[best_checkpointer, lr_monitor], \n",
    "    max_epochs=50, \n",
    "    accelerator='auto',\n",
    "    devices=1)"
   ]
  },
  {
   "cell_type": "code",
   "execution_count": 107,
   "id": "a70dd4e3-3bf4-4eac-947b-0afd4e93560a",
   "metadata": {},
   "outputs": [],
   "source": [
    "pl_model = StackRNN(hidden_size=64, layers=2, dropout=0.5, lr=0.01, wd=0, gamma=0.9)\n",
    "pl_data = StackDataModule(train_dataset, val_dataset, test_dataset, batch_size=64)"
   ]
  },
  {
   "cell_type": "code",
   "execution_count": 108,
   "id": "6822c7ec-ddaf-4e50-a65d-ebec5f7465e5",
   "metadata": {
    "collapsed": true,
    "jupyter": {
     "outputs_hidden": true
    },
    "tags": []
   },
   "outputs": [
    {
     "name": "stderr",
     "output_type": "stream",
     "text": [
      "\n",
      "  | Name         | Type             | Params\n",
      "--------------------------------------------------\n",
      "0 | rnn1         | GRU              | 100 K \n",
      "1 | rnn2         | GRU              | 100 K \n",
      "2 | rnn3         | GRU              | 100 K \n",
      "3 | fc           | Sequential       | 67.6 K\n",
      "4 | act          | ReLU             | 0     \n",
      "5 | criterion    | CrossEntropyLoss | 0     \n",
      "6 | train_recall | Recall           | 0     \n",
      "7 | valid_recall | Recall           | 0     \n",
      "--------------------------------------------------\n",
      "368 K     Trainable params\n",
      "0         Non-trainable params\n",
      "368 K     Total params\n",
      "1.473     Total estimated model params size (MB)\n"
     ]
    },
    {
     "name": "stdout",
     "output_type": "stream",
     "text": [
      "https://app.neptune.ai/fant0md/aihacks-2022-fields/e/AIH-50\n",
      "Remember to stop your run once you’ve finished logging your metadata (https://docs.neptune.ai/api-reference/run#.stop). It will be stopped automatically only when the notebook kernel/interactive console is terminated.\n"
     ]
    },
    {
     "data": {
      "application/vnd.jupyter.widget-view+json": {
       "model_id": "",
       "version_major": 2,
       "version_minor": 0
      },
      "text/plain": [
       "Sanity Checking: 0it [00:00, ?it/s]"
      ]
     },
     "metadata": {},
     "output_type": "display_data"
    },
    {
     "data": {
      "application/vnd.jupyter.widget-view+json": {
       "model_id": "2b8c236bda264f28a2cad2586d523129",
       "version_major": 2,
       "version_minor": 0
      },
      "text/plain": [
       "Training: 0it [00:00, ?it/s]"
      ]
     },
     "metadata": {},
     "output_type": "display_data"
    },
    {
     "data": {
      "application/vnd.jupyter.widget-view+json": {
       "model_id": "",
       "version_major": 2,
       "version_minor": 0
      },
      "text/plain": [
       "Validation: 0it [00:00, ?it/s]"
      ]
     },
     "metadata": {},
     "output_type": "display_data"
    },
    {
     "data": {
      "application/vnd.jupyter.widget-view+json": {
       "model_id": "",
       "version_major": 2,
       "version_minor": 0
      },
      "text/plain": [
       "Validation: 0it [00:00, ?it/s]"
      ]
     },
     "metadata": {},
     "output_type": "display_data"
    },
    {
     "data": {
      "application/vnd.jupyter.widget-view+json": {
       "model_id": "",
       "version_major": 2,
       "version_minor": 0
      },
      "text/plain": [
       "Validation: 0it [00:00, ?it/s]"
      ]
     },
     "metadata": {},
     "output_type": "display_data"
    },
    {
     "data": {
      "application/vnd.jupyter.widget-view+json": {
       "model_id": "",
       "version_major": 2,
       "version_minor": 0
      },
      "text/plain": [
       "Validation: 0it [00:00, ?it/s]"
      ]
     },
     "metadata": {},
     "output_type": "display_data"
    },
    {
     "data": {
      "application/vnd.jupyter.widget-view+json": {
       "model_id": "",
       "version_major": 2,
       "version_minor": 0
      },
      "text/plain": [
       "Validation: 0it [00:00, ?it/s]"
      ]
     },
     "metadata": {},
     "output_type": "display_data"
    },
    {
     "data": {
      "application/vnd.jupyter.widget-view+json": {
       "model_id": "",
       "version_major": 2,
       "version_minor": 0
      },
      "text/plain": [
       "Validation: 0it [00:00, ?it/s]"
      ]
     },
     "metadata": {},
     "output_type": "display_data"
    },
    {
     "data": {
      "application/vnd.jupyter.widget-view+json": {
       "model_id": "",
       "version_major": 2,
       "version_minor": 0
      },
      "text/plain": [
       "Validation: 0it [00:00, ?it/s]"
      ]
     },
     "metadata": {},
     "output_type": "display_data"
    },
    {
     "data": {
      "application/vnd.jupyter.widget-view+json": {
       "model_id": "",
       "version_major": 2,
       "version_minor": 0
      },
      "text/plain": [
       "Validation: 0it [00:00, ?it/s]"
      ]
     },
     "metadata": {},
     "output_type": "display_data"
    },
    {
     "data": {
      "application/vnd.jupyter.widget-view+json": {
       "model_id": "",
       "version_major": 2,
       "version_minor": 0
      },
      "text/plain": [
       "Validation: 0it [00:00, ?it/s]"
      ]
     },
     "metadata": {},
     "output_type": "display_data"
    },
    {
     "data": {
      "application/vnd.jupyter.widget-view+json": {
       "model_id": "",
       "version_major": 2,
       "version_minor": 0
      },
      "text/plain": [
       "Validation: 0it [00:00, ?it/s]"
      ]
     },
     "metadata": {},
     "output_type": "display_data"
    },
    {
     "data": {
      "application/vnd.jupyter.widget-view+json": {
       "model_id": "",
       "version_major": 2,
       "version_minor": 0
      },
      "text/plain": [
       "Validation: 0it [00:00, ?it/s]"
      ]
     },
     "metadata": {},
     "output_type": "display_data"
    },
    {
     "data": {
      "application/vnd.jupyter.widget-view+json": {
       "model_id": "",
       "version_major": 2,
       "version_minor": 0
      },
      "text/plain": [
       "Validation: 0it [00:00, ?it/s]"
      ]
     },
     "metadata": {},
     "output_type": "display_data"
    },
    {
     "data": {
      "application/vnd.jupyter.widget-view+json": {
       "model_id": "",
       "version_major": 2,
       "version_minor": 0
      },
      "text/plain": [
       "Validation: 0it [00:00, ?it/s]"
      ]
     },
     "metadata": {},
     "output_type": "display_data"
    },
    {
     "data": {
      "application/vnd.jupyter.widget-view+json": {
       "model_id": "",
       "version_major": 2,
       "version_minor": 0
      },
      "text/plain": [
       "Validation: 0it [00:00, ?it/s]"
      ]
     },
     "metadata": {},
     "output_type": "display_data"
    },
    {
     "data": {
      "application/vnd.jupyter.widget-view+json": {
       "model_id": "",
       "version_major": 2,
       "version_minor": 0
      },
      "text/plain": [
       "Validation: 0it [00:00, ?it/s]"
      ]
     },
     "metadata": {},
     "output_type": "display_data"
    },
    {
     "data": {
      "application/vnd.jupyter.widget-view+json": {
       "model_id": "",
       "version_major": 2,
       "version_minor": 0
      },
      "text/plain": [
       "Validation: 0it [00:00, ?it/s]"
      ]
     },
     "metadata": {},
     "output_type": "display_data"
    },
    {
     "data": {
      "application/vnd.jupyter.widget-view+json": {
       "model_id": "",
       "version_major": 2,
       "version_minor": 0
      },
      "text/plain": [
       "Validation: 0it [00:00, ?it/s]"
      ]
     },
     "metadata": {},
     "output_type": "display_data"
    },
    {
     "data": {
      "application/vnd.jupyter.widget-view+json": {
       "model_id": "",
       "version_major": 2,
       "version_minor": 0
      },
      "text/plain": [
       "Validation: 0it [00:00, ?it/s]"
      ]
     },
     "metadata": {},
     "output_type": "display_data"
    },
    {
     "data": {
      "application/vnd.jupyter.widget-view+json": {
       "model_id": "",
       "version_major": 2,
       "version_minor": 0
      },
      "text/plain": [
       "Validation: 0it [00:00, ?it/s]"
      ]
     },
     "metadata": {},
     "output_type": "display_data"
    },
    {
     "data": {
      "application/vnd.jupyter.widget-view+json": {
       "model_id": "",
       "version_major": 2,
       "version_minor": 0
      },
      "text/plain": [
       "Validation: 0it [00:00, ?it/s]"
      ]
     },
     "metadata": {},
     "output_type": "display_data"
    },
    {
     "data": {
      "application/vnd.jupyter.widget-view+json": {
       "model_id": "",
       "version_major": 2,
       "version_minor": 0
      },
      "text/plain": [
       "Validation: 0it [00:00, ?it/s]"
      ]
     },
     "metadata": {},
     "output_type": "display_data"
    },
    {
     "data": {
      "application/vnd.jupyter.widget-view+json": {
       "model_id": "",
       "version_major": 2,
       "version_minor": 0
      },
      "text/plain": [
       "Validation: 0it [00:00, ?it/s]"
      ]
     },
     "metadata": {},
     "output_type": "display_data"
    },
    {
     "data": {
      "application/vnd.jupyter.widget-view+json": {
       "model_id": "",
       "version_major": 2,
       "version_minor": 0
      },
      "text/plain": [
       "Validation: 0it [00:00, ?it/s]"
      ]
     },
     "metadata": {},
     "output_type": "display_data"
    },
    {
     "data": {
      "application/vnd.jupyter.widget-view+json": {
       "model_id": "",
       "version_major": 2,
       "version_minor": 0
      },
      "text/plain": [
       "Validation: 0it [00:00, ?it/s]"
      ]
     },
     "metadata": {},
     "output_type": "display_data"
    },
    {
     "data": {
      "application/vnd.jupyter.widget-view+json": {
       "model_id": "",
       "version_major": 2,
       "version_minor": 0
      },
      "text/plain": [
       "Validation: 0it [00:00, ?it/s]"
      ]
     },
     "metadata": {},
     "output_type": "display_data"
    },
    {
     "data": {
      "application/vnd.jupyter.widget-view+json": {
       "model_id": "",
       "version_major": 2,
       "version_minor": 0
      },
      "text/plain": [
       "Validation: 0it [00:00, ?it/s]"
      ]
     },
     "metadata": {},
     "output_type": "display_data"
    },
    {
     "data": {
      "application/vnd.jupyter.widget-view+json": {
       "model_id": "",
       "version_major": 2,
       "version_minor": 0
      },
      "text/plain": [
       "Validation: 0it [00:00, ?it/s]"
      ]
     },
     "metadata": {},
     "output_type": "display_data"
    },
    {
     "data": {
      "application/vnd.jupyter.widget-view+json": {
       "model_id": "",
       "version_major": 2,
       "version_minor": 0
      },
      "text/plain": [
       "Validation: 0it [00:00, ?it/s]"
      ]
     },
     "metadata": {},
     "output_type": "display_data"
    }
   ],
   "source": [
    "trainer.fit(pl_model, pl_data)"
   ]
  },
  {
   "cell_type": "markdown",
   "id": "620d4e0c-af0b-4048-81a2-2de6df255e66",
   "metadata": {
    "tags": []
   },
   "source": [
    "### Transformer"
   ]
  },
  {
   "cell_type": "code",
   "execution_count": 62,
   "id": "0ddf08e7-031f-4e52-8357-5f81c2a155c6",
   "metadata": {},
   "outputs": [
    {
     "name": "stderr",
     "output_type": "stream",
     "text": [
      "GPU available: False, used: False\n",
      "TPU available: False, using: 0 TPU cores\n",
      "IPU available: False, using: 0 IPUs\n",
      "HPU available: False, using: 0 HPUs\n"
     ]
    }
   ],
   "source": [
    "best_checkpointer = ModelCheckpoint(save_top_k=1, save_last=True, monitor='valid_loss', filename='best')\n",
    "neptune_logger = NeptuneLogger(\n",
    "    api_key=API_KEY,\n",
    "    project='fant0md/aihacks-2022-fields')\n",
    "lr_monitor = LearningRateMonitor(logging_interval ='epoch')\n",
    "\n",
    "trainer = pl.Trainer(\n",
    "    log_every_n_steps=1, \n",
    "    logger=neptune_logger, \n",
    "    callbacks=[best_checkpointer, lr_monitor], \n",
    "    max_epochs=25, \n",
    "    accelerator='auto',\n",
    "    devices=1)"
   ]
  },
  {
   "cell_type": "code",
   "execution_count": 63,
   "id": "3ed5e414-f671-4b18-bd9b-368fac3013d0",
   "metadata": {},
   "outputs": [],
   "source": [
    "pl_model = StackTransformer(\n",
    "    d_model=128, \n",
    "    nhead=8, \n",
    "    dim_feedforward=128, \n",
    "    d_head=128, \n",
    "    num_layers=2, \n",
    "    num_head_layers=1, \n",
    "    dropout=0, \n",
    "    activation=\"relu\",\n",
    "    lr=0.0001, wd=0.00001, gamma=0.99)\n",
    "pl_data = StackDataModule(train_dataset, val_dataset, test_dataset, batch_size=64)"
   ]
  },
  {
   "cell_type": "code",
   "execution_count": 64,
   "id": "bfacbb49-588d-434e-910b-7759d6c48e44",
   "metadata": {
    "tags": []
   },
   "outputs": [
    {
     "name": "stderr",
     "output_type": "stream",
     "text": [
      "\n",
      "  | Name         | Type             | Params\n",
      "--------------------------------------------------\n",
      "0 | models       | ModuleList       | 4.3 M \n",
      "1 | act          | ReLU             | 0     \n",
      "2 | head         | MLP              | 17.4 K\n",
      "3 | criterion    | CrossEntropyLoss | 0     \n",
      "4 | train_recall | Recall           | 0     \n",
      "5 | valid_recall | Recall           | 0     \n",
      "--------------------------------------------------\n",
      "4.4 M     Trainable params\n",
      "0         Non-trainable params\n",
      "4.4 M     Total params\n",
      "17.445    Total estimated model params size (MB)\n"
     ]
    },
    {
     "name": "stdout",
     "output_type": "stream",
     "text": [
      "https://app.neptune.ai/fant0md/aihacks-2022-fields/e/AIH-77\n",
      "Remember to stop your run once you’ve finished logging your metadata (https://docs.neptune.ai/api-reference/run#.stop). It will be stopped automatically only when the notebook kernel/interactive console is terminated.\n"
     ]
    },
    {
     "data": {
      "application/vnd.jupyter.widget-view+json": {
       "model_id": "",
       "version_major": 2,
       "version_minor": 0
      },
      "text/plain": [
       "Sanity Checking: 0it [00:00, ?it/s]"
      ]
     },
     "metadata": {},
     "output_type": "display_data"
    },
    {
     "data": {
      "application/vnd.jupyter.widget-view+json": {
       "model_id": "2b541de7cb4440779d681b8a76356972",
       "version_major": 2,
       "version_minor": 0
      },
      "text/plain": [
       "Training: 0it [00:00, ?it/s]"
      ]
     },
     "metadata": {},
     "output_type": "display_data"
    },
    {
     "data": {
      "application/vnd.jupyter.widget-view+json": {
       "model_id": "",
       "version_major": 2,
       "version_minor": 0
      },
      "text/plain": [
       "Validation: 0it [00:00, ?it/s]"
      ]
     },
     "metadata": {},
     "output_type": "display_data"
    },
    {
     "data": {
      "application/vnd.jupyter.widget-view+json": {
       "model_id": "",
       "version_major": 2,
       "version_minor": 0
      },
      "text/plain": [
       "Validation: 0it [00:00, ?it/s]"
      ]
     },
     "metadata": {},
     "output_type": "display_data"
    },
    {
     "data": {
      "application/vnd.jupyter.widget-view+json": {
       "model_id": "",
       "version_major": 2,
       "version_minor": 0
      },
      "text/plain": [
       "Validation: 0it [00:00, ?it/s]"
      ]
     },
     "metadata": {},
     "output_type": "display_data"
    },
    {
     "data": {
      "application/vnd.jupyter.widget-view+json": {
       "model_id": "",
       "version_major": 2,
       "version_minor": 0
      },
      "text/plain": [
       "Validation: 0it [00:00, ?it/s]"
      ]
     },
     "metadata": {},
     "output_type": "display_data"
    },
    {
     "data": {
      "application/vnd.jupyter.widget-view+json": {
       "model_id": "",
       "version_major": 2,
       "version_minor": 0
      },
      "text/plain": [
       "Validation: 0it [00:00, ?it/s]"
      ]
     },
     "metadata": {},
     "output_type": "display_data"
    },
    {
     "name": "stdout",
     "output_type": "stream",
     "text": [
      "File C:\\Repositories\\aihacks-2022-fields\\.neptune\\None\\version_None\\checkpoints\\last.ckpt changed during upload, restarting upload.\n"
     ]
    },
    {
     "data": {
      "application/vnd.jupyter.widget-view+json": {
       "model_id": "",
       "version_major": 2,
       "version_minor": 0
      },
      "text/plain": [
       "Validation: 0it [00:00, ?it/s]"
      ]
     },
     "metadata": {},
     "output_type": "display_data"
    },
    {
     "name": "stdout",
     "output_type": "stream",
     "text": [
      "File C:\\Repositories\\aihacks-2022-fields\\.neptune\\None\\version_None\\checkpoints\\best-v37.ckpt changed during upload, restarting upload.\n"
     ]
    },
    {
     "data": {
      "application/vnd.jupyter.widget-view+json": {
       "model_id": "",
       "version_major": 2,
       "version_minor": 0
      },
      "text/plain": [
       "Validation: 0it [00:00, ?it/s]"
      ]
     },
     "metadata": {},
     "output_type": "display_data"
    },
    {
     "name": "stdout",
     "output_type": "stream",
     "text": [
      "File C:\\Repositories\\aihacks-2022-fields\\.neptune\\None\\version_None\\checkpoints\\last.ckpt changed during upload, restarting upload.\n"
     ]
    },
    {
     "data": {
      "application/vnd.jupyter.widget-view+json": {
       "model_id": "",
       "version_major": 2,
       "version_minor": 0
      },
      "text/plain": [
       "Validation: 0it [00:00, ?it/s]"
      ]
     },
     "metadata": {},
     "output_type": "display_data"
    },
    {
     "data": {
      "application/vnd.jupyter.widget-view+json": {
       "model_id": "",
       "version_major": 2,
       "version_minor": 0
      },
      "text/plain": [
       "Validation: 0it [00:00, ?it/s]"
      ]
     },
     "metadata": {},
     "output_type": "display_data"
    },
    {
     "data": {
      "application/vnd.jupyter.widget-view+json": {
       "model_id": "",
       "version_major": 2,
       "version_minor": 0
      },
      "text/plain": [
       "Validation: 0it [00:00, ?it/s]"
      ]
     },
     "metadata": {},
     "output_type": "display_data"
    },
    {
     "data": {
      "application/vnd.jupyter.widget-view+json": {
       "model_id": "",
       "version_major": 2,
       "version_minor": 0
      },
      "text/plain": [
       "Validation: 0it [00:00, ?it/s]"
      ]
     },
     "metadata": {},
     "output_type": "display_data"
    },
    {
     "data": {
      "application/vnd.jupyter.widget-view+json": {
       "model_id": "",
       "version_major": 2,
       "version_minor": 0
      },
      "text/plain": [
       "Validation: 0it [00:00, ?it/s]"
      ]
     },
     "metadata": {},
     "output_type": "display_data"
    },
    {
     "data": {
      "application/vnd.jupyter.widget-view+json": {
       "model_id": "",
       "version_major": 2,
       "version_minor": 0
      },
      "text/plain": [
       "Validation: 0it [00:00, ?it/s]"
      ]
     },
     "metadata": {},
     "output_type": "display_data"
    },
    {
     "data": {
      "application/vnd.jupyter.widget-view+json": {
       "model_id": "",
       "version_major": 2,
       "version_minor": 0
      },
      "text/plain": [
       "Validation: 0it [00:00, ?it/s]"
      ]
     },
     "metadata": {},
     "output_type": "display_data"
    },
    {
     "data": {
      "application/vnd.jupyter.widget-view+json": {
       "model_id": "",
       "version_major": 2,
       "version_minor": 0
      },
      "text/plain": [
       "Validation: 0it [00:00, ?it/s]"
      ]
     },
     "metadata": {},
     "output_type": "display_data"
    },
    {
     "data": {
      "application/vnd.jupyter.widget-view+json": {
       "model_id": "",
       "version_major": 2,
       "version_minor": 0
      },
      "text/plain": [
       "Validation: 0it [00:00, ?it/s]"
      ]
     },
     "metadata": {},
     "output_type": "display_data"
    },
    {
     "data": {
      "application/vnd.jupyter.widget-view+json": {
       "model_id": "",
       "version_major": 2,
       "version_minor": 0
      },
      "text/plain": [
       "Validation: 0it [00:00, ?it/s]"
      ]
     },
     "metadata": {},
     "output_type": "display_data"
    },
    {
     "data": {
      "application/vnd.jupyter.widget-view+json": {
       "model_id": "",
       "version_major": 2,
       "version_minor": 0
      },
      "text/plain": [
       "Validation: 0it [00:00, ?it/s]"
      ]
     },
     "metadata": {},
     "output_type": "display_data"
    },
    {
     "data": {
      "application/vnd.jupyter.widget-view+json": {
       "model_id": "",
       "version_major": 2,
       "version_minor": 0
      },
      "text/plain": [
       "Validation: 0it [00:00, ?it/s]"
      ]
     },
     "metadata": {},
     "output_type": "display_data"
    },
    {
     "data": {
      "application/vnd.jupyter.widget-view+json": {
       "model_id": "",
       "version_major": 2,
       "version_minor": 0
      },
      "text/plain": [
       "Validation: 0it [00:00, ?it/s]"
      ]
     },
     "metadata": {},
     "output_type": "display_data"
    },
    {
     "data": {
      "application/vnd.jupyter.widget-view+json": {
       "model_id": "",
       "version_major": 2,
       "version_minor": 0
      },
      "text/plain": [
       "Validation: 0it [00:00, ?it/s]"
      ]
     },
     "metadata": {},
     "output_type": "display_data"
    },
    {
     "data": {
      "application/vnd.jupyter.widget-view+json": {
       "model_id": "",
       "version_major": 2,
       "version_minor": 0
      },
      "text/plain": [
       "Validation: 0it [00:00, ?it/s]"
      ]
     },
     "metadata": {},
     "output_type": "display_data"
    },
    {
     "data": {
      "application/vnd.jupyter.widget-view+json": {
       "model_id": "",
       "version_major": 2,
       "version_minor": 0
      },
      "text/plain": [
       "Validation: 0it [00:00, ?it/s]"
      ]
     },
     "metadata": {},
     "output_type": "display_data"
    },
    {
     "data": {
      "application/vnd.jupyter.widget-view+json": {
       "model_id": "",
       "version_major": 2,
       "version_minor": 0
      },
      "text/plain": [
       "Validation: 0it [00:00, ?it/s]"
      ]
     },
     "metadata": {},
     "output_type": "display_data"
    },
    {
     "data": {
      "application/vnd.jupyter.widget-view+json": {
       "model_id": "",
       "version_major": 2,
       "version_minor": 0
      },
      "text/plain": [
       "Validation: 0it [00:00, ?it/s]"
      ]
     },
     "metadata": {},
     "output_type": "display_data"
    }
   ],
   "source": [
    "trainer.fit(pl_model, pl_data)"
   ]
  },
  {
   "cell_type": "markdown",
   "id": "2e273401-330c-4ddc-9f7c-9f6ad9fa42c3",
   "metadata": {},
   "source": [
    "## submission"
   ]
  },
  {
   "cell_type": "code",
   "execution_count": 36,
   "id": "df827422-ca96-410e-84f1-1166d8e382de",
   "metadata": {},
   "outputs": [
    {
     "data": {
      "application/vnd.jupyter.widget-view+json": {
       "model_id": "d42b99bd0cf84a2bbdf1b02b537cf402",
       "version_major": 2,
       "version_minor": 0
      },
      "text/plain": [
       "Predicting: 4it [00:00, ?it/s]"
      ]
     },
     "metadata": {},
     "output_type": "display_data"
    }
   ],
   "source": [
    "preds = trainer.predict(pl_model, pl_data)"
   ]
  },
  {
   "cell_type": "code",
   "execution_count": 37,
   "id": "18468dd0-4caa-4a45-8321-bd238d2ca6c4",
   "metadata": {},
   "outputs": [],
   "source": [
    "submission = pd.read_csv('sample_solution.csv')\n",
    "submission['crop'] = torch.cat(preds).argmax(1)"
   ]
  },
  {
   "cell_type": "code",
   "execution_count": 38,
   "id": "f5287fee-7c8f-4244-b923-04fb671d9f31",
   "metadata": {},
   "outputs": [],
   "source": [
    "submission.to_csv('submission.csv', index=False)"
   ]
  },
  {
   "cell_type": "code",
   "execution_count": 52,
   "id": "ec80cf3b-20b5-4689-bd04-b25e951c674d",
   "metadata": {},
   "outputs": [
    {
     "data": {
      "text/plain": [
       "0.9739770188850626"
      ]
     },
     "execution_count": 52,
     "metadata": {},
     "output_type": "execute_result"
    }
   ],
   "source": [
    "leaks = pd.read_csv('.hide/leaks.csv')\n",
    "leaks = pd.merge(leaks, submission, on=['id'], how='left')\n",
    "recall_score(leaks['crop_old'], leaks['crop'], average='macro')"
   ]
  },
  {
   "cell_type": "code",
   "execution_count": null,
   "id": "3b278bee-270a-4dce-9692-3126ed9d6055",
   "metadata": {},
   "outputs": [],
   "source": []
  }
 ],
 "metadata": {
  "kernelspec": {
   "display_name": "Python 3",
   "language": "python",
   "name": "python3"
  },
  "language_info": {
   "codemirror_mode": {
    "name": "ipython",
    "version": 3
   },
   "file_extension": ".py",
   "mimetype": "text/x-python",
   "name": "python",
   "nbconvert_exporter": "python",
   "pygments_lexer": "ipython3",
   "version": "3.9.4"
  },
  "widgets": {
   "application/vnd.jupyter.widget-state+json": {
    "state": {
     "0013d74c62b84674a99d19bac6504c41": {
      "model_module": "@jupyter-widgets/controls",
      "model_module_version": "1.5.0",
      "model_name": "HTMLModel",
      "state": {
       "layout": "IPY_MODEL_f7f6a6dfd47f4312aeeb8b888332a79f",
       "style": "IPY_MODEL_4c70a79d1adc424e8efad11b0f6020f3",
       "value": "Validation DataLoader 0: 100%"
      }
     },
     "0034df282a814476afdea9058f6c3d6f": {
      "model_module": "@jupyter-widgets/base",
      "model_module_version": "1.2.0",
      "model_name": "LayoutModel",
      "state": {}
     },
     "004d1123256e449891e7194a63c464b9": {
      "model_module": "@jupyter-widgets/controls",
      "model_module_version": "1.5.0",
      "model_name": "DescriptionStyleModel",
      "state": {
       "description_width": ""
      }
     },
     "00517c8275174474a634439fdb7f58fd": {
      "model_module": "@jupyter-widgets/controls",
      "model_module_version": "1.5.0",
      "model_name": "HTMLModel",
      "state": {
       "layout": "IPY_MODEL_5b9be3ae82f5450dbf0b14da76103e8d",
       "style": "IPY_MODEL_383c066727b240abb85bc73043da3264",
       "value": " 16/16 [00:01&lt;00:00,  8.27it/s]"
      }
     },
     "00552d30560c4077ab9b26ed787de759": {
      "model_module": "@jupyter-widgets/controls",
      "model_module_version": "1.5.0",
      "model_name": "ProgressStyleModel",
      "state": {
       "description_width": ""
      }
     },
     "0090cd56273f411facfb583b8c25f50d": {
      "model_module": "@jupyter-widgets/base",
      "model_module_version": "1.2.0",
      "model_name": "LayoutModel",
      "state": {
       "display": "inline-flex",
       "flex_flow": "row wrap",
       "width": "100%"
      }
     },
     "00aca2de179f4ababe56c2a1e7227501": {
      "model_module": "@jupyter-widgets/controls",
      "model_module_version": "1.5.0",
      "model_name": "HTMLModel",
      "state": {
       "layout": "IPY_MODEL_a8d2d6234264495c99c4769794771ce1",
       "style": "IPY_MODEL_6e2cee789dce43f4a30455a79c1c99eb",
       "value": "Validation DataLoader 0: 100%"
      }
     },
     "00aceaa677514580b31f5ad8043f4537": {
      "model_module": "@jupyter-widgets/controls",
      "model_module_version": "1.5.0",
      "model_name": "FloatProgressModel",
      "state": {
       "layout": "IPY_MODEL_1c9c6f6bc7ca4c909b209846bf377ab5",
       "max": 77,
       "style": "IPY_MODEL_64b507c88a2a41a8b7389100253b8781",
       "value": 47
      }
     },
     "00be6373de404cbfb9b92904c10cf947": {
      "model_module": "@jupyter-widgets/base",
      "model_module_version": "1.2.0",
      "model_name": "LayoutModel",
      "state": {
       "display": "inline-flex",
       "flex_flow": "row wrap",
       "width": "100%"
      }
     },
     "00cdbd8571a849d4bce0d6997371b3d3": {
      "model_module": "@jupyter-widgets/controls",
      "model_module_version": "1.5.0",
      "model_name": "DescriptionStyleModel",
      "state": {
       "description_width": ""
      }
     },
     "00f156d62459443ead5ca461f618601f": {
      "model_module": "@jupyter-widgets/controls",
      "model_module_version": "1.5.0",
      "model_name": "HTMLModel",
      "state": {
       "layout": "IPY_MODEL_4f533bc66d3d46f9a90cd70ba6ac1440",
       "style": "IPY_MODEL_0531a98b9e8f48a68ffa840a1d0656ad",
       "value": " 16/16 [00:01&lt;00:00,  8.90it/s]"
      }
     },
     "0114f7eb90464cd5bb2d1ac051982072": {
      "model_module": "@jupyter-widgets/controls",
      "model_module_version": "1.5.0",
      "model_name": "HTMLModel",
      "state": {
       "layout": "IPY_MODEL_5cb0c02a27954756890596c3ca3ab599",
       "style": "IPY_MODEL_e13f08ba810c4b52a859b9473d159a76",
       "value": "Validation DataLoader 0: 100%"
      }
     },
     "0118ecc1afe040a889ea9397e54bbd44": {
      "model_module": "@jupyter-widgets/controls",
      "model_module_version": "1.5.0",
      "model_name": "HTMLModel",
      "state": {
       "layout": "IPY_MODEL_f679867e2d3a46deb7368ef8533e770a",
       "style": "IPY_MODEL_b9fa9a07abc8474fa71d11dfdbd3f20c",
       "value": "Validation DataLoader 0: 100%"
      }
     },
     "011a089f43bc466895d3270afb9ef21a": {
      "model_module": "@jupyter-widgets/base",
      "model_module_version": "1.2.0",
      "model_name": "LayoutModel",
      "state": {}
     },
     "0185758c5fe44fc5a67ed8cf1787673c": {
      "model_module": "@jupyter-widgets/controls",
      "model_module_version": "1.5.0",
      "model_name": "ProgressStyleModel",
      "state": {
       "description_width": ""
      }
     },
     "0199260a47ac42bea8c7e529cc95e8af": {
      "model_module": "@jupyter-widgets/base",
      "model_module_version": "1.2.0",
      "model_name": "LayoutModel",
      "state": {}
     },
     "01b61d6e8f9f4685ad6ef33845b0892b": {
      "model_module": "@jupyter-widgets/base",
      "model_module_version": "1.2.0",
      "model_name": "LayoutModel",
      "state": {}
     },
     "01bf6cecd3664646b71a26e1045183b9": {
      "model_module": "@jupyter-widgets/base",
      "model_module_version": "1.2.0",
      "model_name": "LayoutModel",
      "state": {
       "display": "inline-flex",
       "flex_flow": "row wrap",
       "width": "100%"
      }
     },
     "01c85d90e6914efab2c7b390ce18a94e": {
      "model_module": "@jupyter-widgets/base",
      "model_module_version": "1.2.0",
      "model_name": "LayoutModel",
      "state": {
       "flex": "2"
      }
     },
     "01c9ba1e446244b89ba4ef8ee434ad79": {
      "model_module": "@jupyter-widgets/base",
      "model_module_version": "1.2.0",
      "model_name": "LayoutModel",
      "state": {
       "flex": "2"
      }
     },
     "01d1585ebb6b439f81056016996aa830": {
      "model_module": "@jupyter-widgets/controls",
      "model_module_version": "1.5.0",
      "model_name": "FloatProgressModel",
      "state": {
       "layout": "IPY_MODEL_cf34a362454240bb873b1362923f456b",
       "max": 16,
       "style": "IPY_MODEL_b0364211e2c44cf9a9b3cf72030151a3",
       "value": 16
      }
     },
     "01eca48afa26450db6529b805505ffc3": {
      "model_module": "@jupyter-widgets/base",
      "model_module_version": "1.2.0",
      "model_name": "LayoutModel",
      "state": {}
     },
     "020360d4e8114118a363fc014c0f738d": {
      "model_module": "@jupyter-widgets/base",
      "model_module_version": "1.2.0",
      "model_name": "LayoutModel",
      "state": {}
     },
     "020cf6aa14104b98a554cf52f85b2fe5": {
      "model_module": "@jupyter-widgets/controls",
      "model_module_version": "1.5.0",
      "model_name": "DescriptionStyleModel",
      "state": {
       "description_width": ""
      }
     },
     "0216a8db081e43569bd27f270c48f429": {
      "model_module": "@jupyter-widgets/controls",
      "model_module_version": "1.5.0",
      "model_name": "HTMLModel",
      "state": {
       "layout": "IPY_MODEL_cdcd3e2ec3784d928dfaf61cd01c4437",
       "style": "IPY_MODEL_280f8e1dd3c04171aaee89d35623f780",
       "value": "Validation DataLoader 0: 100%"
      }
     },
     "021cfc3edb234a06a396dddcd284869e": {
      "model_module": "@jupyter-widgets/controls",
      "model_module_version": "1.5.0",
      "model_name": "ProgressStyleModel",
      "state": {
       "description_width": ""
      }
     },
     "0238900af33a4177821ed2eff96749a2": {
      "model_module": "@jupyter-widgets/base",
      "model_module_version": "1.2.0",
      "model_name": "LayoutModel",
      "state": {}
     },
     "027b74f1acac4ffd81b1161732789467": {
      "model_module": "@jupyter-widgets/controls",
      "model_module_version": "1.5.0",
      "model_name": "DescriptionStyleModel",
      "state": {
       "description_width": ""
      }
     },
     "027d692b7d284ab0bf792295f44a8746": {
      "model_module": "@jupyter-widgets/controls",
      "model_module_version": "1.5.0",
      "model_name": "FloatProgressModel",
      "state": {
       "layout": "IPY_MODEL_9f00f8b973434df999a1643e28c75d21",
       "max": 77,
       "style": "IPY_MODEL_6eca5cd18b3f4577a74a8869bff5d12b",
       "value": 65
      }
     },
     "02b0973de6314d8e8f23f901a288c2d7": {
      "model_module": "@jupyter-widgets/base",
      "model_module_version": "1.2.0",
      "model_name": "LayoutModel",
      "state": {
       "display": "inline-flex",
       "flex_flow": "row wrap",
       "width": "100%"
      }
     },
     "02b59dc5c7dc43c792f5cdecb0bb1291": {
      "model_module": "@jupyter-widgets/controls",
      "model_module_version": "1.5.0",
      "model_name": "DescriptionStyleModel",
      "state": {
       "description_width": ""
      }
     },
     "02c354cc3f2a414885cc7592cb11eb22": {
      "model_module": "@jupyter-widgets/controls",
      "model_module_version": "1.5.0",
      "model_name": "HTMLModel",
      "state": {
       "layout": "IPY_MODEL_f4b1bdc52d11421d8edbc98ecc9622bf",
       "style": "IPY_MODEL_559b042b428c4c169d2244edadd1c7ff",
       "value": " 16/16 [00:02&lt;00:00,  7.32it/s]"
      }
     },
     "02e248d073eb4427b9c1c2b7776646be": {
      "model_module": "@jupyter-widgets/base",
      "model_module_version": "1.2.0",
      "model_name": "LayoutModel",
      "state": {
       "flex": "2"
      }
     },
     "02ea993239cf4d4db60ccf88418d0517": {
      "model_module": "@jupyter-widgets/controls",
      "model_module_version": "1.5.0",
      "model_name": "ProgressStyleModel",
      "state": {
       "description_width": ""
      }
     },
     "034e7c5ec4ba4d0f8129216cb3f3e944": {
      "model_module": "@jupyter-widgets/controls",
      "model_module_version": "1.5.0",
      "model_name": "FloatProgressModel",
      "state": {
       "layout": "IPY_MODEL_d4e6141ed7c34389bafb4df3526f753d",
       "max": 16,
       "style": "IPY_MODEL_d5f07287632344ebb2aa0cebc1cbd684",
       "value": 16
      }
     },
     "035d091c38d346c881e507f62b54c785": {
      "model_module": "@jupyter-widgets/controls",
      "model_module_version": "1.5.0",
      "model_name": "DescriptionStyleModel",
      "state": {
       "description_width": ""
      }
     },
     "03bbfcd315f8458d8e80d3dd99cff9eb": {
      "model_module": "@jupyter-widgets/base",
      "model_module_version": "1.2.0",
      "model_name": "LayoutModel",
      "state": {}
     },
     "03c5743a248b4a2a99c1c14f34f3331b": {
      "model_module": "@jupyter-widgets/base",
      "model_module_version": "1.2.0",
      "model_name": "LayoutModel",
      "state": {}
     },
     "03ff2b78121c49a6a4e6dde5df084ddd": {
      "model_module": "@jupyter-widgets/controls",
      "model_module_version": "1.5.0",
      "model_name": "HTMLModel",
      "state": {
       "layout": "IPY_MODEL_f1da988515974f8aae8a9a7d051834fa",
       "style": "IPY_MODEL_79c4a58dea3141fa81b53d40f1ef4c2d",
       "value": "Validation DataLoader 0: 100%"
      }
     },
     "040b318fa204415bbf746a29c0715fca": {
      "model_module": "@jupyter-widgets/controls",
      "model_module_version": "1.5.0",
      "model_name": "DescriptionStyleModel",
      "state": {
       "description_width": ""
      }
     },
     "041ae7b45a1e4122aa325443ab6f9cbc": {
      "model_module": "@jupyter-widgets/base",
      "model_module_version": "1.2.0",
      "model_name": "LayoutModel",
      "state": {
       "flex": "2"
      }
     },
     "0426a90f639e4b4ba47008c440e58755": {
      "model_module": "@jupyter-widgets/controls",
      "model_module_version": "1.5.0",
      "model_name": "HTMLModel",
      "state": {
       "layout": "IPY_MODEL_01eca48afa26450db6529b805505ffc3",
       "style": "IPY_MODEL_79e0b13d92a040e1b17085b83e57bdeb",
       "value": "Validation DataLoader 0: 100%"
      }
     },
     "043295f46be549e88e1948b57f061029": {
      "model_module": "@jupyter-widgets/controls",
      "model_module_version": "1.5.0",
      "model_name": "HTMLModel",
      "state": {
       "layout": "IPY_MODEL_6af684d174ca4157b64e976e446d0c0d",
       "style": "IPY_MODEL_cdd5a01a9d5749198af94ebfdc7867e2",
       "value": "Validation DataLoader 0: 100%"
      }
     },
     "043c2f88f0c54fe7911c157fa89d666e": {
      "model_module": "@jupyter-widgets/controls",
      "model_module_version": "1.5.0",
      "model_name": "ProgressStyleModel",
      "state": {
       "description_width": ""
      }
     },
     "044d5a5fbbed45dc8725eed3a4bdccb2": {
      "model_module": "@jupyter-widgets/controls",
      "model_module_version": "1.5.0",
      "model_name": "FloatProgressModel",
      "state": {
       "layout": "IPY_MODEL_6b2bfbac5aeb41c1816dea4ea28e588b",
       "max": 16,
       "style": "IPY_MODEL_65ffbd0002eb47f6a2308e6e3c5a064c",
       "value": 16
      }
     },
     "045551a6504b4524bde038537889b7b4": {
      "model_module": "@jupyter-widgets/base",
      "model_module_version": "1.2.0",
      "model_name": "LayoutModel",
      "state": {
       "flex": "2"
      }
     },
     "047d511eccb4400bafde5e3f0d636677": {
      "model_module": "@jupyter-widgets/base",
      "model_module_version": "1.2.0",
      "model_name": "LayoutModel",
      "state": {
       "display": "inline-flex",
       "flex_flow": "row wrap",
       "width": "100%"
      }
     },
     "047e630f267d485b95770aa471188720": {
      "model_module": "@jupyter-widgets/controls",
      "model_module_version": "1.5.0",
      "model_name": "HTMLModel",
      "state": {
       "layout": "IPY_MODEL_4c34a7d85d8e4e3d84f51b941dff85ed",
       "style": "IPY_MODEL_027b74f1acac4ffd81b1161732789467",
       "value": " 16/16 [00:06&lt;00:00,  2.29it/s]"
      }
     },
     "04df3115a2f546769728f592e13008e9": {
      "model_module": "@jupyter-widgets/controls",
      "model_module_version": "1.5.0",
      "model_name": "ProgressStyleModel",
      "state": {
       "description_width": ""
      }
     },
     "04f4947878664826a29f8b6725741a6d": {
      "model_module": "@jupyter-widgets/controls",
      "model_module_version": "1.5.0",
      "model_name": "HTMLModel",
      "state": {
       "layout": "IPY_MODEL_3a121890b3484bc185366f3df1bd1cca",
       "style": "IPY_MODEL_f374b27d26ca424e9f94768b6243555a",
       "value": " 16/16 [00:02&lt;00:00,  6.98it/s]"
      }
     },
     "0500c4a45e734089acd0b8da58ee92a1": {
      "model_module": "@jupyter-widgets/controls",
      "model_module_version": "1.5.0",
      "model_name": "DescriptionStyleModel",
      "state": {
       "description_width": ""
      }
     },
     "05290f2c4eb24658855b522e65421f69": {
      "model_module": "@jupyter-widgets/controls",
      "model_module_version": "1.5.0",
      "model_name": "HTMLModel",
      "state": {
       "layout": "IPY_MODEL_df9f431eb163419c8e8c9cc5f6e3ce79",
       "style": "IPY_MODEL_b11c215e850b45898f97e08afb4e0feb",
       "value": " 16/16 [00:01&lt;00:00,  7.79it/s]"
      }
     },
     "0531a98b9e8f48a68ffa840a1d0656ad": {
      "model_module": "@jupyter-widgets/controls",
      "model_module_version": "1.5.0",
      "model_name": "DescriptionStyleModel",
      "state": {
       "description_width": ""
      }
     },
     "054de5e8e07b4062ac144d9ee171d228": {
      "model_module": "@jupyter-widgets/base",
      "model_module_version": "1.2.0",
      "model_name": "LayoutModel",
      "state": {}
     },
     "054fed11d2e5450b915e20c919ed8d80": {
      "model_module": "@jupyter-widgets/base",
      "model_module_version": "1.2.0",
      "model_name": "LayoutModel",
      "state": {
       "flex": "2"
      }
     },
     "05589b11134246e8a1db3e7602029419": {
      "model_module": "@jupyter-widgets/controls",
      "model_module_version": "1.5.0",
      "model_name": "FloatProgressModel",
      "state": {
       "layout": "IPY_MODEL_0e1ffd08080a453b81baad45ea8e3770",
       "max": 16,
       "style": "IPY_MODEL_b740503c71b84fa59717a4dcda9dbde7",
       "value": 16
      }
     },
     "059797ebb40d49aa975e21dc335c833c": {
      "model_module": "@jupyter-widgets/controls",
      "model_module_version": "1.5.0",
      "model_name": "HTMLModel",
      "state": {
       "layout": "IPY_MODEL_f0f5bfcadf4a49d7874742e999d069c5",
       "style": "IPY_MODEL_e42db294f04540a69cb8acefb792c14c",
       "value": "Validation DataLoader 0: 100%"
      }
     },
     "059d215a982743299798877003037a11": {
      "model_module": "@jupyter-widgets/controls",
      "model_module_version": "1.5.0",
      "model_name": "DescriptionStyleModel",
      "state": {
       "description_width": ""
      }
     },
     "05f648ded60b4f648d938e3508be97e5": {
      "model_module": "@jupyter-widgets/controls",
      "model_module_version": "1.5.0",
      "model_name": "DescriptionStyleModel",
      "state": {
       "description_width": ""
      }
     },
     "0642fe0b77a24723bbd3f29c1a3d1a40": {
      "model_module": "@jupyter-widgets/controls",
      "model_module_version": "1.5.0",
      "model_name": "DescriptionStyleModel",
      "state": {
       "description_width": ""
      }
     },
     "064df9b55a9c49559dd2f1c621b6a078": {
      "model_module": "@jupyter-widgets/base",
      "model_module_version": "1.2.0",
      "model_name": "LayoutModel",
      "state": {}
     },
     "066f83e548054cd89525da84d816e792": {
      "model_module": "@jupyter-widgets/controls",
      "model_module_version": "1.5.0",
      "model_name": "HTMLModel",
      "state": {
       "layout": "IPY_MODEL_3e56e57b17b94dc5b2adb2aac5ae9e2e",
       "style": "IPY_MODEL_edb0c25b05504fb78388749bcfd58934",
       "value": " 16/16 [00:05&lt;00:00,  2.80it/s]"
      }
     },
     "06934c30d1d84c6bb3363da8c3a2afda": {
      "model_module": "@jupyter-widgets/controls",
      "model_module_version": "1.5.0",
      "model_name": "DescriptionStyleModel",
      "state": {
       "description_width": ""
      }
     },
     "06b03a929b1941b2a5bb3f7151374128": {
      "model_module": "@jupyter-widgets/base",
      "model_module_version": "1.2.0",
      "model_name": "LayoutModel",
      "state": {
       "flex": "2"
      }
     },
     "0775ea3e34dc4e56af2fc90e03bef2dd": {
      "model_module": "@jupyter-widgets/controls",
      "model_module_version": "1.5.0",
      "model_name": "HTMLModel",
      "state": {
       "layout": "IPY_MODEL_625694a78b024ddf83a726a8be482f6b",
       "style": "IPY_MODEL_32a846203d97431e8ba4b4bb693a3a78",
       "value": " 16/16 [00:01&lt;00:00,  8.12it/s]"
      }
     },
     "07a781e283384b76bb9e22a897063886": {
      "model_module": "@jupyter-widgets/controls",
      "model_module_version": "1.5.0",
      "model_name": "ProgressStyleModel",
      "state": {
       "description_width": ""
      }
     },
     "07e09a9f365d40818201f3566986e6f2": {
      "model_module": "@jupyter-widgets/controls",
      "model_module_version": "1.5.0",
      "model_name": "HTMLModel",
      "state": {
       "layout": "IPY_MODEL_462018b3367a4fc187e5bbfa57cc05e2",
       "style": "IPY_MODEL_8a6a6bd619434a109895be5e5e8d3a1c",
       "value": "Validation DataLoader 0: 100%"
      }
     },
     "07eddfb765d446be88c75a11bd03648c": {
      "model_module": "@jupyter-widgets/controls",
      "model_module_version": "1.5.0",
      "model_name": "DescriptionStyleModel",
      "state": {
       "description_width": ""
      }
     },
     "0808930426364d54bcfdd814449a55c8": {
      "model_module": "@jupyter-widgets/base",
      "model_module_version": "1.2.0",
      "model_name": "LayoutModel",
      "state": {
       "flex": "2"
      }
     },
     "080969d2215845b48a9d6836829c7c21": {
      "model_module": "@jupyter-widgets/base",
      "model_module_version": "1.2.0",
      "model_name": "LayoutModel",
      "state": {}
     },
     "08265c7fd462435a9ae095511bf6bdb4": {
      "model_module": "@jupyter-widgets/controls",
      "model_module_version": "1.5.0",
      "model_name": "ProgressStyleModel",
      "state": {
       "description_width": ""
      }
     },
     "0843cc35e7f648d6bb6a5bd9f64807e2": {
      "model_module": "@jupyter-widgets/controls",
      "model_module_version": "1.5.0",
      "model_name": "ProgressStyleModel",
      "state": {
       "description_width": ""
      }
     },
     "08631d2102c240baa6379927da271f84": {
      "model_module": "@jupyter-widgets/controls",
      "model_module_version": "1.5.0",
      "model_name": "DescriptionStyleModel",
      "state": {
       "description_width": ""
      }
     },
     "0867d27b6a2441578374781b052fcaa5": {
      "model_module": "@jupyter-widgets/controls",
      "model_module_version": "1.5.0",
      "model_name": "DescriptionStyleModel",
      "state": {
       "description_width": ""
      }
     },
     "088c169ae5e34c71a2f6e4390da7935e": {
      "model_module": "@jupyter-widgets/controls",
      "model_module_version": "1.5.0",
      "model_name": "ProgressStyleModel",
      "state": {
       "description_width": ""
      }
     },
     "08afab34ba20409ca2d7943bf179f6a4": {
      "model_module": "@jupyter-widgets/controls",
      "model_module_version": "1.5.0",
      "model_name": "DescriptionStyleModel",
      "state": {
       "description_width": ""
      }
     },
     "08d2e4359a6f44a6ade771259702c7f2": {
      "model_module": "@jupyter-widgets/controls",
      "model_module_version": "1.5.0",
      "model_name": "DescriptionStyleModel",
      "state": {
       "description_width": ""
      }
     },
     "08d3f09521cb431987d33244eb835b0e": {
      "model_module": "@jupyter-widgets/base",
      "model_module_version": "1.2.0",
      "model_name": "LayoutModel",
      "state": {
       "display": "inline-flex",
       "flex_flow": "row wrap",
       "width": "100%"
      }
     },
     "09054adf1329473aad63183e332099d4": {
      "model_module": "@jupyter-widgets/base",
      "model_module_version": "1.2.0",
      "model_name": "LayoutModel",
      "state": {
       "flex": "2"
      }
     },
     "0930cb7190c948da87c3a0d26e002ea3": {
      "model_module": "@jupyter-widgets/controls",
      "model_module_version": "1.5.0",
      "model_name": "HTMLModel",
      "state": {
       "layout": "IPY_MODEL_f8641ba65944460aad0b5ae02c2d52df",
       "style": "IPY_MODEL_847e344c6da94271afe4862759412cca",
       "value": "Validation DataLoader 0: 100%"
      }
     },
     "09ad44bf3a2e4addaf5c9d487755e386": {
      "model_module": "@jupyter-widgets/controls",
      "model_module_version": "1.5.0",
      "model_name": "HTMLModel",
      "state": {
       "layout": "IPY_MODEL_28ac400bc1954ba197525e8804d79406",
       "style": "IPY_MODEL_e5f46b824bed430b8e1aed0f0c17a5b8",
       "value": "Validation DataLoader 0: 100%"
      }
     },
     "09b7e35b72394786bcd88b8adb7860bc": {
      "model_module": "@jupyter-widgets/base",
      "model_module_version": "1.2.0",
      "model_name": "LayoutModel",
      "state": {}
     },
     "09b9d3a1c7c649469fcc07971ee2cd50": {
      "model_module": "@jupyter-widgets/controls",
      "model_module_version": "1.5.0",
      "model_name": "ProgressStyleModel",
      "state": {
       "description_width": ""
      }
     },
     "09bcc74518fe4aea8bad47ecc1b1a825": {
      "model_module": "@jupyter-widgets/base",
      "model_module_version": "1.2.0",
      "model_name": "LayoutModel",
      "state": {
       "display": "inline-flex",
       "flex_flow": "row wrap",
       "width": "100%"
      }
     },
     "0a1425cff7ce4330bd0a29f11a351ff0": {
      "model_module": "@jupyter-widgets/base",
      "model_module_version": "1.2.0",
      "model_name": "LayoutModel",
      "state": {}
     },
     "0a32ed8141af4e89bcae252940aab355": {
      "model_module": "@jupyter-widgets/base",
      "model_module_version": "1.2.0",
      "model_name": "LayoutModel",
      "state": {}
     },
     "0a714efea62f43d895389614d38b8544": {
      "model_module": "@jupyter-widgets/base",
      "model_module_version": "1.2.0",
      "model_name": "LayoutModel",
      "state": {}
     },
     "0a8c36f353304824ba0ca3456ca0519b": {
      "model_module": "@jupyter-widgets/controls",
      "model_module_version": "1.5.0",
      "model_name": "ProgressStyleModel",
      "state": {
       "description_width": ""
      }
     },
     "0a8c7da62fdc4fd4917d563e01c9f515": {
      "model_module": "@jupyter-widgets/controls",
      "model_module_version": "1.5.0",
      "model_name": "HBoxModel",
      "state": {
       "children": [
        "IPY_MODEL_47610de242e94d1eb2ae3382187b1c07",
        "IPY_MODEL_027d692b7d284ab0bf792295f44a8746",
        "IPY_MODEL_5a7f2d79c8654e21ba778080d2cac81c"
       ],
       "layout": "IPY_MODEL_33cd789b95e745c4936cef81d7988ab6"
      }
     },
     "0a8d2436e48f44238fec9c3c2096ae21": {
      "model_module": "@jupyter-widgets/controls",
      "model_module_version": "1.5.0",
      "model_name": "HTMLModel",
      "state": {
       "layout": "IPY_MODEL_b379fb2be2834c9c8bc756063f3aa02a",
       "style": "IPY_MODEL_facfd48e0cf04b02868d6e135cea3eae",
       "value": " 16/16 [00:01&lt;00:00,  8.06it/s]"
      }
     },
     "0a917efcc73043d1b0980734b1b235f1": {
      "model_module": "@jupyter-widgets/base",
      "model_module_version": "1.2.0",
      "model_name": "LayoutModel",
      "state": {
       "flex": "2"
      }
     },
     "0b3f3682a229423db3394f065ee0bfe8": {
      "model_module": "@jupyter-widgets/base",
      "model_module_version": "1.2.0",
      "model_name": "LayoutModel",
      "state": {
       "flex": "2"
      }
     },
     "0b4a4e94b10e4671ba48248188e64c1f": {
      "model_module": "@jupyter-widgets/controls",
      "model_module_version": "1.5.0",
      "model_name": "HTMLModel",
      "state": {
       "layout": "IPY_MODEL_011a089f43bc466895d3270afb9ef21a",
       "style": "IPY_MODEL_43287a855ddc415c9aa7e4671d1d8fae",
       "value": "Validation DataLoader 0: 100%"
      }
     },
     "0ba0188e341b45b5ac917fff122f323e": {
      "model_module": "@jupyter-widgets/base",
      "model_module_version": "1.2.0",
      "model_name": "LayoutModel",
      "state": {}
     },
     "0bba4ec9bcfe4dc2aed91ac817fe14df": {
      "model_module": "@jupyter-widgets/controls",
      "model_module_version": "1.5.0",
      "model_name": "DescriptionStyleModel",
      "state": {
       "description_width": ""
      }
     },
     "0bbee736898946bb836180e23e5cc8b6": {
      "model_module": "@jupyter-widgets/controls",
      "model_module_version": "1.5.0",
      "model_name": "HTMLModel",
      "state": {
       "layout": "IPY_MODEL_ea38d176d09340dda66c78e6685ca3e7",
       "style": "IPY_MODEL_4bfb7bc18b9d49929bf866039bae1726",
       "value": " 16/16 [00:01&lt;00:00,  7.51it/s]"
      }
     },
     "0bd41decb0d84150b8e0a8f9f77c1a3c": {
      "model_module": "@jupyter-widgets/base",
      "model_module_version": "1.2.0",
      "model_name": "LayoutModel",
      "state": {}
     },
     "0be09a0aca3e453682f11fc642b2ebf0": {
      "model_module": "@jupyter-widgets/controls",
      "model_module_version": "1.5.0",
      "model_name": "HTMLModel",
      "state": {
       "layout": "IPY_MODEL_d88231002ad249c8ba98f664400edf45",
       "style": "IPY_MODEL_6930da12175045cfb291fd04ea2e4141",
       "value": " 47/77 [00:43&lt;00:27,  1.09it/s, loss=0.00816, v_num=H-73]"
      }
     },
     "0c2fc59bec1c44edac90e5c627b4b82f": {
      "model_module": "@jupyter-widgets/controls",
      "model_module_version": "1.5.0",
      "model_name": "ProgressStyleModel",
      "state": {
       "description_width": ""
      }
     },
     "0c5158e06ae84f8e8fcfef56ffb6370a": {
      "model_module": "@jupyter-widgets/controls",
      "model_module_version": "1.5.0",
      "model_name": "DescriptionStyleModel",
      "state": {
       "description_width": ""
      }
     },
     "0c524033f7ac47dc8e83f60fff24cba3": {
      "model_module": "@jupyter-widgets/base",
      "model_module_version": "1.2.0",
      "model_name": "LayoutModel",
      "state": {}
     },
     "0c89d7b55bbf4e7da9cfaacfb537f152": {
      "model_module": "@jupyter-widgets/controls",
      "model_module_version": "1.5.0",
      "model_name": "FloatProgressModel",
      "state": {
       "layout": "IPY_MODEL_06b03a929b1941b2a5bb3f7151374128",
       "max": 16,
       "style": "IPY_MODEL_8466b0e2885c43549d15c33a848a4f3e",
       "value": 16
      }
     },
     "0c8b92e003704ddb813c5a085215b53e": {
      "model_module": "@jupyter-widgets/controls",
      "model_module_version": "1.5.0",
      "model_name": "HTMLModel",
      "state": {
       "layout": "IPY_MODEL_5cb842a2faf54219a62ac17847513087",
       "style": "IPY_MODEL_1eefe8d7e7604149a21ee9d9e905e1e7",
       "value": "Validation DataLoader 0: 100%"
      }
     },
     "0cd848ba818d41acbd59106f0399b354": {
      "model_module": "@jupyter-widgets/controls",
      "model_module_version": "1.5.0",
      "model_name": "ProgressStyleModel",
      "state": {
       "description_width": ""
      }
     },
     "0d3f072aa9564927a47b8f69650d36a2": {
      "model_module": "@jupyter-widgets/controls",
      "model_module_version": "1.5.0",
      "model_name": "FloatProgressModel",
      "state": {
       "layout": "IPY_MODEL_9b343b05eba147fa9b2ac41bccf2f06b",
       "max": 2,
       "style": "IPY_MODEL_4d80763ac5cb4d5a9bb0c382153352cf",
       "value": 2
      }
     },
     "0d4c4a36bc264c09a60ae1f5724535dd": {
      "model_module": "@jupyter-widgets/base",
      "model_module_version": "1.2.0",
      "model_name": "LayoutModel",
      "state": {
       "display": "inline-flex",
       "flex_flow": "row wrap",
       "width": "100%"
      }
     },
     "0d4d7d8daa7e460ea9147e483487acd0": {
      "model_module": "@jupyter-widgets/base",
      "model_module_version": "1.2.0",
      "model_name": "LayoutModel",
      "state": {
       "flex": "2"
      }
     },
     "0d86fbc514f94b85b49b1ff930fc92da": {
      "model_module": "@jupyter-widgets/controls",
      "model_module_version": "1.5.0",
      "model_name": "ProgressStyleModel",
      "state": {
       "description_width": ""
      }
     },
     "0d9358cb1c7b4b42bd595dedab8946bb": {
      "model_module": "@jupyter-widgets/controls",
      "model_module_version": "1.5.0",
      "model_name": "DescriptionStyleModel",
      "state": {
       "description_width": ""
      }
     },
     "0da15bc764764551b3aea5a0d2f8f7cb": {
      "model_module": "@jupyter-widgets/base",
      "model_module_version": "1.2.0",
      "model_name": "LayoutModel",
      "state": {}
     },
     "0db90c914e944c0ead48bc75987f2f07": {
      "model_module": "@jupyter-widgets/controls",
      "model_module_version": "1.5.0",
      "model_name": "ProgressStyleModel",
      "state": {
       "description_width": ""
      }
     },
     "0dc7a08416b845c096643a6578a96362": {
      "model_module": "@jupyter-widgets/controls",
      "model_module_version": "1.5.0",
      "model_name": "HTMLModel",
      "state": {
       "layout": "IPY_MODEL_43757a9995d94075a6ff6c227a33409d",
       "style": "IPY_MODEL_c92a62657cac4f54afa8f4467ca6948f",
       "value": "Sanity Checking DataLoader 0: 100%"
      }
     },
     "0ddac9eab1cc40d99df35b1faba8f5db": {
      "model_module": "@jupyter-widgets/base",
      "model_module_version": "1.2.0",
      "model_name": "LayoutModel",
      "state": {}
     },
     "0df7095eec324252ab2845870fb9d03e": {
      "model_module": "@jupyter-widgets/controls",
      "model_module_version": "1.5.0",
      "model_name": "HTMLModel",
      "state": {
       "layout": "IPY_MODEL_4ba83a0fa6af43b8b843c319579833ed",
       "style": "IPY_MODEL_4d27dfb1d63d484da76ef3266d3290a5",
       "value": "Validation DataLoader 0: 100%"
      }
     },
     "0dfd85e1494345339ab065619f6a29b6": {
      "model_module": "@jupyter-widgets/controls",
      "model_module_version": "1.5.0",
      "model_name": "FloatProgressModel",
      "state": {
       "layout": "IPY_MODEL_b4fa0a2c2cf043ea9cb8b988d48dede2",
       "max": 16,
       "style": "IPY_MODEL_400ddc2b090e42b0a0c358a376512c98",
       "value": 16
      }
     },
     "0e1a7d479cd34d63ac1ab120fca964fb": {
      "model_module": "@jupyter-widgets/controls",
      "model_module_version": "1.5.0",
      "model_name": "ProgressStyleModel",
      "state": {
       "description_width": ""
      }
     },
     "0e1ffd08080a453b81baad45ea8e3770": {
      "model_module": "@jupyter-widgets/base",
      "model_module_version": "1.2.0",
      "model_name": "LayoutModel",
      "state": {
       "flex": "2"
      }
     },
     "0e31862974ae42d289369466f6ecfca3": {
      "model_module": "@jupyter-widgets/base",
      "model_module_version": "1.2.0",
      "model_name": "LayoutModel",
      "state": {}
     },
     "0e5c410566d8463ca799d451894142d9": {
      "model_module": "@jupyter-widgets/base",
      "model_module_version": "1.2.0",
      "model_name": "LayoutModel",
      "state": {
       "flex": "2"
      }
     },
     "0eca8d7a11b949b2b4304a163320ffe6": {
      "model_module": "@jupyter-widgets/controls",
      "model_module_version": "1.5.0",
      "model_name": "ProgressStyleModel",
      "state": {
       "description_width": ""
      }
     },
     "0ecaf16427eb4e39bfbb0e1ba0b21260": {
      "model_module": "@jupyter-widgets/base",
      "model_module_version": "1.2.0",
      "model_name": "LayoutModel",
      "state": {}
     },
     "0ed8327626504baf89e066183ee3a921": {
      "model_module": "@jupyter-widgets/base",
      "model_module_version": "1.2.0",
      "model_name": "LayoutModel",
      "state": {
       "flex": "2"
      }
     },
     "0edffca8a7c74b22ab69d02e67cec5a5": {
      "model_module": "@jupyter-widgets/base",
      "model_module_version": "1.2.0",
      "model_name": "LayoutModel",
      "state": {}
     },
     "0f0341d63b2c43479a3dc35dc673811b": {
      "model_module": "@jupyter-widgets/controls",
      "model_module_version": "1.5.0",
      "model_name": "HTMLModel",
      "state": {
       "layout": "IPY_MODEL_f36728bf8cb847e59b9cb1f379a5fd6f",
       "style": "IPY_MODEL_16147572af0245ea96a2cd1c56409f59",
       "value": " 16/16 [00:03&lt;00:00,  4.51it/s]"
      }
     },
     "0f09751343d747488df5154949b38493": {
      "model_module": "@jupyter-widgets/base",
      "model_module_version": "1.2.0",
      "model_name": "LayoutModel",
      "state": {
       "display": "inline-flex",
       "flex_flow": "row wrap",
       "width": "100%"
      }
     },
     "0f43846251e04cd1b9dc555f22922139": {
      "model_module": "@jupyter-widgets/controls",
      "model_module_version": "1.5.0",
      "model_name": "FloatProgressModel",
      "state": {
       "layout": "IPY_MODEL_839392a54d7842278356fe3049323ffb",
       "max": 16,
       "style": "IPY_MODEL_902e89e51bff42a39346164ec92243f7",
       "value": 16
      }
     },
     "0fa8881ca1e24f9a92dd41186682cfcd": {
      "model_module": "@jupyter-widgets/controls",
      "model_module_version": "1.5.0",
      "model_name": "FloatProgressModel",
      "state": {
       "layout": "IPY_MODEL_19c70ced03434a069ce31519e446395c",
       "max": 16,
       "style": "IPY_MODEL_ad990bf0a51a4d9295e468f7692c5f34",
       "value": 16
      }
     },
     "0fab8559818a4fe7afc226d7add84f1c": {
      "model_module": "@jupyter-widgets/base",
      "model_module_version": "1.2.0",
      "model_name": "LayoutModel",
      "state": {
       "flex": "2"
      }
     },
     "0fc8fcef4e23461ab9fcbf883806cb92": {
      "model_module": "@jupyter-widgets/base",
      "model_module_version": "1.2.0",
      "model_name": "LayoutModel",
      "state": {}
     },
     "0fe0c29eb44d430f9d61613081d7dac6": {
      "model_module": "@jupyter-widgets/controls",
      "model_module_version": "1.5.0",
      "model_name": "DescriptionStyleModel",
      "state": {
       "description_width": ""
      }
     },
     "10037e38373d499581274cc29f310cd9": {
      "model_module": "@jupyter-widgets/controls",
      "model_module_version": "1.5.0",
      "model_name": "FloatProgressModel",
      "state": {
       "layout": "IPY_MODEL_5015d8f4a2c9485fb16c183452fefbce",
       "max": 16,
       "style": "IPY_MODEL_b44a3027d6c24f5baf1908e35c35bf1f",
       "value": 16
      }
     },
     "105027dd1cb24402b2e206d1ab3add99": {
      "model_module": "@jupyter-widgets/base",
      "model_module_version": "1.2.0",
      "model_name": "LayoutModel",
      "state": {}
     },
     "10599808e40d4abfad11b24db5c9e190": {
      "model_module": "@jupyter-widgets/base",
      "model_module_version": "1.2.0",
      "model_name": "LayoutModel",
      "state": {}
     },
     "106ce4d3f9eb4d8c8975a2aaa5822422": {
      "model_module": "@jupyter-widgets/base",
      "model_module_version": "1.2.0",
      "model_name": "LayoutModel",
      "state": {}
     },
     "106f7400a9f24145a955b1220a2f1c44": {
      "model_module": "@jupyter-widgets/controls",
      "model_module_version": "1.5.0",
      "model_name": "HTMLModel",
      "state": {
       "layout": "IPY_MODEL_7040e2121cf04dd9bd83896eb174e79d",
       "style": "IPY_MODEL_9c0d07a4f13e49ee86a722814d381240",
       "value": "Validation DataLoader 0: 100%"
      }
     },
     "107cd898e18b4ad2b70fa0ab199b1fc5": {
      "model_module": "@jupyter-widgets/base",
      "model_module_version": "1.2.0",
      "model_name": "LayoutModel",
      "state": {
       "display": "inline-flex",
       "flex_flow": "row wrap",
       "width": "100%"
      }
     },
     "10e1e92d9ad4411f8cb01551e926a8ee": {
      "model_module": "@jupyter-widgets/controls",
      "model_module_version": "1.5.0",
      "model_name": "ProgressStyleModel",
      "state": {
       "description_width": ""
      }
     },
     "10f89cf143ec4525849eb9113b52e301": {
      "model_module": "@jupyter-widgets/controls",
      "model_module_version": "1.5.0",
      "model_name": "DescriptionStyleModel",
      "state": {
       "description_width": ""
      }
     },
     "115404d08d704d87a18f30e92b2ac914": {
      "model_module": "@jupyter-widgets/controls",
      "model_module_version": "1.5.0",
      "model_name": "ProgressStyleModel",
      "state": {
       "description_width": ""
      }
     },
     "116538a796cb4a1d864d84b1df874c7b": {
      "model_module": "@jupyter-widgets/controls",
      "model_module_version": "1.5.0",
      "model_name": "DescriptionStyleModel",
      "state": {
       "description_width": ""
      }
     },
     "118183b08f3e49a5b693925eeb3ceaa1": {
      "model_module": "@jupyter-widgets/controls",
      "model_module_version": "1.5.0",
      "model_name": "DescriptionStyleModel",
      "state": {
       "description_width": ""
      }
     },
     "11d4c53e9df84506891a91ab1b747878": {
      "model_module": "@jupyter-widgets/base",
      "model_module_version": "1.2.0",
      "model_name": "LayoutModel",
      "state": {}
     },
     "121038186ccc4af180d6c1b1c9d5abcd": {
      "model_module": "@jupyter-widgets/controls",
      "model_module_version": "1.5.0",
      "model_name": "DescriptionStyleModel",
      "state": {
       "description_width": ""
      }
     },
     "121a23f192e044a081498f0eafdb84f0": {
      "model_module": "@jupyter-widgets/controls",
      "model_module_version": "1.5.0",
      "model_name": "HTMLModel",
      "state": {
       "layout": "IPY_MODEL_75b498c0b8aa4265899abe77879b40f0",
       "style": "IPY_MODEL_dd64e6fd89ab405281ecc4c7b158fc5a",
       "value": " 16/16 [00:03&lt;00:00,  4.08it/s]"
      }
     },
     "122008fe9f2b4b0dbfbc197d2e585598": {
      "model_module": "@jupyter-widgets/controls",
      "model_module_version": "1.5.0",
      "model_name": "HTMLModel",
      "state": {
       "layout": "IPY_MODEL_3c0e56bba55b40e1af73494067f67297",
       "style": "IPY_MODEL_06934c30d1d84c6bb3363da8c3a2afda",
       "value": "Epoch 15:  47%"
      }
     },
     "12394342594d4c7d883d21253889901e": {
      "model_module": "@jupyter-widgets/controls",
      "model_module_version": "1.5.0",
      "model_name": "DescriptionStyleModel",
      "state": {
       "description_width": ""
      }
     },
     "123b3523ed2d47049fc48e6267fa4213": {
      "model_module": "@jupyter-widgets/controls",
      "model_module_version": "1.5.0",
      "model_name": "DescriptionStyleModel",
      "state": {
       "description_width": ""
      }
     },
     "124b79872753424d968b53863105fd10": {
      "model_module": "@jupyter-widgets/base",
      "model_module_version": "1.2.0",
      "model_name": "LayoutModel",
      "state": {}
     },
     "129cb352bf72474caeb27093fcae4ff2": {
      "model_module": "@jupyter-widgets/controls",
      "model_module_version": "1.5.0",
      "model_name": "ProgressStyleModel",
      "state": {
       "description_width": ""
      }
     },
     "132e63b36ccc45af8b71644e1b1c687b": {
      "model_module": "@jupyter-widgets/base",
      "model_module_version": "1.2.0",
      "model_name": "LayoutModel",
      "state": {}
     },
     "1396aba109c74678b4afde8a7451fb75": {
      "model_module": "@jupyter-widgets/base",
      "model_module_version": "1.2.0",
      "model_name": "LayoutModel",
      "state": {}
     },
     "13a3a045a5c14efb81b520ec4045aab1": {
      "model_module": "@jupyter-widgets/base",
      "model_module_version": "1.2.0",
      "model_name": "LayoutModel",
      "state": {
       "flex": "2"
      }
     },
     "13c02dc05f914ee0916c922fb67298ec": {
      "model_module": "@jupyter-widgets/controls",
      "model_module_version": "1.5.0",
      "model_name": "DescriptionStyleModel",
      "state": {
       "description_width": ""
      }
     },
     "140e9ffe4be0423c9c361206d0b526eb": {
      "model_module": "@jupyter-widgets/controls",
      "model_module_version": "1.5.0",
      "model_name": "DescriptionStyleModel",
      "state": {
       "description_width": ""
      }
     },
     "145d15e1735a461a800d309d2f6733df": {
      "model_module": "@jupyter-widgets/base",
      "model_module_version": "1.2.0",
      "model_name": "LayoutModel",
      "state": {}
     },
     "147773dc4c3f4de288ae5f029f96b21a": {
      "model_module": "@jupyter-widgets/controls",
      "model_module_version": "1.5.0",
      "model_name": "DescriptionStyleModel",
      "state": {
       "description_width": ""
      }
     },
     "1491243fec964d5e97db2aedfd4cb335": {
      "model_module": "@jupyter-widgets/controls",
      "model_module_version": "1.5.0",
      "model_name": "DescriptionStyleModel",
      "state": {
       "description_width": ""
      }
     },
     "14ced34809f244efa9b8ffefe462220e": {
      "model_module": "@jupyter-widgets/base",
      "model_module_version": "1.2.0",
      "model_name": "LayoutModel",
      "state": {
       "display": "inline-flex",
       "flex_flow": "row wrap",
       "width": "100%"
      }
     },
     "14f778f420cb4d1b8c2718b0228a4892": {
      "model_module": "@jupyter-widgets/base",
      "model_module_version": "1.2.0",
      "model_name": "LayoutModel",
      "state": {
       "display": "inline-flex",
       "flex_flow": "row wrap",
       "width": "100%"
      }
     },
     "14f9e070520840b5a9a282cf91edad96": {
      "model_module": "@jupyter-widgets/controls",
      "model_module_version": "1.5.0",
      "model_name": "DescriptionStyleModel",
      "state": {
       "description_width": ""
      }
     },
     "1500a58d773b49708f75d296a11a2814": {
      "model_module": "@jupyter-widgets/controls",
      "model_module_version": "1.5.0",
      "model_name": "ProgressStyleModel",
      "state": {
       "description_width": ""
      }
     },
     "15089a0692904a779f4a676344d56c06": {
      "model_module": "@jupyter-widgets/base",
      "model_module_version": "1.2.0",
      "model_name": "LayoutModel",
      "state": {
       "flex": "2"
      }
     },
     "15260089417f4a0497d91dedf166307c": {
      "model_module": "@jupyter-widgets/controls",
      "model_module_version": "1.5.0",
      "model_name": "HTMLModel",
      "state": {
       "layout": "IPY_MODEL_98c099b62c6a4ee7af3f119290416c9f",
       "style": "IPY_MODEL_e96e8c46c89e4882af59f9f80879e0e5",
       "value": "Validation DataLoader 0: 100%"
      }
     },
     "153113b946d04026b476abbec1cb1a1c": {
      "model_module": "@jupyter-widgets/controls",
      "model_module_version": "1.5.0",
      "model_name": "FloatProgressModel",
      "state": {
       "layout": "IPY_MODEL_d8668bfbdeb74a458885670d14977712",
       "max": 2,
       "style": "IPY_MODEL_d0b0d12b04544c22b7ba82b778937f2f",
       "value": 2
      }
     },
     "154e296f273b40ada98b52846b4d400c": {
      "model_module": "@jupyter-widgets/base",
      "model_module_version": "1.2.0",
      "model_name": "LayoutModel",
      "state": {
       "display": "inline-flex",
       "flex_flow": "row wrap",
       "width": "100%"
      }
     },
     "15898c1716484320bc9699d01b89e289": {
      "model_module": "@jupyter-widgets/base",
      "model_module_version": "1.2.0",
      "model_name": "LayoutModel",
      "state": {}
     },
     "15adc98685b14af39f2db6f74abbd0c5": {
      "model_module": "@jupyter-widgets/base",
      "model_module_version": "1.2.0",
      "model_name": "LayoutModel",
      "state": {}
     },
     "15f94a835afb4a1eb555013cb7480ef1": {
      "model_module": "@jupyter-widgets/controls",
      "model_module_version": "1.5.0",
      "model_name": "HTMLModel",
      "state": {
       "layout": "IPY_MODEL_59e5cf6227fa43bebce136b1c3fc7c63",
       "style": "IPY_MODEL_7bbe182a6d6642b087097f93ddb6deac",
       "value": "Validation DataLoader 0: 100%"
      }
     },
     "1610be07d4ad4382b6c57cb71b3ac06c": {
      "model_module": "@jupyter-widgets/controls",
      "model_module_version": "1.5.0",
      "model_name": "HTMLModel",
      "state": {
       "layout": "IPY_MODEL_2a7a0bb7b7ba4070aef7c57e455a02ab",
       "style": "IPY_MODEL_b116d45378ff4bfdb9c62c4dbed1e9a3",
       "value": " 16/16 [00:01&lt;00:00,  7.96it/s]"
      }
     },
     "16147572af0245ea96a2cd1c56409f59": {
      "model_module": "@jupyter-widgets/controls",
      "model_module_version": "1.5.0",
      "model_name": "DescriptionStyleModel",
      "state": {
       "description_width": ""
      }
     },
     "16612dc8dc814930be229847ab35fe16": {
      "model_module": "@jupyter-widgets/controls",
      "model_module_version": "1.5.0",
      "model_name": "DescriptionStyleModel",
      "state": {
       "description_width": ""
      }
     },
     "1677cbcb769b4b3c811cb2445f831755": {
      "model_module": "@jupyter-widgets/base",
      "model_module_version": "1.2.0",
      "model_name": "LayoutModel",
      "state": {
       "flex": "2"
      }
     },
     "16c6b724734d41cebd12f55d82ae2c56": {
      "model_module": "@jupyter-widgets/controls",
      "model_module_version": "1.5.0",
      "model_name": "DescriptionStyleModel",
      "state": {
       "description_width": ""
      }
     },
     "16cbb6c7eb14417bbda1869f8123cbcf": {
      "model_module": "@jupyter-widgets/controls",
      "model_module_version": "1.5.0",
      "model_name": "DescriptionStyleModel",
      "state": {
       "description_width": ""
      }
     },
     "1713416ea1164ed5af0e120a1c944503": {
      "model_module": "@jupyter-widgets/controls",
      "model_module_version": "1.5.0",
      "model_name": "HTMLModel",
      "state": {
       "layout": "IPY_MODEL_ca0c09987a62464aaa18e61d639a4d25",
       "style": "IPY_MODEL_123b3523ed2d47049fc48e6267fa4213",
       "value": " 16/16 [00:01&lt;00:00,  8.17it/s]"
      }
     },
     "172414b556924cde863056cb8dc02df6": {
      "model_module": "@jupyter-widgets/base",
      "model_module_version": "1.2.0",
      "model_name": "LayoutModel",
      "state": {
       "flex": "2"
      }
     },
     "174e3de65a8a4f1e8122e15edb59c075": {
      "model_module": "@jupyter-widgets/base",
      "model_module_version": "1.2.0",
      "model_name": "LayoutModel",
      "state": {}
     },
     "17c826cbda4949118fe73eb1994713b7": {
      "model_module": "@jupyter-widgets/controls",
      "model_module_version": "1.5.0",
      "model_name": "HTMLModel",
      "state": {
       "layout": "IPY_MODEL_a90da0ccadff4e3ba3437e9aaf46ad48",
       "style": "IPY_MODEL_c35e15b33f3f430c93ed428a743f8772",
       "value": " 16/16 [00:01&lt;00:00,  8.03it/s]"
      }
     },
     "17e69d39c362433c8cadedf7d604c2d7": {
      "model_module": "@jupyter-widgets/controls",
      "model_module_version": "1.5.0",
      "model_name": "HTMLModel",
      "state": {
       "layout": "IPY_MODEL_d0d8197222d74f989838cb940f36f481",
       "style": "IPY_MODEL_05f648ded60b4f648d938e3508be97e5",
       "value": " 16/16 [00:07&lt;00:00,  2.00it/s]"
      }
     },
     "17f739a96f5a4cc3986471eac6545635": {
      "model_module": "@jupyter-widgets/controls",
      "model_module_version": "1.5.0",
      "model_name": "DescriptionStyleModel",
      "state": {
       "description_width": ""
      }
     },
     "18060c2c51ce46359f63a8f740a5d998": {
      "model_module": "@jupyter-widgets/controls",
      "model_module_version": "1.5.0",
      "model_name": "HTMLModel",
      "state": {
       "layout": "IPY_MODEL_843ed9196d8e4e2c9aa3787480d71b8e",
       "style": "IPY_MODEL_0bba4ec9bcfe4dc2aed91ac817fe14df",
       "value": "Validation DataLoader 0: 100%"
      }
     },
     "183a38ae597540fcadc525b43d5cf9fa": {
      "model_module": "@jupyter-widgets/base",
      "model_module_version": "1.2.0",
      "model_name": "LayoutModel",
      "state": {
       "display": "inline-flex",
       "flex_flow": "row wrap",
       "width": "100%"
      }
     },
     "189f79961a4c4ea7b19c0bd390c54a7f": {
      "model_module": "@jupyter-widgets/controls",
      "model_module_version": "1.5.0",
      "model_name": "ProgressStyleModel",
      "state": {
       "description_width": ""
      }
     },
     "18e308b8aaba41ac965395a86f4fca70": {
      "model_module": "@jupyter-widgets/controls",
      "model_module_version": "1.5.0",
      "model_name": "DescriptionStyleModel",
      "state": {
       "description_width": ""
      }
     },
     "18e93957505c47588b5eec200bfb1793": {
      "model_module": "@jupyter-widgets/base",
      "model_module_version": "1.2.0",
      "model_name": "LayoutModel",
      "state": {
       "flex": "2"
      }
     },
     "195cc0e540f54f8e824138b76a8becfe": {
      "model_module": "@jupyter-widgets/base",
      "model_module_version": "1.2.0",
      "model_name": "LayoutModel",
      "state": {}
     },
     "195e50a3733a4c80b4326dee7ee17ee8": {
      "model_module": "@jupyter-widgets/base",
      "model_module_version": "1.2.0",
      "model_name": "LayoutModel",
      "state": {}
     },
     "196a3e0fc43e460fa34ac4aded52f4fe": {
      "model_module": "@jupyter-widgets/controls",
      "model_module_version": "1.5.0",
      "model_name": "DescriptionStyleModel",
      "state": {
       "description_width": ""
      }
     },
     "197f10a5d5cd4fcb98712b0392e4e45a": {
      "model_module": "@jupyter-widgets/controls",
      "model_module_version": "1.5.0",
      "model_name": "HTMLModel",
      "state": {
       "layout": "IPY_MODEL_cf3dc22440874c3d91478ffc85a0d062",
       "style": "IPY_MODEL_1a59e10b6f48493f80b2ecd8ee8823e7",
       "value": "Validation DataLoader 0: 100%"
      }
     },
     "19a481cbd08b40b2a16855c18fe649e4": {
      "model_module": "@jupyter-widgets/controls",
      "model_module_version": "1.5.0",
      "model_name": "ProgressStyleModel",
      "state": {
       "description_width": ""
      }
     },
     "19a9e05bac514d8fbb3c8ee564890819": {
      "model_module": "@jupyter-widgets/controls",
      "model_module_version": "1.5.0",
      "model_name": "DescriptionStyleModel",
      "state": {
       "description_width": ""
      }
     },
     "19af85d575114c5688a74e47ac24ef75": {
      "model_module": "@jupyter-widgets/controls",
      "model_module_version": "1.5.0",
      "model_name": "FloatProgressModel",
      "state": {
       "layout": "IPY_MODEL_66e37af376e6472b9955045236978c47",
       "max": 16,
       "style": "IPY_MODEL_d1269a17d71b4e499d9a7caf0fc17d6a",
       "value": 16
      }
     },
     "19c70ced03434a069ce31519e446395c": {
      "model_module": "@jupyter-widgets/base",
      "model_module_version": "1.2.0",
      "model_name": "LayoutModel",
      "state": {
       "flex": "2"
      }
     },
     "19f5f8d264664363af24187bebe778f6": {
      "model_module": "@jupyter-widgets/controls",
      "model_module_version": "1.5.0",
      "model_name": "DescriptionStyleModel",
      "state": {
       "description_width": ""
      }
     },
     "19f88d2e409840a7bdee6cecf21697ac": {
      "model_module": "@jupyter-widgets/controls",
      "model_module_version": "1.5.0",
      "model_name": "HTMLModel",
      "state": {
       "layout": "IPY_MODEL_3577f45dc0fd409fb98dbecab845528f",
       "style": "IPY_MODEL_ad2dd5dd79324ec0bca74efa386cc916",
       "value": "Validation DataLoader 0: 100%"
      }
     },
     "1a121e7386e842efbbbc20a967f3be54": {
      "model_module": "@jupyter-widgets/controls",
      "model_module_version": "1.5.0",
      "model_name": "DescriptionStyleModel",
      "state": {
       "description_width": ""
      }
     },
     "1a59e10b6f48493f80b2ecd8ee8823e7": {
      "model_module": "@jupyter-widgets/controls",
      "model_module_version": "1.5.0",
      "model_name": "DescriptionStyleModel",
      "state": {
       "description_width": ""
      }
     },
     "1a5d9a35bde84b99a73af57ca766e907": {
      "model_module": "@jupyter-widgets/base",
      "model_module_version": "1.2.0",
      "model_name": "LayoutModel",
      "state": {
       "display": "inline-flex",
       "flex_flow": "row wrap",
       "width": "100%"
      }
     },
     "1abb5c444a0e4ff5a2f7268965bcc763": {
      "model_module": "@jupyter-widgets/base",
      "model_module_version": "1.2.0",
      "model_name": "LayoutModel",
      "state": {}
     },
     "1af7ae8f2924479aa6888b72cc7222b8": {
      "model_module": "@jupyter-widgets/base",
      "model_module_version": "1.2.0",
      "model_name": "LayoutModel",
      "state": {
       "flex": "2"
      }
     },
     "1b64597a16c145879f919b0079b4d84f": {
      "model_module": "@jupyter-widgets/controls",
      "model_module_version": "1.5.0",
      "model_name": "ProgressStyleModel",
      "state": {
       "description_width": ""
      }
     },
     "1b88d623c052427a9acafb89131eda97": {
      "model_module": "@jupyter-widgets/controls",
      "model_module_version": "1.5.0",
      "model_name": "HTMLModel",
      "state": {
       "layout": "IPY_MODEL_11d4c53e9df84506891a91ab1b747878",
       "style": "IPY_MODEL_e71b0fc952f74e2489ebb89e9f083502",
       "value": " 16/16 [00:01&lt;00:00,  7.55it/s]"
      }
     },
     "1b9b318d275741ed898baeab4a6e5adc": {
      "model_module": "@jupyter-widgets/controls",
      "model_module_version": "1.5.0",
      "model_name": "FloatProgressModel",
      "state": {
       "layout": "IPY_MODEL_f14cc605db1b4013b835aa2c0e0ab56f",
       "max": 16,
       "style": "IPY_MODEL_72f011862b02489cadb63846b942beea",
       "value": 16
      }
     },
     "1bc0f9bec8274bef96244372d7fc156c": {
      "model_module": "@jupyter-widgets/controls",
      "model_module_version": "1.5.0",
      "model_name": "DescriptionStyleModel",
      "state": {
       "description_width": ""
      }
     },
     "1bcd4e5dcbfb448eb45105cf68bddade": {
      "model_module": "@jupyter-widgets/controls",
      "model_module_version": "1.5.0",
      "model_name": "HTMLModel",
      "state": {
       "layout": "IPY_MODEL_03bbfcd315f8458d8e80d3dd99cff9eb",
       "style": "IPY_MODEL_e327f4c57c2f48968652778a618b65fc",
       "value": " 16/16 [00:01&lt;00:00,  7.89it/s]"
      }
     },
     "1bdef54139764e47ba96be7dbb5fb9e1": {
      "model_module": "@jupyter-widgets/controls",
      "model_module_version": "1.5.0",
      "model_name": "HTMLModel",
      "state": {
       "layout": "IPY_MODEL_a7103879e4e1437f90c0042032b64c71",
       "style": "IPY_MODEL_2fb1af3be86c4e93bdbc3f355f82268a",
       "value": "Validation DataLoader 0: 100%"
      }
     },
     "1c051b16f64f40fe8e750282f13cfb48": {
      "model_module": "@jupyter-widgets/controls",
      "model_module_version": "1.5.0",
      "model_name": "DescriptionStyleModel",
      "state": {
       "description_width": ""
      }
     },
     "1c1fdd09737c4ff686b116935a05bd9c": {
      "model_module": "@jupyter-widgets/controls",
      "model_module_version": "1.5.0",
      "model_name": "FloatProgressModel",
      "state": {
       "layout": "IPY_MODEL_1677cbcb769b4b3c811cb2445f831755",
       "max": 16,
       "style": "IPY_MODEL_02ea993239cf4d4db60ccf88418d0517",
       "value": 16
      }
     },
     "1c3ded727bd9426888cceaca9bc7018c": {
      "model_module": "@jupyter-widgets/controls",
      "model_module_version": "1.5.0",
      "model_name": "HTMLModel",
      "state": {
       "layout": "IPY_MODEL_a9d87a1d11c847b8ba14ea7828886b02",
       "style": "IPY_MODEL_7244f40591834ad1b3104409e7735a52",
       "value": "Validation DataLoader 0: 100%"
      }
     },
     "1c7eecfa0cc54699bc570b96192d7b5a": {
      "model_module": "@jupyter-widgets/base",
      "model_module_version": "1.2.0",
      "model_name": "LayoutModel",
      "state": {}
     },
     "1c82284e26424d45ade99aac1252bbe5": {
      "model_module": "@jupyter-widgets/base",
      "model_module_version": "1.2.0",
      "model_name": "LayoutModel",
      "state": {}
     },
     "1c9c6f6bc7ca4c909b209846bf377ab5": {
      "model_module": "@jupyter-widgets/base",
      "model_module_version": "1.2.0",
      "model_name": "LayoutModel",
      "state": {
       "flex": "2"
      }
     },
     "1cb25bcd7fac45ce9d7086677bbddbea": {
      "model_module": "@jupyter-widgets/base",
      "model_module_version": "1.2.0",
      "model_name": "LayoutModel",
      "state": {
       "flex": "2"
      }
     },
     "1cd915ec9d2042c99bcb26e3a664752b": {
      "model_module": "@jupyter-widgets/controls",
      "model_module_version": "1.5.0",
      "model_name": "DescriptionStyleModel",
      "state": {
       "description_width": ""
      }
     },
     "1d468d17b0db4055a84a3801ea797353": {
      "model_module": "@jupyter-widgets/base",
      "model_module_version": "1.2.0",
      "model_name": "LayoutModel",
      "state": {}
     },
     "1db6d43345704dc5a95101546c28ab2a": {
      "model_module": "@jupyter-widgets/base",
      "model_module_version": "1.2.0",
      "model_name": "LayoutModel",
      "state": {
       "display": "inline-flex",
       "flex_flow": "row wrap",
       "width": "100%"
      }
     },
     "1df684509ca24b528b4b1388b6a1e83a": {
      "model_module": "@jupyter-widgets/controls",
      "model_module_version": "1.5.0",
      "model_name": "HTMLModel",
      "state": {
       "layout": "IPY_MODEL_c405f75d7cde49229ff7c13917520cdb",
       "style": "IPY_MODEL_f1e824fa97fa41e98e0e0c1fdbb4ec4d",
       "value": " 16/16 [00:05&lt;00:00,  3.12it/s]"
      }
     },
     "1dfbc9360b2847fc966194852eee0f51": {
      "model_module": "@jupyter-widgets/controls",
      "model_module_version": "1.5.0",
      "model_name": "FloatProgressModel",
      "state": {
       "layout": "IPY_MODEL_3f56c00d239b44b3a0eb81df163af36f",
       "max": 16,
       "style": "IPY_MODEL_b7c66ad6ed084b2e8c049c8d9bfe47c7",
       "value": 16
      }
     },
     "1e01712b30c545a5a69c7deede333d91": {
      "model_module": "@jupyter-widgets/base",
      "model_module_version": "1.2.0",
      "model_name": "LayoutModel",
      "state": {}
     },
     "1e0924a01555457180e99d21f67edc8d": {
      "model_module": "@jupyter-widgets/base",
      "model_module_version": "1.2.0",
      "model_name": "LayoutModel",
      "state": {}
     },
     "1e3c10948fda4d57b01b0e8a86ccf148": {
      "model_module": "@jupyter-widgets/controls",
      "model_module_version": "1.5.0",
      "model_name": "FloatProgressModel",
      "state": {
       "layout": "IPY_MODEL_e083146adf83421c9c46f15aa176b0f0",
       "max": 16,
       "style": "IPY_MODEL_00552d30560c4077ab9b26ed787de759",
       "value": 16
      }
     },
     "1eefe8d7e7604149a21ee9d9e905e1e7": {
      "model_module": "@jupyter-widgets/controls",
      "model_module_version": "1.5.0",
      "model_name": "DescriptionStyleModel",
      "state": {
       "description_width": ""
      }
     },
     "1ef06cdff2f94bf8b482728eea968f7c": {
      "model_module": "@jupyter-widgets/base",
      "model_module_version": "1.2.0",
      "model_name": "LayoutModel",
      "state": {}
     },
     "1ef92944bcb54d188e38e90b9c564ca5": {
      "model_module": "@jupyter-widgets/controls",
      "model_module_version": "1.5.0",
      "model_name": "HTMLModel",
      "state": {
       "layout": "IPY_MODEL_5e85350726a44e729b4f8fda96af77d6",
       "style": "IPY_MODEL_08d2e4359a6f44a6ade771259702c7f2",
       "value": " 16/16 [00:01&lt;00:00,  8.50it/s]"
      }
     },
     "1efb6e5a18564174a2ea7fd8f2509aa7": {
      "model_module": "@jupyter-widgets/base",
      "model_module_version": "1.2.0",
      "model_name": "LayoutModel",
      "state": {
       "flex": "2"
      }
     },
     "1f2b7b574eca4ec69b69e06669d4f85a": {
      "model_module": "@jupyter-widgets/base",
      "model_module_version": "1.2.0",
      "model_name": "LayoutModel",
      "state": {
       "display": "inline-flex",
       "flex_flow": "row wrap",
       "width": "100%"
      }
     },
     "1f3395c43b9b43919aa6a21a4418f939": {
      "model_module": "@jupyter-widgets/controls",
      "model_module_version": "1.5.0",
      "model_name": "HTMLModel",
      "state": {
       "layout": "IPY_MODEL_5fbb3f2aa3cb42a58bc3856bc76e906c",
       "style": "IPY_MODEL_b7804836cde04262bb2f0ff9ef87d7c2",
       "value": " 16/16 [00:02&lt;00:00,  6.92it/s]"
      }
     },
     "1f591d6d81a44acb9cd6eb60cfdad894": {
      "model_module": "@jupyter-widgets/base",
      "model_module_version": "1.2.0",
      "model_name": "LayoutModel",
      "state": {
       "flex": "2"
      }
     },
     "1f77303b5e404e9b8c48c905b711331f": {
      "model_module": "@jupyter-widgets/controls",
      "model_module_version": "1.5.0",
      "model_name": "DescriptionStyleModel",
      "state": {
       "description_width": ""
      }
     },
     "1f94025b547e4993801c50de72b34670": {
      "model_module": "@jupyter-widgets/controls",
      "model_module_version": "1.5.0",
      "model_name": "DescriptionStyleModel",
      "state": {
       "description_width": ""
      }
     },
     "1fc31d1afe7643fe99262aaf05a0e5a8": {
      "model_module": "@jupyter-widgets/controls",
      "model_module_version": "1.5.0",
      "model_name": "FloatProgressModel",
      "state": {
       "layout": "IPY_MODEL_36760cfafc1e41858c21b8e10dc35c1b",
       "max": 16,
       "style": "IPY_MODEL_c7cea23736ae44ff94957f5520ae96bf",
       "value": 16
      }
     },
     "1fe4d7eaace5498784841b1ddf2f30ca": {
      "model_module": "@jupyter-widgets/base",
      "model_module_version": "1.2.0",
      "model_name": "LayoutModel",
      "state": {
       "flex": "2"
      }
     },
     "201195b50aac4f47be427711bbe45412": {
      "model_module": "@jupyter-widgets/controls",
      "model_module_version": "1.5.0",
      "model_name": "ProgressStyleModel",
      "state": {
       "description_width": ""
      }
     },
     "203f3631ab7746cab5b3a5fefb9f50f5": {
      "model_module": "@jupyter-widgets/base",
      "model_module_version": "1.2.0",
      "model_name": "LayoutModel",
      "state": {}
     },
     "204d918842364faa927bbef96208374c": {
      "model_module": "@jupyter-widgets/controls",
      "model_module_version": "1.5.0",
      "model_name": "HTMLModel",
      "state": {
       "layout": "IPY_MODEL_b36edea8bb4d44a0a078a33315c68600",
       "style": "IPY_MODEL_4db54e393c164714bb6082c4b40032f9",
       "value": " 16/16 [00:06&lt;00:00,  2.21it/s]"
      }
     },
     "2096361de5b04734aaf9e1ae0b067bd0": {
      "model_module": "@jupyter-widgets/controls",
      "model_module_version": "1.5.0",
      "model_name": "HTMLModel",
      "state": {
       "layout": "IPY_MODEL_883e09a3368743139ee244929a1fc9b6",
       "style": "IPY_MODEL_30fb5a1b97df46ebaff9b7418d1d1665",
       "value": " 16/16 [00:03&lt;00:00,  3.56it/s]"
      }
     },
     "20a36b64a70b4dc69f46467e0d209c3a": {
      "model_module": "@jupyter-widgets/controls",
      "model_module_version": "1.5.0",
      "model_name": "HTMLModel",
      "state": {
       "layout": "IPY_MODEL_ebc6a8bc98da4d2c84b6540644999cec",
       "style": "IPY_MODEL_b4b7afa2f3a445cda9671db14b73caa8",
       "value": " 16/16 [00:03&lt;00:00,  4.34it/s]"
      }
     },
     "20d8e1be12704483872c862443571440": {
      "model_module": "@jupyter-widgets/base",
      "model_module_version": "1.2.0",
      "model_name": "LayoutModel",
      "state": {}
     },
     "20ee6a6b42004310b6e72c1f19648db4": {
      "model_module": "@jupyter-widgets/base",
      "model_module_version": "1.2.0",
      "model_name": "LayoutModel",
      "state": {}
     },
     "2110d9b2317a4e499ca943dfe6766740": {
      "model_module": "@jupyter-widgets/controls",
      "model_module_version": "1.5.0",
      "model_name": "HTMLModel",
      "state": {
       "layout": "IPY_MODEL_cb840bd2dde04a1185a02a3bb631f3a2",
       "style": "IPY_MODEL_97e28bfe246a414bb6f50cbf65cff1f8",
       "value": "Validation DataLoader 0: 100%"
      }
     },
     "2119d96a37604a13ac587a1fdcfe5617": {
      "model_module": "@jupyter-widgets/base",
      "model_module_version": "1.2.0",
      "model_name": "LayoutModel",
      "state": {}
     },
     "211c2a14b2ac4590a33033ac3055fab1": {
      "model_module": "@jupyter-widgets/controls",
      "model_module_version": "1.5.0",
      "model_name": "HTMLModel",
      "state": {
       "layout": "IPY_MODEL_515601552eae432b8351a125e11ac7d5",
       "style": "IPY_MODEL_bfd21bf9d1e7455db0566c1ae6e678f7",
       "value": " 16/16 [00:05&lt;00:00,  2.53it/s]"
      }
     },
     "213fe6e2316e4244983185d831323685": {
      "model_module": "@jupyter-widgets/controls",
      "model_module_version": "1.5.0",
      "model_name": "DescriptionStyleModel",
      "state": {
       "description_width": ""
      }
     },
     "2159fce92d034032b5103adebe792de7": {
      "model_module": "@jupyter-widgets/controls",
      "model_module_version": "1.5.0",
      "model_name": "DescriptionStyleModel",
      "state": {
       "description_width": ""
      }
     },
     "2174017c7a3a49099c9e42b38cb0431c": {
      "model_module": "@jupyter-widgets/base",
      "model_module_version": "1.2.0",
      "model_name": "LayoutModel",
      "state": {
       "display": "inline-flex",
       "flex_flow": "row wrap",
       "width": "100%"
      }
     },
     "2179f3300cb54c4ba8cbd26b0916732a": {
      "model_module": "@jupyter-widgets/controls",
      "model_module_version": "1.5.0",
      "model_name": "ProgressStyleModel",
      "state": {
       "description_width": ""
      }
     },
     "21a94c8b36e74c75aa8192c352e52367": {
      "model_module": "@jupyter-widgets/controls",
      "model_module_version": "1.5.0",
      "model_name": "HTMLModel",
      "state": {
       "layout": "IPY_MODEL_d580486e5ae84fc48547147439bac814",
       "style": "IPY_MODEL_66fd0958d4114ff4b3524339efb2083a",
       "value": "Validation DataLoader 0: 100%"
      }
     },
     "21ceecb69812474e9c8cd6d9ca923a71": {
      "model_module": "@jupyter-widgets/controls",
      "model_module_version": "1.5.0",
      "model_name": "HTMLModel",
      "state": {
       "layout": "IPY_MODEL_15898c1716484320bc9699d01b89e289",
       "style": "IPY_MODEL_02b59dc5c7dc43c792f5cdecb0bb1291",
       "value": " 16/16 [00:03&lt;00:00,  3.80it/s]"
      }
     },
     "21d2ee2504484fc0942e2ca0ba3dd951": {
      "model_module": "@jupyter-widgets/base",
      "model_module_version": "1.2.0",
      "model_name": "LayoutModel",
      "state": {}
     },
     "21e38ce966cf4a25a6a575e70f7ca25e": {
      "model_module": "@jupyter-widgets/controls",
      "model_module_version": "1.5.0",
      "model_name": "FloatProgressModel",
      "state": {
       "layout": "IPY_MODEL_d8c089663c4b4fc584fd74d8b76a2619",
       "max": 16,
       "style": "IPY_MODEL_ae7fc8938b81424394abe01da6bbdc02",
       "value": 16
      }
     },
     "21eda468262a473ebab800289d9d72d9": {
      "model_module": "@jupyter-widgets/base",
      "model_module_version": "1.2.0",
      "model_name": "LayoutModel",
      "state": {
       "flex": "2"
      }
     },
     "21f2d81f039349b09896c35c42876c08": {
      "model_module": "@jupyter-widgets/controls",
      "model_module_version": "1.5.0",
      "model_name": "HTMLModel",
      "state": {
       "layout": "IPY_MODEL_7204174fed1740efb05ce7a928c127f9",
       "style": "IPY_MODEL_72eab451446741fa884801e2bd40f5dd",
       "value": " 16/16 [00:05&lt;00:00,  2.97it/s]"
      }
     },
     "2229410e4d394cb1b00706fc167e904c": {
      "model_module": "@jupyter-widgets/controls",
      "model_module_version": "1.5.0",
      "model_name": "HTMLModel",
      "state": {
       "layout": "IPY_MODEL_bc8432f009884104b756ddffc5e420ad",
       "style": "IPY_MODEL_140e9ffe4be0423c9c361206d0b526eb",
       "value": " 61/77 [00:44&lt;00:11,  1.37it/s, loss=0.0559, v_num=H-71]"
      }
     },
     "2275d715965546ddbd6de61db5663451": {
      "model_module": "@jupyter-widgets/controls",
      "model_module_version": "1.5.0",
      "model_name": "HTMLModel",
      "state": {
       "layout": "IPY_MODEL_9ec533ea131943c99e340f99b6165242",
       "style": "IPY_MODEL_798547373e5b42f787a699f1e8ac6ff3",
       "value": "Validation DataLoader 0: 100%"
      }
     },
     "22a9fadacbfc454a97fadeaf6c772636": {
      "model_module": "@jupyter-widgets/controls",
      "model_module_version": "1.5.0",
      "model_name": "FloatProgressModel",
      "state": {
       "layout": "IPY_MODEL_d54cbd37bf40427b87b310da64148884",
       "max": 16,
       "style": "IPY_MODEL_28ec8864fde34f558bc4d9524bd64059",
       "value": 16
      }
     },
     "22b12f3de04a4ee092df57d6628ad82b": {
      "model_module": "@jupyter-widgets/controls",
      "model_module_version": "1.5.0",
      "model_name": "DescriptionStyleModel",
      "state": {
       "description_width": ""
      }
     },
     "22b79fa01f294cbf9e422cc98d0c104d": {
      "model_module": "@jupyter-widgets/controls",
      "model_module_version": "1.5.0",
      "model_name": "FloatProgressModel",
      "state": {
       "layout": "IPY_MODEL_539ccc7865af4e86b15eabef55133dbe",
       "max": 16,
       "style": "IPY_MODEL_cfde6a78b1ca401e8f8a45f2045c3ddd",
       "value": 16
      }
     },
     "22bac299d0fa4c9f876c2f9db473abe3": {
      "model_module": "@jupyter-widgets/controls",
      "model_module_version": "1.5.0",
      "model_name": "FloatProgressModel",
      "state": {
       "layout": "IPY_MODEL_8434ea045e0d4430af5e26d58ca98971",
       "max": 16,
       "style": "IPY_MODEL_4d9101c54386413b8873997aad7720e4",
       "value": 16
      }
     },
     "22f6c83056a34c66891210baebeeb164": {
      "model_module": "@jupyter-widgets/base",
      "model_module_version": "1.2.0",
      "model_name": "LayoutModel",
      "state": {}
     },
     "232f8de38eda4f2f882440ebecfcfcd1": {
      "model_module": "@jupyter-widgets/controls",
      "model_module_version": "1.5.0",
      "model_name": "DescriptionStyleModel",
      "state": {
       "description_width": ""
      }
     },
     "236084a3be434664ba2f274042eeb8e8": {
      "model_module": "@jupyter-widgets/base",
      "model_module_version": "1.2.0",
      "model_name": "LayoutModel",
      "state": {
       "display": "inline-flex",
       "flex_flow": "row wrap",
       "width": "100%"
      }
     },
     "23633fb16f834df8af8e1ee73dd9890d": {
      "model_module": "@jupyter-widgets/base",
      "model_module_version": "1.2.0",
      "model_name": "LayoutModel",
      "state": {
       "flex": "2"
      }
     },
     "239957944c474c11abfdd3dc8a5150ec": {
      "model_module": "@jupyter-widgets/base",
      "model_module_version": "1.2.0",
      "model_name": "LayoutModel",
      "state": {
       "flex": "2"
      }
     },
     "240cd0d9d65449359f19701f7ec1a892": {
      "model_module": "@jupyter-widgets/base",
      "model_module_version": "1.2.0",
      "model_name": "LayoutModel",
      "state": {
       "display": "inline-flex",
       "flex_flow": "row wrap",
       "width": "100%"
      }
     },
     "241517e462454945a9bbd01d6ea192ff": {
      "model_module": "@jupyter-widgets/base",
      "model_module_version": "1.2.0",
      "model_name": "LayoutModel",
      "state": {}
     },
     "24f26535e6174a23a160934db72b4240": {
      "model_module": "@jupyter-widgets/controls",
      "model_module_version": "1.5.0",
      "model_name": "FloatProgressModel",
      "state": {
       "layout": "IPY_MODEL_6613bede3cda4fc5bd2404137e3c9441",
       "max": 16,
       "style": "IPY_MODEL_b1d197896a6e4f3e92e2f5aa733274d9",
       "value": 16
      }
     },
     "24feb32ca8d64faa982702b36adbdcda": {
      "model_module": "@jupyter-widgets/base",
      "model_module_version": "1.2.0",
      "model_name": "LayoutModel",
      "state": {}
     },
     "2510a755ce0b41da8bdaac3f440b8610": {
      "model_module": "@jupyter-widgets/base",
      "model_module_version": "1.2.0",
      "model_name": "LayoutModel",
      "state": {
       "flex": "2"
      }
     },
     "2519ba7cea394a938cc8c1c33689bdf4": {
      "model_module": "@jupyter-widgets/base",
      "model_module_version": "1.2.0",
      "model_name": "LayoutModel",
      "state": {
       "display": "inline-flex",
       "flex_flow": "row wrap",
       "width": "100%"
      }
     },
     "251fc123b3574ad79a4c8f91dd7ae49c": {
      "model_module": "@jupyter-widgets/controls",
      "model_module_version": "1.5.0",
      "model_name": "DescriptionStyleModel",
      "state": {
       "description_width": ""
      }
     },
     "25279ea7cc5d435c9c48d7c6eddbb5b7": {
      "model_module": "@jupyter-widgets/controls",
      "model_module_version": "1.5.0",
      "model_name": "HTMLModel",
      "state": {
       "layout": "IPY_MODEL_5428dea5b9ee44649ce567465c37ef41",
       "style": "IPY_MODEL_254f18a1b5f74615aa0272989e2627ff",
       "value": " 16/16 [00:03&lt;00:00,  3.79it/s]"
      }
     },
     "254f18a1b5f74615aa0272989e2627ff": {
      "model_module": "@jupyter-widgets/controls",
      "model_module_version": "1.5.0",
      "model_name": "DescriptionStyleModel",
      "state": {
       "description_width": ""
      }
     },
     "256329bf088e41f2b47e2ee934f81cb9": {
      "model_module": "@jupyter-widgets/base",
      "model_module_version": "1.2.0",
      "model_name": "LayoutModel",
      "state": {
       "display": "inline-flex",
       "flex_flow": "row wrap",
       "width": "100%"
      }
     },
     "25b1041404604be69cabf5b8889fa597": {
      "model_module": "@jupyter-widgets/controls",
      "model_module_version": "1.5.0",
      "model_name": "HTMLModel",
      "state": {
       "layout": "IPY_MODEL_2c6de0544e0e45bba586e94914b1b85c",
       "style": "IPY_MODEL_7aae65d85eec42319f9d7862c79291a3",
       "value": " 16/16 [00:01&lt;00:00,  7.90it/s]"
      }
     },
     "25c5ad1ce65a4ea5b506a6c29bb60584": {
      "model_module": "@jupyter-widgets/base",
      "model_module_version": "1.2.0",
      "model_name": "LayoutModel",
      "state": {
       "flex": "2"
      }
     },
     "25eb1276dc7249198147be43c8b9e5b9": {
      "model_module": "@jupyter-widgets/controls",
      "model_module_version": "1.5.0",
      "model_name": "HTMLModel",
      "state": {
       "layout": "IPY_MODEL_cfc9cbadded642559d3ce7345e78f324",
       "style": "IPY_MODEL_822a290dc73b4cba9e0e87a15b9d16c9",
       "value": " 16/16 [00:04&lt;00:00,  2.79it/s]"
      }
     },
     "261884e3d7694adb89feac0e7b23554e": {
      "model_module": "@jupyter-widgets/controls",
      "model_module_version": "1.5.0",
      "model_name": "DescriptionStyleModel",
      "state": {
       "description_width": ""
      }
     },
     "26435bb38e574d1282994513871c439a": {
      "model_module": "@jupyter-widgets/base",
      "model_module_version": "1.2.0",
      "model_name": "LayoutModel",
      "state": {
       "flex": "2"
      }
     },
     "2670a2f3fbfc4430974a7b1dbd7266d9": {
      "model_module": "@jupyter-widgets/controls",
      "model_module_version": "1.5.0",
      "model_name": "FloatProgressModel",
      "state": {
       "layout": "IPY_MODEL_93d103b85122492686d71c2bffa4dd36",
       "max": 16,
       "style": "IPY_MODEL_c61955b80cba438781346f914707c009",
       "value": 16
      }
     },
     "26a4025bd8a547b79d3c14e7cc5e19d8": {
      "model_module": "@jupyter-widgets/controls",
      "model_module_version": "1.5.0",
      "model_name": "HTMLModel",
      "state": {
       "layout": "IPY_MODEL_445a9cd4a61943c6a6868a7d9401e234",
       "style": "IPY_MODEL_c4225bfe402945f3966473b8751eb729",
       "value": " 16/16 [00:03&lt;00:00,  3.89it/s]"
      }
     },
     "26f2ea301f3244a2b97e8b00eb2b5d0c": {
      "model_module": "@jupyter-widgets/controls",
      "model_module_version": "1.5.0",
      "model_name": "DescriptionStyleModel",
      "state": {
       "description_width": ""
      }
     },
     "277c65be3a954c329e8812743ab8fccc": {
      "model_module": "@jupyter-widgets/controls",
      "model_module_version": "1.5.0",
      "model_name": "DescriptionStyleModel",
      "state": {
       "description_width": ""
      }
     },
     "2786f85e43af4d6385bed3857f063d49": {
      "model_module": "@jupyter-widgets/controls",
      "model_module_version": "1.5.0",
      "model_name": "HTMLModel",
      "state": {
       "layout": "IPY_MODEL_080969d2215845b48a9d6836829c7c21",
       "style": "IPY_MODEL_b15810b8ed0649a1b588b165c085dfce",
       "value": " 2/2 [00:00&lt;00:00,  2.96it/s]"
      }
     },
     "27c0d23da898499aa95e4970b8af29d2": {
      "model_module": "@jupyter-widgets/controls",
      "model_module_version": "1.5.0",
      "model_name": "FloatProgressModel",
      "state": {
       "layout": "IPY_MODEL_fdb4fc7444064f21a3209996b519db61",
       "max": 16,
       "style": "IPY_MODEL_fe4ac9cd3bec4e9c916c01e47a079a11",
       "value": 16
      }
     },
     "27ccd3fc36d14cfe811f5907a882de02": {
      "model_module": "@jupyter-widgets/base",
      "model_module_version": "1.2.0",
      "model_name": "LayoutModel",
      "state": {
       "display": "inline-flex",
       "flex_flow": "row wrap",
       "width": "100%"
      }
     },
     "28006453c28246639153baeaf04513cf": {
      "model_module": "@jupyter-widgets/controls",
      "model_module_version": "1.5.0",
      "model_name": "DescriptionStyleModel",
      "state": {
       "description_width": ""
      }
     },
     "280f8e1dd3c04171aaee89d35623f780": {
      "model_module": "@jupyter-widgets/controls",
      "model_module_version": "1.5.0",
      "model_name": "DescriptionStyleModel",
      "state": {
       "description_width": ""
      }
     },
     "2847097d850e45fa8c3044dd4f5a028e": {
      "model_module": "@jupyter-widgets/controls",
      "model_module_version": "1.5.0",
      "model_name": "HTMLModel",
      "state": {
       "layout": "IPY_MODEL_37dfddd10cb34ad1a5869ed55b5fc117",
       "style": "IPY_MODEL_d2bd9da389fd40f7b018a81f4ed34ab3",
       "value": "Validation DataLoader 0: 100%"
      }
     },
     "2861d61b283c454e89dff3f758767067": {
      "model_module": "@jupyter-widgets/base",
      "model_module_version": "1.2.0",
      "model_name": "LayoutModel",
      "state": {
       "display": "inline-flex",
       "flex_flow": "row wrap",
       "width": "100%"
      }
     },
     "28a7f52baf5c470cabedcb3a645ae388": {
      "model_module": "@jupyter-widgets/controls",
      "model_module_version": "1.5.0",
      "model_name": "HTMLModel",
      "state": {
       "layout": "IPY_MODEL_124b79872753424d968b53863105fd10",
       "style": "IPY_MODEL_a6f6dd606eb64ad8a41343fe5792ab02",
       "value": "Validation DataLoader 0: 100%"
      }
     },
     "28ac400bc1954ba197525e8804d79406": {
      "model_module": "@jupyter-widgets/base",
      "model_module_version": "1.2.0",
      "model_name": "LayoutModel",
      "state": {}
     },
     "28d2425c2e7749b9aa7e2d7a42996741": {
      "model_module": "@jupyter-widgets/controls",
      "model_module_version": "1.5.0",
      "model_name": "ProgressStyleModel",
      "state": {
       "description_width": ""
      }
     },
     "28ec8864fde34f558bc4d9524bd64059": {
      "model_module": "@jupyter-widgets/controls",
      "model_module_version": "1.5.0",
      "model_name": "ProgressStyleModel",
      "state": {
       "description_width": ""
      }
     },
     "291c91022c2a4a7aaf28dc64878ef7c2": {
      "model_module": "@jupyter-widgets/base",
      "model_module_version": "1.2.0",
      "model_name": "LayoutModel",
      "state": {
       "flex": "2"
      }
     },
     "292615c0e6e24f3bbda4700cf640d12d": {
      "model_module": "@jupyter-widgets/base",
      "model_module_version": "1.2.0",
      "model_name": "LayoutModel",
      "state": {}
     },
     "29286b60bfa044e9b865ee4561806037": {
      "model_module": "@jupyter-widgets/controls",
      "model_module_version": "1.5.0",
      "model_name": "FloatProgressModel",
      "state": {
       "layout": "IPY_MODEL_63c36c36fb044c9aa879490a34867fc1",
       "max": 16,
       "style": "IPY_MODEL_e86a09925bff49ccbbb8e46a17146e7a",
       "value": 16
      }
     },
     "29471f89898a454cb2e0ce7023b801ff": {
      "model_module": "@jupyter-widgets/controls",
      "model_module_version": "1.5.0",
      "model_name": "DescriptionStyleModel",
      "state": {
       "description_width": ""
      }
     },
     "29958a1c5fe147cca2ffffa65524070e": {
      "model_module": "@jupyter-widgets/controls",
      "model_module_version": "1.5.0",
      "model_name": "FloatProgressModel",
      "state": {
       "layout": "IPY_MODEL_7ffce3f2a3e34d5e99e1a01d9aa5ef01",
       "max": 16,
       "style": "IPY_MODEL_d360c14c59b5416e9c5fb17370875841",
       "value": 16
      }
     },
     "29a85c4f96b443b5aabe1740148694c3": {
      "model_module": "@jupyter-widgets/base",
      "model_module_version": "1.2.0",
      "model_name": "LayoutModel",
      "state": {}
     },
     "2a15674fe1aa4132bd0300b32370dacd": {
      "model_module": "@jupyter-widgets/base",
      "model_module_version": "1.2.0",
      "model_name": "LayoutModel",
      "state": {
       "display": "inline-flex",
       "flex_flow": "row wrap",
       "width": "100%"
      }
     },
     "2a21c14290884d68b910ee0c4e8c10e0": {
      "model_module": "@jupyter-widgets/controls",
      "model_module_version": "1.5.0",
      "model_name": "DescriptionStyleModel",
      "state": {
       "description_width": ""
      }
     },
     "2a42fdf1a8a147bcaf7f1cd9275bf4fb": {
      "model_module": "@jupyter-widgets/controls",
      "model_module_version": "1.5.0",
      "model_name": "FloatProgressModel",
      "state": {
       "layout": "IPY_MODEL_13a3a045a5c14efb81b520ec4045aab1",
       "max": 77,
       "style": "IPY_MODEL_ca7576c0770d441985357c1e2baf66a7",
       "value": 42
      }
     },
     "2a7a0bb7b7ba4070aef7c57e455a02ab": {
      "model_module": "@jupyter-widgets/base",
      "model_module_version": "1.2.0",
      "model_name": "LayoutModel",
      "state": {}
     },
     "2a9b360286974d58bb8a99e94a65eedd": {
      "model_module": "@jupyter-widgets/base",
      "model_module_version": "1.2.0",
      "model_name": "LayoutModel",
      "state": {}
     },
     "2abe2466fff94296be316b31b5169982": {
      "model_module": "@jupyter-widgets/controls",
      "model_module_version": "1.5.0",
      "model_name": "DescriptionStyleModel",
      "state": {
       "description_width": ""
      }
     },
     "2afb5d55eea34bcab92c1dfe67b064eb": {
      "model_module": "@jupyter-widgets/base",
      "model_module_version": "1.2.0",
      "model_name": "LayoutModel",
      "state": {}
     },
     "2b2b2e85a6ed4fc283859b5093f5ccdd": {
      "model_module": "@jupyter-widgets/controls",
      "model_module_version": "1.5.0",
      "model_name": "ProgressStyleModel",
      "state": {
       "description_width": ""
      }
     },
     "2b4cfc6a83044bc3b22e4018e31f66d5": {
      "model_module": "@jupyter-widgets/controls",
      "model_module_version": "1.5.0",
      "model_name": "DescriptionStyleModel",
      "state": {
       "description_width": ""
      }
     },
     "2b541de7cb4440779d681b8a76356972": {
      "model_module": "@jupyter-widgets/controls",
      "model_module_version": "1.5.0",
      "model_name": "HBoxModel",
      "state": {
       "children": [
        "IPY_MODEL_da763932c64441c08db436dfb24ccce3",
        "IPY_MODEL_664e64b2be0d4983b68d17c99cbc680a",
        "IPY_MODEL_3639d292b117489b83091f66948f61a0"
       ],
       "layout": "IPY_MODEL_8b4dfa5cd220402b87d3ccc9a4a5a720"
      }
     },
     "2b6d49d700cb4d21b8ea99cd19765e74": {
      "model_module": "@jupyter-widgets/base",
      "model_module_version": "1.2.0",
      "model_name": "LayoutModel",
      "state": {
       "flex": "2"
      }
     },
     "2b72fe9d95d94b9e95bb6670bfe2f506": {
      "model_module": "@jupyter-widgets/controls",
      "model_module_version": "1.5.0",
      "model_name": "HTMLModel",
      "state": {
       "layout": "IPY_MODEL_d7371036dd8f4b5086ef70136dceddc1",
       "style": "IPY_MODEL_b813daf67fa842c08814530ce45fa970",
       "value": "Validation DataLoader 0: 100%"
      }
     },
     "2be5a5d61d094ea18c9e0cf79e59d2f4": {
      "model_module": "@jupyter-widgets/base",
      "model_module_version": "1.2.0",
      "model_name": "LayoutModel",
      "state": {}
     },
     "2be771a1cc5d4092a1c645759b2ba797": {
      "model_module": "@jupyter-widgets/controls",
      "model_module_version": "1.5.0",
      "model_name": "DescriptionStyleModel",
      "state": {
       "description_width": ""
      }
     },
     "2c6de0544e0e45bba586e94914b1b85c": {
      "model_module": "@jupyter-widgets/base",
      "model_module_version": "1.2.0",
      "model_name": "LayoutModel",
      "state": {}
     },
     "2c88ced5e53a4898855fade024e0fc08": {
      "model_module": "@jupyter-widgets/controls",
      "model_module_version": "1.5.0",
      "model_name": "HTMLModel",
      "state": {
       "layout": "IPY_MODEL_61781c5308e5419390e1e58cab032c6e",
       "style": "IPY_MODEL_f7f5b80323304b8191199570735c0e92",
       "value": " 16/16 [00:06&lt;00:00,  2.29it/s]"
      }
     },
     "2c8c9cfc40924344b3d22da74c559fd7": {
      "model_module": "@jupyter-widgets/base",
      "model_module_version": "1.2.0",
      "model_name": "LayoutModel",
      "state": {}
     },
     "2c8faf69785447c8a200ec024b729ab3": {
      "model_module": "@jupyter-widgets/controls",
      "model_module_version": "1.5.0",
      "model_name": "DescriptionStyleModel",
      "state": {
       "description_width": ""
      }
     },
     "2ca6071f71d841b6ac283099485434ae": {
      "model_module": "@jupyter-widgets/base",
      "model_module_version": "1.2.0",
      "model_name": "LayoutModel",
      "state": {
       "display": "inline-flex",
       "flex_flow": "row wrap",
       "width": "100%"
      }
     },
     "2ccd005b576640c1862516d93abf03f0": {
      "model_module": "@jupyter-widgets/controls",
      "model_module_version": "1.5.0",
      "model_name": "FloatProgressModel",
      "state": {
       "layout": "IPY_MODEL_7223e4791857499981f9f1d07fcaa643",
       "max": 16,
       "style": "IPY_MODEL_df8443ec099f45a4940a20a6b8687c9b",
       "value": 16
      }
     },
     "2cd38e69659c49afb441c43289f7eb21": {
      "model_module": "@jupyter-widgets/controls",
      "model_module_version": "1.5.0",
      "model_name": "HTMLModel",
      "state": {
       "layout": "IPY_MODEL_0199260a47ac42bea8c7e529cc95e8af",
       "style": "IPY_MODEL_ac5c81548536470cb907f0168cf6017d",
       "value": " 16/16 [00:04&lt;00:00,  3.28it/s]"
      }
     },
     "2cdc0bb5b6d7467baa783c7156c6d596": {
      "model_module": "@jupyter-widgets/controls",
      "model_module_version": "1.5.0",
      "model_name": "DescriptionStyleModel",
      "state": {
       "description_width": ""
      }
     },
     "2ce5ea28e5064818bc5f1a8ffb461ffe": {
      "model_module": "@jupyter-widgets/controls",
      "model_module_version": "1.5.0",
      "model_name": "ProgressStyleModel",
      "state": {
       "description_width": ""
      }
     },
     "2d150813c97d4bcc9ef390dfb4acfaab": {
      "model_module": "@jupyter-widgets/base",
      "model_module_version": "1.2.0",
      "model_name": "LayoutModel",
      "state": {
       "flex": "2"
      }
     },
     "2d1818fc516c4b3d80e9a8387c6c769f": {
      "model_module": "@jupyter-widgets/base",
      "model_module_version": "1.2.0",
      "model_name": "LayoutModel",
      "state": {
       "flex": "2"
      }
     },
     "2d1e66d4962144e984be1db22269a566": {
      "model_module": "@jupyter-widgets/base",
      "model_module_version": "1.2.0",
      "model_name": "LayoutModel",
      "state": {}
     },
     "2d5521a80d2642439e3bad9851f9b74b": {
      "model_module": "@jupyter-widgets/controls",
      "model_module_version": "1.5.0",
      "model_name": "HTMLModel",
      "state": {
       "layout": "IPY_MODEL_4df59df3452b4092bd4e45bc1f8ab04f",
       "style": "IPY_MODEL_901aabb049014733ba6b0f58253a1314",
       "value": " 16/16 [00:03&lt;00:00,  4.98it/s]"
      }
     },
     "2d5e070aca5a4d7fb232c8c7be12074b": {
      "model_module": "@jupyter-widgets/base",
      "model_module_version": "1.2.0",
      "model_name": "LayoutModel",
      "state": {
       "flex": "2"
      }
     },
     "2dd4951d94c647dea3f4ec52fbc4bbf4": {
      "model_module": "@jupyter-widgets/controls",
      "model_module_version": "1.5.0",
      "model_name": "DescriptionStyleModel",
      "state": {
       "description_width": ""
      }
     },
     "2dffea4d7a414026bf756802a097ec67": {
      "model_module": "@jupyter-widgets/controls",
      "model_module_version": "1.5.0",
      "model_name": "DescriptionStyleModel",
      "state": {
       "description_width": ""
      }
     },
     "2e19942b09c742ecb97d24c1957608b1": {
      "model_module": "@jupyter-widgets/base",
      "model_module_version": "1.2.0",
      "model_name": "LayoutModel",
      "state": {}
     },
     "2e2ef4b633a946c988affd5f1a06acaf": {
      "model_module": "@jupyter-widgets/controls",
      "model_module_version": "1.5.0",
      "model_name": "HTMLModel",
      "state": {
       "layout": "IPY_MODEL_3784071245794f2e939cdb4e9770a339",
       "style": "IPY_MODEL_774b7fd4e8f245879621c1e67318fb09",
       "value": " 16/16 [00:02&lt;00:00,  7.82it/s]"
      }
     },
     "2ec48cf9733a4a1fa3567076f0fe439c": {
      "model_module": "@jupyter-widgets/controls",
      "model_module_version": "1.5.0",
      "model_name": "HTMLModel",
      "state": {
       "layout": "IPY_MODEL_0a714efea62f43d895389614d38b8544",
       "style": "IPY_MODEL_07eddfb765d446be88c75a11bd03648c",
       "value": " 16/16 [00:03&lt;00:00,  4.01it/s]"
      }
     },
     "2ed9ba1ab9864b509eb0091695bcaf64": {
      "model_module": "@jupyter-widgets/controls",
      "model_module_version": "1.5.0",
      "model_name": "ProgressStyleModel",
      "state": {
       "description_width": ""
      }
     },
     "2f150840578a48199284ae7e2bded58b": {
      "model_module": "@jupyter-widgets/base",
      "model_module_version": "1.2.0",
      "model_name": "LayoutModel",
      "state": {
       "flex": "2"
      }
     },
     "2f19f675d7954c62980d4e48ccbf829f": {
      "model_module": "@jupyter-widgets/controls",
      "model_module_version": "1.5.0",
      "model_name": "FloatProgressModel",
      "state": {
       "layout": "IPY_MODEL_e3916dada00847038c5b8357a181f370",
       "max": 16,
       "style": "IPY_MODEL_7ec520b7436645d39881ab8d51109cbe",
       "value": 16
      }
     },
     "2f29b6628e31484d9c0b90495aa547d4": {
      "model_module": "@jupyter-widgets/controls",
      "model_module_version": "1.5.0",
      "model_name": "HTMLModel",
      "state": {
       "layout": "IPY_MODEL_9ddad015a30c45d5908fc6a15f8d78f1",
       "style": "IPY_MODEL_ddec040c4d3e40efa8a9987d4805dae9",
       "value": "Validation DataLoader 0: 100%"
      }
     },
     "2f37c4ab9ae9418dba7b84dcf6868499": {
      "model_module": "@jupyter-widgets/controls",
      "model_module_version": "1.5.0",
      "model_name": "DescriptionStyleModel",
      "state": {
       "description_width": ""
      }
     },
     "2f37d8520bd1432eb3a9c265d67f8f69": {
      "model_module": "@jupyter-widgets/base",
      "model_module_version": "1.2.0",
      "model_name": "LayoutModel",
      "state": {
       "display": "inline-flex",
       "flex_flow": "row wrap",
       "width": "100%"
      }
     },
     "2f4aa003ea934472a64af8223f5328d5": {
      "model_module": "@jupyter-widgets/base",
      "model_module_version": "1.2.0",
      "model_name": "LayoutModel",
      "state": {}
     },
     "2f575b55289b42dabf3d256deed63ed2": {
      "model_module": "@jupyter-widgets/base",
      "model_module_version": "1.2.0",
      "model_name": "LayoutModel",
      "state": {
       "display": "inline-flex",
       "flex_flow": "row wrap",
       "width": "100%"
      }
     },
     "2f6af1b5bd0345b29730c6e3f6baa8ee": {
      "model_module": "@jupyter-widgets/controls",
      "model_module_version": "1.5.0",
      "model_name": "DescriptionStyleModel",
      "state": {
       "description_width": ""
      }
     },
     "2f78e9d1b7074a6ca0be51b7a2599069": {
      "model_module": "@jupyter-widgets/base",
      "model_module_version": "1.2.0",
      "model_name": "LayoutModel",
      "state": {
       "flex": "2"
      }
     },
     "2f826a024c0f43bebcfd7999b4c3091c": {
      "model_module": "@jupyter-widgets/controls",
      "model_module_version": "1.5.0",
      "model_name": "HBoxModel",
      "state": {
       "children": [
        "IPY_MODEL_122008fe9f2b4b0dbfbc197d2e585598",
        "IPY_MODEL_c44db4b1677a4a828ed35c20c47da974",
        "IPY_MODEL_c9f2b5e3f0d1485e800ac888f54a5ee5"
       ],
       "layout": "IPY_MODEL_1a5d9a35bde84b99a73af57ca766e907"
      }
     },
     "2f94c604382248a7ae7e83c261512177": {
      "model_module": "@jupyter-widgets/base",
      "model_module_version": "1.2.0",
      "model_name": "LayoutModel",
      "state": {
       "display": "inline-flex",
       "flex_flow": "row wrap",
       "width": "100%"
      }
     },
     "2fb1af3be86c4e93bdbc3f355f82268a": {
      "model_module": "@jupyter-widgets/controls",
      "model_module_version": "1.5.0",
      "model_name": "DescriptionStyleModel",
      "state": {
       "description_width": ""
      }
     },
     "2fb627d5bace4f82aac49e43d6a086d5": {
      "model_module": "@jupyter-widgets/controls",
      "model_module_version": "1.5.0",
      "model_name": "HTMLModel",
      "state": {
       "layout": "IPY_MODEL_7c99f2ac47d1422eb94f608adb1b3d09",
       "style": "IPY_MODEL_6266c39cd8d449e6b2c79c7f185507e6",
       "value": "Validation DataLoader 0: 100%"
      }
     },
     "2fc295bbfc0a4f27aee3cec503c53392": {
      "model_module": "@jupyter-widgets/controls",
      "model_module_version": "1.5.0",
      "model_name": "DescriptionStyleModel",
      "state": {
       "description_width": ""
      }
     },
     "2fd09bff5fd3458da09cccb476e094da": {
      "model_module": "@jupyter-widgets/controls",
      "model_module_version": "1.5.0",
      "model_name": "FloatProgressModel",
      "state": {
       "layout": "IPY_MODEL_45a2085c904943ae8561edf0c37746e8",
       "max": 16,
       "style": "IPY_MODEL_624c9c6a3c33424db94f4a08113cbb3b",
       "value": 16
      }
     },
     "2ff383a3e4074fba99155b9975acdaa2": {
      "model_module": "@jupyter-widgets/base",
      "model_module_version": "1.2.0",
      "model_name": "LayoutModel",
      "state": {
       "flex": "2"
      }
     },
     "3023a8a3796349f48147a2d4552b6554": {
      "model_module": "@jupyter-widgets/controls",
      "model_module_version": "1.5.0",
      "model_name": "HTMLModel",
      "state": {
       "layout": "IPY_MODEL_9ede6bd60f534acba431e24c55a91898",
       "style": "IPY_MODEL_ed882e7502e54870bb9922bb4a290585"
      }
     },
     "303bd8f4e7f24fe69e955b9c30ec677d": {
      "model_module": "@jupyter-widgets/controls",
      "model_module_version": "1.5.0",
      "model_name": "ProgressStyleModel",
      "state": {
       "description_width": ""
      }
     },
     "30526a363bcc440caa3b4466a5d84381": {
      "model_module": "@jupyter-widgets/base",
      "model_module_version": "1.2.0",
      "model_name": "LayoutModel",
      "state": {
       "flex": "2"
      }
     },
     "306b0cc9f63444729ba9a5a534550d2d": {
      "model_module": "@jupyter-widgets/base",
      "model_module_version": "1.2.0",
      "model_name": "LayoutModel",
      "state": {}
     },
     "3075decda87149a6a261681f21d4104f": {
      "model_module": "@jupyter-widgets/controls",
      "model_module_version": "1.5.0",
      "model_name": "HTMLModel",
      "state": {
       "layout": "IPY_MODEL_e7c0127429764c369ba49c3db2c9e9ff",
       "style": "IPY_MODEL_fc9aec39ec83464880e881dedcee8776",
       "value": " 16/16 [00:01&lt;00:00,  8.60it/s]"
      }
     },
     "3096f7f88b0149058f18d83d111aedfc": {
      "model_module": "@jupyter-widgets/base",
      "model_module_version": "1.2.0",
      "model_name": "LayoutModel",
      "state": {
       "display": "inline-flex",
       "flex_flow": "row wrap",
       "width": "100%"
      }
     },
     "30992693b9924fcdb1cf552cb09ad3bb": {
      "model_module": "@jupyter-widgets/base",
      "model_module_version": "1.2.0",
      "model_name": "LayoutModel",
      "state": {}
     },
     "30d10d4153d44e6d8976f2ff38d975fe": {
      "model_module": "@jupyter-widgets/controls",
      "model_module_version": "1.5.0",
      "model_name": "HTMLModel",
      "state": {
       "layout": "IPY_MODEL_5177c8e909db46e6a99d5ef0c068a7fa",
       "style": "IPY_MODEL_7da37e049db04730b0e983a4d04580d2",
       "value": "Validation DataLoader 0: 100%"
      }
     },
     "30dd30a7e6214e4ba1b20cd5ac908f98": {
      "model_module": "@jupyter-widgets/controls",
      "model_module_version": "1.5.0",
      "model_name": "HTMLModel",
      "state": {
       "layout": "IPY_MODEL_a808ef1a151d4cba9e6890d5267e08fa",
       "style": "IPY_MODEL_ac415ab5b8774dfb82ddfedf421db350",
       "value": "Validation DataLoader 0: 100%"
      }
     },
     "30fb5a1b97df46ebaff9b7418d1d1665": {
      "model_module": "@jupyter-widgets/controls",
      "model_module_version": "1.5.0",
      "model_name": "DescriptionStyleModel",
      "state": {
       "description_width": ""
      }
     },
     "311e9ce5f3cd4a77a146fb41909f5cab": {
      "model_module": "@jupyter-widgets/base",
      "model_module_version": "1.2.0",
      "model_name": "LayoutModel",
      "state": {
       "display": "inline-flex",
       "flex_flow": "row wrap",
       "width": "100%"
      }
     },
     "312ff8450d3c479b97c59927d005e4b0": {
      "model_module": "@jupyter-widgets/controls",
      "model_module_version": "1.5.0",
      "model_name": "HTMLModel",
      "state": {
       "layout": "IPY_MODEL_836721b9813b40c88eafd12ec2919b4e",
       "style": "IPY_MODEL_d83c6b946f424afe8a24b9b664b9e244",
       "value": " 16/16 [00:03&lt;00:00,  3.89it/s]"
      }
     },
     "31a3032b94094727981deef9d05f9ea4": {
      "model_module": "@jupyter-widgets/controls",
      "model_module_version": "1.5.0",
      "model_name": "DescriptionStyleModel",
      "state": {
       "description_width": ""
      }
     },
     "31c0ef1a08e04ebc98708be81c55c2c1": {
      "model_module": "@jupyter-widgets/controls",
      "model_module_version": "1.5.0",
      "model_name": "HTMLModel",
      "state": {
       "layout": "IPY_MODEL_ea423f3fa00e47b18d6a0f7adc7c9b4b",
       "style": "IPY_MODEL_7380fb44b32e49bbb5801389f7727d76",
       "value": "Validation DataLoader 0: 100%"
      }
     },
     "326d75bae2e643f099dfece29f07a350": {
      "model_module": "@jupyter-widgets/base",
      "model_module_version": "1.2.0",
      "model_name": "LayoutModel",
      "state": {}
     },
     "327cc475baa2430d958aeb15b1c7ed4c": {
      "model_module": "@jupyter-widgets/base",
      "model_module_version": "1.2.0",
      "model_name": "LayoutModel",
      "state": {}
     },
     "328292d1a4c94ec5af6d939e2d7f1356": {
      "model_module": "@jupyter-widgets/controls",
      "model_module_version": "1.5.0",
      "model_name": "HTMLModel",
      "state": {
       "layout": "IPY_MODEL_a692285b767447969341d5e736a16bde",
       "style": "IPY_MODEL_d18eea14d07b4df4b186447e6e5a82b5",
       "value": "Validation DataLoader 0: 100%"
      }
     },
     "32a846203d97431e8ba4b4bb693a3a78": {
      "model_module": "@jupyter-widgets/controls",
      "model_module_version": "1.5.0",
      "model_name": "DescriptionStyleModel",
      "state": {
       "description_width": ""
      }
     },
     "32abf00b622c4088aef74769a0ff6158": {
      "model_module": "@jupyter-widgets/controls",
      "model_module_version": "1.5.0",
      "model_name": "FloatProgressModel",
      "state": {
       "layout": "IPY_MODEL_3960b569fc19488b9bdb4aa80c242a5d",
       "max": 16,
       "style": "IPY_MODEL_f2df287e003c4a6f87b7ea09c3b66bd8",
       "value": 16
      }
     },
     "32c36e3c2fe14cffa2b87b8f2c46bc20": {
      "model_module": "@jupyter-widgets/base",
      "model_module_version": "1.2.0",
      "model_name": "LayoutModel",
      "state": {}
     },
     "32ce264458da4f8ba964b1306db5dbae": {
      "model_module": "@jupyter-widgets/base",
      "model_module_version": "1.2.0",
      "model_name": "LayoutModel",
      "state": {}
     },
     "32da56bd61ff4654a868d90fc44aab12": {
      "model_module": "@jupyter-widgets/base",
      "model_module_version": "1.2.0",
      "model_name": "LayoutModel",
      "state": {
       "flex": "2"
      }
     },
     "32de1c4928f44bf0a7883a276f577b43": {
      "model_module": "@jupyter-widgets/controls",
      "model_module_version": "1.5.0",
      "model_name": "FloatProgressModel",
      "state": {
       "layout": "IPY_MODEL_d5bcbfdc057c438c95c273aa345fd572",
       "max": 16,
       "style": "IPY_MODEL_49469e82d98e4f59a386d97e3babdb34",
       "value": 16
      }
     },
     "332b835a432f4857959a2fc1a73ccba2": {
      "model_module": "@jupyter-widgets/controls",
      "model_module_version": "1.5.0",
      "model_name": "DescriptionStyleModel",
      "state": {
       "description_width": ""
      }
     },
     "33939dd0dfae4fa2a8673f32f635ba8d": {
      "model_module": "@jupyter-widgets/controls",
      "model_module_version": "1.5.0",
      "model_name": "HTMLModel",
      "state": {
       "layout": "IPY_MODEL_0a1425cff7ce4330bd0a29f11a351ff0",
       "style": "IPY_MODEL_e2709e42b2b44eeca48d42e1716ed153",
       "value": "Validation DataLoader 0: 100%"
      }
     },
     "33c17d9b9abb408aac1e6deac2b135a4": {
      "model_module": "@jupyter-widgets/controls",
      "model_module_version": "1.5.0",
      "model_name": "ProgressStyleModel",
      "state": {
       "description_width": ""
      }
     },
     "33cd789b95e745c4936cef81d7988ab6": {
      "model_module": "@jupyter-widgets/base",
      "model_module_version": "1.2.0",
      "model_name": "LayoutModel",
      "state": {
       "display": "inline-flex",
       "flex_flow": "row wrap",
       "width": "100%"
      }
     },
     "33d63b288d3d49d6b0167316b961bc03": {
      "model_module": "@jupyter-widgets/base",
      "model_module_version": "1.2.0",
      "model_name": "LayoutModel",
      "state": {
       "flex": "2"
      }
     },
     "3404d92f8d5b4d2797fb090b9c00c9f3": {
      "model_module": "@jupyter-widgets/base",
      "model_module_version": "1.2.0",
      "model_name": "LayoutModel",
      "state": {}
     },
     "3459eefa5b8e496aad3e4d0a957750ff": {
      "model_module": "@jupyter-widgets/controls",
      "model_module_version": "1.5.0",
      "model_name": "DescriptionStyleModel",
      "state": {
       "description_width": ""
      }
     },
     "3469ac46023a44c5ab0a798866b40dd6": {
      "model_module": "@jupyter-widgets/controls",
      "model_module_version": "1.5.0",
      "model_name": "FloatProgressModel",
      "state": {
       "layout": "IPY_MODEL_ce72167e15e34981b8b2dced61cdd858",
       "max": 16,
       "style": "IPY_MODEL_07a781e283384b76bb9e22a897063886",
       "value": 16
      }
     },
     "34e7374737e843a6a8248b81de418ef0": {
      "model_module": "@jupyter-widgets/base",
      "model_module_version": "1.2.0",
      "model_name": "LayoutModel",
      "state": {}
     },
     "34ef054736d148e49bc6fbfd61ff1ee5": {
      "model_module": "@jupyter-widgets/controls",
      "model_module_version": "1.5.0",
      "model_name": "DescriptionStyleModel",
      "state": {
       "description_width": ""
      }
     },
     "3501a4dfb5db4386a6894ed7f0dbd179": {
      "model_module": "@jupyter-widgets/controls",
      "model_module_version": "1.5.0",
      "model_name": "ProgressStyleModel",
      "state": {
       "description_width": ""
      }
     },
     "35209e3dab2c40798d6bb199502c341e": {
      "model_module": "@jupyter-widgets/controls",
      "model_module_version": "1.5.0",
      "model_name": "FloatProgressModel",
      "state": {
       "layout": "IPY_MODEL_de69d81a4b1a4c018bb523a11350be57",
       "max": 16,
       "style": "IPY_MODEL_a702cc821a8f46da9e09fc96d69ba17b",
       "value": 16
      }
     },
     "355c144f3c664de1a21f058c021cf892": {
      "model_module": "@jupyter-widgets/base",
      "model_module_version": "1.2.0",
      "model_name": "LayoutModel",
      "state": {
       "display": "inline-flex",
       "flex_flow": "row wrap",
       "width": "100%"
      }
     },
     "3577f45dc0fd409fb98dbecab845528f": {
      "model_module": "@jupyter-widgets/base",
      "model_module_version": "1.2.0",
      "model_name": "LayoutModel",
      "state": {}
     },
     "35a7dc6e1ba54f7880c93ec26b8fc801": {
      "model_module": "@jupyter-widgets/controls",
      "model_module_version": "1.5.0",
      "model_name": "HTMLModel",
      "state": {
       "layout": "IPY_MODEL_6c88a9195c29408287f5722b99a22d2c",
       "style": "IPY_MODEL_5d83030f5d594c3986cb6e27b64257bb",
       "value": " 2/2 [00:00&lt;00:00,  2.39it/s]"
      }
     },
     "35ad6be68bf0487dafa745cabfca175e": {
      "model_module": "@jupyter-widgets/controls",
      "model_module_version": "1.5.0",
      "model_name": "HTMLModel",
      "state": {
       "layout": "IPY_MODEL_924a7c45385149ada9b18b2436c521d1",
       "style": "IPY_MODEL_e78033a02409443fb90818d8201fb89d",
       "value": "Validation DataLoader 0: 100%"
      }
     },
     "3613f16568be414587f274b4e31f0a28": {
      "model_module": "@jupyter-widgets/controls",
      "model_module_version": "1.5.0",
      "model_name": "HTMLModel",
      "state": {
       "layout": "IPY_MODEL_b6a861dad2004b9ebaa88213aef63efb",
       "style": "IPY_MODEL_34ef054736d148e49bc6fbfd61ff1ee5",
       "value": "Validation DataLoader 0: 100%"
      }
     },
     "3639d292b117489b83091f66948f61a0": {
      "model_module": "@jupyter-widgets/controls",
      "model_module_version": "1.5.0",
      "model_name": "HTMLModel",
      "state": {
       "layout": "IPY_MODEL_2c8c9cfc40924344b3d22da74c559fd7",
       "style": "IPY_MODEL_8ebff6aa4c5342809e1cc198779519a8",
       "value": " 77/77 [01:09&lt;00:00,  1.11it/s, loss=0.00131, v_num=H-77]"
      }
     },
     "3663ecdbe43947ae91e2a0de737c50ee": {
      "model_module": "@jupyter-widgets/controls",
      "model_module_version": "1.5.0",
      "model_name": "FloatProgressModel",
      "state": {
       "layout": "IPY_MODEL_832c3c89fc824b22b7b6f36da776723b",
       "max": 16,
       "style": "IPY_MODEL_927ffa05f2ac406b831c208e0422d69f",
       "value": 16
      }
     },
     "36760cfafc1e41858c21b8e10dc35c1b": {
      "model_module": "@jupyter-widgets/base",
      "model_module_version": "1.2.0",
      "model_name": "LayoutModel",
      "state": {
       "flex": "2"
      }
     },
     "367be000c1e04198a1df4e7f2de8b7c4": {
      "model_module": "@jupyter-widgets/controls",
      "model_module_version": "1.5.0",
      "model_name": "DescriptionStyleModel",
      "state": {
       "description_width": ""
      }
     },
     "367d9b09edf24edaa14c87e68b0ac7a0": {
      "model_module": "@jupyter-widgets/base",
      "model_module_version": "1.2.0",
      "model_name": "LayoutModel",
      "state": {
       "display": "inline-flex",
       "flex_flow": "row wrap",
       "width": "100%"
      }
     },
     "368d69dc04da435ca0367b6a2570655a": {
      "model_module": "@jupyter-widgets/controls",
      "model_module_version": "1.5.0",
      "model_name": "HTMLModel",
      "state": {
       "layout": "IPY_MODEL_f01929c0a3974a8799c9c7ef05ed23a8",
       "style": "IPY_MODEL_daf07e7d708a4df784846aa9b400b0a9",
       "value": "Validation DataLoader 0: 100%"
      }
     },
     "3710283c454d465c8b5987c837f1cb65": {
      "model_module": "@jupyter-widgets/base",
      "model_module_version": "1.2.0",
      "model_name": "LayoutModel",
      "state": {
       "display": "inline-flex",
       "flex_flow": "row wrap",
       "width": "100%"
      }
     },
     "37219fe7a9cb4ca4bcd31d8fcc6d8aea": {
      "model_module": "@jupyter-widgets/controls",
      "model_module_version": "1.5.0",
      "model_name": "HTMLModel",
      "state": {
       "layout": "IPY_MODEL_d1416cd55d44409c89628c1e8e20f7e5",
       "style": "IPY_MODEL_6249116ccf7b47efa9a32846687ee4db",
       "value": "Epoch 49: 100%"
      }
     },
     "3732b9e7b31f48b2a5cea8d865efbbf2": {
      "model_module": "@jupyter-widgets/controls",
      "model_module_version": "1.5.0",
      "model_name": "DescriptionStyleModel",
      "state": {
       "description_width": ""
      }
     },
     "3745e36d5d5747fab312fab058236289": {
      "model_module": "@jupyter-widgets/controls",
      "model_module_version": "1.5.0",
      "model_name": "FloatProgressModel",
      "state": {
       "layout": "IPY_MODEL_898be4f4d68d46a8a28d58e64e7b4db0",
       "max": 16,
       "style": "IPY_MODEL_28d2425c2e7749b9aa7e2d7a42996741",
       "value": 16
      }
     },
     "3757fc58cea54b30925bde57fdbc017d": {
      "model_module": "@jupyter-widgets/controls",
      "model_module_version": "1.5.0",
      "model_name": "FloatProgressModel",
      "state": {
       "layout": "IPY_MODEL_c317850692144bc49d8be13c6da47fb0",
       "max": 16,
       "style": "IPY_MODEL_8ad3912f38af487f98fd42713c5ccd21",
       "value": 16
      }
     },
     "376b2570e52648f4ad492ac2bd922a60": {
      "model_module": "@jupyter-widgets/controls",
      "model_module_version": "1.5.0",
      "model_name": "HTMLModel",
      "state": {
       "layout": "IPY_MODEL_c1936c5cc7f6466cbbaab23852f461d1",
       "style": "IPY_MODEL_b1c5e893b687411f9022e551965dbe88",
       "value": " 16/16 [00:06&lt;00:00,  2.35it/s]"
      }
     },
     "3775782295614dbda008abaacadb6030": {
      "model_module": "@jupyter-widgets/controls",
      "model_module_version": "1.5.0",
      "model_name": "HTMLModel",
      "state": {
       "layout": "IPY_MODEL_f54552cf97ae4325b1e7aa8af0e9ee05",
       "style": "IPY_MODEL_633fc947656444b380e12c54b4faa444",
       "value": " 16/16 [00:01&lt;00:00,  7.30it/s]"
      }
     },
     "3784071245794f2e939cdb4e9770a339": {
      "model_module": "@jupyter-widgets/base",
      "model_module_version": "1.2.0",
      "model_name": "LayoutModel",
      "state": {}
     },
     "37cd0ef37bdf403297def363e0e74419": {
      "model_module": "@jupyter-widgets/controls",
      "model_module_version": "1.5.0",
      "model_name": "HTMLModel",
      "state": {
       "layout": "IPY_MODEL_0ddac9eab1cc40d99df35b1faba8f5db",
       "style": "IPY_MODEL_020cf6aa14104b98a554cf52f85b2fe5",
       "value": " 16/16 [00:01&lt;00:00,  8.14it/s]"
      }
     },
     "37dfddd10cb34ad1a5869ed55b5fc117": {
      "model_module": "@jupyter-widgets/base",
      "model_module_version": "1.2.0",
      "model_name": "LayoutModel",
      "state": {}
     },
     "37f622a840724a55a8a5013451d4cc25": {
      "model_module": "@jupyter-widgets/controls",
      "model_module_version": "1.5.0",
      "model_name": "FloatProgressModel",
      "state": {
       "layout": "IPY_MODEL_ffbb62e6388443598177d56071677b76",
       "max": 16,
       "style": "IPY_MODEL_81359fcf8e5e4c7a96c75c2e6d74880c",
       "value": 16
      }
     },
     "38084642b9354784bf1bc0526ea67199": {
      "model_module": "@jupyter-widgets/controls",
      "model_module_version": "1.5.0",
      "model_name": "HTMLModel",
      "state": {
       "layout": "IPY_MODEL_8567ca41f4d4473b97e265cf278bb8fa",
       "style": "IPY_MODEL_3732b9e7b31f48b2a5cea8d865efbbf2",
       "value": " 16/16 [00:01&lt;00:00,  8.14it/s]"
      }
     },
     "381874d12ae6430a9638d63d3ca798d6": {
      "model_module": "@jupyter-widgets/controls",
      "model_module_version": "1.5.0",
      "model_name": "HTMLModel",
      "state": {
       "layout": "IPY_MODEL_9ef1246e8144465f96e901bb0969f7db",
       "style": "IPY_MODEL_66c3952ed51a436c9f1908dbddb8369c",
       "value": " 16/16 [00:03&lt;00:00,  4.44it/s]"
      }
     },
     "383c066727b240abb85bc73043da3264": {
      "model_module": "@jupyter-widgets/controls",
      "model_module_version": "1.5.0",
      "model_name": "DescriptionStyleModel",
      "state": {
       "description_width": ""
      }
     },
     "38a92637b84a4b688253cc0d9bfa9018": {
      "model_module": "@jupyter-widgets/controls",
      "model_module_version": "1.5.0",
      "model_name": "DescriptionStyleModel",
      "state": {
       "description_width": ""
      }
     },
     "38b09dccaa924c0facb7895d150b5a36": {
      "model_module": "@jupyter-widgets/base",
      "model_module_version": "1.2.0",
      "model_name": "LayoutModel",
      "state": {
       "display": "inline-flex",
       "flex_flow": "row wrap",
       "width": "100%"
      }
     },
     "38fa67b9b26546538f15170e1b0155f9": {
      "model_module": "@jupyter-widgets/controls",
      "model_module_version": "1.5.0",
      "model_name": "FloatProgressModel",
      "state": {
       "layout": "IPY_MODEL_1af7ae8f2924479aa6888b72cc7222b8",
       "max": 16,
       "style": "IPY_MODEL_89c52e759cf5408bb7cb17351c6805f6",
       "value": 16
      }
     },
     "3902ac30f9b045a2861fdc5916fd1ab4": {
      "model_module": "@jupyter-widgets/controls",
      "model_module_version": "1.5.0",
      "model_name": "HTMLModel",
      "state": {
       "layout": "IPY_MODEL_5ddcb6d4ddec4915b3b53c4fdffcd356",
       "style": "IPY_MODEL_0642fe0b77a24723bbd3f29c1a3d1a40",
       "value": "Validation DataLoader 0: 100%"
      }
     },
     "3923f016901747e2b69b2e78e37ef003": {
      "model_module": "@jupyter-widgets/controls",
      "model_module_version": "1.5.0",
      "model_name": "DescriptionStyleModel",
      "state": {
       "description_width": ""
      }
     },
     "3960b569fc19488b9bdb4aa80c242a5d": {
      "model_module": "@jupyter-widgets/base",
      "model_module_version": "1.2.0",
      "model_name": "LayoutModel",
      "state": {
       "flex": "2"
      }
     },
     "39af00da429c4f78a189ef41a08f0477": {
      "model_module": "@jupyter-widgets/controls",
      "model_module_version": "1.5.0",
      "model_name": "FloatProgressModel",
      "state": {
       "layout": "IPY_MODEL_5fcce698daf54b61b1e6ad0f6a0a4d9e",
       "max": 16,
       "style": "IPY_MODEL_eeb7c6d652e743778eaea0693405ddc4",
       "value": 16
      }
     },
     "39cb7a430d324c9da7a7e39511dd934b": {
      "model_module": "@jupyter-widgets/controls",
      "model_module_version": "1.5.0",
      "model_name": "HTMLModel",
      "state": {
       "layout": "IPY_MODEL_dd96f64800b24586916ef59352fe1c49",
       "style": "IPY_MODEL_db8129a3e68d41388ad727730445ced8",
       "value": "Validation DataLoader 0: 100%"
      }
     },
     "39e48e832243452ca65536ad6ecf0616": {
      "model_module": "@jupyter-widgets/controls",
      "model_module_version": "1.5.0",
      "model_name": "HTMLModel",
      "state": {
       "layout": "IPY_MODEL_3cc221688c6e419dacecc9fd28ca4a7e",
       "style": "IPY_MODEL_553ebebadceb4638abaeab2867eeb3ca",
       "value": "Validation DataLoader 0: 100%"
      }
     },
     "3a08261954ac42b8a994763e976cf703": {
      "model_module": "@jupyter-widgets/controls",
      "model_module_version": "1.5.0",
      "model_name": "HTMLModel",
      "state": {
       "layout": "IPY_MODEL_aace2b9f50034b03bdbb50f541a5eff3",
       "style": "IPY_MODEL_49df76aa633743c0993b2f90dbd9f042",
       "value": "Validation DataLoader 0: 100%"
      }
     },
     "3a0bf8f77ddd4c57a4040472fe6ced10": {
      "model_module": "@jupyter-widgets/controls",
      "model_module_version": "1.5.0",
      "model_name": "ProgressStyleModel",
      "state": {
       "description_width": ""
      }
     },
     "3a121890b3484bc185366f3df1bd1cca": {
      "model_module": "@jupyter-widgets/base",
      "model_module_version": "1.2.0",
      "model_name": "LayoutModel",
      "state": {}
     },
     "3a1c2d28a6554e1593c0cc0fabb21585": {
      "model_module": "@jupyter-widgets/base",
      "model_module_version": "1.2.0",
      "model_name": "LayoutModel",
      "state": {}
     },
     "3a4efefb27c5467c97bf19f15eafe39f": {
      "model_module": "@jupyter-widgets/base",
      "model_module_version": "1.2.0",
      "model_name": "LayoutModel",
      "state": {
       "flex": "2"
      }
     },
     "3a516e0c3ba34ff89f642ff957d97290": {
      "model_module": "@jupyter-widgets/controls",
      "model_module_version": "1.5.0",
      "model_name": "HTMLModel",
      "state": {
       "layout": "IPY_MODEL_1e01712b30c545a5a69c7deede333d91",
       "style": "IPY_MODEL_2159fce92d034032b5103adebe792de7",
       "value": " 16/16 [00:06&lt;00:00,  2.34it/s]"
      }
     },
     "3a7f6d804dd1442ab5cbf87df3f63f30": {
      "model_module": "@jupyter-widgets/controls",
      "model_module_version": "1.5.0",
      "model_name": "ProgressStyleModel",
      "state": {
       "description_width": ""
      }
     },
     "3a99ad36916e44a3bbaaf3124f80f9b7": {
      "model_module": "@jupyter-widgets/controls",
      "model_module_version": "1.5.0",
      "model_name": "HTMLModel",
      "state": {
       "layout": "IPY_MODEL_982221fbdf954fca8c2a88cb9abd795b",
       "style": "IPY_MODEL_f9a37f9b4cd34dfdb86e5cd51a80ab12",
       "value": " 16/16 [00:06&lt;00:00,  2.38it/s]"
      }
     },
     "3a9a7f697d2c4c2c8c5000af9cc29961": {
      "model_module": "@jupyter-widgets/controls",
      "model_module_version": "1.5.0",
      "model_name": "FloatProgressModel",
      "state": {
       "layout": "IPY_MODEL_c73d20480c08447896be2772e19e1671",
       "max": 16,
       "style": "IPY_MODEL_c84cd9d5f6df4157af212cc8d585027e",
       "value": 16
      }
     },
     "3abd50713f6c4dd18d9fd5e7d9258a56": {
      "model_module": "@jupyter-widgets/base",
      "model_module_version": "1.2.0",
      "model_name": "LayoutModel",
      "state": {
       "display": "inline-flex",
       "flex_flow": "row wrap",
       "width": "100%"
      }
     },
     "3ae17acf40064093a4b2c931743875c4": {
      "model_module": "@jupyter-widgets/base",
      "model_module_version": "1.2.0",
      "model_name": "LayoutModel",
      "state": {}
     },
     "3af5de093ae442838e3ab7c38ff04908": {
      "model_module": "@jupyter-widgets/base",
      "model_module_version": "1.2.0",
      "model_name": "LayoutModel",
      "state": {}
     },
     "3b27a96765de46259c8e9c1e611369d9": {
      "model_module": "@jupyter-widgets/controls",
      "model_module_version": "1.5.0",
      "model_name": "ProgressStyleModel",
      "state": {
       "description_width": ""
      }
     },
     "3b55b144ff08465eaaf226937df0b312": {
      "model_module": "@jupyter-widgets/controls",
      "model_module_version": "1.5.0",
      "model_name": "HTMLModel",
      "state": {
       "layout": "IPY_MODEL_caa151c6918e4f42a44f3e96ca3b749c",
       "style": "IPY_MODEL_29471f89898a454cb2e0ce7023b801ff",
       "value": "Validation DataLoader 0: 100%"
      }
     },
     "3b918ae3fdd140889633ec13776ba02d": {
      "model_module": "@jupyter-widgets/controls",
      "model_module_version": "1.5.0",
      "model_name": "HTMLModel",
      "state": {
       "layout": "IPY_MODEL_b61de7b0167d4ab5855307a0f5d75e33",
       "style": "IPY_MODEL_7e72e8a44db243588a83bda8698eece2",
       "value": "Validation DataLoader 0: 100%"
      }
     },
     "3b984442df7d451891d9a224281b21e3": {
      "model_module": "@jupyter-widgets/controls",
      "model_module_version": "1.5.0",
      "model_name": "FloatProgressModel",
      "state": {
       "layout": "IPY_MODEL_d8b92f59190549e890da9efadcafafd3",
       "max": 16,
       "style": "IPY_MODEL_811866deaa934eafb153214f31a63f61",
       "value": 16
      }
     },
     "3bbb71c49e904838a86879c757ab833b": {
      "model_module": "@jupyter-widgets/controls",
      "model_module_version": "1.5.0",
      "model_name": "FloatProgressModel",
      "state": {
       "layout": "IPY_MODEL_3a4efefb27c5467c97bf19f15eafe39f",
       "max": 16,
       "style": "IPY_MODEL_92432257958549d5b2024eae18fefcc1",
       "value": 16
      }
     },
     "3bf5cd68b35a4be383a7a8afa246d7a0": {
      "model_module": "@jupyter-widgets/base",
      "model_module_version": "1.2.0",
      "model_name": "LayoutModel",
      "state": {}
     },
     "3c0e56bba55b40e1af73494067f67297": {
      "model_module": "@jupyter-widgets/base",
      "model_module_version": "1.2.0",
      "model_name": "LayoutModel",
      "state": {}
     },
     "3c14770372914b578b4a6688ebaa22c0": {
      "model_module": "@jupyter-widgets/controls",
      "model_module_version": "1.5.0",
      "model_name": "ProgressStyleModel",
      "state": {
       "description_width": ""
      }
     },
     "3cc221688c6e419dacecc9fd28ca4a7e": {
      "model_module": "@jupyter-widgets/base",
      "model_module_version": "1.2.0",
      "model_name": "LayoutModel",
      "state": {}
     },
     "3cc4980159c0441eae58be7b3cf8138e": {
      "model_module": "@jupyter-widgets/controls",
      "model_module_version": "1.5.0",
      "model_name": "DescriptionStyleModel",
      "state": {
       "description_width": ""
      }
     },
     "3cd5dadca6af4b85b25ab5615942356e": {
      "model_module": "@jupyter-widgets/controls",
      "model_module_version": "1.5.0",
      "model_name": "HTMLModel",
      "state": {
       "layout": "IPY_MODEL_1ef06cdff2f94bf8b482728eea968f7c",
       "style": "IPY_MODEL_b32c4c175c284679999567852b3fffc5",
       "value": " 2/2 [00:00&lt;00:00,  3.79it/s]"
      }
     },
     "3d94fcebc99d4c3b8a809249deca9204": {
      "model_module": "@jupyter-widgets/controls",
      "model_module_version": "1.5.0",
      "model_name": "DescriptionStyleModel",
      "state": {
       "description_width": ""
      }
     },
     "3dffe56aafcd4a8282408aca62cf72e2": {
      "model_module": "@jupyter-widgets/controls",
      "model_module_version": "1.5.0",
      "model_name": "DescriptionStyleModel",
      "state": {
       "description_width": ""
      }
     },
     "3e51e2ee0adf4dcb850f91cf62ac7dad": {
      "model_module": "@jupyter-widgets/base",
      "model_module_version": "1.2.0",
      "model_name": "LayoutModel",
      "state": {
       "display": "inline-flex",
       "flex_flow": "row wrap",
       "width": "100%"
      }
     },
     "3e56e57b17b94dc5b2adb2aac5ae9e2e": {
      "model_module": "@jupyter-widgets/base",
      "model_module_version": "1.2.0",
      "model_name": "LayoutModel",
      "state": {}
     },
     "3e5710146a6c403dab9121bcb740cd46": {
      "model_module": "@jupyter-widgets/base",
      "model_module_version": "1.2.0",
      "model_name": "LayoutModel",
      "state": {
       "display": "inline-flex",
       "flex_flow": "row wrap",
       "width": "100%"
      }
     },
     "3e981ea118024563a6a83f74db40003f": {
      "model_module": "@jupyter-widgets/controls",
      "model_module_version": "1.5.0",
      "model_name": "HTMLModel",
      "state": {
       "layout": "IPY_MODEL_20ee6a6b42004310b6e72c1f19648db4",
       "style": "IPY_MODEL_d3eaff1e1d0e48e6a04a6247a5cf1bbe",
       "value": " 16/16 [00:04&lt;00:00,  3.09it/s]"
      }
     },
     "3ec3e5d34d934262a180f20fdf791c64": {
      "model_module": "@jupyter-widgets/controls",
      "model_module_version": "1.5.0",
      "model_name": "HTMLModel",
      "state": {
       "layout": "IPY_MODEL_b0ad9e2fe89347cdbc42cc3e7d56e96f",
       "style": "IPY_MODEL_fd679ddee796469f8f67e2e60d0fd440",
       "value": "Validation DataLoader 0: 100%"
      }
     },
     "3eec79fcb4ce469a94fc958f871f30a1": {
      "model_module": "@jupyter-widgets/controls",
      "model_module_version": "1.5.0",
      "model_name": "HTMLModel",
      "state": {
       "layout": "IPY_MODEL_40fc109721e743eda9f3a5483c63adec",
       "style": "IPY_MODEL_f0be2fda1eda4cea8b8920ffe48fe5c8",
       "value": " 16/16 [00:10&lt;00:00,  1.50it/s]"
      }
     },
     "3f1f1ebefbdb4aa189ffc8b86e09e302": {
      "model_module": "@jupyter-widgets/controls",
      "model_module_version": "1.5.0",
      "model_name": "HTMLModel",
      "state": {
       "layout": "IPY_MODEL_b0e698e75ece4557b4d0585e4beadf4c",
       "style": "IPY_MODEL_d991fe1a149142b0963d9105a5b6b80c",
       "value": "Validation DataLoader 0: 100%"
      }
     },
     "3f332637991c411fba766ecfa4336209": {
      "model_module": "@jupyter-widgets/controls",
      "model_module_version": "1.5.0",
      "model_name": "FloatProgressModel",
      "state": {
       "layout": "IPY_MODEL_dd0504136a314734a4ffa601965c1f4c",
       "max": 16,
       "style": "IPY_MODEL_0a8c36f353304824ba0ca3456ca0519b",
       "value": 16
      }
     },
     "3f45f614d5554ae2a4d60628bcd4649f": {
      "model_module": "@jupyter-widgets/controls",
      "model_module_version": "1.5.0",
      "model_name": "FloatProgressModel",
      "state": {
       "layout": "IPY_MODEL_18e93957505c47588b5eec200bfb1793",
       "max": 16,
       "style": "IPY_MODEL_f499c41108d44eed94b654b05617db49",
       "value": 16
      }
     },
     "3f56c00d239b44b3a0eb81df163af36f": {
      "model_module": "@jupyter-widgets/base",
      "model_module_version": "1.2.0",
      "model_name": "LayoutModel",
      "state": {
       "flex": "2"
      }
     },
     "3fb84de0db1e46d7a749289217a7c58e": {
      "model_module": "@jupyter-widgets/controls",
      "model_module_version": "1.5.0",
      "model_name": "DescriptionStyleModel",
      "state": {
       "description_width": ""
      }
     },
     "3fda244667f2491f8ad93a58d6b475c4": {
      "model_module": "@jupyter-widgets/base",
      "model_module_version": "1.2.0",
      "model_name": "LayoutModel",
      "state": {
       "flex": "2"
      }
     },
     "3ff571bc1fc54f1d999fe47bd5b4098d": {
      "model_module": "@jupyter-widgets/controls",
      "model_module_version": "1.5.0",
      "model_name": "ProgressStyleModel",
      "state": {
       "description_width": ""
      }
     },
     "4007248d9975447eb0ae3ade06e48406": {
      "model_module": "@jupyter-widgets/controls",
      "model_module_version": "1.5.0",
      "model_name": "FloatProgressModel",
      "state": {
       "layout": "IPY_MODEL_23633fb16f834df8af8e1ee73dd9890d",
       "max": 16,
       "style": "IPY_MODEL_985ae216f29d470a82a291cf8515d1ec",
       "value": 16
      }
     },
     "400ddc2b090e42b0a0c358a376512c98": {
      "model_module": "@jupyter-widgets/controls",
      "model_module_version": "1.5.0",
      "model_name": "ProgressStyleModel",
      "state": {
       "description_width": ""
      }
     },
     "401ee5b2562f4fed8a55aeade492318b": {
      "model_module": "@jupyter-widgets/base",
      "model_module_version": "1.2.0",
      "model_name": "LayoutModel",
      "state": {
       "flex": "2"
      }
     },
     "402c9554dd5f45bbb3a17b98645a3d8c": {
      "model_module": "@jupyter-widgets/controls",
      "model_module_version": "1.5.0",
      "model_name": "HTMLModel",
      "state": {
       "layout": "IPY_MODEL_cd583a194c9243a9bd056ad11ae3135a",
       "style": "IPY_MODEL_fc89385437dd42ac9f37316bdd33b297",
       "value": "Validation DataLoader 0: 100%"
      }
     },
     "4089ec39b8f346c78dad98a3e134fb79": {
      "model_module": "@jupyter-widgets/controls",
      "model_module_version": "1.5.0",
      "model_name": "DescriptionStyleModel",
      "state": {
       "description_width": ""
      }
     },
     "40b05b1aa7f64d5c84989a9d0db5a048": {
      "model_module": "@jupyter-widgets/controls",
      "model_module_version": "1.5.0",
      "model_name": "ProgressStyleModel",
      "state": {
       "description_width": ""
      }
     },
     "40e1e2472562450e9e96424fb24d8560": {
      "model_module": "@jupyter-widgets/controls",
      "model_module_version": "1.5.0",
      "model_name": "DescriptionStyleModel",
      "state": {
       "description_width": ""
      }
     },
     "40e1e8292a2e43d4a084f18209ae803d": {
      "model_module": "@jupyter-widgets/controls",
      "model_module_version": "1.5.0",
      "model_name": "ProgressStyleModel",
      "state": {
       "description_width": ""
      }
     },
     "40fc109721e743eda9f3a5483c63adec": {
      "model_module": "@jupyter-widgets/base",
      "model_module_version": "1.2.0",
      "model_name": "LayoutModel",
      "state": {}
     },
     "40feb50395aa4de6acfd76d1203b3283": {
      "model_module": "@jupyter-widgets/base",
      "model_module_version": "1.2.0",
      "model_name": "LayoutModel",
      "state": {}
     },
     "4146dc67101d4c70bfd84a0a79ac225d": {
      "model_module": "@jupyter-widgets/controls",
      "model_module_version": "1.5.0",
      "model_name": "DescriptionStyleModel",
      "state": {
       "description_width": ""
      }
     },
     "416342bf01394dd696418c75091aae4b": {
      "model_module": "@jupyter-widgets/base",
      "model_module_version": "1.2.0",
      "model_name": "LayoutModel",
      "state": {
       "display": "inline-flex",
       "flex_flow": "row wrap",
       "width": "100%"
      }
     },
     "41dd5d91ec534bf89d6857f88c7eacf3": {
      "model_module": "@jupyter-widgets/controls",
      "model_module_version": "1.5.0",
      "model_name": "HTMLModel",
      "state": {
       "layout": "IPY_MODEL_15adc98685b14af39f2db6f74abbd0c5",
       "style": "IPY_MODEL_9ca6a438b720417d9758b7d31fb93fab",
       "value": "Validation DataLoader 0: 100%"
      }
     },
     "41e388bc834c48188b7732b2599d38b6": {
      "model_module": "@jupyter-widgets/controls",
      "model_module_version": "1.5.0",
      "model_name": "FloatProgressModel",
      "state": {
       "layout": "IPY_MODEL_a03adc49d23746959a174d283c420e21",
       "max": 2,
       "style": "IPY_MODEL_d53e5ee4b05f46dcb909afa712181746",
       "value": 2
      }
     },
     "41f48f4759e349979799837cee0ec983": {
      "model_module": "@jupyter-widgets/controls",
      "model_module_version": "1.5.0",
      "model_name": "FloatProgressModel",
      "state": {
       "layout": "IPY_MODEL_e0e36f98e6aa4f568cd3cb9c5a18f1d7",
       "max": 16,
       "style": "IPY_MODEL_69651bef9e85477db0bf8229dd353dbe",
       "value": 16
      }
     },
     "4233e48d36224c1696a5f48ffc1f7d15": {
      "model_module": "@jupyter-widgets/controls",
      "model_module_version": "1.5.0",
      "model_name": "HBoxModel",
      "state": {
       "children": [
        "IPY_MODEL_ed35a7ff288e41379c69023cb10ea5c6",
        "IPY_MODEL_ea85ac30375e464cbfd1c573089d7904",
        "IPY_MODEL_5818e2fe56174aa98618102d0a3648bc"
       ],
       "layout": "IPY_MODEL_0090cd56273f411facfb583b8c25f50d"
      }
     },
     "4235eca6a75848068c74e483b528072e": {
      "model_module": "@jupyter-widgets/controls",
      "model_module_version": "1.5.0",
      "model_name": "DescriptionStyleModel",
      "state": {
       "description_width": ""
      }
     },
     "4249dd9727574c7eb263a724c79b830c": {
      "model_module": "@jupyter-widgets/controls",
      "model_module_version": "1.5.0",
      "model_name": "DescriptionStyleModel",
      "state": {
       "description_width": ""
      }
     },
     "425517d94f3245658faf614784f0e82b": {
      "model_module": "@jupyter-widgets/controls",
      "model_module_version": "1.5.0",
      "model_name": "HTMLModel",
      "state": {
       "layout": "IPY_MODEL_dc862229368041d78451e15a5c7ca943",
       "style": "IPY_MODEL_59a283f46e194c3f91ce84bc04fe7988",
       "value": " 16/16 [00:03&lt;00:00,  3.77it/s]"
      }
     },
     "425cf574b1bf41eaa0d877ca267ff9c6": {
      "model_module": "@jupyter-widgets/controls",
      "model_module_version": "1.5.0",
      "model_name": "HTMLModel",
      "state": {
       "layout": "IPY_MODEL_ca6d97c2a5f048938ac9c5a3be8493f9",
       "style": "IPY_MODEL_97aafcd6c89d4688a7a39e7be69fc8f6",
       "value": " 2/2 [00:00&lt;00:00,  4.41it/s]"
      }
     },
     "4271941604d74e3eb5aa645a4562a98c": {
      "model_module": "@jupyter-widgets/base",
      "model_module_version": "1.2.0",
      "model_name": "LayoutModel",
      "state": {}
     },
     "428c93b450d144158adc166a37a3b97a": {
      "model_module": "@jupyter-widgets/base",
      "model_module_version": "1.2.0",
      "model_name": "LayoutModel",
      "state": {
       "display": "inline-flex",
       "flex_flow": "row wrap",
       "width": "100%"
      }
     },
     "428ea82e5fed40879a7d4449238efd61": {
      "model_module": "@jupyter-widgets/base",
      "model_module_version": "1.2.0",
      "model_name": "LayoutModel",
      "state": {
       "display": "inline-flex",
       "flex_flow": "row wrap",
       "width": "100%"
      }
     },
     "4299133d98ba4c46b3bd48f8bcf3bc51": {
      "model_module": "@jupyter-widgets/base",
      "model_module_version": "1.2.0",
      "model_name": "LayoutModel",
      "state": {}
     },
     "42a7385eb5c04ccd865323a9e70c7ccf": {
      "model_module": "@jupyter-widgets/controls",
      "model_module_version": "1.5.0",
      "model_name": "HTMLModel",
      "state": {
       "layout": "IPY_MODEL_85213682e231439790ca4efdf548899e",
       "style": "IPY_MODEL_b83a240c9172443e921a465a2399e331",
       "value": " 16/16 [00:05&lt;00:00,  3.19it/s]"
      }
     },
     "42ab7fe2ce8b4eff85574c51da9185b1": {
      "model_module": "@jupyter-widgets/controls",
      "model_module_version": "1.5.0",
      "model_name": "FloatProgressModel",
      "state": {
       "layout": "IPY_MODEL_2f150840578a48199284ae7e2bded58b",
       "max": 16,
       "style": "IPY_MODEL_fb04d0cf18bb4a6da8e18f3a890bddd7",
       "value": 16
      }
     },
     "42b9fb9765d74fac957b1929fe4927c1": {
      "model_module": "@jupyter-widgets/controls",
      "model_module_version": "1.5.0",
      "model_name": "HTMLModel",
      "state": {
       "layout": "IPY_MODEL_f711d92878bc48f79da6452687b7f3e3",
       "style": "IPY_MODEL_f65f9faa93044b98bbc8c900650100aa",
       "value": " 16/16 [00:04&lt;00:00,  3.08it/s]"
      }
     },
     "43287a855ddc415c9aa7e4671d1d8fae": {
      "model_module": "@jupyter-widgets/controls",
      "model_module_version": "1.5.0",
      "model_name": "DescriptionStyleModel",
      "state": {
       "description_width": ""
      }
     },
     "434ecf07706f43788dbd7e9e1c74e3dd": {
      "model_module": "@jupyter-widgets/controls",
      "model_module_version": "1.5.0",
      "model_name": "DescriptionStyleModel",
      "state": {
       "description_width": ""
      }
     },
     "436bd961072e45f191afd09b6423c697": {
      "model_module": "@jupyter-widgets/base",
      "model_module_version": "1.2.0",
      "model_name": "LayoutModel",
      "state": {}
     },
     "43757a9995d94075a6ff6c227a33409d": {
      "model_module": "@jupyter-widgets/base",
      "model_module_version": "1.2.0",
      "model_name": "LayoutModel",
      "state": {}
     },
     "43c6f69e9e704899a9caa4331e98bed8": {
      "model_module": "@jupyter-widgets/controls",
      "model_module_version": "1.5.0",
      "model_name": "HTMLModel",
      "state": {
       "layout": "IPY_MODEL_d1d1e9765c93439c8eeee421d9da8057",
       "style": "IPY_MODEL_5e5a753a0c274680935b6c06c6bdba3d",
       "value": " 16/16 [00:06&lt;00:00,  2.21it/s]"
      }
     },
     "43d3cb36be4841d8a0935898384128f3": {
      "model_module": "@jupyter-widgets/base",
      "model_module_version": "1.2.0",
      "model_name": "LayoutModel",
      "state": {}
     },
     "43e5034264344127b6faf1b7d37b0b69": {
      "model_module": "@jupyter-widgets/base",
      "model_module_version": "1.2.0",
      "model_name": "LayoutModel",
      "state": {}
     },
     "440dc30bf6be47318ce88a158deb1b67": {
      "model_module": "@jupyter-widgets/controls",
      "model_module_version": "1.5.0",
      "model_name": "HTMLModel",
      "state": {
       "layout": "IPY_MODEL_2afb5d55eea34bcab92c1dfe67b064eb",
       "style": "IPY_MODEL_ccd98039e5bc439cb9ea4cb2d4b499f4",
       "value": "Validation DataLoader 0: 100%"
      }
     },
     "442103c092e54044a5dab17f06026fa5": {
      "model_module": "@jupyter-widgets/controls",
      "model_module_version": "1.5.0",
      "model_name": "HTMLModel",
      "state": {
       "layout": "IPY_MODEL_8bd5b53bf8d849abae70e23f2fa7ea21",
       "style": "IPY_MODEL_2f6af1b5bd0345b29730c6e3f6baa8ee",
       "value": "Validation DataLoader 0: 100%"
      }
     },
     "442bd4049ad2446c96bdd8b3ccd17d5f": {
      "model_module": "@jupyter-widgets/base",
      "model_module_version": "1.2.0",
      "model_name": "LayoutModel",
      "state": {}
     },
     "4433ff356e684bbb9299a47601d18704": {
      "model_module": "@jupyter-widgets/base",
      "model_module_version": "1.2.0",
      "model_name": "LayoutModel",
      "state": {}
     },
     "44345031a70f429dbecef927352c283f": {
      "model_module": "@jupyter-widgets/controls",
      "model_module_version": "1.5.0",
      "model_name": "ProgressStyleModel",
      "state": {
       "description_width": ""
      }
     },
     "445a9cd4a61943c6a6868a7d9401e234": {
      "model_module": "@jupyter-widgets/base",
      "model_module_version": "1.2.0",
      "model_name": "LayoutModel",
      "state": {}
     },
     "447b1b488d35413db25771e6514e8809": {
      "model_module": "@jupyter-widgets/controls",
      "model_module_version": "1.5.0",
      "model_name": "HTMLModel",
      "state": {
       "layout": "IPY_MODEL_df8bb299076549809151d1af4b64b5fe",
       "style": "IPY_MODEL_57a60d184a3e43b987891f1078d35fcb",
       "value": " 16/16 [00:01&lt;00:00,  7.35it/s]"
      }
     },
     "447fac73a42345e38ad18955f5fb943c": {
      "model_module": "@jupyter-widgets/base",
      "model_module_version": "1.2.0",
      "model_name": "LayoutModel",
      "state": {
       "flex": "2"
      }
     },
     "44886c3e0c6548dd981546bf93ff9030": {
      "model_module": "@jupyter-widgets/controls",
      "model_module_version": "1.5.0",
      "model_name": "ProgressStyleModel",
      "state": {
       "description_width": ""
      }
     },
     "44c2def2949a40ed871c2ab529f263af": {
      "model_module": "@jupyter-widgets/base",
      "model_module_version": "1.2.0",
      "model_name": "LayoutModel",
      "state": {}
     },
     "44ee0707008a4f488c7014572941bb6a": {
      "model_module": "@jupyter-widgets/controls",
      "model_module_version": "1.5.0",
      "model_name": "DescriptionStyleModel",
      "state": {
       "description_width": ""
      }
     },
     "4532c0e15cb84e7fa77cdfcff7c9148a": {
      "model_module": "@jupyter-widgets/controls",
      "model_module_version": "1.5.0",
      "model_name": "DescriptionStyleModel",
      "state": {
       "description_width": ""
      }
     },
     "45512851113b4e689ac0a855320e96d5": {
      "model_module": "@jupyter-widgets/controls",
      "model_module_version": "1.5.0",
      "model_name": "HTMLModel",
      "state": {
       "layout": "IPY_MODEL_dcfc6c58f0ac44c28b1854c0bcd66990",
       "style": "IPY_MODEL_9a82db1c637e4e9fa9701247c1bcad92",
       "value": "Validation DataLoader 0: 100%"
      }
     },
     "4560c0678a124718866c1afd56e00c2e": {
      "model_module": "@jupyter-widgets/controls",
      "model_module_version": "1.5.0",
      "model_name": "FloatProgressModel",
      "state": {
       "layout": "IPY_MODEL_c5dcb5d39e5d44c3a9ecef5a79054be8",
       "max": 2,
       "style": "IPY_MODEL_65493d06021843779e409e7eb19eb93a",
       "value": 2
      }
     },
     "4569434389e6491e8267f898528bc22e": {
      "model_module": "@jupyter-widgets/base",
      "model_module_version": "1.2.0",
      "model_name": "LayoutModel",
      "state": {}
     },
     "457d42c56e934eaa9f32aa88fc3c018d": {
      "model_module": "@jupyter-widgets/base",
      "model_module_version": "1.2.0",
      "model_name": "LayoutModel",
      "state": {}
     },
     "458e01c99c774e97819a1b059331fe19": {
      "model_module": "@jupyter-widgets/base",
      "model_module_version": "1.2.0",
      "model_name": "LayoutModel",
      "state": {}
     },
     "45a2085c904943ae8561edf0c37746e8": {
      "model_module": "@jupyter-widgets/base",
      "model_module_version": "1.2.0",
      "model_name": "LayoutModel",
      "state": {
       "flex": "2"
      }
     },
     "45e8244c5c9f47b1af2c861c3f440e39": {
      "model_module": "@jupyter-widgets/base",
      "model_module_version": "1.2.0",
      "model_name": "LayoutModel",
      "state": {
       "display": "inline-flex",
       "flex_flow": "row wrap",
       "width": "100%"
      }
     },
     "45fa5719bab44fe6ba063bc306bd08e9": {
      "model_module": "@jupyter-widgets/controls",
      "model_module_version": "1.5.0",
      "model_name": "ProgressStyleModel",
      "state": {
       "description_width": ""
      }
     },
     "45fe9bce62bd459f8c9f68998108427c": {
      "model_module": "@jupyter-widgets/base",
      "model_module_version": "1.2.0",
      "model_name": "LayoutModel",
      "state": {}
     },
     "462018b3367a4fc187e5bbfa57cc05e2": {
      "model_module": "@jupyter-widgets/base",
      "model_module_version": "1.2.0",
      "model_name": "LayoutModel",
      "state": {}
     },
     "462edecb9a474faa8123c5dc7d43332a": {
      "model_module": "@jupyter-widgets/controls",
      "model_module_version": "1.5.0",
      "model_name": "HTMLModel",
      "state": {
       "layout": "IPY_MODEL_ace99003ca9a4d159f8a4a73d70aea5c",
       "style": "IPY_MODEL_18e308b8aaba41ac965395a86f4fca70",
       "value": " 16/16 [00:09&lt;00:00,  1.52it/s]"
      }
     },
     "4637e96b48814f63824f9e8583fa0413": {
      "model_module": "@jupyter-widgets/controls",
      "model_module_version": "1.5.0",
      "model_name": "HTMLModel",
      "state": {
       "layout": "IPY_MODEL_f281622d75854537b2163a128cb63469",
       "style": "IPY_MODEL_eca6ad294aba4722b70f2ff42082a9f4",
       "value": " 16/16 [00:03&lt;00:00,  4.28it/s]"
      }
     },
     "46550fea43cc44e79898e39c90c1afe0": {
      "model_module": "@jupyter-widgets/controls",
      "model_module_version": "1.5.0",
      "model_name": "HTMLModel",
      "state": {
       "layout": "IPY_MODEL_e11a5f0e01d54b7aa1b699626a73ab16",
       "style": "IPY_MODEL_85a4a2638b3b4d3aa6f6920eaaf2ed8c",
       "value": " 16/16 [00:01&lt;00:00,  8.33it/s]"
      }
     },
     "465d2055d7644ebcaff094fbec492775": {
      "model_module": "@jupyter-widgets/base",
      "model_module_version": "1.2.0",
      "model_name": "LayoutModel",
      "state": {
       "display": "inline-flex",
       "flex_flow": "row wrap",
       "width": "100%"
      }
     },
     "46fd9528e2844e0db8679d9782d140ea": {
      "model_module": "@jupyter-widgets/controls",
      "model_module_version": "1.5.0",
      "model_name": "HTMLModel",
      "state": {
       "layout": "IPY_MODEL_fb59982c06824df1ba40bac04a6269c3",
       "style": "IPY_MODEL_16c6b724734d41cebd12f55d82ae2c56",
       "value": " 16/16 [00:01&lt;00:00,  7.64it/s]"
      }
     },
     "47033d23e2e94609972405f32f8e3ded": {
      "model_module": "@jupyter-widgets/base",
      "model_module_version": "1.2.0",
      "model_name": "LayoutModel",
      "state": {}
     },
     "471a0be39f684e28bb6a9dc493f47351": {
      "model_module": "@jupyter-widgets/controls",
      "model_module_version": "1.5.0",
      "model_name": "ProgressStyleModel",
      "state": {
       "description_width": ""
      }
     },
     "473659c92b894e0c913b563e27abc299": {
      "model_module": "@jupyter-widgets/controls",
      "model_module_version": "1.5.0",
      "model_name": "HTMLModel",
      "state": {
       "layout": "IPY_MODEL_c9e580f496db4025a3a761c85f2476ae",
       "style": "IPY_MODEL_828088114f5c4018a9c5e30e8e67ee50",
       "value": "Validation DataLoader 0: 100%"
      }
     },
     "47475174d224445380e801263249b2dc": {
      "model_module": "@jupyter-widgets/base",
      "model_module_version": "1.2.0",
      "model_name": "LayoutModel",
      "state": {
       "flex": "2"
      }
     },
     "47610de242e94d1eb2ae3382187b1c07": {
      "model_module": "@jupyter-widgets/controls",
      "model_module_version": "1.5.0",
      "model_name": "HTMLModel",
      "state": {
       "layout": "IPY_MODEL_f314b819321b42fd9054bd1bfef3a2ff",
       "style": "IPY_MODEL_fb833729392345b9bc30de3fbcc8d7fc",
       "value": "Epoch 7:  84%"
      }
     },
     "4774ade288a245f8a0ef9ef7a4b43ec2": {
      "model_module": "@jupyter-widgets/controls",
      "model_module_version": "1.5.0",
      "model_name": "DescriptionStyleModel",
      "state": {
       "description_width": ""
      }
     },
     "478b63e30b5f41c397e796eb0794f764": {
      "model_module": "@jupyter-widgets/controls",
      "model_module_version": "1.5.0",
      "model_name": "HTMLModel",
      "state": {
       "layout": "IPY_MODEL_2119d96a37604a13ac587a1fdcfe5617",
       "style": "IPY_MODEL_6e125a81c4524cfd837e5daefce7d064",
       "value": "Validation DataLoader 0: 100%"
      }
     },
     "48009fe144ad4ed0b051fca4d101fa72": {
      "model_module": "@jupyter-widgets/controls",
      "model_module_version": "1.5.0",
      "model_name": "ProgressStyleModel",
      "state": {
       "description_width": ""
      }
     },
     "480f2c75da0a4397a835fb3ddd0b77c2": {
      "model_module": "@jupyter-widgets/controls",
      "model_module_version": "1.5.0",
      "model_name": "FloatProgressModel",
      "state": {
       "layout": "IPY_MODEL_3fda244667f2491f8ad93a58d6b475c4",
       "max": 16,
       "style": "IPY_MODEL_3501a4dfb5db4386a6894ed7f0dbd179",
       "value": 16
      }
     },
     "48393a62cbdb4243801203ccd4c472a7": {
      "model_module": "@jupyter-widgets/base",
      "model_module_version": "1.2.0",
      "model_name": "LayoutModel",
      "state": {}
     },
     "48a0baa0cad44f8b9aa5176219cf02af": {
      "model_module": "@jupyter-widgets/controls",
      "model_module_version": "1.5.0",
      "model_name": "ProgressStyleModel",
      "state": {
       "description_width": ""
      }
     },
     "48b1e80f829d49c4a70b1c52f721b51c": {
      "model_module": "@jupyter-widgets/base",
      "model_module_version": "1.2.0",
      "model_name": "LayoutModel",
      "state": {}
     },
     "48e25fecb1f44620892387f2fa4f3e51": {
      "model_module": "@jupyter-widgets/controls",
      "model_module_version": "1.5.0",
      "model_name": "FloatProgressModel",
      "state": {
       "layout": "IPY_MODEL_b25874e35ef542b6ac318d9c3b5f4f4e",
       "max": 16,
       "style": "IPY_MODEL_1b64597a16c145879f919b0079b4d84f",
       "value": 16
      }
     },
     "48f6bb0ab1854db6906c10950de762e5": {
      "model_module": "@jupyter-widgets/base",
      "model_module_version": "1.2.0",
      "model_name": "LayoutModel",
      "state": {}
     },
     "491a24aa73a146998dd5608e3cf4e6e2": {
      "model_module": "@jupyter-widgets/controls",
      "model_module_version": "1.5.0",
      "model_name": "HTMLModel",
      "state": {
       "layout": "IPY_MODEL_01b61d6e8f9f4685ad6ef33845b0892b",
       "style": "IPY_MODEL_848aaa62b69946d58a88ae7b9e72073f",
       "value": " 16/16 [00:08&lt;00:00,  1.79it/s]"
      }
     },
     "49469e82d98e4f59a386d97e3babdb34": {
      "model_module": "@jupyter-widgets/controls",
      "model_module_version": "1.5.0",
      "model_name": "ProgressStyleModel",
      "state": {
       "description_width": ""
      }
     },
     "49679145be0d4d9ba0a2527171af6390": {
      "model_module": "@jupyter-widgets/controls",
      "model_module_version": "1.5.0",
      "model_name": "HTMLModel",
      "state": {
       "layout": "IPY_MODEL_4b3a4414d5fd41ff9f286712e9e32f65",
       "style": "IPY_MODEL_d7a366c5963a49c18c58621a1e26c93b",
       "value": " 16/16 [00:03&lt;00:00,  3.92it/s]"
      }
     },
     "4993824e9db840a499296b39ed56c157": {
      "model_module": "@jupyter-widgets/controls",
      "model_module_version": "1.5.0",
      "model_name": "HTMLModel",
      "state": {
       "layout": "IPY_MODEL_2be5a5d61d094ea18c9e0cf79e59d2f4",
       "style": "IPY_MODEL_69a5d63baca14a34950d5b665d4c91af",
       "value": "Validation DataLoader 0: 100%"
      }
     },
     "49943ca6d769493ea30723e6b318160b": {
      "model_module": "@jupyter-widgets/base",
      "model_module_version": "1.2.0",
      "model_name": "LayoutModel",
      "state": {
       "flex": "2"
      }
     },
     "499d6bcf471048179560189ff519e754": {
      "model_module": "@jupyter-widgets/base",
      "model_module_version": "1.2.0",
      "model_name": "LayoutModel",
      "state": {
       "flex": "2"
      }
     },
     "49df76aa633743c0993b2f90dbd9f042": {
      "model_module": "@jupyter-widgets/controls",
      "model_module_version": "1.5.0",
      "model_name": "DescriptionStyleModel",
      "state": {
       "description_width": ""
      }
     },
     "4a09c7898992486cb941ed6e3bb3849b": {
      "model_module": "@jupyter-widgets/controls",
      "model_module_version": "1.5.0",
      "model_name": "ProgressStyleModel",
      "state": {
       "description_width": ""
      }
     },
     "4a619143c2b7459886b4f8f547e99e53": {
      "model_module": "@jupyter-widgets/controls",
      "model_module_version": "1.5.0",
      "model_name": "HTMLModel",
      "state": {
       "layout": "IPY_MODEL_3bf5cd68b35a4be383a7a8afa246d7a0",
       "style": "IPY_MODEL_251fc123b3574ad79a4c8f91dd7ae49c",
       "value": "Validation DataLoader 0: 100%"
      }
     },
     "4a72b1340b884f1f97b84c65b2a1607c": {
      "model_module": "@jupyter-widgets/base",
      "model_module_version": "1.2.0",
      "model_name": "LayoutModel",
      "state": {
       "flex": "2"
      }
     },
     "4a9df467d47346d9bf376d225df6c6de": {
      "model_module": "@jupyter-widgets/controls",
      "model_module_version": "1.5.0",
      "model_name": "ProgressStyleModel",
      "state": {
       "description_width": ""
      }
     },
     "4aa0c78afa714703a1e03257f91c8ccf": {
      "model_module": "@jupyter-widgets/controls",
      "model_module_version": "1.5.0",
      "model_name": "DescriptionStyleModel",
      "state": {
       "description_width": ""
      }
     },
     "4aaa0fc8fc314069afcdf2008aae52f6": {
      "model_module": "@jupyter-widgets/controls",
      "model_module_version": "1.5.0",
      "model_name": "HTMLModel",
      "state": {
       "layout": "IPY_MODEL_8db09fa3ecd94fbf80dedfa363c55862",
       "style": "IPY_MODEL_22b12f3de04a4ee092df57d6628ad82b",
       "value": " 16/16 [00:03&lt;00:00,  4.07it/s]"
      }
     },
     "4b13fe5874c64b96b87b98a05207ab43": {
      "model_module": "@jupyter-widgets/base",
      "model_module_version": "1.2.0",
      "model_name": "LayoutModel",
      "state": {
       "flex": "2"
      }
     },
     "4b29e06f0dd545108299623789e61876": {
      "model_module": "@jupyter-widgets/base",
      "model_module_version": "1.2.0",
      "model_name": "LayoutModel",
      "state": {}
     },
     "4b2bef21335c4a6aa1d583d747b11d9d": {
      "model_module": "@jupyter-widgets/base",
      "model_module_version": "1.2.0",
      "model_name": "LayoutModel",
      "state": {}
     },
     "4b3a4414d5fd41ff9f286712e9e32f65": {
      "model_module": "@jupyter-widgets/base",
      "model_module_version": "1.2.0",
      "model_name": "LayoutModel",
      "state": {}
     },
     "4b805036e1364b50bec718fd49670d82": {
      "model_module": "@jupyter-widgets/controls",
      "model_module_version": "1.5.0",
      "model_name": "DescriptionStyleModel",
      "state": {
       "description_width": ""
      }
     },
     "4ba83a0fa6af43b8b843c319579833ed": {
      "model_module": "@jupyter-widgets/base",
      "model_module_version": "1.2.0",
      "model_name": "LayoutModel",
      "state": {}
     },
     "4bc57936aedc49c9a58ca8dc5f4b9e27": {
      "model_module": "@jupyter-widgets/controls",
      "model_module_version": "1.5.0",
      "model_name": "ProgressStyleModel",
      "state": {
       "description_width": ""
      }
     },
     "4bd6a29e683f4a3294843bfc3d9ec431": {
      "model_module": "@jupyter-widgets/controls",
      "model_module_version": "1.5.0",
      "model_name": "HTMLModel",
      "state": {
       "layout": "IPY_MODEL_b84d7936f5d54625b828dc837c79de17",
       "style": "IPY_MODEL_2f37c4ab9ae9418dba7b84dcf6868499",
       "value": " 16/16 [00:01&lt;00:00,  8.08it/s]"
      }
     },
     "4bfb7bc18b9d49929bf866039bae1726": {
      "model_module": "@jupyter-widgets/controls",
      "model_module_version": "1.5.0",
      "model_name": "DescriptionStyleModel",
      "state": {
       "description_width": ""
      }
     },
     "4c06a38e6c5746a99f2f9bbb00205f83": {
      "model_module": "@jupyter-widgets/base",
      "model_module_version": "1.2.0",
      "model_name": "LayoutModel",
      "state": {}
     },
     "4c34a7d85d8e4e3d84f51b941dff85ed": {
      "model_module": "@jupyter-widgets/base",
      "model_module_version": "1.2.0",
      "model_name": "LayoutModel",
      "state": {}
     },
     "4c4652bacfff49dea4b34ea70092eaa2": {
      "model_module": "@jupyter-widgets/controls",
      "model_module_version": "1.5.0",
      "model_name": "ProgressStyleModel",
      "state": {
       "description_width": ""
      }
     },
     "4c56cec2a65b414f866e6e9091168472": {
      "model_module": "@jupyter-widgets/controls",
      "model_module_version": "1.5.0",
      "model_name": "FloatProgressModel",
      "state": {
       "layout": "IPY_MODEL_e0fd7f2ec72740188cee5cd6092f77ca",
       "max": 16,
       "style": "IPY_MODEL_189f79961a4c4ea7b19c0bd390c54a7f",
       "value": 16
      }
     },
     "4c666200236342c1bcfa5e4152869205": {
      "model_module": "@jupyter-widgets/controls",
      "model_module_version": "1.5.0",
      "model_name": "HTMLModel",
      "state": {
       "layout": "IPY_MODEL_c13c142698fc4fbaa7d6fcda4653e7ba",
       "style": "IPY_MODEL_b682036abc914218a216fdb98dccd353",
       "value": "Validation DataLoader 0: 100%"
      }
     },
     "4c70a79d1adc424e8efad11b0f6020f3": {
      "model_module": "@jupyter-widgets/controls",
      "model_module_version": "1.5.0",
      "model_name": "DescriptionStyleModel",
      "state": {
       "description_width": ""
      }
     },
     "4c8e9c8233f3454f930ff61f1d5a387c": {
      "model_module": "@jupyter-widgets/controls",
      "model_module_version": "1.5.0",
      "model_name": "HTMLModel",
      "state": {
       "layout": "IPY_MODEL_973a5bac360b434f9ead9e1d47be6172",
       "style": "IPY_MODEL_f5a9eedb3f554a43958d6bd70312bfb7",
       "value": " 16/16 [00:04&lt;00:00,  3.54it/s]"
      }
     },
     "4c9d4ffb25dc41da8ba5fd3f1531b62c": {
      "model_module": "@jupyter-widgets/controls",
      "model_module_version": "1.5.0",
      "model_name": "FloatProgressModel",
      "state": {
       "layout": "IPY_MODEL_f36fe7d678624493938efef0d059bea1",
       "max": 16,
       "style": "IPY_MODEL_617763e0830c4aa284f1938fcfdefd01",
       "value": 16
      }
     },
     "4cabb28ab5bd4a908507dca1408a4f56": {
      "model_module": "@jupyter-widgets/controls",
      "model_module_version": "1.5.0",
      "model_name": "FloatProgressModel",
      "state": {
       "layout": "IPY_MODEL_ed3a33d646274074bd92fcb4db58322e",
       "max": 16,
       "style": "IPY_MODEL_91fab43fbe1e4828a4398e72e266706f",
       "value": 16
      }
     },
     "4cefe6cc5f3b458382731de20e5b7537": {
      "model_module": "@jupyter-widgets/controls",
      "model_module_version": "1.5.0",
      "model_name": "DescriptionStyleModel",
      "state": {
       "description_width": ""
      }
     },
     "4d12fd2cd2614500a17dc19d1b80de15": {
      "model_module": "@jupyter-widgets/base",
      "model_module_version": "1.2.0",
      "model_name": "LayoutModel",
      "state": {}
     },
     "4d1f4c4581164f08878455095699f29c": {
      "model_module": "@jupyter-widgets/controls",
      "model_module_version": "1.5.0",
      "model_name": "FloatProgressModel",
      "state": {
       "layout": "IPY_MODEL_ab32d2d1ecad49988a8df18244618032",
       "max": 16,
       "style": "IPY_MODEL_fe990064fabd46d097ab04dcf7b90af1",
       "value": 16
      }
     },
     "4d27dfb1d63d484da76ef3266d3290a5": {
      "model_module": "@jupyter-widgets/controls",
      "model_module_version": "1.5.0",
      "model_name": "DescriptionStyleModel",
      "state": {
       "description_width": ""
      }
     },
     "4d80763ac5cb4d5a9bb0c382153352cf": {
      "model_module": "@jupyter-widgets/controls",
      "model_module_version": "1.5.0",
      "model_name": "ProgressStyleModel",
      "state": {
       "description_width": ""
      }
     },
     "4d9101c54386413b8873997aad7720e4": {
      "model_module": "@jupyter-widgets/controls",
      "model_module_version": "1.5.0",
      "model_name": "ProgressStyleModel",
      "state": {
       "description_width": ""
      }
     },
     "4db54e393c164714bb6082c4b40032f9": {
      "model_module": "@jupyter-widgets/controls",
      "model_module_version": "1.5.0",
      "model_name": "DescriptionStyleModel",
      "state": {
       "description_width": ""
      }
     },
     "4dc42d352e1c49bdb1db0ff3c618f39e": {
      "model_module": "@jupyter-widgets/controls",
      "model_module_version": "1.5.0",
      "model_name": "HTMLModel",
      "state": {
       "layout": "IPY_MODEL_6acb96c32bad42c5bf1ad00bba66d78c",
       "style": "IPY_MODEL_72f9004c7bab43f38a5fa8eb58017a30",
       "value": "Validation DataLoader 0: 100%"
      }
     },
     "4dd0670a5b0c45c4924b353b0d42a865": {
      "model_module": "@jupyter-widgets/controls",
      "model_module_version": "1.5.0",
      "model_name": "HTMLModel",
      "state": {
       "layout": "IPY_MODEL_292615c0e6e24f3bbda4700cf640d12d",
       "style": "IPY_MODEL_d91a3baa62cb4c46818330877cc1c365",
       "value": "Validation DataLoader 0: 100%"
      }
     },
     "4df59df3452b4092bd4e45bc1f8ab04f": {
      "model_module": "@jupyter-widgets/base",
      "model_module_version": "1.2.0",
      "model_name": "LayoutModel",
      "state": {}
     },
     "4e19cb0568504069b0470e6036e359f6": {
      "model_module": "@jupyter-widgets/base",
      "model_module_version": "1.2.0",
      "model_name": "LayoutModel",
      "state": {}
     },
     "4e6415fe4cdf4dd583cc46aca81ba169": {
      "model_module": "@jupyter-widgets/controls",
      "model_module_version": "1.5.0",
      "model_name": "HTMLModel",
      "state": {
       "layout": "IPY_MODEL_442bd4049ad2446c96bdd8b3ccd17d5f",
       "style": "IPY_MODEL_13c02dc05f914ee0916c922fb67298ec",
       "value": " 33/33 [00:07&lt;00:00,  4.07it/s]"
      }
     },
     "4ef50bd7a78f412a88a7f2332a3dc999": {
      "model_module": "@jupyter-widgets/controls",
      "model_module_version": "1.5.0",
      "model_name": "HTMLModel",
      "state": {
       "layout": "IPY_MODEL_874ec67452da43f0be1841409a782703",
       "style": "IPY_MODEL_7abfaabe911a45c78090d93ebecb9b6d",
       "value": "Validation DataLoader 0: 100%"
      }
     },
     "4f2368f75e104d7790c9558873999b24": {
      "model_module": "@jupyter-widgets/controls",
      "model_module_version": "1.5.0",
      "model_name": "HTMLModel",
      "state": {
       "layout": "IPY_MODEL_9939fc7b594849f9bc7b7dab71cbf15f",
       "style": "IPY_MODEL_83e83224eb9a4457a42497fd0abaa7e6",
       "value": " 16/16 [00:03&lt;00:00,  3.87it/s]"
      }
     },
     "4f3bec5c319d49d6b794ae4c4a1896d6": {
      "model_module": "@jupyter-widgets/base",
      "model_module_version": "1.2.0",
      "model_name": "LayoutModel",
      "state": {}
     },
     "4f533bc66d3d46f9a90cd70ba6ac1440": {
      "model_module": "@jupyter-widgets/base",
      "model_module_version": "1.2.0",
      "model_name": "LayoutModel",
      "state": {}
     },
     "4f5acad673fe460c9b043eac41a036aa": {
      "model_module": "@jupyter-widgets/controls",
      "model_module_version": "1.5.0",
      "model_name": "HTMLModel",
      "state": {
       "layout": "IPY_MODEL_856660dc83d34ffab55f53a9d20e9cbb",
       "style": "IPY_MODEL_08631d2102c240baa6379927da271f84",
       "value": "Validation DataLoader 0: 100%"
      }
     },
     "4f61e9a33681406198475da4a88b609d": {
      "model_module": "@jupyter-widgets/controls",
      "model_module_version": "1.5.0",
      "model_name": "DescriptionStyleModel",
      "state": {
       "description_width": ""
      }
     },
     "4fce8ad0578f40deb84025ac6ca19aaf": {
      "model_module": "@jupyter-widgets/controls",
      "model_module_version": "1.5.0",
      "model_name": "HTMLModel",
      "state": {
       "layout": "IPY_MODEL_6262083009e64997bb874806cb8d5ff1",
       "style": "IPY_MODEL_c26cd20192164a47b7e77555b9099f91",
       "value": "Validation DataLoader 0: 100%"
      }
     },
     "4fceb71cf1a7474d9df60d0fb6e2ffe5": {
      "model_module": "@jupyter-widgets/controls",
      "model_module_version": "1.5.0",
      "model_name": "HTMLModel",
      "state": {
       "layout": "IPY_MODEL_eb253c796b6a46aa8c5a2e7a72654f12",
       "style": "IPY_MODEL_19a9e05bac514d8fbb3c8ee564890819",
       "value": "Sanity Checking DataLoader 0: 100%"
      }
     },
     "4ff979b5c48747e4978f672fad308d65": {
      "model_module": "@jupyter-widgets/controls",
      "model_module_version": "1.5.0",
      "model_name": "HTMLModel",
      "state": {
       "layout": "IPY_MODEL_f43dca3467a24fa5bc1fb2fbdbdb4914",
       "style": "IPY_MODEL_a2ed71f4dc65433a8bb97cf8dfd0ccad",
       "value": " 16/16 [00:04&lt;00:00,  2.79it/s]"
      }
     },
     "5013f7609f5242818168003452790fe0": {
      "model_module": "@jupyter-widgets/base",
      "model_module_version": "1.2.0",
      "model_name": "LayoutModel",
      "state": {}
     },
     "5015d8f4a2c9485fb16c183452fefbce": {
      "model_module": "@jupyter-widgets/base",
      "model_module_version": "1.2.0",
      "model_name": "LayoutModel",
      "state": {
       "flex": "2"
      }
     },
     "505c2642f0a14d6f99ad29ae1e9f446b": {
      "model_module": "@jupyter-widgets/base",
      "model_module_version": "1.2.0",
      "model_name": "LayoutModel",
      "state": {
       "display": "inline-flex",
       "flex_flow": "row wrap",
       "width": "100%"
      }
     },
     "5074fb3b2c7145d39e3b7bf72e0305f5": {
      "model_module": "@jupyter-widgets/controls",
      "model_module_version": "1.5.0",
      "model_name": "DescriptionStyleModel",
      "state": {
       "description_width": ""
      }
     },
     "5092469399ba4778a68d91914e36835b": {
      "model_module": "@jupyter-widgets/base",
      "model_module_version": "1.2.0",
      "model_name": "LayoutModel",
      "state": {
       "display": "inline-flex",
       "flex_flow": "row wrap",
       "width": "100%"
      }
     },
     "50bb7e7a0d1f4e1296e766f64298db41": {
      "model_module": "@jupyter-widgets/controls",
      "model_module_version": "1.5.0",
      "model_name": "FloatProgressModel",
      "state": {
       "layout": "IPY_MODEL_56bb4239a30a486284e35b044d58a910",
       "max": 16,
       "style": "IPY_MODEL_c55dc76f44164fa3987f7a43f3aaf3aa",
       "value": 16
      }
     },
     "50e604a282a247d4a91fdc178e68268f": {
      "model_module": "@jupyter-widgets/controls",
      "model_module_version": "1.5.0",
      "model_name": "HTMLModel",
      "state": {
       "layout": "IPY_MODEL_21d2ee2504484fc0942e2ca0ba3dd951",
       "style": "IPY_MODEL_6010e9df02704b63bcec39dd1968cd03",
       "value": " 16/16 [00:02&lt;00:00,  5.92it/s]"
      }
     },
     "5136d2e9fd41422d96b15d2619662648": {
      "model_module": "@jupyter-widgets/controls",
      "model_module_version": "1.5.0",
      "model_name": "HTMLModel",
      "state": {
       "layout": "IPY_MODEL_94f96ca5b8f746f5bdf25dbaff84071e",
       "style": "IPY_MODEL_98d42040273d4266aa2b5acc0d384085",
       "value": "Validation DataLoader 0: 100%"
      }
     },
     "515601552eae432b8351a125e11ac7d5": {
      "model_module": "@jupyter-widgets/base",
      "model_module_version": "1.2.0",
      "model_name": "LayoutModel",
      "state": {}
     },
     "5177c8e909db46e6a99d5ef0c068a7fa": {
      "model_module": "@jupyter-widgets/base",
      "model_module_version": "1.2.0",
      "model_name": "LayoutModel",
      "state": {}
     },
     "519f419592694b739b702d22b30011bd": {
      "model_module": "@jupyter-widgets/controls",
      "model_module_version": "1.5.0",
      "model_name": "FloatProgressModel",
      "state": {
       "layout": "IPY_MODEL_0a917efcc73043d1b0980734b1b235f1",
       "max": 16,
       "style": "IPY_MODEL_721060883aa1484db5a98a45d3eb516f",
       "value": 16
      }
     },
     "5302709244dc44bb92ea9208464f2ec7": {
      "model_module": "@jupyter-widgets/base",
      "model_module_version": "1.2.0",
      "model_name": "LayoutModel",
      "state": {}
     },
     "5309a8a34e2541a8859ceb8576acd759": {
      "model_module": "@jupyter-widgets/controls",
      "model_module_version": "1.5.0",
      "model_name": "HTMLModel",
      "state": {
       "layout": "IPY_MODEL_6cebc510ebeb4404994f76f03e65daae",
       "style": "IPY_MODEL_e3433acb29294582bb30269091ba3b38",
       "value": " 16/16 [00:03&lt;00:00,  4.46it/s]"
      }
     },
     "537a190631d84e5f8c304af6ae9a6e4a": {
      "model_module": "@jupyter-widgets/controls",
      "model_module_version": "1.5.0",
      "model_name": "HTMLModel",
      "state": {
       "layout": "IPY_MODEL_6b917c2220cd4dd9842dbe9acdce694d",
       "style": "IPY_MODEL_5cc596bcccdb4e5ea6215f283357e737",
       "value": " 16/16 [00:06&lt;00:00,  2.57it/s]"
      }
     },
     "539ccc7865af4e86b15eabef55133dbe": {
      "model_module": "@jupyter-widgets/base",
      "model_module_version": "1.2.0",
      "model_name": "LayoutModel",
      "state": {
       "flex": "2"
      }
     },
     "539eed252410473a86deccd079056018": {
      "model_module": "@jupyter-widgets/controls",
      "model_module_version": "1.5.0",
      "model_name": "HTMLModel",
      "state": {
       "layout": "IPY_MODEL_5d368353afe2449d92ce4eedcf091291",
       "style": "IPY_MODEL_f270739f359f4b4490cc5c178fefee4c",
       "value": " 16/16 [00:06&lt;00:00,  2.41it/s]"
      }
     },
     "53f169717b4145f687bf35bbf098eaad": {
      "model_module": "@jupyter-widgets/controls",
      "model_module_version": "1.5.0",
      "model_name": "FloatProgressModel",
      "state": {
       "layout": "IPY_MODEL_b088935e37eb454885975c893a6fc687",
       "max": 16,
       "style": "IPY_MODEL_ec7a4f67cab3461fad4d9d0167e41d28",
       "value": 16
      }
     },
     "5428dea5b9ee44649ce567465c37ef41": {
      "model_module": "@jupyter-widgets/base",
      "model_module_version": "1.2.0",
      "model_name": "LayoutModel",
      "state": {}
     },
     "54594a5c932d44b6adf27bb3cc991602": {
      "model_module": "@jupyter-widgets/controls",
      "model_module_version": "1.5.0",
      "model_name": "ProgressStyleModel",
      "state": {
       "description_width": ""
      }
     },
     "54cbb803e2eb4e86a955dd907e64e9ba": {
      "model_module": "@jupyter-widgets/base",
      "model_module_version": "1.2.0",
      "model_name": "LayoutModel",
      "state": {
       "display": "inline-flex",
       "flex_flow": "row wrap",
       "width": "100%"
      }
     },
     "54d3d5f3682247c2a9c58b8e9deadec4": {
      "model_module": "@jupyter-widgets/controls",
      "model_module_version": "1.5.0",
      "model_name": "HTMLModel",
      "state": {
       "layout": "IPY_MODEL_7d5504e3e3894c8a8f71acf804639235",
       "style": "IPY_MODEL_9617d696b8db4d609be527cb11ae9412",
       "value": " 4/16 [00:02&lt;00:07,  1.54it/s]"
      }
     },
     "54efc9aa36e24e68ad460abc471a67f6": {
      "model_module": "@jupyter-widgets/base",
      "model_module_version": "1.2.0",
      "model_name": "LayoutModel",
      "state": {
       "display": "inline-flex",
       "flex_flow": "row wrap",
       "width": "100%"
      }
     },
     "551c3b55dcca49968c911ce7b6ede084": {
      "model_module": "@jupyter-widgets/base",
      "model_module_version": "1.2.0",
      "model_name": "LayoutModel",
      "state": {
       "flex": "2"
      }
     },
     "553ebebadceb4638abaeab2867eeb3ca": {
      "model_module": "@jupyter-widgets/controls",
      "model_module_version": "1.5.0",
      "model_name": "DescriptionStyleModel",
      "state": {
       "description_width": ""
      }
     },
     "555d76bed8df4fc6bfa4ff00ed89af5c": {
      "model_module": "@jupyter-widgets/base",
      "model_module_version": "1.2.0",
      "model_name": "LayoutModel",
      "state": {
       "flex": "2"
      }
     },
     "5563f3fb7a6d4014a937d028b11d9b5b": {
      "model_module": "@jupyter-widgets/base",
      "model_module_version": "1.2.0",
      "model_name": "LayoutModel",
      "state": {}
     },
     "558e2023004d46e79c5e8119f9d634d7": {
      "model_module": "@jupyter-widgets/controls",
      "model_module_version": "1.5.0",
      "model_name": "HTMLModel",
      "state": {
       "layout": "IPY_MODEL_5302709244dc44bb92ea9208464f2ec7",
       "style": "IPY_MODEL_277c65be3a954c329e8812743ab8fccc",
       "value": "Validation DataLoader 0: 100%"
      }
     },
     "559b042b428c4c169d2244edadd1c7ff": {
      "model_module": "@jupyter-widgets/controls",
      "model_module_version": "1.5.0",
      "model_name": "DescriptionStyleModel",
      "state": {
       "description_width": ""
      }
     },
     "559b1f92024649478a1f9b0ce0a205c8": {
      "model_module": "@jupyter-widgets/controls",
      "model_module_version": "1.5.0",
      "model_name": "ProgressStyleModel",
      "state": {
       "description_width": ""
      }
     },
     "55d8e43bc3744c96bb648cfd8059bfb8": {
      "model_module": "@jupyter-widgets/base",
      "model_module_version": "1.2.0",
      "model_name": "LayoutModel",
      "state": {
       "display": "inline-flex",
       "flex_flow": "row wrap",
       "width": "100%"
      }
     },
     "55fe308636cf49b28ce388f25b9ef39c": {
      "model_module": "@jupyter-widgets/controls",
      "model_module_version": "1.5.0",
      "model_name": "HTMLModel",
      "state": {
       "layout": "IPY_MODEL_77379038c39144928bb415f1f7d77ba5",
       "style": "IPY_MODEL_8360bd813cf54c51a96589d6046bdbc3",
       "value": "Validation DataLoader 0: 100%"
      }
     },
     "562f1c464ab248df88d3b8e51bf2d459": {
      "model_module": "@jupyter-widgets/controls",
      "model_module_version": "1.5.0",
      "model_name": "HTMLModel",
      "state": {
       "layout": "IPY_MODEL_8ab21a958c20482db4569e155b0b6d1e",
       "style": "IPY_MODEL_2dd4951d94c647dea3f4ec52fbc4bbf4",
       "value": " 16/16 [00:01&lt;00:00,  8.31it/s]"
      }
     },
     "5636e829b08149228cf37ad3e5d8d5ff": {
      "model_module": "@jupyter-widgets/base",
      "model_module_version": "1.2.0",
      "model_name": "LayoutModel",
      "state": {
       "display": "inline-flex",
       "flex_flow": "row wrap",
       "width": "100%"
      }
     },
     "56538c186c654bad95098dab98198190": {
      "model_module": "@jupyter-widgets/base",
      "model_module_version": "1.2.0",
      "model_name": "LayoutModel",
      "state": {}
     },
     "566a353322b5467ba4cd392e5075b55a": {
      "model_module": "@jupyter-widgets/base",
      "model_module_version": "1.2.0",
      "model_name": "LayoutModel",
      "state": {
       "flex": "2"
      }
     },
     "5682690b8aef49f5871a99253f1648ae": {
      "model_module": "@jupyter-widgets/base",
      "model_module_version": "1.2.0",
      "model_name": "LayoutModel",
      "state": {
       "display": "inline-flex",
       "flex_flow": "row wrap",
       "width": "100%"
      }
     },
     "56bb4239a30a486284e35b044d58a910": {
      "model_module": "@jupyter-widgets/base",
      "model_module_version": "1.2.0",
      "model_name": "LayoutModel",
      "state": {
       "flex": "2"
      }
     },
     "56d2a0ee14f84d09a63c2128dc1c1250": {
      "model_module": "@jupyter-widgets/controls",
      "model_module_version": "1.5.0",
      "model_name": "DescriptionStyleModel",
      "state": {
       "description_width": ""
      }
     },
     "56dcd4d38ad547bb900301babd769a1b": {
      "model_module": "@jupyter-widgets/controls",
      "model_module_version": "1.5.0",
      "model_name": "HTMLModel",
      "state": {
       "layout": "IPY_MODEL_79754bf8a11c4dd694293704b0fe9573",
       "style": "IPY_MODEL_0d9358cb1c7b4b42bd595dedab8946bb",
       "value": "Validation DataLoader 0: 100%"
      }
     },
     "56f54e6467e54478b9356454d897fc1b": {
      "model_module": "@jupyter-widgets/controls",
      "model_module_version": "1.5.0",
      "model_name": "HTMLModel",
      "state": {
       "layout": "IPY_MODEL_973d5ba36c874e018a339b993aefacf0",
       "style": "IPY_MODEL_97beb6469a9c4fafa031235ee6b62981",
       "value": " 16/16 [00:01&lt;00:00,  8.10it/s]"
      }
     },
     "572363f4425e491c9977172c6605b7f8": {
      "model_module": "@jupyter-widgets/base",
      "model_module_version": "1.2.0",
      "model_name": "LayoutModel",
      "state": {}
     },
     "572426f42ca6421cbbce1e458c4e4c2e": {
      "model_module": "@jupyter-widgets/base",
      "model_module_version": "1.2.0",
      "model_name": "LayoutModel",
      "state": {
       "display": "inline-flex",
       "flex_flow": "row wrap",
       "width": "100%"
      }
     },
     "57271c4c15e44377ae1c7caf4be643e3": {
      "model_module": "@jupyter-widgets/controls",
      "model_module_version": "1.5.0",
      "model_name": "FloatProgressModel",
      "state": {
       "layout": "IPY_MODEL_ad998a8dc9324e2680f0c891989ed2d9",
       "max": 16,
       "style": "IPY_MODEL_da192592197a4fb1848657ac419a0942",
       "value": 16
      }
     },
     "572fa9ff530347e096d2ddf877e85cd0": {
      "model_module": "@jupyter-widgets/controls",
      "model_module_version": "1.5.0",
      "model_name": "HTMLModel",
      "state": {
       "layout": "IPY_MODEL_bdab9ca952474502babb490d7826952c",
       "style": "IPY_MODEL_ec19d40eb5cc405988fdc866ad9faaae",
       "value": " 16/16 [00:06&lt;00:00,  2.14it/s]"
      }
     },
     "5750e2d7fcc946e0aae45b85b6ab093d": {
      "model_module": "@jupyter-widgets/controls",
      "model_module_version": "1.5.0",
      "model_name": "HTMLModel",
      "state": {
       "layout": "IPY_MODEL_614a0808d181441db53d6812ac7c826c",
       "style": "IPY_MODEL_1cd915ec9d2042c99bcb26e3a664752b",
       "value": "Validation DataLoader 0: 100%"
      }
     },
     "57a60d184a3e43b987891f1078d35fcb": {
      "model_module": "@jupyter-widgets/controls",
      "model_module_version": "1.5.0",
      "model_name": "DescriptionStyleModel",
      "state": {
       "description_width": ""
      }
     },
     "58063dd636f04611b9813cf2050034cb": {
      "model_module": "@jupyter-widgets/base",
      "model_module_version": "1.2.0",
      "model_name": "LayoutModel",
      "state": {}
     },
     "5807637e45254d77937f3dc1d4d79904": {
      "model_module": "@jupyter-widgets/controls",
      "model_module_version": "1.5.0",
      "model_name": "HTMLModel",
      "state": {
       "layout": "IPY_MODEL_1c7eecfa0cc54699bc570b96192d7b5a",
       "style": "IPY_MODEL_1491243fec964d5e97db2aedfd4cb335",
       "value": "Validation DataLoader 0: 100%"
      }
     },
     "5814d02e79c746139d04b63efbb0f445": {
      "model_module": "@jupyter-widgets/controls",
      "model_module_version": "1.5.0",
      "model_name": "DescriptionStyleModel",
      "state": {
       "description_width": ""
      }
     },
     "5818e2fe56174aa98618102d0a3648bc": {
      "model_module": "@jupyter-widgets/controls",
      "model_module_version": "1.5.0",
      "model_name": "HTMLModel",
      "state": {
       "layout": "IPY_MODEL_0c524033f7ac47dc8e83f60fff24cba3",
       "style": "IPY_MODEL_f33b50e0a129455fa3f1fe55331e7e9b",
       "value": " 4/77 [00:02&lt;00:37,  1.97it/s, loss=0.0056, v_num=H-74]"
      }
     },
     "58329c6a687a4f53a40a98fbdfcf4db2": {
      "model_module": "@jupyter-widgets/base",
      "model_module_version": "1.2.0",
      "model_name": "LayoutModel",
      "state": {
       "flex": "2"
      }
     },
     "586c845c1e0d4b4fa31db8c3b29bc0f8": {
      "model_module": "@jupyter-widgets/controls",
      "model_module_version": "1.5.0",
      "model_name": "HTMLModel",
      "state": {
       "layout": "IPY_MODEL_6d2fec52527c4d39976081df6e26eeb9",
       "style": "IPY_MODEL_1a121e7386e842efbbbc20a967f3be54",
       "value": "Validation DataLoader 0: 100%"
      }
     },
     "587183f845594918b5198a9ab038d392": {
      "model_module": "@jupyter-widgets/controls",
      "model_module_version": "1.5.0",
      "model_name": "HTMLModel",
      "state": {
       "layout": "IPY_MODEL_a58377315bb34407b7150b2a72dd717f",
       "style": "IPY_MODEL_4235eca6a75848068c74e483b528072e",
       "value": " 16/16 [00:03&lt;00:00,  4.21it/s]"
      }
     },
     "58a8aefbf86045b79114e112bb2722b4": {
      "model_module": "@jupyter-widgets/base",
      "model_module_version": "1.2.0",
      "model_name": "LayoutModel",
      "state": {
       "display": "inline-flex",
       "flex_flow": "row wrap",
       "width": "100%"
      }
     },
     "58cb75f3958046229d4b9ed0a3eea1c9": {
      "model_module": "@jupyter-widgets/controls",
      "model_module_version": "1.5.0",
      "model_name": "DescriptionStyleModel",
      "state": {
       "description_width": ""
      }
     },
     "59642cca7b4646b4b2c74f41c7e4ea00": {
      "model_module": "@jupyter-widgets/controls",
      "model_module_version": "1.5.0",
      "model_name": "DescriptionStyleModel",
      "state": {
       "description_width": ""
      }
     },
     "5984e9b03e7f46e49afbbcf28c251d12": {
      "model_module": "@jupyter-widgets/base",
      "model_module_version": "1.2.0",
      "model_name": "LayoutModel",
      "state": {
       "display": "inline-flex",
       "flex_flow": "row wrap",
       "width": "100%"
      }
     },
     "59a283f46e194c3f91ce84bc04fe7988": {
      "model_module": "@jupyter-widgets/controls",
      "model_module_version": "1.5.0",
      "model_name": "DescriptionStyleModel",
      "state": {
       "description_width": ""
      }
     },
     "59af8d213b65459f938ca0775fbb97f2": {
      "model_module": "@jupyter-widgets/base",
      "model_module_version": "1.2.0",
      "model_name": "LayoutModel",
      "state": {}
     },
     "59e5cf6227fa43bebce136b1c3fc7c63": {
      "model_module": "@jupyter-widgets/base",
      "model_module_version": "1.2.0",
      "model_name": "LayoutModel",
      "state": {}
     },
     "5a43f1cd61cb46768564d7ca00812617": {
      "model_module": "@jupyter-widgets/controls",
      "model_module_version": "1.5.0",
      "model_name": "FloatProgressModel",
      "state": {
       "layout": "IPY_MODEL_8b69306c6194418592ffcf845761248b",
       "max": 16,
       "style": "IPY_MODEL_8fe0371f73b64f4cab0b50f1258fea5d",
       "value": 16
      }
     },
     "5a4df22ac36446578cac8188721a1c47": {
      "model_module": "@jupyter-widgets/base",
      "model_module_version": "1.2.0",
      "model_name": "LayoutModel",
      "state": {
       "display": "inline-flex",
       "flex_flow": "row wrap",
       "width": "100%"
      }
     },
     "5a798ff80ed24c6f9892b55d1cb5f70b": {
      "model_module": "@jupyter-widgets/controls",
      "model_module_version": "1.5.0",
      "model_name": "HTMLModel",
      "state": {
       "layout": "IPY_MODEL_c7263badac5d4aaeaf24b6f375ecac3c",
       "style": "IPY_MODEL_4089ec39b8f346c78dad98a3e134fb79",
       "value": "Validation DataLoader 0: 100%"
      }
     },
     "5a7f2d79c8654e21ba778080d2cac81c": {
      "model_module": "@jupyter-widgets/controls",
      "model_module_version": "1.5.0",
      "model_name": "HTMLModel",
      "state": {
       "layout": "IPY_MODEL_bcb8931538104c8fabd49271c15779b4",
       "style": "IPY_MODEL_966cf6ef5fcc4d8388a8aa73c140fc0f",
       "value": " 65/77 [01:42&lt;00:18,  1.57s/it, loss=0.0277, v_num=H-75]"
      }
     },
     "5aa3d9bb3dec4aed8781646597f9eb59": {
      "model_module": "@jupyter-widgets/base",
      "model_module_version": "1.2.0",
      "model_name": "LayoutModel",
      "state": {
       "flex": "2"
      }
     },
     "5ac37b47cf0b4b0a979f14e4cefb88d9": {
      "model_module": "@jupyter-widgets/base",
      "model_module_version": "1.2.0",
      "model_name": "LayoutModel",
      "state": {
       "flex": "2"
      }
     },
     "5adeaa0f3ead4034ac827af0cc9bb3cf": {
      "model_module": "@jupyter-widgets/controls",
      "model_module_version": "1.5.0",
      "model_name": "HTMLModel",
      "state": {
       "layout": "IPY_MODEL_48b1e80f829d49c4a70b1c52f721b51c",
       "style": "IPY_MODEL_a25721b36ebe42cc9be9e77ffac808fc",
       "value": " 16/16 [00:09&lt;00:00,  1.52it/s]"
      }
     },
     "5b07f28ad680467fbf2adc703af6ff2d": {
      "model_module": "@jupyter-widgets/controls",
      "model_module_version": "1.5.0",
      "model_name": "DescriptionStyleModel",
      "state": {
       "description_width": ""
      }
     },
     "5b36c5fd442647a0ad034ffef93c04fd": {
      "model_module": "@jupyter-widgets/base",
      "model_module_version": "1.2.0",
      "model_name": "LayoutModel",
      "state": {}
     },
     "5b71119df10e45cca298babc54b4b7e9": {
      "model_module": "@jupyter-widgets/base",
      "model_module_version": "1.2.0",
      "model_name": "LayoutModel",
      "state": {}
     },
     "5b8939991af04a9090f735420a42b358": {
      "model_module": "@jupyter-widgets/controls",
      "model_module_version": "1.5.0",
      "model_name": "ProgressStyleModel",
      "state": {
       "description_width": ""
      }
     },
     "5b90c0f241f849a192f4533991c87303": {
      "model_module": "@jupyter-widgets/controls",
      "model_module_version": "1.5.0",
      "model_name": "ProgressStyleModel",
      "state": {
       "description_width": ""
      }
     },
     "5b9be3ae82f5450dbf0b14da76103e8d": {
      "model_module": "@jupyter-widgets/base",
      "model_module_version": "1.2.0",
      "model_name": "LayoutModel",
      "state": {}
     },
     "5baa4314c4f24462b49398a9846cb9fe": {
      "model_module": "@jupyter-widgets/controls",
      "model_module_version": "1.5.0",
      "model_name": "HTMLModel",
      "state": {
       "layout": "IPY_MODEL_2f4aa003ea934472a64af8223f5328d5",
       "style": "IPY_MODEL_28006453c28246639153baeaf04513cf",
       "value": " 16/16 [00:06&lt;00:00,  2.33it/s]"
      }
     },
     "5c1ff2c40cc14f69b65b8e51e62b769d": {
      "model_module": "@jupyter-widgets/base",
      "model_module_version": "1.2.0",
      "model_name": "LayoutModel",
      "state": {}
     },
     "5c4b0e7557774fc5b998eeec83eb273a": {
      "model_module": "@jupyter-widgets/base",
      "model_module_version": "1.2.0",
      "model_name": "LayoutModel",
      "state": {}
     },
     "5cb0c02a27954756890596c3ca3ab599": {
      "model_module": "@jupyter-widgets/base",
      "model_module_version": "1.2.0",
      "model_name": "LayoutModel",
      "state": {}
     },
     "5cb842a2faf54219a62ac17847513087": {
      "model_module": "@jupyter-widgets/base",
      "model_module_version": "1.2.0",
      "model_name": "LayoutModel",
      "state": {}
     },
     "5cc596bcccdb4e5ea6215f283357e737": {
      "model_module": "@jupyter-widgets/controls",
      "model_module_version": "1.5.0",
      "model_name": "DescriptionStyleModel",
      "state": {
       "description_width": ""
      }
     },
     "5ccd8681508e4c44acfcbf3291da1246": {
      "model_module": "@jupyter-widgets/base",
      "model_module_version": "1.2.0",
      "model_name": "LayoutModel",
      "state": {
       "display": "inline-flex",
       "flex_flow": "row wrap",
       "width": "100%"
      }
     },
     "5d368353afe2449d92ce4eedcf091291": {
      "model_module": "@jupyter-widgets/base",
      "model_module_version": "1.2.0",
      "model_name": "LayoutModel",
      "state": {}
     },
     "5d4b451ce6fb4138b47ae22e5527184e": {
      "model_module": "@jupyter-widgets/controls",
      "model_module_version": "1.5.0",
      "model_name": "FloatProgressModel",
      "state": {
       "layout": "IPY_MODEL_25c5ad1ce65a4ea5b506a6c29bb60584",
       "max": 16,
       "style": "IPY_MODEL_d8089c8f94034db8ae1db0170545bfc4",
       "value": 16
      }
     },
     "5d83030f5d594c3986cb6e27b64257bb": {
      "model_module": "@jupyter-widgets/controls",
      "model_module_version": "1.5.0",
      "model_name": "DescriptionStyleModel",
      "state": {
       "description_width": ""
      }
     },
     "5d92f05b354f40a0ad82e3c3904f5ce9": {
      "model_module": "@jupyter-widgets/controls",
      "model_module_version": "1.5.0",
      "model_name": "ProgressStyleModel",
      "state": {
       "description_width": ""
      }
     },
     "5db25fb7a93a4a1e9b4e6dbd435fb38b": {
      "model_module": "@jupyter-widgets/controls",
      "model_module_version": "1.5.0",
      "model_name": "HTMLModel",
      "state": {
       "layout": "IPY_MODEL_af18160fab114601b87d4a1b2de0f62c",
       "style": "IPY_MODEL_8d064122dcb44446842f50865813fc87",
       "value": " 16/16 [00:06&lt;00:00,  2.30it/s]"
      }
     },
     "5ddcb6d4ddec4915b3b53c4fdffcd356": {
      "model_module": "@jupyter-widgets/base",
      "model_module_version": "1.2.0",
      "model_name": "LayoutModel",
      "state": {}
     },
     "5e0d4f6dc7f546c7a1762cbaa3603ccb": {
      "model_module": "@jupyter-widgets/controls",
      "model_module_version": "1.5.0",
      "model_name": "DescriptionStyleModel",
      "state": {
       "description_width": ""
      }
     },
     "5e4b0244bba34534b36ace725cc0e15c": {
      "model_module": "@jupyter-widgets/controls",
      "model_module_version": "1.5.0",
      "model_name": "ProgressStyleModel",
      "state": {
       "description_width": ""
      }
     },
     "5e5a753a0c274680935b6c06c6bdba3d": {
      "model_module": "@jupyter-widgets/controls",
      "model_module_version": "1.5.0",
      "model_name": "DescriptionStyleModel",
      "state": {
       "description_width": ""
      }
     },
     "5e85350726a44e729b4f8fda96af77d6": {
      "model_module": "@jupyter-widgets/base",
      "model_module_version": "1.2.0",
      "model_name": "LayoutModel",
      "state": {}
     },
     "5e9ff7cf7e2f4288a77740932872be9e": {
      "model_module": "@jupyter-widgets/controls",
      "model_module_version": "1.5.0",
      "model_name": "FloatProgressModel",
      "state": {
       "layout": "IPY_MODEL_67b185cfd5c44705b562c0092e4dcbec",
       "max": 16,
       "style": "IPY_MODEL_b6aff1d586bb42b0a7bc6e531b1f68b3",
       "value": 16
      }
     },
     "5eca76ee4de347ce84b27d42269afed6": {
      "model_module": "@jupyter-widgets/controls",
      "model_module_version": "1.5.0",
      "model_name": "DescriptionStyleModel",
      "state": {
       "description_width": ""
      }
     },
     "5f13276906f14adc846fc6cfa61579c2": {
      "model_module": "@jupyter-widgets/controls",
      "model_module_version": "1.5.0",
      "model_name": "HTMLModel",
      "state": {
       "layout": "IPY_MODEL_054de5e8e07b4062ac144d9ee171d228",
       "style": "IPY_MODEL_fb7c4460a88a4faba4a697cc815b0bba",
       "value": "Validation DataLoader 0: 100%"
      }
     },
     "5f69d7d0cd094a4ba0a22f98bb2f37fd": {
      "model_module": "@jupyter-widgets/base",
      "model_module_version": "1.2.0",
      "model_name": "LayoutModel",
      "state": {
       "display": "inline-flex",
       "flex_flow": "row wrap",
       "width": "100%"
      }
     },
     "5f9bb8c1d38f4eab932d6acdb70e84cc": {
      "model_module": "@jupyter-widgets/controls",
      "model_module_version": "1.5.0",
      "model_name": "DescriptionStyleModel",
      "state": {
       "description_width": ""
      }
     },
     "5fbb3f2aa3cb42a58bc3856bc76e906c": {
      "model_module": "@jupyter-widgets/base",
      "model_module_version": "1.2.0",
      "model_name": "LayoutModel",
      "state": {}
     },
     "5fcce698daf54b61b1e6ad0f6a0a4d9e": {
      "model_module": "@jupyter-widgets/base",
      "model_module_version": "1.2.0",
      "model_name": "LayoutModel",
      "state": {
       "flex": "2"
      }
     },
     "600f3a8ff80241e786237c6a7152d9ad": {
      "model_module": "@jupyter-widgets/base",
      "model_module_version": "1.2.0",
      "model_name": "LayoutModel",
      "state": {
       "flex": "2"
      }
     },
     "6010d8de89764380a85c7a3e49d9509b": {
      "model_module": "@jupyter-widgets/base",
      "model_module_version": "1.2.0",
      "model_name": "LayoutModel",
      "state": {}
     },
     "6010e9df02704b63bcec39dd1968cd03": {
      "model_module": "@jupyter-widgets/controls",
      "model_module_version": "1.5.0",
      "model_name": "DescriptionStyleModel",
      "state": {
       "description_width": ""
      }
     },
     "602da6fcf2fa47719860131fe0a27916": {
      "model_module": "@jupyter-widgets/controls",
      "model_module_version": "1.5.0",
      "model_name": "HTMLModel",
      "state": {
       "layout": "IPY_MODEL_ae7ae002fb034f5284dfdbdf17e463cb",
       "style": "IPY_MODEL_fdd662f5ec6447adaadbdc92873a982b",
       "value": "Validation DataLoader 0: 100%"
      }
     },
     "604df6ad792846ecafd316a83a0d6ebf": {
      "model_module": "@jupyter-widgets/controls",
      "model_module_version": "1.5.0",
      "model_name": "FloatProgressModel",
      "state": {
       "layout": "IPY_MODEL_9585eaf8b0f54ef58587d54f26c0b630",
       "max": 16,
       "style": "IPY_MODEL_d1c8a71123724471b80ab313cad72e1e",
       "value": 16
      }
     },
     "605a779850f5435abac5fd995fab1a32": {
      "model_module": "@jupyter-widgets/controls",
      "model_module_version": "1.5.0",
      "model_name": "ProgressStyleModel",
      "state": {
       "description_width": ""
      }
     },
     "60a6d40e61fa40c4b05bc8ae29299267": {
      "model_module": "@jupyter-widgets/base",
      "model_module_version": "1.2.0",
      "model_name": "LayoutModel",
      "state": {}
     },
     "60aacfda423048a48fff13779afd2ba3": {
      "model_module": "@jupyter-widgets/base",
      "model_module_version": "1.2.0",
      "model_name": "LayoutModel",
      "state": {
       "flex": "2"
      }
     },
     "60ac9123fc124db69685e89e4abe9dd5": {
      "model_module": "@jupyter-widgets/controls",
      "model_module_version": "1.5.0",
      "model_name": "HTMLModel",
      "state": {
       "layout": "IPY_MODEL_132e63b36ccc45af8b71644e1b1c687b",
       "style": "IPY_MODEL_86945d48b3544e8cb0b5ac2f5b2507bb",
       "value": " 16/16 [00:03&lt;00:00,  3.92it/s]"
      }
     },
     "60d2efc93ed647d6afb5773664f7673e": {
      "model_module": "@jupyter-widgets/base",
      "model_module_version": "1.2.0",
      "model_name": "LayoutModel",
      "state": {}
     },
     "60f23d14480d4f26bda4322c021f047e": {
      "model_module": "@jupyter-widgets/controls",
      "model_module_version": "1.5.0",
      "model_name": "FloatProgressModel",
      "state": {
       "layout": "IPY_MODEL_bb31068c2d3f44cc838361321faf23c3",
       "max": 16,
       "style": "IPY_MODEL_67588402a5da42c6b7d158dad7560070",
       "value": 16
      }
     },
     "61343e0207d5436c8f74bdbf46e52ac8": {
      "model_module": "@jupyter-widgets/base",
      "model_module_version": "1.2.0",
      "model_name": "LayoutModel",
      "state": {
       "flex": "2"
      }
     },
     "6134aeb96daf41de8ade775db1e4bb63": {
      "model_module": "@jupyter-widgets/controls",
      "model_module_version": "1.5.0",
      "model_name": "HTMLModel",
      "state": {
       "layout": "IPY_MODEL_8820fb4be6ab4d8a830a59a6548904a1",
       "style": "IPY_MODEL_f1bc8851e1b8405287842269d3052f37",
       "value": " 16/16 [00:06&lt;00:00,  2.42it/s]"
      }
     },
     "61449d1939774863970d305785d10fac": {
      "model_module": "@jupyter-widgets/controls",
      "model_module_version": "1.5.0",
      "model_name": "HTMLModel",
      "state": {
       "layout": "IPY_MODEL_8f4b2dba5e624195b40dbb8b8ebb6811",
       "style": "IPY_MODEL_004d1123256e449891e7194a63c464b9",
       "value": " 16/16 [00:10&lt;00:00,  1.52it/s]"
      }
     },
     "614a0808d181441db53d6812ac7c826c": {
      "model_module": "@jupyter-widgets/base",
      "model_module_version": "1.2.0",
      "model_name": "LayoutModel",
      "state": {}
     },
     "617763e0830c4aa284f1938fcfdefd01": {
      "model_module": "@jupyter-widgets/controls",
      "model_module_version": "1.5.0",
      "model_name": "ProgressStyleModel",
      "state": {
       "description_width": ""
      }
     },
     "61781c5308e5419390e1e58cab032c6e": {
      "model_module": "@jupyter-widgets/base",
      "model_module_version": "1.2.0",
      "model_name": "LayoutModel",
      "state": {}
     },
     "61c7b5116e8f47b392dd0898b3e05cd1": {
      "model_module": "@jupyter-widgets/controls",
      "model_module_version": "1.5.0",
      "model_name": "HTMLModel",
      "state": {
       "layout": "IPY_MODEL_7c12c5e522af439ca98728ab8c025f13",
       "style": "IPY_MODEL_16cbb6c7eb14417bbda1869f8123cbcf",
       "value": " 16/16 [00:06&lt;00:00,  2.26it/s]"
      }
     },
     "61d7552809da4d5a8f9f7edc78b5c5be": {
      "model_module": "@jupyter-widgets/controls",
      "model_module_version": "1.5.0",
      "model_name": "ProgressStyleModel",
      "state": {
       "description_width": ""
      }
     },
     "61e5ca620fdb484a9bbf6e67cb83e10d": {
      "model_module": "@jupyter-widgets/controls",
      "model_module_version": "1.5.0",
      "model_name": "HTMLModel",
      "state": {
       "layout": "IPY_MODEL_af963f7d68a147fea7a4cf90c1230020",
       "style": "IPY_MODEL_81478f715d364c60a13adfdc4622f7cf",
       "value": "Validation DataLoader 0: 100%"
      }
     },
     "61e66211c4e445d19d848f462584fe9c": {
      "model_module": "@jupyter-widgets/controls",
      "model_module_version": "1.5.0",
      "model_name": "FloatProgressModel",
      "state": {
       "layout": "IPY_MODEL_c99a5dd7c7d14b7ca7316f48b30545a0",
       "max": 16,
       "style": "IPY_MODEL_a076f55805fc4c8ba460eb76e11c07ad",
       "value": 16
      }
     },
     "61f99c9a6eb640d6a4290790eccb1728": {
      "model_module": "@jupyter-widgets/base",
      "model_module_version": "1.2.0",
      "model_name": "LayoutModel",
      "state": {}
     },
     "61f9fcec6bea4276804c1563fd013baf": {
      "model_module": "@jupyter-widgets/controls",
      "model_module_version": "1.5.0",
      "model_name": "DescriptionStyleModel",
      "state": {
       "description_width": ""
      }
     },
     "6246300fe699449e911a6acb63537c50": {
      "model_module": "@jupyter-widgets/base",
      "model_module_version": "1.2.0",
      "model_name": "LayoutModel",
      "state": {
       "display": "inline-flex",
       "flex_flow": "row wrap",
       "width": "100%"
      }
     },
     "62477102139f4d62893e8bc10c83968f": {
      "model_module": "@jupyter-widgets/controls",
      "model_module_version": "1.5.0",
      "model_name": "FloatProgressModel",
      "state": {
       "layout": "IPY_MODEL_ead3ed5230e44f5ba5f894b49d633ffe",
       "max": 16,
       "style": "IPY_MODEL_3b27a96765de46259c8e9c1e611369d9",
       "value": 16
      }
     },
     "6249116ccf7b47efa9a32846687ee4db": {
      "model_module": "@jupyter-widgets/controls",
      "model_module_version": "1.5.0",
      "model_name": "DescriptionStyleModel",
      "state": {
       "description_width": ""
      }
     },
     "624c9c6a3c33424db94f4a08113cbb3b": {
      "model_module": "@jupyter-widgets/controls",
      "model_module_version": "1.5.0",
      "model_name": "ProgressStyleModel",
      "state": {
       "description_width": ""
      }
     },
     "625694a78b024ddf83a726a8be482f6b": {
      "model_module": "@jupyter-widgets/base",
      "model_module_version": "1.2.0",
      "model_name": "LayoutModel",
      "state": {}
     },
     "6262083009e64997bb874806cb8d5ff1": {
      "model_module": "@jupyter-widgets/base",
      "model_module_version": "1.2.0",
      "model_name": "LayoutModel",
      "state": {}
     },
     "6266c39cd8d449e6b2c79c7f185507e6": {
      "model_module": "@jupyter-widgets/controls",
      "model_module_version": "1.5.0",
      "model_name": "DescriptionStyleModel",
      "state": {
       "description_width": ""
      }
     },
     "62857e6d2a5349e9b65387bb3c5e03d5": {
      "model_module": "@jupyter-widgets/controls",
      "model_module_version": "1.5.0",
      "model_name": "ProgressStyleModel",
      "state": {
       "description_width": ""
      }
     },
     "629b7b1a3ee846d693758d41f119a072": {
      "model_module": "@jupyter-widgets/controls",
      "model_module_version": "1.5.0",
      "model_name": "DescriptionStyleModel",
      "state": {
       "description_width": ""
      }
     },
     "6310b72e0e374020b82b732dc56e27c0": {
      "model_module": "@jupyter-widgets/controls",
      "model_module_version": "1.5.0",
      "model_name": "FloatProgressModel",
      "state": {
       "layout": "IPY_MODEL_401ee5b2562f4fed8a55aeade492318b",
       "max": 16,
       "style": "IPY_MODEL_0843cc35e7f648d6bb6a5bd9f64807e2",
       "value": 16
      }
     },
     "63297f7c8ea54c1c9363927947178914": {
      "model_module": "@jupyter-widgets/base",
      "model_module_version": "1.2.0",
      "model_name": "LayoutModel",
      "state": {
       "display": "inline-flex",
       "flex_flow": "row wrap",
       "width": "100%"
      }
     },
     "632f6b92cb9d4cd3ab571a492af7825d": {
      "model_module": "@jupyter-widgets/controls",
      "model_module_version": "1.5.0",
      "model_name": "FloatProgressModel",
      "state": {
       "layout": "IPY_MODEL_21eda468262a473ebab800289d9d72d9",
       "max": 16,
       "style": "IPY_MODEL_19a481cbd08b40b2a16855c18fe649e4",
       "value": 16
      }
     },
     "6336eed810354603b14aa205d7818c83": {
      "model_module": "@jupyter-widgets/base",
      "model_module_version": "1.2.0",
      "model_name": "LayoutModel",
      "state": {
       "flex": "2"
      }
     },
     "633fc947656444b380e12c54b4faa444": {
      "model_module": "@jupyter-widgets/controls",
      "model_module_version": "1.5.0",
      "model_name": "DescriptionStyleModel",
      "state": {
       "description_width": ""
      }
     },
     "634e7e9d8b694bcd9de6eb78abdc4835": {
      "model_module": "@jupyter-widgets/controls",
      "model_module_version": "1.5.0",
      "model_name": "DescriptionStyleModel",
      "state": {
       "description_width": ""
      }
     },
     "635d9648ff854b5496b2242da58d5e29": {
      "model_module": "@jupyter-widgets/controls",
      "model_module_version": "1.5.0",
      "model_name": "FloatProgressModel",
      "state": {
       "layout": "IPY_MODEL_02e248d073eb4427b9c1c2b7776646be",
       "max": 16,
       "style": "IPY_MODEL_1500a58d773b49708f75d296a11a2814",
       "value": 16
      }
     },
     "63606a84a19a4daa93d8e10478e66916": {
      "model_module": "@jupyter-widgets/controls",
      "model_module_version": "1.5.0",
      "model_name": "HTMLModel",
      "state": {
       "layout": "IPY_MODEL_647442151dab4384b0d6ffb3dc2bc182",
       "style": "IPY_MODEL_beee1f95d2d345e8a75d5de6b961f12c",
       "value": " 16/16 [00:04&lt;00:00,  3.77it/s]"
      }
     },
     "636cbb1720694e7f9696203ed89a3b89": {
      "model_module": "@jupyter-widgets/controls",
      "model_module_version": "1.5.0",
      "model_name": "ProgressStyleModel",
      "state": {
       "description_width": ""
      }
     },
     "638c30a8fe8640e6a07bf85be4943c82": {
      "model_module": "@jupyter-widgets/base",
      "model_module_version": "1.2.0",
      "model_name": "LayoutModel",
      "state": {}
     },
     "638cb5442ac146988f19d104acf51ad4": {
      "model_module": "@jupyter-widgets/controls",
      "model_module_version": "1.5.0",
      "model_name": "HTMLModel",
      "state": {
       "layout": "IPY_MODEL_30992693b9924fcdb1cf552cb09ad3bb",
       "style": "IPY_MODEL_38a92637b84a4b688253cc0d9bfa9018",
       "value": " 16/16 [00:07&lt;00:00,  2.24it/s]"
      }
     },
     "63906f77e7d042889c770fd480e7aa79": {
      "model_module": "@jupyter-widgets/controls",
      "model_module_version": "1.5.0",
      "model_name": "HTMLModel",
      "state": {
       "layout": "IPY_MODEL_58063dd636f04611b9813cf2050034cb",
       "style": "IPY_MODEL_dd96a6ac95cd4748b1132e021d47bc0c",
       "value": " 16/16 [00:01&lt;00:00,  8.37it/s]"
      }
     },
     "63a7d1dfb4ba400abc1e9c351ed4d8b0": {
      "model_module": "@jupyter-widgets/base",
      "model_module_version": "1.2.0",
      "model_name": "LayoutModel",
      "state": {
       "flex": "2"
      }
     },
     "63c36c36fb044c9aa879490a34867fc1": {
      "model_module": "@jupyter-widgets/base",
      "model_module_version": "1.2.0",
      "model_name": "LayoutModel",
      "state": {
       "flex": "2"
      }
     },
     "641195006cdb46c99b83fefddbb49df8": {
      "model_module": "@jupyter-widgets/controls",
      "model_module_version": "1.5.0",
      "model_name": "ProgressStyleModel",
      "state": {
       "description_width": ""
      }
     },
     "642375e48cb44e8a88a979b5211426a3": {
      "model_module": "@jupyter-widgets/controls",
      "model_module_version": "1.5.0",
      "model_name": "HTMLModel",
      "state": {
       "layout": "IPY_MODEL_203f3631ab7746cab5b3a5fefb9f50f5",
       "style": "IPY_MODEL_b6ffa381a47441ee901ae262f7ee807b",
       "value": "Sanity Checking DataLoader 0: 100%"
      }
     },
     "644c3dc9694941008f52e5d8a444148b": {
      "model_module": "@jupyter-widgets/base",
      "model_module_version": "1.2.0",
      "model_name": "LayoutModel",
      "state": {}
     },
     "646da71e8d4c4632af1b8da97e65cf9a": {
      "model_module": "@jupyter-widgets/base",
      "model_module_version": "1.2.0",
      "model_name": "LayoutModel",
      "state": {}
     },
     "647442151dab4384b0d6ffb3dc2bc182": {
      "model_module": "@jupyter-widgets/base",
      "model_module_version": "1.2.0",
      "model_name": "LayoutModel",
      "state": {}
     },
     "64b1364ba87e4070ba1a5ca4e813670f": {
      "model_module": "@jupyter-widgets/controls",
      "model_module_version": "1.5.0",
      "model_name": "FloatProgressModel",
      "state": {
       "layout": "IPY_MODEL_aaafd89e4d994519b16fb1ed1289d725",
       "max": 16,
       "style": "IPY_MODEL_62857e6d2a5349e9b65387bb3c5e03d5",
       "value": 16
      }
     },
     "64b507c88a2a41a8b7389100253b8781": {
      "model_module": "@jupyter-widgets/controls",
      "model_module_version": "1.5.0",
      "model_name": "ProgressStyleModel",
      "state": {
       "description_width": ""
      }
     },
     "64d4dd9e4c3249e8b8e56e81386ad12c": {
      "model_module": "@jupyter-widgets/base",
      "model_module_version": "1.2.0",
      "model_name": "LayoutModel",
      "state": {
       "flex": "2"
      }
     },
     "64d748ae076b47b6b02e34d3e7d4c827": {
      "model_module": "@jupyter-widgets/base",
      "model_module_version": "1.2.0",
      "model_name": "LayoutModel",
      "state": {
       "display": "inline-flex",
       "flex_flow": "row wrap",
       "width": "100%"
      }
     },
     "64fdf76b99584d57b18877d27d47603b": {
      "model_module": "@jupyter-widgets/controls",
      "model_module_version": "1.5.0",
      "model_name": "DescriptionStyleModel",
      "state": {
       "description_width": ""
      }
     },
     "65493d06021843779e409e7eb19eb93a": {
      "model_module": "@jupyter-widgets/controls",
      "model_module_version": "1.5.0",
      "model_name": "ProgressStyleModel",
      "state": {
       "description_width": ""
      }
     },
     "6553d93e1f084a11948464bf4a4b585b": {
      "model_module": "@jupyter-widgets/controls",
      "model_module_version": "1.5.0",
      "model_name": "ProgressStyleModel",
      "state": {
       "description_width": ""
      }
     },
     "65782eb82ee54fcf976a6f4681c713fc": {
      "model_module": "@jupyter-widgets/controls",
      "model_module_version": "1.5.0",
      "model_name": "HTMLModel",
      "state": {
       "layout": "IPY_MODEL_195e50a3733a4c80b4326dee7ee17ee8",
       "style": "IPY_MODEL_121038186ccc4af180d6c1b1c9d5abcd",
       "value": "Validation DataLoader 0: 100%"
      }
     },
     "65794f5d1c1643e0b9cef5672468bad7": {
      "model_module": "@jupyter-widgets/controls",
      "model_module_version": "1.5.0",
      "model_name": "FloatProgressModel",
      "state": {
       "layout": "IPY_MODEL_755e46f8aa7f4144afb935ffea1d83d0",
       "max": 16,
       "style": "IPY_MODEL_5b90c0f241f849a192f4533991c87303",
       "value": 16
      }
     },
     "65cb4c268c664ed7bbb9dc568e86fc43": {
      "model_module": "@jupyter-widgets/base",
      "model_module_version": "1.2.0",
      "model_name": "LayoutModel",
      "state": {
       "flex": "2"
      }
     },
     "65d0232d607b4b03beddec0be7323d11": {
      "model_module": "@jupyter-widgets/controls",
      "model_module_version": "1.5.0",
      "model_name": "HTMLModel",
      "state": {
       "layout": "IPY_MODEL_ebbde6da2ead45c1994ec7833598d508",
       "style": "IPY_MODEL_8a41bad632714e1ea02c7d21f792998a",
       "value": "Validation DataLoader 0: 100%"
      }
     },
     "65ffbd0002eb47f6a2308e6e3c5a064c": {
      "model_module": "@jupyter-widgets/controls",
      "model_module_version": "1.5.0",
      "model_name": "ProgressStyleModel",
      "state": {
       "description_width": ""
      }
     },
     "6604bf510112450490060c9fd3f09ffa": {
      "model_module": "@jupyter-widgets/base",
      "model_module_version": "1.2.0",
      "model_name": "LayoutModel",
      "state": {
       "flex": "2"
      }
     },
     "6613bede3cda4fc5bd2404137e3c9441": {
      "model_module": "@jupyter-widgets/base",
      "model_module_version": "1.2.0",
      "model_name": "LayoutModel",
      "state": {
       "flex": "2"
      }
     },
     "6614261d07f7445e82c084af62b9514a": {
      "model_module": "@jupyter-widgets/base",
      "model_module_version": "1.2.0",
      "model_name": "LayoutModel",
      "state": {}
     },
     "663a6a3b18b74cb18cf104b6ecbc6824": {
      "model_module": "@jupyter-widgets/controls",
      "model_module_version": "1.5.0",
      "model_name": "FloatProgressModel",
      "state": {
       "layout": "IPY_MODEL_09054adf1329473aad63183e332099d4",
       "max": 16,
       "style": "IPY_MODEL_861cd5054ec34ab1b93db48df618c028",
       "value": 16
      }
     },
     "664e64b2be0d4983b68d17c99cbc680a": {
      "model_module": "@jupyter-widgets/controls",
      "model_module_version": "1.5.0",
      "model_name": "FloatProgressModel",
      "state": {
       "bar_style": "success",
       "layout": "IPY_MODEL_89aecef53a3e442cb28a79eba59e12a2",
       "max": 77,
       "style": "IPY_MODEL_78ba9a3a187740bcbb1155c39fa71d68",
       "value": 77
      }
     },
     "667d89eb502d4a6b80937a180b5b7530": {
      "model_module": "@jupyter-widgets/controls",
      "model_module_version": "1.5.0",
      "model_name": "HTMLModel",
      "state": {
       "layout": "IPY_MODEL_aae2be3ed15243c7819c4d0edf74d93f",
       "style": "IPY_MODEL_b7e3d9affe064e208881b1794c3422c0",
       "value": " 16/16 [00:04&lt;00:00,  2.85it/s]"
      }
     },
     "668343c1ebe7470cb903c4a1551ccfec": {
      "model_module": "@jupyter-widgets/base",
      "model_module_version": "1.2.0",
      "model_name": "LayoutModel",
      "state": {
       "display": "inline-flex",
       "flex_flow": "row wrap",
       "width": "100%"
      }
     },
     "668c83e1627d4254b0a85e57b481624b": {
      "model_module": "@jupyter-widgets/controls",
      "model_module_version": "1.5.0",
      "model_name": "HTMLModel",
      "state": {
       "layout": "IPY_MODEL_10599808e40d4abfad11b24db5c9e190",
       "style": "IPY_MODEL_5f9bb8c1d38f4eab932d6acdb70e84cc",
       "value": "Validation DataLoader 0: 100%"
      }
     },
     "669a332051d04d68802168dec4136758": {
      "model_module": "@jupyter-widgets/controls",
      "model_module_version": "1.5.0",
      "model_name": "FloatProgressModel",
      "state": {
       "layout": "IPY_MODEL_f7419abb43834d3783610da2dfc14d03",
       "max": 16,
       "style": "IPY_MODEL_a805ba07df204f23917c10c3b15eb7bf",
       "value": 16
      }
     },
     "66c3952ed51a436c9f1908dbddb8369c": {
      "model_module": "@jupyter-widgets/controls",
      "model_module_version": "1.5.0",
      "model_name": "DescriptionStyleModel",
      "state": {
       "description_width": ""
      }
     },
     "66de4f6de7684b86b07ddf73d902ee07": {
      "model_module": "@jupyter-widgets/base",
      "model_module_version": "1.2.0",
      "model_name": "LayoutModel",
      "state": {
       "display": "inline-flex",
       "flex_flow": "row wrap",
       "width": "100%"
      }
     },
     "66e37af376e6472b9955045236978c47": {
      "model_module": "@jupyter-widgets/base",
      "model_module_version": "1.2.0",
      "model_name": "LayoutModel",
      "state": {
       "flex": "2"
      }
     },
     "66fb3fb12ebe4fa28d345949a5fa3b0a": {
      "model_module": "@jupyter-widgets/controls",
      "model_module_version": "1.5.0",
      "model_name": "FloatProgressModel",
      "state": {
       "layout": "IPY_MODEL_0808930426364d54bcfdd814449a55c8",
       "max": 16,
       "style": "IPY_MODEL_c3930c51d9ff4874a9bab9ef1753987f",
       "value": 16
      }
     },
     "66fd0958d4114ff4b3524339efb2083a": {
      "model_module": "@jupyter-widgets/controls",
      "model_module_version": "1.5.0",
      "model_name": "DescriptionStyleModel",
      "state": {
       "description_width": ""
      }
     },
     "671e69d4cbfc4203aba530946c5db62a": {
      "model_module": "@jupyter-widgets/base",
      "model_module_version": "1.2.0",
      "model_name": "LayoutModel",
      "state": {
       "display": "inline-flex",
       "flex_flow": "row wrap",
       "width": "100%"
      }
     },
     "6735ee2ec37d4d08ac621089bdaf5576": {
      "model_module": "@jupyter-widgets/controls",
      "model_module_version": "1.5.0",
      "model_name": "ProgressStyleModel",
      "state": {
       "description_width": ""
      }
     },
     "67588402a5da42c6b7d158dad7560070": {
      "model_module": "@jupyter-widgets/controls",
      "model_module_version": "1.5.0",
      "model_name": "ProgressStyleModel",
      "state": {
       "description_width": ""
      }
     },
     "67b185cfd5c44705b562c0092e4dcbec": {
      "model_module": "@jupyter-widgets/base",
      "model_module_version": "1.2.0",
      "model_name": "LayoutModel",
      "state": {
       "flex": "2"
      }
     },
     "67e178f7687f4890824d68f06a9eafee": {
      "model_module": "@jupyter-widgets/base",
      "model_module_version": "1.2.0",
      "model_name": "LayoutModel",
      "state": {}
     },
     "68001308004541b19f95e10b40b0de04": {
      "model_module": "@jupyter-widgets/controls",
      "model_module_version": "1.5.0",
      "model_name": "FloatProgressModel",
      "state": {
       "layout": "IPY_MODEL_dcfa4ed52e134a32bd04ebde34afd2f9",
       "max": 16,
       "style": "IPY_MODEL_b3b02dac83ec4f3ab4c4d6a3b613c1e8",
       "value": 16
      }
     },
     "68156a7afa3a494fa7c3112726d4bab6": {
      "model_module": "@jupyter-widgets/controls",
      "model_module_version": "1.5.0",
      "model_name": "DescriptionStyleModel",
      "state": {
       "description_width": ""
      }
     },
     "6829fadaf6c7421294afbbdfe3f484dc": {
      "model_module": "@jupyter-widgets/controls",
      "model_module_version": "1.5.0",
      "model_name": "DescriptionStyleModel",
      "state": {
       "description_width": ""
      }
     },
     "6835b50a1f81492f897a737fd65c3dd6": {
      "model_module": "@jupyter-widgets/controls",
      "model_module_version": "1.5.0",
      "model_name": "HTMLModel",
      "state": {
       "layout": "IPY_MODEL_73d0828bc798477fb1b8d00a74561876",
       "style": "IPY_MODEL_3dffe56aafcd4a8282408aca62cf72e2",
       "value": "Validation DataLoader 0: 100%"
      }
     },
     "68563a6fb78949359729b1c37085e5b2": {
      "model_module": "@jupyter-widgets/controls",
      "model_module_version": "1.5.0",
      "model_name": "HTMLModel",
      "state": {
       "layout": "IPY_MODEL_7825ae59f141445797fd6bb019574964",
       "style": "IPY_MODEL_9fb8c4bbdf1749799b198dc67e15c2fa",
       "value": " 16/16 [00:06&lt;00:00,  1.98it/s]"
      }
     },
     "6858d4a9f5364d66a9a416a56e0716a7": {
      "model_module": "@jupyter-widgets/controls",
      "model_module_version": "1.5.0",
      "model_name": "HTMLModel",
      "state": {
       "layout": "IPY_MODEL_1396aba109c74678b4afde8a7451fb75",
       "style": "IPY_MODEL_e422176f96b941dcb938f7f63786eb2b",
       "value": " 16/16 [00:03&lt;00:00,  3.75it/s]"
      }
     },
     "6860ee11dbf34d8cb4edca64ee336f9d": {
      "model_module": "@jupyter-widgets/controls",
      "model_module_version": "1.5.0",
      "model_name": "DescriptionStyleModel",
      "state": {
       "description_width": ""
      }
     },
     "687c8955a8874a18adfeb6e36dda3473": {
      "model_module": "@jupyter-widgets/controls",
      "model_module_version": "1.5.0",
      "model_name": "DescriptionStyleModel",
      "state": {
       "description_width": ""
      }
     },
     "689efd88e0934a5f8841fd0e79f0d539": {
      "model_module": "@jupyter-widgets/base",
      "model_module_version": "1.2.0",
      "model_name": "LayoutModel",
      "state": {
       "display": "inline-flex",
       "flex_flow": "row wrap",
       "width": "100%"
      }
     },
     "68c38d9106994c1f8099a59609797a72": {
      "model_module": "@jupyter-widgets/controls",
      "model_module_version": "1.5.0",
      "model_name": "FloatProgressModel",
      "state": {
       "layout": "IPY_MODEL_842a54da72284df1a44d12a072c66931",
       "max": 16,
       "style": "IPY_MODEL_3c14770372914b578b4a6688ebaa22c0",
       "value": 16
      }
     },
     "68ea6dc314b74da7b5a4a7f3500691db": {
      "model_module": "@jupyter-widgets/base",
      "model_module_version": "1.2.0",
      "model_name": "LayoutModel",
      "state": {
       "display": "inline-flex",
       "flex_flow": "row wrap",
       "width": "100%"
      }
     },
     "690b3ac188f94a4db85e9962dfe1049b": {
      "model_module": "@jupyter-widgets/controls",
      "model_module_version": "1.5.0",
      "model_name": "FloatProgressModel",
      "state": {
       "layout": "IPY_MODEL_6e19908828624349bed4f68e10c32e5d",
       "max": 16,
       "style": "IPY_MODEL_2ed9ba1ab9864b509eb0091695bcaf64",
       "value": 16
      }
     },
     "6930da12175045cfb291fd04ea2e4141": {
      "model_module": "@jupyter-widgets/controls",
      "model_module_version": "1.5.0",
      "model_name": "DescriptionStyleModel",
      "state": {
       "description_width": ""
      }
     },
     "6956e84c48df4f3b96fed2c45130ca1f": {
      "model_module": "@jupyter-widgets/base",
      "model_module_version": "1.2.0",
      "model_name": "LayoutModel",
      "state": {
       "display": "inline-flex",
       "flex_flow": "row wrap",
       "width": "100%"
      }
     },
     "695e5c3f1e304e2f9be4e1f94e47ca7c": {
      "model_module": "@jupyter-widgets/controls",
      "model_module_version": "1.5.0",
      "model_name": "HTMLModel",
      "state": {
       "layout": "IPY_MODEL_cdf7f8281fc6443cae55a64f23ae1df3",
       "style": "IPY_MODEL_8644b04135af4e96b7e14cd13307533e",
       "value": "Validation DataLoader 0: 100%"
      }
     },
     "69651bef9e85477db0bf8229dd353dbe": {
      "model_module": "@jupyter-widgets/controls",
      "model_module_version": "1.5.0",
      "model_name": "ProgressStyleModel",
      "state": {
       "description_width": ""
      }
     },
     "699d64dc0cbe420abfbc6c79850052c8": {
      "model_module": "@jupyter-widgets/base",
      "model_module_version": "1.2.0",
      "model_name": "LayoutModel",
      "state": {
       "display": "inline-flex",
       "flex_flow": "row wrap",
       "width": "100%"
      }
     },
     "699e98f9d8cb4fa5b55bcc84d7345252": {
      "model_module": "@jupyter-widgets/controls",
      "model_module_version": "1.5.0",
      "model_name": "DescriptionStyleModel",
      "state": {
       "description_width": ""
      }
     },
     "69a5d63baca14a34950d5b665d4c91af": {
      "model_module": "@jupyter-widgets/controls",
      "model_module_version": "1.5.0",
      "model_name": "DescriptionStyleModel",
      "state": {
       "description_width": ""
      }
     },
     "69c46e926eec4068b6ae7eef9346b876": {
      "model_module": "@jupyter-widgets/base",
      "model_module_version": "1.2.0",
      "model_name": "LayoutModel",
      "state": {}
     },
     "69c548fca08e4676b1893b65df2525af": {
      "model_module": "@jupyter-widgets/base",
      "model_module_version": "1.2.0",
      "model_name": "LayoutModel",
      "state": {
       "display": "inline-flex",
       "flex_flow": "row wrap",
       "width": "100%"
      }
     },
     "69d38d94e9664331a5571e17679045b8": {
      "model_module": "@jupyter-widgets/base",
      "model_module_version": "1.2.0",
      "model_name": "LayoutModel",
      "state": {}
     },
     "6a0f5f75a4db4329a9490aa7938721ec": {
      "model_module": "@jupyter-widgets/controls",
      "model_module_version": "1.5.0",
      "model_name": "DescriptionStyleModel",
      "state": {
       "description_width": ""
      }
     },
     "6a7bc42f19904c95a798ea6fcd99efec": {
      "model_module": "@jupyter-widgets/controls",
      "model_module_version": "1.5.0",
      "model_name": "DescriptionStyleModel",
      "state": {
       "description_width": ""
      }
     },
     "6a8c35030f0a493ab5dd5515123d3382": {
      "model_module": "@jupyter-widgets/controls",
      "model_module_version": "1.5.0",
      "model_name": "HTMLModel",
      "state": {
       "layout": "IPY_MODEL_d8779fc5355c4eb49abded1966a6ba4b",
       "style": "IPY_MODEL_9a5575eb8ee940479fb965f011b1b046",
       "value": "Validation DataLoader 0: 100%"
      }
     },
     "6aaaa3600dbd4617bc595e6bc2edda5a": {
      "model_module": "@jupyter-widgets/controls",
      "model_module_version": "1.5.0",
      "model_name": "DescriptionStyleModel",
      "state": {
       "description_width": ""
      }
     },
     "6ab8c851b8304e8ab7274b3bebf6f026": {
      "model_module": "@jupyter-widgets/controls",
      "model_module_version": "1.5.0",
      "model_name": "ProgressStyleModel",
      "state": {
       "description_width": ""
      }
     },
     "6acb96c32bad42c5bf1ad00bba66d78c": {
      "model_module": "@jupyter-widgets/base",
      "model_module_version": "1.2.0",
      "model_name": "LayoutModel",
      "state": {}
     },
     "6af684d174ca4157b64e976e446d0c0d": {
      "model_module": "@jupyter-widgets/base",
      "model_module_version": "1.2.0",
      "model_name": "LayoutModel",
      "state": {}
     },
     "6b2bfbac5aeb41c1816dea4ea28e588b": {
      "model_module": "@jupyter-widgets/base",
      "model_module_version": "1.2.0",
      "model_name": "LayoutModel",
      "state": {
       "flex": "2"
      }
     },
     "6b475c27af8842c09abeac7c70cbdebe": {
      "model_module": "@jupyter-widgets/controls",
      "model_module_version": "1.5.0",
      "model_name": "ProgressStyleModel",
      "state": {
       "description_width": ""
      }
     },
     "6b62319a7a47494ebd4b07611a3d75b2": {
      "model_module": "@jupyter-widgets/base",
      "model_module_version": "1.2.0",
      "model_name": "LayoutModel",
      "state": {
       "flex": "2"
      }
     },
     "6b90d9de5a064c7bb61d88200a041a8d": {
      "model_module": "@jupyter-widgets/controls",
      "model_module_version": "1.5.0",
      "model_name": "FloatProgressModel",
      "state": {
       "layout": "IPY_MODEL_b9d14c42f2ef4f56b8a483db1cc56537",
       "max": 16,
       "style": "IPY_MODEL_c7d9d405080d4bf588bbc67f61d3bd30",
       "value": 16
      }
     },
     "6b917c2220cd4dd9842dbe9acdce694d": {
      "model_module": "@jupyter-widgets/base",
      "model_module_version": "1.2.0",
      "model_name": "LayoutModel",
      "state": {}
     },
     "6b97bb2118a04a9d8f9dc0dd306b8f0a": {
      "model_module": "@jupyter-widgets/controls",
      "model_module_version": "1.5.0",
      "model_name": "ProgressStyleModel",
      "state": {
       "description_width": ""
      }
     },
     "6bf27ea88e2546fdba2ce31ae91f6086": {
      "model_module": "@jupyter-widgets/controls",
      "model_module_version": "1.5.0",
      "model_name": "HTMLModel",
      "state": {
       "layout": "IPY_MODEL_4c06a38e6c5746a99f2f9bbb00205f83",
       "style": "IPY_MODEL_72587486ae7e474c8f97d9eee3b4cbc7",
       "value": " 16/16 [00:04&lt;00:00,  3.26it/s]"
      }
     },
     "6c01dfa29e3948d18d570a44923cfd93": {
      "model_module": "@jupyter-widgets/controls",
      "model_module_version": "1.5.0",
      "model_name": "DescriptionStyleModel",
      "state": {
       "description_width": ""
      }
     },
     "6c88a9195c29408287f5722b99a22d2c": {
      "model_module": "@jupyter-widgets/base",
      "model_module_version": "1.2.0",
      "model_name": "LayoutModel",
      "state": {}
     },
     "6cebc510ebeb4404994f76f03e65daae": {
      "model_module": "@jupyter-widgets/base",
      "model_module_version": "1.2.0",
      "model_name": "LayoutModel",
      "state": {}
     },
     "6d2fec52527c4d39976081df6e26eeb9": {
      "model_module": "@jupyter-widgets/base",
      "model_module_version": "1.2.0",
      "model_name": "LayoutModel",
      "state": {}
     },
     "6d3f5a2924dc4005bb2f6c71226dad9f": {
      "model_module": "@jupyter-widgets/base",
      "model_module_version": "1.2.0",
      "model_name": "LayoutModel",
      "state": {}
     },
     "6d7f6374ea0f40999959a0c75724366b": {
      "model_module": "@jupyter-widgets/controls",
      "model_module_version": "1.5.0",
      "model_name": "HTMLModel",
      "state": {
       "layout": "IPY_MODEL_ac8606f18ab64f0cae6db1ccaa42bc23",
       "style": "IPY_MODEL_61f9fcec6bea4276804c1563fd013baf",
       "value": "Validation DataLoader 0: 100%"
      }
     },
     "6d9ac8d23e7a4f00bf0b237eefa618bb": {
      "model_module": "@jupyter-widgets/controls",
      "model_module_version": "1.5.0",
      "model_name": "HTMLModel",
      "state": {
       "layout": "IPY_MODEL_b031d6cb0a1945c39b2eb4245e32b323",
       "style": "IPY_MODEL_71e3662388364c5eb4750eb4d943786c",
       "value": " 16/16 [00:01&lt;00:00,  7.22it/s]"
      }
     },
     "6ddd6f64f34240b69a2c96c26b7f82f1": {
      "model_module": "@jupyter-widgets/base",
      "model_module_version": "1.2.0",
      "model_name": "LayoutModel",
      "state": {
       "flex": "2"
      }
     },
     "6e125a81c4524cfd837e5daefce7d064": {
      "model_module": "@jupyter-widgets/controls",
      "model_module_version": "1.5.0",
      "model_name": "DescriptionStyleModel",
      "state": {
       "description_width": ""
      }
     },
     "6e16e332c8b34e00a888f5aab0a06faa": {
      "model_module": "@jupyter-widgets/base",
      "model_module_version": "1.2.0",
      "model_name": "LayoutModel",
      "state": {}
     },
     "6e19908828624349bed4f68e10c32e5d": {
      "model_module": "@jupyter-widgets/base",
      "model_module_version": "1.2.0",
      "model_name": "LayoutModel",
      "state": {
       "flex": "2"
      }
     },
     "6e2cee789dce43f4a30455a79c1c99eb": {
      "model_module": "@jupyter-widgets/controls",
      "model_module_version": "1.5.0",
      "model_name": "DescriptionStyleModel",
      "state": {
       "description_width": ""
      }
     },
     "6e3952d8a2234a60aa37379efd8e35cd": {
      "model_module": "@jupyter-widgets/base",
      "model_module_version": "1.2.0",
      "model_name": "LayoutModel",
      "state": {}
     },
     "6e5fc6ed26fe44079d34688e0d07b3b2": {
      "model_module": "@jupyter-widgets/base",
      "model_module_version": "1.2.0",
      "model_name": "LayoutModel",
      "state": {}
     },
     "6e87fa211c5c483bb32067a08b2cf22a": {
      "model_module": "@jupyter-widgets/base",
      "model_module_version": "1.2.0",
      "model_name": "LayoutModel",
      "state": {
       "flex": "2"
      }
     },
     "6eca5cd18b3f4577a74a8869bff5d12b": {
      "model_module": "@jupyter-widgets/controls",
      "model_module_version": "1.5.0",
      "model_name": "ProgressStyleModel",
      "state": {
       "description_width": ""
      }
     },
     "6ecc1babb4964f788f263b2e7c3221ea": {
      "model_module": "@jupyter-widgets/base",
      "model_module_version": "1.2.0",
      "model_name": "LayoutModel",
      "state": {}
     },
     "6eee3727b8854795ad73d2fa19cd0518": {
      "model_module": "@jupyter-widgets/controls",
      "model_module_version": "1.5.0",
      "model_name": "HTMLModel",
      "state": {
       "layout": "IPY_MODEL_ebcc3e5b735f4461a25c8d35e031ddff",
       "style": "IPY_MODEL_2abe2466fff94296be316b31b5169982",
       "value": " 16/16 [00:01&lt;00:00,  8.22it/s]"
      }
     },
     "6f602648562e448aafcce3645abca3eb": {
      "model_module": "@jupyter-widgets/controls",
      "model_module_version": "1.5.0",
      "model_name": "HTMLModel",
      "state": {
       "layout": "IPY_MODEL_4f3bec5c319d49d6b794ae4c4a1896d6",
       "style": "IPY_MODEL_9f9d43b1fd0d4dd3adda0511b86178d8",
       "value": "Validation DataLoader 0: 100%"
      }
     },
     "6fc72af1b92443d081b8cd1f23024a56": {
      "model_module": "@jupyter-widgets/base",
      "model_module_version": "1.2.0",
      "model_name": "LayoutModel",
      "state": {}
     },
     "701ca725a5a74e22be7115d734e59cb3": {
      "model_module": "@jupyter-widgets/controls",
      "model_module_version": "1.5.0",
      "model_name": "ProgressStyleModel",
      "state": {
       "description_width": ""
      }
     },
     "702cb9d119864ebd9d6f3be3161800b5": {
      "model_module": "@jupyter-widgets/controls",
      "model_module_version": "1.5.0",
      "model_name": "ProgressStyleModel",
      "state": {
       "description_width": ""
      }
     },
     "7040e2121cf04dd9bd83896eb174e79d": {
      "model_module": "@jupyter-widgets/base",
      "model_module_version": "1.2.0",
      "model_name": "LayoutModel",
      "state": {}
     },
     "7045bcb4d25943bcbb105138eb2c71cf": {
      "model_module": "@jupyter-widgets/base",
      "model_module_version": "1.2.0",
      "model_name": "LayoutModel",
      "state": {}
     },
     "70a17b03803d4c0da588dae02d81e17a": {
      "model_module": "@jupyter-widgets/base",
      "model_module_version": "1.2.0",
      "model_name": "LayoutModel",
      "state": {}
     },
     "70b402659743405c9f2d0bb5e2477ac7": {
      "model_module": "@jupyter-widgets/controls",
      "model_module_version": "1.5.0",
      "model_name": "FloatProgressModel",
      "state": {
       "layout": "IPY_MODEL_bb8b883056eb4fcfae20a81dda188709",
       "max": 16,
       "style": "IPY_MODEL_ccc036271aa846aeb9293218ceb66b39",
       "value": 16
      }
     },
     "70beda99f78f49458058b1530a582fc8": {
      "model_module": "@jupyter-widgets/controls",
      "model_module_version": "1.5.0",
      "model_name": "HTMLModel",
      "state": {
       "layout": "IPY_MODEL_195cc0e540f54f8e824138b76a8becfe",
       "style": "IPY_MODEL_eefd815c05a74c8e99fe77ebaf30a10c",
       "value": " 16/16 [00:06&lt;00:00,  2.43it/s]"
      }
     },
     "70c22576fc724963aba958fe8521ff5c": {
      "model_module": "@jupyter-widgets/controls",
      "model_module_version": "1.5.0",
      "model_name": "HTMLModel",
      "state": {
       "layout": "IPY_MODEL_c9da3b5eb1a8494595bdee8d11e3795f",
       "style": "IPY_MODEL_c5d987bf68454479ac31b591210eb9ee",
       "value": " 16/16 [00:01&lt;00:00,  7.54it/s]"
      }
     },
     "70df9eaa56f142e987202862c590e993": {
      "model_module": "@jupyter-widgets/controls",
      "model_module_version": "1.5.0",
      "model_name": "HTMLModel",
      "state": {
       "layout": "IPY_MODEL_6e3952d8a2234a60aa37379efd8e35cd",
       "style": "IPY_MODEL_3459eefa5b8e496aad3e4d0a957750ff",
       "value": "Validation DataLoader 0: 100%"
      }
     },
     "713cb627a0fe42d7ba6b39b0495b1f51": {
      "model_module": "@jupyter-widgets/controls",
      "model_module_version": "1.5.0",
      "model_name": "ProgressStyleModel",
      "state": {
       "description_width": ""
      }
     },
     "718cfbd886984ae1ab1a2b95654ba721": {
      "model_module": "@jupyter-widgets/controls",
      "model_module_version": "1.5.0",
      "model_name": "HTMLModel",
      "state": {
       "layout": "IPY_MODEL_77d1c54e83244c46a6675c995914b8fa",
       "style": "IPY_MODEL_059d215a982743299798877003037a11",
       "value": "Validation DataLoader 0: 100%"
      }
     },
     "71e3662388364c5eb4750eb4d943786c": {
      "model_module": "@jupyter-widgets/controls",
      "model_module_version": "1.5.0",
      "model_name": "DescriptionStyleModel",
      "state": {
       "description_width": ""
      }
     },
     "71f0d848d72c4f04b6cb31dc078ba8fe": {
      "model_module": "@jupyter-widgets/controls",
      "model_module_version": "1.5.0",
      "model_name": "DescriptionStyleModel",
      "state": {
       "description_width": ""
      }
     },
     "7204174fed1740efb05ce7a928c127f9": {
      "model_module": "@jupyter-widgets/base",
      "model_module_version": "1.2.0",
      "model_name": "LayoutModel",
      "state": {}
     },
     "721060883aa1484db5a98a45d3eb516f": {
      "model_module": "@jupyter-widgets/controls",
      "model_module_version": "1.5.0",
      "model_name": "ProgressStyleModel",
      "state": {
       "description_width": ""
      }
     },
     "721b8ea7c7db4b9c87a02ea994f4288a": {
      "model_module": "@jupyter-widgets/controls",
      "model_module_version": "1.5.0",
      "model_name": "HTMLModel",
      "state": {
       "layout": "IPY_MODEL_326d75bae2e643f099dfece29f07a350",
       "style": "IPY_MODEL_58cb75f3958046229d4b9ed0a3eea1c9",
       "value": " 16/16 [00:06&lt;00:00,  2.19it/s]"
      }
     },
     "7223e4791857499981f9f1d07fcaa643": {
      "model_module": "@jupyter-widgets/base",
      "model_module_version": "1.2.0",
      "model_name": "LayoutModel",
      "state": {
       "flex": "2"
      }
     },
     "7244f40591834ad1b3104409e7735a52": {
      "model_module": "@jupyter-widgets/controls",
      "model_module_version": "1.5.0",
      "model_name": "DescriptionStyleModel",
      "state": {
       "description_width": ""
      }
     },
     "72587486ae7e474c8f97d9eee3b4cbc7": {
      "model_module": "@jupyter-widgets/controls",
      "model_module_version": "1.5.0",
      "model_name": "DescriptionStyleModel",
      "state": {
       "description_width": ""
      }
     },
     "72869ac06a364a9d81f6808956430fb5": {
      "model_module": "@jupyter-widgets/controls",
      "model_module_version": "1.5.0",
      "model_name": "FloatProgressModel",
      "state": {
       "layout": "IPY_MODEL_b2aaa26c8d1b4b52b726e85b28fc069e",
       "max": 16,
       "style": "IPY_MODEL_854001f268c341a3a172ad371e2d70a4",
       "value": 16
      }
     },
     "728cbd706b154dc1affade6f42994ecf": {
      "model_module": "@jupyter-widgets/base",
      "model_module_version": "1.2.0",
      "model_name": "LayoutModel",
      "state": {
       "display": "inline-flex",
       "flex_flow": "row wrap",
       "width": "100%"
      }
     },
     "72eab451446741fa884801e2bd40f5dd": {
      "model_module": "@jupyter-widgets/controls",
      "model_module_version": "1.5.0",
      "model_name": "DescriptionStyleModel",
      "state": {
       "description_width": ""
      }
     },
     "72f011862b02489cadb63846b942beea": {
      "model_module": "@jupyter-widgets/controls",
      "model_module_version": "1.5.0",
      "model_name": "ProgressStyleModel",
      "state": {
       "description_width": ""
      }
     },
     "72f9004c7bab43f38a5fa8eb58017a30": {
      "model_module": "@jupyter-widgets/controls",
      "model_module_version": "1.5.0",
      "model_name": "DescriptionStyleModel",
      "state": {
       "description_width": ""
      }
     },
     "7372b26fb2cd4f10b5caec9133e4cde2": {
      "model_module": "@jupyter-widgets/base",
      "model_module_version": "1.2.0",
      "model_name": "LayoutModel",
      "state": {
       "display": "inline-flex",
       "flex_flow": "row wrap",
       "width": "100%"
      }
     },
     "7380fb44b32e49bbb5801389f7727d76": {
      "model_module": "@jupyter-widgets/controls",
      "model_module_version": "1.5.0",
      "model_name": "DescriptionStyleModel",
      "state": {
       "description_width": ""
      }
     },
     "73d0828bc798477fb1b8d00a74561876": {
      "model_module": "@jupyter-widgets/base",
      "model_module_version": "1.2.0",
      "model_name": "LayoutModel",
      "state": {}
     },
     "7401168637064d638a62ef72ca84199f": {
      "model_module": "@jupyter-widgets/controls",
      "model_module_version": "1.5.0",
      "model_name": "DescriptionStyleModel",
      "state": {
       "description_width": ""
      }
     },
     "74e8cab06055439cb8a899e0f0b133b6": {
      "model_module": "@jupyter-widgets/base",
      "model_module_version": "1.2.0",
      "model_name": "LayoutModel",
      "state": {
       "display": "inline-flex",
       "flex_flow": "row wrap",
       "width": "100%"
      }
     },
     "74fbe9e541174074badbc77dfe80974f": {
      "model_module": "@jupyter-widgets/controls",
      "model_module_version": "1.5.0",
      "model_name": "FloatProgressModel",
      "state": {
       "layout": "IPY_MODEL_b9f4330c76e7427b8f693be76a0902c0",
       "max": 16,
       "style": "IPY_MODEL_c8f153ce8324494a8d5e0917c125beb6",
       "value": 16
      }
     },
     "7501c1a3861844d8b0345cf4f279c640": {
      "model_module": "@jupyter-widgets/controls",
      "model_module_version": "1.5.0",
      "model_name": "FloatProgressModel",
      "state": {
       "layout": "IPY_MODEL_96c95da6fcb74fb9a1b9d6ddc30f5ea4",
       "max": 16,
       "style": "IPY_MODEL_fc280d879d7a40a99f22e95174d47951",
       "value": 16
      }
     },
     "755e46f8aa7f4144afb935ffea1d83d0": {
      "model_module": "@jupyter-widgets/base",
      "model_module_version": "1.2.0",
      "model_name": "LayoutModel",
      "state": {
       "flex": "2"
      }
     },
     "75b498c0b8aa4265899abe77879b40f0": {
      "model_module": "@jupyter-widgets/base",
      "model_module_version": "1.2.0",
      "model_name": "LayoutModel",
      "state": {}
     },
     "75e3d913c7e949ba9fa25e18bb15f0e6": {
      "model_module": "@jupyter-widgets/controls",
      "model_module_version": "1.5.0",
      "model_name": "DescriptionStyleModel",
      "state": {
       "description_width": ""
      }
     },
     "761e89b09ccb48778fe6e02d06c5e209": {
      "model_module": "@jupyter-widgets/controls",
      "model_module_version": "1.5.0",
      "model_name": "HBoxModel",
      "state": {
       "children": [
        "IPY_MODEL_a185b42de3b74406ab26aececbe5bbd1",
        "IPY_MODEL_fff8606643044a00a85e0283f104afc4",
        "IPY_MODEL_2229410e4d394cb1b00706fc167e904c"
       ],
       "layout": "IPY_MODEL_367d9b09edf24edaa14c87e68b0ac7a0"
      }
     },
     "7626d51124154648b37d277a87f5225a": {
      "model_module": "@jupyter-widgets/base",
      "model_module_version": "1.2.0",
      "model_name": "LayoutModel",
      "state": {
       "display": "inline-flex",
       "flex_flow": "row wrap",
       "width": "100%"
      }
     },
     "7638a5f3745645a3b8b68b69684baf38": {
      "model_module": "@jupyter-widgets/controls",
      "model_module_version": "1.5.0",
      "model_name": "FloatProgressModel",
      "state": {
       "layout": "IPY_MODEL_838c9acce417462ca3980e4978eb8181",
       "max": 16,
       "style": "IPY_MODEL_ce62935d9cb345a5b006fc6e1d4d0489",
       "value": 16
      }
     },
     "765d374583734f14b49cbeabf12210ea": {
      "model_module": "@jupyter-widgets/base",
      "model_module_version": "1.2.0",
      "model_name": "LayoutModel",
      "state": {
       "display": "inline-flex",
       "flex_flow": "row wrap",
       "width": "100%"
      }
     },
     "767a312ced6340d4bed281378b107643": {
      "model_module": "@jupyter-widgets/controls",
      "model_module_version": "1.5.0",
      "model_name": "FloatProgressModel",
      "state": {
       "layout": "IPY_MODEL_2b6d49d700cb4d21b8ea99cd19765e74",
       "max": 16,
       "style": "IPY_MODEL_cade38386b0d4597a0c3b7e79ae15fb3",
       "value": 16
      }
     },
     "76a4c3b7d8bd453d86f2d75a61b98706": {
      "model_module": "@jupyter-widgets/controls",
      "model_module_version": "1.5.0",
      "model_name": "HTMLModel",
      "state": {
       "layout": "IPY_MODEL_7b690d73cb4641f58cec0956bafbbb53",
       "style": "IPY_MODEL_cda7857201ac4b079022e750be08873c",
       "value": "Validation DataLoader 0: 100%"
      }
     },
     "76e3384250ed468db4e94efb5e05f48b": {
      "model_module": "@jupyter-widgets/controls",
      "model_module_version": "1.5.0",
      "model_name": "FloatProgressModel",
      "state": {
       "layout": "IPY_MODEL_64d4dd9e4c3249e8b8e56e81386ad12c",
       "max": 16,
       "style": "IPY_MODEL_947f5672e21747b1987a68bdd8e63eba",
       "value": 16
      }
     },
     "7724b3d40b8b4d1e84f6b6c999080cc1": {
      "model_module": "@jupyter-widgets/controls",
      "model_module_version": "1.5.0",
      "model_name": "FloatProgressModel",
      "state": {
       "layout": "IPY_MODEL_0b3f3682a229423db3394f065ee0bfe8",
       "max": 16,
       "style": "IPY_MODEL_54594a5c932d44b6adf27bb3cc991602",
       "value": 16
      }
     },
     "77379038c39144928bb415f1f7d77ba5": {
      "model_module": "@jupyter-widgets/base",
      "model_module_version": "1.2.0",
      "model_name": "LayoutModel",
      "state": {}
     },
     "774b7fd4e8f245879621c1e67318fb09": {
      "model_module": "@jupyter-widgets/controls",
      "model_module_version": "1.5.0",
      "model_name": "DescriptionStyleModel",
      "state": {
       "description_width": ""
      }
     },
     "775106faf8164a4192186ef5916d794a": {
      "model_module": "@jupyter-widgets/controls",
      "model_module_version": "1.5.0",
      "model_name": "DescriptionStyleModel",
      "state": {
       "description_width": ""
      }
     },
     "779c129d35174c2f82a2fec2fa30b88f": {
      "model_module": "@jupyter-widgets/controls",
      "model_module_version": "1.5.0",
      "model_name": "ProgressStyleModel",
      "state": {
       "description_width": ""
      }
     },
     "77b30001bc004ea283101f1d7eb52ff5": {
      "model_module": "@jupyter-widgets/controls",
      "model_module_version": "1.5.0",
      "model_name": "HTMLModel",
      "state": {
       "layout": "IPY_MODEL_458e01c99c774e97819a1b059331fe19",
       "style": "IPY_MODEL_bda5c0f3ad1b4911a64b09500d25031b",
       "value": " 2/2 [00:00&lt;00:00,  8.27it/s]"
      }
     },
     "77d1c54e83244c46a6675c995914b8fa": {
      "model_module": "@jupyter-widgets/base",
      "model_module_version": "1.2.0",
      "model_name": "LayoutModel",
      "state": {}
     },
     "77f5faffc6df4e988b9cd26e38de0d63": {
      "model_module": "@jupyter-widgets/base",
      "model_module_version": "1.2.0",
      "model_name": "LayoutModel",
      "state": {
       "display": "inline-flex",
       "flex_flow": "row wrap",
       "width": "100%"
      }
     },
     "7806503cdd3e466cbfcef90d1eec5f81": {
      "model_module": "@jupyter-widgets/base",
      "model_module_version": "1.2.0",
      "model_name": "LayoutModel",
      "state": {
       "display": "inline-flex",
       "flex_flow": "row wrap",
       "width": "100%"
      }
     },
     "7825ae59f141445797fd6bb019574964": {
      "model_module": "@jupyter-widgets/base",
      "model_module_version": "1.2.0",
      "model_name": "LayoutModel",
      "state": {}
     },
     "78289e3f5a5b430895b799c5a2eab89f": {
      "model_module": "@jupyter-widgets/base",
      "model_module_version": "1.2.0",
      "model_name": "LayoutModel",
      "state": {}
     },
     "786bc245e00b47d896ff54f6cb6baffc": {
      "model_module": "@jupyter-widgets/controls",
      "model_module_version": "1.5.0",
      "model_name": "FloatProgressModel",
      "state": {
       "layout": "IPY_MODEL_fc1f9c0c9e5b4884b978cea12c655768",
       "max": 16,
       "style": "IPY_MODEL_471a0be39f684e28bb6a9dc493f47351",
       "value": 16
      }
     },
     "787124f91fea4d66ae40d06fbb12c6eb": {
      "model_module": "@jupyter-widgets/controls",
      "model_module_version": "1.5.0",
      "model_name": "ProgressStyleModel",
      "state": {
       "description_width": ""
      }
     },
     "787a5d84605048a69367e6e451c4f6a5": {
      "model_module": "@jupyter-widgets/controls",
      "model_module_version": "1.5.0",
      "model_name": "ProgressStyleModel",
      "state": {
       "description_width": ""
      }
     },
     "78a9f12187174b4f892c7b0662fe843b": {
      "model_module": "@jupyter-widgets/base",
      "model_module_version": "1.2.0",
      "model_name": "LayoutModel",
      "state": {}
     },
     "78af2784a53c4768a358cf3fcd85ebc9": {
      "model_module": "@jupyter-widgets/controls",
      "model_module_version": "1.5.0",
      "model_name": "HTMLModel",
      "state": {
       "layout": "IPY_MODEL_dfe5519c86fa4ce583509c80cfda48ca",
       "style": "IPY_MODEL_16612dc8dc814930be229847ab35fe16",
       "value": " 16/16 [00:02&lt;00:00,  5.09it/s]"
      }
     },
     "78ba9a3a187740bcbb1155c39fa71d68": {
      "model_module": "@jupyter-widgets/controls",
      "model_module_version": "1.5.0",
      "model_name": "ProgressStyleModel",
      "state": {
       "description_width": ""
      }
     },
     "78d52f8ef032450b960aa129f211f093": {
      "model_module": "@jupyter-widgets/controls",
      "model_module_version": "1.5.0",
      "model_name": "DescriptionStyleModel",
      "state": {
       "description_width": ""
      }
     },
     "793c3e49a4cf4d2da55e4d093851b1dc": {
      "model_module": "@jupyter-widgets/controls",
      "model_module_version": "1.5.0",
      "model_name": "HTMLModel",
      "state": {
       "layout": "IPY_MODEL_106ce4d3f9eb4d8c8975a2aaa5822422",
       "style": "IPY_MODEL_f6ee676b249b444990a8ffc488248e57",
       "value": "Validation DataLoader 0: 100%"
      }
     },
     "7973bd42431f4cd59051cce9ae9ea39f": {
      "model_module": "@jupyter-widgets/controls",
      "model_module_version": "1.5.0",
      "model_name": "ProgressStyleModel",
      "state": {
       "description_width": ""
      }
     },
     "79754bf8a11c4dd694293704b0fe9573": {
      "model_module": "@jupyter-widgets/base",
      "model_module_version": "1.2.0",
      "model_name": "LayoutModel",
      "state": {}
     },
     "798547373e5b42f787a699f1e8ac6ff3": {
      "model_module": "@jupyter-widgets/controls",
      "model_module_version": "1.5.0",
      "model_name": "DescriptionStyleModel",
      "state": {
       "description_width": ""
      }
     },
     "79b28ff1b63b4effaac14d1afbe8c25b": {
      "model_module": "@jupyter-widgets/controls",
      "model_module_version": "1.5.0",
      "model_name": "HTMLModel",
      "state": {
       "layout": "IPY_MODEL_644c3dc9694941008f52e5d8a444148b",
       "style": "IPY_MODEL_035d091c38d346c881e507f62b54c785",
       "value": " 16/16 [00:01&lt;00:00,  8.19it/s]"
      }
     },
     "79c4a58dea3141fa81b53d40f1ef4c2d": {
      "model_module": "@jupyter-widgets/controls",
      "model_module_version": "1.5.0",
      "model_name": "DescriptionStyleModel",
      "state": {
       "description_width": ""
      }
     },
     "79e0b13d92a040e1b17085b83e57bdeb": {
      "model_module": "@jupyter-widgets/controls",
      "model_module_version": "1.5.0",
      "model_name": "DescriptionStyleModel",
      "state": {
       "description_width": ""
      }
     },
     "7a4f7149f12e4e2b848038abf6d5e94a": {
      "model_module": "@jupyter-widgets/base",
      "model_module_version": "1.2.0",
      "model_name": "LayoutModel",
      "state": {}
     },
     "7a5f1cbfd80e4b30b52fe39b47bf9e63": {
      "model_module": "@jupyter-widgets/base",
      "model_module_version": "1.2.0",
      "model_name": "LayoutModel",
      "state": {
       "display": "inline-flex",
       "flex_flow": "row wrap",
       "width": "100%"
      }
     },
     "7a8440d93d294af5be8aac2d0b984a22": {
      "model_module": "@jupyter-widgets/base",
      "model_module_version": "1.2.0",
      "model_name": "LayoutModel",
      "state": {}
     },
     "7a8707939ff0477ca8ed612f0ea9f1ef": {
      "model_module": "@jupyter-widgets/controls",
      "model_module_version": "1.5.0",
      "model_name": "FloatProgressModel",
      "state": {
       "layout": "IPY_MODEL_aa31912486414d8bb8fb92b04e0767e3",
       "max": 16,
       "style": "IPY_MODEL_6ab8c851b8304e8ab7274b3bebf6f026",
       "value": 16
      }
     },
     "7aaaf14813364ced864c1a871d052d32": {
      "model_module": "@jupyter-widgets/controls",
      "model_module_version": "1.5.0",
      "model_name": "HTMLModel",
      "state": {
       "layout": "IPY_MODEL_1d468d17b0db4055a84a3801ea797353",
       "style": "IPY_MODEL_94829145fc844f178a5527d396efaf06",
       "value": " 16/16 [00:01&lt;00:00,  8.04it/s]"
      }
     },
     "7aae65d85eec42319f9d7862c79291a3": {
      "model_module": "@jupyter-widgets/controls",
      "model_module_version": "1.5.0",
      "model_name": "DescriptionStyleModel",
      "state": {
       "description_width": ""
      }
     },
     "7abfaabe911a45c78090d93ebecb9b6d": {
      "model_module": "@jupyter-widgets/controls",
      "model_module_version": "1.5.0",
      "model_name": "DescriptionStyleModel",
      "state": {
       "description_width": ""
      }
     },
     "7ad249303fcc4e27a630c515bb6c6b5f": {
      "model_module": "@jupyter-widgets/base",
      "model_module_version": "1.2.0",
      "model_name": "LayoutModel",
      "state": {
       "flex": "2"
      }
     },
     "7aea2d477334477bbc35dbcc685875f9": {
      "model_module": "@jupyter-widgets/controls",
      "model_module_version": "1.5.0",
      "model_name": "HTMLModel",
      "state": {
       "layout": "IPY_MODEL_f9afe137f86447c48be832e6bb096bcb",
       "style": "IPY_MODEL_e696b57a7941401f937f7baa65a235d8",
       "value": "Validation DataLoader 0: 100%"
      }
     },
     "7b161c46fad54626ac3f1a155061bb74": {
      "model_module": "@jupyter-widgets/controls",
      "model_module_version": "1.5.0",
      "model_name": "DescriptionStyleModel",
      "state": {
       "description_width": ""
      }
     },
     "7b4bfd1943f94d7ea42573350704ccb7": {
      "model_module": "@jupyter-widgets/controls",
      "model_module_version": "1.5.0",
      "model_name": "DescriptionStyleModel",
      "state": {
       "description_width": ""
      }
     },
     "7b690d73cb4641f58cec0956bafbbb53": {
      "model_module": "@jupyter-widgets/base",
      "model_module_version": "1.2.0",
      "model_name": "LayoutModel",
      "state": {}
     },
     "7bbe182a6d6642b087097f93ddb6deac": {
      "model_module": "@jupyter-widgets/controls",
      "model_module_version": "1.5.0",
      "model_name": "DescriptionStyleModel",
      "state": {
       "description_width": ""
      }
     },
     "7bc5bceb1f5d45c6842e1566d0d3b889": {
      "model_module": "@jupyter-widgets/base",
      "model_module_version": "1.2.0",
      "model_name": "LayoutModel",
      "state": {}
     },
     "7be59f840dd9442893ef9c6b057fb3e2": {
      "model_module": "@jupyter-widgets/controls",
      "model_module_version": "1.5.0",
      "model_name": "FloatProgressModel",
      "state": {
       "layout": "IPY_MODEL_2510a755ce0b41da8bdaac3f440b8610",
       "max": 16,
       "style": "IPY_MODEL_4bc57936aedc49c9a58ca8dc5f4b9e27",
       "value": 16
      }
     },
     "7c12c5e522af439ca98728ab8c025f13": {
      "model_module": "@jupyter-widgets/base",
      "model_module_version": "1.2.0",
      "model_name": "LayoutModel",
      "state": {}
     },
     "7c43786815d64e73821debe83f881e37": {
      "model_module": "@jupyter-widgets/controls",
      "model_module_version": "1.5.0",
      "model_name": "FloatProgressModel",
      "state": {
       "layout": "IPY_MODEL_65cb4c268c664ed7bbb9dc568e86fc43",
       "max": 16,
       "style": "IPY_MODEL_de8e02840f6948ebaa2a59e75cbd30ac",
       "value": 16
      }
     },
     "7c886f16e0324d0dacf1ceba4bddc801": {
      "model_module": "@jupyter-widgets/controls",
      "model_module_version": "1.5.0",
      "model_name": "DescriptionStyleModel",
      "state": {
       "description_width": ""
      }
     },
     "7c99f2ac47d1422eb94f608adb1b3d09": {
      "model_module": "@jupyter-widgets/base",
      "model_module_version": "1.2.0",
      "model_name": "LayoutModel",
      "state": {}
     },
     "7ce87e8d305e4e119f5120dffcc7f726": {
      "model_module": "@jupyter-widgets/controls",
      "model_module_version": "1.5.0",
      "model_name": "HTMLModel",
      "state": {
       "layout": "IPY_MODEL_24feb32ca8d64faa982702b36adbdcda",
       "style": "IPY_MODEL_a133778f008c406bb7ed95c10cae62b2",
       "value": " 16/16 [00:03&lt;00:00,  4.53it/s]"
      }
     },
     "7d0ce0953e324744887813d4bc828c9e": {
      "model_module": "@jupyter-widgets/controls",
      "model_module_version": "1.5.0",
      "model_name": "DescriptionStyleModel",
      "state": {
       "description_width": ""
      }
     },
     "7d3a5814dd4845b9aa524002aa883709": {
      "model_module": "@jupyter-widgets/controls",
      "model_module_version": "1.5.0",
      "model_name": "HTMLModel",
      "state": {
       "layout": "IPY_MODEL_8e8324618fb3442a9276295130a9e297",
       "style": "IPY_MODEL_5814d02e79c746139d04b63efbb0f445",
       "value": " 16/16 [00:10&lt;00:00,  1.47it/s]"
      }
     },
     "7d5504e3e3894c8a8f71acf804639235": {
      "model_module": "@jupyter-widgets/base",
      "model_module_version": "1.2.0",
      "model_name": "LayoutModel",
      "state": {}
     },
     "7d66e3c9bafc4e88863ba966e941d1cf": {
      "model_module": "@jupyter-widgets/controls",
      "model_module_version": "1.5.0",
      "model_name": "HTMLModel",
      "state": {
       "layout": "IPY_MODEL_2d1e66d4962144e984be1db22269a566",
       "style": "IPY_MODEL_2c8faf69785447c8a200ec024b729ab3",
       "value": " 16/16 [00:05&lt;00:00,  2.40it/s]"
      }
     },
     "7d7a376f91334ec38216d1a323376d97": {
      "model_module": "@jupyter-widgets/base",
      "model_module_version": "1.2.0",
      "model_name": "LayoutModel",
      "state": {}
     },
     "7da37e049db04730b0e983a4d04580d2": {
      "model_module": "@jupyter-widgets/controls",
      "model_module_version": "1.5.0",
      "model_name": "DescriptionStyleModel",
      "state": {
       "description_width": ""
      }
     },
     "7dc41f5bda704394bf6f4e0cfe6f2bb1": {
      "model_module": "@jupyter-widgets/base",
      "model_module_version": "1.2.0",
      "model_name": "LayoutModel",
      "state": {
       "display": "inline-flex",
       "flex_flow": "row wrap",
       "width": "100%"
      }
     },
     "7df011121aaf42db8365207af383295c": {
      "model_module": "@jupyter-widgets/controls",
      "model_module_version": "1.5.0",
      "model_name": "ProgressStyleModel",
      "state": {
       "description_width": ""
      }
     },
     "7e2b73e4eb1b4f7d9a4e809ed5baa894": {
      "model_module": "@jupyter-widgets/controls",
      "model_module_version": "1.5.0",
      "model_name": "HTMLModel",
      "state": {
       "layout": "IPY_MODEL_ecba7c4d76114b63a81a73e69610a6fc",
       "style": "IPY_MODEL_4cefe6cc5f3b458382731de20e5b7537",
       "value": " 16/16 [00:02&lt;00:00,  7.24it/s]"
      }
     },
     "7e72e8a44db243588a83bda8698eece2": {
      "model_module": "@jupyter-widgets/controls",
      "model_module_version": "1.5.0",
      "model_name": "DescriptionStyleModel",
      "state": {
       "description_width": ""
      }
     },
     "7ec520b7436645d39881ab8d51109cbe": {
      "model_module": "@jupyter-widgets/controls",
      "model_module_version": "1.5.0",
      "model_name": "ProgressStyleModel",
      "state": {
       "description_width": ""
      }
     },
     "7ecb6567bde2489aa78e0d4e05808bff": {
      "model_module": "@jupyter-widgets/controls",
      "model_module_version": "1.5.0",
      "model_name": "HTMLModel",
      "state": {
       "layout": "IPY_MODEL_70a17b03803d4c0da588dae02d81e17a",
       "style": "IPY_MODEL_64fdf76b99584d57b18877d27d47603b",
       "value": "Validation DataLoader 0: 100%"
      }
     },
     "7ee2360f643a4ffab7db55f8a7de45de": {
      "model_module": "@jupyter-widgets/controls",
      "model_module_version": "1.5.0",
      "model_name": "HTMLModel",
      "state": {
       "layout": "IPY_MODEL_0da15bc764764551b3aea5a0d2f8f7cb",
       "style": "IPY_MODEL_56d2a0ee14f84d09a63c2128dc1c1250",
       "value": " 16/16 [00:03&lt;00:00,  3.51it/s]"
      }
     },
     "7f81b20dd2714dfdb9d850febc1c8dd7": {
      "model_module": "@jupyter-widgets/controls",
      "model_module_version": "1.5.0",
      "model_name": "HTMLModel",
      "state": {
       "layout": "IPY_MODEL_d18e09ed1abe47859dad5809e6e3db01",
       "style": "IPY_MODEL_d52b05d8cb4b4199aa24b071840b8117",
       "value": " 16/16 [00:03&lt;00:00,  4.17it/s]"
      }
     },
     "7ff542d2db534ceb997bd64a79eb6e63": {
      "model_module": "@jupyter-widgets/base",
      "model_module_version": "1.2.0",
      "model_name": "LayoutModel",
      "state": {
       "display": "inline-flex",
       "flex_flow": "row wrap",
       "width": "100%"
      }
     },
     "7ff7ac597d69468fae17cc196c5a06ab": {
      "model_module": "@jupyter-widgets/controls",
      "model_module_version": "1.5.0",
      "model_name": "HTMLModel",
      "state": {
       "layout": "IPY_MODEL_22f6c83056a34c66891210baebeeb164",
       "style": "IPY_MODEL_e80ac36b5cdf41158338bd8387b20e95",
       "value": " 16/16 [00:01&lt;00:00,  7.65it/s]"
      }
     },
     "7ff7f06d1a82412d907179eaa9fbc362": {
      "model_module": "@jupyter-widgets/controls",
      "model_module_version": "1.5.0",
      "model_name": "FloatProgressModel",
      "state": {
       "layout": "IPY_MODEL_60aacfda423048a48fff13779afd2ba3",
       "max": 16,
       "style": "IPY_MODEL_ffde996bc947411585ece7fa87e56fd3",
       "value": 16
      }
     },
     "7ffce3f2a3e34d5e99e1a01d9aa5ef01": {
      "model_module": "@jupyter-widgets/base",
      "model_module_version": "1.2.0",
      "model_name": "LayoutModel",
      "state": {
       "flex": "2"
      }
     },
     "80093b7037bb4d56b80300fdba534b75": {
      "model_module": "@jupyter-widgets/controls",
      "model_module_version": "1.5.0",
      "model_name": "DescriptionStyleModel",
      "state": {
       "description_width": ""
      }
     },
     "8029e05bc69a4facb80288995d7b675b": {
      "model_module": "@jupyter-widgets/base",
      "model_module_version": "1.2.0",
      "model_name": "LayoutModel",
      "state": {}
     },
     "804649cd1d9d467585bbbbe516cb93a0": {
      "model_module": "@jupyter-widgets/base",
      "model_module_version": "1.2.0",
      "model_name": "LayoutModel",
      "state": {
       "display": "inline-flex",
       "flex_flow": "row wrap",
       "width": "100%"
      }
     },
     "808608de6af7457c96af74b53e7b9df5": {
      "model_module": "@jupyter-widgets/controls",
      "model_module_version": "1.5.0",
      "model_name": "HTMLModel",
      "state": {
       "layout": "IPY_MODEL_82188c842a3247c3a2d2b1bc01b6d9ec",
       "style": "IPY_MODEL_44ee0707008a4f488c7014572941bb6a",
       "value": "Validation DataLoader 0: 100%"
      }
     },
     "80ac25fdd99f4148b12e7d3b750ea6fc": {
      "model_module": "@jupyter-widgets/controls",
      "model_module_version": "1.5.0",
      "model_name": "FloatProgressModel",
      "state": {
       "layout": "IPY_MODEL_2f78e9d1b7074a6ca0be51b7a2599069",
       "max": 16,
       "style": "IPY_MODEL_7df011121aaf42db8365207af383295c",
       "value": 16
      }
     },
     "80d6ca7248064a26849dbd929e64f30c": {
      "model_module": "@jupyter-widgets/controls",
      "model_module_version": "1.5.0",
      "model_name": "DescriptionStyleModel",
      "state": {
       "description_width": ""
      }
     },
     "80de2a8cd9914022b7fbc7ad89496aa1": {
      "model_module": "@jupyter-widgets/base",
      "model_module_version": "1.2.0",
      "model_name": "LayoutModel",
      "state": {}
     },
     "80ea74a916d1456488bb32cdafd70197": {
      "model_module": "@jupyter-widgets/base",
      "model_module_version": "1.2.0",
      "model_name": "LayoutModel",
      "state": {
       "display": "inline-flex",
       "flex_flow": "row wrap",
       "width": "100%"
      }
     },
     "80eaeb55efb743caa55dcb02da0622be": {
      "model_module": "@jupyter-widgets/base",
      "model_module_version": "1.2.0",
      "model_name": "LayoutModel",
      "state": {
       "display": "inline-flex",
       "flex_flow": "row wrap",
       "width": "100%"
      }
     },
     "8109d329ea3a47f5b37ef8be178753ce": {
      "model_module": "@jupyter-widgets/base",
      "model_module_version": "1.2.0",
      "model_name": "LayoutModel",
      "state": {}
     },
     "8114b88905114c628f4a5201b719fa2d": {
      "model_module": "@jupyter-widgets/controls",
      "model_module_version": "1.5.0",
      "model_name": "FloatProgressModel",
      "state": {
       "layout": "IPY_MODEL_600f3a8ff80241e786237c6a7152d9ad",
       "max": 16,
       "style": "IPY_MODEL_6553d93e1f084a11948464bf4a4b585b",
       "value": 16
      }
     },
     "811866deaa934eafb153214f31a63f61": {
      "model_module": "@jupyter-widgets/controls",
      "model_module_version": "1.5.0",
      "model_name": "ProgressStyleModel",
      "state": {
       "description_width": ""
      }
     },
     "811879b41f20473f81efb1fbb0894f88": {
      "model_module": "@jupyter-widgets/controls",
      "model_module_version": "1.5.0",
      "model_name": "HTMLModel",
      "state": {
       "layout": "IPY_MODEL_3404d92f8d5b4d2797fb090b9c00c9f3",
       "style": "IPY_MODEL_71f0d848d72c4f04b6cb31dc078ba8fe",
       "value": " 16/16 [00:02&lt;00:00,  8.03it/s]"
      }
     },
     "8122fd4f16f24714b5aa6aaeb7fc43db": {
      "model_module": "@jupyter-widgets/controls",
      "model_module_version": "1.5.0",
      "model_name": "DescriptionStyleModel",
      "state": {
       "description_width": ""
      }
     },
     "81359fcf8e5e4c7a96c75c2e6d74880c": {
      "model_module": "@jupyter-widgets/controls",
      "model_module_version": "1.5.0",
      "model_name": "ProgressStyleModel",
      "state": {
       "description_width": ""
      }
     },
     "81478f715d364c60a13adfdc4622f7cf": {
      "model_module": "@jupyter-widgets/controls",
      "model_module_version": "1.5.0",
      "model_name": "DescriptionStyleModel",
      "state": {
       "description_width": ""
      }
     },
     "818f3e7f64394dd5b5c8eef92fad199f": {
      "model_module": "@jupyter-widgets/controls",
      "model_module_version": "1.5.0",
      "model_name": "HTMLModel",
      "state": {
       "layout": "IPY_MODEL_4e19cb0568504069b0470e6036e359f6",
       "style": "IPY_MODEL_a06350cde23f4f008eeaff8ab4f4d6be",
       "value": " 16/16 [00:06&lt;00:00,  1.60it/s]"
      }
     },
     "81b72916883c488e86f7d27fd5ebcd6e": {
      "model_module": "@jupyter-widgets/base",
      "model_module_version": "1.2.0",
      "model_name": "LayoutModel",
      "state": {
       "display": "inline-flex",
       "flex_flow": "row wrap",
       "width": "100%"
      }
     },
     "81c58297d93b41e782ebeb8f9d1d2b7b": {
      "model_module": "@jupyter-widgets/controls",
      "model_module_version": "1.5.0",
      "model_name": "HTMLModel",
      "state": {
       "layout": "IPY_MODEL_ea918406692945b8a68f8ec3df627f0a",
       "style": "IPY_MODEL_b3ef3f7742134d5798f7327ecf59924d",
       "value": " 16/16 [00:05&lt;00:00,  3.55it/s]"
      }
     },
     "81ef5913db5e410aa7d22cdc98509041": {
      "model_module": "@jupyter-widgets/controls",
      "model_module_version": "1.5.0",
      "model_name": "HTMLModel",
      "state": {
       "layout": "IPY_MODEL_f6e02814989c46719b70dc66a9fbd497",
       "style": "IPY_MODEL_a04804223a5f489387a5fcf7d4566f98",
       "value": "Validation DataLoader 0: 100%"
      }
     },
     "8214f363041b40ffb38a3c811cde05c4": {
      "model_module": "@jupyter-widgets/base",
      "model_module_version": "1.2.0",
      "model_name": "LayoutModel",
      "state": {
       "display": "inline-flex",
       "flex_flow": "row wrap",
       "width": "100%"
      }
     },
     "82166d04e8964c298d938419efc21ab5": {
      "model_module": "@jupyter-widgets/controls",
      "model_module_version": "1.5.0",
      "model_name": "DescriptionStyleModel",
      "state": {
       "description_width": ""
      }
     },
     "82188c842a3247c3a2d2b1bc01b6d9ec": {
      "model_module": "@jupyter-widgets/base",
      "model_module_version": "1.2.0",
      "model_name": "LayoutModel",
      "state": {}
     },
     "822a290dc73b4cba9e0e87a15b9d16c9": {
      "model_module": "@jupyter-widgets/controls",
      "model_module_version": "1.5.0",
      "model_name": "DescriptionStyleModel",
      "state": {
       "description_width": ""
      }
     },
     "8271c08fd26b4df19298ffb90c479b4c": {
      "model_module": "@jupyter-widgets/controls",
      "model_module_version": "1.5.0",
      "model_name": "DescriptionStyleModel",
      "state": {
       "description_width": ""
      }
     },
     "828088114f5c4018a9c5e30e8e67ee50": {
      "model_module": "@jupyter-widgets/controls",
      "model_module_version": "1.5.0",
      "model_name": "DescriptionStyleModel",
      "state": {
       "description_width": ""
      }
     },
     "82e383d345ba4be39f3d1817c1364b9f": {
      "model_module": "@jupyter-widgets/controls",
      "model_module_version": "1.5.0",
      "model_name": "HTMLModel",
      "state": {
       "layout": "IPY_MODEL_ea42bee0389d4d4bbbad32b68f5a4737",
       "style": "IPY_MODEL_a16350fab26c450dbf0aab95fae9af88",
       "value": "Validation DataLoader 0: 100%"
      }
     },
     "82f1bae933c148fd8caf3beeb908de70": {
      "model_module": "@jupyter-widgets/base",
      "model_module_version": "1.2.0",
      "model_name": "LayoutModel",
      "state": {
       "flex": "2"
      }
     },
     "831b2ec06a5d411cb3bcd7277682731d": {
      "model_module": "@jupyter-widgets/base",
      "model_module_version": "1.2.0",
      "model_name": "LayoutModel",
      "state": {}
     },
     "831d374c0bdf4bd59010c994b10a05f6": {
      "model_module": "@jupyter-widgets/controls",
      "model_module_version": "1.5.0",
      "model_name": "HTMLModel",
      "state": {
       "layout": "IPY_MODEL_914b664051bd4b51a8e2fc056ea803e8",
       "style": "IPY_MODEL_7401168637064d638a62ef72ca84199f",
       "value": "Validation DataLoader 0: 100%"
      }
     },
     "832c3c89fc824b22b7b6f36da776723b": {
      "model_module": "@jupyter-widgets/base",
      "model_module_version": "1.2.0",
      "model_name": "LayoutModel",
      "state": {
       "flex": "2"
      }
     },
     "8360bd813cf54c51a96589d6046bdbc3": {
      "model_module": "@jupyter-widgets/controls",
      "model_module_version": "1.5.0",
      "model_name": "DescriptionStyleModel",
      "state": {
       "description_width": ""
      }
     },
     "836721b9813b40c88eafd12ec2919b4e": {
      "model_module": "@jupyter-widgets/base",
      "model_module_version": "1.2.0",
      "model_name": "LayoutModel",
      "state": {}
     },
     "838c9acce417462ca3980e4978eb8181": {
      "model_module": "@jupyter-widgets/base",
      "model_module_version": "1.2.0",
      "model_name": "LayoutModel",
      "state": {
       "flex": "2"
      }
     },
     "839392a54d7842278356fe3049323ffb": {
      "model_module": "@jupyter-widgets/base",
      "model_module_version": "1.2.0",
      "model_name": "LayoutModel",
      "state": {
       "flex": "2"
      }
     },
     "83e83224eb9a4457a42497fd0abaa7e6": {
      "model_module": "@jupyter-widgets/controls",
      "model_module_version": "1.5.0",
      "model_name": "DescriptionStyleModel",
      "state": {
       "description_width": ""
      }
     },
     "83e9c409107241a6b74fde14933d2271": {
      "model_module": "@jupyter-widgets/controls",
      "model_module_version": "1.5.0",
      "model_name": "DescriptionStyleModel",
      "state": {
       "description_width": ""
      }
     },
     "842a54da72284df1a44d12a072c66931": {
      "model_module": "@jupyter-widgets/base",
      "model_module_version": "1.2.0",
      "model_name": "LayoutModel",
      "state": {
       "flex": "2"
      }
     },
     "8434ea045e0d4430af5e26d58ca98971": {
      "model_module": "@jupyter-widgets/base",
      "model_module_version": "1.2.0",
      "model_name": "LayoutModel",
      "state": {
       "flex": "2"
      }
     },
     "843ed9196d8e4e2c9aa3787480d71b8e": {
      "model_module": "@jupyter-widgets/base",
      "model_module_version": "1.2.0",
      "model_name": "LayoutModel",
      "state": {}
     },
     "8466b0e2885c43549d15c33a848a4f3e": {
      "model_module": "@jupyter-widgets/controls",
      "model_module_version": "1.5.0",
      "model_name": "ProgressStyleModel",
      "state": {
       "description_width": ""
      }
     },
     "846bdefcf28146439a0d52f2a343a0f8": {
      "model_module": "@jupyter-widgets/base",
      "model_module_version": "1.2.0",
      "model_name": "LayoutModel",
      "state": {
       "flex": "2"
      }
     },
     "847e344c6da94271afe4862759412cca": {
      "model_module": "@jupyter-widgets/controls",
      "model_module_version": "1.5.0",
      "model_name": "DescriptionStyleModel",
      "state": {
       "description_width": ""
      }
     },
     "848aaa62b69946d58a88ae7b9e72073f": {
      "model_module": "@jupyter-widgets/controls",
      "model_module_version": "1.5.0",
      "model_name": "DescriptionStyleModel",
      "state": {
       "description_width": ""
      }
     },
     "84a931b1f8fd49368ce32a93263f9b92": {
      "model_module": "@jupyter-widgets/controls",
      "model_module_version": "1.5.0",
      "model_name": "FloatProgressModel",
      "state": {
       "layout": "IPY_MODEL_e38f9f1cbde04854be3eaebd6e8a140b",
       "max": 16,
       "style": "IPY_MODEL_e0ce4090cb504ff1b828fb6b1fe88e62",
       "value": 16
      }
     },
     "85202ed6fd8246828615bda19d0049e8": {
      "model_module": "@jupyter-widgets/base",
      "model_module_version": "1.2.0",
      "model_name": "LayoutModel",
      "state": {
       "display": "inline-flex",
       "flex_flow": "row wrap",
       "width": "100%"
      }
     },
     "85213682e231439790ca4efdf548899e": {
      "model_module": "@jupyter-widgets/base",
      "model_module_version": "1.2.0",
      "model_name": "LayoutModel",
      "state": {}
     },
     "854001f268c341a3a172ad371e2d70a4": {
      "model_module": "@jupyter-widgets/controls",
      "model_module_version": "1.5.0",
      "model_name": "ProgressStyleModel",
      "state": {
       "description_width": ""
      }
     },
     "856660dc83d34ffab55f53a9d20e9cbb": {
      "model_module": "@jupyter-widgets/base",
      "model_module_version": "1.2.0",
      "model_name": "LayoutModel",
      "state": {}
     },
     "8567ca41f4d4473b97e265cf278bb8fa": {
      "model_module": "@jupyter-widgets/base",
      "model_module_version": "1.2.0",
      "model_name": "LayoutModel",
      "state": {}
     },
     "85a4a2638b3b4d3aa6f6920eaaf2ed8c": {
      "model_module": "@jupyter-widgets/controls",
      "model_module_version": "1.5.0",
      "model_name": "DescriptionStyleModel",
      "state": {
       "description_width": ""
      }
     },
     "85b79ebc7f034317bb806dbfd55372b0": {
      "model_module": "@jupyter-widgets/controls",
      "model_module_version": "1.5.0",
      "model_name": "DescriptionStyleModel",
      "state": {
       "description_width": ""
      }
     },
     "85ebddcd729b4e9b9fc813444273062d": {
      "model_module": "@jupyter-widgets/controls",
      "model_module_version": "1.5.0",
      "model_name": "FloatProgressModel",
      "state": {
       "layout": "IPY_MODEL_566a353322b5467ba4cd392e5075b55a",
       "max": 16,
       "style": "IPY_MODEL_a47ca5ebe8c44aedb18ad80a0b9a6073",
       "value": 16
      }
     },
     "861cd5054ec34ab1b93db48df618c028": {
      "model_module": "@jupyter-widgets/controls",
      "model_module_version": "1.5.0",
      "model_name": "ProgressStyleModel",
      "state": {
       "description_width": ""
      }
     },
     "862129bf55e74249bf17d9421f7b3930": {
      "model_module": "@jupyter-widgets/controls",
      "model_module_version": "1.5.0",
      "model_name": "FloatProgressModel",
      "state": {
       "layout": "IPY_MODEL_01c85d90e6914efab2c7b390ce18a94e",
       "max": 16,
       "style": "IPY_MODEL_f4419b639d0948d58c1bdb7e482cb291",
       "value": 16
      }
     },
     "8644b04135af4e96b7e14cd13307533e": {
      "model_module": "@jupyter-widgets/controls",
      "model_module_version": "1.5.0",
      "model_name": "DescriptionStyleModel",
      "state": {
       "description_width": ""
      }
     },
     "86693950456b42ceb8f2daf51dea313f": {
      "model_module": "@jupyter-widgets/controls",
      "model_module_version": "1.5.0",
      "model_name": "DescriptionStyleModel",
      "state": {
       "description_width": ""
      }
     },
     "86945d48b3544e8cb0b5ac2f5b2507bb": {
      "model_module": "@jupyter-widgets/controls",
      "model_module_version": "1.5.0",
      "model_name": "DescriptionStyleModel",
      "state": {
       "description_width": ""
      }
     },
     "86c9d6a444b0493dae1687299112b950": {
      "model_module": "@jupyter-widgets/controls",
      "model_module_version": "1.5.0",
      "model_name": "FloatProgressModel",
      "state": {
       "layout": "IPY_MODEL_2d150813c97d4bcc9ef390dfb4acfaab",
       "max": 16,
       "style": "IPY_MODEL_303bd8f4e7f24fe69e955b9c30ec677d",
       "value": 16
      }
     },
     "8717e5e6e7d644e385e1289d32379546": {
      "model_module": "@jupyter-widgets/controls",
      "model_module_version": "1.5.0",
      "model_name": "FloatProgressModel",
      "state": {
       "layout": "IPY_MODEL_447fac73a42345e38ad18955f5fb943c",
       "max": 16,
       "style": "IPY_MODEL_fa9c92704ee34feda7465f6e6aa93b45",
       "value": 16
      }
     },
     "87348ac5f18d4f678dfac84097a91ca9": {
      "model_module": "@jupyter-widgets/controls",
      "model_module_version": "1.5.0",
      "model_name": "FloatProgressModel",
      "state": {
       "layout": "IPY_MODEL_b1d4c55995584676b02644aa5429ff02",
       "max": 16,
       "style": "IPY_MODEL_0db90c914e944c0ead48bc75987f2f07",
       "value": 16
      }
     },
     "874ec67452da43f0be1841409a782703": {
      "model_module": "@jupyter-widgets/base",
      "model_module_version": "1.2.0",
      "model_name": "LayoutModel",
      "state": {}
     },
     "875328bdea834360b64d9b3a7c09f01f": {
      "model_module": "@jupyter-widgets/controls",
      "model_module_version": "1.5.0",
      "model_name": "HTMLModel",
      "state": {
       "layout": "IPY_MODEL_deb1ef3868cf400cae20fa2542324f36",
       "style": "IPY_MODEL_ff0b06200e2d4a8192f0427382896283",
       "value": " 16/16 [00:01&lt;00:00,  8.09it/s]"
      }
     },
     "877b27ed1b5142afb30ce49897e7c119": {
      "model_module": "@jupyter-widgets/controls",
      "model_module_version": "1.5.0",
      "model_name": "FloatProgressModel",
      "state": {
       "layout": "IPY_MODEL_1f591d6d81a44acb9cd6eb60cfdad894",
       "max": 16,
       "style": "IPY_MODEL_021cfc3edb234a06a396dddcd284869e",
       "value": 16
      }
     },
     "878ef73c20cb4cf3a390ccfdc74a4e2a": {
      "model_module": "@jupyter-widgets/controls",
      "model_module_version": "1.5.0",
      "model_name": "HTMLModel",
      "state": {
       "layout": "IPY_MODEL_8f94b15ad4b440d0bc9e2b26a071872b",
       "style": "IPY_MODEL_5e0d4f6dc7f546c7a1762cbaa3603ccb",
       "value": "Validation DataLoader 0: 100%"
      }
     },
     "87a97b97ec9e42698e6dab24404c55da": {
      "model_module": "@jupyter-widgets/base",
      "model_module_version": "1.2.0",
      "model_name": "LayoutModel",
      "state": {
       "flex": "2"
      }
     },
     "87d13156393b47bb8693896d0c5d153a": {
      "model_module": "@jupyter-widgets/base",
      "model_module_version": "1.2.0",
      "model_name": "LayoutModel",
      "state": {
       "flex": "2"
      }
     },
     "881e35685b2c4c718ac5450063132757": {
      "model_module": "@jupyter-widgets/base",
      "model_module_version": "1.2.0",
      "model_name": "LayoutModel",
      "state": {
       "display": "inline-flex",
       "flex_flow": "row wrap",
       "width": "100%"
      }
     },
     "8820fb4be6ab4d8a830a59a6548904a1": {
      "model_module": "@jupyter-widgets/base",
      "model_module_version": "1.2.0",
      "model_name": "LayoutModel",
      "state": {}
     },
     "88322601bbf54d72a0e39e5ea6379da2": {
      "model_module": "@jupyter-widgets/base",
      "model_module_version": "1.2.0",
      "model_name": "LayoutModel",
      "state": {
       "display": "inline-flex",
       "flex_flow": "row wrap",
       "width": "100%"
      }
     },
     "883e09a3368743139ee244929a1fc9b6": {
      "model_module": "@jupyter-widgets/base",
      "model_module_version": "1.2.0",
      "model_name": "LayoutModel",
      "state": {}
     },
     "8846e6a673464f2989db8e77f1d32d08": {
      "model_module": "@jupyter-widgets/controls",
      "model_module_version": "1.5.0",
      "model_name": "HTMLModel",
      "state": {
       "layout": "IPY_MODEL_0ecaf16427eb4e39bfbb0e1ba0b21260",
       "style": "IPY_MODEL_d665b796316c446ca3e54e5375a329bc",
       "value": "Validation DataLoader 0: 100%"
      }
     },
     "8860cd831f734081850dfa796f59a97d": {
      "model_module": "@jupyter-widgets/controls",
      "model_module_version": "1.5.0",
      "model_name": "HTMLModel",
      "state": {
       "layout": "IPY_MODEL_572363f4425e491c9977172c6605b7f8",
       "style": "IPY_MODEL_1f77303b5e404e9b8c48c905b711331f",
       "value": " 42/77 [00:36&lt;00:30,  1.16it/s, loss=0.0225, v_num=H-72]"
      }
     },
     "886682e2e2fb4c9580d5ea3cd9479b4d": {
      "model_module": "@jupyter-widgets/controls",
      "model_module_version": "1.5.0",
      "model_name": "HTMLModel",
      "state": {
       "layout": "IPY_MODEL_e8f340e04a484b9f9ded9ce483a9e36f",
       "style": "IPY_MODEL_17f739a96f5a4cc3986471eac6545635",
       "value": "Validation DataLoader 0: 100%"
      }
     },
     "889925e37bc04457a619da6bcbac18ca": {
      "model_module": "@jupyter-widgets/controls",
      "model_module_version": "1.5.0",
      "model_name": "HTMLModel",
      "state": {
       "layout": "IPY_MODEL_cd5faefa3a3443f8bd58d933d8d5b11b",
       "style": "IPY_MODEL_9fe1b73efa1e4e2a971201149b2830fb",
       "value": "Validation DataLoader 0: 100%"
      }
     },
     "88cf4b31ccae400eb7ae4fd27cc2d688": {
      "model_module": "@jupyter-widgets/controls",
      "model_module_version": "1.5.0",
      "model_name": "FloatProgressModel",
      "state": {
       "layout": "IPY_MODEL_58329c6a687a4f53a40a98fbdfcf4db2",
       "max": 16,
       "style": "IPY_MODEL_cf0c383618c9488eb6987fe069af2beb",
       "value": 16
      }
     },
     "88e2dc953387487f901482282e700bb2": {
      "model_module": "@jupyter-widgets/controls",
      "model_module_version": "1.5.0",
      "model_name": "FloatProgressModel",
      "state": {
       "layout": "IPY_MODEL_555d76bed8df4fc6bfa4ff00ed89af5c",
       "max": 16,
       "style": "IPY_MODEL_61d7552809da4d5a8f9f7edc78b5c5be",
       "value": 16
      }
     },
     "897ce8fda9304e7196628ae8fc479893": {
      "model_module": "@jupyter-widgets/base",
      "model_module_version": "1.2.0",
      "model_name": "LayoutModel",
      "state": {}
     },
     "898be4f4d68d46a8a28d58e64e7b4db0": {
      "model_module": "@jupyter-widgets/base",
      "model_module_version": "1.2.0",
      "model_name": "LayoutModel",
      "state": {
       "flex": "2"
      }
     },
     "89a28d7a34364217a4f962663d6aabbc": {
      "model_module": "@jupyter-widgets/controls",
      "model_module_version": "1.5.0",
      "model_name": "HTMLModel",
      "state": {
       "layout": "IPY_MODEL_f12d877998ce4e968ecbc99a0af1ba3f",
       "style": "IPY_MODEL_af9241ae17014b0ca94910e14e405c9a",
       "value": "Validation DataLoader 0: 100%"
      }
     },
     "89aecef53a3e442cb28a79eba59e12a2": {
      "model_module": "@jupyter-widgets/base",
      "model_module_version": "1.2.0",
      "model_name": "LayoutModel",
      "state": {
       "flex": "2"
      }
     },
     "89b8d616f8454a60aba5a232a7db1cec": {
      "model_module": "@jupyter-widgets/base",
      "model_module_version": "1.2.0",
      "model_name": "LayoutModel",
      "state": {
       "display": "inline-flex",
       "flex_flow": "row wrap",
       "width": "100%"
      }
     },
     "89c52e759cf5408bb7cb17351c6805f6": {
      "model_module": "@jupyter-widgets/controls",
      "model_module_version": "1.5.0",
      "model_name": "ProgressStyleModel",
      "state": {
       "description_width": ""
      }
     },
     "8a3990b3941846f296bc36daadd0a103": {
      "model_module": "@jupyter-widgets/base",
      "model_module_version": "1.2.0",
      "model_name": "LayoutModel",
      "state": {}
     },
     "8a41bad632714e1ea02c7d21f792998a": {
      "model_module": "@jupyter-widgets/controls",
      "model_module_version": "1.5.0",
      "model_name": "DescriptionStyleModel",
      "state": {
       "description_width": ""
      }
     },
     "8a44564ac3cc4a96bc14321025944b1d": {
      "model_module": "@jupyter-widgets/controls",
      "model_module_version": "1.5.0",
      "model_name": "DescriptionStyleModel",
      "state": {
       "description_width": ""
      }
     },
     "8a51497ebe95426391aee5ca17a53620": {
      "model_module": "@jupyter-widgets/controls",
      "model_module_version": "1.5.0",
      "model_name": "DescriptionStyleModel",
      "state": {
       "description_width": ""
      }
     },
     "8a53436be66843f693f9299db16f17ff": {
      "model_module": "@jupyter-widgets/controls",
      "model_module_version": "1.5.0",
      "model_name": "DescriptionStyleModel",
      "state": {
       "description_width": ""
      }
     },
     "8a5a28f98c8a4126a006c2efe782505b": {
      "model_module": "@jupyter-widgets/base",
      "model_module_version": "1.2.0",
      "model_name": "LayoutModel",
      "state": {}
     },
     "8a6a6bd619434a109895be5e5e8d3a1c": {
      "model_module": "@jupyter-widgets/controls",
      "model_module_version": "1.5.0",
      "model_name": "DescriptionStyleModel",
      "state": {
       "description_width": ""
      }
     },
     "8aa581d4f2ef466abb7ab7d6fd44e63e": {
      "model_module": "@jupyter-widgets/base",
      "model_module_version": "1.2.0",
      "model_name": "LayoutModel",
      "state": {
       "display": "inline-flex",
       "flex_flow": "row wrap",
       "width": "100%"
      }
     },
     "8aaa3965fab34fa2b7675414af745bcf": {
      "model_module": "@jupyter-widgets/controls",
      "model_module_version": "1.5.0",
      "model_name": "HTMLModel",
      "state": {
       "layout": "IPY_MODEL_32c36e3c2fe14cffa2b87b8f2c46bc20",
       "style": "IPY_MODEL_c6c6819edffd48a193c7fae3ce7012d8",
       "value": " 16/16 [00:03&lt;00:00,  4.15it/s]"
      }
     },
     "8ab21a958c20482db4569e155b0b6d1e": {
      "model_module": "@jupyter-widgets/base",
      "model_module_version": "1.2.0",
      "model_name": "LayoutModel",
      "state": {}
     },
     "8ad3912f38af487f98fd42713c5ccd21": {
      "model_module": "@jupyter-widgets/controls",
      "model_module_version": "1.5.0",
      "model_name": "ProgressStyleModel",
      "state": {
       "description_width": ""
      }
     },
     "8b4dfa5cd220402b87d3ccc9a4a5a720": {
      "model_module": "@jupyter-widgets/base",
      "model_module_version": "1.2.0",
      "model_name": "LayoutModel",
      "state": {
       "display": "inline-flex",
       "flex_flow": "row wrap",
       "width": "100%"
      }
     },
     "8b69306c6194418592ffcf845761248b": {
      "model_module": "@jupyter-widgets/base",
      "model_module_version": "1.2.0",
      "model_name": "LayoutModel",
      "state": {
       "flex": "2"
      }
     },
     "8b7620c22f934643b632be8a0ccb8414": {
      "model_module": "@jupyter-widgets/base",
      "model_module_version": "1.2.0",
      "model_name": "LayoutModel",
      "state": {
       "display": "inline-flex",
       "flex_flow": "row wrap",
       "width": "100%"
      }
     },
     "8b97dec45e234c0fb6801ae35a920312": {
      "model_module": "@jupyter-widgets/controls",
      "model_module_version": "1.5.0",
      "model_name": "ProgressStyleModel",
      "state": {
       "description_width": ""
      }
     },
     "8bbd5c32b07743fab7fd6d9becd80aa7": {
      "model_module": "@jupyter-widgets/controls",
      "model_module_version": "1.5.0",
      "model_name": "HTMLModel",
      "state": {
       "layout": "IPY_MODEL_a6ae34967cb5483ca2d964265bbc2514",
       "style": "IPY_MODEL_ca80972295784d1390bd8f8f5c87d683",
       "value": "Validation DataLoader 0: 100%"
      }
     },
     "8bc1b58721244e9b99e99b9587f613c1": {
      "model_module": "@jupyter-widgets/base",
      "model_module_version": "1.2.0",
      "model_name": "LayoutModel",
      "state": {
       "display": "inline-flex",
       "flex_flow": "row wrap",
       "width": "100%"
      }
     },
     "8bd5b53bf8d849abae70e23f2fa7ea21": {
      "model_module": "@jupyter-widgets/base",
      "model_module_version": "1.2.0",
      "model_name": "LayoutModel",
      "state": {}
     },
     "8bda34849ff0433c86b5764e1975231f": {
      "model_module": "@jupyter-widgets/controls",
      "model_module_version": "1.5.0",
      "model_name": "ProgressStyleModel",
      "state": {
       "description_width": ""
      }
     },
     "8c651b1e3f3f4fd5955c3636d57cf437": {
      "model_module": "@jupyter-widgets/controls",
      "model_module_version": "1.5.0",
      "model_name": "DescriptionStyleModel",
      "state": {
       "description_width": ""
      }
     },
     "8c73dcd9a658458fb9c2a2cf79203141": {
      "model_module": "@jupyter-widgets/controls",
      "model_module_version": "1.5.0",
      "model_name": "HTMLModel",
      "state": {
       "layout": "IPY_MODEL_6e16e332c8b34e00a888f5aab0a06faa",
       "style": "IPY_MODEL_4aa0c78afa714703a1e03257f91c8ccf",
       "value": "Validation DataLoader 0: 100%"
      }
     },
     "8c79947683e04d5fb41683734b0227dc": {
      "model_module": "@jupyter-widgets/base",
      "model_module_version": "1.2.0",
      "model_name": "LayoutModel",
      "state": {
       "display": "inline-flex",
       "flex_flow": "row wrap",
       "width": "100%"
      }
     },
     "8c9fcb7d874b4bd8804c9dd3a893a1da": {
      "model_module": "@jupyter-widgets/controls",
      "model_module_version": "1.5.0",
      "model_name": "HTMLModel",
      "state": {
       "layout": "IPY_MODEL_8a3990b3941846f296bc36daadd0a103",
       "style": "IPY_MODEL_ab6918c3877d4409b0d912a18629cdb9",
       "value": "Validation DataLoader 0: 100%"
      }
     },
     "8cd02e0ba635416493436aade887bfd5": {
      "model_module": "@jupyter-widgets/controls",
      "model_module_version": "1.5.0",
      "model_name": "FloatProgressModel",
      "state": {
       "layout": "IPY_MODEL_d6919261c4da43b3bd281ae366abba6a",
       "max": 16,
       "style": "IPY_MODEL_787124f91fea4d66ae40d06fbb12c6eb",
       "value": 16
      }
     },
     "8d064122dcb44446842f50865813fc87": {
      "model_module": "@jupyter-widgets/controls",
      "model_module_version": "1.5.0",
      "model_name": "DescriptionStyleModel",
      "state": {
       "description_width": ""
      }
     },
     "8d5eedb3c0ca4ad79bfa47e3125cfbaf": {
      "model_module": "@jupyter-widgets/controls",
      "model_module_version": "1.5.0",
      "model_name": "DescriptionStyleModel",
      "state": {
       "description_width": ""
      }
     },
     "8d62c567c5874aac93fd09e56e5fa3c3": {
      "model_module": "@jupyter-widgets/base",
      "model_module_version": "1.2.0",
      "model_name": "LayoutModel",
      "state": {}
     },
     "8db09fa3ecd94fbf80dedfa363c55862": {
      "model_module": "@jupyter-widgets/base",
      "model_module_version": "1.2.0",
      "model_name": "LayoutModel",
      "state": {}
     },
     "8de21b96344c4f98900cda506d0786fb": {
      "model_module": "@jupyter-widgets/base",
      "model_module_version": "1.2.0",
      "model_name": "LayoutModel",
      "state": {}
     },
     "8df1a7af41b34bb3a439561223e3d825": {
      "model_module": "@jupyter-widgets/controls",
      "model_module_version": "1.5.0",
      "model_name": "DescriptionStyleModel",
      "state": {
       "description_width": ""
      }
     },
     "8e138ddd2ebf4cdbb25030f091b5e01a": {
      "model_module": "@jupyter-widgets/base",
      "model_module_version": "1.2.0",
      "model_name": "LayoutModel",
      "state": {
       "display": "inline-flex",
       "flex_flow": "row wrap",
       "width": "100%"
      }
     },
     "8e2c6919418f4b19bbbec301eadad44e": {
      "model_module": "@jupyter-widgets/controls",
      "model_module_version": "1.5.0",
      "model_name": "HTMLModel",
      "state": {
       "layout": "IPY_MODEL_dda519c636304875b07c734cffe98823",
       "style": "IPY_MODEL_3cc4980159c0441eae58be7b3cf8138e",
       "value": "Sanity Checking DataLoader 0: 100%"
      }
     },
     "8e5aad739fbd422d985d35ff2e7092ae": {
      "model_module": "@jupyter-widgets/controls",
      "model_module_version": "1.5.0",
      "model_name": "FloatProgressModel",
      "state": {
       "layout": "IPY_MODEL_d12cd6fdc3d545a28ad78161f145b1e5",
       "max": 16,
       "style": "IPY_MODEL_605a779850f5435abac5fd995fab1a32",
       "value": 16
      }
     },
     "8e62d31db0094d2ab348f9815a045353": {
      "model_module": "@jupyter-widgets/controls",
      "model_module_version": "1.5.0",
      "model_name": "FloatProgressModel",
      "state": {
       "layout": "IPY_MODEL_61343e0207d5436c8f74bdbf46e52ac8",
       "max": 16,
       "style": "IPY_MODEL_6b475c27af8842c09abeac7c70cbdebe",
       "value": 16
      }
     },
     "8e643d439050493f88f5c0fbf7c89144": {
      "model_module": "@jupyter-widgets/controls",
      "model_module_version": "1.5.0",
      "model_name": "HTMLModel",
      "state": {
       "layout": "IPY_MODEL_a18bb1d59e65411bac5e7ab34e579050",
       "style": "IPY_MODEL_af276c9c5e9e49a38ac7827873c89fc7",
       "value": " 16/16 [00:03&lt;00:00,  3.86it/s]"
      }
     },
     "8e8324618fb3442a9276295130a9e297": {
      "model_module": "@jupyter-widgets/base",
      "model_module_version": "1.2.0",
      "model_name": "LayoutModel",
      "state": {}
     },
     "8ea2e91322ad471899669fea65fd42e7": {
      "model_module": "@jupyter-widgets/base",
      "model_module_version": "1.2.0",
      "model_name": "LayoutModel",
      "state": {
       "display": "inline-flex",
       "flex_flow": "row wrap",
       "width": "100%"
      }
     },
     "8ea684365e4b4f3bae8e7be5aed314a7": {
      "model_module": "@jupyter-widgets/controls",
      "model_module_version": "1.5.0",
      "model_name": "HTMLModel",
      "state": {
       "layout": "IPY_MODEL_c6c8c1c26c3e41d6a36b268c72a47785",
       "style": "IPY_MODEL_4f61e9a33681406198475da4a88b609d",
       "value": " 16/16 [00:03&lt;00:00,  4.52it/s]"
      }
     },
     "8ebff6aa4c5342809e1cc198779519a8": {
      "model_module": "@jupyter-widgets/controls",
      "model_module_version": "1.5.0",
      "model_name": "DescriptionStyleModel",
      "state": {
       "description_width": ""
      }
     },
     "8ed6e94bd6564421a8574849dab07404": {
      "model_module": "@jupyter-widgets/controls",
      "model_module_version": "1.5.0",
      "model_name": "HTMLModel",
      "state": {
       "layout": "IPY_MODEL_5b71119df10e45cca298babc54b4b7e9",
       "style": "IPY_MODEL_d678b261a96f4ce699313afa9783a1dd",
       "value": "Validation DataLoader 0: 100%"
      }
     },
     "8eee7370ff8b43d6be6a9565b445a2db": {
      "model_module": "@jupyter-widgets/base",
      "model_module_version": "1.2.0",
      "model_name": "LayoutModel",
      "state": {
       "display": "inline-flex",
       "flex_flow": "row wrap",
       "width": "100%"
      }
     },
     "8ef8cbb57fb24bd990251a8060512e93": {
      "model_module": "@jupyter-widgets/base",
      "model_module_version": "1.2.0",
      "model_name": "LayoutModel",
      "state": {
       "display": "inline-flex",
       "flex_flow": "row wrap",
       "width": "100%"
      }
     },
     "8f064ee6d63947dfa130430b23d1690c": {
      "model_module": "@jupyter-widgets/controls",
      "model_module_version": "1.5.0",
      "model_name": "DescriptionStyleModel",
      "state": {
       "description_width": ""
      }
     },
     "8f1b5348e926488c9e7ee6453ed5a9b7": {
      "model_module": "@jupyter-widgets/base",
      "model_module_version": "1.2.0",
      "model_name": "LayoutModel",
      "state": {}
     },
     "8f23a93226f5447b960e29cbf4541fe3": {
      "model_module": "@jupyter-widgets/base",
      "model_module_version": "1.2.0",
      "model_name": "LayoutModel",
      "state": {
       "display": "inline-flex",
       "flex_flow": "row wrap",
       "width": "100%"
      }
     },
     "8f4b2dba5e624195b40dbb8b8ebb6811": {
      "model_module": "@jupyter-widgets/base",
      "model_module_version": "1.2.0",
      "model_name": "LayoutModel",
      "state": {}
     },
     "8f4c6b11b5eb48e582c9bebad0627fe4": {
      "model_module": "@jupyter-widgets/controls",
      "model_module_version": "1.5.0",
      "model_name": "FloatProgressModel",
      "state": {
       "layout": "IPY_MODEL_1cb25bcd7fac45ce9d7086677bbddbea",
       "max": 16,
       "style": "IPY_MODEL_4a09c7898992486cb941ed6e3bb3849b",
       "value": 16
      }
     },
     "8f6f28634c154ab19c955c988b6aec6c": {
      "model_module": "@jupyter-widgets/controls",
      "model_module_version": "1.5.0",
      "model_name": "HBoxModel",
      "state": {
       "children": [
        "IPY_MODEL_37219fe7a9cb4ca4bcd31d8fcc6d8aea",
        "IPY_MODEL_aa380d094e744c53a065e8160e1e967b",
        "IPY_MODEL_9d9adf6f543c48078dc8b28f8e3c3e8b"
       ],
       "layout": "IPY_MODEL_5984e9b03e7f46e49afbbcf28c251d12"
      }
     },
     "8f94b15ad4b440d0bc9e2b26a071872b": {
      "model_module": "@jupyter-widgets/base",
      "model_module_version": "1.2.0",
      "model_name": "LayoutModel",
      "state": {}
     },
     "8f9ffc87b4c34cf7874a18ff8494fa6b": {
      "model_module": "@jupyter-widgets/controls",
      "model_module_version": "1.5.0",
      "model_name": "HTMLModel",
      "state": {
       "layout": "IPY_MODEL_6010d8de89764380a85c7a3e49d9509b",
       "style": "IPY_MODEL_f591641bb4cd4a97a37b12895953cb34",
       "value": "Validation DataLoader 0: 100%"
      }
     },
     "8fba87cd3320419f9e8aac36093b383f": {
      "model_module": "@jupyter-widgets/base",
      "model_module_version": "1.2.0",
      "model_name": "LayoutModel",
      "state": {
       "display": "inline-flex",
       "flex_flow": "row wrap",
       "width": "100%"
      }
     },
     "8fdb074e86be4951b6954915db6e8401": {
      "model_module": "@jupyter-widgets/controls",
      "model_module_version": "1.5.0",
      "model_name": "HTMLModel",
      "state": {
       "layout": "IPY_MODEL_fc7ac775ed81499d827dbfe68c3dd2dd",
       "style": "IPY_MODEL_e166e48cdd1d4d5da6dcc48fa6cd76f8",
       "value": " 16/16 [00:06&lt;00:00,  1.96it/s]"
      }
     },
     "8fe0371f73b64f4cab0b50f1258fea5d": {
      "model_module": "@jupyter-widgets/controls",
      "model_module_version": "1.5.0",
      "model_name": "ProgressStyleModel",
      "state": {
       "description_width": ""
      }
     },
     "8fe8a268886f485e8b2cb50c6b188f12": {
      "model_module": "@jupyter-widgets/controls",
      "model_module_version": "1.5.0",
      "model_name": "FloatProgressModel",
      "state": {
       "layout": "IPY_MODEL_dc86dab91c844aceb2661714816119b3",
       "max": 16,
       "style": "IPY_MODEL_5d92f05b354f40a0ad82e3c3904f5ce9",
       "value": 16
      }
     },
     "8ff450bcb2244e75a61a6a70d4d9a7f5": {
      "model_module": "@jupyter-widgets/controls",
      "model_module_version": "1.5.0",
      "model_name": "ProgressStyleModel",
      "state": {
       "description_width": ""
      }
     },
     "8ffe8e97686b45bfae466a288f723404": {
      "model_module": "@jupyter-widgets/controls",
      "model_module_version": "1.5.0",
      "model_name": "DescriptionStyleModel",
      "state": {
       "description_width": ""
      }
     },
     "901aabb049014733ba6b0f58253a1314": {
      "model_module": "@jupyter-widgets/controls",
      "model_module_version": "1.5.0",
      "model_name": "DescriptionStyleModel",
      "state": {
       "description_width": ""
      }
     },
     "902e89e51bff42a39346164ec92243f7": {
      "model_module": "@jupyter-widgets/controls",
      "model_module_version": "1.5.0",
      "model_name": "ProgressStyleModel",
      "state": {
       "description_width": ""
      }
     },
     "9038f3e976b74f409d578be2e756727e": {
      "model_module": "@jupyter-widgets/base",
      "model_module_version": "1.2.0",
      "model_name": "LayoutModel",
      "state": {
       "flex": "2"
      }
     },
     "90546f0271a54489a6516c015b3f2f28": {
      "model_module": "@jupyter-widgets/base",
      "model_module_version": "1.2.0",
      "model_name": "LayoutModel",
      "state": {
       "display": "inline-flex",
       "flex_flow": "row wrap",
       "width": "100%"
      }
     },
     "905d22ce72c849169da36a0b9338c2fd": {
      "model_module": "@jupyter-widgets/controls",
      "model_module_version": "1.5.0",
      "model_name": "DescriptionStyleModel",
      "state": {
       "description_width": ""
      }
     },
     "9062191b066b42f39706563b1ff8655f": {
      "model_module": "@jupyter-widgets/base",
      "model_module_version": "1.2.0",
      "model_name": "LayoutModel",
      "state": {
       "display": "inline-flex",
       "flex_flow": "row wrap",
       "width": "100%"
      }
     },
     "90d2d4cbed174d7ca7c9505730353792": {
      "model_module": "@jupyter-widgets/controls",
      "model_module_version": "1.5.0",
      "model_name": "HTMLModel",
      "state": {
       "layout": "IPY_MODEL_e8f993b81a00436cae1c637709ee7b9b",
       "style": "IPY_MODEL_332b835a432f4857959a2fc1a73ccba2",
       "value": "Validation DataLoader 0: 100%"
      }
     },
     "914b664051bd4b51a8e2fc056ea803e8": {
      "model_module": "@jupyter-widgets/base",
      "model_module_version": "1.2.0",
      "model_name": "LayoutModel",
      "state": {}
     },
     "917deeffc550476a9ed2f8288297ed72": {
      "model_module": "@jupyter-widgets/controls",
      "model_module_version": "1.5.0",
      "model_name": "FloatProgressModel",
      "state": {
       "layout": "IPY_MODEL_c6aa4abce47548b9a25c59fe3d31f4cd",
       "max": 16,
       "style": "IPY_MODEL_cb69a32c08874bc398a50a681896d056",
       "value": 16
      }
     },
     "91b2fc34e0c043feb12e66b4715e8afe": {
      "model_module": "@jupyter-widgets/controls",
      "model_module_version": "1.5.0",
      "model_name": "HTMLModel",
      "state": {
       "layout": "IPY_MODEL_f08a9577a7e04e049f318353f1ca179c",
       "style": "IPY_MODEL_6a7bc42f19904c95a798ea6fcd99efec",
       "value": " 16/16 [00:02&lt;00:00,  7.08it/s]"
      }
     },
     "91d4f511fae84b8d8dd415775b779fd2": {
      "model_module": "@jupyter-widgets/base",
      "model_module_version": "1.2.0",
      "model_name": "LayoutModel",
      "state": {
       "display": "inline-flex",
       "flex_flow": "row wrap",
       "width": "100%"
      }
     },
     "91e4f436996a4c808f33ac693c2c7e64": {
      "model_module": "@jupyter-widgets/controls",
      "model_module_version": "1.5.0",
      "model_name": "ProgressStyleModel",
      "state": {
       "description_width": ""
      }
     },
     "91fab43fbe1e4828a4398e72e266706f": {
      "model_module": "@jupyter-widgets/controls",
      "model_module_version": "1.5.0",
      "model_name": "ProgressStyleModel",
      "state": {
       "description_width": ""
      }
     },
     "92432257958549d5b2024eae18fefcc1": {
      "model_module": "@jupyter-widgets/controls",
      "model_module_version": "1.5.0",
      "model_name": "ProgressStyleModel",
      "state": {
       "description_width": ""
      }
     },
     "924a7c45385149ada9b18b2436c521d1": {
      "model_module": "@jupyter-widgets/base",
      "model_module_version": "1.2.0",
      "model_name": "LayoutModel",
      "state": {}
     },
     "927d4f05fee44a78a763842cbe48b439": {
      "model_module": "@jupyter-widgets/base",
      "model_module_version": "1.2.0",
      "model_name": "LayoutModel",
      "state": {}
     },
     "927ffa05f2ac406b831c208e0422d69f": {
      "model_module": "@jupyter-widgets/controls",
      "model_module_version": "1.5.0",
      "model_name": "ProgressStyleModel",
      "state": {
       "description_width": ""
      }
     },
     "92acc44e6de840a4a1b9023f0da2780e": {
      "model_module": "@jupyter-widgets/base",
      "model_module_version": "1.2.0",
      "model_name": "LayoutModel",
      "state": {
       "display": "inline-flex",
       "flex_flow": "row wrap",
       "width": "100%"
      }
     },
     "92e25880a17e409dbad1cde8561ec050": {
      "model_module": "@jupyter-widgets/controls",
      "model_module_version": "1.5.0",
      "model_name": "FloatProgressModel",
      "state": {
       "layout": "IPY_MODEL_fc242848f1d94204ba6355f03cb15729",
       "max": 16,
       "style": "IPY_MODEL_0e1a7d479cd34d63ac1ab120fca964fb",
       "value": 16
      }
     },
     "92efe4b7f231499aa2206048de5d1d06": {
      "model_module": "@jupyter-widgets/controls",
      "model_module_version": "1.5.0",
      "model_name": "HTMLModel",
      "state": {
       "layout": "IPY_MODEL_cd42eed40a874a5e8ab651243ad74dfa",
       "style": "IPY_MODEL_629b7b1a3ee846d693758d41f119a072",
       "value": " 16/16 [00:04&lt;00:00,  3.42it/s]"
      }
     },
     "931d76e611534bb694b915ded15f8dbe": {
      "model_module": "@jupyter-widgets/base",
      "model_module_version": "1.2.0",
      "model_name": "LayoutModel",
      "state": {
       "flex": "2"
      }
     },
     "933c75ffaef646339d0b959b1e81f0a0": {
      "model_module": "@jupyter-widgets/controls",
      "model_module_version": "1.5.0",
      "model_name": "HTMLModel",
      "state": {
       "layout": "IPY_MODEL_306b0cc9f63444729ba9a5a534550d2d",
       "style": "IPY_MODEL_7c886f16e0324d0dacf1ceba4bddc801",
       "value": " 16/16 [00:05&lt;00:00,  2.72it/s]"
      }
     },
     "93696292182749d6b8f122bd680bb7f7": {
      "model_module": "@jupyter-widgets/controls",
      "model_module_version": "1.5.0",
      "model_name": "ProgressStyleModel",
      "state": {
       "description_width": ""
      }
     },
     "936dec8411d7460ab312d3307da53fdd": {
      "model_module": "@jupyter-widgets/base",
      "model_module_version": "1.2.0",
      "model_name": "LayoutModel",
      "state": {
       "display": "inline-flex",
       "flex_flow": "row wrap",
       "width": "100%"
      }
     },
     "93a9ab98b7aa44a18aa408a6ba5c326b": {
      "model_module": "@jupyter-widgets/controls",
      "model_module_version": "1.5.0",
      "model_name": "FloatProgressModel",
      "state": {
       "layout": "IPY_MODEL_fd940e0a1bfa4b72ac55f71f086869ad",
       "max": 16,
       "style": "IPY_MODEL_91e4f436996a4c808f33ac693c2c7e64",
       "value": 16
      }
     },
     "93d103b85122492686d71c2bffa4dd36": {
      "model_module": "@jupyter-widgets/base",
      "model_module_version": "1.2.0",
      "model_name": "LayoutModel",
      "state": {
       "flex": "2"
      }
     },
     "93d79feb1b264cdd8e400857973e44e0": {
      "model_module": "@jupyter-widgets/controls",
      "model_module_version": "1.5.0",
      "model_name": "ProgressStyleModel",
      "state": {
       "description_width": ""
      }
     },
     "942dfff52f9a4f0eb6eb904b5be3dc7a": {
      "model_module": "@jupyter-widgets/controls",
      "model_module_version": "1.5.0",
      "model_name": "ProgressStyleModel",
      "state": {
       "description_width": ""
      }
     },
     "947f5672e21747b1987a68bdd8e63eba": {
      "model_module": "@jupyter-widgets/controls",
      "model_module_version": "1.5.0",
      "model_name": "ProgressStyleModel",
      "state": {
       "description_width": ""
      }
     },
     "94829145fc844f178a5527d396efaf06": {
      "model_module": "@jupyter-widgets/controls",
      "model_module_version": "1.5.0",
      "model_name": "DescriptionStyleModel",
      "state": {
       "description_width": ""
      }
     },
     "948a72fe7da240ad900f5d783daf0d58": {
      "model_module": "@jupyter-widgets/controls",
      "model_module_version": "1.5.0",
      "model_name": "DescriptionStyleModel",
      "state": {
       "description_width": ""
      }
     },
     "94c86524fc0a42389070fd2920553e91": {
      "model_module": "@jupyter-widgets/controls",
      "model_module_version": "1.5.0",
      "model_name": "HTMLModel",
      "state": {
       "layout": "IPY_MODEL_992d798bf26543408e1dcaf98dc1d072",
       "style": "IPY_MODEL_bf12472d66fc4a95b9383a97e0ddb973",
       "value": " 16/16 [00:05&lt;00:00,  3.02it/s]"
      }
     },
     "94f96ca5b8f746f5bdf25dbaff84071e": {
      "model_module": "@jupyter-widgets/base",
      "model_module_version": "1.2.0",
      "model_name": "LayoutModel",
      "state": {}
     },
     "953317c942a642ac9eda644ee14bf712": {
      "model_module": "@jupyter-widgets/controls",
      "model_module_version": "1.5.0",
      "model_name": "HTMLModel",
      "state": {
       "layout": "IPY_MODEL_7bc5bceb1f5d45c6842e1566d0d3b889",
       "style": "IPY_MODEL_e9b6e6a3bf62452d8abde57436ee01eb",
       "value": "Validation DataLoader 0: 100%"
      }
     },
     "9553869276de4b938a2d6e3dcb744425": {
      "model_module": "@jupyter-widgets/controls",
      "model_module_version": "1.5.0",
      "model_name": "HTMLModel",
      "state": {
       "layout": "IPY_MODEL_a70d818d71e04c058b963bdc9b8f896b",
       "style": "IPY_MODEL_af3a18830427491089c7178574c68729",
       "value": "Validation DataLoader 0:  25%"
      }
     },
     "955dab7e584e453597a0f6b3588f329b": {
      "model_module": "@jupyter-widgets/base",
      "model_module_version": "1.2.0",
      "model_name": "LayoutModel",
      "state": {
       "display": "inline-flex",
       "flex_flow": "row wrap",
       "width": "100%"
      }
     },
     "956e363d98ba4d97a02c01948bdcdcff": {
      "model_module": "@jupyter-widgets/controls",
      "model_module_version": "1.5.0",
      "model_name": "DescriptionStyleModel",
      "state": {
       "description_width": ""
      }
     },
     "9574330f54fa47acbece81c9ee4ec731": {
      "model_module": "@jupyter-widgets/base",
      "model_module_version": "1.2.0",
      "model_name": "LayoutModel",
      "state": {
       "display": "inline-flex",
       "flex_flow": "row wrap",
       "width": "100%"
      }
     },
     "9585eaf8b0f54ef58587d54f26c0b630": {
      "model_module": "@jupyter-widgets/base",
      "model_module_version": "1.2.0",
      "model_name": "LayoutModel",
      "state": {
       "flex": "2"
      }
     },
     "959157a6f152450da093b78b2f8e4b2c": {
      "model_module": "@jupyter-widgets/controls",
      "model_module_version": "1.5.0",
      "model_name": "HTMLModel",
      "state": {
       "layout": "IPY_MODEL_c7e676f0595d4704ab03831569f969ae",
       "style": "IPY_MODEL_aada30a1e83b4bb68d846d4d37cb0cb5",
       "value": "Validation DataLoader 0: 100%"
      }
     },
     "95a92951f18649ebaae6a40025c341f3": {
      "model_module": "@jupyter-widgets/controls",
      "model_module_version": "1.5.0",
      "model_name": "DescriptionStyleModel",
      "state": {
       "description_width": ""
      }
     },
     "95adca092a0845b29b685b1f261a538e": {
      "model_module": "@jupyter-widgets/base",
      "model_module_version": "1.2.0",
      "model_name": "LayoutModel",
      "state": {
       "display": "inline-flex",
       "flex_flow": "row wrap",
       "width": "100%"
      }
     },
     "95e5a20adebf489fa3f593fd7bffb0b6": {
      "model_module": "@jupyter-widgets/base",
      "model_module_version": "1.2.0",
      "model_name": "LayoutModel",
      "state": {}
     },
     "9600c0eecc30434c9d5e6e6fbf91c8df": {
      "model_module": "@jupyter-widgets/controls",
      "model_module_version": "1.5.0",
      "model_name": "HBoxModel",
      "state": {
       "children": [
        "IPY_MODEL_9d734fa6c65b4e6a9b5c6df6563932f1",
        "IPY_MODEL_ad397374350d43d6a1dc0d50ac04b8d8",
        "IPY_MODEL_3023a8a3796349f48147a2d4552b6554"
       ],
       "layout": "IPY_MODEL_09b7e35b72394786bcd88b8adb7860bc"
      }
     },
     "9617d696b8db4d609be527cb11ae9412": {
      "model_module": "@jupyter-widgets/controls",
      "model_module_version": "1.5.0",
      "model_name": "DescriptionStyleModel",
      "state": {
       "description_width": ""
      }
     },
     "9626bcac76ac41d79a544e0b73654b8a": {
      "model_module": "@jupyter-widgets/base",
      "model_module_version": "1.2.0",
      "model_name": "LayoutModel",
      "state": {}
     },
     "96464019f0e74e09bd57b4ff1f4d30ad": {
      "model_module": "@jupyter-widgets/base",
      "model_module_version": "1.2.0",
      "model_name": "LayoutModel",
      "state": {
       "display": "inline-flex",
       "flex_flow": "row wrap",
       "width": "100%"
      }
     },
     "965ded9bcd024d29806fce588beafe83": {
      "model_module": "@jupyter-widgets/controls",
      "model_module_version": "1.5.0",
      "model_name": "HTMLModel",
      "state": {
       "layout": "IPY_MODEL_cda05e28bc4642169d49560737628174",
       "style": "IPY_MODEL_a5a1497cf79b487b94b476cec6b49122",
       "value": " 16/16 [00:01&lt;00:00,  7.92it/s]"
      }
     },
     "966cf6ef5fcc4d8388a8aa73c140fc0f": {
      "model_module": "@jupyter-widgets/controls",
      "model_module_version": "1.5.0",
      "model_name": "DescriptionStyleModel",
      "state": {
       "description_width": ""
      }
     },
     "96844c106cd64fa1a0b3ef4abb3253d0": {
      "model_module": "@jupyter-widgets/base",
      "model_module_version": "1.2.0",
      "model_name": "LayoutModel",
      "state": {
       "flex": "2"
      }
     },
     "9699746ff98948fbb58ac554d9166779": {
      "model_module": "@jupyter-widgets/base",
      "model_module_version": "1.2.0",
      "model_name": "LayoutModel",
      "state": {
       "flex": "2"
      }
     },
     "96a1a4cb3e8a451fb86cce655f2d6148": {
      "model_module": "@jupyter-widgets/controls",
      "model_module_version": "1.5.0",
      "model_name": "ProgressStyleModel",
      "state": {
       "description_width": ""
      }
     },
     "96c95da6fcb74fb9a1b9d6ddc30f5ea4": {
      "model_module": "@jupyter-widgets/base",
      "model_module_version": "1.2.0",
      "model_name": "LayoutModel",
      "state": {
       "flex": "2"
      }
     },
     "9729885597364d728bdc9b2f50a1b73a": {
      "model_module": "@jupyter-widgets/controls",
      "model_module_version": "1.5.0",
      "model_name": "HTMLModel",
      "state": {
       "layout": "IPY_MODEL_45fe9bce62bd459f8c9f68998108427c",
       "style": "IPY_MODEL_699e98f9d8cb4fa5b55bcc84d7345252",
       "value": "Validation DataLoader 0: 100%"
      }
     },
     "973a5bac360b434f9ead9e1d47be6172": {
      "model_module": "@jupyter-widgets/base",
      "model_module_version": "1.2.0",
      "model_name": "LayoutModel",
      "state": {}
     },
     "973d5ba36c874e018a339b993aefacf0": {
      "model_module": "@jupyter-widgets/base",
      "model_module_version": "1.2.0",
      "model_name": "LayoutModel",
      "state": {}
     },
     "97502baf50cb41ee9ce164485ed409d1": {
      "model_module": "@jupyter-widgets/controls",
      "model_module_version": "1.5.0",
      "model_name": "HTMLModel",
      "state": {
       "layout": "IPY_MODEL_6d3f5a2924dc4005bb2f6c71226dad9f",
       "style": "IPY_MODEL_5eca76ee4de347ce84b27d42269afed6",
       "value": "Validation DataLoader 0: 100%"
      }
     },
     "979de18cd62847f3994270fb1bda8cd3": {
      "model_module": "@jupyter-widgets/controls",
      "model_module_version": "1.5.0",
      "model_name": "HTMLModel",
      "state": {
       "layout": "IPY_MODEL_ee540ee21b4c415ebdfc5f9fb8b26eb6",
       "style": "IPY_MODEL_acc7bdc2918b4619ad4e03ec9edd3b0f",
       "value": "Validation DataLoader 0: 100%"
      }
     },
     "979f5d1246954f9699530dfc3c738665": {
      "model_module": "@jupyter-widgets/base",
      "model_module_version": "1.2.0",
      "model_name": "LayoutModel",
      "state": {
       "display": "inline-flex",
       "flex_flow": "row wrap",
       "width": "100%"
      }
     },
     "97a123eaa57342da9fa6c508805229fa": {
      "model_module": "@jupyter-widgets/controls",
      "model_module_version": "1.5.0",
      "model_name": "HTMLModel",
      "state": {
       "layout": "IPY_MODEL_dfec207830b24d109a79cc9a8c4136da",
       "style": "IPY_MODEL_2dffea4d7a414026bf756802a097ec67",
       "value": "Validation DataLoader 0: 100%"
      }
     },
     "97aafcd6c89d4688a7a39e7be69fc8f6": {
      "model_module": "@jupyter-widgets/controls",
      "model_module_version": "1.5.0",
      "model_name": "DescriptionStyleModel",
      "state": {
       "description_width": ""
      }
     },
     "97beb6469a9c4fafa031235ee6b62981": {
      "model_module": "@jupyter-widgets/controls",
      "model_module_version": "1.5.0",
      "model_name": "DescriptionStyleModel",
      "state": {
       "description_width": ""
      }
     },
     "97e28bfe246a414bb6f50cbf65cff1f8": {
      "model_module": "@jupyter-widgets/controls",
      "model_module_version": "1.5.0",
      "model_name": "DescriptionStyleModel",
      "state": {
       "description_width": ""
      }
     },
     "97ee78212030476d8041d6a22c7232d6": {
      "model_module": "@jupyter-widgets/base",
      "model_module_version": "1.2.0",
      "model_name": "LayoutModel",
      "state": {
       "display": "inline-flex",
       "flex_flow": "row wrap",
       "width": "100%"
      }
     },
     "982221fbdf954fca8c2a88cb9abd795b": {
      "model_module": "@jupyter-widgets/base",
      "model_module_version": "1.2.0",
      "model_name": "LayoutModel",
      "state": {}
     },
     "982764d5675e4f5a998e56490c2e7b91": {
      "model_module": "@jupyter-widgets/controls",
      "model_module_version": "1.5.0",
      "model_name": "DescriptionStyleModel",
      "state": {
       "description_width": ""
      }
     },
     "985ae216f29d470a82a291cf8515d1ec": {
      "model_module": "@jupyter-widgets/controls",
      "model_module_version": "1.5.0",
      "model_name": "ProgressStyleModel",
      "state": {
       "description_width": ""
      }
     },
     "98c099b62c6a4ee7af3f119290416c9f": {
      "model_module": "@jupyter-widgets/base",
      "model_module_version": "1.2.0",
      "model_name": "LayoutModel",
      "state": {}
     },
     "98d42040273d4266aa2b5acc0d384085": {
      "model_module": "@jupyter-widgets/controls",
      "model_module_version": "1.5.0",
      "model_name": "DescriptionStyleModel",
      "state": {
       "description_width": ""
      }
     },
     "991892a6850945f8ab32f05be4753034": {
      "model_module": "@jupyter-widgets/base",
      "model_module_version": "1.2.0",
      "model_name": "LayoutModel",
      "state": {
       "display": "inline-flex",
       "flex_flow": "row wrap",
       "width": "100%"
      }
     },
     "992d798bf26543408e1dcaf98dc1d072": {
      "model_module": "@jupyter-widgets/base",
      "model_module_version": "1.2.0",
      "model_name": "LayoutModel",
      "state": {}
     },
     "9939fc7b594849f9bc7b7dab71cbf15f": {
      "model_module": "@jupyter-widgets/base",
      "model_module_version": "1.2.0",
      "model_name": "LayoutModel",
      "state": {}
     },
     "99d6effd066e45c096ea037e36ed2055": {
      "model_module": "@jupyter-widgets/base",
      "model_module_version": "1.2.0",
      "model_name": "LayoutModel",
      "state": {
       "flex": "2"
      }
     },
     "9a2e831167f24f17907630ac251dfe1a": {
      "model_module": "@jupyter-widgets/controls",
      "model_module_version": "1.5.0",
      "model_name": "DescriptionStyleModel",
      "state": {
       "description_width": ""
      }
     },
     "9a2eafde554f44fa92a0736ded888f5e": {
      "model_module": "@jupyter-widgets/base",
      "model_module_version": "1.2.0",
      "model_name": "LayoutModel",
      "state": {}
     },
     "9a359a4bd4b04251b0f7a9a6ef389655": {
      "model_module": "@jupyter-widgets/controls",
      "model_module_version": "1.5.0",
      "model_name": "ProgressStyleModel",
      "state": {
       "description_width": ""
      }
     },
     "9a3c8ca9a3a14472ac049f3c7c9df428": {
      "model_module": "@jupyter-widgets/controls",
      "model_module_version": "1.5.0",
      "model_name": "HTMLModel",
      "state": {
       "layout": "IPY_MODEL_34e7374737e843a6a8248b81de418ef0",
       "style": "IPY_MODEL_a7baa647b2f146578687fcd045dcdb73",
       "value": "Validation DataLoader 0: 100%"
      }
     },
     "9a5575eb8ee940479fb965f011b1b046": {
      "model_module": "@jupyter-widgets/controls",
      "model_module_version": "1.5.0",
      "model_name": "DescriptionStyleModel",
      "state": {
       "description_width": ""
      }
     },
     "9a72cd9540034f939487219d5c712cd9": {
      "model_module": "@jupyter-widgets/base",
      "model_module_version": "1.2.0",
      "model_name": "LayoutModel",
      "state": {}
     },
     "9a82db1c637e4e9fa9701247c1bcad92": {
      "model_module": "@jupyter-widgets/controls",
      "model_module_version": "1.5.0",
      "model_name": "DescriptionStyleModel",
      "state": {
       "description_width": ""
      }
     },
     "9ab90b43446b4169b8334206f99de31e": {
      "model_module": "@jupyter-widgets/controls",
      "model_module_version": "1.5.0",
      "model_name": "HTMLModel",
      "state": {
       "layout": "IPY_MODEL_56538c186c654bad95098dab98198190",
       "style": "IPY_MODEL_14f9e070520840b5a9a282cf91edad96",
       "value": "Validation DataLoader 0: 100%"
      }
     },
     "9ad7595ab7184f40bb78d94007cc08a3": {
      "model_module": "@jupyter-widgets/controls",
      "model_module_version": "1.5.0",
      "model_name": "ProgressStyleModel",
      "state": {
       "description_width": ""
      }
     },
     "9b2d96fea6ae45a0be7fe97087b82edf": {
      "model_module": "@jupyter-widgets/base",
      "model_module_version": "1.2.0",
      "model_name": "LayoutModel",
      "state": {
       "flex": "2"
      }
     },
     "9b343b05eba147fa9b2ac41bccf2f06b": {
      "model_module": "@jupyter-widgets/base",
      "model_module_version": "1.2.0",
      "model_name": "LayoutModel",
      "state": {
       "flex": "2"
      }
     },
     "9b38c1ce6ce1447da57f9034bae90a6d": {
      "model_module": "@jupyter-widgets/base",
      "model_module_version": "1.2.0",
      "model_name": "LayoutModel",
      "state": {
       "display": "inline-flex",
       "flex_flow": "row wrap",
       "width": "100%"
      }
     },
     "9b63fffb56a54e2e985ae75bf74f674e": {
      "model_module": "@jupyter-widgets/base",
      "model_module_version": "1.2.0",
      "model_name": "LayoutModel",
      "state": {}
     },
     "9b8ac971fca24b5189c6744a6fdbaaf5": {
      "model_module": "@jupyter-widgets/controls",
      "model_module_version": "1.5.0",
      "model_name": "FloatProgressModel",
      "state": {
       "layout": "IPY_MODEL_0d4d7d8daa7e460ea9147e483487acd0",
       "max": 16,
       "style": "IPY_MODEL_6735ee2ec37d4d08ac621089bdaf5576",
       "value": 16
      }
     },
     "9bb7b3fe5486434dbde62395234a56d6": {
      "model_module": "@jupyter-widgets/controls",
      "model_module_version": "1.5.0",
      "model_name": "DescriptionStyleModel",
      "state": {
       "description_width": ""
      }
     },
     "9bf74d0fbb9a418c8709d780a47c2851": {
      "model_module": "@jupyter-widgets/base",
      "model_module_version": "1.2.0",
      "model_name": "LayoutModel",
      "state": {}
     },
     "9c0cd118024244ae940f15269361e5cf": {
      "model_module": "@jupyter-widgets/base",
      "model_module_version": "1.2.0",
      "model_name": "LayoutModel",
      "state": {}
     },
     "9c0d07a4f13e49ee86a722814d381240": {
      "model_module": "@jupyter-widgets/controls",
      "model_module_version": "1.5.0",
      "model_name": "DescriptionStyleModel",
      "state": {
       "description_width": ""
      }
     },
     "9c9fed781fce4da5a1b8641c45ebd631": {
      "model_module": "@jupyter-widgets/base",
      "model_module_version": "1.2.0",
      "model_name": "LayoutModel",
      "state": {}
     },
     "9ca6a438b720417d9758b7d31fb93fab": {
      "model_module": "@jupyter-widgets/controls",
      "model_module_version": "1.5.0",
      "model_name": "DescriptionStyleModel",
      "state": {
       "description_width": ""
      }
     },
     "9cbeb7cc71f84cb691384b6789959b30": {
      "model_module": "@jupyter-widgets/controls",
      "model_module_version": "1.5.0",
      "model_name": "ProgressStyleModel",
      "state": {
       "description_width": ""
      }
     },
     "9cffc5b821734ccfb8b837126182911b": {
      "model_module": "@jupyter-widgets/base",
      "model_module_version": "1.2.0",
      "model_name": "LayoutModel",
      "state": {
       "display": "inline-flex",
       "flex_flow": "row wrap",
       "width": "100%"
      }
     },
     "9d05308d869a4740919f68616ab556d6": {
      "model_module": "@jupyter-widgets/base",
      "model_module_version": "1.2.0",
      "model_name": "LayoutModel",
      "state": {
       "display": "inline-flex",
       "flex_flow": "row wrap",
       "width": "100%"
      }
     },
     "9d734fa6c65b4e6a9b5c6df6563932f1": {
      "model_module": "@jupyter-widgets/controls",
      "model_module_version": "1.5.0",
      "model_name": "HTMLModel",
      "state": {
       "layout": "IPY_MODEL_5c4b0e7557774fc5b998eeec83eb273a",
       "style": "IPY_MODEL_147773dc4c3f4de288ae5f029f96b21a",
       "value": "Validation"
      }
     },
     "9d7c9960201e419ea77748b68b9ba558": {
      "model_module": "@jupyter-widgets/controls",
      "model_module_version": "1.5.0",
      "model_name": "FloatProgressModel",
      "state": {
       "layout": "IPY_MODEL_c2d12383e69c4c88a7f52d5ffbbd4ea1",
       "max": 16,
       "style": "IPY_MODEL_ad60985931b7454cb4d112d17bd7fb36",
       "value": 16
      }
     },
     "9d7eaf4e36b844be8f18868a6f4a35c1": {
      "model_module": "@jupyter-widgets/base",
      "model_module_version": "1.2.0",
      "model_name": "LayoutModel",
      "state": {
       "display": "inline-flex",
       "flex_flow": "row wrap",
       "width": "100%"
      }
     },
     "9d922dd408ea449197e400e7f3dbbbcd": {
      "model_module": "@jupyter-widgets/controls",
      "model_module_version": "1.5.0",
      "model_name": "HTMLModel",
      "state": {
       "layout": "IPY_MODEL_4299133d98ba4c46b3bd48f8bcf3bc51",
       "style": "IPY_MODEL_86693950456b42ceb8f2daf51dea313f",
       "value": " 16/16 [00:06&lt;00:00,  2.28it/s]"
      }
     },
     "9d9adf6f543c48078dc8b28f8e3c3e8b": {
      "model_module": "@jupyter-widgets/controls",
      "model_module_version": "1.5.0",
      "model_name": "HTMLModel",
      "state": {
       "layout": "IPY_MODEL_4433ff356e684bbb9299a47601d18704",
       "style": "IPY_MODEL_febd6291afca4098aa6c392fea4bf423",
       "value": " 77/77 [00:22&lt;00:00,  3.42it/s, loss=0.000594, v_num=H-70]"
      }
     },
     "9dbbe04f955f48f587c0ad9bbb96b5ac": {
      "model_module": "@jupyter-widgets/controls",
      "model_module_version": "1.5.0",
      "model_name": "ProgressStyleModel",
      "state": {
       "description_width": ""
      }
     },
     "9dc24dd8d88d426ca24ec8142f6c5747": {
      "model_module": "@jupyter-widgets/controls",
      "model_module_version": "1.5.0",
      "model_name": "HTMLModel",
      "state": {
       "layout": "IPY_MODEL_9f43c3decb55418fae8fb4708c48a3db",
       "style": "IPY_MODEL_59642cca7b4646b4b2c74f41c7e4ea00",
       "value": "Validation DataLoader 0: 100%"
      }
     },
     "9ddad015a30c45d5908fc6a15f8d78f1": {
      "model_module": "@jupyter-widgets/base",
      "model_module_version": "1.2.0",
      "model_name": "LayoutModel",
      "state": {}
     },
     "9e164083085647efad4892ae0ebf3295": {
      "model_module": "@jupyter-widgets/controls",
      "model_module_version": "1.5.0",
      "model_name": "DescriptionStyleModel",
      "state": {
       "description_width": ""
      }
     },
     "9e5597929f3d49539396194b439d01a3": {
      "model_module": "@jupyter-widgets/base",
      "model_module_version": "1.2.0",
      "model_name": "LayoutModel",
      "state": {
       "display": "inline-flex",
       "flex_flow": "row wrap",
       "width": "100%"
      }
     },
     "9ec533ea131943c99e340f99b6165242": {
      "model_module": "@jupyter-widgets/base",
      "model_module_version": "1.2.0",
      "model_name": "LayoutModel",
      "state": {}
     },
     "9ede6bd60f534acba431e24c55a91898": {
      "model_module": "@jupyter-widgets/base",
      "model_module_version": "1.2.0",
      "model_name": "LayoutModel",
      "state": {}
     },
     "9eeaf61166f64b3c910060e5236ac0de": {
      "model_module": "@jupyter-widgets/base",
      "model_module_version": "1.2.0",
      "model_name": "LayoutModel",
      "state": {
       "display": "inline-flex",
       "flex_flow": "row wrap",
       "width": "100%"
      }
     },
     "9ef1246e8144465f96e901bb0969f7db": {
      "model_module": "@jupyter-widgets/base",
      "model_module_version": "1.2.0",
      "model_name": "LayoutModel",
      "state": {}
     },
     "9f00f8b973434df999a1643e28c75d21": {
      "model_module": "@jupyter-widgets/base",
      "model_module_version": "1.2.0",
      "model_name": "LayoutModel",
      "state": {
       "flex": "2"
      }
     },
     "9f43c3decb55418fae8fb4708c48a3db": {
      "model_module": "@jupyter-widgets/base",
      "model_module_version": "1.2.0",
      "model_name": "LayoutModel",
      "state": {}
     },
     "9f6d2c6938d64211a30cc6f7ccc5e599": {
      "model_module": "@jupyter-widgets/controls",
      "model_module_version": "1.5.0",
      "model_name": "FloatProgressModel",
      "state": {
       "layout": "IPY_MODEL_2d5e070aca5a4d7fb232c8c7be12074b",
       "max": 16,
       "style": "IPY_MODEL_c36f6ecb71cf49cc89c791f66e23b68e",
       "value": 16
      }
     },
     "9f6fe148c8fc4136b4385ecddb2093dc": {
      "model_module": "@jupyter-widgets/controls",
      "model_module_version": "1.5.0",
      "model_name": "HTMLModel",
      "state": {
       "layout": "IPY_MODEL_cd12e38423a64d9fb0ff8ac5a9dbaa5b",
       "style": "IPY_MODEL_c620daef0cd34d8cac4f62660d94a1e4",
       "value": "Validation DataLoader 0: 100%"
      }
     },
     "9f9d43b1fd0d4dd3adda0511b86178d8": {
      "model_module": "@jupyter-widgets/controls",
      "model_module_version": "1.5.0",
      "model_name": "DescriptionStyleModel",
      "state": {
       "description_width": ""
      }
     },
     "9fb8c4bbdf1749799b198dc67e15c2fa": {
      "model_module": "@jupyter-widgets/controls",
      "model_module_version": "1.5.0",
      "model_name": "DescriptionStyleModel",
      "state": {
       "description_width": ""
      }
     },
     "9fc27ee806bc4d16927ffe010e9795df": {
      "model_module": "@jupyter-widgets/controls",
      "model_module_version": "1.5.0",
      "model_name": "ProgressStyleModel",
      "state": {
       "description_width": ""
      }
     },
     "9fe1b73efa1e4e2a971201149b2830fb": {
      "model_module": "@jupyter-widgets/controls",
      "model_module_version": "1.5.0",
      "model_name": "DescriptionStyleModel",
      "state": {
       "description_width": ""
      }
     },
     "a011328a6c7a49e1a024ba6a4f10d828": {
      "model_module": "@jupyter-widgets/controls",
      "model_module_version": "1.5.0",
      "model_name": "DescriptionStyleModel",
      "state": {
       "description_width": ""
      }
     },
     "a03adc49d23746959a174d283c420e21": {
      "model_module": "@jupyter-widgets/base",
      "model_module_version": "1.2.0",
      "model_name": "LayoutModel",
      "state": {
       "flex": "2"
      }
     },
     "a04804223a5f489387a5fcf7d4566f98": {
      "model_module": "@jupyter-widgets/controls",
      "model_module_version": "1.5.0",
      "model_name": "DescriptionStyleModel",
      "state": {
       "description_width": ""
      }
     },
     "a06350cde23f4f008eeaff8ab4f4d6be": {
      "model_module": "@jupyter-widgets/controls",
      "model_module_version": "1.5.0",
      "model_name": "DescriptionStyleModel",
      "state": {
       "description_width": ""
      }
     },
     "a076f55805fc4c8ba460eb76e11c07ad": {
      "model_module": "@jupyter-widgets/controls",
      "model_module_version": "1.5.0",
      "model_name": "ProgressStyleModel",
      "state": {
       "description_width": ""
      }
     },
     "a0b1bbc3c22a42d49c12099c950c3114": {
      "model_module": "@jupyter-widgets/controls",
      "model_module_version": "1.5.0",
      "model_name": "HTMLModel",
      "state": {
       "layout": "IPY_MODEL_f885d6d55e6b42ff998cfd39e2693340",
       "style": "IPY_MODEL_e1c72098cab545ab9fe02fa8e1d8928e",
       "value": " 2/2 [00:00&lt;00:00,  3.32it/s]"
      }
     },
     "a0bd9dcef71941eabf262a3c6518ffb1": {
      "model_module": "@jupyter-widgets/controls",
      "model_module_version": "1.5.0",
      "model_name": "FloatProgressModel",
      "state": {
       "layout": "IPY_MODEL_d00bc4f86e1143e5a55a309abc516cfd",
       "max": 16,
       "style": "IPY_MODEL_cfe1fb9ad20349679e2568fdbca0eb68",
       "value": 16
      }
     },
     "a0d5d63bb2d44adb8cf3dce4951175b3": {
      "model_module": "@jupyter-widgets/controls",
      "model_module_version": "1.5.0",
      "model_name": "DescriptionStyleModel",
      "state": {
       "description_width": ""
      }
     },
     "a133778f008c406bb7ed95c10cae62b2": {
      "model_module": "@jupyter-widgets/controls",
      "model_module_version": "1.5.0",
      "model_name": "DescriptionStyleModel",
      "state": {
       "description_width": ""
      }
     },
     "a16350fab26c450dbf0aab95fae9af88": {
      "model_module": "@jupyter-widgets/controls",
      "model_module_version": "1.5.0",
      "model_name": "DescriptionStyleModel",
      "state": {
       "description_width": ""
      }
     },
     "a185b42de3b74406ab26aececbe5bbd1": {
      "model_module": "@jupyter-widgets/controls",
      "model_module_version": "1.5.0",
      "model_name": "HTMLModel",
      "state": {
       "layout": "IPY_MODEL_0edffca8a7c74b22ab69d02e67cec5a5",
       "style": "IPY_MODEL_4b805036e1364b50bec718fd49670d82",
       "value": "Epoch 17:  79%"
      }
     },
     "a18bb1d59e65411bac5e7ab34e579050": {
      "model_module": "@jupyter-widgets/base",
      "model_module_version": "1.2.0",
      "model_name": "LayoutModel",
      "state": {}
     },
     "a20e2a429bef4a7b9d4df13bcefd50eb": {
      "model_module": "@jupyter-widgets/controls",
      "model_module_version": "1.5.0",
      "model_name": "FloatProgressModel",
      "state": {
       "layout": "IPY_MODEL_499d6bcf471048179560189ff519e754",
       "max": 16,
       "style": "IPY_MODEL_713cb627a0fe42d7ba6b39b0495b1f51",
       "value": 16
      }
     },
     "a21df8c62b8a4902b701d24ba1536d5b": {
      "model_module": "@jupyter-widgets/controls",
      "model_module_version": "1.5.0",
      "model_name": "HTMLModel",
      "state": {
       "layout": "IPY_MODEL_646da71e8d4c4632af1b8da97e65cf9a",
       "style": "IPY_MODEL_116538a796cb4a1d864d84b1df874c7b",
       "value": "Validation DataLoader 0: 100%"
      }
     },
     "a2240892b6484da58df30fbca5719ce5": {
      "model_module": "@jupyter-widgets/controls",
      "model_module_version": "1.5.0",
      "model_name": "FloatProgressModel",
      "state": {
       "layout": "IPY_MODEL_e8fae786d6324aa9a618b6b34eb3d97b",
       "max": 16,
       "style": "IPY_MODEL_b24708afe473438cb526f718cdf5b785",
       "value": 16
      }
     },
     "a22644d557c343159fbd4fd01c9ddb47": {
      "model_module": "@jupyter-widgets/base",
      "model_module_version": "1.2.0",
      "model_name": "LayoutModel",
      "state": {}
     },
     "a22d8ef9d80b4417abeb5bcdf0a057aa": {
      "model_module": "@jupyter-widgets/controls",
      "model_module_version": "1.5.0",
      "model_name": "HTMLModel",
      "state": {
       "layout": "IPY_MODEL_4d12fd2cd2614500a17dc19d1b80de15",
       "style": "IPY_MODEL_8c651b1e3f3f4fd5955c3636d57cf437",
       "value": "Validation DataLoader 0: 100%"
      }
     },
     "a25721b36ebe42cc9be9e77ffac808fc": {
      "model_module": "@jupyter-widgets/controls",
      "model_module_version": "1.5.0",
      "model_name": "DescriptionStyleModel",
      "state": {
       "description_width": ""
      }
     },
     "a2d2098581d548ccadf5919b558a706d": {
      "model_module": "@jupyter-widgets/base",
      "model_module_version": "1.2.0",
      "model_name": "LayoutModel",
      "state": {}
     },
     "a2ed71f4dc65433a8bb97cf8dfd0ccad": {
      "model_module": "@jupyter-widgets/controls",
      "model_module_version": "1.5.0",
      "model_name": "DescriptionStyleModel",
      "state": {
       "description_width": ""
      }
     },
     "a34648dc3dd24f69862bf2e655f66033": {
      "model_module": "@jupyter-widgets/controls",
      "model_module_version": "1.5.0",
      "model_name": "HTMLModel",
      "state": {
       "layout": "IPY_MODEL_8de21b96344c4f98900cda506d0786fb",
       "style": "IPY_MODEL_dbc3da6ea8c145a18f26c7a002e3442e",
       "value": "Validation DataLoader 0: 100%"
      }
     },
     "a399eac0f83d451aa6120c3a4440f0d5": {
      "model_module": "@jupyter-widgets/controls",
      "model_module_version": "1.5.0",
      "model_name": "FloatProgressModel",
      "state": {
       "layout": "IPY_MODEL_d7a946e05cb742a8afdae746ba5eb121",
       "max": 16,
       "style": "IPY_MODEL_f9610f47346042468ce288685320c98f",
       "value": 16
      }
     },
     "a3a212e28d5c47a591409225845167b0": {
      "model_module": "@jupyter-widgets/base",
      "model_module_version": "1.2.0",
      "model_name": "LayoutModel",
      "state": {}
     },
     "a3d3e5a02e3b4fb082d8eff96220985a": {
      "model_module": "@jupyter-widgets/base",
      "model_module_version": "1.2.0",
      "model_name": "LayoutModel",
      "state": {}
     },
     "a3f2c44ad5a748c28a95473dc3918124": {
      "model_module": "@jupyter-widgets/base",
      "model_module_version": "1.2.0",
      "model_name": "LayoutModel",
      "state": {
       "flex": "2"
      }
     },
     "a40f874160154dcfac6904eb9aaa6ad3": {
      "model_module": "@jupyter-widgets/controls",
      "model_module_version": "1.5.0",
      "model_name": "FloatProgressModel",
      "state": {
       "layout": "IPY_MODEL_7ad249303fcc4e27a630c515bb6c6b5f",
       "max": 16,
       "style": "IPY_MODEL_3a7f6d804dd1442ab5cbf87df3f63f30",
       "value": 16
      }
     },
     "a44e6b5cbcc8493484763515a66cf475": {
      "model_module": "@jupyter-widgets/controls",
      "model_module_version": "1.5.0",
      "model_name": "HTMLModel",
      "state": {
       "layout": "IPY_MODEL_03c5743a248b4a2a99c1c14f34f3331b",
       "style": "IPY_MODEL_8122fd4f16f24714b5aa6aaeb7fc43db",
       "value": "Validation DataLoader 0: 100%"
      }
     },
     "a45f52945ae6409089a36deb7672a821": {
      "model_module": "@jupyter-widgets/controls",
      "model_module_version": "1.5.0",
      "model_name": "FloatProgressModel",
      "state": {
       "layout": "IPY_MODEL_9699746ff98948fbb58ac554d9166779",
       "max": 16,
       "style": "IPY_MODEL_e459ebc7d86d41a1bf49c68b99022033",
       "value": 16
      }
     },
     "a47ca5ebe8c44aedb18ad80a0b9a6073": {
      "model_module": "@jupyter-widgets/controls",
      "model_module_version": "1.5.0",
      "model_name": "ProgressStyleModel",
      "state": {
       "description_width": ""
      }
     },
     "a47e3c90dfdd40558db3ab930e569ce6": {
      "model_module": "@jupyter-widgets/controls",
      "model_module_version": "1.5.0",
      "model_name": "HTMLModel",
      "state": {
       "layout": "IPY_MODEL_0a32ed8141af4e89bcae252940aab355",
       "style": "IPY_MODEL_a5e70c82110c426097c377f4e823c7b2",
       "value": "Validation DataLoader 0: 100%"
      }
     },
     "a4ca2429450944059d8d8b302f2dce65": {
      "model_module": "@jupyter-widgets/base",
      "model_module_version": "1.2.0",
      "model_name": "LayoutModel",
      "state": {
       "display": "inline-flex",
       "flex_flow": "row wrap",
       "width": "100%"
      }
     },
     "a4edb19ea631408b85293bc46a36cff8": {
      "model_module": "@jupyter-widgets/controls",
      "model_module_version": "1.5.0",
      "model_name": "HTMLModel",
      "state": {
       "layout": "IPY_MODEL_e9c21f82d56a4d7cbc846e2d0692b367",
       "style": "IPY_MODEL_6a0f5f75a4db4329a9490aa7938721ec",
       "value": " 16/16 [00:03&lt;00:00,  3.86it/s]"
      }
     },
     "a4f4b5f5a75a44acb792af4c4d69af44": {
      "model_module": "@jupyter-widgets/base",
      "model_module_version": "1.2.0",
      "model_name": "LayoutModel",
      "state": {}
     },
     "a50ba1444f804b9eb811dbbad92b36c2": {
      "model_module": "@jupyter-widgets/controls",
      "model_module_version": "1.5.0",
      "model_name": "HTMLModel",
      "state": {
       "layout": "IPY_MODEL_78289e3f5a5b430895b799c5a2eab89f",
       "style": "IPY_MODEL_68156a7afa3a494fa7c3112726d4bab6",
       "value": " 16/16 [00:06&lt;00:00,  2.72it/s]"
      }
     },
     "a5379a15e9434c16b409f2f7816acbe1": {
      "model_module": "@jupyter-widgets/base",
      "model_module_version": "1.2.0",
      "model_name": "LayoutModel",
      "state": {
       "display": "inline-flex",
       "flex_flow": "row wrap",
       "width": "100%"
      }
     },
     "a54f8310a3bb450fae8d0171b1d52786": {
      "model_module": "@jupyter-widgets/base",
      "model_module_version": "1.2.0",
      "model_name": "LayoutModel",
      "state": {}
     },
     "a560c357bc36445f907a88d30dd4b05b": {
      "model_module": "@jupyter-widgets/controls",
      "model_module_version": "1.5.0",
      "model_name": "HTMLModel",
      "state": {
       "layout": "IPY_MODEL_29a85c4f96b443b5aabe1740148694c3",
       "style": "IPY_MODEL_2b4cfc6a83044bc3b22e4018e31f66d5",
       "value": " 16/16 [00:06&lt;00:00,  2.40it/s]"
      }
     },
     "a58377315bb34407b7150b2a72dd717f": {
      "model_module": "@jupyter-widgets/base",
      "model_module_version": "1.2.0",
      "model_name": "LayoutModel",
      "state": {}
     },
     "a5a1497cf79b487b94b476cec6b49122": {
      "model_module": "@jupyter-widgets/controls",
      "model_module_version": "1.5.0",
      "model_name": "DescriptionStyleModel",
      "state": {
       "description_width": ""
      }
     },
     "a5e2f2a202a34b00af064c40c028add7": {
      "model_module": "@jupyter-widgets/controls",
      "model_module_version": "1.5.0",
      "model_name": "DescriptionStyleModel",
      "state": {
       "description_width": ""
      }
     },
     "a5e70c82110c426097c377f4e823c7b2": {
      "model_module": "@jupyter-widgets/controls",
      "model_module_version": "1.5.0",
      "model_name": "DescriptionStyleModel",
      "state": {
       "description_width": ""
      }
     },
     "a5eb0626dc0d42b8b9f5f98be59c3e10": {
      "model_module": "@jupyter-widgets/controls",
      "model_module_version": "1.5.0",
      "model_name": "DescriptionStyleModel",
      "state": {
       "description_width": ""
      }
     },
     "a6587bd5d9f84ecd90de6c1b3c635eb3": {
      "model_module": "@jupyter-widgets/controls",
      "model_module_version": "1.5.0",
      "model_name": "FloatProgressModel",
      "state": {
       "layout": "IPY_MODEL_b00f53a48ff74d3ab1b5fdbc24362ba1",
       "max": 16,
       "style": "IPY_MODEL_48009fe144ad4ed0b051fca4d101fa72",
       "value": 16
      }
     },
     "a692285b767447969341d5e736a16bde": {
      "model_module": "@jupyter-widgets/base",
      "model_module_version": "1.2.0",
      "model_name": "LayoutModel",
      "state": {}
     },
     "a6ae34967cb5483ca2d964265bbc2514": {
      "model_module": "@jupyter-widgets/base",
      "model_module_version": "1.2.0",
      "model_name": "LayoutModel",
      "state": {}
     },
     "a6d7722c20a34fe8b25cce3299acb00f": {
      "model_module": "@jupyter-widgets/controls",
      "model_module_version": "1.5.0",
      "model_name": "HTMLModel",
      "state": {
       "layout": "IPY_MODEL_b085bc77e1224909aef054dae8217c41",
       "style": "IPY_MODEL_bbc416bfd5ba431ab88d24569c8fbd9b",
       "value": " 16/16 [00:01&lt;00:00,  7.93it/s]"
      }
     },
     "a6f6dd606eb64ad8a41343fe5792ab02": {
      "model_module": "@jupyter-widgets/controls",
      "model_module_version": "1.5.0",
      "model_name": "DescriptionStyleModel",
      "state": {
       "description_width": ""
      }
     },
     "a702cc821a8f46da9e09fc96d69ba17b": {
      "model_module": "@jupyter-widgets/controls",
      "model_module_version": "1.5.0",
      "model_name": "ProgressStyleModel",
      "state": {
       "description_width": ""
      }
     },
     "a70d818d71e04c058b963bdc9b8f896b": {
      "model_module": "@jupyter-widgets/base",
      "model_module_version": "1.2.0",
      "model_name": "LayoutModel",
      "state": {}
     },
     "a7103879e4e1437f90c0042032b64c71": {
      "model_module": "@jupyter-widgets/base",
      "model_module_version": "1.2.0",
      "model_name": "LayoutModel",
      "state": {}
     },
     "a717a1f4864346af99a72334abc498d1": {
      "model_module": "@jupyter-widgets/base",
      "model_module_version": "1.2.0",
      "model_name": "LayoutModel",
      "state": {
       "display": "inline-flex",
       "flex_flow": "row wrap",
       "width": "100%"
      }
     },
     "a74daee5a6ee4a64bb761a9421282535": {
      "model_module": "@jupyter-widgets/base",
      "model_module_version": "1.2.0",
      "model_name": "LayoutModel",
      "state": {}
     },
     "a7598b43dfc34876a918961fd261bc09": {
      "model_module": "@jupyter-widgets/base",
      "model_module_version": "1.2.0",
      "model_name": "LayoutModel",
      "state": {
       "display": "inline-flex",
       "flex_flow": "row wrap",
       "width": "100%"
      }
     },
     "a7680d6b3f81473a9f72e53d214de41c": {
      "model_module": "@jupyter-widgets/base",
      "model_module_version": "1.2.0",
      "model_name": "LayoutModel",
      "state": {}
     },
     "a7b33fe97d414939b4a1d07a7a487fbf": {
      "model_module": "@jupyter-widgets/base",
      "model_module_version": "1.2.0",
      "model_name": "LayoutModel",
      "state": {}
     },
     "a7baa647b2f146578687fcd045dcdb73": {
      "model_module": "@jupyter-widgets/controls",
      "model_module_version": "1.5.0",
      "model_name": "DescriptionStyleModel",
      "state": {
       "description_width": ""
      }
     },
     "a7e5997592c44ef3bde9ae9aef564827": {
      "model_module": "@jupyter-widgets/controls",
      "model_module_version": "1.5.0",
      "model_name": "HTMLModel",
      "state": {
       "layout": "IPY_MODEL_0bd41decb0d84150b8e0a8f9f77c1a3c",
       "style": "IPY_MODEL_f39e3dc2dc734b5895f2a5e9a1a6e245",
       "value": " 16/16 [00:01&lt;00:00,  7.61it/s]"
      }
     },
     "a805ba07df204f23917c10c3b15eb7bf": {
      "model_module": "@jupyter-widgets/controls",
      "model_module_version": "1.5.0",
      "model_name": "ProgressStyleModel",
      "state": {
       "description_width": ""
      }
     },
     "a8063585a74f406daff873ea8146ecef": {
      "model_module": "@jupyter-widgets/controls",
      "model_module_version": "1.5.0",
      "model_name": "FloatProgressModel",
      "state": {
       "layout": "IPY_MODEL_054fed11d2e5450b915e20c919ed8d80",
       "max": 16,
       "style": "IPY_MODEL_5b8939991af04a9090f735420a42b358",
       "value": 16
      }
     },
     "a808ef1a151d4cba9e6890d5267e08fa": {
      "model_module": "@jupyter-widgets/base",
      "model_module_version": "1.2.0",
      "model_name": "LayoutModel",
      "state": {}
     },
     "a817c2d7b9c74d2e9c6a732d3017228b": {
      "model_module": "@jupyter-widgets/controls",
      "model_module_version": "1.5.0",
      "model_name": "FloatProgressModel",
      "state": {
       "layout": "IPY_MODEL_ad7d0341673c46ae9a7400fcd376fd6e",
       "max": 16,
       "style": "IPY_MODEL_caa12f9d24c644c4b008fbf997b89bcb",
       "value": 16
      }
     },
     "a8838581700545d998927840776c25c3": {
      "model_module": "@jupyter-widgets/controls",
      "model_module_version": "1.5.0",
      "model_name": "HBoxModel",
      "state": {
       "children": [
        "IPY_MODEL_dfca8cf9f35e4260b3212c285ef39a15",
        "IPY_MODEL_2a42fdf1a8a147bcaf7f1cd9275bf4fb",
        "IPY_MODEL_8860cd831f734081850dfa796f59a97d"
       ],
       "layout": "IPY_MODEL_7dc41f5bda704394bf6f4e0cfe6f2bb1"
      }
     },
     "a8902ea6eb2c44f584a92fc246aea5de": {
      "model_module": "@jupyter-widgets/controls",
      "model_module_version": "1.5.0",
      "model_name": "HTMLModel",
      "state": {
       "layout": "IPY_MODEL_60a6d40e61fa40c4b05bc8ae29299267",
       "style": "IPY_MODEL_fde036d2e539492e9d12735f89f664a4",
       "value": "Validation DataLoader 0: 100%"
      }
     },
     "a8d2d6234264495c99c4769794771ce1": {
      "model_module": "@jupyter-widgets/base",
      "model_module_version": "1.2.0",
      "model_name": "LayoutModel",
      "state": {}
     },
     "a90da0ccadff4e3ba3437e9aaf46ad48": {
      "model_module": "@jupyter-widgets/base",
      "model_module_version": "1.2.0",
      "model_name": "LayoutModel",
      "state": {}
     },
     "a9258e225b2248e5951678742fc0dd06": {
      "model_module": "@jupyter-widgets/base",
      "model_module_version": "1.2.0",
      "model_name": "LayoutModel",
      "state": {
       "flex": "2"
      }
     },
     "a98f829fc60640aab799fe48b37c5a49": {
      "model_module": "@jupyter-widgets/controls",
      "model_module_version": "1.5.0",
      "model_name": "FloatProgressModel",
      "state": {
       "layout": "IPY_MODEL_eb9813e22ab940dfbf7b85bfdb75878e",
       "max": 16,
       "style": "IPY_MODEL_d394c4378f1b4ce5808731129b5a6fc4",
       "value": 16
      }
     },
     "a9d042d255db4aacbd72750ebe657176": {
      "model_module": "@jupyter-widgets/controls",
      "model_module_version": "1.5.0",
      "model_name": "HTMLModel",
      "state": {
       "layout": "IPY_MODEL_67e178f7687f4890824d68f06a9eafee",
       "style": "IPY_MODEL_ae4cd3e8cf7947a3b04b64991fed1274",
       "value": "Validation DataLoader 0: 100%"
      }
     },
     "a9d87a1d11c847b8ba14ea7828886b02": {
      "model_module": "@jupyter-widgets/base",
      "model_module_version": "1.2.0",
      "model_name": "LayoutModel",
      "state": {}
     },
     "a9e05ce415f84eaca6b4172f6f681120": {
      "model_module": "@jupyter-widgets/controls",
      "model_module_version": "1.5.0",
      "model_name": "FloatProgressModel",
      "state": {
       "layout": "IPY_MODEL_a3f2c44ad5a748c28a95473dc3918124",
       "max": 2,
       "style": "IPY_MODEL_fbdaa4409836442386c459f08dc2b360",
       "value": 2
      }
     },
     "a9f2cd2311e14af88384b27ddc90775f": {
      "model_module": "@jupyter-widgets/controls",
      "model_module_version": "1.5.0",
      "model_name": "HTMLModel",
      "state": {
       "layout": "IPY_MODEL_bb358efccc034416ba6bc73935755460",
       "style": "IPY_MODEL_0c5158e06ae84f8e8fcfef56ffb6370a",
       "value": " 16/16 [00:04&lt;00:00,  3.35it/s]"
      }
     },
     "a9fa5406f18446728177025adbb3fd3c": {
      "model_module": "@jupyter-widgets/controls",
      "model_module_version": "1.5.0",
      "model_name": "FloatProgressModel",
      "state": {
       "layout": "IPY_MODEL_9b2d96fea6ae45a0be7fe97087b82edf",
       "max": 16,
       "style": "IPY_MODEL_115404d08d704d87a18f30e92b2ac914",
       "value": 16
      }
     },
     "aa31912486414d8bb8fb92b04e0767e3": {
      "model_module": "@jupyter-widgets/base",
      "model_module_version": "1.2.0",
      "model_name": "LayoutModel",
      "state": {
       "flex": "2"
      }
     },
     "aa380d094e744c53a065e8160e1e967b": {
      "model_module": "@jupyter-widgets/controls",
      "model_module_version": "1.5.0",
      "model_name": "FloatProgressModel",
      "state": {
       "bar_style": "success",
       "layout": "IPY_MODEL_5ac37b47cf0b4b0a979f14e4cefb88d9",
       "max": 77,
       "style": "IPY_MODEL_641195006cdb46c99b83fefddbb49df8",
       "value": 77
      }
     },
     "aa468c8ce39a41f79feaef46331c4730": {
      "model_module": "@jupyter-widgets/controls",
      "model_module_version": "1.5.0",
      "model_name": "HTMLModel",
      "state": {
       "layout": "IPY_MODEL_d7b40810b2ff4c4c8046c6618fb21dee",
       "style": "IPY_MODEL_8d5eedb3c0ca4ad79bfa47e3125cfbaf",
       "value": " 16/16 [00:06&lt;00:00,  2.15it/s]"
      }
     },
     "aa772620228f42eca50c02078c105bfe": {
      "model_module": "@jupyter-widgets/controls",
      "model_module_version": "1.5.0",
      "model_name": "FloatProgressModel",
      "state": {
       "layout": "IPY_MODEL_2d1818fc516c4b3d80e9a8387c6c769f",
       "max": 16,
       "style": "IPY_MODEL_33c17d9b9abb408aac1e6deac2b135a4",
       "value": 16
      }
     },
     "aa7814b5f2544eaf80925900d5ef79bc": {
      "model_module": "@jupyter-widgets/controls",
      "model_module_version": "1.5.0",
      "model_name": "DescriptionStyleModel",
      "state": {
       "description_width": ""
      }
     },
     "aa9b195a9a9949d6a6be547a0fe6d431": {
      "model_module": "@jupyter-widgets/controls",
      "model_module_version": "1.5.0",
      "model_name": "ProgressStyleModel",
      "state": {
       "description_width": ""
      }
     },
     "aaada7e44458448685c7ff4e62a26db5": {
      "model_module": "@jupyter-widgets/base",
      "model_module_version": "1.2.0",
      "model_name": "LayoutModel",
      "state": {
       "display": "inline-flex",
       "flex_flow": "row wrap",
       "width": "100%"
      }
     },
     "aaafd89e4d994519b16fb1ed1289d725": {
      "model_module": "@jupyter-widgets/base",
      "model_module_version": "1.2.0",
      "model_name": "LayoutModel",
      "state": {
       "flex": "2"
      }
     },
     "aabc2c3e6de244de8ec653887ee74073": {
      "model_module": "@jupyter-widgets/controls",
      "model_module_version": "1.5.0",
      "model_name": "DescriptionStyleModel",
      "state": {
       "description_width": ""
      }
     },
     "aace2b9f50034b03bdbb50f541a5eff3": {
      "model_module": "@jupyter-widgets/base",
      "model_module_version": "1.2.0",
      "model_name": "LayoutModel",
      "state": {}
     },
     "aada30a1e83b4bb68d846d4d37cb0cb5": {
      "model_module": "@jupyter-widgets/controls",
      "model_module_version": "1.5.0",
      "model_name": "DescriptionStyleModel",
      "state": {
       "description_width": ""
      }
     },
     "aae2be3ed15243c7819c4d0edf74d93f": {
      "model_module": "@jupyter-widgets/base",
      "model_module_version": "1.2.0",
      "model_name": "LayoutModel",
      "state": {}
     },
     "aaebff761e4d4c668cbb5bb40fca4931": {
      "model_module": "@jupyter-widgets/controls",
      "model_module_version": "1.5.0",
      "model_name": "HTMLModel",
      "state": {
       "layout": "IPY_MODEL_7045bcb4d25943bcbb105138eb2c71cf",
       "style": "IPY_MODEL_a5e2f2a202a34b00af064c40c028add7",
       "value": "Validation DataLoader 0: 100%"
      }
     },
     "aaf6cebb50c1413caeb49a72854a121e": {
      "model_module": "@jupyter-widgets/base",
      "model_module_version": "1.2.0",
      "model_name": "LayoutModel",
      "state": {
       "display": "inline-flex",
       "flex_flow": "row wrap",
       "width": "100%"
      }
     },
     "aaf990e85a0f45dfb77fdaccb092a6cc": {
      "model_module": "@jupyter-widgets/base",
      "model_module_version": "1.2.0",
      "model_name": "LayoutModel",
      "state": {
       "display": "inline-flex",
       "flex_flow": "row wrap",
       "width": "100%"
      }
     },
     "ab21ab7056f5418d96838e270aa9717d": {
      "model_module": "@jupyter-widgets/base",
      "model_module_version": "1.2.0",
      "model_name": "LayoutModel",
      "state": {
       "flex": "2"
      }
     },
     "ab22ab08ba2b436e9a883850efb7a7be": {
      "model_module": "@jupyter-widgets/base",
      "model_module_version": "1.2.0",
      "model_name": "LayoutModel",
      "state": {
       "flex": "2"
      }
     },
     "ab32d2d1ecad49988a8df18244618032": {
      "model_module": "@jupyter-widgets/base",
      "model_module_version": "1.2.0",
      "model_name": "LayoutModel",
      "state": {
       "flex": "2"
      }
     },
     "ab6918c3877d4409b0d912a18629cdb9": {
      "model_module": "@jupyter-widgets/controls",
      "model_module_version": "1.5.0",
      "model_name": "DescriptionStyleModel",
      "state": {
       "description_width": ""
      }
     },
     "abed317ab4e445a1be626f095ce137ee": {
      "model_module": "@jupyter-widgets/base",
      "model_module_version": "1.2.0",
      "model_name": "LayoutModel",
      "state": {}
     },
     "ac415ab5b8774dfb82ddfedf421db350": {
      "model_module": "@jupyter-widgets/controls",
      "model_module_version": "1.5.0",
      "model_name": "DescriptionStyleModel",
      "state": {
       "description_width": ""
      }
     },
     "ac5c81548536470cb907f0168cf6017d": {
      "model_module": "@jupyter-widgets/controls",
      "model_module_version": "1.5.0",
      "model_name": "DescriptionStyleModel",
      "state": {
       "description_width": ""
      }
     },
     "ac8606f18ab64f0cae6db1ccaa42bc23": {
      "model_module": "@jupyter-widgets/base",
      "model_module_version": "1.2.0",
      "model_name": "LayoutModel",
      "state": {}
     },
     "acbb5c89a7fc405e9e8cbe4f203d8dbc": {
      "model_module": "@jupyter-widgets/controls",
      "model_module_version": "1.5.0",
      "model_name": "FloatProgressModel",
      "state": {
       "layout": "IPY_MODEL_ba19a6b69cc64d3bb14b6df6fbbfbef2",
       "max": 16,
       "style": "IPY_MODEL_9fc27ee806bc4d16927ffe010e9795df",
       "value": 16
      }
     },
     "acc7bdc2918b4619ad4e03ec9edd3b0f": {
      "model_module": "@jupyter-widgets/controls",
      "model_module_version": "1.5.0",
      "model_name": "DescriptionStyleModel",
      "state": {
       "description_width": ""
      }
     },
     "acdd0c5e7a994aa88f78aa9392ea1f9c": {
      "model_module": "@jupyter-widgets/base",
      "model_module_version": "1.2.0",
      "model_name": "LayoutModel",
      "state": {}
     },
     "ace99003ca9a4d159f8a4a73d70aea5c": {
      "model_module": "@jupyter-widgets/base",
      "model_module_version": "1.2.0",
      "model_name": "LayoutModel",
      "state": {}
     },
     "ad090426f0b44cb585aee2e83de761b5": {
      "model_module": "@jupyter-widgets/controls",
      "model_module_version": "1.5.0",
      "model_name": "HTMLModel",
      "state": {
       "layout": "IPY_MODEL_4b2bef21335c4a6aa1d583d747b11d9d",
       "style": "IPY_MODEL_80093b7037bb4d56b80300fdba534b75",
       "value": "Validation DataLoader 0: 100%"
      }
     },
     "ad2dd5dd79324ec0bca74efa386cc916": {
      "model_module": "@jupyter-widgets/controls",
      "model_module_version": "1.5.0",
      "model_name": "DescriptionStyleModel",
      "state": {
       "description_width": ""
      }
     },
     "ad397374350d43d6a1dc0d50ac04b8d8": {
      "model_module": "@jupyter-widgets/controls",
      "model_module_version": "1.5.0",
      "model_name": "FloatProgressModel",
      "state": {
       "bar_style": "info",
       "layout": "IPY_MODEL_291c91022c2a4a7aaf28dc64878ef7c2",
       "max": 1,
       "style": "IPY_MODEL_e05703e17e1242da9a48d0106b76b859",
       "value": 1
      }
     },
     "ad52ee6b672a4149a6cc4d52282d5818": {
      "model_module": "@jupyter-widgets/controls",
      "model_module_version": "1.5.0",
      "model_name": "HTMLModel",
      "state": {
       "layout": "IPY_MODEL_a7680d6b3f81473a9f72e53d214de41c",
       "style": "IPY_MODEL_82166d04e8964c298d938419efc21ab5",
       "value": " 16/16 [00:01&lt;00:00,  8.05it/s]"
      }
     },
     "ad60985931b7454cb4d112d17bd7fb36": {
      "model_module": "@jupyter-widgets/controls",
      "model_module_version": "1.5.0",
      "model_name": "ProgressStyleModel",
      "state": {
       "description_width": ""
      }
     },
     "ad7d0341673c46ae9a7400fcd376fd6e": {
      "model_module": "@jupyter-widgets/base",
      "model_module_version": "1.2.0",
      "model_name": "LayoutModel",
      "state": {
       "flex": "2"
      }
     },
     "ad8013a746d044f4835ca16bbf46e7eb": {
      "model_module": "@jupyter-widgets/base",
      "model_module_version": "1.2.0",
      "model_name": "LayoutModel",
      "state": {
       "display": "inline-flex",
       "flex_flow": "row wrap",
       "width": "100%"
      }
     },
     "ad990bf0a51a4d9295e468f7692c5f34": {
      "model_module": "@jupyter-widgets/controls",
      "model_module_version": "1.5.0",
      "model_name": "ProgressStyleModel",
      "state": {
       "description_width": ""
      }
     },
     "ad998a8dc9324e2680f0c891989ed2d9": {
      "model_module": "@jupyter-widgets/base",
      "model_module_version": "1.2.0",
      "model_name": "LayoutModel",
      "state": {
       "flex": "2"
      }
     },
     "adb1fa497a0f4eb09a23e888779d9396": {
      "model_module": "@jupyter-widgets/controls",
      "model_module_version": "1.5.0",
      "model_name": "HTMLModel",
      "state": {
       "layout": "IPY_MODEL_de101461be794d559bb9572c99bffab7",
       "style": "IPY_MODEL_0867d27b6a2441578374781b052fcaa5",
       "value": "Validation DataLoader 0: 100%"
      }
     },
     "ae04ccc91f2a401aaa2bf661e0d3dc62": {
      "model_module": "@jupyter-widgets/controls",
      "model_module_version": "1.5.0",
      "model_name": "HTMLModel",
      "state": {
       "layout": "IPY_MODEL_61f99c9a6eb640d6a4290790eccb1728",
       "style": "IPY_MODEL_232f8de38eda4f2f882440ebecfcfcd1",
       "value": "Validation DataLoader 0: 100%"
      }
     },
     "ae4cd3e8cf7947a3b04b64991fed1274": {
      "model_module": "@jupyter-widgets/controls",
      "model_module_version": "1.5.0",
      "model_name": "DescriptionStyleModel",
      "state": {
       "description_width": ""
      }
     },
     "ae4d1ea8e6754f80975020978e4443e0": {
      "model_module": "@jupyter-widgets/controls",
      "model_module_version": "1.5.0",
      "model_name": "HTMLModel",
      "state": {
       "layout": "IPY_MODEL_69d38d94e9664331a5571e17679045b8",
       "style": "IPY_MODEL_d26c8d9ad78546c3ba17ba4c21a1707b",
       "value": "Validation DataLoader 0: 100%"
      }
     },
     "ae7ae002fb034f5284dfdbdf17e463cb": {
      "model_module": "@jupyter-widgets/base",
      "model_module_version": "1.2.0",
      "model_name": "LayoutModel",
      "state": {}
     },
     "ae7fc8938b81424394abe01da6bbdc02": {
      "model_module": "@jupyter-widgets/controls",
      "model_module_version": "1.5.0",
      "model_name": "ProgressStyleModel",
      "state": {
       "description_width": ""
      }
     },
     "aefc02e6123b4f00893094c28a1357de": {
      "model_module": "@jupyter-widgets/controls",
      "model_module_version": "1.5.0",
      "model_name": "HTMLModel",
      "state": {
       "layout": "IPY_MODEL_20d8e1be12704483872c862443571440",
       "style": "IPY_MODEL_8df1a7af41b34bb3a439561223e3d825",
       "value": " 16/16 [00:03&lt;00:00,  4.08it/s]"
      }
     },
     "af18160fab114601b87d4a1b2de0f62c": {
      "model_module": "@jupyter-widgets/base",
      "model_module_version": "1.2.0",
      "model_name": "LayoutModel",
      "state": {}
     },
     "af276c9c5e9e49a38ac7827873c89fc7": {
      "model_module": "@jupyter-widgets/controls",
      "model_module_version": "1.5.0",
      "model_name": "DescriptionStyleModel",
      "state": {
       "description_width": ""
      }
     },
     "af3900dcc3e948d798f3c9456399a406": {
      "model_module": "@jupyter-widgets/controls",
      "model_module_version": "1.5.0",
      "model_name": "HTMLModel",
      "state": {
       "layout": "IPY_MODEL_dff595742e5d4f03958818f283ca3008",
       "style": "IPY_MODEL_9a2e831167f24f17907630ac251dfe1a",
       "value": " 16/16 [00:05&lt;00:00,  3.17it/s]"
      }
     },
     "af3a18830427491089c7178574c68729": {
      "model_module": "@jupyter-widgets/controls",
      "model_module_version": "1.5.0",
      "model_name": "DescriptionStyleModel",
      "state": {
       "description_width": ""
      }
     },
     "af4dd6deafb24759b1c8b869c055244d": {
      "model_module": "@jupyter-widgets/controls",
      "model_module_version": "1.5.0",
      "model_name": "HBoxModel",
      "state": {
       "children": [
        "IPY_MODEL_9553869276de4b938a2d6e3dcb744425",
        "IPY_MODEL_fce780b9060e4b518ce4ee4cdbf78049",
        "IPY_MODEL_54d3d5f3682247c2a9c58b8e9deadec4"
       ],
       "layout": "IPY_MODEL_2f575b55289b42dabf3d256deed63ed2"
      }
     },
     "af9241ae17014b0ca94910e14e405c9a": {
      "model_module": "@jupyter-widgets/controls",
      "model_module_version": "1.5.0",
      "model_name": "DescriptionStyleModel",
      "state": {
       "description_width": ""
      }
     },
     "af963f7d68a147fea7a4cf90c1230020": {
      "model_module": "@jupyter-widgets/base",
      "model_module_version": "1.2.0",
      "model_name": "LayoutModel",
      "state": {}
     },
     "b00f53a48ff74d3ab1b5fdbc24362ba1": {
      "model_module": "@jupyter-widgets/base",
      "model_module_version": "1.2.0",
      "model_name": "LayoutModel",
      "state": {
       "flex": "2"
      }
     },
     "b031d6cb0a1945c39b2eb4245e32b323": {
      "model_module": "@jupyter-widgets/base",
      "model_module_version": "1.2.0",
      "model_name": "LayoutModel",
      "state": {}
     },
     "b0331e9b09aa46169ca616d7a0fdb8f5": {
      "model_module": "@jupyter-widgets/base",
      "model_module_version": "1.2.0",
      "model_name": "LayoutModel",
      "state": {
       "display": "inline-flex",
       "flex_flow": "row wrap",
       "width": "100%"
      }
     },
     "b0364211e2c44cf9a9b3cf72030151a3": {
      "model_module": "@jupyter-widgets/controls",
      "model_module_version": "1.5.0",
      "model_name": "ProgressStyleModel",
      "state": {
       "description_width": ""
      }
     },
     "b05208efccf44cc5835035241279a490": {
      "model_module": "@jupyter-widgets/controls",
      "model_module_version": "1.5.0",
      "model_name": "ProgressStyleModel",
      "state": {
       "description_width": ""
      }
     },
     "b066305c20534189ae6cf6301ec5ff6e": {
      "model_module": "@jupyter-widgets/controls",
      "model_module_version": "1.5.0",
      "model_name": "FloatProgressModel",
      "state": {
       "layout": "IPY_MODEL_5aa3d9bb3dec4aed8781646597f9eb59",
       "max": 16,
       "style": "IPY_MODEL_b05208efccf44cc5835035241279a490",
       "value": 16
      }
     },
     "b085bc77e1224909aef054dae8217c41": {
      "model_module": "@jupyter-widgets/base",
      "model_module_version": "1.2.0",
      "model_name": "LayoutModel",
      "state": {}
     },
     "b088935e37eb454885975c893a6fc687": {
      "model_module": "@jupyter-widgets/base",
      "model_module_version": "1.2.0",
      "model_name": "LayoutModel",
      "state": {
       "flex": "2"
      }
     },
     "b0ad9e2fe89347cdbc42cc3e7d56e96f": {
      "model_module": "@jupyter-widgets/base",
      "model_module_version": "1.2.0",
      "model_name": "LayoutModel",
      "state": {}
     },
     "b0e698e75ece4557b4d0585e4beadf4c": {
      "model_module": "@jupyter-widgets/base",
      "model_module_version": "1.2.0",
      "model_name": "LayoutModel",
      "state": {}
     },
     "b116d45378ff4bfdb9c62c4dbed1e9a3": {
      "model_module": "@jupyter-widgets/controls",
      "model_module_version": "1.5.0",
      "model_name": "DescriptionStyleModel",
      "state": {
       "description_width": ""
      }
     },
     "b11c215e850b45898f97e08afb4e0feb": {
      "model_module": "@jupyter-widgets/controls",
      "model_module_version": "1.5.0",
      "model_name": "DescriptionStyleModel",
      "state": {
       "description_width": ""
      }
     },
     "b15810b8ed0649a1b588b165c085dfce": {
      "model_module": "@jupyter-widgets/controls",
      "model_module_version": "1.5.0",
      "model_name": "DescriptionStyleModel",
      "state": {
       "description_width": ""
      }
     },
     "b1930b9eba38472c96249efd53dfca61": {
      "model_module": "@jupyter-widgets/controls",
      "model_module_version": "1.5.0",
      "model_name": "HTMLModel",
      "state": {
       "layout": "IPY_MODEL_43e5034264344127b6faf1b7d37b0b69",
       "style": "IPY_MODEL_8271c08fd26b4df19298ffb90c479b4c",
       "value": "Validation DataLoader 0: 100%"
      }
     },
     "b1a539abcd4d45ed850dba384c2de0ed": {
      "model_module": "@jupyter-widgets/controls",
      "model_module_version": "1.5.0",
      "model_name": "HTMLModel",
      "state": {
       "layout": "IPY_MODEL_e1ed62f287b94548a3f793b90abe89b6",
       "style": "IPY_MODEL_5074fb3b2c7145d39e3b7bf72e0305f5",
       "value": " 16/16 [00:03&lt;00:00,  3.81it/s]"
      }
     },
     "b1c5e893b687411f9022e551965dbe88": {
      "model_module": "@jupyter-widgets/controls",
      "model_module_version": "1.5.0",
      "model_name": "DescriptionStyleModel",
      "state": {
       "description_width": ""
      }
     },
     "b1cf49f5e5d844308c42df5cc5f59d59": {
      "model_module": "@jupyter-widgets/base",
      "model_module_version": "1.2.0",
      "model_name": "LayoutModel",
      "state": {}
     },
     "b1d197896a6e4f3e92e2f5aa733274d9": {
      "model_module": "@jupyter-widgets/controls",
      "model_module_version": "1.5.0",
      "model_name": "ProgressStyleModel",
      "state": {
       "description_width": ""
      }
     },
     "b1d4c55995584676b02644aa5429ff02": {
      "model_module": "@jupyter-widgets/base",
      "model_module_version": "1.2.0",
      "model_name": "LayoutModel",
      "state": {
       "flex": "2"
      }
     },
     "b24708afe473438cb526f718cdf5b785": {
      "model_module": "@jupyter-widgets/controls",
      "model_module_version": "1.5.0",
      "model_name": "ProgressStyleModel",
      "state": {
       "description_width": ""
      }
     },
     "b25874e35ef542b6ac318d9c3b5f4f4e": {
      "model_module": "@jupyter-widgets/base",
      "model_module_version": "1.2.0",
      "model_name": "LayoutModel",
      "state": {
       "flex": "2"
      }
     },
     "b2618b6ccf0542b19fde5fecf2bdb58b": {
      "model_module": "@jupyter-widgets/controls",
      "model_module_version": "1.5.0",
      "model_name": "HTMLModel",
      "state": {
       "layout": "IPY_MODEL_c4f641e19fc741f1a717bc6e5d573160",
       "style": "IPY_MODEL_f7476888b16a4d91b386cd3235e68d29",
       "value": " 16/16 [00:01&lt;00:00,  9.02it/s]"
      }
     },
     "b2aaa26c8d1b4b52b726e85b28fc069e": {
      "model_module": "@jupyter-widgets/base",
      "model_module_version": "1.2.0",
      "model_name": "LayoutModel",
      "state": {
       "flex": "2"
      }
     },
     "b2e87d9e9a9944e7b3975d2abdfa259f": {
      "model_module": "@jupyter-widgets/controls",
      "model_module_version": "1.5.0",
      "model_name": "DescriptionStyleModel",
      "state": {
       "description_width": ""
      }
     },
     "b32c4c175c284679999567852b3fffc5": {
      "model_module": "@jupyter-widgets/controls",
      "model_module_version": "1.5.0",
      "model_name": "DescriptionStyleModel",
      "state": {
       "description_width": ""
      }
     },
     "b3608160352140c38f61a399cb90a77c": {
      "model_module": "@jupyter-widgets/base",
      "model_module_version": "1.2.0",
      "model_name": "LayoutModel",
      "state": {
       "display": "inline-flex",
       "flex_flow": "row wrap",
       "width": "100%"
      }
     },
     "b36edea8bb4d44a0a078a33315c68600": {
      "model_module": "@jupyter-widgets/base",
      "model_module_version": "1.2.0",
      "model_name": "LayoutModel",
      "state": {}
     },
     "b379fb2be2834c9c8bc756063f3aa02a": {
      "model_module": "@jupyter-widgets/base",
      "model_module_version": "1.2.0",
      "model_name": "LayoutModel",
      "state": {}
     },
     "b3b02dac83ec4f3ab4c4d6a3b613c1e8": {
      "model_module": "@jupyter-widgets/controls",
      "model_module_version": "1.5.0",
      "model_name": "ProgressStyleModel",
      "state": {
       "description_width": ""
      }
     },
     "b3d5f35dee1f4c69949950cf4ba7cf1f": {
      "model_module": "@jupyter-widgets/base",
      "model_module_version": "1.2.0",
      "model_name": "LayoutModel",
      "state": {}
     },
     "b3ef3f7742134d5798f7327ecf59924d": {
      "model_module": "@jupyter-widgets/controls",
      "model_module_version": "1.5.0",
      "model_name": "DescriptionStyleModel",
      "state": {
       "description_width": ""
      }
     },
     "b437b07f2bf34b8bb8cf87c195fc00f1": {
      "model_module": "@jupyter-widgets/base",
      "model_module_version": "1.2.0",
      "model_name": "LayoutModel",
      "state": {}
     },
     "b44a3027d6c24f5baf1908e35c35bf1f": {
      "model_module": "@jupyter-widgets/controls",
      "model_module_version": "1.5.0",
      "model_name": "ProgressStyleModel",
      "state": {
       "description_width": ""
      }
     },
     "b47150838fd048489a2e2b86e2aefd04": {
      "model_module": "@jupyter-widgets/controls",
      "model_module_version": "1.5.0",
      "model_name": "DescriptionStyleModel",
      "state": {
       "description_width": ""
      }
     },
     "b4a4e6cbb97b419d9cb2d5496437f7c0": {
      "model_module": "@jupyter-widgets/controls",
      "model_module_version": "1.5.0",
      "model_name": "HTMLModel",
      "state": {
       "layout": "IPY_MODEL_6ecc1babb4964f788f263b2e7c3221ea",
       "style": "IPY_MODEL_8a51497ebe95426391aee5ca17a53620",
       "value": " 16/16 [00:03&lt;00:00,  4.48it/s]"
      }
     },
     "b4b7afa2f3a445cda9671db14b73caa8": {
      "model_module": "@jupyter-widgets/controls",
      "model_module_version": "1.5.0",
      "model_name": "DescriptionStyleModel",
      "state": {
       "description_width": ""
      }
     },
     "b4d28505398a4dd29b110004c9be145a": {
      "model_module": "@jupyter-widgets/base",
      "model_module_version": "1.2.0",
      "model_name": "LayoutModel",
      "state": {
       "flex": "2"
      }
     },
     "b4f2fe1c7e3748b49833c35d034fc611": {
      "model_module": "@jupyter-widgets/base",
      "model_module_version": "1.2.0",
      "model_name": "LayoutModel",
      "state": {}
     },
     "b4fa0a2c2cf043ea9cb8b988d48dede2": {
      "model_module": "@jupyter-widgets/base",
      "model_module_version": "1.2.0",
      "model_name": "LayoutModel",
      "state": {
       "flex": "2"
      }
     },
     "b503290ad0414b5e9c104d2240f1b977": {
      "model_module": "@jupyter-widgets/base",
      "model_module_version": "1.2.0",
      "model_name": "LayoutModel",
      "state": {}
     },
     "b522a054d7fa42afbce0ff0211d9c5a9": {
      "model_module": "@jupyter-widgets/controls",
      "model_module_version": "1.5.0",
      "model_name": "FloatProgressModel",
      "state": {
       "layout": "IPY_MODEL_f5d46e9870254904ad4f678791a70192",
       "max": 16,
       "style": "IPY_MODEL_0cd848ba818d41acbd59106f0399b354",
       "value": 16
      }
     },
     "b61de7b0167d4ab5855307a0f5d75e33": {
      "model_module": "@jupyter-widgets/base",
      "model_module_version": "1.2.0",
      "model_name": "LayoutModel",
      "state": {}
     },
     "b6219a24d70549cd9c328a1ae0efb116": {
      "model_module": "@jupyter-widgets/controls",
      "model_module_version": "1.5.0",
      "model_name": "DescriptionStyleModel",
      "state": {
       "description_width": ""
      }
     },
     "b65bce04c7b54a1da6dfe9ad1e63f9f2": {
      "model_module": "@jupyter-widgets/base",
      "model_module_version": "1.2.0",
      "model_name": "LayoutModel",
      "state": {
       "flex": "2"
      }
     },
     "b66748c4ef9a476e9fa47dfa699dbf35": {
      "model_module": "@jupyter-widgets/controls",
      "model_module_version": "1.5.0",
      "model_name": "HTMLModel",
      "state": {
       "layout": "IPY_MODEL_fd1c4eede90945b8ae85550f76724543",
       "style": "IPY_MODEL_1f94025b547e4993801c50de72b34670",
       "value": "Validation DataLoader 0: 100%"
      }
     },
     "b682036abc914218a216fdb98dccd353": {
      "model_module": "@jupyter-widgets/controls",
      "model_module_version": "1.5.0",
      "model_name": "DescriptionStyleModel",
      "state": {
       "description_width": ""
      }
     },
     "b6a861dad2004b9ebaa88213aef63efb": {
      "model_module": "@jupyter-widgets/base",
      "model_module_version": "1.2.0",
      "model_name": "LayoutModel",
      "state": {}
     },
     "b6aff1d586bb42b0a7bc6e531b1f68b3": {
      "model_module": "@jupyter-widgets/controls",
      "model_module_version": "1.5.0",
      "model_name": "ProgressStyleModel",
      "state": {
       "description_width": ""
      }
     },
     "b6fcce2e45de47d9a68cd32a5bcf4fad": {
      "model_module": "@jupyter-widgets/controls",
      "model_module_version": "1.5.0",
      "model_name": "HTMLModel",
      "state": {
       "layout": "IPY_MODEL_9bf74d0fbb9a418c8709d780a47c2851",
       "style": "IPY_MODEL_e38b52bb14094a918363a41d213a6298",
       "value": "Validation DataLoader 0: 100%"
      }
     },
     "b6ffa381a47441ee901ae262f7ee807b": {
      "model_module": "@jupyter-widgets/controls",
      "model_module_version": "1.5.0",
      "model_name": "DescriptionStyleModel",
      "state": {
       "description_width": ""
      }
     },
     "b740503c71b84fa59717a4dcda9dbde7": {
      "model_module": "@jupyter-widgets/controls",
      "model_module_version": "1.5.0",
      "model_name": "ProgressStyleModel",
      "state": {
       "description_width": ""
      }
     },
     "b771935a9ab447df88cbf329c81a49d4": {
      "model_module": "@jupyter-widgets/controls",
      "model_module_version": "1.5.0",
      "model_name": "DescriptionStyleModel",
      "state": {
       "description_width": ""
      }
     },
     "b77be801e5634002bc209d7f3d8391c6": {
      "model_module": "@jupyter-widgets/controls",
      "model_module_version": "1.5.0",
      "model_name": "HTMLModel",
      "state": {
       "layout": "IPY_MODEL_e5c456fe5cb04f7a9ce2aeb2568069b2",
       "style": "IPY_MODEL_7b161c46fad54626ac3f1a155061bb74",
       "value": " 16/16 [00:01&lt;00:00,  9.25it/s]"
      }
     },
     "b7804836cde04262bb2f0ff9ef87d7c2": {
      "model_module": "@jupyter-widgets/controls",
      "model_module_version": "1.5.0",
      "model_name": "DescriptionStyleModel",
      "state": {
       "description_width": ""
      }
     },
     "b795aee0fe494ee1ac184ccd63f4635b": {
      "model_module": "@jupyter-widgets/controls",
      "model_module_version": "1.5.0",
      "model_name": "HTMLModel",
      "state": {
       "layout": "IPY_MODEL_1c82284e26424d45ade99aac1252bbe5",
       "style": "IPY_MODEL_434ecf07706f43788dbd7e9e1c74e3dd",
       "value": "Validation DataLoader 0: 100%"
      }
     },
     "b7c66ad6ed084b2e8c049c8d9bfe47c7": {
      "model_module": "@jupyter-widgets/controls",
      "model_module_version": "1.5.0",
      "model_name": "ProgressStyleModel",
      "state": {
       "description_width": ""
      }
     },
     "b7e3d9affe064e208881b1794c3422c0": {
      "model_module": "@jupyter-widgets/controls",
      "model_module_version": "1.5.0",
      "model_name": "DescriptionStyleModel",
      "state": {
       "description_width": ""
      }
     },
     "b7fee56487cc432eb310fc520f1383e6": {
      "model_module": "@jupyter-widgets/controls",
      "model_module_version": "1.5.0",
      "model_name": "FloatProgressModel",
      "state": {
       "layout": "IPY_MODEL_fd06c9f8f449417d9b406386e0659c68",
       "max": 16,
       "style": "IPY_MODEL_9dbbe04f955f48f587c0ad9bbb96b5ac",
       "value": 16
      }
     },
     "b8093b05d33f471e95b66882f16d237b": {
      "model_module": "@jupyter-widgets/controls",
      "model_module_version": "1.5.0",
      "model_name": "ProgressStyleModel",
      "state": {
       "description_width": ""
      }
     },
     "b813daf67fa842c08814530ce45fa970": {
      "model_module": "@jupyter-widgets/controls",
      "model_module_version": "1.5.0",
      "model_name": "DescriptionStyleModel",
      "state": {
       "description_width": ""
      }
     },
     "b827ec7fd1694eb48e2631bd91e6bd8d": {
      "model_module": "@jupyter-widgets/base",
      "model_module_version": "1.2.0",
      "model_name": "LayoutModel",
      "state": {}
     },
     "b83a240c9172443e921a465a2399e331": {
      "model_module": "@jupyter-widgets/controls",
      "model_module_version": "1.5.0",
      "model_name": "DescriptionStyleModel",
      "state": {
       "description_width": ""
      }
     },
     "b84d7936f5d54625b828dc837c79de17": {
      "model_module": "@jupyter-widgets/base",
      "model_module_version": "1.2.0",
      "model_name": "LayoutModel",
      "state": {}
     },
     "b84f83d5ad6046cb88d01b660ec79ff4": {
      "model_module": "@jupyter-widgets/controls",
      "model_module_version": "1.5.0",
      "model_name": "HTMLModel",
      "state": {
       "layout": "IPY_MODEL_b503290ad0414b5e9c104d2240f1b977",
       "style": "IPY_MODEL_6aaaa3600dbd4617bc595e6bc2edda5a",
       "value": " 16/16 [00:03&lt;00:00,  4.02it/s]"
      }
     },
     "b8fbf4bb98874260b12e508d9c543ea2": {
      "model_module": "@jupyter-widgets/controls",
      "model_module_version": "1.5.0",
      "model_name": "HTMLModel",
      "state": {
       "layout": "IPY_MODEL_0238900af33a4177821ed2eff96749a2",
       "style": "IPY_MODEL_c598d4090e6e4bca9031c2ea7d973cf0",
       "value": "Validation DataLoader 0: 100%"
      }
     },
     "b911fd0b33c84275aaefdf169192887c": {
      "model_module": "@jupyter-widgets/controls",
      "model_module_version": "1.5.0",
      "model_name": "HTMLModel",
      "state": {
       "layout": "IPY_MODEL_d1a2fe2478c24870ae53ff5b524262d3",
       "style": "IPY_MODEL_12394342594d4c7d883d21253889901e",
       "value": " 16/16 [00:02&lt;00:00,  6.97it/s]"
      }
     },
     "b918a27ab887476da1b14ec856a2d837": {
      "model_module": "@jupyter-widgets/base",
      "model_module_version": "1.2.0",
      "model_name": "LayoutModel",
      "state": {
       "display": "inline-flex",
       "flex_flow": "row wrap",
       "width": "100%"
      }
     },
     "b938a7809c604e13b25b4582da66fc17": {
      "model_module": "@jupyter-widgets/base",
      "model_module_version": "1.2.0",
      "model_name": "LayoutModel",
      "state": {}
     },
     "b9b8cda06cbe41079ca7478aec390fc9": {
      "model_module": "@jupyter-widgets/controls",
      "model_module_version": "1.5.0",
      "model_name": "HTMLModel",
      "state": {
       "layout": "IPY_MODEL_48393a62cbdb4243801203ccd4c472a7",
       "style": "IPY_MODEL_cdd657ef34fd467898087a0695fbacf7",
       "value": " 16/16 [00:01&lt;00:00,  7.61it/s]"
      }
     },
     "b9d14c42f2ef4f56b8a483db1cc56537": {
      "model_module": "@jupyter-widgets/base",
      "model_module_version": "1.2.0",
      "model_name": "LayoutModel",
      "state": {
       "flex": "2"
      }
     },
     "b9f4330c76e7427b8f693be76a0902c0": {
      "model_module": "@jupyter-widgets/base",
      "model_module_version": "1.2.0",
      "model_name": "LayoutModel",
      "state": {
       "flex": "2"
      }
     },
     "b9fa9a07abc8474fa71d11dfdbd3f20c": {
      "model_module": "@jupyter-widgets/controls",
      "model_module_version": "1.5.0",
      "model_name": "DescriptionStyleModel",
      "state": {
       "description_width": ""
      }
     },
     "ba054ea17d7c4e20b800f056c314f431": {
      "model_module": "@jupyter-widgets/controls",
      "model_module_version": "1.5.0",
      "model_name": "FloatProgressModel",
      "state": {
       "layout": "IPY_MODEL_0fab8559818a4fe7afc226d7add84f1c",
       "max": 16,
       "style": "IPY_MODEL_c816013e0354411abea24b7c1d404b12",
       "value": 16
      }
     },
     "ba19a6b69cc64d3bb14b6df6fbbfbef2": {
      "model_module": "@jupyter-widgets/base",
      "model_module_version": "1.2.0",
      "model_name": "LayoutModel",
      "state": {
       "flex": "2"
      }
     },
     "ba4d3dcfe39f4b85a4aecc2c2fc022a4": {
      "model_module": "@jupyter-widgets/controls",
      "model_module_version": "1.5.0",
      "model_name": "HTMLModel",
      "state": {
       "layout": "IPY_MODEL_a2d2098581d548ccadf5919b558a706d",
       "style": "IPY_MODEL_4249dd9727574c7eb263a724c79b830c",
       "value": "Validation DataLoader 0: 100%"
      }
     },
     "baa68f5a2e5c4e7699f01abcc6dba48d": {
      "model_module": "@jupyter-widgets/base",
      "model_module_version": "1.2.0",
      "model_name": "LayoutModel",
      "state": {
       "display": "inline-flex",
       "flex_flow": "row wrap",
       "width": "100%"
      }
     },
     "bb1bebe991734502b19731505f579257": {
      "model_module": "@jupyter-widgets/base",
      "model_module_version": "1.2.0",
      "model_name": "LayoutModel",
      "state": {}
     },
     "bb31068c2d3f44cc838361321faf23c3": {
      "model_module": "@jupyter-widgets/base",
      "model_module_version": "1.2.0",
      "model_name": "LayoutModel",
      "state": {
       "flex": "2"
      }
     },
     "bb358efccc034416ba6bc73935755460": {
      "model_module": "@jupyter-widgets/base",
      "model_module_version": "1.2.0",
      "model_name": "LayoutModel",
      "state": {}
     },
     "bb7302883f9148d79611b352f6a3883d": {
      "model_module": "@jupyter-widgets/controls",
      "model_module_version": "1.5.0",
      "model_name": "ProgressStyleModel",
      "state": {
       "description_width": ""
      }
     },
     "bb8b883056eb4fcfae20a81dda188709": {
      "model_module": "@jupyter-widgets/base",
      "model_module_version": "1.2.0",
      "model_name": "LayoutModel",
      "state": {
       "flex": "2"
      }
     },
     "bbc416bfd5ba431ab88d24569c8fbd9b": {
      "model_module": "@jupyter-widgets/controls",
      "model_module_version": "1.5.0",
      "model_name": "DescriptionStyleModel",
      "state": {
       "description_width": ""
      }
     },
     "bc0d8261712542b6b4171e6108fb14c8": {
      "model_module": "@jupyter-widgets/controls",
      "model_module_version": "1.5.0",
      "model_name": "DescriptionStyleModel",
      "state": {
       "description_width": ""
      }
     },
     "bc8432f009884104b756ddffc5e420ad": {
      "model_module": "@jupyter-widgets/base",
      "model_module_version": "1.2.0",
      "model_name": "LayoutModel",
      "state": {}
     },
     "bc9d3485a0c84059a052ce08f1cbc31d": {
      "model_module": "@jupyter-widgets/base",
      "model_module_version": "1.2.0",
      "model_name": "LayoutModel",
      "state": {
       "display": "inline-flex",
       "flex_flow": "row wrap",
       "width": "100%"
      }
     },
     "bcb8931538104c8fabd49271c15779b4": {
      "model_module": "@jupyter-widgets/base",
      "model_module_version": "1.2.0",
      "model_name": "LayoutModel",
      "state": {}
     },
     "bda5c0f3ad1b4911a64b09500d25031b": {
      "model_module": "@jupyter-widgets/controls",
      "model_module_version": "1.5.0",
      "model_name": "DescriptionStyleModel",
      "state": {
       "description_width": ""
      }
     },
     "bdab9ca952474502babb490d7826952c": {
      "model_module": "@jupyter-widgets/base",
      "model_module_version": "1.2.0",
      "model_name": "LayoutModel",
      "state": {}
     },
     "bdff805096004b62b064753d0371c4dd": {
      "model_module": "@jupyter-widgets/base",
      "model_module_version": "1.2.0",
      "model_name": "LayoutModel",
      "state": {
       "display": "inline-flex",
       "flex_flow": "row wrap",
       "width": "100%"
      }
     },
     "be2635dd42364a0abcf1da2a5c473eac": {
      "model_module": "@jupyter-widgets/controls",
      "model_module_version": "1.5.0",
      "model_name": "HTMLModel",
      "state": {
       "layout": "IPY_MODEL_174e3de65a8a4f1e8122e15edb59c075",
       "style": "IPY_MODEL_aabc2c3e6de244de8ec653887ee74073",
       "value": "Validation DataLoader 0: 100%"
      }
     },
     "bece1ecc4fae449e9be386afb2f40d1c": {
      "model_module": "@jupyter-widgets/controls",
      "model_module_version": "1.5.0",
      "model_name": "HTMLModel",
      "state": {
       "layout": "IPY_MODEL_b4f2fe1c7e3748b49833c35d034fc611",
       "style": "IPY_MODEL_948a72fe7da240ad900f5d783daf0d58",
       "value": " 16/16 [00:03&lt;00:00,  3.74it/s]"
      }
     },
     "beee1f95d2d345e8a75d5de6b961f12c": {
      "model_module": "@jupyter-widgets/controls",
      "model_module_version": "1.5.0",
      "model_name": "DescriptionStyleModel",
      "state": {
       "description_width": ""
      }
     },
     "bf12472d66fc4a95b9383a97e0ddb973": {
      "model_module": "@jupyter-widgets/controls",
      "model_module_version": "1.5.0",
      "model_name": "DescriptionStyleModel",
      "state": {
       "description_width": ""
      }
     },
     "bf2e825bbd3a47b4bb49bf7065c76569": {
      "model_module": "@jupyter-widgets/controls",
      "model_module_version": "1.5.0",
      "model_name": "DescriptionStyleModel",
      "state": {
       "description_width": ""
      }
     },
     "bf7ceff5a9644a068594127c8e352a1c": {
      "model_module": "@jupyter-widgets/base",
      "model_module_version": "1.2.0",
      "model_name": "LayoutModel",
      "state": {
       "display": "inline-flex",
       "flex_flow": "row wrap",
       "width": "100%"
      }
     },
     "bf81b5de0a974f84ad02ffa16b3e88dd": {
      "model_module": "@jupyter-widgets/controls",
      "model_module_version": "1.5.0",
      "model_name": "FloatProgressModel",
      "state": {
       "layout": "IPY_MODEL_b4d28505398a4dd29b110004c9be145a",
       "max": 16,
       "style": "IPY_MODEL_d1c6c214be74413abe1fed3cf650fb92",
       "value": 16
      }
     },
     "bfa27144ade04681bb9d20e51a04027c": {
      "model_module": "@jupyter-widgets/controls",
      "model_module_version": "1.5.0",
      "model_name": "FloatProgressModel",
      "state": {
       "layout": "IPY_MODEL_c96e97edbc3a4199be2b000e12a78b66",
       "max": 16,
       "style": "IPY_MODEL_5e4b0244bba34534b36ace725cc0e15c",
       "value": 16
      }
     },
     "bfa56cedbf774da4ad7920be966bfc69": {
      "model_module": "@jupyter-widgets/controls",
      "model_module_version": "1.5.0",
      "model_name": "HTMLModel",
      "state": {
       "layout": "IPY_MODEL_4271941604d74e3eb5aa645a4562a98c",
       "style": "IPY_MODEL_ee865f3f765e4ec983a64021fee93f91",
       "value": " 16/16 [00:01&lt;00:00,  8.08it/s]"
      }
     },
     "bfb8c0460d104b218bc1f47b3a75030e": {
      "model_module": "@jupyter-widgets/controls",
      "model_module_version": "1.5.0",
      "model_name": "HTMLModel",
      "state": {
       "layout": "IPY_MODEL_7a4f7149f12e4e2b848038abf6d5e94a",
       "style": "IPY_MODEL_cc3eadd20eaf4014b059799869f85994",
       "value": "Validation DataLoader 0: 100%"
      }
     },
     "bfbd7368b1f74e999d59e276b4c575c3": {
      "model_module": "@jupyter-widgets/base",
      "model_module_version": "1.2.0",
      "model_name": "LayoutModel",
      "state": {
       "display": "inline-flex",
       "flex_flow": "row wrap",
       "width": "100%"
      }
     },
     "bfd21bf9d1e7455db0566c1ae6e678f7": {
      "model_module": "@jupyter-widgets/controls",
      "model_module_version": "1.5.0",
      "model_name": "DescriptionStyleModel",
      "state": {
       "description_width": ""
      }
     },
     "bffe41cc2cff47b19de02430a01e5bb8": {
      "model_module": "@jupyter-widgets/base",
      "model_module_version": "1.2.0",
      "model_name": "LayoutModel",
      "state": {
       "display": "inline-flex",
       "flex_flow": "row wrap",
       "width": "100%"
      }
     },
     "c0183bf8d30e4224aa6c805c65ac8093": {
      "model_module": "@jupyter-widgets/controls",
      "model_module_version": "1.5.0",
      "model_name": "DescriptionStyleModel",
      "state": {
       "description_width": ""
      }
     },
     "c09e58d289fd4ad49e37f63f2808360d": {
      "model_module": "@jupyter-widgets/base",
      "model_module_version": "1.2.0",
      "model_name": "LayoutModel",
      "state": {
       "flex": "2"
      }
     },
     "c0effc8cdfe34ad49662cb2a17acd72c": {
      "model_module": "@jupyter-widgets/controls",
      "model_module_version": "1.5.0",
      "model_name": "FloatProgressModel",
      "state": {
       "layout": "IPY_MODEL_47475174d224445380e801263249b2dc",
       "max": 16,
       "style": "IPY_MODEL_93696292182749d6b8f122bd680bb7f7",
       "value": 16
      }
     },
     "c136e16369cb4356b60e4a09cdff3788": {
      "model_module": "@jupyter-widgets/base",
      "model_module_version": "1.2.0",
      "model_name": "LayoutModel",
      "state": {
       "display": "inline-flex",
       "flex_flow": "row wrap",
       "width": "100%"
      }
     },
     "c13c142698fc4fbaa7d6fcda4653e7ba": {
      "model_module": "@jupyter-widgets/base",
      "model_module_version": "1.2.0",
      "model_name": "LayoutModel",
      "state": {}
     },
     "c18c5566c4c14a5e8066eacb31014104": {
      "model_module": "@jupyter-widgets/base",
      "model_module_version": "1.2.0",
      "model_name": "LayoutModel",
      "state": {
       "display": "inline-flex",
       "flex_flow": "row wrap",
       "width": "100%"
      }
     },
     "c1936c5cc7f6466cbbaab23852f461d1": {
      "model_module": "@jupyter-widgets/base",
      "model_module_version": "1.2.0",
      "model_name": "LayoutModel",
      "state": {}
     },
     "c1d339491a074226a01dafde75c1d8c8": {
      "model_module": "@jupyter-widgets/controls",
      "model_module_version": "1.5.0",
      "model_name": "HTMLModel",
      "state": {
       "layout": "IPY_MODEL_4b29e06f0dd545108299623789e61876",
       "style": "IPY_MODEL_bf2e825bbd3a47b4bb49bf7065c76569",
       "value": " 16/16 [00:09&lt;00:00,  1.50it/s]"
      }
     },
     "c26cd20192164a47b7e77555b9099f91": {
      "model_module": "@jupyter-widgets/controls",
      "model_module_version": "1.5.0",
      "model_name": "DescriptionStyleModel",
      "state": {
       "description_width": ""
      }
     },
     "c2d12383e69c4c88a7f52d5ffbbd4ea1": {
      "model_module": "@jupyter-widgets/base",
      "model_module_version": "1.2.0",
      "model_name": "LayoutModel",
      "state": {
       "flex": "2"
      }
     },
     "c317850692144bc49d8be13c6da47fb0": {
      "model_module": "@jupyter-widgets/base",
      "model_module_version": "1.2.0",
      "model_name": "LayoutModel",
      "state": {
       "flex": "2"
      }
     },
     "c32e1cbc2b9a492aafd989e42e82e859": {
      "model_module": "@jupyter-widgets/controls",
      "model_module_version": "1.5.0",
      "model_name": "FloatProgressModel",
      "state": {
       "layout": "IPY_MODEL_ab22ab08ba2b436e9a883850efb7a7be",
       "max": 16,
       "style": "IPY_MODEL_aa9b195a9a9949d6a6be547a0fe6d431",
       "value": 16
      }
     },
     "c35e15b33f3f430c93ed428a743f8772": {
      "model_module": "@jupyter-widgets/controls",
      "model_module_version": "1.5.0",
      "model_name": "DescriptionStyleModel",
      "state": {
       "description_width": ""
      }
     },
     "c36f6ecb71cf49cc89c791f66e23b68e": {
      "model_module": "@jupyter-widgets/controls",
      "model_module_version": "1.5.0",
      "model_name": "ProgressStyleModel",
      "state": {
       "description_width": ""
      }
     },
     "c383c480c3454fe08d36bb790f5e2c0f": {
      "model_module": "@jupyter-widgets/controls",
      "model_module_version": "1.5.0",
      "model_name": "DescriptionStyleModel",
      "state": {
       "description_width": ""
      }
     },
     "c3930c51d9ff4874a9bab9ef1753987f": {
      "model_module": "@jupyter-widgets/controls",
      "model_module_version": "1.5.0",
      "model_name": "ProgressStyleModel",
      "state": {
       "description_width": ""
      }
     },
     "c39ff241cd1a4716a8cffe0ffa21cba8": {
      "model_module": "@jupyter-widgets/controls",
      "model_module_version": "1.5.0",
      "model_name": "HTMLModel",
      "state": {
       "layout": "IPY_MODEL_831b2ec06a5d411cb3bcd7277682731d",
       "style": "IPY_MODEL_687c8955a8874a18adfeb6e36dda3473",
       "value": "Validation DataLoader 0: 100%"
      }
     },
     "c3b3f2d7560d41458b9bd0344fc85b9e": {
      "model_module": "@jupyter-widgets/base",
      "model_module_version": "1.2.0",
      "model_name": "LayoutModel",
      "state": {
       "flex": "2"
      }
     },
     "c3e9b5ca4f2d4a8c8b367dbf6256d268": {
      "model_module": "@jupyter-widgets/controls",
      "model_module_version": "1.5.0",
      "model_name": "FloatProgressModel",
      "state": {
       "layout": "IPY_MODEL_041ae7b45a1e4122aa325443ab6f9cbc",
       "max": 16,
       "style": "IPY_MODEL_40b05b1aa7f64d5c84989a9d0db5a048",
       "value": 16
      }
     },
     "c405f75d7cde49229ff7c13917520cdb": {
      "model_module": "@jupyter-widgets/base",
      "model_module_version": "1.2.0",
      "model_name": "LayoutModel",
      "state": {}
     },
     "c4225bfe402945f3966473b8751eb729": {
      "model_module": "@jupyter-widgets/controls",
      "model_module_version": "1.5.0",
      "model_name": "DescriptionStyleModel",
      "state": {
       "description_width": ""
      }
     },
     "c44d53117abe44f9bf2075d40d6c6275": {
      "model_module": "@jupyter-widgets/controls",
      "model_module_version": "1.5.0",
      "model_name": "FloatProgressModel",
      "state": {
       "layout": "IPY_MODEL_32da56bd61ff4654a868d90fc44aab12",
       "max": 16,
       "style": "IPY_MODEL_636cbb1720694e7f9696203ed89a3b89",
       "value": 16
      }
     },
     "c44db4b1677a4a828ed35c20c47da974": {
      "model_module": "@jupyter-widgets/controls",
      "model_module_version": "1.5.0",
      "model_name": "FloatProgressModel",
      "state": {
       "layout": "IPY_MODEL_4a72b1340b884f1f97b84c65b2a1607c",
       "max": 77,
       "style": "IPY_MODEL_0c2fc59bec1c44edac90e5c627b4b82f",
       "value": 36
      }
     },
     "c45357a889d64d208a809953ef27e2b6": {
      "model_module": "@jupyter-widgets/controls",
      "model_module_version": "1.5.0",
      "model_name": "HTMLModel",
      "state": {
       "layout": "IPY_MODEL_fddb4430de364a42ad3e2ebd76211755",
       "style": "IPY_MODEL_80d6ca7248064a26849dbd929e64f30c",
       "value": " 16/16 [00:05&lt;00:00,  2.81it/s]"
      }
     },
     "c4b8550a5e814fddb5b5750170a7a2ab": {
      "model_module": "@jupyter-widgets/controls",
      "model_module_version": "1.5.0",
      "model_name": "DescriptionStyleModel",
      "state": {
       "description_width": ""
      }
     },
     "c4f641e19fc741f1a717bc6e5d573160": {
      "model_module": "@jupyter-widgets/base",
      "model_module_version": "1.2.0",
      "model_name": "LayoutModel",
      "state": {}
     },
     "c55dc76f44164fa3987f7a43f3aaf3aa": {
      "model_module": "@jupyter-widgets/controls",
      "model_module_version": "1.5.0",
      "model_name": "ProgressStyleModel",
      "state": {
       "description_width": ""
      }
     },
     "c598d4090e6e4bca9031c2ea7d973cf0": {
      "model_module": "@jupyter-widgets/controls",
      "model_module_version": "1.5.0",
      "model_name": "DescriptionStyleModel",
      "state": {
       "description_width": ""
      }
     },
     "c5d987bf68454479ac31b591210eb9ee": {
      "model_module": "@jupyter-widgets/controls",
      "model_module_version": "1.5.0",
      "model_name": "DescriptionStyleModel",
      "state": {
       "description_width": ""
      }
     },
     "c5dcb5d39e5d44c3a9ecef5a79054be8": {
      "model_module": "@jupyter-widgets/base",
      "model_module_version": "1.2.0",
      "model_name": "LayoutModel",
      "state": {
       "flex": "2"
      }
     },
     "c5ff4a42c61e4f948a501f6ebe78218d": {
      "model_module": "@jupyter-widgets/controls",
      "model_module_version": "1.5.0",
      "model_name": "FloatProgressModel",
      "state": {
       "layout": "IPY_MODEL_6604bf510112450490060c9fd3f09ffa",
       "max": 16,
       "style": "IPY_MODEL_44345031a70f429dbecef927352c283f",
       "value": 16
      }
     },
     "c61955b80cba438781346f914707c009": {
      "model_module": "@jupyter-widgets/controls",
      "model_module_version": "1.5.0",
      "model_name": "ProgressStyleModel",
      "state": {
       "description_width": ""
      }
     },
     "c620daef0cd34d8cac4f62660d94a1e4": {
      "model_module": "@jupyter-widgets/controls",
      "model_module_version": "1.5.0",
      "model_name": "DescriptionStyleModel",
      "state": {
       "description_width": ""
      }
     },
     "c62a8bf89dd14696a935a6ff18493662": {
      "model_module": "@jupyter-widgets/controls",
      "model_module_version": "1.5.0",
      "model_name": "DescriptionStyleModel",
      "state": {
       "description_width": ""
      }
     },
     "c6555b5e916d4ddcb3298be3b7530d37": {
      "model_module": "@jupyter-widgets/controls",
      "model_module_version": "1.5.0",
      "model_name": "HTMLModel",
      "state": {
       "layout": "IPY_MODEL_064df9b55a9c49559dd2f1c621b6a078",
       "style": "IPY_MODEL_c62a8bf89dd14696a935a6ff18493662",
       "value": " 16/16 [00:01&lt;00:00,  7.94it/s]"
      }
     },
     "c67878a7323a4d788dcd159fdba507b8": {
      "model_module": "@jupyter-widgets/controls",
      "model_module_version": "1.5.0",
      "model_name": "DescriptionStyleModel",
      "state": {
       "description_width": ""
      }
     },
     "c687d3bd63324f879043a048d1c0a880": {
      "model_module": "@jupyter-widgets/controls",
      "model_module_version": "1.5.0",
      "model_name": "HTMLModel",
      "state": {
       "layout": "IPY_MODEL_8a5a28f98c8a4126a006c2efe782505b",
       "style": "IPY_MODEL_040b318fa204415bbf746a29c0715fca",
       "value": "Validation DataLoader 0: 100%"
      }
     },
     "c6a2434130ae4e8aac7db620e54adcd1": {
      "model_module": "@jupyter-widgets/controls",
      "model_module_version": "1.5.0",
      "model_name": "HTMLModel",
      "state": {
       "layout": "IPY_MODEL_abed317ab4e445a1be626f095ce137ee",
       "style": "IPY_MODEL_ef8c176529654d139be15d860b56cd2e",
       "value": "Sanity Checking DataLoader 0: 100%"
      }
     },
     "c6aa4abce47548b9a25c59fe3d31f4cd": {
      "model_module": "@jupyter-widgets/base",
      "model_module_version": "1.2.0",
      "model_name": "LayoutModel",
      "state": {
       "flex": "2"
      }
     },
     "c6bafd390102406a802bc922920122e5": {
      "model_module": "@jupyter-widgets/controls",
      "model_module_version": "1.5.0",
      "model_name": "FloatProgressModel",
      "state": {
       "layout": "IPY_MODEL_d277211f396f44e0a4149cfaeffee0b3",
       "max": 16,
       "style": "IPY_MODEL_fe58b2ea0a25434e97ef034ed8a8ee6d",
       "value": 16
      }
     },
     "c6c6819edffd48a193c7fae3ce7012d8": {
      "model_module": "@jupyter-widgets/controls",
      "model_module_version": "1.5.0",
      "model_name": "DescriptionStyleModel",
      "state": {
       "description_width": ""
      }
     },
     "c6c8c1c26c3e41d6a36b268c72a47785": {
      "model_module": "@jupyter-widgets/base",
      "model_module_version": "1.2.0",
      "model_name": "LayoutModel",
      "state": {}
     },
     "c7263badac5d4aaeaf24b6f375ecac3c": {
      "model_module": "@jupyter-widgets/base",
      "model_module_version": "1.2.0",
      "model_name": "LayoutModel",
      "state": {}
     },
     "c73d20480c08447896be2772e19e1671": {
      "model_module": "@jupyter-widgets/base",
      "model_module_version": "1.2.0",
      "model_name": "LayoutModel",
      "state": {
       "flex": "2"
      }
     },
     "c79456aaa7e7438782fa2480f9382867": {
      "model_module": "@jupyter-widgets/base",
      "model_module_version": "1.2.0",
      "model_name": "LayoutModel",
      "state": {
       "display": "inline-flex",
       "flex_flow": "row wrap",
       "width": "100%"
      }
     },
     "c794745cb03a4864be9b3a4988a3df62": {
      "model_module": "@jupyter-widgets/controls",
      "model_module_version": "1.5.0",
      "model_name": "HTMLModel",
      "state": {
       "layout": "IPY_MODEL_b938a7809c604e13b25b4582da66fc17",
       "style": "IPY_MODEL_4532c0e15cb84e7fa77cdfcff7c9148a",
       "value": "Validation DataLoader 0: 100%"
      }
     },
     "c7cea23736ae44ff94957f5520ae96bf": {
      "model_module": "@jupyter-widgets/controls",
      "model_module_version": "1.5.0",
      "model_name": "ProgressStyleModel",
      "state": {
       "description_width": ""
      }
     },
     "c7d9d405080d4bf588bbc67f61d3bd30": {
      "model_module": "@jupyter-widgets/controls",
      "model_module_version": "1.5.0",
      "model_name": "ProgressStyleModel",
      "state": {
       "description_width": ""
      }
     },
     "c7e676f0595d4704ab03831569f969ae": {
      "model_module": "@jupyter-widgets/base",
      "model_module_version": "1.2.0",
      "model_name": "LayoutModel",
      "state": {}
     },
     "c816013e0354411abea24b7c1d404b12": {
      "model_module": "@jupyter-widgets/controls",
      "model_module_version": "1.5.0",
      "model_name": "ProgressStyleModel",
      "state": {
       "description_width": ""
      }
     },
     "c81f7d138710485b82dd944be7f44239": {
      "model_module": "@jupyter-widgets/base",
      "model_module_version": "1.2.0",
      "model_name": "LayoutModel",
      "state": {
       "display": "inline-flex",
       "flex_flow": "row wrap",
       "width": "100%"
      }
     },
     "c83ec64da04b4b75a36433c437ef674a": {
      "model_module": "@jupyter-widgets/controls",
      "model_module_version": "1.5.0",
      "model_name": "ProgressStyleModel",
      "state": {
       "description_width": ""
      }
     },
     "c84cd9d5f6df4157af212cc8d585027e": {
      "model_module": "@jupyter-widgets/controls",
      "model_module_version": "1.5.0",
      "model_name": "ProgressStyleModel",
      "state": {
       "description_width": ""
      }
     },
     "c85ec11669a642d88fad3a36af94c0dd": {
      "model_module": "@jupyter-widgets/base",
      "model_module_version": "1.2.0",
      "model_name": "LayoutModel",
      "state": {}
     },
     "c87a1f039e00445a9fb74c476923daff": {
      "model_module": "@jupyter-widgets/controls",
      "model_module_version": "1.5.0",
      "model_name": "HTMLModel",
      "state": {
       "layout": "IPY_MODEL_b1cf49f5e5d844308c42df5cc5f59d59",
       "style": "IPY_MODEL_7b4bfd1943f94d7ea42573350704ccb7",
       "value": " 16/16 [00:03&lt;00:00,  4.61it/s]"
      }
     },
     "c89f7539e5ae466bae2f9d2d484ca482": {
      "model_module": "@jupyter-widgets/controls",
      "model_module_version": "1.5.0",
      "model_name": "FloatProgressModel",
      "state": {
       "layout": "IPY_MODEL_da6dd274e8a34dbb958c643e801158ac",
       "max": 16,
       "style": "IPY_MODEL_4c4652bacfff49dea4b34ea70092eaa2",
       "value": 16
      }
     },
     "c8f153ce8324494a8d5e0917c125beb6": {
      "model_module": "@jupyter-widgets/controls",
      "model_module_version": "1.5.0",
      "model_name": "ProgressStyleModel",
      "state": {
       "description_width": ""
      }
     },
     "c92a62657cac4f54afa8f4467ca6948f": {
      "model_module": "@jupyter-widgets/controls",
      "model_module_version": "1.5.0",
      "model_name": "DescriptionStyleModel",
      "state": {
       "description_width": ""
      }
     },
     "c96e97edbc3a4199be2b000e12a78b66": {
      "model_module": "@jupyter-widgets/base",
      "model_module_version": "1.2.0",
      "model_name": "LayoutModel",
      "state": {
       "flex": "2"
      }
     },
     "c96f136f82de40de9114aa0c41a8e683": {
      "model_module": "@jupyter-widgets/controls",
      "model_module_version": "1.5.0",
      "model_name": "HTMLModel",
      "state": {
       "layout": "IPY_MODEL_7d7a376f91334ec38216d1a323376d97",
       "style": "IPY_MODEL_9e164083085647efad4892ae0ebf3295",
       "value": " 16/16 [00:05&lt;00:00,  2.80it/s]"
      }
     },
     "c99a5dd7c7d14b7ca7316f48b30545a0": {
      "model_module": "@jupyter-widgets/base",
      "model_module_version": "1.2.0",
      "model_name": "LayoutModel",
      "state": {
       "flex": "2"
      }
     },
     "c9bbc3a0e23842e0ab61dc7bc9db9a7d": {
      "model_module": "@jupyter-widgets/controls",
      "model_module_version": "1.5.0",
      "model_name": "DescriptionStyleModel",
      "state": {
       "description_width": ""
      }
     },
     "c9c1f5e7c384466eb88b0ef6ceb79afc": {
      "model_module": "@jupyter-widgets/controls",
      "model_module_version": "1.5.0",
      "model_name": "DescriptionStyleModel",
      "state": {
       "description_width": ""
      }
     },
     "c9da3b5eb1a8494595bdee8d11e3795f": {
      "model_module": "@jupyter-widgets/base",
      "model_module_version": "1.2.0",
      "model_name": "LayoutModel",
      "state": {}
     },
     "c9e580f496db4025a3a761c85f2476ae": {
      "model_module": "@jupyter-widgets/base",
      "model_module_version": "1.2.0",
      "model_name": "LayoutModel",
      "state": {}
     },
     "c9f2b5e3f0d1485e800ac888f54a5ee5": {
      "model_module": "@jupyter-widgets/controls",
      "model_module_version": "1.5.0",
      "model_name": "HTMLModel",
      "state": {
       "layout": "IPY_MODEL_0fc8fcef4e23461ab9fcbf883806cb92",
       "style": "IPY_MODEL_d3be1015ecb141e59a8016af32f856f2",
       "value": " 36/77 [00:34&lt;00:39,  1.05it/s, loss=0.125, v_num=H-76]"
      }
     },
     "ca0c09987a62464aaa18e61d639a4d25": {
      "model_module": "@jupyter-widgets/base",
      "model_module_version": "1.2.0",
      "model_name": "LayoutModel",
      "state": {}
     },
     "ca23333fc1ef4de296c64677e3fdfde6": {
      "model_module": "@jupyter-widgets/controls",
      "model_module_version": "1.5.0",
      "model_name": "HTMLModel",
      "state": {
       "layout": "IPY_MODEL_dc9db030e31444438fa4dbcde2d82536",
       "style": "IPY_MODEL_3d94fcebc99d4c3b8a809249deca9204",
       "value": " 16/16 [00:03&lt;00:00,  3.80it/s]"
      }
     },
     "ca253c67d43642738228ba9bae9d32c3": {
      "model_module": "@jupyter-widgets/base",
      "model_module_version": "1.2.0",
      "model_name": "LayoutModel",
      "state": {
       "flex": "2"
      }
     },
     "ca5378bb5574411190bf158baaaa4d0b": {
      "model_module": "@jupyter-widgets/base",
      "model_module_version": "1.2.0",
      "model_name": "LayoutModel",
      "state": {
       "display": "inline-flex",
       "flex_flow": "row wrap",
       "width": "100%"
      }
     },
     "ca5aba916281488380c04217844c4870": {
      "model_module": "@jupyter-widgets/controls",
      "model_module_version": "1.5.0",
      "model_name": "HTMLModel",
      "state": {
       "layout": "IPY_MODEL_9a72cd9540034f939487219d5c712cd9",
       "style": "IPY_MODEL_95a92951f18649ebaae6a40025c341f3",
       "value": "Validation DataLoader 0: 100%"
      }
     },
     "ca6d97c2a5f048938ac9c5a3be8493f9": {
      "model_module": "@jupyter-widgets/base",
      "model_module_version": "1.2.0",
      "model_name": "LayoutModel",
      "state": {}
     },
     "ca7576c0770d441985357c1e2baf66a7": {
      "model_module": "@jupyter-widgets/controls",
      "model_module_version": "1.5.0",
      "model_name": "ProgressStyleModel",
      "state": {
       "description_width": ""
      }
     },
     "ca80972295784d1390bd8f8f5c87d683": {
      "model_module": "@jupyter-widgets/controls",
      "model_module_version": "1.5.0",
      "model_name": "DescriptionStyleModel",
      "state": {
       "description_width": ""
      }
     },
     "caa12f9d24c644c4b008fbf997b89bcb": {
      "model_module": "@jupyter-widgets/controls",
      "model_module_version": "1.5.0",
      "model_name": "ProgressStyleModel",
      "state": {
       "description_width": ""
      }
     },
     "caa151c6918e4f42a44f3e96ca3b749c": {
      "model_module": "@jupyter-widgets/base",
      "model_module_version": "1.2.0",
      "model_name": "LayoutModel",
      "state": {}
     },
     "cab572af664346f787df9e2c93000a1e": {
      "model_module": "@jupyter-widgets/controls",
      "model_module_version": "1.5.0",
      "model_name": "HTMLModel",
      "state": {
       "layout": "IPY_MODEL_d83566999d674be4b19d78b5ab523145",
       "style": "IPY_MODEL_a0d5d63bb2d44adb8cf3dce4951175b3",
       "value": " 16/16 [00:03&lt;00:00,  3.84it/s]"
      }
     },
     "cab878ed3dd14bad9ce7acca3bf1a4f3": {
      "model_module": "@jupyter-widgets/controls",
      "model_module_version": "1.5.0",
      "model_name": "DescriptionStyleModel",
      "state": {
       "description_width": ""
      }
     },
     "cade38386b0d4597a0c3b7e79ae15fb3": {
      "model_module": "@jupyter-widgets/controls",
      "model_module_version": "1.5.0",
      "model_name": "ProgressStyleModel",
      "state": {
       "description_width": ""
      }
     },
     "cb69a32c08874bc398a50a681896d056": {
      "model_module": "@jupyter-widgets/controls",
      "model_module_version": "1.5.0",
      "model_name": "ProgressStyleModel",
      "state": {
       "description_width": ""
      }
     },
     "cb840bd2dde04a1185a02a3bb631f3a2": {
      "model_module": "@jupyter-widgets/base",
      "model_module_version": "1.2.0",
      "model_name": "LayoutModel",
      "state": {}
     },
     "cb90eff3bde84c2d92aa6bf3925ce915": {
      "model_module": "@jupyter-widgets/base",
      "model_module_version": "1.2.0",
      "model_name": "LayoutModel",
      "state": {}
     },
     "cba2630cf2c94eb8882adf15cad0f55f": {
      "model_module": "@jupyter-widgets/controls",
      "model_module_version": "1.5.0",
      "model_name": "DescriptionStyleModel",
      "state": {
       "description_width": ""
      }
     },
     "cbd77ed2bb474a7aa0bbd86c2d123eb5": {
      "model_module": "@jupyter-widgets/controls",
      "model_module_version": "1.5.0",
      "model_name": "HTMLModel",
      "state": {
       "layout": "IPY_MODEL_1abb5c444a0e4ff5a2f7268965bcc763",
       "style": "IPY_MODEL_7d0ce0953e324744887813d4bc828c9e",
       "value": " 16/16 [00:01&lt;00:00,  8.27it/s]"
      }
     },
     "cc1ca281e92242ed80eed3c8653df4ce": {
      "model_module": "@jupyter-widgets/controls",
      "model_module_version": "1.5.0",
      "model_name": "FloatProgressModel",
      "state": {
       "layout": "IPY_MODEL_6e87fa211c5c483bb32067a08b2cf22a",
       "max": 16,
       "style": "IPY_MODEL_10e1e92d9ad4411f8cb01551e926a8ee",
       "value": 16
      }
     },
     "cc3eadd20eaf4014b059799869f85994": {
      "model_module": "@jupyter-widgets/controls",
      "model_module_version": "1.5.0",
      "model_name": "DescriptionStyleModel",
      "state": {
       "description_width": ""
      }
     },
     "cc56d5af8ad64fe9b16dc576b2e1f665": {
      "model_module": "@jupyter-widgets/base",
      "model_module_version": "1.2.0",
      "model_name": "LayoutModel",
      "state": {
       "display": "inline-flex",
       "flex_flow": "row wrap",
       "width": "100%"
      }
     },
     "cc5ab376d9cd4c70bf0c815fb834ef42": {
      "model_module": "@jupyter-widgets/controls",
      "model_module_version": "1.5.0",
      "model_name": "HTMLModel",
      "state": {
       "layout": "IPY_MODEL_32ce264458da4f8ba964b1306db5dbae",
       "style": "IPY_MODEL_e7988a41cff348eb8bce9564572cd22b",
       "value": " 16/16 [00:01&lt;00:00,  7.69it/s]"
      }
     },
     "ccc036271aa846aeb9293218ceb66b39": {
      "model_module": "@jupyter-widgets/controls",
      "model_module_version": "1.5.0",
      "model_name": "ProgressStyleModel",
      "state": {
       "description_width": ""
      }
     },
     "ccd98039e5bc439cb9ea4cb2d4b499f4": {
      "model_module": "@jupyter-widgets/controls",
      "model_module_version": "1.5.0",
      "model_name": "DescriptionStyleModel",
      "state": {
       "description_width": ""
      }
     },
     "cd06c2f86b684550b9495295db16410e": {
      "model_module": "@jupyter-widgets/base",
      "model_module_version": "1.2.0",
      "model_name": "LayoutModel",
      "state": {
       "display": "inline-flex",
       "flex_flow": "row wrap",
       "width": "100%"
      }
     },
     "cd12e38423a64d9fb0ff8ac5a9dbaa5b": {
      "model_module": "@jupyter-widgets/base",
      "model_module_version": "1.2.0",
      "model_name": "LayoutModel",
      "state": {}
     },
     "cd311073d10f48698f59d73c8919e95d": {
      "model_module": "@jupyter-widgets/controls",
      "model_module_version": "1.5.0",
      "model_name": "HTMLModel",
      "state": {
       "layout": "IPY_MODEL_6fc72af1b92443d081b8cd1f23024a56",
       "style": "IPY_MODEL_2fc295bbfc0a4f27aee3cec503c53392",
       "value": " 16/16 [00:01&lt;00:00,  7.98it/s]"
      }
     },
     "cd42eed40a874a5e8ab651243ad74dfa": {
      "model_module": "@jupyter-widgets/base",
      "model_module_version": "1.2.0",
      "model_name": "LayoutModel",
      "state": {}
     },
     "cd583a194c9243a9bd056ad11ae3135a": {
      "model_module": "@jupyter-widgets/base",
      "model_module_version": "1.2.0",
      "model_name": "LayoutModel",
      "state": {}
     },
     "cd591bd6b48c4cee8a98db59521e79f0": {
      "model_module": "@jupyter-widgets/base",
      "model_module_version": "1.2.0",
      "model_name": "LayoutModel",
      "state": {
       "display": "inline-flex",
       "flex_flow": "row wrap",
       "width": "100%"
      }
     },
     "cd5faefa3a3443f8bd58d933d8d5b11b": {
      "model_module": "@jupyter-widgets/base",
      "model_module_version": "1.2.0",
      "model_name": "LayoutModel",
      "state": {}
     },
     "cd9c9a07fae94fcdac0bbce58c6c37e6": {
      "model_module": "@jupyter-widgets/controls",
      "model_module_version": "1.5.0",
      "model_name": "HTMLModel",
      "state": {
       "layout": "IPY_MODEL_8d62c567c5874aac93fd09e56e5fa3c3",
       "style": "IPY_MODEL_0fe0c29eb44d430f9d61613081d7dac6",
       "value": " 16/16 [00:03&lt;00:00,  4.23it/s]"
      }
     },
     "cda05e28bc4642169d49560737628174": {
      "model_module": "@jupyter-widgets/base",
      "model_module_version": "1.2.0",
      "model_name": "LayoutModel",
      "state": {}
     },
     "cda7857201ac4b079022e750be08873c": {
      "model_module": "@jupyter-widgets/controls",
      "model_module_version": "1.5.0",
      "model_name": "DescriptionStyleModel",
      "state": {
       "description_width": ""
      }
     },
     "cdabf79591894e7c95265690f1a49df7": {
      "model_module": "@jupyter-widgets/controls",
      "model_module_version": "1.5.0",
      "model_name": "DescriptionStyleModel",
      "state": {
       "description_width": ""
      }
     },
     "cdcd3e2ec3784d928dfaf61cd01c4437": {
      "model_module": "@jupyter-widgets/base",
      "model_module_version": "1.2.0",
      "model_name": "LayoutModel",
      "state": {}
     },
     "cdd5a01a9d5749198af94ebfdc7867e2": {
      "model_module": "@jupyter-widgets/controls",
      "model_module_version": "1.5.0",
      "model_name": "DescriptionStyleModel",
      "state": {
       "description_width": ""
      }
     },
     "cdd657ef34fd467898087a0695fbacf7": {
      "model_module": "@jupyter-widgets/controls",
      "model_module_version": "1.5.0",
      "model_name": "DescriptionStyleModel",
      "state": {
       "description_width": ""
      }
     },
     "cdf7f8281fc6443cae55a64f23ae1df3": {
      "model_module": "@jupyter-widgets/base",
      "model_module_version": "1.2.0",
      "model_name": "LayoutModel",
      "state": {}
     },
     "ce34f3274ea040dca2d5fe5c53adf171": {
      "model_module": "@jupyter-widgets/controls",
      "model_module_version": "1.5.0",
      "model_name": "HTMLModel",
      "state": {
       "layout": "IPY_MODEL_69c46e926eec4068b6ae7eef9346b876",
       "style": "IPY_MODEL_634e7e9d8b694bcd9de6eb78abdc4835",
       "value": "Validation DataLoader 0: 100%"
      }
     },
     "ce5d01482d9e485bbb41cd04e413cc28": {
      "model_module": "@jupyter-widgets/controls",
      "model_module_version": "1.5.0",
      "model_name": "DescriptionStyleModel",
      "state": {
       "description_width": ""
      }
     },
     "ce62935d9cb345a5b006fc6e1d4d0489": {
      "model_module": "@jupyter-widgets/controls",
      "model_module_version": "1.5.0",
      "model_name": "ProgressStyleModel",
      "state": {
       "description_width": ""
      }
     },
     "ce72167e15e34981b8b2dced61cdd858": {
      "model_module": "@jupyter-widgets/base",
      "model_module_version": "1.2.0",
      "model_name": "LayoutModel",
      "state": {
       "flex": "2"
      }
     },
     "ce7305c1ec4d4c358e387b7e842eb0ef": {
      "model_module": "@jupyter-widgets/controls",
      "model_module_version": "1.5.0",
      "model_name": "FloatProgressModel",
      "state": {
       "layout": "IPY_MODEL_846bdefcf28146439a0d52f2a343a0f8",
       "max": 16,
       "style": "IPY_MODEL_93d79feb1b264cdd8e400857973e44e0",
       "value": 16
      }
     },
     "cedc6d9f511d4e62b2d300f7d0544e30": {
      "model_module": "@jupyter-widgets/controls",
      "model_module_version": "1.5.0",
      "model_name": "FloatProgressModel",
      "state": {
       "layout": "IPY_MODEL_172414b556924cde863056cb8dc02df6",
       "max": 16,
       "style": "IPY_MODEL_3a0bf8f77ddd4c57a4040472fe6ced10",
       "value": 16
      }
     },
     "cf0c383618c9488eb6987fe069af2beb": {
      "model_module": "@jupyter-widgets/controls",
      "model_module_version": "1.5.0",
      "model_name": "ProgressStyleModel",
      "state": {
       "description_width": ""
      }
     },
     "cf2276a7f96b4587abe1b45e7adc1fbf": {
      "model_module": "@jupyter-widgets/controls",
      "model_module_version": "1.5.0",
      "model_name": "HTMLModel",
      "state": {
       "layout": "IPY_MODEL_dcd20f024450420ebfc6255a2c7e7e70",
       "style": "IPY_MODEL_cdabf79591894e7c95265690f1a49df7",
       "value": " 16/16 [00:01&lt;00:00,  9.11it/s]"
      }
     },
     "cf34a362454240bb873b1362923f456b": {
      "model_module": "@jupyter-widgets/base",
      "model_module_version": "1.2.0",
      "model_name": "LayoutModel",
      "state": {
       "flex": "2"
      }
     },
     "cf3dc22440874c3d91478ffc85a0d062": {
      "model_module": "@jupyter-widgets/base",
      "model_module_version": "1.2.0",
      "model_name": "LayoutModel",
      "state": {}
     },
     "cf62f16194f24c8bade6b7d2b70ce6e8": {
      "model_module": "@jupyter-widgets/controls",
      "model_module_version": "1.5.0",
      "model_name": "HTMLModel",
      "state": {
       "layout": "IPY_MODEL_40feb50395aa4de6acfd76d1203b3283",
       "style": "IPY_MODEL_d31a6a7534ce4e96847482be30e73cf3",
       "value": "Validation DataLoader 0: 100%"
      }
     },
     "cf812cc0ee034122b3b9219d993cfa9c": {
      "model_module": "@jupyter-widgets/controls",
      "model_module_version": "1.5.0",
      "model_name": "FloatProgressModel",
      "state": {
       "layout": "IPY_MODEL_239957944c474c11abfdd3dc8a5150ec",
       "max": 16,
       "style": "IPY_MODEL_f9648fe939a94f7db397c6dd3f48f093",
       "value": 16
      }
     },
     "cf894fd37fbe45608e2e1bb6c1cfd2fd": {
      "model_module": "@jupyter-widgets/base",
      "model_module_version": "1.2.0",
      "model_name": "LayoutModel",
      "state": {
       "display": "inline-flex",
       "flex_flow": "row wrap",
       "width": "100%"
      }
     },
     "cfc9cbadded642559d3ce7345e78f324": {
      "model_module": "@jupyter-widgets/base",
      "model_module_version": "1.2.0",
      "model_name": "LayoutModel",
      "state": {}
     },
     "cfde6a78b1ca401e8f8a45f2045c3ddd": {
      "model_module": "@jupyter-widgets/controls",
      "model_module_version": "1.5.0",
      "model_name": "ProgressStyleModel",
      "state": {
       "description_width": ""
      }
     },
     "cfe1fb9ad20349679e2568fdbca0eb68": {
      "model_module": "@jupyter-widgets/controls",
      "model_module_version": "1.5.0",
      "model_name": "ProgressStyleModel",
      "state": {
       "description_width": ""
      }
     },
     "d00bc4f86e1143e5a55a309abc516cfd": {
      "model_module": "@jupyter-widgets/base",
      "model_module_version": "1.2.0",
      "model_name": "LayoutModel",
      "state": {
       "flex": "2"
      }
     },
     "d013d0c0df0d4f8abc47c138b9434f1f": {
      "model_module": "@jupyter-widgets/controls",
      "model_module_version": "1.5.0",
      "model_name": "ProgressStyleModel",
      "state": {
       "description_width": ""
      }
     },
     "d0a28671ae36412e86d57f58a4c2f5c3": {
      "model_module": "@jupyter-widgets/controls",
      "model_module_version": "1.5.0",
      "model_name": "HTMLModel",
      "state": {
       "layout": "IPY_MODEL_145d15e1735a461a800d309d2f6733df",
       "style": "IPY_MODEL_c67878a7323a4d788dcd159fdba507b8",
       "value": " 16/16 [00:04&lt;00:00,  3.20it/s]"
      }
     },
     "d0a29bc1920a4e8ca37728bd4556bc01": {
      "model_module": "@jupyter-widgets/controls",
      "model_module_version": "1.5.0",
      "model_name": "FloatProgressModel",
      "state": {
       "layout": "IPY_MODEL_dd08f4ca2086464bbf130593972aa44b",
       "max": 16,
       "style": "IPY_MODEL_0eca8d7a11b949b2b4304a163320ffe6",
       "value": 16
      }
     },
     "d0b0d12b04544c22b7ba82b778937f2f": {
      "model_module": "@jupyter-widgets/controls",
      "model_module_version": "1.5.0",
      "model_name": "ProgressStyleModel",
      "state": {
       "description_width": ""
      }
     },
     "d0d8197222d74f989838cb940f36f481": {
      "model_module": "@jupyter-widgets/base",
      "model_module_version": "1.2.0",
      "model_name": "LayoutModel",
      "state": {}
     },
     "d1269a17d71b4e499d9a7caf0fc17d6a": {
      "model_module": "@jupyter-widgets/controls",
      "model_module_version": "1.5.0",
      "model_name": "ProgressStyleModel",
      "state": {
       "description_width": ""
      }
     },
     "d12cd6fdc3d545a28ad78161f145b1e5": {
      "model_module": "@jupyter-widgets/base",
      "model_module_version": "1.2.0",
      "model_name": "LayoutModel",
      "state": {
       "flex": "2"
      }
     },
     "d1416cd55d44409c89628c1e8e20f7e5": {
      "model_module": "@jupyter-widgets/base",
      "model_module_version": "1.2.0",
      "model_name": "LayoutModel",
      "state": {}
     },
     "d144ddaf681d4474b7f5416009961f47": {
      "model_module": "@jupyter-widgets/base",
      "model_module_version": "1.2.0",
      "model_name": "LayoutModel",
      "state": {
       "display": "inline-flex",
       "flex_flow": "row wrap",
       "width": "100%"
      }
     },
     "d1533319bc0a45409f10e274c695e54d": {
      "model_module": "@jupyter-widgets/controls",
      "model_module_version": "1.5.0",
      "model_name": "FloatProgressModel",
      "state": {
       "layout": "IPY_MODEL_87a97b97ec9e42698e6dab24404c55da",
       "max": 16,
       "style": "IPY_MODEL_f97bf5a95b204967b75f5c78dd3c7618",
       "value": 16
      }
     },
     "d18e09ed1abe47859dad5809e6e3db01": {
      "model_module": "@jupyter-widgets/base",
      "model_module_version": "1.2.0",
      "model_name": "LayoutModel",
      "state": {}
     },
     "d18eea14d07b4df4b186447e6e5a82b5": {
      "model_module": "@jupyter-widgets/controls",
      "model_module_version": "1.5.0",
      "model_name": "DescriptionStyleModel",
      "state": {
       "description_width": ""
      }
     },
     "d1a2fe2478c24870ae53ff5b524262d3": {
      "model_module": "@jupyter-widgets/base",
      "model_module_version": "1.2.0",
      "model_name": "LayoutModel",
      "state": {}
     },
     "d1b70eb04b0d435398b4e718484cb623": {
      "model_module": "@jupyter-widgets/base",
      "model_module_version": "1.2.0",
      "model_name": "LayoutModel",
      "state": {
       "flex": "2"
      }
     },
     "d1c6c214be74413abe1fed3cf650fb92": {
      "model_module": "@jupyter-widgets/controls",
      "model_module_version": "1.5.0",
      "model_name": "ProgressStyleModel",
      "state": {
       "description_width": ""
      }
     },
     "d1c7996cf75141c78a5f5dbafe75c2c7": {
      "model_module": "@jupyter-widgets/base",
      "model_module_version": "1.2.0",
      "model_name": "LayoutModel",
      "state": {
       "display": "inline-flex",
       "flex_flow": "row wrap",
       "width": "100%"
      }
     },
     "d1c8a71123724471b80ab313cad72e1e": {
      "model_module": "@jupyter-widgets/controls",
      "model_module_version": "1.5.0",
      "model_name": "ProgressStyleModel",
      "state": {
       "description_width": ""
      }
     },
     "d1d1e9765c93439c8eeee421d9da8057": {
      "model_module": "@jupyter-widgets/base",
      "model_module_version": "1.2.0",
      "model_name": "LayoutModel",
      "state": {}
     },
     "d1d9422a7af445b4aa7a7dc16d5a37ff": {
      "model_module": "@jupyter-widgets/controls",
      "model_module_version": "1.5.0",
      "model_name": "FloatProgressModel",
      "state": {
       "layout": "IPY_MODEL_96844c106cd64fa1a0b3ef4abb3253d0",
       "max": 16,
       "style": "IPY_MODEL_2179f3300cb54c4ba8cbd26b0916732a",
       "value": 16
      }
     },
     "d2068ba141e9496789bd8522e26e4858": {
      "model_module": "@jupyter-widgets/controls",
      "model_module_version": "1.5.0",
      "model_name": "DescriptionStyleModel",
      "state": {
       "description_width": ""
      }
     },
     "d235e24e63f74f3784d39b1d6f3fc151": {
      "model_module": "@jupyter-widgets/controls",
      "model_module_version": "1.5.0",
      "model_name": "HTMLModel",
      "state": {
       "layout": "IPY_MODEL_638c30a8fe8640e6a07bf85be4943c82",
       "style": "IPY_MODEL_1bc0f9bec8274bef96244372d7fc156c",
       "value": " 16/16 [00:01&lt;00:00,  7.41it/s]"
      }
     },
     "d238ed17d4224ac58aeed581c2851090": {
      "model_module": "@jupyter-widgets/controls",
      "model_module_version": "1.5.0",
      "model_name": "DescriptionStyleModel",
      "state": {
       "description_width": ""
      }
     },
     "d26c8d9ad78546c3ba17ba4c21a1707b": {
      "model_module": "@jupyter-widgets/controls",
      "model_module_version": "1.5.0",
      "model_name": "DescriptionStyleModel",
      "state": {
       "description_width": ""
      }
     },
     "d277211f396f44e0a4149cfaeffee0b3": {
      "model_module": "@jupyter-widgets/base",
      "model_module_version": "1.2.0",
      "model_name": "LayoutModel",
      "state": {
       "flex": "2"
      }
     },
     "d296b19e675e48ee804bb5810a913f2f": {
      "model_module": "@jupyter-widgets/controls",
      "model_module_version": "1.5.0",
      "model_name": "FloatProgressModel",
      "state": {
       "layout": "IPY_MODEL_d6ea6d84dadf4b51978cbb308fd7e594",
       "max": 16,
       "style": "IPY_MODEL_9a359a4bd4b04251b0f7a9a6ef389655",
       "value": 16
      }
     },
     "d2bd9da389fd40f7b018a81f4ed34ab3": {
      "model_module": "@jupyter-widgets/controls",
      "model_module_version": "1.5.0",
      "model_name": "DescriptionStyleModel",
      "state": {
       "description_width": ""
      }
     },
     "d2d45fe8d93c4dccabbc0aaedf119f6f": {
      "model_module": "@jupyter-widgets/base",
      "model_module_version": "1.2.0",
      "model_name": "LayoutModel",
      "state": {}
     },
     "d31a6a7534ce4e96847482be30e73cf3": {
      "model_module": "@jupyter-widgets/controls",
      "model_module_version": "1.5.0",
      "model_name": "DescriptionStyleModel",
      "state": {
       "description_width": ""
      }
     },
     "d347446c0ad64da2848e319b6ecd8bc2": {
      "model_module": "@jupyter-widgets/base",
      "model_module_version": "1.2.0",
      "model_name": "LayoutModel",
      "state": {
       "display": "inline-flex",
       "flex_flow": "row wrap",
       "width": "100%"
      }
     },
     "d360c14c59b5416e9c5fb17370875841": {
      "model_module": "@jupyter-widgets/controls",
      "model_module_version": "1.5.0",
      "model_name": "ProgressStyleModel",
      "state": {
       "description_width": ""
      }
     },
     "d394c4378f1b4ce5808731129b5a6fc4": {
      "model_module": "@jupyter-widgets/controls",
      "model_module_version": "1.5.0",
      "model_name": "ProgressStyleModel",
      "state": {
       "description_width": ""
      }
     },
     "d3aad760d41a46e8aa2ce036efbc7f47": {
      "model_module": "@jupyter-widgets/controls",
      "model_module_version": "1.5.0",
      "model_name": "HTMLModel",
      "state": {
       "layout": "IPY_MODEL_e279dd8a17b94ea8b6584de7a4854b61",
       "style": "IPY_MODEL_d520cf6295d34ba881745649a8eaf6b7",
       "value": " 16/16 [00:06&lt;00:00,  2.22it/s]"
      }
     },
     "d3be1015ecb141e59a8016af32f856f2": {
      "model_module": "@jupyter-widgets/controls",
      "model_module_version": "1.5.0",
      "model_name": "DescriptionStyleModel",
      "state": {
       "description_width": ""
      }
     },
     "d3e8a310c2474cf8a4efed4ffbb54100": {
      "model_module": "@jupyter-widgets/base",
      "model_module_version": "1.2.0",
      "model_name": "LayoutModel",
      "state": {
       "display": "inline-flex",
       "flex_flow": "row wrap",
       "width": "100%"
      }
     },
     "d3eaff1e1d0e48e6a04a6247a5cf1bbe": {
      "model_module": "@jupyter-widgets/controls",
      "model_module_version": "1.5.0",
      "model_name": "DescriptionStyleModel",
      "state": {
       "description_width": ""
      }
     },
     "d42b99bd0cf84a2bbdf1b02b537cf402": {
      "model_module": "@jupyter-widgets/controls",
      "model_module_version": "1.5.0",
      "model_name": "HBoxModel",
      "state": {
       "children": [
        "IPY_MODEL_e6c5230700f44e2ba7e39fbbd648b058",
        "IPY_MODEL_f1ee2bb43dca42c4b9e18c3e491b1f63",
        "IPY_MODEL_4e6415fe4cdf4dd583cc46aca81ba169"
       ],
       "layout": "IPY_MODEL_ca5378bb5574411190bf158baaaa4d0b"
      }
     },
     "d432b3a88cdd41d5926b3cdd53af76f8": {
      "model_module": "@jupyter-widgets/controls",
      "model_module_version": "1.5.0",
      "model_name": "FloatProgressModel",
      "state": {
       "layout": "IPY_MODEL_551c3b55dcca49968c911ce7b6ede084",
       "max": 16,
       "style": "IPY_MODEL_779c129d35174c2f82a2fec2fa30b88f",
       "value": 16
      }
     },
     "d4ce027ec9744e40a51d46cd17783aa1": {
      "model_module": "@jupyter-widgets/base",
      "model_module_version": "1.2.0",
      "model_name": "LayoutModel",
      "state": {
       "display": "inline-flex",
       "flex_flow": "row wrap",
       "width": "100%"
      }
     },
     "d4e6141ed7c34389bafb4df3526f753d": {
      "model_module": "@jupyter-widgets/base",
      "model_module_version": "1.2.0",
      "model_name": "LayoutModel",
      "state": {
       "flex": "2"
      }
     },
     "d51f0e6f4da1479e90be48d6151b764e": {
      "model_module": "@jupyter-widgets/controls",
      "model_module_version": "1.5.0",
      "model_name": "HTMLModel",
      "state": {
       "layout": "IPY_MODEL_ddb2f69b63254220a7e466b4f0502b93",
       "style": "IPY_MODEL_8f064ee6d63947dfa130430b23d1690c",
       "value": "Validation DataLoader 0: 100%"
      }
     },
     "d51f4e8907b742efaccfeae6c4621de4": {
      "model_module": "@jupyter-widgets/controls",
      "model_module_version": "1.5.0",
      "model_name": "FloatProgressModel",
      "state": {
       "layout": "IPY_MODEL_9038f3e976b74f409d578be2e756727e",
       "max": 16,
       "style": "IPY_MODEL_702cb9d119864ebd9d6f3be3161800b5",
       "value": 16
      }
     },
     "d520cf6295d34ba881745649a8eaf6b7": {
      "model_module": "@jupyter-widgets/controls",
      "model_module_version": "1.5.0",
      "model_name": "DescriptionStyleModel",
      "state": {
       "description_width": ""
      }
     },
     "d52b05d8cb4b4199aa24b071840b8117": {
      "model_module": "@jupyter-widgets/controls",
      "model_module_version": "1.5.0",
      "model_name": "DescriptionStyleModel",
      "state": {
       "description_width": ""
      }
     },
     "d53c811749bc4fe290676d61494e87a3": {
      "model_module": "@jupyter-widgets/controls",
      "model_module_version": "1.5.0",
      "model_name": "HTMLModel",
      "state": {
       "layout": "IPY_MODEL_cb90eff3bde84c2d92aa6bf3925ce915",
       "style": "IPY_MODEL_edb8128145244825b49912ef95eb83f1",
       "value": "Validation DataLoader 0: 100%"
      }
     },
     "d53e5ee4b05f46dcb909afa712181746": {
      "model_module": "@jupyter-widgets/controls",
      "model_module_version": "1.5.0",
      "model_name": "ProgressStyleModel",
      "state": {
       "description_width": ""
      }
     },
     "d54cbd37bf40427b87b310da64148884": {
      "model_module": "@jupyter-widgets/base",
      "model_module_version": "1.2.0",
      "model_name": "LayoutModel",
      "state": {
       "flex": "2"
      }
     },
     "d57851866f734b8b991f345ae0495359": {
      "model_module": "@jupyter-widgets/controls",
      "model_module_version": "1.5.0",
      "model_name": "HTMLModel",
      "state": {
       "layout": "IPY_MODEL_dbbbe3f529dd46e782b497bd97f51db5",
       "style": "IPY_MODEL_d9442a0d93aa46048f5f4da71b857285",
       "value": "Validation DataLoader 0: 100%"
      }
     },
     "d580486e5ae84fc48547147439bac814": {
      "model_module": "@jupyter-widgets/base",
      "model_module_version": "1.2.0",
      "model_name": "LayoutModel",
      "state": {}
     },
     "d58f10e8885d4e82b548eebef8c5137b": {
      "model_module": "@jupyter-widgets/controls",
      "model_module_version": "1.5.0",
      "model_name": "FloatProgressModel",
      "state": {
       "layout": "IPY_MODEL_30526a363bcc440caa3b4466a5d84381",
       "max": 16,
       "style": "IPY_MODEL_942dfff52f9a4f0eb6eb904b5be3dc7a",
       "value": 16
      }
     },
     "d5bcbfdc057c438c95c273aa345fd572": {
      "model_module": "@jupyter-widgets/base",
      "model_module_version": "1.2.0",
      "model_name": "LayoutModel",
      "state": {
       "flex": "2"
      }
     },
     "d5eac0b96a574d41872eb439222f8c6f": {
      "model_module": "@jupyter-widgets/base",
      "model_module_version": "1.2.0",
      "model_name": "LayoutModel",
      "state": {}
     },
     "d5f07287632344ebb2aa0cebc1cbd684": {
      "model_module": "@jupyter-widgets/controls",
      "model_module_version": "1.5.0",
      "model_name": "ProgressStyleModel",
      "state": {
       "description_width": ""
      }
     },
     "d5f2ad735c4d45ea93a23cc914e43a45": {
      "model_module": "@jupyter-widgets/base",
      "model_module_version": "1.2.0",
      "model_name": "LayoutModel",
      "state": {
       "display": "inline-flex",
       "flex_flow": "row wrap",
       "width": "100%"
      }
     },
     "d665b796316c446ca3e54e5375a329bc": {
      "model_module": "@jupyter-widgets/controls",
      "model_module_version": "1.5.0",
      "model_name": "DescriptionStyleModel",
      "state": {
       "description_width": ""
      }
     },
     "d678b261a96f4ce699313afa9783a1dd": {
      "model_module": "@jupyter-widgets/controls",
      "model_module_version": "1.5.0",
      "model_name": "DescriptionStyleModel",
      "state": {
       "description_width": ""
      }
     },
     "d6919261c4da43b3bd281ae366abba6a": {
      "model_module": "@jupyter-widgets/base",
      "model_module_version": "1.2.0",
      "model_name": "LayoutModel",
      "state": {
       "flex": "2"
      }
     },
     "d6972f2c852749358415b61fb05e24a7": {
      "model_module": "@jupyter-widgets/controls",
      "model_module_version": "1.5.0",
      "model_name": "HTMLModel",
      "state": {
       "layout": "IPY_MODEL_a22644d557c343159fbd4fd01c9ddb47",
       "style": "IPY_MODEL_cba2630cf2c94eb8882adf15cad0f55f",
       "value": " 16/16 [00:05&lt;00:00,  2.97it/s]"
      }
     },
     "d6add37aa0ca4812b299eb3e4ded25bb": {
      "model_module": "@jupyter-widgets/controls",
      "model_module_version": "1.5.0",
      "model_name": "HTMLModel",
      "state": {
       "layout": "IPY_MODEL_9b63fffb56a54e2e985ae75bf74f674e",
       "style": "IPY_MODEL_e3c1781d04bf46d4a100f4174b3ee17d",
       "value": " 16/16 [00:03&lt;00:00,  3.70it/s]"
      }
     },
     "d6ea6d84dadf4b51978cbb308fd7e594": {
      "model_module": "@jupyter-widgets/base",
      "model_module_version": "1.2.0",
      "model_name": "LayoutModel",
      "state": {
       "flex": "2"
      }
     },
     "d7129d3251a64d448503a7c008a43634": {
      "model_module": "@jupyter-widgets/base",
      "model_module_version": "1.2.0",
      "model_name": "LayoutModel",
      "state": {
       "display": "inline-flex",
       "flex_flow": "row wrap",
       "width": "100%"
      }
     },
     "d7371036dd8f4b5086ef70136dceddc1": {
      "model_module": "@jupyter-widgets/base",
      "model_module_version": "1.2.0",
      "model_name": "LayoutModel",
      "state": {}
     },
     "d79a3ad017794b7baa85b0e8768aa3df": {
      "model_module": "@jupyter-widgets/controls",
      "model_module_version": "1.5.0",
      "model_name": "DescriptionStyleModel",
      "state": {
       "description_width": ""
      }
     },
     "d7a366c5963a49c18c58621a1e26c93b": {
      "model_module": "@jupyter-widgets/controls",
      "model_module_version": "1.5.0",
      "model_name": "DescriptionStyleModel",
      "state": {
       "description_width": ""
      }
     },
     "d7a946e05cb742a8afdae746ba5eb121": {
      "model_module": "@jupyter-widgets/base",
      "model_module_version": "1.2.0",
      "model_name": "LayoutModel",
      "state": {
       "flex": "2"
      }
     },
     "d7b40810b2ff4c4c8046c6618fb21dee": {
      "model_module": "@jupyter-widgets/base",
      "model_module_version": "1.2.0",
      "model_name": "LayoutModel",
      "state": {}
     },
     "d7cf3a1ed1a544dc9266a363a6493da6": {
      "model_module": "@jupyter-widgets/controls",
      "model_module_version": "1.5.0",
      "model_name": "FloatProgressModel",
      "state": {
       "layout": "IPY_MODEL_0ed8327626504baf89e066183ee3a921",
       "max": 16,
       "style": "IPY_MODEL_96a1a4cb3e8a451fb86cce655f2d6148",
       "value": 16
      }
     },
     "d7d9ce14d27f48d0899af94ede3d8009": {
      "model_module": "@jupyter-widgets/base",
      "model_module_version": "1.2.0",
      "model_name": "LayoutModel",
      "state": {
       "display": "inline-flex",
       "flex_flow": "row wrap",
       "width": "100%"
      }
     },
     "d7fa50b003d8450aac98175cd77de92a": {
      "model_module": "@jupyter-widgets/base",
      "model_module_version": "1.2.0",
      "model_name": "LayoutModel",
      "state": {
       "display": "inline-flex",
       "flex_flow": "row wrap",
       "width": "100%"
      }
     },
     "d8061be3023b4807ba7a607201047201": {
      "model_module": "@jupyter-widgets/controls",
      "model_module_version": "1.5.0",
      "model_name": "HTMLModel",
      "state": {
       "layout": "IPY_MODEL_105027dd1cb24402b2e206d1ab3add99",
       "style": "IPY_MODEL_f40cd4a9aa784e3db5cdaeb71661f6eb",
       "value": "Validation DataLoader 0: 100%"
      }
     },
     "d8089c8f94034db8ae1db0170545bfc4": {
      "model_module": "@jupyter-widgets/controls",
      "model_module_version": "1.5.0",
      "model_name": "ProgressStyleModel",
      "state": {
       "description_width": ""
      }
     },
     "d83566999d674be4b19d78b5ab523145": {
      "model_module": "@jupyter-widgets/base",
      "model_module_version": "1.2.0",
      "model_name": "LayoutModel",
      "state": {}
     },
     "d83c6b946f424afe8a24b9b664b9e244": {
      "model_module": "@jupyter-widgets/controls",
      "model_module_version": "1.5.0",
      "model_name": "DescriptionStyleModel",
      "state": {
       "description_width": ""
      }
     },
     "d83fc60d4d3c450285fe1f19a8ab8b49": {
      "model_module": "@jupyter-widgets/controls",
      "model_module_version": "1.5.0",
      "model_name": "HTMLModel",
      "state": {
       "layout": "IPY_MODEL_de09ff19a94540b49c36ebe759b9bc16",
       "style": "IPY_MODEL_2be771a1cc5d4092a1c645759b2ba797",
       "value": "Validation DataLoader 0: 100%"
      }
     },
     "d8668bfbdeb74a458885670d14977712": {
      "model_module": "@jupyter-widgets/base",
      "model_module_version": "1.2.0",
      "model_name": "LayoutModel",
      "state": {
       "flex": "2"
      }
     },
     "d8779fc5355c4eb49abded1966a6ba4b": {
      "model_module": "@jupyter-widgets/base",
      "model_module_version": "1.2.0",
      "model_name": "LayoutModel",
      "state": {}
     },
     "d88231002ad249c8ba98f664400edf45": {
      "model_module": "@jupyter-widgets/base",
      "model_module_version": "1.2.0",
      "model_name": "LayoutModel",
      "state": {}
     },
     "d8b92f59190549e890da9efadcafafd3": {
      "model_module": "@jupyter-widgets/base",
      "model_module_version": "1.2.0",
      "model_name": "LayoutModel",
      "state": {
       "flex": "2"
      }
     },
     "d8c089663c4b4fc584fd74d8b76a2619": {
      "model_module": "@jupyter-widgets/base",
      "model_module_version": "1.2.0",
      "model_name": "LayoutModel",
      "state": {
       "flex": "2"
      }
     },
     "d902dd57859742fb9173b16d477beab9": {
      "model_module": "@jupyter-widgets/base",
      "model_module_version": "1.2.0",
      "model_name": "LayoutModel",
      "state": {
       "display": "inline-flex",
       "flex_flow": "row wrap",
       "width": "100%"
      }
     },
     "d91a3baa62cb4c46818330877cc1c365": {
      "model_module": "@jupyter-widgets/controls",
      "model_module_version": "1.5.0",
      "model_name": "DescriptionStyleModel",
      "state": {
       "description_width": ""
      }
     },
     "d9442a0d93aa46048f5f4da71b857285": {
      "model_module": "@jupyter-widgets/controls",
      "model_module_version": "1.5.0",
      "model_name": "DescriptionStyleModel",
      "state": {
       "description_width": ""
      }
     },
     "d946e6ceab6442bc9ed43e58e8d0d8b5": {
      "model_module": "@jupyter-widgets/controls",
      "model_module_version": "1.5.0",
      "model_name": "HTMLModel",
      "state": {
       "layout": "IPY_MODEL_80de2a8cd9914022b7fbc7ad89496aa1",
       "style": "IPY_MODEL_b6219a24d70549cd9c328a1ae0efb116",
       "value": " 16/16 [00:02&lt;00:00,  7.30it/s]"
      }
     },
     "d950972106b747f2aa0c2236678d1ea4": {
      "model_module": "@jupyter-widgets/controls",
      "model_module_version": "1.5.0",
      "model_name": "HTMLModel",
      "state": {
       "layout": "IPY_MODEL_d5eac0b96a574d41872eb439222f8c6f",
       "style": "IPY_MODEL_f4ac1507a1b84e6ea0a3d6110c5ae5d4",
       "value": "Validation DataLoader 0: 100%"
      }
     },
     "d991fe1a149142b0963d9105a5b6b80c": {
      "model_module": "@jupyter-widgets/controls",
      "model_module_version": "1.5.0",
      "model_name": "DescriptionStyleModel",
      "state": {
       "description_width": ""
      }
     },
     "d9cfc7d47d3e4407856c72b90c970db0": {
      "model_module": "@jupyter-widgets/controls",
      "model_module_version": "1.5.0",
      "model_name": "HTMLModel",
      "state": {
       "layout": "IPY_MODEL_b437b07f2bf34b8bb8cf87c195fc00f1",
       "style": "IPY_MODEL_ce5d01482d9e485bbb41cd04e413cc28",
       "value": " 16/16 [00:02&lt;00:00,  6.75it/s]"
      }
     },
     "d9da2de95c1247cba7ad36e9a5c1ea22": {
      "model_module": "@jupyter-widgets/controls",
      "model_module_version": "1.5.0",
      "model_name": "FloatProgressModel",
      "state": {
       "layout": "IPY_MODEL_6336eed810354603b14aa205d7818c83",
       "max": 2,
       "style": "IPY_MODEL_45fa5719bab44fe6ba063bc306bd08e9",
       "value": 2
      }
     },
     "da192592197a4fb1848657ac419a0942": {
      "model_module": "@jupyter-widgets/controls",
      "model_module_version": "1.5.0",
      "model_name": "ProgressStyleModel",
      "state": {
       "description_width": ""
      }
     },
     "da37cc18c27b4b41806dd1efa622eb97": {
      "model_module": "@jupyter-widgets/base",
      "model_module_version": "1.2.0",
      "model_name": "LayoutModel",
      "state": {
       "display": "inline-flex",
       "flex_flow": "row wrap",
       "width": "100%"
      }
     },
     "da57cdcd5fd64655b5e8ec5daf51ebf1": {
      "model_module": "@jupyter-widgets/base",
      "model_module_version": "1.2.0",
      "model_name": "LayoutModel",
      "state": {
       "display": "inline-flex",
       "flex_flow": "row wrap",
       "width": "100%"
      }
     },
     "da6dd274e8a34dbb958c643e801158ac": {
      "model_module": "@jupyter-widgets/base",
      "model_module_version": "1.2.0",
      "model_name": "LayoutModel",
      "state": {
       "flex": "2"
      }
     },
     "da763932c64441c08db436dfb24ccce3": {
      "model_module": "@jupyter-widgets/controls",
      "model_module_version": "1.5.0",
      "model_name": "HTMLModel",
      "state": {
       "layout": "IPY_MODEL_b827ec7fd1694eb48e2631bd91e6bd8d",
       "style": "IPY_MODEL_261884e3d7694adb89feac0e7b23554e",
       "value": "Epoch 24: 100%"
      }
     },
     "da8ef7e23cc94ef29ad0a04194660fa2": {
      "model_module": "@jupyter-widgets/controls",
      "model_module_version": "1.5.0",
      "model_name": "HTMLModel",
      "state": {
       "layout": "IPY_MODEL_e2ef5682186d408882c90a7ad67f2a8e",
       "style": "IPY_MODEL_75e3d913c7e949ba9fa25e18bb15f0e6",
       "value": " 16/16 [00:03&lt;00:00,  3.12it/s]"
      }
     },
     "da8fdeb8bf66436fae35e824625bc3ca": {
      "model_module": "@jupyter-widgets/base",
      "model_module_version": "1.2.0",
      "model_name": "LayoutModel",
      "state": {
       "display": "inline-flex",
       "flex_flow": "row wrap",
       "width": "100%"
      }
     },
     "dab53453f0ab4dc48d1a83ddab224edf": {
      "model_module": "@jupyter-widgets/controls",
      "model_module_version": "1.5.0",
      "model_name": "DescriptionStyleModel",
      "state": {
       "description_width": ""
      }
     },
     "daf07e7d708a4df784846aa9b400b0a9": {
      "model_module": "@jupyter-widgets/controls",
      "model_module_version": "1.5.0",
      "model_name": "DescriptionStyleModel",
      "state": {
       "description_width": ""
      }
     },
     "db1614e294034535b843e23f698230aa": {
      "model_module": "@jupyter-widgets/base",
      "model_module_version": "1.2.0",
      "model_name": "LayoutModel",
      "state": {
       "display": "inline-flex",
       "flex_flow": "row wrap",
       "width": "100%"
      }
     },
     "db29fea19b8c404caf596767917d9c58": {
      "model_module": "@jupyter-widgets/base",
      "model_module_version": "1.2.0",
      "model_name": "LayoutModel",
      "state": {}
     },
     "db2af281f64d4e3c8dd3091861d5b2b9": {
      "model_module": "@jupyter-widgets/base",
      "model_module_version": "1.2.0",
      "model_name": "LayoutModel",
      "state": {
       "flex": "2"
      }
     },
     "db49ab1ca3d446e1ab2c382163d17ead": {
      "model_module": "@jupyter-widgets/controls",
      "model_module_version": "1.5.0",
      "model_name": "FloatProgressModel",
      "state": {
       "layout": "IPY_MODEL_db2af281f64d4e3c8dd3091861d5b2b9",
       "max": 2,
       "style": "IPY_MODEL_0d86fbc514f94b85b49b1ff930fc92da",
       "value": 2
      }
     },
     "db53e586813945c88e0985b4adaf6bbc": {
      "model_module": "@jupyter-widgets/base",
      "model_module_version": "1.2.0",
      "model_name": "LayoutModel",
      "state": {
       "flex": "2"
      }
     },
     "db8129a3e68d41388ad727730445ced8": {
      "model_module": "@jupyter-widgets/controls",
      "model_module_version": "1.5.0",
      "model_name": "DescriptionStyleModel",
      "state": {
       "description_width": ""
      }
     },
     "db9c7e1e17c446828a29e63405f47564": {
      "model_module": "@jupyter-widgets/controls",
      "model_module_version": "1.5.0",
      "model_name": "HTMLModel",
      "state": {
       "layout": "IPY_MODEL_e221eef71a8548c4a1f539cd3df46a44",
       "style": "IPY_MODEL_f0cd6ce54b12405e9d914300d7ea72b0",
       "value": "Validation DataLoader 0: 100%"
      }
     },
     "dbbbe3f529dd46e782b497bd97f51db5": {
      "model_module": "@jupyter-widgets/base",
      "model_module_version": "1.2.0",
      "model_name": "LayoutModel",
      "state": {}
     },
     "dbc3da6ea8c145a18f26c7a002e3442e": {
      "model_module": "@jupyter-widgets/controls",
      "model_module_version": "1.5.0",
      "model_name": "DescriptionStyleModel",
      "state": {
       "description_width": ""
      }
     },
     "dc4e2cd3d1de4019a6005b78174bed3b": {
      "model_module": "@jupyter-widgets/base",
      "model_module_version": "1.2.0",
      "model_name": "LayoutModel",
      "state": {
       "display": "inline-flex",
       "flex_flow": "row wrap",
       "width": "100%"
      }
     },
     "dc789fbc710840ce8d2f502ac3e82700": {
      "model_module": "@jupyter-widgets/controls",
      "model_module_version": "1.5.0",
      "model_name": "HTMLModel",
      "state": {
       "layout": "IPY_MODEL_6614261d07f7445e82c084af62b9514a",
       "style": "IPY_MODEL_6829fadaf6c7421294afbbdfe3f484dc",
       "value": "Validation DataLoader 0: 100%"
      }
     },
     "dc862229368041d78451e15a5c7ca943": {
      "model_module": "@jupyter-widgets/base",
      "model_module_version": "1.2.0",
      "model_name": "LayoutModel",
      "state": {}
     },
     "dc86dab91c844aceb2661714816119b3": {
      "model_module": "@jupyter-widgets/base",
      "model_module_version": "1.2.0",
      "model_name": "LayoutModel",
      "state": {
       "flex": "2"
      }
     },
     "dc9db030e31444438fa4dbcde2d82536": {
      "model_module": "@jupyter-widgets/base",
      "model_module_version": "1.2.0",
      "model_name": "LayoutModel",
      "state": {}
     },
     "dcd20f024450420ebfc6255a2c7e7e70": {
      "model_module": "@jupyter-widgets/base",
      "model_module_version": "1.2.0",
      "model_name": "LayoutModel",
      "state": {}
     },
     "dcd67ec5371b4169b8da44952862023e": {
      "model_module": "@jupyter-widgets/controls",
      "model_module_version": "1.5.0",
      "model_name": "HTMLModel",
      "state": {
       "layout": "IPY_MODEL_f4e907e221cf4fd89416d531c49d179e",
       "style": "IPY_MODEL_bc0d8261712542b6b4171e6108fb14c8",
       "value": "Validation DataLoader 0: 100%"
      }
     },
     "dcfa4ed52e134a32bd04ebde34afd2f9": {
      "model_module": "@jupyter-widgets/base",
      "model_module_version": "1.2.0",
      "model_name": "LayoutModel",
      "state": {
       "flex": "2"
      }
     },
     "dcfc6c58f0ac44c28b1854c0bcd66990": {
      "model_module": "@jupyter-widgets/base",
      "model_module_version": "1.2.0",
      "model_name": "LayoutModel",
      "state": {}
     },
     "dd0504136a314734a4ffa601965c1f4c": {
      "model_module": "@jupyter-widgets/base",
      "model_module_version": "1.2.0",
      "model_name": "LayoutModel",
      "state": {
       "flex": "2"
      }
     },
     "dd08f4ca2086464bbf130593972aa44b": {
      "model_module": "@jupyter-widgets/base",
      "model_module_version": "1.2.0",
      "model_name": "LayoutModel",
      "state": {
       "flex": "2"
      }
     },
     "dd20231a66c44e83bf0a2e187a81cfd2": {
      "model_module": "@jupyter-widgets/base",
      "model_module_version": "1.2.0",
      "model_name": "LayoutModel",
      "state": {
       "display": "inline-flex",
       "flex_flow": "row wrap",
       "width": "100%"
      }
     },
     "dd51afadffef4e488bc7d061424f9bf5": {
      "model_module": "@jupyter-widgets/controls",
      "model_module_version": "1.5.0",
      "model_name": "HTMLModel",
      "state": {
       "layout": "IPY_MODEL_df57bdf3cd2741fdaaec09d4e694dcc6",
       "style": "IPY_MODEL_c9c1f5e7c384466eb88b0ef6ceb79afc",
       "value": " 16/16 [00:03&lt;00:00,  4.57it/s]"
      }
     },
     "dd64e6fd89ab405281ecc4c7b158fc5a": {
      "model_module": "@jupyter-widgets/controls",
      "model_module_version": "1.5.0",
      "model_name": "DescriptionStyleModel",
      "state": {
       "description_width": ""
      }
     },
     "dd7c4591a0f54054b9e9b86b594b318d": {
      "model_module": "@jupyter-widgets/base",
      "model_module_version": "1.2.0",
      "model_name": "LayoutModel",
      "state": {
       "display": "inline-flex",
       "flex_flow": "row wrap",
       "width": "100%"
      }
     },
     "dd96a6ac95cd4748b1132e021d47bc0c": {
      "model_module": "@jupyter-widgets/controls",
      "model_module_version": "1.5.0",
      "model_name": "DescriptionStyleModel",
      "state": {
       "description_width": ""
      }
     },
     "dd96f64800b24586916ef59352fe1c49": {
      "model_module": "@jupyter-widgets/base",
      "model_module_version": "1.2.0",
      "model_name": "LayoutModel",
      "state": {}
     },
     "dda519c636304875b07c734cffe98823": {
      "model_module": "@jupyter-widgets/base",
      "model_module_version": "1.2.0",
      "model_name": "LayoutModel",
      "state": {}
     },
     "ddb2f69b63254220a7e466b4f0502b93": {
      "model_module": "@jupyter-widgets/base",
      "model_module_version": "1.2.0",
      "model_name": "LayoutModel",
      "state": {}
     },
     "ddec040c4d3e40efa8a9987d4805dae9": {
      "model_module": "@jupyter-widgets/controls",
      "model_module_version": "1.5.0",
      "model_name": "DescriptionStyleModel",
      "state": {
       "description_width": ""
      }
     },
     "ddf4396938c24eeca0b23d18c6857af0": {
      "model_module": "@jupyter-widgets/base",
      "model_module_version": "1.2.0",
      "model_name": "LayoutModel",
      "state": {}
     },
     "de09ff19a94540b49c36ebe759b9bc16": {
      "model_module": "@jupyter-widgets/base",
      "model_module_version": "1.2.0",
      "model_name": "LayoutModel",
      "state": {}
     },
     "de101461be794d559bb9572c99bffab7": {
      "model_module": "@jupyter-widgets/base",
      "model_module_version": "1.2.0",
      "model_name": "LayoutModel",
      "state": {}
     },
     "de461246d22d4e4596779b8c854e5b54": {
      "model_module": "@jupyter-widgets/base",
      "model_module_version": "1.2.0",
      "model_name": "LayoutModel",
      "state": {
       "display": "inline-flex",
       "flex_flow": "row wrap",
       "width": "100%"
      }
     },
     "de6576cca9d44c458a2831721f34b64e": {
      "model_module": "@jupyter-widgets/controls",
      "model_module_version": "1.5.0",
      "model_name": "FloatProgressModel",
      "state": {
       "layout": "IPY_MODEL_15089a0692904a779f4a676344d56c06",
       "max": 16,
       "style": "IPY_MODEL_08265c7fd462435a9ae095511bf6bdb4",
       "value": 16
      }
     },
     "de69d81a4b1a4c018bb523a11350be57": {
      "model_module": "@jupyter-widgets/base",
      "model_module_version": "1.2.0",
      "model_name": "LayoutModel",
      "state": {
       "flex": "2"
      }
     },
     "de77286e3f6948f98f4d3137994ab5de": {
      "model_module": "@jupyter-widgets/controls",
      "model_module_version": "1.5.0",
      "model_name": "HTMLModel",
      "state": {
       "layout": "IPY_MODEL_60d2efc93ed647d6afb5773664f7673e",
       "style": "IPY_MODEL_c383c480c3454fe08d36bb790f5e2c0f",
       "value": " 16/16 [00:04&lt;00:00,  2.89it/s]"
      }
     },
     "de8e02840f6948ebaa2a59e75cbd30ac": {
      "model_module": "@jupyter-widgets/controls",
      "model_module_version": "1.5.0",
      "model_name": "ProgressStyleModel",
      "state": {
       "description_width": ""
      }
     },
     "deac130b080e43fea168a02bda12f995": {
      "model_module": "@jupyter-widgets/controls",
      "model_module_version": "1.5.0",
      "model_name": "HTMLModel",
      "state": {
       "layout": "IPY_MODEL_9c0cd118024244ae940f15269361e5cf",
       "style": "IPY_MODEL_4146dc67101d4c70bfd84a0a79ac225d",
       "value": "Validation DataLoader 0: 100%"
      }
     },
     "deb1ef3868cf400cae20fa2542324f36": {
      "model_module": "@jupyter-widgets/base",
      "model_module_version": "1.2.0",
      "model_name": "LayoutModel",
      "state": {}
     },
     "df129c3146fb4346a1808de052d4768a": {
      "model_module": "@jupyter-widgets/base",
      "model_module_version": "1.2.0",
      "model_name": "LayoutModel",
      "state": {
       "display": "inline-flex",
       "flex_flow": "row wrap",
       "width": "100%"
      }
     },
     "df57bdf3cd2741fdaaec09d4e694dcc6": {
      "model_module": "@jupyter-widgets/base",
      "model_module_version": "1.2.0",
      "model_name": "LayoutModel",
      "state": {}
     },
     "df8443ec099f45a4940a20a6b8687c9b": {
      "model_module": "@jupyter-widgets/controls",
      "model_module_version": "1.5.0",
      "model_name": "ProgressStyleModel",
      "state": {
       "description_width": ""
      }
     },
     "df863e46df1b4461b35fad3f9c82a826": {
      "model_module": "@jupyter-widgets/controls",
      "model_module_version": "1.5.0",
      "model_name": "HTMLModel",
      "state": {
       "layout": "IPY_MODEL_fd55d52917194665a72b2891f20744f4",
       "style": "IPY_MODEL_a5eb0626dc0d42b8b9f5f98be59c3e10",
       "value": " 16/16 [00:07&lt;00:00,  2.16it/s]"
      }
     },
     "df8bb299076549809151d1af4b64b5fe": {
      "model_module": "@jupyter-widgets/base",
      "model_module_version": "1.2.0",
      "model_name": "LayoutModel",
      "state": {}
     },
     "df9f431eb163419c8e8c9cc5f6e3ce79": {
      "model_module": "@jupyter-widgets/base",
      "model_module_version": "1.2.0",
      "model_name": "LayoutModel",
      "state": {}
     },
     "dfa834980e63435baf3f1edf23095ab3": {
      "model_module": "@jupyter-widgets/controls",
      "model_module_version": "1.5.0",
      "model_name": "HTMLModel",
      "state": {
       "layout": "IPY_MODEL_47033d23e2e94609972405f32f8e3ded",
       "style": "IPY_MODEL_3923f016901747e2b69b2e78e37ef003",
       "value": " 16/16 [00:05&lt;00:00,  2.49it/s]"
      }
     },
     "dfca8cf9f35e4260b3212c285ef39a15": {
      "model_module": "@jupyter-widgets/controls",
      "model_module_version": "1.5.0",
      "model_name": "HTMLModel",
      "state": {
       "layout": "IPY_MODEL_44c2def2949a40ed871c2ab529f263af",
       "style": "IPY_MODEL_905d22ce72c849169da36a0b9338c2fd",
       "value": "Epoch 20:  55%"
      }
     },
     "dfdd233efbb047c29d5bd23cf80c9ffb": {
      "model_module": "@jupyter-widgets/controls",
      "model_module_version": "1.5.0",
      "model_name": "DescriptionStyleModel",
      "state": {
       "description_width": ""
      }
     },
     "dfe5519c86fa4ce583509c80cfda48ca": {
      "model_module": "@jupyter-widgets/base",
      "model_module_version": "1.2.0",
      "model_name": "LayoutModel",
      "state": {}
     },
     "dfec207830b24d109a79cc9a8c4136da": {
      "model_module": "@jupyter-widgets/base",
      "model_module_version": "1.2.0",
      "model_name": "LayoutModel",
      "state": {}
     },
     "dff595742e5d4f03958818f283ca3008": {
      "model_module": "@jupyter-widgets/base",
      "model_module_version": "1.2.0",
      "model_name": "LayoutModel",
      "state": {}
     },
     "e004a3d40fa84fac870d991b19c5a50c": {
      "model_module": "@jupyter-widgets/controls",
      "model_module_version": "1.5.0",
      "model_name": "HTMLModel",
      "state": {
       "layout": "IPY_MODEL_5c1ff2c40cc14f69b65b8e51e62b769d",
       "style": "IPY_MODEL_78d52f8ef032450b960aa129f211f093",
       "value": "Validation DataLoader 0: 100%"
      }
     },
     "e01a322fb2724e0184c4df2c31c6d178": {
      "model_module": "@jupyter-widgets/controls",
      "model_module_version": "1.5.0",
      "model_name": "HTMLModel",
      "state": {
       "layout": "IPY_MODEL_0034df282a814476afdea9058f6c3d6f",
       "style": "IPY_MODEL_b47150838fd048489a2e2b86e2aefd04",
       "value": "Validation DataLoader 0: 100%"
      }
     },
     "e02571f49812442b955214905bb90c78": {
      "model_module": "@jupyter-widgets/controls",
      "model_module_version": "1.5.0",
      "model_name": "HTMLModel",
      "state": {
       "layout": "IPY_MODEL_a4f4b5f5a75a44acb792af4c4d69af44",
       "style": "IPY_MODEL_213fe6e2316e4244983185d831323685",
       "value": " 16/16 [00:01&lt;00:00,  7.45it/s]"
      }
     },
     "e034aa0c4f45494b93bc36db9795cf1b": {
      "model_module": "@jupyter-widgets/controls",
      "model_module_version": "1.5.0",
      "model_name": "ProgressStyleModel",
      "state": {
       "description_width": ""
      }
     },
     "e05116c888e346a183721f2f6c6b160f": {
      "model_module": "@jupyter-widgets/controls",
      "model_module_version": "1.5.0",
      "model_name": "HTMLModel",
      "state": {
       "layout": "IPY_MODEL_9626bcac76ac41d79a544e0b73654b8a",
       "style": "IPY_MODEL_dfdd233efbb047c29d5bd23cf80c9ffb",
       "value": "Validation DataLoader 0: 100%"
      }
     },
     "e05703e17e1242da9a48d0106b76b859": {
      "model_module": "@jupyter-widgets/controls",
      "model_module_version": "1.5.0",
      "model_name": "ProgressStyleModel",
      "state": {
       "description_width": ""
      }
     },
     "e083146adf83421c9c46f15aa176b0f0": {
      "model_module": "@jupyter-widgets/base",
      "model_module_version": "1.2.0",
      "model_name": "LayoutModel",
      "state": {
       "flex": "2"
      }
     },
     "e0b3bf6d822b49f6804148739c6a8416": {
      "model_module": "@jupyter-widgets/base",
      "model_module_version": "1.2.0",
      "model_name": "LayoutModel",
      "state": {
       "display": "inline-flex",
       "flex_flow": "row wrap",
       "width": "100%"
      }
     },
     "e0ce4090cb504ff1b828fb6b1fe88e62": {
      "model_module": "@jupyter-widgets/controls",
      "model_module_version": "1.5.0",
      "model_name": "ProgressStyleModel",
      "state": {
       "description_width": ""
      }
     },
     "e0e36f98e6aa4f568cd3cb9c5a18f1d7": {
      "model_module": "@jupyter-widgets/base",
      "model_module_version": "1.2.0",
      "model_name": "LayoutModel",
      "state": {
       "flex": "2"
      }
     },
     "e0fd7f2ec72740188cee5cd6092f77ca": {
      "model_module": "@jupyter-widgets/base",
      "model_module_version": "1.2.0",
      "model_name": "LayoutModel",
      "state": {
       "flex": "2"
      }
     },
     "e11642a86ae444a79e370e7cb4dfbe51": {
      "model_module": "@jupyter-widgets/base",
      "model_module_version": "1.2.0",
      "model_name": "LayoutModel",
      "state": {}
     },
     "e11a5f0e01d54b7aa1b699626a73ab16": {
      "model_module": "@jupyter-widgets/base",
      "model_module_version": "1.2.0",
      "model_name": "LayoutModel",
      "state": {}
     },
     "e13f08ba810c4b52a859b9473d159a76": {
      "model_module": "@jupyter-widgets/controls",
      "model_module_version": "1.5.0",
      "model_name": "DescriptionStyleModel",
      "state": {
       "description_width": ""
      }
     },
     "e1665329393c4811ac0bf39e50422cd5": {
      "model_module": "@jupyter-widgets/controls",
      "model_module_version": "1.5.0",
      "model_name": "FloatProgressModel",
      "state": {
       "layout": "IPY_MODEL_c3b3f2d7560d41458b9bd0344fc85b9e",
       "max": 16,
       "style": "IPY_MODEL_2ce5ea28e5064818bc5f1a8ffb461ffe",
       "value": 16
      }
     },
     "e166e48cdd1d4d5da6dcc48fa6cd76f8": {
      "model_module": "@jupyter-widgets/controls",
      "model_module_version": "1.5.0",
      "model_name": "DescriptionStyleModel",
      "state": {
       "description_width": ""
      }
     },
     "e181eff4242f496893981372aa526cba": {
      "model_module": "@jupyter-widgets/controls",
      "model_module_version": "1.5.0",
      "model_name": "HTMLModel",
      "state": {
       "layout": "IPY_MODEL_2e19942b09c742ecb97d24c1957608b1",
       "style": "IPY_MODEL_2cdc0bb5b6d7467baa783c7156c6d596",
       "value": "Validation DataLoader 0: 100%"
      }
     },
     "e187071a17a647bcb875c8f665a79f62": {
      "model_module": "@jupyter-widgets/controls",
      "model_module_version": "1.5.0",
      "model_name": "HTMLModel",
      "state": {
       "layout": "IPY_MODEL_0ba0188e341b45b5ac917fff122f323e",
       "style": "IPY_MODEL_118183b08f3e49a5b693925eeb3ceaa1",
       "value": " 16/16 [00:03&lt;00:00,  4.33it/s]"
      }
     },
     "e1939ad93c6840db9dc351f32348fdff": {
      "model_module": "@jupyter-widgets/controls",
      "model_module_version": "1.5.0",
      "model_name": "FloatProgressModel",
      "state": {
       "layout": "IPY_MODEL_b65bce04c7b54a1da6dfe9ad1e63f9f2",
       "max": 16,
       "style": "IPY_MODEL_e9d9c9fe54ac4db58e9abec3795c79eb",
       "value": 16
      }
     },
     "e1c72098cab545ab9fe02fa8e1d8928e": {
      "model_module": "@jupyter-widgets/controls",
      "model_module_version": "1.5.0",
      "model_name": "DescriptionStyleModel",
      "state": {
       "description_width": ""
      }
     },
     "e1d726e0c46345f0acd334b46df0f3f8": {
      "model_module": "@jupyter-widgets/controls",
      "model_module_version": "1.5.0",
      "model_name": "HTMLModel",
      "state": {
       "layout": "IPY_MODEL_3af5de093ae442838e3ab7c38ff04908",
       "style": "IPY_MODEL_19f5f8d264664363af24187bebe778f6",
       "value": "Epoch 13:  61%"
      }
     },
     "e1ed62f287b94548a3f793b90abe89b6": {
      "model_module": "@jupyter-widgets/base",
      "model_module_version": "1.2.0",
      "model_name": "LayoutModel",
      "state": {}
     },
     "e21376c5c283429684338ab79986563a": {
      "model_module": "@jupyter-widgets/base",
      "model_module_version": "1.2.0",
      "model_name": "LayoutModel",
      "state": {
       "display": "inline-flex",
       "flex_flow": "row wrap",
       "width": "100%"
      }
     },
     "e221eef71a8548c4a1f539cd3df46a44": {
      "model_module": "@jupyter-widgets/base",
      "model_module_version": "1.2.0",
      "model_name": "LayoutModel",
      "state": {}
     },
     "e2709e42b2b44eeca48d42e1716ed153": {
      "model_module": "@jupyter-widgets/controls",
      "model_module_version": "1.5.0",
      "model_name": "DescriptionStyleModel",
      "state": {
       "description_width": ""
      }
     },
     "e2753a204346429eabf5299f6c0eaef0": {
      "model_module": "@jupyter-widgets/base",
      "model_module_version": "1.2.0",
      "model_name": "LayoutModel",
      "state": {
       "display": "inline-flex",
       "flex_flow": "row wrap",
       "width": "100%"
      }
     },
     "e279dd8a17b94ea8b6584de7a4854b61": {
      "model_module": "@jupyter-widgets/base",
      "model_module_version": "1.2.0",
      "model_name": "LayoutModel",
      "state": {}
     },
     "e2dce8da5d224cebaa1bd803b0003526": {
      "model_module": "@jupyter-widgets/controls",
      "model_module_version": "1.5.0",
      "model_name": "HTMLModel",
      "state": {
       "layout": "IPY_MODEL_ebc87e5f490742fb8066a8d6b9c77995",
       "style": "IPY_MODEL_40e1e2472562450e9e96424fb24d8560",
       "value": " 16/16 [00:06&lt;00:00,  2.42it/s]"
      }
     },
     "e2ea70209940442cb1f24657339327ef": {
      "model_module": "@jupyter-widgets/base",
      "model_module_version": "1.2.0",
      "model_name": "LayoutModel",
      "state": {
       "display": "inline-flex",
       "flex_flow": "row wrap",
       "width": "100%"
      }
     },
     "e2ef5682186d408882c90a7ad67f2a8e": {
      "model_module": "@jupyter-widgets/base",
      "model_module_version": "1.2.0",
      "model_name": "LayoutModel",
      "state": {}
     },
     "e327f4c57c2f48968652778a618b65fc": {
      "model_module": "@jupyter-widgets/controls",
      "model_module_version": "1.5.0",
      "model_name": "DescriptionStyleModel",
      "state": {
       "description_width": ""
      }
     },
     "e32a0a85dc564fac9d661cf69d296f23": {
      "model_module": "@jupyter-widgets/base",
      "model_module_version": "1.2.0",
      "model_name": "LayoutModel",
      "state": {
       "flex": "2"
      }
     },
     "e3433acb29294582bb30269091ba3b38": {
      "model_module": "@jupyter-widgets/controls",
      "model_module_version": "1.5.0",
      "model_name": "DescriptionStyleModel",
      "state": {
       "description_width": ""
      }
     },
     "e3639460fec84e769db820fc9c0c2419": {
      "model_module": "@jupyter-widgets/controls",
      "model_module_version": "1.5.0",
      "model_name": "FloatProgressModel",
      "state": {
       "layout": "IPY_MODEL_ab21ab7056f5418d96838e270aa9717d",
       "max": 16,
       "style": "IPY_MODEL_7973bd42431f4cd59051cce9ae9ea39f",
       "value": 16
      }
     },
     "e38b52bb14094a918363a41d213a6298": {
      "model_module": "@jupyter-widgets/controls",
      "model_module_version": "1.5.0",
      "model_name": "DescriptionStyleModel",
      "state": {
       "description_width": ""
      }
     },
     "e38f9f1cbde04854be3eaebd6e8a140b": {
      "model_module": "@jupyter-widgets/base",
      "model_module_version": "1.2.0",
      "model_name": "LayoutModel",
      "state": {
       "flex": "2"
      }
     },
     "e3916dada00847038c5b8357a181f370": {
      "model_module": "@jupyter-widgets/base",
      "model_module_version": "1.2.0",
      "model_name": "LayoutModel",
      "state": {
       "flex": "2"
      }
     },
     "e399670e4f3e44a0b402cad7396a0484": {
      "model_module": "@jupyter-widgets/controls",
      "model_module_version": "1.5.0",
      "model_name": "HTMLModel",
      "state": {
       "layout": "IPY_MODEL_bb1bebe991734502b19731505f579257",
       "style": "IPY_MODEL_4774ade288a245f8a0ef9ef7a4b43ec2",
       "value": " 16/16 [00:06&lt;00:00,  2.43it/s]"
      }
     },
     "e3a6252214d24c05a24cb0afddb9771b": {
      "model_module": "@jupyter-widgets/controls",
      "model_module_version": "1.5.0",
      "model_name": "HTMLModel",
      "state": {
       "layout": "IPY_MODEL_fab66107c174449887128932ead7a556",
       "style": "IPY_MODEL_c4b8550a5e814fddb5b5750170a7a2ab",
       "value": "Validation DataLoader 0: 100%"
      }
     },
     "e3c1781d04bf46d4a100f4174b3ee17d": {
      "model_module": "@jupyter-widgets/controls",
      "model_module_version": "1.5.0",
      "model_name": "DescriptionStyleModel",
      "state": {
       "description_width": ""
      }
     },
     "e3f9637727e241c081e5a29bbda60987": {
      "model_module": "@jupyter-widgets/controls",
      "model_module_version": "1.5.0",
      "model_name": "FloatProgressModel",
      "state": {
       "layout": "IPY_MODEL_ebc79ea8d4b54e15bf209a2e61547254",
       "max": 16,
       "style": "IPY_MODEL_f70bb6713d75484e86c30a2189decf5e",
       "value": 16
      }
     },
     "e422176f96b941dcb938f7f63786eb2b": {
      "model_module": "@jupyter-widgets/controls",
      "model_module_version": "1.5.0",
      "model_name": "DescriptionStyleModel",
      "state": {
       "description_width": ""
      }
     },
     "e42db294f04540a69cb8acefb792c14c": {
      "model_module": "@jupyter-widgets/controls",
      "model_module_version": "1.5.0",
      "model_name": "DescriptionStyleModel",
      "state": {
       "description_width": ""
      }
     },
     "e4333e1b53f34aa3b21edeba4df8974e": {
      "model_module": "@jupyter-widgets/controls",
      "model_module_version": "1.5.0",
      "model_name": "FloatProgressModel",
      "state": {
       "layout": "IPY_MODEL_a9258e225b2248e5951678742fc0dd06",
       "max": 16,
       "style": "IPY_MODEL_701ca725a5a74e22be7115d734e59cb3",
       "value": 16
      }
     },
     "e459ebc7d86d41a1bf49c68b99022033": {
      "model_module": "@jupyter-widgets/controls",
      "model_module_version": "1.5.0",
      "model_name": "ProgressStyleModel",
      "state": {
       "description_width": ""
      }
     },
     "e45b51f3668247849a174aa6d15bea80": {
      "model_module": "@jupyter-widgets/controls",
      "model_module_version": "1.5.0",
      "model_name": "HTMLModel",
      "state": {
       "layout": "IPY_MODEL_95e5a20adebf489fa3f593fd7bffb0b6",
       "style": "IPY_MODEL_10f89cf143ec4525849eb9113b52e301",
       "value": "Validation DataLoader 0: 100%"
      }
     },
     "e4de4979acc64f24b6316f37db780ee1": {
      "model_module": "@jupyter-widgets/base",
      "model_module_version": "1.2.0",
      "model_name": "LayoutModel",
      "state": {
       "display": "inline-flex",
       "flex_flow": "row wrap",
       "width": "100%"
      }
     },
     "e51dd7bc2d28455983908a705fab91b9": {
      "model_module": "@jupyter-widgets/controls",
      "model_module_version": "1.5.0",
      "model_name": "HTMLModel",
      "state": {
       "layout": "IPY_MODEL_0e31862974ae42d289369466f6ecfca3",
       "style": "IPY_MODEL_cab878ed3dd14bad9ce7acca3bf1a4f3",
       "value": " 16/16 [00:01&lt;00:00,  7.81it/s]"
      }
     },
     "e55039b2226342a185ab341248ae4434": {
      "model_module": "@jupyter-widgets/base",
      "model_module_version": "1.2.0",
      "model_name": "LayoutModel",
      "state": {
       "display": "inline-flex",
       "flex_flow": "row wrap",
       "width": "100%"
      }
     },
     "e593e78fe4af40beb4da63ab2fcf1d2c": {
      "model_module": "@jupyter-widgets/base",
      "model_module_version": "1.2.0",
      "model_name": "LayoutModel",
      "state": {
       "display": "inline-flex",
       "flex_flow": "row wrap",
       "width": "100%"
      }
     },
     "e5c456fe5cb04f7a9ce2aeb2568069b2": {
      "model_module": "@jupyter-widgets/base",
      "model_module_version": "1.2.0",
      "model_name": "LayoutModel",
      "state": {}
     },
     "e5c9d6bdb04b43f08e3c7c18ae0d1fa8": {
      "model_module": "@jupyter-widgets/base",
      "model_module_version": "1.2.0",
      "model_name": "LayoutModel",
      "state": {
       "display": "inline-flex",
       "flex_flow": "row wrap",
       "width": "100%"
      }
     },
     "e5d96fac4ca14d7abcaef6068a4d8e1a": {
      "model_module": "@jupyter-widgets/base",
      "model_module_version": "1.2.0",
      "model_name": "LayoutModel",
      "state": {
       "display": "inline-flex",
       "flex_flow": "row wrap",
       "width": "100%"
      }
     },
     "e5f46b824bed430b8e1aed0f0c17a5b8": {
      "model_module": "@jupyter-widgets/controls",
      "model_module_version": "1.5.0",
      "model_name": "DescriptionStyleModel",
      "state": {
       "description_width": ""
      }
     },
     "e60e7bf0bbd34153bfaaa2f0304e81d2": {
      "model_module": "@jupyter-widgets/controls",
      "model_module_version": "1.5.0",
      "model_name": "FloatProgressModel",
      "state": {
       "layout": "IPY_MODEL_c09e58d289fd4ad49e37f63f2808360d",
       "max": 16,
       "style": "IPY_MODEL_04df3115a2f546769728f592e13008e9",
       "value": 16
      }
     },
     "e6295d4854ac4d64a92cdd0a0f1704bd": {
      "model_module": "@jupyter-widgets/controls",
      "model_module_version": "1.5.0",
      "model_name": "HTMLModel",
      "state": {
       "layout": "IPY_MODEL_6e5fc6ed26fe44079d34688e0d07b3b2",
       "style": "IPY_MODEL_08afab34ba20409ca2d7943bf179f6a4",
       "value": "Validation DataLoader 0: 100%"
      }
     },
     "e696b57a7941401f937f7baa65a235d8": {
      "model_module": "@jupyter-widgets/controls",
      "model_module_version": "1.5.0",
      "model_name": "DescriptionStyleModel",
      "state": {
       "description_width": ""
      }
     },
     "e6c2320dbbd24e7a8f690ed0d71e6704": {
      "model_module": "@jupyter-widgets/controls",
      "model_module_version": "1.5.0",
      "model_name": "HTMLModel",
      "state": {
       "layout": "IPY_MODEL_db29fea19b8c404caf596767917d9c58",
       "style": "IPY_MODEL_f23f54a77b8c4d65812eafaa59666719",
       "value": "Validation DataLoader 0: 100%"
      }
     },
     "e6c5230700f44e2ba7e39fbbd648b058": {
      "model_module": "@jupyter-widgets/controls",
      "model_module_version": "1.5.0",
      "model_name": "HTMLModel",
      "state": {
       "layout": "IPY_MODEL_3a1c2d28a6554e1593c0cc0fabb21585",
       "style": "IPY_MODEL_f1415241132d457199092cb4e8ece292",
       "value": "Predicting DataLoader 0: 100%"
      }
     },
     "e71b0fc952f74e2489ebb89e9f083502": {
      "model_module": "@jupyter-widgets/controls",
      "model_module_version": "1.5.0",
      "model_name": "DescriptionStyleModel",
      "state": {
       "description_width": ""
      }
     },
     "e776a0244ac1466ab09b9f35a4a04ebf": {
      "model_module": "@jupyter-widgets/controls",
      "model_module_version": "1.5.0",
      "model_name": "FloatProgressModel",
      "state": {
       "layout": "IPY_MODEL_ca253c67d43642738228ba9bae9d32c3",
       "max": 2,
       "style": "IPY_MODEL_8b97dec45e234c0fb6801ae35a920312",
       "value": 2
      }
     },
     "e78033a02409443fb90818d8201fb89d": {
      "model_module": "@jupyter-widgets/controls",
      "model_module_version": "1.5.0",
      "model_name": "DescriptionStyleModel",
      "state": {
       "description_width": ""
      }
     },
     "e7988a41cff348eb8bce9564572cd22b": {
      "model_module": "@jupyter-widgets/controls",
      "model_module_version": "1.5.0",
      "model_name": "DescriptionStyleModel",
      "state": {
       "description_width": ""
      }
     },
     "e7c0127429764c369ba49c3db2c9e9ff": {
      "model_module": "@jupyter-widgets/base",
      "model_module_version": "1.2.0",
      "model_name": "LayoutModel",
      "state": {}
     },
     "e7db58b8ed274aee8231f801e5b36022": {
      "model_module": "@jupyter-widgets/base",
      "model_module_version": "1.2.0",
      "model_name": "LayoutModel",
      "state": {
       "display": "inline-flex",
       "flex_flow": "row wrap",
       "width": "100%"
      }
     },
     "e7db63962a7542d3b2076f7c945b3942": {
      "model_module": "@jupyter-widgets/base",
      "model_module_version": "1.2.0",
      "model_name": "LayoutModel",
      "state": {
       "display": "inline-flex",
       "flex_flow": "row wrap",
       "width": "100%"
      }
     },
     "e80ac36b5cdf41158338bd8387b20e95": {
      "model_module": "@jupyter-widgets/controls",
      "model_module_version": "1.5.0",
      "model_name": "DescriptionStyleModel",
      "state": {
       "description_width": ""
      }
     },
     "e847e31001014057b7a1f91615bcdb92": {
      "model_module": "@jupyter-widgets/base",
      "model_module_version": "1.2.0",
      "model_name": "LayoutModel",
      "state": {
       "display": "inline-flex",
       "flex_flow": "row wrap",
       "width": "100%"
      }
     },
     "e86a09925bff49ccbbb8e46a17146e7a": {
      "model_module": "@jupyter-widgets/controls",
      "model_module_version": "1.5.0",
      "model_name": "ProgressStyleModel",
      "state": {
       "description_width": ""
      }
     },
     "e8878b147cb244e6b5bc8c4d26600f51": {
      "model_module": "@jupyter-widgets/base",
      "model_module_version": "1.2.0",
      "model_name": "LayoutModel",
      "state": {
       "display": "inline-flex",
       "flex_flow": "row wrap",
       "width": "100%"
      }
     },
     "e8b14b53dbdc45b1bb3e1779270b10af": {
      "model_module": "@jupyter-widgets/base",
      "model_module_version": "1.2.0",
      "model_name": "LayoutModel",
      "state": {
       "flex": "2"
      }
     },
     "e8d2911166d948498282ba2ac89553a7": {
      "model_module": "@jupyter-widgets/base",
      "model_module_version": "1.2.0",
      "model_name": "LayoutModel",
      "state": {
       "display": "inline-flex",
       "flex_flow": "row wrap",
       "width": "100%"
      }
     },
     "e8dec7755e25492bb05f313ab5d592af": {
      "model_module": "@jupyter-widgets/controls",
      "model_module_version": "1.5.0",
      "model_name": "HTMLModel",
      "state": {
       "layout": "IPY_MODEL_d2d45fe8d93c4dccabbc0aaedf119f6f",
       "style": "IPY_MODEL_a011328a6c7a49e1a024ba6a4f10d828",
       "value": " 2/2 [00:00&lt;00:00,  9.53it/s]"
      }
     },
     "e8f340e04a484b9f9ded9ce483a9e36f": {
      "model_module": "@jupyter-widgets/base",
      "model_module_version": "1.2.0",
      "model_name": "LayoutModel",
      "state": {}
     },
     "e8f993b81a00436cae1c637709ee7b9b": {
      "model_module": "@jupyter-widgets/base",
      "model_module_version": "1.2.0",
      "model_name": "LayoutModel",
      "state": {}
     },
     "e8fae786d6324aa9a618b6b34eb3d97b": {
      "model_module": "@jupyter-widgets/base",
      "model_module_version": "1.2.0",
      "model_name": "LayoutModel",
      "state": {
       "flex": "2"
      }
     },
     "e93b8c6eae2b4a5a83eafc4d3b1f3576": {
      "model_module": "@jupyter-widgets/controls",
      "model_module_version": "1.5.0",
      "model_name": "HTMLModel",
      "state": {
       "layout": "IPY_MODEL_59af8d213b65459f938ca0775fbb97f2",
       "style": "IPY_MODEL_0500c4a45e734089acd0b8da58ee92a1",
       "value": " 16/16 [00:01&lt;00:00,  8.10it/s]"
      }
     },
     "e96e8c46c89e4882af59f9f80879e0e5": {
      "model_module": "@jupyter-widgets/controls",
      "model_module_version": "1.5.0",
      "model_name": "DescriptionStyleModel",
      "state": {
       "description_width": ""
      }
     },
     "e9b6e6a3bf62452d8abde57436ee01eb": {
      "model_module": "@jupyter-widgets/controls",
      "model_module_version": "1.5.0",
      "model_name": "DescriptionStyleModel",
      "state": {
       "description_width": ""
      }
     },
     "e9c21f82d56a4d7cbc846e2d0692b367": {
      "model_module": "@jupyter-widgets/base",
      "model_module_version": "1.2.0",
      "model_name": "LayoutModel",
      "state": {}
     },
     "e9d98b1934fd405e901c68d5ce4833cc": {
      "model_module": "@jupyter-widgets/controls",
      "model_module_version": "1.5.0",
      "model_name": "HTMLModel",
      "state": {
       "layout": "IPY_MODEL_327cc475baa2430d958aeb15b1c7ed4c",
       "style": "IPY_MODEL_6860ee11dbf34d8cb4edca64ee336f9d",
       "value": " 16/16 [00:06&lt;00:00,  2.37it/s]"
      }
     },
     "e9d9c9fe54ac4db58e9abec3795c79eb": {
      "model_module": "@jupyter-widgets/controls",
      "model_module_version": "1.5.0",
      "model_name": "ProgressStyleModel",
      "state": {
       "description_width": ""
      }
     },
     "e9ed7e1dfb27487fa107a36adce6764a": {
      "model_module": "@jupyter-widgets/controls",
      "model_module_version": "1.5.0",
      "model_name": "FloatProgressModel",
      "state": {
       "layout": "IPY_MODEL_63a7d1dfb4ba400abc1e9c351ed4d8b0",
       "max": 16,
       "style": "IPY_MODEL_559b1f92024649478a1f9b0ce0a205c8",
       "value": 16
      }
     },
     "ea38d176d09340dda66c78e6685ca3e7": {
      "model_module": "@jupyter-widgets/base",
      "model_module_version": "1.2.0",
      "model_name": "LayoutModel",
      "state": {}
     },
     "ea423f3fa00e47b18d6a0f7adc7c9b4b": {
      "model_module": "@jupyter-widgets/base",
      "model_module_version": "1.2.0",
      "model_name": "LayoutModel",
      "state": {}
     },
     "ea42bee0389d4d4bbbad32b68f5a4737": {
      "model_module": "@jupyter-widgets/base",
      "model_module_version": "1.2.0",
      "model_name": "LayoutModel",
      "state": {}
     },
     "ea5613d74aa845f9a0d8587413223392": {
      "model_module": "@jupyter-widgets/controls",
      "model_module_version": "1.5.0",
      "model_name": "HTMLModel",
      "state": {
       "layout": "IPY_MODEL_48f6bb0ab1854db6906c10950de762e5",
       "style": "IPY_MODEL_f1a1ecc42f514710a0d1487634cf8287",
       "value": " 16/16 [00:03&lt;00:00,  3.77it/s]"
      }
     },
     "ea85ac30375e464cbfd1c573089d7904": {
      "model_module": "@jupyter-widgets/controls",
      "model_module_version": "1.5.0",
      "model_name": "FloatProgressModel",
      "state": {
       "layout": "IPY_MODEL_6ddd6f64f34240b69a2c96c26b7f82f1",
       "max": 77,
       "style": "IPY_MODEL_0185758c5fe44fc5a67ed8cf1787673c",
       "value": 4
      }
     },
     "ea918406692945b8a68f8ec3df627f0a": {
      "model_module": "@jupyter-widgets/base",
      "model_module_version": "1.2.0",
      "model_name": "LayoutModel",
      "state": {}
     },
     "eab8bd1dcde24899b5e8bb3fe5dd010a": {
      "model_module": "@jupyter-widgets/base",
      "model_module_version": "1.2.0",
      "model_name": "LayoutModel",
      "state": {
       "display": "inline-flex",
       "flex_flow": "row wrap",
       "width": "100%"
      }
     },
     "ead3ed5230e44f5ba5f894b49d633ffe": {
      "model_module": "@jupyter-widgets/base",
      "model_module_version": "1.2.0",
      "model_name": "LayoutModel",
      "state": {
       "flex": "2"
      }
     },
     "eae1f14093fb494a808f3370b566fe6d": {
      "model_module": "@jupyter-widgets/controls",
      "model_module_version": "1.5.0",
      "model_name": "DescriptionStyleModel",
      "state": {
       "description_width": ""
      }
     },
     "eb253c796b6a46aa8c5a2e7a72654f12": {
      "model_module": "@jupyter-widgets/base",
      "model_module_version": "1.2.0",
      "model_name": "LayoutModel",
      "state": {}
     },
     "eb583ca06bb84868b81109984d8f25d8": {
      "model_module": "@jupyter-widgets/base",
      "model_module_version": "1.2.0",
      "model_name": "LayoutModel",
      "state": {}
     },
     "eb5e81098a8c45969f75c8556510dc34": {
      "model_module": "@jupyter-widgets/controls",
      "model_module_version": "1.5.0",
      "model_name": "HTMLModel",
      "state": {
       "layout": "IPY_MODEL_a3a212e28d5c47a591409225845167b0",
       "style": "IPY_MODEL_8ffe8e97686b45bfae466a288f723404",
       "value": "Sanity Checking DataLoader 0: 100%"
      }
     },
     "eb9813e22ab940dfbf7b85bfdb75878e": {
      "model_module": "@jupyter-widgets/base",
      "model_module_version": "1.2.0",
      "model_name": "LayoutModel",
      "state": {
       "flex": "2"
      }
     },
     "ebbde6da2ead45c1994ec7833598d508": {
      "model_module": "@jupyter-widgets/base",
      "model_module_version": "1.2.0",
      "model_name": "LayoutModel",
      "state": {}
     },
     "ebc6a8bc98da4d2c84b6540644999cec": {
      "model_module": "@jupyter-widgets/base",
      "model_module_version": "1.2.0",
      "model_name": "LayoutModel",
      "state": {}
     },
     "ebc79ea8d4b54e15bf209a2e61547254": {
      "model_module": "@jupyter-widgets/base",
      "model_module_version": "1.2.0",
      "model_name": "LayoutModel",
      "state": {
       "flex": "2"
      }
     },
     "ebc87e5f490742fb8066a8d6b9c77995": {
      "model_module": "@jupyter-widgets/base",
      "model_module_version": "1.2.0",
      "model_name": "LayoutModel",
      "state": {}
     },
     "ebcc3e5b735f4461a25c8d35e031ddff": {
      "model_module": "@jupyter-widgets/base",
      "model_module_version": "1.2.0",
      "model_name": "LayoutModel",
      "state": {}
     },
     "ec19d40eb5cc405988fdc866ad9faaae": {
      "model_module": "@jupyter-widgets/controls",
      "model_module_version": "1.5.0",
      "model_name": "DescriptionStyleModel",
      "state": {
       "description_width": ""
      }
     },
     "ec210f2890544ab5805986ce1b6a6934": {
      "model_module": "@jupyter-widgets/controls",
      "model_module_version": "1.5.0",
      "model_name": "FloatProgressModel",
      "state": {
       "layout": "IPY_MODEL_d1b70eb04b0d435398b4e718484cb623",
       "max": 16,
       "style": "IPY_MODEL_44886c3e0c6548dd981546bf93ff9030",
       "value": 16
      }
     },
     "ec74f5f073bd496791ff3def51f23ea7": {
      "model_module": "@jupyter-widgets/controls",
      "model_module_version": "1.5.0",
      "model_name": "HTMLModel",
      "state": {
       "layout": "IPY_MODEL_5013f7609f5242818168003452790fe0",
       "style": "IPY_MODEL_85b79ebc7f034317bb806dbfd55372b0",
       "value": "Validation DataLoader 0: 100%"
      }
     },
     "ec7a4f67cab3461fad4d9d0167e41d28": {
      "model_module": "@jupyter-widgets/controls",
      "model_module_version": "1.5.0",
      "model_name": "ProgressStyleModel",
      "state": {
       "description_width": ""
      }
     },
     "eca5e939254a4540be6a58ca7dd0b56e": {
      "model_module": "@jupyter-widgets/controls",
      "model_module_version": "1.5.0",
      "model_name": "HTMLModel",
      "state": {
       "layout": "IPY_MODEL_1e0924a01555457180e99d21f67edc8d",
       "style": "IPY_MODEL_982764d5675e4f5a998e56490c2e7b91",
       "value": "Validation DataLoader 0: 100%"
      }
     },
     "eca6ad294aba4722b70f2ff42082a9f4": {
      "model_module": "@jupyter-widgets/controls",
      "model_module_version": "1.5.0",
      "model_name": "DescriptionStyleModel",
      "state": {
       "description_width": ""
      }
     },
     "ecba7c4d76114b63a81a73e69610a6fc": {
      "model_module": "@jupyter-widgets/base",
      "model_module_version": "1.2.0",
      "model_name": "LayoutModel",
      "state": {}
     },
     "ecbecdc81f2141a1b82209b87204b91c": {
      "model_module": "@jupyter-widgets/controls",
      "model_module_version": "1.5.0",
      "model_name": "HTMLModel",
      "state": {
       "layout": "IPY_MODEL_a54f8310a3bb450fae8d0171b1d52786",
       "style": "IPY_MODEL_8a44564ac3cc4a96bc14321025944b1d",
       "value": " 16/16 [00:01&lt;00:00,  7.17it/s]"
      }
     },
     "ecceb2077ccd440da1088ab1f50e5ee5": {
      "model_module": "@jupyter-widgets/base",
      "model_module_version": "1.2.0",
      "model_name": "LayoutModel",
      "state": {
       "display": "inline-flex",
       "flex_flow": "row wrap",
       "width": "100%"
      }
     },
     "ed35a7ff288e41379c69023cb10ea5c6": {
      "model_module": "@jupyter-widgets/controls",
      "model_module_version": "1.5.0",
      "model_name": "HTMLModel",
      "state": {
       "layout": "IPY_MODEL_b3d5f35dee1f4c69949950cf4ba7cf1f",
       "style": "IPY_MODEL_eae1f14093fb494a808f3370b566fe6d",
       "value": "Epoch 27:   5%"
      }
     },
     "ed3a33d646274074bd92fcb4db58322e": {
      "model_module": "@jupyter-widgets/base",
      "model_module_version": "1.2.0",
      "model_name": "LayoutModel",
      "state": {
       "flex": "2"
      }
     },
     "ed882e7502e54870bb9922bb4a290585": {
      "model_module": "@jupyter-widgets/controls",
      "model_module_version": "1.5.0",
      "model_name": "DescriptionStyleModel",
      "state": {
       "description_width": ""
      }
     },
     "eda138fcce4a494c9186e4382c99475e": {
      "model_module": "@jupyter-widgets/controls",
      "model_module_version": "1.5.0",
      "model_name": "HTMLModel",
      "state": {
       "layout": "IPY_MODEL_020360d4e8114118a363fc014c0f738d",
       "style": "IPY_MODEL_b771935a9ab447df88cbf329c81a49d4",
       "value": "Validation DataLoader 0: 100%"
      }
     },
     "edb0c25b05504fb78388749bcfd58934": {
      "model_module": "@jupyter-widgets/controls",
      "model_module_version": "1.5.0",
      "model_name": "DescriptionStyleModel",
      "state": {
       "description_width": ""
      }
     },
     "edb8128145244825b49912ef95eb83f1": {
      "model_module": "@jupyter-widgets/controls",
      "model_module_version": "1.5.0",
      "model_name": "DescriptionStyleModel",
      "state": {
       "description_width": ""
      }
     },
     "edbc2802324a493ba06234753dd766a2": {
      "model_module": "@jupyter-widgets/controls",
      "model_module_version": "1.5.0",
      "model_name": "FloatProgressModel",
      "state": {
       "layout": "IPY_MODEL_26435bb38e574d1282994513871c439a",
       "max": 16,
       "style": "IPY_MODEL_e034aa0c4f45494b93bc36db9795cf1b",
       "value": 16
      }
     },
     "ee540ee21b4c415ebdfc5f9fb8b26eb6": {
      "model_module": "@jupyter-widgets/base",
      "model_module_version": "1.2.0",
      "model_name": "LayoutModel",
      "state": {}
     },
     "ee865f3f765e4ec983a64021fee93f91": {
      "model_module": "@jupyter-widgets/controls",
      "model_module_version": "1.5.0",
      "model_name": "DescriptionStyleModel",
      "state": {
       "description_width": ""
      }
     },
     "eeb7c6d652e743778eaea0693405ddc4": {
      "model_module": "@jupyter-widgets/controls",
      "model_module_version": "1.5.0",
      "model_name": "ProgressStyleModel",
      "state": {
       "description_width": ""
      }
     },
     "eebb45135c894211898e879db9d565e6": {
      "model_module": "@jupyter-widgets/base",
      "model_module_version": "1.2.0",
      "model_name": "LayoutModel",
      "state": {
       "display": "inline-flex",
       "flex_flow": "row wrap",
       "width": "100%"
      }
     },
     "eefd815c05a74c8e99fe77ebaf30a10c": {
      "model_module": "@jupyter-widgets/controls",
      "model_module_version": "1.5.0",
      "model_name": "DescriptionStyleModel",
      "state": {
       "description_width": ""
      }
     },
     "ef04ad8f046e43679bd695a9deb2ea9b": {
      "model_module": "@jupyter-widgets/controls",
      "model_module_version": "1.5.0",
      "model_name": "FloatProgressModel",
      "state": {
       "layout": "IPY_MODEL_045551a6504b4524bde038537889b7b4",
       "max": 16,
       "style": "IPY_MODEL_48a0baa0cad44f8b9aa5176219cf02af",
       "value": 16
      }
     },
     "ef0611a77122461a81b1b7a8376feba5": {
      "model_module": "@jupyter-widgets/controls",
      "model_module_version": "1.5.0",
      "model_name": "HTMLModel",
      "state": {
       "layout": "IPY_MODEL_927d4f05fee44a78a763842cbe48b439",
       "style": "IPY_MODEL_2a21c14290884d68b910ee0c4e8c10e0",
       "value": "Validation DataLoader 0: 100%"
      }
     },
     "ef8c176529654d139be15d860b56cd2e": {
      "model_module": "@jupyter-widgets/controls",
      "model_module_version": "1.5.0",
      "model_name": "DescriptionStyleModel",
      "state": {
       "description_width": ""
      }
     },
     "efaf1abc26fb4c87a45e37937382be59": {
      "model_module": "@jupyter-widgets/controls",
      "model_module_version": "1.5.0",
      "model_name": "FloatProgressModel",
      "state": {
       "layout": "IPY_MODEL_6b62319a7a47494ebd4b07611a3d75b2",
       "max": 16,
       "style": "IPY_MODEL_9cbeb7cc71f84cb691384b6789959b30",
       "value": 16
      }
     },
     "f015b8bdff7446b984f785f702249d8a": {
      "model_module": "@jupyter-widgets/controls",
      "model_module_version": "1.5.0",
      "model_name": "FloatProgressModel",
      "state": {
       "layout": "IPY_MODEL_e32a0a85dc564fac9d661cf69d296f23",
       "max": 16,
       "style": "IPY_MODEL_8bda34849ff0433c86b5764e1975231f",
       "value": 16
      }
     },
     "f01929c0a3974a8799c9c7ef05ed23a8": {
      "model_module": "@jupyter-widgets/base",
      "model_module_version": "1.2.0",
      "model_name": "LayoutModel",
      "state": {}
     },
     "f06a867c470142e49ad80487a4b11e8b": {
      "model_module": "@jupyter-widgets/controls",
      "model_module_version": "1.5.0",
      "model_name": "HTMLModel",
      "state": {
       "layout": "IPY_MODEL_acdd0c5e7a994aa88f78aa9392ea1f9c",
       "style": "IPY_MODEL_3fb84de0db1e46d7a749289217a7c58e",
       "value": "Validation DataLoader 0: 100%"
      }
     },
     "f08a9577a7e04e049f318353f1ca179c": {
      "model_module": "@jupyter-widgets/base",
      "model_module_version": "1.2.0",
      "model_name": "LayoutModel",
      "state": {}
     },
     "f0bb6e5667d54ffc97e686bec3fe580f": {
      "model_module": "@jupyter-widgets/controls",
      "model_module_version": "1.5.0",
      "model_name": "HTMLModel",
      "state": {
       "layout": "IPY_MODEL_436bd961072e45f191afd09b6423c697",
       "style": "IPY_MODEL_1c051b16f64f40fe8e750282f13cfb48",
       "value": "Sanity Checking DataLoader 0: 100%"
      }
     },
     "f0be2fda1eda4cea8b8920ffe48fe5c8": {
      "model_module": "@jupyter-widgets/controls",
      "model_module_version": "1.5.0",
      "model_name": "DescriptionStyleModel",
      "state": {
       "description_width": ""
      }
     },
     "f0c9bb4a982743e0956d37f3bb97dffa": {
      "model_module": "@jupyter-widgets/controls",
      "model_module_version": "1.5.0",
      "model_name": "HTMLModel",
      "state": {
       "layout": "IPY_MODEL_5563f3fb7a6d4014a937d028b11d9b5b",
       "style": "IPY_MODEL_956e363d98ba4d97a02c01948bdcdcff",
       "value": "Validation DataLoader 0: 100%"
      }
     },
     "f0c9ef6b3d714024b388c27a7be5b00f": {
      "model_module": "@jupyter-widgets/controls",
      "model_module_version": "1.5.0",
      "model_name": "HTMLModel",
      "state": {
       "layout": "IPY_MODEL_a74daee5a6ee4a64bb761a9421282535",
       "style": "IPY_MODEL_c0183bf8d30e4224aa6c805c65ac8093",
       "value": "Validation DataLoader 0: 100%"
      }
     },
     "f0cd6ce54b12405e9d914300d7ea72b0": {
      "model_module": "@jupyter-widgets/controls",
      "model_module_version": "1.5.0",
      "model_name": "DescriptionStyleModel",
      "state": {
       "description_width": ""
      }
     },
     "f0d6e84632b045e19e7673aa6f0e98b2": {
      "model_module": "@jupyter-widgets/controls",
      "model_module_version": "1.5.0",
      "model_name": "FloatProgressModel",
      "state": {
       "layout": "IPY_MODEL_f4b476e6400b4b18af20efa98bfd7721",
       "max": 16,
       "style": "IPY_MODEL_043c2f88f0c54fe7911c157fa89d666e",
       "value": 16
      }
     },
     "f0f5bfcadf4a49d7874742e999d069c5": {
      "model_module": "@jupyter-widgets/base",
      "model_module_version": "1.2.0",
      "model_name": "LayoutModel",
      "state": {}
     },
     "f1240b257afd406b81af9e992bbd162a": {
      "model_module": "@jupyter-widgets/controls",
      "model_module_version": "1.5.0",
      "model_name": "HTMLModel",
      "state": {
       "layout": "IPY_MODEL_5b36c5fd442647a0ad034ffef93c04fd",
       "style": "IPY_MODEL_5b07f28ad680467fbf2adc703af6ff2d",
       "value": "Validation DataLoader 0: 100%"
      }
     },
     "f12d877998ce4e968ecbc99a0af1ba3f": {
      "model_module": "@jupyter-widgets/base",
      "model_module_version": "1.2.0",
      "model_name": "LayoutModel",
      "state": {}
     },
     "f1415241132d457199092cb4e8ece292": {
      "model_module": "@jupyter-widgets/controls",
      "model_module_version": "1.5.0",
      "model_name": "DescriptionStyleModel",
      "state": {
       "description_width": ""
      }
     },
     "f14cc605db1b4013b835aa2c0e0ab56f": {
      "model_module": "@jupyter-widgets/base",
      "model_module_version": "1.2.0",
      "model_name": "LayoutModel",
      "state": {
       "flex": "2"
      }
     },
     "f158f765827242249a460738bec10802": {
      "model_module": "@jupyter-widgets/base",
      "model_module_version": "1.2.0",
      "model_name": "LayoutModel",
      "state": {
       "display": "inline-flex",
       "flex_flow": "row wrap",
       "width": "100%"
      }
     },
     "f18da448e81b4be597fccba0e437a169": {
      "model_module": "@jupyter-widgets/controls",
      "model_module_version": "1.5.0",
      "model_name": "HTMLModel",
      "state": {
       "layout": "IPY_MODEL_8029e05bc69a4facb80288995d7b675b",
       "style": "IPY_MODEL_d79a3ad017794b7baa85b0e8768aa3df",
       "value": "Validation DataLoader 0: 100%"
      }
     },
     "f1a1ecc42f514710a0d1487634cf8287": {
      "model_module": "@jupyter-widgets/controls",
      "model_module_version": "1.5.0",
      "model_name": "DescriptionStyleModel",
      "state": {
       "description_width": ""
      }
     },
     "f1bc8851e1b8405287842269d3052f37": {
      "model_module": "@jupyter-widgets/controls",
      "model_module_version": "1.5.0",
      "model_name": "DescriptionStyleModel",
      "state": {
       "description_width": ""
      }
     },
     "f1da988515974f8aae8a9a7d051834fa": {
      "model_module": "@jupyter-widgets/base",
      "model_module_version": "1.2.0",
      "model_name": "LayoutModel",
      "state": {}
     },
     "f1e6e9eff60b48fe8fc46ad1a0a9c59a": {
      "model_module": "@jupyter-widgets/controls",
      "model_module_version": "1.5.0",
      "model_name": "FloatProgressModel",
      "state": {
       "layout": "IPY_MODEL_0e5c410566d8463ca799d451894142d9",
       "max": 16,
       "style": "IPY_MODEL_40e1e8292a2e43d4a084f18209ae803d",
       "value": 16
      }
     },
     "f1e824fa97fa41e98e0e0c1fdbb4ec4d": {
      "model_module": "@jupyter-widgets/controls",
      "model_module_version": "1.5.0",
      "model_name": "DescriptionStyleModel",
      "state": {
       "description_width": ""
      }
     },
     "f1e948716c354a569bdd581ffc191dd3": {
      "model_module": "@jupyter-widgets/base",
      "model_module_version": "1.2.0",
      "model_name": "LayoutModel",
      "state": {
       "display": "inline-flex",
       "flex_flow": "row wrap",
       "width": "100%"
      }
     },
     "f1ee2bb43dca42c4b9e18c3e491b1f63": {
      "model_module": "@jupyter-widgets/controls",
      "model_module_version": "1.5.0",
      "model_name": "FloatProgressModel",
      "state": {
       "bar_style": "success",
       "layout": "IPY_MODEL_01c9ba1e446244b89ba4ef8ee434ad79",
       "max": 33,
       "style": "IPY_MODEL_787a5d84605048a69367e6e451c4f6a5",
       "value": 33
      }
     },
     "f2158e4968c34ea88e536292fe61074c": {
      "model_module": "@jupyter-widgets/controls",
      "model_module_version": "1.5.0",
      "model_name": "HTMLModel",
      "state": {
       "layout": "IPY_MODEL_a3d3e5a02e3b4fb082d8eff96220985a",
       "style": "IPY_MODEL_f515a23206b64d9388c15f1ad5397e98",
       "value": "Validation DataLoader 0: 100%"
      }
     },
     "f23f54a77b8c4d65812eafaa59666719": {
      "model_module": "@jupyter-widgets/controls",
      "model_module_version": "1.5.0",
      "model_name": "DescriptionStyleModel",
      "state": {
       "description_width": ""
      }
     },
     "f23f80e72fc941888b1bcde2239e5f49": {
      "model_module": "@jupyter-widgets/base",
      "model_module_version": "1.2.0",
      "model_name": "LayoutModel",
      "state": {
       "display": "inline-flex",
       "flex_flow": "row wrap",
       "width": "100%"
      }
     },
     "f270739f359f4b4490cc5c178fefee4c": {
      "model_module": "@jupyter-widgets/controls",
      "model_module_version": "1.5.0",
      "model_name": "DescriptionStyleModel",
      "state": {
       "description_width": ""
      }
     },
     "f281622d75854537b2163a128cb63469": {
      "model_module": "@jupyter-widgets/base",
      "model_module_version": "1.2.0",
      "model_name": "LayoutModel",
      "state": {}
     },
     "f291dd42714d4010aaec37f7dc62fc64": {
      "model_module": "@jupyter-widgets/controls",
      "model_module_version": "1.5.0",
      "model_name": "HTMLModel",
      "state": {
       "layout": "IPY_MODEL_241517e462454945a9bbd01d6ea192ff",
       "style": "IPY_MODEL_dab53453f0ab4dc48d1a83ddab224edf",
       "value": "Validation DataLoader 0: 100%"
      }
     },
     "f2df287e003c4a6f87b7ea09c3b66bd8": {
      "model_module": "@jupyter-widgets/controls",
      "model_module_version": "1.5.0",
      "model_name": "ProgressStyleModel",
      "state": {
       "description_width": ""
      }
     },
     "f2faa1e27c3f42c5b7b99b5443a3fd35": {
      "model_module": "@jupyter-widgets/controls",
      "model_module_version": "1.5.0",
      "model_name": "FloatProgressModel",
      "state": {
       "layout": "IPY_MODEL_1efb6e5a18564174a2ea7fd8f2509aa7",
       "max": 16,
       "style": "IPY_MODEL_bb7302883f9148d79611b352f6a3883d",
       "value": 16
      }
     },
     "f30775a72ddb4579ab88ab51a9412bc8": {
      "model_module": "@jupyter-widgets/controls",
      "model_module_version": "1.5.0",
      "model_name": "HTMLModel",
      "state": {
       "layout": "IPY_MODEL_457d42c56e934eaa9f32aa88fc3c018d",
       "style": "IPY_MODEL_b2e87d9e9a9944e7b3975d2abdfa259f",
       "value": "Validation DataLoader 0: 100%"
      }
     },
     "f314b819321b42fd9054bd1bfef3a2ff": {
      "model_module": "@jupyter-widgets/base",
      "model_module_version": "1.2.0",
      "model_name": "LayoutModel",
      "state": {}
     },
     "f33b50e0a129455fa3f1fe55331e7e9b": {
      "model_module": "@jupyter-widgets/controls",
      "model_module_version": "1.5.0",
      "model_name": "DescriptionStyleModel",
      "state": {
       "description_width": ""
      }
     },
     "f354d562778f49e7b847ab8a28482a7c": {
      "model_module": "@jupyter-widgets/controls",
      "model_module_version": "1.5.0",
      "model_name": "HTMLModel",
      "state": {
       "layout": "IPY_MODEL_78a9f12187174b4f892c7b0662fe843b",
       "style": "IPY_MODEL_8a53436be66843f693f9299db16f17ff",
       "value": " 2/2 [00:01&lt;00:00,  1.48it/s]"
      }
     },
     "f36728bf8cb847e59b9cb1f379a5fd6f": {
      "model_module": "@jupyter-widgets/base",
      "model_module_version": "1.2.0",
      "model_name": "LayoutModel",
      "state": {}
     },
     "f36fe7d678624493938efef0d059bea1": {
      "model_module": "@jupyter-widgets/base",
      "model_module_version": "1.2.0",
      "model_name": "LayoutModel",
      "state": {
       "flex": "2"
      }
     },
     "f374b27d26ca424e9f94768b6243555a": {
      "model_module": "@jupyter-widgets/controls",
      "model_module_version": "1.5.0",
      "model_name": "DescriptionStyleModel",
      "state": {
       "description_width": ""
      }
     },
     "f398b592a45e46fba440d60ca7bf4ea2": {
      "model_module": "@jupyter-widgets/base",
      "model_module_version": "1.2.0",
      "model_name": "LayoutModel",
      "state": {
       "display": "inline-flex",
       "flex_flow": "row wrap",
       "width": "100%"
      }
     },
     "f39e3dc2dc734b5895f2a5e9a1a6e245": {
      "model_module": "@jupyter-widgets/controls",
      "model_module_version": "1.5.0",
      "model_name": "DescriptionStyleModel",
      "state": {
       "description_width": ""
      }
     },
     "f40cd4a9aa784e3db5cdaeb71661f6eb": {
      "model_module": "@jupyter-widgets/controls",
      "model_module_version": "1.5.0",
      "model_name": "DescriptionStyleModel",
      "state": {
       "description_width": ""
      }
     },
     "f43dca3467a24fa5bc1fb2fbdbdb4914": {
      "model_module": "@jupyter-widgets/base",
      "model_module_version": "1.2.0",
      "model_name": "LayoutModel",
      "state": {}
     },
     "f4419b639d0948d58c1bdb7e482cb291": {
      "model_module": "@jupyter-widgets/controls",
      "model_module_version": "1.5.0",
      "model_name": "ProgressStyleModel",
      "state": {
       "description_width": ""
      }
     },
     "f499c41108d44eed94b654b05617db49": {
      "model_module": "@jupyter-widgets/controls",
      "model_module_version": "1.5.0",
      "model_name": "ProgressStyleModel",
      "state": {
       "description_width": ""
      }
     },
     "f4ac1507a1b84e6ea0a3d6110c5ae5d4": {
      "model_module": "@jupyter-widgets/controls",
      "model_module_version": "1.5.0",
      "model_name": "DescriptionStyleModel",
      "state": {
       "description_width": ""
      }
     },
     "f4b1bdc52d11421d8edbc98ecc9622bf": {
      "model_module": "@jupyter-widgets/base",
      "model_module_version": "1.2.0",
      "model_name": "LayoutModel",
      "state": {}
     },
     "f4b476e6400b4b18af20efa98bfd7721": {
      "model_module": "@jupyter-widgets/base",
      "model_module_version": "1.2.0",
      "model_name": "LayoutModel",
      "state": {
       "flex": "2"
      }
     },
     "f4e907e221cf4fd89416d531c49d179e": {
      "model_module": "@jupyter-widgets/base",
      "model_module_version": "1.2.0",
      "model_name": "LayoutModel",
      "state": {}
     },
     "f50092298a4b4f20bec919c506a1376b": {
      "model_module": "@jupyter-widgets/controls",
      "model_module_version": "1.5.0",
      "model_name": "FloatProgressModel",
      "state": {
       "layout": "IPY_MODEL_82f1bae933c148fd8caf3beeb908de70",
       "max": 16,
       "style": "IPY_MODEL_8ff450bcb2244e75a61a6a70d4d9a7f5",
       "value": 16
      }
     },
     "f515a23206b64d9388c15f1ad5397e98": {
      "model_module": "@jupyter-widgets/controls",
      "model_module_version": "1.5.0",
      "model_name": "DescriptionStyleModel",
      "state": {
       "description_width": ""
      }
     },
     "f525f7aae06d4cd488256573a2aae693": {
      "model_module": "@jupyter-widgets/controls",
      "model_module_version": "1.5.0",
      "model_name": "DescriptionStyleModel",
      "state": {
       "description_width": ""
      }
     },
     "f5411e33c9ae4d8bbea94221b8580c27": {
      "model_module": "@jupyter-widgets/base",
      "model_module_version": "1.2.0",
      "model_name": "LayoutModel",
      "state": {
       "display": "inline-flex",
       "flex_flow": "row wrap",
       "width": "100%"
      }
     },
     "f54552cf97ae4325b1e7aa8af0e9ee05": {
      "model_module": "@jupyter-widgets/base",
      "model_module_version": "1.2.0",
      "model_name": "LayoutModel",
      "state": {}
     },
     "f5834dc6caa64f45a94d74be43f2fc76": {
      "model_module": "@jupyter-widgets/controls",
      "model_module_version": "1.5.0",
      "model_name": "HTMLModel",
      "state": {
       "layout": "IPY_MODEL_43d3cb36be4841d8a0935898384128f3",
       "style": "IPY_MODEL_00cdbd8571a849d4bce0d6997371b3d3",
       "value": "Validation DataLoader 0: 100%"
      }
     },
     "f587c6f0ad0d446082b371ebc33c2bef": {
      "model_module": "@jupyter-widgets/controls",
      "model_module_version": "1.5.0",
      "model_name": "FloatProgressModel",
      "state": {
       "layout": "IPY_MODEL_4b13fe5874c64b96b87b98a05207ab43",
       "max": 16,
       "style": "IPY_MODEL_129cb352bf72474caeb27093fcae4ff2",
       "value": 16
      }
     },
     "f591641bb4cd4a97a37b12895953cb34": {
      "model_module": "@jupyter-widgets/controls",
      "model_module_version": "1.5.0",
      "model_name": "DescriptionStyleModel",
      "state": {
       "description_width": ""
      }
     },
     "f5a9eedb3f554a43958d6bd70312bfb7": {
      "model_module": "@jupyter-widgets/controls",
      "model_module_version": "1.5.0",
      "model_name": "DescriptionStyleModel",
      "state": {
       "description_width": ""
      }
     },
     "f5d46e9870254904ad4f678791a70192": {
      "model_module": "@jupyter-widgets/base",
      "model_module_version": "1.2.0",
      "model_name": "LayoutModel",
      "state": {
       "flex": "2"
      }
     },
     "f63a69b9532f46629882b3bdb9365116": {
      "model_module": "@jupyter-widgets/controls",
      "model_module_version": "1.5.0",
      "model_name": "HBoxModel",
      "state": {
       "children": [
        "IPY_MODEL_e1d726e0c46345f0acd334b46df0f3f8",
        "IPY_MODEL_00aceaa677514580b31f5ad8043f4537",
        "IPY_MODEL_0be09a0aca3e453682f11fc642b2ebf0"
       ],
       "layout": "IPY_MODEL_b918a27ab887476da1b14ec856a2d837"
      }
     },
     "f63ff5243648460abfa6f8dc714fb8ab": {
      "model_module": "@jupyter-widgets/base",
      "model_module_version": "1.2.0",
      "model_name": "LayoutModel",
      "state": {
       "flex": "2"
      }
     },
     "f651a8a994a1490b93f5e7102341580a": {
      "model_module": "@jupyter-widgets/base",
      "model_module_version": "1.2.0",
      "model_name": "LayoutModel",
      "state": {
       "display": "inline-flex",
       "flex_flow": "row wrap",
       "width": "100%"
      }
     },
     "f65f9faa93044b98bbc8c900650100aa": {
      "model_module": "@jupyter-widgets/controls",
      "model_module_version": "1.5.0",
      "model_name": "DescriptionStyleModel",
      "state": {
       "description_width": ""
      }
     },
     "f66e0eef9adf46ea8dc6ecce16ed9204": {
      "model_module": "@jupyter-widgets/controls",
      "model_module_version": "1.5.0",
      "model_name": "HTMLModel",
      "state": {
       "layout": "IPY_MODEL_e11642a86ae444a79e370e7cb4dfbe51",
       "style": "IPY_MODEL_26f2ea301f3244a2b97e8b00eb2b5d0c",
       "value": " 16/16 [00:05&lt;00:00,  2.55it/s]"
      }
     },
     "f679867e2d3a46deb7368ef8533e770a": {
      "model_module": "@jupyter-widgets/base",
      "model_module_version": "1.2.0",
      "model_name": "LayoutModel",
      "state": {}
     },
     "f6a9510677174bde99224ab2e3e012c1": {
      "model_module": "@jupyter-widgets/controls",
      "model_module_version": "1.5.0",
      "model_name": "HTMLModel",
      "state": {
       "layout": "IPY_MODEL_2a9b360286974d58bb8a99e94a65eedd",
       "style": "IPY_MODEL_6c01dfa29e3948d18d570a44923cfd93",
       "value": "Validation DataLoader 0: 100%"
      }
     },
     "f6b844808b6a4ed2bfa8a03529158ecc": {
      "model_module": "@jupyter-widgets/controls",
      "model_module_version": "1.5.0",
      "model_name": "FloatProgressModel",
      "state": {
       "layout": "IPY_MODEL_e8b14b53dbdc45b1bb3e1779270b10af",
       "max": 16,
       "style": "IPY_MODEL_c83ec64da04b4b75a36433c437ef674a",
       "value": 16
      }
     },
     "f6d77e2b6e754b4585ea0f2315f048f4": {
      "model_module": "@jupyter-widgets/controls",
      "model_module_version": "1.5.0",
      "model_name": "HTMLModel",
      "state": {
       "layout": "IPY_MODEL_7a8440d93d294af5be8aac2d0b984a22",
       "style": "IPY_MODEL_196a3e0fc43e460fa34ac4aded52f4fe",
       "value": " 16/16 [00:01&lt;00:00,  7.81it/s]"
      }
     },
     "f6e02814989c46719b70dc66a9fbd497": {
      "model_module": "@jupyter-widgets/base",
      "model_module_version": "1.2.0",
      "model_name": "LayoutModel",
      "state": {}
     },
     "f6ee676b249b444990a8ffc488248e57": {
      "model_module": "@jupyter-widgets/controls",
      "model_module_version": "1.5.0",
      "model_name": "DescriptionStyleModel",
      "state": {
       "description_width": ""
      }
     },
     "f70bb6713d75484e86c30a2189decf5e": {
      "model_module": "@jupyter-widgets/controls",
      "model_module_version": "1.5.0",
      "model_name": "ProgressStyleModel",
      "state": {
       "description_width": ""
      }
     },
     "f711d92878bc48f79da6452687b7f3e3": {
      "model_module": "@jupyter-widgets/base",
      "model_module_version": "1.2.0",
      "model_name": "LayoutModel",
      "state": {}
     },
     "f7419abb43834d3783610da2dfc14d03": {
      "model_module": "@jupyter-widgets/base",
      "model_module_version": "1.2.0",
      "model_name": "LayoutModel",
      "state": {
       "flex": "2"
      }
     },
     "f7476888b16a4d91b386cd3235e68d29": {
      "model_module": "@jupyter-widgets/controls",
      "model_module_version": "1.5.0",
      "model_name": "DescriptionStyleModel",
      "state": {
       "description_width": ""
      }
     },
     "f7e34d29f1a441a7afa12b69571f775b": {
      "model_module": "@jupyter-widgets/controls",
      "model_module_version": "1.5.0",
      "model_name": "HTMLModel",
      "state": {
       "layout": "IPY_MODEL_897ce8fda9304e7196628ae8fc479893",
       "style": "IPY_MODEL_d2068ba141e9496789bd8522e26e4858",
       "value": "Validation DataLoader 0: 100%"
      }
     },
     "f7f5b80323304b8191199570735c0e92": {
      "model_module": "@jupyter-widgets/controls",
      "model_module_version": "1.5.0",
      "model_name": "DescriptionStyleModel",
      "state": {
       "description_width": ""
      }
     },
     "f7f6a6dfd47f4312aeeb8b888332a79f": {
      "model_module": "@jupyter-widgets/base",
      "model_module_version": "1.2.0",
      "model_name": "LayoutModel",
      "state": {}
     },
     "f8641ba65944460aad0b5ae02c2d52df": {
      "model_module": "@jupyter-widgets/base",
      "model_module_version": "1.2.0",
      "model_name": "LayoutModel",
      "state": {}
     },
     "f885d6d55e6b42ff998cfd39e2693340": {
      "model_module": "@jupyter-widgets/base",
      "model_module_version": "1.2.0",
      "model_name": "LayoutModel",
      "state": {}
     },
     "f91c2f5c899645369cbdc0416c2b1c0a": {
      "model_module": "@jupyter-widgets/base",
      "model_module_version": "1.2.0",
      "model_name": "LayoutModel",
      "state": {
       "display": "inline-flex",
       "flex_flow": "row wrap",
       "width": "100%"
      }
     },
     "f9610f47346042468ce288685320c98f": {
      "model_module": "@jupyter-widgets/controls",
      "model_module_version": "1.5.0",
      "model_name": "ProgressStyleModel",
      "state": {
       "description_width": ""
      }
     },
     "f9648fe939a94f7db397c6dd3f48f093": {
      "model_module": "@jupyter-widgets/controls",
      "model_module_version": "1.5.0",
      "model_name": "ProgressStyleModel",
      "state": {
       "description_width": ""
      }
     },
     "f96a5c6f25fb4217a37d6706c4b42121": {
      "model_module": "@jupyter-widgets/controls",
      "model_module_version": "1.5.0",
      "model_name": "HTMLModel",
      "state": {
       "layout": "IPY_MODEL_a7b33fe97d414939b4a1d07a7a487fbf",
       "style": "IPY_MODEL_31a3032b94094727981deef9d05f9ea4",
       "value": "Validation DataLoader 0: 100%"
      }
     },
     "f97bf5a95b204967b75f5c78dd3c7618": {
      "model_module": "@jupyter-widgets/controls",
      "model_module_version": "1.5.0",
      "model_name": "ProgressStyleModel",
      "state": {
       "description_width": ""
      }
     },
     "f996cf7b3343456f9a1fa40b709fa164": {
      "model_module": "@jupyter-widgets/controls",
      "model_module_version": "1.5.0",
      "model_name": "HTMLModel",
      "state": {
       "layout": "IPY_MODEL_9a2eafde554f44fa92a0736ded888f5e",
       "style": "IPY_MODEL_f525f7aae06d4cd488256573a2aae693",
       "value": " 16/16 [00:03&lt;00:00,  3.97it/s]"
      }
     },
     "f9a0d0619ce64c858bbb3188e0cfa2d0": {
      "model_module": "@jupyter-widgets/controls",
      "model_module_version": "1.5.0",
      "model_name": "DescriptionStyleModel",
      "state": {
       "description_width": ""
      }
     },
     "f9a37f9b4cd34dfdb86e5cd51a80ab12": {
      "model_module": "@jupyter-widgets/controls",
      "model_module_version": "1.5.0",
      "model_name": "DescriptionStyleModel",
      "state": {
       "description_width": ""
      }
     },
     "f9afe137f86447c48be832e6bb096bcb": {
      "model_module": "@jupyter-widgets/base",
      "model_module_version": "1.2.0",
      "model_name": "LayoutModel",
      "state": {}
     },
     "fa06f4a8d21e43659c9aaf5d47660a9c": {
      "model_module": "@jupyter-widgets/base",
      "model_module_version": "1.2.0",
      "model_name": "LayoutModel",
      "state": {
       "display": "inline-flex",
       "flex_flow": "row wrap",
       "width": "100%"
      }
     },
     "fa488c214671439ab21e9e87bfdb1179": {
      "model_module": "@jupyter-widgets/controls",
      "model_module_version": "1.5.0",
      "model_name": "FloatProgressModel",
      "state": {
       "layout": "IPY_MODEL_db53e586813945c88e0985b4adaf6bbc",
       "max": 16,
       "style": "IPY_MODEL_3ff571bc1fc54f1d999fe47bd5b4098d",
       "value": 16
      }
     },
     "fa4ebe9c0bc94dd88324c38f5ad4baf4": {
      "model_module": "@jupyter-widgets/controls",
      "model_module_version": "1.5.0",
      "model_name": "HTMLModel",
      "state": {
       "layout": "IPY_MODEL_8f1b5348e926488c9e7ee6453ed5a9b7",
       "style": "IPY_MODEL_775106faf8164a4192186ef5916d794a",
       "value": " 16/16 [00:01&lt;00:00,  8.19it/s]"
      }
     },
     "fa53d70473054864ae09c87cf08b7d59": {
      "model_module": "@jupyter-widgets/controls",
      "model_module_version": "1.5.0",
      "model_name": "HTMLModel",
      "state": {
       "layout": "IPY_MODEL_9c9fed781fce4da5a1b8641c45ebd631",
       "style": "IPY_MODEL_d238ed17d4224ac58aeed581c2851090",
       "value": " 16/16 [00:07&lt;00:00,  1.96it/s]"
      }
     },
     "fa5e1efa5b634c838ed8fc179a679437": {
      "model_module": "@jupyter-widgets/controls",
      "model_module_version": "1.5.0",
      "model_name": "HTMLModel",
      "state": {
       "layout": "IPY_MODEL_eb583ca06bb84868b81109984d8f25d8",
       "style": "IPY_MODEL_f9a0d0619ce64c858bbb3188e0cfa2d0",
       "value": "Validation DataLoader 0: 100%"
      }
     },
     "fa61536b1fe04ea49bbda5072e02323a": {
      "model_module": "@jupyter-widgets/controls",
      "model_module_version": "1.5.0",
      "model_name": "HTMLModel",
      "state": {
       "layout": "IPY_MODEL_4569434389e6491e8267f898528bc22e",
       "style": "IPY_MODEL_367be000c1e04198a1df4e7f2de8b7c4",
       "value": "Validation DataLoader 0: 100%"
      }
     },
     "fa86ddb0d1b240ceaa901c91421041a8": {
      "model_module": "@jupyter-widgets/controls",
      "model_module_version": "1.5.0",
      "model_name": "HTMLModel",
      "state": {
       "layout": "IPY_MODEL_c85ec11669a642d88fad3a36af94c0dd",
       "style": "IPY_MODEL_c9bbc3a0e23842e0ab61dc7bc9db9a7d",
       "value": " 16/16 [00:06&lt;00:00,  2.39it/s]"
      }
     },
     "fa9c92704ee34feda7465f6e6aa93b45": {
      "model_module": "@jupyter-widgets/controls",
      "model_module_version": "1.5.0",
      "model_name": "ProgressStyleModel",
      "state": {
       "description_width": ""
      }
     },
     "faa87e0552794ce687f5ee51e51e421b": {
      "model_module": "@jupyter-widgets/controls",
      "model_module_version": "1.5.0",
      "model_name": "FloatProgressModel",
      "state": {
       "layout": "IPY_MODEL_99d6effd066e45c096ea037e36ed2055",
       "max": 16,
       "style": "IPY_MODEL_088c169ae5e34c71a2f6e4390da7935e",
       "value": 16
      }
     },
     "fab66107c174449887128932ead7a556": {
      "model_module": "@jupyter-widgets/base",
      "model_module_version": "1.2.0",
      "model_name": "LayoutModel",
      "state": {}
     },
     "fabe5d1e6ebb4c77a0171dcb2a024fe8": {
      "model_module": "@jupyter-widgets/base",
      "model_module_version": "1.2.0",
      "model_name": "LayoutModel",
      "state": {
       "display": "inline-flex",
       "flex_flow": "row wrap",
       "width": "100%"
      }
     },
     "facfd48e0cf04b02868d6e135cea3eae": {
      "model_module": "@jupyter-widgets/controls",
      "model_module_version": "1.5.0",
      "model_name": "DescriptionStyleModel",
      "state": {
       "description_width": ""
      }
     },
     "fb04d0cf18bb4a6da8e18f3a890bddd7": {
      "model_module": "@jupyter-widgets/controls",
      "model_module_version": "1.5.0",
      "model_name": "ProgressStyleModel",
      "state": {
       "description_width": ""
      }
     },
     "fb218731aa4d49dc8ef6d3da4ca2f942": {
      "model_module": "@jupyter-widgets/controls",
      "model_module_version": "1.5.0",
      "model_name": "HTMLModel",
      "state": {
       "layout": "IPY_MODEL_3ae17acf40064093a4b2c931743875c4",
       "style": "IPY_MODEL_83e9c409107241a6b74fde14933d2271",
       "value": " 16/16 [00:01&lt;00:00,  8.01it/s]"
      }
     },
     "fb283ecf88ba4522a7ae3793ed28d408": {
      "model_module": "@jupyter-widgets/base",
      "model_module_version": "1.2.0",
      "model_name": "LayoutModel",
      "state": {
       "display": "inline-flex",
       "flex_flow": "row wrap",
       "width": "100%"
      }
     },
     "fb33482554934344bb1c61ab72f35231": {
      "model_module": "@jupyter-widgets/controls",
      "model_module_version": "1.5.0",
      "model_name": "FloatProgressModel",
      "state": {
       "layout": "IPY_MODEL_87d13156393b47bb8693896d0c5d153a",
       "max": 16,
       "style": "IPY_MODEL_b8093b05d33f471e95b66882f16d237b",
       "value": 16
      }
     },
     "fb59982c06824df1ba40bac04a6269c3": {
      "model_module": "@jupyter-widgets/base",
      "model_module_version": "1.2.0",
      "model_name": "LayoutModel",
      "state": {}
     },
     "fb7c4460a88a4faba4a697cc815b0bba": {
      "model_module": "@jupyter-widgets/controls",
      "model_module_version": "1.5.0",
      "model_name": "DescriptionStyleModel",
      "state": {
       "description_width": ""
      }
     },
     "fb833729392345b9bc30de3fbcc8d7fc": {
      "model_module": "@jupyter-widgets/controls",
      "model_module_version": "1.5.0",
      "model_name": "DescriptionStyleModel",
      "state": {
       "description_width": ""
      }
     },
     "fbdaa4409836442386c459f08dc2b360": {
      "model_module": "@jupyter-widgets/controls",
      "model_module_version": "1.5.0",
      "model_name": "ProgressStyleModel",
      "state": {
       "description_width": ""
      }
     },
     "fbef624f50584aec93e9ba76e33076b4": {
      "model_module": "@jupyter-widgets/controls",
      "model_module_version": "1.5.0",
      "model_name": "FloatProgressModel",
      "state": {
       "layout": "IPY_MODEL_2ff383a3e4074fba99155b9975acdaa2",
       "max": 16,
       "style": "IPY_MODEL_4a9df467d47346d9bf376d225df6c6de",
       "value": 16
      }
     },
     "fc1f9c0c9e5b4884b978cea12c655768": {
      "model_module": "@jupyter-widgets/base",
      "model_module_version": "1.2.0",
      "model_name": "LayoutModel",
      "state": {
       "flex": "2"
      }
     },
     "fc242848f1d94204ba6355f03cb15729": {
      "model_module": "@jupyter-widgets/base",
      "model_module_version": "1.2.0",
      "model_name": "LayoutModel",
      "state": {
       "flex": "2"
      }
     },
     "fc280d879d7a40a99f22e95174d47951": {
      "model_module": "@jupyter-widgets/controls",
      "model_module_version": "1.5.0",
      "model_name": "ProgressStyleModel",
      "state": {
       "description_width": ""
      }
     },
     "fc7ac775ed81499d827dbfe68c3dd2dd": {
      "model_module": "@jupyter-widgets/base",
      "model_module_version": "1.2.0",
      "model_name": "LayoutModel",
      "state": {}
     },
     "fc89385437dd42ac9f37316bdd33b297": {
      "model_module": "@jupyter-widgets/controls",
      "model_module_version": "1.5.0",
      "model_name": "DescriptionStyleModel",
      "state": {
       "description_width": ""
      }
     },
     "fc9aec39ec83464880e881dedcee8776": {
      "model_module": "@jupyter-widgets/controls",
      "model_module_version": "1.5.0",
      "model_name": "DescriptionStyleModel",
      "state": {
       "description_width": ""
      }
     },
     "fce005c663e84d1a9efb733f11aeeb17": {
      "model_module": "@jupyter-widgets/base",
      "model_module_version": "1.2.0",
      "model_name": "LayoutModel",
      "state": {
       "flex": "2"
      }
     },
     "fce780b9060e4b518ce4ee4cdbf78049": {
      "model_module": "@jupyter-widgets/controls",
      "model_module_version": "1.5.0",
      "model_name": "FloatProgressModel",
      "state": {
       "layout": "IPY_MODEL_1fe4d7eaace5498784841b1ddf2f30ca",
       "max": 16,
       "style": "IPY_MODEL_09b9d3a1c7c649469fcc07971ee2cd50",
       "value": 4
      }
     },
     "fceff19ec70d4eb0bea70af2b8da530e": {
      "model_module": "@jupyter-widgets/controls",
      "model_module_version": "1.5.0",
      "model_name": "FloatProgressModel",
      "state": {
       "layout": "IPY_MODEL_fce005c663e84d1a9efb733f11aeeb17",
       "max": 16,
       "style": "IPY_MODEL_d013d0c0df0d4f8abc47c138b9434f1f",
       "value": 16
      }
     },
     "fd06c9f8f449417d9b406386e0659c68": {
      "model_module": "@jupyter-widgets/base",
      "model_module_version": "1.2.0",
      "model_name": "LayoutModel",
      "state": {
       "flex": "2"
      }
     },
     "fd1c4eede90945b8ae85550f76724543": {
      "model_module": "@jupyter-widgets/base",
      "model_module_version": "1.2.0",
      "model_name": "LayoutModel",
      "state": {}
     },
     "fd404e5418444a6c8f0f4a48d8bfcf0d": {
      "model_module": "@jupyter-widgets/controls",
      "model_module_version": "1.5.0",
      "model_name": "FloatProgressModel",
      "state": {
       "layout": "IPY_MODEL_33d63b288d3d49d6b0167316b961bc03",
       "max": 16,
       "style": "IPY_MODEL_6b97bb2118a04a9d8f9dc0dd306b8f0a",
       "value": 16
      }
     },
     "fd4c4cd2dab3431aa83ea2b558a2cc30": {
      "model_module": "@jupyter-widgets/controls",
      "model_module_version": "1.5.0",
      "model_name": "FloatProgressModel",
      "state": {
       "layout": "IPY_MODEL_931d76e611534bb694b915ded15f8dbe",
       "max": 16,
       "style": "IPY_MODEL_9ad7595ab7184f40bb78d94007cc08a3",
       "value": 16
      }
     },
     "fd55d52917194665a72b2891f20744f4": {
      "model_module": "@jupyter-widgets/base",
      "model_module_version": "1.2.0",
      "model_name": "LayoutModel",
      "state": {}
     },
     "fd679ddee796469f8f67e2e60d0fd440": {
      "model_module": "@jupyter-widgets/controls",
      "model_module_version": "1.5.0",
      "model_name": "DescriptionStyleModel",
      "state": {
       "description_width": ""
      }
     },
     "fd90384a95ca448f86e3cf359c69ef0d": {
      "model_module": "@jupyter-widgets/base",
      "model_module_version": "1.2.0",
      "model_name": "LayoutModel",
      "state": {
       "display": "inline-flex",
       "flex_flow": "row wrap",
       "width": "100%"
      }
     },
     "fd940e0a1bfa4b72ac55f71f086869ad": {
      "model_module": "@jupyter-widgets/base",
      "model_module_version": "1.2.0",
      "model_name": "LayoutModel",
      "state": {
       "flex": "2"
      }
     },
     "fdb4fc7444064f21a3209996b519db61": {
      "model_module": "@jupyter-widgets/base",
      "model_module_version": "1.2.0",
      "model_name": "LayoutModel",
      "state": {
       "flex": "2"
      }
     },
     "fdba769033914546809191b72d2040a4": {
      "model_module": "@jupyter-widgets/base",
      "model_module_version": "1.2.0",
      "model_name": "LayoutModel",
      "state": {
       "display": "inline-flex",
       "flex_flow": "row wrap",
       "width": "100%"
      }
     },
     "fdd662f5ec6447adaadbdc92873a982b": {
      "model_module": "@jupyter-widgets/controls",
      "model_module_version": "1.5.0",
      "model_name": "DescriptionStyleModel",
      "state": {
       "description_width": ""
      }
     },
     "fddb4430de364a42ad3e2ebd76211755": {
      "model_module": "@jupyter-widgets/base",
      "model_module_version": "1.2.0",
      "model_name": "LayoutModel",
      "state": {}
     },
     "fde036d2e539492e9d12735f89f664a4": {
      "model_module": "@jupyter-widgets/controls",
      "model_module_version": "1.5.0",
      "model_name": "DescriptionStyleModel",
      "state": {
       "description_width": ""
      }
     },
     "fe263437560241f98682856658fd61e4": {
      "model_module": "@jupyter-widgets/controls",
      "model_module_version": "1.5.0",
      "model_name": "HTMLModel",
      "state": {
       "layout": "IPY_MODEL_8109d329ea3a47f5b37ef8be178753ce",
       "style": "IPY_MODEL_aa7814b5f2544eaf80925900d5ef79bc",
       "value": " 16/16 [00:01&lt;00:00,  7.94it/s]"
      }
     },
     "fe4ac9cd3bec4e9c916c01e47a079a11": {
      "model_module": "@jupyter-widgets/controls",
      "model_module_version": "1.5.0",
      "model_name": "ProgressStyleModel",
      "state": {
       "description_width": ""
      }
     },
     "fe58b2ea0a25434e97ef034ed8a8ee6d": {
      "model_module": "@jupyter-widgets/controls",
      "model_module_version": "1.5.0",
      "model_name": "ProgressStyleModel",
      "state": {
       "description_width": ""
      }
     },
     "fe5b17d47ac249f2879583dff2b36184": {
      "model_module": "@jupyter-widgets/base",
      "model_module_version": "1.2.0",
      "model_name": "LayoutModel",
      "state": {
       "display": "inline-flex",
       "flex_flow": "row wrap",
       "width": "100%"
      }
     },
     "fe990064fabd46d097ab04dcf7b90af1": {
      "model_module": "@jupyter-widgets/controls",
      "model_module_version": "1.5.0",
      "model_name": "ProgressStyleModel",
      "state": {
       "description_width": ""
      }
     },
     "feaee6d959734d91ae2af5c3cc150e12": {
      "model_module": "@jupyter-widgets/controls",
      "model_module_version": "1.5.0",
      "model_name": "HTMLModel",
      "state": {
       "layout": "IPY_MODEL_ddf4396938c24eeca0b23d18c6857af0",
       "style": "IPY_MODEL_9bb7b3fe5486434dbde62395234a56d6",
       "value": "Sanity Checking DataLoader 0: 100%"
      }
     },
     "febd6291afca4098aa6c392fea4bf423": {
      "model_module": "@jupyter-widgets/controls",
      "model_module_version": "1.5.0",
      "model_name": "DescriptionStyleModel",
      "state": {
       "description_width": ""
      }
     },
     "ff0b06200e2d4a8192f0427382896283": {
      "model_module": "@jupyter-widgets/controls",
      "model_module_version": "1.5.0",
      "model_name": "DescriptionStyleModel",
      "state": {
       "description_width": ""
      }
     },
     "ffaf4eac83ac4f6190fd034cef8db4d1": {
      "model_module": "@jupyter-widgets/controls",
      "model_module_version": "1.5.0",
      "model_name": "FloatProgressModel",
      "state": {
       "layout": "IPY_MODEL_f63ff5243648460abfa6f8dc714fb8ab",
       "max": 16,
       "style": "IPY_MODEL_201195b50aac4f47be427711bbe45412",
       "value": 16
      }
     },
     "ffbb62e6388443598177d56071677b76": {
      "model_module": "@jupyter-widgets/base",
      "model_module_version": "1.2.0",
      "model_name": "LayoutModel",
      "state": {
       "flex": "2"
      }
     },
     "ffde996bc947411585ece7fa87e56fd3": {
      "model_module": "@jupyter-widgets/controls",
      "model_module_version": "1.5.0",
      "model_name": "ProgressStyleModel",
      "state": {
       "description_width": ""
      }
     },
     "fff8606643044a00a85e0283f104afc4": {
      "model_module": "@jupyter-widgets/controls",
      "model_module_version": "1.5.0",
      "model_name": "FloatProgressModel",
      "state": {
       "layout": "IPY_MODEL_49943ca6d769493ea30723e6b318160b",
       "max": 77,
       "style": "IPY_MODEL_2b2b2e85a6ed4fc283859b5093f5ccdd",
       "value": 61
      }
     },
     "fffa73af9717491ea27c3e2f6854d30f": {
      "model_module": "@jupyter-widgets/base",
      "model_module_version": "1.2.0",
      "model_name": "LayoutModel",
      "state": {
       "display": "inline-flex",
       "flex_flow": "row wrap",
       "width": "100%"
      }
     }
    },
    "version_major": 2,
    "version_minor": 0
   }
  }
 },
 "nbformat": 4,
 "nbformat_minor": 5
}
